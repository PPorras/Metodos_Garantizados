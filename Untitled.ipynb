{
 "cells": [
  {
   "cell_type": "code",
   "execution_count": 1,
   "metadata": {},
   "outputs": [
    {
     "name": "stderr",
     "output_type": "stream",
     "text": [
      "\n",
      "WARNING: deprecated syntax \"inner constructor Taylor(...) around /Users/pedro/Documents/Metodos/Metodos_Garantizados/Taylor9.jl:9\".\n",
      "Use \"Taylor{T}(...) where T\" instead.\n"
     ]
    }
   ],
   "source": [
    "include(\"Intervalos.jl\")\n",
    "include(\"Taylor9.jl\")\n",
    "using .Intervalos\n",
    "using .Taylor9\n",
    "using Base.Test"
   ]
  },
  {
   "cell_type": "code",
   "execution_count": 2,
   "metadata": {},
   "outputs": [
    {
     "data": {
      "text/plain": [
       "Intervalos.Intervalo(2.0, 5.0)"
      ]
     },
     "execution_count": 2,
     "metadata": {},
     "output_type": "execute_result"
    }
   ],
   "source": [
    "I = Intervalo(2,5)"
   ]
  },
  {
   "cell_type": "code",
   "execution_count": 3,
   "metadata": {},
   "outputs": [
    {
     "data": {
      "text/plain": [
       "Intervalos.Intervalo(2.0, 5.0)"
      ]
     },
     "execution_count": 3,
     "metadata": {},
     "output_type": "execute_result"
    }
   ],
   "source": [
    "I"
   ]
  },
  {
   "cell_type": "code",
   "execution_count": 5,
   "metadata": {},
   "outputs": [
    {
     "ename": "LoadError",
     "evalue": "\u001b[91mMethodError: Cannot `convert` an object of type Intervalos.Intervalo to an object of type Taylor9.Taylor\nThis may have arisen from a call to the constructor Taylor9.Taylor(...),\nsince type constructors fall back to convert methods.\u001b[39m",
     "output_type": "error",
     "traceback": [
      "\u001b[91mMethodError: Cannot `convert` an object of type Intervalos.Intervalo to an object of type Taylor9.Taylor\nThis may have arisen from a call to the constructor Taylor9.Taylor(...),\nsince type constructors fall back to convert methods.\u001b[39m",
      "",
      "Stacktrace:",
      " [1] \u001b[1mTaylor9.Taylor\u001b[22m\u001b[22m\u001b[1m(\u001b[22m\u001b[22m::Intervalos.Intervalo\u001b[1m)\u001b[22m\u001b[22m at \u001b[1m./sysimg.jl:77\u001b[22m\u001b[22m"
     ]
    }
   ],
   "source": [
    "Taylor(I)"
   ]
  },
  {
   "cell_type": "code",
   "execution_count": null,
   "metadata": {
    "collapsed": true
   },
   "outputs": [],
   "source": []
  }
 ],
 "metadata": {
  "kernelspec": {
   "display_name": "Julia 0.6.2",
   "language": "julia",
   "name": "julia-0.6"
  },
  "language_info": {
   "file_extension": ".jl",
   "mimetype": "application/julia",
   "name": "julia",
   "version": "0.6.2"
  }
 },
 "nbformat": 4,
 "nbformat_minor": 2
}
