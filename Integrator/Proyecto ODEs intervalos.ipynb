{
 "cells": [
  {
   "cell_type": "code",
   "execution_count": 1,
   "metadata": {},
   "outputs": [],
   "source": [
    "include(\"Intervalos.jl\")\n",
    "#include(\"Taylor9.jl\")\n",
    "using .Intervalos\n",
    "#using .Taylor9"
   ]
  },
  {
   "cell_type": "code",
   "execution_count": 2,
   "metadata": {
    "scrolled": false
   },
   "outputs": [
    {
     "data": {
      "text/plain": [
       "I[4.7, 9.9]\n"
      ]
     },
     "execution_count": 2,
     "metadata": {},
     "output_type": "execute_result"
    }
   ],
   "source": [
    "I1 = Intervalo(2,5)\n",
    "I2 = Intervalo(3,8)\n",
    "I3 = Intervalo(0,3.5)\n",
    "I4 = Intervalo(4.7,9.9)"
   ]
  },
  {
   "cell_type": "code",
   "execution_count": 45,
   "metadata": {},
   "outputs": [
    {
     "data": {
      "text/plain": [
       "^ (generic function with 54 methods)"
      ]
     },
     "execution_count": 45,
     "metadata": {},
     "output_type": "execute_result"
    }
   ],
   "source": [
    "mutable struct Taylor{T<:Real}\n",
    "    orden::Int64\n",
    "    coef::Array{T, 1}\n",
    "    function Taylor{T}(coef::Array{T,1}) where {T<:Real}\n",
    "        #@show coef, typeof(coef)\n",
    "        new(length(coef)-1, coef)\n",
    "    end\n",
    "end\n",
    "\n",
    "import Base: +, -, *, /,^, getindex, setindex!,==\n",
    "\n",
    "function getindex(f::Taylor, i::Int64) \n",
    "    f.coef[i + 1]\n",
    "end\n",
    "\n",
    "function getindex(f::Taylor{T}, r::UnitRange{Int64}) where {T<:Real}\n",
    "    newcoef = f.coef[(r[1] +1): (r[end] +1)]\n",
    "    Taylor{T}(newcoef)\n",
    "end\n",
    "\n",
    "function setindex!(f::Taylor, x::Real, i::Int64)\n",
    "    f.coef[i + 1] = x\n",
    "end\n",
    "\n",
    "\n",
    "function ==(f::Taylor, g::Taylor)\n",
    "    f.orden == g.orden && f.coef == g.coef  ? true : false\n",
    "end\n",
    "\n",
    "function +(f::Taylor{T}, g::Taylor{T}) where {T<:Real}\n",
    "    if f.orden == g.orden\n",
    "        Taylor{T}(f.coef .+ g.coef)\n",
    "    elseif f.orden < g.orden\n",
    "        Taylor{T}(f.coef[1:f.orden + 1] .+ g.coef[1:f.orden + 1])\n",
    "    else\n",
    "        Taylor{T}(g.coef[1:g.orden + 1] .+ f.coef[1:g.orden + 1])\n",
    "    end\n",
    "end\n",
    "\n",
    "function -(f::Taylor{T}, g::Taylor{T}) where {T<:Real}\n",
    "    if f.orden == g.orden\n",
    "        Taylor{T}(f.coef .- g.coef)\n",
    "    elseif f.orden < g.orden\n",
    "        Taylor{T}(f.coef[1:f.orden + 1] .- g.coef[1:f.orden + 1])\n",
    "    else\n",
    "        Taylor{T}(-g.coef[1:g.orden + 1] .+ f.coef[1:g.orden + 1])\n",
    "    end\n",
    "end\n",
    "\n",
    "function *(f::Taylor{T}, g::Taylor{T}) where {T<:Real}\n",
    "    f.orden != g.orden && error(\"Ordenes distintos\")\n",
    "    newcoef = Array{T, 1}(f.orden + 1)\n",
    "    for k in 0:f.orden \n",
    "        Taylori = 0.0\n",
    "        for i in 0:k\n",
    "            Taylori += f[i]*g[k - i]  \n",
    "        end\n",
    "        newcoef[k + 1] = Taylori \n",
    "    end\n",
    "    Taylor{T}(newcoef)\n",
    "end\n",
    "\n",
    "function /(f::Taylor{T}, g::Taylor{T}) where {T<:Real}\n",
    "    f.orden != g.orden && error(\"Ordenes distintos\")\n",
    "    newcoef = Array{T, 1}(f.orden + 1)\n",
    "    \n",
    "    for k in 0:f.orden \n",
    "        Taylori = f[k]\n",
    "        for i in 0:k - 1\n",
    "            Taylori -= (f[i]/g[i])*g[k - i]  \n",
    "        end\n",
    "        newcoef[k + 1] = Taylori/g[0] \n",
    "    end\n",
    "    Taylor{T}(newcoef)\n",
    "end\n",
    "\n",
    "function ^(f::Taylor{T}, n::Int64) where {T<:Real}\n",
    "    newTaylor = f\n",
    "    for i in 1:n-1\n",
    "        newTaylor *= f\n",
    "    end\n",
    "    newTaylor\n",
    "end"
   ]
  },
  {
   "cell_type": "code",
   "execution_count": 27,
   "metadata": {
    "scrolled": true
   },
   "outputs": [
    {
     "name": "stdout",
     "output_type": "stream",
     "text": [
      "(Ii, Ii[0]) = (Taylor{Intervalos.Intervalo}(1, Intervalos.Intervalo[I[2.0, 5.0]\n",
      ", I[3.0, 8.0]\n",
      "]), I[2.0, 5.0]\n",
      ")\n",
      "Ii = Taylor{Intervalos.Intervalo}(1, Intervalos.Intervalo[I[2.0, 5.0]\n",
      ", I[0.0, 0.0]\n",
      "])\n",
      "Ii == Taylor{Intervalo}([Intervalo(2, 5), Intervalo(0, 0)]) = true\n"
     ]
    },
    {
     "data": {
      "text/plain": [
       "true"
      ]
     },
     "execution_count": 27,
     "metadata": {},
     "output_type": "execute_result"
    }
   ],
   "source": [
    "Ii = Taylor{Intervalo}([I1,I2])\n",
    "\n",
    "@show Ii, Ii[0]\n",
    "\n",
    "Ii[1] = Intervalo(0,0)\n",
    "\n",
    "@show Ii\n",
    "\n",
    "@show Ii == Taylor{Intervalo}([Intervalo(2,5), Intervalo(0,0)])"
   ]
  },
  {
   "cell_type": "code",
   "execution_count": 25,
   "metadata": {},
   "outputs": [
    {
     "name": "stdout",
     "output_type": "stream",
     "text": [
      "(I1 + I3, I1 - I3) = (I[2.0, 8.5]\n",
      ", I[-1.5, 5.0]\n",
      ")\n",
      "(I2 + I4, I2 - I4) = (I[7.7, 17.9]\n",
      ", I[-6.9, 3.3]\n",
      ")\n",
      "Taylor{Intervalo}([I1, I2]) + Taylor{Intervalo}([I3, I4]) = Taylor{Intervalos.Intervalo}(1, Intervalos.Intervalo[I[2.0, 8.5]\n",
      ", I[7.7, 17.9]\n",
      "])\n",
      "Taylor{Intervalo}([I1, I2]) - Taylor{Intervalo}([I3, I4]) = Taylor{Intervalos.Intervalo}(1, Intervalos.Intervalo[I[-1.5, 5.0]\n",
      ", I[-6.9, 3.3]\n",
      "])\n"
     ]
    },
    {
     "data": {
      "text/plain": [
       "Taylor{Intervalos.Intervalo}(1, Intervalos.Intervalo[I[-1.5, 5.0]\n",
       ", I[-6.9, 3.3]\n",
       "])"
      ]
     },
     "execution_count": 25,
     "metadata": {},
     "output_type": "execute_result"
    }
   ],
   "source": [
    "@show I1 + I3, I1 - I3\n",
    "@show I2 + I4, I2 - I4\n",
    "@show Taylor{Intervalo}([I1,I2]) + Taylor{Intervalo}([I3,I4])\n",
    "@show Taylor{Intervalo}([I1,I2]) - Taylor{Intervalo}([I3,I4])"
   ]
  },
  {
   "cell_type": "code",
   "execution_count": 26,
   "metadata": {
    "scrolled": false
   },
   "outputs": [
    {
     "name": "stdout",
     "output_type": "stream",
     "text": [
      "Taylor{Intervalo}([I1, I2]) * Taylor{Intervalo}([I3, I4]) = Taylor{Intervalos.Intervalo}(1, Intervalos.Intervalo[I[0.0, 17.5]\n",
      ", I[9.4, 77.5]\n",
      "])\n",
      "Taylor{Intervalo}([I1, I2]) / Taylor{Intervalo}([I3, I4]) = Taylor{Intervalos.Intervalo}(1, Intervalos.Intervalo[I[0.571429, Inf]\n",
      ", I[-Inf, Inf]\n",
      "])\n"
     ]
    },
    {
     "data": {
      "text/plain": [
       "Taylor{Intervalos.Intervalo}(1, Intervalos.Intervalo[I[0.571429, Inf]\n",
       ", I[-Inf, Inf]\n",
       "])"
      ]
     },
     "execution_count": 26,
     "metadata": {},
     "output_type": "execute_result"
    }
   ],
   "source": [
    "@show Taylor{Intervalo}([I1,I2]) * Taylor{Intervalo}([I3,I4])\n",
    "@show Taylor{Intervalo}([I1,I2]) / Taylor{Intervalo}([I3,I4])"
   ]
  },
  {
   "cell_type": "code",
   "execution_count": null,
   "metadata": {},
   "outputs": [],
   "source": []
  },
  {
   "cell_type": "code",
   "execution_count": 41,
   "metadata": {
    "scrolled": true
   },
   "outputs": [
    {
     "data": {
      "text/plain": [
       "Picard (generic function with 2 methods)"
      ]
     },
     "execution_count": 41,
     "metadata": {},
     "output_type": "execute_result"
    }
   ],
   "source": [
    "function paso(x::Taylor{T}) where {T<:Real}\n",
    "    p = length(x.coef) - 1\n",
    "    (1.0e-32/(abs(x[p])))^(1/p)\n",
    "end\n",
    "\n",
    "function horner(P::Taylor{T}, x::Real) where {T<:Real}\n",
    "    result = 0.0\n",
    "    for i in P.orden:-1:0\n",
    "        result = (result * x) + P{T}[i]\n",
    "    end\n",
    "    result\n",
    "end\n",
    "\n",
    "function serieTaylor(f,  x0::T, orden::Int64=10) where {T<:Real}\n",
    "    newTaylor = Taylor{T}(Array{Intervalo, 1}(orden + 1))\n",
    "    newTaylor[0] = x0\n",
    "    newTaylor[1] = f(x0)\n",
    "    for i in 2:orden\n",
    "        x0 = newTaylor[0:i]\n",
    "        newTaylor[i] = (f(x0)[i-1])/(i)\n",
    "    end\n",
    "    newTaylor\n",
    "end\n",
    "\n",
    "\n",
    "function serieTaylort(f,  x0::T, t0::Real, orden::Int64=10) where {T<:Real}\n",
    "    newTaylor = Taylor{T}(Array{Intervalo, 1}(orden + 1))\n",
    "    newTaylor[0] = x0\n",
    "    newTaylor[1] = f(x0, t0)\n",
    "    for i in 2:orden\n",
    "        x0 = newTaylor[0:i]\n",
    "        newTaylor[i] = (f(x0, t0)[i-1])/(i)\n",
    "    end\n",
    "    newTaylor\n",
    "end\n",
    "\n",
    "function taylorIntegration(f, x0::T, t0::Real ,orden::Int64=32) where {T<:Real}\n",
    "    Ta = serieTaylor(f, x0, t0, orden)\n",
    "    t = paso(Ta)\n",
    "    x = horner(Ta, t)\n",
    "    x, t + t0\n",
    "end\n",
    "\n",
    "function Picard(f, x0::T, t::Real, orden::Int64=32) where {T<:Real}\n",
    "    x0new = Taylor{T}(Array{Intervalo, 1}(orden + 1))\n",
    "    x0new[0] = x0\n",
    "    x0new[1] = f(x0)\n",
    "    for i in 2: orden \n",
    "        x0 = x0new[0:i]\n",
    "        x0new[i] = (f(x0)[i-1])/(i)\n",
    "    end\n",
    "    horner(x0new, t)\n",
    "end"
   ]
  },
  {
   "cell_type": "code",
   "execution_count": 44,
   "metadata": {},
   "outputs": [
    {
     "data": {
      "text/plain": [
       "Taylor{Intervalos.Intervalo}(10, Intervalos.Intervalo[I[0.0, 0.111111]\n",
       ", I[0.0, 0.0123457]\n",
       ", I[0.0, 0.00137174]\n",
       ", I[0.0, 0.000152416]\n",
       ", I[0.0, 1.69351e-5]\n",
       ", I[0.0, 1.88168e-6]\n",
       ", I[0.0, 2.09075e-7]\n",
       ", I[0.0, 2.32306e-8]\n",
       ", I[0.0, 2.58117e-9]\n",
       ", I[0.0, 2.86797e-10]\n",
       ", I[0.0, 3.18664e-11]\n",
       "])"
      ]
     },
     "execution_count": 44,
     "metadata": {},
     "output_type": "execute_result"
    }
   ],
   "source": [
    "f(x) = x^2 \n",
    "X0 = Intervalo(0,1/9)\n",
    "\n",
    "serieTaylor(f, X0, 10)"
   ]
  },
  {
   "cell_type": "code",
   "execution_count": 33,
   "metadata": {},
   "outputs": [
    {
     "data": {
      "text/plain": [
       "3-element Array{Intervalos.Intervalo,1}:\n",
       " I[0.0, 0.0]\n",
       "\n",
       " I[0.0, 0.0]\n",
       "\n",
       " I[0.0, 0.0]\n"
      ]
     },
     "execution_count": 33,
     "metadata": {},
     "output_type": "execute_result"
    }
   ],
   "source": []
  },
  {
   "cell_type": "code",
   "execution_count": null,
   "metadata": {},
   "outputs": [],
   "source": []
  },
  {
   "cell_type": "code",
   "execution_count": null,
   "metadata": {},
   "outputs": [],
   "source": []
  },
  {
   "cell_type": "code",
   "execution_count": null,
   "metadata": {},
   "outputs": [],
   "source": []
  },
  {
   "cell_type": "code",
   "execution_count": null,
   "metadata": {},
   "outputs": [],
   "source": []
  },
  {
   "cell_type": "code",
   "execution_count": null,
   "metadata": {},
   "outputs": [],
   "source": []
  },
  {
   "cell_type": "code",
   "execution_count": null,
   "metadata": {},
   "outputs": [],
   "source": []
  },
  {
   "cell_type": "code",
   "execution_count": null,
   "metadata": {},
   "outputs": [],
   "source": []
  },
  {
   "cell_type": "code",
   "execution_count": null,
   "metadata": {},
   "outputs": [],
   "source": []
  }
 ],
 "metadata": {
  "kernelspec": {
   "display_name": "Julia 0.6.0",
   "language": "julia",
   "name": "julia-0.6"
  },
  "language_info": {
   "file_extension": ".jl",
   "mimetype": "application/julia",
   "name": "julia",
   "version": "0.6.0"
  }
 },
 "nbformat": 4,
 "nbformat_minor": 2
}
