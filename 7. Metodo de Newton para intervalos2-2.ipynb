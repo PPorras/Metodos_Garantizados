{
 "cells": [
  {
   "cell_type": "markdown",
   "metadata": {},
   "source": [
    "# El método de Newton para intervalos"
   ]
  },
  {
   "cell_type": "markdown",
   "metadata": {},
   "source": [
    "## Extensión literal del método de Newton"
   ]
  },
  {
   "cell_type": "markdown",
   "metadata": {},
   "source": [
    "Supongamos, igual que en el notebook anterior, que $f: \\mathbb{R} \\to \\mathbb{R}$ es una función $C^1$ (continuamente diferenciable) y que tiene una raíz $x^*$, es decir que $f(x^*)=0$. \n",
    "\n",
    "Sabemos que los intervalos pueden proveer una forma garantizada de acotar conjuntos. ¿Será posible que se puedan utilizar los intervalos de alguna forma para mejorar el método de Newton para ubicar las raíces de $f$?"
   ]
  },
  {
   "cell_type": "markdown",
   "metadata": {},
   "source": [
    "**[1]** La primera opción que se le podría ocurrir a uno es ocupar intervalos en el método de Newton tradicional.\n",
    "\n",
    "(i) Impleméntalo. [Debería ser ¡trivial utilizando tu código del notebook anterior!] \n",
    "\n",
    "(ii) Calcula el diámetro de los intervalos $x_i$ resultantes durante la iteración. ¿Qué observas? ¿Por qué ocurre?"
   ]
  },
  {
   "cell_type": "code",
   "execution_count": 1,
   "metadata": {},
   "outputs": [],
   "source": [
    "include(\"Intervalos.jl\")\n",
    "include(\"Duales.jl\")\n",
    "using .Intervalos\n",
    "using .Duales\n",
    "using Base.Test"
   ]
  },
  {
   "cell_type": "code",
   "execution_count": 2,
   "metadata": {},
   "outputs": [
    {
     "name": "stdout",
     "output_type": "stream",
     "text": [
      "\u001b[1m\u001b[37mTest Summary:                | \u001b[39m\u001b[22m\u001b[1m\u001b[32mPass  \u001b[39m\u001b[22m\u001b[1m\u001b[36mTotal\u001b[39m\u001b[22m\n",
      "Pruebas Intervalos, derivada | \u001b[32m   5  \u001b[39m\u001b[36m    5\u001b[39m\n"
     ]
    },
    {
     "data": {
      "text/plain": [
       "Base.Test.DefaultTestSet(\"Pruebas Intervalos, derivada\", Any[], 5, false)"
      ]
     },
     "execution_count": 2,
     "metadata": {},
     "output_type": "execute_result"
    }
   ],
   "source": [
    "f(x) = x^2 - 2\n",
    "X0 = Intervalo(0.5, 1.5)\n",
    "\n",
    "@testset \"Pruebas Intervalos, derivada\" begin\n",
    "    @test Intervalo(1) == Intervalo(1.0, 1.0)\n",
    "    @test Intervalo(1,2) + Intervalo(10,40) == Intervalo(11.0, 42.0)\n",
    "    @test typeof(Intervalo(1,2)) <: Real\n",
    "    @test f(X0) == Intervalo(-1.75, 0.25)\n",
    "    @test derivada(f, X0) == Intervalo(1.0, 3.0)\n",
    "end"
   ]
  },
  {
   "cell_type": "code",
   "execution_count": 3,
   "metadata": {},
   "outputs": [
    {
     "data": {
      "text/plain": [
       "newton (generic function with 3 methods)"
      ]
     },
     "execution_count": 3,
     "metadata": {},
     "output_type": "execute_result"
    }
   ],
   "source": [
    "function newton(f, X0::Intervalo, n::Int64 = 10, tolerancia::Float64 = 1e-10)\n",
    "    for i in 1:n\n",
    "        X0 = X0 - X0/derivada(f ,X0)\n",
    "        diametro = abs(X0.sup - X0.inf)\n",
    "        diametro == 0.0 ? break : nothing\n",
    "        println(\" Diametro del intervalo: \", diametro)\n",
    "    end\n",
    "    X0\n",
    "end"
   ]
  },
  {
   "cell_type": "code",
   "execution_count": 4,
   "metadata": {},
   "outputs": [
    {
     "name": "stdout",
     "output_type": "stream",
     "text": [
      " Diametro del intervalo: 2.333333333333333\n",
      " Diametro del intervalo: Inf\n",
      " Diametro del intervalo: Inf\n",
      " Diametro del intervalo: Inf\n",
      " Diametro del intervalo: Inf\n",
      " Diametro del intervalo: Inf\n",
      " Diametro del intervalo: Inf\n",
      " Diametro del intervalo: Inf\n",
      " Diametro del intervalo: Inf\n",
      " Diametro del intervalo: Inf\n"
     ]
    },
    {
     "data": {
      "text/plain": [
       "Intervalos.Intervalo(-Inf, Inf)"
      ]
     },
     "execution_count": 4,
     "metadata": {},
     "output_type": "execute_result"
    }
   ],
   "source": [
    "newton(f, X0) "
   ]
  },
  {
   "cell_type": "markdown",
   "metadata": {},
   "source": [
    "Vemos que implementar el método de Newton tal cual no converge a la raíz"
   ]
  },
  {
   "cell_type": "markdown",
   "metadata": {},
   "source": [
    "## El método de Newton para intervalos"
   ]
  },
  {
   "cell_type": "markdown",
   "metadata": {},
   "source": [
    "Está claro que el método de Newton usual no nos sirve con intervalos. De hecho, es común que los métodos numéricos tradicionales no funcionan con intervalos. Sin embargo, al reescribir el método de otra manera, es posible que funcione mejor para acotar las cantidades deseadas.\n",
    "\n",
    "En los 60s se encontró una manera de *mejorar* el método de Newton, para proveer un método que *garantizadamente* pueda resolver el siguiente problema:\n",
    "\n",
    "> Dados un intervalo $X \\subseteq \\mathbb{R}$ y una función $f$ suficientemente suave ($C^1$), encuentra *todas* las raíces $f$ dentro del intervalo $X$.\n",
    "\n",
    "Es decir, el método de Newton para intervalos nos reportará cuáles son los intervalos dentro de los cuales puede garantizarse que existe una raíz, y que esta raíz es única dentro del intervalo. Asimismo, podría haber intervalos en los cuales no se puede garantizar que haya o no haya una raíz. Cualquier región de $X$ que no esté contenida en la lista de intervalos garantizadamente *no* contiene una raíz de $f$."
   ]
  },
  {
   "cell_type": "markdown",
   "metadata": {},
   "source": [
    "Necesitaremos extensiones intervalares $F$ de la función $f$ y $F'$ de su derivada $f'$; la segunda se puede obtener utilizando la diferenciación automática."
   ]
  },
  {
   "cell_type": "markdown",
   "metadata": {},
   "source": [
    "**[2]**\n",
    "Sea $x^*$ una raíz de $f$ y $x$ algún punto del intervalo $X:=[a,b]$. \n",
    "\n",
    "(i) Escribe el teorema del valor medio que relaciona $f(x)$ y $f(x^*)$.\n",
    "\n",
    "* Sea $f:X \\longrightarrow \\mathbb{R}$ tal que cumple las hipótesis del teorema del valor medio, entonces tenemos: $$f'(\\xi) = \\dfrac{f(b) - f(a)}{b - a}$$\n",
    "\n",
    "* Ahora $x^*$ tal que $f(x^*) = 0$ y $x\\in X$ con $[x^*,x]\\subseteq X$, entonces existe $\\xi \\in X$ entonces $$f'(\\xi) = \\dfrac{f(x^*) - f(x)}{x^* - x}$$ \n",
    "\n",
    "(ii) De ahí, obtén una expresión *exacta* para $x^*$ en términos de $x$ y un valor desconocido.\n",
    "\n",
    "* Despejando $x^*$ obtenemos $$x^* = x -\\dfrac{f(x)}{f'(\\xi)}$$ con $f'(\\xi) \\neq 0$\n",
    "\n",
    "(iii) ¿Qué se puede hacer con el valor desconocido?\n",
    "\n",
    "* Le asignamos todo el intervalo $\\xi = X $\n",
    "\n",
    "(iv) Define un operador $N_f(X, x)$ como el resultado de (iii).\n",
    "\n",
    "* $N_f(X, x) := x -\\dfrac{f(x)}{F'(X)}$\n",
    "\n",
    "(v) Demuestra que si $x^* \\in X$, entonces $x^* \\in N_f(X, x)$, y entonces $x^* \\in X \\cap N_f(X, x)$.\n",
    "\n",
    "* Puesto que $x^* \\in X$ podemos evaluar en el operador $N_f(X, x^*) = x^* -\\dfrac{f(x^*)}{F'(X)} = x^* \\Longrightarrow x^* \\in  N_f(X, x)\\cap X$ con $0\\notin F'(X)$\n"
   ]
  },
  {
   "cell_type": "markdown",
   "metadata": {},
   "source": [
    "Sea $m(X) := \\mathrm{mid}(X)$ el punto medio de $X$. Definimos el **operador de Newton** $N_f(X) := N_f(X, m)$. [Es necesario utilizar el intervalo $[m, m]$ cuando se calcula $f(m)$.]"
   ]
  },
  {
   "cell_type": "markdown",
   "metadata": {},
   "source": [
    "Ahora podemos definir una sucesión de intervalos a partir de un intervalo inicial $X_0$, dada por $X_{k+1} := X_k \\cap N_f(X_k)$. Por construcción, si $x^*\\in X_0$ entonces $x^*\\in X_k$ para toda $k$. Entonces, si $X_0$ contiene una raíz, la raíz se mantiene dentro de la secuencia de intervalos.\n",
    "\n",
    "Entonces, si pudiéramos controlar de alguna manera que el diámetro de los intervalos $x_k$ disminuya, obtendríamos cotas precisas para $x^*$. Resulta que sí es el caso; la demostración se encuentra, por ejemplo, en el libro de Tucker. Aquí veremos numéricamente que sí es el caso."
   ]
  },
  {
   "cell_type": "markdown",
   "metadata": {},
   "source": [
    "**[3]** (i) Escribe una función que acepte una función $f$ y calcule el operador de Newton $N_f(X)$ para un intervalo $X$.\n",
    "\n",
    "(ii) Escoge una función que tenga una raíz y tal que $0 \\notin F'(X)$. Implementa la iteración del método de Newton intervalar y dibuja la secuencia de intervalos que se obtiene.\n",
    "\n",
    "(iii) Calcula sus diámetros. ¿Qué ocurre?\n",
    "* Para `Float64`  el diametro converge a $0.0$"
   ]
  },
  {
   "cell_type": "code",
   "execution_count": 5,
   "metadata": {},
   "outputs": [
    {
     "data": {
      "text/plain": [
       "mid (generic function with 2 methods)"
      ]
     },
     "execution_count": 5,
     "metadata": {},
     "output_type": "execute_result"
    }
   ],
   "source": [
    "function mid(X::Intervalo, centrado::Bool = true) \n",
    "    centrado ? dx = 0.5 : dx = 0.5 + (1/2^10)\n",
    "    abs(X.sup - X.inf)*dx  + X.inf\n",
    "end"
   ]
  },
  {
   "cell_type": "code",
   "execution_count": 6,
   "metadata": {},
   "outputs": [
    {
     "data": {
      "text/plain": [
       "diametro (generic function with 1 method)"
      ]
     },
     "execution_count": 6,
     "metadata": {},
     "output_type": "execute_result"
    }
   ],
   "source": [
    "diametro(X::Intervalo) = abs(X.sup - X.inf)"
   ]
  },
  {
   "cell_type": "code",
   "execution_count": 7,
   "metadata": {},
   "outputs": [
    {
     "data": {
      "text/plain": [
       "OperadorNewton (generic function with 1 method)"
      ]
     },
     "execution_count": 7,
     "metadata": {},
     "output_type": "execute_result"
    }
   ],
   "source": [
    "function OperadorNewton(f, X0::Intervalo)\n",
    "    x0 = mid(X0)\n",
    "    f(x0) == 0.0 ? x0 = mid(X0, false): nothing\n",
    "    \n",
    "    Nf = x0 - f(x0)/derivada(f ,X0)\n",
    "end"
   ]
  },
  {
   "cell_type": "code",
   "execution_count": 8,
   "metadata": {},
   "outputs": [
    {
     "data": {
      "text/plain": [
       "Intervalos.Intervalo(-Inf, Inf)"
      ]
     },
     "execution_count": 8,
     "metadata": {},
     "output_type": "execute_result"
    }
   ],
   "source": [
    "f(x) = x^3\n",
    "X0 = Intervalo(-1, 1)\n",
    "OperadorNewton(f, X0)"
   ]
  },
  {
   "cell_type": "code",
   "execution_count": 9,
   "metadata": {},
   "outputs": [
    {
     "data": {
      "text/plain": [
       "intersect (generic function with 18 methods)"
      ]
     },
     "execution_count": 9,
     "metadata": {},
     "output_type": "execute_result"
    }
   ],
   "source": [
    "import Base: ∩, ∈, ∉\n",
    "\n",
    "function ∈(c::Real, x::Intervalo)\n",
    "    if x.inf <= c <= x.sup\n",
    "        true\n",
    "    else\n",
    "        #@assert x.inf <= c <= x.sup \" No es elemento del Intervalo\"\n",
    "        false\n",
    "    end\n",
    "    \n",
    "end\n",
    "\n",
    "function ∉(c::Real, x::Intervalo)\n",
    "    if  c < x.inf || c > x.sup\n",
    "        true\n",
    "    else\n",
    "        false\n",
    "    end\n",
    "end\n",
    "\n",
    "function ∩(x::Intervalo, y::Intervalo)\n",
    "    try\n",
    "        X = Intervalo(max(x.inf, y.inf), min(x.sup, y.sup))\n",
    "        \n",
    "        if X.inf ∈ x && X.inf ∈ y && X.sup ∈ x && X.sup ∈ y\n",
    "            X\n",
    "        else\n",
    "            X = Intervalo(NaN, NaN)\n",
    "        end\n",
    "        \n",
    "    catch \n",
    "        X = Intervalo(NaN, NaN)\n",
    "    end\n",
    "end\n"
   ]
  },
  {
   "cell_type": "code",
   "execution_count": 10,
   "metadata": {},
   "outputs": [
    {
     "name": "stdout",
     "output_type": "stream",
     "text": [
      "\u001b[1m\u001b[37mTest Summary:    | \u001b[39m\u001b[22m\u001b[1m\u001b[32mPass  \u001b[39m\u001b[22m\u001b[1m\u001b[36mTotal\u001b[39m\u001b[22m\n",
      "Pruebas de ∈ y ∩ | \u001b[32m   8  \u001b[39m\u001b[36m    8\u001b[39m\n"
     ]
    },
    {
     "data": {
      "text/plain": [
       "Base.Test.DefaultTestSet(\"Pruebas de ∈ y ∩\", Any[], 8, false)"
      ]
     },
     "execution_count": 10,
     "metadata": {},
     "output_type": "execute_result"
    }
   ],
   "source": [
    "I = Intervalo(1,5) ∩ Intervalo(6,9)\n",
    "\n",
    "@testset \"Pruebas de ∈ y ∩\" begin\n",
    "    \n",
    "    @test Intervalo(1,5) ∩ Intervalo(3,6) == Intervalo(3.0, 5.0)\n",
    "    @test Intervalo(1,5) ∩ Intervalo(6,9) == Intervalo(NaN, NaN)\n",
    "    @test I == Intervalo(NaN, NaN)\n",
    "    @test Intervalo(1.0, 5.0) ∩ Intervalo(NaN, NaN) == Intervalo(NaN, NaN)\n",
    "    @test Intervalo(1.0, 5.0) ∩ I == Intervalo(NaN, NaN)\n",
    "    @test 4.0 ∈ Intervalo(1.0, 5.0)\n",
    "    @test 5 ∈ Intervalo(1.0, 5.0)\n",
    "    @test 4.0 ∉ Intervalo(1.0, 3.0) \n",
    "    \n",
    "end"
   ]
  },
  {
   "cell_type": "code",
   "execution_count": 11,
   "metadata": {},
   "outputs": [
    {
     "data": {
      "text/plain": [
       "newtonIntervalo (generic function with 3 methods)"
      ]
     },
     "execution_count": 11,
     "metadata": {},
     "output_type": "execute_result"
    }
   ],
   "source": [
    "function newtonIntervalo(f, X0::Intervalo, n::Int64 = 10, tolerancia::Float64 = 1e-10 )\n",
    "    Nf = Intervalo(0,0)\n",
    "    for i in 1:n\n",
    "        Nf = OperadorNewton(f, X0)\n",
    "        X0 = Nf ∩ X0\n",
    "        (X0 == Intervalo(NaN,NaN)) && break\n",
    "        (diametro(X0) == 0.0) && break\n",
    "    end\n",
    "#     @show \"Diametro del interva lo \" abs(X0.sup - X0.inf)\n",
    "    X0\n",
    "end"
   ]
  },
  {
   "cell_type": "code",
   "execution_count": 12,
   "metadata": {},
   "outputs": [
    {
     "name": "stdout",
     "output_type": "stream",
     "text": [
      "newtonIntervalo(f, X0, 11) = Intervalos.Intervalo(NaN, NaN)\n",
      "newtonIntervalo(f, X1, 11) = Intervalos.Intervalo(-1.4142135623730951, -1.4142135623730951)\n"
     ]
    }
   ],
   "source": [
    "f(x) = x^2 - 2\n",
    "X0 = Intervalo(-3, -2)\n",
    "X1 = Intervalo(-3, -1)\n",
    "@show newtonIntervalo(f, X0, 11)\n",
    "@show newtonIntervalo(f, X1, 11);"
   ]
  },
  {
   "cell_type": "markdown",
   "metadata": {},
   "source": [
    "**[4]** Podemos entender la acción del operador gráficamente: consiste en tomar rectas con *todas las pendientes dentro del intervalo $F'(X)$* e intersectarlos con el eje $x$. \n",
    "\n",
    "(i) Dibuja esto gráficamente.\n",
    "\n",
    "(ii) Dibuja lo que ocurre en la evolución de la iteración de Newton."
   ]
  },
  {
   "cell_type": "code",
   "execution_count": 13,
   "metadata": {},
   "outputs": [
    {
     "data": {
      "text/plain": [
       "Plots.GRBackend()"
      ]
     },
     "execution_count": 13,
     "metadata": {},
     "output_type": "execute_result"
    }
   ],
   "source": [
    "using Plots\n",
    "gr()"
   ]
  },
  {
   "cell_type": "code",
   "execution_count": 14,
   "metadata": {},
   "outputs": [
    {
     "data": {
      "text/plain": [
       "mrecta (generic function with 1 method)"
      ]
     },
     "execution_count": 14,
     "metadata": {},
     "output_type": "execute_result"
    }
   ],
   "source": [
    "function mrecta(f, X::Intervalo)\n",
    "    xs = collect(linspace(X.inf, X.sup, 50))\n",
    "    ys = zeros(50)\n",
    "    x0 = mid(X)\n",
    "    recta(x::Array{Float64,1}, m::Float64, x0, f) = m.*(x .- x0) .+ f(x0)\n",
    "    xp = derivada(f, X)\n",
    "    xpsinf = recta(xs,xp.inf,x0,f)\n",
    "    xpssup = recta(xs,xp.sup,x0,f)\n",
    "    xs, xpsinf, xpssup\n",
    "    \n",
    "end"
   ]
  },
  {
   "cell_type": "code",
   "execution_count": 15,
   "metadata": {},
   "outputs": [
    {
     "data": {
      "text/html": [
       "<?xml version=\"1.0\" encoding=\"utf-8\"?>\n",
       "<svg xmlns=\"http://www.w3.org/2000/svg\" xmlns:xlink=\"http://www.w3.org/1999/xlink\" width=\"600\" height=\"400\" viewBox=\"0 0 600 400\">\n",
       "<defs>\n",
       "  <clipPath id=\"clip00\">\n",
       "    <rect x=\"0\" y=\"0\" width=\"600\" height=\"400\"/>\n",
       "  </clipPath>\n",
       "</defs>\n",
       "<polygon clip-path=\"url(#clip00)\" points=\"\n",
       "0,400 600,400 600,0 0,0 \n",
       "  \" fill=\"#ffffff\" fill-opacity=\"1\"/>\n",
       "<defs>\n",
       "  <clipPath id=\"clip01\">\n",
       "    <rect x=\"120\" y=\"0\" width=\"421\" height=\"400\"/>\n",
       "  </clipPath>\n",
       "</defs>\n",
       "<polygon clip-path=\"url(#clip00)\" points=\"\n",
       "39.3701,376.378 592.126,376.378 592.126,7.87402 39.3701,7.87402 \n",
       "  \" fill=\"#ffffff\" fill-opacity=\"1\"/>\n",
       "<defs>\n",
       "  <clipPath id=\"clip02\">\n",
       "    <rect x=\"39\" y=\"7\" width=\"554\" height=\"370\"/>\n",
       "  </clipPath>\n",
       "</defs>\n",
       "<polyline clip-path=\"url(#clip02)\" style=\"stroke:#000000; stroke-width:0.5; stroke-opacity:0.1; fill:none\" points=\"\n",
       "  57.2009,370.85 57.2009,13.4016 \n",
       "  \"/>\n",
       "<polyline clip-path=\"url(#clip02)\" style=\"stroke:#000000; stroke-width:0.5; stroke-opacity:0.1; fill:none\" points=\"\n",
       "  92.8626,370.85 92.8626,13.4016 \n",
       "  \"/>\n",
       "<polyline clip-path=\"url(#clip02)\" style=\"stroke:#000000; stroke-width:0.5; stroke-opacity:0.1; fill:none\" points=\"\n",
       "  128.524,370.85 128.524,13.4016 \n",
       "  \"/>\n",
       "<polyline clip-path=\"url(#clip02)\" style=\"stroke:#000000; stroke-width:0.5; stroke-opacity:0.1; fill:none\" points=\"\n",
       "  164.186,370.85 164.186,13.4016 \n",
       "  \"/>\n",
       "<polyline clip-path=\"url(#clip02)\" style=\"stroke:#000000; stroke-width:0.5; stroke-opacity:0.1; fill:none\" points=\"\n",
       "  199.848,370.85 199.848,13.4016 \n",
       "  \"/>\n",
       "<polyline clip-path=\"url(#clip02)\" style=\"stroke:#000000; stroke-width:0.5; stroke-opacity:0.1; fill:none\" points=\"\n",
       "  235.509,370.85 235.509,13.4016 \n",
       "  \"/>\n",
       "<polyline clip-path=\"url(#clip02)\" style=\"stroke:#000000; stroke-width:0.5; stroke-opacity:0.1; fill:none\" points=\"\n",
       "  271.171,370.85 271.171,13.4016 \n",
       "  \"/>\n",
       "<polyline clip-path=\"url(#clip02)\" style=\"stroke:#000000; stroke-width:0.5; stroke-opacity:0.1; fill:none\" points=\"\n",
       "  306.833,370.85 306.833,13.4016 \n",
       "  \"/>\n",
       "<polyline clip-path=\"url(#clip02)\" style=\"stroke:#000000; stroke-width:0.5; stroke-opacity:0.1; fill:none\" points=\"\n",
       "  342.494,370.85 342.494,13.4016 \n",
       "  \"/>\n",
       "<polyline clip-path=\"url(#clip02)\" style=\"stroke:#000000; stroke-width:0.5; stroke-opacity:0.1; fill:none\" points=\"\n",
       "  378.156,370.85 378.156,13.4016 \n",
       "  \"/>\n",
       "<polyline clip-path=\"url(#clip02)\" style=\"stroke:#000000; stroke-width:0.5; stroke-opacity:0.1; fill:none\" points=\"\n",
       "  413.818,370.85 413.818,13.4016 \n",
       "  \"/>\n",
       "<polyline clip-path=\"url(#clip02)\" style=\"stroke:#000000; stroke-width:0.5; stroke-opacity:0.1; fill:none\" points=\"\n",
       "  449.479,370.85 449.479,13.4016 \n",
       "  \"/>\n",
       "<polyline clip-path=\"url(#clip02)\" style=\"stroke:#000000; stroke-width:0.5; stroke-opacity:0.1; fill:none\" points=\"\n",
       "  485.141,370.85 485.141,13.4016 \n",
       "  \"/>\n",
       "<polyline clip-path=\"url(#clip02)\" style=\"stroke:#000000; stroke-width:0.5; stroke-opacity:0.1; fill:none\" points=\"\n",
       "  520.803,370.85 520.803,13.4016 \n",
       "  \"/>\n",
       "<polyline clip-path=\"url(#clip02)\" style=\"stroke:#000000; stroke-width:0.5; stroke-opacity:0.1; fill:none\" points=\"\n",
       "  556.464,370.85 556.464,13.4016 \n",
       "  \"/>\n",
       "<polyline clip-path=\"url(#clip02)\" style=\"stroke:#000000; stroke-width:0.5; stroke-opacity:0.1; fill:none\" points=\"\n",
       "  592.126,370.85 592.126,13.4016 \n",
       "  \"/>\n",
       "<polyline clip-path=\"url(#clip02)\" style=\"stroke:#000000; stroke-width:0.5; stroke-opacity:0.1; fill:none\" points=\"\n",
       "  47.6614,362.73 583.835,362.73 \n",
       "  \"/>\n",
       "<polyline clip-path=\"url(#clip02)\" style=\"stroke:#000000; stroke-width:0.5; stroke-opacity:0.1; fill:none\" points=\"\n",
       "  47.6614,335.433 583.835,335.433 \n",
       "  \"/>\n",
       "<polyline clip-path=\"url(#clip02)\" style=\"stroke:#000000; stroke-width:0.5; stroke-opacity:0.1; fill:none\" points=\"\n",
       "  47.6614,308.136 583.835,308.136 \n",
       "  \"/>\n",
       "<polyline clip-path=\"url(#clip02)\" style=\"stroke:#000000; stroke-width:0.5; stroke-opacity:0.1; fill:none\" points=\"\n",
       "  47.6614,280.84 583.835,280.84 \n",
       "  \"/>\n",
       "<polyline clip-path=\"url(#clip02)\" style=\"stroke:#000000; stroke-width:0.5; stroke-opacity:0.1; fill:none\" points=\"\n",
       "  47.6614,253.543 583.835,253.543 \n",
       "  \"/>\n",
       "<polyline clip-path=\"url(#clip02)\" style=\"stroke:#000000; stroke-width:0.5; stroke-opacity:0.1; fill:none\" points=\"\n",
       "  47.6614,226.247 583.835,226.247 \n",
       "  \"/>\n",
       "<polyline clip-path=\"url(#clip02)\" style=\"stroke:#000000; stroke-width:0.5; stroke-opacity:0.1; fill:none\" points=\"\n",
       "  47.6614,198.95 583.835,198.95 \n",
       "  \"/>\n",
       "<polyline clip-path=\"url(#clip02)\" style=\"stroke:#000000; stroke-width:0.5; stroke-opacity:0.1; fill:none\" points=\"\n",
       "  47.6614,171.654 583.835,171.654 \n",
       "  \"/>\n",
       "<polyline clip-path=\"url(#clip02)\" style=\"stroke:#000000; stroke-width:0.5; stroke-opacity:0.1; fill:none\" points=\"\n",
       "  47.6614,144.357 583.835,144.357 \n",
       "  \"/>\n",
       "<polyline clip-path=\"url(#clip02)\" style=\"stroke:#000000; stroke-width:0.5; stroke-opacity:0.1; fill:none\" points=\"\n",
       "  47.6614,117.06 583.835,117.06 \n",
       "  \"/>\n",
       "<polyline clip-path=\"url(#clip02)\" style=\"stroke:#000000; stroke-width:0.5; stroke-opacity:0.1; fill:none\" points=\"\n",
       "  47.6614,89.7638 583.835,89.7638 \n",
       "  \"/>\n",
       "<polyline clip-path=\"url(#clip02)\" style=\"stroke:#000000; stroke-width:0.5; stroke-opacity:0.1; fill:none\" points=\"\n",
       "  47.6614,62.4672 583.835,62.4672 \n",
       "  \"/>\n",
       "<polyline clip-path=\"url(#clip02)\" style=\"stroke:#000000; stroke-width:0.5; stroke-opacity:0.1; fill:none\" points=\"\n",
       "  47.6614,35.1706 583.835,35.1706 \n",
       "  \"/>\n",
       "<polyline clip-path=\"url(#clip02)\" style=\"stroke:#000000; stroke-width:0.5; stroke-opacity:0.1; fill:none\" points=\"\n",
       "  47.6614,7.87402 583.835,7.87402 \n",
       "  \"/>\n",
       "<polyline clip-path=\"url(#clip00)\" style=\"stroke:#000000; stroke-width:1; stroke-opacity:1; fill:none\" points=\"\n",
       "  39.3701,376.378 592.126,376.378 \n",
       "  \"/>\n",
       "<polyline clip-path=\"url(#clip00)\" style=\"stroke:#000000; stroke-width:1; stroke-opacity:1; fill:none\" points=\"\n",
       "  57.2009,376.378 57.2009,370.85 \n",
       "  \"/>\n",
       "<polyline clip-path=\"url(#clip00)\" style=\"stroke:#000000; stroke-width:1; stroke-opacity:1; fill:none\" points=\"\n",
       "  92.8626,376.378 92.8626,370.85 \n",
       "  \"/>\n",
       "<polyline clip-path=\"url(#clip00)\" style=\"stroke:#000000; stroke-width:1; stroke-opacity:1; fill:none\" points=\"\n",
       "  128.524,376.378 128.524,370.85 \n",
       "  \"/>\n",
       "<polyline clip-path=\"url(#clip00)\" style=\"stroke:#000000; stroke-width:1; stroke-opacity:1; fill:none\" points=\"\n",
       "  164.186,376.378 164.186,370.85 \n",
       "  \"/>\n",
       "<polyline clip-path=\"url(#clip00)\" style=\"stroke:#000000; stroke-width:1; stroke-opacity:1; fill:none\" points=\"\n",
       "  199.848,376.378 199.848,370.85 \n",
       "  \"/>\n",
       "<polyline clip-path=\"url(#clip00)\" style=\"stroke:#000000; stroke-width:1; stroke-opacity:1; fill:none\" points=\"\n",
       "  235.509,376.378 235.509,370.85 \n",
       "  \"/>\n",
       "<polyline clip-path=\"url(#clip00)\" style=\"stroke:#000000; stroke-width:1; stroke-opacity:1; fill:none\" points=\"\n",
       "  271.171,376.378 271.171,370.85 \n",
       "  \"/>\n",
       "<polyline clip-path=\"url(#clip00)\" style=\"stroke:#000000; stroke-width:1; stroke-opacity:1; fill:none\" points=\"\n",
       "  306.833,376.378 306.833,370.85 \n",
       "  \"/>\n",
       "<polyline clip-path=\"url(#clip00)\" style=\"stroke:#000000; stroke-width:1; stroke-opacity:1; fill:none\" points=\"\n",
       "  342.494,376.378 342.494,370.85 \n",
       "  \"/>\n",
       "<polyline clip-path=\"url(#clip00)\" style=\"stroke:#000000; stroke-width:1; stroke-opacity:1; fill:none\" points=\"\n",
       "  378.156,376.378 378.156,370.85 \n",
       "  \"/>\n",
       "<polyline clip-path=\"url(#clip00)\" style=\"stroke:#000000; stroke-width:1; stroke-opacity:1; fill:none\" points=\"\n",
       "  413.818,376.378 413.818,370.85 \n",
       "  \"/>\n",
       "<polyline clip-path=\"url(#clip00)\" style=\"stroke:#000000; stroke-width:1; stroke-opacity:1; fill:none\" points=\"\n",
       "  449.479,376.378 449.479,370.85 \n",
       "  \"/>\n",
       "<polyline clip-path=\"url(#clip00)\" style=\"stroke:#000000; stroke-width:1; stroke-opacity:1; fill:none\" points=\"\n",
       "  485.141,376.378 485.141,370.85 \n",
       "  \"/>\n",
       "<polyline clip-path=\"url(#clip00)\" style=\"stroke:#000000; stroke-width:1; stroke-opacity:1; fill:none\" points=\"\n",
       "  520.803,376.378 520.803,370.85 \n",
       "  \"/>\n",
       "<polyline clip-path=\"url(#clip00)\" style=\"stroke:#000000; stroke-width:1; stroke-opacity:1; fill:none\" points=\"\n",
       "  556.464,376.378 556.464,370.85 \n",
       "  \"/>\n",
       "<polyline clip-path=\"url(#clip00)\" style=\"stroke:#000000; stroke-width:1; stroke-opacity:1; fill:none\" points=\"\n",
       "  592.126,376.378 592.126,370.85 \n",
       "  \"/>\n",
       "<polyline clip-path=\"url(#clip00)\" style=\"stroke:#000000; stroke-width:1; stroke-opacity:1; fill:none\" points=\"\n",
       "  39.3701,376.378 39.3701,7.87402 \n",
       "  \"/>\n",
       "<polyline clip-path=\"url(#clip00)\" style=\"stroke:#000000; stroke-width:1; stroke-opacity:1; fill:none\" points=\"\n",
       "  39.3701,362.73 47.6614,362.73 \n",
       "  \"/>\n",
       "<polyline clip-path=\"url(#clip00)\" style=\"stroke:#000000; stroke-width:1; stroke-opacity:1; fill:none\" points=\"\n",
       "  39.3701,335.433 47.6614,335.433 \n",
       "  \"/>\n",
       "<polyline clip-path=\"url(#clip00)\" style=\"stroke:#000000; stroke-width:1; stroke-opacity:1; fill:none\" points=\"\n",
       "  39.3701,308.136 47.6614,308.136 \n",
       "  \"/>\n",
       "<polyline clip-path=\"url(#clip00)\" style=\"stroke:#000000; stroke-width:1; stroke-opacity:1; fill:none\" points=\"\n",
       "  39.3701,280.84 47.6614,280.84 \n",
       "  \"/>\n",
       "<polyline clip-path=\"url(#clip00)\" style=\"stroke:#000000; stroke-width:1; stroke-opacity:1; fill:none\" points=\"\n",
       "  39.3701,253.543 47.6614,253.543 \n",
       "  \"/>\n",
       "<polyline clip-path=\"url(#clip00)\" style=\"stroke:#000000; stroke-width:1; stroke-opacity:1; fill:none\" points=\"\n",
       "  39.3701,226.247 47.6614,226.247 \n",
       "  \"/>\n",
       "<polyline clip-path=\"url(#clip00)\" style=\"stroke:#000000; stroke-width:1; stroke-opacity:1; fill:none\" points=\"\n",
       "  39.3701,198.95 47.6614,198.95 \n",
       "  \"/>\n",
       "<polyline clip-path=\"url(#clip00)\" style=\"stroke:#000000; stroke-width:1; stroke-opacity:1; fill:none\" points=\"\n",
       "  39.3701,171.654 47.6614,171.654 \n",
       "  \"/>\n",
       "<polyline clip-path=\"url(#clip00)\" style=\"stroke:#000000; stroke-width:1; stroke-opacity:1; fill:none\" points=\"\n",
       "  39.3701,144.357 47.6614,144.357 \n",
       "  \"/>\n",
       "<polyline clip-path=\"url(#clip00)\" style=\"stroke:#000000; stroke-width:1; stroke-opacity:1; fill:none\" points=\"\n",
       "  39.3701,117.06 47.6614,117.06 \n",
       "  \"/>\n",
       "<polyline clip-path=\"url(#clip00)\" style=\"stroke:#000000; stroke-width:1; stroke-opacity:1; fill:none\" points=\"\n",
       "  39.3701,89.7638 47.6614,89.7638 \n",
       "  \"/>\n",
       "<polyline clip-path=\"url(#clip00)\" style=\"stroke:#000000; stroke-width:1; stroke-opacity:1; fill:none\" points=\"\n",
       "  39.3701,62.4672 47.6614,62.4672 \n",
       "  \"/>\n",
       "<polyline clip-path=\"url(#clip00)\" style=\"stroke:#000000; stroke-width:1; stroke-opacity:1; fill:none\" points=\"\n",
       "  39.3701,35.1706 47.6614,35.1706 \n",
       "  \"/>\n",
       "<polyline clip-path=\"url(#clip00)\" style=\"stroke:#000000; stroke-width:1; stroke-opacity:1; fill:none\" points=\"\n",
       "  39.3701,7.87402 47.6614,7.87402 \n",
       "  \"/>\n",
       "<g clip-path=\"url(#clip00)\">\n",
       "<text style=\"fill:#000000; fill-opacity:1; font-family:Arial,Helvetica Neue,Helvetica,sans-serif; font-size:12; text-anchor:middle;\" transform=\"rotate(0, 57.2009, 390.178)\" x=\"57.2009\" y=\"390.178\">0.0</text>\n",
       "</g>\n",
       "<g clip-path=\"url(#clip00)\">\n",
       "<text style=\"fill:#000000; fill-opacity:1; font-family:Arial,Helvetica Neue,Helvetica,sans-serif; font-size:12; text-anchor:middle;\" transform=\"rotate(0, 92.8626, 390.178)\" x=\"92.8626\" y=\"390.178\">0.2</text>\n",
       "</g>\n",
       "<g clip-path=\"url(#clip00)\">\n",
       "<text style=\"fill:#000000; fill-opacity:1; font-family:Arial,Helvetica Neue,Helvetica,sans-serif; font-size:12; text-anchor:middle;\" transform=\"rotate(0, 128.524, 390.178)\" x=\"128.524\" y=\"390.178\">0.4</text>\n",
       "</g>\n",
       "<g clip-path=\"url(#clip00)\">\n",
       "<text style=\"fill:#000000; fill-opacity:1; font-family:Arial,Helvetica Neue,Helvetica,sans-serif; font-size:12; text-anchor:middle;\" transform=\"rotate(0, 164.186, 390.178)\" x=\"164.186\" y=\"390.178\">0.6</text>\n",
       "</g>\n",
       "<g clip-path=\"url(#clip00)\">\n",
       "<text style=\"fill:#000000; fill-opacity:1; font-family:Arial,Helvetica Neue,Helvetica,sans-serif; font-size:12; text-anchor:middle;\" transform=\"rotate(0, 199.848, 390.178)\" x=\"199.848\" y=\"390.178\">0.8</text>\n",
       "</g>\n",
       "<g clip-path=\"url(#clip00)\">\n",
       "<text style=\"fill:#000000; fill-opacity:1; font-family:Arial,Helvetica Neue,Helvetica,sans-serif; font-size:12; text-anchor:middle;\" transform=\"rotate(0, 235.509, 390.178)\" x=\"235.509\" y=\"390.178\">1.0</text>\n",
       "</g>\n",
       "<g clip-path=\"url(#clip00)\">\n",
       "<text style=\"fill:#000000; fill-opacity:1; font-family:Arial,Helvetica Neue,Helvetica,sans-serif; font-size:12; text-anchor:middle;\" transform=\"rotate(0, 271.171, 390.178)\" x=\"271.171\" y=\"390.178\">1.2</text>\n",
       "</g>\n",
       "<g clip-path=\"url(#clip00)\">\n",
       "<text style=\"fill:#000000; fill-opacity:1; font-family:Arial,Helvetica Neue,Helvetica,sans-serif; font-size:12; text-anchor:middle;\" transform=\"rotate(0, 306.833, 390.178)\" x=\"306.833\" y=\"390.178\">1.4</text>\n",
       "</g>\n",
       "<g clip-path=\"url(#clip00)\">\n",
       "<text style=\"fill:#000000; fill-opacity:1; font-family:Arial,Helvetica Neue,Helvetica,sans-serif; font-size:12; text-anchor:middle;\" transform=\"rotate(0, 342.494, 390.178)\" x=\"342.494\" y=\"390.178\">1.6</text>\n",
       "</g>\n",
       "<g clip-path=\"url(#clip00)\">\n",
       "<text style=\"fill:#000000; fill-opacity:1; font-family:Arial,Helvetica Neue,Helvetica,sans-serif; font-size:12; text-anchor:middle;\" transform=\"rotate(0, 378.156, 390.178)\" x=\"378.156\" y=\"390.178\">1.8</text>\n",
       "</g>\n",
       "<g clip-path=\"url(#clip00)\">\n",
       "<text style=\"fill:#000000; fill-opacity:1; font-family:Arial,Helvetica Neue,Helvetica,sans-serif; font-size:12; text-anchor:middle;\" transform=\"rotate(0, 413.818, 390.178)\" x=\"413.818\" y=\"390.178\">2.0</text>\n",
       "</g>\n",
       "<g clip-path=\"url(#clip00)\">\n",
       "<text style=\"fill:#000000; fill-opacity:1; font-family:Arial,Helvetica Neue,Helvetica,sans-serif; font-size:12; text-anchor:middle;\" transform=\"rotate(0, 449.479, 390.178)\" x=\"449.479\" y=\"390.178\">2.2</text>\n",
       "</g>\n",
       "<g clip-path=\"url(#clip00)\">\n",
       "<text style=\"fill:#000000; fill-opacity:1; font-family:Arial,Helvetica Neue,Helvetica,sans-serif; font-size:12; text-anchor:middle;\" transform=\"rotate(0, 485.141, 390.178)\" x=\"485.141\" y=\"390.178\">2.4</text>\n",
       "</g>\n",
       "<g clip-path=\"url(#clip00)\">\n",
       "<text style=\"fill:#000000; fill-opacity:1; font-family:Arial,Helvetica Neue,Helvetica,sans-serif; font-size:12; text-anchor:middle;\" transform=\"rotate(0, 520.803, 390.178)\" x=\"520.803\" y=\"390.178\">2.6</text>\n",
       "</g>\n",
       "<g clip-path=\"url(#clip00)\">\n",
       "<text style=\"fill:#000000; fill-opacity:1; font-family:Arial,Helvetica Neue,Helvetica,sans-serif; font-size:12; text-anchor:middle;\" transform=\"rotate(0, 556.464, 390.178)\" x=\"556.464\" y=\"390.178\">2.8</text>\n",
       "</g>\n",
       "<g clip-path=\"url(#clip00)\">\n",
       "<text style=\"fill:#000000; fill-opacity:1; font-family:Arial,Helvetica Neue,Helvetica,sans-serif; font-size:12; text-anchor:middle;\" transform=\"rotate(0, 592.126, 390.178)\" x=\"592.126\" y=\"390.178\">3.0</text>\n",
       "</g>\n",
       "<g clip-path=\"url(#clip00)\">\n",
       "<text style=\"fill:#000000; fill-opacity:1; font-family:Arial,Helvetica Neue,Helvetica,sans-serif; font-size:12; text-anchor:end;\" transform=\"rotate(0, 33.3701, 367.23)\" x=\"33.3701\" y=\"367.23\">-2</text>\n",
       "</g>\n",
       "<g clip-path=\"url(#clip00)\">\n",
       "<text style=\"fill:#000000; fill-opacity:1; font-family:Arial,Helvetica Neue,Helvetica,sans-serif; font-size:12; text-anchor:end;\" transform=\"rotate(0, 33.3701, 339.933)\" x=\"33.3701\" y=\"339.933\">0</text>\n",
       "</g>\n",
       "<g clip-path=\"url(#clip00)\">\n",
       "<text style=\"fill:#000000; fill-opacity:1; font-family:Arial,Helvetica Neue,Helvetica,sans-serif; font-size:12; text-anchor:end;\" transform=\"rotate(0, 33.3701, 312.636)\" x=\"33.3701\" y=\"312.636\">2</text>\n",
       "</g>\n",
       "<g clip-path=\"url(#clip00)\">\n",
       "<text style=\"fill:#000000; fill-opacity:1; font-family:Arial,Helvetica Neue,Helvetica,sans-serif; font-size:12; text-anchor:end;\" transform=\"rotate(0, 33.3701, 285.34)\" x=\"33.3701\" y=\"285.34\">4</text>\n",
       "</g>\n",
       "<g clip-path=\"url(#clip00)\">\n",
       "<text style=\"fill:#000000; fill-opacity:1; font-family:Arial,Helvetica Neue,Helvetica,sans-serif; font-size:12; text-anchor:end;\" transform=\"rotate(0, 33.3701, 258.043)\" x=\"33.3701\" y=\"258.043\">6</text>\n",
       "</g>\n",
       "<g clip-path=\"url(#clip00)\">\n",
       "<text style=\"fill:#000000; fill-opacity:1; font-family:Arial,Helvetica Neue,Helvetica,sans-serif; font-size:12; text-anchor:end;\" transform=\"rotate(0, 33.3701, 230.747)\" x=\"33.3701\" y=\"230.747\">8</text>\n",
       "</g>\n",
       "<g clip-path=\"url(#clip00)\">\n",
       "<text style=\"fill:#000000; fill-opacity:1; font-family:Arial,Helvetica Neue,Helvetica,sans-serif; font-size:12; text-anchor:end;\" transform=\"rotate(0, 33.3701, 203.45)\" x=\"33.3701\" y=\"203.45\">10</text>\n",
       "</g>\n",
       "<g clip-path=\"url(#clip00)\">\n",
       "<text style=\"fill:#000000; fill-opacity:1; font-family:Arial,Helvetica Neue,Helvetica,sans-serif; font-size:12; text-anchor:end;\" transform=\"rotate(0, 33.3701, 176.154)\" x=\"33.3701\" y=\"176.154\">12</text>\n",
       "</g>\n",
       "<g clip-path=\"url(#clip00)\">\n",
       "<text style=\"fill:#000000; fill-opacity:1; font-family:Arial,Helvetica Neue,Helvetica,sans-serif; font-size:12; text-anchor:end;\" transform=\"rotate(0, 33.3701, 148.857)\" x=\"33.3701\" y=\"148.857\">14</text>\n",
       "</g>\n",
       "<g clip-path=\"url(#clip00)\">\n",
       "<text style=\"fill:#000000; fill-opacity:1; font-family:Arial,Helvetica Neue,Helvetica,sans-serif; font-size:12; text-anchor:end;\" transform=\"rotate(0, 33.3701, 121.56)\" x=\"33.3701\" y=\"121.56\">16</text>\n",
       "</g>\n",
       "<g clip-path=\"url(#clip00)\">\n",
       "<text style=\"fill:#000000; fill-opacity:1; font-family:Arial,Helvetica Neue,Helvetica,sans-serif; font-size:12; text-anchor:end;\" transform=\"rotate(0, 33.3701, 94.2638)\" x=\"33.3701\" y=\"94.2638\">18</text>\n",
       "</g>\n",
       "<g clip-path=\"url(#clip00)\">\n",
       "<text style=\"fill:#000000; fill-opacity:1; font-family:Arial,Helvetica Neue,Helvetica,sans-serif; font-size:12; text-anchor:end;\" transform=\"rotate(0, 33.3701, 66.9672)\" x=\"33.3701\" y=\"66.9672\">20</text>\n",
       "</g>\n",
       "<g clip-path=\"url(#clip00)\">\n",
       "<text style=\"fill:#000000; fill-opacity:1; font-family:Arial,Helvetica Neue,Helvetica,sans-serif; font-size:12; text-anchor:end;\" transform=\"rotate(0, 33.3701, 39.6706)\" x=\"33.3701\" y=\"39.6706\">22</text>\n",
       "</g>\n",
       "<g clip-path=\"url(#clip00)\">\n",
       "<text style=\"fill:#000000; fill-opacity:1; font-family:Arial,Helvetica Neue,Helvetica,sans-serif; font-size:12; text-anchor:end;\" transform=\"rotate(0, 33.3701, 12.374)\" x=\"33.3701\" y=\"12.374\">24</text>\n",
       "</g>\n",
       "<polyline clip-path=\"url(#clip02)\" style=\"stroke:#808080; stroke-width:1; stroke-opacity:1; fill:none\" points=\"\n",
       "  235.509,376.378 242.787,374.638 250.065,372.755 257.343,370.725 264.621,368.542 271.899,366.201 279.177,363.695 286.455,361.019 293.732,358.167 301.01,355.135 \n",
       "  308.288,351.916 315.566,348.505 322.844,344.897 330.122,341.085 337.4,337.064 344.678,332.829 351.956,328.375 359.233,323.694 366.511,318.782 373.789,313.634 \n",
       "  381.067,308.244 388.345,302.606 395.623,296.714 402.901,290.563 410.179,284.148 417.457,277.463 424.734,270.502 432.012,263.261 439.29,255.732 446.568,247.911 \n",
       "  453.846,239.792 461.124,231.369 468.402,222.638 475.68,213.592 482.958,204.225 490.235,194.533 497.513,184.51 504.791,174.15 512.069,163.447 519.347,152.396 \n",
       "  526.625,140.992 533.903,129.228 541.181,117.1 548.459,104.602 555.737,91.7272 563.014,78.4714 570.292,64.8285 577.57,50.7931 584.848,36.3596 592.126,21.5223 \n",
       "  \n",
       "  \"/>\n",
       "<polyline clip-path=\"url(#clip02)\" style=\"stroke:#000000; stroke-width:1; stroke-opacity:1; fill:none\" points=\"\n",
       "  57.2009,376.378 57.2009,7.87402 \n",
       "  \"/>\n",
       "<polyline clip-path=\"url(#clip02)\" style=\"stroke:#000000; stroke-width:1; stroke-opacity:1; fill:none\" points=\"\n",
       "  57.2009,376.378 57.2009,7.87402 \n",
       "  \"/>\n",
       "<polyline clip-path=\"url(#clip02)\" style=\"stroke:#000000; stroke-width:1; stroke-opacity:1; fill:none\" points=\"\n",
       "  39.3701,335.433 592.126,335.433 \n",
       "  \"/>\n",
       "<polyline clip-path=\"url(#clip02)\" style=\"stroke:#000000; stroke-width:1; stroke-opacity:1; fill:none\" points=\"\n",
       "  39.3701,335.433 592.126,335.433 \n",
       "  \"/>\n",
       "<circle clip-path=\"url(#clip02)\" style=\"fill:#000000; stroke:none; fill-opacity:1\" cx=\"413.818\" cy=\"280.84\" r=\"3\"/>\n",
       "<circle clip-path=\"url(#clip02)\" style=\"fill:#8dc940; stroke:none; fill-opacity:1\" cx=\"413.818\" cy=\"280.84\" r=\"2\"/>\n",
       "<polyline clip-path=\"url(#clip02)\" style=\"stroke:#8dc940; stroke-width:1; stroke-opacity:1; fill:none\" stroke-dasharray=\"8, 5\" points=\"\n",
       "  235.509,321.785 242.787,320.114 250.065,318.442 257.343,316.771 264.621,315.1 271.899,313.429 279.177,311.757 286.455,310.086 293.732,308.415 301.01,306.744 \n",
       "  308.288,305.073 315.566,303.401 322.844,301.73 330.122,300.059 337.4,298.388 344.678,296.716 351.956,295.045 359.233,293.374 366.511,291.703 373.789,290.032 \n",
       "  381.067,288.36 388.345,286.689 395.623,285.018 402.901,283.347 410.179,281.676 417.457,280.004 424.734,278.333 432.012,276.662 439.29,274.991 446.568,273.319 \n",
       "  453.846,271.648 461.124,269.977 468.402,268.306 475.68,266.635 482.958,264.963 490.235,263.292 497.513,261.621 504.791,259.95 512.069,258.278 519.347,256.607 \n",
       "  526.625,254.936 533.903,253.265 541.181,251.594 548.459,249.922 555.737,248.251 563.014,246.58 570.292,244.909 577.57,243.237 584.848,241.566 592.126,239.895 \n",
       "  \n",
       "  \"/>\n",
       "<polyline clip-path=\"url(#clip02)\" style=\"stroke:#8dc940; stroke-width:1; stroke-opacity:1; fill:none\" stroke-dasharray=\"8, 5\" points=\"\n",
       "  235.509,649.344 242.787,634.303 250.065,619.262 257.343,604.221 264.621,589.18 271.899,574.139 279.177,559.098 286.455,544.057 293.732,529.016 301.01,513.975 \n",
       "  308.288,498.934 315.566,483.893 322.844,468.852 330.122,453.811 337.4,438.77 344.678,423.729 351.956,408.688 359.233,393.647 366.511,378.606 373.789,363.565 \n",
       "  381.067,348.524 388.345,333.483 395.623,318.442 402.901,303.401 410.179,288.36 417.457,273.319 424.734,258.278 432.012,243.237 439.29,228.196 446.568,213.155 \n",
       "  453.846,198.115 461.124,183.074 468.402,168.033 475.68,152.992 482.958,137.951 490.235,122.91 497.513,107.869 504.791,92.8277 512.069,77.7867 519.347,62.7457 \n",
       "  526.625,47.7048 533.903,32.6638 541.181,17.6228 548.459,2.58182 555.737,-12.4592 563.014,-27.5001 570.292,-42.5411 577.57,-57.5821 584.848,-72.6231 592.126,-87.664 \n",
       "  \n",
       "  \"/>\n",
       "<circle clip-path=\"url(#clip02)\" style=\"fill:#000000; stroke:none; fill-opacity:1\" cx=\"311.455\" cy=\"350.456\" r=\"3\"/>\n",
       "<circle clip-path=\"url(#clip02)\" style=\"fill:#76af90; stroke:none; fill-opacity:1\" cx=\"311.455\" cy=\"350.456\" r=\"2\"/>\n",
       "<polyline clip-path=\"url(#clip02)\" style=\"stroke:#76af90; stroke-width:1; stroke-opacity:1; fill:none\" stroke-dasharray=\"8, 5\" points=\"\n",
       "  235.509,367.895 238.609,367.184 241.709,366.472 244.809,365.76 247.909,365.048 251.008,364.336 254.108,363.625 257.208,362.913 260.308,362.201 263.408,361.489 \n",
       "  266.508,360.777 269.608,360.065 272.707,359.354 275.807,358.642 278.907,357.93 282.007,357.218 285.107,356.506 288.207,355.795 291.306,355.083 294.406,354.371 \n",
       "  297.506,353.659 300.606,352.947 303.706,352.235 306.806,351.524 309.906,350.812 313.005,350.1 316.105,349.388 319.205,348.676 322.305,347.965 325.405,347.253 \n",
       "  328.505,346.541 331.604,345.829 334.704,345.117 337.804,344.406 340.904,343.694 344.004,342.982 347.104,342.27 350.203,341.558 353.303,340.846 356.403,340.135 \n",
       "  359.503,339.423 362.603,338.711 365.703,337.999 368.803,337.287 371.902,336.576 375.002,335.864 378.102,335.152 381.202,334.44 384.302,333.728 387.402,333.016 \n",
       "  \n",
       "  \"/>\n",
       "<polyline clip-path=\"url(#clip02)\" style=\"stroke:#76af90; stroke-width:1; stroke-opacity:1; fill:none\" stroke-dasharray=\"8, 5\" points=\"\n",
       "  235.509,410.262 238.609,407.821 241.709,405.38 244.809,402.939 247.909,400.498 251.008,398.057 254.108,395.616 257.208,393.175 260.308,390.734 263.408,388.293 \n",
       "  266.508,385.851 269.608,383.41 272.707,380.969 275.807,378.528 278.907,376.087 282.007,373.646 285.107,371.205 288.207,368.764 291.306,366.323 294.406,363.882 \n",
       "  297.506,361.441 300.606,359 303.706,356.559 306.806,354.118 309.906,351.676 313.005,349.235 316.105,346.794 319.205,344.353 322.305,341.912 325.405,339.471 \n",
       "  328.505,337.03 331.604,334.589 334.704,332.148 337.804,329.707 340.904,327.266 344.004,324.825 347.104,322.384 350.203,319.943 353.303,317.502 356.403,315.06 \n",
       "  359.503,312.619 362.603,310.178 365.703,307.737 368.803,305.296 371.902,302.855 375.002,300.414 378.102,297.973 381.202,295.532 384.302,293.091 387.402,290.65 \n",
       "  \n",
       "  \"/>\n",
       "<circle clip-path=\"url(#clip02)\" style=\"fill:#000000; stroke:none; fill-opacity:1\" cx=\"353.705\" cy=\"327.27\" r=\"3\"/>\n",
       "<circle clip-path=\"url(#clip02)\" style=\"fill:#2cc137; stroke:none; fill-opacity:1\" cx=\"353.705\" cy=\"327.27\" r=\"2\"/>\n",
       "<polyline clip-path=\"url(#clip02)\" style=\"stroke:#2cc137; stroke-width:1; stroke-opacity:1; fill:none\" stroke-dasharray=\"8, 5\" points=\"\n",
       "  330.533,339.774 331.478,339.264 332.424,338.753 333.37,338.243 334.316,337.732 335.262,337.222 336.207,336.712 337.153,336.201 338.099,335.691 339.045,335.181 \n",
       "  339.991,334.67 340.937,334.16 341.882,333.65 342.828,333.139 343.774,332.629 344.72,332.119 345.666,331.608 346.611,331.098 347.557,330.587 348.503,330.077 \n",
       "  349.449,329.567 350.395,329.056 351.341,328.546 352.286,328.036 353.232,327.525 354.178,327.015 355.124,326.505 356.07,325.994 357.015,325.484 357.961,324.974 \n",
       "  358.907,324.463 359.853,323.953 360.799,323.443 361.745,322.932 362.69,322.422 363.636,321.911 364.582,321.401 365.528,320.891 366.474,320.38 367.419,319.87 \n",
       "  368.365,319.36 369.311,318.849 370.257,318.339 371.203,317.829 372.149,317.318 373.094,316.808 374.04,316.298 374.986,315.787 375.932,315.277 376.878,314.766 \n",
       "  \n",
       "  \"/>\n",
       "<polyline clip-path=\"url(#clip02)\" style=\"stroke:#2cc137; stroke-width:1; stroke-opacity:1; fill:none\" stroke-dasharray=\"8, 5\" points=\"\n",
       "  330.533,344.373 331.478,343.675 332.424,342.977 333.37,342.279 334.316,341.581 335.262,340.883 336.207,340.185 337.153,339.487 338.099,338.789 339.045,338.091 \n",
       "  339.991,337.393 340.937,336.694 341.882,335.996 342.828,335.298 343.774,334.6 344.72,333.902 345.666,333.204 346.611,332.506 347.557,331.808 348.503,331.11 \n",
       "  349.449,330.412 350.395,329.714 351.341,329.015 352.286,328.317 353.232,327.619 354.178,326.921 355.124,326.223 356.07,325.525 357.015,324.827 357.961,324.129 \n",
       "  358.907,323.431 359.853,322.733 360.799,322.034 361.745,321.336 362.69,320.638 363.636,319.94 364.582,319.242 365.528,318.544 366.474,317.846 367.419,317.148 \n",
       "  368.365,316.45 369.311,315.752 370.257,315.054 371.203,314.355 372.149,313.657 373.094,312.959 374.04,312.261 374.986,311.563 375.932,310.865 376.878,310.167 \n",
       "  \n",
       "  \"/>\n",
       "<circle clip-path=\"url(#clip02)\" style=\"fill:#000000; stroke:none; fill-opacity:1\" cx=\"340.611\" cy=\"335.222\" r=\"3\"/>\n",
       "<circle clip-path=\"url(#clip02)\" style=\"fill:#7d813a; stroke:none; fill-opacity:1\" cx=\"340.611\" cy=\"335.222\" r=\"2\"/>\n",
       "<polyline clip-path=\"url(#clip02)\" style=\"stroke:#7d813a; stroke-width:1; stroke-opacity:1; fill:none\" stroke-dasharray=\"8, 5\" points=\"\n",
       "  338.577,336.386 338.66,336.338 338.743,336.291 338.826,336.243 338.909,336.196 338.992,336.148 339.075,336.101 339.158,336.053 339.241,336.006 339.324,335.958 \n",
       "  339.407,335.911 339.49,335.863 339.573,335.816 339.657,335.768 339.74,335.721 339.823,335.673 339.906,335.626 339.989,335.579 340.072,335.531 340.155,335.484 \n",
       "  340.238,335.436 340.321,335.389 340.404,335.341 340.487,335.294 340.57,335.246 340.653,335.199 340.736,335.151 340.819,335.104 340.902,335.056 340.985,335.009 \n",
       "  341.068,334.961 341.151,334.914 341.234,334.866 341.317,334.819 341.4,334.771 341.483,334.724 341.566,334.676 341.649,334.629 341.732,334.581 341.815,334.534 \n",
       "  341.898,334.487 341.981,334.439 342.064,334.392 342.147,334.344 342.23,334.297 342.313,334.249 342.396,334.202 342.479,334.154 342.563,334.107 342.646,334.059 \n",
       "  \n",
       "  \"/>\n",
       "<polyline clip-path=\"url(#clip02)\" style=\"stroke:#7d813a; stroke-width:1; stroke-opacity:1; fill:none\" stroke-dasharray=\"8, 5\" points=\"\n",
       "  338.577,336.42 338.66,336.371 338.743,336.322 338.826,336.273 338.909,336.224 338.992,336.175 339.075,336.126 339.158,336.077 339.241,336.029 339.324,335.98 \n",
       "  339.407,335.931 339.49,335.882 339.573,335.833 339.657,335.784 339.74,335.735 339.823,335.687 339.906,335.638 339.989,335.589 340.072,335.54 340.155,335.491 \n",
       "  340.238,335.442 340.321,335.393 340.404,335.345 340.487,335.296 340.57,335.247 340.653,335.198 340.736,335.149 340.819,335.1 340.902,335.051 340.985,335.003 \n",
       "  341.068,334.954 341.151,334.905 341.234,334.856 341.317,334.807 341.4,334.758 341.483,334.709 341.566,334.661 341.649,334.612 341.732,334.563 341.815,334.514 \n",
       "  341.898,334.465 341.981,334.416 342.064,334.367 342.147,334.319 342.23,334.27 342.313,334.221 342.396,334.172 342.479,334.123 342.563,334.074 342.646,334.025 \n",
       "  \n",
       "  \"/>\n",
       "<circle clip-path=\"url(#clip02)\" style=\"fill:#000000; stroke:none; fill-opacity:1\" cx=\"340.248\" cy=\"335.433\" r=\"3\"/>\n",
       "<circle clip-path=\"url(#clip02)\" style=\"fill:#b9947c; stroke:none; fill-opacity:1\" cx=\"340.248\" cy=\"335.433\" r=\"2\"/>\n",
       "<polyline clip-path=\"url(#clip02)\" style=\"stroke:#b9947c; stroke-width:1; stroke-opacity:1; fill:none\" stroke-dasharray=\"8, 5\" points=\"\n",
       "  340.243,335.436 340.243,335.436 340.243,335.436 340.244,335.435 340.244,335.435 340.244,335.435 340.244,335.435 340.244,335.435 340.245,335.435 340.245,335.435 \n",
       "  340.245,335.435 340.245,335.434 340.246,335.434 340.246,335.434 340.246,335.434 340.246,335.434 340.246,335.434 340.247,335.434 340.247,335.434 340.247,335.434 \n",
       "  340.247,335.433 340.247,335.433 340.248,335.433 340.248,335.433 340.248,335.433 340.248,335.433 340.249,335.433 340.249,335.433 340.249,335.432 340.249,335.432 \n",
       "  340.249,335.432 340.25,335.432 340.25,335.432 340.25,335.432 340.25,335.432 340.25,335.432 340.251,335.431 340.251,335.431 340.251,335.431 340.251,335.431 \n",
       "  340.251,335.431 340.252,335.431 340.252,335.431 340.252,335.431 340.252,335.43 340.253,335.43 340.253,335.43 340.253,335.43 340.253,335.43 340.253,335.43 \n",
       "  \n",
       "  \"/>\n",
       "<polyline clip-path=\"url(#clip02)\" style=\"stroke:#b9947c; stroke-width:1; stroke-opacity:1; fill:none\" stroke-dasharray=\"8, 5\" points=\"\n",
       "  340.243,335.436 340.243,335.436 340.243,335.436 340.244,335.435 340.244,335.435 340.244,335.435 340.244,335.435 340.244,335.435 340.245,335.435 340.245,335.435 \n",
       "  340.245,335.435 340.245,335.434 340.246,335.434 340.246,335.434 340.246,335.434 340.246,335.434 340.246,335.434 340.247,335.434 340.247,335.434 340.247,335.434 \n",
       "  340.247,335.433 340.247,335.433 340.248,335.433 340.248,335.433 340.248,335.433 340.248,335.433 340.249,335.433 340.249,335.433 340.249,335.432 340.249,335.432 \n",
       "  340.249,335.432 340.25,335.432 340.25,335.432 340.25,335.432 340.25,335.432 340.25,335.432 340.251,335.431 340.251,335.431 340.251,335.431 340.251,335.431 \n",
       "  340.251,335.431 340.252,335.431 340.252,335.431 340.252,335.431 340.252,335.43 340.253,335.43 340.253,335.43 340.253,335.43 340.253,335.43 340.253,335.43 \n",
       "  \n",
       "  \"/>\n",
       "<polygon clip-path=\"url(#clip00)\" points=\"\n",
       "448.621,58.994 574.126,58.994 574.126,28.754 448.621,28.754 \n",
       "  \" fill=\"#ffffff\" fill-opacity=\"1\"/>\n",
       "<polyline clip-path=\"url(#clip00)\" style=\"stroke:#000000; stroke-width:1; stroke-opacity:1; fill:none\" points=\"\n",
       "  448.621,58.994 574.126,58.994 574.126,28.754 448.621,28.754 448.621,58.994 \n",
       "  \"/>\n",
       "<polyline clip-path=\"url(#clip00)\" style=\"stroke:#808080; stroke-width:1; stroke-opacity:1; fill:none\" points=\"\n",
       "  454.621,43.874 490.621,43.874 \n",
       "  \"/>\n",
       "<g clip-path=\"url(#clip00)\">\n",
       "<text style=\"fill:#000000; fill-opacity:1; font-family:Arial,Helvetica Neue,Helvetica,sans-serif; font-size:12; text-anchor:start;\" transform=\"rotate(0, 496.621, 48.374)\" x=\"496.621\" y=\"48.374\">f(x) = x^3 -4</text>\n",
       "</g>\n",
       "</svg>\n"
      ]
     },
     "execution_count": 15,
     "metadata": {},
     "output_type": "execute_result"
    }
   ],
   "source": [
    "f(x) = x^3 - 4\n",
    "X = Intervalo(1,3)\n",
    "xs = linspace(X.inf, X.sup, 50)\n",
    "\n",
    "plot(xlim = (-0.1,3), ylim = (-3, 24),xtick = 0:0.2:3, yticks = -2:2:26 )\n",
    "plot!(xs, f.(xs),  color = :grey ,label = \"f(x) = x^3 -4\")\n",
    "vline!([0,0], color = :black, label = \"\")\n",
    "hline!([0,0], color = :black, label = \"\")\n",
    "\n",
    "\n",
    "for i in 1:5\n",
    "    a,b,c = rand(), rand(), rand()\n",
    "    x0 = mid(X)\n",
    "    scatter!((x0, f(x0)), markersize = 3, color=RGB(a,b,c), label=\"\")\n",
    "\n",
    "    xs, xpsinf,xpssup = mrecta(f, X)\n",
    "    plot!(xs, xpsinf, line=:dash, color=RGB(a,b,c), label=\"\")\n",
    "    plot!(xs, xpssup, line=:dash, color=RGB(a,b,c), label=\"\")\n",
    "    \n",
    "    X = newtonIntervalo(f, X,1)\n",
    "\n",
    "end\n",
    "plot!()"
   ]
  },
  {
   "cell_type": "markdown",
   "metadata": {},
   "source": [
    "Se sabe que el operador de Newton satisface el siguiente teorema fuerte:\n",
    "\n",
    "> Supongamos que $f(x)$ sea doblemente continua y diferenciable y $N_f(X)$ esté bien definida en el intervalo $X$. Entonces:\n",
    "\n",
    "> 1. Si $N_f(X)\\cap X = \\emptyset$, entonces $X$ no contiene ninguna raíz de $f$.\n",
    "\n",
    "> 2. Si $N_f(X)  \\subseteq X$, entonces $X$ contiene exactamente una raíz de $f$."
   ]
  },
  {
   "cell_type": "markdown",
   "metadata": {},
   "source": [
    "## División extendida "
   ]
  },
  {
   "cell_type": "markdown",
   "metadata": {},
   "source": [
    "Hasta ahora, sólo hemos podido tratar el caso en el cual la derivada $F'(X)$ no contiene $0$, ya que el operador de Newton contiene una división por este intervalo. \n",
    "\n",
    "Sin embargo, resulta que también es posible tratar este caso, mediante la llamada \"división extendida\"."
   ]
  },
  {
   "cell_type": "markdown",
   "metadata": {},
   "source": [
    "**[5]** Supón que $F'(X)$ sea un intervalo, digamos $F'(X) = [-a, b]$, que contiene $0$ (con $a > 0$ y  $b > 0$). \n",
    "\n",
    "(i) Sea $A \\subseteq \\mathbb{R}$. Recuerda la definición de $1/A$ como conjunto. \n",
    "* $\\frac{1}{A} =\n",
    "  \\begin{cases}\n",
    "    [-\\infty,-\\frac{1}{a}]\\cup [\\frac{1}{b},\\infty]      & \\quad \\text{si } 0\\in A \\text{ y } a,b \\neq 0  \\\\\n",
    "    [1/a, \\infty]       & \\quad \\text{si } 0\\in A \\text{ y } b=0  \\\\\n",
    "    [-\\infty,-1/b]       & \\quad \\text{si } 0\\in A \\text{ y } a=0  \\\\\n",
    "  \\end{cases}\n",
    "$\n",
    "\n",
    "\n",
    "(ii) Así, evalúa $1 / F'(X)$. \n",
    "\n",
    "* $\\frac{1}{ F'(X)} =\n",
    "  \\begin{cases}\n",
    "    [-\\infty,-\\frac{1}{a}]\\cup [\\frac{1}{b},\\infty]      & \\quad \\text{si } 0\\in A \\text{ y } a,b \\neq 0  \\\\\n",
    "    [1/a, \\infty]       & \\quad \\text{si } 0\\in A \\text{ y } b=0  \\\\\n",
    "    [-\\infty,-1/b]       & \\quad \\text{si } 0\\in A \\text{ y } a=0  \\\\\n",
    "  \\end{cases}$\n",
    "\n",
    "(iii) Define una función que implementa esta \"división extendida\" de intervalos (o, más bien, inversa extendida). [Pista: ¿Qué tipo de objeto debe regresar esta función?]"
   ]
  },
  {
   "cell_type": "code",
   "execution_count": 16,
   "metadata": {},
   "outputs": [
    {
     "data": {
      "text/plain": [
       "⊂ (generic function with 1 method)"
      ]
     },
     "execution_count": 16,
     "metadata": {},
     "output_type": "execute_result"
    }
   ],
   "source": [
    "import Base: ∪\n",
    "\n",
    "function ∪(x::Intervalo, y::Intervalo)\n",
    "    Intervalo(min(x.inf, y.inf), max(x.sup, y.sup))\n",
    "end\n",
    "\n",
    "function ⊂(x::Intervalo, y::Intervalo)\n",
    "    if x.inf ∈ y && x.sup ∈ y \n",
    "        if x.inf != y.inf && x.sup == y.sup \n",
    "            true\n",
    "        elseif x.inf == y.inf && x.sup != y.sup \n",
    "            true \n",
    "        elseif  x.inf != y.inf && x.sup != y.sup \n",
    "            true\n",
    "        elseif x.inf == y.inf && x.sup == y.sup\n",
    "            true\n",
    "        end\n",
    "    elseif x == Intervalo(NaN, NaN) && y != Intervalo(NaN, NaN)\n",
    "        true\n",
    "    else\n",
    "        false\n",
    "    end\n",
    "end\n"
   ]
  },
  {
   "cell_type": "code",
   "execution_count": 17,
   "metadata": {},
   "outputs": [
    {
     "name": "stdout",
     "output_type": "stream",
     "text": [
      "\u001b[1m\u001b[37mTest Summary: | \u001b[39m\u001b[22m\u001b[1m\u001b[32mPass  \u001b[39m\u001b[22m\u001b[1m\u001b[36mTotal\u001b[39m\u001b[22m\n",
      "Pruebas ⊂     | \u001b[32m   7  \u001b[39m\u001b[36m    7\u001b[39m\n"
     ]
    }
   ],
   "source": [
    "@testset \"Pruebas ⊂\" begin\n",
    "    \n",
    " @test Intervalo(1.0, 2.0) ⊂ Intervalo(1.0, 2.0)\n",
    " @test Intervalo(1.0, 2.0) ⊂ Intervalo(0.0, 3.0) \n",
    " @test Intervalo(1.0, 3.0) ⊂ Intervalo(-1.0, 3.0)\n",
    " @test (Intervalo(1.0, 2.0) ⊂ Intervalo(3.0, 4.0)) == false\n",
    " @test Intervalo(1.0, 2.0) ⊂ Intervalo(0.5, 3.0)\n",
    " @test (Intervalo(NaN,NaN) ⊂ Intervalo(NaN,NaN)) == false\n",
    " @test Intervalo(NaN,NaN) ⊂ Intervalo(1,3)\n",
    "    \n",
    "end;"
   ]
  },
  {
   "cell_type": "code",
   "execution_count": 18,
   "metadata": {},
   "outputs": [
    {
     "data": {
      "text/plain": [
       "inversaExtendida (generic function with 1 method)"
      ]
     },
     "execution_count": 18,
     "metadata": {},
     "output_type": "execute_result"
    }
   ],
   "source": [
    "function inversaExtendida(x::Intervalo)\n",
    "    output = Array{Intervalo}(0)\n",
    "    if sign(x.inf) != sign(x.sup) && x.inf != 0.0 && x.sup != 0.0\n",
    "        push!(output,Intervalo(-Inf, 1/(x.inf)), Intervalo(1/(x.sup), Inf))\n",
    "    elseif  x.inf == 0.0\n",
    "        push!(output,Intervalo(1/(x.sup), Inf))\n",
    "    elseif x.sup == 0.0\n",
    "        push!(output,Intervalo(-Inf, 1/(x.inf)))\n",
    "    else\n",
    "        push!(output,Intervalo(min(1/x.inf, 1/x.sup), max(1/x.inf, 1/x.sup)))\n",
    "    end\n",
    "end"
   ]
  },
  {
   "cell_type": "code",
   "execution_count": 19,
   "metadata": {},
   "outputs": [
    {
     "name": "stdout",
     "output_type": "stream",
     "text": [
      "FpI = (fprimaIntervalo(H, I), derivada(H, I)) = (Intervalos.Intervalo(-3.0, 9.0), Intervalos.Intervalo(-15.0, 9.0))\n"
     ]
    }
   ],
   "source": [
    "function fprimaIntervalo(f, x::Intervalo, N::Int64=11) \n",
    "    xI = []\n",
    "    \n",
    "    if x.inf == -Inf || x.sup == Inf\n",
    "        x0 = mid(x)\n",
    "        x.inf == -Inf ? xs = collect(linspace(x0, x.sup, N)) :  \n",
    "        xs = collect(linspace(x.inf, x0, N))\n",
    "    else\n",
    "        xs = collect(linspace(x.inf, x.sup, N))\n",
    "    end\n",
    "    \n",
    "    for i in 1:N - 1 \n",
    "        push!(xI , derivada(f, Intervalo(xs[i], xs[i+1])))\n",
    "    end\n",
    "\n",
    "    X = xI[1] ∪ xI[2] \n",
    "    \n",
    "    for i in 3:N-1\n",
    "        X = X ∪ xI[i]\n",
    "    end\n",
    "    X\n",
    "end\n",
    "\n",
    "H(x) = x^3 - 3x\n",
    "I = Intervalo(-2, 2)\n",
    "@show FpI = fprimaIntervalo(H, I), derivada(H, I);"
   ]
  },
  {
   "cell_type": "code",
   "execution_count": 20,
   "metadata": {},
   "outputs": [
    {
     "data": {
      "text/plain": [
       "2-element Array{Intervalos.Intervalo,1}:\n",
       " Intervalos.Intervalo(-Inf, -0.333333)\n",
       " Intervalos.Intervalo(0.333333, Inf)  "
      ]
     },
     "execution_count": 20,
     "metadata": {},
     "output_type": "execute_result"
    }
   ],
   "source": [
    "inversaExtendida(Intervalo(-3,3))"
   ]
  },
  {
   "cell_type": "markdown",
   "metadata": {},
   "source": [
    "https://github.com/MikeInnes/Traceur.jl"
   ]
  },
  {
   "cell_type": "markdown",
   "metadata": {},
   "source": [
    "**[6]** Resulta que el método de Newton sigue funcionando si utilizamos esta división extendida cuándo sea apropiado. \n",
    "\n",
    "(i) Impleméntalo para encontrar *todas* las raíces de una función en un intervalo dado.\n",
    "\n",
    "(ii) Escoge una función con dos raíces. Muestra gráficamente lo que está ocurriendo.\n",
    "\n",
    "(iii) Nota que hay casos en los cuales no ocurre ninguna de las posibilidades (1) ni (2) en el teorema del método de Newton para intervalos. ¿Qué se puede hacer en este caso?"
   ]
  },
  {
   "cell_type": "code",
   "execution_count": 21,
   "metadata": {},
   "outputs": [
    {
     "data": {
      "text/plain": [
       "OperadorNewton (generic function with 2 methods)"
      ]
     },
     "execution_count": 21,
     "metadata": {},
     "output_type": "execute_result"
    }
   ],
   "source": [
    "function OperadorNewton(f,X0::Intervalo, Xp0::Intervalo)\n",
    "    x0 = mid(X0)\n",
    "    f(x0) == 0.0 ? x0 = mid(X0, false): nothing\n",
    "    \n",
    "    Nf = x0 - f(x0)*Xp0\n",
    "end"
   ]
  },
  {
   "cell_type": "code",
   "execution_count": 22,
   "metadata": {},
   "outputs": [
    {
     "data": {
      "text/plain": [
       "newtonIntervalo2 (generic function with 3 methods)"
      ]
     },
     "execution_count": 22,
     "metadata": {},
     "output_type": "execute_result"
    }
   ],
   "source": [
    "function newtonIntervalo2(f, X0::Intervalo, n::Int64 = 10, tolerancia::Float64 = 1e-10 )\n",
    "    roots = Intervalo[]\n",
    "    \n",
    "    if 0.0 ∈ derivada(f, X0)\n",
    "        X01 = [X0, X0]\n",
    "        for i in 1:2\n",
    "            Xp01 = inversaExtendida(derivada(f,X0))\n",
    "            \n",
    "            for j in 1:n\n",
    "                if 0.0 ∉ derivada(f, X01[i])\n",
    "                    Nf1 = OperadorNewton(f, X01[i])\n",
    "                else\n",
    "                    Nf1 = OperadorNewton(f, X01[i],Xp01[i])\n",
    "                end\n",
    "                X01[i] = Nf1 ∩ X01[i]\n",
    "                (X01[i] == Intervalo(NaN,NaN)) && break\n",
    "                (diametro(X01[i]) == 0.0) && break\n",
    "            end\n",
    "        end\n",
    "        push!(roots, X01[1], X01[2])    \n",
    "    else\n",
    "        rr = newtonIntervalo(f, X0, n, tolerancia)\n",
    "        push!(roots, rr)\n",
    "    end\n",
    "    roots\n",
    "end"
   ]
  },
  {
   "cell_type": "code",
   "execution_count": 23,
   "metadata": {},
   "outputs": [
    {
     "data": {
      "text/plain": [
       "2-element Array{Intervalos.Intervalo,1}:\n",
       " Intervalos.Intervalo(0.0, 0.0)          \n",
       " Intervalos.Intervalo(-1.73205, -1.73205)"
      ]
     },
     "execution_count": 23,
     "metadata": {},
     "output_type": "execute_result"
    }
   ],
   "source": [
    "f(x) = x^3 -3x \n",
    "I = Intervalo(-3, 0.5)\n",
    "newtonIntervalo2(f, I)"
   ]
  },
  {
   "cell_type": "code",
   "execution_count": 24,
   "metadata": {},
   "outputs": [
    {
     "data": {
      "text/plain": [
       "uniqueRoot (generic function with 1 method)"
      ]
     },
     "execution_count": 24,
     "metadata": {},
     "output_type": "execute_result"
    }
   ],
   "source": [
    "function uniqueRoot(x::Intervalo, y::Intervalo)\n",
    "    if x != Intervalo(NaN, NaN) && (x.inf == y.inf || x.sup == y.sup)\n",
    "        -1\n",
    "    elseif x != Intervalo(NaN, NaN) && x ⊂ y\n",
    "        1\n",
    "    elseif x ∩ y == Intervalo(NaN, NaN)\n",
    "        0\n",
    "    else\n",
    "        0\n",
    "    end\n",
    "end"
   ]
  },
  {
   "cell_type": "code",
   "execution_count": 25,
   "metadata": {},
   "outputs": [
    {
     "name": "stdout",
     "output_type": "stream",
     "text": [
      "\u001b[1m\u001b[37mTest Summary:      | \u001b[39m\u001b[22m\u001b[1m\u001b[32mPass  \u001b[39m\u001b[22m\u001b[1m\u001b[36mTotal\u001b[39m\u001b[22m\n",
      "Pruebas uniqueRoot | \u001b[32m   4  \u001b[39m\u001b[36m    4\u001b[39m\n"
     ]
    }
   ],
   "source": [
    "@testset \"Pruebas uniqueRoot\" begin\n",
    "    \n",
    "    @test uniqueRoot(Intervalo(1.0, 10), Intervalo(15.0,20)) == 0\n",
    "    @test uniqueRoot(Intervalo(1.0, 10), Intervalo(1.0,20)) == -1\n",
    "    @test uniqueRoot(Intervalo(1.0, 10),Intervalo(-21.0, 24.0)) == 1 \n",
    "    @test uniqueRoot(Intervalo(1.0, 10),Intervalo(1.0, 10.0)) == -1\n",
    "    \n",
    "    end;"
   ]
  },
  {
   "cell_type": "code",
   "execution_count": 26,
   "metadata": {
    "scrolled": true
   },
   "outputs": [
    {
     "data": {
      "text/plain": [
       "bisection (generic function with 1 method)"
      ]
     },
     "execution_count": 26,
     "metadata": {},
     "output_type": "execute_result"
    }
   ],
   "source": [
    "function bisection(x::Intervalo)\n",
    "    x0 = mid(x, false)\n",
    "    Intervalo[Intervalo(x.inf, x0),Intervalo(x0,x.sup)]\n",
    "end"
   ]
  },
  {
   "cell_type": "code",
   "execution_count": 27,
   "metadata": {
    "scrolled": true
   },
   "outputs": [
    {
     "data": {
      "text/plain": [
       "2-element Array{Intervalos.Intervalo,1}:\n",
       " Intervalos.Intervalo(-10.0, -4.48926)\n",
       " Intervalos.Intervalo(-4.48926, 1.0)  "
      ]
     },
     "execution_count": 27,
     "metadata": {},
     "output_type": "execute_result"
    }
   ],
   "source": [
    "bisection(Intervalo(-10, 1))"
   ]
  },
  {
   "cell_type": "code",
   "execution_count": 28,
   "metadata": {},
   "outputs": [
    {
     "data": {
      "text/plain": [
       "sinRepetidos (generic function with 1 method)"
      ]
     },
     "execution_count": 28,
     "metadata": {},
     "output_type": "execute_result"
    }
   ],
   "source": [
    "function sinRepetidos(X::Intervalo, Xs::Array{Intervalo,1})\n",
    "    sinRepetir = true\n",
    "    for i in 1:length(Xs)\n",
    "        if Xs[i] == X\n",
    "            sinRepetir = false\n",
    "            break\n",
    "        end\n",
    "    end\n",
    "    sinRepetir\n",
    "end"
   ]
  },
  {
   "cell_type": "code",
   "execution_count": 29,
   "metadata": {},
   "outputs": [
    {
     "data": {
      "text/plain": [
       "newtonIntervalExten (generic function with 4 methods)"
      ]
     },
     "execution_count": 29,
     "metadata": {},
     "output_type": "execute_result"
    }
   ],
   "source": [
    "function newtonIntervalExten(f, X0::Intervalo, roots = Intervalo[], n::Int64 = 10, tolerancia::Float64 = 1e-10 )\n",
    "    dx = derivada(f, X0)\n",
    "    \n",
    "    if 0.0 ∉ dx\n",
    "        root = newtonIntervalo2(f, X0, n, tolerancia)\n",
    "        for j in 1:length(root)\n",
    "            if root[j] != Intervalo(NaN,NaN) && sinRepetidos(root[j], roots)\n",
    "                push!(roots, root[j])\n",
    "            end\n",
    "        end        \n",
    "    else\n",
    "\n",
    "        Xp = inversaExtendida(dx)\n",
    "        Nf = OperadorNewton.(f, X0, Xp)\n",
    "        X1 = Nf .∩ X0\n",
    "        i = 1\n",
    "        while i != length(X1) + 1\n",
    "            if uniqueRoot(X1[i], X0) == 1\n",
    "                root = newtonIntervalo2(f, X1[i], n, tolerancia)\n",
    "                for j in 1:length(root)\n",
    "                    if root[j] != Intervalo(NaN,NaN) && sinRepetidos(root[j], roots)\n",
    "                         push!(roots, root[j])\n",
    "                    end\n",
    "                end\n",
    "                i += 1\n",
    "            elseif uniqueRoot(X1[i], X0) == -1\n",
    "                Xbis = bisection(X1[i])\n",
    "                for j in 1:2\n",
    "                    root = newtonIntervalExten(f, Xbis[j], roots)\n",
    "                    for k in 1:length(root)\n",
    "                        if root[k] != Intervalo(NaN,NaN) && sinRepetidos(root[k], roots)\n",
    "                             push!(roots, root[k])\n",
    "                        end\n",
    "                    end\n",
    "                end\n",
    "                i += 1\n",
    "            else uniqueRoot(X1[i], X0) == 0\n",
    "                deleteat!(X1, i)\n",
    "            end\n",
    "        end\n",
    "    end\n",
    "    roots\n",
    "end"
   ]
  },
  {
   "cell_type": "code",
   "execution_count": 30,
   "metadata": {},
   "outputs": [
    {
     "data": {
      "text/html": [
       "<?xml version=\"1.0\" encoding=\"utf-8\"?>\n",
       "<svg xmlns=\"http://www.w3.org/2000/svg\" xmlns:xlink=\"http://www.w3.org/1999/xlink\" width=\"600\" height=\"400\" viewBox=\"0 0 600 400\">\n",
       "<defs>\n",
       "  <clipPath id=\"clip00\">\n",
       "    <rect x=\"0\" y=\"0\" width=\"600\" height=\"400\"/>\n",
       "  </clipPath>\n",
       "</defs>\n",
       "<polygon clip-path=\"url(#clip00)\" points=\"\n",
       "0,400 600,400 600,0 0,0 \n",
       "  \" fill=\"#ffffff\" fill-opacity=\"1\"/>\n",
       "<defs>\n",
       "  <clipPath id=\"clip01\">\n",
       "    <rect x=\"120\" y=\"0\" width=\"421\" height=\"400\"/>\n",
       "  </clipPath>\n",
       "</defs>\n",
       "<polygon clip-path=\"url(#clip00)\" points=\"\n",
       "39.3701,376.378 592.126,376.378 592.126,7.87402 39.3701,7.87402 \n",
       "  \" fill=\"#ffffff\" fill-opacity=\"1\"/>\n",
       "<defs>\n",
       "  <clipPath id=\"clip02\">\n",
       "    <rect x=\"39\" y=\"7\" width=\"554\" height=\"370\"/>\n",
       "  </clipPath>\n",
       "</defs>\n",
       "<polyline clip-path=\"url(#clip02)\" style=\"stroke:#000000; stroke-width:0.5; stroke-opacity:0.1; fill:none\" points=\"\n",
       "  39.3701,370.85 39.3701,13.4016 \n",
       "  \"/>\n",
       "<polyline clip-path=\"url(#clip02)\" style=\"stroke:#000000; stroke-width:0.5; stroke-opacity:0.1; fill:none\" points=\"\n",
       "  131.496,370.85 131.496,13.4016 \n",
       "  \"/>\n",
       "<polyline clip-path=\"url(#clip02)\" style=\"stroke:#000000; stroke-width:0.5; stroke-opacity:0.1; fill:none\" points=\"\n",
       "  223.622,370.85 223.622,13.4016 \n",
       "  \"/>\n",
       "<polyline clip-path=\"url(#clip02)\" style=\"stroke:#000000; stroke-width:0.5; stroke-opacity:0.1; fill:none\" points=\"\n",
       "  315.748,370.85 315.748,13.4016 \n",
       "  \"/>\n",
       "<polyline clip-path=\"url(#clip02)\" style=\"stroke:#000000; stroke-width:0.5; stroke-opacity:0.1; fill:none\" points=\"\n",
       "  407.874,370.85 407.874,13.4016 \n",
       "  \"/>\n",
       "<polyline clip-path=\"url(#clip02)\" style=\"stroke:#000000; stroke-width:0.5; stroke-opacity:0.1; fill:none\" points=\"\n",
       "  500,370.85 500,13.4016 \n",
       "  \"/>\n",
       "<polyline clip-path=\"url(#clip02)\" style=\"stroke:#000000; stroke-width:0.5; stroke-opacity:0.1; fill:none\" points=\"\n",
       "  592.126,370.85 592.126,13.4016 \n",
       "  \"/>\n",
       "<polyline clip-path=\"url(#clip02)\" style=\"stroke:#000000; stroke-width:0.5; stroke-opacity:0.1; fill:none\" points=\"\n",
       "  47.6614,294.488 583.835,294.488 \n",
       "  \"/>\n",
       "<polyline clip-path=\"url(#clip02)\" style=\"stroke:#000000; stroke-width:0.5; stroke-opacity:0.1; fill:none\" points=\"\n",
       "  47.6614,192.126 583.835,192.126 \n",
       "  \"/>\n",
       "<polyline clip-path=\"url(#clip02)\" style=\"stroke:#000000; stroke-width:0.5; stroke-opacity:0.1; fill:none\" points=\"\n",
       "  47.6614,89.7638 583.835,89.7638 \n",
       "  \"/>\n",
       "<polyline clip-path=\"url(#clip00)\" style=\"stroke:#000000; stroke-width:1; stroke-opacity:1; fill:none\" points=\"\n",
       "  39.3701,376.378 592.126,376.378 \n",
       "  \"/>\n",
       "<polyline clip-path=\"url(#clip00)\" style=\"stroke:#000000; stroke-width:1; stroke-opacity:1; fill:none\" points=\"\n",
       "  39.3701,376.378 39.3701,370.85 \n",
       "  \"/>\n",
       "<polyline clip-path=\"url(#clip00)\" style=\"stroke:#000000; stroke-width:1; stroke-opacity:1; fill:none\" points=\"\n",
       "  131.496,376.378 131.496,370.85 \n",
       "  \"/>\n",
       "<polyline clip-path=\"url(#clip00)\" style=\"stroke:#000000; stroke-width:1; stroke-opacity:1; fill:none\" points=\"\n",
       "  223.622,376.378 223.622,370.85 \n",
       "  \"/>\n",
       "<polyline clip-path=\"url(#clip00)\" style=\"stroke:#000000; stroke-width:1; stroke-opacity:1; fill:none\" points=\"\n",
       "  315.748,376.378 315.748,370.85 \n",
       "  \"/>\n",
       "<polyline clip-path=\"url(#clip00)\" style=\"stroke:#000000; stroke-width:1; stroke-opacity:1; fill:none\" points=\"\n",
       "  407.874,376.378 407.874,370.85 \n",
       "  \"/>\n",
       "<polyline clip-path=\"url(#clip00)\" style=\"stroke:#000000; stroke-width:1; stroke-opacity:1; fill:none\" points=\"\n",
       "  500,376.378 500,370.85 \n",
       "  \"/>\n",
       "<polyline clip-path=\"url(#clip00)\" style=\"stroke:#000000; stroke-width:1; stroke-opacity:1; fill:none\" points=\"\n",
       "  592.126,376.378 592.126,370.85 \n",
       "  \"/>\n",
       "<polyline clip-path=\"url(#clip00)\" style=\"stroke:#000000; stroke-width:1; stroke-opacity:1; fill:none\" points=\"\n",
       "  39.3701,376.378 39.3701,7.87402 \n",
       "  \"/>\n",
       "<polyline clip-path=\"url(#clip00)\" style=\"stroke:#000000; stroke-width:1; stroke-opacity:1; fill:none\" points=\"\n",
       "  39.3701,294.488 47.6614,294.488 \n",
       "  \"/>\n",
       "<polyline clip-path=\"url(#clip00)\" style=\"stroke:#000000; stroke-width:1; stroke-opacity:1; fill:none\" points=\"\n",
       "  39.3701,192.126 47.6614,192.126 \n",
       "  \"/>\n",
       "<polyline clip-path=\"url(#clip00)\" style=\"stroke:#000000; stroke-width:1; stroke-opacity:1; fill:none\" points=\"\n",
       "  39.3701,89.7638 47.6614,89.7638 \n",
       "  \"/>\n",
       "<g clip-path=\"url(#clip00)\">\n",
       "<text style=\"fill:#000000; fill-opacity:1; font-family:Arial,Helvetica Neue,Helvetica,sans-serif; font-size:12; text-anchor:middle;\" transform=\"rotate(0, 39.3701, 390.178)\" x=\"39.3701\" y=\"390.178\">-3</text>\n",
       "</g>\n",
       "<g clip-path=\"url(#clip00)\">\n",
       "<text style=\"fill:#000000; fill-opacity:1; font-family:Arial,Helvetica Neue,Helvetica,sans-serif; font-size:12; text-anchor:middle;\" transform=\"rotate(0, 131.496, 390.178)\" x=\"131.496\" y=\"390.178\">-2</text>\n",
       "</g>\n",
       "<g clip-path=\"url(#clip00)\">\n",
       "<text style=\"fill:#000000; fill-opacity:1; font-family:Arial,Helvetica Neue,Helvetica,sans-serif; font-size:12; text-anchor:middle;\" transform=\"rotate(0, 223.622, 390.178)\" x=\"223.622\" y=\"390.178\">-1</text>\n",
       "</g>\n",
       "<g clip-path=\"url(#clip00)\">\n",
       "<text style=\"fill:#000000; fill-opacity:1; font-family:Arial,Helvetica Neue,Helvetica,sans-serif; font-size:12; text-anchor:middle;\" transform=\"rotate(0, 315.748, 390.178)\" x=\"315.748\" y=\"390.178\">0</text>\n",
       "</g>\n",
       "<g clip-path=\"url(#clip00)\">\n",
       "<text style=\"fill:#000000; fill-opacity:1; font-family:Arial,Helvetica Neue,Helvetica,sans-serif; font-size:12; text-anchor:middle;\" transform=\"rotate(0, 407.874, 390.178)\" x=\"407.874\" y=\"390.178\">1</text>\n",
       "</g>\n",
       "<g clip-path=\"url(#clip00)\">\n",
       "<text style=\"fill:#000000; fill-opacity:1; font-family:Arial,Helvetica Neue,Helvetica,sans-serif; font-size:12; text-anchor:middle;\" transform=\"rotate(0, 500, 390.178)\" x=\"500\" y=\"390.178\">2</text>\n",
       "</g>\n",
       "<g clip-path=\"url(#clip00)\">\n",
       "<text style=\"fill:#000000; fill-opacity:1; font-family:Arial,Helvetica Neue,Helvetica,sans-serif; font-size:12; text-anchor:middle;\" transform=\"rotate(0, 592.126, 390.178)\" x=\"592.126\" y=\"390.178\">3</text>\n",
       "</g>\n",
       "<g clip-path=\"url(#clip00)\">\n",
       "<text style=\"fill:#000000; fill-opacity:1; font-family:Arial,Helvetica Neue,Helvetica,sans-serif; font-size:12; text-anchor:end;\" transform=\"rotate(0, 33.3701, 298.988)\" x=\"33.3701\" y=\"298.988\">-10</text>\n",
       "</g>\n",
       "<g clip-path=\"url(#clip00)\">\n",
       "<text style=\"fill:#000000; fill-opacity:1; font-family:Arial,Helvetica Neue,Helvetica,sans-serif; font-size:12; text-anchor:end;\" transform=\"rotate(0, 33.3701, 196.626)\" x=\"33.3701\" y=\"196.626\">0</text>\n",
       "</g>\n",
       "<g clip-path=\"url(#clip00)\">\n",
       "<text style=\"fill:#000000; fill-opacity:1; font-family:Arial,Helvetica Neue,Helvetica,sans-serif; font-size:12; text-anchor:end;\" transform=\"rotate(0, 33.3701, 94.2638)\" x=\"33.3701\" y=\"94.2638\">10</text>\n",
       "</g>\n",
       "<polyline clip-path=\"url(#clip02)\" style=\"stroke:#009af9; stroke-width:1; stroke-opacity:1; fill:none\" points=\"\n",
       "  39.3701,376.378 44.8976,361.967 50.4252,348.207 55.9528,335.083 61.4803,322.582 67.0079,310.692 72.5354,299.399 78.063,288.689 83.5906,278.55 89.1181,268.969 \n",
       "  94.6457,259.931 100.173,251.423 105.701,243.434 111.228,235.948 116.756,228.953 122.283,222.435 127.811,216.382 133.339,210.78 138.866,205.616 144.394,200.876 \n",
       "  149.921,196.548 155.449,192.618 160.976,189.072 166.504,185.898 172.031,183.081 177.559,180.61 183.087,178.471 188.614,176.65 194.142,175.134 199.669,173.909 \n",
       "  205.197,172.964 210.724,172.284 216.252,171.855 221.78,171.666 227.307,171.702 232.835,171.95 238.362,172.398 243.89,173.031 249.417,173.836 254.945,174.801 \n",
       "  260.472,175.912 266,177.155 271.528,178.518 277.055,179.987 282.583,181.548 288.11,183.19 293.638,184.897 299.165,186.658 304.693,188.459 310.22,190.286 \n",
       "  315.748,192.126 321.276,193.966 326.803,195.793 332.331,197.594 337.858,199.355 343.386,201.062 348.913,202.704 354.441,204.265 359.969,205.734 365.496,207.097 \n",
       "  371.024,208.34 376.551,209.451 382.079,210.416 387.606,211.221 393.134,211.854 398.661,212.302 404.189,212.55 409.717,212.586 415.244,212.397 420.772,211.968 \n",
       "  426.299,211.288 431.827,210.343 437.354,209.118 442.882,207.602 448.409,205.781 453.937,203.642 459.465,201.171 464.992,198.354 470.52,195.18 476.047,191.634 \n",
       "  481.575,187.704 487.102,183.375 492.63,178.636 498.157,173.472 503.685,167.87 509.213,161.817 514.74,155.299 520.268,148.304 525.795,140.818 531.323,132.829 \n",
       "  536.85,124.321 542.378,115.283 547.906,105.701 553.433,95.5625 558.961,84.853 564.488,73.5598 570.016,61.6697 575.543,49.1693 581.071,36.0454 586.598,22.2847 \n",
       "  592.126,7.87402 \n",
       "  \"/>\n",
       "<polyline clip-path=\"url(#clip02)\" style=\"stroke:#000000; stroke-width:1; stroke-opacity:1; fill:none\" points=\"\n",
       "  39.3701,192.126 592.126,192.126 \n",
       "  \"/>\n",
       "<polyline clip-path=\"url(#clip02)\" style=\"stroke:#000000; stroke-width:1; stroke-opacity:1; fill:none\" points=\"\n",
       "  39.3701,192.126 592.126,192.126 \n",
       "  \"/>\n",
       "<polyline clip-path=\"url(#clip02)\" style=\"stroke:#000000; stroke-width:1; stroke-opacity:1; fill:none\" points=\"\n",
       "  315.748,376.378 315.748,7.87402 \n",
       "  \"/>\n",
       "<polyline clip-path=\"url(#clip02)\" style=\"stroke:#000000; stroke-width:1; stroke-opacity:1; fill:none\" points=\"\n",
       "  315.748,376.378 315.748,7.87402 \n",
       "  \"/>\n",
       "<polygon clip-path=\"url(#clip00)\" points=\"\n",
       "501.61,58.994 574.126,58.994 574.126,28.754 501.61,28.754 \n",
       "  \" fill=\"#ffffff\" fill-opacity=\"1\"/>\n",
       "<polyline clip-path=\"url(#clip00)\" style=\"stroke:#000000; stroke-width:1; stroke-opacity:1; fill:none\" points=\"\n",
       "  501.61,58.994 574.126,58.994 574.126,28.754 501.61,28.754 501.61,58.994 \n",
       "  \"/>\n",
       "<polyline clip-path=\"url(#clip00)\" style=\"stroke:#009af9; stroke-width:1; stroke-opacity:1; fill:none\" points=\"\n",
       "  507.61,43.874 543.61,43.874 \n",
       "  \"/>\n",
       "<g clip-path=\"url(#clip00)\">\n",
       "<text style=\"fill:#000000; fill-opacity:1; font-family:Arial,Helvetica Neue,Helvetica,sans-serif; font-size:12; text-anchor:start;\" transform=\"rotate(0, 549.61, 48.374)\" x=\"549.61\" y=\"48.374\">y1</text>\n",
       "</g>\n",
       "</svg>\n"
      ]
     },
     "execution_count": 30,
     "metadata": {},
     "output_type": "execute_result"
    }
   ],
   "source": [
    "f2(x) = x^3 - 3x \n",
    "x = linspace(-3.0, 3.0, 101)\n",
    "plot(x, f2.(x))\n",
    "hline!([0,0], color = :black, label = \"\")\n",
    "vline!([0,0], color = :black, label = \"\")"
   ]
  },
  {
   "cell_type": "code",
   "execution_count": 31,
   "metadata": {},
   "outputs": [
    {
     "data": {
      "text/plain": [
       "3-element Array{Intervalos.Intervalo,1}:\n",
       " Intervalos.Intervalo(-1.73205, -1.73205)\n",
       " Intervalos.Intervalo(0.0, 0.0)          \n",
       " Intervalos.Intervalo(1.73205, 1.73205)  "
      ]
     },
     "execution_count": 31,
     "metadata": {},
     "output_type": "execute_result"
    }
   ],
   "source": [
    "f2(x) = x^3 - 3x\n",
    "\n",
    "I1 = Intervalo(-3, -2)\n",
    "I2 = Intervalo(-3, -1.5)\n",
    "I3 = Intervalo(-3, -0.5)\n",
    "I4 = Intervalo(-3, 0.5)\n",
    "I5 = Intervalo(-3, 1.5)\n",
    "I6 = Intervalo(-3, 2)\n",
    "I7 = Intervalo(-3, 3)\n",
    "\n",
    "newtonIntervalExten(f2, I7)"
   ]
  },
  {
   "cell_type": "code",
   "execution_count": 32,
   "metadata": {},
   "outputs": [
    {
     "data": {
      "text/html": [
       "<?xml version=\"1.0\" encoding=\"utf-8\"?>\n",
       "<svg xmlns=\"http://www.w3.org/2000/svg\" xmlns:xlink=\"http://www.w3.org/1999/xlink\" width=\"600\" height=\"400\" viewBox=\"0 0 600 400\">\n",
       "<defs>\n",
       "  <clipPath id=\"clip00\">\n",
       "    <rect x=\"0\" y=\"0\" width=\"600\" height=\"400\"/>\n",
       "  </clipPath>\n",
       "</defs>\n",
       "<polygon clip-path=\"url(#clip00)\" points=\"\n",
       "0,400 600,400 600,0 0,0 \n",
       "  \" fill=\"#ffffff\" fill-opacity=\"1\"/>\n",
       "<defs>\n",
       "  <clipPath id=\"clip01\">\n",
       "    <rect x=\"120\" y=\"0\" width=\"421\" height=\"400\"/>\n",
       "  </clipPath>\n",
       "</defs>\n",
       "<polygon clip-path=\"url(#clip00)\" points=\"\n",
       "39.3701,376.378 592.126,376.378 592.126,7.87402 39.3701,7.87402 \n",
       "  \" fill=\"#ffffff\" fill-opacity=\"1\"/>\n",
       "<defs>\n",
       "  <clipPath id=\"clip02\">\n",
       "    <rect x=\"39\" y=\"7\" width=\"554\" height=\"370\"/>\n",
       "  </clipPath>\n",
       "</defs>\n",
       "<polyline clip-path=\"url(#clip02)\" style=\"stroke:#000000; stroke-width:0.5; stroke-opacity:0.1; fill:none\" points=\"\n",
       "  39.3701,370.85 39.3701,13.4016 \n",
       "  \"/>\n",
       "<polyline clip-path=\"url(#clip02)\" style=\"stroke:#000000; stroke-width:0.5; stroke-opacity:0.1; fill:none\" points=\"\n",
       "  149.921,370.85 149.921,13.4016 \n",
       "  \"/>\n",
       "<polyline clip-path=\"url(#clip02)\" style=\"stroke:#000000; stroke-width:0.5; stroke-opacity:0.1; fill:none\" points=\"\n",
       "  260.472,370.85 260.472,13.4016 \n",
       "  \"/>\n",
       "<polyline clip-path=\"url(#clip02)\" style=\"stroke:#000000; stroke-width:0.5; stroke-opacity:0.1; fill:none\" points=\"\n",
       "  371.024,370.85 371.024,13.4016 \n",
       "  \"/>\n",
       "<polyline clip-path=\"url(#clip02)\" style=\"stroke:#000000; stroke-width:0.5; stroke-opacity:0.1; fill:none\" points=\"\n",
       "  481.575,370.85 481.575,13.4016 \n",
       "  \"/>\n",
       "<polyline clip-path=\"url(#clip02)\" style=\"stroke:#000000; stroke-width:0.5; stroke-opacity:0.1; fill:none\" points=\"\n",
       "  592.126,370.85 592.126,13.4016 \n",
       "  \"/>\n",
       "<polyline clip-path=\"url(#clip02)\" style=\"stroke:#000000; stroke-width:0.5; stroke-opacity:0.1; fill:none\" points=\"\n",
       "  47.6614,376.378 583.835,376.378 \n",
       "  \"/>\n",
       "<polyline clip-path=\"url(#clip02)\" style=\"stroke:#000000; stroke-width:0.5; stroke-opacity:0.1; fill:none\" points=\"\n",
       "  47.6614,314.961 583.835,314.961 \n",
       "  \"/>\n",
       "<polyline clip-path=\"url(#clip02)\" style=\"stroke:#000000; stroke-width:0.5; stroke-opacity:0.1; fill:none\" points=\"\n",
       "  47.6614,253.543 583.835,253.543 \n",
       "  \"/>\n",
       "<polyline clip-path=\"url(#clip02)\" style=\"stroke:#000000; stroke-width:0.5; stroke-opacity:0.1; fill:none\" points=\"\n",
       "  47.6614,192.126 583.835,192.126 \n",
       "  \"/>\n",
       "<polyline clip-path=\"url(#clip02)\" style=\"stroke:#000000; stroke-width:0.5; stroke-opacity:0.1; fill:none\" points=\"\n",
       "  47.6614,130.709 583.835,130.709 \n",
       "  \"/>\n",
       "<polyline clip-path=\"url(#clip02)\" style=\"stroke:#000000; stroke-width:0.5; stroke-opacity:0.1; fill:none\" points=\"\n",
       "  47.6614,69.2913 583.835,69.2913 \n",
       "  \"/>\n",
       "<polyline clip-path=\"url(#clip02)\" style=\"stroke:#000000; stroke-width:0.5; stroke-opacity:0.1; fill:none\" points=\"\n",
       "  47.6614,7.87402 583.835,7.87402 \n",
       "  \"/>\n",
       "<polyline clip-path=\"url(#clip00)\" style=\"stroke:#000000; stroke-width:1; stroke-opacity:1; fill:none\" points=\"\n",
       "  39.3701,376.378 592.126,376.378 \n",
       "  \"/>\n",
       "<polyline clip-path=\"url(#clip00)\" style=\"stroke:#000000; stroke-width:1; stroke-opacity:1; fill:none\" points=\"\n",
       "  39.3701,376.378 39.3701,370.85 \n",
       "  \"/>\n",
       "<polyline clip-path=\"url(#clip00)\" style=\"stroke:#000000; stroke-width:1; stroke-opacity:1; fill:none\" points=\"\n",
       "  149.921,376.378 149.921,370.85 \n",
       "  \"/>\n",
       "<polyline clip-path=\"url(#clip00)\" style=\"stroke:#000000; stroke-width:1; stroke-opacity:1; fill:none\" points=\"\n",
       "  260.472,376.378 260.472,370.85 \n",
       "  \"/>\n",
       "<polyline clip-path=\"url(#clip00)\" style=\"stroke:#000000; stroke-width:1; stroke-opacity:1; fill:none\" points=\"\n",
       "  371.024,376.378 371.024,370.85 \n",
       "  \"/>\n",
       "<polyline clip-path=\"url(#clip00)\" style=\"stroke:#000000; stroke-width:1; stroke-opacity:1; fill:none\" points=\"\n",
       "  481.575,376.378 481.575,370.85 \n",
       "  \"/>\n",
       "<polyline clip-path=\"url(#clip00)\" style=\"stroke:#000000; stroke-width:1; stroke-opacity:1; fill:none\" points=\"\n",
       "  592.126,376.378 592.126,370.85 \n",
       "  \"/>\n",
       "<polyline clip-path=\"url(#clip00)\" style=\"stroke:#000000; stroke-width:1; stroke-opacity:1; fill:none\" points=\"\n",
       "  39.3701,376.378 39.3701,7.87402 \n",
       "  \"/>\n",
       "<polyline clip-path=\"url(#clip00)\" style=\"stroke:#000000; stroke-width:1; stroke-opacity:1; fill:none\" points=\"\n",
       "  39.3701,376.378 47.6614,376.378 \n",
       "  \"/>\n",
       "<polyline clip-path=\"url(#clip00)\" style=\"stroke:#000000; stroke-width:1; stroke-opacity:1; fill:none\" points=\"\n",
       "  39.3701,314.961 47.6614,314.961 \n",
       "  \"/>\n",
       "<polyline clip-path=\"url(#clip00)\" style=\"stroke:#000000; stroke-width:1; stroke-opacity:1; fill:none\" points=\"\n",
       "  39.3701,253.543 47.6614,253.543 \n",
       "  \"/>\n",
       "<polyline clip-path=\"url(#clip00)\" style=\"stroke:#000000; stroke-width:1; stroke-opacity:1; fill:none\" points=\"\n",
       "  39.3701,192.126 47.6614,192.126 \n",
       "  \"/>\n",
       "<polyline clip-path=\"url(#clip00)\" style=\"stroke:#000000; stroke-width:1; stroke-opacity:1; fill:none\" points=\"\n",
       "  39.3701,130.709 47.6614,130.709 \n",
       "  \"/>\n",
       "<polyline clip-path=\"url(#clip00)\" style=\"stroke:#000000; stroke-width:1; stroke-opacity:1; fill:none\" points=\"\n",
       "  39.3701,69.2913 47.6614,69.2913 \n",
       "  \"/>\n",
       "<polyline clip-path=\"url(#clip00)\" style=\"stroke:#000000; stroke-width:1; stroke-opacity:1; fill:none\" points=\"\n",
       "  39.3701,7.87402 47.6614,7.87402 \n",
       "  \"/>\n",
       "<g clip-path=\"url(#clip00)\">\n",
       "<text style=\"fill:#000000; fill-opacity:1; font-family:Arial,Helvetica Neue,Helvetica,sans-serif; font-size:12; text-anchor:middle;\" transform=\"rotate(0, 39.3701, 390.178)\" x=\"39.3701\" y=\"390.178\">0</text>\n",
       "</g>\n",
       "<g clip-path=\"url(#clip00)\">\n",
       "<text style=\"fill:#000000; fill-opacity:1; font-family:Arial,Helvetica Neue,Helvetica,sans-serif; font-size:12; text-anchor:middle;\" transform=\"rotate(0, 149.921, 390.178)\" x=\"149.921\" y=\"390.178\">1</text>\n",
       "</g>\n",
       "<g clip-path=\"url(#clip00)\">\n",
       "<text style=\"fill:#000000; fill-opacity:1; font-family:Arial,Helvetica Neue,Helvetica,sans-serif; font-size:12; text-anchor:middle;\" transform=\"rotate(0, 260.472, 390.178)\" x=\"260.472\" y=\"390.178\">2</text>\n",
       "</g>\n",
       "<g clip-path=\"url(#clip00)\">\n",
       "<text style=\"fill:#000000; fill-opacity:1; font-family:Arial,Helvetica Neue,Helvetica,sans-serif; font-size:12; text-anchor:middle;\" transform=\"rotate(0, 371.024, 390.178)\" x=\"371.024\" y=\"390.178\">3</text>\n",
       "</g>\n",
       "<g clip-path=\"url(#clip00)\">\n",
       "<text style=\"fill:#000000; fill-opacity:1; font-family:Arial,Helvetica Neue,Helvetica,sans-serif; font-size:12; text-anchor:middle;\" transform=\"rotate(0, 481.575, 390.178)\" x=\"481.575\" y=\"390.178\">4</text>\n",
       "</g>\n",
       "<g clip-path=\"url(#clip00)\">\n",
       "<text style=\"fill:#000000; fill-opacity:1; font-family:Arial,Helvetica Neue,Helvetica,sans-serif; font-size:12; text-anchor:middle;\" transform=\"rotate(0, 592.126, 390.178)\" x=\"592.126\" y=\"390.178\">5</text>\n",
       "</g>\n",
       "<g clip-path=\"url(#clip00)\">\n",
       "<text style=\"fill:#000000; fill-opacity:1; font-family:Arial,Helvetica Neue,Helvetica,sans-serif; font-size:12; text-anchor:end;\" transform=\"rotate(0, 33.3701, 380.878)\" x=\"33.3701\" y=\"380.878\">-5</text>\n",
       "</g>\n",
       "<g clip-path=\"url(#clip00)\">\n",
       "<text style=\"fill:#000000; fill-opacity:1; font-family:Arial,Helvetica Neue,Helvetica,sans-serif; font-size:12; text-anchor:end;\" transform=\"rotate(0, 33.3701, 319.461)\" x=\"33.3701\" y=\"319.461\">0</text>\n",
       "</g>\n",
       "<g clip-path=\"url(#clip00)\">\n",
       "<text style=\"fill:#000000; fill-opacity:1; font-family:Arial,Helvetica Neue,Helvetica,sans-serif; font-size:12; text-anchor:end;\" transform=\"rotate(0, 33.3701, 258.043)\" x=\"33.3701\" y=\"258.043\">5</text>\n",
       "</g>\n",
       "<g clip-path=\"url(#clip00)\">\n",
       "<text style=\"fill:#000000; fill-opacity:1; font-family:Arial,Helvetica Neue,Helvetica,sans-serif; font-size:12; text-anchor:end;\" transform=\"rotate(0, 33.3701, 196.626)\" x=\"33.3701\" y=\"196.626\">10</text>\n",
       "</g>\n",
       "<g clip-path=\"url(#clip00)\">\n",
       "<text style=\"fill:#000000; fill-opacity:1; font-family:Arial,Helvetica Neue,Helvetica,sans-serif; font-size:12; text-anchor:end;\" transform=\"rotate(0, 33.3701, 135.209)\" x=\"33.3701\" y=\"135.209\">15</text>\n",
       "</g>\n",
       "<g clip-path=\"url(#clip00)\">\n",
       "<text style=\"fill:#000000; fill-opacity:1; font-family:Arial,Helvetica Neue,Helvetica,sans-serif; font-size:12; text-anchor:end;\" transform=\"rotate(0, 33.3701, 73.7913)\" x=\"33.3701\" y=\"73.7913\">20</text>\n",
       "</g>\n",
       "<g clip-path=\"url(#clip00)\">\n",
       "<text style=\"fill:#000000; fill-opacity:1; font-family:Arial,Helvetica Neue,Helvetica,sans-serif; font-size:12; text-anchor:end;\" transform=\"rotate(0, 33.3701, 12.374)\" x=\"33.3701\" y=\"12.374\">25</text>\n",
       "</g>\n",
       "<polyline clip-path=\"url(#clip02)\" style=\"stroke:#009af9; stroke-width:1; stroke-opacity:1; fill:none\" points=\"\n",
       "  39.3701,13.6816 44.8976,46.2694 50.4252,76.6123 55.9528,104.804 61.4803,130.937 67.0079,155.102 72.5354,177.386 78.063,197.877 83.5906,216.659 89.1181,233.815 \n",
       "  94.6457,249.426 100.173,263.572 105.701,276.329 111.228,287.774 116.756,297.98 122.283,307.019 127.811,314.961 133.339,321.874 138.866,327.824 144.394,332.876 \n",
       "  149.921,337.093 155.449,340.535 160.976,343.262 166.504,345.33 172.031,346.794 177.559,347.709 183.087,348.126 188.614,348.094 194.142,347.662 199.669,346.875 \n",
       "  205.197,345.777 210.724,344.412 216.252,342.82 221.78,341.038 227.307,339.105 232.835,337.055 238.362,334.921 243.89,332.735 249.417,330.526 254.945,328.322 \n",
       "  260.472,326.148 266,324.029 271.528,321.987 277.055,320.041 282.583,318.211 288.11,316.512 293.638,314.961 299.165,313.568 304.693,312.347 310.22,311.305 \n",
       "  315.748,310.45 321.276,309.788 326.803,309.323 332.331,309.055 337.858,308.986 343.386,309.113 348.913,309.433 354.441,309.94 359.969,310.627 365.496,311.484 \n",
       "  371.024,312.501 376.551,313.665 382.079,314.961 387.606,316.371 393.134,317.879 398.661,319.464 404.189,321.102 409.717,322.772 415.244,324.446 420.772,326.097 \n",
       "  426.299,327.696 431.827,329.211 437.354,330.61 442.882,331.856 448.409,332.914 453.937,333.745 459.465,334.307 464.992,334.559 470.52,334.457 476.047,333.954 \n",
       "  481.575,333.003 487.102,331.553 492.63,329.553 498.157,326.951 503.685,323.689 509.213,319.712 514.74,314.961 520.268,309.374 525.795,302.888 531.323,295.441 \n",
       "  536.85,286.964 542.378,277.391 547.906,266.65 553.433,254.67 558.961,241.378 564.488,226.697 570.016,210.551 575.543,192.86 581.071,173.544 586.598,152.518 \n",
       "  592.126,129.699 \n",
       "  \"/>\n",
       "<polyline clip-path=\"url(#clip02)\" style=\"stroke:#000000; stroke-width:1; stroke-opacity:1; fill:none\" points=\"\n",
       "  39.3701,314.961 592.126,314.961 \n",
       "  \"/>\n",
       "<polyline clip-path=\"url(#clip02)\" style=\"stroke:#000000; stroke-width:1; stroke-opacity:1; fill:none\" points=\"\n",
       "  39.3701,314.961 592.126,314.961 \n",
       "  \"/>\n",
       "<polyline clip-path=\"url(#clip02)\" style=\"stroke:#000000; stroke-width:1; stroke-opacity:1; fill:none\" points=\"\n",
       "  39.3701,376.378 39.3701,7.87402 \n",
       "  \"/>\n",
       "<polyline clip-path=\"url(#clip02)\" style=\"stroke:#000000; stroke-width:1; stroke-opacity:1; fill:none\" points=\"\n",
       "  39.3701,376.378 39.3701,7.87402 \n",
       "  \"/>\n",
       "<polygon clip-path=\"url(#clip00)\" points=\"\n",
       "501.61,58.994 574.126,58.994 574.126,28.754 501.61,28.754 \n",
       "  \" fill=\"#ffffff\" fill-opacity=\"1\"/>\n",
       "<polyline clip-path=\"url(#clip00)\" style=\"stroke:#000000; stroke-width:1; stroke-opacity:1; fill:none\" points=\"\n",
       "  501.61,58.994 574.126,58.994 574.126,28.754 501.61,28.754 501.61,58.994 \n",
       "  \"/>\n",
       "<polyline clip-path=\"url(#clip00)\" style=\"stroke:#009af9; stroke-width:1; stroke-opacity:1; fill:none\" points=\"\n",
       "  507.61,43.874 543.61,43.874 \n",
       "  \"/>\n",
       "<g clip-path=\"url(#clip00)\">\n",
       "<text style=\"fill:#000000; fill-opacity:1; font-family:Arial,Helvetica Neue,Helvetica,sans-serif; font-size:12; text-anchor:start;\" transform=\"rotate(0, 549.61, 48.374)\" x=\"549.61\" y=\"48.374\">y1</text>\n",
       "</g>\n",
       "</svg>\n"
      ]
     },
     "execution_count": 32,
     "metadata": {},
     "output_type": "execute_result"
    }
   ],
   "source": [
    "ff(x) = (x-4.3)*(x - 3.1)*(x - 2.3)*(x - 0.8)\n",
    "x = linspace(.0, 5.0, 101)\n",
    "plot(x, ff.(x))\n",
    "plot!(ylims=(-5, 25))\n",
    "hline!([0,0], color = :black, label = \"\")\n",
    "vline!([0,0], color = :black, label = \"\")"
   ]
  },
  {
   "cell_type": "code",
   "execution_count": 33,
   "metadata": {},
   "outputs": [
    {
     "name": "stdout",
     "output_type": "stream",
     "text": [
      "I = Intervalos.Intervalo(0.0, 0.0)\n",
      "(length(roots), roots) = (0, Intervalos.Intervalo[])\n",
      "I = Intervalos.Intervalo(0.0, 1.0)\n",
      "(length(roots), roots) = (1, Intervalos.Intervalo[Intervalos.Intervalo(0.7, 0.7)])\n",
      "I = Intervalos.Intervalo(0.0, 2.0)\n",
      "(length(roots), roots) = (1, Intervalos.Intervalo[Intervalos.Intervalo(0.7, 0.7)])\n",
      "I = Intervalos.Intervalo(0.0, 3.0)\n",
      "(length(roots), roots) = (2, Intervalos.Intervalo[Intervalos.Intervalo(0.7, 0.7), Intervalos.Intervalo(2.3, 2.3)])\n",
      "I = Intervalos.Intervalo(0.0, 4.0)\n",
      "(length(roots), roots) = (3, Intervalos.Intervalo[Intervalos.Intervalo(0.7, 0.7), Intervalos.Intervalo(2.3, 2.3), Intervalos.Intervalo(3.1, 3.1)])\n",
      "I = Intervalos.Intervalo(0.0, 5.0)\n",
      "(length(roots), roots) = (4, Intervalos.Intervalo[Intervalos.Intervalo(3.1, 3.1), Intervalos.Intervalo(4.3, 4.3), Intervalos.Intervalo(0.7, 0.7), Intervalos.Intervalo(2.3, 2.3)])\n"
     ]
    }
   ],
   "source": [
    "ff(x) = (x-4.3)*(x - 3.1)*(x - 2.3)*(x - 0.7)\n",
    "\n",
    "for xsup in 0:1:5\n",
    "    I = Intervalo(0, xsup)\n",
    "    roots = newtonIntervalExten(ff, I)\n",
    "    @show I\n",
    "    @show length(roots), roots\n",
    "end"
   ]
  },
  {
   "cell_type": "code",
   "execution_count": 34,
   "metadata": {},
   "outputs": [
    {
     "data": {
      "text/plain": [
       "1-element Array{Intervalos.Intervalo,1}:\n",
       " Intervalos.Intervalo(-2.27902, -2.27902)"
      ]
     },
     "execution_count": 34,
     "metadata": {},
     "output_type": "execute_result"
    }
   ],
   "source": [
    "f(x) = x^3 - 3x + 5\n",
    "\n",
    "I = Intervalo(-3, 2)\n",
    "\n",
    "newtonIntervalExten(f, I)"
   ]
  },
  {
   "cell_type": "markdown",
   "metadata": {},
   "source": [
    "**[7]** Considera la familia de polinomios de Wilkinson, definidos por $W_n(x) := \\prod_{i=1}^n (x-i)$. Utiliza el método de Newton para encontrar todas sus raíces."
   ]
  },
  {
   "cell_type": "code",
   "execution_count": 35,
   "metadata": {},
   "outputs": [
    {
     "data": {
      "text/plain": [
       "wilkinson (generic function with 1 method)"
      ]
     },
     "execution_count": 35,
     "metadata": {},
     "output_type": "execute_result"
    }
   ],
   "source": [
    "function wilkinson(x::Real, n::Int64)\n",
    "    y = 1\n",
    "    for i in 1:n\n",
    "        y *=(x - i)\n",
    "    end\n",
    "    return y\n",
    "end"
   ]
  },
  {
   "cell_type": "code",
   "execution_count": 36,
   "metadata": {
    "scrolled": false
   },
   "outputs": [
    {
     "data": {
      "text/html": [
       "<?xml version=\"1.0\" encoding=\"utf-8\"?>\n",
       "<svg xmlns=\"http://www.w3.org/2000/svg\" xmlns:xlink=\"http://www.w3.org/1999/xlink\" width=\"600\" height=\"400\" viewBox=\"0 0 600 400\">\n",
       "<defs>\n",
       "  <clipPath id=\"clip00\">\n",
       "    <rect x=\"0\" y=\"0\" width=\"600\" height=\"400\"/>\n",
       "  </clipPath>\n",
       "</defs>\n",
       "<polygon clip-path=\"url(#clip00)\" points=\"\n",
       "0,400 600,400 600,0 0,0 \n",
       "  \" fill=\"#ffffff\" fill-opacity=\"1\"/>\n",
       "<defs>\n",
       "  <clipPath id=\"clip01\">\n",
       "    <rect x=\"120\" y=\"0\" width=\"421\" height=\"400\"/>\n",
       "  </clipPath>\n",
       "</defs>\n",
       "<polygon clip-path=\"url(#clip00)\" points=\"\n",
       "39.3701,376.378 592.126,376.378 592.126,7.87402 39.3701,7.87402 \n",
       "  \" fill=\"#ffffff\" fill-opacity=\"1\"/>\n",
       "<defs>\n",
       "  <clipPath id=\"clip02\">\n",
       "    <rect x=\"39\" y=\"7\" width=\"554\" height=\"370\"/>\n",
       "  </clipPath>\n",
       "</defs>\n",
       "<polyline clip-path=\"url(#clip02)\" style=\"stroke:#000000; stroke-width:0.5; stroke-opacity:0.1; fill:none\" points=\"\n",
       "  39.3701,370.85 39.3701,13.4016 \n",
       "  \"/>\n",
       "<polyline clip-path=\"url(#clip02)\" style=\"stroke:#000000; stroke-width:0.5; stroke-opacity:0.1; fill:none\" points=\"\n",
       "  118.335,370.85 118.335,13.4016 \n",
       "  \"/>\n",
       "<polyline clip-path=\"url(#clip02)\" style=\"stroke:#000000; stroke-width:0.5; stroke-opacity:0.1; fill:none\" points=\"\n",
       "  197.3,370.85 197.3,13.4016 \n",
       "  \"/>\n",
       "<polyline clip-path=\"url(#clip02)\" style=\"stroke:#000000; stroke-width:0.5; stroke-opacity:0.1; fill:none\" points=\"\n",
       "  276.265,370.85 276.265,13.4016 \n",
       "  \"/>\n",
       "<polyline clip-path=\"url(#clip02)\" style=\"stroke:#000000; stroke-width:0.5; stroke-opacity:0.1; fill:none\" points=\"\n",
       "  355.231,370.85 355.231,13.4016 \n",
       "  \"/>\n",
       "<polyline clip-path=\"url(#clip02)\" style=\"stroke:#000000; stroke-width:0.5; stroke-opacity:0.1; fill:none\" points=\"\n",
       "  434.196,370.85 434.196,13.4016 \n",
       "  \"/>\n",
       "<polyline clip-path=\"url(#clip02)\" style=\"stroke:#000000; stroke-width:0.5; stroke-opacity:0.1; fill:none\" points=\"\n",
       "  513.161,370.85 513.161,13.4016 \n",
       "  \"/>\n",
       "<polyline clip-path=\"url(#clip02)\" style=\"stroke:#000000; stroke-width:0.5; stroke-opacity:0.1; fill:none\" points=\"\n",
       "  592.126,370.85 592.126,13.4016 \n",
       "  \"/>\n",
       "<polyline clip-path=\"url(#clip02)\" style=\"stroke:#000000; stroke-width:0.5; stroke-opacity:0.1; fill:none\" points=\"\n",
       "  47.6614,307.283 583.835,307.283 \n",
       "  \"/>\n",
       "<polyline clip-path=\"url(#clip02)\" style=\"stroke:#000000; stroke-width:0.5; stroke-opacity:0.1; fill:none\" points=\"\n",
       "  47.6614,192.126 583.835,192.126 \n",
       "  \"/>\n",
       "<polyline clip-path=\"url(#clip02)\" style=\"stroke:#000000; stroke-width:0.5; stroke-opacity:0.1; fill:none\" points=\"\n",
       "  47.6614,76.9685 583.835,76.9685 \n",
       "  \"/>\n",
       "<polyline clip-path=\"url(#clip00)\" style=\"stroke:#000000; stroke-width:1; stroke-opacity:1; fill:none\" points=\"\n",
       "  39.3701,376.378 592.126,376.378 \n",
       "  \"/>\n",
       "<polyline clip-path=\"url(#clip00)\" style=\"stroke:#000000; stroke-width:1; stroke-opacity:1; fill:none\" points=\"\n",
       "  39.3701,376.378 39.3701,370.85 \n",
       "  \"/>\n",
       "<polyline clip-path=\"url(#clip00)\" style=\"stroke:#000000; stroke-width:1; stroke-opacity:1; fill:none\" points=\"\n",
       "  118.335,376.378 118.335,370.85 \n",
       "  \"/>\n",
       "<polyline clip-path=\"url(#clip00)\" style=\"stroke:#000000; stroke-width:1; stroke-opacity:1; fill:none\" points=\"\n",
       "  197.3,376.378 197.3,370.85 \n",
       "  \"/>\n",
       "<polyline clip-path=\"url(#clip00)\" style=\"stroke:#000000; stroke-width:1; stroke-opacity:1; fill:none\" points=\"\n",
       "  276.265,376.378 276.265,370.85 \n",
       "  \"/>\n",
       "<polyline clip-path=\"url(#clip00)\" style=\"stroke:#000000; stroke-width:1; stroke-opacity:1; fill:none\" points=\"\n",
       "  355.231,376.378 355.231,370.85 \n",
       "  \"/>\n",
       "<polyline clip-path=\"url(#clip00)\" style=\"stroke:#000000; stroke-width:1; stroke-opacity:1; fill:none\" points=\"\n",
       "  434.196,376.378 434.196,370.85 \n",
       "  \"/>\n",
       "<polyline clip-path=\"url(#clip00)\" style=\"stroke:#000000; stroke-width:1; stroke-opacity:1; fill:none\" points=\"\n",
       "  513.161,376.378 513.161,370.85 \n",
       "  \"/>\n",
       "<polyline clip-path=\"url(#clip00)\" style=\"stroke:#000000; stroke-width:1; stroke-opacity:1; fill:none\" points=\"\n",
       "  592.126,376.378 592.126,370.85 \n",
       "  \"/>\n",
       "<polyline clip-path=\"url(#clip00)\" style=\"stroke:#000000; stroke-width:1; stroke-opacity:1; fill:none\" points=\"\n",
       "  39.3701,376.378 39.3701,7.87402 \n",
       "  \"/>\n",
       "<polyline clip-path=\"url(#clip00)\" style=\"stroke:#000000; stroke-width:1; stroke-opacity:1; fill:none\" points=\"\n",
       "  39.3701,307.283 47.6614,307.283 \n",
       "  \"/>\n",
       "<polyline clip-path=\"url(#clip00)\" style=\"stroke:#000000; stroke-width:1; stroke-opacity:1; fill:none\" points=\"\n",
       "  39.3701,192.126 47.6614,192.126 \n",
       "  \"/>\n",
       "<polyline clip-path=\"url(#clip00)\" style=\"stroke:#000000; stroke-width:1; stroke-opacity:1; fill:none\" points=\"\n",
       "  39.3701,76.9685 47.6614,76.9685 \n",
       "  \"/>\n",
       "<g clip-path=\"url(#clip00)\">\n",
       "<text style=\"fill:#000000; fill-opacity:1; font-family:Arial,Helvetica Neue,Helvetica,sans-serif; font-size:12; text-anchor:middle;\" transform=\"rotate(0, 39.3701, 390.178)\" x=\"39.3701\" y=\"390.178\">0</text>\n",
       "</g>\n",
       "<g clip-path=\"url(#clip00)\">\n",
       "<text style=\"fill:#000000; fill-opacity:1; font-family:Arial,Helvetica Neue,Helvetica,sans-serif; font-size:12; text-anchor:middle;\" transform=\"rotate(0, 118.335, 390.178)\" x=\"118.335\" y=\"390.178\">1</text>\n",
       "</g>\n",
       "<g clip-path=\"url(#clip00)\">\n",
       "<text style=\"fill:#000000; fill-opacity:1; font-family:Arial,Helvetica Neue,Helvetica,sans-serif; font-size:12; text-anchor:middle;\" transform=\"rotate(0, 197.3, 390.178)\" x=\"197.3\" y=\"390.178\">2</text>\n",
       "</g>\n",
       "<g clip-path=\"url(#clip00)\">\n",
       "<text style=\"fill:#000000; fill-opacity:1; font-family:Arial,Helvetica Neue,Helvetica,sans-serif; font-size:12; text-anchor:middle;\" transform=\"rotate(0, 276.265, 390.178)\" x=\"276.265\" y=\"390.178\">3</text>\n",
       "</g>\n",
       "<g clip-path=\"url(#clip00)\">\n",
       "<text style=\"fill:#000000; fill-opacity:1; font-family:Arial,Helvetica Neue,Helvetica,sans-serif; font-size:12; text-anchor:middle;\" transform=\"rotate(0, 355.231, 390.178)\" x=\"355.231\" y=\"390.178\">4</text>\n",
       "</g>\n",
       "<g clip-path=\"url(#clip00)\">\n",
       "<text style=\"fill:#000000; fill-opacity:1; font-family:Arial,Helvetica Neue,Helvetica,sans-serif; font-size:12; text-anchor:middle;\" transform=\"rotate(0, 434.196, 390.178)\" x=\"434.196\" y=\"390.178\">5</text>\n",
       "</g>\n",
       "<g clip-path=\"url(#clip00)\">\n",
       "<text style=\"fill:#000000; fill-opacity:1; font-family:Arial,Helvetica Neue,Helvetica,sans-serif; font-size:12; text-anchor:middle;\" transform=\"rotate(0, 513.161, 390.178)\" x=\"513.161\" y=\"390.178\">6</text>\n",
       "</g>\n",
       "<g clip-path=\"url(#clip00)\">\n",
       "<text style=\"fill:#000000; fill-opacity:1; font-family:Arial,Helvetica Neue,Helvetica,sans-serif; font-size:12; text-anchor:middle;\" transform=\"rotate(0, 592.126, 390.178)\" x=\"592.126\" y=\"390.178\">7</text>\n",
       "</g>\n",
       "<g clip-path=\"url(#clip00)\">\n",
       "<text style=\"fill:#000000; fill-opacity:1; font-family:Arial,Helvetica Neue,Helvetica,sans-serif; font-size:12; text-anchor:end;\" transform=\"rotate(0, 33.3701, 311.783)\" x=\"33.3701\" y=\"311.783\">-5</text>\n",
       "</g>\n",
       "<g clip-path=\"url(#clip00)\">\n",
       "<text style=\"fill:#000000; fill-opacity:1; font-family:Arial,Helvetica Neue,Helvetica,sans-serif; font-size:12; text-anchor:end;\" transform=\"rotate(0, 33.3701, 196.626)\" x=\"33.3701\" y=\"196.626\">0</text>\n",
       "</g>\n",
       "<g clip-path=\"url(#clip00)\">\n",
       "<text style=\"fill:#000000; fill-opacity:1; font-family:Arial,Helvetica Neue,Helvetica,sans-serif; font-size:12; text-anchor:end;\" transform=\"rotate(0, 33.3701, 81.4685)\" x=\"33.3701\" y=\"81.4685\">5</text>\n",
       "</g>\n",
       "<polyline clip-path=\"url(#clip02)\" style=\"stroke:#009af9; stroke-width:1; stroke-opacity:1; fill:none\" points=\"\n",
       "  39.3701,-16390.6 39.9228,-16108 40.4756,-15829.1 41.0283,-15553.7 41.5811,-15281.9 42.1339,-15013.7 42.6866,-14748.9 43.2394,-14487.6 43.7921,-14229.8 44.3449,-13975.3 \n",
       "  44.8976,-13724.2 45.4504,-13476.4 46.0031,-13231.9 46.5559,-12990.7 47.1087,-12752.7 47.6614,-12517.9 48.2142,-12286.3 48.7669,-12057.8 49.3197,-11832.4 49.8724,-11610.1 \n",
       "  50.4252,-11390.9 50.978,-11174.6 51.5307,-10961.4 52.0835,-10751.1 52.6362,-10543.7 53.189,-10339.2 53.7417,-10137.6 54.2945,-9938.76 54.8472,-9742.78 55.4,-9549.57 \n",
       "  55.9528,-9359.11 56.5055,-9171.38 57.0583,-8986.33 57.611,-8803.95 58.1638,-8624.21 58.7165,-8447.08 59.2693,-8272.52 59.822,-8100.52 60.3748,-7931.05 60.9276,-7764.08 \n",
       "  61.4803,-7599.59 62.0331,-7437.54 62.5858,-7277.91 63.1386,-7120.68 63.6913,-6965.82 64.2441,-6813.3 64.7969,-6663.1 65.3496,-6515.19 65.9024,-6369.55 66.4551,-6226.16 \n",
       "  67.0079,-6084.98 67.5606,-5946 68.1134,-5809.19 68.6661,-5674.52 69.2189,-5541.97 69.7717,-5411.53 70.3244,-5283.15 70.8772,-5156.83 71.4299,-5032.54 71.9827,-4910.25 \n",
       "  72.5354,-4789.94 73.0882,-4671.59 73.6409,-4555.18 74.1937,-4440.69 74.7465,-4328.08 75.2992,-4217.35 75.852,-4108.46 76.4047,-4001.4 76.9575,-3896.15 77.5102,-3792.68 \n",
       "  78.063,-3690.97 78.6157,-3591.01 79.1685,-3492.76 79.7213,-3396.22 80.274,-3301.36 80.8268,-3208.16 81.3795,-3116.59 81.9323,-3026.65 82.485,-2938.31 83.0378,-2851.55 \n",
       "  83.5906,-2766.35 84.1433,-2682.69 84.6961,-2600.55 85.2488,-2519.92 85.8016,-2440.77 86.3543,-2363.09 86.9071,-2286.85 87.4598,-2212.05 88.0126,-2138.66 88.5654,-2066.66 \n",
       "  89.1181,-1996.03 89.6709,-1926.76 90.2236,-1858.84 90.7764,-1792.23 91.3291,-1726.93 91.8819,-1662.92 92.4346,-1600.18 92.9874,-1538.69 93.5402,-1478.44 94.0929,-1419.42 \n",
       "  94.6457,-1361.59 95.1984,-1304.96 95.7512,-1249.5 96.3039,-1195.19 96.8567,-1142.03 97.4094,-1089.99 97.9622,-1039.06 98.515,-989.225 99.0677,-940.468 99.6205,-892.775 \n",
       "  100.173,-846.13 100.726,-800.52 101.279,-755.929 101.831,-712.343 102.384,-669.747 102.937,-628.127 103.49,-587.468 104.043,-547.758 104.595,-508.982 105.148,-471.126 \n",
       "  105.701,-434.176 106.254,-398.12 106.806,-362.943 107.359,-328.633 107.912,-295.176 108.465,-262.56 109.017,-230.771 109.57,-199.797 110.123,-169.625 110.676,-140.243 \n",
       "  111.228,-111.639 111.781,-83.799 112.334,-56.7125 112.887,-30.367 113.439,-4.75069 113.992,20.1482 114.545,44.3413 115.098,67.8401 115.65,90.6561 116.203,112.8 \n",
       "  116.756,134.284 117.309,155.119 117.861,175.315 118.414,194.883 118.967,213.835 119.52,232.18 120.072,249.93 120.625,267.093 121.178,283.682 121.731,299.706 \n",
       "  122.283,315.174 122.836,330.097 123.389,344.486 123.942,358.348 124.494,371.695 125.047,384.535 125.6,396.878 126.153,408.733 126.706,420.11 127.258,431.017 \n",
       "  127.811,441.464 128.364,451.459 128.917,461.011 129.469,470.129 130.022,478.822 130.575,487.097 131.128,494.964 131.68,502.43 132.233,509.504 132.786,516.194 \n",
       "  133.339,522.507 133.891,528.453 134.444,534.038 134.997,539.27 135.55,544.157 136.102,548.707 136.655,552.926 137.208,556.823 137.761,560.404 138.313,563.676 \n",
       "  138.866,566.648 139.419,569.325 139.972,571.714 140.524,573.823 141.077,575.658 141.63,577.225 142.183,578.532 142.735,579.585 143.288,580.389 143.841,580.952 \n",
       "  144.394,581.28 144.946,581.378 145.499,581.254 146.052,580.911 146.605,580.358 147.157,579.599 147.71,578.64 148.263,577.487 148.816,576.145 149.369,574.62 \n",
       "  149.921,572.917 150.474,571.042 151.027,569 151.58,566.796 152.132,564.435 152.685,561.922 153.238,559.262 153.791,556.46 154.343,553.521 154.896,550.45 \n",
       "  155.449,547.251 156.002,543.928 156.554,540.487 157.107,536.932 157.66,533.267 158.213,529.497 158.765,525.625 159.318,521.656 159.871,517.595 160.424,513.444 \n",
       "  160.976,509.209 161.529,504.892 162.082,500.499 162.635,496.032 163.187,491.496 163.74,486.893 164.293,482.229 164.846,477.505 165.398,472.726 165.951,467.896 \n",
       "  166.504,463.016 167.057,458.092 167.609,453.125 168.162,448.12 168.715,443.079 169.268,438.005 169.82,432.901 170.373,427.771 170.926,422.617 171.479,417.442 \n",
       "  172.031,412.249 172.584,407.04 173.137,401.818 173.69,396.586 174.243,391.347 174.795,386.102 175.348,380.855 175.901,375.607 176.454,370.362 177.006,365.12 \n",
       "  177.559,359.886 178.112,354.66 178.665,349.445 179.217,344.244 179.77,339.057 180.323,333.888 180.876,328.737 181.428,323.608 181.981,318.502 182.534,313.42 \n",
       "  183.087,308.365 183.639,303.338 184.192,298.34 184.745,293.375 185.298,288.442 185.85,283.545 186.403,278.683 186.956,273.859 187.509,269.074 188.061,264.33 \n",
       "  188.614,259.627 189.167,254.968 189.72,250.353 190.272,245.784 190.825,241.261 191.378,236.787 191.931,232.361 192.483,227.986 193.036,223.662 193.589,219.39 \n",
       "  194.142,215.171 194.694,211.006 195.247,206.896 195.8,202.842 196.353,198.845 196.906,194.905 197.458,191.023 198.011,187.2 198.564,183.437 199.117,179.733 \n",
       "  199.669,176.091 200.222,172.51 200.775,168.991 201.328,165.535 201.88,162.142 202.433,158.812 202.986,155.546 203.539,152.344 204.091,149.207 204.644,146.135 \n",
       "  205.197,143.129 205.75,140.188 206.302,137.313 206.855,134.504 207.408,131.761 207.961,129.085 208.513,126.476 209.066,123.934 209.619,121.458 210.172,119.05 \n",
       "  210.724,116.709 211.277,114.434 211.83,112.227 212.383,110.088 212.935,108.015 213.488,106.009 214.041,104.07 214.594,102.198 215.146,100.393 215.699,98.6548 \n",
       "  216.252,96.9827 216.805,95.3768 217.357,93.837 217.91,92.363 218.463,90.9546 219.016,89.6116 219.569,88.3335 220.121,87.1203 220.674,85.9714 221.227,84.8866 \n",
       "  221.78,83.8656 222.332,82.9079 222.885,82.0133 223.438,81.1812 223.991,80.4113 224.543,79.7031 225.096,79.0562 225.649,78.4701 226.202,77.9444 226.754,77.4786 \n",
       "  227.307,77.0721 227.86,76.7244 228.413,76.435 228.965,76.2034 229.518,76.029 230.071,75.9112 230.624,75.8494 231.176,75.8431 231.729,75.8916 232.282,75.9943 \n",
       "  232.835,76.1507 233.387,76.3599 233.94,76.6215 234.493,76.9348 235.046,77.299 235.598,77.7135 236.151,78.1776 236.704,78.6906 237.257,79.2518 237.809,79.8605 \n",
       "  238.362,80.516 238.915,81.2175 239.468,81.9644 240.02,82.7558 240.573,83.5909 241.126,84.4692 241.679,85.3897 242.231,86.3517 242.784,87.3545 243.337,88.3972 \n",
       "  243.89,89.4791 244.443,90.5994 244.995,91.7572 245.548,92.9518 246.101,94.1824 246.654,95.4482 247.206,96.7482 247.759,98.0818 248.312,99.4481 248.865,100.846 \n",
       "  249.417,102.276 249.97,103.735 250.523,105.224 251.076,106.741 251.628,108.286 252.181,109.858 252.734,111.456 253.287,113.079 253.839,114.727 254.392,116.398 \n",
       "  254.945,118.092 255.498,119.807 256.05,121.544 256.603,123.301 257.156,125.076 257.709,126.871 258.261,128.683 258.814,130.512 259.367,132.356 259.92,134.216 \n",
       "  260.472,136.09 261.025,137.977 261.578,139.877 262.131,141.789 262.683,143.711 263.236,145.644 263.789,147.586 264.342,149.536 264.894,151.494 265.447,153.459 \n",
       "  266,155.429 266.553,157.405 267.106,159.385 267.658,161.369 268.211,163.355 268.764,165.344 269.317,167.333 269.869,169.323 270.422,171.313 270.975,173.301 \n",
       "  271.528,175.288 272.08,177.271 272.633,179.252 273.186,181.228 273.739,183.199 274.291,185.164 274.844,187.123 275.397,189.075 275.95,191.019 276.502,192.954 \n",
       "  277.055,194.88 277.608,196.796 278.161,198.701 278.713,200.595 279.266,202.477 279.819,204.345 280.372,206.201 280.924,208.042 281.477,209.869 282.03,211.68 \n",
       "  282.583,213.475 283.135,215.253 283.688,217.014 284.241,218.757 284.794,220.482 285.346,222.187 285.899,223.873 286.452,225.538 287.005,227.183 287.557,228.806 \n",
       "  288.11,230.407 288.663,231.986 289.216,233.541 289.769,235.073 290.321,236.581 290.874,238.064 291.427,239.523 291.98,240.955 292.532,242.362 293.085,243.741 \n",
       "  293.638,245.094 294.191,246.42 294.743,247.717 295.296,248.987 295.849,250.227 296.402,251.439 296.954,252.62 297.507,253.772 298.06,254.894 298.613,255.985 \n",
       "  299.165,257.045 299.718,258.073 300.271,259.07 300.824,260.035 301.376,260.967 301.929,261.867 302.482,262.734 303.035,263.567 303.587,264.367 304.14,265.134 \n",
       "  304.693,265.866 305.246,266.564 305.798,267.228 306.351,267.857 306.904,268.451 307.457,269.01 308.009,269.534 308.562,270.023 309.115,270.475 309.668,270.893 \n",
       "  310.22,271.274 310.773,271.62 311.326,271.929 311.879,272.202 312.431,272.439 312.984,272.64 313.537,272.804 314.09,272.932 314.643,273.023 315.195,273.078 \n",
       "  315.748,273.096 316.301,273.078 316.854,273.023 317.406,272.932 317.959,272.804 318.512,272.64 319.065,272.439 319.617,272.202 320.17,271.929 320.723,271.62 \n",
       "  321.276,271.274 321.828,270.893 322.381,270.475 322.934,270.023 323.487,269.534 324.039,269.01 324.592,268.451 325.145,267.857 325.698,267.228 326.25,266.564 \n",
       "  326.803,265.866 327.356,265.134 327.909,264.367 328.461,263.567 329.014,262.734 329.567,261.867 330.12,260.967 330.672,260.035 331.225,259.07 331.778,258.073 \n",
       "  332.331,257.045 332.883,255.985 333.436,254.894 333.989,253.772 334.542,252.62 335.094,251.439 335.647,250.227 336.2,248.987 336.753,247.717 337.306,246.42 \n",
       "  337.858,245.094 338.411,243.741 338.964,242.362 339.517,240.955 340.069,239.523 340.622,238.064 341.175,236.581 341.728,235.073 342.28,233.541 342.833,231.986 \n",
       "  343.386,230.407 343.939,228.806 344.491,227.183 345.044,225.538 345.597,223.873 346.15,222.187 346.702,220.482 347.255,218.757 347.808,217.014 348.361,215.253 \n",
       "  348.913,213.475 349.466,211.68 350.019,209.869 350.572,208.042 351.124,206.201 351.677,204.345 352.23,202.477 352.783,200.595 353.335,198.701 353.888,196.796 \n",
       "  354.441,194.88 354.994,192.954 355.546,191.019 356.099,189.075 356.652,187.123 357.205,185.164 357.757,183.199 358.31,181.228 358.863,179.252 359.416,177.271 \n",
       "  359.969,175.288 360.521,173.301 361.074,171.313 361.627,169.323 362.18,167.333 362.732,165.344 363.285,163.355 363.838,161.369 364.391,159.385 364.943,157.405 \n",
       "  365.496,155.429 366.049,153.459 366.602,151.494 367.154,149.536 367.707,147.586 368.26,145.644 368.813,143.711 369.365,141.789 369.918,139.877 370.471,137.977 \n",
       "  371.024,136.09 371.576,134.216 372.129,132.356 372.682,130.512 373.235,128.683 373.787,126.871 374.34,125.076 374.893,123.301 375.446,121.544 375.998,119.807 \n",
       "  376.551,118.092 377.104,116.398 377.657,114.727 378.209,113.079 378.762,111.456 379.315,109.858 379.868,108.286 380.42,106.741 380.973,105.224 381.526,103.735 \n",
       "  382.079,102.276 382.631,100.846 383.184,99.4481 383.737,98.0818 384.29,96.7482 384.843,95.4482 385.395,94.1824 385.948,92.9518 386.501,91.7572 387.054,90.5994 \n",
       "  387.606,89.4791 388.159,88.3972 388.712,87.3545 389.265,86.3517 389.817,85.3897 390.37,84.4692 390.923,83.5909 391.476,82.7558 392.028,81.9644 392.581,81.2175 \n",
       "  393.134,80.516 393.687,79.8605 394.239,79.2518 394.792,78.6906 395.345,78.1776 395.898,77.7135 396.45,77.299 397.003,76.9348 397.556,76.6215 398.109,76.3599 \n",
       "  398.661,76.1507 399.214,75.9943 399.767,75.8916 400.32,75.8431 400.872,75.8494 401.425,75.9112 401.978,76.029 402.531,76.2034 403.083,76.435 403.636,76.7244 \n",
       "  404.189,77.0721 404.742,77.4786 405.294,77.9444 405.847,78.4701 406.4,79.0562 406.953,79.7031 407.506,80.4113 408.058,81.1812 408.611,82.0133 409.164,82.9079 \n",
       "  409.717,83.8656 410.269,84.8866 410.822,85.9714 411.375,87.1203 411.928,88.3335 412.48,89.6116 413.033,90.9546 413.586,92.363 414.139,93.837 414.691,95.3768 \n",
       "  415.244,96.9827 415.797,98.6548 416.35,100.393 416.902,102.198 417.455,104.07 418.008,106.009 418.561,108.015 419.113,110.088 419.666,112.227 420.219,114.434 \n",
       "  420.772,116.709 421.324,119.05 421.877,121.458 422.43,123.934 422.983,126.476 423.535,129.085 424.088,131.761 424.641,134.504 425.194,137.313 425.746,140.188 \n",
       "  426.299,143.129 426.852,146.135 427.405,149.207 427.957,152.344 428.51,155.546 429.063,158.812 429.616,162.142 430.169,165.535 430.721,168.991 431.274,172.51 \n",
       "  431.827,176.091 432.38,179.733 432.932,183.437 433.485,187.2 434.038,191.023 434.591,194.905 435.143,198.845 435.696,202.842 436.249,206.896 436.802,211.006 \n",
       "  437.354,215.171 437.907,219.39 438.46,223.662 439.013,227.986 439.565,232.361 440.118,236.787 440.671,241.261 441.224,245.784 441.776,250.353 442.329,254.968 \n",
       "  442.882,259.627 443.435,264.33 443.987,269.074 444.54,273.859 445.093,278.683 445.646,283.545 446.198,288.442 446.751,293.375 447.304,298.34 447.857,303.338 \n",
       "  448.409,308.365 448.962,313.42 449.515,318.502 450.068,323.608 450.62,328.737 451.173,333.888 451.726,339.057 452.279,344.244 452.831,349.445 453.384,354.66 \n",
       "  453.937,359.886 454.49,365.12 455.043,370.362 455.595,375.607 456.148,380.855 456.701,386.102 457.254,391.347 457.806,396.586 458.359,401.818 458.912,407.04 \n",
       "  459.465,412.249 460.017,417.442 460.57,422.617 461.123,427.771 461.676,432.901 462.228,438.005 462.781,443.079 463.334,448.12 463.887,453.125 464.439,458.092 \n",
       "  464.992,463.016 465.545,467.896 466.098,472.726 466.65,477.505 467.203,482.229 467.756,486.893 468.309,491.496 468.861,496.032 469.414,500.499 469.967,504.892 \n",
       "  470.52,509.209 471.072,513.444 471.625,517.595 472.178,521.656 472.731,525.625 473.283,529.497 473.836,533.267 474.389,536.932 474.942,540.487 475.494,543.928 \n",
       "  476.047,547.251 476.6,550.45 477.153,553.521 477.706,556.46 478.258,559.262 478.811,561.922 479.364,564.435 479.917,566.796 480.469,569 481.022,571.042 \n",
       "  481.575,572.917 482.128,574.62 482.68,576.145 483.233,577.487 483.786,578.64 484.339,579.599 484.891,580.358 485.444,580.911 485.997,581.254 486.55,581.378 \n",
       "  487.102,581.28 487.655,580.952 488.208,580.389 488.761,579.585 489.313,578.532 489.866,577.225 490.419,575.658 490.972,573.823 491.524,571.714 492.077,569.325 \n",
       "  492.63,566.648 493.183,563.676 493.735,560.404 494.288,556.823 494.841,552.926 495.394,548.707 495.946,544.157 496.499,539.27 497.052,534.038 497.605,528.453 \n",
       "  498.157,522.507 498.71,516.194 499.263,509.504 499.816,502.43 500.369,494.964 500.921,487.097 501.474,478.822 502.027,470.129 502.58,461.011 503.132,451.459 \n",
       "  503.685,441.464 504.238,431.017 504.791,420.11 505.343,408.733 505.896,396.878 506.449,384.535 507.002,371.695 507.554,358.348 508.107,344.486 508.66,330.097 \n",
       "  509.213,315.174 509.765,299.706 510.318,283.682 510.871,267.093 511.424,249.93 511.976,232.18 512.529,213.835 513.082,194.883 513.635,175.315 514.187,155.119 \n",
       "  514.74,134.284 515.293,112.8 515.846,90.6561 516.398,67.8401 516.951,44.3413 517.504,20.1482 518.057,-4.75069 518.609,-30.367 519.162,-56.7125 519.715,-83.799 \n",
       "  520.268,-111.639 520.82,-140.243 521.373,-169.625 521.926,-199.797 522.479,-230.771 523.031,-262.56 523.584,-295.176 524.137,-328.633 524.69,-362.943 525.243,-398.12 \n",
       "  525.795,-434.176 526.348,-471.126 526.901,-508.982 527.454,-547.758 528.006,-587.468 528.559,-628.127 529.112,-669.747 529.665,-712.343 530.217,-755.929 530.77,-800.52 \n",
       "  531.323,-846.13 531.876,-892.775 532.428,-940.468 532.981,-989.225 533.534,-1039.06 534.087,-1089.99 534.639,-1142.03 535.192,-1195.19 535.745,-1249.5 536.298,-1304.96 \n",
       "  536.85,-1361.59 537.403,-1419.42 537.956,-1478.44 538.509,-1538.69 539.061,-1600.18 539.614,-1662.92 540.167,-1726.93 540.72,-1792.23 541.272,-1858.84 541.825,-1926.76 \n",
       "  542.378,-1996.03 542.931,-2066.66 543.483,-2138.66 544.036,-2212.05 544.589,-2286.85 545.142,-2363.09 545.694,-2440.77 546.247,-2519.92 546.8,-2600.55 547.353,-2682.69 \n",
       "  547.906,-2766.35 548.458,-2851.55 549.011,-2938.31 549.564,-3026.65 550.117,-3116.59 550.669,-3208.16 551.222,-3301.36 551.775,-3396.22 552.328,-3492.76 552.88,-3591.01 \n",
       "  553.433,-3690.97 553.986,-3792.68 554.539,-3896.15 555.091,-4001.4 555.644,-4108.46 556.197,-4217.35 556.75,-4328.08 557.302,-4440.69 557.855,-4555.18 558.408,-4671.59 \n",
       "  558.961,-4789.94 559.513,-4910.25 560.066,-5032.54 560.619,-5156.83 561.172,-5283.15 561.724,-5411.53 562.277,-5541.97 562.83,-5674.52 563.383,-5809.19 563.935,-5946 \n",
       "  564.488,-6084.98 565.041,-6226.16 565.594,-6369.55 566.146,-6515.19 566.699,-6663.1 567.252,-6813.3 567.805,-6965.82 568.357,-7120.68 568.91,-7277.91 569.463,-7437.54 \n",
       "  570.016,-7599.59 570.569,-7764.08 571.121,-7931.05 571.674,-8100.52 572.227,-8272.52 572.78,-8447.08 573.332,-8624.21 573.885,-8803.95 574.438,-8986.33 574.991,-9171.38 \n",
       "  575.543,-9359.11 576.096,-9549.57 576.649,-9742.78 577.202,-9938.76 577.754,-10137.6 578.307,-10339.2 578.86,-10543.7 579.413,-10751.1 579.965,-10961.4 580.518,-11174.6 \n",
       "  581.071,-11390.9 581.624,-11610.1 582.176,-11832.4 582.729,-12057.8 583.282,-12286.3 583.835,-12517.9 584.387,-12752.7 584.94,-12990.7 585.493,-13231.9 586.046,-13476.4 \n",
       "  586.598,-13724.2 587.151,-13975.3 587.704,-14229.8 588.257,-14487.6 588.809,-14748.9 589.362,-15013.7 589.915,-15281.9 590.468,-15553.7 591.02,-15829.1 591.573,-16108 \n",
       "  592.126,-16390.6 \n",
       "  \"/>\n",
       "<polyline clip-path=\"url(#clip02)\" style=\"stroke:#000000; stroke-width:1; stroke-opacity:1; fill:none\" points=\"\n",
       "  39.3701,192.126 592.126,192.126 \n",
       "  \"/>\n",
       "<polyline clip-path=\"url(#clip02)\" style=\"stroke:#000000; stroke-width:1; stroke-opacity:1; fill:none\" points=\"\n",
       "  39.3701,192.126 592.126,192.126 \n",
       "  \"/>\n",
       "<polyline clip-path=\"url(#clip02)\" style=\"stroke:#000000; stroke-width:1; stroke-opacity:1; fill:none\" points=\"\n",
       "  39.3701,376.378 39.3701,7.87402 \n",
       "  \"/>\n",
       "<polyline clip-path=\"url(#clip02)\" style=\"stroke:#000000; stroke-width:1; stroke-opacity:1; fill:none\" points=\"\n",
       "  39.3701,376.378 39.3701,7.87402 \n",
       "  \"/>\n",
       "<polygon clip-path=\"url(#clip00)\" points=\"\n",
       "501.61,58.994 574.126,58.994 574.126,28.754 501.61,28.754 \n",
       "  \" fill=\"#ffffff\" fill-opacity=\"1\"/>\n",
       "<polyline clip-path=\"url(#clip00)\" style=\"stroke:#000000; stroke-width:1; stroke-opacity:1; fill:none\" points=\"\n",
       "  501.61,58.994 574.126,58.994 574.126,28.754 501.61,28.754 501.61,58.994 \n",
       "  \"/>\n",
       "<polyline clip-path=\"url(#clip00)\" style=\"stroke:#009af9; stroke-width:1; stroke-opacity:1; fill:none\" points=\"\n",
       "  507.61,43.874 543.61,43.874 \n",
       "  \"/>\n",
       "<g clip-path=\"url(#clip00)\">\n",
       "<text style=\"fill:#000000; fill-opacity:1; font-family:Arial,Helvetica Neue,Helvetica,sans-serif; font-size:12; text-anchor:start;\" transform=\"rotate(0, 549.61, 48.374)\" x=\"549.61\" y=\"48.374\">y1</text>\n",
       "</g>\n",
       "</svg>\n"
      ]
     },
     "execution_count": 36,
     "metadata": {},
     "output_type": "execute_result"
    }
   ],
   "source": [
    "n = 6\n",
    "x = linspace(0.0, n + 1 , 1001)\n",
    "\n",
    "plot(x, wilkinson.(x, n))\n",
    "plot!(ylims=(-8, 8))\n",
    "hline!([0,0], color = :black, label = \"\")\n",
    "vline!([0,0], color = :black, label = \"\")"
   ]
  },
  {
   "cell_type": "code",
   "execution_count": 37,
   "metadata": {
    "scrolled": true
   },
   "outputs": [
    {
     "data": {
      "text/plain": [
       "6-element Array{Intervalos.Intervalo,1}:\n",
       " Intervalos.Intervalo(1.0, 1.0)\n",
       " Intervalos.Intervalo(3.0, 3.0)\n",
       " Intervalos.Intervalo(2.0, 2.0)\n",
       " Intervalos.Intervalo(5.0, 5.0)\n",
       " Intervalos.Intervalo(4.0, 4.0)\n",
       " Intervalos.Intervalo(6.0, 6.0)"
      ]
     },
     "execution_count": 37,
     "metadata": {},
     "output_type": "execute_result"
    }
   ],
   "source": [
    "n = 6\n",
    "\n",
    "function wilkinson(x)\n",
    "    y = 1\n",
    "    for i in 1:n\n",
    "        y *= (x - i)\n",
    "    end\n",
    "    y\n",
    "end\n",
    "\n",
    "rs = newtonIntervalExten(wilkinson, Intervalo(0, n + 1))"
   ]
  },
  {
   "cell_type": "code",
   "execution_count": 38,
   "metadata": {
    "scrolled": false
   },
   "outputs": [
    {
     "data": {
      "text/plain": [
       "150-element Array{Intervalos.Intervalo,1}:\n",
       " Intervalos.Intervalo(21.0, 21.0)  \n",
       " Intervalos.Intervalo(19.0, 19.0)  \n",
       " Intervalos.Intervalo(20.0, 20.0)  \n",
       " Intervalos.Intervalo(23.0, 23.0)  \n",
       " Intervalos.Intervalo(22.0, 22.0)  \n",
       " Intervalos.Intervalo(25.0, 25.0)  \n",
       " Intervalos.Intervalo(26.0, 26.0)  \n",
       " Intervalos.Intervalo(24.0, 24.0)  \n",
       " Intervalos.Intervalo(27.0, 27.0)  \n",
       " Intervalos.Intervalo(28.0, 28.0)  \n",
       " Intervalos.Intervalo(29.0, 29.0)  \n",
       " Intervalos.Intervalo(30.0, 30.0)  \n",
       " Intervalos.Intervalo(31.0, 31.0)  \n",
       "   ⋮                               \n",
       " Intervalos.Intervalo(118.0, 118.0)\n",
       " Intervalos.Intervalo(116.0, 116.0)\n",
       " Intervalos.Intervalo(123.0, 123.0)\n",
       " Intervalos.Intervalo(124.0, 124.0)\n",
       " Intervalos.Intervalo(125.0, 125.0)\n",
       " Intervalos.Intervalo(127.0, 127.0)\n",
       " Intervalos.Intervalo(126.0, 126.0)\n",
       " Intervalos.Intervalo(129.0, 129.0)\n",
       " Intervalos.Intervalo(128.0, 128.0)\n",
       " Intervalos.Intervalo(131.0, 131.0)\n",
       " Intervalos.Intervalo(132.0, 132.0)\n",
       " Intervalos.Intervalo(130.0, 130.0)"
      ]
     },
     "execution_count": 38,
     "metadata": {},
     "output_type": "execute_result"
    }
   ],
   "source": [
    "n = 150\n",
    "\n",
    "function wilkinson(x)\n",
    "    y = 1\n",
    "    for i in 1:n\n",
    "        y *= (x - i)\n",
    "    end\n",
    "    y\n",
    "end\n",
    "\n",
    "rs = newtonIntervalExten(wilkinson, Intervalo(0, n + 1))"
   ]
  },
  {
   "cell_type": "code",
   "execution_count": null,
   "metadata": {},
   "outputs": [],
   "source": []
  }
 ],
 "metadata": {
  "kernelspec": {
   "display_name": "Julia 0.6.0",
   "language": "julia",
   "name": "julia-0.6"
  },
  "language_info": {
   "file_extension": ".jl",
   "mimetype": "application/julia",
   "name": "julia",
   "version": "0.6.0"
  },
  "toc": {
   "nav_menu": {},
   "number_sections": false,
   "sideBar": true,
   "skip_h1_title": false,
   "toc_cell": false,
   "toc_position": {
    "height": "429px",
    "left": "0px",
    "right": "727.2px",
    "top": "112px",
    "width": "212px"
   },
   "toc_section_display": "block",
   "toc_window_display": false
  }
 },
 "nbformat": 4,
 "nbformat_minor": 1
}
