{
 "cells": [
  {
   "cell_type": "markdown",
   "metadata": {},
   "source": [
    "# Método de Taylor de integración de EDOs"
   ]
  },
  {
   "cell_type": "markdown",
   "metadata": {},
   "source": [
    "En el notebook [anterior](https://github.com/dpsanders/metodos_numericos_garantizados/blob/master/notebooks/8.%20Series%20de%20Taylor.ipynb) hicimos varios ejercicios relacionados con desarrollos de Taylor de funciones suaves (de una variable), y cómo construir éstas para las funciones elementales. En este notebook, extenderemos esas ideas para construir la solución de un problema de valor inicial (ecuación diferencial ordinaria con condición inicial)."
   ]
  },
  {
   "cell_type": "markdown",
   "metadata": {},
   "source": [
    "En particular, en el último ejercicio, demostraron que, dado el problema de valor inicial\n",
    "\n",
    "\\begin{equation}\n",
    "\\dot{x} = f(t,x), \\quad x(0)=x_0,\n",
    "\\end{equation}\n",
    "\n",
    "entonces, *la solución* $x(t)$ de esta ecuación, para tiempos suficientemente cercanos a $t_0=0$, la podemos escribir como:\n",
    "\n",
    "\\begin{equation}\n",
    "x(t) = \\sum_{k=0} x_{[k]}(t_0) \\; (t-t_0)^k,\n",
    "\\end{equation}\n",
    "\n",
    "donde los coeficientes del desarrollo satisfacen la relación de recurrencia:\n",
    "\n",
    "$$ x_{[n+1]}(t_0) = \\frac{f_{[n]}(t_0)}{n+1}, $$\n",
    "\n",
    "y $f_{[n]}(t_0)$ son los coeficientes del desarrollo en serie de Taylor de $f(t,x)$ alrededor de $t_0=0$."
   ]
  },
  {
   "cell_type": "markdown",
   "metadata": {},
   "source": [
    " "
   ]
  },
  {
   "cell_type": "markdown",
   "metadata": {},
   "source": [
    "**[1]** Enuncia el teorema de existencia y unicidad de la solución del problema de valor inicial."
   ]
  },
  {
   "cell_type": "markdown",
   "metadata": {},
   "source": [
    "Sea  $f(t, x):\\Omega\\subseteq\\mathbb{R}\\times\\mathbb{R}^n\\longrightarrow\\mathbb{R}^n$, donde $\\Omega $ es abierto, una función continua y localmente Lipschitz respecto de \n",
    "$x$ (interprétese $f(t, x)$ como la forma estándar de una EDO n-dimensional de primer orden). Entonces, dado $Ω(t_{0}, x_{0}) \\in \\Omega$, podemos encontrar un intervalo cerrado  $I_{\\alpha}=[t_{0}-\\alpha, t_{0}+\\alpha]\\subset \\mathbb{R}, \\alpha \\in \\mathbb{R}$ donde existe solución única del siguiente problema de Cauchy:\n",
    "\n",
    "$$\\begin{cases}x'=f(t, x) \\\\ x(t_{0})=x_{0}\\end{cases}$$\n",
    "\n",
    "que cumple que los pares $(t, x(t)) \\in \\Omega, \\forall t \\in I_{\\alpha}$."
   ]
  },
  {
   "cell_type": "markdown",
   "metadata": {},
   "source": [
    "**[2]** Considera la ecuación diferencial y la condición inicial siguientes:\n",
    "\n",
    "$$ \\dot{x} = x^2, \\quad x(0)=3. $$\n",
    "\n",
    "(a) ¿Cuál es la solución analítica (\"exacta\") de esta ecuación?\n",
    "\n",
    "* $x(t) = -\\dfrac{1}{t + c}$, de la condición inicial inicial tenemos $c = -\\frac{1}{3}$\n",
    "\n",
    "(b) ¿Existe la solución $x(t)$ para todo $t\\in\\mathbb{R}$?\n",
    "\n",
    "* No, en este caso no exite para $t = \\frac{1}{3}$\n",
    "\n",
    "(c) Partiendo de la condición inicial, construye explícitamente la solución en serie de Taylor de la ecuación anterior, digamos hasta orden 3. Esto lo haremos sustituyendo la aproximación que tenemos de la solución (que inicialmente es $x(t)\\rightarrow x_0$) en la ecuación diferencial, y obteniendo sucesivamente los coeficientes de orden superior de la serie.\n",
    "\n",
    "* $x_{[0]} = x_0 = 3$\n",
    "* $x_{[1]} = (x(t))^2 = (x_0)^2 $\n",
    "* $2x_{[2]}t = (x(t))^2 = (x_0 + x_0^2 t)^2 = 2x_0x_0^2 t \\implies x_{[2]} = x_0^3 $\n",
    "* $3x_{[3]}t^2 = (x(t))^2 = (x_0 + x_0^2 t + x_0^3 t^2)^2 = x_0^4t^2 + 2x_0x_0^3 t^2 \\implies x_{[3]} = x_0^4 $\n",
    "* $4x_{[4]}t^3 = (x(t))^2 = (x_0 + x_0^2 t + x_0^3 t^2 + x_0^4 t^3)^2 = 2x_0^2x_0^3t^3 + 2x_0x_0^4 t^3  \\implies x_{[4]} = x_0^5 $\n",
    "\n",
    "(d) Implementa el punto anterior en la computadora, usando la estructura que definiste para las series de Taylor en el notebook anterior.\n",
    "\n"
   ]
  },
  {
   "cell_type": "code",
   "execution_count": 41,
   "metadata": {},
   "outputs": [
    {
     "data": {
      "text/plain": [
       "^ (generic function with 53 methods)"
      ]
     },
     "execution_count": 41,
     "metadata": {},
     "output_type": "execute_result"
    }
   ],
   "source": [
    "mutable struct Taylor\n",
    "    orden::Int64\n",
    "    coef::Array{Float64, 1}\n",
    "    Taylor(coef) = new(length(coef)-1, coef)\n",
    "end\n",
    "\n",
    "import Base: +, -, *, /,^, getindex, setindex!,==\n",
    "\n",
    "function getindex(f::Taylor, i::Int64)\n",
    "    f.coef[i + 1]\n",
    "end\n",
    "\n",
    "function getindex(f::Taylor, r::UnitRange{Int64})\n",
    "    newcoef = f.coef[(r[1] +1): (r[end] +1)]\n",
    "    Taylor(newcoef)\n",
    "end\n",
    "\n",
    "function setindex!(f::Taylor, x::Float64, i::Int64)\n",
    "    f.coef[i + 1] = x\n",
    "end\n",
    "\n",
    "function setindex!(f::Taylor, x::Int64, i::Int64)\n",
    "    f.coef[i + 1] = x\n",
    "end\n",
    "\n",
    "function ==(f::Taylor, g::Taylor)\n",
    "    f.orden == g.orden && f.coef == g.coef  ? true : false\n",
    "end\n",
    "\n",
    "function +(f::Taylor, g::Taylor)\n",
    "    if f.orden == g.orden\n",
    "        Taylor(f.coef .+ g.coef)\n",
    "    elseif f.orden < g.orden\n",
    "        Taylor(f.coef[1:f.orden + 1] .+ g.coef[1:f.orden + 1])\n",
    "    else\n",
    "        Taylor(g.coef[1:g.orden + 1] .+ f.coef[1:g.orden + 1])\n",
    "    end\n",
    "end\n",
    "\n",
    "function -(f::Taylor, g::Taylor)\n",
    "    if f.orden == g.orden\n",
    "        Taylor(f.coef .- g.coef)\n",
    "    elseif f.orden < g.orden\n",
    "        Taylor(f.coef[1:f.orden + 1] .- g.coef[1:f.orden + 1])\n",
    "    else\n",
    "        Taylor(-g.coef[1:g.orden + 1] .+ f.coef[1:g.orden + 1])\n",
    "    end\n",
    "end\n",
    "\n",
    "function *(f::Taylor, g::Taylor)\n",
    "    f.orden != g.orden && error(\"Ordenes distintos\")\n",
    "    newcoef = Array{Float64, 1}(f.orden + 1)\n",
    "    for k in 0:f.orden \n",
    "        Taylori = 0.0\n",
    "        for i in 0:k\n",
    "            Taylori += f[i]*g[k - i]  \n",
    "        end\n",
    "        newcoef[k + 1] = Taylori \n",
    "    end\n",
    "    Taylor(newcoef)\n",
    "end\n",
    "\n",
    "function /(f::Taylor, g::Taylor)\n",
    "    f.orden != g.orden && error(\"Ordenes distintos\")\n",
    "    newcoef = Array{Float64, 1}(f.orden + 1)\n",
    "    \n",
    "    for k in 0:f.orden \n",
    "        Taylori = f[k]\n",
    "        for i in 0:k - 1\n",
    "            Taylori -= (f[i]/g[i])*g[k - i]  \n",
    "        end\n",
    "        newcoef[k + 1] = Taylori/g[0] \n",
    "    end\n",
    "    Taylor(newcoef)\n",
    "end\n",
    "\n",
    "\n",
    "function ^(f::Taylor, n::Int64)\n",
    "    newTaylor = f\n",
    "    for i in 1:n-1\n",
    "        newTaylor *= f\n",
    "    end\n",
    "    newTaylor\n",
    "end"
   ]
  },
  {
   "cell_type": "code",
   "execution_count": 76,
   "metadata": {},
   "outputs": [
    {
     "data": {
      "text/plain": [
       "serieTaylor (generic function with 2 methods)"
      ]
     },
     "execution_count": 76,
     "metadata": {},
     "output_type": "execute_result"
    }
   ],
   "source": [
    "function serieTaylor(f,  x0::Float64, orden::Int64=10)\n",
    "    newTaylor = Taylor(zeros(orden + 1))\n",
    "    newTaylor[0] = x0\n",
    "    newTaylor[1] = f(x0)\n",
    "    for i in 2:orden\n",
    "        x0 = newTaylor[0:i]\n",
    "        newTaylor[i] = (f(x0)[i-1])/(i)\n",
    "    end\n",
    "    newTaylor\n",
    "end"
   ]
  },
  {
   "cell_type": "code",
   "execution_count": 77,
   "metadata": {},
   "outputs": [
    {
     "data": {
      "text/plain": [
       "f (generic function with 1 method)"
      ]
     },
     "execution_count": 77,
     "metadata": {},
     "output_type": "execute_result"
    }
   ],
   "source": [
    "f(x) = x^2"
   ]
  },
  {
   "cell_type": "code",
   "execution_count": 118,
   "metadata": {},
   "outputs": [
    {
     "data": {
      "text/plain": [
       "Taylor(10, [3.0, 9.0, 27.0, 81.0, 243.0, 729.0, 2187.0, 6561.0, 19683.0, 59049.0, 177147.0])"
      ]
     },
     "execution_count": 118,
     "metadata": {},
     "output_type": "execute_result"
    }
   ],
   "source": [
    "T2 = serieTaylor(f, 3.0)"
   ]
  },
  {
   "cell_type": "code",
   "execution_count": 98,
   "metadata": {},
   "outputs": [
    {
     "data": {
      "text/plain": [
       "3.0"
      ]
     },
     "execution_count": 98,
     "metadata": {},
     "output_type": "execute_result"
    }
   ],
   "source": [
    "(177147.0)*(1/3^10)"
   ]
  },
  {
   "cell_type": "code",
   "execution_count": 99,
   "metadata": {},
   "outputs": [
    {
     "data": {
      "text/plain": [
       "g (generic function with 1 method)"
      ]
     },
     "execution_count": 99,
     "metadata": {},
     "output_type": "execute_result"
    }
   ],
   "source": [
    "g(x) = x^3"
   ]
  },
  {
   "cell_type": "code",
   "execution_count": 100,
   "metadata": {},
   "outputs": [
    {
     "data": {
      "text/plain": [
       "Taylor(10, [2.0, 8.0, 48.0, 320.0, 2240.0, 16128.0, 118272.0, 878592.0, 6.58944e6, 4.97869e7, 3.7838e8])"
      ]
     },
     "execution_count": 100,
     "metadata": {},
     "output_type": "execute_result"
    }
   ],
   "source": [
    "T = serieTaylor(g, 2.0)"
   ]
  },
  {
   "cell_type": "code",
   "execution_count": 101,
   "metadata": {},
   "outputs": [
    {
     "data": {
      "text/plain": [
       "4.5"
      ]
     },
     "execution_count": 101,
     "metadata": {},
     "output_type": "execute_result"
    }
   ],
   "source": [
    "9/2"
   ]
  },
  {
   "cell_type": "code",
   "execution_count": 122,
   "metadata": {},
   "outputs": [
    {
     "name": "stdout",
     "output_type": "stream",
     "text": [
      "T2[i] * t ^ i = 5.0805263425290837e-5\n"
     ]
    },
    {
     "data": {
      "text/plain": [
       "4.499974597368288"
      ]
     },
     "execution_count": 122,
     "metadata": {},
     "output_type": "execute_result"
    }
   ],
   "source": [
    "t = 1/9\n",
    "xt = 0\n",
    "n = T2.orden\n",
    "for i in 0:n\n",
    "    xt += T2[i]*t^i\n",
    "    if i == n \n",
    "        @show T2[i]*t^i\n",
    "    end\n",
    "        \n",
    "end\n",
    "xt"
   ]
  },
  {
   "cell_type": "markdown",
   "metadata": {},
   "source": [
    "**[3]** (Paso de integración.) \n",
    "\n",
    "Consideremos que hemos obtenido una aproximación en serie de la solución de un problema de valor inicial hasta orden $P$. Suponiendo que $P$ es suficientemente grande para que podeamos suponer que estamos en la *cola convergente* de la serie, entonces *impondremos* que el último término de la serie obtenida sea, en valor absoluto menor, que $\\epsilon_\\textrm{abs}$. \n",
    "\n",
    "(a) Muestra que estas suposiciones permiten obtener un paso de integración.\n",
    "\n",
    "(b) ¿Qué pasa con el paso de integración (aumenta o disminuye) si aumentamos el orden de la serie?\n",
    "\n",
    "(c) ¿Es el paso de integración fijo (constante) o varía? Argumenta.\n",
    "\n",
    "(d) Implementa una función que determine el paso de integración y úsala para la ecuación diferencial del ejercicio **2**."
   ]
  },
  {
   "cell_type": "code",
   "execution_count": 93,
   "metadata": {},
   "outputs": [
    {
     "data": {
      "text/plain": [
       "2.220446049250313e-16"
      ]
     },
     "execution_count": 93,
     "metadata": {},
     "output_type": "execute_result"
    }
   ],
   "source": [
    "epsilon = eps()"
   ]
  },
  {
   "cell_type": "code",
   "execution_count": null,
   "metadata": {
    "collapsed": true
   },
   "outputs": [],
   "source": [
    "function serieTaylor(f,  x0::Float64, orden::Int64=10)\n",
    "    newTaylor = Taylor(zeros(orden + 1))\n",
    "    newTaylor[0] = x0\n",
    "    newTaylor[1] = f(x0)\n",
    "    for i in 2:orden\n",
    "        x0 = newTaylor[0:i]\n",
    "        newTaylor[i] = (f(x0)[i-1])/(i)\n",
    "    end\n",
    "    newTaylor\n",
    "end"
   ]
  },
  {
   "cell_type": "markdown",
   "metadata": {},
   "source": [
    "**[4]** \n",
    "\n",
    "(a) Implementa una función que integra lo que hemos hecho hasta ahora. Esto es, que genere el desarrollo local de la serie de Taylor (ver ejercicio **2**(d)), que use esta serie para obtener el paso de integración $h$, y que usando ambos, genere la *nueva* condición inicial al tiempo $t_0+h$. Para el último punto, usa el método de Horner (pregúntale a google) para sumar la serie.\n",
    "\n",
    "(b) Usa tu función con el problema e integra varios pasos de integración. ¿Puedes integrar más allá de $t=1$?"
   ]
  },
  {
   "cell_type": "code",
   "execution_count": null,
   "metadata": {
    "collapsed": true
   },
   "outputs": [],
   "source": []
  },
  {
   "cell_type": "markdown",
   "metadata": {},
   "source": [
    "**[5]** \n",
    "\n",
    "(a) Muestra que la solución del problema de valor inicial se puede escribir como\n",
    "\n",
    "$$ x(t) = x_0 + \\int_{t_0}^t f(s, x) \\,\\textrm{d}s. $$\n",
    "\n",
    "Esta relación, vista como un operador $(t_0, x_0)\\rightarrow (t,x(t))$, se le conoce como\n",
    "el operador de Picard-Lindelöf.\n",
    "\n",
    "(b) Muestra que *iteraciones sucesivas* del operador de Picard-Lindelöf, obtenidas al ir truncando la serie de Taylor de $f(t,x)$ de manera consistente, generan la misma regla de recurrencia para la solución en términos de la serie de Taylor. Lo más sencillo es partir de la serie a orden $k$ de la solución de la ecuación diferencial, y obtener el siguiente término.\n",
    "\n",
    "(c) Implementa una función que integre una serie (en una variable independiente); trata a la constante de integración (que sería la condición inicial en este caso) como un parámetro de la función.\n",
    "\n",
    "(d) Construye la solución del ejercicio **2** usando *iteraciones* de Picard."
   ]
  },
  {
   "cell_type": "code",
   "execution_count": null,
   "metadata": {
    "collapsed": true
   },
   "outputs": [],
   "source": []
  }
 ],
 "metadata": {
  "kernel_info": {
   "name": "julia-0.6"
  },
  "kernelspec": {
   "display_name": "Julia 0.6.2",
   "language": "julia",
   "name": "julia-0.6"
  },
  "language_info": {
   "file_extension": ".jl",
   "mimetype": "application/julia",
   "name": "julia",
   "version": "0.6.2"
  },
  "nteract": {
   "version": "0.8.4"
  },
  "toc": {
   "nav_menu": {},
   "number_sections": false,
   "sideBar": true,
   "skip_h1_title": false,
   "toc_cell": false,
   "toc_position": {},
   "toc_section_display": "block",
   "toc_window_display": false
  }
 },
 "nbformat": 4,
 "nbformat_minor": 2
}
