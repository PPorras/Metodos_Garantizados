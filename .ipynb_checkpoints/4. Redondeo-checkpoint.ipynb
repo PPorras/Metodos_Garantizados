{
 "cells": [
  {
   "cell_type": "markdown",
   "metadata": {},
   "source": [
    "# Redondeo"
   ]
  },
  {
   "cell_type": "markdown",
   "metadata": {},
   "source": [
    "**[1]**\n",
    "\n",
    "(i) Usando el tipo `MiFloat`, ¿qué obtienes si sumas el número más grande posible consigo mismo? Para cualquier ejemplo, considera la base 2 con `prec=3`, `rmin=-1`, `rmax=2`.\n",
    "\n",
    "(ii) ¿Cómo se te ocurre representar el resultado?\n",
    "\n",
    "(iii) Y si sumas el número más grande con cualquier otro distinto de cero, ¿qué se obtiene?"
   ]
  },
  {
   "cell_type": "code",
   "execution_count": 1,
   "metadata": {},
   "outputs": [
    {
     "data": {
      "text/plain": [
       "2"
      ]
     },
     "execution_count": 1,
     "metadata": {},
     "output_type": "execute_result"
    }
   ],
   "source": [
    "const prec = 3\n",
    "const rmin = -1\n",
    "const rmax = 2"
   ]
  },
  {
   "cell_type": "code",
   "execution_count": 2,
   "metadata": {
    "collapsed": true
   },
   "outputs": [],
   "source": [
    "struct MiFloat \n",
    "    base ::Int\n",
    "    sigma ::Bool\n",
    "    expo ::Int\n",
    "    mant ::NTuple{prec, Int}\n",
    "    function MiFloat(base,sigma,expo,mant)\n",
    "        @assert base >= 2 \"Base tiene que ser mayor igual que dos\" \n",
    "        for i in mant\n",
    "            @assert i < base \"Los elementos de la mantisa deben ser menores que la base\"\n",
    "        end\n",
    "        @assert rmin <= expo  <= rmax \"expo fuera de rango\"\n",
    "        \n",
    "        new(base, sigma, expo, mant)\n",
    "    end\n",
    "end"
   ]
  },
  {
   "cell_type": "code",
   "execution_count": 3,
   "metadata": {},
   "outputs": [
    {
     "data": {
      "text/plain": [
       "superFloat (generic function with 1 method)"
      ]
     },
     "execution_count": 3,
     "metadata": {},
     "output_type": "execute_result"
    }
   ],
   "source": [
    "function superFloat(x::MiFloat)\n",
    "    if x.sigma \n",
    "        signo = -1\n",
    "    else\n",
    "        signo = 1\n",
    "    end\n",
    "    f = 0.0\n",
    "    for i in 1:length(x.mant)\n",
    "        f += (x.mant[i]/convert(Float64, x.base^(i-1)))*\n",
    "        convert(Float64,x.base)^x.expo\n",
    "    end\n",
    "    f*signo\n",
    "end"
   ]
  },
  {
   "cell_type": "code",
   "execution_count": 4,
   "metadata": {},
   "outputs": [
    {
     "data": {
      "text/plain": [
       "MiFloat(2, true, 2, (1, 1, 1))"
      ]
     },
     "execution_count": 4,
     "metadata": {},
     "output_type": "execute_result"
    }
   ],
   "source": [
    "x = MiFloat(2,false,2,(1,1,1))\n",
    "y = MiFloat(2,true,2,(1,1,1))"
   ]
  },
  {
   "cell_type": "code",
   "execution_count": 5,
   "metadata": {},
   "outputs": [
    {
     "ename": "LoadError",
     "evalue": "\u001b[91mMethodError: no method matching +(::MiFloat, ::MiFloat)\u001b[0m\nClosest candidates are:\n  +(::Any, ::Any, \u001b[91m::Any\u001b[39m, \u001b[91m::Any...\u001b[39m) at operators.jl:424\u001b[39m",
     "output_type": "error",
     "traceback": [
      "\u001b[91mMethodError: no method matching +(::MiFloat, ::MiFloat)\u001b[0m\nClosest candidates are:\n  +(::Any, ::Any, \u001b[91m::Any\u001b[39m, \u001b[91m::Any...\u001b[39m) at operators.jl:424\u001b[39m",
      "",
      "Stacktrace:",
      " [1] \u001b[1minclude_string\u001b[22m\u001b[22m\u001b[1m(\u001b[22m\u001b[22m::String, ::String\u001b[1m)\u001b[22m\u001b[22m at \u001b[1m./loading.jl:522\u001b[22m\u001b[22m"
     ]
    }
   ],
   "source": [
    "x + y"
   ]
  },
  {
   "cell_type": "code",
   "execution_count": 6,
   "metadata": {},
   "outputs": [
    {
     "data": {
      "text/plain": [
       "14.0"
      ]
     },
     "execution_count": 6,
     "metadata": {},
     "output_type": "execute_result"
    }
   ],
   "source": [
    "superFloat(x) + superFloat(x)"
   ]
  },
  {
   "cell_type": "code",
   "execution_count": 7,
   "metadata": {},
   "outputs": [
    {
     "name": "stdout",
     "output_type": "stream",
     "text": [
      "superFloat(x) = 7.0\n",
      "superFloat(y) = -7.0\n"
     ]
    },
    {
     "data": {
      "text/plain": [
       "-7.0"
      ]
     },
     "execution_count": 7,
     "metadata": {},
     "output_type": "execute_result"
    }
   ],
   "source": [
    "@show(superFloat(x),superFloat(y))"
   ]
  },
  {
   "cell_type": "code",
   "execution_count": 8,
   "metadata": {},
   "outputs": [
    {
     "data": {
      "text/plain": [
       "0.0"
      ]
     },
     "execution_count": 8,
     "metadata": {},
     "output_type": "execute_result"
    }
   ],
   "source": [
    "superFloat(x) + superFloat(y)"
   ]
  },
  {
   "cell_type": "code",
   "execution_count": null,
   "metadata": {
    "collapsed": true
   },
   "outputs": [],
   "source": []
  },
  {
   "cell_type": "markdown",
   "metadata": {},
   "source": [
    "**[2]** Sobrecarga la función `show` (que existe en `Base`) para representa de manera agradable los números tipo `MiFloat`."
   ]
  },
  {
   "cell_type": "code",
   "execution_count": 9,
   "metadata": {
    "collapsed": true
   },
   "outputs": [],
   "source": [
    "function Base.show(io::IO, m::MiFloat) \n",
    "    base = m.base\n",
    "    sigma = (-1)^Int(m.sigma)\n",
    "    expo = m.expo\n",
    "    mantisa = m.mant\n",
    "    println(io, \"$sigma $mantisa × $base^$expo\")\n",
    "end"
   ]
  },
  {
   "cell_type": "code",
   "execution_count": 10,
   "metadata": {},
   "outputs": [
    {
     "data": {
      "text/plain": [
       "1 (1, 1, 1) × 4^2\n"
      ]
     },
     "execution_count": 10,
     "metadata": {},
     "output_type": "execute_result"
    }
   ],
   "source": [
    "MiFloat(4, false, 2, (1, 1, 1))"
   ]
  },
  {
   "cell_type": "code",
   "execution_count": 11,
   "metadata": {},
   "outputs": [
    {
     "ename": "LoadError",
     "evalue": "\u001b[91mMethodError: no method matching +(::MiFloat, ::MiFloat)\u001b[0m\nClosest candidates are:\n  +(::Any, ::Any, \u001b[91m::Any\u001b[39m, \u001b[91m::Any...\u001b[39m) at operators.jl:424\u001b[39m",
     "output_type": "error",
     "traceback": [
      "\u001b[91mMethodError: no method matching +(::MiFloat, ::MiFloat)\u001b[0m\nClosest candidates are:\n  +(::Any, ::Any, \u001b[91m::Any\u001b[39m, \u001b[91m::Any...\u001b[39m) at operators.jl:424\u001b[39m",
      "",
      "Stacktrace:",
      " [1] \u001b[1minclude_string\u001b[22m\u001b[22m\u001b[1m(\u001b[22m\u001b[22m::String, ::String\u001b[1m)\u001b[22m\u001b[22m at \u001b[1m./loading.jl:522\u001b[22m\u001b[22m"
     ]
    }
   ],
   "source": [
    "MiFloat(2, false, -1, (1, 0, 0)) + MiFloat(2, false, -1, (1, 0, 1))"
   ]
  },
  {
   "cell_type": "markdown",
   "metadata": {},
   "source": [
    " "
   ]
  },
  {
   "cell_type": "markdown",
   "metadata": {},
   "source": [
    "Es fácil convencerse que la suma no es cerrada para los números de punto flotante. Considerando por concretez la base 2 con `prec=3`, `rmin=-1`, `rmax=2` para definir `MiFloat`, y por simplicidad sólo considerando los números de punto flotante normales, el resultado de \n",
    "\n",
    "    MiFloat(2, false, -1, (1, 0, 0)) + Mifloat(2, false, -1, (1, 0, 1))\n",
    "    \n",
    "no es un número que puede representarse por `MiFloat`. Justamente esto nos lleva al concepto de *redondeo*."
   ]
  },
  {
   "cell_type": "markdown",
   "metadata": {},
   "source": [
    "## Redondeo"
   ]
  },
  {
   "cell_type": "markdown",
   "metadata": {},
   "source": [
    "Sea $\\mathbb{R}^*$ los **reales extendidos**, o sea, que incluyen a $-\\infty$ e $\\infty$, y $\\mathbb{F}^*$ los números de punto flotante extendidos.\n",
    "\n",
    "Una operación $\\bigcirc: \\mathbb{R}^* \\to \\mathbb{F}$ es una operación de **redondeo** si se cumplen las siguientes dos propiedades:\n",
    "\n",
    "- (1) $x\\in\\mathbb{F}^* \\Longrightarrow \\bigcirc(x) = x$,\n",
    "\n",
    "- (2) $x, y\\in\\mathbb{F}^*$ y $x\\le y \\Longrightarrow \\bigcirc(x) \\le \\bigcirc(y)$."
   ]
  },
  {
   "cell_type": "markdown",
   "metadata": {},
   "source": [
    "Hay diversos tipos de redondeo. En particular nos interesarán los llamados *modos directos* de redondeo. \n",
    "\n",
    "Definiremos el redondeo *hacia abajo* (o hacia menos infinito) y el redondeo *hacia arriba* (o hacia más infinito), que denotaremos respectivamente con los símbolos $\\triangledown$ y $\\vartriangle$, si además se cumple:\n",
    "\n",
    "- $x\\in\\mathbb{R}^* \\Longrightarrow \\triangledown(x) \\leq x$,\n",
    "\n",
    "- $x\\in\\mathbb{R}^* \\Longrightarrow \\, \\vartriangle(x) \\geq x$.\n",
    "\n",
    "De esta manera, si $x\\in\\mathbb{R}^*$, el número $\\triangledown(x)$ es el mayor número de punto flotante menor o igual a x, y $\\vartriangle(x)$ es el menor número de punto flotante mayor o igual a x."
   ]
  },
  {
   "cell_type": "markdown",
   "metadata": {},
   "source": [
    "**[3]** ¿Qué podemos decir de $\\vartriangle(-x)$ y $\\triangledown(x)$ ?"
   ]
  },
  {
   "cell_type": "code",
   "execution_count": null,
   "metadata": {
    "collapsed": true
   },
   "outputs": [],
   "source": []
  },
  {
   "cell_type": "markdown",
   "metadata": {},
   "source": [
    "Otro modo de redondeo ampliamente usado es el llamado *redondeo al más cercano*. La idea es que para todo valor $x$ (menor en valor absoluto al mayor número representable, $N_\\textrm{max}$), se cumple\n",
    "\n",
    "$$ \\triangledown(x) \\leq x \\leq \\,\\vartriangle(x). $$\n",
    "\n",
    "Definiendo el punto medio $\\mu(x) = \\frac{1}{2}(\\triangledown(x)+\\vartriangle(x)\\,),$ definimos para $x > 0$ el modo de redondeo *al más cercano* como\n",
    "\n",
    "\\begin{eqnarray*}\n",
    "\\square_n(x) & = & \\triangledown(x), \\textrm{si } x\\in [\\triangledown(x),\\mu),\\\\\n",
    "\\square_n(x) & = & \\vartriangle(x), \\textrm{si } x\\in[\\mu,\\vartriangle(x)],\\\\\n",
    "\\end{eqnarray*}\n",
    "\n",
    "Para $x<0$, usamos la propiedad $\\square_n(x)= -\\square_n(-x)$."
   ]
  },
  {
   "cell_type": "markdown",
   "metadata": {},
   "source": [
    "En la definición anterior hay una pequeña asimetría que, de hecho, hace que se redondee más hacia arriba o hacia abajo, según el signo de $x$.\n",
    "\n",
    "Para evitar eso, en particular respecto al caso en que $x=\\mu$, se introduce el redondeo *hacia el más cercano par*, explotando el último dígito de la expansión en la base $\\beta$. Escribimos:\n",
    "\n",
    "\\begin{eqnarray}\n",
    "\\triangledown(x) &\\longrightarrow& (a_0.a_1\\dots a_{p-1})_\\beta,\\\\\n",
    "\\vartriangle(x) &\\longrightarrow& (b_0.b_1\\dots b_{p-1})_\\beta.\n",
    "\\end{eqnarray}\n",
    "\n",
    "Si $x\\not\\in \\mathbb{F}^*$ sólo uno de los dos últimos bits de la representación de la mantisa de $\\triangledown(x)$ o $\\vartriangle(x)$ es par. Así, definimos el modo de redondeo $\\square(x)$ *hacia el más cercano par* como ($x>0$):\n",
    "\n",
    "\\begin{eqnarray*}\n",
    "\\square(x) & = & \\triangledown(x), \\textrm{si } x\\in [\\triangledown(x),\\mu), \\textrm{o si } x=\\mu \\textrm{ y } a_{p-1} \\textrm{es par},\\\\\n",
    "\\square(x) & = & \\vartriangle(x), \\textrm{si } x\\in(\\mu,\\vartriangle(x)], \\textrm{o si } x=\\mu \\textrm{ y } b_{p-1} \\textrm{es par}.\n",
    "\\end{eqnarray*}\n",
    "\n",
    "El modo de redondeo $\\square$ es típicamente el modo que se utiliza por default en casi todas las implementaciones de los números de punto flotante."
   ]
  },
  {
   "cell_type": "markdown",
   "metadata": {},
   "source": [
    "Es importante enfatizar que $\\mu$ es un número real, en general no representable como `Float64` (o `MiFloat`). Es por esto que, a fin de poder decidir cómo redondear, se requieren un par de bits más para $\\mu$."
   ]
  },
  {
   "cell_type": "markdown",
   "metadata": {},
   "source": [
    "**[4]** \n",
    "\n",
    "Sobrecarga la operación suma (`+`), definida en `Base`, para que funcione usando dos elementos de `MiFloat`, de tal forma que el usuario pueda elegir qué tipo de redondeo quiere. Incluye varios tests que demuestren el funcionamiento de tu algoritmo.\n",
    "\n",
    "Para hacer esto, una posibilidad es definir una constante `ModoRedondeo` que pueda valer `:RedondArriba`, `:RedondAbajo` o `:RedondMasCercano`. (Nota los \"dos puntos\" `:`; sirven para especificar que estas palabras son símbolos.) La idea es definir apropiadamente las funciones `suma(::Val{:RedondArriba}, a::MiFloat, b::MiFloat)`, `suma(::Val{:RedondAbajo}, a::MiFloat, b::MiFloat)`, `suma(::Val{:RedonddMasCercano}, a::MiFloat, b::MiFloat)`, para sobrecargar la operación `+` llamando a `suma(Val(ModoRedondeo), a, b)`."
   ]
  },
  {
   "cell_type": "code",
   "execution_count": null,
   "metadata": {
    "collapsed": true
   },
   "outputs": [],
   "source": []
  },
  {
   "cell_type": "markdown",
   "metadata": {},
   "source": [
    "**[5]** Escribe una función que permita convertir de `Float64` a `MiFloat`, respetando el modo de redondeo especificado en `ModoRedondeo`."
   ]
  },
  {
   "cell_type": "code",
   "execution_count": null,
   "metadata": {
    "collapsed": true
   },
   "outputs": [],
   "source": []
  },
  {
   "cell_type": "markdown",
   "metadata": {},
   "source": [
    "**[6]** ¿Cómo se te ocurre verificar que `:RedondMasCercano` ($\\square$) no tiene sesgo?"
   ]
  },
  {
   "cell_type": "code",
   "execution_count": null,
   "metadata": {
    "collapsed": true
   },
   "outputs": [],
   "source": []
  },
  {
   "cell_type": "markdown",
   "metadata": {},
   "source": [
    "**[7]** \n",
    "\n",
    "(i) ¿Cómo usarías alguno o algunos modos de redondeo para definir intervalos que garanticen que el punto que estamos buscando esté en el intervalo?\n",
    "\n",
    "(ii) ¿Cuál sería un intervalo apropiado que contiene al número real `0.1`, usando `Float64`? "
   ]
  },
  {
   "cell_type": "code",
   "execution_count": null,
   "metadata": {
    "collapsed": true
   },
   "outputs": [],
   "source": []
  },
  {
   "cell_type": "markdown",
   "metadata": {},
   "source": [
    "**[4]** \n",
    "\n",
    "Sobrecarga la operación suma (`+`), definida en `Base`, para que funcione usando dos elementos de `Mifloat`, de tal forma que el usuario pueda elegir qué tipo de redondeo quiere. Incluye varios tests que demuestren el funcionamiento de tu algoritmo.\n",
    "\n",
    "Para hacer esto, una posibilidad es definir una constante `ModoRedondeo` que pueda valer `:RedondArriba`, `:RedondAbajo` o `:RedondMasCercano`. (Nota los \"dos puntos\" `:`; sirven para especificar que estas palabras son símbolos.) La idea es definir apropiadamente las funciones `suma(::Val{:RedondArriba}, a::Mifloat, b::MiFloat)`, `suma(::Val{:RedondAbajo}, a::MiFloat, b::MiFloat)`, `suma(::Val{:RedonddMasCercano}, a::MiFloat, b::MiFloat)`, para sobrecargar la operación `+` llamando a `suma(Val(ModoRedondeo), a, b)`."
   ]
  },
  {
   "cell_type": "code",
   "execution_count": null,
   "metadata": {
    "collapsed": true
   },
   "outputs": [],
   "source": []
  },
  {
   "cell_type": "markdown",
   "metadata": {},
   "source": [
    "**[5]** Escribe una función que permita convertir de `Float64` a `MiFloat`, respetando el modo de redondeo especificado en `ModoRedondeo`."
   ]
  },
  {
   "cell_type": "code",
   "execution_count": null,
   "metadata": {
    "collapsed": true
   },
   "outputs": [],
   "source": []
  },
  {
   "cell_type": "markdown",
   "metadata": {},
   "source": [
    "**[6]** ¿Cómo se te ocurre verificar que `:RedondMasCercano` ($\\square$) no tiene sesgo?"
   ]
  },
  {
   "cell_type": "code",
   "execution_count": null,
   "metadata": {
    "collapsed": true
   },
   "outputs": [],
   "source": []
  },
  {
   "cell_type": "markdown",
   "metadata": {},
   "source": [
    "**[7]** \n",
    "\n",
    "¿Cómo usarías alguno o varios modos de redondeo para definir intervalos que garantizen que el punto $x$ que estamos buscando esté contenido en un intervalo?\n",
    "\n",
    "¿Cuál sería un intervalo apropiado que contiene al número real `0.1`, usando `Float64`? "
   ]
  },
  {
   "cell_type": "code",
   "execution_count": null,
   "metadata": {
    "collapsed": true
   },
   "outputs": [],
   "source": []
  },
  {
   "cell_type": "markdown",
   "metadata": {},
   "source": [
    "# Errores por el redondeo"
   ]
  },
  {
   "cell_type": "markdown",
   "metadata": {},
   "source": [
    "**Teorema** Si $x$ es un número real en el rango normalizado de $\\mathbb{F}_{\\beta,p}$, entonces el error relativo causado por el redondeo está acotado:\n",
    "\n",
    "\\begin{equation}\n",
    "\\Big|\\frac{x-\\bigcirc(x)}{x} \\Big| < \\varepsilon_M = \\beta^{p-1}.\n",
    "\\end{equation}\n",
    "\n",
    "El error absoluto correspondiente está acotado por $|x|\\,\\varepsilon_M$.\n",
    "\n",
    "(El número $\\varepsilon_M$ se llama \"el epsilon de la máquina\".)"
   ]
  },
  {
   "cell_type": "markdown",
   "metadata": {},
   "source": [
    "**[8]** \n",
    "\n",
    "(i) Ejemplifica el teorema anterior con tu implementación de los distintos modos del redondeo. \n",
    "\n",
    "(ii) Muestra con un par de ejemplos que en el caso de $\\square(x)$, la cota puede reducirse por un factor 0.5.\n",
    "\n",
    "(iii) Muestra que el espaciamiento de dos números de punto flotante consecutivos $x$ y $y$ en el rango normalizado está acotado entre\n",
    "$|x|\\,\\varepsilon_M/\\beta$ y $|x|\\,\\varepsilon_M$.\n",
    "\n",
    "(iv) ¿Cómo se comportan los errores relativos en el rango de los números subnormales? Muestra tu argumentación con un par de ejemplos."
   ]
  },
  {
   "cell_type": "code",
   "execution_count": null,
   "metadata": {
    "collapsed": true
   },
   "outputs": [],
   "source": []
  },
  {
   "cell_type": "markdown",
   "metadata": {},
   "source": [
    "**[9]** Definiremos $x\\oplus y=\\bigcirc(x+y)$, esto es, la suma en la aritmética en $\\mathbb{F}^*$. \n",
    "\n",
    "(i) Muestra que el error relativo (respecto al resultado exacto) de una operación (la suma, en este caso) está acotado por $\\varepsilon_M$.\n",
    "\n",
    "(ii) ¿Se cumple esto si consideramos dos o más sumas? Ilustra tu argumento con algún ejemplo."
   ]
  },
  {
   "cell_type": "code",
   "execution_count": null,
   "metadata": {
    "collapsed": true
   },
   "outputs": [],
   "source": []
  },
  {
   "cell_type": "markdown",
   "metadata": {},
   "source": [
    "**[10]** Considera el mapeo $f(x) = 3x \\textrm{ mod } 1$, con $f:[0,1]\\to[0,1]$.\n",
    "\n",
    "(i) Muestra analíticamente que $x_0= 1/10$ pertenece a un ciclo de periodo 4 de este mapeo.\n",
    "\n",
    "(ii) ¿Puedes mostrar numéricamente (usando `Float64`) este resultado? ¿Qué ocurre si utilizas `BigFloat` y `Rational{Int}`? (Es útil leer la ayuda de la función `mod`.)"
   ]
  },
  {
   "cell_type": "code",
   "execution_count": null,
   "metadata": {
    "collapsed": true
   },
   "outputs": [],
   "source": []
  },
  {
   "cell_type": "markdown",
   "metadata": {},
   "source": [
    "# Resumen"
   ]
  },
  {
   "cell_type": "markdown",
   "metadata": {},
   "source": [
    "**[11]** Escribe un resumen de lo aprendido en este notebook."
   ]
  }
 ],
 "metadata": {
  "kernelspec": {
   "display_name": "Julia 0.6.2",
   "language": "julia",
   "name": "julia-0.6"
  },
  "language_info": {
   "file_extension": ".jl",
   "mimetype": "application/julia",
   "name": "julia",
   "version": "0.6.2"
  },
  "toc": {
   "nav_menu": {},
   "number_sections": true,
   "sideBar": true,
   "skip_h1_title": false,
   "toc_cell": false,
   "toc_position": {},
   "toc_section_display": "block",
   "toc_window_display": false
  }
 },
 "nbformat": 4,
 "nbformat_minor": 2
}
