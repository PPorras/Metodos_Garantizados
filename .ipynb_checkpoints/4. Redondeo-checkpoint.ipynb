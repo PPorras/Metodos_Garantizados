{
 "cells": [
  {
   "cell_type": "markdown",
   "metadata": {},
   "source": [
    "# Redondeo"
   ]
  },
  {
   "cell_type": "markdown",
   "metadata": {},
   "source": [
    "**[1]**\n",
    "\n",
    "(i) Usando el tipo `MiFloat`, ¿qué obtienes si sumas el número más grande posible consigo mismo? Para cualquier ejemplo, considera la base 2 con `prec=3`, `rmin=-1`, `rmax=2`.\n",
    "\n",
    "(ii) ¿Cómo se te ocurre representar el resultado?\n",
    "\n",
    "(iii) Y si sumas el número más grande con cualquier otro distinto de cero, ¿qué se obtiene?"
   ]
  },
  {
   "cell_type": "markdown",
   "metadata": {},
   "source": [
    "**[1]**\n",
    "\n",
    "(i) Usando el tipo `MiFloat`, ¿qué obtienes si sumas el número más grande posible consigo mismo? Para cualquier ejemplo, considera la base 2 con `prec=3`, `rmin=-1`, `rmax=2`.\n",
    "\n",
    "Para ello implementemos el constructor `MiFloat`"
   ]
  },
  {
   "cell_type": "code",
   "execution_count": 1,
   "metadata": {},
   "outputs": [
    {
     "data": {
      "text/plain": [
       "2"
      ]
     },
     "execution_count": 1,
     "metadata": {},
     "output_type": "execute_result"
    }
   ],
   "source": [
    "const prec = 3\n",
    "const rmin = -1\n",
    "const rmax = 2"
   ]
  },
  {
   "cell_type": "code",
   "execution_count": 2,
   "metadata": {
    "collapsed": true
   },
   "outputs": [],
   "source": [
    "struct MiFloat \n",
    "    base ::Int\n",
    "    sigma ::Bool\n",
    "    expo ::Int\n",
    "    mant ::NTuple{prec, Int}\n",
    "    function MiFloat(base,sigma,expo,mant)\n",
    "        @assert base >= 2 \"Base tiene que ser mayor igual que dos\" \n",
    "        for i in mant\n",
    "            @assert i < base \"Los elementos de la mantisa deben ser menores que la base\"\n",
    "        end\n",
    "        @assert rmin <= expo  <= rmax \"expo fuera de rango\"\n",
    "        if mant[1] != 0 || expo == rmin\n",
    "            new(base, sigma, expo, mant)\n",
    "        \n",
    "        elseif mant[1] == 0\n",
    "            allzeros = true\n",
    "            i = 2\n",
    "            while allzeros && i <= prec\n",
    "                if mant[i] == 0\n",
    "                    i +=1\n",
    "                else\n",
    "                    allzeros = false\n",
    "                    error(\"El primero elemento tiene que ser cero o mantisa cero\")\n",
    "                end\n",
    "            end\n",
    "            allzeros ? new(base, sigma, expo, mant) : nothing\n",
    "        end\n",
    "    end\n",
    "end"
   ]
  },
  {
   "cell_type": "code",
   "execution_count": 3,
   "metadata": {},
   "outputs": [
    {
     "data": {
      "text/plain": [
       "MiFloat(2, false, -1, (0, 1, 0))"
      ]
     },
     "execution_count": 3,
     "metadata": {},
     "output_type": "execute_result"
    }
   ],
   "source": [
    "MiFloat(2,false,-1,(0,1,0))"
   ]
  },
  {
   "cell_type": "code",
   "execution_count": 4,
   "metadata": {},
   "outputs": [
    {
     "data": {
      "text/plain": [
       "superFloat (generic function with 1 method)"
      ]
     },
     "execution_count": 4,
     "metadata": {},
     "output_type": "execute_result"
    }
   ],
   "source": [
    "function superFloat(x::MiFloat)\n",
    "    if x.sigma \n",
    "        signo = -1\n",
    "    else\n",
    "        signo = 1\n",
    "    end\n",
    "    f = 0.0\n",
    "    for i in 1:length(x.mant)\n",
    "        f += (x.mant[i]/convert(Float64, x.base^(i-1)))*\n",
    "        convert(Float64,x.base)^x.expo\n",
    "    end\n",
    "    f*signo\n",
    "end"
   ]
  },
  {
   "cell_type": "markdown",
   "metadata": {},
   "source": [
    "Ahora sumemos el número más grande consigo mismo"
   ]
  },
  {
   "cell_type": "code",
   "execution_count": 5,
   "metadata": {},
   "outputs": [
    {
     "data": {
      "text/plain": [
       "generadordemantisa (generic function with 1 method)"
      ]
     },
     "execution_count": 5,
     "metadata": {},
     "output_type": "execute_result"
    }
   ],
   "source": [
    "function generadordemantisa(b,p)\n",
    "    tupla = []\n",
    "    #push!(tupla,(0, 0, 0))\n",
    "    for i in 1:1 ## prec\n",
    "        for j in 0:1 ## base\n",
    "            for k in 0:1\n",
    "                push!(tupla,(i,j,k))\n",
    "            end\n",
    "        end\n",
    "    end\n",
    "    tupla\n",
    "end"
   ]
  },
  {
   "cell_type": "code",
   "execution_count": 6,
   "metadata": {
    "collapsed": true
   },
   "outputs": [],
   "source": [
    "F = []\n",
    "for  j in rmin:rmax, i in false:true\n",
    "    mantisas = generadordemantisa(2,3)\n",
    "    for mantisa in mantisas\n",
    "        y = superFloat(MiFloat(2,i,j,mantisa)) \n",
    "        push!(F,y)\n",
    "    end\n",
    "        \n",
    "end"
   ]
  },
  {
   "cell_type": "code",
   "execution_count": 7,
   "metadata": {},
   "outputs": [
    {
     "name": "stdout",
     "output_type": "stream",
     "text": [
      "0.5\n",
      "0.625\n",
      "0.75\n",
      "0.875\n",
      "-0.5\n",
      "-0.625\n",
      "-0.75\n",
      "-0.875\n",
      "1.0\n",
      "1.25\n",
      "1.5\n",
      "1.75\n",
      "-1.0\n",
      "-1.25\n",
      "-1.5\n",
      "-1.75\n",
      "2.0\n",
      "2.5\n",
      "3.0\n",
      "3.5\n",
      "-2.0\n",
      "-2.5\n",
      "-3.0\n",
      "-3.5\n",
      "4.0\n",
      "5.0\n",
      "6.0\n",
      "7.0\n",
      "-4.0\n",
      "-5.0\n",
      "-6.0\n",
      "-7.0\n"
     ]
    }
   ],
   "source": [
    "for i in F \n",
    "    println(i)\n",
    "end"
   ]
  },
  {
   "cell_type": "code",
   "execution_count": 8,
   "metadata": {
    "collapsed": true
   },
   "outputs": [],
   "source": [
    "using Plots, LaTeXStrings"
   ]
  },
  {
   "cell_type": "code",
   "execution_count": 9,
   "metadata": {},
   "outputs": [
    {
     "data": {
      "text/plain": [
       "32-element Array{Float64,1}:\n",
       " 0.0\n",
       " 0.0\n",
       " 0.0\n",
       " 0.0\n",
       " 0.0\n",
       " 0.0\n",
       " 0.0\n",
       " 0.0\n",
       " 0.0\n",
       " 0.0\n",
       " 0.0\n",
       " 0.0\n",
       " 0.0\n",
       " ⋮  \n",
       " 0.0\n",
       " 0.0\n",
       " 0.0\n",
       " 0.0\n",
       " 0.0\n",
       " 0.0\n",
       " 0.0\n",
       " 0.0\n",
       " 0.0\n",
       " 0.0\n",
       " 0.0\n",
       " 0.0"
      ]
     },
     "execution_count": 9,
     "metadata": {},
     "output_type": "execute_result"
    }
   ],
   "source": [
    "y = zeros(length(F))"
   ]
  },
  {
   "cell_type": "code",
   "execution_count": 10,
   "metadata": {},
   "outputs": [
    {
     "data": {
      "text/html": [
       "<img src=\"data:image/png;base64,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\" />"
      ]
     },
     "execution_count": 10,
     "metadata": {},
     "output_type": "execute_result"
    }
   ],
   "source": [
    "scatter(F, y, ms=3.0, lab=\"números de maquina\",ylim=(-0.5,0.5))\n",
    "vline!(F,line=(1,:dash),color=[:blue :orange])"
   ]
  },
  {
   "cell_type": "markdown",
   "metadata": {},
   "source": [
    "Vemos que número más grande es el $7.0$, es decir;"
   ]
  },
  {
   "cell_type": "code",
   "execution_count": 11,
   "metadata": {},
   "outputs": [
    {
     "data": {
      "text/plain": [
       "7.0"
      ]
     },
     "execution_count": 11,
     "metadata": {},
     "output_type": "execute_result"
    }
   ],
   "source": [
    "x =  superFloat(MiFloat(2,false,2,(1,1,1)))"
   ]
  },
  {
   "cell_type": "code",
   "execution_count": 12,
   "metadata": {},
   "outputs": [
    {
     "data": {
      "text/plain": [
       "14.0"
      ]
     },
     "execution_count": 12,
     "metadata": {},
     "output_type": "execute_result"
    }
   ],
   "source": [
    "x + x "
   ]
  },
  {
   "cell_type": "markdown",
   "metadata": {},
   "source": [
    "Vemos que sumar `x` consigo mismo sale de la aritmetica definida"
   ]
  },
  {
   "cell_type": "markdown",
   "metadata": {},
   "source": [
    "(ii) ¿Cómo se te ocurre representar el resultado?\n",
    "\n"
   ]
  },
  {
   "cell_type": "markdown",
   "metadata": {},
   "source": [
    "(iii) Y si sumas el número más grande con cualquier otro distinto de cero, ¿qué se obtiene?\n",
    "\n",
    "Para ver los anterior generemos otro número "
   ]
  },
  {
   "cell_type": "code",
   "execution_count": 13,
   "metadata": {},
   "outputs": [
    {
     "data": {
      "text/plain": [
       "-2.5"
      ]
     },
     "execution_count": 13,
     "metadata": {},
     "output_type": "execute_result"
    }
   ],
   "source": [
    "y = superFloat(MiFloat(2,true,1,(1,0,1)))"
   ]
  },
  {
   "cell_type": "code",
   "execution_count": 14,
   "metadata": {},
   "outputs": [
    {
     "data": {
      "text/plain": [
       "4.5"
      ]
     },
     "execution_count": 14,
     "metadata": {},
     "output_type": "execute_result"
    }
   ],
   "source": [
    "s = x + y"
   ]
  },
  {
   "cell_type": "markdown",
   "metadata": {},
   "source": [
    "Vemos que $4.5$ no forma parte de los números generados"
   ]
  },
  {
   "cell_type": "code",
   "execution_count": 15,
   "metadata": {
    "collapsed": true
   },
   "outputs": [],
   "source": [
    "for i in F\n",
    "    if i == 5.5\n",
    "        return println(\"Lo encontre\")\n",
    "    end\n",
    "end"
   ]
  },
  {
   "cell_type": "markdown",
   "metadata": {},
   "source": [
    "**[2]** Sobrecarga la función `show` (que existe en `Base`) para representa de manera agradable los números tipo `MiFloat`.\n",
    "\n",
    "Sobrecarguemos dicha función"
   ]
  },
  {
   "cell_type": "code",
   "execution_count": 16,
   "metadata": {
    "collapsed": true
   },
   "outputs": [],
   "source": [
    "function Base.show(io::IO, m::MiFloat) \n",
    "    base = m.base\n",
    "    (-1)^Int(m.sigma) == -1 ? str = \"-\" : str = \" \"     \n",
    "    expo = m.expo\n",
    "    mantisa = m.mant\n",
    "    println(io, str ,\"$mantisa × $base^$expo\")\n",
    "end"
   ]
  },
  {
   "cell_type": "code",
   "execution_count": 17,
   "metadata": {},
   "outputs": [
    {
     "data": {
      "text/plain": [
       " (1, 1, 1) × 2^2\n"
      ]
     },
     "execution_count": 17,
     "metadata": {},
     "output_type": "execute_result"
    }
   ],
   "source": [
    "MiFloat(2,false,2,(1,1,1))"
   ]
  },
  {
   "cell_type": "code",
   "execution_count": 18,
   "metadata": {},
   "outputs": [
    {
     "data": {
      "text/plain": [
       "-(1, 0, 1) × 2^1\n"
      ]
     },
     "execution_count": 18,
     "metadata": {},
     "output_type": "execute_result"
    }
   ],
   "source": [
    "MiFloat(2, true, 1, (1, 0, 1))"
   ]
  },
  {
   "cell_type": "markdown",
   "metadata": {},
   "source": [
    "Es fácil convencerse que la suma no es cerrada para los números de punto flotante. Considerando por concretez la base 2 con `prec=3`, `rmin=-1`, `rmax=2` para definir `MiFloat`, y por simplicidad sólo considerando los números de punto flotante normales, el resultado de \n",
    "\n",
    "    MiFloat(2, false, -1, (1, 0, 0)) + Mifloat(2, false, -1, (1, 0, 1))\n",
    "    \n",
    "no es un número que puede representarse por `MiFloat`. Justamente esto nos lleva al concepto de *redondeo*."
   ]
  },
  {
   "cell_type": "code",
   "execution_count": 19,
   "metadata": {},
   "outputs": [
    {
     "ename": "LoadError",
     "evalue": "\u001b[91mMethodError: no method matching +(::MiFloat, ::MiFloat)\u001b[0m\nClosest candidates are:\n  +(::Any, ::Any, \u001b[91m::Any\u001b[39m, \u001b[91m::Any...\u001b[39m) at operators.jl:424\n  +(\u001b[91m::PyCall.PyObject\u001b[39m, ::Any) at /Users/porras/.julia/v0.6/PyCall/src/pyoperators.jl:11\u001b[39m",
     "output_type": "error",
     "traceback": [
      "\u001b[91mMethodError: no method matching +(::MiFloat, ::MiFloat)\u001b[0m\nClosest candidates are:\n  +(::Any, ::Any, \u001b[91m::Any\u001b[39m, \u001b[91m::Any...\u001b[39m) at operators.jl:424\n  +(\u001b[91m::PyCall.PyObject\u001b[39m, ::Any) at /Users/porras/.julia/v0.6/PyCall/src/pyoperators.jl:11\u001b[39m",
      "",
      "Stacktrace:",
      " [1] \u001b[1minclude_string\u001b[22m\u001b[22m\u001b[1m(\u001b[22m\u001b[22m::String, ::String\u001b[1m)\u001b[22m\u001b[22m at \u001b[1m./loading.jl:515\u001b[22m\u001b[22m"
     ]
    }
   ],
   "source": [
    "MiFloat(2, false, -1, (1, 0, 0)) + MiFloat(2, false, -1, (1, 0, 1))"
   ]
  },
  {
   "cell_type": "markdown",
   "metadata": {},
   "source": [
    "Vemos que no hemos definido la suma para dos `MiFloat`"
   ]
  },
  {
   "cell_type": "code",
   "execution_count": 20,
   "metadata": {},
   "outputs": [
    {
     "data": {
      "text/plain": [
       " (1, 0, 0) × 2^-1\n"
      ]
     },
     "execution_count": 20,
     "metadata": {},
     "output_type": "execute_result"
    }
   ],
   "source": [
    "MiFloat(2, false, -1, (1, 0, 0)) "
   ]
  },
  {
   "cell_type": "markdown",
   "metadata": {},
   "source": [
    "## Redondeo"
   ]
  },
  {
   "cell_type": "markdown",
   "metadata": {},
   "source": [
    "Sea $\\mathbb{R}^*$ los **reales extendidos**, o sea, que incluyen a $-\\infty$ e $\\infty$, y $\\mathbb{F}^*$ los números de punto flotante extendidos.\n",
    "\n",
    "Una operación $\\bigcirc: \\mathbb{R}^* \\to \\mathbb{F}$ es una operación de **redondeo** si se cumplen las siguientes dos propiedades:\n",
    "\n",
    "- (1) $x\\in\\mathbb{F}^* \\Longrightarrow \\bigcirc(x) = x$,\n",
    "\n",
    "- (2) $x, y\\in\\mathbb{F}^*$ y $x\\le y \\Longrightarrow \\bigcirc(x) \\le \\bigcirc(y)$."
   ]
  },
  {
   "cell_type": "markdown",
   "metadata": {},
   "source": [
    "Hay diversos tipos de redondeo. En particular nos interesarán los llamados *modos directos* de redondeo. \n",
    "\n",
    "Definiremos el redondeo *hacia abajo* (o hacia menos infinito) y el redondeo *hacia arriba* (o hacia más infinito), que denotaremos respectivamente con los símbolos $\\triangledown$ y $\\vartriangle$, si además se cumple:\n",
    "\n",
    "- $x\\in\\mathbb{R}^* \\Longrightarrow \\triangledown(x) \\leq x$,\n",
    "\n",
    "- $x\\in\\mathbb{R}^* \\Longrightarrow \\, \\vartriangle(x) \\geq x$.\n",
    "\n",
    "De esta manera, si $x\\in\\mathbb{R}^*$, el número $\\triangledown(x)$ es el mayor número de punto flotante menor o igual a x, y $\\vartriangle(x)$ es el menor número de punto flotante mayor o igual a x."
   ]
  },
  {
   "cell_type": "markdown",
   "metadata": {},
   "source": [
    "**[3]** ¿Qué podemos decir de $\\vartriangle(-x)$ y $\\triangledown(x)$ ?"
   ]
  },
  {
   "cell_type": "markdown",
   "metadata": {},
   "source": [
    "* $\\vartriangle(-x)$  el menor número de punto flotante mayor o igual a $-x$\n",
    "* $\\triangledown(x)$ es el mayor número de punto flotante menor o igual a x"
   ]
  },
  {
   "cell_type": "markdown",
   "metadata": {},
   "source": [
    "Otro modo de redondeo ampliamente usado es el llamado *redondeo al más cercano*. La idea es que para todo valor $x$ (menor en valor absoluto al mayor número representable, $N_\\textrm{max}$), se cumple\n",
    "\n",
    "$$ \\triangledown(x) \\leq x \\leq \\,\\vartriangle(x). $$\n",
    "\n",
    "Definiendo el punto medio $\\mu(x) = \\frac{1}{2}(\\triangledown(x)+\\vartriangle(x)\\,),$ definimos para $x > 0$ el modo de redondeo *al más cercano* como\n",
    "\n",
    "\\begin{eqnarray*}\n",
    "\\square_n(x) & = & \\triangledown(x), \\textrm{si } x\\in [\\triangledown(x),\\mu),\\\\\n",
    "\\square_n(x) & = & \\vartriangle(x), \\textrm{si } x\\in[\\mu,\\vartriangle(x)],\\\\\n",
    "\\end{eqnarray*}\n",
    "\n",
    "Para $x<0$, usamos la propiedad $\\square_n(x)= -\\square_n(-x)$."
   ]
  },
  {
   "cell_type": "markdown",
   "metadata": {},
   "source": [
    "En la definición anterior hay una pequeña asimetría que, de hecho, hace que se redondee más hacia arriba o hacia abajo, según el signo de $x$.\n",
    "\n",
    "Para evitar eso, en particular respecto al caso en que $x=\\mu$, se introduce el redondeo *hacia el más cercano par*, explotando el último dígito de la expansión en la base $\\beta$. Escribimos:\n",
    "\n",
    "\\begin{eqnarray}\n",
    "\\triangledown(x) &\\longrightarrow& (a_0.a_1\\dots a_{p-1})_\\beta,\\\\\n",
    "\\vartriangle(x) &\\longrightarrow& (b_0.b_1\\dots b_{p-1})_\\beta.\n",
    "\\end{eqnarray}\n",
    "\n",
    "Si $x\\not\\in \\mathbb{F}^*$ sólo uno de los dos últimos bits de la representación de la mantisa de $\\triangledown(x)$ o $\\vartriangle(x)$ es par. Así, definimos el modo de redondeo $\\square(x)$ *hacia el más cercano par* como ($x>0$):\n",
    "\n",
    "\\begin{eqnarray*}\n",
    "\\square(x) & = & \\triangledown(x), \\textrm{si } x\\in [\\triangledown(x),\\mu), \\textrm{o si } x=\\mu \\textrm{ y } a_{p-1} \\textrm{es par},\\\\\n",
    "\\square(x) & = & \\vartriangle(x), \\textrm{si } x\\in(\\mu,\\vartriangle(x)], \\textrm{o si } x=\\mu \\textrm{ y } b_{p-1} \\textrm{es par}.\n",
    "\\end{eqnarray*}\n",
    "\n",
    "El modo de redondeo $\\square$ es típicamente el modo que se utiliza por default en casi todas las implementaciones de los números de punto flotante."
   ]
  },
  {
   "cell_type": "markdown",
   "metadata": {},
   "source": [
    "Es importante enfatizar que $\\mu$ es un número real, en general no representable como `Float64` (o `MiFloat`). Es por esto que, a fin de poder decidir cómo redondear, se requieren un par de bits más para $\\mu$."
   ]
  },
  {
   "cell_type": "markdown",
   "metadata": {},
   "source": [
    "**[4]** \n",
    "\n",
    "Sobrecarga la operación suma (`+`), definida en `Base`, para que funcione usando dos elementos de `MiFloat`, de tal forma que el usuario pueda elegir qué tipo de redondeo quiere. Incluye varios tests que demuestren el funcionamiento de tu algoritmo.\n",
    "\n",
    "Para hacer esto, una posibilidad es definir una constante `ModoRedondeo` que pueda valer `:RedondArriba`, `:RedondAbajo` o `:RedondMasCercano`. (Nota los \"dos puntos\" `:`; sirven para especificar que estas palabras son símbolos.) La idea es definir apropiadamente las funciones `suma(::Val{:RedondArriba}, a::MiFloat, b::MiFloat)`, `suma(::Val{:RedondAbajo}, a::MiFloat, b::MiFloat)`, `suma(::Val{:RedonddMasCercano}, a::MiFloat, b::MiFloat)`, para sobrecargar la operación `+` llamando a `suma(Val(ModoRedondeo), a, b)`."
   ]
  },
  {
   "cell_type": "code",
   "execution_count": 21,
   "metadata": {},
   "outputs": [
    {
     "data": {
      "text/plain": [
       " (1, 1, 1) × 2^2\n"
      ]
     },
     "execution_count": 21,
     "metadata": {},
     "output_type": "execute_result"
    }
   ],
   "source": [
    "MiFloat(2,false,2,(1,1,1))"
   ]
  },
  {
   "cell_type": "code",
   "execution_count": 22,
   "metadata": {},
   "outputs": [
    {
     "data": {
      "text/plain": [
       "-(1, 0, 1) × 2^1\n"
      ]
     },
     "execution_count": 22,
     "metadata": {},
     "output_type": "execute_result"
    }
   ],
   "source": [
    "MiFloat(2, true, 1, (1, 0, 1))"
   ]
  },
  {
   "cell_type": "code",
   "execution_count": 23,
   "metadata": {
    "collapsed": true
   },
   "outputs": [],
   "source": [
    "import Base: +, -"
   ]
  },
  {
   "cell_type": "code",
   "execution_count": 26,
   "metadata": {},
   "outputs": [
    {
     "data": {
      "text/plain": [
       "sumarbinario (generic function with 1 method)"
      ]
     },
     "execution_count": 26,
     "metadata": {},
     "output_type": "execute_result"
    }
   ],
   "source": [
    "function sumarbinario(min::Array{Int64,1}, max::Array{Int64,1})\n",
    "    newmant = zeros(Int64,length(min) + 1)\n",
    "    #@show length(min)\n",
    "    y = 0\n",
    "    for j in length(min) :-1:1\n",
    "\n",
    "        if min[j] + max[j] + y == 2\n",
    "            y = 1\n",
    "            x = 0\n",
    "\n",
    "        elseif min[j] + max[j] + y == 3\n",
    "            y = 1\n",
    "            x = 1\n",
    "\n",
    "        elseif min[j] + max[j] + y == 1\n",
    "            y = 0\n",
    "            x = 1\n",
    "\n",
    "        else\n",
    "            y = 0\n",
    "            x = 0\n",
    "\n",
    "        end\n",
    "        newmant[j+1] = x    \n",
    "    end\n",
    "    newmant[1] = y\n",
    "    newmant   \n",
    "end"
   ]
  },
  {
   "cell_type": "code",
   "execution_count": 28,
   "metadata": {},
   "outputs": [
    {
     "data": {
      "text/plain": [
       "4-element Array{Int64,1}:\n",
       " 0\n",
       " 1\n",
       " 1\n",
       " 1"
      ]
     },
     "execution_count": 28,
     "metadata": {},
     "output_type": "execute_result"
    }
   ],
   "source": [
    "sumarbinario([0, 1, 0], [1, 0, 1])"
   ]
  },
  {
   "cell_type": "code",
   "execution_count": 26,
   "metadata": {},
   "outputs": [
    {
     "data": {
      "text/plain": [
       "false"
      ]
     },
     "execution_count": 26,
     "metadata": {},
     "output_type": "execute_result"
    }
   ],
   "source": [
    "(1,1,0) > (1,1,1)"
   ]
  },
  {
   "cell_type": "markdown",
   "metadata": {},
   "source": [
    "function restarbinario(mantisa::NTuple{prec, Int},aux::Array{Int64,1})\n",
    "    newmant = zeros(Int64,prec )\n",
    "\n",
    "    for j in prec:-1:1\n",
    "\n",
    "        if mantisa[j] - aux[j] == 0\n",
    "            x = 0\n",
    "\n",
    "        elseif mantisa[j] - aux[j] == -1\n",
    "            x = 1\n",
    "\n",
    "        elseif mantisa[j] - aux[j] == 1\n",
    "            x = 1\n",
    "\n",
    "        end  \n",
    "        newmant[j] = x\n",
    "    end\n",
    "    newmant   \n",
    "end"
   ]
  },
  {
   "cell_type": "markdown",
   "metadata": {},
   "source": [
    "function restarbinario(aux::Array{Int64,1}, mantisa::NTuple{prec, Int})\n",
    "    newmant = zeros(Int64,prec )\n",
    "\n",
    "    for j in prec:-1:1\n",
    "\n",
    "        if - mantisa[j] + aux[j] == 0\n",
    "            x = 0\n",
    "\n",
    "        elseif - mantisa[j] + aux[j] == -1\n",
    "            x = 1\n",
    "\n",
    "        elseif - mantisa[j] + aux[j] == 1\n",
    "            x = 1\n",
    "\n",
    "        end  \n",
    "        newmant[j] = x\n",
    "    end\n",
    "    newmant   \n",
    "end"
   ]
  },
  {
   "cell_type": "code",
   "execution_count": 29,
   "metadata": {},
   "outputs": [
    {
     "ename": "LoadError",
     "evalue": "\u001b[91mUndefVarError: restarbinario not defined\u001b[39m",
     "output_type": "error",
     "traceback": [
      "\u001b[91mUndefVarError: restarbinario not defined\u001b[39m",
      "",
      "Stacktrace:",
      " [1] \u001b[1minclude_string\u001b[22m\u001b[22m\u001b[1m(\u001b[22m\u001b[22m::String, ::String\u001b[1m)\u001b[22m\u001b[22m at \u001b[1m./loading.jl:515\u001b[22m\u001b[22m"
     ]
    }
   ],
   "source": [
    "restarbinario([1, 1, 1],(0, 1, 0))"
   ]
  },
  {
   "cell_type": "code",
   "execution_count": 30,
   "metadata": {},
   "outputs": [
    {
     "data": {
      "text/plain": [
       "false"
      ]
     },
     "execution_count": 30,
     "metadata": {},
     "output_type": "execute_result"
    }
   ],
   "source": [
    "(0, 0, 1, 0, 1) > (1, 0, 1, 0, 0)"
   ]
  },
  {
   "cell_type": "code",
   "execution_count": 114,
   "metadata": {},
   "outputs": [
    {
     "data": {
      "text/plain": [
       "- (generic function with 221 methods)"
      ]
     },
     "execution_count": 114,
     "metadata": {},
     "output_type": "execute_result"
    }
   ],
   "source": [
    "function -(x::MiFloat, y::MiFloat)\n",
    "    \n",
    "    x.base == y.base ? nothing : error(\"Las bases tiene que ser iguales\")\n",
    "    \n",
    "    mantisas = [x.mant, y.mant]\n",
    "    exponentes = [x.expo, y.expo]\n",
    "    expo = maximum(exponentes)\n",
    "    @show mantisas, exponentes, expo\n",
    "    if x.expo == y.expo\n",
    "        \n",
    "        mantexpomin = zeros(Int64,prec)\n",
    "        mantexpomax = zeros(Int64,prec)\n",
    "        uno = zeros(Int64, prec + 1)\n",
    "        uno[end] = 1\n",
    "        @show mantexpomin, mantexpomax, uno\n",
    "        if x.mant == y.mant\n",
    "            return MiFloat(2,false,expo, (0, 0, 0))\n",
    "        elseif x.mant > y.mant\n",
    "            sigma = false\n",
    "            indicemax = 1\n",
    "            indicemin = 2\n",
    "        else\n",
    "            sigma = true\n",
    "            indicemax = 2\n",
    "            indicemin = 1\n",
    "        end \n",
    "        \n",
    "        for i in 1:prec\n",
    "            mantexpomin[i] = mantisas[indicemin][i]\n",
    "            mantexpomax[i] = mantisas[indicemax][i]\n",
    "        end\n",
    "        \n",
    "    else \n",
    "        \n",
    "        Deltaexpo = abs(x.expo - y.expo)\n",
    "        indicemin = findmin(exponentes)[2]\n",
    "        indicemax = findmax(exponentes)[2]\n",
    "        mantexpomin = zeros(Int64, prec + Deltaexpo)\n",
    "        mantexpomax = zeros(Int64, prec + Deltaexpo)\n",
    "        #uno = zeros(Int64, prec + Deltaexpo + 1)\n",
    "        #uno[end] = 1\n",
    "        \n",
    "        println(\"Antes de llenar las mantisas\")\n",
    "        @show mantexpomin, mantexpomax\n",
    "        \n",
    "        #for i in 1:Deltaexpo\n",
    "        #    mantexpomin[i] = 0\n",
    "        #    mantexpomax[i+prec] = 0\n",
    "        #end\n",
    "        \n",
    "        for i in Deltaexpo + 1: prec + Deltaexpo \n",
    "            mantexpomin[i] = mantisas[indicemin][i - Deltaexpo  ]\n",
    "            mantexpomax[i - Deltaexpo] = mantisas[indicemax][i - Deltaexpo  ]\n",
    "            \n",
    "        end \n",
    "        \n",
    "        println(\"Mantisas llenas\")\n",
    "        @show mantexpomin, mantexpomax\n",
    "        \n",
    "        indicemax == 1 ? sigma = false : sigma = true\n",
    "    end\n",
    "    \n",
    "    \n",
    "    #### Está función invierte las mantisas\n",
    "    #@show mantexpomin, mantexpomax\n",
    "    for i in 1: length(mantexpomin)\n",
    "        if mantexpomin[i] == 0\n",
    "            mantexpomin[i] = 1\n",
    "        else\n",
    "            mantexpomin[i] = 0\n",
    "        end\n",
    "        \n",
    "    end\n",
    "    \n",
    "    println(\"Mantisas invetidas\")\n",
    "    @show mantexpomin, mantexpomax\n",
    "    \n",
    "    #println( \"antes de sumar\", mantexpomin)\n",
    "    #uno = zeros(Int64, length(mantexpomin))\n",
    "    #uno[end] = 1\n",
    "    #mantexpomin = sumarbinario(mantexpomin,uno)#[2:end]\n",
    "    \n",
    "    println(\"Mantisas invetidas corrida\")\n",
    "    @show mantexpomin, mantexpomax\n",
    "    #@show mantexpomin, mantexpomax\n",
    "    #@show sumarbinario(mantexpomin,mantexpomax)\n",
    "    \n",
    "    #@show newmant\n",
    "    \n",
    "    \n",
    "    if mantexpomin[1] == 0\n",
    "        deleteat!(mantexpomin, 1)\n",
    "            \n",
    "    end\n",
    "    \n",
    "    println(\"Mantisas invetida corrida sin el primer elemento\")\n",
    "    @show mantexpomin, mantexpomax\n",
    "    \n",
    "    println(\"La suma de las mantisas\")\n",
    "    newmant = sumarbinario(mantexpomin, mantexpomax)\n",
    "    @show newmant\n",
    "    \n",
    "    #i = 1\n",
    "    #count = 0\n",
    "    #while newmant[i] == 0\n",
    "    #    count += 1\n",
    "    #    i += 1\n",
    "    #end\n",
    "    \n",
    "    length(newmant) == length(mantexpomin) ? nothing : expo = expo - 1\n",
    "    \n",
    "    newmant = sumarbinario(mantexpomin, mantexpomax)\n",
    "    \n",
    "        \n",
    "    tmant = (newmant[1],newmant[2],newmant[3])  \n",
    "    #@show sigma, expo - count, tmant\n",
    "    #MiFloat(2,sigma,expo-count, tmant )\n",
    "    MiFloat(2,sigma,expo, tmant )\n",
    "    \n",
    "end"
   ]
  },
  {
   "cell_type": "code",
   "execution_count": 115,
   "metadata": {},
   "outputs": [
    {
     "name": "stdout",
     "output_type": "stream",
     "text": [
      "(mantisas, exponentes, expo) = (Tuple{Int64,Int64,Int64}[(1, 0, 1), (1, 0, 1)], [-1, 1], 1)\n",
      "Antes de llenar las mantisas\n",
      "(mantexpomin, mantexpomax) = ([0, 0, 0, 0, 0], [0, 0, 0, 0, 0])\n",
      "Mantisas llenas\n",
      "(mantexpomin, mantexpomax) = ([0, 0, 1, 0, 1], [1, 0, 1, 0, 0])\n",
      "Mantisas invetidas\n",
      "(mantexpomin, mantexpomax) = ([1, 1, 0, 1, 0], [1, 0, 1, 0, 0])\n",
      "Mantisas invetidas corrida\n",
      "(mantexpomin, mantexpomax) = ([1, 1, 0, 1, 0], [1, 0, 1, 0, 0])\n",
      "Mantisas invetida corrida sin el primer elemento\n",
      "(mantexpomin, mantexpomax) = ([1, 1, 0, 1, 0], [1, 0, 1, 0, 0])\n",
      "La suma de las mantisas\n",
      "newmant = [1, 0, 1, 1, 1, 0]\n"
     ]
    },
    {
     "data": {
      "text/plain": [
       "-(1, 0, 1) × 2^0\n"
      ]
     },
     "execution_count": 115,
     "metadata": {},
     "output_type": "execute_result"
    }
   ],
   "source": [
    "MiFloat(2,false,-1,(1, 0, 1)) - MiFloat(2,false,1,(1 , 0, 1))"
   ]
  },
  {
   "cell_type": "code",
   "execution_count": 117,
   "metadata": {},
   "outputs": [
    {
     "name": "stdout",
     "output_type": "stream",
     "text": [
      "(mantisas, exponentes, expo) = (Tuple{Int64,Int64,Int64}[(1, 0, 1), (1, 0, 1)], [-1, 1], 1)\n",
      "Antes de llenar las mantisas\n",
      "(mantexpomin, mantexpomax) = ([0, 0, 0, 0, 0], [0, 0, 0, 0, 0])\n",
      "Mantisas llenas\n",
      "(mantexpomin, mantexpomax) = ([0, 0, 1, 0, 1], [1, 0, 1, 0, 0])\n",
      "Mantisas invetidas\n",
      "(mantexpomin, mantexpomax) = ([1, 1, 0, 1, 0], [1, 0, 1, 0, 0])\n",
      "Mantisas invetidas corrida\n",
      "(mantexpomin, mantexpomax) = ([1, 1, 0, 1, 0], [1, 0, 1, 0, 0])\n",
      "Mantisas invetida corrida sin el primer elemento\n",
      "(mantexpomin, mantexpomax) = ([1, 1, 0, 1, 0], [1, 0, 1, 0, 0])\n",
      "La suma de las mantisas\n",
      "newmant = [1, 0, 1, 1, 1, 0]\n",
      "0.625 2.5 -1.25\n"
     ]
    }
   ],
   "source": [
    "s = MiFloat(2,false,-1,(1, 0, 1))\n",
    "r = MiFloat(2,false,1,(1 , 0, 1))\n",
    "t = MiFloat(2,false,-1,(1, 0, 1)) - MiFloat(2,false,1,(1 , 0, 1))\n",
    "\n",
    "println(superFloat(s), \" \", superFloat(r), \" \", superFloat(t))"
   ]
  },
  {
   "cell_type": "code",
   "execution_count": 118,
   "metadata": {},
   "outputs": [
    {
     "name": "stdout",
     "output_type": "stream",
     "text": [
      "(mantisas, exponentes, expo) = (Tuple{Int64,Int64,Int64}[(1, 1, 1), (1, 0, 0)], [1, 1], 1)\n",
      "(mantexpomin, mantexpomax, uno) = ([0, 0, 0], [0, 0, 0], [0, 0, 0, 1])\n",
      "Mantisas invetidas\n",
      "(mantexpomin, mantexpomax) = ([0, 1, 1], [1, 1, 1])\n",
      "Mantisas invetidas corrida\n",
      "(mantexpomin, mantexpomax) = ([0, 1, 1], [1, 1, 1])\n",
      "Mantisas invetida corrida sin el primer elemento\n",
      "(mantexpomin, mantexpomax) = ([1, 1], [1, 1, 1])\n",
      "La suma de las mantisas\n",
      "newmant = [1, 1, 0]\n"
     ]
    },
    {
     "data": {
      "text/plain": [
       " (1, 1, 0) × 2^0\n"
      ]
     },
     "execution_count": 118,
     "metadata": {},
     "output_type": "execute_result"
    }
   ],
   "source": [
    "MiFloat(2,false,1,(1, 1, 1)) - MiFloat(2,false,1,(1 , 0, 0))"
   ]
  },
  {
   "cell_type": "code",
   "execution_count": 119,
   "metadata": {},
   "outputs": [
    {
     "name": "stdout",
     "output_type": "stream",
     "text": [
      "(mantisas, exponentes, expo) = (Tuple{Int64,Int64,Int64}[(1, 1, 1), (1, 0, 0)], [1, 1], 1)\n",
      "(mantexpomin, mantexpomax, uno) = ([0, 0, 0], [0, 0, 0], [0, 0, 0, 1])\n",
      "Mantisas invetidas\n",
      "(mantexpomin, mantexpomax) = ([0, 1, 1], [1, 1, 1])\n",
      "Mantisas invetidas corrida\n",
      "(mantexpomin, mantexpomax) = ([0, 1, 1], [1, 1, 1])\n",
      "Mantisas invetida corrida sin el primer elemento\n",
      "(mantexpomin, mantexpomax) = ([1, 1], [1, 1, 1])\n",
      "La suma de las mantisas\n",
      "newmant = [1, 1, 0]\n",
      "3.5 2.0 1.5\n"
     ]
    }
   ],
   "source": [
    "s = MiFloat(2,false,1,(1, 1, 1))\n",
    "r = MiFloat(2,false,1,(1 , 0, 0))\n",
    "t = s - r\n",
    "\n",
    "println(superFloat(s), \" \", superFloat(r), \" \", superFloat(t))"
   ]
  },
  {
   "cell_type": "code",
   "execution_count": 121,
   "metadata": {},
   "outputs": [
    {
     "name": "stdout",
     "output_type": "stream",
     "text": [
      "(mantisas, exponentes, expo) = (Tuple{Int64,Int64,Int64}[(1, 1, 1), (1, 0, 0)], [1, 1], 1)\n",
      "(mantexpomin, mantexpomax, uno) = ([0, 0, 0], [0, 0, 0], [0, 0, 0, 1])\n",
      "Mantisas invetidas\n",
      "(mantexpomin, mantexpomax) = ([0, 1, 1], [1, 1, 1])\n",
      "Mantisas invetidas corrida\n",
      "(mantexpomin, mantexpomax) = ([0, 1, 1], [1, 1, 1])\n",
      "Mantisas invetida corrida sin el primer elemento\n",
      "(mantexpomin, mantexpomax) = ([1, 1], [1, 1, 1])\n",
      "La suma de las mantisas\n",
      "newmant = [1, 1, 0]\n",
      "-3.5 2.0 1.5\n"
     ]
    }
   ],
   "source": [
    "s = MiFloat(2,true,1,(1, 1, 1))\n",
    "r = MiFloat(2,false,1,(1 , 0, 0))\n",
    "t = s - r\n",
    "\n",
    "println(superFloat(s), \" \", superFloat(r), \" \", superFloat(t))"
   ]
  },
  {
   "cell_type": "code",
   "execution_count": 36,
   "metadata": {},
   "outputs": [
    {
     "name": "stdout",
     "output_type": "stream",
     "text": [
      "(mantexpomin, mantexpomax) = ([0, 1, 1, 0], [1, 0, 0, 0])\n",
      "antes de sumar[1, 0, 0, 1]\n",
      "length(min) = 4\n",
      "(mantexpomin, mantexpomax) = ([1, 0, 0, 1], [1, 0, 0, 0])\n",
      "length(min) = 4\n",
      "sumarbinario(mantexpomin, mantexpomax) = [1, 0, 0, 0, 1]\n",
      "length(min) = 4\n",
      "newmant = [1, 0, 0, 0, 1]\n",
      "(sigma, expo - count, tmant) = (false, 1, (0, 0, 0))\n"
     ]
    },
    {
     "data": {
      "text/plain": [
       " (0, 0, 0) × 2^1\n"
      ]
     },
     "execution_count": 36,
     "metadata": {},
     "output_type": "execute_result"
    }
   ],
   "source": [
    "MiFloat(2,false,1,(1, 0, 0)) - MiFloat(2,false,0,(1 , 1, 0))"
   ]
  },
  {
   "cell_type": "code",
   "execution_count": 37,
   "metadata": {},
   "outputs": [
    {
     "data": {
      "text/plain": [
       "+ (generic function with 181 methods)"
      ]
     },
     "execution_count": 37,
     "metadata": {},
     "output_type": "execute_result"
    }
   ],
   "source": [
    "#### function +(::Val{:RedondArriba}, a::MiFloat, b::MiFloat)\n",
    "\n",
    "function +(x::MiFloat, y::MiFloat)\n",
    "    x.base == y.base ? nothing : error(\"Las bases tiene que ser iguales\")\n",
    "    aux = zeros(Int64,prec)\n",
    "    m = [x.mant, y.mant]\n",
    "    s = [x.expo, y.expo]\n",
    "    expo = maximum(s)\n",
    "    if x.expo == y.expo\n",
    "        indice = 1\n",
    "        indicemax = 2\n",
    "        for i in 1:prec\n",
    "            aux[i] = x.mant[i]\n",
    "        end\n",
    "    else \n",
    "        Deltaexpo = abs(x.expo - y.expo)\n",
    "        indice = findmin(s)[2]\n",
    "        \n",
    "        indicemax = findmax(s)[2]\n",
    "        #s[indice] = expo\n",
    "        for i in 1:Deltaexpo\n",
    "            aux[i] = 0\n",
    "        end\n",
    "        for i in Deltaexpo +1:prec \n",
    "            aux[i] = m[indice][i - Deltaexpo  ]\n",
    "            \n",
    "        end     \n",
    "    end\n",
    "    #(-1)^Int(x.sigma) + (-1)^Int(y.sigma)\n",
    "    \n",
    "    if x.sigma == y.sigma\n",
    "        @show \"Hola\"\n",
    "        newmant = sumarbinario(aux,m[indicemax])\n",
    "        if newmant[1] == 1\n",
    "            \n",
    "            newexpo = expo + 1\n",
    "            tmant = (newmant[1],newmant[2],newmant[3])\n",
    "        else\n",
    "            \n",
    "            newexpo = expo\n",
    "            tmant = (newmant[2],newmant[3],newmant[4])\n",
    "        end\n",
    "    \n",
    "        MiFloat(2,false,newexpo, tmant )\n",
    "    else #Resta\n",
    "        @show \"Hola2\"\n",
    "        @show (aux[1], aux[2], aux[3]) , m[indicemax]\n",
    "        if (aux[1], aux[2], aux[3]) < m[indicemax]\n",
    "            sigma = false\n",
    "             @show \"Hola3\"\n",
    "            #newmant = restarbinario(m[indicemax], aux)\n",
    "            #tmant = (newmant[1], newmant[2], newmant[3])\n",
    "            #MiFloat(2,false,expo, tmant )\n",
    "        \n",
    "        elseif (aux[1], aux[2], aux[3]) > m[indicemax]\n",
    "            @show \"Hola4\"\n",
    "            sigma = true\n",
    "            #newmant = restarbinario(aux ,m[indicemax])\n",
    "            #tmant = (newmant[1], newmant[2], newmant[3])\n",
    "            #MiFloat(2,true,expo, tmant )\n",
    "        \n",
    "        else\n",
    "             @show \"Hola5\"\n",
    "            sigma = false\n",
    "            #newmant = zeros(Int64, prec)\n",
    "            #tmant = (newmant[1], newmant[2], newmant[3])\n",
    "            #MiFloat(2,false,expo, tmant )\n",
    "        end\n",
    "        newmant = restarbinario(m[indicemax], aux)\n",
    "        tmant = (newmant[1], newmant[2], newmant[3])\n",
    "        MiFloat(2,sigma,expo, tmant )\n",
    "       \n",
    "        \n",
    "    end\n",
    "    \n",
    "    #newmant[1] == 1 ? newexpo = expo + 1 tmant = (newmant[1],newmant[2],newmant[3]):\n",
    "    #tmant = (newmant[2],newmant[3],newmant[4])\n",
    "    \n",
    "        \n",
    "    #println(io, \"$sigma $mantisa × $base^$expo\")\n",
    "    #return \n",
    "end"
   ]
  },
  {
   "cell_type": "code",
   "execution_count": 38,
   "metadata": {},
   "outputs": [
    {
     "name": "stdout",
     "output_type": "stream",
     "text": [
      "\"Hola2\" = \"Hola2\"\n",
      "((aux[1], aux[2], aux[3]), m[indicemax]) = ((0, 1, 0), (1, 0, 1))\n",
      "\"Hola3\" = \"Hola3\"\n"
     ]
    },
    {
     "ename": "LoadError",
     "evalue": "\u001b[91mUndefVarError: restarbinario not defined\u001b[39m",
     "output_type": "error",
     "traceback": [
      "\u001b[91mUndefVarError: restarbinario not defined\u001b[39m",
      "",
      "Stacktrace:",
      " [1] \u001b[1m+\u001b[22m\u001b[22m\u001b[1m(\u001b[22m\u001b[22m::MiFloat, ::MiFloat\u001b[1m)\u001b[22m\u001b[22m at \u001b[1m./In[37]:69\u001b[22m\u001b[22m",
      " [2] \u001b[1minclude_string\u001b[22m\u001b[22m\u001b[1m(\u001b[22m\u001b[22m::String, ::String\u001b[1m)\u001b[22m\u001b[22m at \u001b[1m./loading.jl:522\u001b[22m\u001b[22m"
     ]
    }
   ],
   "source": [
    "MiFloat(2,false,-1,(1, 0, 1)) + MiFloat(2,true,0,(1 , 0, 1))"
   ]
  },
  {
   "cell_type": "code",
   "execution_count": 39,
   "metadata": {},
   "outputs": [
    {
     "name": "stdout",
     "output_type": "stream",
     "text": [
      "\"Hola2\" = \"Hola2\"\n",
      "((aux[1], aux[2], aux[3]), m[indicemax]) = ((0, 1, 0), (1, 0, 1))\n",
      "\"Hola3\" = \"Hola3\"\n"
     ]
    },
    {
     "ename": "LoadError",
     "evalue": "\u001b[91mUndefVarError: restarbinario not defined\u001b[39m",
     "output_type": "error",
     "traceback": [
      "\u001b[91mUndefVarError: restarbinario not defined\u001b[39m",
      "",
      "Stacktrace:",
      " [1] \u001b[1m+\u001b[22m\u001b[22m\u001b[1m(\u001b[22m\u001b[22m::MiFloat, ::MiFloat\u001b[1m)\u001b[22m\u001b[22m at \u001b[1m./In[37]:69\u001b[22m\u001b[22m",
      " [2] \u001b[1minclude_string\u001b[22m\u001b[22m\u001b[1m(\u001b[22m\u001b[22m::String, ::String\u001b[1m)\u001b[22m\u001b[22m at \u001b[1m./loading.jl:522\u001b[22m\u001b[22m"
     ]
    }
   ],
   "source": [
    "MiFloat(2,true,0,(1, 0, 1)) + MiFloat(2,false,-1,(1 , 0, 1))"
   ]
  },
  {
   "cell_type": "code",
   "execution_count": 40,
   "metadata": {},
   "outputs": [
    {
     "name": "stdout",
     "output_type": "stream",
     "text": [
      "\"Hola\" = \"Hola\"\n"
     ]
    },
    {
     "ename": "LoadError",
     "evalue": "\u001b[91mMethodError: no method matching sumarbinario(::Array{Int64,1}, ::Tuple{Int64,Int64,Int64})\u001b[0m\nClosest candidates are:\n  sumarbinario(::Array{Int64,1}, \u001b[91m::Array{Int64,1}\u001b[39m) at In[24]:2\u001b[39m",
     "output_type": "error",
     "traceback": [
      "\u001b[91mMethodError: no method matching sumarbinario(::Array{Int64,1}, ::Tuple{Int64,Int64,Int64})\u001b[0m\nClosest candidates are:\n  sumarbinario(::Array{Int64,1}, \u001b[91m::Array{Int64,1}\u001b[39m) at In[24]:2\u001b[39m",
      "",
      "Stacktrace:",
      " [1] \u001b[1m+\u001b[22m\u001b[22m\u001b[1m(\u001b[22m\u001b[22m::MiFloat, ::MiFloat\u001b[1m)\u001b[22m\u001b[22m at \u001b[1m./In[37]:33\u001b[22m\u001b[22m",
      " [2] \u001b[1minclude_string\u001b[22m\u001b[22m\u001b[1m(\u001b[22m\u001b[22m::String, ::String\u001b[1m)\u001b[22m\u001b[22m at \u001b[1m./loading.jl:522\u001b[22m\u001b[22m"
     ]
    }
   ],
   "source": [
    "MiFloat(2,false,-1,(1,0,1)) + MiFloat(2,false,0,(1 ,0 , 1))"
   ]
  },
  {
   "cell_type": "code",
   "execution_count": 41,
   "metadata": {},
   "outputs": [
    {
     "data": {
      "text/plain": [
       "3.5"
      ]
     },
     "execution_count": 41,
     "metadata": {},
     "output_type": "execute_result"
    }
   ],
   "source": [
    "superFloat(MiFloat(2,false,1,(1,1,1)))"
   ]
  },
  {
   "cell_type": "code",
   "execution_count": 42,
   "metadata": {},
   "outputs": [
    {
     "data": {
      "text/plain": [
       "3.5"
      ]
     },
     "execution_count": 42,
     "metadata": {},
     "output_type": "execute_result"
    }
   ],
   "source": [
    "superFloat(MiFloat(2,false,1,(1,1,1)))"
   ]
  },
  {
   "cell_type": "code",
   "execution_count": 43,
   "metadata": {},
   "outputs": [
    {
     "name": "stdout",
     "output_type": "stream",
     "text": [
      "\"Hola\" = \"Hola\"\n"
     ]
    },
    {
     "ename": "LoadError",
     "evalue": "\u001b[91mMethodError: no method matching sumarbinario(::Array{Int64,1}, ::Tuple{Int64,Int64,Int64})\u001b[0m\nClosest candidates are:\n  sumarbinario(::Array{Int64,1}, \u001b[91m::Array{Int64,1}\u001b[39m) at In[24]:2\u001b[39m",
     "output_type": "error",
     "traceback": [
      "\u001b[91mMethodError: no method matching sumarbinario(::Array{Int64,1}, ::Tuple{Int64,Int64,Int64})\u001b[0m\nClosest candidates are:\n  sumarbinario(::Array{Int64,1}, \u001b[91m::Array{Int64,1}\u001b[39m) at In[24]:2\u001b[39m",
      "",
      "Stacktrace:",
      " [1] \u001b[1m+\u001b[22m\u001b[22m\u001b[1m(\u001b[22m\u001b[22m::MiFloat, ::MiFloat\u001b[1m)\u001b[22m\u001b[22m at \u001b[1m./In[37]:33\u001b[22m\u001b[22m",
      " [2] \u001b[1minclude_string\u001b[22m\u001b[22m\u001b[1m(\u001b[22m\u001b[22m::String, ::String\u001b[1m)\u001b[22m\u001b[22m at \u001b[1m./loading.jl:522\u001b[22m\u001b[22m"
     ]
    }
   ],
   "source": [
    "superFloat(MiFloat(2,false,1,(1,1,1)) + MiFloat(2,false,1,(1,1,1)))"
   ]
  },
  {
   "cell_type": "code",
   "execution_count": 44,
   "metadata": {},
   "outputs": [
    {
     "name": "stdout",
     "output_type": "stream",
     "text": [
      "\"Hola\" = \"Hola\"\n"
     ]
    },
    {
     "ename": "LoadError",
     "evalue": "\u001b[91mMethodError: no method matching sumarbinario(::Array{Int64,1}, ::Tuple{Int64,Int64,Int64})\u001b[0m\nClosest candidates are:\n  sumarbinario(::Array{Int64,1}, \u001b[91m::Array{Int64,1}\u001b[39m) at In[24]:2\u001b[39m",
     "output_type": "error",
     "traceback": [
      "\u001b[91mMethodError: no method matching sumarbinario(::Array{Int64,1}, ::Tuple{Int64,Int64,Int64})\u001b[0m\nClosest candidates are:\n  sumarbinario(::Array{Int64,1}, \u001b[91m::Array{Int64,1}\u001b[39m) at In[24]:2\u001b[39m",
      "",
      "Stacktrace:",
      " [1] \u001b[1m+\u001b[22m\u001b[22m\u001b[1m(\u001b[22m\u001b[22m::MiFloat, ::MiFloat\u001b[1m)\u001b[22m\u001b[22m at \u001b[1m./In[37]:33\u001b[22m\u001b[22m",
      " [2] \u001b[1minclude_string\u001b[22m\u001b[22m\u001b[1m(\u001b[22m\u001b[22m::String, ::String\u001b[1m)\u001b[22m\u001b[22m at \u001b[1m./loading.jl:522\u001b[22m\u001b[22m"
     ]
    }
   ],
   "source": [
    "MiFloat(2,false,1,(1,0,0)) + MiFloat(2,false,1,(1,0,0))"
   ]
  },
  {
   "cell_type": "code",
   "execution_count": 45,
   "metadata": {},
   "outputs": [
    {
     "name": "stdout",
     "output_type": "stream",
     "text": [
      "\"Hola\" = \"Hola\"\n"
     ]
    },
    {
     "ename": "LoadError",
     "evalue": "\u001b[91mMethodError: no method matching sumarbinario(::Array{Int64,1}, ::Tuple{Int64,Int64,Int64})\u001b[0m\nClosest candidates are:\n  sumarbinario(::Array{Int64,1}, \u001b[91m::Array{Int64,1}\u001b[39m) at In[24]:2\u001b[39m",
     "output_type": "error",
     "traceback": [
      "\u001b[91mMethodError: no method matching sumarbinario(::Array{Int64,1}, ::Tuple{Int64,Int64,Int64})\u001b[0m\nClosest candidates are:\n  sumarbinario(::Array{Int64,1}, \u001b[91m::Array{Int64,1}\u001b[39m) at In[24]:2\u001b[39m",
      "",
      "Stacktrace:",
      " [1] \u001b[1m+\u001b[22m\u001b[22m\u001b[1m(\u001b[22m\u001b[22m::MiFloat, ::MiFloat\u001b[1m)\u001b[22m\u001b[22m at \u001b[1m./In[37]:33\u001b[22m\u001b[22m",
      " [2] \u001b[1minclude_string\u001b[22m\u001b[22m\u001b[1m(\u001b[22m\u001b[22m::String, ::String\u001b[1m)\u001b[22m\u001b[22m at \u001b[1m./loading.jl:522\u001b[22m\u001b[22m"
     ]
    }
   ],
   "source": [
    "MiFloat(2,false,2,(1,0,0)) + MiFloat(2,false,1,(1,1,0))"
   ]
  },
  {
   "cell_type": "code",
   "execution_count": 46,
   "metadata": {},
   "outputs": [
    {
     "name": "stdout",
     "output_type": "stream",
     "text": [
      "\"Hola\" = \"Hola\"\n"
     ]
    },
    {
     "ename": "LoadError",
     "evalue": "\u001b[91mMethodError: no method matching sumarbinario(::Array{Int64,1}, ::Tuple{Int64,Int64,Int64})\u001b[0m\nClosest candidates are:\n  sumarbinario(::Array{Int64,1}, \u001b[91m::Array{Int64,1}\u001b[39m) at In[24]:2\u001b[39m",
     "output_type": "error",
     "traceback": [
      "\u001b[91mMethodError: no method matching sumarbinario(::Array{Int64,1}, ::Tuple{Int64,Int64,Int64})\u001b[0m\nClosest candidates are:\n  sumarbinario(::Array{Int64,1}, \u001b[91m::Array{Int64,1}\u001b[39m) at In[24]:2\u001b[39m",
      "",
      "Stacktrace:",
      " [1] \u001b[1m+\u001b[22m\u001b[22m\u001b[1m(\u001b[22m\u001b[22m::MiFloat, ::MiFloat\u001b[1m)\u001b[22m\u001b[22m at \u001b[1m./In[37]:33\u001b[22m\u001b[22m",
      " [2] \u001b[1minclude_string\u001b[22m\u001b[22m\u001b[1m(\u001b[22m\u001b[22m::String, ::String\u001b[1m)\u001b[22m\u001b[22m at \u001b[1m./loading.jl:522\u001b[22m\u001b[22m"
     ]
    }
   ],
   "source": [
    "MiFloat(2,false,-1,(1,0,0)) + MiFloat(2,false,0,(1,0,0))"
   ]
  },
  {
   "cell_type": "code",
   "execution_count": 47,
   "metadata": {},
   "outputs": [
    {
     "data": {
      "text/plain": [
       "2-element Array{Int64,1}:\n",
       " 9\n",
       " 5"
      ]
     },
     "execution_count": 47,
     "metadata": {},
     "output_type": "execute_result"
    }
   ],
   "source": [
    "d =[9,5]"
   ]
  },
  {
   "cell_type": "code",
   "execution_count": 31,
   "metadata": {},
   "outputs": [
    {
     "data": {
      "text/markdown": [
       "```\n",
       "zeros([A::AbstractArray,] [T=eltype(A)::Type,] [dims=size(A)::Tuple])\n",
       "```\n",
       "\n",
       "Create an array of all zeros with the same layout as `A`, element type `T` and size `dims`. The `A` argument can be skipped, which behaves like `Array{Float64,0}()` was passed. For convenience `dims` may also be passed in variadic form.\n",
       "\n",
       "# Examples\n",
       "\n",
       "```jldoctest\n",
       "julia> zeros(1)\n",
       "1-element Array{Float64,1}:\n",
       " 0.0\n",
       "\n",
       "julia> zeros(Int8, 2, 3)\n",
       "2×3 Array{Int8,2}:\n",
       " 0  0  0\n",
       " 0  0  0\n",
       "\n",
       "julia> A = [1 2; 3 4]\n",
       "2×2 Array{Int64,2}:\n",
       " 1  2\n",
       " 3  4\n",
       "\n",
       "julia> zeros(A)\n",
       "2×2 Array{Int64,2}:\n",
       " 0  0\n",
       " 0  0\n",
       "\n",
       "julia> zeros(A, Float64)\n",
       "2×2 Array{Float64,2}:\n",
       " 0.0  0.0\n",
       " 0.0  0.0\n",
       "\n",
       "julia> zeros(A, Bool, (3,))\n",
       "3-element Array{Bool,1}:\n",
       " false\n",
       " false\n",
       " false\n",
       "```\n",
       "\n",
       "See also [`ones`](@ref), [`similar`](@ref).\n"
      ],
      "text/plain": [
       "```\n",
       "zeros([A::AbstractArray,] [T=eltype(A)::Type,] [dims=size(A)::Tuple])\n",
       "```\n",
       "\n",
       "Create an array of all zeros with the same layout as `A`, element type `T` and size `dims`. The `A` argument can be skipped, which behaves like `Array{Float64,0}()` was passed. For convenience `dims` may also be passed in variadic form.\n",
       "\n",
       "# Examples\n",
       "\n",
       "```jldoctest\n",
       "julia> zeros(1)\n",
       "1-element Array{Float64,1}:\n",
       " 0.0\n",
       "\n",
       "julia> zeros(Int8, 2, 3)\n",
       "2×3 Array{Int8,2}:\n",
       " 0  0  0\n",
       " 0  0  0\n",
       "\n",
       "julia> A = [1 2; 3 4]\n",
       "2×2 Array{Int64,2}:\n",
       " 1  2\n",
       " 3  4\n",
       "\n",
       "julia> zeros(A)\n",
       "2×2 Array{Int64,2}:\n",
       " 0  0\n",
       " 0  0\n",
       "\n",
       "julia> zeros(A, Float64)\n",
       "2×2 Array{Float64,2}:\n",
       " 0.0  0.0\n",
       " 0.0  0.0\n",
       "\n",
       "julia> zeros(A, Bool, (3,))\n",
       "3-element Array{Bool,1}:\n",
       " false\n",
       " false\n",
       " false\n",
       "```\n",
       "\n",
       "See also [`ones`](@ref), [`similar`](@ref).\n"
      ]
     },
     "execution_count": 31,
     "metadata": {},
     "output_type": "execute_result"
    }
   ],
   "source": [
    "?zeros()"
   ]
  },
  {
   "cell_type": "code",
   "execution_count": 29,
   "metadata": {},
   "outputs": [
    {
     "ename": "LoadError",
     "evalue": "\u001b[91mUndefVarError: ModoRedondeo not defined\u001b[39m",
     "output_type": "error",
     "traceback": [
      "\u001b[91mUndefVarError: ModoRedondeo not defined\u001b[39m",
      "",
      "Stacktrace:",
      " [1] \u001b[1minclude_string\u001b[22m\u001b[22m\u001b[1m(\u001b[22m\u001b[22m::String, ::String\u001b[1m)\u001b[22m\u001b[22m at \u001b[1m./loading.jl:522\u001b[22m\u001b[22m"
     ]
    }
   ],
   "source": [
    "ModoRedondeo:RedondArriba"
   ]
  },
  {
   "cell_type": "code",
   "execution_count": 30,
   "metadata": {},
   "outputs": [
    {
     "ename": "LoadError",
     "evalue": "\u001b[91mUndefVarError: Intervalo not defined\u001b[39m",
     "output_type": "error",
     "traceback": [
      "\u001b[91mUndefVarError: Intervalo not defined\u001b[39m",
      "",
      "Stacktrace:",
      " [1] \u001b[1minclude_string\u001b[22m\u001b[22m\u001b[1m(\u001b[22m\u001b[22m::String, ::String\u001b[1m)\u001b[22m\u001b[22m at \u001b[1m./loading.jl:522\u001b[22m\u001b[22m"
     ]
    }
   ],
   "source": [
    "function +(x::Intervalo, y::Intervalo)\n",
    "    return Intervalo(x.inf + y.inf, x.sup + y.sup)\n",
    "end"
   ]
  },
  {
   "cell_type": "markdown",
   "metadata": {},
   "source": [
    "**[5]** Escribe una función que permita convertir de `Float64` a `MiFloat`, respetando el modo de redondeo especificado en `ModoRedondeo`."
   ]
  },
  {
   "cell_type": "code",
   "execution_count": null,
   "metadata": {
    "collapsed": true
   },
   "outputs": [],
   "source": []
  },
  {
   "cell_type": "markdown",
   "metadata": {},
   "source": [
    "**[6]** ¿Cómo se te ocurre verificar que `:RedondMasCercano` ($\\square$) no tiene sesgo?"
   ]
  },
  {
   "cell_type": "code",
   "execution_count": null,
   "metadata": {
    "collapsed": true
   },
   "outputs": [],
   "source": []
  },
  {
   "cell_type": "markdown",
   "metadata": {},
   "source": [
    "**[7]** \n",
    "\n",
    "(i) ¿Cómo usarías alguno o algunos modos de redondeo para definir intervalos que garanticen que el punto que estamos buscando esté en el intervalo?\n",
    "\n",
    "(ii) ¿Cuál sería un intervalo apropiado que contiene al número real `0.1`, usando `Float64`? "
   ]
  },
  {
   "cell_type": "code",
   "execution_count": null,
   "metadata": {
    "collapsed": true
   },
   "outputs": [],
   "source": []
  },
  {
   "cell_type": "markdown",
   "metadata": {},
   "source": [
    "**[4]** \n",
    "\n",
    "Sobrecarga la operación suma (`+`), definida en `Base`, para que funcione usando dos elementos de `Mifloat`, de tal forma que el usuario pueda elegir qué tipo de redondeo quiere. Incluye varios tests que demuestren el funcionamiento de tu algoritmo.\n",
    "\n",
    "Para hacer esto, una posibilidad es definir una constante `ModoRedondeo` que pueda valer `:RedondArriba`, `:RedondAbajo` o `:RedondMasCercano`. (Nota los \"dos puntos\" `:`; sirven para especificar que estas palabras son símbolos.) La idea es definir apropiadamente las funciones `suma(::Val{:RedondArriba}, a::Mifloat, b::MiFloat)`, `suma(::Val{:RedondAbajo}, a::MiFloat, b::MiFloat)`, `suma(::Val{:RedonddMasCercano}, a::MiFloat, b::MiFloat)`, para sobrecargar la operación `+` llamando a `suma(Val(ModoRedondeo), a, b)`."
   ]
  },
  {
   "cell_type": "code",
   "execution_count": null,
   "metadata": {
    "collapsed": true
   },
   "outputs": [],
   "source": []
  },
  {
   "cell_type": "markdown",
   "metadata": {},
   "source": [
    "**[5]** Escribe una función que permita convertir de `Float64` a `MiFloat`, respetando el modo de redondeo especificado en `ModoRedondeo`."
   ]
  },
  {
   "cell_type": "code",
   "execution_count": null,
   "metadata": {
    "collapsed": true
   },
   "outputs": [],
   "source": []
  },
  {
   "cell_type": "markdown",
   "metadata": {},
   "source": [
    "**[6]** ¿Cómo se te ocurre verificar que `:RedondMasCercano` ($\\square$) no tiene sesgo?"
   ]
  },
  {
   "cell_type": "code",
   "execution_count": null,
   "metadata": {
    "collapsed": true
   },
   "outputs": [],
   "source": []
  },
  {
   "cell_type": "markdown",
   "metadata": {},
   "source": [
    "**[7]** \n",
    "\n",
    "¿Cómo usarías alguno o varios modos de redondeo para definir intervalos que garantizen que el punto $x$ que estamos buscando esté contenido en un intervalo?\n",
    "\n",
    "¿Cuál sería un intervalo apropiado que contiene al número real `0.1`, usando `Float64`? "
   ]
  },
  {
   "cell_type": "code",
   "execution_count": null,
   "metadata": {
    "collapsed": true
   },
   "outputs": [],
   "source": []
  },
  {
   "cell_type": "markdown",
   "metadata": {},
   "source": [
    "# Errores por el redondeo"
   ]
  },
  {
   "cell_type": "markdown",
   "metadata": {},
   "source": [
    "**Teorema** Si $x$ es un número real en el rango normalizado de $\\mathbb{F}_{\\beta,p}$, entonces el error relativo causado por el redondeo está acotado:\n",
    "\n",
    "\\begin{equation}\n",
    "\\Big|\\frac{x-\\bigcirc(x)}{x} \\Big| < \\varepsilon_M = \\beta^{p-1}.\n",
    "\\end{equation}\n",
    "\n",
    "El error absoluto correspondiente está acotado por $|x|\\,\\varepsilon_M$.\n",
    "\n",
    "(El número $\\varepsilon_M$ se llama \"el epsilon de la máquina\".)"
   ]
  },
  {
   "cell_type": "markdown",
   "metadata": {},
   "source": [
    "**[8]** \n",
    "\n",
    "(i) Ejemplifica el teorema anterior con tu implementación de los distintos modos del redondeo. \n",
    "\n",
    "(ii) Muestra con un par de ejemplos que en el caso de $\\square(x)$, la cota puede reducirse por un factor 0.5.\n",
    "\n",
    "(iii) Muestra que el espaciamiento de dos números de punto flotante consecutivos $x$ y $y$ en el rango normalizado está acotado entre\n",
    "$|x|\\,\\varepsilon_M/\\beta$ y $|x|\\,\\varepsilon_M$.\n",
    "\n",
    "(iv) ¿Cómo se comportan los errores relativos en el rango de los números subnormales? Muestra tu argumentación con un par de ejemplos."
   ]
  },
  {
   "cell_type": "code",
   "execution_count": null,
   "metadata": {
    "collapsed": true
   },
   "outputs": [],
   "source": []
  },
  {
   "cell_type": "markdown",
   "metadata": {},
   "source": [
    "**[9]** Definiremos $x\\oplus y=\\bigcirc(x+y)$, esto es, la suma en la aritmética en $\\mathbb{F}^*$. \n",
    "\n",
    "(i) Muestra que el error relativo (respecto al resultado exacto) de una operación (la suma, en este caso) está acotado por $\\varepsilon_M$.\n",
    "\n",
    "(ii) ¿Se cumple esto si consideramos dos o más sumas? Ilustra tu argumento con algún ejemplo."
   ]
  },
  {
   "cell_type": "code",
   "execution_count": null,
   "metadata": {
    "collapsed": true
   },
   "outputs": [],
   "source": []
  },
  {
   "cell_type": "markdown",
   "metadata": {},
   "source": [
    "**[10]** Considera el mapeo $f(x) = 3x \\textrm{ mod } 1$, con $f:[0,1]\\to[0,1]$.\n",
    "\n",
    "(i) Muestra analíticamente que $x_0= 1/10$ pertenece a un ciclo de periodo 4 de este mapeo.\n",
    "\n",
    "(ii) ¿Puedes mostrar numéricamente (usando `Float64`) este resultado? ¿Qué ocurre si utilizas `BigFloat` y `Rational{Int}`? (Es útil leer la ayuda de la función `mod`.)"
   ]
  },
  {
   "cell_type": "code",
   "execution_count": null,
   "metadata": {
    "collapsed": true
   },
   "outputs": [],
   "source": []
  },
  {
   "cell_type": "markdown",
   "metadata": {},
   "source": [
    "# Resumen"
   ]
  },
  {
   "cell_type": "markdown",
   "metadata": {},
   "source": [
    "**[11]** Escribe un resumen de lo aprendido en este notebook."
   ]
  }
 ],
 "metadata": {
  "kernelspec": {
   "display_name": "Julia 0.6.0",
   "language": "julia",
   "name": "julia-0.6"
  },
  "language_info": {
   "file_extension": ".jl",
   "mimetype": "application/julia",
   "name": "julia",
   "version": "0.6.0"
  },
  "toc": {
   "nav_menu": {},
   "number_sections": true,
   "sideBar": true,
   "skip_h1_title": false,
   "toc_cell": false,
   "toc_position": {},
   "toc_section_display": "block",
   "toc_window_display": false
  }
 },
 "nbformat": 4,
 "nbformat_minor": 2
}
