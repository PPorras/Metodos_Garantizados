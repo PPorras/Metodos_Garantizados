{
 "cells": [
  {
   "cell_type": "markdown",
   "metadata": {},
   "source": [
    "# Redondeo"
   ]
  },
  {
   "cell_type": "markdown",
   "metadata": {},
   "source": [
    "**[1]**\n",
    "\n",
    "(i) Usando el tipo `MiFloat`, ¿qué obtienes si sumas el número más grande posible consigo mismo? Para cualquier ejemplo, considera la base 2 con `prec=3`, `rmin=-1`, `rmax=2`.\n",
    "\n",
    "(ii) ¿Cómo se te ocurre representar el resultado?\n",
    "\n",
    "(iii) Y si sumas el número más grande con cualquier otro distinto de cero, ¿qué se obtiene?"
   ]
  },
  {
   "cell_type": "markdown",
   "metadata": {},
   "source": [
    "**[1]**\n",
    "\n",
    "(i) Usando el tipo `MiFloat`, ¿qué obtienes si sumas el número más grande posible consigo mismo? Para cualquier ejemplo, considera la base 2 con `prec=3`, `rmin=-1`, `rmax=2`.\n",
    "\n",
    "Para ello implementemos el constructor `MiFloat`"
   ]
  },
  {
   "cell_type": "code",
   "execution_count": 1,
   "metadata": {},
   "outputs": [
    {
     "data": {
      "text/plain": [
       "2"
      ]
     },
     "execution_count": 1,
     "metadata": {},
     "output_type": "execute_result"
    }
   ],
   "source": [
    "const prec = 3\n",
    "const rmin = -1\n",
    "const rmax = 2"
   ]
  },
  {
   "cell_type": "code",
   "execution_count": 2,
   "metadata": {
    "collapsed": true
   },
   "outputs": [],
   "source": [
    "struct MiFloat \n",
    "    base ::Int\n",
    "    sigma ::Bool\n",
    "    expo ::Int\n",
    "    mant ::NTuple{prec, Int}\n",
    "    function MiFloat(base,sigma,expo,mant)\n",
    "        @assert base >= 2 \"Base tiene que ser mayor igual que dos\" \n",
    "        for i in mant\n",
    "            @assert i < base \"Los elementos de la mantisa deben ser menores que la base\"\n",
    "        end\n",
    "        @assert rmin <= expo  <= rmax \"expo fuera de rango\"\n",
    "        \n",
    "        new(base, sigma, expo, mant)\n",
    "    end\n",
    "end"
   ]
  },
  {
   "cell_type": "code",
   "execution_count": 3,
   "metadata": {},
   "outputs": [
    {
     "data": {
      "text/plain": [
       "superFloat (generic function with 1 method)"
      ]
     },
     "execution_count": 3,
     "metadata": {},
     "output_type": "execute_result"
    }
   ],
   "source": [
    "function superFloat(x::MiFloat)\n",
    "    if x.sigma \n",
    "        signo = -1\n",
    "    else\n",
    "        signo = 1\n",
    "    end\n",
    "    f = 0.0\n",
    "    for i in 1:length(x.mant)\n",
    "        f += (x.mant[i]/convert(Float64, x.base^(i-1)))*\n",
    "        convert(Float64,x.base)^x.expo\n",
    "    end\n",
    "    f*signo\n",
    "end"
   ]
  },
  {
   "cell_type": "markdown",
   "metadata": {},
   "source": [
    "Ahora sumemos el número más grande consigo mismo"
   ]
  },
  {
   "cell_type": "code",
   "execution_count": 4,
   "metadata": {},
   "outputs": [
    {
     "data": {
      "text/plain": [
       "generadordemantisa (generic function with 1 method)"
      ]
     },
     "execution_count": 4,
     "metadata": {},
     "output_type": "execute_result"
    }
   ],
   "source": [
    "function generadordemantisa(b,p)\n",
    "    tupla = []\n",
    "    for i in 0:1 ## prec\n",
    "        for j in 0:1 ## base\n",
    "            for k in 0:1\n",
    "                push!(tupla,(i,j,k))\n",
    "            end\n",
    "        end\n",
    "    end\n",
    "    tupla\n",
    "end"
   ]
  },
  {
   "cell_type": "code",
   "execution_count": 5,
   "metadata": {
    "collapsed": true
   },
   "outputs": [],
   "source": [
    "F = []\n",
    "for  j in rmin:rmax, i in false:true\n",
    "    mantisas = generadordemantisa(2,3)\n",
    "    for mantisa in mantisas\n",
    "        y = superFloat(MiFloat(2,i,j,mantisa)) \n",
    "        push!(F,y)\n",
    "    end\n",
    "        \n",
    "end"
   ]
  },
  {
   "cell_type": "code",
   "execution_count": 6,
   "metadata": {},
   "outputs": [
    {
     "name": "stdout",
     "output_type": "stream",
     "text": [
      "0.0\n",
      "0.125\n",
      "0.25\n",
      "0.375\n",
      "0.5\n",
      "0.625\n",
      "0.75\n",
      "0.875\n",
      "-0.0\n",
      "-0.125\n",
      "-0.25\n",
      "-0.375\n",
      "-0.5\n",
      "-0.625\n",
      "-0.75\n",
      "-0.875\n",
      "0.0\n",
      "0.25\n",
      "0.5\n",
      "0.75\n",
      "1.0\n",
      "1.25\n",
      "1.5\n",
      "1.75\n",
      "-0.0\n",
      "-0.25\n",
      "-0.5\n",
      "-0.75\n",
      "-1.0\n",
      "-1.25\n",
      "-1.5\n",
      "-1.75\n",
      "0.0\n",
      "0.5\n",
      "1.0\n",
      "1.5\n",
      "2.0\n",
      "2.5\n",
      "3.0\n",
      "3.5\n",
      "-0.0\n",
      "-0.5\n",
      "-1.0\n",
      "-1.5\n",
      "-2.0\n",
      "-2.5\n",
      "-3.0\n",
      "-3.5\n",
      "0.0\n",
      "1.0\n",
      "2.0\n",
      "3.0\n",
      "4.0\n",
      "5.0\n",
      "6.0\n",
      "7.0\n",
      "-0.0\n",
      "-1.0\n",
      "-2.0\n",
      "-3.0\n",
      "-4.0\n",
      "-5.0\n",
      "-6.0\n",
      "-7.0\n"
     ]
    }
   ],
   "source": [
    "for i in F \n",
    "    println(i)\n",
    "end"
   ]
  },
  {
   "cell_type": "code",
   "execution_count": 7,
   "metadata": {
    "collapsed": true
   },
   "outputs": [],
   "source": [
    "using Plots, LaTeXStrings"
   ]
  },
  {
   "cell_type": "code",
   "execution_count": 8,
   "metadata": {},
   "outputs": [
    {
     "data": {
      "text/plain": [
       "64-element Array{Float64,1}:\n",
       " 0.0\n",
       " 0.0\n",
       " 0.0\n",
       " 0.0\n",
       " 0.0\n",
       " 0.0\n",
       " 0.0\n",
       " 0.0\n",
       " 0.0\n",
       " 0.0\n",
       " 0.0\n",
       " 0.0\n",
       " 0.0\n",
       " ⋮  \n",
       " 0.0\n",
       " 0.0\n",
       " 0.0\n",
       " 0.0\n",
       " 0.0\n",
       " 0.0\n",
       " 0.0\n",
       " 0.0\n",
       " 0.0\n",
       " 0.0\n",
       " 0.0\n",
       " 0.0"
      ]
     },
     "execution_count": 8,
     "metadata": {},
     "output_type": "execute_result"
    }
   ],
   "source": [
    "y = zeros(length(F))"
   ]
  },
  {
   "cell_type": "code",
   "execution_count": 9,
   "metadata": {},
   "outputs": [
    {
     "data": {
      "text/html": [
       "<img src=\"data:image/png;base64,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\" />"
      ]
     },
     "execution_count": 9,
     "metadata": {},
     "output_type": "execute_result"
    }
   ],
   "source": [
    "scatter(F, y, ms=3.0, lab=\"números de maquina\",ylim=(-0.5,0.5))\n",
    "vline!(F,line=(1,:dash),color=[:blue :orange])"
   ]
  },
  {
   "cell_type": "markdown",
   "metadata": {},
   "source": [
    "Vemos que número más grande es el $7.0$, es decir;"
   ]
  },
  {
   "cell_type": "code",
   "execution_count": 22,
   "metadata": {},
   "outputs": [
    {
     "data": {
      "text/plain": [
       "7.0"
      ]
     },
     "execution_count": 22,
     "metadata": {},
     "output_type": "execute_result"
    }
   ],
   "source": [
    "x =  superFloat(MiFloat(2,false,2,(1,1,1)))"
   ]
  },
  {
   "cell_type": "code",
   "execution_count": 13,
   "metadata": {},
   "outputs": [
    {
     "data": {
      "text/plain": [
       "14.0"
      ]
     },
     "execution_count": 13,
     "metadata": {},
     "output_type": "execute_result"
    }
   ],
   "source": [
    "x + x "
   ]
  },
  {
   "cell_type": "markdown",
   "metadata": {},
   "source": [
    "Vemos que sumar `x` consigo mismo sale de la aritmetica definida"
   ]
  },
  {
   "cell_type": "markdown",
   "metadata": {},
   "source": [
    "(ii) ¿Cómo se te ocurre representar el resultado?\n",
    "\n"
   ]
  },
  {
   "cell_type": "markdown",
   "metadata": {},
   "source": [
    "(iii) Y si sumas el número más grande con cualquier otro distinto de cero, ¿qué se obtiene?\n",
    "\n",
    "Para ver los anterior generemos otro número "
   ]
  },
  {
   "cell_type": "code",
   "execution_count": 14,
   "metadata": {},
   "outputs": [
    {
     "data": {
      "text/plain": [
       "-2.5"
      ]
     },
     "execution_count": 14,
     "metadata": {},
     "output_type": "execute_result"
    }
   ],
   "source": [
    "y = superFloat(MiFloat(2,true,1,(1,0,1)))"
   ]
  },
  {
   "cell_type": "code",
   "execution_count": 15,
   "metadata": {},
   "outputs": [
    {
     "data": {
      "text/plain": [
       "4.5"
      ]
     },
     "execution_count": 15,
     "metadata": {},
     "output_type": "execute_result"
    }
   ],
   "source": [
    "s = x + y"
   ]
  },
  {
   "cell_type": "markdown",
   "metadata": {},
   "source": [
    "Vemos que $4.5$ no forma parte de los números generados"
   ]
  },
  {
   "cell_type": "code",
   "execution_count": 16,
   "metadata": {
    "collapsed": true
   },
   "outputs": [],
   "source": [
    "for i in F\n",
    "    if i == 4.5\n",
    "        return println(\"Lo encontre\")\n",
    "    end\n",
    "end"
   ]
  },
  {
   "cell_type": "markdown",
   "metadata": {},
   "source": [
    "**[2]** Sobrecarga la función `show` (que existe en `Base`) para representa de manera agradable los números tipo `MiFloat`.\n",
    "\n",
    "Sobrecarguemos dicha función"
   ]
  },
  {
   "cell_type": "code",
   "execution_count": 17,
   "metadata": {
    "collapsed": true
   },
   "outputs": [],
   "source": [
    "function Base.show(io::IO, m::MiFloat) \n",
    "    base = m.base\n",
    "    sigma = (-1)^Int(m.sigma)\n",
    "    expo = m.expo\n",
    "    mantisa = m.mant\n",
    "    println(io, \"$sigma $mantisa × $base^$expo\")\n",
    "end"
   ]
  },
  {
   "cell_type": "code",
   "execution_count": 19,
   "metadata": {},
   "outputs": [
    {
     "data": {
      "text/plain": [
       "1 (1, 1, 1) × 2^2\n"
      ]
     },
     "execution_count": 19,
     "metadata": {},
     "output_type": "execute_result"
    }
   ],
   "source": [
    "MiFloat(2,false,2,(1,1,1))"
   ]
  },
  {
   "cell_type": "code",
   "execution_count": 21,
   "metadata": {},
   "outputs": [
    {
     "data": {
      "text/plain": [
       "-1 (1, 0, 1) × 2^1\n"
      ]
     },
     "execution_count": 21,
     "metadata": {},
     "output_type": "execute_result"
    }
   ],
   "source": [
    "MiFloat(2, true, 1, (1, 0, 1))"
   ]
  },
  {
   "cell_type": "markdown",
   "metadata": {},
   "source": [
    "Es fácil convencerse que la suma no es cerrada para los números de punto flotante. Considerando por concretez la base 2 con `prec=3`, `rmin=-1`, `rmax=2` para definir `MiFloat`, y por simplicidad sólo considerando los números de punto flotante normales, el resultado de \n",
    "\n",
    "    MiFloat(2, false, -1, (1, 0, 0)) + Mifloat(2, false, -1, (1, 0, 1))\n",
    "    \n",
    "no es un número que puede representarse por `MiFloat`. Justamente esto nos lleva al concepto de *redondeo*."
   ]
  },
  {
   "cell_type": "code",
   "execution_count": 47,
   "metadata": {},
   "outputs": [
    {
     "ename": "LoadError",
     "evalue": "\u001b[91mMethodError: no method matching +(::MiFloat, ::MiFloat)\u001b[0m\nClosest candidates are:\n  +(::Any, ::Any, \u001b[91m::Any\u001b[39m, \u001b[91m::Any...\u001b[39m) at operators.jl:424\n  +(\u001b[91m::PyCall.PyObject\u001b[39m, ::Any) at /Users/porras/.julia/v0.6/PyCall/src/pyoperators.jl:11\u001b[39m",
     "output_type": "error",
     "traceback": [
      "\u001b[91mMethodError: no method matching +(::MiFloat, ::MiFloat)\u001b[0m\nClosest candidates are:\n  +(::Any, ::Any, \u001b[91m::Any\u001b[39m, \u001b[91m::Any...\u001b[39m) at operators.jl:424\n  +(\u001b[91m::PyCall.PyObject\u001b[39m, ::Any) at /Users/porras/.julia/v0.6/PyCall/src/pyoperators.jl:11\u001b[39m",
      "",
      "Stacktrace:",
      " [1] \u001b[1minclude_string\u001b[22m\u001b[22m\u001b[1m(\u001b[22m\u001b[22m::String, ::String\u001b[1m)\u001b[22m\u001b[22m at \u001b[1m./loading.jl:515\u001b[22m\u001b[22m"
     ]
    }
   ],
   "source": [
    "MiFloat(2, false, -1, (1, 0, 0)) + MiFloat(2, false, -1, (1, 0, 1))"
   ]
  },
  {
   "cell_type": "code",
   "execution_count": 51,
   "metadata": {},
   "outputs": [
    {
     "data": {
      "text/plain": [
       "1 (1, 0, 0) × 2^-1\n"
      ]
     },
     "execution_count": 51,
     "metadata": {},
     "output_type": "execute_result"
    },
    {
     "name": "stderr",
     "output_type": "stream",
     "text": [
      "\u001b[91mERROR (unhandled task failure): \u001b[91mInterruptException:\u001b[39m\n",
      "Stacktrace:\n",
      " [1] \u001b[1mprocess_events\u001b[22m\u001b[22m at \u001b[1m./libuv.jl:82\u001b[22m\u001b[22m [inlined]\n",
      " [2] \u001b[1mwait\u001b[22m\u001b[22m\u001b[1m(\u001b[22m\u001b[22m\u001b[1m)\u001b[22m\u001b[22m at \u001b[1m./event.jl:216\u001b[22m\u001b[22m\n",
      " [3] \u001b[1mwait\u001b[22m\u001b[22m\u001b[1m(\u001b[22m\u001b[22m::Condition\u001b[1m)\u001b[22m\u001b[22m at \u001b[1m./event.jl:27\u001b[22m\u001b[22m\n",
      " [4] \u001b[1mstream_wait\u001b[22m\u001b[22m\u001b[1m(\u001b[22m\u001b[22m::Timer, ::Condition, ::Vararg{Condition,N} where N\u001b[1m)\u001b[22m\u001b[22m at \u001b[1m./stream.jl:42\u001b[22m\u001b[22m\n",
      " [5] \u001b[1mwait\u001b[22m\u001b[22m\u001b[1m(\u001b[22m\u001b[22m::Timer\u001b[1m)\u001b[22m\u001b[22m at \u001b[1m./event.jl:357\u001b[22m\u001b[22m\n",
      " [6] \u001b[1m(::Base.##300#301{IJulia.#send_stderr,Timer})\u001b[22m\u001b[22m\u001b[1m(\u001b[22m\u001b[22m\u001b[1m)\u001b[22m\u001b[22m at \u001b[1m./event.jl:430\u001b[22m\u001b[22m\n",
      "\u001b[39m"
     ]
    }
   ],
   "source": [
    "MiFloat(2, false, -1, (1, 0, 0)) "
   ]
  },
  {
   "cell_type": "markdown",
   "metadata": {},
   "source": [
    "## Redondeo"
   ]
  },
  {
   "cell_type": "markdown",
   "metadata": {},
   "source": [
    "Sea $\\mathbb{R}^*$ los **reales extendidos**, o sea, que incluyen a $-\\infty$ e $\\infty$, y $\\mathbb{F}^*$ los números de punto flotante extendidos.\n",
    "\n",
    "Una operación $\\bigcirc: \\mathbb{R}^* \\to \\mathbb{F}$ es una operación de **redondeo** si se cumplen las siguientes dos propiedades:\n",
    "\n",
    "- (1) $x\\in\\mathbb{F}^* \\Longrightarrow \\bigcirc(x) = x$,\n",
    "\n",
    "- (2) $x, y\\in\\mathbb{F}^*$ y $x\\le y \\Longrightarrow \\bigcirc(x) \\le \\bigcirc(y)$."
   ]
  },
  {
   "cell_type": "markdown",
   "metadata": {},
   "source": [
    "Hay diversos tipos de redondeo. En particular nos interesarán los llamados *modos directos* de redondeo. \n",
    "\n",
    "Definiremos el redondeo *hacia abajo* (o hacia menos infinito) y el redondeo *hacia arriba* (o hacia más infinito), que denotaremos respectivamente con los símbolos $\\triangledown$ y $\\vartriangle$, si además se cumple:\n",
    "\n",
    "- $x\\in\\mathbb{R}^* \\Longrightarrow \\triangledown(x) \\leq x$,\n",
    "\n",
    "- $x\\in\\mathbb{R}^* \\Longrightarrow \\, \\vartriangle(x) \\geq x$.\n",
    "\n",
    "De esta manera, si $x\\in\\mathbb{R}^*$, el número $\\triangledown(x)$ es el mayor número de punto flotante menor o igual a x, y $\\vartriangle(x)$ es el menor número de punto flotante mayor o igual a x."
   ]
  },
  {
   "cell_type": "markdown",
   "metadata": {},
   "source": [
    "**[3]** ¿Qué podemos decir de $\\vartriangle(-x)$ y $\\triangledown(x)$ ?"
   ]
  },
  {
   "cell_type": "markdown",
   "metadata": {},
   "source": [
    "* $\\vartriangle(-x)$  el menor número de punto flotante mayor o igual a $-x$\n",
    "* $\\triangledown(x)$ es el mayor número de punto flotante menor o igual a x"
   ]
  },
  {
   "cell_type": "markdown",
   "metadata": {},
   "source": [
    "Otro modo de redondeo ampliamente usado es el llamado *redondeo al más cercano*. La idea es que para todo valor $x$ (menor en valor absoluto al mayor número representable, $N_\\textrm{max}$), se cumple\n",
    "\n",
    "$$ \\triangledown(x) \\leq x \\leq \\,\\vartriangle(x). $$\n",
    "\n",
    "Definiendo el punto medio $\\mu(x) = \\frac{1}{2}(\\triangledown(x)+\\vartriangle(x)\\,),$ definimos para $x > 0$ el modo de redondeo *al más cercano* como\n",
    "\n",
    "\\begin{eqnarray*}\n",
    "\\square_n(x) & = & \\triangledown(x), \\textrm{si } x\\in [\\triangledown(x),\\mu),\\\\\n",
    "\\square_n(x) & = & \\vartriangle(x), \\textrm{si } x\\in[\\mu,\\vartriangle(x)],\\\\\n",
    "\\end{eqnarray*}\n",
    "\n",
    "Para $x<0$, usamos la propiedad $\\square_n(x)= -\\square_n(-x)$."
   ]
  },
  {
   "cell_type": "markdown",
   "metadata": {},
   "source": [
    "En la definición anterior hay una pequeña asimetría que, de hecho, hace que se redondee más hacia arriba o hacia abajo, según el signo de $x$.\n",
    "\n",
    "Para evitar eso, en particular respecto al caso en que $x=\\mu$, se introduce el redondeo *hacia el más cercano par*, explotando el último dígito de la expansión en la base $\\beta$. Escribimos:\n",
    "\n",
    "\\begin{eqnarray}\n",
    "\\triangledown(x) &\\longrightarrow& (a_0.a_1\\dots a_{p-1})_\\beta,\\\\\n",
    "\\vartriangle(x) &\\longrightarrow& (b_0.b_1\\dots b_{p-1})_\\beta.\n",
    "\\end{eqnarray}\n",
    "\n",
    "Si $x\\not\\in \\mathbb{F}^*$ sólo uno de los dos últimos bits de la representación de la mantisa de $\\triangledown(x)$ o $\\vartriangle(x)$ es par. Así, definimos el modo de redondeo $\\square(x)$ *hacia el más cercano par* como ($x>0$):\n",
    "\n",
    "\\begin{eqnarray*}\n",
    "\\square(x) & = & \\triangledown(x), \\textrm{si } x\\in [\\triangledown(x),\\mu), \\textrm{o si } x=\\mu \\textrm{ y } a_{p-1} \\textrm{es par},\\\\\n",
    "\\square(x) & = & \\vartriangle(x), \\textrm{si } x\\in(\\mu,\\vartriangle(x)], \\textrm{o si } x=\\mu \\textrm{ y } b_{p-1} \\textrm{es par}.\n",
    "\\end{eqnarray*}\n",
    "\n",
    "El modo de redondeo $\\square$ es típicamente el modo que se utiliza por default en casi todas las implementaciones de los números de punto flotante."
   ]
  },
  {
   "cell_type": "markdown",
   "metadata": {},
   "source": [
    "Es importante enfatizar que $\\mu$ es un número real, en general no representable como `Float64` (o `MiFloat`). Es por esto que, a fin de poder decidir cómo redondear, se requieren un par de bits más para $\\mu$."
   ]
  },
  {
   "cell_type": "markdown",
   "metadata": {},
   "source": [
    "**[4]** \n",
    "\n",
    "Sobrecarga la operación suma (`+`), definida en `Base`, para que funcione usando dos elementos de `MiFloat`, de tal forma que el usuario pueda elegir qué tipo de redondeo quiere. Incluye varios tests que demuestren el funcionamiento de tu algoritmo.\n",
    "\n",
    "Para hacer esto, una posibilidad es definir una constante `ModoRedondeo` que pueda valer `:RedondArriba`, `:RedondAbajo` o `:RedondMasCercano`. (Nota los \"dos puntos\" `:`; sirven para especificar que estas palabras son símbolos.) La idea es definir apropiadamente las funciones `suma(::Val{:RedondArriba}, a::MiFloat, b::MiFloat)`, `suma(::Val{:RedondAbajo}, a::MiFloat, b::MiFloat)`, `suma(::Val{:RedonddMasCercano}, a::MiFloat, b::MiFloat)`, para sobrecargar la operación `+` llamando a `suma(Val(ModoRedondeo), a, b)`."
   ]
  },
  {
   "cell_type": "code",
   "execution_count": 48,
   "metadata": {
    "collapsed": true
   },
   "outputs": [],
   "source": [
    "import Base: +"
   ]
  },
  {
   "cell_type": "code",
   "execution_count": 50,
   "metadata": {},
   "outputs": [
    {
     "ename": "LoadError",
     "evalue": "\u001b[91mUndefVarError: ModoRedondeo not defined\u001b[39m",
     "output_type": "error",
     "traceback": [
      "\u001b[91mUndefVarError: ModoRedondeo not defined\u001b[39m",
      "",
      "Stacktrace:",
      " [1] \u001b[1minclude_string\u001b[22m\u001b[22m\u001b[1m(\u001b[22m\u001b[22m::String, ::String\u001b[1m)\u001b[22m\u001b[22m at \u001b[1m./loading.jl:515\u001b[22m\u001b[22m"
     ]
    }
   ],
   "source": [
    "ModoRedondeo:RedondArriba"
   ]
  },
  {
   "cell_type": "code",
   "execution_count": null,
   "metadata": {
    "collapsed": true
   },
   "outputs": [],
   "source": [
    "function suma(::Val{:RedondArriba}, a::MiFloat, b::MiFloat)\n",
    "    return \n",
    "end"
   ]
  },
  {
   "cell_type": "code",
   "execution_count": null,
   "metadata": {
    "collapsed": true
   },
   "outputs": [],
   "source": [
    "function +(x::Intervalo, y::Intervalo)\n",
    "    return Intervalo(x.inf + y.inf, x.sup + y.sup)\n",
    "end"
   ]
  },
  {
   "cell_type": "markdown",
   "metadata": {},
   "source": [
    "**[5]** Escribe una función que permita convertir de `Float64` a `MiFloat`, respetando el modo de redondeo especificado en `ModoRedondeo`."
   ]
  },
  {
   "cell_type": "code",
   "execution_count": null,
   "metadata": {
    "collapsed": true
   },
   "outputs": [],
   "source": []
  },
  {
   "cell_type": "markdown",
   "metadata": {},
   "source": [
    "**[6]** ¿Cómo se te ocurre verificar que `:RedondMasCercano` ($\\square$) no tiene sesgo?"
   ]
  },
  {
   "cell_type": "code",
   "execution_count": null,
   "metadata": {
    "collapsed": true
   },
   "outputs": [],
   "source": []
  },
  {
   "cell_type": "markdown",
   "metadata": {},
   "source": [
    "**[7]** \n",
    "\n",
    "(i) ¿Cómo usarías alguno o algunos modos de redondeo para definir intervalos que garanticen que el punto que estamos buscando esté en el intervalo?\n",
    "\n",
    "(ii) ¿Cuál sería un intervalo apropiado que contiene al número real `0.1`, usando `Float64`? "
   ]
  },
  {
   "cell_type": "code",
   "execution_count": null,
   "metadata": {
    "collapsed": true
   },
   "outputs": [],
   "source": []
  },
  {
   "cell_type": "markdown",
   "metadata": {},
   "source": [
    "**[4]** \n",
    "\n",
    "Sobrecarga la operación suma (`+`), definida en `Base`, para que funcione usando dos elementos de `Mifloat`, de tal forma que el usuario pueda elegir qué tipo de redondeo quiere. Incluye varios tests que demuestren el funcionamiento de tu algoritmo.\n",
    "\n",
    "Para hacer esto, una posibilidad es definir una constante `ModoRedondeo` que pueda valer `:RedondArriba`, `:RedondAbajo` o `:RedondMasCercano`. (Nota los \"dos puntos\" `:`; sirven para especificar que estas palabras son símbolos.) La idea es definir apropiadamente las funciones `suma(::Val{:RedondArriba}, a::Mifloat, b::MiFloat)`, `suma(::Val{:RedondAbajo}, a::MiFloat, b::MiFloat)`, `suma(::Val{:RedonddMasCercano}, a::MiFloat, b::MiFloat)`, para sobrecargar la operación `+` llamando a `suma(Val(ModoRedondeo), a, b)`."
   ]
  },
  {
   "cell_type": "code",
   "execution_count": null,
   "metadata": {
    "collapsed": true
   },
   "outputs": [],
   "source": []
  },
  {
   "cell_type": "markdown",
   "metadata": {},
   "source": [
    "**[5]** Escribe una función que permita convertir de `Float64` a `MiFloat`, respetando el modo de redondeo especificado en `ModoRedondeo`."
   ]
  },
  {
   "cell_type": "code",
   "execution_count": null,
   "metadata": {
    "collapsed": true
   },
   "outputs": [],
   "source": []
  },
  {
   "cell_type": "markdown",
   "metadata": {},
   "source": [
    "**[6]** ¿Cómo se te ocurre verificar que `:RedondMasCercano` ($\\square$) no tiene sesgo?"
   ]
  },
  {
   "cell_type": "code",
   "execution_count": null,
   "metadata": {
    "collapsed": true
   },
   "outputs": [],
   "source": []
  },
  {
   "cell_type": "markdown",
   "metadata": {},
   "source": [
    "**[7]** \n",
    "\n",
    "¿Cómo usarías alguno o varios modos de redondeo para definir intervalos que garantizen que el punto $x$ que estamos buscando esté contenido en un intervalo?\n",
    "\n",
    "¿Cuál sería un intervalo apropiado que contiene al número real `0.1`, usando `Float64`? "
   ]
  },
  {
   "cell_type": "code",
   "execution_count": null,
   "metadata": {
    "collapsed": true
   },
   "outputs": [],
   "source": []
  },
  {
   "cell_type": "markdown",
   "metadata": {},
   "source": [
    "# Errores por el redondeo"
   ]
  },
  {
   "cell_type": "markdown",
   "metadata": {},
   "source": [
    "**Teorema** Si $x$ es un número real en el rango normalizado de $\\mathbb{F}_{\\beta,p}$, entonces el error relativo causado por el redondeo está acotado:\n",
    "\n",
    "\\begin{equation}\n",
    "\\Big|\\frac{x-\\bigcirc(x)}{x} \\Big| < \\varepsilon_M = \\beta^{p-1}.\n",
    "\\end{equation}\n",
    "\n",
    "El error absoluto correspondiente está acotado por $|x|\\,\\varepsilon_M$.\n",
    "\n",
    "(El número $\\varepsilon_M$ se llama \"el epsilon de la máquina\".)"
   ]
  },
  {
   "cell_type": "markdown",
   "metadata": {},
   "source": [
    "**[8]** \n",
    "\n",
    "(i) Ejemplifica el teorema anterior con tu implementación de los distintos modos del redondeo. \n",
    "\n",
    "(ii) Muestra con un par de ejemplos que en el caso de $\\square(x)$, la cota puede reducirse por un factor 0.5.\n",
    "\n",
    "(iii) Muestra que el espaciamiento de dos números de punto flotante consecutivos $x$ y $y$ en el rango normalizado está acotado entre\n",
    "$|x|\\,\\varepsilon_M/\\beta$ y $|x|\\,\\varepsilon_M$.\n",
    "\n",
    "(iv) ¿Cómo se comportan los errores relativos en el rango de los números subnormales? Muestra tu argumentación con un par de ejemplos."
   ]
  },
  {
   "cell_type": "code",
   "execution_count": null,
   "metadata": {
    "collapsed": true
   },
   "outputs": [],
   "source": []
  },
  {
   "cell_type": "markdown",
   "metadata": {},
   "source": [
    "**[9]** Definiremos $x\\oplus y=\\bigcirc(x+y)$, esto es, la suma en la aritmética en $\\mathbb{F}^*$. \n",
    "\n",
    "(i) Muestra que el error relativo (respecto al resultado exacto) de una operación (la suma, en este caso) está acotado por $\\varepsilon_M$.\n",
    "\n",
    "(ii) ¿Se cumple esto si consideramos dos o más sumas? Ilustra tu argumento con algún ejemplo."
   ]
  },
  {
   "cell_type": "code",
   "execution_count": null,
   "metadata": {
    "collapsed": true
   },
   "outputs": [],
   "source": []
  },
  {
   "cell_type": "markdown",
   "metadata": {},
   "source": [
    "**[10]** Considera el mapeo $f(x) = 3x \\textrm{ mod } 1$, con $f:[0,1]\\to[0,1]$.\n",
    "\n",
    "(i) Muestra analíticamente que $x_0= 1/10$ pertenece a un ciclo de periodo 4 de este mapeo.\n",
    "\n",
    "(ii) ¿Puedes mostrar numéricamente (usando `Float64`) este resultado? ¿Qué ocurre si utilizas `BigFloat` y `Rational{Int}`? (Es útil leer la ayuda de la función `mod`.)"
   ]
  },
  {
   "cell_type": "code",
   "execution_count": null,
   "metadata": {
    "collapsed": true
   },
   "outputs": [],
   "source": []
  },
  {
   "cell_type": "markdown",
   "metadata": {},
   "source": [
    "# Resumen"
   ]
  },
  {
   "cell_type": "markdown",
   "metadata": {},
   "source": [
    "**[11]** Escribe un resumen de lo aprendido en este notebook."
   ]
  }
 ],
 "metadata": {
  "kernelspec": {
   "display_name": "Julia 0.6.0",
   "language": "julia",
   "name": "julia-0.6"
  },
  "language_info": {
   "file_extension": ".jl",
   "mimetype": "application/julia",
   "name": "julia",
   "version": "0.6.0"
  },
  "toc": {
   "nav_menu": {},
   "number_sections": true,
   "sideBar": true,
   "skip_h1_title": false,
   "toc_cell": false,
   "toc_position": {},
   "toc_section_display": "block",
   "toc_window_display": false
  }
 },
 "nbformat": 4,
 "nbformat_minor": 2
}
