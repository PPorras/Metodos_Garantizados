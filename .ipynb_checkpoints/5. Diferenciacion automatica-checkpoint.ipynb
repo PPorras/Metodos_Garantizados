{
 "cells": [
  {
   "cell_type": "markdown",
   "metadata": {},
   "source": [
    "# Diferenciación automática"
   ]
  },
  {
   "cell_type": "markdown",
   "metadata": {},
   "source": [
    "En este notebook, veremos una metodología para calcular derivadas numéricamente de forma *exacta*, la **diferenciación automática** o **diferenciación algorítmica**"
   ]
  },
  {
   "cell_type": "markdown",
   "metadata": {},
   "source": [
    "## Significado de la derivada"
   ]
  },
  {
   "cell_type": "markdown",
   "metadata": {},
   "source": [
    "¿Para qué sirven las derivadas?\n",
    "\n",
    "Es una medida de tasas de cambio"
   ]
  },
  {
   "cell_type": "markdown",
   "metadata": {},
   "source": [
    "**[1]** (i) Supón que quieres calcular raíces de una función $f: \\mathbb{R} \\to \\mathbb{R}$ como lo hemos hecho en un notebook anterior, y tienes una manera de calcular la derivada $f'$. Si calculas $f'(X)$ para un intervalo $X$, ¿qué te da? \n",
    "\n",
    "* el conjunto de todas las derivadas en el intervalo $X$ \n",
    "\n",
    "¿En qué te ayuda esto qué puedes concluir sobre las raíces? \n",
    "\n",
    "* Puedo implementar un método de Newton para intervalos $X$ para encontrar raices en el intervalo. Recordemos el método de Newton \n",
    "\n",
    "Sean $f:[a,b] \\longrightarrow \\mathbb{R}$ una función diferenciable a $[a,b]$ y $x_{0} \\in [a,b]$ una condición inicial, definimos la función de iteración como $$x_{n+1} = x_{n} -  \\dfrac{f(x_{n})}{f'(x_{n})} = \\Phi(x_{n})$$ tal que\n",
    "\n",
    "$\\displaystyle\\lim_{x_{n} \\rightarrow \\infty} \\Phi(x_{n}) = x^{*}$ con $x^{*}$ la raíz de $f$\n",
    "\n",
    "Ahora si extendemos esto a intevalo tenemos lo siguiente\n",
    "\n",
    "Sean $f:X \\longrightarrow \\mathbb{R}$ una función diferenciable a $X$ y $x_{0} \\in X$, punto medio del intervalos como condición inicial, definimos la función de iteración como $$x_{n+1} = x_{n} -  \\dfrac{f(x_{n})}{f'(x_{n})}$$"
   ]
  },
  {
   "cell_type": "code",
   "execution_count": null,
   "metadata": {
    "collapsed": true
   },
   "outputs": [],
   "source": []
  },
  {
   "cell_type": "markdown",
   "metadata": {
    "collapsed": true
   },
   "source": [
    "(ii) ¿Se extiende esto a funciones $f:\\mathbb{R^n} \\to \\mathbb{R}^n$?\n",
    "\n",
    "* Sí\n",
    "\n",
    "¿De qué manera?\n",
    "\n",
    "* Con el método de Newton multidimensional"
   ]
  },
  {
   "cell_type": "markdown",
   "metadata": {},
   "source": [
    "**[2]** Para una función $f:\\mathbb{R} \\to \\mathbb{R}$, considera un intervalo $X$ donde queremos encontrar el rango $f(X)$. \n",
    "\n",
    "(i) Recuerda el teorema del valor medio (\"mean value theorem\"). Fija un $x_0 \\in X$ y utiliza el teorema para escribir una expresión para $f(x)$ para $x \\in X$, en términos de la derivada de $f$ en algún punto $\\xi \\in X$.\n",
    "\n",
    "Por hipótesis $f\\in \\mathcal{C}^1$ por el teorema de Taylor, y acontado el residuo (de Lagrange), alrededor de $x_0$ fijo tenemos\n",
    "\n",
    "$$f(x) = f(x_{0}) + f'(\\xi)(x - x_{0})$$\n",
    "\n",
    "\n",
    "\n",
    "(ii) No conocemos $\\xi$. ¿Qué podemos hacer al respecto?\n",
    "\n",
    "* Tomamos todo el intervalo $X$\n",
    "\n",
    "Si lo haces, encontrarás otra expresión para el rango $f(X)$, que se conoce como el **mean value form** o **centred form**.\n",
    "\n",
    "Utilizando la idea de acotar con intervalos, tenemos\n",
    "\n",
    "$$f(X) = f(x_{0}) + f'(X)(X - x_{0})$$\n",
    "\n",
    "(iii) Compara los resultados numéricos que obtienes de $f(X)$ con la extensión intervalar usual (lo que vimos en un notebook anterior) y esta versión nueva para distintas funciones. ¿Cuándo es mejor la nueva? \n",
    "\n",
    "\n",
    "(iv) Si tienes las dos formas de calcular el rango, ¿cómo puedes combinarlos? Impleméntalo.\n",
    "\n",
    "* Para ello consideremos la función $f(x) = x^2$ en el intervalo $[-1,2]$ , que sabemos el rango es $f([-1,2]) = [0,4]$,  por otro lado usando la \"nueva versión\" con $x_0 = 1$\n",
    "\n",
    "$$f([-1,2]) = f(1) + f'\\left([-1,2] \\right)([-1,2] - 1) = 1 + [-2,4]*[-2,1] = [-7,5] $$\n",
    "\n",
    "Con $x_0 = 0$\n",
    "\n",
    "$$f([-1,2]) = f(0) + f'\\left([-1,2] \\right)([-1,2] - 0) = [-2,4]*[-1,2] = [-4,8] $$\n",
    "\n",
    "Notemos que ambos contienen el intervalo solución\n",
    "\n",
    "Al calcular $f'(X)$ usamos la versión intervalar usual."
   ]
  },
  {
   "cell_type": "code",
   "execution_count": 1,
   "metadata": {
    "collapsed": true
   },
   "outputs": [],
   "source": [
    "using Base.Test"
   ]
  },
  {
   "cell_type": "code",
   "execution_count": 2,
   "metadata": {
    "collapsed": true
   },
   "outputs": [],
   "source": [
    "struct Intervalo\n",
    "    inf::Float64\n",
    "    sup::Float64\n",
    "    Intervalo(inf,sup) = inf > sup ? error(\"No es un intervalo valido\") : new(inf,sup)\n",
    "end"
   ]
  },
  {
   "cell_type": "code",
   "execution_count": 3,
   "metadata": {},
   "outputs": [
    {
     "data": {
      "text/plain": [
       "sqr (generic function with 1 method)"
      ]
     },
     "execution_count": 3,
     "metadata": {},
     "output_type": "execute_result"
    }
   ],
   "source": [
    "import Base: +, -,*,/\n",
    "\n",
    "function +(x::Intervalo, y::Intervalo)\n",
    "    return Intervalo(x.inf + y.inf, x.sup + y.sup)\n",
    "end\n",
    "\n",
    "function +(x::Intervalo, c::Real) \n",
    "    # Aquí definimos la suma de un Intervalo a un Real\n",
    "    return Intervalo(x.inf + c, x.sup + c)\n",
    "end\n",
    "\n",
    "function +(c::Real, x::Intervalo)\n",
    "    # Aquí definimos la suma de un Real a un Intervalo\n",
    "    return Intervalo(x.inf + c, x.sup + c)\n",
    "end\n",
    "\n",
    "\n",
    "function -(x::Intervalo, y::Intervalo)\n",
    "    return Intervalo(x.inf - y.inf, x.sup - y.sup)\n",
    "end\n",
    "\n",
    "function -(x::Intervalo, c::Real)\n",
    "    return Intervalo(x.inf - c, x.sup - c)\n",
    "end\n",
    "\n",
    "function -(c::Real, x::Intervalo)\n",
    "    return Intervalo(c-x.inf, c-x.sup)\n",
    "end\n",
    "\n",
    "function *(x::Intervalo, y::Intervalo)\n",
    "    Intervalo(min(x.inf*y.inf, x.sup*y.inf, x.sup*y.sup, x.inf*y.sup), \n",
    "        max(x.inf*y.inf, x.sup*y.inf, x.sup*y.sup, x.inf*y.sup))\n",
    "end\n",
    "\n",
    "function *(x::Intervalo, c::Real)\n",
    "    Intervalo(min(x.inf*c, x.sup*c), max(x.inf*c, x.sup*c))\n",
    "    \n",
    "    #return Intervalo(x.inf * c, x.sup * c)\n",
    "end\n",
    "\n",
    "function *(c::Real, x::Intervalo)\n",
    "    Intervalo(min(x.inf*c, x.sup*c), max(x.inf*c, x.sup*c))\n",
    "end\n",
    "\n",
    "function /(x::Intervalo, y::Intervalo)\n",
    "    Intervalo(min(x.inf/y.inf, x.inf/y.sup, x.sup/y.inf, x.sup/y.sup), \n",
    "        max(x.inf/y.inf, x.sup/y.inf, x.sup/y.sup, x.inf/y.sup))\n",
    "end\n",
    "\n",
    "function /(x::Intervalo, c::Real)\n",
    "    Intervalo(min(x.inf/c, x.sup/c), max(x.inf/c, x.sup/c))\n",
    "    \n",
    "    #return Intervalo(x.inf * c, x.sup * c)\n",
    "end\n",
    "\n",
    "function /(c::Real, x::Intervalo)\n",
    "    Intervalo(min(c/x.inf, c/x.sup), max(c/x.inf, c/x.sup))\n",
    "end\n",
    "\n",
    "\n",
    "function sqr(x::Intervalo)\n",
    "    if x.inf < 0 && x.sup >0\n",
    "        if abs(x.inf) < abs(x.sup)\n",
    "            return (0, x.sup^2)\n",
    "        else\n",
    "            return (0, x.inf^2)\n",
    "        end\n",
    "    elseif x.inf < 0 && x.sup < 0\n",
    "         return (x.sup^2, x.inf^2)\n",
    "    else\n",
    "        return (x.inf^2, x.sup^2)\n",
    "    end\n",
    "end"
   ]
  },
  {
   "cell_type": "code",
   "execution_count": 4,
   "metadata": {},
   "outputs": [
    {
     "data": {
      "text/plain": [
       "(0, 4.0)"
      ]
     },
     "execution_count": 4,
     "metadata": {},
     "output_type": "execute_result"
    }
   ],
   "source": [
    "sqr(Intervalo(-1,2))"
   ]
  },
  {
   "cell_type": "code",
   "execution_count": 5,
   "metadata": {},
   "outputs": [
    {
     "data": {
      "text/plain": [
       "Intervalo(-2.0, 4.0)"
      ]
     },
     "execution_count": 5,
     "metadata": {},
     "output_type": "execute_result"
    }
   ],
   "source": [
    "Intervalo(-1,2)^2"
   ]
  },
  {
   "cell_type": "code",
   "execution_count": 6,
   "metadata": {},
   "outputs": [
    {
     "data": {
      "text/plain": [
       "gp (generic function with 1 method)"
      ]
     },
     "execution_count": 6,
     "metadata": {},
     "output_type": "execute_result"
    }
   ],
   "source": [
    "g(x) = x^2\n",
    "gp(x) = 2x"
   ]
  },
  {
   "cell_type": "code",
   "execution_count": 7,
   "metadata": {},
   "outputs": [
    {
     "data": {
      "text/plain": [
       "#g"
      ]
     },
     "execution_count": 7,
     "metadata": {},
     "output_type": "execute_result"
    }
   ],
   "source": [
    "typeof(g)"
   ]
  },
  {
   "cell_type": "code",
   "execution_count": 8,
   "metadata": {},
   "outputs": [
    {
     "data": {
      "text/plain": [
       "Fintervalo (generic function with 1 method)"
      ]
     },
     "execution_count": 8,
     "metadata": {},
     "output_type": "execute_result"
    }
   ],
   "source": [
    "function Fintervalo(f,fp, x::Intervalo , x0::Real)\n",
    "\n",
    "    #x0 ∈ [x.inf, x.sup] ? nothing : error(\"x0 no esta en el intervalos\")\n",
    "    \n",
    "    f(x0) + fp(x)*(x - x0)\n",
    "    \n",
    "end"
   ]
  },
  {
   "cell_type": "code",
   "execution_count": 9,
   "metadata": {},
   "outputs": [
    {
     "data": {
      "text/plain": [
       "Intervalo(-7.0, 5.0)"
      ]
     },
     "execution_count": 9,
     "metadata": {},
     "output_type": "execute_result"
    }
   ],
   "source": [
    "Fintervalo(g,gp,Intervalo(-1,2),1)"
   ]
  },
  {
   "cell_type": "markdown",
   "metadata": {},
   "source": [
    "## Diferenciación automática"
   ]
  },
  {
   "cell_type": "markdown",
   "metadata": {},
   "source": [
    "De cálculo conocemos reglas para calcular derivadas (a diferencia, por ejemplo, de integrales indefinidas). Resulta que es posible *automatizar* estas reglas, para que la computadora las utilice para calcular derivadas de forma numéricamente exacta (a parte de errores de redondeo). Este conjunto de técnicas se llama la **diferenciación automática** o **diferenciación algorítmica**. En este notebook, veremos las bases de este método."
   ]
  },
  {
   "cell_type": "markdown",
   "metadata": {},
   "source": [
    "Nota: Este método *no* utiliza ni diferencias finitas, ni manipulación simbólica. Utiliza las reglas de derivadas provenientes del cálculo, pero de forma *numérica*. Especificamos el valor numérico de una variable, por ejemplo, `a = 3` en donde queremos evaluar la derivada de una función $f$, y ¡el método nos regresará el valor numérico de la derivada $f'(a)$!"
   ]
  },
  {
   "cell_type": "markdown",
   "metadata": {},
   "source": [
    "**[3]** Supón que tienes dos funciones $f$ y $g$ de $\\mathbb{R} \\to \\mathbb{R}$, cuyas derivadas conoces, y quieres calcular derivadas en un punto $a \\in \\mathbb{R}$ de combinaciones de estas funciones.\n",
    "\n",
    "(i) Expande $f$ y $g$ en series de Taylor alrededor de $a$ en términos de la distancia $\\epsilon$ desde $a$.\n",
    " \n",
    " Sea $\\epsilon = x -a$\n",
    "\n",
    "* $f(x) = f(a) + \\dfrac{f'(a)(\\epsilon)}{1!} + \\dfrac{f''(a)(\\epsilon)^2}{2!} + \\cdots = \\displaystyle \\sum _{k = 0} ^{\\infty} \\dfrac{f^{(k)}(a) \\epsilon ^k }{k!}$\n",
    "\n",
    "* $g(x) = g(a) + \\dfrac{g'(a)(\\epsilon)}{1!} + \\dfrac{g''(a)(\\epsilon)^2}{2!} + \\cdots = \\displaystyle \\sum _{k = 0} ^{\\infty} \\dfrac{g^{(k)}(a) \\epsilon ^k }{k!} $\n",
    "\n",
    "\n",
    "(ii) Encuentra series de Taylor para la suma $(f+g)$ y el producto $(f \\cdot g)$ en la vecindad de $a$.\n",
    "\n",
    "* $(f + g)(x) = \\displaystyle \\sum _{k = 0} ^{\\infty}  \\left[ f^{(k)}(a)  + g^{(k)}(a) \\right]  \\left(\\dfrac{ \\epsilon ^k}{k!}  \\right) = \\displaystyle \\sum _{k =0 }^{\\infty} \\dfrac{(f + g)^{(k)}(a)\\epsilon^{k}}{k!}  $\n",
    "\n",
    "* $(f \\cdot g)(x) = \\left( \\displaystyle \\sum _{k = 0} ^{\\infty} \\dfrac{f^{(k)}(a) \\epsilon ^k }{k!} \\right)\\left( \\displaystyle \\sum _{l = 0} ^{\\infty} \\dfrac{g^{(l)}(a) \\epsilon ^l }{l!} \\right) = \\displaystyle \\sum _{k =0 }^{\\infty} \\dfrac{(f \\cdot g)^{(k)}(a)\\epsilon^{k}}{k!}  $\n",
    "\n",
    "(iii) Así, recobre las expresiones ya conocidas (de cálculo) para $(f+g)'(a)$ y $(f \\cdot g)'(a)$,\n",
    "en términos de los valores de las funciones y sus derivadas. Concluye cuál información necesitas de cada función para poder calcular derivadas en el punto $a$ de las combinaciones de las funciones.\n",
    "\n",
    "* ($f + g)'(a) = f'(a) + g'(a)$, es decir, para suma necesitamos los coeficientes de orden epsilon\n",
    "\n",
    "* $(f \\cdot g)'(a) = f'(a)g(a) + f(a)g'(a)$, para esto necesitamos los coeficentes de orden menor o igual a epsilon de $f$ y $g$ \n",
    "\n",
    "Necesitamos que $f$ y $g$ sean $\\mathcal{C}^{\\infty}$ sin polos en $a$"
   ]
  },
  {
   "cell_type": "code",
   "execution_count": null,
   "metadata": {
    "collapsed": true
   },
   "outputs": [],
   "source": []
  },
  {
   "cell_type": "markdown",
   "metadata": {},
   "source": [
    "**[4]** Ahora podemos convertir esto en un método numérico para calcular derivadas, como sigue."
   ]
  },
  {
   "cell_type": "markdown",
   "metadata": {},
   "source": [
    "(i) Define un tipo nuevo `Dual` que contiene la información necesaria de una función en el punto $a$. (Dejamos implícito el punto $a$; no lo representamos de forma explícita.) \n",
    "\n",
    "(ii) Define las operaciones aritméticas básicas sobre objetos de este tipo, siguiendo las reglas que desarrollamos en la pregunta (3).\n",
    "\n",
    "(iii) ¿Cuál número `Dual` corresponde con la función identidad $\\mathbb{1}: x \\mapsto x$ en el punto $a$? Esto representará la \"variable independiente\" $x$.\n",
    "\n",
    "* Es `Dual(a, 1)`\n",
    "\n",
    "(iv) Verifica que si agarras un objeto `xx` de la forma encontrada en (iii) y lo enchufas en una función específica `f(x)` de Julia, arroja el valor de la función y de la derivada.\n",
    "\n",
    "(v) Así, escribe una función que calcule de forma automática la derivada de una función en un punto dado."
   ]
  },
  {
   "cell_type": "code",
   "execution_count": 55,
   "metadata": {
    "collapsed": true
   },
   "outputs": [],
   "source": [
    "import Base: ^"
   ]
  },
  {
   "cell_type": "code",
   "execution_count": 56,
   "metadata": {
    "collapsed": true
   },
   "outputs": [],
   "source": [
    "# (i)\n",
    "\n",
    "struct Dual\n",
    "    fa::Float64\n",
    "    fpa::Float64\n",
    "end"
   ]
  },
  {
   "cell_type": "code",
   "execution_count": 57,
   "metadata": {},
   "outputs": [
    {
     "data": {
      "text/plain": [
       "Dual(9.0, 6.0)"
      ]
     },
     "execution_count": 57,
     "metadata": {},
     "output_type": "execute_result"
    }
   ],
   "source": [
    "Dual(9,6)"
   ]
  },
  {
   "cell_type": "code",
   "execution_count": 171,
   "metadata": {},
   "outputs": [
    {
     "data": {
      "text/plain": [
       "^ (generic function with 53 methods)"
      ]
     },
     "execution_count": 171,
     "metadata": {},
     "output_type": "execute_result"
    }
   ],
   "source": [
    "function +(x::Dual, y::Dual)\n",
    "    Dual(x.fa + y.fa, x.fpa + y.fpa)\n",
    "end\n",
    "\n",
    "function +(c::Real, y::Dual)\n",
    "    Dual(c + y.fa, y.fpa)\n",
    "end\n",
    "\n",
    "function +(x::Dual, c::Real)\n",
    "    Dual(x.fa + c, x.fpa )\n",
    "end\n",
    "\n",
    "\n",
    "function -(x::Dual, y::Dual)\n",
    "    Dual(x.fa - y.fa, x.fpa - y.fpa)\n",
    "end\n",
    "\n",
    "function -(c::Real, y::Dual)\n",
    "    Dual(c - y.fa, y.fpa)\n",
    "end\n",
    "\n",
    "function -(x::Dual, c::Real)\n",
    "    Dual(x.fa - c, x.fpa )\n",
    "end\n",
    "\n",
    "function *(x::Dual, y::Dual)\n",
    "    Dual(x.fa * y.fa, x.fpa * y.fa + x.fa * y.fpa )\n",
    "end\n",
    "\n",
    "function *(c::Real, y::Dual)\n",
    "    Dual(c* y.fa,  c * y.fpa )\n",
    "end\n",
    "\n",
    "function *(x::Dual, c::Real)\n",
    "    Dual(x.fa*c, x.fpa*c )\n",
    "end\n",
    "\n",
    "function ^(x::Dual, n::Int64)\n",
    "    Dual(x.fa^n, n*x.fa^(n-1))\n",
    "end"
   ]
  },
  {
   "cell_type": "code",
   "execution_count": 172,
   "metadata": {},
   "outputs": [
    {
     "data": {
      "text/plain": [
       "Dual(8.0, 12.0)"
      ]
     },
     "execution_count": 172,
     "metadata": {},
     "output_type": "execute_result"
    }
   ],
   "source": [
    "Dual(2,1)^3"
   ]
  },
  {
   "cell_type": "code",
   "execution_count": 166,
   "metadata": {},
   "outputs": [
    {
     "data": {
      "text/plain": [
       "Dual(18.0, 12.0)"
      ]
     },
     "execution_count": 166,
     "metadata": {},
     "output_type": "execute_result"
    }
   ],
   "source": [
    "Dual(9,6) + Dual(9,6) "
   ]
  },
  {
   "cell_type": "code",
   "execution_count": 167,
   "metadata": {},
   "outputs": [
    {
     "name": "stdout",
     "output_type": "stream",
     "text": [
      "\u001b[1m\u001b[37mTest Summary:   | \u001b[39m\u001b[22m\u001b[1m\u001b[32mPass  \u001b[39m\u001b[22m\u001b[1m\u001b[36mTotal\u001b[39m\u001b[22m\n",
      "Pruebas de Dual | \u001b[32m   4  \u001b[39m\u001b[36m    4\u001b[39m\n"
     ]
    },
    {
     "data": {
      "text/plain": [
       "Base.Test.DefaultTestSet(\"Pruebas de Dual\", Any[], 4, false)"
      ]
     },
     "execution_count": 167,
     "metadata": {},
     "output_type": "execute_result"
    }
   ],
   "source": [
    "@testset \"Pruebas de Dual\" begin\n",
    "    @test Dual(9,6) + Dual(9,6) == Dual(18,12)\n",
    "    @test Dual(9,6) * Dual(9,6) == Dual(81,108)\n",
    "    @test Dual(9,6) * Dual(1,0) == Dual(9,6)\n",
    "    @test Dual(3,1) * Dual(3,1) == Dual(9,6)\n",
    "end"
   ]
  },
  {
   "cell_type": "code",
   "execution_count": 168,
   "metadata": {},
   "outputs": [
    {
     "data": {
      "text/plain": [
       "f (generic function with 1 method)"
      ]
     },
     "execution_count": 168,
     "metadata": {},
     "output_type": "execute_result"
    }
   ],
   "source": [
    "f(x) = x^3 - 2x"
   ]
  },
  {
   "cell_type": "code",
   "execution_count": 169,
   "metadata": {},
   "outputs": [
    {
     "data": {
      "text/plain": [
       "Dual(4.0, 1.0)"
      ]
     },
     "execution_count": 169,
     "metadata": {},
     "output_type": "execute_result"
    }
   ],
   "source": [
    "f(Dual(2,1))"
   ]
  },
  {
   "cell_type": "code",
   "execution_count": 170,
   "metadata": {},
   "outputs": [
    {
     "data": {
      "text/plain": [
       "derivada (generic function with 1 method)"
      ]
     },
     "execution_count": 170,
     "metadata": {},
     "output_type": "execute_result"
    }
   ],
   "source": [
    "function derivada(f,x0::Real)\n",
    "    x = f(Dual(x0, 1))\n",
    "    x.fpa\n",
    "end"
   ]
  },
  {
   "cell_type": "code",
   "execution_count": 18,
   "metadata": {},
   "outputs": [
    {
     "data": {
      "text/plain": [
       "\u001b[1m\u001b[32mTest Passed\u001b[39m\u001b[22m"
      ]
     },
     "execution_count": 18,
     "metadata": {},
     "output_type": "execute_result"
    }
   ],
   "source": [
    "@test derivada(f,2) == Dual(4,10).fpa"
   ]
  },
  {
   "cell_type": "markdown",
   "metadata": {},
   "source": [
    "**[5]** (i) Si tienes una función como `exp`, cuando la aplicas a un número `Dual` que representa a una función $f$ cerca del punto $a$, el resultado debe corresponder a la función $(\\exp \\circ f)$. Impleméntalo.\n",
    "\n",
    "(ii) ¿Qué ocurre si derivas `exp(exp(x))` en un punto $a$? ¿Es correcto? ¿Qué se ha implementado (¡de forma automática!) aquí?"
   ]
  },
  {
   "cell_type": "code",
   "execution_count": 32,
   "metadata": {},
   "outputs": [
    {
     "data": {
      "text/plain": [
       "exp (generic function with 11 methods)"
      ]
     },
     "execution_count": 32,
     "metadata": {},
     "output_type": "execute_result"
    }
   ],
   "source": [
    "import Base: exp\n",
    "\n",
    "function exp(x::Dual)\n",
    "    Dual(exp(x.fa), exp(x.fa)*x.fpa)\n",
    "end"
   ]
  },
  {
   "cell_type": "code",
   "execution_count": 33,
   "metadata": {},
   "outputs": [
    {
     "data": {
      "text/plain": [
       "Dual(2.718281828459045, 2.718281828459045)"
      ]
     },
     "execution_count": 33,
     "metadata": {},
     "output_type": "execute_result"
    }
   ],
   "source": [
    "exp(Dual(1,1))"
   ]
  },
  {
   "cell_type": "code",
   "execution_count": 34,
   "metadata": {},
   "outputs": [
    {
     "data": {
      "text/plain": [
       "g (generic function with 1 method)"
      ]
     },
     "execution_count": 34,
     "metadata": {},
     "output_type": "execute_result"
    }
   ],
   "source": [
    "g(x) = x^2 "
   ]
  },
  {
   "cell_type": "code",
   "execution_count": 35,
   "metadata": {},
   "outputs": [
    {
     "data": {
      "text/plain": [
       "Dual(9.0, 6.0)"
      ]
     },
     "execution_count": 35,
     "metadata": {},
     "output_type": "execute_result"
    }
   ],
   "source": [
    "g(Dual(3,1))"
   ]
  },
  {
   "cell_type": "code",
   "execution_count": 36,
   "metadata": {},
   "outputs": [
    {
     "data": {
      "text/plain": [
       "\u001b[1m\u001b[32mTest Passed\u001b[39m\u001b[22m"
      ]
     },
     "execution_count": 36,
     "metadata": {},
     "output_type": "execute_result"
    }
   ],
   "source": [
    "@test exp(g(Dual(3,1))) == exp(Dual(9,6))"
   ]
  },
  {
   "cell_type": "markdown",
   "metadata": {},
   "source": [
    "(ii) ¿Qué ocurre si derivas `exp(exp(x))` en un punto $a$? ¿Es correcto? ¿Qué se ha implementado (¡de forma automática!) aquí?"
   ]
  },
  {
   "cell_type": "code",
   "execution_count": 37,
   "metadata": {},
   "outputs": [
    {
     "data": {
      "text/plain": [
       "Dual(15.154262241479262, 41.193555674716116)"
      ]
     },
     "execution_count": 37,
     "metadata": {},
     "output_type": "execute_result"
    }
   ],
   "source": [
    "exp(exp(Dual(1,1)))"
   ]
  },
  {
   "cell_type": "code",
   "execution_count": 38,
   "metadata": {},
   "outputs": [
    {
     "data": {
      "text/plain": [
       "41.193555674716116"
      ]
     },
     "execution_count": 38,
     "metadata": {},
     "output_type": "execute_result"
    }
   ],
   "source": [
    "expp(x) = exp(exp(x)) \n",
    "derivada(expp,1)"
   ]
  },
  {
   "cell_type": "markdown",
   "metadata": {},
   "source": [
    "**[6]** Para una función $f: \\mathbb{R}^n \\to \\mathbb{R}$, quisiéramos calcular la gradiente $\\nabla f$. ¿Cómo podemos extender la diferenciación automática a este caso? Puedes restringir atención a $n=2$ para entender cómo funciona."
   ]
  },
  {
   "cell_type": "code",
   "execution_count": 198,
   "metadata": {},
   "outputs": [
    {
     "data": {
      "text/plain": [
       "h4 (generic function with 1 method)"
      ]
     },
     "execution_count": 198,
     "metadata": {},
     "output_type": "execute_result"
    }
   ],
   "source": [
    "h(x,y) = x^2 + exp(y)\n",
    "\n",
    "h2(x ,y) = x^2*y^2 \n",
    "\n",
    "h3(x ,y) = x^2*y^2 + 2x + 3y\n",
    "\n",
    "h4(x, y) = y^3 * exp(x)"
   ]
  },
  {
   "cell_type": "code",
   "execution_count": 199,
   "metadata": {},
   "outputs": [
    {
     "data": {
      "text/plain": [
       "2.718281828459045"
      ]
     },
     "execution_count": 199,
     "metadata": {},
     "output_type": "execute_result"
    }
   ],
   "source": [
    "h(0,1)"
   ]
  },
  {
   "cell_type": "code",
   "execution_count": 200,
   "metadata": {},
   "outputs": [
    {
     "data": {
      "text/plain": [
       "Dual(4.0, 4.0)"
      ]
     },
     "execution_count": 200,
     "metadata": {},
     "output_type": "execute_result"
    }
   ],
   "source": [
    "h2(Dual(2,1) , 1)"
   ]
  },
  {
   "cell_type": "code",
   "execution_count": 201,
   "metadata": {},
   "outputs": [
    {
     "data": {
      "text/plain": [
       "Dual(4.0, 8.0)"
      ]
     },
     "execution_count": 201,
     "metadata": {},
     "output_type": "execute_result"
    }
   ],
   "source": [
    "h2(2, Dual(1, 1))"
   ]
  },
  {
   "cell_type": "code",
   "execution_count": 202,
   "metadata": {},
   "outputs": [
    {
     "data": {
      "text/plain": [
       "Dual(160.68429538550134, 160.68429538550134)"
      ]
     },
     "execution_count": 202,
     "metadata": {},
     "output_type": "execute_result"
    }
   ],
   "source": [
    "h4(Dual(3,1), 2)"
   ]
  },
  {
   "cell_type": "code",
   "execution_count": 203,
   "metadata": {},
   "outputs": [
    {
     "data": {
      "text/plain": [
       "Dual(160.68429538550134, 241.02644307825202)"
      ]
     },
     "execution_count": 203,
     "metadata": {},
     "output_type": "execute_result"
    }
   ],
   "source": [
    "h4( 3, Dual(2,1))"
   ]
  },
  {
   "cell_type": "code",
   "execution_count": 204,
   "metadata": {},
   "outputs": [
    {
     "data": {
      "text/plain": [
       "grad (generic function with 1 method)"
      ]
     },
     "execution_count": 204,
     "metadata": {},
     "output_type": "execute_result"
    }
   ],
   "source": [
    "function grad(f,x0,y0)\n",
    "    xaux = f(Dual(x0, 1), y0)\n",
    "    yaux = f(x0, Dual(y0, 1))\n",
    "\n",
    "    Df = (xaux.fpa,yaux.fpa)\n",
    "\n",
    "end"
   ]
  },
  {
   "cell_type": "code",
   "execution_count": 205,
   "metadata": {},
   "outputs": [
    {
     "data": {
      "text/plain": [
       "(4.0, 2.718281828459045)"
      ]
     },
     "execution_count": 205,
     "metadata": {},
     "output_type": "execute_result"
    }
   ],
   "source": [
    "grad(h, 2, 1 )"
   ]
  },
  {
   "cell_type": "code",
   "execution_count": 206,
   "metadata": {},
   "outputs": [
    {
     "data": {
      "text/plain": [
       "(4.0, 8.0)"
      ]
     },
     "execution_count": 206,
     "metadata": {},
     "output_type": "execute_result"
    }
   ],
   "source": [
    "grad(h2, 2, 1 )"
   ]
  },
  {
   "cell_type": "code",
   "execution_count": 207,
   "metadata": {},
   "outputs": [
    {
     "data": {
      "text/plain": [
       "(6.0, 11.0)"
      ]
     },
     "execution_count": 207,
     "metadata": {},
     "output_type": "execute_result"
    }
   ],
   "source": [
    "grad(h3, 2, 1 )"
   ]
  },
  {
   "cell_type": "code",
   "execution_count": 208,
   "metadata": {},
   "outputs": [
    {
     "data": {
      "text/plain": [
       "(160.68429538550134, 241.02644307825202)"
      ]
     },
     "execution_count": 208,
     "metadata": {},
     "output_type": "execute_result"
    }
   ],
   "source": [
    "grad(h4, 3, 2)"
   ]
  },
  {
   "cell_type": "code",
   "execution_count": 210,
   "metadata": {},
   "outputs": [
    {
     "data": {
      "text/plain": [
       "241.02644307825202"
      ]
     },
     "execution_count": 210,
     "metadata": {},
     "output_type": "execute_result"
    }
   ],
   "source": [
    "12*exp(3)"
   ]
  },
  {
   "cell_type": "markdown",
   "metadata": {},
   "source": [
    "**[7]** Ahora que hayamos entendido la idea de la diferenciación automática, podemos echar mano del paquete de Julia `ForwardDiff.jl`, donde hay una implementación muy buena.\n",
    "\n",
    "Lee el manual del paquete para entender cómo calcular derivadas de funciones $\\mathbb{R} \\to \\mathbb{R}$, gradientes de funciones $\\mathbb{R}^n \\to \\mathbb{R}$, y jacobianos de funciones $\\mathbb{R}^n \\to \\mathbb{R}^m$."
   ]
  },
  {
   "cell_type": "code",
   "execution_count": 212,
   "metadata": {},
   "outputs": [
    {
     "name": "stderr",
     "output_type": "stream",
     "text": [
      "\u001b[1m\u001b[36mINFO: \u001b[39m\u001b[22m\u001b[36mUpdating METADATA...\n",
      "\u001b[39m\u001b[1m\u001b[36mINFO: \u001b[39m\u001b[22m\u001b[36mUpdating cache of MbedTLS...\n",
      "\u001b[39m\u001b[1m\u001b[36mINFO: \u001b[39m\u001b[22m\u001b[36mUpdating cache of BinDeps...\n",
      "\u001b[39m\u001b[1m\u001b[36mINFO: \u001b[39m\u001b[22m\u001b[36mUpdating cache of StatsBase...\n",
      "\u001b[39m\u001b[1m\u001b[36mINFO: \u001b[39m\u001b[22m\u001b[36mUpdating cache of Nullables...\n",
      "\u001b[39m\u001b[1m\u001b[36mINFO: \u001b[39m\u001b[22m\u001b[36mUpdating cache of URIParser...\n",
      "\u001b[39m\u001b[1m\u001b[36mINFO: \u001b[39m\u001b[22m\u001b[36mUpdating cache of Compat...\n",
      "\u001b[39m\u001b[1m\u001b[36mINFO: \u001b[39m\u001b[22m\u001b[36mUpdating cache of JSON...\n",
      "\u001b[39m\u001b[1m\u001b[36mINFO: \u001b[39m\u001b[22m\u001b[36mUpdating cache of PyPlot...\n",
      "\u001b[39m\u001b[1m\u001b[36mINFO: \u001b[39m\u001b[22m\u001b[36mUpdating cache of Homebrew...\n",
      "\u001b[39m\u001b[1m\u001b[36mINFO: \u001b[39m\u001b[22m\u001b[36mUpdating cache of Missings...\n",
      "\u001b[39m\u001b[1m\u001b[36mINFO: \u001b[39m\u001b[22m\u001b[36mUpdating cache of StaticArrays...\n",
      "\u001b[39m\u001b[1m\u001b[36mINFO: \u001b[39m\u001b[22m\u001b[36mUpdating cache of GR...\n",
      "\u001b[39m\u001b[1m\u001b[36mINFO: \u001b[39m\u001b[22m\u001b[36mUpdating cache of Interact...\n",
      "\u001b[39m\u001b[1m\u001b[36mINFO: \u001b[39m\u001b[22m\u001b[36mComputing changes...\n",
      "\u001b[39m\u001b[1m\u001b[36mINFO: \u001b[39m\u001b[22m\u001b[36mCloning cache of BinaryProvider from https://github.com/JuliaPackaging/BinaryProvider.jl.git\n",
      "\u001b[39m\u001b[1m\u001b[36mINFO: \u001b[39m\u001b[22m\u001b[36mUpgrading BinDeps: v0.8.6 => v0.8.7\n",
      "\u001b[39m\u001b[1m\u001b[36mINFO: \u001b[39m\u001b[22m\u001b[36mInstalling BinaryProvider v0.2.5\n",
      "\u001b[39m\u001b[1m\u001b[36mINFO: \u001b[39m\u001b[22m\u001b[36mUpgrading Compat: v0.53.0 => v0.60.0\n",
      "\u001b[39m\u001b[1m\u001b[36mINFO: \u001b[39m\u001b[22m\u001b[36mUpgrading GR: v0.25.0 => v0.30.0\n",
      "\u001b[39m\u001b[1m\u001b[36mINFO: \u001b[39m\u001b[22m\u001b[36mUpgrading Homebrew: v0.6.1 => v0.6.2\n",
      "\u001b[39m\u001b[1m\u001b[36mINFO: \u001b[39m\u001b[22m\u001b[36mUpgrading Interact: v0.6.3 => v0.6.4\n",
      "\u001b[39m\u001b[1m\u001b[36mINFO: \u001b[39m\u001b[22m\u001b[36mUpgrading JSON: v0.16.4 => v0.17.1\n",
      "\u001b[39m\u001b[1m\u001b[36mINFO: \u001b[39m\u001b[22m\u001b[36mUpgrading MbedTLS: v0.5.5 => v0.5.8\n",
      "\u001b[39m\u001b[1m\u001b[36mINFO: \u001b[39m\u001b[22m\u001b[36mUpgrading Missings: v0.2.6 => v0.2.7\n",
      "\u001b[39m\u001b[1m\u001b[36mINFO: \u001b[39m\u001b[22m\u001b[36mUpgrading Nullables: v0.0.3 => v0.0.4\n",
      "\u001b[39m\u001b[1m\u001b[36mINFO: \u001b[39m\u001b[22m\u001b[36mUpgrading PyPlot: v2.3.2 => v2.5.0\n",
      "\u001b[39m\u001b[1m\u001b[36mINFO: \u001b[39m\u001b[22m\u001b[36mUpgrading StaticArrays: v0.6.6 => v0.7.0\n",
      "\u001b[39m\u001b[1m\u001b[36mINFO: \u001b[39m\u001b[22m\u001b[36mUpgrading StatsBase: v0.19.5 => v0.20.1\n",
      "\u001b[39m\u001b[1m\u001b[36mINFO: \u001b[39m\u001b[22m\u001b[36mUpgrading URIParser: v0.3.0 => v0.3.1\n",
      "\u001b[39m\u001b[1m\u001b[33mWARNING: \u001b[39m\u001b[22m\u001b[33mThe following packages have been updated but were already imported:\n",
      "- Compat\n",
      "- JSON\n",
      "- MbedTLS\n",
      "- Nullables\n",
      "Restart Julia to use the updated versions.\u001b[39m\n",
      "\u001b[1m\u001b[36mINFO: \u001b[39m\u001b[22m\u001b[36mBuilding GR\n",
      "\u001b[39m\u001b[1m\u001b[36mINFO: \u001b[39m\u001b[22m\u001b[36mDownloading pre-compiled GR 0.30.2 Darwin binary\n",
      "\u001b[39m  % Total    % Received % Xferd  Average Speed   Time    Time     Time  Current\n",
      "                                 Dload  Upload   Total   Spent    Left  Speed\n",
      "100 30.1M  100 30.1M    0     0   136k      0  0:03:46  0:03:46 --:--:-- 202950     0   165k      0  0:03:06  0:02:19  0:00:47  437k   0     0   159k      0  0:03:13  0:02:30  0:00:43 46628\n",
      "\u001b[1m\u001b[36mINFO: \u001b[39m\u001b[22m\u001b[36mBuilding Homebrew\n",
      "\u001b[39m"
     ]
    },
    {
     "name": "stdout",
     "output_type": "stream",
     "text": [
      "Updated 1 tap (homebrew/core).\n",
      "==> New Formulae\n",
      "arm-linux-gnueabihf-binutils\n",
      "autopep8\n",
      "bcal\n",
      "boost-python3\n",
      "caffe\n",
      "calicoctl\n",
      "chrome-export\n",
      "clblast\n",
      "console_bridge\n",
      "dartsim\n",
      "dashing\n",
      "docker-squash\n",
      "draco\n",
      "dynare\n",
      "fastme\n",
      "fcl\n",
      "fruit\n",
      "fselect\n",
      "futhark\n",
      "git-sizer\n",
      "go-bindata\n",
      "go@1.9\n",
      "gpredict\n",
      "grv\n",
      "gtksourceview@4\n",
      "howdoi\n",
      "hss\n",
      "icemon\n",
      "kube-ps1\n",
      "libbi\n",
      "libbitcoin-network\n",
      "libdill\n",
      "libomp\n",
      "libsbol\n",
      "libserialport\n",
      "llvm@5\n",
      "lzfse\n",
      "mafft\n",
      "maxwell\n",
      "mdcat\n",
      "mill\n",
      "neomutt\n",
      "ocrmypdf\n",
      "octomap\n",
      "odpi\n",
      "openimageio\n",
      "posh\n",
      "primer3\n",
      "python@2\n",
      "restview\n",
      "siril\n",
      "skaffold\n",
      "srt\n",
      "stellar-core\n",
      "terraforming\n",
      "tj\n",
      "tomcat@8\n",
      "urdfdom\n",
      "urdfdom_headers\n",
      "webtorrent-cli\n",
      "==> Updated Formulae\n",
      "abcde\n",
      "abcm2ps\n",
      "abcmidi\n",
      "acmetool\n",
      "acpica\n",
      "advancecomp\n",
      "adwaita-icon-theme\n",
      "agedu\n",
      "akamai\n",
      "allure\n",
      "alot\n",
      "amber\n",
      "ammonite-repl\n",
      "angular-cli\n",
      "anjuta\n",
      "ansible\n",
      "ansible-cmdb\n",
      "ansible-lint\n",
      "ansifilter\n",
      "ant\n",
      "apache-spark\n",
      "apibuilder-cli\n",
      "apm-server\n",
      "app-engine-java\n",
      "app-engine-python\n",
      "aqbanking\n",
      "arangodb\n",
      "armadillo\n",
      "armor\n",
      "artifactory\n",
      "asciinema\n",
      "asdf\n",
      "atdtool\n",
      "atk\n",
      "atlassian-cli\n",
      "audacious\n",
      "auditbeat\n",
      "augustus\n",
      "autoconf-archive\n",
      "automake\n",
      "aws-elasticbeanstalk\n",
      "aws-sdk-cpp\n",
      "awscli\n",
      "azure-cli\n",
      "babl\n",
      "bandcamp-dl\n",
      "baobab\n",
      "bareos-client\n",
      "baresip\n",
      "bartycrouch\n",
      "bash\n",
      "bash-snippets\n",
      "bazel\n",
      "bcftools\n",
      "bedops\n",
      "bee\n",
      "bench\n",
      "bigloo\n",
      "binaryen\n",
      "biogeme\n",
      "bit\n",
      "bitcoin\n",
      "bitrise\n",
      "blast\n",
      "blueutil\n",
      "bmake\n",
      "boost-python\n",
      "braid\n",
      "brew-gem\n",
      "bro\n",
      "brotli\n",
      "buildapp\n",
      "buildifier\n",
      "buku\n",
      "burp\n",
      "byteman\n",
      "bzt\n",
      "c-ares\n",
      "caddy\n",
      "caf\n",
      "cake\n",
      "calabash\n",
      "camlp5\n",
      "cargo-completion\n",
      "cask\n",
      "cassandra\n",
      "castxml\n",
      "cayley\n",
      "cc65\n",
      "ccache\n",
      "ccm\n",
      "cdk\n",
      "certbot\n",
      "certigo\n",
      "cfitsio\n",
      "cfssl\n",
      "cgal\n",
      "cgrep\n",
      "chakra\n",
      "chamber\n",
      "charm-tools\n",
      "chisel\n",
      "chocolate-doom\n",
      "chromedriver\n",
      "chronograf\n",
      "chuck\n",
      "cimg\n",
      "citus\n",
      "ckan\n",
      "clamav\n",
      "clang-format\n",
      "clhep\n",
      "cloc\n",
      "clojure\n",
      "cloog\n",
      "clutter-gst\n",
      "cockatrice\n",
      "cockroach\n",
      "coffeescript\n",
      "collector-sidecar\n",
      "conan\n",
      "conjure-up\n",
      "consul\n",
      "consul-backinator\n",
      "container-diff\n",
      "coq\n",
      "corebird\n",
      "coreos-ct\n",
      "cppad\n",
      "cpprestsdk\n",
      "creduce\n",
      "cromwell\n",
      "cryptopp\n",
      "crystal-icr\n",
      "crystal-lang\n",
      "csvkit\n",
      "csvtomd\n",
      "ctop\n",
      "curl\n",
      "cvs2svn\n",
      "daemonize\n",
      "darksky-weather\n",
      "dateutils\n",
      "dbus\n",
      "dcd\n",
      "dcmtk\n",
      "dcos-cli\n",
      "ddgr\n",
      "ddrescue\n",
      "dehydrated\n",
      "dfmt\n",
      "diamond\n",
      "diffoscope\n",
      "diffuse\n",
      "direnv\n",
      "distcc\n",
      "django-completion\n",
      "dmd\n",
      "dnscrypt-proxy\n",
      "dnscrypt-wrapper\n",
      "docfx\n",
      "docker\n",
      "docker-completion\n",
      "docker-compose\n",
      "docker-compose-completion\n",
      "docker-machine\n",
      "docker-machine-completion\n",
      "doctl\n",
      "dovecot\n",
      "dropbear\n",
      "druid\n",
      "dtc\n",
      "dub\n",
      "duck\n",
      "duo_unix\n",
      "duply\n",
      "e2fsprogs\n",
      "efl\n",
      "elasticsearch\n",
      "elasticsearch@5.6\n",
      "elektra\n",
      "elixir\n",
      "emacs-clang-complete-async\n",
      "embulk\n",
      "emscripten\n",
      "eralchemy\n",
      "erlang\n",
      "etcd\n",
      "evince\n",
      "exempi\n",
      "exiftool\n",
      "exim\n",
      "faas-cli\n",
      "fabio\n",
      "fades\n",
      "fastbit\n",
      "fb-client\n",
      "fbi-servefiles\n",
      "fd\n",
      "fdk-aac\n",
      "fdroidserver\n",
      "feedgnuplot\n",
      "feh\n",
      "fetch-crl\n",
      "ffmbc\n",
      "ffmpeg\n",
      "ffmpeg@2.8\n",
      "file-roller\n",
      "filebeat\n",
      "fio\n",
      "firebase-cli\n",
      "flatcc\n",
      "flow\n",
      "fltk\n",
      "fluent-bit\n",
      "fluid-synth\n",
      "flyway\n",
      "fn\n",
      "folly\n",
      "fonttools\n",
      "forego\n",
      "fossil\n",
      "freetds\n",
      "freexl\n",
      "frobtads\n",
      "frugal\n",
      "fuego\n",
      "fuse-emulator\n",
      "fuse-zip\n",
      "g3log\n",
      "gammaray\n",
      "gawk\n",
      "gcc\n",
      "gcc@4.9\n",
      "gcc@6\n",
      "gcovr\n",
      "gdal\n",
      "gdl\n",
      "gdnsd\n",
      "geckodriver\n",
      "gecode\n",
      "gedit\n",
      "geeqie\n",
      "get-flash-videos\n",
      "getdns\n",
      "geth\n",
      "getmail\n",
      "gforth\n",
      "gifski\n",
      "gimme\n",
      "ginac\n",
      "git\n",
      "git-annex\n",
      "git-archive-all\n",
      "git-cola\n",
      "git-extras\n",
      "git-fresh\n",
      "git-ftp\n",
      "git-lfs\n",
      "git-recent\n",
      "git-standup\n",
      "gitbucket\n",
      "gitlab-runner\n",
      "gitless\n",
      "gjs\n",
      "glade\n",
      "glbinding\n",
      "glib\n",
      "glib-openssl\n",
      "global\n",
      "glpk\n",
      "gmt\n",
      "gnatsd\n",
      "gnome-autoar\n",
      "gnome-builder\n",
      "gnome-recipes\n",
      "gnu-cobol\n",
      "gnu-time\n",
      "gnumeric\n",
      "gnupg\n",
      "gnutls\n",
      "go\n",
      "go-jira\n",
      "go@1.8\n",
      "gobject-introspection\n",
      "godep\n",
      "goenv\n",
      "goffice\n",
      "gom\n",
      "gomplate\n",
      "googler\n",
      "gopass\n",
      "gosu\n",
      "gource\n",
      "gpatch\n",
      "gradle\n",
      "grafana\n",
      "grails\n",
      "grakn\n",
      "graphene\n",
      "graphicsmagick\n",
      "grc\n",
      "groonga\n",
      "groovy\n",
      "grpc\n",
      "gsettings-desktop-schemas\n",
      "gsoap\n",
      "gspell\n",
      "gst-python\n",
      "gtk+\n",
      "gtk+3\n",
      "gtksourceview3\n",
      "gucharmap\n",
      "gutenberg\n",
      "gwenhywfar\n",
      "gwyddion\n",
      "gxml\n",
      "hadolint\n",
      "hadoop\n",
      "hana\n",
      "haproxy\n",
      "harfbuzz\n",
      "hashcat\n",
      "haskell-stack\n",
      "hatari\n",
      "haxe\n",
      "hayai\n",
      "heartbeat\n",
      "help2man\n",
      "heroku\n",
      "hlint\n",
      "hostess\n",
      "html-xml-utils\n",
      "http-parser\n",
      "httpd\n",
      "httpie\n",
      "hugo\n",
      "i3\n",
      "icoutils\n",
      "igv\n",
      "imagemagick\n",
      "imagemagick@6\n",
      "influxdb\n",
      "innotop\n",
      "inspectrum\n",
      "iperf3\n",
      "ipython\n",
      "ipython@5\n",
      "irssi\n",
      "isc-dhcp\n",
      "isl\n",
      "iso-codes\n",
      "javarepl\n",
      "jbake\n",
      "jenkins\n",
      "jenkins-job-builder\n",
      "jenkins-lts\n",
      "jfrog-cli-go\n",
      "jhipster\n",
      "jmeter\n",
      "jmxtrans\n",
      "jnettop\n",
      "joplin\n",
      "jpeg\n",
      "jruby\n",
      "json-fortran\n",
      "juju\n",
      "juju-wait\n",
      "jupyter\n",
      "just\n",
      "jvgrep\n",
      "jvm-mon\n",
      "kallisto\n",
      "kedge\n",
      "keepassc\n",
      "kerl\n",
      "khal\n",
      "khard\n",
      "kibana\n",
      "kibana@5.6\n",
      "knot\n",
      "knot-resolver\n",
      "kobalt\n",
      "kompose\n",
      "kontena\n",
      "kops\n",
      "kotlin\n",
      "krakend\n",
      "kubeless\n",
      "kubernetes-cli\n",
      "kubernetes-helm\n",
      "landscaper\n",
      "latex2html\n",
      "latexila\n",
      "ldc\n",
      "lean-cli\n",
      "leaps\n",
      "lensfun\n",
      "leptonica\n",
      "less\n",
      "libav\n",
      "libbitcoin-blockchain\n",
      "libbitcoin-explorer\n",
      "libbitcoin-node\n",
      "libbitcoin-server\n",
      "libbladerf\n",
      "libcouchbase\n",
      "libepoxy\n",
      "libgaiagraphics\n",
      "libgee\n",
      "libgeotiff\n",
      "libgosu\n",
      "libgtop\n",
      "libhttpseverywhere\n",
      "libical\n",
      "liblwgeom\n",
      "libmatio\n",
      "libmpdclient\n",
      "libmspub\n",
      "libphonenumber\n",
      "libpq\n",
      "libpqxx\n",
      "librasterlite\n",
      "libraw\n",
      "librealsense\n",
      "librsync\n",
      "libsass\n",
      "libsoup\n",
      "libspatialite\n",
      "libstrophe\n",
      "libtensorflow\n",
      "libtiff\n",
      "libtrace\n",
      "libu2f-host\n",
      "libunistring\n",
      "libupnp\n",
      "libuv\n",
      "libvirt\n",
      "libwebsockets\n",
      "libxlsxwriter\n",
      "libzip\n",
      "link-grammar\n",
      "linkerd\n",
      "liquibase\n",
      "llvm\n",
      "lnav\n",
      "logrotate\n",
      "logstalgia\n",
      "logstash\n",
      "lorem\n",
      "lumo\n",
      "lynis\n",
      "lzip\n",
      "lzlib\n",
      "macvim\n",
      "magic-wormhole\n",
      "mame\n",
      "mapnik\n",
      "mapserver\n",
      "mariadb\n",
      "mariadb@10.1\n",
      "mas\n",
      "masscan\n",
      "math-comp\n",
      "maven\n",
      "memcached\n",
      "mercurial\n",
      "meson\n",
      "metabase\n",
      "metricbeat\n",
      "mikutter\n",
      "mingw-w64\n",
      "minio-mc\n",
      "miniupnpc\n",
      "mitmproxy\n",
      "mkdocs\n",
      "mkvtoolnix\n",
      "mlton\n",
      "mmseqs2\n",
      "mockserver\n",
      "modules\n",
      "molecule\n",
      "monetdb\n",
      "mongo-c-driver\n",
      "mongo-cxx-driver\n",
      "mongodb\n",
      "mongodb@3.0\n",
      "mongodb@3.2\n",
      "mongodb@3.4\n",
      "mongoose\n",
      "mpc\n",
      "mpd\n",
      "mpfr\n",
      "mps-youtube\n",
      "mpv\n",
      "mrboom\n",
      "mujs\n",
      "mutt\n",
      "mypy\n",
      "mytop\n",
      "nailgun\n",
      "nano\n",
      "nanopb-generator\n",
      "nasm\n",
      "nco\n",
      "neovim\n",
      "netpbm\n",
      "nghttp2\n",
      "nginx\n",
      "nicotine-plus\n",
      "nim\n",
      "nnn\n",
      "node\n",
      "node-build\n",
      "node@4\n",
      "node@6\n",
      "node@8\n",
      "nodebrew\n",
      "nopoll\n",
      "nq\n",
      "nsd\n",
      "nspr\n",
      "ntp\n",
      "nuget\n",
      "numpy\n",
      "ocaml\n",
      "ocaml-num\n",
      "ocamlsdl\n",
      "octave\n",
      "ode\n",
      "offlineimap\n",
      "onetime\n",
      "ooniprobe\n",
      "opencoarrays\n",
      "opencv\n",
      "opencv@2\n",
      "opendetex\n",
      "openrtsp\n",
      "openvpn\n",
      "ophcrack\n",
      "osm2pgrouting\n",
      "osm2pgsql\n",
      "osquery\n",
      "p11-kit\n",
      "p7zip\n",
      "packer\n",
      "packetbeat\n",
      "paket\n",
      "pandoc\n",
      "pandoc-citeproc\n",
      "pango\n",
      "passenger\n",
      "pastebinit\n",
      "pc6001vx\n",
      "pdns\n",
      "peco\n",
      "pegtl\n",
      "percona-server\n",
      "percona-server@5.6\n",
      "percona-toolkit\n",
      "percona-xtrabackup\n",
      "pgcli\n",
      "pgformatter\n",
      "pgpool-ii\n",
      "pgroonga\n",
      "phoronix-test-suite\n",
      "picard-tools\n",
      "picocom\n",
      "pidgin\n",
      "pilosa\n",
      "pinentry\n",
      "pipenv\n",
      "pjproject\n",
      "plank\n",
      "plantuml\n",
      "platformio\n",
      "plzip\n",
      "pmd\n",
      "poco\n",
      "ponysay\n",
      "postgis\n",
      "postgresql\n",
      "postgresql@9.4\n",
      "postgresql@9.5\n",
      "postgresql@9.6\n",
      "pre-commit\n",
      "presto\n",
      "proj\n",
      "prometheus\n",
      "protobuf\n",
      "pspg\n",
      "pumba\n",
      "pwntools\n",
      "py2cairo\n",
      "py3cairo\n",
      "pybind11\n",
      "pyenv\n",
      "pygobject3\n",
      "pyqt\n",
      "python\n",
      "pytouhou\n",
      "qemu\n",
      "qpdf\n",
      "qpid-proton\n",
      "qscintilla2\n",
      "qt\n",
      "questdb\n",
      "quicktype\n",
      "rabbitmq\n",
      "radare2\n",
      "ranger\n",
      "re2\n",
      "recon-ng\n",
      "redex\n",
      "restic\n",
      "rhash\n",
      "ripgrep\n",
      "rkhunter\n",
      "rocksdb\n",
      "rom-tools\n",
      "root\n",
      "roswell\n",
      "rst-lint\n",
      "rtags\n",
      "rtv\n",
      "ruby\n",
      "ruby-build\n",
      "ruby@1.8\n",
      "ruby@2.0\n",
      "ruby@2.2\n",
      "ruby@2.3\n",
      "rust\n",
      "rustup-init\n",
      "s-nail\n",
      "s3-backer\n",
      "sagittarius-scheme\n",
      "saldl\n",
      "saltstack\n",
      "sane-backends\n",
      "sassc\n",
      "saxon\n",
      "sbcl\n",
      "sbt\n",
      "sbt@0.13\n",
      "sbtenv\n",
      "scala@2.10\n",
      "scamper\n",
      "sceptre\n",
      "schismtracker\n",
      "scipy\n",
      "sdl2\n",
      "sdl2_image\n",
      "selecta\n",
      "selenium-server-standalone\n",
      "sfk\n",
      "shfmt\n",
      "shyaml\n",
      "simg2img\n",
      "simgrid\n",
      "singular\n",
      "sip\n",
      "sjk\n",
      "skafos\n",
      "sleuthkit\n",
      "snakemake\n",
      "snapcraft\n",
      "sonarqube\n",
      "sound-touch\n",
      "source-to-image\n",
      "sparkey\n",
      "spatialite-gui\n",
      "spatialite-tools\n",
      "speedtest-cli\n",
      "sphinx-doc\n",
      "spigot\n",
      "spin\n",
      "spotbugs\n",
      "sqlmap\n",
      "sratoolkit\n",
      "sslh\n",
      "sslsplit\n",
      "sstp-client\n",
      "statik\n",
      "stella\n",
      "stk\n",
      "stlink\n",
      "stone-soup\n",
      "storm\n",
      "streamlink\n",
      "strongswan\n",
      "stubby\n",
      "subversion\n",
      "subversion@1.8\n",
      "supervisor\n",
      "surfraw\n",
      "suricata\n",
      "svgo\n",
      "svtplay-dl\n",
      "swift-protobuf\n",
      "swiftformat\n",
      "swiftlint\n",
      "sword\n",
      "sylpheed\n",
      "syncthing\n",
      "sysbench\n",
      "systemc\n",
      "szip\n",
      "taisei\n",
      "tarantool\n",
      "tcc\n",
      "teleport\n",
      "terminator\n",
      "termius\n",
      "terragrunt\n",
      "testssl\n",
      "thefuck\n",
      "tile38\n",
      "tippecanoe\n",
      "titlecase\n",
      "todoman\n",
      "tomcat\n",
      "tomee-webprofile\n",
      "tor\n",
      "traefik\n",
      "twarc\n",
      "twine-pypi\n",
      "twoping\n",
      "twtxt\n",
      "txr\n",
      "typescript\n",
      "u-boot-tools\n",
      "unibilium\n",
      "unison\n",
      "unrar\n",
      "urh\n",
      "uriparser\n",
      "uwsgi\n",
      "vala\n",
      "vapoursynth\n",
      "vault\n",
      "vdirsyncer\n",
      "vert.x\n",
      "viewvc\n",
      "vim\n",
      "vim@7.4\n",
      "vips\n",
      "vnstat\n",
      "vte3\n",
      "webpack\n",
      "whatmp3\n",
      "winetricks\n",
      "wireguard-tools\n",
      "wireshark\n",
      "woboq_codebrowser\n",
      "wpscan\n",
      "wtf\n",
      "wxmaxima\n",
      "x264\n",
      "x265\n",
      "x3270\n",
      "xdot\n",
      "xerces-c\n",
      "xml-tooling-c\n",
      "xmrig\n",
      "xonsh\n",
      "xtensor\n",
      "xxhash\n",
      "yaml-cpp\n",
      "yarn\n",
      "yelp-tools\n",
      "ykman\n",
      "yle-dl\n",
      "yosys\n",
      "you-get\n",
      "youtube-dl\n",
      "zabbix\n",
      "zanata-client\n",
      "zenity\n",
      "zig\n",
      "zim\n",
      "zimg\n",
      "zint\n",
      "znc\n",
      "==> Renamed Formulae\n",
      "php72 -> php\n",
      "==> Deleted Formulae\n",
      "clozure-cl\n",
      "go@1.6\n",
      "go@1.7\n",
      "llvm@3.8\n",
      "mal4s\n",
      "mimetic\n",
      "nazghul\n",
      "picolisp\n",
      "python3\n",
      "root@5\n",
      "ruby@1.9\n",
      "ruby@2.1\n",
      "tomcat@8.0\n",
      "ufoai\n",
      "voltdb\n",
      "==> Installing git from staticfloat/juliatranslated\n",
      "==> Downloading https://homebrew.bintray.com/bottles/git-2.16.2.high_sierra.bottle.tar.gz\n",
      "==> Pouring git-2.16.2.high_sierra.bottle.tar.gz\n",
      "==> Caveats\n",
      "Bash completion has been installed to:\n",
      "  /Users/pedro/.julia/v0.6/Homebrew/deps/usr/etc/bash_completion.d\n",
      "\n",
      "zsh completions and functions have been installed to:\n",
      "  /Users/pedro/.julia/v0.6/Homebrew/deps/usr/share/zsh/site-functions\n",
      "\n",
      "Emacs Lisp files have been installed to:\n",
      "  /Users/pedro/.julia/v0.6/Homebrew/deps/usr/share/emacs/site-lisp/git\n",
      "==> Summary\n",
      "🍺  /Users/pedro/.julia/v0.6/Homebrew/deps/usr/Cellar/git/2.16.2: 1,496 files, 34.5MB\n"
     ]
    },
    {
     "name": "stderr",
     "output_type": "stream",
     "text": [
      "Warning: Already linked: /Users/pedro/.julia/v0.6/Homebrew/deps/usr/Cellar/git/2.16.2\n",
      "\u001b[1m\u001b[36mINFO: \u001b[39m\u001b[22m\u001b[36mBuilding Interact\n",
      "\u001b[39m\u001b[1m\u001b[36mINFO: \u001b[39m\u001b[22m\u001b[36mEnabling widgetsnbextension\n",
      "\u001b[39mEnabling notebook extension jupyter-js-widgets/extension...\n",
      "      - Validating: \u001b[32mOK\u001b[0m\n",
      "\u001b[1m\u001b[36mINFO: \u001b[39m\u001b[22m\u001b[36mipywidgets version found: 7.1.1\n",
      "\u001b[39m\u001b[1m\u001b[36mINFO: \u001b[39m\u001b[22m\u001b[36mA compatible version of ipywidgets was found. All good.\n",
      "\u001b[39m\u001b[1m\u001b[36mINFO: \u001b[39m\u001b[22m\u001b[36mBuilding MbedTLS\n",
      "\u001b[39m\u001b[1m\u001b[36mInfo: \u001b[39m\u001b[22m\u001b[36mDownloading https://github.com/quinnj/MbedTLSBuilder/releases/download/v0.6/MbedTLS.x86_64-apple-darwin14.tar.gz to /Users/pedro/.julia/v0.6/MbedTLS/deps/usr/downloads/MbedTLS.x86_64-apple-darwin14.tar.gz...\n",
      "\u001b[39m"
     ]
    },
    {
     "name": "stdout",
     "output_type": "stream",
     "text": [
      "\u001b[39m\u001b[1m\u001b[0m[14:06:51] \u001b[22m\u001b[31m######################################################################### 100.0%\u001b[1m\u001b[0m[14:06:48] \u001b[22m\u001b[31m####                                                                        6.0%\u001b[1m\u001b[0m[14:06:48] \u001b[22m\u001b[31m##########                                                                 14.0%\u001b[1m\u001b[0m[14:06:48] \u001b[22m\u001b[31m################                                                           22.0%\u001b[1m\u001b[0m[14:06:49] \u001b[22m\u001b[31m##################                                                         26.0%\u001b[1m\u001b[0m[14:06:49] \u001b[22m\u001b[31m#####################                                                      29.9%\u001b[1m\u001b[0m[14:06:49] \u001b[22m\u001b[31m###########################                                                38.0%\u001b[1m\u001b[0m[14:06:49] \u001b[22m\u001b[31m################################                                           44.1%\u001b[1m\u001b[0m[14:06:49] \u001b[22m\u001b[31m####################################                                       50.1%\u001b[1m\u001b[0m[14:06:49] \u001b[22m\u001b[31m#####################################                                      52.0%\u001b[1m\u001b[0m[14:06:49] \u001b[22m\u001b[31m#######################################                                    54.1%\u001b[1m\u001b[0m[14:06:49] \u001b[22m\u001b[31m##########################################                                 58.1%\u001b[1m\u001b[0m[14:06:50] \u001b[22m\u001b[31m###########################################                                60.1%\u001b[1m\u001b[0m[14:06:50] \u001b[22m\u001b[31m#############################################                              62.1%\u001b[1m\u001b[0m[14:06:50] \u001b[22m\u001b[31m##############################################                             64.1%\u001b[1m\u001b[0m[14:06:50] \u001b[22m\u001b[31m################################################                           66.1%\u001b[1m\u001b[0m[14:06:50] \u001b[22m\u001b[31m#################################################                          68.1%\u001b[1m\u001b[0m[14:06:50] \u001b[22m\u001b[31m###################################################                        70.0%\u001b[1m\u001b[0m[14:06:50] \u001b[22m\u001b[31m####################################################                       72.1%\u001b[1m\u001b[0m[14:06:50] \u001b[22m\u001b[31m######################################################                     74.1%\u001b[1m\u001b[0m[14:06:50] \u001b[22m\u001b[31m#######################################################                    76.1%\u001b[1m\u001b[0m[14:06:51] \u001b[22m\u001b[31m##########################################################                 80.2%\u001b[1m\u001b[0m[14:06:51] \u001b[22m\u001b[31m#############################################################              84.2%\u001b[1m\u001b[0m[14:06:51] \u001b[22m\u001b[31m#################################################################          90.2%\n",
      "\u001b[39m"
     ]
    },
    {
     "name": "stderr",
     "output_type": "stream",
     "text": [
      "\u001b[1m\u001b[36mInfo: \u001b[39m\u001b[22m\u001b[36musing prebuilt binaries\n",
      "\u001b[39m\u001b[1m\u001b[36mINFO: \u001b[39m\u001b[22m\u001b[36mBuilding Conda\n",
      "\u001b[39m\u001b[1m\u001b[36mINFO: \u001b[39m\u001b[22m\u001b[36mBuilding PyCall\n",
      "\u001b[39m"
     ]
    },
    {
     "name": "stdout",
     "output_type": "stream",
     "text": [
      "Solving environment: ...working... done\n"
     ]
    },
    {
     "name": "stderr",
     "output_type": "stream",
     "text": [
      "conda 4.4.11: ########## | 100% \n",
      "numpy 1.14.2: #########9 | 100% "
     ]
    },
    {
     "name": "stdout",
     "output_type": "stream",
     "text": [
      "\n",
      "## Package Plan ##\n",
      "\n",
      "  environment location: /Users/pedro/.julia/v0.6/Conda/deps/usr\n",
      "\n",
      "  added / updated specs: \n",
      "    - numpy\n",
      "\n",
      "\n",
      "The following packages will be downloaded:\n",
      "\n",
      "    package                    |            build\n",
      "    ---------------------------|-----------------\n",
      "    conda-4.4.11               |           py27_0         931 KB\n",
      "    numpy-1.14.2               |   py27ha9ae307_0         3.9 MB\n",
      "    ------------------------------------------------------------\n",
      "                                           Total:         4.8 MB\n",
      "\n",
      "The following packages will be UPDATED:\n",
      "\n",
      "    conda: 4.4.8-py27_0          --> 4.4.11-py27_0        \n",
      "    numpy: 1.14.0-py27h8a80b8c_1 --> 1.14.2-py27ha9ae307_0\n",
      "\n",
      "\n",
      "Downloading and Extracting Packages\n",
      "Preparing transaction: ...working... "
     ]
    },
    {
     "name": "stderr",
     "output_type": "stream",
     "text": [
      "\r",
      "numpy 1.14.2: ########## | 100% \n"
     ]
    },
    {
     "name": "stdout",
     "output_type": "stream",
     "text": [
      "done\n",
      "Verifying transaction: ...working... done\n",
      "Executing transaction: ...working... done\n"
     ]
    },
    {
     "name": "stderr",
     "output_type": "stream",
     "text": [
      "\u001b[1m\u001b[36mINFO: \u001b[39m\u001b[22m\u001b[36mPyCall is using /Users/pedro/.julia/v0.6/Conda/deps/usr/bin/python (Python 2.7.14) at /Users/pedro/.julia/v0.6/Conda/deps/usr/bin/python, libpython = /Users/pedro/.julia/v0.6/Conda/deps/usr/lib/libpython2.7\n",
      "\u001b[39m\u001b[1m\u001b[36mINFO: \u001b[39m\u001b[22m\u001b[36m/Users/pedro/.julia/v0.6/PyCall/deps/deps.jl has not changed\n",
      "\u001b[39m\u001b[1m\u001b[36mINFO: \u001b[39m\u001b[22m\u001b[36m/Users/pedro/.julia/v0.6/PyCall/deps/PYTHON has not changed\n",
      "\u001b[39m\u001b[1m\u001b[36mINFO: \u001b[39m\u001b[22m\u001b[36mBuilding SpecialFunctions\n",
      "\u001b[39m"
     ]
    }
   ],
   "source": [
    "Pkg.update()"
   ]
  },
  {
   "cell_type": "code",
   "execution_count": 213,
   "metadata": {},
   "outputs": [
    {
     "name": "stderr",
     "output_type": "stream",
     "text": [
      "\u001b[1m\u001b[36mINFO: \u001b[39m\u001b[22m\u001b[36mRecompiling stale cache file /Users/pedro/.julia/lib/v0.6/StaticArrays.ji for module StaticArrays.\n",
      "\u001b[39m\u001b[1m\u001b[33mWARNING: \u001b[39m\u001b[22m\u001b[33mModule Compat with uuid 83590329235151 is missing from the cache.\n",
      "This may mean module Compat does not support precompilation but is imported by a module that does.\u001b[39m\n",
      "\u001b[1m\u001b[91mERROR: \u001b[39m\u001b[22mLoadError: \u001b[91mDeclaring __precompile__(false) is not allowed in files that are being precompiled.\u001b[39m\n",
      "Stacktrace:\n",
      " [1] \u001b[1m_require\u001b[22m\u001b[22m\u001b[1m(\u001b[22m\u001b[22m::Symbol\u001b[1m)\u001b[22m\u001b[22m at \u001b[1m./loading.jl:455\u001b[22m\u001b[22m\n",
      " [2] \u001b[1mrequire\u001b[22m\u001b[22m\u001b[1m(\u001b[22m\u001b[22m::Symbol\u001b[1m)\u001b[22m\u001b[22m at \u001b[1m./loading.jl:405\u001b[22m\u001b[22m\n",
      " [3] \u001b[1minclude_from_node1\u001b[22m\u001b[22m\u001b[1m(\u001b[22m\u001b[22m::String\u001b[1m)\u001b[22m\u001b[22m at \u001b[1m./loading.jl:576\u001b[22m\u001b[22m\n",
      " [4] \u001b[1minclude\u001b[22m\u001b[22m\u001b[1m(\u001b[22m\u001b[22m::String\u001b[1m)\u001b[22m\u001b[22m at \u001b[1m./sysimg.jl:14\u001b[22m\u001b[22m\n",
      " [5] \u001b[1manonymous\u001b[22m\u001b[22m at \u001b[1m./<missing>:2\u001b[22m\u001b[22m\n",
      "while loading /Users/pedro/.julia/v0.6/StaticArrays/src/StaticArrays.jl, in expression starting on line 14\n"
     ]
    },
    {
     "ename": "LoadError",
     "evalue": "\u001b[91mFailed to precompile StaticArrays to /Users/pedro/.julia/lib/v0.6/StaticArrays.ji.\u001b[39m",
     "output_type": "error",
     "traceback": [
      "\u001b[91mFailed to precompile StaticArrays to /Users/pedro/.julia/lib/v0.6/StaticArrays.ji.\u001b[39m",
      "",
      "Stacktrace:",
      " [1] \u001b[1mcompilecache\u001b[22m\u001b[22m\u001b[1m(\u001b[22m\u001b[22m::String\u001b[1m)\u001b[22m\u001b[22m at \u001b[1m./loading.jl:710\u001b[22m\u001b[22m",
      " [2] \u001b[1m_require\u001b[22m\u001b[22m\u001b[1m(\u001b[22m\u001b[22m::Symbol\u001b[1m)\u001b[22m\u001b[22m at \u001b[1m./loading.jl:463\u001b[22m\u001b[22m",
      " [3] \u001b[1mrequire\u001b[22m\u001b[22m\u001b[1m(\u001b[22m\u001b[22m::Symbol\u001b[1m)\u001b[22m\u001b[22m at \u001b[1m./loading.jl:405\u001b[22m\u001b[22m",
      " [4] \u001b[1m_include_from_serialized\u001b[22m\u001b[22m\u001b[1m(\u001b[22m\u001b[22m::String\u001b[1m)\u001b[22m\u001b[22m at \u001b[1m./loading.jl:157\u001b[22m\u001b[22m",
      " [5] \u001b[1m_require_from_serialized\u001b[22m\u001b[22m\u001b[1m(\u001b[22m\u001b[22m::Int64, ::Symbol, ::String, ::Bool\u001b[1m)\u001b[22m\u001b[22m at \u001b[1m./loading.jl:200\u001b[22m\u001b[22m",
      " [6] \u001b[1m_require_search_from_serialized\u001b[22m\u001b[22m\u001b[1m(\u001b[22m\u001b[22m::Int64, ::Symbol, ::String, ::Bool\u001b[1m)\u001b[22m\u001b[22m at \u001b[1m./loading.jl:236\u001b[22m\u001b[22m",
      " [7] \u001b[1m_require\u001b[22m\u001b[22m\u001b[1m(\u001b[22m\u001b[22m::Symbol\u001b[1m)\u001b[22m\u001b[22m at \u001b[1m./loading.jl:441\u001b[22m\u001b[22m",
      " [8] \u001b[1mrequire\u001b[22m\u001b[22m\u001b[1m(\u001b[22m\u001b[22m::Symbol\u001b[1m)\u001b[22m\u001b[22m at \u001b[1m./loading.jl:405\u001b[22m\u001b[22m",
      " [9] \u001b[1minclude_string\u001b[22m\u001b[22m\u001b[1m(\u001b[22m\u001b[22m::String, ::String\u001b[1m)\u001b[22m\u001b[22m at \u001b[1m./loading.jl:522\u001b[22m\u001b[22m"
     ]
    }
   ],
   "source": [
    "using ForwardDiff"
   ]
  },
  {
   "cell_type": "markdown",
   "metadata": {},
   "source": [
    "**[8]** Ocupa diferenciación automática para calcular el \"centered form\" de una función $\\mathbb{R} \\to \\mathbb{R}$."
   ]
  }
 ],
 "metadata": {
  "kernelspec": {
   "display_name": "Julia 0.6.2",
   "language": "julia",
   "name": "julia-0.6"
  },
  "language_info": {
   "file_extension": ".jl",
   "mimetype": "application/julia",
   "name": "julia",
   "version": "0.6.2"
  }
 },
 "nbformat": 4,
 "nbformat_minor": 2
}
