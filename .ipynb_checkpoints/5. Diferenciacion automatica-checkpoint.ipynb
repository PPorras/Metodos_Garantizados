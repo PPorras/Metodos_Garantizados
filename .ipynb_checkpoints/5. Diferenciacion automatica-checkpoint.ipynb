{
 "cells": [
  {
   "cell_type": "markdown",
   "metadata": {},
   "source": [
    "# Diferenciación automática"
   ]
  },
  {
   "cell_type": "markdown",
   "metadata": {},
   "source": [
    "En este notebook, veremos una metodología para calcular derivadas numéricamente de forma *exacta*, la **diferenciación automática** o **diferenciación algorítmica**"
   ]
  },
  {
   "cell_type": "markdown",
   "metadata": {},
   "source": [
    "## Significado de la derivada"
   ]
  },
  {
   "cell_type": "markdown",
   "metadata": {},
   "source": [
    "¿Para qué sirven las derivadas?\n",
    "\n",
    "Es una medida de tasas de cambio"
   ]
  },
  {
   "cell_type": "markdown",
   "metadata": {},
   "source": [
    "**[1]** (i) Supón que quieres calcular raíces de una función $f: \\mathbb{R} \\to \\mathbb{R}$ como lo hemos hecho en un notebook anterior, y tienes una manera de calcular la derivada $f'$. Si calculas $f'(X)$ para un intervalo $X$, ¿qué te da? \n",
    "\n",
    "* el conjunto de todas las derivadas en el intervalo $X$ \n",
    "\n",
    "¿En qué te ayuda esto qué puedes concluir sobre las raíces? \n",
    "\n",
    "* Puedo implementar un método de Newton para intervalos $X$ para encontrar raices en el intervalo. Recordemos el método de Newton \n",
    "\n",
    "Sean $f:[a,b] \\longrightarrow \\mathbb{R}$ una función diferenciable a $[a,b]$ y $x_{0} \\in [a,b]$ una condición inicial, definimos la función de iteración como $$x_{n+1} = x_{n} -  \\dfrac{f(x_{n})}{f'(x_{n})} = \\Phi(x_{n})$$ tal que\n",
    "\n",
    "$\\displaystyle\\lim_{x_{n} \\rightarrow \\infty} \\Phi(x_{n}) = x^{*}$ con $x^{*}$ la raíz de $f$\n",
    "\n",
    "Ahora si extendemos esto a intevalo tenemos lo siguiente\n",
    "\n",
    "Sean $f:X \\longrightarrow \\mathbb{R}$ una función diferenciable a $X$ y $x_{0} \\in X$, punto medio del intervalos como condición inicial, definimos la función de iteración como $$x_{n+1} = x_{n} -  \\dfrac{f(x_{n})}{f'(x_{n})}$$"
   ]
  },
  {
   "cell_type": "code",
   "execution_count": null,
   "metadata": {
    "collapsed": true
   },
   "outputs": [],
   "source": []
  },
  {
   "cell_type": "markdown",
   "metadata": {
    "collapsed": true
   },
   "source": [
    "(ii) ¿Se extiende esto a funciones $f:\\mathbb{R^n} \\to \\mathbb{R}^n$?\n",
    "\n",
    "* Sí\n",
    "\n",
    "¿De qué manera?\n",
    "\n",
    "* Con el método de Newton multidimensional"
   ]
  },
  {
   "cell_type": "markdown",
   "metadata": {},
   "source": [
    "**[2]** Para una función $f:\\mathbb{R} \\to \\mathbb{R}$, considera un intervalo $X$ donde queremos encontrar el rango $f(X)$. \n",
    "\n",
    "(i) Recuerda el teorema del valor medio (\"mean value theorem\"). Fija un $x_0 \\in X$ y utiliza el teorema para escribir una expresión para $f(x)$ para $x \\in X$, en términos de la derivada de $f$ en algún punto $\\xi \\in X$.\n",
    "\n",
    "Por hipótesis $f\\in \\mathcal{C}^1$ por el teorema de Taylor, y acontado el residuo (de Lagrange), alrededor de $x_0$ fijo tenemos\n",
    "\n",
    "$$f(x) = f(x_{0}) + f'(\\xi)(x - x_{0})$$\n",
    "\n",
    "\n",
    "\n",
    "(ii) No conocemos $\\xi$. ¿Qué podemos hacer al respecto?\n",
    "\n",
    "* Tomamos todo el intervalo $X$\n",
    "\n",
    "Si lo haces, encontrarás otra expresión para el rango $f(X)$, que se conoce como el **mean value form** o **centred form**.\n",
    "\n",
    "Utilizando la idea de acotar con intervalos, tenemos\n",
    "\n",
    "$$f(X) = f(x_{0}) + f'(X)(X - x_{0})$$\n",
    "\n",
    "(iii) Compara los resultados numéricos que obtienes de $f(X)$ con la extensión intervalar usual (lo que vimos en un notebook anterior) y esta versión nueva para distintas funciones. ¿Cuándo es mejor la nueva? \n",
    "\n",
    "\n",
    "(iv) Si tienes las dos formas de calcular el rango, ¿cómo puedes combinarlos? Impleméntalo.\n",
    "\n",
    "* Para ello consideremos la función $f(x) = x^2$ en el intervalo $[-1,2]$ , que sabemos el rango es $f([-1,2]) = [0,4]$,  por otro lado usando la \"nueva versión\" con $x_0 = 1$\n",
    "\n",
    "$$f([-1,2]) = f(1) + f'\\left([-1,2] \\right)([-1,2] - 1) = 1 + [-2,4]*[-2,1] = [-7,5] $$\n",
    "\n",
    "Con $x_0 = 0$\n",
    "\n",
    "$$f([-1,2]) = f(0) + f'\\left([-1,2] \\right)([-1,2] - 0) = [-2,4]*[-1,2] = [-4,8] $$\n",
    "\n",
    "Notemos que ambos contienen el intervalo solución\n",
    "\n",
    "Al calcular $f'(X)$ usamos la versión intervalar usual."
   ]
  },
  {
   "cell_type": "code",
   "execution_count": 1,
   "metadata": {
    "collapsed": true
   },
   "outputs": [],
   "source": [
    "using Base.Test"
   ]
  },
  {
   "cell_type": "code",
   "execution_count": 2,
   "metadata": {
    "collapsed": true
   },
   "outputs": [],
   "source": [
    "struct Intervalo\n",
    "    inf::Float64\n",
    "    sup::Float64\n",
    "    Intervalo(inf,sup) = inf > sup ? error(\"No es un intervalo valido\") : new(inf,sup)\n",
    "end"
   ]
  },
  {
   "cell_type": "code",
   "execution_count": 3,
   "metadata": {},
   "outputs": [
    {
     "data": {
      "text/plain": [
       "sqr (generic function with 1 method)"
      ]
     },
     "execution_count": 3,
     "metadata": {},
     "output_type": "execute_result"
    }
   ],
   "source": [
    "import Base: +, -,*,/\n",
    "\n",
    "function +(x::Intervalo, y::Intervalo)\n",
    "    return Intervalo(x.inf + y.inf, x.sup + y.sup)\n",
    "end\n",
    "\n",
    "function +(x::Intervalo, c::Real) \n",
    "    # Aquí definimos la suma de un Intervalo a un Real\n",
    "    return Intervalo(x.inf + c, x.sup + c)\n",
    "end\n",
    "\n",
    "function +(c::Real, x::Intervalo)\n",
    "    # Aquí definimos la suma de un Real a un Intervalo\n",
    "    return Intervalo(x.inf + c, x.sup + c)\n",
    "end\n",
    "\n",
    "\n",
    "function -(x::Intervalo, y::Intervalo)\n",
    "    return Intervalo(x.inf - y.inf, x.sup - y.sup)\n",
    "end\n",
    "\n",
    "function -(x::Intervalo, c::Real)\n",
    "    return Intervalo(x.inf - c, x.sup - c)\n",
    "end\n",
    "\n",
    "function -(c::Real, x::Intervalo)\n",
    "    return Intervalo(c-x.inf, c-x.sup)\n",
    "end\n",
    "\n",
    "function *(x::Intervalo, y::Intervalo)\n",
    "    Intervalo(min(x.inf*y.inf, x.sup*y.inf, x.sup*y.sup, x.inf*y.sup), \n",
    "        max(x.inf*y.inf, x.sup*y.inf, x.sup*y.sup, x.inf*y.sup))\n",
    "end\n",
    "\n",
    "function *(x::Intervalo, c::Real)\n",
    "    Intervalo(min(x.inf*c, x.sup*c), max(x.inf*c, x.sup*c))\n",
    "    \n",
    "    #return Intervalo(x.inf * c, x.sup * c)\n",
    "end\n",
    "\n",
    "function *(c::Real, x::Intervalo)\n",
    "    Intervalo(min(x.inf*c, x.sup*c), max(x.inf*c, x.sup*c))\n",
    "end\n",
    "\n",
    "function /(x::Intervalo, y::Intervalo)\n",
    "    Intervalo(min(x.inf/y.inf, x.inf/y.sup, x.sup/y.inf, x.sup/y.sup), \n",
    "        max(x.inf/y.inf, x.sup/y.inf, x.sup/y.sup, x.inf/y.sup))\n",
    "end\n",
    "\n",
    "function /(x::Intervalo, c::Real)\n",
    "    Intervalo(min(x.inf/c, x.sup/c), max(x.inf/c, x.sup/c))\n",
    "    \n",
    "    #return Intervalo(x.inf * c, x.sup * c)\n",
    "end\n",
    "\n",
    "function /(c::Real, x::Intervalo)\n",
    "    Intervalo(min(c/x.inf, c/x.sup), max(c/x.inf, c/x.sup))\n",
    "end\n",
    "\n",
    "\n",
    "function sqr(x::Intervalo)\n",
    "    if x.inf < 0 && x.sup >0\n",
    "        if abs(x.inf) < abs(x.sup)\n",
    "            return (0, x.sup^2)\n",
    "        else\n",
    "            return (0, x.inf^2)\n",
    "        end\n",
    "    elseif x.inf < 0 && x.sup < 0\n",
    "         return (x.sup^2, x.inf^2)\n",
    "    else\n",
    "        return (x.inf^2, x.sup^2)\n",
    "    end\n",
    "end"
   ]
  },
  {
   "cell_type": "code",
   "execution_count": 4,
   "metadata": {},
   "outputs": [
    {
     "data": {
      "text/plain": [
       "(0, 4.0)"
      ]
     },
     "execution_count": 4,
     "metadata": {},
     "output_type": "execute_result"
    }
   ],
   "source": [
    "sqr(Intervalo(-1,2))"
   ]
  },
  {
   "cell_type": "code",
   "execution_count": 5,
   "metadata": {},
   "outputs": [
    {
     "data": {
      "text/plain": [
       "Intervalo(-2.0, 4.0)"
      ]
     },
     "execution_count": 5,
     "metadata": {},
     "output_type": "execute_result"
    }
   ],
   "source": [
    "Intervalo(-1,2)^2"
   ]
  },
  {
   "cell_type": "code",
   "execution_count": 6,
   "metadata": {},
   "outputs": [
    {
     "data": {
      "text/plain": [
       "gp (generic function with 1 method)"
      ]
     },
     "execution_count": 6,
     "metadata": {},
     "output_type": "execute_result"
    }
   ],
   "source": [
    "g(x) = x^2\n",
    "gp(x) = 2x"
   ]
  },
  {
   "cell_type": "code",
   "execution_count": 7,
   "metadata": {},
   "outputs": [
    {
     "data": {
      "text/plain": [
       "#g"
      ]
     },
     "execution_count": 7,
     "metadata": {},
     "output_type": "execute_result"
    }
   ],
   "source": [
    "typeof(g)"
   ]
  },
  {
   "cell_type": "code",
   "execution_count": 8,
   "metadata": {},
   "outputs": [
    {
     "data": {
      "text/plain": [
       "Fintervalo (generic function with 1 method)"
      ]
     },
     "execution_count": 8,
     "metadata": {},
     "output_type": "execute_result"
    }
   ],
   "source": [
    "function Fintervalo(f,fp, x::Intervalo , x0::Real)\n",
    "\n",
    "    #x0 ∈ [x.inf, x.sup] ? nothing : error(\"x0 no esta en el intervalos\")\n",
    "    \n",
    "    f(x0) + fp(x)*(x - x0)\n",
    "    \n",
    "end"
   ]
  },
  {
   "cell_type": "code",
   "execution_count": 9,
   "metadata": {},
   "outputs": [
    {
     "data": {
      "text/plain": [
       "Intervalo(-7.0, 5.0)"
      ]
     },
     "execution_count": 9,
     "metadata": {},
     "output_type": "execute_result"
    }
   ],
   "source": [
    "Fintervalo(g,gp,Intervalo(-1,2),1)"
   ]
  },
  {
   "cell_type": "markdown",
   "metadata": {},
   "source": [
    "## Diferenciación automática"
   ]
  },
  {
   "cell_type": "markdown",
   "metadata": {},
   "source": [
    "De cálculo conocemos reglas para calcular derivadas (a diferencia, por ejemplo, de integrales indefinidas). Resulta que es posible *automatizar* estas reglas, para que la computadora las utilice para calcular derivadas de forma numéricamente exacta (a parte de errores de redondeo). Este conjunto de técnicas se llama la **diferenciación automática** o **diferenciación algorítmica**. En este notebook, veremos las bases de este método."
   ]
  },
  {
   "cell_type": "markdown",
   "metadata": {},
   "source": [
    "Nota: Este método *no* utiliza ni diferencias finitas, ni manipulación simbólica. Utiliza las reglas de derivadas provenientes del cálculo, pero de forma *numérica*. Especificamos el valor numérico de una variable, por ejemplo, `a = 3` en donde queremos evaluar la derivada de una función $f$, y ¡el método nos regresará el valor numérico de la derivada $f'(a)$!"
   ]
  },
  {
   "cell_type": "markdown",
   "metadata": {},
   "source": [
    "**[3]** Supón que tienes dos funciones $f$ y $g$ de $\\mathbb{R} \\to \\mathbb{R}$, cuyas derivadas conoces, y quieres calcular derivadas en un punto $a \\in \\mathbb{R}$ de combinaciones de estas funciones.\n",
    "\n",
    "(i) Expande $f$ y $g$ en series de Taylor alrededor de $a$ en términos de la distancia $\\epsilon$ desde $a$.\n",
    " \n",
    " Sea $\\epsilon = x -a$\n",
    "\n",
    "* $f(x) = f(a) + \\dfrac{f'(a)(\\epsilon)}{1!} + \\dfrac{f''(a)(\\epsilon)^2}{2!} + \\cdots = \\displaystyle \\sum _{k = 0} ^{\\infty} \\dfrac{f^{(k)}(a) \\epsilon ^k }{k!}$\n",
    "\n",
    "* $g(x) = g(a) + \\dfrac{g'(a)(\\epsilon)}{1!} + \\dfrac{g''(a)(\\epsilon)^2}{2!} + \\cdots = \\displaystyle \\sum _{k = 0} ^{\\infty} \\dfrac{g^{(k)}(a) \\epsilon ^k }{k!} $\n",
    "\n",
    "\n",
    "(ii) Encuentra series de Taylor para la suma $(f+g)$ y el producto $(f \\cdot g)$ en la vecindad de $a$.\n",
    "\n",
    "* $(f + g)(x) = \\displaystyle \\sum _{k = 0} ^{\\infty}  \\left[ f^{(k)}(a)  + g^{(k)}(a) \\right]  \\left(\\dfrac{ \\epsilon ^k}{k!}  \\right) = \\displaystyle \\sum _{k =0 }^{\\infty} \\dfrac{(f + g)^{(k)}(a)\\epsilon^{k}}{k!}  $\n",
    "\n",
    "* $(f \\cdot g)(x) = \\left( \\displaystyle \\sum _{k = 0} ^{\\infty} \\dfrac{f^{(k)}(a) \\epsilon ^k }{k!} \\right)\\left( \\displaystyle \\sum _{l = 0} ^{\\infty} \\dfrac{g^{(l)}(a) \\epsilon ^l }{l!} \\right) = \\displaystyle \\sum _{k =0 }^{\\infty} \\dfrac{(f \\cdot g)^{(k)}(a)\\epsilon^{k}}{k!}  $\n",
    "\n",
    "(iii) Así, recobre las expresiones ya conocidas (de cálculo) para $(f+g)'(a)$ y $(f \\cdot g)'(a)$,\n",
    "en términos de los valores de las funciones y sus derivadas. Concluye cuál información necesitas de cada función para poder calcular derivadas en el punto $a$ de las combinaciones de las funciones.\n",
    "\n",
    "* ($f + g)'(a) = f'(a) + g'(a)$, es decir, para suma necesitamos los coeficientes de orden epsilon\n",
    "\n",
    "* $(f \\cdot g)'(a) = f'(a)g(a) + f(a)g'(a)$, para esto necesitamos los coeficentes de orden menor o igual a epsilon de $f$ y $g$ \n",
    "\n",
    "Necesitamos que $f$ y $g$ sean $\\mathcal{C}^{\\infty}$ sin polos en $a$"
   ]
  },
  {
   "cell_type": "code",
   "execution_count": null,
   "metadata": {
    "collapsed": true
   },
   "outputs": [],
   "source": []
  },
  {
   "cell_type": "markdown",
   "metadata": {},
   "source": [
    "**[4]** Ahora podemos convertir esto en un método numérico para calcular derivadas, como sigue."
   ]
  },
  {
   "cell_type": "markdown",
   "metadata": {},
   "source": [
    "(i) Define un tipo nuevo `Dual` que contiene la información necesaria de una función en el punto $a$. (Dejamos implícito el punto $a$; no lo representamos de forma explícita.) \n",
    "\n",
    "(ii) Define las operaciones aritméticas básicas sobre objetos de este tipo, siguiendo las reglas que desarrollamos en la pregunta (3).\n",
    "\n",
    "(iii) ¿Cuál número `Dual` corresponde con la función identidad $\\mathbb{1}: x \\mapsto x$ en el punto $a$? Esto representará la \"variable independiente\" $x$.\n",
    "\n",
    "* Es `Dual(a, 1)`\n",
    "\n",
    "(iv) Verifica que si agarras un objeto `xx` de la forma encontrada en (iii) y lo enchufas en una función específica `f(x)` de Julia, arroja el valor de la función y de la derivada.\n",
    "\n",
    "(v) Así, escribe una función que calcule de forma automática la derivada de una función en un punto dado."
   ]
  },
  {
   "cell_type": "code",
   "execution_count": 10,
   "metadata": {
    "collapsed": true
   },
   "outputs": [],
   "source": [
    "# (i)\n",
    "\n",
    "struct Dual\n",
    "    fa::Float64\n",
    "    fpa::Float64\n",
    "end"
   ]
  },
  {
   "cell_type": "code",
   "execution_count": 11,
   "metadata": {},
   "outputs": [
    {
     "data": {
      "text/plain": [
       "Dual(9.0, 6.0)"
      ]
     },
     "execution_count": 11,
     "metadata": {},
     "output_type": "execute_result"
    }
   ],
   "source": [
    "Dual(9,6)"
   ]
  },
  {
   "cell_type": "code",
   "execution_count": 12,
   "metadata": {},
   "outputs": [
    {
     "data": {
      "text/plain": [
       "* (generic function with 188 methods)"
      ]
     },
     "execution_count": 12,
     "metadata": {},
     "output_type": "execute_result"
    }
   ],
   "source": [
    "function +(x::Dual, y::Dual)\n",
    "    Dual(x.fa + y.fa, x.fpa + y.fpa)\n",
    "end\n",
    "\n",
    "function +(c::Real, y::Dual)\n",
    "    Dual(c + y.fa, y.fpa)\n",
    "end\n",
    "\n",
    "function +(x::Dual, c::Real)\n",
    "    Dual(x.fa + c, x.fpa )\n",
    "end\n",
    "\n",
    "\n",
    "function -(x::Dual, y::Dual)\n",
    "    Dual(x.fa - y.fa, x.fpa - y.fpa)\n",
    "end\n",
    "\n",
    "function -(c::Real, y::Dual)\n",
    "    Dual(c - y.fa, y.fpa)\n",
    "end\n",
    "\n",
    "function -(x::Dual, c::Real)\n",
    "    Dual(x.fa - c, x.fpa )\n",
    "end\n",
    "\n",
    "function *(x::Dual, y::Dual)\n",
    "    Dual(x.fa * y.fa, x.fpa * y.fa + x.fa * y.fpa )\n",
    "end\n",
    "\n",
    "function *(c::Real, y::Dual)\n",
    "    Dual(c* y.fa,  c * y.fpa )\n",
    "end\n",
    "\n",
    "function *(x::Dual, c::Real)\n",
    "    Dual(x.fa*c, x.fpa*c )\n",
    "end"
   ]
  },
  {
   "cell_type": "code",
   "execution_count": 13,
   "metadata": {},
   "outputs": [
    {
     "data": {
      "text/plain": [
       "Dual(18.0, 12.0)"
      ]
     },
     "execution_count": 13,
     "metadata": {},
     "output_type": "execute_result"
    }
   ],
   "source": [
    "Dual(9,6) + Dual(9,6) "
   ]
  },
  {
   "cell_type": "code",
   "execution_count": 14,
   "metadata": {},
   "outputs": [
    {
     "name": "stdout",
     "output_type": "stream",
     "text": [
      "\u001b[1m\u001b[37mTest Summary:   | \u001b[39m\u001b[22m\u001b[1m\u001b[32mPass  \u001b[39m\u001b[22m\u001b[1m\u001b[36mTotal\u001b[39m\u001b[22m\n",
      "Pruebas de Dual | \u001b[32m   4  \u001b[39m\u001b[36m    4\u001b[39m\n"
     ]
    },
    {
     "data": {
      "text/plain": [
       "Base.Test.DefaultTestSet(\"Pruebas de Dual\", Any[], 4, false)"
      ]
     },
     "execution_count": 14,
     "metadata": {},
     "output_type": "execute_result"
    }
   ],
   "source": [
    "@testset \"Pruebas de Dual\" begin\n",
    "    @test Dual(9,6) + Dual(9,6) == Dual(18,12)\n",
    "    @test Dual(9,6) * Dual(9,6) == Dual(81,108)\n",
    "    @test Dual(9,6) * Dual(1,0) == Dual(9,6)\n",
    "    @test Dual(3,1) * Dual(3,1) == Dual(9,6)\n",
    "end"
   ]
  },
  {
   "cell_type": "code",
   "execution_count": 15,
   "metadata": {},
   "outputs": [
    {
     "data": {
      "text/plain": [
       "f (generic function with 1 method)"
      ]
     },
     "execution_count": 15,
     "metadata": {},
     "output_type": "execute_result"
    }
   ],
   "source": [
    "f(x) = x^3 - 2x"
   ]
  },
  {
   "cell_type": "code",
   "execution_count": 16,
   "metadata": {},
   "outputs": [
    {
     "data": {
      "text/plain": [
       "Dual(4.0, 10.0)"
      ]
     },
     "execution_count": 16,
     "metadata": {},
     "output_type": "execute_result"
    }
   ],
   "source": [
    "f(Dual(2,1))"
   ]
  },
  {
   "cell_type": "code",
   "execution_count": 32,
   "metadata": {},
   "outputs": [
    {
     "data": {
      "text/plain": [
       "derivada (generic function with 1 method)"
      ]
     },
     "execution_count": 32,
     "metadata": {},
     "output_type": "execute_result"
    }
   ],
   "source": [
    "function derivada(f,x0::Real)\n",
    "    x = f(Dual(x0, 1))\n",
    "    x.fpa\n",
    "end"
   ]
  },
  {
   "cell_type": "code",
   "execution_count": 41,
   "metadata": {},
   "outputs": [
    {
     "data": {
      "text/plain": [
       "\u001b[1m\u001b[32mTest Passed\u001b[39m\u001b[22m"
      ]
     },
     "execution_count": 41,
     "metadata": {},
     "output_type": "execute_result"
    }
   ],
   "source": [
    "@test derivada(f,2) == Dual(4,10).fpa"
   ]
  },
  {
   "cell_type": "markdown",
   "metadata": {},
   "source": [
    "**[5]** (i) Si tienes una función como `exp`, cuando la aplicas a un número `Dual` que representa a una función $f$ cerca del punto $a$, el resultado debe corresponder a la función $(\\exp \\circ f)$. Impleméntalo.\n",
    "\n",
    "(ii) ¿Qué ocurre si derivas `exp(exp(x))` en un punto $a$? ¿Es correcto? ¿Qué se ha implementado (¡de forma automática!) aquí?"
   ]
  },
  {
   "cell_type": "code",
   "execution_count": 42,
   "metadata": {},
   "outputs": [
    {
     "data": {
      "text/plain": [
       "exp (generic function with 11 methods)"
      ]
     },
     "execution_count": 42,
     "metadata": {},
     "output_type": "execute_result"
    }
   ],
   "source": [
    "import Base: exp\n",
    "\n",
    "function exp(x::Dual)\n",
    "    Dual(exp(x.fa), exp(x.fa)*x.fpa)\n",
    "end"
   ]
  },
  {
   "cell_type": "code",
   "execution_count": 43,
   "metadata": {},
   "outputs": [
    {
     "data": {
      "text/plain": [
       "Dual(2.718281828459045, 2.718281828459045)"
      ]
     },
     "execution_count": 43,
     "metadata": {},
     "output_type": "execute_result"
    }
   ],
   "source": [
    "exp(Dual(1,1))"
   ]
  },
  {
   "cell_type": "code",
   "execution_count": 44,
   "metadata": {},
   "outputs": [
    {
     "data": {
      "text/plain": [
       "g (generic function with 1 method)"
      ]
     },
     "execution_count": 44,
     "metadata": {},
     "output_type": "execute_result"
    }
   ],
   "source": [
    "g(x) = x^2 "
   ]
  },
  {
   "cell_type": "code",
   "execution_count": 45,
   "metadata": {},
   "outputs": [
    {
     "data": {
      "text/plain": [
       "Dual(9.0, 6.0)"
      ]
     },
     "execution_count": 45,
     "metadata": {},
     "output_type": "execute_result"
    }
   ],
   "source": [
    "g(Dual(3,1))"
   ]
  },
  {
   "cell_type": "code",
   "execution_count": 46,
   "metadata": {},
   "outputs": [
    {
     "data": {
      "text/plain": [
       "\u001b[1m\u001b[32mTest Passed\u001b[39m\u001b[22m"
      ]
     },
     "execution_count": 46,
     "metadata": {},
     "output_type": "execute_result"
    }
   ],
   "source": [
    "@test exp(g(Dual(3,1))) == exp(Dual(9,6))"
   ]
  },
  {
   "cell_type": "markdown",
   "metadata": {},
   "source": [
    "(ii) ¿Qué ocurre si derivas `exp(exp(x))` en un punto $a$? ¿Es correcto? ¿Qué se ha implementado (¡de forma automática!) aquí?"
   ]
  },
  {
   "cell_type": "code",
   "execution_count": 47,
   "metadata": {},
   "outputs": [
    {
     "data": {
      "text/plain": [
       "Dual(15.154262241479262, 41.193555674716116)"
      ]
     },
     "execution_count": 47,
     "metadata": {},
     "output_type": "execute_result"
    }
   ],
   "source": [
    "exp(exp(Dual(1,1)))"
   ]
  },
  {
   "cell_type": "code",
   "execution_count": 48,
   "metadata": {},
   "outputs": [
    {
     "data": {
      "text/plain": [
       "41.193555674716116"
      ]
     },
     "execution_count": 48,
     "metadata": {},
     "output_type": "execute_result"
    }
   ],
   "source": [
    "expp(x) = exp(exp(x)) \n",
    "derivada(expp,1)"
   ]
  },
  {
   "cell_type": "markdown",
   "metadata": {},
   "source": [
    "**[6]** Para una función $f: \\mathbb{R}^n \\to \\mathbb{R}$, quisiéramos calcular la gradiente $\\nabla f$. ¿Cómo podemos extender la diferenciación automática a este caso? Puedes restringir atención a $n=2$ para entender cómo funciona."
   ]
  },
  {
   "cell_type": "code",
   "execution_count": null,
   "metadata": {
    "collapsed": true
   },
   "outputs": [],
   "source": []
  },
  {
   "cell_type": "markdown",
   "metadata": {},
   "source": [
    "**[7]** Ahora que hayamos entendido la idea de la diferenciación automática, podemos echar mano del paquete de Julia `ForwardDiff.jl`, donde hay una implementación muy buena.\n",
    "\n",
    "Lee el manual del paquete para entender cómo calcular derivadas de funciones $\\mathbb{R} \\to \\mathbb{R}$, gradientes de funciones $\\mathbb{R}^n \\to \\mathbb{R}$, y jacobianos de funciones $\\mathbb{R}^n \\to \\mathbb{R}^m$."
   ]
  },
  {
   "cell_type": "code",
   "execution_count": null,
   "metadata": {
    "collapsed": true
   },
   "outputs": [],
   "source": []
  },
  {
   "cell_type": "markdown",
   "metadata": {},
   "source": [
    "**[8]** Ocupa diferenciación automática para calcular el \"centered form\" de una función $\\mathbb{R} \\to \\mathbb{R}$."
   ]
  },
  {
   "cell_type": "code",
   "execution_count": null,
   "metadata": {
    "collapsed": true
   },
   "outputs": [],
   "source": []
  }
 ],
 "metadata": {
  "kernelspec": {
   "display_name": "Julia 0.6.2",
   "language": "julia",
   "name": "julia-0.6"
  },
  "language_info": {
   "file_extension": ".jl",
   "mimetype": "application/julia",
   "name": "julia",
   "version": "0.6.2"
  }
 },
 "nbformat": 4,
 "nbformat_minor": 2
}
