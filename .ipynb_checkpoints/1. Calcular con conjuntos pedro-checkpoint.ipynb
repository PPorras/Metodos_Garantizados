{
 "cells": [
  {
   "cell_type": "markdown",
   "metadata": {},
   "source": [
    "# Calcular con conjuntos"
   ]
  },
  {
   "cell_type": "markdown",
   "metadata": {},
   "source": [
    "En este notebook, empezaremos a calcular con conjuntos, usando el lenguaje de programación [Julia](https://julialang.org/). Para ayuda con la sintaxis de Julia, ver e.g. los recursos en la página de [aprendizaje de Julia](https://julialang.org/learning/), en particular los primeros dos ligas en la sección de \"Resources\" (que son \"cheat sheets\")."
   ]
  },
  {
   "cell_type": "markdown",
   "metadata": {},
   "source": [
    "## ¿Cómo calcular con conjuntos?"
   ]
  },
  {
   "cell_type": "markdown",
   "metadata": {},
   "source": [
    "¿Es posible llevar a cabo cálculos con *todos los puntos* de un conjunto, de un solo golpe? Es decir, ¿podemos calcular el *rango* o *imagen* de una función sobre un dominio $D$, \n",
    "\n",
    "$$\\mathrm{range}(f; D) := \\{f(x): x \\in D \\}$$.\n",
    "\n",
    "Como ejemplos, trabajaremos con las dos funciones aparentemente triviales y similares $f(x) = x^2 - 2$ y $g(x) = x^2 - 2x$."
   ]
  },
  {
   "cell_type": "markdown",
   "metadata": {},
   "source": [
    "Para calcular con conjuntos, debemos empezar con los subconjuntos de los reales más sencillos, que son los *intervalos*. Por simplicidad trabajaremos con los intervalos cerrados, de la forma\n",
    "\n",
    "$$[a, b] := \\{x \\in \\mathbb{R}: a \\le x \\le b\\}.$$\n",
    "\n",
    "Definiremos operaciones matemáticas sobre intervalos (que usualmente no son definidas en las matemáticas), tal que el resultado corresponde con la operación sobre todo el intervalo."
   ]
  },
  {
   "cell_type": "markdown",
   "metadata": {},
   "source": [
    "### Cuadrado de un intervalo"
   ]
  },
  {
   "cell_type": "markdown",
   "metadata": {},
   "source": [
    "**[1]** Considera la función $x \\mapsto x^2$. \n",
    "\n",
    "(i) Primero supón que $0 < a < b$. Si calculamos $f(x)$ para todas las $x$ en el intervalo $[a, b]$, ¿qué tipo de objeto matemático resultará? ¿Cuál es el resultado exacto?\n",
    "\n",
    "***Sería un intervalo el cual corresponde a la image de $f$, sobre el intervalo $[a,b]$***"
   ]
  },
  {
   "cell_type": "markdown",
   "metadata": {},
   "source": [
    "(ii) Implementa esto en una función `sqr`.\n",
    "Toma como arguments a $a$ y $b$, y regresa un par ordenado."
   ]
  },
  {
   "cell_type": "code",
   "execution_count": 1,
   "metadata": {},
   "outputs": [
    {
     "data": {
      "text/plain": [
       "sqr (generic function with 1 method)"
      ]
     },
     "execution_count": 1,
     "metadata": {},
     "output_type": "execute_result"
    }
   ],
   "source": [
    "function sqr(a, b)    # Definimos la función sqr\n",
    "    return (a^2, b^2) # Regresa el cuadrado de los argumentos\n",
    "end"
   ]
  },
  {
   "cell_type": "markdown",
   "metadata": {},
   "source": [
    "(iii) ¿Qué occure si $a$ es negativo? ¿Si $b$ lo es? Agrega estos casos a tu función."
   ]
  },
  {
   "cell_type": "markdown",
   "metadata": {},
   "source": [
    "Para responder la anterior veamos imagen de $x \\to x^2$, para ellos grafiquemos la función"
   ]
  },
  {
   "cell_type": "code",
   "execution_count": 2,
   "metadata": {},
   "outputs": [
    {
     "data": {
      "text/plain": [
       "h (generic function with 1 method)"
      ]
     },
     "execution_count": 2,
     "metadata": {},
     "output_type": "execute_result"
    }
   ],
   "source": [
    "h(x) = x^2 # Definimos x^2"
   ]
  },
  {
   "cell_type": "code",
   "execution_count": 3,
   "metadata": {
    "collapsed": true
   },
   "outputs": [],
   "source": [
    "using Plots"
   ]
  },
  {
   "cell_type": "code",
   "execution_count": 4,
   "metadata": {},
   "outputs": [
    {
     "data": {
      "text/plain": [
       "Plots.GRBackend()"
      ]
     },
     "execution_count": 4,
     "metadata": {},
     "output_type": "execute_result"
    }
   ],
   "source": [
    "gr()"
   ]
  },
  {
   "cell_type": "markdown",
   "metadata": {},
   "source": [
    "Veamos que pasa si $a<0$, consideremos el intervalo $[-1,3]$"
   ]
  },
  {
   "cell_type": "code",
   "execution_count": 5,
   "metadata": {},
   "outputs": [
    {
     "data": {
      "text/plain": [
       "(1, 9)"
      ]
     },
     "execution_count": 5,
     "metadata": {},
     "output_type": "execute_result"
    }
   ],
   "source": [
    "a = sqr(-1, 3)"
   ]
  },
  {
   "cell_type": "code",
   "execution_count": 6,
   "metadata": {},
   "outputs": [
    {
     "data": {
      "text/html": [
       "<?xml version=\"1.0\" encoding=\"utf-8\"?>\n",
       "<svg xmlns=\"http://www.w3.org/2000/svg\" xmlns:xlink=\"http://www.w3.org/1999/xlink\" width=\"600\" height=\"400\" viewBox=\"0 0 600 400\">\n",
       "<defs>\n",
       "  <clipPath id=\"clip7700\">\n",
       "    <rect x=\"0\" y=\"0\" width=\"600\" height=\"400\"/>\n",
       "  </clipPath>\n",
       "</defs>\n",
       "<polygon clip-path=\"url(#clip7700)\" points=\"\n",
       "0,400 600,400 600,0 0,0 \n",
       "  \" fill=\"#ffffff\" fill-opacity=\"1\"/>\n",
       "<defs>\n",
       "  <clipPath id=\"clip7701\">\n",
       "    <rect x=\"120\" y=\"0\" width=\"421\" height=\"400\"/>\n",
       "  </clipPath>\n",
       "</defs>\n",
       "<polygon clip-path=\"url(#clip7700)\" points=\"\n",
       "28.9273,375.813 580.315,375.813 580.315,11.811 28.9273,11.811 \n",
       "  \" fill=\"#ffffff\" fill-opacity=\"1\"/>\n",
       "<defs>\n",
       "  <clipPath id=\"clip7702\">\n",
       "    <rect x=\"28\" y=\"11\" width=\"552\" height=\"365\"/>\n",
       "  </clipPath>\n",
       "</defs>\n",
       "<polyline clip-path=\"url(#clip7702)\" style=\"stroke:#000000; stroke-width:0.5; stroke-opacity:0.1; fill:none\" points=\"\n",
       "  28.9273,375.813 28.9273,11.811 \n",
       "  \"/>\n",
       "<polyline clip-path=\"url(#clip7702)\" style=\"stroke:#000000; stroke-width:0.5; stroke-opacity:0.1; fill:none\" points=\"\n",
       "  166.774,375.813 166.774,11.811 \n",
       "  \"/>\n",
       "<polyline clip-path=\"url(#clip7702)\" style=\"stroke:#000000; stroke-width:0.5; stroke-opacity:0.1; fill:none\" points=\"\n",
       "  304.621,375.813 304.621,11.811 \n",
       "  \"/>\n",
       "<polyline clip-path=\"url(#clip7702)\" style=\"stroke:#000000; stroke-width:0.5; stroke-opacity:0.1; fill:none\" points=\"\n",
       "  442.468,375.813 442.468,11.811 \n",
       "  \"/>\n",
       "<polyline clip-path=\"url(#clip7702)\" style=\"stroke:#000000; stroke-width:0.5; stroke-opacity:0.1; fill:none\" points=\"\n",
       "  580.315,375.813 580.315,11.811 \n",
       "  \"/>\n",
       "<polyline clip-path=\"url(#clip7702)\" style=\"stroke:#000000; stroke-width:0.5; stroke-opacity:0.1; fill:none\" points=\"\n",
       "  28.9273,301.577 580.315,301.577 \n",
       "  \"/>\n",
       "<polyline clip-path=\"url(#clip7702)\" style=\"stroke:#000000; stroke-width:0.5; stroke-opacity:0.1; fill:none\" points=\"\n",
       "  28.9273,227.332 580.315,227.332 \n",
       "  \"/>\n",
       "<polyline clip-path=\"url(#clip7702)\" style=\"stroke:#000000; stroke-width:0.5; stroke-opacity:0.1; fill:none\" points=\"\n",
       "  28.9273,153.086 580.315,153.086 \n",
       "  \"/>\n",
       "<polyline clip-path=\"url(#clip7702)\" style=\"stroke:#000000; stroke-width:0.5; stroke-opacity:0.1; fill:none\" points=\"\n",
       "  28.9273,78.8411 580.315,78.8411 \n",
       "  \"/>\n",
       "<polyline clip-path=\"url(#clip7700)\" style=\"stroke:#000000; stroke-width:1; stroke-opacity:1; fill:none\" points=\"\n",
       "  28.9273,375.813 580.315,375.813 \n",
       "  \"/>\n",
       "<polyline clip-path=\"url(#clip7700)\" style=\"stroke:#000000; stroke-width:1; stroke-opacity:1; fill:none\" points=\"\n",
       "  28.9273,375.813 28.9273,11.811 \n",
       "  \"/>\n",
       "<polyline clip-path=\"url(#clip7700)\" style=\"stroke:#000000; stroke-width:1; stroke-opacity:1; fill:none\" points=\"\n",
       "  28.9273,375.813 28.9273,370.353 \n",
       "  \"/>\n",
       "<polyline clip-path=\"url(#clip7700)\" style=\"stroke:#000000; stroke-width:1; stroke-opacity:1; fill:none\" points=\"\n",
       "  166.774,375.813 166.774,370.353 \n",
       "  \"/>\n",
       "<polyline clip-path=\"url(#clip7700)\" style=\"stroke:#000000; stroke-width:1; stroke-opacity:1; fill:none\" points=\"\n",
       "  304.621,375.813 304.621,370.353 \n",
       "  \"/>\n",
       "<polyline clip-path=\"url(#clip7700)\" style=\"stroke:#000000; stroke-width:1; stroke-opacity:1; fill:none\" points=\"\n",
       "  442.468,375.813 442.468,370.353 \n",
       "  \"/>\n",
       "<polyline clip-path=\"url(#clip7700)\" style=\"stroke:#000000; stroke-width:1; stroke-opacity:1; fill:none\" points=\"\n",
       "  580.315,375.813 580.315,370.353 \n",
       "  \"/>\n",
       "<polyline clip-path=\"url(#clip7700)\" style=\"stroke:#000000; stroke-width:1; stroke-opacity:1; fill:none\" points=\"\n",
       "  28.9273,301.577 37.1981,301.577 \n",
       "  \"/>\n",
       "<polyline clip-path=\"url(#clip7700)\" style=\"stroke:#000000; stroke-width:1; stroke-opacity:1; fill:none\" points=\"\n",
       "  28.9273,227.332 37.1981,227.332 \n",
       "  \"/>\n",
       "<polyline clip-path=\"url(#clip7700)\" style=\"stroke:#000000; stroke-width:1; stroke-opacity:1; fill:none\" points=\"\n",
       "  28.9273,153.086 37.1981,153.086 \n",
       "  \"/>\n",
       "<polyline clip-path=\"url(#clip7700)\" style=\"stroke:#000000; stroke-width:1; stroke-opacity:1; fill:none\" points=\"\n",
       "  28.9273,78.8411 37.1981,78.8411 \n",
       "  \"/>\n",
       "<g clip-path=\"url(#clip7700)\">\n",
       "<text style=\"fill:#000000; fill-opacity:1; font-family:Arial,Helvetica Neue,Helvetica,sans-serif; font-size:12; text-anchor:middle;\" transform=\"rotate(0, 28.9273, 389.613)\" x=\"28.9273\" y=\"389.613\">-1</text>\n",
       "</g>\n",
       "<g clip-path=\"url(#clip7700)\">\n",
       "<text style=\"fill:#000000; fill-opacity:1; font-family:Arial,Helvetica Neue,Helvetica,sans-serif; font-size:12; text-anchor:middle;\" transform=\"rotate(0, 166.774, 389.613)\" x=\"166.774\" y=\"389.613\">0</text>\n",
       "</g>\n",
       "<g clip-path=\"url(#clip7700)\">\n",
       "<text style=\"fill:#000000; fill-opacity:1; font-family:Arial,Helvetica Neue,Helvetica,sans-serif; font-size:12; text-anchor:middle;\" transform=\"rotate(0, 304.621, 389.613)\" x=\"304.621\" y=\"389.613\">1</text>\n",
       "</g>\n",
       "<g clip-path=\"url(#clip7700)\">\n",
       "<text style=\"fill:#000000; fill-opacity:1; font-family:Arial,Helvetica Neue,Helvetica,sans-serif; font-size:12; text-anchor:middle;\" transform=\"rotate(0, 442.468, 389.613)\" x=\"442.468\" y=\"389.613\">2</text>\n",
       "</g>\n",
       "<g clip-path=\"url(#clip7700)\">\n",
       "<text style=\"fill:#000000; fill-opacity:1; font-family:Arial,Helvetica Neue,Helvetica,sans-serif; font-size:12; text-anchor:middle;\" transform=\"rotate(0, 580.315, 389.613)\" x=\"580.315\" y=\"389.613\">3</text>\n",
       "</g>\n",
       "<g clip-path=\"url(#clip7700)\">\n",
       "<text style=\"fill:#000000; fill-opacity:1; font-family:Arial,Helvetica Neue,Helvetica,sans-serif; font-size:12; text-anchor:end;\" transform=\"rotate(0, 22.9273, 306.077)\" x=\"22.9273\" y=\"306.077\">5</text>\n",
       "</g>\n",
       "<g clip-path=\"url(#clip7700)\">\n",
       "<text style=\"fill:#000000; fill-opacity:1; font-family:Arial,Helvetica Neue,Helvetica,sans-serif; font-size:12; text-anchor:end;\" transform=\"rotate(0, 22.9273, 231.832)\" x=\"22.9273\" y=\"231.832\">10</text>\n",
       "</g>\n",
       "<g clip-path=\"url(#clip7700)\">\n",
       "<text style=\"fill:#000000; fill-opacity:1; font-family:Arial,Helvetica Neue,Helvetica,sans-serif; font-size:12; text-anchor:end;\" transform=\"rotate(0, 22.9273, 157.586)\" x=\"22.9273\" y=\"157.586\">15</text>\n",
       "</g>\n",
       "<g clip-path=\"url(#clip7700)\">\n",
       "<text style=\"fill:#000000; fill-opacity:1; font-family:Arial,Helvetica Neue,Helvetica,sans-serif; font-size:12; text-anchor:end;\" transform=\"rotate(0, 22.9273, 83.3411)\" x=\"22.9273\" y=\"83.3411\">20</text>\n",
       "</g>\n",
       "<polyline clip-path=\"url(#clip7702)\" style=\"stroke:#009af9; stroke-width:1; stroke-opacity:1; fill:none\" points=\"\n",
       "  -515.729,11.811 -508.998,18.9555 -446.761,81.6619 -384.524,138.314 -347.122,169.448 -309.72,198.395 -278.097,221.164 -246.474,242.37 -212.123,263.634 -177.771,283.054 \n",
       "  -146.103,299.324 -114.434,314.027 -80.4812,328.048 -46.5288,340.268 -7.19161,352.172 32.1456,361.659 67.1039,368.059 102.062,372.55 132.717,374.916 163.373,375.813 \n",
       "  196.795,375.118 230.218,372.677 263.839,368.46 297.46,362.476 334.632,353.804 371.804,342.972 407.173,330.661 442.542,316.394 479.317,299.487 516.092,280.467 \n",
       "  547.049,262.817 578.006,243.669 615.8,218.262 653.595,190.621 689.123,162.603 724.652,132.612 781.571,80.4515 838.49,23.2278 847.249,13.9717 \n",
       "  \"/>\n",
       "</svg>\n"
      ]
     },
     "execution_count": 6,
     "metadata": {},
     "output_type": "execute_result"
    }
   ],
   "source": [
    "plot(x->h.(x),xlim=(-1, 3),leg=false)"
   ]
  },
  {
   "cell_type": "markdown",
   "metadata": {},
   "source": [
    "Vemos que la imagen de $f(x) = x^2$ sobre $[-1,9]$ es el intervalos $[0,9]$ y **NO** el intervalo $[1,9]$"
   ]
  },
  {
   "cell_type": "markdown",
   "metadata": {
    "collapsed": true
   },
   "source": [
    "Veamos que pasa si $b<0$, ahora considemos el intervalo $[-5,-1]$"
   ]
  },
  {
   "cell_type": "code",
   "execution_count": 7,
   "metadata": {},
   "outputs": [
    {
     "data": {
      "text/plain": [
       "(25, 1)"
      ]
     },
     "execution_count": 7,
     "metadata": {},
     "output_type": "execute_result"
    }
   ],
   "source": [
    "sqr(-5, -1)"
   ]
  },
  {
   "cell_type": "code",
   "execution_count": 8,
   "metadata": {},
   "outputs": [
    {
     "data": {
      "text/html": [
       "<?xml version=\"1.0\" encoding=\"utf-8\"?>\n",
       "<svg xmlns=\"http://www.w3.org/2000/svg\" xmlns:xlink=\"http://www.w3.org/1999/xlink\" width=\"600\" height=\"400\" viewBox=\"0 0 600 400\">\n",
       "<defs>\n",
       "  <clipPath id=\"clip7900\">\n",
       "    <rect x=\"0\" y=\"0\" width=\"600\" height=\"400\"/>\n",
       "  </clipPath>\n",
       "</defs>\n",
       "<polygon clip-path=\"url(#clip7900)\" points=\"\n",
       "0,400 600,400 600,0 0,0 \n",
       "  \" fill=\"#ffffff\" fill-opacity=\"1\"/>\n",
       "<defs>\n",
       "  <clipPath id=\"clip7901\">\n",
       "    <rect x=\"120\" y=\"0\" width=\"421\" height=\"400\"/>\n",
       "  </clipPath>\n",
       "</defs>\n",
       "<polygon clip-path=\"url(#clip7900)\" points=\"\n",
       "28.9273,375.813 580.315,375.813 580.315,11.811 28.9273,11.811 \n",
       "  \" fill=\"#ffffff\" fill-opacity=\"1\"/>\n",
       "<defs>\n",
       "  <clipPath id=\"clip7902\">\n",
       "    <rect x=\"28\" y=\"11\" width=\"552\" height=\"365\"/>\n",
       "  </clipPath>\n",
       "</defs>\n",
       "<polyline clip-path=\"url(#clip7902)\" style=\"stroke:#000000; stroke-width:0.5; stroke-opacity:0.1; fill:none\" points=\"\n",
       "  28.9273,375.813 28.9273,11.811 \n",
       "  \"/>\n",
       "<polyline clip-path=\"url(#clip7902)\" style=\"stroke:#000000; stroke-width:0.5; stroke-opacity:0.1; fill:none\" points=\"\n",
       "  166.774,375.813 166.774,11.811 \n",
       "  \"/>\n",
       "<polyline clip-path=\"url(#clip7902)\" style=\"stroke:#000000; stroke-width:0.5; stroke-opacity:0.1; fill:none\" points=\"\n",
       "  304.621,375.813 304.621,11.811 \n",
       "  \"/>\n",
       "<polyline clip-path=\"url(#clip7902)\" style=\"stroke:#000000; stroke-width:0.5; stroke-opacity:0.1; fill:none\" points=\"\n",
       "  442.468,375.813 442.468,11.811 \n",
       "  \"/>\n",
       "<polyline clip-path=\"url(#clip7902)\" style=\"stroke:#000000; stroke-width:0.5; stroke-opacity:0.1; fill:none\" points=\"\n",
       "  580.315,375.813 580.315,11.811 \n",
       "  \"/>\n",
       "<polyline clip-path=\"url(#clip7902)\" style=\"stroke:#000000; stroke-width:0.5; stroke-opacity:0.1; fill:none\" points=\"\n",
       "  28.9273,301.577 580.315,301.577 \n",
       "  \"/>\n",
       "<polyline clip-path=\"url(#clip7902)\" style=\"stroke:#000000; stroke-width:0.5; stroke-opacity:0.1; fill:none\" points=\"\n",
       "  28.9273,227.332 580.315,227.332 \n",
       "  \"/>\n",
       "<polyline clip-path=\"url(#clip7902)\" style=\"stroke:#000000; stroke-width:0.5; stroke-opacity:0.1; fill:none\" points=\"\n",
       "  28.9273,153.086 580.315,153.086 \n",
       "  \"/>\n",
       "<polyline clip-path=\"url(#clip7902)\" style=\"stroke:#000000; stroke-width:0.5; stroke-opacity:0.1; fill:none\" points=\"\n",
       "  28.9273,78.8411 580.315,78.8411 \n",
       "  \"/>\n",
       "<polyline clip-path=\"url(#clip7900)\" style=\"stroke:#000000; stroke-width:1; stroke-opacity:1; fill:none\" points=\"\n",
       "  28.9273,375.813 580.315,375.813 \n",
       "  \"/>\n",
       "<polyline clip-path=\"url(#clip7900)\" style=\"stroke:#000000; stroke-width:1; stroke-opacity:1; fill:none\" points=\"\n",
       "  28.9273,375.813 28.9273,11.811 \n",
       "  \"/>\n",
       "<polyline clip-path=\"url(#clip7900)\" style=\"stroke:#000000; stroke-width:1; stroke-opacity:1; fill:none\" points=\"\n",
       "  28.9273,375.813 28.9273,370.353 \n",
       "  \"/>\n",
       "<polyline clip-path=\"url(#clip7900)\" style=\"stroke:#000000; stroke-width:1; stroke-opacity:1; fill:none\" points=\"\n",
       "  166.774,375.813 166.774,370.353 \n",
       "  \"/>\n",
       "<polyline clip-path=\"url(#clip7900)\" style=\"stroke:#000000; stroke-width:1; stroke-opacity:1; fill:none\" points=\"\n",
       "  304.621,375.813 304.621,370.353 \n",
       "  \"/>\n",
       "<polyline clip-path=\"url(#clip7900)\" style=\"stroke:#000000; stroke-width:1; stroke-opacity:1; fill:none\" points=\"\n",
       "  442.468,375.813 442.468,370.353 \n",
       "  \"/>\n",
       "<polyline clip-path=\"url(#clip7900)\" style=\"stroke:#000000; stroke-width:1; stroke-opacity:1; fill:none\" points=\"\n",
       "  580.315,375.813 580.315,370.353 \n",
       "  \"/>\n",
       "<polyline clip-path=\"url(#clip7900)\" style=\"stroke:#000000; stroke-width:1; stroke-opacity:1; fill:none\" points=\"\n",
       "  28.9273,301.577 37.1981,301.577 \n",
       "  \"/>\n",
       "<polyline clip-path=\"url(#clip7900)\" style=\"stroke:#000000; stroke-width:1; stroke-opacity:1; fill:none\" points=\"\n",
       "  28.9273,227.332 37.1981,227.332 \n",
       "  \"/>\n",
       "<polyline clip-path=\"url(#clip7900)\" style=\"stroke:#000000; stroke-width:1; stroke-opacity:1; fill:none\" points=\"\n",
       "  28.9273,153.086 37.1981,153.086 \n",
       "  \"/>\n",
       "<polyline clip-path=\"url(#clip7900)\" style=\"stroke:#000000; stroke-width:1; stroke-opacity:1; fill:none\" points=\"\n",
       "  28.9273,78.8411 37.1981,78.8411 \n",
       "  \"/>\n",
       "<g clip-path=\"url(#clip7900)\">\n",
       "<text style=\"fill:#000000; fill-opacity:1; font-family:Arial,Helvetica Neue,Helvetica,sans-serif; font-size:12; text-anchor:middle;\" transform=\"rotate(0, 28.9273, 389.613)\" x=\"28.9273\" y=\"389.613\">-5</text>\n",
       "</g>\n",
       "<g clip-path=\"url(#clip7900)\">\n",
       "<text style=\"fill:#000000; fill-opacity:1; font-family:Arial,Helvetica Neue,Helvetica,sans-serif; font-size:12; text-anchor:middle;\" transform=\"rotate(0, 166.774, 389.613)\" x=\"166.774\" y=\"389.613\">-4</text>\n",
       "</g>\n",
       "<g clip-path=\"url(#clip7900)\">\n",
       "<text style=\"fill:#000000; fill-opacity:1; font-family:Arial,Helvetica Neue,Helvetica,sans-serif; font-size:12; text-anchor:middle;\" transform=\"rotate(0, 304.621, 389.613)\" x=\"304.621\" y=\"389.613\">-3</text>\n",
       "</g>\n",
       "<g clip-path=\"url(#clip7900)\">\n",
       "<text style=\"fill:#000000; fill-opacity:1; font-family:Arial,Helvetica Neue,Helvetica,sans-serif; font-size:12; text-anchor:middle;\" transform=\"rotate(0, 442.468, 389.613)\" x=\"442.468\" y=\"389.613\">-2</text>\n",
       "</g>\n",
       "<g clip-path=\"url(#clip7900)\">\n",
       "<text style=\"fill:#000000; fill-opacity:1; font-family:Arial,Helvetica Neue,Helvetica,sans-serif; font-size:12; text-anchor:middle;\" transform=\"rotate(0, 580.315, 389.613)\" x=\"580.315\" y=\"389.613\">-1</text>\n",
       "</g>\n",
       "<g clip-path=\"url(#clip7900)\">\n",
       "<text style=\"fill:#000000; fill-opacity:1; font-family:Arial,Helvetica Neue,Helvetica,sans-serif; font-size:12; text-anchor:end;\" transform=\"rotate(0, 22.9273, 306.077)\" x=\"22.9273\" y=\"306.077\">5</text>\n",
       "</g>\n",
       "<g clip-path=\"url(#clip7900)\">\n",
       "<text style=\"fill:#000000; fill-opacity:1; font-family:Arial,Helvetica Neue,Helvetica,sans-serif; font-size:12; text-anchor:end;\" transform=\"rotate(0, 22.9273, 231.832)\" x=\"22.9273\" y=\"231.832\">10</text>\n",
       "</g>\n",
       "<g clip-path=\"url(#clip7900)\">\n",
       "<text style=\"fill:#000000; fill-opacity:1; font-family:Arial,Helvetica Neue,Helvetica,sans-serif; font-size:12; text-anchor:end;\" transform=\"rotate(0, 22.9273, 157.586)\" x=\"22.9273\" y=\"157.586\">15</text>\n",
       "</g>\n",
       "<g clip-path=\"url(#clip7900)\">\n",
       "<text style=\"fill:#000000; fill-opacity:1; font-family:Arial,Helvetica Neue,Helvetica,sans-serif; font-size:12; text-anchor:end;\" transform=\"rotate(0, 22.9273, 83.3411)\" x=\"22.9273\" y=\"83.3411\">20</text>\n",
       "</g>\n",
       "<polyline clip-path=\"url(#clip7902)\" style=\"stroke:#009af9; stroke-width:1; stroke-opacity:1; fill:none\" points=\"\n",
       "  35.6582,11.811 42.3892,18.9555 104.626,81.6619 166.864,138.314 204.266,169.448 241.668,198.395 273.291,221.164 304.914,242.37 339.265,263.634 373.616,283.054 \n",
       "  405.285,299.324 436.954,314.027 470.906,328.048 504.859,340.268 544.196,352.172 583.533,361.659 618.492,368.059 653.45,372.55 684.105,374.916 714.76,375.813 \n",
       "  748.183,375.118 781.605,372.677 815.226,368.46 848.847,362.476 886.02,353.804 923.192,342.972 958.561,330.661 993.929,316.394 1030.7,299.487 1067.48,280.467 \n",
       "  1098.44,262.817 1129.39,243.669 1167.19,218.262 1204.98,190.621 1240.51,162.603 1276.04,132.612 1332.96,80.4515 1389.88,23.2278 1398.64,13.9717 \n",
       "  \"/>\n",
       "</svg>\n"
      ]
     },
     "execution_count": 8,
     "metadata": {},
     "output_type": "execute_result"
    }
   ],
   "source": [
    "plot(x->h.(x),xlim=(-5, -1),leg=false)"
   ]
  },
  {
   "cell_type": "markdown",
   "metadata": {},
   "source": [
    "En este caso vemos que la imagen de la función es el intervalo $[1,25]$ y **NO** el intervalos $[25,1]$ que exhibe la función"
   ]
  },
  {
   "cell_type": "markdown",
   "metadata": {},
   "source": [
    "(iv) Escribe una serie de *tests* (\"pruebas\") para verificar que tu función funciona correctamente, usando la sintaxis siguiente [en Julia 0.6]:\n",
    "\n",
    "```\n",
    "using Base.Test\n",
    "@test 1 == 1\n",
    "```"
   ]
  },
  {
   "cell_type": "code",
   "execution_count": 9,
   "metadata": {},
   "outputs": [
    {
     "name": "stdout",
     "output_type": "stream",
     "text": [
      "\u001b[37mTests de sqr: \u001b[39m\u001b[1m\u001b[91mTest Failed\n",
      "\u001b[39m\u001b[22m  Expression: sqr(-2, 3) == (0, 9)\n",
      "   Evaluated: (4, 9) == (0, 9)\n",
      "Stacktrace:\n",
      " [1] \u001b[1mmacro expansion\u001b[22m\u001b[22m at \u001b[1m./In[9]:3\u001b[22m\u001b[22m [inlined]\n",
      " [2] \u001b[1mmacro expansion\u001b[22m\u001b[22m at \u001b[1m./test.jl:860\u001b[22m\u001b[22m [inlined]\n",
      " [3] \u001b[1manonymous\u001b[22m\u001b[22m at \u001b[1m./<missing>:?\u001b[22m\u001b[22m\n",
      "\u001b[37mTests de sqr: \u001b[39m\u001b[1m\u001b[91mTest Failed\n",
      "\u001b[39m\u001b[22m  Expression: sqr(-2, 1) == (0, 4)\n",
      "   Evaluated: (4, 1) == (0, 4)\n",
      "Stacktrace:\n",
      " [1] \u001b[1mmacro expansion\u001b[22m\u001b[22m at \u001b[1m./In[9]:4\u001b[22m\u001b[22m [inlined]\n",
      " [2] \u001b[1mmacro expansion\u001b[22m\u001b[22m at \u001b[1m./test.jl:860\u001b[22m\u001b[22m [inlined]\n",
      " [3] \u001b[1manonymous\u001b[22m\u001b[22m at \u001b[1m./<missing>:?\u001b[22m\u001b[22m\n",
      "\u001b[37mTests de sqr: \u001b[39m\u001b[1m\u001b[91mTest Failed\n",
      "\u001b[39m\u001b[22m  Expression: sqr(-3, -2) == (4, 9)\n",
      "   Evaluated: (9, 4) == (4, 9)\n",
      "Stacktrace:\n",
      " [1] \u001b[1mmacro expansion\u001b[22m\u001b[22m at \u001b[1m./In[9]:5\u001b[22m\u001b[22m [inlined]\n",
      " [2] \u001b[1mmacro expansion\u001b[22m\u001b[22m at \u001b[1m./test.jl:860\u001b[22m\u001b[22m [inlined]\n",
      " [3] \u001b[1manonymous\u001b[22m\u001b[22m at \u001b[1m./<missing>:?\u001b[22m\u001b[22m\n",
      "\u001b[1m\u001b[37mTest Summary: | \u001b[39m\u001b[22m\u001b[1m\u001b[32mPass  \u001b[39m\u001b[22m\u001b[1m\u001b[91mFail  \u001b[39m\u001b[22m\u001b[1m\u001b[36mTotal\u001b[39m\u001b[22m\n",
      "Tests de sqr  | \u001b[32m   1  \u001b[39m\u001b[91m   3  \u001b[39m\u001b[36m    4\u001b[39m\n"
     ]
    },
    {
     "ename": "LoadError",
     "evalue": "\u001b[91mSome tests did not pass: 1 passed, 3 failed, 0 errored, 0 broken.\u001b[39m",
     "output_type": "error",
     "traceback": [
      "\u001b[91mSome tests did not pass: 1 passed, 3 failed, 0 errored, 0 broken.\u001b[39m",
      "",
      "Stacktrace:",
      " [1] \u001b[1mfinish\u001b[22m\u001b[22m\u001b[1m(\u001b[22m\u001b[22m::Base.Test.DefaultTestSet\u001b[1m)\u001b[22m\u001b[22m at \u001b[1m./test.jl:668\u001b[22m\u001b[22m",
      " [2] \u001b[1mmacro expansion\u001b[22m\u001b[22m at \u001b[1m./test.jl:867\u001b[22m\u001b[22m [inlined]",
      " [3] \u001b[1manonymous\u001b[22m\u001b[22m at \u001b[1m./<missing>:?\u001b[22m\u001b[22m",
      " [4] \u001b[1minclude_string\u001b[22m\u001b[22m\u001b[1m(\u001b[22m\u001b[22m::String, ::String\u001b[1m)\u001b[22m\u001b[22m at \u001b[1m./loading.jl:522\u001b[22m\u001b[22m"
     ]
    }
   ],
   "source": [
    "using Base.Test\n",
    "@testset \"Tests de sqr\" begin\n",
    "    @test sqr(-2, 3) == (0, 9)\n",
    "    @test sqr(-2, 1) == (0, 4)\n",
    "    @test sqr(-3, -2) == (4, 9)\n",
    "    @test sqr(2, 3) == (4, 9)\n",
    "end"
   ]
  },
  {
   "cell_type": "markdown",
   "metadata": {},
   "source": [
    "Nos damos cuenta que los test, fallan justo en los casos $a<0$ y $b<0$ "
   ]
  },
  {
   "cell_type": "markdown",
   "metadata": {},
   "source": [
    "(v) Intercambia los tests con tu vecino. ¿Están de acuerdo? Si no, mejora el código."
   ]
  },
  {
   "cell_type": "code",
   "execution_count": 10,
   "metadata": {},
   "outputs": [
    {
     "data": {
      "text/plain": [
       "sqr (generic function with 1 method)"
      ]
     },
     "execution_count": 10,
     "metadata": {},
     "output_type": "execute_result"
    }
   ],
   "source": [
    "function sqr(a, b)\n",
    "    if a < 0 && b >0\n",
    "        if abs(a) < abs(b)\n",
    "            return (0, b^2)\n",
    "        else\n",
    "            return (0, a^2)\n",
    "        end\n",
    "    elseif a < 0 && b < 0\n",
    "         return (b^2, a^2)\n",
    "    else\n",
    "        return (a^2, b^2)\n",
    "    end\n",
    "end"
   ]
  },
  {
   "cell_type": "code",
   "execution_count": 11,
   "metadata": {},
   "outputs": [
    {
     "name": "stdout",
     "output_type": "stream",
     "text": [
      "\u001b[1m\u001b[37mTest Summary: | \u001b[39m\u001b[22m\u001b[1m\u001b[32mPass  \u001b[39m\u001b[22m\u001b[1m\u001b[36mTotal\u001b[39m\u001b[22m\n",
      "Tests de sqr  | \u001b[32m   4  \u001b[39m\u001b[36m    4\u001b[39m\n"
     ]
    },
    {
     "data": {
      "text/plain": [
       "Base.Test.DefaultTestSet(\"Tests de sqr\", Any[], 4, false)"
      ]
     },
     "execution_count": 11,
     "metadata": {},
     "output_type": "execute_result"
    }
   ],
   "source": [
    "using Base.Test\n",
    "@testset \"Tests de sqr\" begin\n",
    "    @test sqr(-2, 3) == (0, 9)\n",
    "    @test sqr(-2, 1) == (0, 4)\n",
    "    @test sqr(-3, -2) == (4, 9)\n",
    "    @test sqr(2, 3) == (4, 9)\n",
    "end"
   ]
  },
  {
   "cell_type": "markdown",
   "metadata": {},
   "source": [
    "Vemos que la nueva implementación pasa los test que se proponen"
   ]
  },
  {
   "cell_type": "markdown",
   "metadata": {},
   "source": [
    "### Restar constante"
   ]
  },
  {
   "cell_type": "markdown",
   "metadata": {},
   "source": [
    "**[2]** (i) Escribe una función `restar_constante` que resta una constante $c$ de un intervalo $[a, b]$.\n",
    "\n",
    "(ii) Escribe unos tests.\n",
    "\n",
    "(iii) Define una función `f` que actúa sobre un intervalo $[a, b]$, que calcula el rango de $f(x) = x^2 - 2$ sobre $[a, b]$. Toma como argumentos `a` y `b`, y regresa un par ordenado.\n",
    "\n",
    "(iv) Calcula la imagen del intervalo $[3, 4]$ bajo $f$.\n",
    "\n",
    "(v) Si queremos buscar **raíces** o **ceros** de $f$, ¿qué implica el resultado del inciso (iv)? ¿Por qué?\n",
    "\n",
    "(vi) ¿Cómo puedes ubicar las raíces de $f$? ¿Cómo puedes mejorar el resultado? Hazlo!"
   ]
  },
  {
   "cell_type": "markdown",
   "metadata": {},
   "source": [
    "(i) Escribe una función `restar_constante` que resta una constante $c$ de un intervalo $[a, b]$."
   ]
  },
  {
   "cell_type": "code",
   "execution_count": 12,
   "metadata": {},
   "outputs": [
    {
     "data": {
      "text/plain": [
       "restar_constante (generic function with 1 method)"
      ]
     },
     "execution_count": 12,
     "metadata": {},
     "output_type": "execute_result"
    }
   ],
   "source": [
    "function restar_constante(a, b, c)\n",
    "    return (a-c, b-c)\n",
    "end"
   ]
  },
  {
   "cell_type": "markdown",
   "metadata": {},
   "source": [
    "(ii) Escribe unos tests."
   ]
  },
  {
   "cell_type": "code",
   "execution_count": 13,
   "metadata": {},
   "outputs": [
    {
     "data": {
      "text/plain": [
       "\u001b[1m\u001b[32mTest Passed\u001b[39m\u001b[22m"
      ]
     },
     "execution_count": 13,
     "metadata": {},
     "output_type": "execute_result"
    }
   ],
   "source": [
    "Base.Test\n",
    "@test restar_constante(2, 5, 0.5)==(1.5, 4.5)"
   ]
  },
  {
   "cell_type": "markdown",
   "metadata": {},
   "source": [
    "Como vemos que sí pasa el test"
   ]
  },
  {
   "cell_type": "markdown",
   "metadata": {},
   "source": [
    "(iii) Define una función `f` que actúa sobre un intervalo $[a, b]$, que calcula el rango de $f(x) = x^2 - 2$ sobre $[a, b]$. Toma como argumentos `a` y `b`, y regresa un par ordenado."
   ]
  },
  {
   "cell_type": "code",
   "execution_count": 14,
   "metadata": {},
   "outputs": [
    {
     "data": {
      "text/plain": [
       "f (generic function with 1 method)"
      ]
     },
     "execution_count": 14,
     "metadata": {},
     "output_type": "execute_result"
    }
   ],
   "source": [
    "function f(a, b)\n",
    "    aux = sqr(a, b)\n",
    "    return restar_constante(aux..., 2)\n",
    "end"
   ]
  },
  {
   "cell_type": "markdown",
   "metadata": {},
   "source": [
    "(iv) Calcula la imagen del intervalo $[3, 4]$ bajo $f$\n",
    "\n",
    "En este caso realizare calcularemos la imagen de $f$ bajo $[3,4]$ y además haremos algunos *test* "
   ]
  },
  {
   "cell_type": "code",
   "execution_count": 15,
   "metadata": {},
   "outputs": [
    {
     "name": "stdout",
     "output_type": "stream",
     "text": [
      "\u001b[1m\u001b[37mTest Summary: | \u001b[39m\u001b[22m\u001b[1m\u001b[32mPass  \u001b[39m\u001b[22m\u001b[1m\u001b[36mTotal\u001b[39m\u001b[22m\n",
      "Tests de f    | \u001b[32m   2  \u001b[39m\u001b[36m    2\u001b[39m\n"
     ]
    },
    {
     "data": {
      "text/plain": [
       "Base.Test.DefaultTestSet(\"Tests de f\", Any[], 2, false)"
      ]
     },
     "execution_count": 15,
     "metadata": {},
     "output_type": "execute_result"
    }
   ],
   "source": [
    "@testset \"Tests de f\" begin\n",
    "    @test f(3, 4) == (7, 14)\n",
    "    @test f(-3, 2) == (-2, 7)\n",
    "end"
   ]
  },
  {
   "cell_type": "markdown",
   "metadata": {},
   "source": [
    "(v) Si queremos buscar **raíces** o **ceros** de $f$, ¿qué implica el resultado del inciso (iv)? ¿Por qué?\n",
    "\n",
    "El poder intentar determinar una una raíz de $f$, el intervalo calculado debe contener al cero, ya que la función $f$ es continua y si su intervalo imagen contiene al cero, esta interseca al eje de x "
   ]
  },
  {
   "cell_type": "markdown",
   "metadata": {},
   "source": [
    "(vi) ¿Cómo puedes ubicar las raíces de $f$? ¿Cómo puedes mejorar el resultado? Hazlo!"
   ]
  },
  {
   "cell_type": "markdown",
   "metadata": {},
   "source": [
    "Podemos realizar una partición de intervalo y determinar el o los intervalos que contengan al cero y luego determinaremos los ceros, si existen con el método de Newton"
   ]
  },
  {
   "cell_type": "markdown",
   "metadata": {},
   "source": [
    "Definamos una función que intervalos donde de puedan encontrar posibles raíces"
   ]
  },
  {
   "cell_type": "code",
   "execution_count": 46,
   "metadata": {},
   "outputs": [
    {
     "data": {
      "text/plain": [
       "mysearch (generic function with 1 method)"
      ]
     },
     "execution_count": 46,
     "metadata": {},
     "output_type": "execute_result"
    }
   ],
   "source": [
    "function mysearch(g, a, b)\n",
    "    intraices = []\n",
    "    i = a\n",
    "    j = (b - a)/5\n",
    "    while i < b\n",
    "        aux = g(i, i + j)\n",
    "        if aux[1]*aux[2] < 0 && abs(aux[2] - aux[1]) > 1e-3\n",
    "            push!(intraices,(i, i + j))\n",
    "            @show aux\n",
    "        end\n",
    "        i+=j\n",
    "        #return i\n",
    "    end\n",
    "    return intraices\n",
    "end"
   ]
  },
  {
   "cell_type": "code",
   "execution_count": 47,
   "metadata": {},
   "outputs": [
    {
     "name": "stdout",
     "output_type": "stream",
     "text": [
      "aux = (-1.0, 2.0)\n",
      "aux = (-1.0, 2.0)\n"
     ]
    },
    {
     "data": {
      "text/plain": [
       "2-element Array{Any,1}:\n",
       " (-2.0, -1.0)\n",
       " (1.0, 2.0)  "
      ]
     },
     "execution_count": 47,
     "metadata": {},
     "output_type": "execute_result"
    }
   ],
   "source": [
    "a = mysearch(f, -3, 2)"
   ]
  },
  {
   "cell_type": "code",
   "execution_count": 18,
   "metadata": {
    "collapsed": true
   },
   "outputs": [],
   "source": [
    "using Roots "
   ]
  },
  {
   "cell_type": "code",
   "execution_count": 19,
   "metadata": {},
   "outputs": [
    {
     "data": {
      "text/plain": [
       "f (generic function with 2 methods)"
      ]
     },
     "execution_count": 19,
     "metadata": {},
     "output_type": "execute_result"
    }
   ],
   "source": [
    "f(x) = x^2 - 2"
   ]
  },
  {
   "cell_type": "code",
   "execution_count": 20,
   "metadata": {
    "collapsed": true
   },
   "outputs": [],
   "source": [
    "ceros=[]\n",
    "for i in a\n",
    "    raiz = fzero(f, collect(i))\n",
    "    push!(ceros, raiz)\n",
    "end"
   ]
  },
  {
   "cell_type": "markdown",
   "metadata": {},
   "source": [
    "La raíces son"
   ]
  },
  {
   "cell_type": "code",
   "execution_count": 21,
   "metadata": {},
   "outputs": [
    {
     "data": {
      "text/plain": [
       "2-element Array{Any,1}:\n",
       " -1.41421\n",
       "  1.41421"
      ]
     },
     "execution_count": 21,
     "metadata": {},
     "output_type": "execute_result"
    }
   ],
   "source": [
    "ceros"
   ]
  },
  {
   "cell_type": "markdown",
   "metadata": {},
   "source": [
    "### Dibujar intervalos"
   ]
  },
  {
   "cell_type": "markdown",
   "metadata": {},
   "source": [
    "Podemos representar la acción de una función `f` sobre un intervalo $X = [a, b]$ dibujando $X$ en el eje $x$ y $f(X)$ en el eje $y$. \n",
    "\n",
    "**[3]** (i) Define una función `dibujar` que acepta `f`, `a` y `b` como argumentos, y quien dibuja el intervalo. Pista:\n",
    "\n",
    "```\n",
    "Pkg.add(\"Plots\")  # instala un paquete: una sola vez\n",
    "Pkg.add(\"GR\")\n",
    "\n",
    "using Plots  # carga las definiciones de un paquete: cada vez\n",
    "gr()  \n",
    "\n",
    "plot(xs, ys, seriestype=:shape)\n",
    "```\n",
    "donde `xs` y `ys` son arreglos de las coordenadas `x` y `y` del objeto (polígono).\n",
    "\n",
    "(ii) Dibuja el rango de la función `f` usando este método. ¿Cómo se puede mejorar el resultado para que se vea más cercano a la gráfica de la función `f`, es decir el conjunto $\\{(x, f(x)): x \\in X\\}$."
   ]
  },
  {
   "cell_type": "markdown",
   "metadata": {},
   "source": [
    "Definamos las coordenadas de rectángulo que contine la gráfica de $f$"
   ]
  },
  {
   "cell_type": "code",
   "execution_count": 22,
   "metadata": {},
   "outputs": [
    {
     "data": {
      "text/plain": [
       "(-2, 14)"
      ]
     },
     "execution_count": 22,
     "metadata": {},
     "output_type": "execute_result"
    }
   ],
   "source": [
    "xs = (-3, 4) \n",
    "ys = f(-3, 4)"
   ]
  },
  {
   "cell_type": "markdown",
   "metadata": {},
   "source": [
    "Revisamos el contenido de las variables; `xs` y `ys`"
   ]
  },
  {
   "cell_type": "code",
   "execution_count": 23,
   "metadata": {},
   "outputs": [
    {
     "data": {
      "text/plain": [
       "(-3, 4)"
      ]
     },
     "execution_count": 23,
     "metadata": {},
     "output_type": "execute_result"
    }
   ],
   "source": [
    "xs"
   ]
  },
  {
   "cell_type": "code",
   "execution_count": 24,
   "metadata": {},
   "outputs": [
    {
     "data": {
      "text/plain": [
       "(-2, 14)"
      ]
     },
     "execution_count": 24,
     "metadata": {},
     "output_type": "execute_result"
    }
   ],
   "source": [
    "ys"
   ]
  },
  {
   "cell_type": "code",
   "execution_count": 25,
   "metadata": {},
   "outputs": [
    {
     "data": {
      "text/plain": [
       "2-element Array{Int64,1}:\n",
       " -2\n",
       " 14"
      ]
     },
     "execution_count": 25,
     "metadata": {},
     "output_type": "execute_result"
    }
   ],
   "source": [
    "[ys...]"
   ]
  },
  {
   "cell_type": "code",
   "execution_count": 26,
   "metadata": {},
   "outputs": [
    {
     "ename": "LoadError",
     "evalue": "\u001b[91mCouldn't process recipe args: (Int64, Int64, Int64, Int64)\u001b[39m",
     "output_type": "error",
     "traceback": [
      "\u001b[91mCouldn't process recipe args: (Int64, Int64, Int64, Int64)\u001b[39m",
      "",
      "Stacktrace:",
      " [1] \u001b[1mmacro expansion\u001b[22m\u001b[22m at \u001b[1m/Users/pedro/.julia/v0.6/Plots/src/series.jl:266\u001b[22m\u001b[22m [inlined]",
      " [2] \u001b[1mapply_recipe\u001b[22m\u001b[22m\u001b[1m(\u001b[22m\u001b[22m::Dict{Symbol,Any}, ::Int64, ::Int64, ::Int64, ::Int64\u001b[1m)\u001b[22m\u001b[22m at \u001b[1m/Users/pedro/.julia/v0.6/RecipesBase/src/RecipesBase.jl:287\u001b[22m\u001b[22m",
      " [3] \u001b[1m_process_userrecipes\u001b[22m\u001b[22m\u001b[1m(\u001b[22m\u001b[22m::Plots.Plot{Plots.GRBackend}, ::Dict{Symbol,Any}, ::NTuple{4,Int64}\u001b[1m)\u001b[22m\u001b[22m at \u001b[1m/Users/pedro/.julia/v0.6/Plots/src/pipeline.jl:81\u001b[22m\u001b[22m",
      " [4] \u001b[1m_plot!\u001b[22m\u001b[22m\u001b[1m(\u001b[22m\u001b[22m::Plots.Plot{Plots.GRBackend}, ::Dict{Symbol,Any}, ::NTuple{4,Int64}\u001b[1m)\u001b[22m\u001b[22m at \u001b[1m/Users/pedro/.julia/v0.6/Plots/src/plot.jl:177\u001b[22m\u001b[22m",
      " [5] \u001b[1m#plot#176\u001b[22m\u001b[22m\u001b[1m(\u001b[22m\u001b[22m::Array{Any,1}, ::Function, ::Int64, ::Vararg{Int64,N} where N\u001b[1m)\u001b[22m\u001b[22m at \u001b[1m/Users/pedro/.julia/v0.6/Plots/src/plot.jl:58\u001b[22m\u001b[22m",
      " [6] \u001b[1m(::RecipesBase.#kw##plot)\u001b[22m\u001b[22m\u001b[1m(\u001b[22m\u001b[22m::Array{Any,1}, ::RecipesBase.#plot, ::Int64, ::Int64, ::Vararg{Int64,N} where N\u001b[1m)\u001b[22m\u001b[22m at \u001b[1m./<missing>:0\u001b[22m\u001b[22m",
      " [7] \u001b[1minclude_string\u001b[22m\u001b[22m\u001b[1m(\u001b[22m\u001b[22m::String, ::String\u001b[1m)\u001b[22m\u001b[22m at \u001b[1m./loading.jl:522\u001b[22m\u001b[22m"
     ]
    }
   ],
   "source": [
    "plot(xs..., ys..., seriestype=:shape)"
   ]
  },
  {
   "cell_type": "markdown",
   "metadata": {},
   "source": [
    "Definamos una función que me genera un rectangulo, luego grafiquemos el rectángulo y la grafíca de $f$"
   ]
  },
  {
   "cell_type": "code",
   "execution_count": 27,
   "metadata": {},
   "outputs": [
    {
     "data": {
      "text/html": [
       "<?xml version=\"1.0\" encoding=\"utf-8\"?>\n",
       "<svg xmlns=\"http://www.w3.org/2000/svg\" xmlns:xlink=\"http://www.w3.org/1999/xlink\" width=\"600\" height=\"400\" viewBox=\"0 0 600 400\">\n",
       "<defs>\n",
       "  <clipPath id=\"clip8100\">\n",
       "    <rect x=\"0\" y=\"0\" width=\"600\" height=\"400\"/>\n",
       "  </clipPath>\n",
       "</defs>\n",
       "<polygon clip-path=\"url(#clip8100)\" points=\"\n",
       "0,400 600,400 600,0 0,0 \n",
       "  \" fill=\"#ffffff\" fill-opacity=\"1\"/>\n",
       "<defs>\n",
       "  <clipPath id=\"clip8101\">\n",
       "    <rect x=\"120\" y=\"0\" width=\"421\" height=\"400\"/>\n",
       "  </clipPath>\n",
       "</defs>\n",
       "<polygon clip-path=\"url(#clip8100)\" points=\"\n",
       "29.2591,375.813 580.315,375.813 580.315,11.811 29.2591,11.811 \n",
       "  \" fill=\"#ffffff\" fill-opacity=\"1\"/>\n",
       "<defs>\n",
       "  <clipPath id=\"clip8102\">\n",
       "    <rect x=\"29\" y=\"11\" width=\"552\" height=\"365\"/>\n",
       "  </clipPath>\n",
       "</defs>\n",
       "<polyline clip-path=\"url(#clip8102)\" style=\"stroke:#000000; stroke-width:0.5; stroke-opacity:0.1; fill:none\" points=\"\n",
       "  29.2591,375.813 29.2591,11.811 \n",
       "  \"/>\n",
       "<polyline clip-path=\"url(#clip8102)\" style=\"stroke:#000000; stroke-width:0.5; stroke-opacity:0.1; fill:none\" points=\"\n",
       "  151.716,375.813 151.716,11.811 \n",
       "  \"/>\n",
       "<polyline clip-path=\"url(#clip8102)\" style=\"stroke:#000000; stroke-width:0.5; stroke-opacity:0.1; fill:none\" points=\"\n",
       "  274.173,375.813 274.173,11.811 \n",
       "  \"/>\n",
       "<polyline clip-path=\"url(#clip8102)\" style=\"stroke:#000000; stroke-width:0.5; stroke-opacity:0.1; fill:none\" points=\"\n",
       "  396.63,375.813 396.63,11.811 \n",
       "  \"/>\n",
       "<polyline clip-path=\"url(#clip8102)\" style=\"stroke:#000000; stroke-width:0.5; stroke-opacity:0.1; fill:none\" points=\"\n",
       "  519.087,375.813 519.087,11.811 \n",
       "  \"/>\n",
       "<polyline clip-path=\"url(#clip8102)\" style=\"stroke:#000000; stroke-width:0.5; stroke-opacity:0.1; fill:none\" points=\"\n",
       "  29.2591,375.813 580.315,375.813 \n",
       "  \"/>\n",
       "<polyline clip-path=\"url(#clip8102)\" style=\"stroke:#000000; stroke-width:0.5; stroke-opacity:0.1; fill:none\" points=\"\n",
       "  29.2591,315.146 580.315,315.146 \n",
       "  \"/>\n",
       "<polyline clip-path=\"url(#clip8102)\" style=\"stroke:#000000; stroke-width:0.5; stroke-opacity:0.1; fill:none\" points=\"\n",
       "  29.2591,254.479 580.315,254.479 \n",
       "  \"/>\n",
       "<polyline clip-path=\"url(#clip8102)\" style=\"stroke:#000000; stroke-width:0.5; stroke-opacity:0.1; fill:none\" points=\"\n",
       "  29.2591,193.812 580.315,193.812 \n",
       "  \"/>\n",
       "<polyline clip-path=\"url(#clip8102)\" style=\"stroke:#000000; stroke-width:0.5; stroke-opacity:0.1; fill:none\" points=\"\n",
       "  29.2591,133.145 580.315,133.145 \n",
       "  \"/>\n",
       "<polyline clip-path=\"url(#clip8102)\" style=\"stroke:#000000; stroke-width:0.5; stroke-opacity:0.1; fill:none\" points=\"\n",
       "  29.2591,72.4781 580.315,72.4781 \n",
       "  \"/>\n",
       "<polyline clip-path=\"url(#clip8102)\" style=\"stroke:#000000; stroke-width:0.5; stroke-opacity:0.1; fill:none\" points=\"\n",
       "  29.2591,11.811 580.315,11.811 \n",
       "  \"/>\n",
       "<polyline clip-path=\"url(#clip8100)\" style=\"stroke:#000000; stroke-width:1; stroke-opacity:1; fill:none\" points=\"\n",
       "  29.2591,375.813 580.315,375.813 \n",
       "  \"/>\n",
       "<polyline clip-path=\"url(#clip8100)\" style=\"stroke:#000000; stroke-width:1; stroke-opacity:1; fill:none\" points=\"\n",
       "  29.2591,375.813 29.2591,11.811 \n",
       "  \"/>\n",
       "<polyline clip-path=\"url(#clip8100)\" style=\"stroke:#000000; stroke-width:1; stroke-opacity:1; fill:none\" points=\"\n",
       "  29.2591,375.813 29.2591,370.353 \n",
       "  \"/>\n",
       "<polyline clip-path=\"url(#clip8100)\" style=\"stroke:#000000; stroke-width:1; stroke-opacity:1; fill:none\" points=\"\n",
       "  151.716,375.813 151.716,370.353 \n",
       "  \"/>\n",
       "<polyline clip-path=\"url(#clip8100)\" style=\"stroke:#000000; stroke-width:1; stroke-opacity:1; fill:none\" points=\"\n",
       "  274.173,375.813 274.173,370.353 \n",
       "  \"/>\n",
       "<polyline clip-path=\"url(#clip8100)\" style=\"stroke:#000000; stroke-width:1; stroke-opacity:1; fill:none\" points=\"\n",
       "  396.63,375.813 396.63,370.353 \n",
       "  \"/>\n",
       "<polyline clip-path=\"url(#clip8100)\" style=\"stroke:#000000; stroke-width:1; stroke-opacity:1; fill:none\" points=\"\n",
       "  519.087,375.813 519.087,370.353 \n",
       "  \"/>\n",
       "<polyline clip-path=\"url(#clip8100)\" style=\"stroke:#000000; stroke-width:1; stroke-opacity:1; fill:none\" points=\"\n",
       "  29.2591,375.813 37.525,375.813 \n",
       "  \"/>\n",
       "<polyline clip-path=\"url(#clip8100)\" style=\"stroke:#000000; stroke-width:1; stroke-opacity:1; fill:none\" points=\"\n",
       "  29.2591,315.146 37.525,315.146 \n",
       "  \"/>\n",
       "<polyline clip-path=\"url(#clip8100)\" style=\"stroke:#000000; stroke-width:1; stroke-opacity:1; fill:none\" points=\"\n",
       "  29.2591,254.479 37.525,254.479 \n",
       "  \"/>\n",
       "<polyline clip-path=\"url(#clip8100)\" style=\"stroke:#000000; stroke-width:1; stroke-opacity:1; fill:none\" points=\"\n",
       "  29.2591,193.812 37.525,193.812 \n",
       "  \"/>\n",
       "<polyline clip-path=\"url(#clip8100)\" style=\"stroke:#000000; stroke-width:1; stroke-opacity:1; fill:none\" points=\"\n",
       "  29.2591,133.145 37.525,133.145 \n",
       "  \"/>\n",
       "<polyline clip-path=\"url(#clip8100)\" style=\"stroke:#000000; stroke-width:1; stroke-opacity:1; fill:none\" points=\"\n",
       "  29.2591,72.4781 37.525,72.4781 \n",
       "  \"/>\n",
       "<polyline clip-path=\"url(#clip8100)\" style=\"stroke:#000000; stroke-width:1; stroke-opacity:1; fill:none\" points=\"\n",
       "  29.2591,11.811 37.525,11.811 \n",
       "  \"/>\n",
       "<g clip-path=\"url(#clip8100)\">\n",
       "<text style=\"fill:#000000; fill-opacity:1; font-family:Arial,Helvetica Neue,Helvetica,sans-serif; font-size:12; text-anchor:middle;\" transform=\"rotate(0, 29.2591, 389.613)\" x=\"29.2591\" y=\"389.613\">-4</text>\n",
       "</g>\n",
       "<g clip-path=\"url(#clip8100)\">\n",
       "<text style=\"fill:#000000; fill-opacity:1; font-family:Arial,Helvetica Neue,Helvetica,sans-serif; font-size:12; text-anchor:middle;\" transform=\"rotate(0, 151.716, 389.613)\" x=\"151.716\" y=\"389.613\">-2</text>\n",
       "</g>\n",
       "<g clip-path=\"url(#clip8100)\">\n",
       "<text style=\"fill:#000000; fill-opacity:1; font-family:Arial,Helvetica Neue,Helvetica,sans-serif; font-size:12; text-anchor:middle;\" transform=\"rotate(0, 274.173, 389.613)\" x=\"274.173\" y=\"389.613\">0</text>\n",
       "</g>\n",
       "<g clip-path=\"url(#clip8100)\">\n",
       "<text style=\"fill:#000000; fill-opacity:1; font-family:Arial,Helvetica Neue,Helvetica,sans-serif; font-size:12; text-anchor:middle;\" transform=\"rotate(0, 396.63, 389.613)\" x=\"396.63\" y=\"389.613\">2</text>\n",
       "</g>\n",
       "<g clip-path=\"url(#clip8100)\">\n",
       "<text style=\"fill:#000000; fill-opacity:1; font-family:Arial,Helvetica Neue,Helvetica,sans-serif; font-size:12; text-anchor:middle;\" transform=\"rotate(0, 519.087, 389.613)\" x=\"519.087\" y=\"389.613\">4</text>\n",
       "</g>\n",
       "<g clip-path=\"url(#clip8100)\">\n",
       "<text style=\"fill:#000000; fill-opacity:1; font-family:Arial,Helvetica Neue,Helvetica,sans-serif; font-size:12; text-anchor:end;\" transform=\"rotate(0, 23.2591, 380.313)\" x=\"23.2591\" y=\"380.313\">-3</text>\n",
       "</g>\n",
       "<g clip-path=\"url(#clip8100)\">\n",
       "<text style=\"fill:#000000; fill-opacity:1; font-family:Arial,Helvetica Neue,Helvetica,sans-serif; font-size:12; text-anchor:end;\" transform=\"rotate(0, 23.2591, 319.646)\" x=\"23.2591\" y=\"319.646\">0</text>\n",
       "</g>\n",
       "<g clip-path=\"url(#clip8100)\">\n",
       "<text style=\"fill:#000000; fill-opacity:1; font-family:Arial,Helvetica Neue,Helvetica,sans-serif; font-size:12; text-anchor:end;\" transform=\"rotate(0, 23.2591, 258.979)\" x=\"23.2591\" y=\"258.979\">3</text>\n",
       "</g>\n",
       "<g clip-path=\"url(#clip8100)\">\n",
       "<text style=\"fill:#000000; fill-opacity:1; font-family:Arial,Helvetica Neue,Helvetica,sans-serif; font-size:12; text-anchor:end;\" transform=\"rotate(0, 23.2591, 198.312)\" x=\"23.2591\" y=\"198.312\">6</text>\n",
       "</g>\n",
       "<g clip-path=\"url(#clip8100)\">\n",
       "<text style=\"fill:#000000; fill-opacity:1; font-family:Arial,Helvetica Neue,Helvetica,sans-serif; font-size:12; text-anchor:end;\" transform=\"rotate(0, 23.2591, 137.645)\" x=\"23.2591\" y=\"137.645\">9</text>\n",
       "</g>\n",
       "<g clip-path=\"url(#clip8100)\">\n",
       "<text style=\"fill:#000000; fill-opacity:1; font-family:Arial,Helvetica Neue,Helvetica,sans-serif; font-size:12; text-anchor:end;\" transform=\"rotate(0, 23.2591, 76.9781)\" x=\"23.2591\" y=\"76.9781\">12</text>\n",
       "</g>\n",
       "<g clip-path=\"url(#clip8100)\">\n",
       "<text style=\"fill:#000000; fill-opacity:1; font-family:Arial,Helvetica Neue,Helvetica,sans-serif; font-size:12; text-anchor:end;\" transform=\"rotate(0, 23.2591, 16.311)\" x=\"23.2591\" y=\"16.311\">15</text>\n",
       "</g>\n",
       "<polyline clip-path=\"url(#clip8102)\" style=\"stroke:#009af9; stroke-width:1; stroke-opacity:1; fill:none\" points=\"\n",
       "  90.4876,173.59 94.8168,182.068 99.1461,190.344 103.475,198.418 107.805,206.289 112.134,213.958 116.463,221.425 120.793,228.69 125.122,235.753 129.451,242.613 \n",
       "  133.78,249.272 138.11,255.728 142.439,261.981 146.768,268.033 151.098,273.883 155.427,279.53 159.756,284.975 164.085,290.218 168.415,295.258 172.744,300.097 \n",
       "  177.073,304.733 181.402,309.167 185.732,313.399 190.061,317.428 194.39,321.256 198.72,324.881 203.049,328.304 207.378,331.525 211.707,334.543 216.037,337.36 \n",
       "  220.366,339.974 224.695,342.386 229.025,344.596 233.354,346.603 237.683,348.409 242.012,350.012 246.342,351.413 250.671,352.612 255,353.608 259.33,354.403 \n",
       "  263.659,354.995 267.988,355.385 272.317,355.573 276.647,355.558 280.976,355.341 285.305,354.923 289.635,354.302 293.964,353.478 298.293,352.453 302.622,351.225 \n",
       "  306.952,349.795 311.281,348.163 315.61,346.329 319.94,344.292 324.269,342.054 328.598,339.613 332.927,336.97 337.257,334.125 341.586,331.077 345.915,327.827 \n",
       "  350.245,324.375 354.574,320.721 358.903,316.865 363.232,312.807 367.562,308.546 371.891,304.083 376.22,299.418 380.549,294.551 384.879,289.481 389.208,284.209 \n",
       "  393.537,278.735 397.867,273.059 402.196,267.181 406.525,261.1 410.854,254.818 415.184,248.333 419.513,241.646 423.842,234.756 428.172,227.665 432.501,220.371 \n",
       "  436.83,212.875 441.159,205.177 445.489,197.277 449.818,189.174 454.147,180.869 458.477,172.362 462.806,163.653 467.135,154.742 471.464,145.628 475.794,136.312 \n",
       "  480.123,126.794 484.452,117.074 488.782,107.152 493.111,97.0272 497.44,86.7004 501.769,76.1714 506.099,65.4402 510.428,54.5068 514.757,43.3712 519.087,32.0334 \n",
       "  \n",
       "  \"/>\n",
       "<polygon clip-path=\"url(#clip8102)\" points=\"\n",
       "90.4876,355.591 519.087,355.591 519.087,32.0334 90.4876,32.0334 90.4876,355.591 \n",
       "  \" fill=\"#e26f46\" fill-opacity=\"0.5\"/>\n",
       "<polyline clip-path=\"url(#clip8102)\" style=\"stroke:#000000; stroke-width:1; stroke-opacity:0.5; fill:none\" points=\"\n",
       "  90.4876,355.591 519.087,355.591 519.087,32.0334 90.4876,32.0334 90.4876,355.591 \n",
       "  \"/>\n",
       "<polygon clip-path=\"url(#clip8100)\" points=\"\n",
       "395.601,78.051 562.315,78.051 562.315,32.691 395.601,32.691 \n",
       "  \" fill=\"#ffffff\" fill-opacity=\"1\"/>\n",
       "<polyline clip-path=\"url(#clip8100)\" style=\"stroke:#000000; stroke-width:1; stroke-opacity:1; fill:none\" points=\"\n",
       "  395.601,78.051 562.315,78.051 562.315,32.691 395.601,32.691 395.601,78.051 \n",
       "  \"/>\n",
       "<polyline clip-path=\"url(#clip8100)\" style=\"stroke:#009af9; stroke-width:1; stroke-opacity:1; fill:none\" points=\"\n",
       "  401.601,47.811 437.601,47.811 \n",
       "  \"/>\n",
       "<g clip-path=\"url(#clip8100)\">\n",
       "<text style=\"fill:#000000; fill-opacity:1; font-family:Arial,Helvetica Neue,Helvetica,sans-serif; font-size:12; text-anchor:start;\" transform=\"rotate(0, 443.601, 52.311)\" x=\"443.601\" y=\"52.311\">x^2 - 2</text>\n",
       "</g>\n",
       "<polygon clip-path=\"url(#clip8100)\" points=\"\n",
       "401.601,68.979 437.601,68.979 437.601,56.883 401.601,56.883 401.601,68.979 \n",
       "  \" fill=\"#e26f46\" fill-opacity=\"0.5\"/>\n",
       "<polyline clip-path=\"url(#clip8100)\" style=\"stroke:#000000; stroke-width:1; stroke-opacity:0.5; fill:none\" points=\"\n",
       "  401.601,68.979 437.601,68.979 437.601,56.883 401.601,56.883 401.601,68.979 \n",
       "  \"/>\n",
       "<g clip-path=\"url(#clip8100)\">\n",
       "<text style=\"fill:#000000; fill-opacity:1; font-family:Arial,Helvetica Neue,Helvetica,sans-serif; font-size:12; text-anchor:start;\" transform=\"rotate(0, 443.601, 67.431)\" x=\"443.601\" y=\"67.431\">Imagen del intervalo</text>\n",
       "</g>\n",
       "</svg>\n"
      ]
     },
     "execution_count": 27,
     "metadata": {},
     "output_type": "execute_result"
    }
   ],
   "source": [
    "rectangle(w, h, x, y) = Shape(x + [0,w,w,0], y + [0,0,h,h])\n",
    "xx = linspace(-3, 4, 100); yy = xx.^2 .- 2 \n",
    "plot(xx, yy, xlims=(-4, 5),  ylims=(-3, 15), label=\"x^2 - 2\")\n",
    "plot!(rectangle(xs[2]-xs[1], ys[2]-ys[1], xs[1],ys[1]), label=\"Imagen del intervalo\", alpha=0.5)\n",
    "\n"
   ]
  },
  {
   "cell_type": "markdown",
   "metadata": {},
   "source": [
    "### Multiplicar por una constante"
   ]
  },
  {
   "cell_type": "markdown",
   "metadata": {},
   "source": [
    "Para poder trabajar con la función $g$, debemos poder restar multiplicar un intervalo por una constante, y restar dos intervalos."
   ]
  },
  {
   "cell_type": "markdown",
   "metadata": {},
   "source": [
    "**[4]** (i) Define una función `multiplicar_constante` que multiplica un intervalo $[a, b]$ por una constante $c$.\n",
    "\n",
    "(ii) ¿Qué ocurre si $c < 0$? Agrega este caso.\n",
    "\n",
    "(iii) ¿Cuál otro caso puede ocurrir?\n",
    "\n",
    "(iii) Escribe algunos tests y compara con tu vecino."
   ]
  },
  {
   "cell_type": "markdown",
   "metadata": {},
   "source": [
    "Definamos la función `multiplicar_constante`"
   ]
  },
  {
   "cell_type": "code",
   "execution_count": 28,
   "metadata": {},
   "outputs": [
    {
     "data": {
      "text/plain": [
       "multiplicar_constante (generic function with 1 method)"
      ]
     },
     "execution_count": 28,
     "metadata": {},
     "output_type": "execute_result"
    }
   ],
   "source": [
    "function multiplicar_constante(a, b, c)\n",
    "        return (c*a, c*b)\n",
    "end"
   ]
  },
  {
   "cell_type": "markdown",
   "metadata": {},
   "source": [
    "Veamos que pasa si la constante es negativa"
   ]
  },
  {
   "cell_type": "code",
   "execution_count": 29,
   "metadata": {},
   "outputs": [
    {
     "data": {
      "text/plain": [
       "(-1.0, -3.0)"
      ]
     },
     "execution_count": 29,
     "metadata": {},
     "output_type": "execute_result"
    }
   ],
   "source": [
    "multiplicar_constante(3, 9, -1/3)"
   ]
  },
  {
   "cell_type": "markdown",
   "metadata": {},
   "source": [
    "Vemos que el orden del intervalo está invertido, entonces para arreglar esto implementemos el caso de invertir la posición de los extremos para $c<0$"
   ]
  },
  {
   "cell_type": "code",
   "execution_count": 30,
   "metadata": {},
   "outputs": [
    {
     "data": {
      "text/plain": [
       "multiplicar_constante (generic function with 1 method)"
      ]
     },
     "execution_count": 30,
     "metadata": {},
     "output_type": "execute_result"
    }
   ],
   "source": [
    "function multiplicar_constante(a, b, c)\n",
    "    if c >= 0    \n",
    "        return (c*a, c*b)\n",
    "    else\n",
    "        return (c*b, c*a)\n",
    "    end\n",
    "end"
   ]
  },
  {
   "cell_type": "code",
   "execution_count": 31,
   "metadata": {},
   "outputs": [
    {
     "data": {
      "text/plain": [
       "(-3.0, -1.0)"
      ]
     },
     "execution_count": 31,
     "metadata": {},
     "output_type": "execute_result"
    }
   ],
   "source": [
    "multiplicar_constante(3, 9, -1/3)"
   ]
  },
  {
   "cell_type": "code",
   "execution_count": 32,
   "metadata": {},
   "outputs": [
    {
     "data": {
      "text/plain": [
       "(0, 0)"
      ]
     },
     "execution_count": 32,
     "metadata": {},
     "output_type": "execute_result"
    }
   ],
   "source": [
    "multiplicar_constante(3, 9, 0)"
   ]
  },
  {
   "cell_type": "code",
   "execution_count": 33,
   "metadata": {},
   "outputs": [
    {
     "name": "stdout",
     "output_type": "stream",
     "text": [
      "\u001b[37mTests de sqr: \u001b[39m\u001b[1m\u001b[91mTest Failed\n",
      "\u001b[39m\u001b[22m  Expression: multiplicar_constante(3, 5, 1 / 5) == (3 / 5, 1)\n",
      "   Evaluated: (0.6000000000000001, 1.0) == (0.6, 1)\n",
      "Stacktrace:\n",
      " [1] \u001b[1mmacro expansion\u001b[22m\u001b[22m at \u001b[1m./In[33]:4\u001b[22m\u001b[22m [inlined]\n",
      " [2] \u001b[1mmacro expansion\u001b[22m\u001b[22m at \u001b[1m./test.jl:860\u001b[22m\u001b[22m [inlined]\n",
      " [3] \u001b[1manonymous\u001b[22m\u001b[22m at \u001b[1m./<missing>:?\u001b[22m\u001b[22m\n",
      "\u001b[1m\u001b[37mTest Summary: | \u001b[39m\u001b[22m\u001b[1m\u001b[32mPass  \u001b[39m\u001b[22m\u001b[1m\u001b[91mFail  \u001b[39m\u001b[22m\u001b[1m\u001b[36mTotal\u001b[39m\u001b[22m\n",
      "Tests de sqr  | \u001b[32m   3  \u001b[39m\u001b[91m   1  \u001b[39m\u001b[36m    4\u001b[39m\n"
     ]
    },
    {
     "ename": "LoadError",
     "evalue": "\u001b[91mSome tests did not pass: 3 passed, 1 failed, 0 errored, 0 broken.\u001b[39m",
     "output_type": "error",
     "traceback": [
      "\u001b[91mSome tests did not pass: 3 passed, 1 failed, 0 errored, 0 broken.\u001b[39m",
      "",
      "Stacktrace:",
      " [1] \u001b[1mfinish\u001b[22m\u001b[22m\u001b[1m(\u001b[22m\u001b[22m::Base.Test.DefaultTestSet\u001b[1m)\u001b[22m\u001b[22m at \u001b[1m./test.jl:668\u001b[22m\u001b[22m",
      " [2] \u001b[1mmacro expansion\u001b[22m\u001b[22m at \u001b[1m./test.jl:867\u001b[22m\u001b[22m [inlined]",
      " [3] \u001b[1manonymous\u001b[22m\u001b[22m at \u001b[1m./<missing>:?\u001b[22m\u001b[22m",
      " [4] \u001b[1minclude_string\u001b[22m\u001b[22m\u001b[1m(\u001b[22m\u001b[22m::String, ::String\u001b[1m)\u001b[22m\u001b[22m at \u001b[1m./loading.jl:522\u001b[22m\u001b[22m"
     ]
    }
   ],
   "source": [
    "@testset \"Tests de sqr\" begin\n",
    "    @test multiplicar_constante(3, 5, 5) == (15, 25)\n",
    "    @test multiplicar_constante(3, 5, -5) == (-25, -15)\n",
    "    @test multiplicar_constante(3, 5, 1/5) == (3/5, 1)\n",
    "    @test multiplicar_constante(3, 5, 0) == (0, 0)\n",
    "end"
   ]
  },
  {
   "cell_type": "markdown",
   "metadata": {},
   "source": [
    "Vemos que el tercer `test` falla debio al error de redondeo que se comete al calcular $\\frac{5}{3}$"
   ]
  },
  {
   "cell_type": "markdown",
   "metadata": {},
   "source": [
    "### Suma"
   ]
  },
  {
   "cell_type": "markdown",
   "metadata": {},
   "source": [
    "**[5]** Ahora debemos pensar en la suma $[a, b] + [c, d]$ de dos intervalos $[a, b]$ y $[c, d]$.\n",
    "\n",
    "(i) Generalizando la idea de la función de una variable, ¿cómo podemos definir esta suma?\n",
    "\n",
    "(ii) ¿Cuál es el valor mínimo posible de la suma? ¿Cuál es el valor máximo?\n",
    "\n",
    "(iii) ¿Son posibles todos los valores entre el mínimo y el máximo? \n",
    "\n",
    "(iv) Implementa esto en una función `sumar`.\n",
    "\n",
    "(v) Escribe tests y compara con tu vecino."
   ]
  },
  {
   "cell_type": "markdown",
   "metadata": {},
   "source": [
    "* Podemos generalizar la suma de intervalos como $[a,b] + [c,d] : = [a + c,b + d]$\n",
    "* El valor mínimo de la suma se obtendrá si uno de los sumandos es el intervalo vacío, es decir, [0,0] por lo que; $[a,b] + [0,0] = [a ,b]$ y el máximo valor de la suma sería; el intervalo $[a + c,b + d]$\n",
    "* Consideremos un dos internalosa ajemos $[a,b]$ y $[c,d]$, ahora consideremos $a \\leq x \\leq b$ y $c \\leq y \\leq d$ $\\Rightarrow$ $a+c \\leq x+ y  \\leq b+d$ \n",
    "\n",
    "Por lo tanto definamos la suma de intervalos"
   ]
  },
  {
   "cell_type": "code",
   "execution_count": 34,
   "metadata": {},
   "outputs": [
    {
     "data": {
      "text/plain": [
       "sumar (generic function with 1 method)"
      ]
     },
     "execution_count": 34,
     "metadata": {},
     "output_type": "execute_result"
    }
   ],
   "source": [
    "function sumar(A, B)\n",
    "    return (A[1]+B[1], A[2]+B[2])\n",
    "end"
   ]
  },
  {
   "cell_type": "markdown",
   "metadata": {},
   "source": [
    "Realicemos algunos `test`"
   ]
  },
  {
   "cell_type": "code",
   "execution_count": 35,
   "metadata": {},
   "outputs": [
    {
     "data": {
      "text/plain": [
       "\u001b[1m\u001b[32mTest Passed\u001b[39m\u001b[22m"
      ]
     },
     "execution_count": 35,
     "metadata": {},
     "output_type": "execute_result"
    }
   ],
   "source": [
    "@test sumar([1, 2], [4, 6]) == (5, 8)\n",
    "@test sumar([1, 5], [4, 6]) == (5, 11)"
   ]
  },
  {
   "cell_type": "markdown",
   "metadata": {},
   "source": [
    "### Resta"
   ]
  },
  {
   "cell_type": "markdown",
   "metadata": {},
   "source": [
    "**[6]** (i) Utiliza los resultados de [3] y [4] para definir la resta de dos intervalos $[a, b]$ y $[c, d]$. \n",
    "\n",
    "(ii) ¿Cómo se puede escribir matemáticamente el resultado?"
   ]
  },
  {
   "cell_type": "code",
   "execution_count": 36,
   "metadata": {},
   "outputs": [
    {
     "data": {
      "text/plain": [
       "restar (generic function with 1 method)"
      ]
     },
     "execution_count": 36,
     "metadata": {},
     "output_type": "execute_result"
    }
   ],
   "source": [
    "function restar(A, B)\n",
    "    return (A[1]-B[2], A[2]-B[1])\n",
    "#Arreglar la resta\n",
    "end\n"
   ]
  },
  {
   "cell_type": "markdown",
   "metadata": {},
   "source": [
    "**[7]** (i) Define una función `g` para calcular el rango de la función $g(x) = x^2 - 2x$ sobre un intervalo [a, b]$.\n",
    "\n",
    "(ii) Calcula el rango de $g$ sobre el intervalo $[0, 2]$. \n",
    "\n",
    "(iii) Compara este resultado con el resultado analítico para el rango. ¿Concuerdan?\n",
    "\n",
    "(iv) Para entender este resultado, conocido como el \"problema de la dependencia\", calcula $[0, 1] - [0, 1]$.\n",
    "\n",
    "(v) ¿Cómo podríamos mejorar la sobreestimación del rango?"
   ]
  },
  {
   "cell_type": "code",
   "execution_count": 37,
   "metadata": {},
   "outputs": [
    {
     "data": {
      "text/plain": [
       "rangoG (generic function with 1 method)"
      ]
     },
     "execution_count": 37,
     "metadata": {},
     "output_type": "execute_result"
    }
   ],
   "source": [
    "function rangoG(a, b)\n",
    "    aux1 = sqr(a, b)\n",
    "    aux2 = multiplicar_constante(a, b, 2)\n",
    "    return restar(aux1, aux2)\n",
    "end"
   ]
  },
  {
   "cell_type": "code",
   "execution_count": 38,
   "metadata": {},
   "outputs": [
    {
     "data": {
      "text/plain": [
       "(-4, 4)"
      ]
     },
     "execution_count": 38,
     "metadata": {},
     "output_type": "execute_result"
    }
   ],
   "source": [
    "xG = (0, 2)\n",
    "yG = rangoG(0, 2)"
   ]
  },
  {
   "cell_type": "code",
   "execution_count": 39,
   "metadata": {},
   "outputs": [
    {
     "data": {
      "text/html": [
       "<?xml version=\"1.0\" encoding=\"utf-8\"?>\n",
       "<svg xmlns=\"http://www.w3.org/2000/svg\" xmlns:xlink=\"http://www.w3.org/1999/xlink\" width=\"600\" height=\"400\" viewBox=\"0 0 600 400\">\n",
       "<defs>\n",
       "  <clipPath id=\"clip8300\">\n",
       "    <rect x=\"0\" y=\"0\" width=\"600\" height=\"400\"/>\n",
       "  </clipPath>\n",
       "</defs>\n",
       "<polygon clip-path=\"url(#clip8300)\" points=\"\n",
       "0,400 600,400 600,0 0,0 \n",
       "  \" fill=\"#ffffff\" fill-opacity=\"1\"/>\n",
       "<defs>\n",
       "  <clipPath id=\"clip8301\">\n",
       "    <rect x=\"120\" y=\"0\" width=\"421\" height=\"400\"/>\n",
       "  </clipPath>\n",
       "</defs>\n",
       "<polygon clip-path=\"url(#clip8300)\" points=\"\n",
       "29.2591,375.813 580.315,375.813 580.315,11.811 29.2591,11.811 \n",
       "  \" fill=\"#ffffff\" fill-opacity=\"1\"/>\n",
       "<defs>\n",
       "  <clipPath id=\"clip8302\">\n",
       "    <rect x=\"29\" y=\"11\" width=\"552\" height=\"365\"/>\n",
       "  </clipPath>\n",
       "</defs>\n",
       "<polyline clip-path=\"url(#clip8302)\" style=\"stroke:#000000; stroke-width:0.5; stroke-opacity:0.1; fill:none\" points=\"\n",
       "  29.2591,375.813 29.2591,11.811 \n",
       "  \"/>\n",
       "<polyline clip-path=\"url(#clip8302)\" style=\"stroke:#000000; stroke-width:0.5; stroke-opacity:0.1; fill:none\" points=\"\n",
       "  151.716,375.813 151.716,11.811 \n",
       "  \"/>\n",
       "<polyline clip-path=\"url(#clip8302)\" style=\"stroke:#000000; stroke-width:0.5; stroke-opacity:0.1; fill:none\" points=\"\n",
       "  274.173,375.813 274.173,11.811 \n",
       "  \"/>\n",
       "<polyline clip-path=\"url(#clip8302)\" style=\"stroke:#000000; stroke-width:0.5; stroke-opacity:0.1; fill:none\" points=\"\n",
       "  396.63,375.813 396.63,11.811 \n",
       "  \"/>\n",
       "<polyline clip-path=\"url(#clip8302)\" style=\"stroke:#000000; stroke-width:0.5; stroke-opacity:0.1; fill:none\" points=\"\n",
       "  519.087,375.813 519.087,11.811 \n",
       "  \"/>\n",
       "<polyline clip-path=\"url(#clip8302)\" style=\"stroke:#000000; stroke-width:0.5; stroke-opacity:0.1; fill:none\" points=\"\n",
       "  29.2591,375.813 580.315,375.813 \n",
       "  \"/>\n",
       "<polyline clip-path=\"url(#clip8302)\" style=\"stroke:#000000; stroke-width:0.5; stroke-opacity:0.1; fill:none\" points=\"\n",
       "  29.2591,315.146 580.315,315.146 \n",
       "  \"/>\n",
       "<polyline clip-path=\"url(#clip8302)\" style=\"stroke:#000000; stroke-width:0.5; stroke-opacity:0.1; fill:none\" points=\"\n",
       "  29.2591,254.479 580.315,254.479 \n",
       "  \"/>\n",
       "<polyline clip-path=\"url(#clip8302)\" style=\"stroke:#000000; stroke-width:0.5; stroke-opacity:0.1; fill:none\" points=\"\n",
       "  29.2591,193.812 580.315,193.812 \n",
       "  \"/>\n",
       "<polyline clip-path=\"url(#clip8302)\" style=\"stroke:#000000; stroke-width:0.5; stroke-opacity:0.1; fill:none\" points=\"\n",
       "  29.2591,133.145 580.315,133.145 \n",
       "  \"/>\n",
       "<polyline clip-path=\"url(#clip8302)\" style=\"stroke:#000000; stroke-width:0.5; stroke-opacity:0.1; fill:none\" points=\"\n",
       "  29.2591,72.4781 580.315,72.4781 \n",
       "  \"/>\n",
       "<polyline clip-path=\"url(#clip8302)\" style=\"stroke:#000000; stroke-width:0.5; stroke-opacity:0.1; fill:none\" points=\"\n",
       "  29.2591,11.811 580.315,11.811 \n",
       "  \"/>\n",
       "<polyline clip-path=\"url(#clip8300)\" style=\"stroke:#000000; stroke-width:1; stroke-opacity:1; fill:none\" points=\"\n",
       "  29.2591,375.813 580.315,375.813 \n",
       "  \"/>\n",
       "<polyline clip-path=\"url(#clip8300)\" style=\"stroke:#000000; stroke-width:1; stroke-opacity:1; fill:none\" points=\"\n",
       "  29.2591,375.813 29.2591,11.811 \n",
       "  \"/>\n",
       "<polyline clip-path=\"url(#clip8300)\" style=\"stroke:#000000; stroke-width:1; stroke-opacity:1; fill:none\" points=\"\n",
       "  29.2591,375.813 29.2591,370.353 \n",
       "  \"/>\n",
       "<polyline clip-path=\"url(#clip8300)\" style=\"stroke:#000000; stroke-width:1; stroke-opacity:1; fill:none\" points=\"\n",
       "  151.716,375.813 151.716,370.353 \n",
       "  \"/>\n",
       "<polyline clip-path=\"url(#clip8300)\" style=\"stroke:#000000; stroke-width:1; stroke-opacity:1; fill:none\" points=\"\n",
       "  274.173,375.813 274.173,370.353 \n",
       "  \"/>\n",
       "<polyline clip-path=\"url(#clip8300)\" style=\"stroke:#000000; stroke-width:1; stroke-opacity:1; fill:none\" points=\"\n",
       "  396.63,375.813 396.63,370.353 \n",
       "  \"/>\n",
       "<polyline clip-path=\"url(#clip8300)\" style=\"stroke:#000000; stroke-width:1; stroke-opacity:1; fill:none\" points=\"\n",
       "  519.087,375.813 519.087,370.353 \n",
       "  \"/>\n",
       "<polyline clip-path=\"url(#clip8300)\" style=\"stroke:#000000; stroke-width:1; stroke-opacity:1; fill:none\" points=\"\n",
       "  29.2591,375.813 37.525,375.813 \n",
       "  \"/>\n",
       "<polyline clip-path=\"url(#clip8300)\" style=\"stroke:#000000; stroke-width:1; stroke-opacity:1; fill:none\" points=\"\n",
       "  29.2591,315.146 37.525,315.146 \n",
       "  \"/>\n",
       "<polyline clip-path=\"url(#clip8300)\" style=\"stroke:#000000; stroke-width:1; stroke-opacity:1; fill:none\" points=\"\n",
       "  29.2591,254.479 37.525,254.479 \n",
       "  \"/>\n",
       "<polyline clip-path=\"url(#clip8300)\" style=\"stroke:#000000; stroke-width:1; stroke-opacity:1; fill:none\" points=\"\n",
       "  29.2591,193.812 37.525,193.812 \n",
       "  \"/>\n",
       "<polyline clip-path=\"url(#clip8300)\" style=\"stroke:#000000; stroke-width:1; stroke-opacity:1; fill:none\" points=\"\n",
       "  29.2591,133.145 37.525,133.145 \n",
       "  \"/>\n",
       "<polyline clip-path=\"url(#clip8300)\" style=\"stroke:#000000; stroke-width:1; stroke-opacity:1; fill:none\" points=\"\n",
       "  29.2591,72.4781 37.525,72.4781 \n",
       "  \"/>\n",
       "<polyline clip-path=\"url(#clip8300)\" style=\"stroke:#000000; stroke-width:1; stroke-opacity:1; fill:none\" points=\"\n",
       "  29.2591,11.811 37.525,11.811 \n",
       "  \"/>\n",
       "<g clip-path=\"url(#clip8300)\">\n",
       "<text style=\"fill:#000000; fill-opacity:1; font-family:Arial,Helvetica Neue,Helvetica,sans-serif; font-size:12; text-anchor:middle;\" transform=\"rotate(0, 29.2591, 389.613)\" x=\"29.2591\" y=\"389.613\">-4</text>\n",
       "</g>\n",
       "<g clip-path=\"url(#clip8300)\">\n",
       "<text style=\"fill:#000000; fill-opacity:1; font-family:Arial,Helvetica Neue,Helvetica,sans-serif; font-size:12; text-anchor:middle;\" transform=\"rotate(0, 151.716, 389.613)\" x=\"151.716\" y=\"389.613\">-2</text>\n",
       "</g>\n",
       "<g clip-path=\"url(#clip8300)\">\n",
       "<text style=\"fill:#000000; fill-opacity:1; font-family:Arial,Helvetica Neue,Helvetica,sans-serif; font-size:12; text-anchor:middle;\" transform=\"rotate(0, 274.173, 389.613)\" x=\"274.173\" y=\"389.613\">0</text>\n",
       "</g>\n",
       "<g clip-path=\"url(#clip8300)\">\n",
       "<text style=\"fill:#000000; fill-opacity:1; font-family:Arial,Helvetica Neue,Helvetica,sans-serif; font-size:12; text-anchor:middle;\" transform=\"rotate(0, 396.63, 389.613)\" x=\"396.63\" y=\"389.613\">2</text>\n",
       "</g>\n",
       "<g clip-path=\"url(#clip8300)\">\n",
       "<text style=\"fill:#000000; fill-opacity:1; font-family:Arial,Helvetica Neue,Helvetica,sans-serif; font-size:12; text-anchor:middle;\" transform=\"rotate(0, 519.087, 389.613)\" x=\"519.087\" y=\"389.613\">4</text>\n",
       "</g>\n",
       "<g clip-path=\"url(#clip8300)\">\n",
       "<text style=\"fill:#000000; fill-opacity:1; font-family:Arial,Helvetica Neue,Helvetica,sans-serif; font-size:12; text-anchor:end;\" transform=\"rotate(0, 23.2591, 380.313)\" x=\"23.2591\" y=\"380.313\">-3</text>\n",
       "</g>\n",
       "<g clip-path=\"url(#clip8300)\">\n",
       "<text style=\"fill:#000000; fill-opacity:1; font-family:Arial,Helvetica Neue,Helvetica,sans-serif; font-size:12; text-anchor:end;\" transform=\"rotate(0, 23.2591, 319.646)\" x=\"23.2591\" y=\"319.646\">0</text>\n",
       "</g>\n",
       "<g clip-path=\"url(#clip8300)\">\n",
       "<text style=\"fill:#000000; fill-opacity:1; font-family:Arial,Helvetica Neue,Helvetica,sans-serif; font-size:12; text-anchor:end;\" transform=\"rotate(0, 23.2591, 258.979)\" x=\"23.2591\" y=\"258.979\">3</text>\n",
       "</g>\n",
       "<g clip-path=\"url(#clip8300)\">\n",
       "<text style=\"fill:#000000; fill-opacity:1; font-family:Arial,Helvetica Neue,Helvetica,sans-serif; font-size:12; text-anchor:end;\" transform=\"rotate(0, 23.2591, 198.312)\" x=\"23.2591\" y=\"198.312\">6</text>\n",
       "</g>\n",
       "<g clip-path=\"url(#clip8300)\">\n",
       "<text style=\"fill:#000000; fill-opacity:1; font-family:Arial,Helvetica Neue,Helvetica,sans-serif; font-size:12; text-anchor:end;\" transform=\"rotate(0, 23.2591, 137.645)\" x=\"23.2591\" y=\"137.645\">9</text>\n",
       "</g>\n",
       "<g clip-path=\"url(#clip8300)\">\n",
       "<text style=\"fill:#000000; fill-opacity:1; font-family:Arial,Helvetica Neue,Helvetica,sans-serif; font-size:12; text-anchor:end;\" transform=\"rotate(0, 23.2591, 76.9781)\" x=\"23.2591\" y=\"76.9781\">12</text>\n",
       "</g>\n",
       "<g clip-path=\"url(#clip8300)\">\n",
       "<text style=\"fill:#000000; fill-opacity:1; font-family:Arial,Helvetica Neue,Helvetica,sans-serif; font-size:12; text-anchor:end;\" transform=\"rotate(0, 23.2591, 16.311)\" x=\"23.2591\" y=\"16.311\">15</text>\n",
       "</g>\n",
       "<polygon clip-path=\"url(#clip8302)\" points=\"\n",
       "274.173,396.036 396.63,396.036 396.63,234.257 274.173,234.257 274.173,396.036 \n",
       "  \" fill=\"#009af9\" fill-opacity=\"1\"/>\n",
       "<polyline clip-path=\"url(#clip8302)\" style=\"stroke:#000000; stroke-width:1; stroke-opacity:1; fill:none\" points=\"\n",
       "  274.173,396.036 396.63,396.036 396.63,234.257 274.173,234.257 274.173,396.036 \n",
       "  \"/>\n",
       "<polyline clip-path=\"url(#clip8302)\" style=\"stroke:#e26f46; stroke-width:1; stroke-opacity:1; fill:none\" points=\"\n",
       "  274.173,315.146 275.41,315.955 276.647,316.747 277.884,317.523 279.121,318.283 280.358,319.025 281.594,319.752 282.831,320.461 284.068,321.155 285.305,321.831 \n",
       "  286.542,322.492 287.779,323.135 289.016,323.763 290.253,324.373 291.49,324.968 292.727,325.545 293.964,326.107 295.201,326.651 296.438,327.18 297.675,327.691 \n",
       "  298.912,328.186 300.149,328.665 301.385,329.127 302.622,329.573 303.859,330.002 305.096,330.415 306.333,330.811 307.57,331.191 308.807,331.554 310.044,331.9 \n",
       "  311.281,332.23 312.518,332.544 313.755,332.841 314.992,333.122 316.229,333.386 317.466,333.634 318.703,333.865 319.94,334.079 321.176,334.277 322.413,334.459 \n",
       "  323.65,334.624 324.887,334.772 326.124,334.904 327.361,335.02 328.598,335.119 329.835,335.202 331.072,335.268 332.309,335.317 333.546,335.35 334.783,335.367 \n",
       "  336.02,335.367 337.257,335.35 338.494,335.317 339.731,335.268 340.967,335.202 342.204,335.119 343.441,335.02 344.678,334.904 345.915,334.772 347.152,334.624 \n",
       "  348.389,334.459 349.626,334.277 350.863,334.079 352.1,333.865 353.337,333.634 354.574,333.386 355.811,333.122 357.048,332.841 358.285,332.544 359.522,332.23 \n",
       "  360.758,331.9 361.995,331.554 363.232,331.191 364.469,330.811 365.706,330.415 366.943,330.002 368.18,329.573 369.417,329.127 370.654,328.665 371.891,328.186 \n",
       "  373.128,327.691 374.365,327.18 375.602,326.651 376.839,326.107 378.076,325.545 379.313,324.968 380.549,324.373 381.786,323.763 383.023,323.135 384.26,322.492 \n",
       "  385.497,321.831 386.734,321.155 387.971,320.461 389.208,319.752 390.445,319.025 391.682,318.283 392.919,317.523 394.156,316.747 395.393,315.955 396.63,315.146 \n",
       "  \n",
       "  \"/>\n",
       "<polygon clip-path=\"url(#clip8300)\" points=\"\n",
       "489.799,78.051 562.315,78.051 562.315,32.691 489.799,32.691 \n",
       "  \" fill=\"#ffffff\" fill-opacity=\"1\"/>\n",
       "<polyline clip-path=\"url(#clip8300)\" style=\"stroke:#000000; stroke-width:1; stroke-opacity:1; fill:none\" points=\"\n",
       "  489.799,78.051 562.315,78.051 562.315,32.691 489.799,32.691 489.799,78.051 \n",
       "  \"/>\n",
       "<polygon clip-path=\"url(#clip8300)\" points=\"\n",
       "495.799,53.859 531.799,53.859 531.799,41.763 495.799,41.763 495.799,53.859 \n",
       "  \" fill=\"#009af9\" fill-opacity=\"1\"/>\n",
       "<polyline clip-path=\"url(#clip8300)\" style=\"stroke:#000000; stroke-width:1; stroke-opacity:1; fill:none\" points=\"\n",
       "  495.799,53.859 531.799,53.859 531.799,41.763 495.799,41.763 495.799,53.859 \n",
       "  \"/>\n",
       "<g clip-path=\"url(#clip8300)\">\n",
       "<text style=\"fill:#000000; fill-opacity:1; font-family:Arial,Helvetica Neue,Helvetica,sans-serif; font-size:12; text-anchor:start;\" transform=\"rotate(0, 537.799, 52.311)\" x=\"537.799\" y=\"52.311\">y1</text>\n",
       "</g>\n",
       "<polyline clip-path=\"url(#clip8300)\" style=\"stroke:#e26f46; stroke-width:1; stroke-opacity:1; fill:none\" points=\"\n",
       "  495.799,62.931 531.799,62.931 \n",
       "  \"/>\n",
       "<g clip-path=\"url(#clip8300)\">\n",
       "<text style=\"fill:#000000; fill-opacity:1; font-family:Arial,Helvetica Neue,Helvetica,sans-serif; font-size:12; text-anchor:start;\" transform=\"rotate(0, 537.799, 67.431)\" x=\"537.799\" y=\"67.431\">y2</text>\n",
       "</g>\n",
       "</svg>\n"
      ]
     },
     "execution_count": 39,
     "metadata": {},
     "output_type": "execute_result"
    }
   ],
   "source": [
    "rectangle(w, h, x, y) = Shape(x + [0,w,w,0], y + [0,0,h,h])\n",
    "plot(rectangle(xG[2]-xG[1], yG[2]-yG[1], xG[1],yG[1]))\n",
    "xx = linspace(0, 2, 100); yy = xx.^2 .- 2 .*xx \n",
    "plot!(xx, yy, xlims=(-4,5),  ylims=(-3,15) )"
   ]
  },
  {
   "cell_type": "code",
   "execution_count": 40,
   "metadata": {},
   "outputs": [
    {
     "data": {
      "text/plain": [
       "intervalos (generic function with 1 method)"
      ]
     },
     "execution_count": 40,
     "metadata": {},
     "output_type": "execute_result"
    }
   ],
   "source": [
    "function intervalos(f, a, b, p) # los agumentos son la función son; los\n",
    "                                # eztremos y los puntos de las partición\n",
    "    xG = []\n",
    "    yG = []\n",
    "    i = a\n",
    "    j = (b-a)/p\n",
    "    while i < b \n",
    "        push!(xG , (i, i+j))\n",
    "        push!(yG , f(i, i+j))\n",
    "        i = i + j\n",
    "    end\n",
    "p = plot()\n",
    "for s in 1:length(yG)\n",
    "    plot!(rectangle(xG[s][2]-xG[s][1], yG[s][2]-yG[s][1], xG[s][1], yG[s][1]), color=\"blue\", alpha=0.25)\n",
    "end\n",
    "p\n",
    "xx = linspace(0, 2, 100); yy = xx.^2 .- 2 .*xx \n",
    "plot!(xx, yy, color=\"red\", leg=false, ylims=(-2,2), xlims=(0,2))\n",
    "end"
   ]
  },
  {
   "cell_type": "code",
   "execution_count": 41,
   "metadata": {},
   "outputs": [
    {
     "data": {
      "text/html": [
       "<?xml version=\"1.0\" encoding=\"utf-8\"?>\n",
       "<svg xmlns=\"http://www.w3.org/2000/svg\" xmlns:xlink=\"http://www.w3.org/1999/xlink\" width=\"600\" height=\"400\" viewBox=\"0 0 600 400\">\n",
       "<defs>\n",
       "  <clipPath id=\"clip8500\">\n",
       "    <rect x=\"0\" y=\"0\" width=\"600\" height=\"400\"/>\n",
       "  </clipPath>\n",
       "</defs>\n",
       "<polygon clip-path=\"url(#clip8500)\" points=\"\n",
       "0,400 600,400 600,0 0,0 \n",
       "  \" fill=\"#ffffff\" fill-opacity=\"1\"/>\n",
       "<defs>\n",
       "  <clipPath id=\"clip8501\">\n",
       "    <rect x=\"120\" y=\"0\" width=\"421\" height=\"400\"/>\n",
       "  </clipPath>\n",
       "</defs>\n",
       "<polygon clip-path=\"url(#clip8500)\" points=\"\n",
       "29.2591,375.813 580.315,375.813 580.315,11.811 29.2591,11.811 \n",
       "  \" fill=\"#ffffff\" fill-opacity=\"1\"/>\n",
       "<defs>\n",
       "  <clipPath id=\"clip8502\">\n",
       "    <rect x=\"29\" y=\"11\" width=\"552\" height=\"365\"/>\n",
       "  </clipPath>\n",
       "</defs>\n",
       "<polyline clip-path=\"url(#clip8502)\" style=\"stroke:#000000; stroke-width:0.5; stroke-opacity:0.1; fill:none\" points=\"\n",
       "  29.2591,375.813 29.2591,11.811 \n",
       "  \"/>\n",
       "<polyline clip-path=\"url(#clip8502)\" style=\"stroke:#000000; stroke-width:0.5; stroke-opacity:0.1; fill:none\" points=\"\n",
       "  167.023,375.813 167.023,11.811 \n",
       "  \"/>\n",
       "<polyline clip-path=\"url(#clip8502)\" style=\"stroke:#000000; stroke-width:0.5; stroke-opacity:0.1; fill:none\" points=\"\n",
       "  304.787,375.813 304.787,11.811 \n",
       "  \"/>\n",
       "<polyline clip-path=\"url(#clip8502)\" style=\"stroke:#000000; stroke-width:0.5; stroke-opacity:0.1; fill:none\" points=\"\n",
       "  442.551,375.813 442.551,11.811 \n",
       "  \"/>\n",
       "<polyline clip-path=\"url(#clip8502)\" style=\"stroke:#000000; stroke-width:0.5; stroke-opacity:0.1; fill:none\" points=\"\n",
       "  580.315,375.813 580.315,11.811 \n",
       "  \"/>\n",
       "<polyline clip-path=\"url(#clip8502)\" style=\"stroke:#000000; stroke-width:0.5; stroke-opacity:0.1; fill:none\" points=\"\n",
       "  29.2591,375.813 580.315,375.813 \n",
       "  \"/>\n",
       "<polyline clip-path=\"url(#clip8502)\" style=\"stroke:#000000; stroke-width:0.5; stroke-opacity:0.1; fill:none\" points=\"\n",
       "  29.2591,284.813 580.315,284.813 \n",
       "  \"/>\n",
       "<polyline clip-path=\"url(#clip8502)\" style=\"stroke:#000000; stroke-width:0.5; stroke-opacity:0.1; fill:none\" points=\"\n",
       "  29.2591,193.812 580.315,193.812 \n",
       "  \"/>\n",
       "<polyline clip-path=\"url(#clip8502)\" style=\"stroke:#000000; stroke-width:0.5; stroke-opacity:0.1; fill:none\" points=\"\n",
       "  29.2591,102.812 580.315,102.812 \n",
       "  \"/>\n",
       "<polyline clip-path=\"url(#clip8502)\" style=\"stroke:#000000; stroke-width:0.5; stroke-opacity:0.1; fill:none\" points=\"\n",
       "  29.2591,11.811 580.315,11.811 \n",
       "  \"/>\n",
       "<polyline clip-path=\"url(#clip8500)\" style=\"stroke:#000000; stroke-width:1; stroke-opacity:1; fill:none\" points=\"\n",
       "  29.2591,375.813 580.315,375.813 \n",
       "  \"/>\n",
       "<polyline clip-path=\"url(#clip8500)\" style=\"stroke:#000000; stroke-width:1; stroke-opacity:1; fill:none\" points=\"\n",
       "  29.2591,375.813 29.2591,11.811 \n",
       "  \"/>\n",
       "<polyline clip-path=\"url(#clip8500)\" style=\"stroke:#000000; stroke-width:1; stroke-opacity:1; fill:none\" points=\"\n",
       "  29.2591,375.813 29.2591,370.353 \n",
       "  \"/>\n",
       "<polyline clip-path=\"url(#clip8500)\" style=\"stroke:#000000; stroke-width:1; stroke-opacity:1; fill:none\" points=\"\n",
       "  167.023,375.813 167.023,370.353 \n",
       "  \"/>\n",
       "<polyline clip-path=\"url(#clip8500)\" style=\"stroke:#000000; stroke-width:1; stroke-opacity:1; fill:none\" points=\"\n",
       "  304.787,375.813 304.787,370.353 \n",
       "  \"/>\n",
       "<polyline clip-path=\"url(#clip8500)\" style=\"stroke:#000000; stroke-width:1; stroke-opacity:1; fill:none\" points=\"\n",
       "  442.551,375.813 442.551,370.353 \n",
       "  \"/>\n",
       "<polyline clip-path=\"url(#clip8500)\" style=\"stroke:#000000; stroke-width:1; stroke-opacity:1; fill:none\" points=\"\n",
       "  580.315,375.813 580.315,370.353 \n",
       "  \"/>\n",
       "<polyline clip-path=\"url(#clip8500)\" style=\"stroke:#000000; stroke-width:1; stroke-opacity:1; fill:none\" points=\"\n",
       "  29.2591,375.813 37.525,375.813 \n",
       "  \"/>\n",
       "<polyline clip-path=\"url(#clip8500)\" style=\"stroke:#000000; stroke-width:1; stroke-opacity:1; fill:none\" points=\"\n",
       "  29.2591,284.813 37.525,284.813 \n",
       "  \"/>\n",
       "<polyline clip-path=\"url(#clip8500)\" style=\"stroke:#000000; stroke-width:1; stroke-opacity:1; fill:none\" points=\"\n",
       "  29.2591,193.812 37.525,193.812 \n",
       "  \"/>\n",
       "<polyline clip-path=\"url(#clip8500)\" style=\"stroke:#000000; stroke-width:1; stroke-opacity:1; fill:none\" points=\"\n",
       "  29.2591,102.812 37.525,102.812 \n",
       "  \"/>\n",
       "<polyline clip-path=\"url(#clip8500)\" style=\"stroke:#000000; stroke-width:1; stroke-opacity:1; fill:none\" points=\"\n",
       "  29.2591,11.811 37.525,11.811 \n",
       "  \"/>\n",
       "<g clip-path=\"url(#clip8500)\">\n",
       "<text style=\"fill:#000000; fill-opacity:1; font-family:Arial,Helvetica Neue,Helvetica,sans-serif; font-size:12; text-anchor:middle;\" transform=\"rotate(0, 29.2591, 389.613)\" x=\"29.2591\" y=\"389.613\">0.0</text>\n",
       "</g>\n",
       "<g clip-path=\"url(#clip8500)\">\n",
       "<text style=\"fill:#000000; fill-opacity:1; font-family:Arial,Helvetica Neue,Helvetica,sans-serif; font-size:12; text-anchor:middle;\" transform=\"rotate(0, 167.023, 389.613)\" x=\"167.023\" y=\"389.613\">0.5</text>\n",
       "</g>\n",
       "<g clip-path=\"url(#clip8500)\">\n",
       "<text style=\"fill:#000000; fill-opacity:1; font-family:Arial,Helvetica Neue,Helvetica,sans-serif; font-size:12; text-anchor:middle;\" transform=\"rotate(0, 304.787, 389.613)\" x=\"304.787\" y=\"389.613\">1.0</text>\n",
       "</g>\n",
       "<g clip-path=\"url(#clip8500)\">\n",
       "<text style=\"fill:#000000; fill-opacity:1; font-family:Arial,Helvetica Neue,Helvetica,sans-serif; font-size:12; text-anchor:middle;\" transform=\"rotate(0, 442.551, 389.613)\" x=\"442.551\" y=\"389.613\">1.5</text>\n",
       "</g>\n",
       "<g clip-path=\"url(#clip8500)\">\n",
       "<text style=\"fill:#000000; fill-opacity:1; font-family:Arial,Helvetica Neue,Helvetica,sans-serif; font-size:12; text-anchor:middle;\" transform=\"rotate(0, 580.315, 389.613)\" x=\"580.315\" y=\"389.613\">2.0</text>\n",
       "</g>\n",
       "<g clip-path=\"url(#clip8500)\">\n",
       "<text style=\"fill:#000000; fill-opacity:1; font-family:Arial,Helvetica Neue,Helvetica,sans-serif; font-size:12; text-anchor:end;\" transform=\"rotate(0, 23.2591, 380.313)\" x=\"23.2591\" y=\"380.313\">-2</text>\n",
       "</g>\n",
       "<g clip-path=\"url(#clip8500)\">\n",
       "<text style=\"fill:#000000; fill-opacity:1; font-family:Arial,Helvetica Neue,Helvetica,sans-serif; font-size:12; text-anchor:end;\" transform=\"rotate(0, 23.2591, 289.313)\" x=\"23.2591\" y=\"289.313\">-1</text>\n",
       "</g>\n",
       "<g clip-path=\"url(#clip8500)\">\n",
       "<text style=\"fill:#000000; fill-opacity:1; font-family:Arial,Helvetica Neue,Helvetica,sans-serif; font-size:12; text-anchor:end;\" transform=\"rotate(0, 23.2591, 198.312)\" x=\"23.2591\" y=\"198.312\">0</text>\n",
       "</g>\n",
       "<g clip-path=\"url(#clip8500)\">\n",
       "<text style=\"fill:#000000; fill-opacity:1; font-family:Arial,Helvetica Neue,Helvetica,sans-serif; font-size:12; text-anchor:end;\" transform=\"rotate(0, 23.2591, 107.312)\" x=\"23.2591\" y=\"107.312\">1</text>\n",
       "</g>\n",
       "<g clip-path=\"url(#clip8500)\">\n",
       "<text style=\"fill:#000000; fill-opacity:1; font-family:Arial,Helvetica Neue,Helvetica,sans-serif; font-size:12; text-anchor:end;\" transform=\"rotate(0, 23.2591, 16.311)\" x=\"23.2591\" y=\"16.311\">2</text>\n",
       "</g>\n",
       "<polygon clip-path=\"url(#clip8502)\" points=\"\n",
       "29.2591,197.452 34.7697,197.452 34.7697,193.776 29.2591,193.776 29.2591,197.452 \n",
       "  \" fill=\"#0000ff\" fill-opacity=\"0.25\"/>\n",
       "<polyline clip-path=\"url(#clip8502)\" style=\"stroke:#000000; stroke-width:1; stroke-opacity:0.25; fill:none\" points=\"\n",
       "  29.2591,197.452 34.7697,197.452 34.7697,193.776 29.2591,193.776 29.2591,197.452 \n",
       "  \"/>\n",
       "<polygon clip-path=\"url(#clip8502)\" points=\"\n",
       "34.7697,201.056 40.2803,201.056 40.2803,197.307 34.7697,197.307 34.7697,201.056 \n",
       "  \" fill=\"#0000ff\" fill-opacity=\"0.25\"/>\n",
       "<polyline clip-path=\"url(#clip8502)\" style=\"stroke:#000000; stroke-width:1; stroke-opacity:0.25; fill:none\" points=\"\n",
       "  34.7697,201.056 40.2803,201.056 40.2803,197.307 34.7697,197.307 34.7697,201.056 \n",
       "  \"/>\n",
       "<polygon clip-path=\"url(#clip8502)\" points=\"\n",
       "40.2803,204.587 45.7908,204.587 45.7908,200.765 40.2803,200.765 40.2803,204.587 \n",
       "  \" fill=\"#0000ff\" fill-opacity=\"0.25\"/>\n",
       "<polyline clip-path=\"url(#clip8502)\" style=\"stroke:#000000; stroke-width:1; stroke-opacity:0.25; fill:none\" points=\"\n",
       "  40.2803,204.587 45.7908,204.587 45.7908,200.765 40.2803,200.765 40.2803,204.587 \n",
       "  \"/>\n",
       "<polygon clip-path=\"url(#clip8502)\" points=\"\n",
       "45.7908,208.045 51.3014,208.045 51.3014,204.15 45.7908,204.15 45.7908,208.045 \n",
       "  \" fill=\"#0000ff\" fill-opacity=\"0.25\"/>\n",
       "<polyline clip-path=\"url(#clip8502)\" style=\"stroke:#000000; stroke-width:1; stroke-opacity:0.25; fill:none\" points=\"\n",
       "  45.7908,208.045 51.3014,208.045 51.3014,204.15 45.7908,204.15 45.7908,208.045 \n",
       "  \"/>\n",
       "<polygon clip-path=\"url(#clip8502)\" points=\"\n",
       "51.3014,211.43 56.8119,211.43 56.8119,207.462 51.3014,207.462 51.3014,211.43 \n",
       "  \" fill=\"#0000ff\" fill-opacity=\"0.25\"/>\n",
       "<polyline clip-path=\"url(#clip8502)\" style=\"stroke:#000000; stroke-width:1; stroke-opacity:0.25; fill:none\" points=\"\n",
       "  51.3014,211.43 56.8119,211.43 56.8119,207.462 51.3014,207.462 51.3014,211.43 \n",
       "  \"/>\n",
       "<polygon clip-path=\"url(#clip8502)\" points=\"\n",
       "56.8119,214.742 62.3225,214.742 62.3225,210.702 56.8119,210.702 56.8119,214.742 \n",
       "  \" fill=\"#0000ff\" fill-opacity=\"0.25\"/>\n",
       "<polyline clip-path=\"url(#clip8502)\" style=\"stroke:#000000; stroke-width:1; stroke-opacity:0.25; fill:none\" points=\"\n",
       "  56.8119,214.742 62.3225,214.742 62.3225,210.702 56.8119,210.702 56.8119,214.742 \n",
       "  \"/>\n",
       "<polygon clip-path=\"url(#clip8502)\" points=\"\n",
       "62.3225,217.982 67.833,217.982 67.833,213.869 62.3225,213.869 62.3225,217.982 \n",
       "  \" fill=\"#0000ff\" fill-opacity=\"0.25\"/>\n",
       "<polyline clip-path=\"url(#clip8502)\" style=\"stroke:#000000; stroke-width:1; stroke-opacity:0.25; fill:none\" points=\"\n",
       "  62.3225,217.982 67.833,217.982 67.833,213.869 62.3225,213.869 62.3225,217.982 \n",
       "  \"/>\n",
       "<polygon clip-path=\"url(#clip8502)\" points=\"\n",
       "67.833,221.149 73.3436,221.149 73.3436,216.963 67.833,216.963 67.833,221.149 \n",
       "  \" fill=\"#0000ff\" fill-opacity=\"0.25\"/>\n",
       "<polyline clip-path=\"url(#clip8502)\" style=\"stroke:#000000; stroke-width:1; stroke-opacity:0.25; fill:none\" points=\"\n",
       "  67.833,221.149 73.3436,221.149 73.3436,216.963 67.833,216.963 67.833,221.149 \n",
       "  \"/>\n",
       "<polygon clip-path=\"url(#clip8502)\" points=\"\n",
       "73.3436,224.243 78.8542,224.243 78.8542,219.984 73.3436,219.984 73.3436,224.243 \n",
       "  \" fill=\"#0000ff\" fill-opacity=\"0.25\"/>\n",
       "<polyline clip-path=\"url(#clip8502)\" style=\"stroke:#000000; stroke-width:1; stroke-opacity:0.25; fill:none\" points=\"\n",
       "  73.3436,224.243 78.8542,224.243 78.8542,219.984 73.3436,219.984 73.3436,224.243 \n",
       "  \"/>\n",
       "<polygon clip-path=\"url(#clip8502)\" points=\"\n",
       "78.8542,227.264 84.3647,227.264 84.3647,222.932 78.8542,222.932 78.8542,227.264 \n",
       "  \" fill=\"#0000ff\" fill-opacity=\"0.25\"/>\n",
       "<polyline clip-path=\"url(#clip8502)\" style=\"stroke:#000000; stroke-width:1; stroke-opacity:0.25; fill:none\" points=\"\n",
       "  78.8542,227.264 84.3647,227.264 84.3647,222.932 78.8542,222.932 78.8542,227.264 \n",
       "  \"/>\n",
       "<polygon clip-path=\"url(#clip8502)\" points=\"\n",
       "84.3647,230.212 89.8753,230.212 89.8753,225.808 84.3647,225.808 84.3647,230.212 \n",
       "  \" fill=\"#0000ff\" fill-opacity=\"0.25\"/>\n",
       "<polyline clip-path=\"url(#clip8502)\" style=\"stroke:#000000; stroke-width:1; stroke-opacity:0.25; fill:none\" points=\"\n",
       "  84.3647,230.212 89.8753,230.212 89.8753,225.808 84.3647,225.808 84.3647,230.212 \n",
       "  \"/>\n",
       "<polygon clip-path=\"url(#clip8502)\" points=\"\n",
       "89.8753,233.088 95.3858,233.088 95.3858,228.611 89.8753,228.611 89.8753,233.088 \n",
       "  \" fill=\"#0000ff\" fill-opacity=\"0.25\"/>\n",
       "<polyline clip-path=\"url(#clip8502)\" style=\"stroke:#000000; stroke-width:1; stroke-opacity:0.25; fill:none\" points=\"\n",
       "  89.8753,233.088 95.3858,233.088 95.3858,228.611 89.8753,228.611 89.8753,233.088 \n",
       "  \"/>\n",
       "<polygon clip-path=\"url(#clip8502)\" points=\"\n",
       "95.3858,235.891 100.896,235.891 100.896,231.341 95.3858,231.341 95.3858,235.891 \n",
       "  \" fill=\"#0000ff\" fill-opacity=\"0.25\"/>\n",
       "<polyline clip-path=\"url(#clip8502)\" style=\"stroke:#000000; stroke-width:1; stroke-opacity:0.25; fill:none\" points=\"\n",
       "  95.3858,235.891 100.896,235.891 100.896,231.341 95.3858,231.341 95.3858,235.891 \n",
       "  \"/>\n",
       "<polygon clip-path=\"url(#clip8502)\" points=\"\n",
       "100.896,238.621 106.407,238.621 106.407,233.998 100.896,233.998 100.896,238.621 \n",
       "  \" fill=\"#0000ff\" fill-opacity=\"0.25\"/>\n",
       "<polyline clip-path=\"url(#clip8502)\" style=\"stroke:#000000; stroke-width:1; stroke-opacity:0.25; fill:none\" points=\"\n",
       "  100.896,238.621 106.407,238.621 106.407,233.998 100.896,233.998 100.896,238.621 \n",
       "  \"/>\n",
       "<polygon clip-path=\"url(#clip8502)\" points=\"\n",
       "106.407,241.278 111.918,241.278 111.918,236.583 106.407,236.583 106.407,241.278 \n",
       "  \" fill=\"#0000ff\" fill-opacity=\"0.25\"/>\n",
       "<polyline clip-path=\"url(#clip8502)\" style=\"stroke:#000000; stroke-width:1; stroke-opacity:0.25; fill:none\" points=\"\n",
       "  106.407,241.278 111.918,241.278 111.918,236.583 106.407,236.583 106.407,241.278 \n",
       "  \"/>\n",
       "<polygon clip-path=\"url(#clip8502)\" points=\"\n",
       "111.918,243.863 117.428,243.863 117.428,239.094 111.918,239.094 111.918,243.863 \n",
       "  \" fill=\"#0000ff\" fill-opacity=\"0.25\"/>\n",
       "<polyline clip-path=\"url(#clip8502)\" style=\"stroke:#000000; stroke-width:1; stroke-opacity:0.25; fill:none\" points=\"\n",
       "  111.918,243.863 117.428,243.863 117.428,239.094 111.918,239.094 111.918,243.863 \n",
       "  \"/>\n",
       "<polygon clip-path=\"url(#clip8502)\" points=\"\n",
       "117.428,246.374 122.939,246.374 122.939,241.533 117.428,241.533 117.428,246.374 \n",
       "  \" fill=\"#0000ff\" fill-opacity=\"0.25\"/>\n",
       "<polyline clip-path=\"url(#clip8502)\" style=\"stroke:#000000; stroke-width:1; stroke-opacity:0.25; fill:none\" points=\"\n",
       "  117.428,246.374 122.939,246.374 122.939,241.533 117.428,241.533 117.428,246.374 \n",
       "  \"/>\n",
       "<polygon clip-path=\"url(#clip8502)\" points=\"\n",
       "122.939,248.813 128.449,248.813 128.449,243.899 122.939,243.899 122.939,248.813 \n",
       "  \" fill=\"#0000ff\" fill-opacity=\"0.25\"/>\n",
       "<polyline clip-path=\"url(#clip8502)\" style=\"stroke:#000000; stroke-width:1; stroke-opacity:0.25; fill:none\" points=\"\n",
       "  122.939,248.813 128.449,248.813 128.449,243.899 122.939,243.899 122.939,248.813 \n",
       "  \"/>\n",
       "<polygon clip-path=\"url(#clip8502)\" points=\"\n",
       "128.449,251.179 133.96,251.179 133.96,246.192 128.449,246.192 128.449,251.179 \n",
       "  \" fill=\"#0000ff\" fill-opacity=\"0.25\"/>\n",
       "<polyline clip-path=\"url(#clip8502)\" style=\"stroke:#000000; stroke-width:1; stroke-opacity:0.25; fill:none\" points=\"\n",
       "  128.449,251.179 133.96,251.179 133.96,246.192 128.449,246.192 128.449,251.179 \n",
       "  \"/>\n",
       "<polygon clip-path=\"url(#clip8502)\" points=\"\n",
       "133.96,253.472 139.47,253.472 139.47,248.413 133.96,248.413 133.96,253.472 \n",
       "  \" fill=\"#0000ff\" fill-opacity=\"0.25\"/>\n",
       "<polyline clip-path=\"url(#clip8502)\" style=\"stroke:#000000; stroke-width:1; stroke-opacity:0.25; fill:none\" points=\"\n",
       "  133.96,253.472 139.47,253.472 139.47,248.413 133.96,248.413 133.96,253.472 \n",
       "  \"/>\n",
       "<polygon clip-path=\"url(#clip8502)\" points=\"\n",
       "139.47,255.693 144.981,255.693 144.981,250.56 139.47,250.56 139.47,255.693 \n",
       "  \" fill=\"#0000ff\" fill-opacity=\"0.25\"/>\n",
       "<polyline clip-path=\"url(#clip8502)\" style=\"stroke:#000000; stroke-width:1; stroke-opacity:0.25; fill:none\" points=\"\n",
       "  139.47,255.693 144.981,255.693 144.981,250.56 139.47,250.56 139.47,255.693 \n",
       "  \"/>\n",
       "<polygon clip-path=\"url(#clip8502)\" points=\"\n",
       "144.981,257.84 150.491,257.84 150.491,252.635 144.981,252.635 144.981,257.84 \n",
       "  \" fill=\"#0000ff\" fill-opacity=\"0.25\"/>\n",
       "<polyline clip-path=\"url(#clip8502)\" style=\"stroke:#000000; stroke-width:1; stroke-opacity:0.25; fill:none\" points=\"\n",
       "  144.981,257.84 150.491,257.84 150.491,252.635 144.981,252.635 144.981,257.84 \n",
       "  \"/>\n",
       "<polygon clip-path=\"url(#clip8502)\" points=\"\n",
       "150.491,259.915 156.002,259.915 156.002,254.637 150.491,254.637 150.491,259.915 \n",
       "  \" fill=\"#0000ff\" fill-opacity=\"0.25\"/>\n",
       "<polyline clip-path=\"url(#clip8502)\" style=\"stroke:#000000; stroke-width:1; stroke-opacity:0.25; fill:none\" points=\"\n",
       "  150.491,259.915 156.002,259.915 156.002,254.637 150.491,254.637 150.491,259.915 \n",
       "  \"/>\n",
       "<polygon clip-path=\"url(#clip8502)\" points=\"\n",
       "156.002,261.917 161.513,261.917 161.513,256.566 156.002,256.566 156.002,261.917 \n",
       "  \" fill=\"#0000ff\" fill-opacity=\"0.25\"/>\n",
       "<polyline clip-path=\"url(#clip8502)\" style=\"stroke:#000000; stroke-width:1; stroke-opacity:0.25; fill:none\" points=\"\n",
       "  156.002,261.917 161.513,261.917 161.513,256.566 156.002,256.566 156.002,261.917 \n",
       "  \"/>\n",
       "<polygon clip-path=\"url(#clip8502)\" points=\"\n",
       "161.513,263.846 167.023,263.846 167.023,258.423 161.513,258.423 161.513,263.846 \n",
       "  \" fill=\"#0000ff\" fill-opacity=\"0.25\"/>\n",
       "<polyline clip-path=\"url(#clip8502)\" style=\"stroke:#000000; stroke-width:1; stroke-opacity:0.25; fill:none\" points=\"\n",
       "  161.513,263.846 167.023,263.846 167.023,258.423 161.513,258.423 161.513,263.846 \n",
       "  \"/>\n",
       "<polygon clip-path=\"url(#clip8502)\" points=\"\n",
       "167.023,265.703 172.534,265.703 172.534,260.206 167.023,260.206 167.023,265.703 \n",
       "  \" fill=\"#0000ff\" fill-opacity=\"0.25\"/>\n",
       "<polyline clip-path=\"url(#clip8502)\" style=\"stroke:#000000; stroke-width:1; stroke-opacity:0.25; fill:none\" points=\"\n",
       "  167.023,265.703 172.534,265.703 172.534,260.206 167.023,260.206 167.023,265.703 \n",
       "  \"/>\n",
       "<polygon clip-path=\"url(#clip8502)\" points=\"\n",
       "172.534,267.486 178.044,267.486 178.044,261.917 172.534,261.917 172.534,267.486 \n",
       "  \" fill=\"#0000ff\" fill-opacity=\"0.25\"/>\n",
       "<polyline clip-path=\"url(#clip8502)\" style=\"stroke:#000000; stroke-width:1; stroke-opacity:0.25; fill:none\" points=\"\n",
       "  172.534,267.486 178.044,267.486 178.044,261.917 172.534,261.917 172.534,267.486 \n",
       "  \"/>\n",
       "<polygon clip-path=\"url(#clip8502)\" points=\"\n",
       "178.044,269.197 183.555,269.197 183.555,263.555 178.044,263.555 178.044,269.197 \n",
       "  \" fill=\"#0000ff\" fill-opacity=\"0.25\"/>\n",
       "<polyline clip-path=\"url(#clip8502)\" style=\"stroke:#000000; stroke-width:1; stroke-opacity:0.25; fill:none\" points=\"\n",
       "  178.044,269.197 183.555,269.197 183.555,263.555 178.044,263.555 178.044,269.197 \n",
       "  \"/>\n",
       "<polygon clip-path=\"url(#clip8502)\" points=\"\n",
       "183.555,270.835 189.065,270.835 189.065,265.12 183.555,265.12 183.555,270.835 \n",
       "  \" fill=\"#0000ff\" fill-opacity=\"0.25\"/>\n",
       "<polyline clip-path=\"url(#clip8502)\" style=\"stroke:#000000; stroke-width:1; stroke-opacity:0.25; fill:none\" points=\"\n",
       "  183.555,270.835 189.065,270.835 189.065,265.12 183.555,265.12 183.555,270.835 \n",
       "  \"/>\n",
       "<polygon clip-path=\"url(#clip8502)\" points=\"\n",
       "189.065,272.4 194.576,272.4 194.576,266.613 189.065,266.613 189.065,272.4 \n",
       "  \" fill=\"#0000ff\" fill-opacity=\"0.25\"/>\n",
       "<polyline clip-path=\"url(#clip8502)\" style=\"stroke:#000000; stroke-width:1; stroke-opacity:0.25; fill:none\" points=\"\n",
       "  189.065,272.4 194.576,272.4 194.576,266.613 189.065,266.613 189.065,272.4 \n",
       "  \"/>\n",
       "<polygon clip-path=\"url(#clip8502)\" points=\"\n",
       "194.576,273.893 200.086,273.893 200.086,268.032 194.576,268.032 194.576,273.893 \n",
       "  \" fill=\"#0000ff\" fill-opacity=\"0.25\"/>\n",
       "<polyline clip-path=\"url(#clip8502)\" style=\"stroke:#000000; stroke-width:1; stroke-opacity:0.25; fill:none\" points=\"\n",
       "  194.576,273.893 200.086,273.893 200.086,268.032 194.576,268.032 194.576,273.893 \n",
       "  \"/>\n",
       "<polygon clip-path=\"url(#clip8502)\" points=\"\n",
       "200.086,275.312 205.597,275.312 205.597,269.379 200.086,269.379 200.086,275.312 \n",
       "  \" fill=\"#0000ff\" fill-opacity=\"0.25\"/>\n",
       "<polyline clip-path=\"url(#clip8502)\" style=\"stroke:#000000; stroke-width:1; stroke-opacity:0.25; fill:none\" points=\"\n",
       "  200.086,275.312 205.597,275.312 205.597,269.379 200.086,269.379 200.086,275.312 \n",
       "  \"/>\n",
       "<polygon clip-path=\"url(#clip8502)\" points=\"\n",
       "205.597,276.659 211.108,276.659 211.108,270.653 205.597,270.653 205.597,276.659 \n",
       "  \" fill=\"#0000ff\" fill-opacity=\"0.25\"/>\n",
       "<polyline clip-path=\"url(#clip8502)\" style=\"stroke:#000000; stroke-width:1; stroke-opacity:0.25; fill:none\" points=\"\n",
       "  205.597,276.659 211.108,276.659 211.108,270.653 205.597,270.653 205.597,276.659 \n",
       "  \"/>\n",
       "<polygon clip-path=\"url(#clip8502)\" points=\"\n",
       "211.108,277.933 216.618,277.933 216.618,271.854 211.108,271.854 211.108,277.933 \n",
       "  \" fill=\"#0000ff\" fill-opacity=\"0.25\"/>\n",
       "<polyline clip-path=\"url(#clip8502)\" style=\"stroke:#000000; stroke-width:1; stroke-opacity:0.25; fill:none\" points=\"\n",
       "  211.108,277.933 216.618,277.933 216.618,271.854 211.108,271.854 211.108,277.933 \n",
       "  \"/>\n",
       "<polygon clip-path=\"url(#clip8502)\" points=\"\n",
       "216.618,279.134 222.129,279.134 222.129,272.983 216.618,272.983 216.618,279.134 \n",
       "  \" fill=\"#0000ff\" fill-opacity=\"0.25\"/>\n",
       "<polyline clip-path=\"url(#clip8502)\" style=\"stroke:#000000; stroke-width:1; stroke-opacity:0.25; fill:none\" points=\"\n",
       "  216.618,279.134 222.129,279.134 222.129,272.983 216.618,272.983 216.618,279.134 \n",
       "  \"/>\n",
       "<polygon clip-path=\"url(#clip8502)\" points=\"\n",
       "222.129,280.263 227.639,280.263 227.639,274.038 222.129,274.038 222.129,280.263 \n",
       "  \" fill=\"#0000ff\" fill-opacity=\"0.25\"/>\n",
       "<polyline clip-path=\"url(#clip8502)\" style=\"stroke:#000000; stroke-width:1; stroke-opacity:0.25; fill:none\" points=\"\n",
       "  222.129,280.263 227.639,280.263 227.639,274.038 222.129,274.038 222.129,280.263 \n",
       "  \"/>\n",
       "<polygon clip-path=\"url(#clip8502)\" points=\"\n",
       "227.639,281.318 233.15,281.318 233.15,275.021 227.639,275.021 227.639,281.318 \n",
       "  \" fill=\"#0000ff\" fill-opacity=\"0.25\"/>\n",
       "<polyline clip-path=\"url(#clip8502)\" style=\"stroke:#000000; stroke-width:1; stroke-opacity:0.25; fill:none\" points=\"\n",
       "  227.639,281.318 233.15,281.318 233.15,275.021 227.639,275.021 227.639,281.318 \n",
       "  \"/>\n",
       "<polygon clip-path=\"url(#clip8502)\" points=\"\n",
       "233.15,282.301 238.66,282.301 238.66,275.931 233.15,275.931 233.15,282.301 \n",
       "  \" fill=\"#0000ff\" fill-opacity=\"0.25\"/>\n",
       "<polyline clip-path=\"url(#clip8502)\" style=\"stroke:#000000; stroke-width:1; stroke-opacity:0.25; fill:none\" points=\"\n",
       "  233.15,282.301 238.66,282.301 238.66,275.931 233.15,275.931 233.15,282.301 \n",
       "  \"/>\n",
       "<polygon clip-path=\"url(#clip8502)\" points=\"\n",
       "238.66,283.211 244.171,283.211 244.171,276.768 238.66,276.768 238.66,283.211 \n",
       "  \" fill=\"#0000ff\" fill-opacity=\"0.25\"/>\n",
       "<polyline clip-path=\"url(#clip8502)\" style=\"stroke:#000000; stroke-width:1; stroke-opacity:0.25; fill:none\" points=\"\n",
       "  238.66,283.211 244.171,283.211 244.171,276.768 238.66,276.768 238.66,283.211 \n",
       "  \"/>\n",
       "<polygon clip-path=\"url(#clip8502)\" points=\"\n",
       "244.171,284.048 249.681,284.048 249.681,277.533 244.171,277.533 244.171,284.048 \n",
       "  \" fill=\"#0000ff\" fill-opacity=\"0.25\"/>\n",
       "<polyline clip-path=\"url(#clip8502)\" style=\"stroke:#000000; stroke-width:1; stroke-opacity:0.25; fill:none\" points=\"\n",
       "  244.171,284.048 249.681,284.048 249.681,277.533 244.171,277.533 244.171,284.048 \n",
       "  \"/>\n",
       "<polygon clip-path=\"url(#clip8502)\" points=\"\n",
       "249.681,284.813 255.192,284.813 255.192,278.224 249.681,278.224 249.681,284.813 \n",
       "  \" fill=\"#0000ff\" fill-opacity=\"0.25\"/>\n",
       "<polyline clip-path=\"url(#clip8502)\" style=\"stroke:#000000; stroke-width:1; stroke-opacity:0.25; fill:none\" points=\"\n",
       "  249.681,284.813 255.192,284.813 255.192,278.224 249.681,278.224 249.681,284.813 \n",
       "  \"/>\n",
       "<polygon clip-path=\"url(#clip8502)\" points=\"\n",
       "255.192,285.504 260.703,285.504 260.703,278.843 255.192,278.843 255.192,285.504 \n",
       "  \" fill=\"#0000ff\" fill-opacity=\"0.25\"/>\n",
       "<polyline clip-path=\"url(#clip8502)\" style=\"stroke:#000000; stroke-width:1; stroke-opacity:0.25; fill:none\" points=\"\n",
       "  255.192,285.504 260.703,285.504 260.703,278.843 255.192,278.843 255.192,285.504 \n",
       "  \"/>\n",
       "<polygon clip-path=\"url(#clip8502)\" points=\"\n",
       "260.703,286.123 266.213,286.123 266.213,279.389 260.703,279.389 260.703,286.123 \n",
       "  \" fill=\"#0000ff\" fill-opacity=\"0.25\"/>\n",
       "<polyline clip-path=\"url(#clip8502)\" style=\"stroke:#000000; stroke-width:1; stroke-opacity:0.25; fill:none\" points=\"\n",
       "  260.703,286.123 266.213,286.123 266.213,279.389 260.703,279.389 260.703,286.123 \n",
       "  \"/>\n",
       "<polygon clip-path=\"url(#clip8502)\" points=\"\n",
       "266.213,286.669 271.724,286.669 271.724,279.862 266.213,279.862 266.213,286.669 \n",
       "  \" fill=\"#0000ff\" fill-opacity=\"0.25\"/>\n",
       "<polyline clip-path=\"url(#clip8502)\" style=\"stroke:#000000; stroke-width:1; stroke-opacity:0.25; fill:none\" points=\"\n",
       "  266.213,286.669 271.724,286.669 271.724,279.862 266.213,279.862 266.213,286.669 \n",
       "  \"/>\n",
       "<polygon clip-path=\"url(#clip8502)\" points=\"\n",
       "271.724,287.142 277.234,287.142 277.234,280.263 271.724,280.263 271.724,287.142 \n",
       "  \" fill=\"#0000ff\" fill-opacity=\"0.25\"/>\n",
       "<polyline clip-path=\"url(#clip8502)\" style=\"stroke:#000000; stroke-width:1; stroke-opacity:0.25; fill:none\" points=\"\n",
       "  271.724,287.142 277.234,287.142 277.234,280.263 271.724,280.263 271.724,287.142 \n",
       "  \"/>\n",
       "<polygon clip-path=\"url(#clip8502)\" points=\"\n",
       "277.234,287.543 282.745,287.543 282.745,280.59 277.234,280.59 277.234,287.543 \n",
       "  \" fill=\"#0000ff\" fill-opacity=\"0.25\"/>\n",
       "<polyline clip-path=\"url(#clip8502)\" style=\"stroke:#000000; stroke-width:1; stroke-opacity:0.25; fill:none\" points=\"\n",
       "  277.234,287.543 282.745,287.543 282.745,280.59 277.234,280.59 277.234,287.543 \n",
       "  \"/>\n",
       "<polygon clip-path=\"url(#clip8502)\" points=\"\n",
       "282.745,287.87 288.255,287.87 288.255,280.845 282.745,280.845 282.745,287.87 \n",
       "  \" fill=\"#0000ff\" fill-opacity=\"0.25\"/>\n",
       "<polyline clip-path=\"url(#clip8502)\" style=\"stroke:#000000; stroke-width:1; stroke-opacity:0.25; fill:none\" points=\"\n",
       "  282.745,287.87 288.255,287.87 288.255,280.845 282.745,280.845 282.745,287.87 \n",
       "  \"/>\n",
       "<polygon clip-path=\"url(#clip8502)\" points=\"\n",
       "288.255,288.125 293.766,288.125 293.766,281.027 288.255,281.027 288.255,288.125 \n",
       "  \" fill=\"#0000ff\" fill-opacity=\"0.25\"/>\n",
       "<polyline clip-path=\"url(#clip8502)\" style=\"stroke:#000000; stroke-width:1; stroke-opacity:0.25; fill:none\" points=\"\n",
       "  288.255,288.125 293.766,288.125 293.766,281.027 288.255,281.027 288.255,288.125 \n",
       "  \"/>\n",
       "<polygon clip-path=\"url(#clip8502)\" points=\"\n",
       "293.766,288.307 299.276,288.307 299.276,281.136 293.766,281.136 293.766,288.307 \n",
       "  \" fill=\"#0000ff\" fill-opacity=\"0.25\"/>\n",
       "<polyline clip-path=\"url(#clip8502)\" style=\"stroke:#000000; stroke-width:1; stroke-opacity:0.25; fill:none\" points=\"\n",
       "  293.766,288.307 299.276,288.307 299.276,281.136 293.766,281.136 293.766,288.307 \n",
       "  \"/>\n",
       "<polygon clip-path=\"url(#clip8502)\" points=\"\n",
       "299.276,288.416 304.787,288.416 304.787,281.173 299.276,281.173 299.276,288.416 \n",
       "  \" fill=\"#0000ff\" fill-opacity=\"0.25\"/>\n",
       "<polyline clip-path=\"url(#clip8502)\" style=\"stroke:#000000; stroke-width:1; stroke-opacity:0.25; fill:none\" points=\"\n",
       "  299.276,288.416 304.787,288.416 304.787,281.173 299.276,281.173 299.276,288.416 \n",
       "  \"/>\n",
       "<polygon clip-path=\"url(#clip8502)\" points=\"\n",
       "304.787,288.453 310.298,288.453 310.298,281.136 304.787,281.136 304.787,288.453 \n",
       "  \" fill=\"#0000ff\" fill-opacity=\"0.25\"/>\n",
       "<polyline clip-path=\"url(#clip8502)\" style=\"stroke:#000000; stroke-width:1; stroke-opacity:0.25; fill:none\" points=\"\n",
       "  304.787,288.453 310.298,288.453 310.298,281.136 304.787,281.136 304.787,288.453 \n",
       "  \"/>\n",
       "<polygon clip-path=\"url(#clip8502)\" points=\"\n",
       "310.298,288.416 315.808,288.416 315.808,281.027 310.298,281.027 310.298,288.416 \n",
       "  \" fill=\"#0000ff\" fill-opacity=\"0.25\"/>\n",
       "<polyline clip-path=\"url(#clip8502)\" style=\"stroke:#000000; stroke-width:1; stroke-opacity:0.25; fill:none\" points=\"\n",
       "  310.298,288.416 315.808,288.416 315.808,281.027 310.298,281.027 310.298,288.416 \n",
       "  \"/>\n",
       "<polygon clip-path=\"url(#clip8502)\" points=\"\n",
       "315.808,288.307 321.319,288.307 321.319,280.845 315.808,280.845 315.808,288.307 \n",
       "  \" fill=\"#0000ff\" fill-opacity=\"0.25\"/>\n",
       "<polyline clip-path=\"url(#clip8502)\" style=\"stroke:#000000; stroke-width:1; stroke-opacity:0.25; fill:none\" points=\"\n",
       "  315.808,288.307 321.319,288.307 321.319,280.845 315.808,280.845 315.808,288.307 \n",
       "  \"/>\n",
       "<polygon clip-path=\"url(#clip8502)\" points=\"\n",
       "321.319,288.125 326.829,288.125 326.829,280.59 321.319,280.59 321.319,288.125 \n",
       "  \" fill=\"#0000ff\" fill-opacity=\"0.25\"/>\n",
       "<polyline clip-path=\"url(#clip8502)\" style=\"stroke:#000000; stroke-width:1; stroke-opacity:0.25; fill:none\" points=\"\n",
       "  321.319,288.125 326.829,288.125 326.829,280.59 321.319,280.59 321.319,288.125 \n",
       "  \"/>\n",
       "<polygon clip-path=\"url(#clip8502)\" points=\"\n",
       "326.829,287.87 332.34,287.87 332.34,280.263 326.829,280.263 326.829,287.87 \n",
       "  \" fill=\"#0000ff\" fill-opacity=\"0.25\"/>\n",
       "<polyline clip-path=\"url(#clip8502)\" style=\"stroke:#000000; stroke-width:1; stroke-opacity:0.25; fill:none\" points=\"\n",
       "  326.829,287.87 332.34,287.87 332.34,280.263 326.829,280.263 326.829,287.87 \n",
       "  \"/>\n",
       "<polygon clip-path=\"url(#clip8502)\" points=\"\n",
       "332.34,287.543 337.85,287.543 337.85,279.862 332.34,279.862 332.34,287.543 \n",
       "  \" fill=\"#0000ff\" fill-opacity=\"0.25\"/>\n",
       "<polyline clip-path=\"url(#clip8502)\" style=\"stroke:#000000; stroke-width:1; stroke-opacity:0.25; fill:none\" points=\"\n",
       "  332.34,287.543 337.85,287.543 337.85,279.862 332.34,279.862 332.34,287.543 \n",
       "  \"/>\n",
       "<polygon clip-path=\"url(#clip8502)\" points=\"\n",
       "337.85,287.142 343.361,287.142 343.361,279.389 337.85,279.389 337.85,287.142 \n",
       "  \" fill=\"#0000ff\" fill-opacity=\"0.25\"/>\n",
       "<polyline clip-path=\"url(#clip8502)\" style=\"stroke:#000000; stroke-width:1; stroke-opacity:0.25; fill:none\" points=\"\n",
       "  337.85,287.142 343.361,287.142 343.361,279.389 337.85,279.389 337.85,287.142 \n",
       "  \"/>\n",
       "<polygon clip-path=\"url(#clip8502)\" points=\"\n",
       "343.361,286.669 348.872,286.669 348.872,278.843 343.361,278.843 343.361,286.669 \n",
       "  \" fill=\"#0000ff\" fill-opacity=\"0.25\"/>\n",
       "<polyline clip-path=\"url(#clip8502)\" style=\"stroke:#000000; stroke-width:1; stroke-opacity:0.25; fill:none\" points=\"\n",
       "  343.361,286.669 348.872,286.669 348.872,278.843 343.361,278.843 343.361,286.669 \n",
       "  \"/>\n",
       "<polygon clip-path=\"url(#clip8502)\" points=\"\n",
       "348.872,286.123 354.382,286.123 354.382,278.224 348.872,278.224 348.872,286.123 \n",
       "  \" fill=\"#0000ff\" fill-opacity=\"0.25\"/>\n",
       "<polyline clip-path=\"url(#clip8502)\" style=\"stroke:#000000; stroke-width:1; stroke-opacity:0.25; fill:none\" points=\"\n",
       "  348.872,286.123 354.382,286.123 354.382,278.224 348.872,278.224 348.872,286.123 \n",
       "  \"/>\n",
       "<polygon clip-path=\"url(#clip8502)\" points=\"\n",
       "354.382,285.504 359.893,285.504 359.893,277.533 354.382,277.533 354.382,285.504 \n",
       "  \" fill=\"#0000ff\" fill-opacity=\"0.25\"/>\n",
       "<polyline clip-path=\"url(#clip8502)\" style=\"stroke:#000000; stroke-width:1; stroke-opacity:0.25; fill:none\" points=\"\n",
       "  354.382,285.504 359.893,285.504 359.893,277.533 354.382,277.533 354.382,285.504 \n",
       "  \"/>\n",
       "<polygon clip-path=\"url(#clip8502)\" points=\"\n",
       "359.893,284.813 365.403,284.813 365.403,276.768 359.893,276.768 359.893,284.813 \n",
       "  \" fill=\"#0000ff\" fill-opacity=\"0.25\"/>\n",
       "<polyline clip-path=\"url(#clip8502)\" style=\"stroke:#000000; stroke-width:1; stroke-opacity:0.25; fill:none\" points=\"\n",
       "  359.893,284.813 365.403,284.813 365.403,276.768 359.893,276.768 359.893,284.813 \n",
       "  \"/>\n",
       "<polygon clip-path=\"url(#clip8502)\" points=\"\n",
       "365.403,284.048 370.914,284.048 370.914,275.931 365.403,275.931 365.403,284.048 \n",
       "  \" fill=\"#0000ff\" fill-opacity=\"0.25\"/>\n",
       "<polyline clip-path=\"url(#clip8502)\" style=\"stroke:#000000; stroke-width:1; stroke-opacity:0.25; fill:none\" points=\"\n",
       "  365.403,284.048 370.914,284.048 370.914,275.931 365.403,275.931 365.403,284.048 \n",
       "  \"/>\n",
       "<polygon clip-path=\"url(#clip8502)\" points=\"\n",
       "370.914,283.211 376.424,283.211 376.424,275.021 370.914,275.021 370.914,283.211 \n",
       "  \" fill=\"#0000ff\" fill-opacity=\"0.25\"/>\n",
       "<polyline clip-path=\"url(#clip8502)\" style=\"stroke:#000000; stroke-width:1; stroke-opacity:0.25; fill:none\" points=\"\n",
       "  370.914,283.211 376.424,283.211 376.424,275.021 370.914,275.021 370.914,283.211 \n",
       "  \"/>\n",
       "<polygon clip-path=\"url(#clip8502)\" points=\"\n",
       "376.424,282.301 381.935,282.301 381.935,274.038 376.424,274.038 376.424,282.301 \n",
       "  \" fill=\"#0000ff\" fill-opacity=\"0.25\"/>\n",
       "<polyline clip-path=\"url(#clip8502)\" style=\"stroke:#000000; stroke-width:1; stroke-opacity:0.25; fill:none\" points=\"\n",
       "  376.424,282.301 381.935,282.301 381.935,274.038 376.424,274.038 376.424,282.301 \n",
       "  \"/>\n",
       "<polygon clip-path=\"url(#clip8502)\" points=\"\n",
       "381.935,281.318 387.445,281.318 387.445,272.983 381.935,272.983 381.935,281.318 \n",
       "  \" fill=\"#0000ff\" fill-opacity=\"0.25\"/>\n",
       "<polyline clip-path=\"url(#clip8502)\" style=\"stroke:#000000; stroke-width:1; stroke-opacity:0.25; fill:none\" points=\"\n",
       "  381.935,281.318 387.445,281.318 387.445,272.983 381.935,272.983 381.935,281.318 \n",
       "  \"/>\n",
       "<polygon clip-path=\"url(#clip8502)\" points=\"\n",
       "387.445,280.263 392.956,280.263 392.956,271.854 387.445,271.854 387.445,280.263 \n",
       "  \" fill=\"#0000ff\" fill-opacity=\"0.25\"/>\n",
       "<polyline clip-path=\"url(#clip8502)\" style=\"stroke:#000000; stroke-width:1; stroke-opacity:0.25; fill:none\" points=\"\n",
       "  387.445,280.263 392.956,280.263 392.956,271.854 387.445,271.854 387.445,280.263 \n",
       "  \"/>\n",
       "<polygon clip-path=\"url(#clip8502)\" points=\"\n",
       "392.956,279.134 398.467,279.134 398.467,270.653 392.956,270.653 392.956,279.134 \n",
       "  \" fill=\"#0000ff\" fill-opacity=\"0.25\"/>\n",
       "<polyline clip-path=\"url(#clip8502)\" style=\"stroke:#000000; stroke-width:1; stroke-opacity:0.25; fill:none\" points=\"\n",
       "  392.956,279.134 398.467,279.134 398.467,270.653 392.956,270.653 392.956,279.134 \n",
       "  \"/>\n",
       "<polygon clip-path=\"url(#clip8502)\" points=\"\n",
       "398.467,277.933 403.977,277.933 403.977,269.379 398.467,269.379 398.467,277.933 \n",
       "  \" fill=\"#0000ff\" fill-opacity=\"0.25\"/>\n",
       "<polyline clip-path=\"url(#clip8502)\" style=\"stroke:#000000; stroke-width:1; stroke-opacity:0.25; fill:none\" points=\"\n",
       "  398.467,277.933 403.977,277.933 403.977,269.379 398.467,269.379 398.467,277.933 \n",
       "  \"/>\n",
       "<polygon clip-path=\"url(#clip8502)\" points=\"\n",
       "403.977,276.659 409.488,276.659 409.488,268.032 403.977,268.032 403.977,276.659 \n",
       "  \" fill=\"#0000ff\" fill-opacity=\"0.25\"/>\n",
       "<polyline clip-path=\"url(#clip8502)\" style=\"stroke:#000000; stroke-width:1; stroke-opacity:0.25; fill:none\" points=\"\n",
       "  403.977,276.659 409.488,276.659 409.488,268.032 403.977,268.032 403.977,276.659 \n",
       "  \"/>\n",
       "<polygon clip-path=\"url(#clip8502)\" points=\"\n",
       "409.488,275.312 414.998,275.312 414.998,266.613 409.488,266.613 409.488,275.312 \n",
       "  \" fill=\"#0000ff\" fill-opacity=\"0.25\"/>\n",
       "<polyline clip-path=\"url(#clip8502)\" style=\"stroke:#000000; stroke-width:1; stroke-opacity:0.25; fill:none\" points=\"\n",
       "  409.488,275.312 414.998,275.312 414.998,266.613 409.488,266.613 409.488,275.312 \n",
       "  \"/>\n",
       "<polygon clip-path=\"url(#clip8502)\" points=\"\n",
       "414.998,273.893 420.509,273.893 420.509,265.12 414.998,265.12 414.998,273.893 \n",
       "  \" fill=\"#0000ff\" fill-opacity=\"0.25\"/>\n",
       "<polyline clip-path=\"url(#clip8502)\" style=\"stroke:#000000; stroke-width:1; stroke-opacity:0.25; fill:none\" points=\"\n",
       "  414.998,273.893 420.509,273.893 420.509,265.12 414.998,265.12 414.998,273.893 \n",
       "  \"/>\n",
       "<polygon clip-path=\"url(#clip8502)\" points=\"\n",
       "420.509,272.4 426.019,272.4 426.019,263.555 420.509,263.555 420.509,272.4 \n",
       "  \" fill=\"#0000ff\" fill-opacity=\"0.25\"/>\n",
       "<polyline clip-path=\"url(#clip8502)\" style=\"stroke:#000000; stroke-width:1; stroke-opacity:0.25; fill:none\" points=\"\n",
       "  420.509,272.4 426.019,272.4 426.019,263.555 420.509,263.555 420.509,272.4 \n",
       "  \"/>\n",
       "<polygon clip-path=\"url(#clip8502)\" points=\"\n",
       "426.019,270.835 431.53,270.835 431.53,261.917 426.019,261.917 426.019,270.835 \n",
       "  \" fill=\"#0000ff\" fill-opacity=\"0.25\"/>\n",
       "<polyline clip-path=\"url(#clip8502)\" style=\"stroke:#000000; stroke-width:1; stroke-opacity:0.25; fill:none\" points=\"\n",
       "  426.019,270.835 431.53,270.835 431.53,261.917 426.019,261.917 426.019,270.835 \n",
       "  \"/>\n",
       "<polygon clip-path=\"url(#clip8502)\" points=\"\n",
       "431.53,269.197 437.04,269.197 437.04,260.206 431.53,260.206 431.53,269.197 \n",
       "  \" fill=\"#0000ff\" fill-opacity=\"0.25\"/>\n",
       "<polyline clip-path=\"url(#clip8502)\" style=\"stroke:#000000; stroke-width:1; stroke-opacity:0.25; fill:none\" points=\"\n",
       "  431.53,269.197 437.04,269.197 437.04,260.206 431.53,260.206 431.53,269.197 \n",
       "  \"/>\n",
       "<polygon clip-path=\"url(#clip8502)\" points=\"\n",
       "437.04,267.486 442.551,267.486 442.551,258.423 437.04,258.423 437.04,267.486 \n",
       "  \" fill=\"#0000ff\" fill-opacity=\"0.25\"/>\n",
       "<polyline clip-path=\"url(#clip8502)\" style=\"stroke:#000000; stroke-width:1; stroke-opacity:0.25; fill:none\" points=\"\n",
       "  437.04,267.486 442.551,267.486 442.551,258.423 437.04,258.423 437.04,267.486 \n",
       "  \"/>\n",
       "<polygon clip-path=\"url(#clip8502)\" points=\"\n",
       "442.551,265.703 448.062,265.703 448.062,256.566 442.551,256.566 442.551,265.703 \n",
       "  \" fill=\"#0000ff\" fill-opacity=\"0.25\"/>\n",
       "<polyline clip-path=\"url(#clip8502)\" style=\"stroke:#000000; stroke-width:1; stroke-opacity:0.25; fill:none\" points=\"\n",
       "  442.551,265.703 448.062,265.703 448.062,256.566 442.551,256.566 442.551,265.703 \n",
       "  \"/>\n",
       "<polygon clip-path=\"url(#clip8502)\" points=\"\n",
       "448.062,263.846 453.572,263.846 453.572,254.637 448.062,254.637 448.062,263.846 \n",
       "  \" fill=\"#0000ff\" fill-opacity=\"0.25\"/>\n",
       "<polyline clip-path=\"url(#clip8502)\" style=\"stroke:#000000; stroke-width:1; stroke-opacity:0.25; fill:none\" points=\"\n",
       "  448.062,263.846 453.572,263.846 453.572,254.637 448.062,254.637 448.062,263.846 \n",
       "  \"/>\n",
       "<polygon clip-path=\"url(#clip8502)\" points=\"\n",
       "453.572,261.917 459.083,261.917 459.083,252.635 453.572,252.635 453.572,261.917 \n",
       "  \" fill=\"#0000ff\" fill-opacity=\"0.25\"/>\n",
       "<polyline clip-path=\"url(#clip8502)\" style=\"stroke:#000000; stroke-width:1; stroke-opacity:0.25; fill:none\" points=\"\n",
       "  453.572,261.917 459.083,261.917 459.083,252.635 453.572,252.635 453.572,261.917 \n",
       "  \"/>\n",
       "<polygon clip-path=\"url(#clip8502)\" points=\"\n",
       "459.083,259.915 464.593,259.915 464.593,250.56 459.083,250.56 459.083,259.915 \n",
       "  \" fill=\"#0000ff\" fill-opacity=\"0.25\"/>\n",
       "<polyline clip-path=\"url(#clip8502)\" style=\"stroke:#000000; stroke-width:1; stroke-opacity:0.25; fill:none\" points=\"\n",
       "  459.083,259.915 464.593,259.915 464.593,250.56 459.083,250.56 459.083,259.915 \n",
       "  \"/>\n",
       "<polygon clip-path=\"url(#clip8502)\" points=\"\n",
       "464.593,257.84 470.104,257.84 470.104,248.413 464.593,248.413 464.593,257.84 \n",
       "  \" fill=\"#0000ff\" fill-opacity=\"0.25\"/>\n",
       "<polyline clip-path=\"url(#clip8502)\" style=\"stroke:#000000; stroke-width:1; stroke-opacity:0.25; fill:none\" points=\"\n",
       "  464.593,257.84 470.104,257.84 470.104,248.413 464.593,248.413 464.593,257.84 \n",
       "  \"/>\n",
       "<polygon clip-path=\"url(#clip8502)\" points=\"\n",
       "470.104,255.693 475.614,255.693 475.614,246.192 470.104,246.192 470.104,255.693 \n",
       "  \" fill=\"#0000ff\" fill-opacity=\"0.25\"/>\n",
       "<polyline clip-path=\"url(#clip8502)\" style=\"stroke:#000000; stroke-width:1; stroke-opacity:0.25; fill:none\" points=\"\n",
       "  470.104,255.693 475.614,255.693 475.614,246.192 470.104,246.192 470.104,255.693 \n",
       "  \"/>\n",
       "<polygon clip-path=\"url(#clip8502)\" points=\"\n",
       "475.614,253.472 481.125,253.472 481.125,243.899 475.614,243.899 475.614,253.472 \n",
       "  \" fill=\"#0000ff\" fill-opacity=\"0.25\"/>\n",
       "<polyline clip-path=\"url(#clip8502)\" style=\"stroke:#000000; stroke-width:1; stroke-opacity:0.25; fill:none\" points=\"\n",
       "  475.614,253.472 481.125,253.472 481.125,243.899 475.614,243.899 475.614,253.472 \n",
       "  \"/>\n",
       "<polygon clip-path=\"url(#clip8502)\" points=\"\n",
       "481.125,251.179 486.635,251.179 486.635,241.533 481.125,241.533 481.125,251.179 \n",
       "  \" fill=\"#0000ff\" fill-opacity=\"0.25\"/>\n",
       "<polyline clip-path=\"url(#clip8502)\" style=\"stroke:#000000; stroke-width:1; stroke-opacity:0.25; fill:none\" points=\"\n",
       "  481.125,251.179 486.635,251.179 486.635,241.533 481.125,241.533 481.125,251.179 \n",
       "  \"/>\n",
       "<polygon clip-path=\"url(#clip8502)\" points=\"\n",
       "486.635,248.813 492.146,248.813 492.146,239.094 486.635,239.094 486.635,248.813 \n",
       "  \" fill=\"#0000ff\" fill-opacity=\"0.25\"/>\n",
       "<polyline clip-path=\"url(#clip8502)\" style=\"stroke:#000000; stroke-width:1; stroke-opacity:0.25; fill:none\" points=\"\n",
       "  486.635,248.813 492.146,248.813 492.146,239.094 486.635,239.094 486.635,248.813 \n",
       "  \"/>\n",
       "<polygon clip-path=\"url(#clip8502)\" points=\"\n",
       "492.146,246.374 497.657,246.374 497.657,236.583 492.146,236.583 492.146,246.374 \n",
       "  \" fill=\"#0000ff\" fill-opacity=\"0.25\"/>\n",
       "<polyline clip-path=\"url(#clip8502)\" style=\"stroke:#000000; stroke-width:1; stroke-opacity:0.25; fill:none\" points=\"\n",
       "  492.146,246.374 497.657,246.374 497.657,236.583 492.146,236.583 492.146,246.374 \n",
       "  \"/>\n",
       "<polygon clip-path=\"url(#clip8502)\" points=\"\n",
       "497.657,243.863 503.167,243.863 503.167,233.998 497.657,233.998 497.657,243.863 \n",
       "  \" fill=\"#0000ff\" fill-opacity=\"0.25\"/>\n",
       "<polyline clip-path=\"url(#clip8502)\" style=\"stroke:#000000; stroke-width:1; stroke-opacity:0.25; fill:none\" points=\"\n",
       "  497.657,243.863 503.167,243.863 503.167,233.998 497.657,233.998 497.657,243.863 \n",
       "  \"/>\n",
       "<polygon clip-path=\"url(#clip8502)\" points=\"\n",
       "503.167,241.278 508.678,241.278 508.678,231.341 503.167,231.341 503.167,241.278 \n",
       "  \" fill=\"#0000ff\" fill-opacity=\"0.25\"/>\n",
       "<polyline clip-path=\"url(#clip8502)\" style=\"stroke:#000000; stroke-width:1; stroke-opacity:0.25; fill:none\" points=\"\n",
       "  503.167,241.278 508.678,241.278 508.678,231.341 503.167,231.341 503.167,241.278 \n",
       "  \"/>\n",
       "<polygon clip-path=\"url(#clip8502)\" points=\"\n",
       "508.678,238.621 514.188,238.621 514.188,228.611 508.678,228.611 508.678,238.621 \n",
       "  \" fill=\"#0000ff\" fill-opacity=\"0.25\"/>\n",
       "<polyline clip-path=\"url(#clip8502)\" style=\"stroke:#000000; stroke-width:1; stroke-opacity:0.25; fill:none\" points=\"\n",
       "  508.678,238.621 514.188,238.621 514.188,228.611 508.678,228.611 508.678,238.621 \n",
       "  \"/>\n",
       "<polygon clip-path=\"url(#clip8502)\" points=\"\n",
       "514.188,235.891 519.699,235.891 519.699,225.808 514.188,225.808 514.188,235.891 \n",
       "  \" fill=\"#0000ff\" fill-opacity=\"0.25\"/>\n",
       "<polyline clip-path=\"url(#clip8502)\" style=\"stroke:#000000; stroke-width:1; stroke-opacity:0.25; fill:none\" points=\"\n",
       "  514.188,235.891 519.699,235.891 519.699,225.808 514.188,225.808 514.188,235.891 \n",
       "  \"/>\n",
       "<polygon clip-path=\"url(#clip8502)\" points=\"\n",
       "519.699,233.088 525.209,233.088 525.209,222.932 519.699,222.932 519.699,233.088 \n",
       "  \" fill=\"#0000ff\" fill-opacity=\"0.25\"/>\n",
       "<polyline clip-path=\"url(#clip8502)\" style=\"stroke:#000000; stroke-width:1; stroke-opacity:0.25; fill:none\" points=\"\n",
       "  519.699,233.088 525.209,233.088 525.209,222.932 519.699,222.932 519.699,233.088 \n",
       "  \"/>\n",
       "<polygon clip-path=\"url(#clip8502)\" points=\"\n",
       "525.209,230.212 530.72,230.212 530.72,219.984 525.209,219.984 525.209,230.212 \n",
       "  \" fill=\"#0000ff\" fill-opacity=\"0.25\"/>\n",
       "<polyline clip-path=\"url(#clip8502)\" style=\"stroke:#000000; stroke-width:1; stroke-opacity:0.25; fill:none\" points=\"\n",
       "  525.209,230.212 530.72,230.212 530.72,219.984 525.209,219.984 525.209,230.212 \n",
       "  \"/>\n",
       "<polygon clip-path=\"url(#clip8502)\" points=\"\n",
       "530.72,227.264 536.23,227.264 536.23,216.963 530.72,216.963 530.72,227.264 \n",
       "  \" fill=\"#0000ff\" fill-opacity=\"0.25\"/>\n",
       "<polyline clip-path=\"url(#clip8502)\" style=\"stroke:#000000; stroke-width:1; stroke-opacity:0.25; fill:none\" points=\"\n",
       "  530.72,227.264 536.23,227.264 536.23,216.963 530.72,216.963 530.72,227.264 \n",
       "  \"/>\n",
       "<polygon clip-path=\"url(#clip8502)\" points=\"\n",
       "536.23,224.243 541.741,224.243 541.741,213.869 536.23,213.869 536.23,224.243 \n",
       "  \" fill=\"#0000ff\" fill-opacity=\"0.25\"/>\n",
       "<polyline clip-path=\"url(#clip8502)\" style=\"stroke:#000000; stroke-width:1; stroke-opacity:0.25; fill:none\" points=\"\n",
       "  536.23,224.243 541.741,224.243 541.741,213.869 536.23,213.869 536.23,224.243 \n",
       "  \"/>\n",
       "<polygon clip-path=\"url(#clip8502)\" points=\"\n",
       "541.741,221.149 547.252,221.149 547.252,210.702 541.741,210.702 541.741,221.149 \n",
       "  \" fill=\"#0000ff\" fill-opacity=\"0.25\"/>\n",
       "<polyline clip-path=\"url(#clip8502)\" style=\"stroke:#000000; stroke-width:1; stroke-opacity:0.25; fill:none\" points=\"\n",
       "  541.741,221.149 547.252,221.149 547.252,210.702 541.741,210.702 541.741,221.149 \n",
       "  \"/>\n",
       "<polygon clip-path=\"url(#clip8502)\" points=\"\n",
       "547.252,217.982 552.762,217.982 552.762,207.462 547.252,207.462 547.252,217.982 \n",
       "  \" fill=\"#0000ff\" fill-opacity=\"0.25\"/>\n",
       "<polyline clip-path=\"url(#clip8502)\" style=\"stroke:#000000; stroke-width:1; stroke-opacity:0.25; fill:none\" points=\"\n",
       "  547.252,217.982 552.762,217.982 552.762,207.462 547.252,207.462 547.252,217.982 \n",
       "  \"/>\n",
       "<polygon clip-path=\"url(#clip8502)\" points=\"\n",
       "552.762,214.742 558.273,214.742 558.273,204.15 552.762,204.15 552.762,214.742 \n",
       "  \" fill=\"#0000ff\" fill-opacity=\"0.25\"/>\n",
       "<polyline clip-path=\"url(#clip8502)\" style=\"stroke:#000000; stroke-width:1; stroke-opacity:0.25; fill:none\" points=\"\n",
       "  552.762,214.742 558.273,214.742 558.273,204.15 552.762,204.15 552.762,214.742 \n",
       "  \"/>\n",
       "<polygon clip-path=\"url(#clip8502)\" points=\"\n",
       "558.273,211.43 563.783,211.43 563.783,200.765 558.273,200.765 558.273,211.43 \n",
       "  \" fill=\"#0000ff\" fill-opacity=\"0.25\"/>\n",
       "<polyline clip-path=\"url(#clip8502)\" style=\"stroke:#000000; stroke-width:1; stroke-opacity:0.25; fill:none\" points=\"\n",
       "  558.273,211.43 563.783,211.43 563.783,200.765 558.273,200.765 558.273,211.43 \n",
       "  \"/>\n",
       "<polygon clip-path=\"url(#clip8502)\" points=\"\n",
       "563.783,208.045 569.294,208.045 569.294,197.307 563.783,197.307 563.783,208.045 \n",
       "  \" fill=\"#0000ff\" fill-opacity=\"0.25\"/>\n",
       "<polyline clip-path=\"url(#clip8502)\" style=\"stroke:#000000; stroke-width:1; stroke-opacity:0.25; fill:none\" points=\"\n",
       "  563.783,208.045 569.294,208.045 569.294,197.307 563.783,197.307 563.783,208.045 \n",
       "  \"/>\n",
       "<polygon clip-path=\"url(#clip8502)\" points=\"\n",
       "569.294,204.587 574.804,204.587 574.804,193.776 569.294,193.776 569.294,204.587 \n",
       "  \" fill=\"#0000ff\" fill-opacity=\"0.25\"/>\n",
       "<polyline clip-path=\"url(#clip8502)\" style=\"stroke:#000000; stroke-width:1; stroke-opacity:0.25; fill:none\" points=\"\n",
       "  569.294,204.587 574.804,204.587 574.804,193.776 569.294,193.776 569.294,204.587 \n",
       "  \"/>\n",
       "<polygon clip-path=\"url(#clip8502)\" points=\"\n",
       "574.804,201.056 580.315,201.056 580.315,190.172 574.804,190.172 574.804,201.056 \n",
       "  \" fill=\"#0000ff\" fill-opacity=\"0.25\"/>\n",
       "<polyline clip-path=\"url(#clip8502)\" style=\"stroke:#000000; stroke-width:1; stroke-opacity:0.25; fill:none\" points=\"\n",
       "  574.804,201.056 580.315,201.056 580.315,190.172 574.804,190.172 574.804,201.056 \n",
       "  \"/>\n",
       "<polyline clip-path=\"url(#clip8502)\" style=\"stroke:#ff0000; stroke-width:1; stroke-opacity:1; fill:none\" points=\"\n",
       "  29.2591,193.812 34.8254,197.452 40.3916,201.017 45.9578,204.508 51.524,207.925 57.0902,211.268 62.6565,214.536 68.2227,217.73 73.7889,220.85 79.3551,223.895 \n",
       "  84.9213,226.866 90.4876,229.763 96.0538,232.586 101.62,235.334 107.186,238.008 112.752,240.608 118.319,243.133 123.885,245.584 129.451,247.961 135.017,250.264 \n",
       "  140.584,252.492 146.15,254.646 151.716,256.726 157.282,258.732 162.848,260.663 168.415,262.52 173.981,264.303 179.547,266.011 185.113,267.645 190.68,269.205 \n",
       "  196.246,270.691 201.812,272.102 207.378,273.439 212.944,274.702 218.511,275.89 224.077,277.004 229.643,278.044 235.209,279.01 240.776,279.901 246.342,280.718 \n",
       "  251.908,281.461 257.474,282.13 263.04,282.724 268.607,283.244 274.173,283.689 279.739,284.061 285.305,284.358 290.872,284.581 296.438,284.729 302.004,284.804 \n",
       "  307.57,284.804 313.136,284.729 318.703,284.581 324.269,284.358 329.835,284.061 335.401,283.689 340.967,283.244 346.534,282.724 352.1,282.13 357.666,281.461 \n",
       "  363.232,280.718 368.799,279.901 374.365,279.01 379.931,278.044 385.497,277.004 391.063,275.89 396.63,274.702 402.196,273.439 407.762,272.102 413.328,270.691 \n",
       "  418.895,269.205 424.461,267.645 430.027,266.011 435.593,264.303 441.159,262.52 446.726,260.663 452.292,258.732 457.858,256.726 463.424,254.646 468.991,252.492 \n",
       "  474.557,250.264 480.123,247.961 485.689,245.584 491.255,243.133 496.822,240.608 502.388,238.008 507.954,235.334 513.52,232.586 519.087,229.763 524.653,226.866 \n",
       "  530.219,223.895 535.785,220.85 541.351,217.73 546.918,214.536 552.484,211.268 558.05,207.925 563.616,204.508 569.183,201.017 574.749,197.452 580.315,193.812 \n",
       "  \n",
       "  \"/>\n",
       "</svg>\n"
      ]
     },
     "execution_count": 41,
     "metadata": {},
     "output_type": "execute_result"
    }
   ],
   "source": [
    "intervalos(rangoG,0.0,2.0,100)"
   ]
  },
  {
   "cell_type": "code",
   "execution_count": 42,
   "metadata": {},
   "outputs": [
    {
     "data": {
      "text/html": [
       "<div id=\"interact-js-shim\">\n",
       "    <script charset=\"utf-8\">\n",
       "(function (IPython, $, _, MathJax) {\n",
       "    $.event.special.destroyed = {\n",
       "\tremove: function(o) {\n",
       "\t    if (o.handler) {\n",
       "\t\to.handler.apply(this, arguments)\n",
       "\t    }\n",
       "\t}\n",
       "    }\n",
       "\n",
       "    var OutputArea = IPython.version >= \"4.0.0\" ? require(\"notebook/js/outputarea\").OutputArea : IPython.OutputArea;\n",
       "\n",
       "    var redrawValue = function (container, type, val) {\n",
       "\tvar selector = $(\"<div/>\");\n",
       "\tvar oa = new OutputArea(_.extend(selector, {\n",
       "\t    selector: selector,\n",
       "\t    prompt_area: true,\n",
       "\t    events: IPython.events,\n",
       "\t    keyboard_manager: IPython.keyboard_manager\n",
       "\t})); // Hack to work with IPython 2.1.0\n",
       "\n",
       "\tswitch (type) {\n",
       "\tcase \"image/png\":\n",
       "            var _src = 'data:' + type + ';base64,' + val;\n",
       "\t    $(container).find(\"img\").attr('src', _src);\n",
       "\t    break;\n",
       "\tcase \"text/latex\":\n",
       "\t\tif (MathJax){\n",
       "\t\t\tvar math = MathJax.Hub.getAllJax(container)[0];\n",
       "\t\t\tMathJax.Hub.Queue([\"Text\", math, val.replace(/^\\${1,2}|\\${1,2}$/g, '')]);\n",
       "\t\t\tbreak;\n",
       "\t\t}\n",
       "\tdefault:\n",
       "\t    var toinsert = OutputArea.append_map[type].apply(\n",
       "\t\toa, [val, {}, selector]\n",
       "\t    );\n",
       "\t    $(container).empty().append(toinsert.contents());\n",
       "\t    selector.remove();\n",
       "\t}\n",
       "    }\n",
       "\n",
       "\n",
       "    $(document).ready(function() {\n",
       "\tfunction initComm(evt, data) {\n",
       "\t    var comm_manager = data.kernel.comm_manager;\n",
       "        //_.extend(comm_manager.targets, require(\"widgets/js/widget\"))\n",
       "\t    comm_manager.register_target(\"Signal\", function (comm) {\n",
       "            comm.on_msg(function (msg) {\n",
       "                var val = msg.content.data.value;\n",
       "                $(\".signal-\" + comm.comm_id).each(function() {\n",
       "                var type = $(this).data(\"type\");\n",
       "                if (typeof(val[type]) !== \"undefined\" && val[type] !== null) {\n",
       "                    redrawValue(this, type, val[type], type);\n",
       "                }\n",
       "                });\n",
       "                delete val;\n",
       "                delete msg.content.data.value;\n",
       "            });\n",
       "\t    });\n",
       "\n",
       "\t    // coordingate with Comm and redraw Signals\n",
       "\t    // XXX: Test using Reactive here to improve performance\n",
       "\t    $([IPython.events]).on(\n",
       "\t\t'output_appended.OutputArea', function (event, type, value, md, toinsert) {\n",
       "\t\t    if (md && md.reactive) {\n",
       "                // console.log(md.comm_id);\n",
       "                toinsert.addClass(\"signal-\" + md.comm_id);\n",
       "                toinsert.data(\"type\", type);\n",
       "                // Signal back indicating the mimetype required\n",
       "                var comm_manager = IPython.notebook.kernel.comm_manager;\n",
       "                var comm = comm_manager.comms[md.comm_id];\n",
       "                comm.then(function (c) {\n",
       "                    c.send({action: \"subscribe_mime\",\n",
       "                       mime: type});\n",
       "                    toinsert.bind(\"destroyed\", function() {\n",
       "                        c.send({action: \"unsubscribe_mime\",\n",
       "                               mime: type});\n",
       "                    });\n",
       "                })\n",
       "\t\t    }\n",
       "\t    });\n",
       "\t}\n",
       "\n",
       "\ttry {\n",
       "\t    // try to initialize right away. otherwise, wait on the status_started event.\n",
       "\t    initComm(undefined, IPython.notebook);\n",
       "\t} catch (e) {\n",
       "\t    $([IPython.events]).on('kernel_created.Kernel kernel_created.Session', initComm);\n",
       "\t}\n",
       "    });\n",
       "})(IPython, jQuery, _, MathJax);\n",
       "</script>\n",
       "    <script>\n",
       "        window.interactLoadedFlag = true\n",
       "       $(\"#interact-js-shim\").bind(\"destroyed\", function () {\n",
       "           if (window.interactLoadedFlag) {\n",
       "               console.warn(\"JavaScript required by Interact will be removed if you remove this cell or run using Interact more than once.\")\n",
       "           }\n",
       "       })\n",
       "       $([IPython.events]).on(\"kernel_starting.Kernel kernel_restarting.Kernel\", function () { window.interactLoadedFlag = false })\n",
       "   </script>\n",
       "</div>"
      ]
     },
     "metadata": {},
     "output_type": "display_data"
    }
   ],
   "source": [
    "using Interact"
   ]
  },
  {
   "cell_type": "code",
   "execution_count": 43,
   "metadata": {},
   "outputs": [
    {
     "data": {
      "application/vnd.jupyter.widget-view+json": {
       "model_id": "465f848e-7f94-47f9-aa7d-9fe8b63b0cee",
       "version_major": 2,
       "version_minor": 0
      }
     },
     "metadata": {},
     "output_type": "display_data"
    },
    {
     "data": {
      "text/html": [],
      "text/plain": [
       "Interact.Options{:SelectionSlider,Any}(1: \"input\" = 13 Any , \"i\", 13, \"13\", 13, Interact.OptionDict(DataStructures.OrderedDict{Any,Any}(\"1\"=>1,\"2\"=>2,\"3\"=>3,\"4\"=>4,\"5\"=>5,\"6\"=>6,\"7\"=>7,\"8\"=>8,\"9\"=>9,\"10\"=>10…), Dict{Any,Any}(Pair{Any,Any}(18, \"18\"),Pair{Any,Any}(2, \"2\"),Pair{Any,Any}(16, \"16\"),Pair{Any,Any}(11, \"11\"),Pair{Any,Any}(21, \"21\"),Pair{Any,Any}(7, \"7\"),Pair{Any,Any}(9, \"9\"),Pair{Any,Any}(25, \"25\"),Pair{Any,Any}(10, \"10\"),Pair{Any,Any}(19, \"19\")…)), Any[], Any[], true, \"horizontal\")"
      ]
     },
     "metadata": {},
     "output_type": "display_data"
    },
    {
     "data": {
      "text/html": [
       "<?xml version=\"1.0\" encoding=\"utf-8\"?>\n",
       "<svg xmlns=\"http://www.w3.org/2000/svg\" xmlns:xlink=\"http://www.w3.org/1999/xlink\" width=\"600\" height=\"400\" viewBox=\"0 0 600 400\">\n",
       "<defs>\n",
       "  <clipPath id=\"clip8700\">\n",
       "    <rect x=\"0\" y=\"0\" width=\"600\" height=\"400\"/>\n",
       "  </clipPath>\n",
       "</defs>\n",
       "<polygon clip-path=\"url(#clip8700)\" points=\"\n",
       "0,400 600,400 600,0 0,0 \n",
       "  \" fill=\"#ffffff\" fill-opacity=\"1\"/>\n",
       "<defs>\n",
       "  <clipPath id=\"clip8701\">\n",
       "    <rect x=\"120\" y=\"0\" width=\"421\" height=\"400\"/>\n",
       "  </clipPath>\n",
       "</defs>\n",
       "<polygon clip-path=\"url(#clip8700)\" points=\"\n",
       "29.2591,375.813 580.315,375.813 580.315,11.811 29.2591,11.811 \n",
       "  \" fill=\"#ffffff\" fill-opacity=\"1\"/>\n",
       "<defs>\n",
       "  <clipPath id=\"clip8702\">\n",
       "    <rect x=\"29\" y=\"11\" width=\"552\" height=\"365\"/>\n",
       "  </clipPath>\n",
       "</defs>\n",
       "<polyline clip-path=\"url(#clip8702)\" style=\"stroke:#000000; stroke-width:0.5; stroke-opacity:0.1; fill:none\" points=\"\n",
       "  29.2591,375.813 29.2591,11.811 \n",
       "  \"/>\n",
       "<polyline clip-path=\"url(#clip8702)\" style=\"stroke:#000000; stroke-width:0.5; stroke-opacity:0.1; fill:none\" points=\"\n",
       "  167.023,375.813 167.023,11.811 \n",
       "  \"/>\n",
       "<polyline clip-path=\"url(#clip8702)\" style=\"stroke:#000000; stroke-width:0.5; stroke-opacity:0.1; fill:none\" points=\"\n",
       "  304.787,375.813 304.787,11.811 \n",
       "  \"/>\n",
       "<polyline clip-path=\"url(#clip8702)\" style=\"stroke:#000000; stroke-width:0.5; stroke-opacity:0.1; fill:none\" points=\"\n",
       "  442.551,375.813 442.551,11.811 \n",
       "  \"/>\n",
       "<polyline clip-path=\"url(#clip8702)\" style=\"stroke:#000000; stroke-width:0.5; stroke-opacity:0.1; fill:none\" points=\"\n",
       "  580.315,375.813 580.315,11.811 \n",
       "  \"/>\n",
       "<polyline clip-path=\"url(#clip8702)\" style=\"stroke:#000000; stroke-width:0.5; stroke-opacity:0.1; fill:none\" points=\"\n",
       "  29.2591,375.813 580.315,375.813 \n",
       "  \"/>\n",
       "<polyline clip-path=\"url(#clip8702)\" style=\"stroke:#000000; stroke-width:0.5; stroke-opacity:0.1; fill:none\" points=\"\n",
       "  29.2591,284.813 580.315,284.813 \n",
       "  \"/>\n",
       "<polyline clip-path=\"url(#clip8702)\" style=\"stroke:#000000; stroke-width:0.5; stroke-opacity:0.1; fill:none\" points=\"\n",
       "  29.2591,193.812 580.315,193.812 \n",
       "  \"/>\n",
       "<polyline clip-path=\"url(#clip8702)\" style=\"stroke:#000000; stroke-width:0.5; stroke-opacity:0.1; fill:none\" points=\"\n",
       "  29.2591,102.812 580.315,102.812 \n",
       "  \"/>\n",
       "<polyline clip-path=\"url(#clip8702)\" style=\"stroke:#000000; stroke-width:0.5; stroke-opacity:0.1; fill:none\" points=\"\n",
       "  29.2591,11.811 580.315,11.811 \n",
       "  \"/>\n",
       "<polyline clip-path=\"url(#clip8700)\" style=\"stroke:#000000; stroke-width:1; stroke-opacity:1; fill:none\" points=\"\n",
       "  29.2591,375.813 580.315,375.813 \n",
       "  \"/>\n",
       "<polyline clip-path=\"url(#clip8700)\" style=\"stroke:#000000; stroke-width:1; stroke-opacity:1; fill:none\" points=\"\n",
       "  29.2591,375.813 29.2591,11.811 \n",
       "  \"/>\n",
       "<polyline clip-path=\"url(#clip8700)\" style=\"stroke:#000000; stroke-width:1; stroke-opacity:1; fill:none\" points=\"\n",
       "  29.2591,375.813 29.2591,370.353 \n",
       "  \"/>\n",
       "<polyline clip-path=\"url(#clip8700)\" style=\"stroke:#000000; stroke-width:1; stroke-opacity:1; fill:none\" points=\"\n",
       "  167.023,375.813 167.023,370.353 \n",
       "  \"/>\n",
       "<polyline clip-path=\"url(#clip8700)\" style=\"stroke:#000000; stroke-width:1; stroke-opacity:1; fill:none\" points=\"\n",
       "  304.787,375.813 304.787,370.353 \n",
       "  \"/>\n",
       "<polyline clip-path=\"url(#clip8700)\" style=\"stroke:#000000; stroke-width:1; stroke-opacity:1; fill:none\" points=\"\n",
       "  442.551,375.813 442.551,370.353 \n",
       "  \"/>\n",
       "<polyline clip-path=\"url(#clip8700)\" style=\"stroke:#000000; stroke-width:1; stroke-opacity:1; fill:none\" points=\"\n",
       "  580.315,375.813 580.315,370.353 \n",
       "  \"/>\n",
       "<polyline clip-path=\"url(#clip8700)\" style=\"stroke:#000000; stroke-width:1; stroke-opacity:1; fill:none\" points=\"\n",
       "  29.2591,375.813 37.525,375.813 \n",
       "  \"/>\n",
       "<polyline clip-path=\"url(#clip8700)\" style=\"stroke:#000000; stroke-width:1; stroke-opacity:1; fill:none\" points=\"\n",
       "  29.2591,284.813 37.525,284.813 \n",
       "  \"/>\n",
       "<polyline clip-path=\"url(#clip8700)\" style=\"stroke:#000000; stroke-width:1; stroke-opacity:1; fill:none\" points=\"\n",
       "  29.2591,193.812 37.525,193.812 \n",
       "  \"/>\n",
       "<polyline clip-path=\"url(#clip8700)\" style=\"stroke:#000000; stroke-width:1; stroke-opacity:1; fill:none\" points=\"\n",
       "  29.2591,102.812 37.525,102.812 \n",
       "  \"/>\n",
       "<polyline clip-path=\"url(#clip8700)\" style=\"stroke:#000000; stroke-width:1; stroke-opacity:1; fill:none\" points=\"\n",
       "  29.2591,11.811 37.525,11.811 \n",
       "  \"/>\n",
       "<g clip-path=\"url(#clip8700)\">\n",
       "<text style=\"fill:#000000; fill-opacity:1; font-family:Arial,Helvetica Neue,Helvetica,sans-serif; font-size:12; text-anchor:middle;\" transform=\"rotate(0, 29.2591, 389.613)\" x=\"29.2591\" y=\"389.613\">0.0</text>\n",
       "</g>\n",
       "<g clip-path=\"url(#clip8700)\">\n",
       "<text style=\"fill:#000000; fill-opacity:1; font-family:Arial,Helvetica Neue,Helvetica,sans-serif; font-size:12; text-anchor:middle;\" transform=\"rotate(0, 167.023, 389.613)\" x=\"167.023\" y=\"389.613\">0.5</text>\n",
       "</g>\n",
       "<g clip-path=\"url(#clip8700)\">\n",
       "<text style=\"fill:#000000; fill-opacity:1; font-family:Arial,Helvetica Neue,Helvetica,sans-serif; font-size:12; text-anchor:middle;\" transform=\"rotate(0, 304.787, 389.613)\" x=\"304.787\" y=\"389.613\">1.0</text>\n",
       "</g>\n",
       "<g clip-path=\"url(#clip8700)\">\n",
       "<text style=\"fill:#000000; fill-opacity:1; font-family:Arial,Helvetica Neue,Helvetica,sans-serif; font-size:12; text-anchor:middle;\" transform=\"rotate(0, 442.551, 389.613)\" x=\"442.551\" y=\"389.613\">1.5</text>\n",
       "</g>\n",
       "<g clip-path=\"url(#clip8700)\">\n",
       "<text style=\"fill:#000000; fill-opacity:1; font-family:Arial,Helvetica Neue,Helvetica,sans-serif; font-size:12; text-anchor:middle;\" transform=\"rotate(0, 580.315, 389.613)\" x=\"580.315\" y=\"389.613\">2.0</text>\n",
       "</g>\n",
       "<g clip-path=\"url(#clip8700)\">\n",
       "<text style=\"fill:#000000; fill-opacity:1; font-family:Arial,Helvetica Neue,Helvetica,sans-serif; font-size:12; text-anchor:end;\" transform=\"rotate(0, 23.2591, 380.313)\" x=\"23.2591\" y=\"380.313\">-2</text>\n",
       "</g>\n",
       "<g clip-path=\"url(#clip8700)\">\n",
       "<text style=\"fill:#000000; fill-opacity:1; font-family:Arial,Helvetica Neue,Helvetica,sans-serif; font-size:12; text-anchor:end;\" transform=\"rotate(0, 23.2591, 289.313)\" x=\"23.2591\" y=\"289.313\">-1</text>\n",
       "</g>\n",
       "<g clip-path=\"url(#clip8700)\">\n",
       "<text style=\"fill:#000000; fill-opacity:1; font-family:Arial,Helvetica Neue,Helvetica,sans-serif; font-size:12; text-anchor:end;\" transform=\"rotate(0, 23.2591, 198.312)\" x=\"23.2591\" y=\"198.312\">0</text>\n",
       "</g>\n",
       "<g clip-path=\"url(#clip8700)\">\n",
       "<text style=\"fill:#000000; fill-opacity:1; font-family:Arial,Helvetica Neue,Helvetica,sans-serif; font-size:12; text-anchor:end;\" transform=\"rotate(0, 23.2591, 107.312)\" x=\"23.2591\" y=\"107.312\">1</text>\n",
       "</g>\n",
       "<g clip-path=\"url(#clip8700)\">\n",
       "<text style=\"fill:#000000; fill-opacity:1; font-family:Arial,Helvetica Neue,Helvetica,sans-serif; font-size:12; text-anchor:end;\" transform=\"rotate(0, 23.2591, 16.311)\" x=\"23.2591\" y=\"16.311\">2</text>\n",
       "</g>\n",
       "<polygon clip-path=\"url(#clip8702)\" points=\"\n",
       "29.2591,221.812 71.6481,221.812 71.6481,191.658 29.2591,191.658 29.2591,221.812 \n",
       "  \" fill=\"#0000ff\" fill-opacity=\"0.25\"/>\n",
       "<polyline clip-path=\"url(#clip8702)\" style=\"stroke:#000000; stroke-width:1; stroke-opacity:0.25; fill:none\" points=\"\n",
       "  29.2591,221.812 71.6481,221.812 71.6481,191.658 29.2591,191.658 29.2591,221.812 \n",
       "  \"/>\n",
       "<polygon clip-path=\"url(#clip8702)\" points=\"\n",
       "71.6481,247.659 114.037,247.659 114.037,213.197 71.6481,213.197 71.6481,247.659 \n",
       "  \" fill=\"#0000ff\" fill-opacity=\"0.25\"/>\n",
       "<polyline clip-path=\"url(#clip8702)\" style=\"stroke:#000000; stroke-width:1; stroke-opacity:0.25; fill:none\" points=\"\n",
       "  71.6481,247.659 114.037,247.659 114.037,213.197 71.6481,213.197 71.6481,247.659 \n",
       "  \"/>\n",
       "<polygon clip-path=\"url(#clip8702)\" points=\"\n",
       "114.037,269.197 156.426,269.197 156.426,230.428 114.037,230.428 114.037,269.197 \n",
       "  \" fill=\"#0000ff\" fill-opacity=\"0.25\"/>\n",
       "<polyline clip-path=\"url(#clip8702)\" style=\"stroke:#000000; stroke-width:1; stroke-opacity:0.25; fill:none\" points=\"\n",
       "  114.037,269.197 156.426,269.197 156.426,230.428 114.037,230.428 114.037,269.197 \n",
       "  \"/>\n",
       "<polygon clip-path=\"url(#clip8702)\" points=\"\n",
       "156.426,286.428 198.815,286.428 198.815,243.351 156.426,243.351 156.426,286.428 \n",
       "  \" fill=\"#0000ff\" fill-opacity=\"0.25\"/>\n",
       "<polyline clip-path=\"url(#clip8702)\" style=\"stroke:#000000; stroke-width:1; stroke-opacity:0.25; fill:none\" points=\"\n",
       "  156.426,286.428 198.815,286.428 198.815,243.351 156.426,243.351 156.426,286.428 \n",
       "  \"/>\n",
       "<polygon clip-path=\"url(#clip8702)\" points=\"\n",
       "198.815,299.351 241.204,299.351 241.204,251.966 198.815,251.966 198.815,299.351 \n",
       "  \" fill=\"#0000ff\" fill-opacity=\"0.25\"/>\n",
       "<polyline clip-path=\"url(#clip8702)\" style=\"stroke:#000000; stroke-width:1; stroke-opacity:0.25; fill:none\" points=\"\n",
       "  198.815,299.351 241.204,299.351 241.204,251.966 198.815,251.966 198.815,299.351 \n",
       "  \"/>\n",
       "<polygon clip-path=\"url(#clip8702)\" points=\"\n",
       "241.204,307.967 283.593,307.967 283.593,256.274 241.204,256.274 241.204,307.967 \n",
       "  \" fill=\"#0000ff\" fill-opacity=\"0.25\"/>\n",
       "<polyline clip-path=\"url(#clip8702)\" style=\"stroke:#000000; stroke-width:1; stroke-opacity:0.25; fill:none\" points=\"\n",
       "  241.204,307.967 283.593,307.967 283.593,256.274 241.204,256.274 241.204,307.967 \n",
       "  \"/>\n",
       "<polygon clip-path=\"url(#clip8702)\" points=\"\n",
       "283.593,312.275 325.982,312.275 325.982,256.274 283.593,256.274 283.593,312.275 \n",
       "  \" fill=\"#0000ff\" fill-opacity=\"0.25\"/>\n",
       "<polyline clip-path=\"url(#clip8702)\" style=\"stroke:#000000; stroke-width:1; stroke-opacity:0.25; fill:none\" points=\"\n",
       "  283.593,312.275 325.982,312.275 325.982,256.274 283.593,256.274 283.593,312.275 \n",
       "  \"/>\n",
       "<polygon clip-path=\"url(#clip8702)\" points=\"\n",
       "325.982,312.275 368.37,312.275 368.37,251.966 325.982,251.966 325.982,312.275 \n",
       "  \" fill=\"#0000ff\" fill-opacity=\"0.25\"/>\n",
       "<polyline clip-path=\"url(#clip8702)\" style=\"stroke:#000000; stroke-width:1; stroke-opacity:0.25; fill:none\" points=\"\n",
       "  325.982,312.275 368.37,312.275 368.37,251.966 325.982,251.966 325.982,312.275 \n",
       "  \"/>\n",
       "<polygon clip-path=\"url(#clip8702)\" points=\"\n",
       "368.37,307.967 410.759,307.967 410.759,243.351 368.37,243.351 368.37,307.967 \n",
       "  \" fill=\"#0000ff\" fill-opacity=\"0.25\"/>\n",
       "<polyline clip-path=\"url(#clip8702)\" style=\"stroke:#000000; stroke-width:1; stroke-opacity:0.25; fill:none\" points=\"\n",
       "  368.37,307.967 410.759,307.967 410.759,243.351 368.37,243.351 368.37,307.967 \n",
       "  \"/>\n",
       "<polygon clip-path=\"url(#clip8702)\" points=\"\n",
       "410.759,299.351 453.148,299.351 453.148,230.428 410.759,230.428 410.759,299.351 \n",
       "  \" fill=\"#0000ff\" fill-opacity=\"0.25\"/>\n",
       "<polyline clip-path=\"url(#clip8702)\" style=\"stroke:#000000; stroke-width:1; stroke-opacity:0.25; fill:none\" points=\"\n",
       "  410.759,299.351 453.148,299.351 453.148,230.428 410.759,230.428 410.759,299.351 \n",
       "  \"/>\n",
       "<polygon clip-path=\"url(#clip8702)\" points=\"\n",
       "453.148,286.428 495.537,286.428 495.537,213.197 453.148,213.197 453.148,286.428 \n",
       "  \" fill=\"#0000ff\" fill-opacity=\"0.25\"/>\n",
       "<polyline clip-path=\"url(#clip8702)\" style=\"stroke:#000000; stroke-width:1; stroke-opacity:0.25; fill:none\" points=\"\n",
       "  453.148,286.428 495.537,286.428 495.537,213.197 453.148,213.197 453.148,286.428 \n",
       "  \"/>\n",
       "<polygon clip-path=\"url(#clip8702)\" points=\"\n",
       "495.537,269.197 537.926,269.197 537.926,191.658 495.537,191.658 495.537,269.197 \n",
       "  \" fill=\"#0000ff\" fill-opacity=\"0.25\"/>\n",
       "<polyline clip-path=\"url(#clip8702)\" style=\"stroke:#000000; stroke-width:1; stroke-opacity:0.25; fill:none\" points=\"\n",
       "  495.537,269.197 537.926,269.197 537.926,191.658 495.537,191.658 495.537,269.197 \n",
       "  \"/>\n",
       "<polygon clip-path=\"url(#clip8702)\" points=\"\n",
       "537.926,247.659 580.315,247.659 580.315,165.812 537.926,165.812 537.926,247.659 \n",
       "  \" fill=\"#0000ff\" fill-opacity=\"0.25\"/>\n",
       "<polyline clip-path=\"url(#clip8702)\" style=\"stroke:#000000; stroke-width:1; stroke-opacity:0.25; fill:none\" points=\"\n",
       "  537.926,247.659 580.315,247.659 580.315,165.812 537.926,165.812 537.926,247.659 \n",
       "  \"/>\n",
       "<polygon clip-path=\"url(#clip8702)\" points=\"\n",
       "580.315,221.812 622.704,221.812 622.704,135.658 580.315,135.658 580.315,221.812 \n",
       "  \" fill=\"#0000ff\" fill-opacity=\"0.25\"/>\n",
       "<polyline clip-path=\"url(#clip8702)\" style=\"stroke:#000000; stroke-width:1; stroke-opacity:0.25; fill:none\" points=\"\n",
       "  580.315,221.812 622.704,221.812 622.704,135.658 580.315,135.658 580.315,221.812 \n",
       "  \"/>\n",
       "<polyline clip-path=\"url(#clip8702)\" style=\"stroke:#ff0000; stroke-width:1; stroke-opacity:1; fill:none\" points=\"\n",
       "  29.2591,193.812 34.8254,197.452 40.3916,201.017 45.9578,204.508 51.524,207.925 57.0902,211.268 62.6565,214.536 68.2227,217.73 73.7889,220.85 79.3551,223.895 \n",
       "  84.9213,226.866 90.4876,229.763 96.0538,232.586 101.62,235.334 107.186,238.008 112.752,240.608 118.319,243.133 123.885,245.584 129.451,247.961 135.017,250.264 \n",
       "  140.584,252.492 146.15,254.646 151.716,256.726 157.282,258.732 162.848,260.663 168.415,262.52 173.981,264.303 179.547,266.011 185.113,267.645 190.68,269.205 \n",
       "  196.246,270.691 201.812,272.102 207.378,273.439 212.944,274.702 218.511,275.89 224.077,277.004 229.643,278.044 235.209,279.01 240.776,279.901 246.342,280.718 \n",
       "  251.908,281.461 257.474,282.13 263.04,282.724 268.607,283.244 274.173,283.689 279.739,284.061 285.305,284.358 290.872,284.581 296.438,284.729 302.004,284.804 \n",
       "  307.57,284.804 313.136,284.729 318.703,284.581 324.269,284.358 329.835,284.061 335.401,283.689 340.967,283.244 346.534,282.724 352.1,282.13 357.666,281.461 \n",
       "  363.232,280.718 368.799,279.901 374.365,279.01 379.931,278.044 385.497,277.004 391.063,275.89 396.63,274.702 402.196,273.439 407.762,272.102 413.328,270.691 \n",
       "  418.895,269.205 424.461,267.645 430.027,266.011 435.593,264.303 441.159,262.52 446.726,260.663 452.292,258.732 457.858,256.726 463.424,254.646 468.991,252.492 \n",
       "  474.557,250.264 480.123,247.961 485.689,245.584 491.255,243.133 496.822,240.608 502.388,238.008 507.954,235.334 513.52,232.586 519.087,229.763 524.653,226.866 \n",
       "  530.219,223.895 535.785,220.85 541.351,217.73 546.918,214.536 552.484,211.268 558.05,207.925 563.616,204.508 569.183,201.017 574.749,197.452 580.315,193.812 \n",
       "  \n",
       "  \"/>\n",
       "</svg>\n"
      ]
     },
     "execution_count": 43,
     "metadata": {
      "comm_id": "c365d093-90f9-44c5-bb7e-8f8c020dba42",
      "reactive": true
     },
     "output_type": "execute_result"
    }
   ],
   "source": [
    "@manipulate for i in 1:25\n",
    "   intervalos(rangoG, 0.0, 2.0, i) \n",
    "end\n"
   ]
  },
  {
   "cell_type": "markdown",
   "metadata": {},
   "source": [
    "### Multiplicación"
   ]
  },
  {
   "cell_type": "markdown",
   "metadata": {},
   "source": [
    "**[8]** (i) ¿Cómo podemos multiplicar dos intervalos? ¿Cuáles son todos los valores posibles?\n",
    "\n",
    "(ii) Implementa esto. \n",
    "\n",
    "(iii) Una manera de escribir tests para esto es generar de manera aleatoria los puntos finales de los intervalos, y generar aleatoriamente (uniforme) puntos adentro de los intervalos. Implementa tests de esta forma. Compara con tu vecino.\n",
    "\n",
    "(iv) Compara el resultado de $[-1, 2]^2$ con $[-1, 2] \\times [-1, 2]$. ¿Qué observas?"
   ]
  },
  {
   "cell_type": "markdown",
   "metadata": {},
   "source": [
    "### Resumen"
   ]
  },
  {
   "cell_type": "markdown",
   "metadata": {},
   "source": [
    "**[9]** Escribe un resumen de lo que hemos aprendido en este notebook."
   ]
  },
  {
   "cell_type": "markdown",
   "metadata": {
    "collapsed": true
   },
   "source": [
    "* Podemos ver que la imagen de una función está contenida en el conjunto calculado\n",
    "\n",
    "* Para una mejor aproximación de la función podemos hacer una partición del intervalo y calcular los respectivos conjuntos que contienen fragmentos de la imagen de dicha función\n",
    "\n",
    "* Para determinar la raíz de una función podemos determinar el o los intervalos que contienen al cero y luego en este intervalo determinar la raíz usando algún método para ello, como el de Newton\n",
    "\n",
    "* Adémas la suma de intervalos se puede definir como: $[a, b] + [c, d] = [a + c ,b + d]$ y la resta como: $[a, b] - [c, d] = [a - d ,b - c]$"
   ]
  },
  {
   "cell_type": "code",
   "execution_count": null,
   "metadata": {
    "collapsed": true
   },
   "outputs": [],
   "source": []
  }
 ],
 "metadata": {
  "kernelspec": {
   "display_name": "Julia 0.6.0",
   "language": "julia",
   "name": "julia-0.6"
  },
  "language_info": {
   "file_extension": ".jl",
   "mimetype": "application/julia",
   "name": "julia",
   "version": "0.6.0"
  },
  "toc": {
   "colors": {
    "hover_highlight": "#DAA520",
    "running_highlight": "#FF0000",
    "selected_highlight": "#FFD700"
   },
   "moveMenuLeft": true,
   "nav_menu": {
    "height": "30px",
    "width": "252px"
   },
   "navigate_menu": true,
   "number_sections": true,
   "sideBar": true,
   "threshold": "1",
   "toc_cell": false,
   "toc_section_display": "block",
   "toc_window_display": false
  }
 },
 "nbformat": 4,
 "nbformat_minor": 2
}
