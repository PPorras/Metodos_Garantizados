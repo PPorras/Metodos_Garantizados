{
 "cells": [
  {
   "cell_type": "markdown",
   "metadata": {},
   "source": [
    "# Redondeo"
   ]
  },
  {
   "cell_type": "markdown",
   "metadata": {},
   "source": [
    "**[1]**\n",
    "\n",
    "(i) Usando el tipo `MiFloat`, ¿qué obtienes si sumas el número más grande posible consigo mismo? Para cualquier ejemplo, considera la base 2 con `prec=3`, `rmin=-1`, `rmax=2`.\n",
    "\n",
    "(ii) ¿Cómo se te ocurre representar el resultado?\n",
    "\n",
    "(iii) Y si sumas el número más grande con cualquier otro distinto de cero, ¿qué se obtiene?"
   ]
  },
  {
   "cell_type": "markdown",
   "metadata": {},
   "source": [
    "**[1]**\n",
    "\n",
    "(i) Usando el tipo `MiFloat`, ¿qué obtienes si sumas el número más grande posible consigo mismo? Para cualquier ejemplo, considera la base 2 con `prec=3`, `rmin=-1`, `rmax=2`.\n",
    "\n",
    "Para ello implementemos el constructor `MiFloat`"
   ]
  },
  {
   "cell_type": "code",
   "execution_count": 1,
   "metadata": {},
   "outputs": [
    {
     "data": {
      "text/plain": [
       "2"
      ]
     },
     "execution_count": 1,
     "metadata": {},
     "output_type": "execute_result"
    }
   ],
   "source": [
    "const prec = 3\n",
    "const rmin = -1\n",
    "const rmax = 2"
   ]
  },
  {
   "cell_type": "code",
   "execution_count": 2,
   "metadata": {
    "collapsed": true
   },
   "outputs": [],
   "source": [
    "struct MiFloat \n",
    "    base ::Int\n",
    "    sigma ::Bool\n",
    "    expo ::Int\n",
    "    mant ::NTuple{prec, Int}\n",
    "    function MiFloat(base,sigma,expo,mant)\n",
    "        @assert base >= 2 \"Base tiene que ser mayor igual que dos\" \n",
    "        for i in mant\n",
    "            @assert i < base \"Los elementos de la mantisa deben ser menores que la base\"\n",
    "        end\n",
    "        @assert rmin <= expo  <= rmax \"expo fuera de rango\"\n",
    "        if mant[1] != 0 || expo == rmin\n",
    "            new(base, sigma, expo, mant)\n",
    "        \n",
    "        elseif mant[1] == 0\n",
    "            allzeros = true\n",
    "            i = 2\n",
    "            while allzeros && i <= prec\n",
    "                if mant[i] == 0\n",
    "                    i +=1\n",
    "                else\n",
    "                    allzeros = false\n",
    "                    error(\"El primero elemento tiene que ser cero o mantisa cero\")\n",
    "                end\n",
    "            end\n",
    "            allzeros ? new(base, sigma, expo, mant) : nothing\n",
    "        end\n",
    "    end\n",
    "end"
   ]
  },
  {
   "cell_type": "code",
   "execution_count": 3,
   "metadata": {},
   "outputs": [
    {
     "data": {
      "text/plain": [
       "MiFloat(2, false, -1, (0, 1, 0))"
      ]
     },
     "execution_count": 3,
     "metadata": {},
     "output_type": "execute_result"
    }
   ],
   "source": [
    "MiFloat(2,false,-1,(0,1,0))"
   ]
  },
  {
   "cell_type": "code",
   "execution_count": 4,
   "metadata": {},
   "outputs": [
    {
     "data": {
      "text/plain": [
       "superFloat (generic function with 1 method)"
      ]
     },
     "execution_count": 4,
     "metadata": {},
     "output_type": "execute_result"
    }
   ],
   "source": [
    "function superFloat(x::MiFloat)\n",
    "    if x.sigma \n",
    "        signo = -1\n",
    "    else\n",
    "        signo = 1\n",
    "    end\n",
    "    f = 0.0\n",
    "    for i in 1:length(x.mant)\n",
    "        f += (x.mant[i]/convert(Float64, x.base^(i-1)))*\n",
    "        convert(Float64,x.base)^x.expo\n",
    "    end\n",
    "    f*signo\n",
    "end"
   ]
  },
  {
   "cell_type": "markdown",
   "metadata": {},
   "source": [
    "Ahora sumemos el número más grande consigo mismo"
   ]
  },
  {
   "cell_type": "code",
   "execution_count": 5,
   "metadata": {},
   "outputs": [
    {
     "data": {
      "text/plain": [
       "generadordemantisa (generic function with 1 method)"
      ]
     },
     "execution_count": 5,
     "metadata": {},
     "output_type": "execute_result"
    }
   ],
   "source": [
    "function generadordemantisa(b,p)\n",
    "    tupla = []\n",
    "    #push!(tupla,(0, 0, 0))\n",
    "    for i in 1:1 ## prec\n",
    "        for j in 0:1 ## base\n",
    "            for k in 0:1\n",
    "                push!(tupla,(i,j,k))\n",
    "            end\n",
    "        end\n",
    "    end\n",
    "    tupla\n",
    "end"
   ]
  },
  {
   "cell_type": "code",
   "execution_count": 6,
   "metadata": {
    "collapsed": true
   },
   "outputs": [],
   "source": [
    "F = []\n",
    "for  j in rmin:rmax, i in false:true\n",
    "    mantisas = generadordemantisa(2,3)\n",
    "    for mantisa in mantisas\n",
    "        y = superFloat(MiFloat(2,i,j,mantisa)) \n",
    "        push!(F,y)\n",
    "    end\n",
    "        \n",
    "end"
   ]
  },
  {
   "cell_type": "code",
   "execution_count": 7,
   "metadata": {},
   "outputs": [
    {
     "name": "stdout",
     "output_type": "stream",
     "text": [
      "0.5\n",
      "0.625\n",
      "0.75\n",
      "0.875\n",
      "-0.5\n",
      "-0.625\n",
      "-0.75\n",
      "-0.875\n",
      "1.0\n",
      "1.25\n",
      "1.5\n",
      "1.75\n",
      "-1.0\n",
      "-1.25\n",
      "-1.5\n",
      "-1.75\n",
      "2.0\n",
      "2.5\n",
      "3.0\n",
      "3.5\n",
      "-2.0\n",
      "-2.5\n",
      "-3.0\n",
      "-3.5\n",
      "4.0\n",
      "5.0\n",
      "6.0\n",
      "7.0\n",
      "-4.0\n",
      "-5.0\n",
      "-6.0\n",
      "-7.0\n"
     ]
    }
   ],
   "source": [
    "for i in F \n",
    "    println(i)\n",
    "end"
   ]
  },
  {
   "cell_type": "code",
   "execution_count": 8,
   "metadata": {
    "collapsed": true
   },
   "outputs": [],
   "source": [
    "#using Plots, LaTeXStrings"
   ]
  },
  {
   "cell_type": "code",
   "execution_count": 9,
   "metadata": {
    "collapsed": true
   },
   "outputs": [],
   "source": [
    "#y = zeros(length(F))"
   ]
  },
  {
   "cell_type": "code",
   "execution_count": 10,
   "metadata": {
    "collapsed": true
   },
   "outputs": [],
   "source": [
    "#scatter(F, y, ms=3.0, lab=\"números de maquina\",ylim=(-0.5,0.5))\n",
    "#vline!(F,line=(1,:dash),color=[:blue :orange])"
   ]
  },
  {
   "cell_type": "markdown",
   "metadata": {},
   "source": [
    "Vemos que número más grande es el $7.0$, es decir;"
   ]
  },
  {
   "cell_type": "code",
   "execution_count": 11,
   "metadata": {},
   "outputs": [
    {
     "data": {
      "text/plain": [
       "7.0"
      ]
     },
     "execution_count": 11,
     "metadata": {},
     "output_type": "execute_result"
    }
   ],
   "source": [
    "x =  superFloat(MiFloat(2,false,2,(1,1,1)))"
   ]
  },
  {
   "cell_type": "code",
   "execution_count": 12,
   "metadata": {},
   "outputs": [
    {
     "data": {
      "text/plain": [
       "14.0"
      ]
     },
     "execution_count": 12,
     "metadata": {},
     "output_type": "execute_result"
    }
   ],
   "source": [
    "x + x "
   ]
  },
  {
   "cell_type": "markdown",
   "metadata": {},
   "source": [
    "Vemos que sumar `x` consigo mismo sale de la aritmetica definida"
   ]
  },
  {
   "cell_type": "markdown",
   "metadata": {},
   "source": [
    "(ii) ¿Cómo se te ocurre representar el resultado?\n",
    "\n"
   ]
  },
  {
   "cell_type": "markdown",
   "metadata": {},
   "source": [
    "(iii) Y si sumas el número más grande con cualquier otro distinto de cero, ¿qué se obtiene?\n",
    "\n",
    "Para ver los anterior generemos otro número "
   ]
  },
  {
   "cell_type": "code",
   "execution_count": 13,
   "metadata": {},
   "outputs": [
    {
     "data": {
      "text/plain": [
       "-2.5"
      ]
     },
     "execution_count": 13,
     "metadata": {},
     "output_type": "execute_result"
    }
   ],
   "source": [
    "y = superFloat(MiFloat(2,true,1,(1,0,1)))"
   ]
  },
  {
   "cell_type": "code",
   "execution_count": 14,
   "metadata": {},
   "outputs": [
    {
     "data": {
      "text/plain": [
       "4.5"
      ]
     },
     "execution_count": 14,
     "metadata": {},
     "output_type": "execute_result"
    }
   ],
   "source": [
    "s = x + y"
   ]
  },
  {
   "cell_type": "markdown",
   "metadata": {},
   "source": [
    "Vemos que $4.5$ no forma parte de los números generados"
   ]
  },
  {
   "cell_type": "code",
   "execution_count": 15,
   "metadata": {},
   "outputs": [],
   "source": [
    "for i in F\n",
    "    if i == 5.5\n",
    "        return println(\"Lo encontre\")\n",
    "    end\n",
    "end"
   ]
  },
  {
   "cell_type": "markdown",
   "metadata": {},
   "source": [
    "**[2]** Sobrecarga la función `show` (que existe en `Base`) para representa de manera agradable los números tipo `MiFloat`.\n",
    "\n",
    "Sobrecarguemos dicha función"
   ]
  },
  {
   "cell_type": "code",
   "execution_count": 16,
   "metadata": {
    "collapsed": true
   },
   "outputs": [],
   "source": [
    "function Base.show(io::IO, m::MiFloat) \n",
    "    base = m.base\n",
    "    (-1)^Int(m.sigma) == -1 ? str = \"-\" : str = \" \"     \n",
    "    expo = m.expo\n",
    "    mantisa = m.mant\n",
    "    println(io, str ,\"$mantisa × $base^$expo\")\n",
    "end"
   ]
  },
  {
   "cell_type": "code",
   "execution_count": 17,
   "metadata": {},
   "outputs": [
    {
     "data": {
      "text/plain": [
       " (1, 1, 1) × 2^2\n"
      ]
     },
     "execution_count": 17,
     "metadata": {},
     "output_type": "execute_result"
    }
   ],
   "source": [
    "MiFloat(2,false,2,(1,1,1))"
   ]
  },
  {
   "cell_type": "code",
   "execution_count": 18,
   "metadata": {},
   "outputs": [
    {
     "data": {
      "text/plain": [
       "-(1, 0, 1) × 2^1\n"
      ]
     },
     "execution_count": 18,
     "metadata": {},
     "output_type": "execute_result"
    }
   ],
   "source": [
    "MiFloat(2, true, 1, (1, 0, 1))"
   ]
  },
  {
   "cell_type": "markdown",
   "metadata": {},
   "source": [
    "Es fácil convencerse que la suma no es cerrada para los números de punto flotante. Considerando por concretez la base 2 con `prec=3`, `rmin=-1`, `rmax=2` para definir `MiFloat`, y por simplicidad sólo considerando los números de punto flotante normales, el resultado de \n",
    "\n",
    "    MiFloat(2, false, -1, (1, 0, 0)) + Mifloat(2, false, -1, (1, 0, 1))\n",
    "    \n",
    "no es un número que puede representarse por `MiFloat`. Justamente esto nos lleva al concepto de *redondeo*."
   ]
  },
  {
   "cell_type": "code",
   "execution_count": 19,
   "metadata": {},
   "outputs": [
    {
     "ename": "LoadError",
     "evalue": "\u001b[91mMethodError: no method matching +(::MiFloat, ::MiFloat)\u001b[0m\nClosest candidates are:\n  +(::Any, ::Any, \u001b[91m::Any\u001b[39m, \u001b[91m::Any...\u001b[39m) at operators.jl:424\u001b[39m",
     "output_type": "error",
     "traceback": [
      "\u001b[91mMethodError: no method matching +(::MiFloat, ::MiFloat)\u001b[0m\nClosest candidates are:\n  +(::Any, ::Any, \u001b[91m::Any\u001b[39m, \u001b[91m::Any...\u001b[39m) at operators.jl:424\u001b[39m",
      "",
      "Stacktrace:",
      " [1] \u001b[1minclude_string\u001b[22m\u001b[22m\u001b[1m(\u001b[22m\u001b[22m::String, ::String\u001b[1m)\u001b[22m\u001b[22m at \u001b[1m./loading.jl:522\u001b[22m\u001b[22m"
     ]
    }
   ],
   "source": [
    "MiFloat(2, false, -1, (1, 0, 0)) + MiFloat(2, false, -1, (1, 0, 1))"
   ]
  },
  {
   "cell_type": "code",
   "execution_count": 20,
   "metadata": {},
   "outputs": [
    {
     "data": {
      "text/plain": [
       " (1, 0, 0) × 2^-1\n"
      ]
     },
     "execution_count": 20,
     "metadata": {},
     "output_type": "execute_result"
    }
   ],
   "source": [
    "MiFloat(2, false, -1, (1, 0, 0)) "
   ]
  },
  {
   "cell_type": "markdown",
   "metadata": {},
   "source": [
    "## Redondeo"
   ]
  },
  {
   "cell_type": "markdown",
   "metadata": {},
   "source": [
    "Sea $\\mathbb{R}^*$ los **reales extendidos**, o sea, que incluyen a $-\\infty$ e $\\infty$, y $\\mathbb{F}^*$ los números de punto flotante extendidos.\n",
    "\n",
    "Una operación $\\bigcirc: \\mathbb{R}^* \\to \\mathbb{F}$ es una operación de **redondeo** si se cumplen las siguientes dos propiedades:\n",
    "\n",
    "- (1) $x\\in\\mathbb{F}^* \\Longrightarrow \\bigcirc(x) = x$,\n",
    "\n",
    "- (2) $x, y\\in\\mathbb{F}^*$ y $x\\le y \\Longrightarrow \\bigcirc(x) \\le \\bigcirc(y)$."
   ]
  },
  {
   "cell_type": "markdown",
   "metadata": {},
   "source": [
    "Hay diversos tipos de redondeo. En particular nos interesarán los llamados *modos directos* de redondeo. \n",
    "\n",
    "Definiremos el redondeo *hacia abajo* (o hacia menos infinito) y el redondeo *hacia arriba* (o hacia más infinito), que denotaremos respectivamente con los símbolos $\\triangledown$ y $\\vartriangle$, si además se cumple:\n",
    "\n",
    "- $x\\in\\mathbb{R}^* \\Longrightarrow \\triangledown(x) \\leq x$,\n",
    "\n",
    "- $x\\in\\mathbb{R}^* \\Longrightarrow \\, \\vartriangle(x) \\geq x$.\n",
    "\n",
    "De esta manera, si $x\\in\\mathbb{R}^*$, el número $\\triangledown(x)$ es el mayor número de punto flotante menor o igual a x, y $\\vartriangle(x)$ es el menor número de punto flotante mayor o igual a x."
   ]
  },
  {
   "cell_type": "markdown",
   "metadata": {},
   "source": [
    "**[3]** ¿Qué podemos decir de $\\vartriangle(-x)$ y $\\triangledown(x)$ ?"
   ]
  },
  {
   "cell_type": "markdown",
   "metadata": {},
   "source": [
    "* $\\vartriangle(-x)$  el menor número de punto flotante mayor o igual a $-x$\n",
    "* $\\triangledown(x)$ es el mayor número de punto flotante menor o igual a x"
   ]
  },
  {
   "cell_type": "markdown",
   "metadata": {},
   "source": [
    "Otro modo de redondeo ampliamente usado es el llamado *redondeo al más cercano*. La idea es que para todo valor $x$ (menor en valor absoluto al mayor número representable, $N_\\textrm{max}$), se cumple\n",
    "\n",
    "$$ \\triangledown(x) \\leq x \\leq \\,\\vartriangle(x). $$\n",
    "\n",
    "Definiendo el punto medio $\\mu(x) = \\frac{1}{2}(\\triangledown(x)+\\vartriangle(x)\\,),$ definimos para $x > 0$ el modo de redondeo *al más cercano* como\n",
    "\n",
    "\\begin{eqnarray*}\n",
    "\\square_n(x) & = & \\triangledown(x), \\textrm{si } x\\in [\\triangledown(x),\\mu),\\\\\n",
    "\\square_n(x) & = & \\vartriangle(x), \\textrm{si } x\\in[\\mu,\\vartriangle(x)],\\\\\n",
    "\\end{eqnarray*}\n",
    "\n",
    "Para $x<0$, usamos la propiedad $\\square_n(x)= -\\square_n(-x)$."
   ]
  },
  {
   "cell_type": "markdown",
   "metadata": {},
   "source": [
    "En la definición anterior hay una pequeña asimetría que, de hecho, hace que se redondee más hacia arriba o hacia abajo, según el signo de $x$.\n",
    "\n",
    "Para evitar eso, en particular respecto al caso en que $x=\\mu$, se introduce el redondeo *hacia el más cercano par*, explotando el último dígito de la expansión en la base $\\beta$. Escribimos:\n",
    "\n",
    "\\begin{eqnarray}\n",
    "\\triangledown(x) &\\longrightarrow& (a_0.a_1\\dots a_{p-1})_\\beta,\\\\\n",
    "\\vartriangle(x) &\\longrightarrow& (b_0.b_1\\dots b_{p-1})_\\beta.\n",
    "\\end{eqnarray}\n",
    "\n",
    "Si $x\\not\\in \\mathbb{F}^*$ sólo uno de los dos últimos bits de la representación de la mantisa de $\\triangledown(x)$ o $\\vartriangle(x)$ es par. Así, definimos el modo de redondeo $\\square(x)$ *hacia el más cercano par* como ($x>0$):\n",
    "\n",
    "\\begin{eqnarray*}\n",
    "\\square(x) & = & \\triangledown(x), \\textrm{si } x\\in [\\triangledown(x),\\mu), \\textrm{o si } x=\\mu \\textrm{ y } a_{p-1} \\textrm{es par},\\\\\n",
    "\\square(x) & = & \\vartriangle(x), \\textrm{si } x\\in(\\mu,\\vartriangle(x)], \\textrm{o si } x=\\mu \\textrm{ y } b_{p-1} \\textrm{es par}.\n",
    "\\end{eqnarray*}\n",
    "\n",
    "El modo de redondeo $\\square$ es típicamente el modo que se utiliza por default en casi todas las implementaciones de los números de punto flotante."
   ]
  },
  {
   "cell_type": "markdown",
   "metadata": {},
   "source": [
    "Es importante enfatizar que $\\mu$ es un número real, en general no representable como `Float64` (o `MiFloat`). Es por esto que, a fin de poder decidir cómo redondear, se requieren un par de bits más para $\\mu$."
   ]
  },
  {
   "cell_type": "markdown",
   "metadata": {},
   "source": [
    "**[4]** \n",
    "\n",
    "Sobrecarga la operación suma (`+`), definida en `Base`, para que funcione usando dos elementos de `MiFloat`, de tal forma que el usuario pueda elegir qué tipo de redondeo quiere. Incluye varios tests que demuestren el funcionamiento de tu algoritmo.\n",
    "\n",
    "Para hacer esto, una posibilidad es definir una constante `ModoRedondeo` que pueda valer `:RedondArriba`, `:RedondAbajo` o `:RedondMasCercano`. (Nota los \"dos puntos\" `:`; sirven para especificar que estas palabras son símbolos.) La idea es definir apropiadamente las funciones `suma(::Val{:RedondArriba}, a::MiFloat, b::MiFloat)`, `suma(::Val{:RedondAbajo}, a::MiFloat, b::MiFloat)`, `suma(::Val{:RedonddMasCercano}, a::MiFloat, b::MiFloat)`, para sobrecargar la operación `+` llamando a `suma(Val(ModoRedondeo), a, b)`."
   ]
  },
  {
   "cell_type": "code",
   "execution_count": 21,
   "metadata": {},
   "outputs": [
    {
     "data": {
      "text/plain": [
       " (1, 1, 1) × 2^2\n"
      ]
     },
     "execution_count": 21,
     "metadata": {},
     "output_type": "execute_result"
    }
   ],
   "source": [
    "MiFloat(2,false,2,(1,1,1))"
   ]
  },
  {
   "cell_type": "code",
   "execution_count": 22,
   "metadata": {},
   "outputs": [
    {
     "data": {
      "text/plain": [
       "-(1, 0, 1) × 2^1\n"
      ]
     },
     "execution_count": 22,
     "metadata": {},
     "output_type": "execute_result"
    }
   ],
   "source": [
    "MiFloat(2, true, 1, (1, 0, 1))"
   ]
  },
  {
   "cell_type": "code",
   "execution_count": 23,
   "metadata": {
    "collapsed": true
   },
   "outputs": [],
   "source": [
    "import Base: +, -"
   ]
  },
  {
   "cell_type": "code",
   "execution_count": 24,
   "metadata": {},
   "outputs": [
    {
     "data": {
      "text/plain": [
       "sumarbinario (generic function with 1 method)"
      ]
     },
     "execution_count": 24,
     "metadata": {},
     "output_type": "execute_result"
    }
   ],
   "source": [
    "function sumarbinario(min::Array{Int64,1}, max::Array{Int64,1})\n",
    "    newmant = zeros(Int64,length(min) + 1)\n",
    "    @show length(min)\n",
    "    y = 0\n",
    "    for j in length(min) :-1:1\n",
    "\n",
    "        if min[j] + max[j] + y == 2\n",
    "            y = 1\n",
    "            x = 0\n",
    "\n",
    "        elseif min[j] + max[j] + y == 3\n",
    "            y = 1\n",
    "            x = 1\n",
    "\n",
    "        elseif min[j] + max[j] + y == 1\n",
    "            y = 0\n",
    "            x = 1\n",
    "\n",
    "        else\n",
    "            y = 0\n",
    "            x = 0\n",
    "\n",
    "        end\n",
    "        newmant[j+1] = x    \n",
    "    end\n",
    "    newmant[1] = y\n",
    "    newmant   \n",
    "end"
   ]
  },
  {
   "cell_type": "code",
   "execution_count": 25,
   "metadata": {},
   "outputs": [
    {
     "name": "stdout",
     "output_type": "stream",
     "text": [
      "length(min) = 3\n"
     ]
    },
    {
     "data": {
      "text/plain": [
       "4-element Array{Int64,1}:\n",
       " 0\n",
       " 1\n",
       " 1\n",
       " 1"
      ]
     },
     "execution_count": 25,
     "metadata": {},
     "output_type": "execute_result"
    }
   ],
   "source": [
    "sumarbinario([0, 1, 0], [1, 0, 1])"
   ]
  },
  {
   "cell_type": "code",
   "execution_count": 26,
   "metadata": {},
   "outputs": [
    {
     "data": {
      "text/plain": [
       "false"
      ]
     },
     "execution_count": 26,
     "metadata": {},
     "output_type": "execute_result"
    }
   ],
   "source": [
    "(1,1,0) > (1,1,1)"
   ]
  },
  {
   "cell_type": "markdown",
   "metadata": {},
   "source": [
    "function restarbinario(mantisa::NTuple{prec, Int},aux::Array{Int64,1})\n",
    "    newmant = zeros(Int64,prec )\n",
    "\n",
    "    for j in prec:-1:1\n",
    "\n",
    "        if mantisa[j] - aux[j] == 0\n",
    "            x = 0\n",
    "\n",
    "        elseif mantisa[j] - aux[j] == -1\n",
    "            x = 1\n",
    "\n",
    "        elseif mantisa[j] - aux[j] == 1\n",
    "            x = 1\n",
    "\n",
    "        end  \n",
    "        newmant[j] = x\n",
    "    end\n",
    "    newmant   \n",
    "end"
   ]
  },
  {
   "cell_type": "markdown",
   "metadata": {},
   "source": [
    "function restarbinario(aux::Array{Int64,1}, mantisa::NTuple{prec, Int})\n",
    "    newmant = zeros(Int64,prec )\n",
    "\n",
    "    for j in prec:-1:1\n",
    "\n",
    "        if - mantisa[j] + aux[j] == 0\n",
    "            x = 0\n",
    "\n",
    "        elseif - mantisa[j] + aux[j] == -1\n",
    "            x = 1\n",
    "\n",
    "        elseif - mantisa[j] + aux[j] == 1\n",
    "            x = 1\n",
    "\n",
    "        end  \n",
    "        newmant[j] = x\n",
    "    end\n",
    "    newmant   \n",
    "end"
   ]
  },
  {
   "cell_type": "code",
   "execution_count": 27,
   "metadata": {},
   "outputs": [
    {
     "ename": "LoadError",
     "evalue": "\u001b[91mUndefVarError: restarbinario not defined\u001b[39m",
     "output_type": "error",
     "traceback": [
      "\u001b[91mUndefVarError: restarbinario not defined\u001b[39m",
      "",
      "Stacktrace:",
      " [1] \u001b[1minclude_string\u001b[22m\u001b[22m\u001b[1m(\u001b[22m\u001b[22m::String, ::String\u001b[1m)\u001b[22m\u001b[22m at \u001b[1m./loading.jl:522\u001b[22m\u001b[22m"
     ]
    }
   ],
   "source": [
    "restarbinario((1, 1, 1),[0, 1, 0])"
   ]
  },
  {
   "cell_type": "code",
   "execution_count": 28,
   "metadata": {},
   "outputs": [
    {
     "ename": "LoadError",
     "evalue": "\u001b[91mUndefVarError: restarbinario not defined\u001b[39m",
     "output_type": "error",
     "traceback": [
      "\u001b[91mUndefVarError: restarbinario not defined\u001b[39m",
      "",
      "Stacktrace:",
      " [1] \u001b[1minclude_string\u001b[22m\u001b[22m\u001b[1m(\u001b[22m\u001b[22m::String, ::String\u001b[1m)\u001b[22m\u001b[22m at \u001b[1m./loading.jl:522\u001b[22m\u001b[22m"
     ]
    }
   ],
   "source": [
    "restarbinario([1, 1, 1],(0, 1, 0))"
   ]
  },
  {
   "cell_type": "code",
   "execution_count": 29,
   "metadata": {},
   "outputs": [
    {
     "data": {
      "text/plain": [
       "\"0000000000000000000000000000000000000000000000000000000000000010\""
      ]
     },
     "execution_count": 29,
     "metadata": {},
     "output_type": "execute_result"
    }
   ],
   "source": [
    "bits(2)"
   ]
  },
  {
   "cell_type": "code",
   "execution_count": 30,
   "metadata": {},
   "outputs": [
    {
     "data": {
      "text/plain": [
       "\"1111111111111111111111111111111111111111111111111111111111111110\""
      ]
     },
     "execution_count": 30,
     "metadata": {},
     "output_type": "execute_result"
    }
   ],
   "source": [
    "bits(-2)"
   ]
  },
  {
   "cell_type": "code",
   "execution_count": 31,
   "metadata": {},
   "outputs": [
    {
     "data": {
      "text/plain": [
       "false"
      ]
     },
     "execution_count": 31,
     "metadata": {},
     "output_type": "execute_result"
    }
   ],
   "source": [
    "(0, 0, 1, 0, 1) > (1, 0, 1, 0, 0)"
   ]
  },
  {
   "cell_type": "code",
   "execution_count": 32,
   "metadata": {},
   "outputs": [
    {
     "data": {
      "text/plain": [
       "- (generic function with 195 methods)"
      ]
     },
     "execution_count": 32,
     "metadata": {},
     "output_type": "execute_result"
    }
   ],
   "source": [
    "function -(x::MiFloat, y::MiFloat)\n",
    "    \n",
    "    x.base == y.base ? nothing : error(\"Las bases tiene que ser iguales\")\n",
    "    \n",
    "    mantisas = [x.mant, y.mant]\n",
    "    exponentes = [x.expo, y.expo]\n",
    "    expo = maximum(exponentes)\n",
    "    \n",
    "    if x.expo == y.expo\n",
    "        \n",
    "        mantexpomin = zeros(Int64,prec)\n",
    "        mantexpomax = zeros(Int64,prec)\n",
    "        uno = zeros(Int64, prec + 1)\n",
    "        uno[end] = 1\n",
    "        \n",
    "        if x.mant == y.mant\n",
    "            return MiFloat(2,false,expo, (0, 0, 0))\n",
    "        elseif x.mant > y.mant\n",
    "            sigma = false\n",
    "            indicemax = 1\n",
    "            indice = 2\n",
    "        else\n",
    "            sigma = true\n",
    "            indicemax = 2\n",
    "            indice = 1\n",
    "        end \n",
    "        \n",
    "        for i in 1:prec\n",
    "            mantexpomin[i] = mantisas[indice][i]\n",
    "            mantexpomax[i] = mantisas[indicemax][i]\n",
    "        end\n",
    "        \n",
    "    else \n",
    "        \n",
    "        Deltaexpo = abs(x.expo - y.expo)\n",
    "        indice = findmin(exponentes)[2]\n",
    "        indicemax = findmax(exponentes)[2]\n",
    "        mantexpomin = zeros(Int64, prec + Deltaexpo)\n",
    "        mantexpomax = zeros(Int64, prec + Deltaexpo)\n",
    "        uno = zeros(Int64, prec + Deltaexpo + 1)\n",
    "        uno[end] = 1\n",
    "        \n",
    "        #for i in 1:Deltaexpo\n",
    "        #    mantexpomin[i] = 0\n",
    "        #    mantexpomax[i+prec] = 0\n",
    "        #end\n",
    "        \n",
    "        for i in Deltaexpo + 1: prec + Deltaexpo \n",
    "            mantexpomin[i] = mantisas[indice][i - Deltaexpo  ]\n",
    "            mantexpomax[i - Deltaexpo] = mantisas[indicemax][i - Deltaexpo  ]\n",
    "            \n",
    "        end \n",
    "        indicemax == 1 ? sigma = false : sigma = true\n",
    "    end\n",
    "    \n",
    "    @show mantexpomin, mantexpomax\n",
    "    for i in 1: length(mantexpomin)\n",
    "        if mantexpomin[i] == 0\n",
    "            mantexpomin[i] = 1\n",
    "        else\n",
    "            mantexpomin[i] = 0\n",
    "        end\n",
    "        \n",
    "    end\n",
    "    \n",
    "    println( \"antes de sumar\", mantexpomin)\n",
    "    mantexpomin = sumarbinario(mantexpomin,uno)[2:end]\n",
    "    \n",
    "    \n",
    "    @show mantexpomin, mantexpomax\n",
    "    @show sumarbinario(mantexpomin,mantexpomax)\n",
    "    newmant = sumarbinario(mantexpomin, mantexpomax)\n",
    "    @show newmant\n",
    "    \n",
    "    i = 1\n",
    "    count = 0\n",
    "    while newmant[i] == 0\n",
    "        count += 1\n",
    "        i += 1\n",
    "    end\n",
    "        \n",
    "        \n",
    "    tmant = (newmant[2],newmant[3],newmant[4])  \n",
    "    @show sigma, expo - count, tmant\n",
    "    MiFloat(2,sigma,expo-count, tmant )\n",
    "    \n",
    "end"
   ]
  },
  {
   "cell_type": "code",
   "execution_count": 33,
   "metadata": {},
   "outputs": [
    {
     "name": "stdout",
     "output_type": "stream",
     "text": [
      "(mantexpomin, mantexpomax) = ([0, 0, 1, 0, 1], [1, 0, 1, 0, 0])\n",
      "antes de sumar[1, 1, 0, 1, 0]\n",
      "length(min) = 5\n",
      "(mantexpomin, mantexpomax) = ([1, 1, 0, 1, 0], [1, 0, 1, 0, 0])\n",
      "length(min) = 5\n",
      "sumarbinario(mantexpomin, mantexpomax) = [1, 0, 1, 1, 1, 0]\n",
      "length(min) = 5\n",
      "newmant = [1, 0, 1, 1, 1, 0]\n",
      "(sigma, expo - count, tmant) = (true, 1, (0, 1, 1))\n"
     ]
    },
    {
     "ename": "LoadError",
     "evalue": "\u001b[91mEl primero elemento tiene que ser cero o mantisa cero\u001b[39m",
     "output_type": "error",
     "traceback": [
      "\u001b[91mEl primero elemento tiene que ser cero o mantisa cero\u001b[39m",
      "",
      "Stacktrace:",
      " [1] \u001b[1mMiFloat\u001b[22m\u001b[22m\u001b[1m(\u001b[22m\u001b[22m::Int64, ::Bool, ::Int64, ::Tuple{Int64,Int64,Int64}\u001b[1m)\u001b[22m\u001b[22m at \u001b[1m./In[2]:23\u001b[22m\u001b[22m",
      " [2] \u001b[1m-\u001b[22m\u001b[22m\u001b[1m(\u001b[22m\u001b[22m::MiFloat, ::MiFloat\u001b[1m)\u001b[22m\u001b[22m at \u001b[1m./In[32]:85\u001b[22m\u001b[22m",
      " [3] \u001b[1minclude_string\u001b[22m\u001b[22m\u001b[1m(\u001b[22m\u001b[22m::String, ::String\u001b[1m)\u001b[22m\u001b[22m at \u001b[1m./loading.jl:522\u001b[22m\u001b[22m"
     ]
    }
   ],
   "source": [
    "MiFloat(2,false,-1,(1, 0, 1)) - MiFloat(2,false,1,(1 , 0, 1))"
   ]
  },
  {
   "cell_type": "code",
   "execution_count": 34,
   "metadata": {},
   "outputs": [
    {
     "name": "stdout",
     "output_type": "stream",
     "text": [
      "(mantexpomin, mantexpomax) = ([1, 0, 0], [1, 1, 1])\n",
      "antes de sumar[0, 1, 1]\n",
      "length(min) = 3\n",
      "(mantexpomin, mantexpomax) = ([0, 1, 1], [1, 1, 1])\n",
      "length(min) = 3\n",
      "sumarbinario(mantexpomin, mantexpomax) = [1, 0, 1, 0]\n",
      "length(min) = 3\n",
      "newmant = [1, 0, 1, 0]\n",
      "(sigma, expo - count, tmant) = (false, 1, (0, 1, 0))\n"
     ]
    },
    {
     "ename": "LoadError",
     "evalue": "\u001b[91mEl primero elemento tiene que ser cero o mantisa cero\u001b[39m",
     "output_type": "error",
     "traceback": [
      "\u001b[91mEl primero elemento tiene que ser cero o mantisa cero\u001b[39m",
      "",
      "Stacktrace:",
      " [1] \u001b[1mMiFloat\u001b[22m\u001b[22m\u001b[1m(\u001b[22m\u001b[22m::Int64, ::Bool, ::Int64, ::Tuple{Int64,Int64,Int64}\u001b[1m)\u001b[22m\u001b[22m at \u001b[1m./In[2]:23\u001b[22m\u001b[22m",
      " [2] \u001b[1m-\u001b[22m\u001b[22m\u001b[1m(\u001b[22m\u001b[22m::MiFloat, ::MiFloat\u001b[1m)\u001b[22m\u001b[22m at \u001b[1m./In[32]:85\u001b[22m\u001b[22m",
      " [3] \u001b[1minclude_string\u001b[22m\u001b[22m\u001b[1m(\u001b[22m\u001b[22m::String, ::String\u001b[1m)\u001b[22m\u001b[22m at \u001b[1m./loading.jl:522\u001b[22m\u001b[22m"
     ]
    }
   ],
   "source": [
    "MiFloat(2,false,1,(1, 1, 1)) - MiFloat(2,false,1,(1 , 0, 0))"
   ]
  },
  {
   "cell_type": "code",
   "execution_count": 35,
   "metadata": {},
   "outputs": [
    {
     "name": "stdout",
     "output_type": "stream",
     "text": [
      "length(min) = 4\n"
     ]
    },
    {
     "data": {
      "text/plain": [
       "5-element Array{Int64,1}:\n",
       " 1\n",
       " 0\n",
       " 0\n",
       " 0\n",
       " 1"
      ]
     },
     "execution_count": 35,
     "metadata": {},
     "output_type": "execute_result"
    }
   ],
   "source": [
    "sumarbinario([1, 0, 0, 0], [1, 0, 0, 1])"
   ]
  },
  {
   "cell_type": "code",
   "execution_count": 36,
   "metadata": {},
   "outputs": [
    {
     "name": "stdout",
     "output_type": "stream",
     "text": [
      "(mantexpomin, mantexpomax) = ([0, 1, 1, 0], [1, 0, 0, 0])\n",
      "antes de sumar[1, 0, 0, 1]\n",
      "length(min) = 4\n",
      "(mantexpomin, mantexpomax) = ([1, 0, 0, 1], [1, 0, 0, 0])\n",
      "length(min) = 4\n",
      "sumarbinario(mantexpomin, mantexpomax) = [1, 0, 0, 0, 1]\n",
      "length(min) = 4\n",
      "newmant = [1, 0, 0, 0, 1]\n",
      "(sigma, expo - count, tmant) = (false, 1, (0, 0, 0))\n"
     ]
    },
    {
     "data": {
      "text/plain": [
       " (0, 0, 0) × 2^1\n"
      ]
     },
     "execution_count": 36,
     "metadata": {},
     "output_type": "execute_result"
    }
   ],
   "source": [
    "MiFloat(2,false,1,(1, 0, 0)) - MiFloat(2,false,0,(1 , 1, 0))"
   ]
  },
  {
   "cell_type": "code",
   "execution_count": 37,
   "metadata": {},
   "outputs": [
    {
     "data": {
      "text/plain": [
       "+ (generic function with 181 methods)"
      ]
     },
     "execution_count": 37,
     "metadata": {},
     "output_type": "execute_result"
    }
   ],
   "source": [
    "#### function +(::Val{:RedondArriba}, a::MiFloat, b::MiFloat)\n",
    "\n",
    "function +(x::MiFloat, y::MiFloat)\n",
    "    x.base == y.base ? nothing : error(\"Las bases tiene que ser iguales\")\n",
    "    aux = zeros(Int64,prec)\n",
    "    m = [x.mant, y.mant]\n",
    "    s = [x.expo, y.expo]\n",
    "    expo = maximum(s)\n",
    "    if x.expo == y.expo\n",
    "        indice = 1\n",
    "        indicemax = 2\n",
    "        for i in 1:prec\n",
    "            aux[i] = x.mant[i]\n",
    "        end\n",
    "    else \n",
    "        Deltaexpo = abs(x.expo - y.expo)\n",
    "        indice = findmin(s)[2]\n",
    "        \n",
    "        indicemax = findmax(s)[2]\n",
    "        #s[indice] = expo\n",
    "        for i in 1:Deltaexpo\n",
    "            aux[i] = 0\n",
    "        end\n",
    "        for i in Deltaexpo +1:prec \n",
    "            aux[i] = m[indice][i - Deltaexpo  ]\n",
    "            \n",
    "        end     \n",
    "    end\n",
    "    #(-1)^Int(x.sigma) + (-1)^Int(y.sigma)\n",
    "    \n",
    "    if x.sigma == y.sigma\n",
    "        @show \"Hola\"\n",
    "        newmant = sumarbinario(aux,m[indicemax])\n",
    "        if newmant[1] == 1\n",
    "            \n",
    "            newexpo = expo + 1\n",
    "            tmant = (newmant[1],newmant[2],newmant[3])\n",
    "        else\n",
    "            \n",
    "            newexpo = expo\n",
    "            tmant = (newmant[2],newmant[3],newmant[4])\n",
    "        end\n",
    "    \n",
    "        MiFloat(2,false,newexpo, tmant )\n",
    "    else #Resta\n",
    "        @show \"Hola2\"\n",
    "        @show (aux[1], aux[2], aux[3]) , m[indicemax]\n",
    "        if (aux[1], aux[2], aux[3]) < m[indicemax]\n",
    "            sigma = false\n",
    "             @show \"Hola3\"\n",
    "            #newmant = restarbinario(m[indicemax], aux)\n",
    "            #tmant = (newmant[1], newmant[2], newmant[3])\n",
    "            #MiFloat(2,false,expo, tmant )\n",
    "        \n",
    "        elseif (aux[1], aux[2], aux[3]) > m[indicemax]\n",
    "            @show \"Hola4\"\n",
    "            sigma = true\n",
    "            #newmant = restarbinario(aux ,m[indicemax])\n",
    "            #tmant = (newmant[1], newmant[2], newmant[3])\n",
    "            #MiFloat(2,true,expo, tmant )\n",
    "        \n",
    "        else\n",
    "             @show \"Hola5\"\n",
    "            sigma = false\n",
    "            #newmant = zeros(Int64, prec)\n",
    "            #tmant = (newmant[1], newmant[2], newmant[3])\n",
    "            #MiFloat(2,false,expo, tmant )\n",
    "        end\n",
    "        newmant = restarbinario(m[indicemax], aux)\n",
    "        tmant = (newmant[1], newmant[2], newmant[3])\n",
    "        MiFloat(2,sigma,expo, tmant )\n",
    "       \n",
    "        \n",
    "    end\n",
    "    \n",
    "    #newmant[1] == 1 ? newexpo = expo + 1 tmant = (newmant[1],newmant[2],newmant[3]):\n",
    "    #tmant = (newmant[2],newmant[3],newmant[4])\n",
    "    \n",
    "        \n",
    "    #println(io, \"$sigma $mantisa × $base^$expo\")\n",
    "    #return \n",
    "end"
   ]
  },
  {
   "cell_type": "code",
   "execution_count": 38,
   "metadata": {},
   "outputs": [
    {
     "name": "stdout",
     "output_type": "stream",
     "text": [
      "\"Hola2\" = \"Hola2\"\n",
      "((aux[1], aux[2], aux[3]), m[indicemax]) = ((0, 1, 0), (1, 0, 1))\n",
      "\"Hola3\" = \"Hola3\"\n"
     ]
    },
    {
     "ename": "LoadError",
     "evalue": "\u001b[91mUndefVarError: restarbinario not defined\u001b[39m",
     "output_type": "error",
     "traceback": [
      "\u001b[91mUndefVarError: restarbinario not defined\u001b[39m",
      "",
      "Stacktrace:",
      " [1] \u001b[1m+\u001b[22m\u001b[22m\u001b[1m(\u001b[22m\u001b[22m::MiFloat, ::MiFloat\u001b[1m)\u001b[22m\u001b[22m at \u001b[1m./In[37]:69\u001b[22m\u001b[22m",
      " [2] \u001b[1minclude_string\u001b[22m\u001b[22m\u001b[1m(\u001b[22m\u001b[22m::String, ::String\u001b[1m)\u001b[22m\u001b[22m at \u001b[1m./loading.jl:522\u001b[22m\u001b[22m"
     ]
    }
   ],
   "source": [
    "MiFloat(2,false,-1,(1, 0, 1)) + MiFloat(2,true,0,(1 , 0, 1))"
   ]
  },
  {
   "cell_type": "code",
   "execution_count": 39,
   "metadata": {},
   "outputs": [
    {
     "name": "stdout",
     "output_type": "stream",
     "text": [
      "\"Hola2\" = \"Hola2\"\n",
      "((aux[1], aux[2], aux[3]), m[indicemax]) = ((0, 1, 0), (1, 0, 1))\n",
      "\"Hola3\" = \"Hola3\"\n"
     ]
    },
    {
     "ename": "LoadError",
     "evalue": "\u001b[91mUndefVarError: restarbinario not defined\u001b[39m",
     "output_type": "error",
     "traceback": [
      "\u001b[91mUndefVarError: restarbinario not defined\u001b[39m",
      "",
      "Stacktrace:",
      " [1] \u001b[1m+\u001b[22m\u001b[22m\u001b[1m(\u001b[22m\u001b[22m::MiFloat, ::MiFloat\u001b[1m)\u001b[22m\u001b[22m at \u001b[1m./In[37]:69\u001b[22m\u001b[22m",
      " [2] \u001b[1minclude_string\u001b[22m\u001b[22m\u001b[1m(\u001b[22m\u001b[22m::String, ::String\u001b[1m)\u001b[22m\u001b[22m at \u001b[1m./loading.jl:522\u001b[22m\u001b[22m"
     ]
    }
   ],
   "source": [
    "MiFloat(2,true,0,(1, 0, 1)) + MiFloat(2,false,-1,(1 , 0, 1))"
   ]
  },
  {
   "cell_type": "code",
   "execution_count": 40,
   "metadata": {},
   "outputs": [
    {
     "name": "stdout",
     "output_type": "stream",
     "text": [
      "\"Hola\" = \"Hola\"\n"
     ]
    },
    {
     "ename": "LoadError",
     "evalue": "\u001b[91mMethodError: no method matching sumarbinario(::Array{Int64,1}, ::Tuple{Int64,Int64,Int64})\u001b[0m\nClosest candidates are:\n  sumarbinario(::Array{Int64,1}, \u001b[91m::Array{Int64,1}\u001b[39m) at In[24]:2\u001b[39m",
     "output_type": "error",
     "traceback": [
      "\u001b[91mMethodError: no method matching sumarbinario(::Array{Int64,1}, ::Tuple{Int64,Int64,Int64})\u001b[0m\nClosest candidates are:\n  sumarbinario(::Array{Int64,1}, \u001b[91m::Array{Int64,1}\u001b[39m) at In[24]:2\u001b[39m",
      "",
      "Stacktrace:",
      " [1] \u001b[1m+\u001b[22m\u001b[22m\u001b[1m(\u001b[22m\u001b[22m::MiFloat, ::MiFloat\u001b[1m)\u001b[22m\u001b[22m at \u001b[1m./In[37]:33\u001b[22m\u001b[22m",
      " [2] \u001b[1minclude_string\u001b[22m\u001b[22m\u001b[1m(\u001b[22m\u001b[22m::String, ::String\u001b[1m)\u001b[22m\u001b[22m at \u001b[1m./loading.jl:522\u001b[22m\u001b[22m"
     ]
    }
   ],
   "source": [
    "MiFloat(2,false,-1,(1,0,1)) + MiFloat(2,false,0,(1 ,0 , 1))"
   ]
  },
  {
   "cell_type": "code",
   "execution_count": 41,
   "metadata": {},
   "outputs": [
    {
     "data": {
      "text/plain": [
       "3.5"
      ]
     },
     "execution_count": 41,
     "metadata": {},
     "output_type": "execute_result"
    }
   ],
   "source": [
    "superFloat(MiFloat(2,false,1,(1,1,1)))"
   ]
  },
  {
   "cell_type": "code",
   "execution_count": 42,
   "metadata": {},
   "outputs": [
    {
     "data": {
      "text/plain": [
       "3.5"
      ]
     },
     "execution_count": 42,
     "metadata": {},
     "output_type": "execute_result"
    }
   ],
   "source": [
    "superFloat(MiFloat(2,false,1,(1,1,1)))"
   ]
  },
  {
   "cell_type": "code",
   "execution_count": 43,
   "metadata": {},
   "outputs": [
    {
     "name": "stdout",
     "output_type": "stream",
     "text": [
      "\"Hola\" = \"Hola\"\n"
     ]
    },
    {
     "ename": "LoadError",
     "evalue": "\u001b[91mMethodError: no method matching sumarbinario(::Array{Int64,1}, ::Tuple{Int64,Int64,Int64})\u001b[0m\nClosest candidates are:\n  sumarbinario(::Array{Int64,1}, \u001b[91m::Array{Int64,1}\u001b[39m) at In[24]:2\u001b[39m",
     "output_type": "error",
     "traceback": [
      "\u001b[91mMethodError: no method matching sumarbinario(::Array{Int64,1}, ::Tuple{Int64,Int64,Int64})\u001b[0m\nClosest candidates are:\n  sumarbinario(::Array{Int64,1}, \u001b[91m::Array{Int64,1}\u001b[39m) at In[24]:2\u001b[39m",
      "",
      "Stacktrace:",
      " [1] \u001b[1m+\u001b[22m\u001b[22m\u001b[1m(\u001b[22m\u001b[22m::MiFloat, ::MiFloat\u001b[1m)\u001b[22m\u001b[22m at \u001b[1m./In[37]:33\u001b[22m\u001b[22m",
      " [2] \u001b[1minclude_string\u001b[22m\u001b[22m\u001b[1m(\u001b[22m\u001b[22m::String, ::String\u001b[1m)\u001b[22m\u001b[22m at \u001b[1m./loading.jl:522\u001b[22m\u001b[22m"
     ]
    }
   ],
   "source": [
    "superFloat(MiFloat(2,false,1,(1,1,1)) + MiFloat(2,false,1,(1,1,1)))"
   ]
  },
  {
   "cell_type": "code",
   "execution_count": 44,
   "metadata": {},
   "outputs": [
    {
     "name": "stdout",
     "output_type": "stream",
     "text": [
      "\"Hola\" = \"Hola\"\n"
     ]
    },
    {
     "ename": "LoadError",
     "evalue": "\u001b[91mMethodError: no method matching sumarbinario(::Array{Int64,1}, ::Tuple{Int64,Int64,Int64})\u001b[0m\nClosest candidates are:\n  sumarbinario(::Array{Int64,1}, \u001b[91m::Array{Int64,1}\u001b[39m) at In[24]:2\u001b[39m",
     "output_type": "error",
     "traceback": [
      "\u001b[91mMethodError: no method matching sumarbinario(::Array{Int64,1}, ::Tuple{Int64,Int64,Int64})\u001b[0m\nClosest candidates are:\n  sumarbinario(::Array{Int64,1}, \u001b[91m::Array{Int64,1}\u001b[39m) at In[24]:2\u001b[39m",
      "",
      "Stacktrace:",
      " [1] \u001b[1m+\u001b[22m\u001b[22m\u001b[1m(\u001b[22m\u001b[22m::MiFloat, ::MiFloat\u001b[1m)\u001b[22m\u001b[22m at \u001b[1m./In[37]:33\u001b[22m\u001b[22m",
      " [2] \u001b[1minclude_string\u001b[22m\u001b[22m\u001b[1m(\u001b[22m\u001b[22m::String, ::String\u001b[1m)\u001b[22m\u001b[22m at \u001b[1m./loading.jl:522\u001b[22m\u001b[22m"
     ]
    }
   ],
   "source": [
    "MiFloat(2,false,1,(1,0,0)) + MiFloat(2,false,1,(1,0,0))"
   ]
  },
  {
   "cell_type": "code",
   "execution_count": 45,
   "metadata": {},
   "outputs": [
    {
     "name": "stdout",
     "output_type": "stream",
     "text": [
      "\"Hola\" = \"Hola\"\n"
     ]
    },
    {
     "ename": "LoadError",
     "evalue": "\u001b[91mMethodError: no method matching sumarbinario(::Array{Int64,1}, ::Tuple{Int64,Int64,Int64})\u001b[0m\nClosest candidates are:\n  sumarbinario(::Array{Int64,1}, \u001b[91m::Array{Int64,1}\u001b[39m) at In[24]:2\u001b[39m",
     "output_type": "error",
     "traceback": [
      "\u001b[91mMethodError: no method matching sumarbinario(::Array{Int64,1}, ::Tuple{Int64,Int64,Int64})\u001b[0m\nClosest candidates are:\n  sumarbinario(::Array{Int64,1}, \u001b[91m::Array{Int64,1}\u001b[39m) at In[24]:2\u001b[39m",
      "",
      "Stacktrace:",
      " [1] \u001b[1m+\u001b[22m\u001b[22m\u001b[1m(\u001b[22m\u001b[22m::MiFloat, ::MiFloat\u001b[1m)\u001b[22m\u001b[22m at \u001b[1m./In[37]:33\u001b[22m\u001b[22m",
      " [2] \u001b[1minclude_string\u001b[22m\u001b[22m\u001b[1m(\u001b[22m\u001b[22m::String, ::String\u001b[1m)\u001b[22m\u001b[22m at \u001b[1m./loading.jl:522\u001b[22m\u001b[22m"
     ]
    }
   ],
   "source": [
    "MiFloat(2,false,2,(1,0,0)) + MiFloat(2,false,1,(1,1,0))"
   ]
  },
  {
   "cell_type": "code",
   "execution_count": 46,
   "metadata": {},
   "outputs": [
    {
     "name": "stdout",
     "output_type": "stream",
     "text": [
      "\"Hola\" = \"Hola\"\n"
     ]
    },
    {
     "ename": "LoadError",
     "evalue": "\u001b[91mMethodError: no method matching sumarbinario(::Array{Int64,1}, ::Tuple{Int64,Int64,Int64})\u001b[0m\nClosest candidates are:\n  sumarbinario(::Array{Int64,1}, \u001b[91m::Array{Int64,1}\u001b[39m) at In[24]:2\u001b[39m",
     "output_type": "error",
     "traceback": [
      "\u001b[91mMethodError: no method matching sumarbinario(::Array{Int64,1}, ::Tuple{Int64,Int64,Int64})\u001b[0m\nClosest candidates are:\n  sumarbinario(::Array{Int64,1}, \u001b[91m::Array{Int64,1}\u001b[39m) at In[24]:2\u001b[39m",
      "",
      "Stacktrace:",
      " [1] \u001b[1m+\u001b[22m\u001b[22m\u001b[1m(\u001b[22m\u001b[22m::MiFloat, ::MiFloat\u001b[1m)\u001b[22m\u001b[22m at \u001b[1m./In[37]:33\u001b[22m\u001b[22m",
      " [2] \u001b[1minclude_string\u001b[22m\u001b[22m\u001b[1m(\u001b[22m\u001b[22m::String, ::String\u001b[1m)\u001b[22m\u001b[22m at \u001b[1m./loading.jl:522\u001b[22m\u001b[22m"
     ]
    }
   ],
   "source": [
    "MiFloat(2,false,-1,(1,0,0)) + MiFloat(2,false,0,(1,0,0))"
   ]
  },
  {
   "cell_type": "code",
   "execution_count": 47,
   "metadata": {},
   "outputs": [
    {
     "data": {
      "text/plain": [
       "2-element Array{Int64,1}:\n",
       " 9\n",
       " 5"
      ]
     },
     "execution_count": 47,
     "metadata": {},
     "output_type": "execute_result"
    }
   ],
   "source": [
    "d =[9,5]"
   ]
  },
  {
   "cell_type": "code",
   "execution_count": 31,
   "metadata": {},
   "outputs": [
    {
     "data": {
      "text/markdown": [
       "```\n",
       "zeros([A::AbstractArray,] [T=eltype(A)::Type,] [dims=size(A)::Tuple])\n",
       "```\n",
       "\n",
       "Create an array of all zeros with the same layout as `A`, element type `T` and size `dims`. The `A` argument can be skipped, which behaves like `Array{Float64,0}()` was passed. For convenience `dims` may also be passed in variadic form.\n",
       "\n",
       "# Examples\n",
       "\n",
       "```jldoctest\n",
       "julia> zeros(1)\n",
       "1-element Array{Float64,1}:\n",
       " 0.0\n",
       "\n",
       "julia> zeros(Int8, 2, 3)\n",
       "2×3 Array{Int8,2}:\n",
       " 0  0  0\n",
       " 0  0  0\n",
       "\n",
       "julia> A = [1 2; 3 4]\n",
       "2×2 Array{Int64,2}:\n",
       " 1  2\n",
       " 3  4\n",
       "\n",
       "julia> zeros(A)\n",
       "2×2 Array{Int64,2}:\n",
       " 0  0\n",
       " 0  0\n",
       "\n",
       "julia> zeros(A, Float64)\n",
       "2×2 Array{Float64,2}:\n",
       " 0.0  0.0\n",
       " 0.0  0.0\n",
       "\n",
       "julia> zeros(A, Bool, (3,))\n",
       "3-element Array{Bool,1}:\n",
       " false\n",
       " false\n",
       " false\n",
       "```\n",
       "\n",
       "See also [`ones`](@ref), [`similar`](@ref).\n"
      ],
      "text/plain": [
       "```\n",
       "zeros([A::AbstractArray,] [T=eltype(A)::Type,] [dims=size(A)::Tuple])\n",
       "```\n",
       "\n",
       "Create an array of all zeros with the same layout as `A`, element type `T` and size `dims`. The `A` argument can be skipped, which behaves like `Array{Float64,0}()` was passed. For convenience `dims` may also be passed in variadic form.\n",
       "\n",
       "# Examples\n",
       "\n",
       "```jldoctest\n",
       "julia> zeros(1)\n",
       "1-element Array{Float64,1}:\n",
       " 0.0\n",
       "\n",
       "julia> zeros(Int8, 2, 3)\n",
       "2×3 Array{Int8,2}:\n",
       " 0  0  0\n",
       " 0  0  0\n",
       "\n",
       "julia> A = [1 2; 3 4]\n",
       "2×2 Array{Int64,2}:\n",
       " 1  2\n",
       " 3  4\n",
       "\n",
       "julia> zeros(A)\n",
       "2×2 Array{Int64,2}:\n",
       " 0  0\n",
       " 0  0\n",
       "\n",
       "julia> zeros(A, Float64)\n",
       "2×2 Array{Float64,2}:\n",
       " 0.0  0.0\n",
       " 0.0  0.0\n",
       "\n",
       "julia> zeros(A, Bool, (3,))\n",
       "3-element Array{Bool,1}:\n",
       " false\n",
       " false\n",
       " false\n",
       "```\n",
       "\n",
       "See also [`ones`](@ref), [`similar`](@ref).\n"
      ]
     },
     "execution_count": 31,
     "metadata": {},
     "output_type": "execute_result"
    }
   ],
   "source": [
    "?zeros()"
   ]
  },
  {
   "cell_type": "code",
   "execution_count": 29,
   "metadata": {},
   "outputs": [
    {
     "ename": "LoadError",
     "evalue": "\u001b[91mUndefVarError: ModoRedondeo not defined\u001b[39m",
     "output_type": "error",
     "traceback": [
      "\u001b[91mUndefVarError: ModoRedondeo not defined\u001b[39m",
      "",
      "Stacktrace:",
      " [1] \u001b[1minclude_string\u001b[22m\u001b[22m\u001b[1m(\u001b[22m\u001b[22m::String, ::String\u001b[1m)\u001b[22m\u001b[22m at \u001b[1m./loading.jl:522\u001b[22m\u001b[22m"
     ]
    }
   ],
   "source": [
    "ModoRedondeo:RedondArriba"
   ]
  },
  {
   "cell_type": "code",
   "execution_count": 30,
   "metadata": {},
   "outputs": [
    {
     "ename": "LoadError",
     "evalue": "\u001b[91mUndefVarError: Intervalo not defined\u001b[39m",
     "output_type": "error",
     "traceback": [
      "\u001b[91mUndefVarError: Intervalo not defined\u001b[39m",
      "",
      "Stacktrace:",
      " [1] \u001b[1minclude_string\u001b[22m\u001b[22m\u001b[1m(\u001b[22m\u001b[22m::String, ::String\u001b[1m)\u001b[22m\u001b[22m at \u001b[1m./loading.jl:522\u001b[22m\u001b[22m"
     ]
    }
   ],
   "source": [
    "function +(x::Intervalo, y::Intervalo)\n",
    "    return Intervalo(x.inf + y.inf, x.sup + y.sup)\n",
    "end"
   ]
  },
  {
   "cell_type": "markdown",
   "metadata": {},
   "source": [
    "**[5]** Escribe una función que permita convertir de `Float64` a `MiFloat`, respetando el modo de redondeo especificado en `ModoRedondeo`."
   ]
  },
  {
   "cell_type": "code",
   "execution_count": null,
   "metadata": {
    "collapsed": true
   },
   "outputs": [],
   "source": []
  },
  {
   "cell_type": "markdown",
   "metadata": {},
   "source": [
    "**[6]** ¿Cómo se te ocurre verificar que `:RedondMasCercano` ($\\square$) no tiene sesgo?"
   ]
  },
  {
   "cell_type": "code",
   "execution_count": null,
   "metadata": {
    "collapsed": true
   },
   "outputs": [],
   "source": []
  },
  {
   "cell_type": "markdown",
   "metadata": {},
   "source": [
    "**[7]** \n",
    "\n",
    "(i) ¿Cómo usarías alguno o algunos modos de redondeo para definir intervalos que garanticen que el punto que estamos buscando esté en el intervalo?\n",
    "\n",
    "(ii) ¿Cuál sería un intervalo apropiado que contiene al número real `0.1`, usando `Float64`? "
   ]
  },
  {
   "cell_type": "code",
   "execution_count": null,
   "metadata": {
    "collapsed": true
   },
   "outputs": [],
   "source": []
  },
  {
   "cell_type": "markdown",
   "metadata": {},
   "source": [
    "**[4]** \n",
    "\n",
    "Sobrecarga la operación suma (`+`), definida en `Base`, para que funcione usando dos elementos de `Mifloat`, de tal forma que el usuario pueda elegir qué tipo de redondeo quiere. Incluye varios tests que demuestren el funcionamiento de tu algoritmo.\n",
    "\n",
    "Para hacer esto, una posibilidad es definir una constante `ModoRedondeo` que pueda valer `:RedondArriba`, `:RedondAbajo` o `:RedondMasCercano`. (Nota los \"dos puntos\" `:`; sirven para especificar que estas palabras son símbolos.) La idea es definir apropiadamente las funciones `suma(::Val{:RedondArriba}, a::Mifloat, b::MiFloat)`, `suma(::Val{:RedondAbajo}, a::MiFloat, b::MiFloat)`, `suma(::Val{:RedonddMasCercano}, a::MiFloat, b::MiFloat)`, para sobrecargar la operación `+` llamando a `suma(Val(ModoRedondeo), a, b)`."
   ]
  },
  {
   "cell_type": "code",
   "execution_count": null,
   "metadata": {
    "collapsed": true
   },
   "outputs": [],
   "source": []
  },
  {
   "cell_type": "markdown",
   "metadata": {},
   "source": [
    "**[5]** Escribe una función que permita convertir de `Float64` a `MiFloat`, respetando el modo de redondeo especificado en `ModoRedondeo`."
   ]
  },
  {
   "cell_type": "code",
   "execution_count": null,
   "metadata": {
    "collapsed": true
   },
   "outputs": [],
   "source": []
  },
  {
   "cell_type": "markdown",
   "metadata": {},
   "source": [
    "**[6]** ¿Cómo se te ocurre verificar que `:RedondMasCercano` ($\\square$) no tiene sesgo?"
   ]
  },
  {
   "cell_type": "code",
   "execution_count": null,
   "metadata": {
    "collapsed": true
   },
   "outputs": [],
   "source": []
  },
  {
   "cell_type": "markdown",
   "metadata": {},
   "source": [
    "**[7]** \n",
    "\n",
    "¿Cómo usarías alguno o varios modos de redondeo para definir intervalos que garantizen que el punto $x$ que estamos buscando esté contenido en un intervalo?\n",
    "\n",
    "¿Cuál sería un intervalo apropiado que contiene al número real `0.1`, usando `Float64`? "
   ]
  },
  {
   "cell_type": "code",
   "execution_count": null,
   "metadata": {
    "collapsed": true
   },
   "outputs": [],
   "source": []
  },
  {
   "cell_type": "markdown",
   "metadata": {},
   "source": [
    "# Errores por el redondeo"
   ]
  },
  {
   "cell_type": "markdown",
   "metadata": {},
   "source": [
    "**Teorema** Si $x$ es un número real en el rango normalizado de $\\mathbb{F}_{\\beta,p}$, entonces el error relativo causado por el redondeo está acotado:\n",
    "\n",
    "\\begin{equation}\n",
    "\\Big|\\frac{x-\\bigcirc(x)}{x} \\Big| < \\varepsilon_M = \\beta^{p-1}.\n",
    "\\end{equation}\n",
    "\n",
    "El error absoluto correspondiente está acotado por $|x|\\,\\varepsilon_M$.\n",
    "\n",
    "(El número $\\varepsilon_M$ se llama \"el epsilon de la máquina\".)"
   ]
  },
  {
   "cell_type": "markdown",
   "metadata": {},
   "source": [
    "**[8]** \n",
    "\n",
    "(i) Ejemplifica el teorema anterior con tu implementación de los distintos modos del redondeo. \n",
    "\n",
    "(ii) Muestra con un par de ejemplos que en el caso de $\\square(x)$, la cota puede reducirse por un factor 0.5.\n",
    "\n",
    "(iii) Muestra que el espaciamiento de dos números de punto flotante consecutivos $x$ y $y$ en el rango normalizado está acotado entre\n",
    "$|x|\\,\\varepsilon_M/\\beta$ y $|x|\\,\\varepsilon_M$.\n",
    "\n",
    "(iv) ¿Cómo se comportan los errores relativos en el rango de los números subnormales? Muestra tu argumentación con un par de ejemplos."
   ]
  },
  {
   "cell_type": "code",
   "execution_count": null,
   "metadata": {
    "collapsed": true
   },
   "outputs": [],
   "source": []
  },
  {
   "cell_type": "markdown",
   "metadata": {},
   "source": [
    "**[9]** Definiremos $x\\oplus y=\\bigcirc(x+y)$, esto es, la suma en la aritmética en $\\mathbb{F}^*$. \n",
    "\n",
    "(i) Muestra que el error relativo (respecto al resultado exacto) de una operación (la suma, en este caso) está acotado por $\\varepsilon_M$.\n",
    "\n",
    "(ii) ¿Se cumple esto si consideramos dos o más sumas? Ilustra tu argumento con algún ejemplo."
   ]
  },
  {
   "cell_type": "code",
   "execution_count": null,
   "metadata": {
    "collapsed": true
   },
   "outputs": [],
   "source": []
  },
  {
   "cell_type": "markdown",
   "metadata": {},
   "source": [
    "**[10]** Considera el mapeo $f(x) = 3x \\textrm{ mod } 1$, con $f:[0,1]\\to[0,1]$.\n",
    "\n",
    "(i) Muestra analíticamente que $x_0= 1/10$ pertenece a un ciclo de periodo 4 de este mapeo.\n",
    "\n",
    "(ii) ¿Puedes mostrar numéricamente (usando `Float64`) este resultado? ¿Qué ocurre si utilizas `BigFloat` y `Rational{Int}`? (Es útil leer la ayuda de la función `mod`.)"
   ]
  },
  {
   "cell_type": "code",
   "execution_count": null,
   "metadata": {
    "collapsed": true
   },
   "outputs": [],
   "source": []
  },
  {
   "cell_type": "markdown",
   "metadata": {},
   "source": [
    "# Resumen"
   ]
  },
  {
   "cell_type": "markdown",
   "metadata": {},
   "source": [
    "**[11]** Escribe un resumen de lo aprendido en este notebook."
   ]
  }
 ],
 "metadata": {
  "kernelspec": {
   "display_name": "Julia 0.6.2",
   "language": "julia",
   "name": "julia-0.6"
  },
  "language_info": {
   "file_extension": ".jl",
   "mimetype": "application/julia",
   "name": "julia",
   "version": "0.6.2"
  },
  "toc": {
   "nav_menu": {},
   "number_sections": true,
   "sideBar": true,
   "skip_h1_title": false,
   "toc_cell": false,
   "toc_position": {},
   "toc_section_display": "block",
   "toc_window_display": false
  }
 },
 "nbformat": 4,
 "nbformat_minor": 2
}
