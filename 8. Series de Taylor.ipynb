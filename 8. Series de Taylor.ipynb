{
 "cells": [
  {
   "cell_type": "markdown",
   "metadata": {},
   "source": [
    "# Series de Taylor"
   ]
  },
  {
   "cell_type": "markdown",
   "metadata": {},
   "source": [
    "## Lartaun Aramis de Icaza Astiz\n",
    "\n",
    "## Pedro Porras Flores"
   ]
  },
  {
   "cell_type": "markdown",
   "metadata": {},
   "source": [
    "En el [notebook 5](https://github.com/dpsanders/metodos_numericos_garantizados/blob/master/notebooks/5.%20Diferenciacion%20automatica.ipynb) estudiamos las ideas básicas de lo que es la *diferenciación automática*. En este notebook, extenderemos esas ideas para obtener las derivadas más altas de una función elemental."
   ]
  },
  {
   "cell_type": "markdown",
   "metadata": {},
   "source": [
    "**[1]** (a) ¿Cuáles son las hipótesis importantes para poder *desarrollar* la serie de Taylor de una función $f(t)$ alrededor de $t_0$? (Nota cultural: en español no se dice \"expandir\" una serie.)\n",
    "\n",
    "* Que $f$ sea analítica\n",
    "\n",
    "(b) Escribe la serie (truncada) de Taylor de orden $p$ para $f(t)$ alrededor de $t_0$. Definiendo $f_{[k]}(t_0)$ como el coeficiente del término de orden $k$, escribe explícitamente su expresión. A estos coeficientes los llamaremos coeficientes de Taylor. ¿Qué información contiene el coeficiente $f_{[k]}(t_0)$?\n",
    "\n",
    " * $$f(t) \\approx \\sum _{i=0}^{p} \\dfrac{f^{(i)}(t_0)(t - t_0)^i}{i!} = \\sum _{k=1}^{p} f_{[k]}(t_0) (t -t_0)^k$$\n",
    "\n",
    "(c) ¿Qué cosa se supone, en términos de $t$ y $t_0$, para hablar de la validez de la serie?\n",
    "\n",
    "* Suponemos que $t - t_0 $ sea menor que el radio de convergencia $ {\\displaystyle r=\\sup \\left\\{|t-t_0|\\ \\left|\\ \\sum _{n=0}^{\\infty }f_{[k]}(t_0)(t-t_0)^{n}\\ {\\text{ converges }}\\right.\\right\\}}$\n",
    "\n",
    "\n",
    "\n",
    "(d) ¿Cómo se puede acotar el error de la serie de Taylor truncada? Escribe una expresión explícita.\n",
    "\n",
    "\n",
    "* Una manera es calculando el residuo de Lagrange, es decir; $R_{k}(x) = f_{[k+1]}(\\xi)(t - t_0)^{k+1}$\n",
    "\n",
    "(e) ¿Cuál es la versión equivalente al teorema del punto medio con series de Taylor?\n",
    "\n",
    "* Por hipótesis $f\\in \\mathcal{C}^1$ por el teorema de Taylor, y acontado el residuo (de Lagrange), alrededor de $t_0$ fijo tenemos\n",
    "\n",
    "$$f(t) = f(t_{0}) + f'(\\xi)(t - t_{0})$$\n",
    "\n"
   ]
  },
  {
   "cell_type": "markdown",
   "metadata": {},
   "source": [
    "**[2]** Escribe un módulo donde implementes una nueva estructura que tenga la información necesaria para poder representar una serie de Taylor en una variable, de cierto orden. Haz algunas pruebas de que el constructor funciona correctamente."
   ]
  },
  {
   "cell_type": "code",
   "execution_count": 1,
   "metadata": {
    "collapsed": true
   },
   "outputs": [],
   "source": [
    "struct Taylor\n",
    "    orden::Int64\n",
    "    coef::Array{Float64, 1}\n",
    "    Taylor(coef) = new(length(coef)-1, coef)\n",
    "end"
   ]
  },
  {
   "cell_type": "code",
   "execution_count": 2,
   "metadata": {},
   "outputs": [
    {
     "data": {
      "text/plain": [
       "Taylor(1, [1.0, 3.0])"
      ]
     },
     "execution_count": 2,
     "metadata": {},
     "output_type": "execute_result"
    }
   ],
   "source": [
    "a = Taylor([1.0, 3.0])"
   ]
  },
  {
   "cell_type": "code",
   "execution_count": 3,
   "metadata": {},
   "outputs": [
    {
     "data": {
      "text/plain": [
       "== (generic function with 127 methods)"
      ]
     },
     "execution_count": 3,
     "metadata": {},
     "output_type": "execute_result"
    }
   ],
   "source": [
    "import Base: getindex, ==\n",
    "\n",
    "function getindex(f::Taylor, i::Int64)\n",
    "    f.coef[i + 1]\n",
    "end\n",
    "\n",
    "function ==(f::Taylor, g::Taylor)\n",
    "    f.orden == g.orden && f.coef == g.coef  ? true : false\n",
    "end"
   ]
  },
  {
   "cell_type": "code",
   "execution_count": 4,
   "metadata": {},
   "outputs": [
    {
     "data": {
      "text/plain": [
       "Taylor(2, [1.0, 2.0, 3.0])"
      ]
     },
     "execution_count": 4,
     "metadata": {},
     "output_type": "execute_result"
    }
   ],
   "source": [
    "b = Taylor([1.0 ,2.0 ,3.0])"
   ]
  },
  {
   "cell_type": "code",
   "execution_count": 5,
   "metadata": {},
   "outputs": [
    {
     "data": {
      "text/plain": [
       "true"
      ]
     },
     "execution_count": 5,
     "metadata": {},
     "output_type": "execute_result"
    }
   ],
   "source": [
    "Taylor([39.0, 34.0, 10.0])== Taylor([39.0, 34.0, 10.0])"
   ]
  },
  {
   "cell_type": "markdown",
   "metadata": {},
   "source": [
    "**[3]** Las operaciones aritméticas para $f$ y $g$ polinomios o series de Taylor truncadas de orden $p$, cumplen:\n",
    "\n",
    "\\begin{eqnarray*}\n",
    "(f+g)_{[k]} & = & f_{[k]} + g_{[k]} ,\\\\\n",
    "(f-g)_{[k]} & = & f_{[k]} - g_{[k]} ,\\\\\n",
    "(f \\cdot g)_{[k]} & = & \\sum_{i=0}^k f_{[i]} \\,g_{[k-i]} \\, ,\\\\\n",
    "\\Big(\\frac{f}{g}\\Big)_{[k]} & = & \\frac{1}{g_{[0]}}\n",
    "\\Big( f_{[k]} - \\sum_{i=0}^{k-1} \\big(\\frac{f}{g}\\big)_{[i]} \\, g_{[k-i]} \\Big) . \\\\\n",
    "\\end{eqnarray*}\n",
    "\n",
    "(a) Implementa en tu módulo estas operaciones.\n",
    "\n",
    "(b) ¿Cómo podrías demostrar/deducir la expresión para la multiplicación? ¿Y para la división?\n",
    "\n",
    "* Por inducción sobre el orden de la derivada\n",
    "\n",
    "(c) ¿Qué suposición importante se requiere para la división? Si esta suposición no se cumple, ¿qué crees que se puede hacer?\n",
    "\n",
    "* Necesitamos que $g_{[k]}\\neq 0 ,\\;  \\forall  k$\n",
    "\n",
    "(d) Escribe algunos tests que muestre que funcionan de manera adecuada."
   ]
  },
  {
   "cell_type": "code",
   "execution_count": 6,
   "metadata": {
    "collapsed": true
   },
   "outputs": [],
   "source": [
    "import Base: +, -, *, /\n",
    "using Base.Test"
   ]
  },
  {
   "cell_type": "code",
   "execution_count": 7,
   "metadata": {},
   "outputs": [
    {
     "data": {
      "text/plain": [
       "/ (generic function with 74 methods)"
      ]
     },
     "execution_count": 7,
     "metadata": {},
     "output_type": "execute_result"
    }
   ],
   "source": [
    "function +(f::Taylor, g::Taylor)\n",
    "    if f.orden == g.orden\n",
    "        Taylor(f.coef .+ g.coef)\n",
    "    elseif f.orden < g.orden\n",
    "        Taylor(f.coef[1:f.orden + 1] .+ g.coef[1:f.orden + 1])\n",
    "    else\n",
    "        Taylor(g.coef[1:g.orden + 1] .+ f.coef[1:g.orden + 1])\n",
    "    end\n",
    "end\n",
    "\n",
    "function -(f::Taylor, g::Taylor)\n",
    "    if f.orden == g.orden\n",
    "        Taylor(f.coef .- g.coef)\n",
    "    elseif f.orden < g.orden\n",
    "        Taylor(f.coef[1:f.orden + 1] .- g.coef[1:f.orden + 1])\n",
    "    else\n",
    "        Taylor(-g.coef[1:g.orden + 1] .+ f.coef[1:g.orden + 1])\n",
    "    end\n",
    "end\n",
    "\n",
    "function *(f::Taylor, g::Taylor)\n",
    "    f.orden != g.orden && error(\"Ordenes distintos\")\n",
    "    newcoef = Array{Float64, 1}(f.orden + 1)\n",
    "    for k in 0:f.orden \n",
    "        Taylori = 0.0\n",
    "        for i in 0:k\n",
    "            Taylori += f[i]*g[k - i]  \n",
    "        end\n",
    "        newcoef[k + 1] = Taylori \n",
    "    end\n",
    "    Taylor(newcoef)\n",
    "end\n",
    "\n",
    "function /(f::Taylor, g::Taylor)\n",
    "    f.orden != g.orden && error(\"Ordenes distintos\")\n",
    "    newcoef = Array{Float64, 1}(f.orden + 1)\n",
    "    \n",
    "    for k in 0:f.orden \n",
    "        Taylori = f[k]\n",
    "        for i in 0:k - 1\n",
    "            Taylori -= (f[i]/g[i])*g[k - i]  \n",
    "        end\n",
    "        newcoef[k + 1] = Taylori/g[0] \n",
    "    end\n",
    "    Taylor(newcoef)\n",
    "end"
   ]
  },
  {
   "cell_type": "code",
   "execution_count": 8,
   "metadata": {},
   "outputs": [
    {
     "name": "stdout",
     "output_type": "stream",
     "text": [
      "\u001b[1m\u001b[37mTest Summary:  | \u001b[39m\u001b[22m\u001b[1m\u001b[32mPass  \u001b[39m\u001b[22m\u001b[1m\u001b[36mTotal\u001b[39m\u001b[22m\n",
      "Pruebas Taylos | \u001b[32m   6  \u001b[39m\u001b[36m    6\u001b[39m\n"
     ]
    },
    {
     "data": {
      "text/plain": [
       "Base.Test.DefaultTestSet(\"Pruebas Taylos\", Any[], 6, false)"
      ]
     },
     "execution_count": 8,
     "metadata": {},
     "output_type": "execute_result"
    }
   ],
   "source": [
    "\n",
    "\n",
    "# f(x) = x^2 y g(x) = x^3 + x con x_0 = 3\n",
    "\n",
    "@testset \"Pruebas Taylos\" begin\n",
    "    \n",
    "@test Taylor([1,2,3,7]) + Taylor([10,20,30]) == Taylor([11.0, 22.0, 33.0])\n",
    "    \n",
    "@test Taylor([1,2,3,7]) - Taylor([10,20,30]) == Taylor([-9.0, -18.0, -27.0])\n",
    "    \n",
    "@test Taylor([9., 6., 1.]) + Taylor([30., 28., 9.]) ==  Taylor([39.0, 34.0, 10.0])\n",
    "\n",
    "@test Taylor([9, 6, 1]) - Taylor([30, 28, 9]) ==  Taylor([-21.0, -22.0, -8.0])\n",
    "\n",
    "@test Taylor([9, 6, 1]) * Taylor([30, 28, 9]) == Taylor([270.0, 432.0, 279.0])\n",
    "\n",
    "@test Taylor([9, 6, 1]) / Taylor([30, 28, 9]) == Taylor([0.3, -0.08000000000000002, -0.25666666666666665])\n",
    "end"
   ]
  },
  {
   "cell_type": "markdown",
   "metadata": {},
   "source": [
    "**[5]** La pregunta que trataremos ahora de resolver, es cómo operan funciones elementales ($\\exp$, $\\log$, `^`, $\\sin$, $\\cos$, ...) sobre polinomios. Para esto, resolveremos un problema de valor inicial apropiado (para cada función) lo que nos llevará a una *relación de recurrencia*. Como ejemplo consideraremos la función $\\exp(f(t))$, donde $f(t)$ es un polinomio.\n",
    "\n",
    "(a) Escribe una ecuación diferencial apropiada, cuya solución sea $E(t) = \\exp(f(t))$. \n",
    "¿Cuál es la condición inicial apropiada para este problema, definida en $t_0$?\n",
    "\n",
    "* $$\\frac{\\mathrm{d} E}{\\mathrm{d} t} - \\frac{\\mathrm{d} f}{\\mathrm{d}t}E = 0$$ \n",
    "\n",
    "Tomemos $t_0$ tal que $E_{[0]} = \\exp(f(t_0))$\n",
    "\n",
    "(b) Escribe $E(t)$ y $f(t)$ como polinomios en $t$, con $t$ cercana a $t_0$.\n",
    "\n",
    "* $f(t) = \\displaystyle \\sum _{k=0}^{p} f_{[k]} (t -t_0)^k = f_{[0]}(t_0) + f_{[1]}(t_0)(t - t_0) + f_{[2]}(t_0)(t - t_0)^2 +  f_{[3]}(t_0)(t - t_0)^3 + \\dots + f_{[p]}(t_0)(t - t_0)^p  $\n",
    "\n",
    "* $E(t) = \\displaystyle \\sum _{k=0}^{p} E_{[k]} (t -t_0)^k = E_{[0]}(t_0) + E_{[1]}(t_0)(t - t_0) + E_{[2]}(t_0)(t - t_0)^2 +  E_{[3]}(t_0)(t - t_0)^3 + \\dots + E_{[p]}(t_0)(t - t_0)^p $\n",
    "\n",
    "\n",
    "\n",
    "(d) Sustituyendo estos polinomios en la ecuación diferencial, y usando las operaciones aritméticas necesarias, llega a una relación de recurrencia para $E_{[k+1]}$.\n",
    "\n",
    "* Para ello calculemos $E'(t)$ y $f'(t)$ \n",
    "\n",
    "* $f'(t) = f_{[1]}(t_0) + 2f_{[2]}(t_0)(t - t_0) +  3f_{[3]}(t_0)(t - t_0)^2 + \\dots + (p)f_{[p]}(t - t_0)^{p-1} = \\displaystyle \\sum _{k=1}^{p} (k)f_{[k]} (t -t_0)^{k-1} = \\displaystyle \\sum _{k = 0}^{p -1} (k+1) f_{[k+1]} (t -t_0)^{k} $\n",
    "\n",
    "* $E'(t) = E_{[1]}(t_0) + 2E_{[2]}(t_0)(t - t_0) +  3E_{[3]}(t_0)(t - t_0)^2 + \\dots + (p)E_{[p]}(t - t_0)^{p-1} =\\displaystyle \\sum _{k=1}^{p} (k)E_{[k]} (t -t_0)^{k-1} = \\displaystyle \\sum _{k = 0}^{p -1} (k+1) E_{[k+1]} (t -t_0)^{k}$\n",
    "\n",
    "\n",
    "\n",
    "* Sustituyendo en la ecuación diferencial ($E'(t) = f'(t)E(t)$) $$ \\displaystyle \\sum _{k = 0}^{p -1} (k+1) E_{[k+1]} (t -t_0)^{k} = \\left( \\displaystyle \\sum _{j = 0}^{p -1} (j+1) f_{[j+1]} (t -t_0)^{j}  \\right) \\left( \\displaystyle \\sum _{k=0}^{p} E_{[k]} (t -t_0)^k \\right) = \\displaystyle \\sum _{j=0}^{p - 1}  \\left( \\displaystyle \\sum _{k = 0}^{p} (j + 1)f_{[j+1]} E_{[k]} (t -t_0)^{k + j} \\right)   $$ tomando el cambio $s = j +k$ se obtiene  $$ \\displaystyle \\sum _{k = 0}^{p -1} (k+1) E_{[k+1]} (t -t_0)^{k} = \\displaystyle \\sum _{s = 0}^{p - 1}  \\left( \\displaystyle \\sum _{k = 0}^{s} (s - k + 1)f_{[s - k + 1]} E_{[k]} \\right) (t -t_0)^{s} $$ para el (k+1)-ésimo termino tenemos; $$ E_{[s + 1]} = \\dfrac{1}{s + 1} \\displaystyle \\sum _{k = 0}^{s} (s - k + 1)f_{[s - k + 1]} E_{[k]} $$\n",
    "\n",
    "para $s = 0, 1,2, \\dots$\n",
    "\n",
    "(e) Muestra, con un caso sencillo, que efectivamente la relación de recurrencia nos lleva al resultado esperado.\n",
    "\n",
    "* Consideremos $f(t) = t$ y $t_0=0$\n",
    "\n",
    "Calculemos los exponente usando la regla de recursión\n",
    "\n",
    "* $E_{[0]} = \\exp(t_0=0) = 1 $\n",
    "\n",
    "* $f_{[1]} = 1 $\n",
    "\n",
    "* $E_{[1]} = E_{[0 + 1]} =  \\dfrac{1}{0 + 1} \\displaystyle \\sum _{k = 0}^{0} (0 - k + 1)f_{[0 - k + 1]} E_{[k]} =  f_{[1]} E_{[0]} = 1 $\n",
    "\n",
    "* $f_{[2]} = 0$\n",
    "\n",
    "* $E_{[2]} = E_{[1 + 1]} =  \\dfrac{1}{1 + 1} \\displaystyle \\sum _{k = 0}^{1} (1 - k + 1)f_{[1 - k + 1]} E_{[k]} = \\dfrac{1}{2} \\displaystyle \\sum _{k = 0}^{1} (2-k)f_{[2-k]} E_{[k]}= \\dfrac{1}{2} \\left( 2 f_{[2]} E_{[0]} + f_{[1]} E_{[1]} \\right) = \\dfrac{1}{2} $\n",
    "\n",
    "* $f_{[3]} = 0$\n",
    "\n",
    "* $E_{[3]} = E_{[2 + 1]} =  \\dfrac{1}{2 + 1} \\displaystyle \\sum _{k = 0}^{2} (2 - k + 1)f_{[2 - k + 1]} E_{[k]} = \\dfrac{1}{3} \\displaystyle \\sum _{k = 0}^{2} (3-k)f_{[3-k]} E_{[k]}= \\dfrac{1}{3} \\left( 3 f_{[3]} E_{[0]} + 2 f_{[2]} E_{[1]} + f_{[1]} E_{[2]}  \\right) = \\left( \\dfrac{1}{3} \\right) \\left( \\dfrac{1}{2} \\right) = \\dfrac{1}{3!}$\n",
    "\n",
    "\n",
    "\n",
    "(f) Implementa esta función de recurrencia en tu módulo para `exp`, y muestra que da el resultado que debería."
   ]
  },
  {
   "cell_type": "code",
   "execution_count": 9,
   "metadata": {},
   "outputs": [
    {
     "data": {
      "text/plain": [
       "exp (generic function with 1 method)"
      ]
     },
     "execution_count": 9,
     "metadata": {},
     "output_type": "execute_result"
    }
   ],
   "source": [
    "function exp(x::Taylor, condint::Float64)\n",
    "    s = x.orden\n",
    "    E = [condint]\n",
    "    for s in 0: x.orden - 1\n",
    "        newcoef = 0.0\n",
    "        for k in 0:s \n",
    "            newcoef = newcoef + (1.0/(s + 1.0))*(s - k + 1 )*x[s - k + 1]E[k + 1]\n",
    "        end\n",
    "        push!(E, newcoef)\n",
    "    end\n",
    "    return Taylor(E)\n",
    "end"
   ]
  },
  {
   "cell_type": "code",
   "execution_count": 10,
   "metadata": {},
   "outputs": [
    {
     "data": {
      "text/plain": [
       "Taylor(6, [0.0, 1.0, 0.0, 0.0, 0.0, 0.0, 0.0])"
      ]
     },
     "execution_count": 10,
     "metadata": {},
     "output_type": "execute_result"
    }
   ],
   "source": [
    "idTaylor = Taylor([0, 1, 0, 0, 0, 0, 0])"
   ]
  },
  {
   "cell_type": "code",
   "execution_count": 11,
   "metadata": {},
   "outputs": [
    {
     "data": {
      "text/plain": [
       "Taylor(6, [1.0, 1.0, 0.5, 0.166667, 0.0416667, 0.00833333, 0.00138889])"
      ]
     },
     "execution_count": 11,
     "metadata": {},
     "output_type": "execute_result"
    }
   ],
   "source": [
    "Exp = exp(idTaylor, 1.0)"
   ]
  },
  {
   "cell_type": "code",
   "execution_count": 12,
   "metadata": {},
   "outputs": [
    {
     "name": "stdout",
     "output_type": "stream",
     "text": [
      "\u001b[1m\u001b[37mTest Summary:  | \u001b[39m\u001b[22m\u001b[1m\u001b[32mPass  \u001b[39m\u001b[22m\u001b[1m\u001b[36mTotal\u001b[39m\u001b[22m\n",
      "Pruebas Taylor | \u001b[32m   7  \u001b[39m\u001b[36m    7\u001b[39m\n"
     ]
    },
    {
     "data": {
      "text/plain": [
       "Base.Test.DefaultTestSet(\"Pruebas Taylor\", Any[], 7, false)"
      ]
     },
     "execution_count": 12,
     "metadata": {},
     "output_type": "execute_result"
    }
   ],
   "source": [
    "@testset \"Pruebas Taylor\" begin\n",
    "\n",
    "    epsilon = 10e-18\n",
    "    for  i in 1:length(Exp.coef)\n",
    "        @test (1.0)/factorial(i - 1.0) - epsilon <= Exp.coef[i] <= (1.0)/factorial(i - 1.0) + epsilon\n",
    "    end\n",
    "end"
   ]
  },
  {
   "cell_type": "markdown",
   "metadata": {},
   "source": [
    "**[6]** Escribe las ecuaciones diferenciales relevantes para poder calcular las funciones:\n",
    "(a) $L(t) = \\log \\left( g(t) \\right)$,\n",
    "(b) $P_\\alpha(t) = \\left( g(t) \\right)^\\alpha$,\n",
    "(c) $S(t) = \\sin \\left( g(t) \\right)$,\n",
    "(d) $C(t) = \\cos \\left( g(t) \\right)$, \n",
    "sobre polinomios."
   ]
  },
  {
   "cell_type": "markdown",
   "metadata": {
    "collapsed": true
   },
   "source": [
    "1.  $\\dfrac{d}{dt} L(t)  = \\dfrac{g'(t)}{g(t)} \\quad \\Longrightarrow \\quad g(t) L'(t) - g'(t) = 0 $\n",
    "\n",
    "2.  $\\dfrac{d}{dt} P_{\\alpha}(t)  = \\alpha (g(t))^{\\alpha - 1}g'(t) = \\dfrac{\\alpha g'(t)}{g(t)} P_{\\alpha}(t) \\quad \\Longrightarrow \\quad g(t) P'_{\\alpha}(t) - \\alpha g'(t) P_{\\alpha}(t) = 0 $\n",
    "\n",
    "3. $\\dfrac{d}{dt} S(t) =  g'(t)\\cos(g(t)) \\quad \\Longrightarrow \\quad  \\dfrac{d^2}{dt^2} S(t) =  g''(t)\\cos(g(t)) - (g'(t))^2 S(t))$\n",
    "\n",
    "4. $\\dfrac{d}{dt} C(t) =  - g'(t)\\sin(g(t)) \\quad \\Longrightarrow \\quad  \\dfrac{d^2}{dt^2} C(t) =  -g''(t)\\sin(g(t)) + (g'(t))^2 C(t))$"
   ]
  },
  {
   "cell_type": "markdown",
   "metadata": {},
   "source": [
    "**[7]** Para la ecuación $\\dot{x} = f(t,x)$ con condición inicial $x(t_0) = x_0$, donde $t$ es la variable independiente, y suponiendo que conocemos el desarrollo de Taylor de $f(t, x(t))$ cerca de $t_0$, escribe la relación de recurrencia para $f_{[k+1]}(t_0)$.\n",
    "(Esta es la base del método de Taylor para integrar ecuaciones diferenciales.)"
   ]
  },
  {
   "cell_type": "markdown",
   "metadata": {
    "collapsed": true,
    "inputHidden": false,
    "outputHidden": false
   },
   "source": [
    "Consideremos \n",
    "\n",
    "* $ x(t) = x_0 + x_1(t - t_0) + x_2(t - t_0)^2 + x_3(t - t_0)^3 +\\cdots $\n",
    "* $ f(t,x(t)) = f_0 + f_1(t - t_0) + f_2(t - t_0)^2 + f_3(t - t_0)^3 +\\cdots $\n",
    "\n",
    "Sabemos que se debe satisfacer la ecuación diferencial $\\dot{x} = f(t,x)$ y la condición  inicial $x(t_0) = x_0$, por lo que:\n",
    "\n",
    "* $ \\dot{x}(t) = x_1 + 2x_2(t - t_0) + 3x_3(t - t_0)^2 +\\cdots $ \n",
    "\n",
    "Comparamos los repectivos coeficientes del desarrollo de $f(t, x(t))$ y $ \\dot{x}(t)$, esto es\n",
    "\n",
    "$f_0 + f_1(t - t_0) + f_2(t - t_0)^2 + f_3(t - t_0)^3 +\\cdots  =  x_1 + 2x_2(t - t_0) + 3x_3(t - t_0)^2 +\\cdots $\n",
    "\n",
    "* $x(t_0) = x_0$\n",
    "* $ x_1 = f_0$\n",
    "* $x_{k+1} = \\dfrac{f_{k}}{k+1}$"
   ]
  },
  {
   "cell_type": "code",
   "execution_count": null,
   "metadata": {
    "collapsed": true
   },
   "outputs": [],
   "source": []
  }
 ],
 "metadata": {
  "kernel_info": {
   "name": "julia-0.6"
  },
  "kernelspec": {
   "display_name": "Julia 0.6.2",
   "language": "julia",
   "name": "julia-0.6"
  },
  "language_info": {
   "file_extension": ".jl",
   "mimetype": "application/julia",
   "name": "julia",
   "version": "0.6.2"
  },
  "nteract": {
   "version": "0.8.4"
  },
  "toc": {
   "nav_menu": {},
   "number_sections": false,
   "sideBar": true,
   "skip_h1_title": false,
   "toc_cell": false,
   "toc_position": {},
   "toc_section_display": "block",
   "toc_window_display": false
  }
 },
 "nbformat": 4,
 "nbformat_minor": 2
}
