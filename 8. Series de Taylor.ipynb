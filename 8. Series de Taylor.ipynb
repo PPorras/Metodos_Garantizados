{
 "cells": [
  {
   "cell_type": "markdown",
   "metadata": {},
   "source": [
    "# Series de Taylor"
   ]
  },
  {
   "cell_type": "markdown",
   "metadata": {},
   "source": [
    "En el [notebook 5](https://github.com/dpsanders/metodos_numericos_garantizados/blob/master/notebooks/5.%20Diferenciacion%20automatica.ipynb) estudiamos las ideas básicas de lo que es la *diferenciación automática*. En este notebook, extenderemos esas ideas para obtener las derivadas más altas de una función elemental."
   ]
  },
  {
   "cell_type": "markdown",
   "metadata": {},
   "source": [
    "**[1]** (a) ¿Cuáles son las hipótesis importantes para poder *desarrollar* la serie de Taylor de una función $f(t)$ alrededor de $t_0$? (Nota cultural: en español no se dice \"expandir\" una serie.)\n",
    "\n",
    "* Que $f$ sea analítica\n",
    "\n",
    "(b) Escribe la serie (truncada) de Taylor de orden $p$ para $f(t)$ alrededor de $t_0$. Definiendo $f_{[k]}(t_0)$ como el coeficiente del término de orden $k$, escribe explícitamente su expresión. A estos coeficientes los llamaremos coeficientes de Taylor. ¿Qué información contiene el coeficiente $f_{[k]}(t_0)$?\n",
    "\n",
    " * $$f(t) \\approx \\sum _{i=0}^{p} \\dfrac{f^{(i)}(t_0)(t - t_0)^i}{i!} = \\sum _{k=1}^{p} f_{[k]}(t_0) (t -t_0)^k$$\n",
    "\n",
    "(c) ¿Qué cosa se supone, en términos de $t$ y $t_0$, para hablar de la validez de la serie?\n",
    "\n",
    "* Suponemos que $t - t_0 $ sea menor que el radio de convergencia $ {\\displaystyle r=\\sup \\left\\{|t-t_0|\\ \\left|\\ \\sum _{n=0}^{\\infty }f_{[k]}(t_0)(t-t_0)^{n}\\ {\\text{ converges }}\\right.\\right\\}}$\n",
    "\n",
    "\n",
    "\n",
    "(d) ¿Cómo se puede acotar el error de la serie de Taylor truncada? Escribe una expresión explícita.\n",
    "\n",
    "\n",
    "* Una manera es calculando el residuo de Lagrange, es decir; $R_{k}(x) = f_{[k+1]}(\\xi)(t - t_0)^{k+1}$\n",
    "\n",
    "(e) ¿Cuál es la versión equivalente al teorema del punto medio con series de Taylor?\n",
    "\n",
    "* Por hipótesis $f\\in \\mathcal{C}^1$ por el teorema de Taylor, y acontado el residuo (de Lagrange), alrededor de $t_0$ fijo tenemos\n",
    "\n",
    "$$f(t) = f(t_{0}) + f'(\\xi)(t - t_{0})$$\n",
    "\n"
   ]
  },
  {
   "cell_type": "markdown",
   "metadata": {},
   "source": [
    "**[2]** Escribe un módulo donde implementes una nueva estructura que tenga la información necesaria para poder representar una serie de Taylor en una variable, de cierto orden. Haz algunas pruebas de que el constructor funciona correctamente."
   ]
  },
  {
   "cell_type": "code",
   "execution_count": 1,
   "metadata": {},
   "outputs": [],
   "source": [
    "struct Taylor\n",
    "    orden::Int64\n",
    "    coef::Array{Float64, 1}\n",
    "   # Taylor(orden) = Array{Float64, 1}(orden)\n",
    "end"
   ]
  },
  {
   "cell_type": "code",
   "execution_count": 17,
   "metadata": {},
   "outputs": [
    {
     "data": {
      "text/plain": [
       "Taylor"
      ]
     },
     "execution_count": 17,
     "metadata": {},
     "output_type": "execute_result"
    }
   ],
   "source": [
    "Taylor(a::Array{Float64, 1}) = Taylor(length(a)-1, a)"
   ]
  },
  {
   "cell_type": "code",
   "execution_count": 22,
   "metadata": {},
   "outputs": [
    {
     "data": {
      "text/plain": [
       "Taylor(5, [1.0, 3.0])"
      ]
     },
     "execution_count": 22,
     "metadata": {},
     "output_type": "execute_result"
    }
   ],
   "source": [
    "a = Taylor(5,[1,3])"
   ]
  },
  {
   "cell_type": "code",
   "execution_count": 19,
   "metadata": {},
   "outputs": [
    {
     "data": {
      "text/plain": [
       "Taylor(1, [1.0, 3.0])"
      ]
     },
     "execution_count": 19,
     "metadata": {},
     "output_type": "execute_result"
    }
   ],
   "source": [
    "Taylor([1.0, 3.0])"
   ]
  },
  {
   "cell_type": "code",
   "execution_count": 3,
   "metadata": {},
   "outputs": [
    {
     "data": {
      "text/plain": [
       "Taylor"
      ]
     },
     "execution_count": 3,
     "metadata": {},
     "output_type": "execute_result"
    }
   ],
   "source": [
    "typeof(a)"
   ]
  },
  {
   "cell_type": "code",
   "execution_count": 4,
   "metadata": {},
   "outputs": [
    {
     "data": {
      "text/plain": [
       "2"
      ]
     },
     "execution_count": 4,
     "metadata": {},
     "output_type": "execute_result"
    }
   ],
   "source": [
    "a.orden"
   ]
  },
  {
   "cell_type": "code",
   "execution_count": 8,
   "metadata": {},
   "outputs": [
    {
     "data": {
      "text/plain": [
       "2"
      ]
     },
     "execution_count": 8,
     "metadata": {},
     "output_type": "execute_result"
    }
   ],
   "source": [
    "length(a.coef)"
   ]
  },
  {
   "cell_type": "code",
   "execution_count": 6,
   "metadata": {},
   "outputs": [
    {
     "data": {
      "text/plain": [
       "1.0"
      ]
     },
     "execution_count": 6,
     "metadata": {},
     "output_type": "execute_result"
    }
   ],
   "source": [
    "a.coef[1]"
   ]
  },
  {
   "cell_type": "code",
   "execution_count": 7,
   "metadata": {},
   "outputs": [
    {
     "data": {
      "text/plain": [
       "== (generic function with 127 methods)"
      ]
     },
     "execution_count": 7,
     "metadata": {},
     "output_type": "execute_result"
    }
   ],
   "source": [
    "import Base: getindex, ==\n",
    "\n",
    "function getindex(Taylor, i::Int64)\n",
    "    Taylor.coef[i + 1]\n",
    "end\n",
    "\n",
    "function ==(f::Taylor, g::Taylor)\n",
    "    f.orden == g.orden && f.coef == g.coef  ? true : false\n",
    "end"
   ]
  },
  {
   "cell_type": "code",
   "execution_count": 9,
   "metadata": {},
   "outputs": [
    {
     "data": {
      "text/plain": [
       "3.0"
      ]
     },
     "execution_count": 9,
     "metadata": {},
     "output_type": "execute_result"
    }
   ],
   "source": [
    "a = Taylor(2, [1.0 ,2.0 ,3.0])\n",
    "a[2]"
   ]
  },
  {
   "cell_type": "code",
   "execution_count": 10,
   "metadata": {},
   "outputs": [
    {
     "data": {
      "text/plain": [
       "true"
      ]
     },
     "execution_count": 10,
     "metadata": {},
     "output_type": "execute_result"
    }
   ],
   "source": [
    "Taylor(2, [39.0, 34.0, 10.0])== Taylor(2, [39.0, 34.0, 10.0])"
   ]
  },
  {
   "cell_type": "markdown",
   "metadata": {},
   "source": [
    "**[3]** Las operaciones aritméticas para $f$ y $g$ polinomios o series de Taylor truncadas de orden $p$, cumplen:\n",
    "\n",
    "\\begin{eqnarray*}\n",
    "(f+g)_{[k]} & = & f_{[k]} + g_{[k]} ,\\\\\n",
    "(f-g)_{[k]} & = & f_{[k]} - g_{[k]} ,\\\\\n",
    "(f \\cdot g)_{[k]} & = & \\sum_{i=0}^k f_{[i]} \\,g_{[k-i]} \\, ,\\\\\n",
    "\\Big(\\frac{f}{g}\\Big)_{[k]} & = & \\frac{1}{g_{[0]}}\n",
    "\\Big( f_{[k]} - \\sum_{i=0}^{k-1} \\big(\\frac{f}{g}\\big)_{[i]} \\, g_{[k-i]} \\Big) . \\\\\n",
    "\\end{eqnarray*}\n",
    "\n",
    "(a) Implementa en tu módulo estas operaciones.\n",
    "\n",
    "(b) ¿Cómo podrías demostrar/deducir la expresión para la multiplicación? ¿Y para la división?\n",
    "\n",
    "* Por inducción sobre el orden de la derivada\n",
    "\n",
    "(c) ¿Qué suposición importante se requiere para la división? Si esta suposición no se cumple, ¿qué crees que se puede hacer?\n",
    "\n",
    "* Necesitamos que $g_{[k]}\\neq 0 ,\\;  \\forall  k$\n",
    "\n",
    "(d) Escribe algunos tests que muestre que funcionan de manera adecuada."
   ]
  },
  {
   "cell_type": "code",
   "execution_count": 11,
   "metadata": {
    "collapsed": true
   },
   "outputs": [],
   "source": [
    "import Base: +, -, *, /\n",
    "using Base.Test"
   ]
  },
  {
   "cell_type": "code",
   "execution_count": 12,
   "metadata": {},
   "outputs": [
    {
     "data": {
      "text/plain": [
       "/ (generic function with 74 methods)"
      ]
     },
     "execution_count": 12,
     "metadata": {},
     "output_type": "execute_result"
    }
   ],
   "source": [
    "function +(f::Taylor, g::Taylor)\n",
    "    if f.orden == g.orden\n",
    "        Taylor(f.orden, f.coef .+ g.coef)\n",
    "    else\n",
    "        error(\"Ordenes distintos\")\n",
    "    end\n",
    "end\n",
    "\n",
    "function -(f::Taylor, g::Taylor)\n",
    "    if f.orden == g.orden\n",
    "        Taylor(f.orden, f.coef .- g.coef)\n",
    "    else\n",
    "        error(\"Ordenes distintos\")\n",
    "    end\n",
    "end\n",
    "\n",
    "function *(f::Taylor, g::Taylor)\n",
    "    f.orden != g.orden && error(\"Ordenes distintos\")\n",
    "    newcoef = Array{Float64, 1}(f.orden + 1)\n",
    "    for k in 0:f.orden \n",
    "        Taylori = 0.0\n",
    "        for i in 0:k\n",
    "            Taylori += f[i]*g[k - i]  \n",
    "        end\n",
    "        newcoef[k + 1] = Taylori \n",
    "    end\n",
    "    Taylor(f.orden, newcoef)\n",
    "end\n",
    "\n",
    "function /(f::Taylor, g::Taylor)\n",
    "    f.orden != g.orden && error(\"Ordenes distintos\")\n",
    "    newcoef = Array{Float64, 1}(f.orden + 1)\n",
    "    \n",
    "    for k in 0:f.orden \n",
    "        Taylori = f[k]\n",
    "        for i in 0:k - 1\n",
    "            Taylori -= (f[i]/g[i])*g[k - i]  \n",
    "        end\n",
    "        newcoef[k + 1] = Taylori/g[0] \n",
    "    end\n",
    "    Taylor(f.orden, newcoef)\n",
    "end"
   ]
  },
  {
   "cell_type": "code",
   "execution_count": 13,
   "metadata": {},
   "outputs": [
    {
     "name": "stdout",
     "output_type": "stream",
     "text": [
      "\u001b[1m\u001b[37mTest Summary:  | \u001b[39m\u001b[22m\u001b[1m\u001b[32mPass  \u001b[39m\u001b[22m\u001b[1m\u001b[36mTotal\u001b[39m\u001b[22m\n",
      "Pruebas Taylos | \u001b[32m   4  \u001b[39m\u001b[36m    4\u001b[39m\n"
     ]
    },
    {
     "data": {
      "text/plain": [
       "Base.Test.DefaultTestSet(\"Pruebas Taylos\", Any[], 4, false)"
      ]
     },
     "execution_count": 13,
     "metadata": {},
     "output_type": "execute_result"
    }
   ],
   "source": [
    "# f(x) = x^2 y g(x) = x^3 + x con x_0 = 3\n",
    "\n",
    "@testset \"Pruebas Taylos\" begin\n",
    "    \n",
    "@test Taylor(2, [9., 6., 1.]) + Taylor(2, [30., 28., 9.]) ==  Taylor(2, [39.0, 34.0, 10.0])\n",
    "\n",
    "@test Taylor(2, [9, 6, 1]) - Taylor(2, [30, 28, 9]) ==  Taylor(2, [-21.0, -22.0, -8.0])\n",
    "\n",
    "@test Taylor(2, [9, 6, 1]) * Taylor(2, [30, 28, 9]) == Taylor(2, [270.0, 432.0, 279.0])\n",
    "\n",
    "@test Taylor(2, [9, 6, 1]) / Taylor(2, [30, 28, 9]) == Taylor(2, [0.3, -0.08000000000000002, -0.25666666666666665])\n",
    "end"
   ]
  },
  {
   "cell_type": "markdown",
   "metadata": {},
   "source": [
    "**[5]** La pregunta que trataremos ahora de resolver, es cómo operan funciones elementales ($\\exp$, $\\log$, `^`, $\\sin$, $\\cos$, ...) sobre polinomios. Para esto, resolveremos un problema de valor inicial apropiado (para cada función) lo que nos llevará a una *relación de recurrencia*. Como ejemplo consideraremos la función $\\exp(f(t))$, donde $f(t)$ es un polinomio.\n",
    "\n",
    "(a) Escribe una ecuación diferencial apropiada, cuya solución sea $E(t) = \\exp(f(t))$. \n",
    "¿Cuál es la condición inicial apropiada para este problema, definida en $t_0$?\n",
    "\n",
    "* $$\\frac{\\mathrm{d} E}{\\mathrm{d} t} - \\frac{\\mathrm{d} f}{\\mathrm{d}t}E = 0$$ \n",
    "\n",
    "Tomemos $t_0$ tal que $E_{[0]} = \\exp(f(t_0))$\n",
    "\n",
    "(b) Escribe $E(t)$ y $f(t)$ como polinomios en $t$, con $t$ cercana a $t_0$.\n",
    "\n",
    "* $f(t) = \\displaystyle \\sum _{k=0}^{p} f_{[k]}(t_0) (t -t_0)^k = f_{[0]}(t_0) + f_{[1]}(t_0)(t - t_0) + f_{[2]}(t_0)(t - t_0)^2 +  f_{[3]}(t_0)(t - t_0)^3 + \\dots + f_{[p]}(t_0)(t - t_0)^p  $\n",
    "\n",
    "* $E(t) = \\displaystyle \\sum _{k=0}^{p} E_{[k]}(t_0) (t -t_0)^k = E_{[0]}(t_0) + E_{[1]}(t_0)(t - t_0) + E_{[2]}(t_0)(t - t_0)^2 +  E_{[3]}(t_0)(t - t_0)^3 + \\dots + E_{[p]}(t_0)(t - t_0)^p $\n",
    "\n",
    "\n",
    "\n",
    "(d) Sustituyendo estos polinomios en la ecuación diferencial, y usando las operaciones aritméticas necesarias, llega a una relación de recurrencia para $E_{[k+1]}$.\n",
    "\n",
    "* Para ello calculemos $E'(t)$ y $f'(t)$ \n",
    "\n",
    "* $f'(t) = f_{[1]}(t_0) + 2f_{[2]}(t_0)(t - t_0) +  3f_{[3]}(t_0)(t - t_0)^2 + \\dots + (p)f_{[p]}(t_0)(t - t_0)^{p-1} = \\displaystyle \\sum _{k=1}^{p} (k)f_{[k]}(t_0) (t -t_0)^{k-1} $\n",
    "\n",
    "* $E'(t) = E_{[1]}(t_0) + 2E_{[2]}(t_0)(t - t_0) +  3E_{[3]}(t_0)(t - t_0)^2 + \\dots + (p)E_{[p]}(t_0)(t - t_0)^{p-1} =\\displaystyle \\sum _{k=1}^{p} (k)E_{[k]}(t_0) (t -t_0)^{k-1}  $\n",
    "\n",
    "\n",
    "\n",
    "* Sustituyendo en la ecuación diferencial ($E'(t) = f'(t)E(t)$) $$ \\displaystyle \\sum _{k=1}^{p} (k)E_{[k]}(t_0) (t -t_0)^{k-1} = \\left( \\displaystyle \\sum _{i=1}^{p} (i)f_{[i]}(t -t_0)^{i-1} \\right) \\left( \\displaystyle \\sum _{k=0}^{p} E_{[k]} (t -t_0)^k \\right) = \\displaystyle \\sum _{k=0}^{p}  \\left( \\displaystyle \\sum _{i=0}^{p} (i)f_{[i]} E_{[k - i]}\\right) (t -t_0)^{k -1}  $$ para el k-ésimo termino tenemos \n",
    "\n",
    "$$ E_{[k]} = \\dfrac{1}{k} \\displaystyle \\sum _{i = 0}^{p} if_{[i]}E_{[k-i]} =  \\dfrac{1}{k} \\displaystyle \\sum _{i = 0}^{p} (k - i)f_{[k - i]}E_{[i]} $$\n",
    "\n",
    "para $k = 1,2,3, \\dots$\n",
    "\n",
    "(e) Muestra, con un caso sencillo, que efectivamente la relación de recurrencia nos lleva al resultado esperado.\n",
    "\n",
    "* Consideremos $f(t) = t$ y $t_0=0$\n",
    "\n",
    "Calculemos los exponente usando la regla de recursión\n",
    "\n",
    "* $E_{[0]} = \\exp(t_0=0) = 1 $\n",
    "* $E_{[1]} = \\dfrac{1}{1} \\displaystyle \\sum _{i = 0}^{p} (1 - i)f_{[1 - i]}E_{[i]} =  $\n",
    "\n",
    "(f) Implementa esta función de recurrencia en tu módulo para `exp`, y muestra que da el resultado que debería."
   ]
  },
  {
   "cell_type": "code",
   "execution_count": null,
   "metadata": {
    "collapsed": true
   },
   "outputs": [],
   "source": []
  },
  {
   "cell_type": "markdown",
   "metadata": {},
   "source": [
    "**[6]** Escribe las ecuaciones diferenciales relevantes para poder calcular las funciones:\n",
    "(a) $L(t) = \\log \\left( g(t) \\right)$,\n",
    "(b) $P_\\alpha(t) = \\left( g(t) \\right)^\\alpha$,\n",
    "(c) $S(t) = \\sin \\left( g(t) \\right)$,\n",
    "(d) $C(t) = \\cos \\left( g(t) \\right)$, \n",
    "sobre polinomios."
   ]
  },
  {
   "cell_type": "code",
   "execution_count": null,
   "metadata": {
    "collapsed": true
   },
   "outputs": [],
   "source": []
  },
  {
   "cell_type": "markdown",
   "metadata": {},
   "source": [
    "**[7]** Para la ecuación $\\dot{x} = f(t,x)$ con condición inicial $x(t_0) = x_0$, donde $t$ es la variable independiente, y suponiendo que conocemos el desarrollo de Taylor de $f(t, x(t))$ cerca de $t_0$, escribe la relación de recurrencia para $f_{[k+1]}(t_0)$.\n",
    "(Esta es la base del método de Taylor para integrar ecuaciones diferenciales.)"
   ]
  },
  {
   "cell_type": "code",
   "execution_count": null,
   "metadata": {
    "collapsed": true,
    "inputHidden": false,
    "outputHidden": false
   },
   "outputs": [],
   "source": []
  }
 ],
 "metadata": {
  "kernel_info": {
   "name": "julia-0.6"
  },
  "kernelspec": {
   "display_name": "Julia 0.6.2",
   "language": "julia",
   "name": "julia-0.6"
  },
  "language_info": {
   "file_extension": ".jl",
   "mimetype": "application/julia",
   "name": "julia",
   "version": "0.6.2"
  },
  "nteract": {
   "version": "0.8.4"
  },
  "toc": {
   "nav_menu": {},
   "number_sections": false,
   "sideBar": true,
   "skip_h1_title": false,
   "toc_cell": false,
   "toc_position": {},
   "toc_section_display": "block",
   "toc_window_display": false
  }
 },
 "nbformat": 4,
 "nbformat_minor": 2
}
