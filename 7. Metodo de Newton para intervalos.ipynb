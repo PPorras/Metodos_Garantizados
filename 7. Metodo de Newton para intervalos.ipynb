{
 "cells": [
  {
   "cell_type": "markdown",
   "metadata": {},
   "source": [
    "# El método de Newton para intervalos"
   ]
  },
  {
   "cell_type": "markdown",
   "metadata": {},
   "source": [
    "## Extensión literal del método de Newton"
   ]
  },
  {
   "cell_type": "markdown",
   "metadata": {},
   "source": [
    "Supongamos, igual que en el notebook anterior, que $f: \\mathbb{R} \\to \\mathbb{R}$ es una función $C^1$ (continuamente diferenciable) y que tiene una raíz $x^*$, es decir que $f(x^*)=0$. \n",
    "\n",
    "Sabemos que los intervalos pueden proveer una forma garantizada de acotar conjuntos. ¿Será posible que se puedan utilizar los intervalos de alguna forma para mejorar el método de Newton para ubicar las raíces de $f$?"
   ]
  },
  {
   "cell_type": "markdown",
   "metadata": {},
   "source": [
    "**[1]** La primera opción que se le podría ocurrir a uno es ocupar intervalos en el método de Newton tradicional.\n",
    "\n",
    "(i) Impleméntalo. [Debería ser ¡trivial utilizando tu código del notebook anterior!] \n",
    "\n",
    "(ii) Calcula el diámetro de los intervalos $x_i$ resultantes durante la iteración. ¿Qué observas? ¿Por qué ocurre?"
   ]
  },
  {
   "cell_type": "code",
   "execution_count": 1,
   "metadata": {
    "collapsed": true
   },
   "outputs": [],
   "source": [
    "include(\"Intervalos.jl\")\n",
    "include(\"Duales.jl\")\n",
    "using .Intervalos\n",
    "using .Duales\n",
    "using Base.Test\n",
    "#using ForwardDiff"
   ]
  },
  {
   "cell_type": "code",
   "execution_count": 2,
   "metadata": {},
   "outputs": [
    {
     "data": {
      "text/plain": [
       "centredform (generic function with 1 method)"
      ]
     },
     "execution_count": 2,
     "metadata": {},
     "output_type": "execute_result"
    }
   ],
   "source": [
    "function centredform(f, X::Intervalo)\n",
    "    x0 = abs(X.sup - X.inf)*0.5 + X.inf\n",
    "    xp = derivada(f, X)\n",
    "    f(x0) + xp*(X - x0) \n",
    "end"
   ]
  },
  {
   "cell_type": "code",
   "execution_count": 57,
   "metadata": {},
   "outputs": [
    {
     "name": "stdout",
     "output_type": "stream",
     "text": [
      "\u001b[1m\u001b[37mTest Summary:                            | \u001b[39m\u001b[22m\u001b[1m\u001b[32mPass  \u001b[39m\u001b[22m\u001b[1m\u001b[36mTotal\u001b[39m\u001b[22m\n",
      "Pruebas Intervalos, derivada centredform | \u001b[32m   6  \u001b[39m\u001b[36m    6\u001b[39m\n"
     ]
    },
    {
     "data": {
      "text/plain": [
       "Base.Test.DefaultTestSet(\"Pruebas Intervalos, derivada centredform\", Any[], 6, false)"
      ]
     },
     "execution_count": 57,
     "metadata": {},
     "output_type": "execute_result"
    }
   ],
   "source": [
    "f(x) = x^2 - 2\n",
    "X0 = Intervalo(0.5, 1.5)\n",
    "\n",
    "@testset \"Pruebas Intervalos, derivada centredform\" begin\n",
    "    @test Intervalo(1) == Intervalo(1.0, 1.0)\n",
    "    @test Intervalo(1,2) + Intervalo(10,40) == Intervalo(11.0, 42.0)\n",
    "    @test typeof(Intervalo(1,2)) <: Real\n",
    "    @test f(X0) == Intervalo(-1.75, 0.25)\n",
    "    @test derivada(f, X0) == Intervalo(1.0, 3.0)\n",
    "    @test centredform(f, X0) == Intervalo(-2.5, 0.5)\n",
    "end"
   ]
  },
  {
   "cell_type": "code",
   "execution_count": 4,
   "metadata": {},
   "outputs": [
    {
     "data": {
      "text/plain": [
       "newton (generic function with 3 methods)"
      ]
     },
     "execution_count": 4,
     "metadata": {},
     "output_type": "execute_result"
    }
   ],
   "source": [
    "function newton(f,X0::Intervalo,n::Int64 = 10, tolerancia::Float64 = 1e-10 )\n",
    "    \n",
    "    for i in 1:n\n",
    "        X0 = X0 - X0/derivada(f ,X0)\n",
    "        diametro = abs(X0.sup - X0.inf)\n",
    "        diametro == 0.0 ? break : nothing\n",
    "        println(\" Diametro del intervalo \", diametro)\n",
    "        \n",
    "    end\n",
    "    X0\n",
    "end"
   ]
  },
  {
   "cell_type": "code",
   "execution_count": 5,
   "metadata": {},
   "outputs": [
    {
     "name": "stdout",
     "output_type": "stream",
     "text": [
      " Diametro del intervalo 2.333333333333333\n",
      " Diametro del intervalo Inf\n",
      " Diametro del intervalo Inf\n",
      " Diametro del intervalo Inf\n",
      " Diametro del intervalo Inf\n",
      " Diametro del intervalo Inf\n",
      " Diametro del intervalo Inf\n",
      " Diametro del intervalo Inf\n",
      " Diametro del intervalo Inf\n",
      " Diametro del intervalo Inf\n"
     ]
    },
    {
     "data": {
      "text/plain": [
       "Intervalos.Intervalo(-Inf, Inf)"
      ]
     },
     "execution_count": 5,
     "metadata": {},
     "output_type": "execute_result"
    }
   ],
   "source": [
    "newton(f, X0) "
   ]
  },
  {
   "cell_type": "markdown",
   "metadata": {},
   "source": [
    "Vemos que implementar el método de Newton tal cual no converge a la raíz"
   ]
  },
  {
   "cell_type": "markdown",
   "metadata": {},
   "source": [
    "## El método de Newton para intervalos"
   ]
  },
  {
   "cell_type": "markdown",
   "metadata": {},
   "source": [
    "Está claro que el método de Newton usual no nos sirve con intervalos. De hecho, es común que los métodos numéricos tradicionales no funcionan con intervalos. Sin embargo, al reescribir el método de otra manera, es posible que funcione mejor para acotar las cantidades deseadas.\n",
    "\n",
    "En los 60s se encontró una manera de *mejorar* el método de Newton, para proveer un método que *garantizadamente* pueda resolver el siguiente problema:\n",
    "\n",
    "> Dados un intervalo $X \\subseteq \\mathbb{R}$ y una función $f$ suficientemente suave ($C^1$), encuentra *todas* las raíces $f$ dentro del intervalo $X$.\n",
    "\n",
    "Es decir, el método de Newton para intervalos nos reportará cuáles son los intervalos dentro de los cuales puede garantizarse que existe una raíz, y que esta raíz es única dentro del intervalo. Asimismo, podría haber intervalos en los cuales no se puede garantizar que haya o no haya una raíz. Cualquier región de $X$ que no esté contenida en la lista de intervalos garantizadamente *no* contiene una raíz de $f$."
   ]
  },
  {
   "cell_type": "markdown",
   "metadata": {},
   "source": [
    "Necesitaremos extensiones intervalares $F$ de la función $f$ y $F'$ de su derivada $f'$; la segunda se puede obtener utilizando la diferenciación automática."
   ]
  },
  {
   "cell_type": "markdown",
   "metadata": {},
   "source": [
    "**[2]**\n",
    "Sea $x^*$ una raíz de $f$ y $x$ algún punto del intervalo $X:=[a,b]$. \n",
    "\n",
    "(i) Escribe el teorema del valor medio que relaciona $f(x)$ y $f(x^*)$.\n",
    "\n",
    "* Sea $f:X \\longrightarrow \\mathbb{R}$ tal que cumple las hipótesis del teorema del valor medio, entonces tenemos: $$f'(\\xi) = \\dfrac{f(b) - f(a)}{b - a}$$\n",
    "\n",
    "* Ahora $x^*$ tal que $f(x^*) = 0$ y $x\\in X$ con $[x^*,x]\\subseteq X$, entonces existe $\\xi \\in X$ entonces $$f'(\\xi) = \\dfrac{f(x^*) - f(x)}{x^* - x}$$ \n",
    "\n",
    "(ii) De ahí, obtén una expresión *exacta* para $x^*$ en términos de $x$ y un valor desconocido.\n",
    "\n",
    "* Despejando $x^*$ obtenemos $$x^* = x -\\dfrac{f(x)}{f'(\\xi)}$$ con $f'(\\xi) \\neq 0$\n",
    "\n",
    "(iii) ¿Qué se puede hacer con el valor desconocido?\n",
    "\n",
    "* Le asignamos todo el intervalo $\\xi = X $\n",
    "\n",
    "(iv) Define un operador $N_f(X, x)$ como el resultado de (iii).\n",
    "\n",
    "* $N_f(X, x) := x -\\dfrac{f(x)}{F'(X)}$\n",
    "\n",
    "(v) Demuestra que si $x^* \\in X$, entonces $x^* \\in N_f(X, x)$, y entonces $x^* \\in X \\cap N_f(X, x)$.\n",
    "\n",
    "* Puesto que $x^* \\in X$ podemos evaluar en el operador $N_f(X, x^*) = x^* -\\dfrac{f(x^*)}{F'(X)} = x^* \\Longrightarrow x^* \\in  N_f(X, x)\\cap X$ con $0\\notin F'(X)$\n"
   ]
  },
  {
   "cell_type": "markdown",
   "metadata": {},
   "source": [
    "Sea $m(X) := \\mathrm{mid}(X)$ el punto medio de $X$. Definimos el **operador de Newton** $N_f(X) := N_f(X, m)$. [Es necesario utilizar el intervalo $[m, m]$ cuando se calcula $f(m)$.]"
   ]
  },
  {
   "cell_type": "markdown",
   "metadata": {},
   "source": [
    "Ahora podemos definir una sucesión de intervalos a partir de un intervalo inicial $X_0$, dada por $X_{k+1} := X_k \\cap N_f(X_k)$. Por construcción, si $x^*\\in X_0$ entonces $x^*\\in X_k$ para toda $k$. Entonces, si $X_0$ contiene una raíz, la raíz se mantiene dentro de la secuencia de intervalos.\n",
    "\n",
    "Entonces, si pudiéramos controlar de alguna manera que el diámetro de los intervalos $x_k$ disminuya, obtendríamos cotas precisas para $x^*$. Resulta que sí es el caso; la demostración se encuentra, por ejemplo, en el libro de Tucker. Aquí veremos numéricamente que sí es el caso."
   ]
  },
  {
   "cell_type": "markdown",
   "metadata": {},
   "source": [
    "**[3]** (i) Escribe una función que acepte una función $f$ y calcule el operador de Newton $N_f(X)$ para un intervalo $X$.\n",
    "\n",
    "(ii) Escoge una función que tenga una raíz y tal que $0 \\notin F'(X)$. Implementa la iteración del método de Newton intervalar y dibuja la secuencia de intervalos que se obtiene.\n",
    "\n",
    "(iii) Calcula sus diámetros. ¿Qué ocurre?\n",
    "* Para `Float64`  el diametro converge a $0.0$"
   ]
  },
  {
   "cell_type": "code",
   "execution_count": 6,
   "metadata": {},
   "outputs": [
    {
     "data": {
      "text/plain": [
       "mid (generic function with 1 method)"
      ]
     },
     "execution_count": 6,
     "metadata": {},
     "output_type": "execute_result"
    }
   ],
   "source": [
    "function mid(X::Intervalo) \n",
    "        (X.sup - X.inf)*0.5 + X.inf\n",
    "end"
   ]
  },
  {
   "cell_type": "code",
   "execution_count": 7,
   "metadata": {},
   "outputs": [
    {
     "data": {
      "text/plain": [
       "diametro (generic function with 1 method)"
      ]
     },
     "execution_count": 7,
     "metadata": {},
     "output_type": "execute_result"
    }
   ],
   "source": [
    "diametro(X::Intervalo) = abs(X.sup - X.inf)"
   ]
  },
  {
   "cell_type": "code",
   "execution_count": 8,
   "metadata": {},
   "outputs": [
    {
     "data": {
      "text/plain": [
       "OperadorNewton (generic function with 1 method)"
      ]
     },
     "execution_count": 8,
     "metadata": {},
     "output_type": "execute_result"
    }
   ],
   "source": [
    "function OperadorNewton(f,X0::Intervalo)\n",
    "    x0 = mid(X0)\n",
    "    #@show x0, f(x0), derivada(f ,X0)\n",
    "    Nf = x0 - f(x0)/derivada(f ,X0)\n",
    "end"
   ]
  },
  {
   "cell_type": "code",
   "execution_count": 9,
   "metadata": {},
   "outputs": [
    {
     "name": "stdout",
     "output_type": "stream",
     "text": [
      "\u001b[1m\u001b[37mTest Summary:   | \u001b[39m\u001b[22m\u001b[1m\u001b[32mPass  \u001b[39m\u001b[22m\u001b[1m\u001b[36mTotal\u001b[39m\u001b[22m\n",
      "Operador Newton | \u001b[32m   1  \u001b[39m\u001b[36m    1\u001b[39m\n"
     ]
    },
    {
     "data": {
      "text/plain": [
       "Base.Test.DefaultTestSet(\"Operador Newton\", Any[], 1, false)"
      ]
     },
     "execution_count": 9,
     "metadata": {},
     "output_type": "execute_result"
    }
   ],
   "source": [
    "X0 = Intervalo(0.5, 1.5)\n",
    "@testset \"Operador Newton\" begin\n",
    "\n",
    "    @test OperadorNewton(f, X0) == Intervalo(4.0/3.0, 2.0)\n",
    "end"
   ]
  },
  {
   "cell_type": "code",
   "execution_count": 10,
   "metadata": {},
   "outputs": [
    {
     "data": {
      "text/plain": [
       "intersect (generic function with 18 methods)"
      ]
     },
     "execution_count": 10,
     "metadata": {},
     "output_type": "execute_result"
    }
   ],
   "source": [
    "import Base: ∩, ∈, ∉\n",
    "\n",
    "function ∈(c::Real, x::Intervalo)\n",
    "    if x.inf <= c <= x.sup\n",
    "        true\n",
    "    else\n",
    "        #@assert x.inf <= c <= x.sup \" No es elemento del Intervalo\"\n",
    "        false\n",
    "    end\n",
    "    \n",
    "end\n",
    "\n",
    "function ∉(c::Real, x::Intervalo)\n",
    "    if  c < x.inf || c > x.sup\n",
    "        true\n",
    "    else\n",
    "        false\n",
    "    end\n",
    "    \n",
    "end\n",
    "\n",
    "function ∩(x::Intervalo, y::Intervalo)\n",
    "    try\n",
    "        X = Intervalo(max(x.inf, y.inf), min(x.sup, y.sup))\n",
    "        \n",
    "        if X.inf ∈ x && X.inf ∈ y && X.sup ∈ x && X.sup ∈ y\n",
    "            X\n",
    "        else\n",
    "            #X = Intervalo(0,0)\n",
    "            X = Intervalo(NaN, NaN)\n",
    "        end\n",
    "        \n",
    "    catch \n",
    "        #X = Intervalo(0,0)\n",
    "        X = Intervalo(NaN, NaN)\n",
    "    end\n",
    "        \n",
    "end\n"
   ]
  },
  {
   "cell_type": "code",
   "execution_count": 11,
   "metadata": {},
   "outputs": [
    {
     "data": {
      "text/plain": [
       "true"
      ]
     },
     "execution_count": 11,
     "metadata": {},
     "output_type": "execute_result"
    }
   ],
   "source": [
    "0 ∈ Intervalo(-1,1)"
   ]
  },
  {
   "cell_type": "code",
   "execution_count": 12,
   "metadata": {},
   "outputs": [
    {
     "data": {
      "text/plain": [
       "false"
      ]
     },
     "execution_count": 12,
     "metadata": {},
     "output_type": "execute_result"
    }
   ],
   "source": [
    "0 ∉ Intervalo(-1,1)"
   ]
  },
  {
   "cell_type": "code",
   "execution_count": 13,
   "metadata": {},
   "outputs": [
    {
     "data": {
      "text/plain": [
       "true"
      ]
     },
     "execution_count": 13,
     "metadata": {},
     "output_type": "execute_result"
    }
   ],
   "source": [
    "0 ∉ Intervalo(1,2)"
   ]
  },
  {
   "cell_type": "code",
   "execution_count": 14,
   "metadata": {},
   "outputs": [
    {
     "name": "stdout",
     "output_type": "stream",
     "text": [
      "\u001b[1m\u001b[37mTest Summary:  | \u001b[39m\u001b[22m\u001b[1m\u001b[32mPass  \u001b[39m\u001b[22m\u001b[1m\u001b[36mTotal\u001b[39m\u001b[22m\n",
      "Pruebas; ∈ y ∩ | \u001b[32m   7  \u001b[39m\u001b[36m    7\u001b[39m\n"
     ]
    },
    {
     "data": {
      "text/plain": [
       "Base.Test.DefaultTestSet(\"Pruebas; ∈ y ∩\", Any[], 7, false)"
      ]
     },
     "execution_count": 14,
     "metadata": {},
     "output_type": "execute_result"
    }
   ],
   "source": [
    "I = Intervalo(1,5)∩Intervalo(6,9)\n",
    "\n",
    "@testset \"Pruebas; ∈ y ∩\" begin\n",
    "    \n",
    "    @test Intervalo(1,5)∩Intervalo(3,6) == Intervalo(3.0, 5.0)\n",
    "    @test Intervalo(1,5)∩Intervalo(6,9) == Intervalo(NaN, NaN)\n",
    "    @test I == Intervalo(NaN, NaN)\n",
    "    @test Intervalo(1.0, 5.0)∩Intervalo(NaN, NaN) == Intervalo(NaN, NaN)\n",
    "    @test Intervalo(1.0, 5.0)∩I == Intervalo(NaN, NaN)\n",
    "    @test 4.0 ∈ Intervalo(1.0, 5.0)\n",
    "    @test 4.0 ∉ Intervalo(1.0, 3.0) \n",
    "    \n",
    "end"
   ]
  },
  {
   "cell_type": "code",
   "execution_count": 52,
   "metadata": {},
   "outputs": [
    {
     "data": {
      "text/plain": [
       "newtonIntervalo (generic function with 3 methods)"
      ]
     },
     "execution_count": 52,
     "metadata": {},
     "output_type": "execute_result"
    }
   ],
   "source": [
    "function newtonIntervalo(f, X0::Intervalo, n::Int64 = 10, tolerancia::Float64 = 1e-10 )\n",
    "    Nf = Intervalo(0,0)\n",
    "    for i in 1:n\n",
    "        Nf = OperadorNewton(f, X0)\n",
    "        X0 = Nf ∩ X0\n",
    "        (X0 == Intervalo(NaN,NaN)) && break\n",
    "        #@show i, diametro(X0)\n",
    "        (diametro(X0) == 0.0) && break\n",
    "        \n",
    "    end\n",
    "     #@show \"Diametro del interva lo \" abs(X0.sup - X0.inf)\n",
    "    X0 == Intervalo(NaN,NaN) ? nothing : X0\n",
    "   \n",
    "end"
   ]
  },
  {
   "cell_type": "code",
   "execution_count": null,
   "metadata": {
    "collapsed": true
   },
   "outputs": [],
   "source": []
  },
  {
   "cell_type": "code",
   "execution_count": 16,
   "metadata": {},
   "outputs": [
    {
     "data": {
      "text/plain": [
       "false"
      ]
     },
     "execution_count": 16,
     "metadata": {},
     "output_type": "execute_result"
    }
   ],
   "source": [
    "NaN == NaN"
   ]
  },
  {
   "cell_type": "code",
   "execution_count": 60,
   "metadata": {},
   "outputs": [],
   "source": [
    "X0 = Intervalo(-2, -1)\n",
    "X1 = Intervalo(-3, -2)\n",
    "newtonIntervalo(f, X1, 11)"
   ]
  },
  {
   "cell_type": "markdown",
   "metadata": {},
   "source": [
    "**[4]** Podemos entender la acción del operador gráficamente: consiste en tomar rectas con *todas las pendientes dentro del intervalo $F'(X)$* e intersectarlos con el eje $x$. \n",
    "\n",
    "(i) Dibuja esto gráficamente.\n",
    "\n",
    "(ii) Dibuja lo que ocurre en la evolución de la iteración de Newton."
   ]
  },
  {
   "cell_type": "code",
   "execution_count": 18,
   "metadata": {},
   "outputs": [
    {
     "data": {
      "text/plain": [
       "Plots.GRBackend()"
      ]
     },
     "execution_count": 18,
     "metadata": {},
     "output_type": "execute_result"
    }
   ],
   "source": [
    "using Plots\n",
    "gr()"
   ]
  },
  {
   "cell_type": "code",
   "execution_count": 19,
   "metadata": {},
   "outputs": [
    {
     "data": {
      "text/plain": [
       "mrecta (generic function with 1 method)"
      ]
     },
     "execution_count": 19,
     "metadata": {},
     "output_type": "execute_result"
    }
   ],
   "source": [
    "function mrecta(f, X::Intervalo)\n",
    "    xs = collect(linspace(X.inf, X.sup, 50))\n",
    "    #@show typeof(xs)\n",
    "    ys = zeros(50)\n",
    "    x0 = mid(X)\n",
    "    recta(x::Array{Float64,1}, m::Float64, x0, f) = m.*(x .- x0) .+ f(x0)\n",
    "    xp = derivada(f, X)\n",
    "    xpsinf = recta(xs,xp.inf,x0,f)\n",
    "    xpssup = recta(xs,xp.sup,x0,f)\n",
    "    xs, xpsinf, xpssup\n",
    "    \n",
    "end"
   ]
  },
  {
   "cell_type": "code",
   "execution_count": 20,
   "metadata": {},
   "outputs": [
    {
     "data": {
      "text/html": [
       "<?xml version=\"1.0\" encoding=\"utf-8\"?>\n",
       "<svg xmlns=\"http://www.w3.org/2000/svg\" xmlns:xlink=\"http://www.w3.org/1999/xlink\" width=\"600\" height=\"400\" viewBox=\"0 0 600 400\">\n",
       "<defs>\n",
       "  <clipPath id=\"clip2100\">\n",
       "    <rect x=\"0\" y=\"0\" width=\"600\" height=\"400\"/>\n",
       "  </clipPath>\n",
       "</defs>\n",
       "<polygon clip-path=\"url(#clip2100)\" points=\"\n",
       "0,400 600,400 600,0 0,0 \n",
       "  \" fill=\"#ffffff\" fill-opacity=\"1\"/>\n",
       "<defs>\n",
       "  <clipPath id=\"clip2101\">\n",
       "    <rect x=\"120\" y=\"0\" width=\"421\" height=\"400\"/>\n",
       "  </clipPath>\n",
       "</defs>\n",
       "<polygon clip-path=\"url(#clip2100)\" points=\"\n",
       "29.4661,375.869 580.315,375.869 580.315,11.811 29.4661,11.811 \n",
       "  \" fill=\"#ffffff\" fill-opacity=\"1\"/>\n",
       "<defs>\n",
       "  <clipPath id=\"clip2102\">\n",
       "    <rect x=\"29\" y=\"11\" width=\"552\" height=\"365\"/>\n",
       "  </clipPath>\n",
       "</defs>\n",
       "<polyline clip-path=\"url(#clip2102)\" style=\"stroke:#000000; stroke-width:0.5; stroke-opacity:0.1; fill:none\" points=\"\n",
       "  47.2355,375.869 47.2355,11.811 \n",
       "  \"/>\n",
       "<polyline clip-path=\"url(#clip2102)\" style=\"stroke:#000000; stroke-width:0.5; stroke-opacity:0.1; fill:none\" points=\"\n",
       "  82.7741,375.869 82.7741,11.811 \n",
       "  \"/>\n",
       "<polyline clip-path=\"url(#clip2102)\" style=\"stroke:#000000; stroke-width:0.5; stroke-opacity:0.1; fill:none\" points=\"\n",
       "  118.313,375.869 118.313,11.811 \n",
       "  \"/>\n",
       "<polyline clip-path=\"url(#clip2102)\" style=\"stroke:#000000; stroke-width:0.5; stroke-opacity:0.1; fill:none\" points=\"\n",
       "  153.851,375.869 153.851,11.811 \n",
       "  \"/>\n",
       "<polyline clip-path=\"url(#clip2102)\" style=\"stroke:#000000; stroke-width:0.5; stroke-opacity:0.1; fill:none\" points=\"\n",
       "  189.39,375.869 189.39,11.811 \n",
       "  \"/>\n",
       "<polyline clip-path=\"url(#clip2102)\" style=\"stroke:#000000; stroke-width:0.5; stroke-opacity:0.1; fill:none\" points=\"\n",
       "  224.929,375.869 224.929,11.811 \n",
       "  \"/>\n",
       "<polyline clip-path=\"url(#clip2102)\" style=\"stroke:#000000; stroke-width:0.5; stroke-opacity:0.1; fill:none\" points=\"\n",
       "  260.467,375.869 260.467,11.811 \n",
       "  \"/>\n",
       "<polyline clip-path=\"url(#clip2102)\" style=\"stroke:#000000; stroke-width:0.5; stroke-opacity:0.1; fill:none\" points=\"\n",
       "  296.006,375.869 296.006,11.811 \n",
       "  \"/>\n",
       "<polyline clip-path=\"url(#clip2102)\" style=\"stroke:#000000; stroke-width:0.5; stroke-opacity:0.1; fill:none\" points=\"\n",
       "  331.545,375.869 331.545,11.811 \n",
       "  \"/>\n",
       "<polyline clip-path=\"url(#clip2102)\" style=\"stroke:#000000; stroke-width:0.5; stroke-opacity:0.1; fill:none\" points=\"\n",
       "  367.083,375.869 367.083,11.811 \n",
       "  \"/>\n",
       "<polyline clip-path=\"url(#clip2102)\" style=\"stroke:#000000; stroke-width:0.5; stroke-opacity:0.1; fill:none\" points=\"\n",
       "  402.622,375.869 402.622,11.811 \n",
       "  \"/>\n",
       "<polyline clip-path=\"url(#clip2102)\" style=\"stroke:#000000; stroke-width:0.5; stroke-opacity:0.1; fill:none\" points=\"\n",
       "  438.16,375.869 438.16,11.811 \n",
       "  \"/>\n",
       "<polyline clip-path=\"url(#clip2102)\" style=\"stroke:#000000; stroke-width:0.5; stroke-opacity:0.1; fill:none\" points=\"\n",
       "  473.699,375.869 473.699,11.811 \n",
       "  \"/>\n",
       "<polyline clip-path=\"url(#clip2102)\" style=\"stroke:#000000; stroke-width:0.5; stroke-opacity:0.1; fill:none\" points=\"\n",
       "  509.238,375.869 509.238,11.811 \n",
       "  \"/>\n",
       "<polyline clip-path=\"url(#clip2102)\" style=\"stroke:#000000; stroke-width:0.5; stroke-opacity:0.1; fill:none\" points=\"\n",
       "  544.776,375.869 544.776,11.811 \n",
       "  \"/>\n",
       "<polyline clip-path=\"url(#clip2102)\" style=\"stroke:#000000; stroke-width:0.5; stroke-opacity:0.1; fill:none\" points=\"\n",
       "  580.315,375.869 580.315,11.811 \n",
       "  \"/>\n",
       "<polyline clip-path=\"url(#clip2102)\" style=\"stroke:#000000; stroke-width:0.5; stroke-opacity:0.1; fill:none\" points=\"\n",
       "  29.4661,362.385 580.315,362.385 \n",
       "  \"/>\n",
       "<polyline clip-path=\"url(#clip2102)\" style=\"stroke:#000000; stroke-width:0.5; stroke-opacity:0.1; fill:none\" points=\"\n",
       "  29.4661,335.418 580.315,335.418 \n",
       "  \"/>\n",
       "<polyline clip-path=\"url(#clip2102)\" style=\"stroke:#000000; stroke-width:0.5; stroke-opacity:0.1; fill:none\" points=\"\n",
       "  29.4661,308.451 580.315,308.451 \n",
       "  \"/>\n",
       "<polyline clip-path=\"url(#clip2102)\" style=\"stroke:#000000; stroke-width:0.5; stroke-opacity:0.1; fill:none\" points=\"\n",
       "  29.4661,281.483 580.315,281.483 \n",
       "  \"/>\n",
       "<polyline clip-path=\"url(#clip2102)\" style=\"stroke:#000000; stroke-width:0.5; stroke-opacity:0.1; fill:none\" points=\"\n",
       "  29.4661,254.516 580.315,254.516 \n",
       "  \"/>\n",
       "<polyline clip-path=\"url(#clip2102)\" style=\"stroke:#000000; stroke-width:0.5; stroke-opacity:0.1; fill:none\" points=\"\n",
       "  29.4661,227.549 580.315,227.549 \n",
       "  \"/>\n",
       "<polyline clip-path=\"url(#clip2102)\" style=\"stroke:#000000; stroke-width:0.5; stroke-opacity:0.1; fill:none\" points=\"\n",
       "  29.4661,200.582 580.315,200.582 \n",
       "  \"/>\n",
       "<polyline clip-path=\"url(#clip2102)\" style=\"stroke:#000000; stroke-width:0.5; stroke-opacity:0.1; fill:none\" points=\"\n",
       "  29.4661,173.614 580.315,173.614 \n",
       "  \"/>\n",
       "<polyline clip-path=\"url(#clip2102)\" style=\"stroke:#000000; stroke-width:0.5; stroke-opacity:0.1; fill:none\" points=\"\n",
       "  29.4661,146.647 580.315,146.647 \n",
       "  \"/>\n",
       "<polyline clip-path=\"url(#clip2102)\" style=\"stroke:#000000; stroke-width:0.5; stroke-opacity:0.1; fill:none\" points=\"\n",
       "  29.4661,119.68 580.315,119.68 \n",
       "  \"/>\n",
       "<polyline clip-path=\"url(#clip2102)\" style=\"stroke:#000000; stroke-width:0.5; stroke-opacity:0.1; fill:none\" points=\"\n",
       "  29.4661,92.7127 580.315,92.7127 \n",
       "  \"/>\n",
       "<polyline clip-path=\"url(#clip2102)\" style=\"stroke:#000000; stroke-width:0.5; stroke-opacity:0.1; fill:none\" points=\"\n",
       "  29.4661,65.7455 580.315,65.7455 \n",
       "  \"/>\n",
       "<polyline clip-path=\"url(#clip2102)\" style=\"stroke:#000000; stroke-width:0.5; stroke-opacity:0.1; fill:none\" points=\"\n",
       "  29.4661,38.7783 580.315,38.7783 \n",
       "  \"/>\n",
       "<polyline clip-path=\"url(#clip2102)\" style=\"stroke:#000000; stroke-width:0.5; stroke-opacity:0.1; fill:none\" points=\"\n",
       "  29.4661,11.811 580.315,11.811 \n",
       "  \"/>\n",
       "<polyline clip-path=\"url(#clip2100)\" style=\"stroke:#000000; stroke-width:1; stroke-opacity:1; fill:none\" points=\"\n",
       "  29.4661,375.869 580.315,375.869 \n",
       "  \"/>\n",
       "<polyline clip-path=\"url(#clip2100)\" style=\"stroke:#000000; stroke-width:1; stroke-opacity:1; fill:none\" points=\"\n",
       "  29.4661,375.869 29.4661,11.811 \n",
       "  \"/>\n",
       "<polyline clip-path=\"url(#clip2100)\" style=\"stroke:#000000; stroke-width:1; stroke-opacity:1; fill:none\" points=\"\n",
       "  47.2355,375.869 47.2355,370.408 \n",
       "  \"/>\n",
       "<polyline clip-path=\"url(#clip2100)\" style=\"stroke:#000000; stroke-width:1; stroke-opacity:1; fill:none\" points=\"\n",
       "  82.7741,375.869 82.7741,370.408 \n",
       "  \"/>\n",
       "<polyline clip-path=\"url(#clip2100)\" style=\"stroke:#000000; stroke-width:1; stroke-opacity:1; fill:none\" points=\"\n",
       "  118.313,375.869 118.313,370.408 \n",
       "  \"/>\n",
       "<polyline clip-path=\"url(#clip2100)\" style=\"stroke:#000000; stroke-width:1; stroke-opacity:1; fill:none\" points=\"\n",
       "  153.851,375.869 153.851,370.408 \n",
       "  \"/>\n",
       "<polyline clip-path=\"url(#clip2100)\" style=\"stroke:#000000; stroke-width:1; stroke-opacity:1; fill:none\" points=\"\n",
       "  189.39,375.869 189.39,370.408 \n",
       "  \"/>\n",
       "<polyline clip-path=\"url(#clip2100)\" style=\"stroke:#000000; stroke-width:1; stroke-opacity:1; fill:none\" points=\"\n",
       "  224.929,375.869 224.929,370.408 \n",
       "  \"/>\n",
       "<polyline clip-path=\"url(#clip2100)\" style=\"stroke:#000000; stroke-width:1; stroke-opacity:1; fill:none\" points=\"\n",
       "  260.467,375.869 260.467,370.408 \n",
       "  \"/>\n",
       "<polyline clip-path=\"url(#clip2100)\" style=\"stroke:#000000; stroke-width:1; stroke-opacity:1; fill:none\" points=\"\n",
       "  296.006,375.869 296.006,370.408 \n",
       "  \"/>\n",
       "<polyline clip-path=\"url(#clip2100)\" style=\"stroke:#000000; stroke-width:1; stroke-opacity:1; fill:none\" points=\"\n",
       "  331.545,375.869 331.545,370.408 \n",
       "  \"/>\n",
       "<polyline clip-path=\"url(#clip2100)\" style=\"stroke:#000000; stroke-width:1; stroke-opacity:1; fill:none\" points=\"\n",
       "  367.083,375.869 367.083,370.408 \n",
       "  \"/>\n",
       "<polyline clip-path=\"url(#clip2100)\" style=\"stroke:#000000; stroke-width:1; stroke-opacity:1; fill:none\" points=\"\n",
       "  402.622,375.869 402.622,370.408 \n",
       "  \"/>\n",
       "<polyline clip-path=\"url(#clip2100)\" style=\"stroke:#000000; stroke-width:1; stroke-opacity:1; fill:none\" points=\"\n",
       "  438.16,375.869 438.16,370.408 \n",
       "  \"/>\n",
       "<polyline clip-path=\"url(#clip2100)\" style=\"stroke:#000000; stroke-width:1; stroke-opacity:1; fill:none\" points=\"\n",
       "  473.699,375.869 473.699,370.408 \n",
       "  \"/>\n",
       "<polyline clip-path=\"url(#clip2100)\" style=\"stroke:#000000; stroke-width:1; stroke-opacity:1; fill:none\" points=\"\n",
       "  509.238,375.869 509.238,370.408 \n",
       "  \"/>\n",
       "<polyline clip-path=\"url(#clip2100)\" style=\"stroke:#000000; stroke-width:1; stroke-opacity:1; fill:none\" points=\"\n",
       "  544.776,375.869 544.776,370.408 \n",
       "  \"/>\n",
       "<polyline clip-path=\"url(#clip2100)\" style=\"stroke:#000000; stroke-width:1; stroke-opacity:1; fill:none\" points=\"\n",
       "  580.315,375.869 580.315,370.408 \n",
       "  \"/>\n",
       "<polyline clip-path=\"url(#clip2100)\" style=\"stroke:#000000; stroke-width:1; stroke-opacity:1; fill:none\" points=\"\n",
       "  29.4661,362.385 37.7289,362.385 \n",
       "  \"/>\n",
       "<polyline clip-path=\"url(#clip2100)\" style=\"stroke:#000000; stroke-width:1; stroke-opacity:1; fill:none\" points=\"\n",
       "  29.4661,335.418 37.7289,335.418 \n",
       "  \"/>\n",
       "<polyline clip-path=\"url(#clip2100)\" style=\"stroke:#000000; stroke-width:1; stroke-opacity:1; fill:none\" points=\"\n",
       "  29.4661,308.451 37.7289,308.451 \n",
       "  \"/>\n",
       "<polyline clip-path=\"url(#clip2100)\" style=\"stroke:#000000; stroke-width:1; stroke-opacity:1; fill:none\" points=\"\n",
       "  29.4661,281.483 37.7289,281.483 \n",
       "  \"/>\n",
       "<polyline clip-path=\"url(#clip2100)\" style=\"stroke:#000000; stroke-width:1; stroke-opacity:1; fill:none\" points=\"\n",
       "  29.4661,254.516 37.7289,254.516 \n",
       "  \"/>\n",
       "<polyline clip-path=\"url(#clip2100)\" style=\"stroke:#000000; stroke-width:1; stroke-opacity:1; fill:none\" points=\"\n",
       "  29.4661,227.549 37.7289,227.549 \n",
       "  \"/>\n",
       "<polyline clip-path=\"url(#clip2100)\" style=\"stroke:#000000; stroke-width:1; stroke-opacity:1; fill:none\" points=\"\n",
       "  29.4661,200.582 37.7289,200.582 \n",
       "  \"/>\n",
       "<polyline clip-path=\"url(#clip2100)\" style=\"stroke:#000000; stroke-width:1; stroke-opacity:1; fill:none\" points=\"\n",
       "  29.4661,173.614 37.7289,173.614 \n",
       "  \"/>\n",
       "<polyline clip-path=\"url(#clip2100)\" style=\"stroke:#000000; stroke-width:1; stroke-opacity:1; fill:none\" points=\"\n",
       "  29.4661,146.647 37.7289,146.647 \n",
       "  \"/>\n",
       "<polyline clip-path=\"url(#clip2100)\" style=\"stroke:#000000; stroke-width:1; stroke-opacity:1; fill:none\" points=\"\n",
       "  29.4661,119.68 37.7289,119.68 \n",
       "  \"/>\n",
       "<polyline clip-path=\"url(#clip2100)\" style=\"stroke:#000000; stroke-width:1; stroke-opacity:1; fill:none\" points=\"\n",
       "  29.4661,92.7127 37.7289,92.7127 \n",
       "  \"/>\n",
       "<polyline clip-path=\"url(#clip2100)\" style=\"stroke:#000000; stroke-width:1; stroke-opacity:1; fill:none\" points=\"\n",
       "  29.4661,65.7455 37.7289,65.7455 \n",
       "  \"/>\n",
       "<polyline clip-path=\"url(#clip2100)\" style=\"stroke:#000000; stroke-width:1; stroke-opacity:1; fill:none\" points=\"\n",
       "  29.4661,38.7783 37.7289,38.7783 \n",
       "  \"/>\n",
       "<polyline clip-path=\"url(#clip2100)\" style=\"stroke:#000000; stroke-width:1; stroke-opacity:1; fill:none\" points=\"\n",
       "  29.4661,11.811 37.7289,11.811 \n",
       "  \"/>\n",
       "<g clip-path=\"url(#clip2100)\">\n",
       "<text style=\"fill:#000000; fill-opacity:1; font-family:Arial,Helvetica Neue,Helvetica,sans-serif; font-size:12; text-anchor:middle;\" transform=\"rotate(0, 47.2355, 389.669)\" x=\"47.2355\" y=\"389.669\">0.0</text>\n",
       "</g>\n",
       "<g clip-path=\"url(#clip2100)\">\n",
       "<text style=\"fill:#000000; fill-opacity:1; font-family:Arial,Helvetica Neue,Helvetica,sans-serif; font-size:12; text-anchor:middle;\" transform=\"rotate(0, 82.7741, 389.669)\" x=\"82.7741\" y=\"389.669\">0.2</text>\n",
       "</g>\n",
       "<g clip-path=\"url(#clip2100)\">\n",
       "<text style=\"fill:#000000; fill-opacity:1; font-family:Arial,Helvetica Neue,Helvetica,sans-serif; font-size:12; text-anchor:middle;\" transform=\"rotate(0, 118.313, 389.669)\" x=\"118.313\" y=\"389.669\">0.4</text>\n",
       "</g>\n",
       "<g clip-path=\"url(#clip2100)\">\n",
       "<text style=\"fill:#000000; fill-opacity:1; font-family:Arial,Helvetica Neue,Helvetica,sans-serif; font-size:12; text-anchor:middle;\" transform=\"rotate(0, 153.851, 389.669)\" x=\"153.851\" y=\"389.669\">0.6</text>\n",
       "</g>\n",
       "<g clip-path=\"url(#clip2100)\">\n",
       "<text style=\"fill:#000000; fill-opacity:1; font-family:Arial,Helvetica Neue,Helvetica,sans-serif; font-size:12; text-anchor:middle;\" transform=\"rotate(0, 189.39, 389.669)\" x=\"189.39\" y=\"389.669\">0.8</text>\n",
       "</g>\n",
       "<g clip-path=\"url(#clip2100)\">\n",
       "<text style=\"fill:#000000; fill-opacity:1; font-family:Arial,Helvetica Neue,Helvetica,sans-serif; font-size:12; text-anchor:middle;\" transform=\"rotate(0, 224.929, 389.669)\" x=\"224.929\" y=\"389.669\">1.0</text>\n",
       "</g>\n",
       "<g clip-path=\"url(#clip2100)\">\n",
       "<text style=\"fill:#000000; fill-opacity:1; font-family:Arial,Helvetica Neue,Helvetica,sans-serif; font-size:12; text-anchor:middle;\" transform=\"rotate(0, 260.467, 389.669)\" x=\"260.467\" y=\"389.669\">1.2</text>\n",
       "</g>\n",
       "<g clip-path=\"url(#clip2100)\">\n",
       "<text style=\"fill:#000000; fill-opacity:1; font-family:Arial,Helvetica Neue,Helvetica,sans-serif; font-size:12; text-anchor:middle;\" transform=\"rotate(0, 296.006, 389.669)\" x=\"296.006\" y=\"389.669\">1.4</text>\n",
       "</g>\n",
       "<g clip-path=\"url(#clip2100)\">\n",
       "<text style=\"fill:#000000; fill-opacity:1; font-family:Arial,Helvetica Neue,Helvetica,sans-serif; font-size:12; text-anchor:middle;\" transform=\"rotate(0, 331.545, 389.669)\" x=\"331.545\" y=\"389.669\">1.6</text>\n",
       "</g>\n",
       "<g clip-path=\"url(#clip2100)\">\n",
       "<text style=\"fill:#000000; fill-opacity:1; font-family:Arial,Helvetica Neue,Helvetica,sans-serif; font-size:12; text-anchor:middle;\" transform=\"rotate(0, 367.083, 389.669)\" x=\"367.083\" y=\"389.669\">1.8</text>\n",
       "</g>\n",
       "<g clip-path=\"url(#clip2100)\">\n",
       "<text style=\"fill:#000000; fill-opacity:1; font-family:Arial,Helvetica Neue,Helvetica,sans-serif; font-size:12; text-anchor:middle;\" transform=\"rotate(0, 402.622, 389.669)\" x=\"402.622\" y=\"389.669\">2.0</text>\n",
       "</g>\n",
       "<g clip-path=\"url(#clip2100)\">\n",
       "<text style=\"fill:#000000; fill-opacity:1; font-family:Arial,Helvetica Neue,Helvetica,sans-serif; font-size:12; text-anchor:middle;\" transform=\"rotate(0, 438.16, 389.669)\" x=\"438.16\" y=\"389.669\">2.2</text>\n",
       "</g>\n",
       "<g clip-path=\"url(#clip2100)\">\n",
       "<text style=\"fill:#000000; fill-opacity:1; font-family:Arial,Helvetica Neue,Helvetica,sans-serif; font-size:12; text-anchor:middle;\" transform=\"rotate(0, 473.699, 389.669)\" x=\"473.699\" y=\"389.669\">2.4</text>\n",
       "</g>\n",
       "<g clip-path=\"url(#clip2100)\">\n",
       "<text style=\"fill:#000000; fill-opacity:1; font-family:Arial,Helvetica Neue,Helvetica,sans-serif; font-size:12; text-anchor:middle;\" transform=\"rotate(0, 509.238, 389.669)\" x=\"509.238\" y=\"389.669\">2.6</text>\n",
       "</g>\n",
       "<g clip-path=\"url(#clip2100)\">\n",
       "<text style=\"fill:#000000; fill-opacity:1; font-family:Arial,Helvetica Neue,Helvetica,sans-serif; font-size:12; text-anchor:middle;\" transform=\"rotate(0, 544.776, 389.669)\" x=\"544.776\" y=\"389.669\">2.8</text>\n",
       "</g>\n",
       "<g clip-path=\"url(#clip2100)\">\n",
       "<text style=\"fill:#000000; fill-opacity:1; font-family:Arial,Helvetica Neue,Helvetica,sans-serif; font-size:12; text-anchor:middle;\" transform=\"rotate(0, 580.315, 389.669)\" x=\"580.315\" y=\"389.669\">3.0</text>\n",
       "</g>\n",
       "<g clip-path=\"url(#clip2100)\">\n",
       "<text style=\"fill:#000000; fill-opacity:1; font-family:Arial,Helvetica Neue,Helvetica,sans-serif; font-size:12; text-anchor:end;\" transform=\"rotate(0, 23.4661, 366.885)\" x=\"23.4661\" y=\"366.885\">-2</text>\n",
       "</g>\n",
       "<g clip-path=\"url(#clip2100)\">\n",
       "<text style=\"fill:#000000; fill-opacity:1; font-family:Arial,Helvetica Neue,Helvetica,sans-serif; font-size:12; text-anchor:end;\" transform=\"rotate(0, 23.4661, 339.918)\" x=\"23.4661\" y=\"339.918\">0</text>\n",
       "</g>\n",
       "<g clip-path=\"url(#clip2100)\">\n",
       "<text style=\"fill:#000000; fill-opacity:1; font-family:Arial,Helvetica Neue,Helvetica,sans-serif; font-size:12; text-anchor:end;\" transform=\"rotate(0, 23.4661, 312.951)\" x=\"23.4661\" y=\"312.951\">2</text>\n",
       "</g>\n",
       "<g clip-path=\"url(#clip2100)\">\n",
       "<text style=\"fill:#000000; fill-opacity:1; font-family:Arial,Helvetica Neue,Helvetica,sans-serif; font-size:12; text-anchor:end;\" transform=\"rotate(0, 23.4661, 285.983)\" x=\"23.4661\" y=\"285.983\">4</text>\n",
       "</g>\n",
       "<g clip-path=\"url(#clip2100)\">\n",
       "<text style=\"fill:#000000; fill-opacity:1; font-family:Arial,Helvetica Neue,Helvetica,sans-serif; font-size:12; text-anchor:end;\" transform=\"rotate(0, 23.4661, 259.016)\" x=\"23.4661\" y=\"259.016\">6</text>\n",
       "</g>\n",
       "<g clip-path=\"url(#clip2100)\">\n",
       "<text style=\"fill:#000000; fill-opacity:1; font-family:Arial,Helvetica Neue,Helvetica,sans-serif; font-size:12; text-anchor:end;\" transform=\"rotate(0, 23.4661, 232.049)\" x=\"23.4661\" y=\"232.049\">8</text>\n",
       "</g>\n",
       "<g clip-path=\"url(#clip2100)\">\n",
       "<text style=\"fill:#000000; fill-opacity:1; font-family:Arial,Helvetica Neue,Helvetica,sans-serif; font-size:12; text-anchor:end;\" transform=\"rotate(0, 23.4661, 205.082)\" x=\"23.4661\" y=\"205.082\">10</text>\n",
       "</g>\n",
       "<g clip-path=\"url(#clip2100)\">\n",
       "<text style=\"fill:#000000; fill-opacity:1; font-family:Arial,Helvetica Neue,Helvetica,sans-serif; font-size:12; text-anchor:end;\" transform=\"rotate(0, 23.4661, 178.114)\" x=\"23.4661\" y=\"178.114\">12</text>\n",
       "</g>\n",
       "<g clip-path=\"url(#clip2100)\">\n",
       "<text style=\"fill:#000000; fill-opacity:1; font-family:Arial,Helvetica Neue,Helvetica,sans-serif; font-size:12; text-anchor:end;\" transform=\"rotate(0, 23.4661, 151.147)\" x=\"23.4661\" y=\"151.147\">14</text>\n",
       "</g>\n",
       "<g clip-path=\"url(#clip2100)\">\n",
       "<text style=\"fill:#000000; fill-opacity:1; font-family:Arial,Helvetica Neue,Helvetica,sans-serif; font-size:12; text-anchor:end;\" transform=\"rotate(0, 23.4661, 124.18)\" x=\"23.4661\" y=\"124.18\">16</text>\n",
       "</g>\n",
       "<g clip-path=\"url(#clip2100)\">\n",
       "<text style=\"fill:#000000; fill-opacity:1; font-family:Arial,Helvetica Neue,Helvetica,sans-serif; font-size:12; text-anchor:end;\" transform=\"rotate(0, 23.4661, 97.2127)\" x=\"23.4661\" y=\"97.2127\">18</text>\n",
       "</g>\n",
       "<g clip-path=\"url(#clip2100)\">\n",
       "<text style=\"fill:#000000; fill-opacity:1; font-family:Arial,Helvetica Neue,Helvetica,sans-serif; font-size:12; text-anchor:end;\" transform=\"rotate(0, 23.4661, 70.2455)\" x=\"23.4661\" y=\"70.2455\">20</text>\n",
       "</g>\n",
       "<g clip-path=\"url(#clip2100)\">\n",
       "<text style=\"fill:#000000; fill-opacity:1; font-family:Arial,Helvetica Neue,Helvetica,sans-serif; font-size:12; text-anchor:end;\" transform=\"rotate(0, 23.4661, 43.2783)\" x=\"23.4661\" y=\"43.2783\">22</text>\n",
       "</g>\n",
       "<g clip-path=\"url(#clip2100)\">\n",
       "<text style=\"fill:#000000; fill-opacity:1; font-family:Arial,Helvetica Neue,Helvetica,sans-serif; font-size:12; text-anchor:end;\" transform=\"rotate(0, 23.4661, 16.311)\" x=\"23.4661\" y=\"16.311\">24</text>\n",
       "</g>\n",
       "<polyline clip-path=\"url(#clip2102)\" style=\"stroke:#808080; stroke-width:1; stroke-opacity:1; fill:none\" points=\"\n",
       "  224.929,375.869 232.181,374.149 239.434,372.29 246.687,370.284 253.94,368.128 261.193,365.814 268.445,363.338 275.698,360.695 282.951,357.878 290.204,354.882 \n",
       "  297.456,351.702 304.709,348.333 311.962,344.768 319.215,341.002 326.468,337.03 333.72,332.846 340.973,328.444 348.226,323.82 355.479,318.968 362.731,313.882 \n",
       "  369.984,308.557 377.237,302.986 384.49,297.166 391.743,291.09 398.995,284.752 406.248,278.147 413.501,271.271 420.754,264.116 428.007,256.678 435.259,248.952 \n",
       "  442.512,240.931 449.765,232.61 457.018,223.984 464.27,215.047 471.523,205.793 478.776,196.218 486.029,186.316 493.282,176.08 500.534,165.507 507.787,154.589 \n",
       "  515.04,143.323 522.293,131.701 529.545,119.719 536.798,107.372 544.051,94.6525 551.304,81.5566 558.557,68.0784 565.809,54.2123 573.062,39.9529 580.315,25.2946 \n",
       "  \n",
       "  \"/>\n",
       "<polyline clip-path=\"url(#clip2102)\" style=\"stroke:#000000; stroke-width:1; stroke-opacity:1; fill:none\" points=\"\n",
       "  47.2355,375.869 47.2355,11.811 \n",
       "  \"/>\n",
       "<polyline clip-path=\"url(#clip2102)\" style=\"stroke:#000000; stroke-width:1; stroke-opacity:1; fill:none\" points=\"\n",
       "  47.2355,375.869 47.2355,11.811 \n",
       "  \"/>\n",
       "<polyline clip-path=\"url(#clip2102)\" style=\"stroke:#000000; stroke-width:1; stroke-opacity:1; fill:none\" points=\"\n",
       "  29.4661,335.418 580.315,335.418 \n",
       "  \"/>\n",
       "<polyline clip-path=\"url(#clip2102)\" style=\"stroke:#000000; stroke-width:1; stroke-opacity:1; fill:none\" points=\"\n",
       "  29.4661,335.418 580.315,335.418 \n",
       "  \"/>\n",
       "<circle clip-path=\"url(#clip2102)\" style=\"fill:#000000; stroke:none; fill-opacity:1\" cx=\"402.622\" cy=\"281.483\" r=\"3\"/>\n",
       "<circle clip-path=\"url(#clip2102)\" style=\"fill:#8e3cb6; stroke:none; fill-opacity:1\" cx=\"402.622\" cy=\"281.483\" r=\"2\"/>\n",
       "<polyline clip-path=\"url(#clip2102)\" style=\"stroke:#8e3cb6; stroke-width:1; stroke-opacity:1; fill:none\" stroke-dasharray=\"8, 5\" points=\"\n",
       "  224.929,321.934 232.181,320.283 239.434,318.632 246.687,316.981 253.94,315.33 261.193,313.679 268.445,312.028 275.698,310.377 282.951,308.726 290.204,307.075 \n",
       "  297.456,305.424 304.709,303.773 311.962,302.122 319.215,300.47 326.468,298.819 333.72,297.168 340.973,295.517 348.226,293.866 355.479,292.215 362.731,290.564 \n",
       "  369.984,288.913 377.237,287.262 384.49,285.611 391.743,283.96 398.995,282.309 406.248,280.658 413.501,279.007 420.754,277.356 428.007,275.705 435.259,274.054 \n",
       "  442.512,272.403 449.765,270.752 457.018,269.1 464.27,267.449 471.523,265.798 478.776,264.147 486.029,262.496 493.282,260.845 500.534,259.194 507.787,257.543 \n",
       "  515.04,255.892 522.293,254.241 529.545,252.59 536.798,250.939 544.051,249.288 551.304,247.637 558.557,245.986 565.809,244.335 573.062,242.684 580.315,241.033 \n",
       "  \n",
       "  \"/>\n",
       "<polyline clip-path=\"url(#clip2102)\" style=\"stroke:#8e3cb6; stroke-width:1; stroke-opacity:1; fill:none\" stroke-dasharray=\"8, 5\" points=\"\n",
       "  224.929,645.541 232.181,630.682 239.434,615.822 246.687,600.963 253.94,586.103 261.193,571.244 268.445,556.384 275.698,541.525 282.951,526.665 290.204,511.806 \n",
       "  297.456,496.946 304.709,482.087 311.962,467.227 319.215,452.368 326.468,437.508 333.72,422.649 340.973,407.789 348.226,392.93 355.479,378.07 362.731,363.211 \n",
       "  369.984,348.351 377.237,333.492 384.49,318.632 391.743,303.773 398.995,288.913 406.248,274.054 413.501,259.194 420.754,244.335 428.007,229.475 435.259,214.616 \n",
       "  442.512,199.756 449.765,184.897 457.018,170.037 464.27,155.178 471.523,140.318 478.776,125.459 486.029,110.599 493.282,95.7397 500.534,80.8802 507.787,66.0207 \n",
       "  515.04,51.1612 522.293,36.3017 529.545,21.4422 536.798,6.58268 544.051,-8.27681 551.304,-23.1363 558.557,-37.9958 565.809,-52.8553 573.062,-67.7148 580.315,-82.5743 \n",
       "  \n",
       "  \"/>\n",
       "<circle clip-path=\"url(#clip2102)\" style=\"fill:#000000; stroke:none; fill-opacity:1\" cx=\"300.613\" cy=\"350.259\" r=\"3\"/>\n",
       "<circle clip-path=\"url(#clip2102)\" style=\"fill:#e79d2b; stroke:none; fill-opacity:1\" cx=\"300.613\" cy=\"350.259\" r=\"2\"/>\n",
       "<polyline clip-path=\"url(#clip2102)\" style=\"stroke:#e79d2b; stroke-width:1; stroke-opacity:1; fill:none\" stroke-dasharray=\"8, 5\" points=\"\n",
       "  224.929,367.489 228.018,366.785 231.107,366.082 234.196,365.379 237.285,364.676 240.374,363.972 243.464,363.269 246.553,362.566 249.642,361.863 252.731,361.159 \n",
       "  255.82,360.456 258.909,359.753 261.998,359.05 265.088,358.347 268.177,357.643 271.266,356.94 274.355,356.237 277.444,355.534 280.533,354.83 283.622,354.127 \n",
       "  286.712,353.424 289.801,352.721 292.89,352.018 295.979,351.314 299.068,350.611 302.157,349.908 305.246,349.205 308.336,348.501 311.425,347.798 314.514,347.095 \n",
       "  317.603,346.392 320.692,345.688 323.781,344.985 326.871,344.282 329.96,343.579 333.049,342.876 336.138,342.172 339.227,341.469 342.316,340.766 345.405,340.063 \n",
       "  348.495,339.359 351.584,338.656 354.673,337.953 357.762,337.25 360.851,336.547 363.94,335.843 367.029,335.14 370.119,334.437 373.208,333.734 376.297,333.03 \n",
       "  \n",
       "  \"/>\n",
       "<polyline clip-path=\"url(#clip2102)\" style=\"stroke:#e79d2b; stroke-width:1; stroke-opacity:1; fill:none\" stroke-dasharray=\"8, 5\" points=\"\n",
       "  224.929,409.344 228.018,406.932 231.107,404.521 234.196,402.109 237.285,399.698 240.374,397.286 243.464,394.874 246.553,392.463 249.642,390.051 252.731,387.639 \n",
       "  255.82,385.228 258.909,382.816 261.998,380.405 265.088,377.993 268.177,375.581 271.266,373.17 274.355,370.758 277.444,368.347 280.533,365.935 283.622,363.523 \n",
       "  286.712,361.112 289.801,358.7 292.89,356.288 295.979,353.877 299.068,351.465 302.157,349.054 305.246,346.642 308.336,344.23 311.425,341.819 314.514,339.407 \n",
       "  317.603,336.996 320.692,334.584 323.781,332.172 326.871,329.761 329.96,327.349 333.049,324.937 336.138,322.526 339.227,320.114 342.316,317.703 345.405,315.291 \n",
       "  348.495,312.879 351.584,310.468 354.673,308.056 357.762,305.645 360.851,303.233 363.94,300.821 367.029,298.41 370.119,295.998 373.208,293.586 376.297,291.175 \n",
       "  \n",
       "  \"/>\n",
       "<circle clip-path=\"url(#clip2102)\" style=\"fill:#000000; stroke:none; fill-opacity:1\" cx=\"342.717\" cy=\"327.353\" r=\"3\"/>\n",
       "<circle clip-path=\"url(#clip2102)\" style=\"fill:#a60ad6; stroke:none; fill-opacity:1\" cx=\"342.717\" cy=\"327.353\" r=\"2\"/>\n",
       "<polyline clip-path=\"url(#clip2102)\" style=\"stroke:#a60ad6; stroke-width:1; stroke-opacity:1; fill:none\" stroke-dasharray=\"8, 5\" points=\"\n",
       "  319.624,339.706 320.567,339.202 321.509,338.698 322.452,338.194 323.394,337.689 324.337,337.185 325.279,336.681 326.222,336.177 327.164,335.673 328.107,335.168 \n",
       "  329.05,334.664 329.992,334.16 330.935,333.656 331.877,333.152 332.82,332.647 333.762,332.143 334.705,331.639 335.647,331.135 336.59,330.631 337.533,330.127 \n",
       "  338.475,329.622 339.418,329.118 340.36,328.614 341.303,328.11 342.245,327.606 343.188,327.101 344.13,326.597 345.073,326.093 346.016,325.589 346.958,325.085 \n",
       "  347.901,324.58 348.843,324.076 349.786,323.572 350.728,323.068 351.671,322.564 352.613,322.059 353.556,321.555 354.499,321.051 355.441,320.547 356.384,320.043 \n",
       "  357.326,319.538 358.269,319.034 359.211,318.53 360.154,318.026 361.096,317.522 362.039,317.017 362.982,316.513 363.924,316.009 364.867,315.505 365.809,315.001 \n",
       "  \n",
       "  \"/>\n",
       "<polyline clip-path=\"url(#clip2102)\" style=\"stroke:#a60ad6; stroke-width:1; stroke-opacity:1; fill:none\" stroke-dasharray=\"8, 5\" points=\"\n",
       "  319.624,344.25 320.567,343.561 321.509,342.871 322.452,342.181 323.394,341.492 324.337,340.802 325.279,340.112 326.222,339.423 327.164,338.733 328.107,338.043 \n",
       "  329.05,337.354 329.992,336.664 330.935,335.974 331.877,335.285 332.82,334.595 333.762,333.905 334.705,333.216 335.647,332.526 336.59,331.836 337.533,331.147 \n",
       "  338.475,330.457 339.418,329.767 340.36,329.078 341.303,328.388 342.245,327.698 343.188,327.009 344.13,326.319 345.073,325.629 346.016,324.94 346.958,324.25 \n",
       "  347.901,323.56 348.843,322.871 349.786,322.181 350.728,321.491 351.671,320.802 352.613,320.112 353.556,319.422 354.499,318.733 355.441,318.043 356.384,317.353 \n",
       "  357.326,316.664 358.269,315.974 359.211,315.284 360.154,314.594 361.096,313.905 362.039,313.215 362.982,312.525 363.924,311.836 364.867,311.146 365.809,310.456 \n",
       "  \n",
       "  \"/>\n",
       "<circle clip-path=\"url(#clip2102)\" style=\"fill:#000000; stroke:none; fill-opacity:1\" cx=\"329.668\" cy=\"335.21\" r=\"3\"/>\n",
       "<circle clip-path=\"url(#clip2102)\" style=\"fill:#40cb64; stroke:none; fill-opacity:1\" cx=\"329.668\" cy=\"335.21\" r=\"2\"/>\n",
       "<polyline clip-path=\"url(#clip2102)\" style=\"stroke:#40cb64; stroke-width:1; stroke-opacity:1; fill:none\" stroke-dasharray=\"8, 5\" points=\"\n",
       "  327.641,336.359 327.724,336.312 327.806,336.265 327.889,336.218 327.972,336.171 328.055,336.124 328.137,336.077 328.22,336.031 328.303,335.984 328.386,335.937 \n",
       "  328.468,335.89 328.551,335.843 328.634,335.796 328.717,335.749 328.799,335.702 328.882,335.655 328.965,335.608 329.048,335.562 329.13,335.515 329.213,335.468 \n",
       "  329.296,335.421 329.378,335.374 329.461,335.327 329.544,335.28 329.627,335.233 329.709,335.186 329.792,335.139 329.875,335.092 329.958,335.046 330.04,334.999 \n",
       "  330.123,334.952 330.206,334.905 330.289,334.858 330.371,334.811 330.454,334.764 330.537,334.717 330.62,334.67 330.702,334.623 330.785,334.577 330.868,334.53 \n",
       "  330.951,334.483 331.033,334.436 331.116,334.389 331.199,334.342 331.282,334.295 331.364,334.248 331.447,334.201 331.53,334.154 331.613,334.107 331.695,334.061 \n",
       "  \n",
       "  \"/>\n",
       "<polyline clip-path=\"url(#clip2102)\" style=\"stroke:#40cb64; stroke-width:1; stroke-opacity:1; fill:none\" stroke-dasharray=\"8, 5\" points=\"\n",
       "  327.641,336.392 327.724,336.344 327.806,336.296 327.889,336.248 327.972,336.199 328.055,336.151 328.137,336.103 328.22,336.054 328.303,336.006 328.386,335.958 \n",
       "  328.468,335.91 328.551,335.861 328.634,335.813 328.717,335.765 328.799,335.717 328.882,335.668 328.965,335.62 329.048,335.572 329.13,335.523 329.213,335.475 \n",
       "  329.296,335.427 329.378,335.379 329.461,335.33 329.544,335.282 329.627,335.234 329.709,335.186 329.792,335.137 329.875,335.089 329.958,335.041 330.04,334.993 \n",
       "  330.123,334.944 330.206,334.896 330.289,334.848 330.371,334.799 330.454,334.751 330.537,334.703 330.62,334.655 330.702,334.606 330.785,334.558 330.868,334.51 \n",
       "  330.951,334.462 331.033,334.413 331.116,334.365 331.199,334.317 331.282,334.268 331.364,334.22 331.447,334.172 331.53,334.124 331.613,334.075 331.695,334.027 \n",
       "  \n",
       "  \"/>\n",
       "<circle clip-path=\"url(#clip2102)\" style=\"fill:#000000; stroke:none; fill-opacity:1\" cx=\"329.306\" cy=\"335.418\" r=\"3\"/>\n",
       "<circle clip-path=\"url(#clip2102)\" style=\"fill:#989f8d; stroke:none; fill-opacity:1\" cx=\"329.306\" cy=\"335.418\" r=\"2\"/>\n",
       "<polyline clip-path=\"url(#clip2102)\" style=\"stroke:#989f8d; stroke-width:1; stroke-opacity:1; fill:none\" stroke-dasharray=\"8, 5\" points=\"\n",
       "  329.301,335.421 329.301,335.42 329.301,335.42 329.302,335.42 329.302,335.42 329.302,335.42 329.302,335.42 329.302,335.42 329.303,335.42 329.303,335.419 \n",
       "  329.303,335.419 329.303,335.419 329.304,335.419 329.304,335.419 329.304,335.419 329.304,335.419 329.304,335.419 329.305,335.419 329.305,335.418 329.305,335.418 \n",
       "  329.305,335.418 329.305,335.418 329.306,335.418 329.306,335.418 329.306,335.418 329.306,335.418 329.307,335.417 329.307,335.417 329.307,335.417 329.307,335.417 \n",
       "  329.307,335.417 329.308,335.417 329.308,335.417 329.308,335.417 329.308,335.416 329.308,335.416 329.309,335.416 329.309,335.416 329.309,335.416 329.309,335.416 \n",
       "  329.309,335.416 329.31,335.416 329.31,335.415 329.31,335.415 329.31,335.415 329.311,335.415 329.311,335.415 329.311,335.415 329.311,335.415 329.311,335.415 \n",
       "  \n",
       "  \"/>\n",
       "<polyline clip-path=\"url(#clip2102)\" style=\"stroke:#989f8d; stroke-width:1; stroke-opacity:1; fill:none\" stroke-dasharray=\"8, 5\" points=\"\n",
       "  329.301,335.421 329.301,335.42 329.301,335.42 329.302,335.42 329.302,335.42 329.302,335.42 329.302,335.42 329.302,335.42 329.303,335.42 329.303,335.419 \n",
       "  329.303,335.419 329.303,335.419 329.304,335.419 329.304,335.419 329.304,335.419 329.304,335.419 329.304,335.419 329.305,335.419 329.305,335.418 329.305,335.418 \n",
       "  329.305,335.418 329.305,335.418 329.306,335.418 329.306,335.418 329.306,335.418 329.306,335.418 329.307,335.417 329.307,335.417 329.307,335.417 329.307,335.417 \n",
       "  329.307,335.417 329.308,335.417 329.308,335.417 329.308,335.417 329.308,335.416 329.308,335.416 329.309,335.416 329.309,335.416 329.309,335.416 329.309,335.416 \n",
       "  329.309,335.416 329.31,335.416 329.31,335.415 329.31,335.415 329.31,335.415 329.311,335.415 329.311,335.415 329.311,335.415 329.311,335.415 329.311,335.415 \n",
       "  \n",
       "  \"/>\n",
       "<polygon clip-path=\"url(#clip2100)\" points=\"\n",
       "435.806,62.931 562.315,62.931 562.315,32.691 435.806,32.691 \n",
       "  \" fill=\"#ffffff\" fill-opacity=\"1\"/>\n",
       "<polyline clip-path=\"url(#clip2100)\" style=\"stroke:#000000; stroke-width:1; stroke-opacity:1; fill:none\" points=\"\n",
       "  435.806,62.931 562.315,62.931 562.315,32.691 435.806,32.691 435.806,62.931 \n",
       "  \"/>\n",
       "<polyline clip-path=\"url(#clip2100)\" style=\"stroke:#808080; stroke-width:1; stroke-opacity:1; fill:none\" points=\"\n",
       "  441.806,47.811 477.806,47.811 \n",
       "  \"/>\n",
       "<g clip-path=\"url(#clip2100)\">\n",
       "<text style=\"fill:#000000; fill-opacity:1; font-family:Arial,Helvetica Neue,Helvetica,sans-serif; font-size:12; text-anchor:start;\" transform=\"rotate(0, 483.806, 52.311)\" x=\"483.806\" y=\"52.311\">f(x) = x^3 -4</text>\n",
       "</g>\n",
       "</svg>\n"
      ]
     },
     "execution_count": 20,
     "metadata": {},
     "output_type": "execute_result"
    }
   ],
   "source": [
    "f(x) = x^3 -4\n",
    "X = Intervalo(1,3)\n",
    "xs = linspace(X.inf, X.sup, 50)\n",
    "\n",
    "plot(xlim = (-0.1,3), ylim = (-3, 24),xtick = 0:0.2:3, yticks = -2:2:26 )\n",
    "plot!(xs, f.(xs),  color = :grey ,label = \"f(x) = x^3 -4\")\n",
    "vline!([0,0], color = :black, label = \"\")\n",
    "hline!([0,0], color = :black, label = \"\")\n",
    "\n",
    "\n",
    "for i in 1:5\n",
    "    a,b,c = rand(), rand(), rand()\n",
    "    x0 = mid(X)\n",
    "    scatter!((x0, f(x0)), markersize = 3, color=RGB(a,b,c), label=\"\")\n",
    "\n",
    "    xs, xpsinf,xpssup = mrecta(f, X)\n",
    "    plot!(xs, xpsinf, line=:dash, color=RGB(a,b,c), label=\"\")\n",
    "    plot!(xs, xpssup, line=:dash, color=RGB(a,b,c), label=\"\")\n",
    "    \n",
    "    X = newtonIntervalo(f, X,1)\n",
    "\n",
    "end\n",
    "plot!()"
   ]
  },
  {
   "cell_type": "markdown",
   "metadata": {},
   "source": [
    "Se sabe que el operador de Newton satisface el siguiente teorema fuerte:\n",
    "\n",
    "> Supongamos que $f(x)$ sea doblemente continua y diferenciable y $N_f(X)$ esté bien definida en el intervalo $X$. Entonces:\n",
    "\n",
    "> 1. Si $N_f(X)\\cap X = \\emptyset$, entonces $X$ no contiene ninguna raíz de $f$.\n",
    "\n",
    "> 2. Si $N_f(X)  \\subseteq X$, entonces $X$ contiene exactamente una raíz de $f$."
   ]
  },
  {
   "cell_type": "markdown",
   "metadata": {},
   "source": [
    "## División extendida "
   ]
  },
  {
   "cell_type": "markdown",
   "metadata": {},
   "source": [
    "Hasta ahora, sólo hemos podido tratar el caso en el cual la derivada $F'(X)$ no contiene $0$, ya que el operador de Newton contiene una división por este intervalo. \n",
    "\n",
    "Sin embargo, resulta que también es posible tratar este caso, mediante la llamada \"división extendida\"."
   ]
  },
  {
   "cell_type": "markdown",
   "metadata": {},
   "source": [
    "**[5]** Supón que $F'(X)$ sea un intervalo, digamos $F'(X) = [-a, b]$, que contiene $0$ (con $a > 0$ y  $b > 0$). \n",
    "\n",
    "(i) Sea $A \\subseteq \\mathbb{R}$. Recuerda la definición de $1/A$ como conjunto. \n",
    "* $\\frac{1}{A} =\n",
    "  \\begin{cases}\n",
    "    [-\\infty,-\\frac{1}{a}]\\cup [\\frac{1}{b},\\infty]      & \\quad \\text{si } 0\\in A \\text{ y } a,b \\neq 0  \\\\\n",
    "    [1/a, \\infty]       & \\quad \\text{si } 0\\in A \\text{ y } b=0  \\\\\n",
    "    [-\\infty,-1/b]       & \\quad \\text{si } 0\\in A \\text{ y } a=0  \\\\\n",
    "  \\end{cases}\n",
    "$\n",
    "\n",
    "\n",
    "(ii) Así, evalúa $1 / F'(X)$. \n",
    "\n",
    "* $\\frac{1}{ F'(X)} =\n",
    "  \\begin{cases}\n",
    "    [-\\infty,-\\frac{1}{a}]\\cup [\\frac{1}{b},\\infty]      & \\quad \\text{si } 0\\in A \\text{ y } a,b \\neq 0  \\\\\n",
    "    [1/a, \\infty]       & \\quad \\text{si } 0\\in A \\text{ y } b=0  \\\\\n",
    "    [-\\infty,-1/b]       & \\quad \\text{si } 0\\in A \\text{ y } a=0  \\\\\n",
    "  \\end{cases}$\n",
    "\n",
    "(iii) Define una función que implementa esta \"división extendida\" de intervalos (o, más bien, inversa extendida). [Pista: ¿Qué tipo de objeto debe regresar esta función?]"
   ]
  },
  {
   "cell_type": "code",
   "execution_count": 21,
   "metadata": {},
   "outputs": [
    {
     "data": {
      "text/plain": [
       "⊂ (generic function with 1 method)"
      ]
     },
     "execution_count": 21,
     "metadata": {},
     "output_type": "execute_result"
    }
   ],
   "source": [
    "import Base: ∪\n",
    "\n",
    "function ∪(x::Intervalo, y::Intervalo)\n",
    "    Intervalo(min(x.inf, y.inf), max(x.sup, y.sup))\n",
    "end\n",
    "\n",
    "function ⊂(x::Intervalo, y::Intervalo)\n",
    "    if x.inf ∈ y && x.sup ∈ y \n",
    "        if x.inf != y.inf && x.sup == y.sup \n",
    "            true\n",
    "        elseif x.inf == y.inf && x.sup != y.sup \n",
    "            true \n",
    "        elseif  x.inf != y.inf && x.sup != y.sup \n",
    "            true\n",
    "        elseif x.inf == y.inf && x.sup == y.sup\n",
    "            false\n",
    "        end\n",
    "    elseif x == Intervalo(NaN, NaN) && y != Intervalo(NaN, NaN)\n",
    "        true\n",
    "    else\n",
    "        false\n",
    "    end\n",
    "    #if x == Intervalo(NaN, NaN) && y != Intervalo(NaN, NaN)\n",
    "    #    true\n",
    "    #end\n",
    "end\n"
   ]
  },
  {
   "cell_type": "code",
   "execution_count": 22,
   "metadata": {},
   "outputs": [
    {
     "data": {
      "text/plain": [
       "true"
      ]
     },
     "execution_count": 22,
     "metadata": {},
     "output_type": "execute_result"
    }
   ],
   "source": [
    "Intervalo(NaN,NaN) ⊂ Intervalo(1,3)"
   ]
  },
  {
   "cell_type": "code",
   "execution_count": 23,
   "metadata": {},
   "outputs": [
    {
     "name": "stdout",
     "output_type": "stream",
     "text": [
      "\u001b[37mPruebas ⊂: \u001b[39m\u001b[1m\u001b[91mTest Failed\n",
      "\u001b[39m\u001b[22m  Expression: Intervalo(1.0, 2.0) ⊂ Intervalo(1.0, 2.0)\n",
      "   Evaluated: Intervalos.Intervalo(1.0, 2.0) ⊂ Intervalos.Intervalo(1.0, 2.0)\n",
      "Stacktrace:\n",
      " [1] \u001b[1mmacro expansion\u001b[22m\u001b[22m at \u001b[1m./In[23]:2\u001b[22m\u001b[22m [inlined]\n",
      " [2] \u001b[1mmacro expansion\u001b[22m\u001b[22m at \u001b[1m./test.jl:860\u001b[22m\u001b[22m [inlined]\n",
      " [3] \u001b[1manonymous\u001b[22m\u001b[22m at \u001b[1m./<missing>:?\u001b[22m\u001b[22m\n",
      "\u001b[37mPruebas ⊂: \u001b[39m\u001b[1m\u001b[91mTest Failed\n",
      "\u001b[39m\u001b[22m  Expression: Intervalo(1.0, 2.0) ⊂ Intervalo(3.0, 4.0)\n",
      "   Evaluated: Intervalos.Intervalo(1.0, 2.0) ⊂ Intervalos.Intervalo(3.0, 4.0)\n",
      "Stacktrace:\n",
      " [1] \u001b[1mmacro expansion\u001b[22m\u001b[22m at \u001b[1m./In[23]:5\u001b[22m\u001b[22m [inlined]\n",
      " [2] \u001b[1mmacro expansion\u001b[22m\u001b[22m at \u001b[1m./test.jl:860\u001b[22m\u001b[22m [inlined]\n",
      " [3] \u001b[1manonymous\u001b[22m\u001b[22m at \u001b[1m./<missing>:?\u001b[22m\u001b[22m\n",
      "\u001b[37mPruebas ⊂: \u001b[39m\u001b[1m\u001b[91mTest Failed\n",
      "\u001b[39m\u001b[22m  Expression: Intervalo(NaN, NaN) ⊂ Intervalo(NaN, NaN)\n",
      "   Evaluated: Intervalos.Intervalo(NaN, NaN) ⊂ Intervalos.Intervalo(NaN, NaN)\n",
      "Stacktrace:\n",
      " [1] \u001b[1mmacro expansion\u001b[22m\u001b[22m at \u001b[1m./In[23]:7\u001b[22m\u001b[22m [inlined]\n",
      " [2] \u001b[1mmacro expansion\u001b[22m\u001b[22m at \u001b[1m./test.jl:860\u001b[22m\u001b[22m [inlined]\n",
      " [3] \u001b[1manonymous\u001b[22m\u001b[22m at \u001b[1m./<missing>:?\u001b[22m\u001b[22m\n",
      "\u001b[1m\u001b[37mTest Summary: | \u001b[39m\u001b[22m\u001b[1m\u001b[32mPass  \u001b[39m\u001b[22m\u001b[1m\u001b[91mFail  \u001b[39m\u001b[22m\u001b[1m\u001b[36mTotal\u001b[39m\u001b[22m\n",
      "Pruebas ⊂     | \u001b[32m   4  \u001b[39m\u001b[91m   3  \u001b[39m\u001b[36m    7\u001b[39m\n"
     ]
    },
    {
     "ename": "LoadError",
     "evalue": "\u001b[91mSome tests did not pass: 4 passed, 3 failed, 0 errored, 0 broken.\u001b[39m",
     "output_type": "error",
     "traceback": [
      "\u001b[91mSome tests did not pass: 4 passed, 3 failed, 0 errored, 0 broken.\u001b[39m",
      "",
      "Stacktrace:",
      " [1] \u001b[1mfinish\u001b[22m\u001b[22m\u001b[1m(\u001b[22m\u001b[22m::Base.Test.DefaultTestSet\u001b[1m)\u001b[22m\u001b[22m at \u001b[1m./test.jl:668\u001b[22m\u001b[22m",
      " [2] \u001b[1mmacro expansion\u001b[22m\u001b[22m at \u001b[1m./test.jl:867\u001b[22m\u001b[22m [inlined]",
      " [3] \u001b[1manonymous\u001b[22m\u001b[22m at \u001b[1m./<missing>:?\u001b[22m\u001b[22m",
      " [4] \u001b[1minclude_string\u001b[22m\u001b[22m\u001b[1m(\u001b[22m\u001b[22m::String, ::String\u001b[1m)\u001b[22m\u001b[22m at \u001b[1m./loading.jl:522\u001b[22m\u001b[22m"
     ]
    }
   ],
   "source": [
    "@testset \"Pruebas ⊂\" begin\n",
    " @test Intervalo(1.0, 2.0) ⊂ Intervalo(1.0, 2.0) \n",
    " @test Intervalo(1.0, 2.0) ⊂ Intervalo(1.0, 3.0) \n",
    " @test Intervalo(1.0, 3.0) ⊂ Intervalo(-1.0, 3.0)\n",
    " @test Intervalo(1.0, 2.0) ⊂ Intervalo(3.0, 4.0)\n",
    " @test Intervalo(1.0, 2.0) ⊂ Intervalo(0.5, 3.0)\n",
    " @test Intervalo(NaN,NaN) ⊂ Intervalo(NaN,NaN)\n",
    " @test Intervalo(NaN,NaN) ⊂ Intervalo(1,3)\n",
    "end"
   ]
  },
  {
   "cell_type": "code",
   "execution_count": 24,
   "metadata": {},
   "outputs": [
    {
     "data": {
      "text/plain": [
       "fprimaIntervalo (generic function with 2 methods)"
      ]
     },
     "execution_count": 24,
     "metadata": {},
     "output_type": "execute_result"
    }
   ],
   "source": [
    "function fprimaIntervalo(f, x::Intervalo, N::Int64=11) \n",
    "    xI = []\n",
    "    \n",
    "    if x.inf == -Inf || x.sup == Inf\n",
    "        x0 = mid(x)\n",
    "        x.inf == -Inf ? xs = collect(linspace(x0, x.sup, N)) :  \n",
    "        xs = collect(linspace(x.inf, x0, N))\n",
    "    else\n",
    "        xs = collect(linspace(x.inf, x.sup, N))\n",
    "    end\n",
    "    \n",
    "    for i in 1:N - 1 \n",
    "        push!(xI , derivada(f, Intervalo(xs[i], xs[i+1])))\n",
    "    end\n",
    "\n",
    "    X = xI[1] ∪ xI[2] \n",
    "    \n",
    "    for i in 3:N-1\n",
    "        X = X ∪ xI[i]\n",
    "    end\n",
    "    X\n",
    "end"
   ]
  },
  {
   "cell_type": "code",
   "execution_count": 25,
   "metadata": {},
   "outputs": [
    {
     "name": "stdout",
     "output_type": "stream",
     "text": [
      "Yp = (fprimaIntervalo(H, Y), derivada(H, Y)) = (Intervalos.Intervalo(-3.0, 9.0), Intervalos.Intervalo(-15.0, 9.0))\n"
     ]
    },
    {
     "data": {
      "text/plain": [
       "(Intervalos.Intervalo(-3.0, 9.0), Intervalos.Intervalo(-15.0, 9.0))"
      ]
     },
     "execution_count": 25,
     "metadata": {},
     "output_type": "execute_result"
    }
   ],
   "source": [
    "H(x) = x^3 - 3x\n",
    "Y = Intervalo(-2, 2)\n",
    "@show Yp = fprimaIntervalo(H, Y), derivada(H, Y)\n",
    "#inversaExtendidaPedro(Yp)"
   ]
  },
  {
   "cell_type": "code",
   "execution_count": 38,
   "metadata": {},
   "outputs": [
    {
     "data": {
      "text/plain": [
       "inversaExtendida (generic function with 1 method)"
      ]
     },
     "execution_count": 38,
     "metadata": {},
     "output_type": "execute_result"
    }
   ],
   "source": [
    "function inversaExtendida(x::Intervalo)\n",
    "    output = Array{Intervalo}(0)\n",
    "    if sign(x.inf) != sign(x.sup) && x.inf != 0.0 && x.sup != 0.0\n",
    "        push!(output,Intervalo(-Inf, 1/(x.inf)), Intervalo(1/(x.sup), Inf))\n",
    "    elseif  x.inf == 0.0\n",
    "        push!(output,Intervalo(1/(x.sup), Inf))\n",
    "    elseif x.sup == 0.0\n",
    "        push!(output,Intervalo(-Inf, 1/(x.inf)))\n",
    "    else\n",
    "        push!(output,Intervalo(min(1/x.inf, 1/x.sup), max(1/x.inf, 1/x.sup)))\n",
    "    end\n",
    "end"
   ]
  },
  {
   "cell_type": "code",
   "execution_count": 39,
   "metadata": {},
   "outputs": [
    {
     "data": {
      "text/plain": [
       "2-element Array{Intervalos.Intervalo,1}:\n",
       " Intervalos.Intervalo(-Inf, -0.333333)\n",
       " Intervalos.Intervalo(0.333333, Inf)  "
      ]
     },
     "execution_count": 39,
     "metadata": {},
     "output_type": "execute_result"
    }
   ],
   "source": [
    "inversaExtendida(Intervalo(-3,3))"
   ]
  },
  {
   "cell_type": "code",
   "execution_count": 29,
   "metadata": {},
   "outputs": [
    {
     "ename": "LoadError",
     "evalue": "\u001b[91mUndefVarError: @traceur not defined\u001b[39m",
     "output_type": "error",
     "traceback": [
      "\u001b[91mUndefVarError: @traceur not defined\u001b[39m",
      "",
      "Stacktrace:",
      " [1] \u001b[1minclude_string\u001b[22m\u001b[22m\u001b[1m(\u001b[22m\u001b[22m::String, ::String\u001b[1m)\u001b[22m\u001b[22m at \u001b[1m./loading.jl:522\u001b[22m\u001b[22m"
     ]
    }
   ],
   "source": [
    "@traceur"
   ]
  },
  {
   "cell_type": "markdown",
   "metadata": {},
   "source": [
    "**[6]** Resulta que el método de Newton sigue funcionando si utilizamos esta división extendida cuándo sea apropiado. \n",
    "\n",
    "(i) Impleméntalo para encontrar *todas* las raíces de una función en un intervalo dado.\n",
    "\n",
    "(ii) Escoge una función con dos raíces. Muestra gráficamente lo que está ocurriendo.\n",
    "\n",
    "(iii) Nota que hay casos en los cuales no ocurre ninguna de las posibilidades (1) ni (2) en el teorema del método de Newton para intervalos. ¿Qué se puede hacer en este caso?"
   ]
  },
  {
   "cell_type": "code",
   "execution_count": 41,
   "metadata": {},
   "outputs": [
    {
     "data": {
      "text/plain": [
       "OperadorNewton (generic function with 2 methods)"
      ]
     },
     "execution_count": 41,
     "metadata": {},
     "output_type": "execute_result"
    }
   ],
   "source": [
    "function OperadorNewton(f,X0::Intervalo, Xp0::Intervalo)\n",
    "    x0 = mid(X0)\n",
    "    Nf = x0 - f(x0)*Xp0\n",
    "end"
   ]
  },
  {
   "cell_type": "code",
   "execution_count": 43,
   "metadata": {},
   "outputs": [
    {
     "data": {
      "text/plain": [
       "1-element Array{Intervalos.Intervalo,1}:\n",
       " Intervalos.Intervalo(0.037037, 0.0833333)"
      ]
     },
     "execution_count": 43,
     "metadata": {},
     "output_type": "execute_result"
    }
   ],
   "source": [
    "H(x) = x^3 - 3x\n",
    "Y = Intervalo(-2, 0.5)\n",
    "Xp0 = inversaExtendida(derivada(f,Intervalo(-3,-2)))\n",
    "#OperadorNewton(H, Y, Xp01)"
   ]
  },
  {
   "cell_type": "code",
   "execution_count": 44,
   "metadata": {},
   "outputs": [
    {
     "data": {
      "text/plain": [
       "2-element Array{Intervalos.Intervalo,1}:\n",
       " Intervalos.Intervalo(0.1, 1.0) \n",
       " Intervalos.Intervalo(-3.0, 4.0)"
      ]
     },
     "execution_count": 44,
     "metadata": {},
     "output_type": "execute_result"
    }
   ],
   "source": [
    "roots = Array{Intervalo}(0)\n",
    "push!(roots, Intervalo(.1,1))\n",
    "push!(roots, Intervalo(-3,4))"
   ]
  },
  {
   "cell_type": "code",
   "execution_count": 45,
   "metadata": {},
   "outputs": [
    {
     "data": {
      "text/plain": [
       "2-element Array{Intervalos.Intervalo,1}:\n",
       " Intervalos.Intervalo(0.1, 1.0) \n",
       " Intervalos.Intervalo(-3.0, 4.0)"
      ]
     },
     "execution_count": 45,
     "metadata": {},
     "output_type": "execute_result"
    }
   ],
   "source": [
    "roots"
   ]
  },
  {
   "cell_type": "code",
   "execution_count": 50,
   "metadata": {},
   "outputs": [
    {
     "data": {
      "text/plain": [
       "newtonIntervalo2 (generic function with 3 methods)"
      ]
     },
     "execution_count": 50,
     "metadata": {},
     "output_type": "execute_result"
    }
   ],
   "source": [
    "function newtonIntervalo2(f, X0::Intervalo, n::Int64 = 10, \n",
    "        tolerancia::Float64 = 1e-10 )\n",
    "    roots = Array{Intervalo}(0)\n",
    "    \n",
    "    if 0.0 ∈ derivada(f, X0)\n",
    "        X01 = [X0, X0]\n",
    "        #Xp01 = inversaExtendida(derivada(f,X0))\n",
    "        \n",
    "        for i in 1:2\n",
    "            Xp01 = inversaExtendida(derivada(f,X0))\n",
    "            \n",
    "            for j in 1:n\n",
    "                if 0.0 ∉ derivada(f, X01[i])\n",
    "                    \n",
    "                    Nf1 = OperadorNewton(f, X01[i])\n",
    "                else\n",
    "                    Nf1 = OperadorNewton(f, X01[i],Xp01[i])\n",
    "                end\n",
    "                X01[i] = Nf1 ∩ X01[i]\n",
    "                (X01[i] == Intervalo(NaN,NaN)) && break\n",
    "                (diametro(X01[i]) == 0.0) && break\n",
    "            \n",
    "\n",
    "            end\n",
    "        end\n",
    "        for i in 1:2\n",
    "            (X01[i] != Intervalo(NaN,NaN)) && push!(roots, X01[i])    \n",
    "        end\n",
    "    else\n",
    "        push!(roots, newtonIntervalo(f, X0, n, tolerancia))\n",
    "    end\n",
    "    return roots\n",
    "end"
   ]
  },
  {
   "cell_type": "code",
   "execution_count": 51,
   "metadata": {},
   "outputs": [
    {
     "data": {
      "text/plain": [
       "2-element Array{Intervalos.Intervalo,1}:\n",
       " Intervalos.Intervalo(0.0, 0.0)          \n",
       " Intervalos.Intervalo(-1.73205, -1.73205)"
      ]
     },
     "execution_count": 51,
     "metadata": {},
     "output_type": "execute_result"
    }
   ],
   "source": [
    "f(x) = x^3 -3x \n",
    "Y = Intervalo(-3, 0.5)\n",
    "newtonIntervalo2(f,Y)"
   ]
  },
  {
   "cell_type": "code",
   "execution_count": null,
   "metadata": {},
   "outputs": [],
   "source": [
    "Int(true)"
   ]
  },
  {
   "cell_type": "code",
   "execution_count": null,
   "metadata": {},
   "outputs": [],
   "source": [
    "function uniqueRoot(x::Intervalo, y::Intervalo)\n",
    "    if  x ∩ y != Intervalo(NaN, NaN) && x ⊂ y  \n",
    "        1\n",
    "    elseif x ∩ y != Intervalo(NaN, NaN) && x == y\n",
    "        -1 # -1 No tenemos la condiciones suf y nec para garantizar una raíz\n",
    "    elseif x ∩ y == Intervalo(NaN, NaN)\n",
    "        0\n",
    "    else\n",
    "        0\n",
    "    end\n",
    "end"
   ]
  },
  {
   "cell_type": "code",
   "execution_count": null,
   "metadata": {},
   "outputs": [],
   "source": [
    "uniqueRoot(Intervalo(1.0, 10), Intervalo(15.0,20))"
   ]
  },
  {
   "cell_type": "code",
   "execution_count": null,
   "metadata": {},
   "outputs": [],
   "source": [
    "uniqueRoot(Intervalo(1.0, 10), Intervalo(1.0,20))"
   ]
  },
  {
   "cell_type": "code",
   "execution_count": null,
   "metadata": {},
   "outputs": [],
   "source": [
    "uniqueRoot(Intervalo(1.0, 10),Intervalo(-21.0, 24.0))"
   ]
  },
  {
   "cell_type": "code",
   "execution_count": null,
   "metadata": {},
   "outputs": [],
   "source": [
    "uniqueRoot(Intervalo(1.0, 10),Intervalo(1.0, 10.0))"
   ]
  },
  {
   "cell_type": "code",
   "execution_count": null,
   "metadata": {},
   "outputs": [],
   "source": [
    "function bisection(x::Intervalo)\n",
    "    x0 = mid(x)\n",
    "    return (Intervalo(x.inf, x0),Intervalo(x0,x.sup))\n",
    "end"
   ]
  },
  {
   "cell_type": "code",
   "execution_count": null,
   "metadata": {},
   "outputs": [],
   "source": [
    "bisection(Intervalo(-10, 1))"
   ]
  },
  {
   "cell_type": "code",
   "execution_count": null,
   "metadata": {},
   "outputs": [],
   "source": [
    "function newtonIntervalExten(f, X0::Intervalo, n::Int64 = 10, \n",
    "        tolerancia::Float64 = 1e-10 )\n",
    "    roots = []\n",
    "    \n",
    "    xd = derivada(f, X0)\n",
    "    @show xd\n",
    "    \n",
    "    if 0.0 ∉ xd\n",
    "        Nf = OperadorNewton(f,X0)\n",
    "        X1 = Nf ∩ X0\n",
    "        @show Nf, X0\n",
    "        @show X1\n",
    "        @show fixedPoint(X1,X0)\n",
    "        if fixedPoint(X1,X0) == true\n",
    "            root = newtonIntervalo(f, X0, n, tolerancia)\n",
    "            push!(roots, root)\n",
    "        else\n",
    "            nothing\n",
    "        end\n",
    "        \n",
    "    else\n",
    "        #pritln(\"No hay derivada \")\n",
    "        Xp = inversaExtendida(xd)\n",
    "        @show Xp\n",
    "        Nf = OperadorNewton.(f, X0, Xp)\n",
    "        @show Nf\n",
    "        X1 = Nf .∩ X0\n",
    "        @show X1\n",
    "        for i in X1\n",
    "            \n",
    "            root = newtonIntervalExten(f, i)\n",
    "               \n",
    "            #push!(roots, root)\n",
    "        end\n",
    "    end\n",
    "    roots\n",
    "end"
   ]
  },
  {
   "cell_type": "code",
   "execution_count": null,
   "metadata": {},
   "outputs": [],
   "source": [
    "mid(Intervalo(-3,-2))"
   ]
  },
  {
   "cell_type": "code",
   "execution_count": null,
   "metadata": {},
   "outputs": [],
   "source": [
    "f2(x) = x^3 - 3x \n",
    "\n",
    "I1 = Intervalo(-3, -2)\n",
    "I2 = Intervalo(-3, -1.5)\n",
    "I3 = Intervalo(-3, 0.5)\n",
    "I4 = Intervalo(-3,2)\n",
    "newtonIntervalExten(f2, I1)"
   ]
  },
  {
   "cell_type": "code",
   "execution_count": null,
   "metadata": {},
   "outputs": [],
   "source": [
    "f2(x) = x^3 - 3x \n",
    "x = linspace(-3.0, 3.0, 101)\n",
    "plot(x, f2.(x))\n",
    "hline!([0,0], color = :black, label = \"\")\n",
    "vline!([0,0], color = :black, label = \"\")"
   ]
  },
  {
   "cell_type": "code",
   "execution_count": null,
   "metadata": {},
   "outputs": [],
   "source": [
    "newtonIntervalExten(f2, Intervalo(-1.8,0.5))"
   ]
  },
  {
   "cell_type": "code",
   "execution_count": null,
   "metadata": {
    "collapsed": true
   },
   "outputs": [],
   "source": []
  },
  {
   "cell_type": "code",
   "execution_count": null,
   "metadata": {},
   "outputs": [],
   "source": [
    "fixedPoint(Intervalo(0.9903655563925855, 2.0), Intervalo(-0.43452380952380953, 2.0))"
   ]
  },
  {
   "cell_type": "code",
   "execution_count": null,
   "metadata": {},
   "outputs": [],
   "source": [
    "f(x) = x^3 - 3x + 5\n",
    "\n",
    "I1 = Intervalo(-3, -2)\n",
    "I2 = Intervalo(-3, -0.5)\n",
    "I3 = Intervalo(-3, 2)\n",
    "newtonIntervalExten(f, I3)"
   ]
  },
  {
   "cell_type": "code",
   "execution_count": null,
   "metadata": {},
   "outputs": [],
   "source": [
    "Xr = Intervalo(-3.0, -1.9193197009503353)\n",
    "\n",
    "newtonIntervalo(f, Xr)"
   ]
  },
  {
   "cell_type": "code",
   "execution_count": null,
   "metadata": {},
   "outputs": [],
   "source": [
    "function newtonIntervaloExtendido(f, X0::Intervalo, n::Int64 = 10, \n",
    "        tolerancia::Float64 = 1e-10 )\n",
    "    \n",
    "    if 0.0 ∈ derivada(f, X0)\n",
    "        @show derivada(f, X0)\n",
    "    \n",
    "        Xp = inversaExtendida(derivada(f,X0))\n",
    "        @show Xp\n",
    "        Xsol = []\n",
    "        for j in Xp\n",
    "            X1 = X0\n",
    "            @show X1, j\n",
    "            Nf = Intervalo(0,0)\n",
    "            for i in 1:n\n",
    "                Nf = OperadorNewton(f, X1, j)\n",
    "                X1 = Nf ∩ X1\n",
    "                @show X1\n",
    "                X1 == Void ? break : nothing\n",
    "                @show i, diametro(X1)\n",
    "                diametro(X0) == 0.0 ? break : nothing\n",
    "            end\n",
    "            push!(Xsol,X1)\n",
    "            \n",
    "        end\n",
    "        return Xsol\n",
    "    else\n",
    "        newtonIntervalo(f, X0, n, tolerancia)\n",
    "    end\n",
    "end"
   ]
  },
  {
   "cell_type": "code",
   "execution_count": null,
   "metadata": {},
   "outputs": [],
   "source": [
    "H(x) = x^3 - 3*x + 5\n",
    "Y = Intervalo(-3, -2)\n",
    "newtonIntervaloExtendido(H, Y, 15)"
   ]
  },
  {
   "cell_type": "code",
   "execution_count": null,
   "metadata": {},
   "outputs": [],
   "source": [
    "Y = Intervalo(-3, 2)\n",
    "newtonIntervaloExtendido(H, Y, 15)"
   ]
  },
  {
   "cell_type": "code",
   "execution_count": null,
   "metadata": {},
   "outputs": [],
   "source": [
    "H(ans.inf)"
   ]
  },
  {
   "cell_type": "code",
   "execution_count": null,
   "metadata": {
    "scrolled": true
   },
   "outputs": [],
   "source": [
    "H(x) = x^2 + 2\n",
    "Y = Intervalo(-2, 2)\n",
    "newtonIntervaloExtendido(H, Y, 3)"
   ]
  },
  {
   "cell_type": "markdown",
   "metadata": {},
   "source": [
    "**[7]** Considera la familia de polinomios de Wilkinson, definidos por $W_n(x) := \\prod_{i=1}^n (x-i)$. Utiliza el método de Newton para encontrar todas sus raíces."
   ]
  },
  {
   "cell_type": "code",
   "execution_count": null,
   "metadata": {
    "collapsed": true
   },
   "outputs": [],
   "source": []
  }
 ],
 "metadata": {
  "kernelspec": {
   "display_name": "Julia 0.6.2",
   "language": "julia",
   "name": "julia-0.6"
  },
  "language_info": {
   "file_extension": ".jl",
   "mimetype": "application/julia",
   "name": "julia",
   "version": "0.6.2"
  },
  "toc": {
   "nav_menu": {},
   "number_sections": false,
   "sideBar": true,
   "skip_h1_title": false,
   "toc_cell": false,
   "toc_position": {
    "height": "429px",
    "left": "0px",
    "right": "727.2px",
    "top": "112px",
    "width": "212px"
   },
   "toc_section_display": "block",
   "toc_window_display": false
  }
 },
 "nbformat": 4,
 "nbformat_minor": 1
}
