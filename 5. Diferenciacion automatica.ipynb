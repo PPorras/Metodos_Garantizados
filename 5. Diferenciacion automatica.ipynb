{
 "cells": [
  {
   "cell_type": "markdown",
   "metadata": {},
   "source": [
    "# Diferenciación automática"
   ]
  },
  {
   "cell_type": "markdown",
   "metadata": {},
   "source": [
    "En este notebook, veremos una metodología para calcular derivadas numéricamente de forma *exacta*, la **diferenciación automática** o **diferenciación algorítmica**"
   ]
  },
  {
   "cell_type": "markdown",
   "metadata": {},
   "source": [
    "## Significado de la derivada"
   ]
  },
  {
   "cell_type": "markdown",
   "metadata": {},
   "source": [
    "¿Para qué sirven las derivadas?\n",
    "\n",
    "Es una medida de tasas de cambio"
   ]
  },
  {
   "cell_type": "markdown",
   "metadata": {},
   "source": [
    "**[1]** (i) Supón que quieres calcular raíces de una función $f: \\mathbb{R} \\to \\mathbb{R}$ como lo hemos hecho en un notebook anterior, y tienes una manera de calcular la derivada $f'$. Si calculas $f'(X)$ para un intervalo $X$, ¿qué te da? \n",
    "\n",
    "* El conjunto de todas las derivadas en el intervalo $X$ \n",
    "\n",
    "¿En qué te ayuda esto qué puedes concluir sobre las raíces? \n",
    "\n",
    "* Puedo implementar un método de Newton para intervalos $X$ para encontrar raices en el intervalo. Recordemos el método de Newton \n",
    "\n",
    "Sean $f:[a,b] \\longrightarrow \\mathbb{R}$ una función diferenciable a $[a,b]$ y $x_{0} \\in [a,b]$ una condición inicial, definimos la función de iteración como $$x_{n+1} = x_{n} -  \\dfrac{f(x_{n})}{f'(x_{n})} = \\Phi(x_{n})$$ tal que\n",
    "\n",
    "$\\displaystyle\\lim_{x_{n} \\rightarrow \\infty} \\Phi(x_{n}) = x^{*}$ con $x^{*}$ la raíz de $f$\n",
    "\n",
    "Ahora si extendemos esto a intevalo tenemos lo siguiente\n",
    "\n",
    "Sean $f:X \\longrightarrow \\mathbb{R}$ una función diferenciable a $X$ y $x_{0} \\in X$, punto medio del intervalos como condición inicial, definimos la función de iteración como $$x_{n+1} = x_{n} -  \\dfrac{f(x_{n})}{f'(x_{n})}$$"
   ]
  },
  {
   "cell_type": "code",
   "execution_count": null,
   "metadata": {},
   "outputs": [],
   "source": []
  },
  {
   "cell_type": "markdown",
   "metadata": {
    "collapsed": true
   },
   "source": [
    "(ii) ¿Se extiende esto a funciones $f:\\mathbb{R^n} \\to \\mathbb{R}^n$?\n",
    "\n",
    "* Sí\n",
    "\n",
    "¿De qué manera?\n",
    "\n",
    "* Con el método de Newton multidimensional"
   ]
  },
  {
   "cell_type": "markdown",
   "metadata": {},
   "source": [
    "**[2]** Para una función $f:\\mathbb{R} \\to \\mathbb{R}$, considera un intervalo $X$ donde queremos encontrar el rango $f(X)$. \n",
    "\n",
    "(i) Recuerda el teorema del valor medio (\"mean value theorem\"). Fija un $x_0 \\in X$ y utiliza el teorema para escribir una expresión para $f(x)$ para $x \\in X$, en términos de la derivada de $f$ en algún punto $\\xi \\in X$.\n",
    "\n",
    "Por hipótesis $f\\in \\mathcal{C}^1$ por el teorema de Taylor, y acontado el residuo (de Lagrange), alrededor de $x_0$ fijo tenemos\n",
    "\n",
    "$$f(x) = f(x_{0}) + f'(\\xi)(x - x_{0})$$\n",
    "\n",
    "\n",
    "\n",
    "(ii) No conocemos $\\xi$. ¿Qué podemos hacer al respecto?\n",
    "\n",
    "* Tomamos todo el intervalo $X$\n",
    "\n",
    "Si lo haces, encontrarás otra expresión para el rango $f(X)$, que se conoce como el **mean value form** o **centred form**.\n",
    "\n",
    "Utilizando la idea de acotar con intervalos, tenemos\n",
    "\n",
    "$$f(X) = f(x_{0}) + f'(X)(X - x_{0})$$\n",
    "\n",
    "(iii) Compara los resultados numéricos que obtienes de $f(X)$ con la extensión intervalar usual (lo que vimos en un notebook anterior) y esta versión nueva para distintas funciones. ¿Cuándo es mejor la nueva? \n",
    "\n",
    "\n",
    "(iv) Si tienes las dos formas de calcular el rango, ¿cómo puedes combinarlos? Impleméntalo.\n",
    "\n",
    "* Para ello consideremos la función $f(x) = x^2$ en el intervalo $[-1,2]$ , que sabemos el rango es $f([-1,2]) = [0,4]$,  por otro lado usando la \"nueva versión\" con $x_0 = 1$\n",
    "\n",
    "$$f([-1,2]) = f(1) + f'\\left([-1,2] \\right)([-1,2] - 1) = 1 + [-2,4]*[-2,1] = [-7,5] $$\n",
    "\n",
    "Con $x_0 = 0$\n",
    "\n",
    "$$f([-1,2]) = f(0) + f'\\left([-1,2] \\right)([-1,2] - 0) = [-2,4]*[-1,2] = [-4,8] $$\n",
    "\n",
    "Notemos que ambos contienen el intervalo solución\n",
    "\n",
    "Al calcular $f'(X)$ usamos la versión intervalar usual."
   ]
  },
  {
   "cell_type": "code",
   "execution_count": 1,
   "metadata": {},
   "outputs": [],
   "source": [
    "using Base.Test"
   ]
  },
  {
   "cell_type": "code",
   "execution_count": 2,
   "metadata": {},
   "outputs": [],
   "source": [
    "struct Intervalo\n",
    "    inf::Float64\n",
    "    sup::Float64\n",
    "    Intervalo(inf,sup) = inf > sup ? error(\"No es un intervalo valido\") : new(inf,sup)\n",
    "end"
   ]
  },
  {
   "cell_type": "code",
   "execution_count": 3,
   "metadata": {},
   "outputs": [
    {
     "data": {
      "text/plain": [
       "sqrt (generic function with 11 methods)"
      ]
     },
     "execution_count": 3,
     "metadata": {},
     "output_type": "execute_result"
    }
   ],
   "source": [
    "import Base: +, -,*, /, ^, exp, sqrt\n",
    "\n",
    "function +(x::Intervalo, y::Intervalo)\n",
    "    return Intervalo(x.inf + y.inf, x.sup + y.sup)\n",
    "end\n",
    "\n",
    "function +(x::Intervalo, c::Real) \n",
    "    # Aquí definimos la suma de un Intervalo a un Real\n",
    "    return Intervalo(x.inf + c, x.sup + c)\n",
    "end\n",
    "\n",
    "function +(c::Real, x::Intervalo)\n",
    "    # Aquí definimos la suma de un Real a un Intervalo\n",
    "    return Intervalo(x.inf + c, x.sup + c)\n",
    "end\n",
    "\n",
    "\n",
    "function -(x::Intervalo)\n",
    "    return Intervalo(- x.sup, - x.inf)\n",
    "end\n",
    "\n",
    "function -(x::Intervalo, y::Intervalo)\n",
    "    y = -y\n",
    "    return Intervalo(x.inf + y.inf, x.sup + y.sup)\n",
    "end\n",
    "\n",
    "function -(x::Intervalo, c::Real)\n",
    "    return Intervalo(x.inf - c, x.sup - c)\n",
    "end\n",
    "\n",
    "function -(c::Real, x::Intervalo)\n",
    "    return Intervalo(c-x.inf, c-x.sup)\n",
    "end\n",
    "\n",
    "\n",
    "function *(x::Intervalo, y::Intervalo)\n",
    "    Intervalo(min(x.inf*y.inf, x.sup*y.inf, x.sup*y.sup, x.inf*y.sup), \n",
    "        max(x.inf*y.inf, x.sup*y.inf, x.sup*y.sup, x.inf*y.sup))\n",
    "end\n",
    "\n",
    "function *(x::Intervalo, c::Real)\n",
    "    Intervalo(min(x.inf*c, x.sup*c), max(x.inf*c, x.sup*c))\n",
    "    \n",
    "    #return Intervalo(x.inf * c, x.sup * c)\n",
    "end\n",
    "\n",
    "function *(c::Real, x::Intervalo)\n",
    "    Intervalo(min(x.inf*c, x.sup*c), max(x.inf*c, x.sup*c))\n",
    "end\n",
    "\n",
    "function /(x::Intervalo, y::Intervalo)\n",
    "    if sign(y.inf) != sign(y.sup) && y.inf != 0.0 && y.sup != 0.0\n",
    "        Intervalo(-Inf, Inf)\n",
    "    elseif y.inf == 0.0\n",
    "        Intervalo(min(x.inf/y.sup, x.sup/y.sup), Inf)\n",
    "    elseif y.sup == 0.0\n",
    "        Intervalo(-Inf, max(x.inf/y.inf, x.sup/y.inf))\n",
    "    else\n",
    "        Intervalo(min(x.inf/y.inf, x.inf/y.sup, x.sup/y.inf, x.sup/y.sup), \n",
    "            max(x.inf/y.inf, x.sup/y.inf, x.sup/y.sup, x.inf/y.sup))\n",
    "    end\n",
    "end\n",
    "\n",
    "function /(x::Intervalo, c::Real)\n",
    "    Intervalo(min(x.inf/c, x.sup/c), max(x.inf/c, x.sup/c))\n",
    "    \n",
    "    #return Intervalo(x.inf * c, x.sup * c)\n",
    "end\n",
    "\n",
    "function /(c::Real, x::Intervalo)\n",
    "    if sign(x.inf) != sign(x.sup) && x.inf != 0.0 && x.sup != 0.0\n",
    "        Intervalo(-Inf, Inf)\n",
    "    elseif x.inf == 0.0\n",
    "        Intervalo(c/x.sup, Inf)\n",
    "    elseif x.sup == 0.0\n",
    "        Intervalo(-Inf, c/x.inf)\n",
    "    else\n",
    "        Intervalo(min(c/x.inf, c/x.sup), max(c/x.inf, c/x.sup))\n",
    "    end\n",
    "end\n",
    "\n",
    "\n",
    "function ^(x::Intervalo, c::Int64)\n",
    "    if iseven(c)\n",
    "        if x.inf < 0 && x.sup >0\n",
    "            if abs(x.inf) < abs(x.sup)\n",
    "                return Intervalo(0, x.sup^c)\n",
    "            else\n",
    "                return Intervalo(0, x.inf^c)\n",
    "            end\n",
    "        elseif x.inf < 0 && x.sup < 0\n",
    "             return Intervalo(x.sup^c, x.inf^c)\n",
    "        else\n",
    "            return Intervalo(x.inf^c, x.sup^c)\n",
    "        end\n",
    "    else\n",
    "        Intervalo(x.inf^c, x.sup^c)\n",
    "    end\n",
    "end\n",
    "\n",
    "function exp(x::Intervalo)\n",
    "    Intervalo(exp(x.inf),exp(x.sup))\n",
    "end\n",
    "\n",
    "function sqrt(x::Intervalo)\n",
    "    if x.inf < 0 || x.sup < 0\n",
    "        Intervalo(0,0)\n",
    "    else\n",
    "        Intervalo(sqrt(x.inf), sqrt(x.sup))\n",
    "    end\n",
    "end"
   ]
  },
  {
   "cell_type": "code",
   "execution_count": 4,
   "metadata": {
    "scrolled": true
   },
   "outputs": [
    {
     "name": "stdout",
     "output_type": "stream",
     "text": [
      "1 / Intervalo(-1, 1) = Intervalo(-Inf, Inf)\n",
      "1 / (Intervalo(1, 3) - 2) = Intervalo(-Inf, Inf)\n",
      "1 / Intervalo(0, 1) = Intervalo(1.0, Inf)\n",
      "1 / Intervalo(-1, 0) = Intervalo(-Inf, -1.0)\n",
      "1 / Intervalo(-1, 1) ^ 2 = Intervalo(1.0, Inf)\n"
     ]
    }
   ],
   "source": [
    "## pruebas 1/x y 1/x-2\n",
    "\n",
    "@show 1 / Intervalo(-1,1)\n",
    "@show 1/(Intervalo(1,3) - 2)\n",
    "@show 1/Intervalo(0,1)\n",
    "@show 1/Intervalo(-1,0) \n",
    "@show 1/(Intervalo(-1,1))^2 ;"
   ]
  },
  {
   "cell_type": "code",
   "execution_count": 5,
   "metadata": {},
   "outputs": [
    {
     "data": {
      "text/plain": [
       "Intervalo(0.0, 4.0)"
      ]
     },
     "execution_count": 5,
     "metadata": {},
     "output_type": "execute_result"
    }
   ],
   "source": [
    "Intervalo(-1,2)^2"
   ]
  },
  {
   "cell_type": "code",
   "execution_count": 6,
   "metadata": {
    "scrolled": true
   },
   "outputs": [
    {
     "data": {
      "text/plain": [
       "Intervalo(-1.0, 8.0)"
      ]
     },
     "execution_count": 6,
     "metadata": {},
     "output_type": "execute_result"
    }
   ],
   "source": [
    "Intervalo(-1,2)^3"
   ]
  },
  {
   "cell_type": "code",
   "execution_count": 7,
   "metadata": {},
   "outputs": [
    {
     "data": {
      "text/plain": [
       "gp (generic function with 1 method)"
      ]
     },
     "execution_count": 7,
     "metadata": {},
     "output_type": "execute_result"
    }
   ],
   "source": [
    "g(x) = x^2\n",
    "gp(x) = 2x"
   ]
  },
  {
   "cell_type": "code",
   "execution_count": 8,
   "metadata": {},
   "outputs": [
    {
     "data": {
      "text/plain": [
       "#g"
      ]
     },
     "execution_count": 8,
     "metadata": {},
     "output_type": "execute_result"
    }
   ],
   "source": [
    "typeof(g)"
   ]
  },
  {
   "cell_type": "code",
   "execution_count": 9,
   "metadata": {},
   "outputs": [
    {
     "data": {
      "text/plain": [
       "Fintervalo (generic function with 1 method)"
      ]
     },
     "execution_count": 9,
     "metadata": {},
     "output_type": "execute_result"
    }
   ],
   "source": [
    "function Fintervalo(f,fp, x::Intervalo , x0::Real)\n",
    "\n",
    "    #x0 ∈ [x.inf, x.sup] ? nothing : error(\"x0 no esta en el intervalos\")\n",
    "    \n",
    "    f(x0) + fp(x)*(x - x0)\n",
    "    \n",
    "end"
   ]
  },
  {
   "cell_type": "code",
   "execution_count": 10,
   "metadata": {},
   "outputs": [
    {
     "data": {
      "text/plain": [
       "Intervalo(-7.0, 5.0)"
      ]
     },
     "execution_count": 10,
     "metadata": {},
     "output_type": "execute_result"
    }
   ],
   "source": [
    "Fintervalo(g,gp,Intervalo(-1,2),1)"
   ]
  },
  {
   "cell_type": "markdown",
   "metadata": {},
   "source": [
    "## Diferenciación automática"
   ]
  },
  {
   "cell_type": "markdown",
   "metadata": {},
   "source": [
    "De cálculo conocemos reglas para calcular derivadas (a diferencia, por ejemplo, de integrales indefinidas). Resulta que es posible *automatizar* estas reglas, para que la computadora las utilice para calcular derivadas de forma numéricamente exacta (a parte de errores de redondeo). Este conjunto de técnicas se llama la **diferenciación automática** o **diferenciación algorítmica**. En este notebook, veremos las bases de este método."
   ]
  },
  {
   "cell_type": "markdown",
   "metadata": {},
   "source": [
    "Nota: Este método *no* utiliza ni diferencias finitas, ni manipulación simbólica. Utiliza las reglas de derivadas provenientes del cálculo, pero de forma *numérica*. Especificamos el valor numérico de una variable, por ejemplo, `a = 3` en donde queremos evaluar la derivada de una función $f$, y ¡el método nos regresará el valor numérico de la derivada $f'(a)$!"
   ]
  },
  {
   "cell_type": "markdown",
   "metadata": {},
   "source": [
    "**[3]** Supón que tienes dos funciones $f$ y $g$ de $\\mathbb{R} \\to \\mathbb{R}$, cuyas derivadas conoces, y quieres calcular derivadas en un punto $a \\in \\mathbb{R}$ de combinaciones de estas funciones.\n",
    "\n",
    "(i) Expande $f$ y $g$ en series de Taylor alrededor de $a$ en términos de la distancia $\\epsilon$ desde $a$.\n",
    " \n",
    " Sea $\\epsilon = x -a$\n",
    "\n",
    "* $f(x) = f(a) + \\dfrac{f'(a)(\\epsilon)}{1!} + \\dfrac{f''(a)(\\epsilon)^2}{2!} + \\cdots = \\displaystyle \\sum _{k = 0} ^{\\infty} \\dfrac{f^{(k)}(a) \\epsilon ^k }{k!}$\n",
    "\n",
    "* $g(x) = g(a) + \\dfrac{g'(a)(\\epsilon)}{1!} + \\dfrac{g''(a)(\\epsilon)^2}{2!} + \\cdots = \\displaystyle \\sum _{k = 0} ^{\\infty} \\dfrac{g^{(k)}(a) \\epsilon ^k }{k!} $\n",
    "\n",
    "\n",
    "(ii) Encuentra series de Taylor para la suma $(f+g)$ y el producto $(f \\cdot g)$ en la vecindad de $a$.\n",
    "\n",
    "* $(f + g)(x) = \\displaystyle \\sum _{k = 0} ^{\\infty}  \\left[ f^{(k)}(a)  + g^{(k)}(a) \\right]  \\left(\\dfrac{ \\epsilon ^k}{k!}  \\right) = \\displaystyle \\sum _{k =0 }^{\\infty} \\dfrac{(f + g)^{(k)}(a)\\epsilon^{k}}{k!}  $\n",
    "\n",
    "* $(f \\cdot g)(x) = \\left( \\displaystyle \\sum _{k = 0} ^{\\infty} \\dfrac{f^{(k)}(a) \\epsilon ^k }{k!} \\right)\\left( \\displaystyle \\sum _{l = 0} ^{\\infty} \\dfrac{g^{(l)}(a) \\epsilon ^l }{l!} \\right) = \\displaystyle \\sum _{k =0 }^{\\infty} \\dfrac{(f \\cdot g)^{(k)}(a)\\epsilon^{k}}{k!}  $\n",
    "\n",
    "(iii) Así, recobre las expresiones ya conocidas (de cálculo) para $(f+g)'(a)$ y $(f \\cdot g)'(a)$,\n",
    "en términos de los valores de las funciones y sus derivadas. Concluye cuál información necesitas de cada función para poder calcular derivadas en el punto $a$ de las combinaciones de las funciones.\n",
    "\n",
    "* ($f + g)'(a) = f'(a) + g'(a)$, es decir, para suma necesitamos los coeficientes de orden epsilon\n",
    "\n",
    "* $(f \\cdot g)'(a) = f'(a)g(a) + f(a)g'(a)$, para esto necesitamos los coeficentes de orden menor o igual a epsilon de $f$ y $g$ \n",
    "\n",
    "Necesitamos que $f$ y $g$ sean $\\mathcal{C}^{\\infty}$ sin polos en $a$"
   ]
  },
  {
   "cell_type": "code",
   "execution_count": null,
   "metadata": {},
   "outputs": [],
   "source": []
  },
  {
   "cell_type": "markdown",
   "metadata": {},
   "source": [
    "**[4]** Ahora podemos convertir esto en un método numérico para calcular derivadas, como sigue."
   ]
  },
  {
   "cell_type": "markdown",
   "metadata": {},
   "source": [
    "(i) Define un tipo nuevo `Dual` que contiene la información necesaria de una función en el punto $a$. (Dejamos implícito el punto $a$; no lo representamos de forma explícita.) \n",
    "\n",
    "(ii) Define las operaciones aritméticas básicas sobre objetos de este tipo, siguiendo las reglas que desarrollamos en la pregunta (3).\n",
    "\n",
    "(iii) ¿Cuál número `Dual` corresponde con la función identidad $\\mathbb{1}: x \\mapsto x$ en el punto $a$? Esto representará la \"variable independiente\" $x$.\n",
    "\n",
    "* Es `Dual(a, 1)`\n",
    "\n",
    "(iv) Verifica que si agarras un objeto `xx` de la forma encontrada en (iii) y lo enchufas en una función específica `f(x)` de Julia, arroja el valor de la función y de la derivada.\n",
    "\n",
    "(v) Así, escribe una función que calcule de forma automática la derivada de una función en un punto dado."
   ]
  },
  {
   "cell_type": "code",
   "execution_count": 11,
   "metadata": {},
   "outputs": [],
   "source": [
    "import Base: ^"
   ]
  },
  {
   "cell_type": "code",
   "execution_count": 12,
   "metadata": {},
   "outputs": [],
   "source": [
    "# (i)\n",
    "\n",
    "struct Dual\n",
    "    fa::Float64\n",
    "    fpa::Float64\n",
    "end"
   ]
  },
  {
   "cell_type": "code",
   "execution_count": 13,
   "metadata": {},
   "outputs": [
    {
     "data": {
      "text/plain": [
       "Dual(9.0, 6.0)"
      ]
     },
     "execution_count": 13,
     "metadata": {},
     "output_type": "execute_result"
    }
   ],
   "source": [
    "Dual(9,6)"
   ]
  },
  {
   "cell_type": "code",
   "execution_count": 14,
   "metadata": {},
   "outputs": [
    {
     "data": {
      "text/plain": [
       "^ (generic function with 54 methods)"
      ]
     },
     "execution_count": 14,
     "metadata": {},
     "output_type": "execute_result"
    }
   ],
   "source": [
    "function +(x::Dual, y::Dual)\n",
    "    Dual(x.fa + y.fa, x.fpa + y.fpa)\n",
    "end\n",
    "\n",
    "function +(c::Real, y::Dual)\n",
    "    Dual(c + y.fa, y.fpa)\n",
    "end\n",
    "\n",
    "function +(x::Dual, c::Real)\n",
    "    Dual(x.fa + c, x.fpa )\n",
    "end\n",
    "\n",
    "\n",
    "function -(x::Dual, y::Dual)\n",
    "    Dual(x.fa - y.fa, x.fpa - y.fpa)\n",
    "end\n",
    "\n",
    "function -(c::Real, y::Dual)\n",
    "    Dual(c - y.fa, y.fpa)\n",
    "end\n",
    "\n",
    "function -(x::Dual, c::Real)\n",
    "    Dual(x.fa - c, x.fpa )\n",
    "end\n",
    "\n",
    "function *(x::Dual, y::Dual)\n",
    "    Dual(x.fa * y.fa, x.fpa * y.fa + x.fa * y.fpa )\n",
    "end\n",
    "\n",
    "function *(c::Real, y::Dual)\n",
    "    Dual(c* y.fa,  c * y.fpa )\n",
    "end\n",
    "\n",
    "function *(x::Dual, c::Real)\n",
    "    Dual(x.fa*c, x.fpa*c )\n",
    "end\n",
    "\n",
    "function ^(x::Dual, n::Int64)\n",
    "    Dual(x.fa^n, n*x.fa^(n-1))\n",
    "end"
   ]
  },
  {
   "cell_type": "code",
   "execution_count": 15,
   "metadata": {},
   "outputs": [
    {
     "data": {
      "text/plain": [
       "Dual(8.0, 12.0)"
      ]
     },
     "execution_count": 15,
     "metadata": {},
     "output_type": "execute_result"
    }
   ],
   "source": [
    "Dual(2,1)^3"
   ]
  },
  {
   "cell_type": "code",
   "execution_count": 16,
   "metadata": {},
   "outputs": [
    {
     "data": {
      "text/plain": [
       "Dual(18.0, 12.0)"
      ]
     },
     "execution_count": 16,
     "metadata": {},
     "output_type": "execute_result"
    }
   ],
   "source": [
    "Dual(9,6) + Dual(9,6) "
   ]
  },
  {
   "cell_type": "code",
   "execution_count": 17,
   "metadata": {},
   "outputs": [
    {
     "name": "stdout",
     "output_type": "stream",
     "text": [
      "\u001b[1m\u001b[37mTest Summary:   | \u001b[39m\u001b[22m\u001b[1m\u001b[32mPass  \u001b[39m\u001b[22m\u001b[1m\u001b[36mTotal\u001b[39m\u001b[22m\n",
      "Pruebas de Dual | \u001b[32m   4  \u001b[39m\u001b[36m    4\u001b[39m\n"
     ]
    },
    {
     "data": {
      "text/plain": [
       "Base.Test.DefaultTestSet(\"Pruebas de Dual\", Any[], 4, false)"
      ]
     },
     "execution_count": 17,
     "metadata": {},
     "output_type": "execute_result"
    }
   ],
   "source": [
    "@testset \"Pruebas de Dual\" begin\n",
    "    @test Dual(9,6) + Dual(9,6) == Dual(18,12)\n",
    "    @test Dual(9,6) * Dual(9,6) == Dual(81,108)\n",
    "    @test Dual(9,6) * Dual(1,0) == Dual(9,6)\n",
    "    @test Dual(3,1) * Dual(3,1) == Dual(9,6)\n",
    "end"
   ]
  },
  {
   "cell_type": "code",
   "execution_count": 18,
   "metadata": {},
   "outputs": [
    {
     "data": {
      "text/plain": [
       "f (generic function with 1 method)"
      ]
     },
     "execution_count": 18,
     "metadata": {},
     "output_type": "execute_result"
    }
   ],
   "source": [
    "f(x) = x^3 - 2x"
   ]
  },
  {
   "cell_type": "code",
   "execution_count": 19,
   "metadata": {},
   "outputs": [
    {
     "data": {
      "text/plain": [
       "Dual(4.0, 10.0)"
      ]
     },
     "execution_count": 19,
     "metadata": {},
     "output_type": "execute_result"
    }
   ],
   "source": [
    "f(Dual(2,1))"
   ]
  },
  {
   "cell_type": "code",
   "execution_count": 20,
   "metadata": {},
   "outputs": [
    {
     "data": {
      "text/plain": [
       "derivada (generic function with 1 method)"
      ]
     },
     "execution_count": 20,
     "metadata": {},
     "output_type": "execute_result"
    }
   ],
   "source": [
    "function derivada(f,x0::Real)\n",
    "    x = f(Dual(x0, 1))\n",
    "    x.fpa\n",
    "end"
   ]
  },
  {
   "cell_type": "code",
   "execution_count": 21,
   "metadata": {},
   "outputs": [
    {
     "data": {
      "text/plain": [
       "\u001b[1m\u001b[32mTest Passed\n",
       "\u001b[39m\u001b[22m"
      ]
     },
     "execution_count": 21,
     "metadata": {},
     "output_type": "execute_result"
    }
   ],
   "source": [
    "@test derivada(f,2) == Dual(4,10).fpa"
   ]
  },
  {
   "cell_type": "markdown",
   "metadata": {},
   "source": [
    "**[5]** (i) Si tienes una función como `exp`, cuando la aplicas a un número `Dual` que representa a una función $f$ cerca del punto $a$, el resultado debe corresponder a la función $(\\exp \\circ f)$. Impleméntalo.\n",
    "\n",
    "(ii) ¿Qué ocurre si derivas `exp(exp(x))` en un punto $a$? ¿Es correcto? ¿Qué se ha implementado (¡de forma automática!) aquí?"
   ]
  },
  {
   "cell_type": "code",
   "execution_count": 22,
   "metadata": {},
   "outputs": [
    {
     "data": {
      "text/plain": [
       "exp (generic function with 12 methods)"
      ]
     },
     "execution_count": 22,
     "metadata": {},
     "output_type": "execute_result"
    }
   ],
   "source": [
    "import Base: exp\n",
    "\n",
    "function exp(x::Dual)\n",
    "    Dual(exp(x.fa), exp(x.fa)*x.fpa)\n",
    "end"
   ]
  },
  {
   "cell_type": "code",
   "execution_count": 23,
   "metadata": {},
   "outputs": [
    {
     "data": {
      "text/plain": [
       "Dual(2.718281828459045, 2.718281828459045)"
      ]
     },
     "execution_count": 23,
     "metadata": {},
     "output_type": "execute_result"
    }
   ],
   "source": [
    "exp(Dual(1,1))"
   ]
  },
  {
   "cell_type": "code",
   "execution_count": 24,
   "metadata": {},
   "outputs": [
    {
     "data": {
      "text/plain": [
       "g (generic function with 1 method)"
      ]
     },
     "execution_count": 24,
     "metadata": {},
     "output_type": "execute_result"
    }
   ],
   "source": [
    "g(x) = x^2 "
   ]
  },
  {
   "cell_type": "code",
   "execution_count": 25,
   "metadata": {},
   "outputs": [
    {
     "data": {
      "text/plain": [
       "Dual(9.0, 6.0)"
      ]
     },
     "execution_count": 25,
     "metadata": {},
     "output_type": "execute_result"
    }
   ],
   "source": [
    "g(Dual(3,1))"
   ]
  },
  {
   "cell_type": "code",
   "execution_count": 26,
   "metadata": {},
   "outputs": [
    {
     "data": {
      "text/plain": [
       "\u001b[1m\u001b[32mTest Passed\n",
       "\u001b[39m\u001b[22m"
      ]
     },
     "execution_count": 26,
     "metadata": {},
     "output_type": "execute_result"
    }
   ],
   "source": [
    "@test exp(g(Dual(3,1))) == exp(Dual(9,6))"
   ]
  },
  {
   "cell_type": "markdown",
   "metadata": {},
   "source": [
    "(ii) ¿Qué ocurre si derivas `exp(exp(x))` en un punto $a$? ¿Es correcto? ¿Qué se ha implementado (¡de forma automática!) aquí?"
   ]
  },
  {
   "cell_type": "code",
   "execution_count": 27,
   "metadata": {},
   "outputs": [
    {
     "data": {
      "text/plain": [
       "Dual(15.154262241479262, 41.193555674716116)"
      ]
     },
     "execution_count": 27,
     "metadata": {},
     "output_type": "execute_result"
    }
   ],
   "source": [
    "exp(exp(Dual(1,1)))"
   ]
  },
  {
   "cell_type": "code",
   "execution_count": 28,
   "metadata": {},
   "outputs": [
    {
     "data": {
      "text/plain": [
       "41.193555674716116"
      ]
     },
     "execution_count": 28,
     "metadata": {},
     "output_type": "execute_result"
    }
   ],
   "source": [
    "expp(x) = exp(exp(x)) \n",
    "derivada(expp,1)"
   ]
  },
  {
   "cell_type": "markdown",
   "metadata": {},
   "source": [
    "**[6]** Para una función $f: \\mathbb{R}^n \\to \\mathbb{R}$, quisiéramos calcular la gradiente $\\nabla f$. ¿Cómo podemos extender la diferenciación automática a este caso? Puedes restringir atención a $n=2$ para entender cómo funciona."
   ]
  },
  {
   "cell_type": "code",
   "execution_count": 29,
   "metadata": {},
   "outputs": [
    {
     "data": {
      "text/plain": [
       "h4 (generic function with 1 method)"
      ]
     },
     "execution_count": 29,
     "metadata": {},
     "output_type": "execute_result"
    }
   ],
   "source": [
    "h(x,y) = x^2 + exp(y)\n",
    "\n",
    "h2(x ,y) = x^2*y^2 \n",
    "\n",
    "h3(x ,y) = x^2*y^2 + 2x + 3y\n",
    "\n",
    "h4(x, y) = y^3 * exp(x)"
   ]
  },
  {
   "cell_type": "code",
   "execution_count": 30,
   "metadata": {},
   "outputs": [
    {
     "data": {
      "text/plain": [
       "2.718281828459045"
      ]
     },
     "execution_count": 30,
     "metadata": {},
     "output_type": "execute_result"
    }
   ],
   "source": [
    "h(0,1)"
   ]
  },
  {
   "cell_type": "code",
   "execution_count": 31,
   "metadata": {},
   "outputs": [
    {
     "data": {
      "text/plain": [
       "Dual(4.0, 4.0)"
      ]
     },
     "execution_count": 31,
     "metadata": {},
     "output_type": "execute_result"
    }
   ],
   "source": [
    "h2(Dual(2,1) , 1)"
   ]
  },
  {
   "cell_type": "code",
   "execution_count": 32,
   "metadata": {},
   "outputs": [
    {
     "data": {
      "text/plain": [
       "Dual(4.0, 8.0)"
      ]
     },
     "execution_count": 32,
     "metadata": {},
     "output_type": "execute_result"
    }
   ],
   "source": [
    "h2(2, Dual(1, 1))"
   ]
  },
  {
   "cell_type": "code",
   "execution_count": 33,
   "metadata": {},
   "outputs": [
    {
     "data": {
      "text/plain": [
       "Dual(160.68429538550134, 160.68429538550134)"
      ]
     },
     "execution_count": 33,
     "metadata": {},
     "output_type": "execute_result"
    }
   ],
   "source": [
    "h4(Dual(3,1), 2)"
   ]
  },
  {
   "cell_type": "code",
   "execution_count": 34,
   "metadata": {},
   "outputs": [
    {
     "data": {
      "text/plain": [
       "Dual(160.68429538550134, 241.02644307825202)"
      ]
     },
     "execution_count": 34,
     "metadata": {},
     "output_type": "execute_result"
    }
   ],
   "source": [
    "h4( 3, Dual(2,1))"
   ]
  },
  {
   "cell_type": "code",
   "execution_count": 35,
   "metadata": {},
   "outputs": [
    {
     "data": {
      "text/plain": [
       "grad (generic function with 1 method)"
      ]
     },
     "execution_count": 35,
     "metadata": {},
     "output_type": "execute_result"
    }
   ],
   "source": [
    "function grad(f,x0,y0)\n",
    "    xaux = f(Dual(x0, 1), y0)\n",
    "    yaux = f(x0, Dual(y0, 1))\n",
    "\n",
    "    Df = (xaux.fpa,yaux.fpa)\n",
    "\n",
    "end"
   ]
  },
  {
   "cell_type": "code",
   "execution_count": 36,
   "metadata": {},
   "outputs": [
    {
     "data": {
      "text/plain": [
       "(4.0, 2.718281828459045)"
      ]
     },
     "execution_count": 36,
     "metadata": {},
     "output_type": "execute_result"
    }
   ],
   "source": [
    "grad(h, 2, 1 )"
   ]
  },
  {
   "cell_type": "code",
   "execution_count": 37,
   "metadata": {},
   "outputs": [
    {
     "data": {
      "text/plain": [
       "(4.0, 8.0)"
      ]
     },
     "execution_count": 37,
     "metadata": {},
     "output_type": "execute_result"
    }
   ],
   "source": [
    "grad(h2, 2, 1 )"
   ]
  },
  {
   "cell_type": "code",
   "execution_count": 38,
   "metadata": {},
   "outputs": [
    {
     "data": {
      "text/plain": [
       "(6.0, 11.0)"
      ]
     },
     "execution_count": 38,
     "metadata": {},
     "output_type": "execute_result"
    }
   ],
   "source": [
    "grad(h3, 2, 1 )"
   ]
  },
  {
   "cell_type": "code",
   "execution_count": 39,
   "metadata": {},
   "outputs": [
    {
     "data": {
      "text/plain": [
       "(160.68429538550134, 241.02644307825202)"
      ]
     },
     "execution_count": 39,
     "metadata": {},
     "output_type": "execute_result"
    }
   ],
   "source": [
    "grad(h4, 3, 2)"
   ]
  },
  {
   "cell_type": "code",
   "execution_count": 40,
   "metadata": {},
   "outputs": [
    {
     "data": {
      "text/plain": [
       "241.02644307825202"
      ]
     },
     "execution_count": 40,
     "metadata": {},
     "output_type": "execute_result"
    }
   ],
   "source": [
    "12*exp(3)"
   ]
  },
  {
   "cell_type": "markdown",
   "metadata": {},
   "source": [
    "**[7]** Ahora que hayamos entendido la idea de la diferenciación automática, podemos echar mano del paquete de Julia `ForwardDiff.jl`, donde hay una implementación muy buena.\n",
    "\n",
    "Lee el manual del paquete para entender cómo calcular derivadas de funciones $\\mathbb{R} \\to \\mathbb{R}$, gradientes de funciones $\\mathbb{R}^n \\to \\mathbb{R}$, y jacobianos de funciones $\\mathbb{R}^n \\to \\mathbb{R}^m$."
   ]
  },
  {
   "cell_type": "code",
   "execution_count": 40,
   "metadata": {
    "collapsed": true
   },
   "outputs": [],
   "source": [
    "using ForwardDiff"
   ]
  },
  {
   "cell_type": "markdown",
   "metadata": {},
   "source": [
    "Sean:\n",
    "\n",
    "* $f:\\mathbb{R} \\longrightarrow \\mathbb{R}$ tal que $f(x) = \\sin(x^2)$ sabemos $f'(x) = 2x \\cos (x^2)$ evaluando en $\\sqrt{\\pi}$ tenemos  $f'\\left( \\sqrt{\\pi } \\right) = 2 \\sqrt{\\pi} \\cos (\\pi) \\approx -3.54490770181103$\n",
    "\n",
    "\n",
    "* $g:\\mathbb{R}^n \\longrightarrow \\mathbb{R}$ tal que $g(x,y,z) = \\sin(x^2) + y\\exp(z)$"
   ]
  },
  {
   "cell_type": "code",
   "execution_count": 43,
   "metadata": {},
   "outputs": [],
   "source": [
    "f(x::Real) = sin(x^2);\n",
    "g(x::Vector) = sum(sin, x) + prod(tan, x) * sum(sqrt, x);"
   ]
  },
  {
   "cell_type": "code",
   "execution_count": 44,
   "metadata": {},
   "outputs": [
    {
     "data": {
      "text/plain": [
       "-3.5449077018110318"
      ]
     },
     "execution_count": 44,
     "metadata": {},
     "output_type": "execute_result"
    }
   ],
   "source": [
    "ForwardDiff.derivative(f, sqrt(pi))"
   ]
  },
  {
   "cell_type": "code",
   "execution_count": 45,
   "metadata": {},
   "outputs": [
    {
     "data": {
      "text/plain": [
       "(::#1) (generic function with 1 method)"
      ]
     },
     "execution_count": 45,
     "metadata": {},
     "output_type": "execute_result"
    }
   ],
   "source": [
    "x = rand(5) \n",
    "gg = x ->ForwardDiff.gradient(g, x)"
   ]
  },
  {
   "cell_type": "code",
   "execution_count": 46,
   "metadata": {},
   "outputs": [
    {
     "data": {
      "text/plain": [
       "5-element Array{Float64,1}:\n",
       " 1.04183 \n",
       " 1.29894 \n",
       " 0.965813\n",
       " 0.863309\n",
       " 0.619499"
      ]
     },
     "execution_count": 46,
     "metadata": {},
     "output_type": "execute_result"
    }
   ],
   "source": [
    "gg(x)"
   ]
  },
  {
   "cell_type": "code",
   "execution_count": 47,
   "metadata": {},
   "outputs": [
    {
     "data": {
      "text/plain": [
       "5×5 Array{Float64,2}:\n",
       " -0.168794  1.42623    0.209786   0.162717    0.156342 \n",
       "  1.42623   0.293699   0.913246   0.708464    0.680335 \n",
       "  0.209786  0.913246  -0.337995   0.104112    0.100055 \n",
       "  0.162717  0.708464   0.104112  -0.506466    0.0776051\n",
       "  0.156342  0.680335   0.100055   0.0776051  -0.716582 "
      ]
     },
     "execution_count": 47,
     "metadata": {},
     "output_type": "execute_result"
    }
   ],
   "source": [
    "ForwardDiff.hessian(g, x)"
   ]
  },
  {
   "cell_type": "markdown",
   "metadata": {},
   "source": [
    "**[8]** Ocupa diferenciación automática para calcular el \"centered form\" de una función $\\mathbb{R} \\to \\mathbb{R}$."
   ]
  },
  {
   "cell_type": "code",
   "execution_count": 48,
   "metadata": {},
   "outputs": [
    {
     "data": {
      "text/markdown": [
       "```\n",
       "ForwardDiff.derivative(f, x::Real)\n",
       "```\n",
       "\n",
       "Return `df/dx` evaluated at `x`, assuming `f` is called as `f(x)`.\n",
       "\n",
       "This method assumes that `isa(f(x), Union{Real,AbstractArray})`.\n",
       "\n",
       "```\n",
       "ForwardDiff.derivative(f!, y::AbstractArray, x::Real, cfg::DerivativeConfig = DerivativeConfig(f!, y, x))\n",
       "```\n",
       "\n",
       "Return `df!/dx` evaluated at `x`, assuming `f!` is called as `f!(y, x)` where the result is stored in `y`.\n"
      ],
      "text/plain": [
       "```\n",
       "ForwardDiff.derivative(f, x::Real)\n",
       "```\n",
       "\n",
       "Return `df/dx` evaluated at `x`, assuming `f` is called as `f(x)`.\n",
       "\n",
       "This method assumes that `isa(f(x), Union{Real,AbstractArray})`.\n",
       "\n",
       "```\n",
       "ForwardDiff.derivative(f!, y::AbstractArray, x::Real, cfg::DerivativeConfig = DerivativeConfig(f!, y, x))\n",
       "```\n",
       "\n",
       "Return `df!/dx` evaluated at `x`, assuming `f!` is called as `f!(y, x)` where the result is stored in `y`.\n"
      ]
     },
     "execution_count": 48,
     "metadata": {},
     "output_type": "execute_result"
    }
   ],
   "source": [
    "?ForwardDiff.derivative"
   ]
  },
  {
   "cell_type": "code",
   "execution_count": 49,
   "metadata": {},
   "outputs": [
    {
     "data": {
      "text/plain": [
       "centredform (generic function with 1 method)"
      ]
     },
     "execution_count": 49,
     "metadata": {},
     "output_type": "execute_result"
    }
   ],
   "source": [
    "function centredform(f, X::Intervalo)\n",
    "    x0 = abs(X.sup - X.inf)*0.5 + X.inf\n",
    "    \n",
    "    a = ForwardDiff.derivative(f, X.inf)\n",
    "    b = ForwardDiff.derivative(f, X.sup)\n",
    "    #@show x0\n",
    "    if a >= b\n",
    "        xp = Intervalo(b, a)\n",
    "    else\n",
    "        xp = Intervalo(a, b)\n",
    "    end\n",
    "    \n",
    "    f(x0) + xp*(X - x0) \n",
    "end"
   ]
  },
  {
   "cell_type": "code",
   "execution_count": 50,
   "metadata": {},
   "outputs": [
    {
     "data": {
      "text/plain": [
       "Intervalo(-1.0, 2.0)"
      ]
     },
     "execution_count": 50,
     "metadata": {},
     "output_type": "execute_result"
    }
   ],
   "source": [
    "ff(x) = x^2\n",
    "II = Intervalo(-1, 2)"
   ]
  },
  {
   "cell_type": "code",
   "execution_count": 51,
   "metadata": {},
   "outputs": [
    {
     "data": {
      "text/plain": [
       "Intervalo(-5.75, 6.25)"
      ]
     },
     "execution_count": 51,
     "metadata": {},
     "output_type": "execute_result"
    }
   ],
   "source": [
    "centredform(ff, II)"
   ]
  },
  {
   "cell_type": "code",
   "execution_count": 52,
   "metadata": {},
   "outputs": [
    {
     "data": {
      "text/plain": [
       "fff (generic function with 1 method)"
      ]
     },
     "execution_count": 52,
     "metadata": {},
     "output_type": "execute_result"
    }
   ],
   "source": [
    "fff(x) = x^3  -3x^2 "
   ]
  },
  {
   "cell_type": "code",
   "execution_count": 53,
   "metadata": {},
   "outputs": [
    {
     "name": "stdout",
     "output_type": "stream",
     "text": [
      "(centredform(fff, XX1), fff(XX1)) = (Intervalo(-4.359375, 0.140625), Intervalo(-4.0, -0.875))\n",
      "(centredform(fff, XX2), fff(XX2)) = (Intervalo(-11.421875, 11.078125), Intervalo(-7.75, 3.375))\n"
     ]
    },
    {
     "data": {
      "text/plain": [
       "(Intervalo(-11.421875, 11.078125), Intervalo(-7.75, 3.375))"
      ]
     },
     "execution_count": 53,
     "metadata": {},
     "output_type": "execute_result"
    }
   ],
   "source": [
    "XX1 = Intervalo(-1,-.5)\n",
    "XX2 = Intervalo(-1,1.5)\n",
    "@show centredform(fff,XX1), fff(XX1)\n",
    "@show centredform(fff,XX2), fff(XX2)"
   ]
  },
  {
   "cell_type": "code",
   "execution_count": 52,
   "metadata": {},
   "outputs": [
    {
     "name": "stderr",
     "output_type": "stream",
     "text": [
      "WARNING: using Plots.h in module Main conflicts with an existing identifier.\n"
     ]
    },
    {
     "data": {
      "text/html": [
       "<?xml version=\"1.0\" encoding=\"utf-8\"?>\n",
       "<svg xmlns=\"http://www.w3.org/2000/svg\" xmlns:xlink=\"http://www.w3.org/1999/xlink\" width=\"600\" height=\"400\" viewBox=\"0 0 600 400\">\n",
       "<defs>\n",
       "  <clipPath id=\"clip7600\">\n",
       "    <rect x=\"0\" y=\"0\" width=\"600\" height=\"400\"/>\n",
       "  </clipPath>\n",
       "</defs>\n",
       "<polygon clip-path=\"url(#clip7600)\" points=\"\n",
       "0,400 600,400 600,0 0,0 \n",
       "  \" fill=\"#ffffff\" fill-opacity=\"1\"/>\n",
       "<defs>\n",
       "  <clipPath id=\"clip7601\">\n",
       "    <rect x=\"120\" y=\"0\" width=\"421\" height=\"400\"/>\n",
       "  </clipPath>\n",
       "</defs>\n",
       "<polygon clip-path=\"url(#clip7600)\" points=\"\n",
       "29.4661,375.869 580.315,375.869 580.315,11.811 29.4661,11.811 \n",
       "  \" fill=\"#ffffff\" fill-opacity=\"1\"/>\n",
       "<defs>\n",
       "  <clipPath id=\"clip7602\">\n",
       "    <rect x=\"29\" y=\"11\" width=\"552\" height=\"365\"/>\n",
       "  </clipPath>\n",
       "</defs>\n",
       "<polyline clip-path=\"url(#clip7602)\" style=\"stroke:#000000; stroke-width:0.5; stroke-opacity:0.1; fill:none\" points=\"\n",
       "  45.0562,375.869 45.0562,11.811 \n",
       "  \"/>\n",
       "<polyline clip-path=\"url(#clip7602)\" style=\"stroke:#000000; stroke-width:0.5; stroke-opacity:0.1; fill:none\" points=\"\n",
       "  148.99,375.869 148.99,11.811 \n",
       "  \"/>\n",
       "<polyline clip-path=\"url(#clip7602)\" style=\"stroke:#000000; stroke-width:0.5; stroke-opacity:0.1; fill:none\" points=\"\n",
       "  252.924,375.869 252.924,11.811 \n",
       "  \"/>\n",
       "<polyline clip-path=\"url(#clip7602)\" style=\"stroke:#000000; stroke-width:0.5; stroke-opacity:0.1; fill:none\" points=\"\n",
       "  356.857,375.869 356.857,11.811 \n",
       "  \"/>\n",
       "<polyline clip-path=\"url(#clip7602)\" style=\"stroke:#000000; stroke-width:0.5; stroke-opacity:0.1; fill:none\" points=\"\n",
       "  460.791,375.869 460.791,11.811 \n",
       "  \"/>\n",
       "<polyline clip-path=\"url(#clip7602)\" style=\"stroke:#000000; stroke-width:0.5; stroke-opacity:0.1; fill:none\" points=\"\n",
       "  564.725,375.869 564.725,11.811 \n",
       "  \"/>\n",
       "<polyline clip-path=\"url(#clip7602)\" style=\"stroke:#000000; stroke-width:0.5; stroke-opacity:0.1; fill:none\" points=\"\n",
       "  29.4661,365.565 580.315,365.565 \n",
       "  \"/>\n",
       "<polyline clip-path=\"url(#clip7602)\" style=\"stroke:#000000; stroke-width:0.5; stroke-opacity:0.1; fill:none\" points=\"\n",
       "  29.4661,279.702 580.315,279.702 \n",
       "  \"/>\n",
       "<polyline clip-path=\"url(#clip7602)\" style=\"stroke:#000000; stroke-width:0.5; stroke-opacity:0.1; fill:none\" points=\"\n",
       "  29.4661,193.84 580.315,193.84 \n",
       "  \"/>\n",
       "<polyline clip-path=\"url(#clip7602)\" style=\"stroke:#000000; stroke-width:0.5; stroke-opacity:0.1; fill:none\" points=\"\n",
       "  29.4661,107.977 580.315,107.977 \n",
       "  \"/>\n",
       "<polyline clip-path=\"url(#clip7602)\" style=\"stroke:#000000; stroke-width:0.5; stroke-opacity:0.1; fill:none\" points=\"\n",
       "  29.4661,22.1143 580.315,22.1143 \n",
       "  \"/>\n",
       "<polyline clip-path=\"url(#clip7600)\" style=\"stroke:#000000; stroke-width:1; stroke-opacity:1; fill:none\" points=\"\n",
       "  29.4661,375.869 580.315,375.869 \n",
       "  \"/>\n",
       "<polyline clip-path=\"url(#clip7600)\" style=\"stroke:#000000; stroke-width:1; stroke-opacity:1; fill:none\" points=\"\n",
       "  29.4661,375.869 29.4661,11.811 \n",
       "  \"/>\n",
       "<polyline clip-path=\"url(#clip7600)\" style=\"stroke:#000000; stroke-width:1; stroke-opacity:1; fill:none\" points=\"\n",
       "  45.0562,375.869 45.0562,370.408 \n",
       "  \"/>\n",
       "<polyline clip-path=\"url(#clip7600)\" style=\"stroke:#000000; stroke-width:1; stroke-opacity:1; fill:none\" points=\"\n",
       "  148.99,375.869 148.99,370.408 \n",
       "  \"/>\n",
       "<polyline clip-path=\"url(#clip7600)\" style=\"stroke:#000000; stroke-width:1; stroke-opacity:1; fill:none\" points=\"\n",
       "  252.924,375.869 252.924,370.408 \n",
       "  \"/>\n",
       "<polyline clip-path=\"url(#clip7600)\" style=\"stroke:#000000; stroke-width:1; stroke-opacity:1; fill:none\" points=\"\n",
       "  356.857,375.869 356.857,370.408 \n",
       "  \"/>\n",
       "<polyline clip-path=\"url(#clip7600)\" style=\"stroke:#000000; stroke-width:1; stroke-opacity:1; fill:none\" points=\"\n",
       "  460.791,375.869 460.791,370.408 \n",
       "  \"/>\n",
       "<polyline clip-path=\"url(#clip7600)\" style=\"stroke:#000000; stroke-width:1; stroke-opacity:1; fill:none\" points=\"\n",
       "  564.725,375.869 564.725,370.408 \n",
       "  \"/>\n",
       "<polyline clip-path=\"url(#clip7600)\" style=\"stroke:#000000; stroke-width:1; stroke-opacity:1; fill:none\" points=\"\n",
       "  29.4661,365.565 37.7289,365.565 \n",
       "  \"/>\n",
       "<polyline clip-path=\"url(#clip7600)\" style=\"stroke:#000000; stroke-width:1; stroke-opacity:1; fill:none\" points=\"\n",
       "  29.4661,279.702 37.7289,279.702 \n",
       "  \"/>\n",
       "<polyline clip-path=\"url(#clip7600)\" style=\"stroke:#000000; stroke-width:1; stroke-opacity:1; fill:none\" points=\"\n",
       "  29.4661,193.84 37.7289,193.84 \n",
       "  \"/>\n",
       "<polyline clip-path=\"url(#clip7600)\" style=\"stroke:#000000; stroke-width:1; stroke-opacity:1; fill:none\" points=\"\n",
       "  29.4661,107.977 37.7289,107.977 \n",
       "  \"/>\n",
       "<polyline clip-path=\"url(#clip7600)\" style=\"stroke:#000000; stroke-width:1; stroke-opacity:1; fill:none\" points=\"\n",
       "  29.4661,22.1143 37.7289,22.1143 \n",
       "  \"/>\n",
       "<g clip-path=\"url(#clip7600)\">\n",
       "<text style=\"fill:#000000; fill-opacity:1; font-family:Arial,Helvetica Neue,Helvetica,sans-serif; font-size:12; text-anchor:middle;\" transform=\"rotate(0, 45.0562, 389.669)\" x=\"45.0562\" y=\"389.669\">-1.0</text>\n",
       "</g>\n",
       "<g clip-path=\"url(#clip7600)\">\n",
       "<text style=\"fill:#000000; fill-opacity:1; font-family:Arial,Helvetica Neue,Helvetica,sans-serif; font-size:12; text-anchor:middle;\" transform=\"rotate(0, 148.99, 389.669)\" x=\"148.99\" y=\"389.669\">-0.5</text>\n",
       "</g>\n",
       "<g clip-path=\"url(#clip7600)\">\n",
       "<text style=\"fill:#000000; fill-opacity:1; font-family:Arial,Helvetica Neue,Helvetica,sans-serif; font-size:12; text-anchor:middle;\" transform=\"rotate(0, 252.924, 389.669)\" x=\"252.924\" y=\"389.669\">0.0</text>\n",
       "</g>\n",
       "<g clip-path=\"url(#clip7600)\">\n",
       "<text style=\"fill:#000000; fill-opacity:1; font-family:Arial,Helvetica Neue,Helvetica,sans-serif; font-size:12; text-anchor:middle;\" transform=\"rotate(0, 356.857, 389.669)\" x=\"356.857\" y=\"389.669\">0.5</text>\n",
       "</g>\n",
       "<g clip-path=\"url(#clip7600)\">\n",
       "<text style=\"fill:#000000; fill-opacity:1; font-family:Arial,Helvetica Neue,Helvetica,sans-serif; font-size:12; text-anchor:middle;\" transform=\"rotate(0, 460.791, 389.669)\" x=\"460.791\" y=\"389.669\">1.0</text>\n",
       "</g>\n",
       "<g clip-path=\"url(#clip7600)\">\n",
       "<text style=\"fill:#000000; fill-opacity:1; font-family:Arial,Helvetica Neue,Helvetica,sans-serif; font-size:12; text-anchor:middle;\" transform=\"rotate(0, 564.725, 389.669)\" x=\"564.725\" y=\"389.669\">1.5</text>\n",
       "</g>\n",
       "<g clip-path=\"url(#clip7600)\">\n",
       "<text style=\"fill:#000000; fill-opacity:1; font-family:Arial,Helvetica Neue,Helvetica,sans-serif; font-size:12; text-anchor:end;\" transform=\"rotate(0, 23.4661, 370.065)\" x=\"23.4661\" y=\"370.065\">-4</text>\n",
       "</g>\n",
       "<g clip-path=\"url(#clip7600)\">\n",
       "<text style=\"fill:#000000; fill-opacity:1; font-family:Arial,Helvetica Neue,Helvetica,sans-serif; font-size:12; text-anchor:end;\" transform=\"rotate(0, 23.4661, 284.202)\" x=\"23.4661\" y=\"284.202\">-3</text>\n",
       "</g>\n",
       "<g clip-path=\"url(#clip7600)\">\n",
       "<text style=\"fill:#000000; fill-opacity:1; font-family:Arial,Helvetica Neue,Helvetica,sans-serif; font-size:12; text-anchor:end;\" transform=\"rotate(0, 23.4661, 198.34)\" x=\"23.4661\" y=\"198.34\">-2</text>\n",
       "</g>\n",
       "<g clip-path=\"url(#clip7600)\">\n",
       "<text style=\"fill:#000000; fill-opacity:1; font-family:Arial,Helvetica Neue,Helvetica,sans-serif; font-size:12; text-anchor:end;\" transform=\"rotate(0, 23.4661, 112.477)\" x=\"23.4661\" y=\"112.477\">-1</text>\n",
       "</g>\n",
       "<g clip-path=\"url(#clip7600)\">\n",
       "<text style=\"fill:#000000; fill-opacity:1; font-family:Arial,Helvetica Neue,Helvetica,sans-serif; font-size:12; text-anchor:end;\" transform=\"rotate(0, 23.4661, 26.6143)\" x=\"23.4661\" y=\"26.6143\">0</text>\n",
       "</g>\n",
       "<polyline clip-path=\"url(#clip7602)\" style=\"stroke:#009af9; stroke-width:1; stroke-opacity:1; fill:none\" points=\"\n",
       "  45.0562,365.565 45.5764,363.635 46.0966,361.71 46.6168,359.793 47.137,357.881 47.6571,355.976 48.1773,354.078 48.6975,352.186 49.2177,350.3 49.7379,348.421 \n",
       "  50.2581,346.548 50.7783,344.681 51.2985,342.821 51.8187,340.967 52.3388,339.12 52.859,337.279 53.3792,335.444 53.8994,333.616 54.4196,331.793 54.9398,329.978 \n",
       "  55.46,328.168 55.9802,326.365 56.5004,324.568 57.0205,322.777 57.5407,320.993 58.0609,319.214 58.5811,317.443 59.1013,315.677 59.6215,313.917 60.1417,312.164 \n",
       "  60.6619,310.417 61.1821,308.676 61.7022,306.942 62.2224,305.213 62.7426,303.491 63.2628,301.775 63.783,300.065 64.3032,298.362 64.8234,296.664 65.3436,294.973 \n",
       "  65.8638,293.287 66.3839,291.608 66.9041,289.935 67.4243,288.268 67.9445,286.607 68.4647,284.953 68.9849,283.304 69.5051,281.662 70.0253,280.025 70.5455,278.395 \n",
       "  71.0656,276.77 71.5858,275.152 72.106,273.54 72.6262,271.934 73.1464,270.334 73.6666,268.739 74.1868,267.151 74.707,265.569 75.2272,263.993 75.7473,262.423 \n",
       "  76.2675,260.858 76.7877,259.3 77.3079,257.748 77.8281,256.202 78.3483,254.661 78.8685,253.127 79.3887,251.598 79.9089,250.076 80.429,248.559 80.9492,247.048 \n",
       "  81.4694,245.543 81.9896,244.044 82.5098,242.551 83.03,241.064 83.5502,239.583 84.0704,238.107 84.5906,236.637 85.1107,235.174 85.6309,233.715 86.1511,232.263 \n",
       "  86.6713,230.817 87.1915,229.376 87.7117,227.942 88.2319,226.513 88.7521,225.089 89.2723,223.672 89.7924,222.26 90.3126,220.854 90.8328,219.454 91.353,218.06 \n",
       "  91.8732,216.671 92.3934,215.288 92.9136,213.911 93.4338,212.539 93.954,211.174 94.4741,209.814 94.9943,208.459 95.5145,207.11 96.0347,205.767 96.5549,204.43 \n",
       "  97.0751,203.098 97.5953,201.772 98.1155,200.451 98.6357,199.137 99.1558,197.827 99.676,196.524 100.196,195.226 100.716,193.933 101.237,192.646 101.757,191.365 \n",
       "  102.277,190.089 102.797,188.819 103.317,187.555 103.838,186.296 104.358,185.042 104.878,183.794 105.398,182.552 105.918,181.315 106.438,180.084 106.959,178.858 \n",
       "  107.479,177.637 107.999,176.422 108.519,175.213 109.039,174.009 109.56,172.81 110.08,171.617 110.6,170.43 111.12,169.247 111.64,168.071 112.161,166.899 \n",
       "  112.681,165.733 113.201,164.573 113.721,163.418 114.241,162.268 114.762,161.124 115.282,159.985 115.802,158.851 116.322,157.723 116.842,156.6 117.362,155.482 \n",
       "  117.883,154.37 118.403,153.263 118.923,152.161 119.443,151.065 119.963,149.974 120.484,148.888 121.004,147.808 121.524,146.733 122.044,145.663 122.564,144.598 \n",
       "  123.085,143.539 123.605,142.484 124.125,141.436 124.645,140.392 125.165,139.353 125.685,138.32 126.206,137.292 126.726,136.269 127.246,135.251 127.766,134.239 \n",
       "  128.286,133.232 128.807,132.229 129.327,131.232 129.847,130.24 130.367,129.254 130.887,128.272 131.408,127.296 131.928,126.324 132.448,125.358 132.968,124.397 \n",
       "  133.488,123.44 134.008,122.489 134.529,121.544 135.049,120.603 135.569,119.667 136.089,118.736 136.609,117.81 137.13,116.89 137.65,115.974 138.17,115.063 \n",
       "  138.69,114.157 139.21,113.257 139.731,112.361 140.251,111.47 140.771,110.585 141.291,109.704 141.811,108.828 142.332,107.957 142.852,107.091 143.372,106.23 \n",
       "  143.892,105.374 144.412,104.523 144.932,103.677 145.453,102.836 145.973,101.999 146.493,101.168 147.013,100.341 147.533,99.5193 148.054,98.7024 148.574,97.8903 \n",
       "  149.094,97.0831 149.614,96.2807 150.134,95.4832 150.655,94.6904 151.175,93.9025 151.695,93.1194 152.215,92.3411 152.735,91.5676 153.255,90.7988 153.776,90.0348 \n",
       "  154.296,89.2756 154.816,88.5212 155.336,87.7715 155.856,87.0265 156.377,86.2863 156.897,85.5508 157.417,84.82 157.937,84.0939 158.457,83.3726 158.978,82.6559 \n",
       "  159.498,81.9439 160.018,81.2366 160.538,80.5339 161.058,79.8359 161.579,79.1426 162.099,78.4539 162.619,77.7698 163.139,77.0904 163.659,76.4156 164.179,75.7454 \n",
       "  164.7,75.0798 165.22,74.4188 165.74,73.7624 166.26,73.1105 166.78,72.4633 167.301,71.8206 167.821,71.1824 168.341,70.5488 168.861,69.9197 169.381,69.2952 \n",
       "  169.902,68.6752 170.422,68.0597 170.942,67.4487 171.462,66.8423 171.982,66.2403 172.502,65.6427 173.023,65.0497 173.543,64.4611 174.063,63.877 174.583,63.2974 \n",
       "  175.103,62.7221 175.624,62.1514 176.144,61.585 176.664,61.0231 177.184,60.4655 177.704,59.9124 178.225,59.3637 178.745,58.8193 179.265,58.2793 179.785,57.7437 \n",
       "  180.305,57.2125 180.825,56.6856 181.346,56.1631 181.866,55.6449 182.386,55.131 182.906,54.6214 183.426,54.1162 183.947,53.6152 184.467,53.1186 184.987,52.6263 \n",
       "  185.507,52.1382 186.027,51.6544 186.548,51.1748 187.068,50.6996 187.588,50.2285 188.108,49.7618 188.628,49.2992 189.149,48.8409 189.669,48.3868 190.189,47.9368 \n",
       "  190.709,47.4911 191.229,47.0496 191.749,46.6123 192.27,46.1791 192.79,45.7501 193.31,45.3253 193.83,44.9046 194.35,44.4881 194.871,44.0757 195.391,43.6674 \n",
       "  195.911,43.2633 196.431,42.8632 196.951,42.4673 197.472,42.0755 197.992,41.6877 198.512,41.304 199.032,40.9244 199.552,40.5489 200.072,40.1774 200.593,39.81 \n",
       "  201.113,39.4466 201.633,39.0872 202.153,38.7318 202.673,38.3805 203.194,38.0332 203.714,37.6898 204.234,37.3505 204.754,37.0151 205.274,36.6837 205.795,36.3563 \n",
       "  206.315,36.0329 206.835,35.7134 207.355,35.3978 207.875,35.0861 208.396,34.7784 208.916,34.4746 209.436,34.1748 209.956,33.8788 210.476,33.5867 210.996,33.2985 \n",
       "  211.517,33.0141 212.037,32.7337 212.557,32.4571 213.077,32.1843 213.597,31.9154 214.118,31.6504 214.638,31.3891 215.158,31.1317 215.678,30.8781 216.198,30.6283 \n",
       "  216.719,30.3823 217.239,30.1401 217.759,29.9017 218.279,29.667 218.799,29.4361 219.319,29.209 219.84,28.9856 220.36,28.7659 220.88,28.55 221.4,28.3378 \n",
       "  221.92,28.1293 222.441,27.9246 222.961,27.7235 223.481,27.5261 224.001,27.3324 224.521,27.1424 225.042,26.956 225.562,26.7733 226.082,26.5943 226.602,26.4189 \n",
       "  227.122,26.2471 227.642,26.0789 228.163,25.9144 228.683,25.7535 229.203,25.5962 229.723,25.4425 230.243,25.2923 230.764,25.1458 231.284,25.0028 231.804,24.8634 \n",
       "  232.324,24.7275 232.844,24.5952 233.365,24.4664 233.885,24.3412 234.405,24.2194 234.925,24.1012 235.445,23.9865 235.966,23.8753 236.486,23.7676 237.006,23.6633 \n",
       "  237.526,23.5626 238.046,23.4653 238.566,23.3714 239.087,23.281 239.607,23.1941 240.127,23.1105 240.647,23.0304 241.167,22.9538 241.688,22.8805 242.208,22.8106 \n",
       "  242.728,22.7441 243.248,22.681 243.768,22.6213 244.289,22.565 244.809,22.512 245.329,22.4623 245.849,22.416 246.369,22.3731 246.889,22.3335 247.41,22.2971 \n",
       "  247.93,22.2641 248.45,22.2344 248.97,22.2081 249.49,22.1849 250.011,22.1651 250.531,22.1485 251.051,22.1353 251.571,22.1252 252.091,22.1184 252.612,22.1149 \n",
       "  253.132,22.1145 253.652,22.1174 254.172,22.1236 254.692,22.1329 255.213,22.1454 255.733,22.1611 256.253,22.18 256.773,22.2021 257.293,22.2273 257.813,22.2557 \n",
       "  258.334,22.2872 258.854,22.3219 259.374,22.3598 259.894,22.4007 260.414,22.4448 260.935,22.4919 261.455,22.5422 261.975,22.5956 262.495,22.652 263.015,22.7116 \n",
       "  263.536,22.7742 264.056,22.8399 264.576,22.9086 265.096,22.9803 265.616,23.0551 266.136,23.133 266.657,23.2138 267.177,23.2977 267.697,23.3846 268.217,23.4744 \n",
       "  268.737,23.5673 269.258,23.6631 269.778,23.7619 270.298,23.8637 270.818,23.9684 271.338,24.0761 271.859,24.1867 272.379,24.3003 272.899,24.4168 273.419,24.5362 \n",
       "  273.939,24.6585 274.459,24.7837 274.98,24.9118 275.5,25.0427 276.02,25.1766 276.54,25.3133 277.06,25.4529 277.581,25.5953 278.101,25.7406 278.621,25.8887 \n",
       "  279.141,26.0397 279.661,26.1934 280.182,26.35 280.702,26.5094 281.222,26.6715 281.742,26.8365 282.262,27.0042 282.783,27.1747 283.303,27.348 283.823,27.524 \n",
       "  284.343,27.7028 284.863,27.8843 285.383,28.0686 285.904,28.2555 286.424,28.4452 286.944,28.6376 287.464,28.8327 287.984,29.0304 288.505,29.2309 289.025,29.434 \n",
       "  289.545,29.6398 290.065,29.8483 290.585,30.0594 291.106,30.2731 291.626,30.4895 292.146,30.7085 292.666,30.9301 293.186,31.1543 293.706,31.3812 294.227,31.6106 \n",
       "  294.747,31.8426 295.267,32.0772 295.787,32.3143 296.307,32.5541 296.828,32.7963 297.348,33.0411 297.868,33.2885 298.388,33.5384 298.908,33.7908 299.429,34.0457 \n",
       "  299.949,34.3031 300.469,34.563 300.989,34.8254 301.509,35.0903 302.03,35.3577 302.55,35.6275 303.07,35.8998 303.59,36.1745 304.11,36.4516 304.63,36.7312 \n",
       "  305.151,37.0133 305.671,37.2977 306.191,37.5845 306.711,37.8738 307.231,38.1654 307.752,38.4594 308.272,38.7558 308.792,39.0546 309.312,39.3557 309.832,39.6592 \n",
       "  310.353,39.965 310.873,40.2731 311.393,40.5836 311.913,40.8964 312.433,41.2115 312.953,41.5289 313.474,41.8486 313.994,42.1706 314.514,42.4948 315.034,42.8214 \n",
       "  315.554,43.1502 316.075,43.4812 316.595,43.8145 317.115,44.1501 317.635,44.4878 318.155,44.8278 318.676,45.17 319.196,45.5144 319.716,45.861 320.236,46.2098 \n",
       "  320.756,46.5608 321.276,46.914 321.797,47.2693 322.317,47.6268 322.837,47.9864 323.357,48.3481 323.877,48.712 324.398,49.0781 324.918,49.4462 325.438,49.8164 \n",
       "  325.958,50.1888 326.478,50.5632 326.999,50.9398 327.519,51.3184 328.039,51.699 328.559,52.0818 329.079,52.4666 329.6,52.8534 330.12,53.2422 330.64,53.6331 \n",
       "  331.16,54.0261 331.68,54.421 332.2,54.8179 332.721,55.2168 333.241,55.6177 333.761,56.0206 334.281,56.4255 334.801,56.8323 335.322,57.2411 335.842,57.6518 \n",
       "  336.362,58.0645 336.882,58.4791 337.402,58.8956 337.923,59.3141 338.443,59.7344 338.963,60.1567 339.483,60.5808 340.003,61.0068 340.523,61.4347 341.044,61.8645 \n",
       "  341.564,62.2961 342.084,62.7296 342.604,63.1649 343.124,63.602 343.645,64.041 344.165,64.4818 344.685,64.9244 345.205,65.3688 345.725,65.815 346.246,66.263 \n",
       "  346.766,66.7127 347.286,67.1643 347.806,67.6175 348.326,68.0726 348.847,68.5294 349.367,68.9879 349.887,69.4482 350.407,69.9101 350.927,70.3738 351.447,70.8392 \n",
       "  351.968,71.3063 352.488,71.7751 353.008,72.2456 353.528,72.7177 354.048,73.1915 354.569,73.667 355.089,74.1441 355.609,74.6228 356.129,75.1032 356.649,75.5852 \n",
       "  357.17,76.0689 357.69,76.5541 358.21,77.0409 358.73,77.5293 359.25,78.0193 359.77,78.5109 360.291,79.0041 360.811,79.4988 361.331,79.995 361.851,80.4929 \n",
       "  362.371,80.9922 362.892,81.4931 363.412,81.9955 363.932,82.4994 364.452,83.0048 364.972,83.5117 365.493,84.02 366.013,84.5299 366.533,85.0412 367.053,85.554 \n",
       "  367.573,86.0683 368.093,86.584 368.614,87.1011 369.134,87.6197 369.654,88.1397 370.174,88.6611 370.694,89.1839 371.215,89.7081 371.735,90.2337 372.255,90.7607 \n",
       "  372.775,91.2891 373.295,91.8188 373.816,92.3499 374.336,92.8823 374.856,93.4161 375.376,93.9512 375.896,94.4876 376.417,95.0254 376.937,95.5645 377.457,96.1048 \n",
       "  377.977,96.6465 378.497,97.1894 379.017,97.7336 379.538,98.2791 380.058,98.8259 380.578,99.3739 381.098,99.9231 381.618,100.474 382.139,101.025 382.659,101.578 \n",
       "  383.179,102.132 383.699,102.688 384.219,103.244 384.74,103.802 385.26,104.361 385.78,104.921 386.3,105.482 386.82,106.045 387.34,106.608 387.861,107.173 \n",
       "  388.381,107.739 388.901,108.306 389.421,108.874 389.941,109.443 390.462,110.013 390.982,110.585 391.502,111.157 392.022,111.731 392.542,112.305 393.063,112.881 \n",
       "  393.583,113.458 394.103,114.035 394.623,114.614 395.143,115.194 395.664,115.775 396.184,116.357 396.704,116.939 397.224,117.523 397.744,118.108 398.264,118.694 \n",
       "  398.785,119.281 399.305,119.868 399.825,120.457 400.345,121.047 400.865,121.637 401.386,122.229 401.906,122.821 402.426,123.415 402.946,124.009 403.466,124.604 \n",
       "  403.987,125.2 404.507,125.797 405.027,126.395 405.547,126.993 406.067,127.593 406.587,128.193 407.108,128.794 407.628,129.396 408.148,129.999 408.668,130.603 \n",
       "  409.188,131.208 409.709,131.813 410.229,132.419 410.749,133.026 411.269,133.633 411.789,134.242 412.31,134.851 412.83,135.461 413.35,136.072 413.87,136.683 \n",
       "  414.39,137.295 414.91,137.908 415.431,138.522 415.951,139.136 416.471,139.751 416.991,140.366 417.511,140.983 418.032,141.6 418.552,142.217 419.072,142.836 \n",
       "  419.592,143.455 420.112,144.074 420.633,144.695 421.153,145.315 421.673,145.937 422.193,146.559 422.713,147.182 423.234,147.805 423.754,148.429 424.274,149.053 \n",
       "  424.794,149.678 425.314,150.304 425.834,150.93 426.355,151.557 426.875,152.184 427.395,152.812 427.915,153.44 428.435,154.068 428.956,154.698 429.476,155.327 \n",
       "  429.996,155.958 430.516,156.588 431.036,157.22 431.557,157.851 432.077,158.483 432.597,159.116 433.117,159.749 433.637,160.382 434.157,161.016 434.678,161.65 \n",
       "  435.198,162.285 435.718,162.92 436.238,163.555 436.758,164.191 437.279,164.827 437.799,165.464 438.319,166.101 438.839,166.738 439.359,167.376 439.88,168.014 \n",
       "  440.4,168.652 440.92,169.29 441.44,169.929 441.96,170.568 442.481,171.208 443.001,171.848 443.521,172.488 444.041,173.128 444.561,173.769 445.081,174.409 \n",
       "  445.602,175.05 446.122,175.692 446.642,176.333 447.162,176.975 447.682,177.617 448.203,178.259 448.723,178.901 449.243,179.544 449.763,180.187 450.283,180.83 \n",
       "  450.804,181.473 451.324,182.116 451.844,182.759 452.364,183.403 452.884,184.046 453.404,184.69 453.925,185.334 454.445,185.978 454.965,186.622 455.485,187.266 \n",
       "  456.005,187.91 456.526,188.555 457.046,189.199 457.566,189.843 458.086,190.488 458.606,191.132 459.127,191.777 459.647,192.422 460.167,193.066 460.687,193.711 \n",
       "  461.207,194.355 461.727,195 462.248,195.645 462.768,196.289 463.288,196.934 463.808,197.578 464.328,198.223 464.849,198.867 465.369,199.511 465.889,200.156 \n",
       "  466.409,200.8 466.929,201.444 467.45,202.088 467.97,202.732 468.49,203.376 469.01,204.019 469.53,204.663 470.051,205.306 470.571,205.95 471.091,206.593 \n",
       "  471.611,207.236 472.131,207.878 472.651,208.521 473.172,209.163 473.692,209.806 474.212,210.448 474.732,211.09 475.252,211.731 475.773,212.372 476.293,213.014 \n",
       "  476.813,213.655 477.333,214.295 477.853,214.936 478.374,215.576 478.894,216.216 479.414,216.855 479.934,217.494 480.454,218.133 480.974,218.772 481.495,219.411 \n",
       "  482.015,220.049 482.535,220.686 483.055,221.324 483.575,221.961 484.096,222.597 484.616,223.234 485.136,223.87 485.656,224.505 486.176,225.141 486.697,225.775 \n",
       "  487.217,226.41 487.737,227.044 488.257,227.677 488.777,228.31 489.298,228.943 489.818,229.575 490.338,230.207 490.858,230.839 491.378,231.47 491.898,232.1 \n",
       "  492.419,232.73 492.939,233.359 493.459,233.988 493.979,234.617 494.499,235.245 495.02,235.872 495.54,236.499 496.06,237.125 496.58,237.751 497.1,238.376 \n",
       "  497.621,239.001 498.141,239.625 498.661,240.249 499.181,240.871 499.701,241.494 500.221,242.115 500.742,242.737 501.262,243.357 501.782,243.977 502.302,244.596 \n",
       "  502.822,245.215 503.343,245.833 503.863,246.45 504.383,247.067 504.903,247.683 505.423,248.298 505.944,248.912 506.464,249.526 506.984,250.139 507.504,250.752 \n",
       "  508.024,251.363 508.544,251.974 509.065,252.585 509.585,253.194 510.105,253.803 510.625,254.411 511.145,255.018 511.666,255.624 512.186,256.23 512.706,256.835 \n",
       "  513.226,257.439 513.746,258.042 514.267,258.644 514.787,259.246 515.307,259.847 515.827,260.446 516.347,261.045 516.868,261.644 517.388,262.241 517.908,262.837 \n",
       "  518.428,263.433 518.948,264.027 519.468,264.621 519.989,265.214 520.509,265.806 521.029,266.397 521.549,266.987 522.069,267.576 522.59,268.164 523.11,268.751 \n",
       "  523.63,269.337 524.15,269.922 524.67,270.507 525.191,271.09 525.711,271.672 526.231,272.253 526.751,272.834 527.271,273.413 527.791,273.991 528.312,274.568 \n",
       "  528.832,275.144 529.352,275.719 529.872,276.293 530.392,276.866 530.913,277.438 531.433,278.008 531.953,278.578 532.473,279.147 532.993,279.714 533.514,280.28 \n",
       "  534.034,280.845 534.554,281.409 535.074,281.972 535.594,282.534 536.115,283.095 536.635,283.654 537.155,284.212 537.675,284.769 538.195,285.325 538.715,285.88 \n",
       "  539.236,286.433 539.756,286.985 540.276,287.536 540.796,288.086 541.316,288.635 541.837,289.182 542.357,289.728 542.877,290.272 543.397,290.816 543.917,291.358 \n",
       "  544.438,291.899 544.958,292.439 545.478,292.977 545.998,293.514 546.518,294.049 547.038,294.584 547.559,295.117 548.079,295.648 548.599,296.179 549.119,296.708 \n",
       "  549.639,297.235 550.16,297.761 550.68,298.286 551.2,298.809 551.72,299.331 552.24,299.852 552.761,300.371 553.281,300.889 553.801,301.405 554.321,301.92 \n",
       "  554.841,302.433 555.361,302.945 555.882,303.456 556.402,303.965 556.922,304.472 557.442,304.978 557.962,305.483 558.483,305.986 559.003,306.487 559.523,306.987 \n",
       "  560.043,307.485 560.563,307.982 561.084,308.478 561.604,308.971 562.124,309.464 562.644,309.954 563.164,310.443 563.685,310.931 564.205,311.417 564.725,311.901 \n",
       "  \n",
       "  \"/>\n",
       "<circle clip-path=\"url(#clip7602)\" style=\"fill:#000000; stroke:none; fill-opacity:1\" cx=\"45.0562\" cy=\"365.565\" r=\"1\"/>\n",
       "<line clip-path=\"url(#clip7602)\" x1=\"45.0562\" y1=\"365.565\" x2=\"46.0562\" y2=\"365.565\" style=\"stroke:#e26f46; stroke-opacity:1\"/>\n",
       "<circle clip-path=\"url(#clip7602)\" style=\"fill:#000000; stroke:none; fill-opacity:1\" cx=\"45.5785\" cy=\"363.627\" r=\"1\"/>\n",
       "<line clip-path=\"url(#clip7602)\" x1=\"45.5785\" y1=\"363.627\" x2=\"46.5785\" y2=\"363.627\" style=\"stroke:#e26f46; stroke-opacity:1\"/>\n",
       "<circle clip-path=\"url(#clip7602)\" style=\"fill:#000000; stroke:none; fill-opacity:1\" cx=\"46.1008\" cy=\"361.695\" r=\"1\"/>\n",
       "<line clip-path=\"url(#clip7602)\" x1=\"46.1008\" y1=\"361.695\" x2=\"47.1008\" y2=\"361.695\" style=\"stroke:#e26f46; stroke-opacity:1\"/>\n",
       "<circle clip-path=\"url(#clip7602)\" style=\"fill:#000000; stroke:none; fill-opacity:1\" cx=\"46.623\" cy=\"359.77\" r=\"1\"/>\n",
       "<line clip-path=\"url(#clip7602)\" x1=\"46.623\" y1=\"359.77\" x2=\"47.623\" y2=\"359.77\" style=\"stroke:#e26f46; stroke-opacity:1\"/>\n",
       "<circle clip-path=\"url(#clip7602)\" style=\"fill:#000000; stroke:none; fill-opacity:1\" cx=\"47.1453\" cy=\"357.851\" r=\"1\"/>\n",
       "<line clip-path=\"url(#clip7602)\" x1=\"47.1453\" y1=\"357.851\" x2=\"48.1453\" y2=\"357.851\" style=\"stroke:#e26f46; stroke-opacity:1\"/>\n",
       "<circle clip-path=\"url(#clip7602)\" style=\"fill:#000000; stroke:none; fill-opacity:1\" cx=\"47.6676\" cy=\"355.938\" r=\"1\"/>\n",
       "<line clip-path=\"url(#clip7602)\" x1=\"47.6676\" y1=\"355.938\" x2=\"48.6676\" y2=\"355.938\" style=\"stroke:#e26f46; stroke-opacity:1\"/>\n",
       "<circle clip-path=\"url(#clip7602)\" style=\"fill:#000000; stroke:none; fill-opacity:1\" cx=\"48.1899\" cy=\"354.032\" r=\"1\"/>\n",
       "<line clip-path=\"url(#clip7602)\" x1=\"48.1899\" y1=\"354.032\" x2=\"49.1899\" y2=\"354.032\" style=\"stroke:#e26f46; stroke-opacity:1\"/>\n",
       "<circle clip-path=\"url(#clip7602)\" style=\"fill:#000000; stroke:none; fill-opacity:1\" cx=\"48.7122\" cy=\"352.133\" r=\"1\"/>\n",
       "<line clip-path=\"url(#clip7602)\" x1=\"48.7122\" y1=\"352.133\" x2=\"49.7122\" y2=\"352.133\" style=\"stroke:#e26f46; stroke-opacity:1\"/>\n",
       "<circle clip-path=\"url(#clip7602)\" style=\"fill:#000000; stroke:none; fill-opacity:1\" cx=\"49.2344\" cy=\"350.24\" r=\"1\"/>\n",
       "<line clip-path=\"url(#clip7602)\" x1=\"49.2344\" y1=\"350.24\" x2=\"50.2344\" y2=\"350.24\" style=\"stroke:#e26f46; stroke-opacity:1\"/>\n",
       "<circle clip-path=\"url(#clip7602)\" style=\"fill:#000000; stroke:none; fill-opacity:1\" cx=\"49.7567\" cy=\"348.353\" r=\"1\"/>\n",
       "<line clip-path=\"url(#clip7602)\" x1=\"49.7567\" y1=\"348.353\" x2=\"50.7567\" y2=\"348.353\" style=\"stroke:#e26f46; stroke-opacity:1\"/>\n",
       "<circle clip-path=\"url(#clip7602)\" style=\"fill:#000000; stroke:none; fill-opacity:1\" cx=\"50.279\" cy=\"346.473\" r=\"1\"/>\n",
       "<line clip-path=\"url(#clip7602)\" x1=\"50.279\" y1=\"346.473\" x2=\"51.279\" y2=\"346.473\" style=\"stroke:#e26f46; stroke-opacity:1\"/>\n",
       "<circle clip-path=\"url(#clip7602)\" style=\"fill:#000000; stroke:none; fill-opacity:1\" cx=\"50.8013\" cy=\"344.599\" r=\"1\"/>\n",
       "<line clip-path=\"url(#clip7602)\" x1=\"50.8013\" y1=\"344.599\" x2=\"51.8013\" y2=\"344.599\" style=\"stroke:#e26f46; stroke-opacity:1\"/>\n",
       "<circle clip-path=\"url(#clip7602)\" style=\"fill:#000000; stroke:none; fill-opacity:1\" cx=\"51.3236\" cy=\"342.732\" r=\"1\"/>\n",
       "<line clip-path=\"url(#clip7602)\" x1=\"51.3236\" y1=\"342.732\" x2=\"52.3236\" y2=\"342.732\" style=\"stroke:#e26f46; stroke-opacity:1\"/>\n",
       "<circle clip-path=\"url(#clip7602)\" style=\"fill:#000000; stroke:none; fill-opacity:1\" cx=\"51.8458\" cy=\"340.871\" r=\"1\"/>\n",
       "<line clip-path=\"url(#clip7602)\" x1=\"51.8458\" y1=\"340.871\" x2=\"52.8458\" y2=\"340.871\" style=\"stroke:#e26f46; stroke-opacity:1\"/>\n",
       "<circle clip-path=\"url(#clip7602)\" style=\"fill:#000000; stroke:none; fill-opacity:1\" cx=\"52.3681\" cy=\"339.016\" r=\"1\"/>\n",
       "<line clip-path=\"url(#clip7602)\" x1=\"52.3681\" y1=\"339.016\" x2=\"53.3681\" y2=\"339.016\" style=\"stroke:#e26f46; stroke-opacity:1\"/>\n",
       "<circle clip-path=\"url(#clip7602)\" style=\"fill:#000000; stroke:none; fill-opacity:1\" cx=\"52.8904\" cy=\"337.168\" r=\"1\"/>\n",
       "<line clip-path=\"url(#clip7602)\" x1=\"52.8904\" y1=\"337.168\" x2=\"53.8904\" y2=\"337.168\" style=\"stroke:#e26f46; stroke-opacity:1\"/>\n",
       "<circle clip-path=\"url(#clip7602)\" style=\"fill:#000000; stroke:none; fill-opacity:1\" cx=\"53.4127\" cy=\"335.326\" r=\"1\"/>\n",
       "<line clip-path=\"url(#clip7602)\" x1=\"53.4127\" y1=\"335.326\" x2=\"54.4127\" y2=\"335.326\" style=\"stroke:#e26f46; stroke-opacity:1\"/>\n",
       "<circle clip-path=\"url(#clip7602)\" style=\"fill:#000000; stroke:none; fill-opacity:1\" cx=\"53.935\" cy=\"333.491\" r=\"1\"/>\n",
       "<line clip-path=\"url(#clip7602)\" x1=\"53.935\" y1=\"333.491\" x2=\"54.935\" y2=\"333.491\" style=\"stroke:#e26f46; stroke-opacity:1\"/>\n",
       "<circle clip-path=\"url(#clip7602)\" style=\"fill:#000000; stroke:none; fill-opacity:1\" cx=\"54.4572\" cy=\"331.662\" r=\"1\"/>\n",
       "<line clip-path=\"url(#clip7602)\" x1=\"54.4572\" y1=\"331.662\" x2=\"55.4572\" y2=\"331.662\" style=\"stroke:#e26f46; stroke-opacity:1\"/>\n",
       "<circle clip-path=\"url(#clip7602)\" style=\"fill:#000000; stroke:none; fill-opacity:1\" cx=\"54.9795\" cy=\"329.839\" r=\"1\"/>\n",
       "<line clip-path=\"url(#clip7602)\" x1=\"54.9795\" y1=\"329.839\" x2=\"55.9795\" y2=\"329.839\" style=\"stroke:#e26f46; stroke-opacity:1\"/>\n",
       "<circle clip-path=\"url(#clip7602)\" style=\"fill:#000000; stroke:none; fill-opacity:1\" cx=\"55.5018\" cy=\"328.023\" r=\"1\"/>\n",
       "<line clip-path=\"url(#clip7602)\" x1=\"55.5018\" y1=\"328.023\" x2=\"56.5018\" y2=\"328.023\" style=\"stroke:#e26f46; stroke-opacity:1\"/>\n",
       "<circle clip-path=\"url(#clip7602)\" style=\"fill:#000000; stroke:none; fill-opacity:1\" cx=\"56.0241\" cy=\"326.213\" r=\"1\"/>\n",
       "<line clip-path=\"url(#clip7602)\" x1=\"56.0241\" y1=\"326.213\" x2=\"57.0241\" y2=\"326.213\" style=\"stroke:#e26f46; stroke-opacity:1\"/>\n",
       "<circle clip-path=\"url(#clip7602)\" style=\"fill:#000000; stroke:none; fill-opacity:1\" cx=\"56.5464\" cy=\"324.409\" r=\"1\"/>\n",
       "<line clip-path=\"url(#clip7602)\" x1=\"56.5464\" y1=\"324.409\" x2=\"57.5464\" y2=\"324.409\" style=\"stroke:#e26f46; stroke-opacity:1\"/>\n",
       "<circle clip-path=\"url(#clip7602)\" style=\"fill:#000000; stroke:none; fill-opacity:1\" cx=\"57.0686\" cy=\"322.612\" r=\"1\"/>\n",
       "<line clip-path=\"url(#clip7602)\" x1=\"57.0686\" y1=\"322.612\" x2=\"58.0686\" y2=\"322.612\" style=\"stroke:#e26f46; stroke-opacity:1\"/>\n",
       "<circle clip-path=\"url(#clip7602)\" style=\"fill:#000000; stroke:none; fill-opacity:1\" cx=\"57.5909\" cy=\"320.821\" r=\"1\"/>\n",
       "<line clip-path=\"url(#clip7602)\" x1=\"57.5909\" y1=\"320.821\" x2=\"58.5909\" y2=\"320.821\" style=\"stroke:#e26f46; stroke-opacity:1\"/>\n",
       "<circle clip-path=\"url(#clip7602)\" style=\"fill:#000000; stroke:none; fill-opacity:1\" cx=\"58.1132\" cy=\"319.036\" r=\"1\"/>\n",
       "<line clip-path=\"url(#clip7602)\" x1=\"58.1132\" y1=\"319.036\" x2=\"59.1132\" y2=\"319.036\" style=\"stroke:#e26f46; stroke-opacity:1\"/>\n",
       "<circle clip-path=\"url(#clip7602)\" style=\"fill:#000000; stroke:none; fill-opacity:1\" cx=\"58.6355\" cy=\"317.258\" r=\"1\"/>\n",
       "<line clip-path=\"url(#clip7602)\" x1=\"58.6355\" y1=\"317.258\" x2=\"59.6355\" y2=\"317.258\" style=\"stroke:#e26f46; stroke-opacity:1\"/>\n",
       "<circle clip-path=\"url(#clip7602)\" style=\"fill:#000000; stroke:none; fill-opacity:1\" cx=\"59.1578\" cy=\"315.486\" r=\"1\"/>\n",
       "<line clip-path=\"url(#clip7602)\" x1=\"59.1578\" y1=\"315.486\" x2=\"60.1578\" y2=\"315.486\" style=\"stroke:#e26f46; stroke-opacity:1\"/>\n",
       "<circle clip-path=\"url(#clip7602)\" style=\"fill:#000000; stroke:none; fill-opacity:1\" cx=\"59.68\" cy=\"313.72\" r=\"1\"/>\n",
       "<line clip-path=\"url(#clip7602)\" x1=\"59.68\" y1=\"313.72\" x2=\"60.68\" y2=\"313.72\" style=\"stroke:#e26f46; stroke-opacity:1\"/>\n",
       "<circle clip-path=\"url(#clip7602)\" style=\"fill:#000000; stroke:none; fill-opacity:1\" cx=\"60.2023\" cy=\"311.96\" r=\"1\"/>\n",
       "<line clip-path=\"url(#clip7602)\" x1=\"60.2023\" y1=\"311.96\" x2=\"61.2023\" y2=\"311.96\" style=\"stroke:#e26f46; stroke-opacity:1\"/>\n",
       "<circle clip-path=\"url(#clip7602)\" style=\"fill:#000000; stroke:none; fill-opacity:1\" cx=\"60.7246\" cy=\"310.207\" r=\"1\"/>\n",
       "<line clip-path=\"url(#clip7602)\" x1=\"60.7246\" y1=\"310.207\" x2=\"61.7246\" y2=\"310.207\" style=\"stroke:#e26f46; stroke-opacity:1\"/>\n",
       "<circle clip-path=\"url(#clip7602)\" style=\"fill:#000000; stroke:none; fill-opacity:1\" cx=\"61.2469\" cy=\"308.46\" r=\"1\"/>\n",
       "<line clip-path=\"url(#clip7602)\" x1=\"61.2469\" y1=\"308.46\" x2=\"62.2469\" y2=\"308.46\" style=\"stroke:#e26f46; stroke-opacity:1\"/>\n",
       "<circle clip-path=\"url(#clip7602)\" style=\"fill:#000000; stroke:none; fill-opacity:1\" cx=\"61.7692\" cy=\"306.719\" r=\"1\"/>\n",
       "<line clip-path=\"url(#clip7602)\" x1=\"61.7692\" y1=\"306.719\" x2=\"62.7692\" y2=\"306.719\" style=\"stroke:#e26f46; stroke-opacity:1\"/>\n",
       "<circle clip-path=\"url(#clip7602)\" style=\"fill:#000000; stroke:none; fill-opacity:1\" cx=\"62.2914\" cy=\"304.985\" r=\"1\"/>\n",
       "<line clip-path=\"url(#clip7602)\" x1=\"62.2914\" y1=\"304.985\" x2=\"63.2914\" y2=\"304.985\" style=\"stroke:#e26f46; stroke-opacity:1\"/>\n",
       "<circle clip-path=\"url(#clip7602)\" style=\"fill:#000000; stroke:none; fill-opacity:1\" cx=\"62.8137\" cy=\"303.256\" r=\"1\"/>\n",
       "<line clip-path=\"url(#clip7602)\" x1=\"62.8137\" y1=\"303.256\" x2=\"63.8137\" y2=\"303.256\" style=\"stroke:#e26f46; stroke-opacity:1\"/>\n",
       "<circle clip-path=\"url(#clip7602)\" style=\"fill:#000000; stroke:none; fill-opacity:1\" cx=\"63.336\" cy=\"301.534\" r=\"1\"/>\n",
       "<line clip-path=\"url(#clip7602)\" x1=\"63.336\" y1=\"301.534\" x2=\"64.336\" y2=\"301.534\" style=\"stroke:#e26f46; stroke-opacity:1\"/>\n",
       "<circle clip-path=\"url(#clip7602)\" style=\"fill:#000000; stroke:none; fill-opacity:1\" cx=\"63.8583\" cy=\"299.818\" r=\"1\"/>\n",
       "<line clip-path=\"url(#clip7602)\" x1=\"63.8583\" y1=\"299.818\" x2=\"64.8583\" y2=\"299.818\" style=\"stroke:#e26f46; stroke-opacity:1\"/>\n",
       "<circle clip-path=\"url(#clip7602)\" style=\"fill:#000000; stroke:none; fill-opacity:1\" cx=\"64.3806\" cy=\"298.109\" r=\"1\"/>\n",
       "<line clip-path=\"url(#clip7602)\" x1=\"64.3806\" y1=\"298.109\" x2=\"65.3806\" y2=\"298.109\" style=\"stroke:#e26f46; stroke-opacity:1\"/>\n",
       "<circle clip-path=\"url(#clip7602)\" style=\"fill:#000000; stroke:none; fill-opacity:1\" cx=\"64.9028\" cy=\"296.405\" r=\"1\"/>\n",
       "<line clip-path=\"url(#clip7602)\" x1=\"64.9028\" y1=\"296.405\" x2=\"65.9028\" y2=\"296.405\" style=\"stroke:#e26f46; stroke-opacity:1\"/>\n",
       "<circle clip-path=\"url(#clip7602)\" style=\"fill:#000000; stroke:none; fill-opacity:1\" cx=\"65.4251\" cy=\"294.708\" r=\"1\"/>\n",
       "<line clip-path=\"url(#clip7602)\" x1=\"65.4251\" y1=\"294.708\" x2=\"66.4251\" y2=\"294.708\" style=\"stroke:#e26f46; stroke-opacity:1\"/>\n",
       "<circle clip-path=\"url(#clip7602)\" style=\"fill:#000000; stroke:none; fill-opacity:1\" cx=\"65.9474\" cy=\"293.017\" r=\"1\"/>\n",
       "<line clip-path=\"url(#clip7602)\" x1=\"65.9474\" y1=\"293.017\" x2=\"66.9474\" y2=\"293.017\" style=\"stroke:#e26f46; stroke-opacity:1\"/>\n",
       "<circle clip-path=\"url(#clip7602)\" style=\"fill:#000000; stroke:none; fill-opacity:1\" cx=\"66.4697\" cy=\"291.332\" r=\"1\"/>\n",
       "<line clip-path=\"url(#clip7602)\" x1=\"66.4697\" y1=\"291.332\" x2=\"67.4697\" y2=\"291.332\" style=\"stroke:#e26f46; stroke-opacity:1\"/>\n",
       "<circle clip-path=\"url(#clip7602)\" style=\"fill:#000000; stroke:none; fill-opacity:1\" cx=\"66.992\" cy=\"289.653\" r=\"1\"/>\n",
       "<line clip-path=\"url(#clip7602)\" x1=\"66.992\" y1=\"289.653\" x2=\"67.992\" y2=\"289.653\" style=\"stroke:#e26f46; stroke-opacity:1\"/>\n",
       "<circle clip-path=\"url(#clip7602)\" style=\"fill:#000000; stroke:none; fill-opacity:1\" cx=\"67.5142\" cy=\"287.981\" r=\"1\"/>\n",
       "<line clip-path=\"url(#clip7602)\" x1=\"67.5142\" y1=\"287.981\" x2=\"68.5142\" y2=\"287.981\" style=\"stroke:#e26f46; stroke-opacity:1\"/>\n",
       "<circle clip-path=\"url(#clip7602)\" style=\"fill:#000000; stroke:none; fill-opacity:1\" cx=\"68.0365\" cy=\"286.314\" r=\"1\"/>\n",
       "<line clip-path=\"url(#clip7602)\" x1=\"68.0365\" y1=\"286.314\" x2=\"69.0365\" y2=\"286.314\" style=\"stroke:#e26f46; stroke-opacity:1\"/>\n",
       "<circle clip-path=\"url(#clip7602)\" style=\"fill:#000000; stroke:none; fill-opacity:1\" cx=\"68.5588\" cy=\"284.654\" r=\"1\"/>\n",
       "<line clip-path=\"url(#clip7602)\" x1=\"68.5588\" y1=\"284.654\" x2=\"69.5588\" y2=\"284.654\" style=\"stroke:#e26f46; stroke-opacity:1\"/>\n",
       "<circle clip-path=\"url(#clip7602)\" style=\"fill:#000000; stroke:none; fill-opacity:1\" cx=\"69.0811\" cy=\"283\" r=\"1\"/>\n",
       "<line clip-path=\"url(#clip7602)\" x1=\"69.0811\" y1=\"283\" x2=\"70.0811\" y2=\"283\" style=\"stroke:#e26f46; stroke-opacity:1\"/>\n",
       "<circle clip-path=\"url(#clip7602)\" style=\"fill:#000000; stroke:none; fill-opacity:1\" cx=\"69.6034\" cy=\"281.352\" r=\"1\"/>\n",
       "<line clip-path=\"url(#clip7602)\" x1=\"69.6034\" y1=\"281.352\" x2=\"70.6034\" y2=\"281.352\" style=\"stroke:#e26f46; stroke-opacity:1\"/>\n",
       "<circle clip-path=\"url(#clip7602)\" style=\"fill:#000000; stroke:none; fill-opacity:1\" cx=\"70.1256\" cy=\"279.71\" r=\"1\"/>\n",
       "<line clip-path=\"url(#clip7602)\" x1=\"70.1256\" y1=\"279.71\" x2=\"71.1256\" y2=\"279.71\" style=\"stroke:#e26f46; stroke-opacity:1\"/>\n",
       "<circle clip-path=\"url(#clip7602)\" style=\"fill:#000000; stroke:none; fill-opacity:1\" cx=\"70.6479\" cy=\"278.074\" r=\"1\"/>\n",
       "<line clip-path=\"url(#clip7602)\" x1=\"70.6479\" y1=\"278.074\" x2=\"71.6479\" y2=\"278.074\" style=\"stroke:#e26f46; stroke-opacity:1\"/>\n",
       "<circle clip-path=\"url(#clip7602)\" style=\"fill:#000000; stroke:none; fill-opacity:1\" cx=\"71.1702\" cy=\"276.445\" r=\"1\"/>\n",
       "<line clip-path=\"url(#clip7602)\" x1=\"71.1702\" y1=\"276.445\" x2=\"72.1702\" y2=\"276.445\" style=\"stroke:#e26f46; stroke-opacity:1\"/>\n",
       "<circle clip-path=\"url(#clip7602)\" style=\"fill:#000000; stroke:none; fill-opacity:1\" cx=\"71.6925\" cy=\"274.821\" r=\"1\"/>\n",
       "<line clip-path=\"url(#clip7602)\" x1=\"71.6925\" y1=\"274.821\" x2=\"72.6925\" y2=\"274.821\" style=\"stroke:#e26f46; stroke-opacity:1\"/>\n",
       "<circle clip-path=\"url(#clip7602)\" style=\"fill:#000000; stroke:none; fill-opacity:1\" cx=\"72.2148\" cy=\"273.204\" r=\"1\"/>\n",
       "<line clip-path=\"url(#clip7602)\" x1=\"72.2148\" y1=\"273.204\" x2=\"73.2148\" y2=\"273.204\" style=\"stroke:#e26f46; stroke-opacity:1\"/>\n",
       "<circle clip-path=\"url(#clip7602)\" style=\"fill:#000000; stroke:none; fill-opacity:1\" cx=\"72.737\" cy=\"271.592\" r=\"1\"/>\n",
       "<line clip-path=\"url(#clip7602)\" x1=\"72.737\" y1=\"271.592\" x2=\"73.737\" y2=\"271.592\" style=\"stroke:#e26f46; stroke-opacity:1\"/>\n",
       "<circle clip-path=\"url(#clip7602)\" style=\"fill:#000000; stroke:none; fill-opacity:1\" cx=\"73.2593\" cy=\"269.987\" r=\"1\"/>\n",
       "<line clip-path=\"url(#clip7602)\" x1=\"73.2593\" y1=\"269.987\" x2=\"74.2593\" y2=\"269.987\" style=\"stroke:#e26f46; stroke-opacity:1\"/>\n",
       "<circle clip-path=\"url(#clip7602)\" style=\"fill:#000000; stroke:none; fill-opacity:1\" cx=\"73.7816\" cy=\"268.388\" r=\"1\"/>\n",
       "<line clip-path=\"url(#clip7602)\" x1=\"73.7816\" y1=\"268.388\" x2=\"74.7816\" y2=\"268.388\" style=\"stroke:#e26f46; stroke-opacity:1\"/>\n",
       "<circle clip-path=\"url(#clip7602)\" style=\"fill:#000000; stroke:none; fill-opacity:1\" cx=\"74.3039\" cy=\"266.794\" r=\"1\"/>\n",
       "<line clip-path=\"url(#clip7602)\" x1=\"74.3039\" y1=\"266.794\" x2=\"75.3039\" y2=\"266.794\" style=\"stroke:#e26f46; stroke-opacity:1\"/>\n",
       "<circle clip-path=\"url(#clip7602)\" style=\"fill:#000000; stroke:none; fill-opacity:1\" cx=\"74.8262\" cy=\"265.207\" r=\"1\"/>\n",
       "<line clip-path=\"url(#clip7602)\" x1=\"74.8262\" y1=\"265.207\" x2=\"75.8262\" y2=\"265.207\" style=\"stroke:#e26f46; stroke-opacity:1\"/>\n",
       "<circle clip-path=\"url(#clip7602)\" style=\"fill:#000000; stroke:none; fill-opacity:1\" cx=\"75.3484\" cy=\"263.626\" r=\"1\"/>\n",
       "<line clip-path=\"url(#clip7602)\" x1=\"75.3484\" y1=\"263.626\" x2=\"76.3484\" y2=\"263.626\" style=\"stroke:#e26f46; stroke-opacity:1\"/>\n",
       "<circle clip-path=\"url(#clip7602)\" style=\"fill:#000000; stroke:none; fill-opacity:1\" cx=\"75.8707\" cy=\"262.051\" r=\"1\"/>\n",
       "<line clip-path=\"url(#clip7602)\" x1=\"75.8707\" y1=\"262.051\" x2=\"76.8707\" y2=\"262.051\" style=\"stroke:#e26f46; stroke-opacity:1\"/>\n",
       "<circle clip-path=\"url(#clip7602)\" style=\"fill:#000000; stroke:none; fill-opacity:1\" cx=\"76.393\" cy=\"260.482\" r=\"1\"/>\n",
       "<line clip-path=\"url(#clip7602)\" x1=\"76.393\" y1=\"260.482\" x2=\"77.393\" y2=\"260.482\" style=\"stroke:#e26f46; stroke-opacity:1\"/>\n",
       "<circle clip-path=\"url(#clip7602)\" style=\"fill:#000000; stroke:none; fill-opacity:1\" cx=\"76.9153\" cy=\"258.919\" r=\"1\"/>\n",
       "<line clip-path=\"url(#clip7602)\" x1=\"76.9153\" y1=\"258.919\" x2=\"77.9153\" y2=\"258.919\" style=\"stroke:#e26f46; stroke-opacity:1\"/>\n",
       "<circle clip-path=\"url(#clip7602)\" style=\"fill:#000000; stroke:none; fill-opacity:1\" cx=\"77.4376\" cy=\"257.362\" r=\"1\"/>\n",
       "<line clip-path=\"url(#clip7602)\" x1=\"77.4376\" y1=\"257.362\" x2=\"78.4376\" y2=\"257.362\" style=\"stroke:#e26f46; stroke-opacity:1\"/>\n",
       "<circle clip-path=\"url(#clip7602)\" style=\"fill:#000000; stroke:none; fill-opacity:1\" cx=\"77.9598\" cy=\"255.811\" r=\"1\"/>\n",
       "<line clip-path=\"url(#clip7602)\" x1=\"77.9598\" y1=\"255.811\" x2=\"78.9598\" y2=\"255.811\" style=\"stroke:#e26f46; stroke-opacity:1\"/>\n",
       "<circle clip-path=\"url(#clip7602)\" style=\"fill:#000000; stroke:none; fill-opacity:1\" cx=\"78.4821\" cy=\"254.266\" r=\"1\"/>\n",
       "<line clip-path=\"url(#clip7602)\" x1=\"78.4821\" y1=\"254.266\" x2=\"79.4821\" y2=\"254.266\" style=\"stroke:#e26f46; stroke-opacity:1\"/>\n",
       "<circle clip-path=\"url(#clip7602)\" style=\"fill:#000000; stroke:none; fill-opacity:1\" cx=\"79.0044\" cy=\"252.727\" r=\"1\"/>\n",
       "<line clip-path=\"url(#clip7602)\" x1=\"79.0044\" y1=\"252.727\" x2=\"80.0044\" y2=\"252.727\" style=\"stroke:#e26f46; stroke-opacity:1\"/>\n",
       "<circle clip-path=\"url(#clip7602)\" style=\"fill:#000000; stroke:none; fill-opacity:1\" cx=\"79.5267\" cy=\"251.194\" r=\"1\"/>\n",
       "<line clip-path=\"url(#clip7602)\" x1=\"79.5267\" y1=\"251.194\" x2=\"80.5267\" y2=\"251.194\" style=\"stroke:#e26f46; stroke-opacity:1\"/>\n",
       "<circle clip-path=\"url(#clip7602)\" style=\"fill:#000000; stroke:none; fill-opacity:1\" cx=\"80.049\" cy=\"249.667\" r=\"1\"/>\n",
       "<line clip-path=\"url(#clip7602)\" x1=\"80.049\" y1=\"249.667\" x2=\"81.049\" y2=\"249.667\" style=\"stroke:#e26f46; stroke-opacity:1\"/>\n",
       "<circle clip-path=\"url(#clip7602)\" style=\"fill:#000000; stroke:none; fill-opacity:1\" cx=\"80.5712\" cy=\"248.145\" r=\"1\"/>\n",
       "<line clip-path=\"url(#clip7602)\" x1=\"80.5712\" y1=\"248.145\" x2=\"81.5712\" y2=\"248.145\" style=\"stroke:#e26f46; stroke-opacity:1\"/>\n",
       "<circle clip-path=\"url(#clip7602)\" style=\"fill:#000000; stroke:none; fill-opacity:1\" cx=\"81.0935\" cy=\"246.63\" r=\"1\"/>\n",
       "<line clip-path=\"url(#clip7602)\" x1=\"81.0935\" y1=\"246.63\" x2=\"82.0935\" y2=\"246.63\" style=\"stroke:#e26f46; stroke-opacity:1\"/>\n",
       "<circle clip-path=\"url(#clip7602)\" style=\"fill:#000000; stroke:none; fill-opacity:1\" cx=\"81.6158\" cy=\"245.121\" r=\"1\"/>\n",
       "<line clip-path=\"url(#clip7602)\" x1=\"81.6158\" y1=\"245.121\" x2=\"82.6158\" y2=\"245.121\" style=\"stroke:#e26f46; stroke-opacity:1\"/>\n",
       "<circle clip-path=\"url(#clip7602)\" style=\"fill:#000000; stroke:none; fill-opacity:1\" cx=\"82.1381\" cy=\"243.618\" r=\"1\"/>\n",
       "<line clip-path=\"url(#clip7602)\" x1=\"82.1381\" y1=\"243.618\" x2=\"83.1381\" y2=\"243.618\" style=\"stroke:#e26f46; stroke-opacity:1\"/>\n",
       "<circle clip-path=\"url(#clip7602)\" style=\"fill:#000000; stroke:none; fill-opacity:1\" cx=\"82.6604\" cy=\"242.12\" r=\"1\"/>\n",
       "<line clip-path=\"url(#clip7602)\" x1=\"82.6604\" y1=\"242.12\" x2=\"83.6604\" y2=\"242.12\" style=\"stroke:#e26f46; stroke-opacity:1\"/>\n",
       "<circle clip-path=\"url(#clip7602)\" style=\"fill:#000000; stroke:none; fill-opacity:1\" cx=\"83.1826\" cy=\"240.629\" r=\"1\"/>\n",
       "<line clip-path=\"url(#clip7602)\" x1=\"83.1826\" y1=\"240.629\" x2=\"84.1826\" y2=\"240.629\" style=\"stroke:#e26f46; stroke-opacity:1\"/>\n",
       "<circle clip-path=\"url(#clip7602)\" style=\"fill:#000000; stroke:none; fill-opacity:1\" cx=\"83.7049\" cy=\"239.143\" r=\"1\"/>\n",
       "<line clip-path=\"url(#clip7602)\" x1=\"83.7049\" y1=\"239.143\" x2=\"84.7049\" y2=\"239.143\" style=\"stroke:#e26f46; stroke-opacity:1\"/>\n",
       "<circle clip-path=\"url(#clip7602)\" style=\"fill:#000000; stroke:none; fill-opacity:1\" cx=\"84.2272\" cy=\"237.663\" r=\"1\"/>\n",
       "<line clip-path=\"url(#clip7602)\" x1=\"84.2272\" y1=\"237.663\" x2=\"85.2272\" y2=\"237.663\" style=\"stroke:#e26f46; stroke-opacity:1\"/>\n",
       "<circle clip-path=\"url(#clip7602)\" style=\"fill:#000000; stroke:none; fill-opacity:1\" cx=\"84.7495\" cy=\"236.189\" r=\"1\"/>\n",
       "<line clip-path=\"url(#clip7602)\" x1=\"84.7495\" y1=\"236.189\" x2=\"85.7495\" y2=\"236.189\" style=\"stroke:#e26f46; stroke-opacity:1\"/>\n",
       "<circle clip-path=\"url(#clip7602)\" style=\"fill:#000000; stroke:none; fill-opacity:1\" cx=\"85.2718\" cy=\"234.722\" r=\"1\"/>\n",
       "<line clip-path=\"url(#clip7602)\" x1=\"85.2718\" y1=\"234.722\" x2=\"86.2718\" y2=\"234.722\" style=\"stroke:#e26f46; stroke-opacity:1\"/>\n",
       "<circle clip-path=\"url(#clip7602)\" style=\"fill:#000000; stroke:none; fill-opacity:1\" cx=\"85.794\" cy=\"233.26\" r=\"1\"/>\n",
       "<line clip-path=\"url(#clip7602)\" x1=\"85.794\" y1=\"233.26\" x2=\"86.794\" y2=\"233.26\" style=\"stroke:#e26f46; stroke-opacity:1\"/>\n",
       "<circle clip-path=\"url(#clip7602)\" style=\"fill:#000000; stroke:none; fill-opacity:1\" cx=\"86.3163\" cy=\"231.803\" r=\"1\"/>\n",
       "<line clip-path=\"url(#clip7602)\" x1=\"86.3163\" y1=\"231.803\" x2=\"87.3163\" y2=\"231.803\" style=\"stroke:#e26f46; stroke-opacity:1\"/>\n",
       "<circle clip-path=\"url(#clip7602)\" style=\"fill:#000000; stroke:none; fill-opacity:1\" cx=\"86.8386\" cy=\"230.353\" r=\"1\"/>\n",
       "<line clip-path=\"url(#clip7602)\" x1=\"86.8386\" y1=\"230.353\" x2=\"87.8386\" y2=\"230.353\" style=\"stroke:#e26f46; stroke-opacity:1\"/>\n",
       "<circle clip-path=\"url(#clip7602)\" style=\"fill:#000000; stroke:none; fill-opacity:1\" cx=\"87.3609\" cy=\"228.909\" r=\"1\"/>\n",
       "<line clip-path=\"url(#clip7602)\" x1=\"87.3609\" y1=\"228.909\" x2=\"88.3609\" y2=\"228.909\" style=\"stroke:#e26f46; stroke-opacity:1\"/>\n",
       "<circle clip-path=\"url(#clip7602)\" style=\"fill:#000000; stroke:none; fill-opacity:1\" cx=\"87.8832\" cy=\"227.47\" r=\"1\"/>\n",
       "<line clip-path=\"url(#clip7602)\" x1=\"87.8832\" y1=\"227.47\" x2=\"88.8832\" y2=\"227.47\" style=\"stroke:#e26f46; stroke-opacity:1\"/>\n",
       "<circle clip-path=\"url(#clip7602)\" style=\"fill:#000000; stroke:none; fill-opacity:1\" cx=\"88.4054\" cy=\"226.037\" r=\"1\"/>\n",
       "<line clip-path=\"url(#clip7602)\" x1=\"88.4054\" y1=\"226.037\" x2=\"89.4054\" y2=\"226.037\" style=\"stroke:#e26f46; stroke-opacity:1\"/>\n",
       "<circle clip-path=\"url(#clip7602)\" style=\"fill:#000000; stroke:none; fill-opacity:1\" cx=\"88.9277\" cy=\"224.61\" r=\"1\"/>\n",
       "<line clip-path=\"url(#clip7602)\" x1=\"88.9277\" y1=\"224.61\" x2=\"89.9277\" y2=\"224.61\" style=\"stroke:#e26f46; stroke-opacity:1\"/>\n",
       "<circle clip-path=\"url(#clip7602)\" style=\"fill:#000000; stroke:none; fill-opacity:1\" cx=\"89.45\" cy=\"223.189\" r=\"1\"/>\n",
       "<line clip-path=\"url(#clip7602)\" x1=\"89.45\" y1=\"223.189\" x2=\"90.45\" y2=\"223.189\" style=\"stroke:#e26f46; stroke-opacity:1\"/>\n",
       "<circle clip-path=\"url(#clip7602)\" style=\"fill:#000000; stroke:none; fill-opacity:1\" cx=\"89.9723\" cy=\"221.774\" r=\"1\"/>\n",
       "<line clip-path=\"url(#clip7602)\" x1=\"89.9723\" y1=\"221.774\" x2=\"90.9723\" y2=\"221.774\" style=\"stroke:#e26f46; stroke-opacity:1\"/>\n",
       "<circle clip-path=\"url(#clip7602)\" style=\"fill:#000000; stroke:none; fill-opacity:1\" cx=\"90.4946\" cy=\"220.364\" r=\"1\"/>\n",
       "<line clip-path=\"url(#clip7602)\" x1=\"90.4946\" y1=\"220.364\" x2=\"91.4946\" y2=\"220.364\" style=\"stroke:#e26f46; stroke-opacity:1\"/>\n",
       "<circle clip-path=\"url(#clip7602)\" style=\"fill:#000000; stroke:none; fill-opacity:1\" cx=\"91.0168\" cy=\"218.96\" r=\"1\"/>\n",
       "<line clip-path=\"url(#clip7602)\" x1=\"91.0168\" y1=\"218.96\" x2=\"92.0168\" y2=\"218.96\" style=\"stroke:#e26f46; stroke-opacity:1\"/>\n",
       "<circle clip-path=\"url(#clip7602)\" style=\"fill:#000000; stroke:none; fill-opacity:1\" cx=\"91.5391\" cy=\"217.562\" r=\"1\"/>\n",
       "<line clip-path=\"url(#clip7602)\" x1=\"91.5391\" y1=\"217.562\" x2=\"92.5391\" y2=\"217.562\" style=\"stroke:#e26f46; stroke-opacity:1\"/>\n",
       "<circle clip-path=\"url(#clip7602)\" style=\"fill:#000000; stroke:none; fill-opacity:1\" cx=\"92.0614\" cy=\"216.17\" r=\"1\"/>\n",
       "<line clip-path=\"url(#clip7602)\" x1=\"92.0614\" y1=\"216.17\" x2=\"93.0614\" y2=\"216.17\" style=\"stroke:#e26f46; stroke-opacity:1\"/>\n",
       "<circle clip-path=\"url(#clip7602)\" style=\"fill:#000000; stroke:none; fill-opacity:1\" cx=\"92.5837\" cy=\"214.784\" r=\"1\"/>\n",
       "<line clip-path=\"url(#clip7602)\" x1=\"92.5837\" y1=\"214.784\" x2=\"93.5837\" y2=\"214.784\" style=\"stroke:#e26f46; stroke-opacity:1\"/>\n",
       "<circle clip-path=\"url(#clip7602)\" style=\"fill:#000000; stroke:none; fill-opacity:1\" cx=\"93.106\" cy=\"213.403\" r=\"1\"/>\n",
       "<line clip-path=\"url(#clip7602)\" x1=\"93.106\" y1=\"213.403\" x2=\"94.106\" y2=\"213.403\" style=\"stroke:#e26f46; stroke-opacity:1\"/>\n",
       "<circle clip-path=\"url(#clip7602)\" style=\"fill:#000000; stroke:none; fill-opacity:1\" cx=\"93.6282\" cy=\"212.028\" r=\"1\"/>\n",
       "<line clip-path=\"url(#clip7602)\" x1=\"93.6282\" y1=\"212.028\" x2=\"94.6282\" y2=\"212.028\" style=\"stroke:#e26f46; stroke-opacity:1\"/>\n",
       "<circle clip-path=\"url(#clip7602)\" style=\"fill:#000000; stroke:none; fill-opacity:1\" cx=\"94.1505\" cy=\"210.659\" r=\"1\"/>\n",
       "<line clip-path=\"url(#clip7602)\" x1=\"94.1505\" y1=\"210.659\" x2=\"95.1505\" y2=\"210.659\" style=\"stroke:#e26f46; stroke-opacity:1\"/>\n",
       "<circle clip-path=\"url(#clip7602)\" style=\"fill:#000000; stroke:none; fill-opacity:1\" cx=\"94.6728\" cy=\"209.296\" r=\"1\"/>\n",
       "<line clip-path=\"url(#clip7602)\" x1=\"94.6728\" y1=\"209.296\" x2=\"95.6728\" y2=\"209.296\" style=\"stroke:#e26f46; stroke-opacity:1\"/>\n",
       "<circle clip-path=\"url(#clip7602)\" style=\"fill:#000000; stroke:none; fill-opacity:1\" cx=\"95.1951\" cy=\"207.938\" r=\"1\"/>\n",
       "<line clip-path=\"url(#clip7602)\" x1=\"95.1951\" y1=\"207.938\" x2=\"96.1951\" y2=\"207.938\" style=\"stroke:#e26f46; stroke-opacity:1\"/>\n",
       "<circle clip-path=\"url(#clip7602)\" style=\"fill:#000000; stroke:none; fill-opacity:1\" cx=\"95.7174\" cy=\"206.586\" r=\"1\"/>\n",
       "<line clip-path=\"url(#clip7602)\" x1=\"95.7174\" y1=\"206.586\" x2=\"96.7174\" y2=\"206.586\" style=\"stroke:#e26f46; stroke-opacity:1\"/>\n",
       "<circle clip-path=\"url(#clip7602)\" style=\"fill:#000000; stroke:none; fill-opacity:1\" cx=\"96.2396\" cy=\"205.24\" r=\"1\"/>\n",
       "<line clip-path=\"url(#clip7602)\" x1=\"96.2396\" y1=\"205.24\" x2=\"97.2396\" y2=\"205.24\" style=\"stroke:#e26f46; stroke-opacity:1\"/>\n",
       "<circle clip-path=\"url(#clip7602)\" style=\"fill:#000000; stroke:none; fill-opacity:1\" cx=\"96.7619\" cy=\"203.899\" r=\"1\"/>\n",
       "<line clip-path=\"url(#clip7602)\" x1=\"96.7619\" y1=\"203.899\" x2=\"97.7619\" y2=\"203.899\" style=\"stroke:#e26f46; stroke-opacity:1\"/>\n",
       "<circle clip-path=\"url(#clip7602)\" style=\"fill:#000000; stroke:none; fill-opacity:1\" cx=\"97.2842\" cy=\"202.564\" r=\"1\"/>\n",
       "<line clip-path=\"url(#clip7602)\" x1=\"97.2842\" y1=\"202.564\" x2=\"98.2842\" y2=\"202.564\" style=\"stroke:#e26f46; stroke-opacity:1\"/>\n",
       "<circle clip-path=\"url(#clip7602)\" style=\"fill:#000000; stroke:none; fill-opacity:1\" cx=\"97.8065\" cy=\"201.235\" r=\"1\"/>\n",
       "<line clip-path=\"url(#clip7602)\" x1=\"97.8065\" y1=\"201.235\" x2=\"98.8065\" y2=\"201.235\" style=\"stroke:#e26f46; stroke-opacity:1\"/>\n",
       "<circle clip-path=\"url(#clip7602)\" style=\"fill:#000000; stroke:none; fill-opacity:1\" cx=\"98.3288\" cy=\"199.912\" r=\"1\"/>\n",
       "<line clip-path=\"url(#clip7602)\" x1=\"98.3288\" y1=\"199.912\" x2=\"99.3288\" y2=\"199.912\" style=\"stroke:#e26f46; stroke-opacity:1\"/>\n",
       "<circle clip-path=\"url(#clip7602)\" style=\"fill:#000000; stroke:none; fill-opacity:1\" cx=\"98.851\" cy=\"198.594\" r=\"1\"/>\n",
       "<line clip-path=\"url(#clip7602)\" x1=\"98.851\" y1=\"198.594\" x2=\"99.851\" y2=\"198.594\" style=\"stroke:#e26f46; stroke-opacity:1\"/>\n",
       "<circle clip-path=\"url(#clip7602)\" style=\"fill:#000000; stroke:none; fill-opacity:1\" cx=\"99.3733\" cy=\"197.282\" r=\"1\"/>\n",
       "<line clip-path=\"url(#clip7602)\" x1=\"99.3733\" y1=\"197.282\" x2=\"100.373\" y2=\"197.282\" style=\"stroke:#e26f46; stroke-opacity:1\"/>\n",
       "<circle clip-path=\"url(#clip7602)\" style=\"fill:#000000; stroke:none; fill-opacity:1\" cx=\"99.8956\" cy=\"195.975\" r=\"1\"/>\n",
       "<line clip-path=\"url(#clip7602)\" x1=\"99.8956\" y1=\"195.975\" x2=\"100.896\" y2=\"195.975\" style=\"stroke:#e26f46; stroke-opacity:1\"/>\n",
       "<circle clip-path=\"url(#clip7602)\" style=\"fill:#000000; stroke:none; fill-opacity:1\" cx=\"100.418\" cy=\"194.674\" r=\"1\"/>\n",
       "<line clip-path=\"url(#clip7602)\" x1=\"100.418\" y1=\"194.674\" x2=\"101.418\" y2=\"194.674\" style=\"stroke:#e26f46; stroke-opacity:1\"/>\n",
       "<circle clip-path=\"url(#clip7602)\" style=\"fill:#000000; stroke:none; fill-opacity:1\" cx=\"100.94\" cy=\"193.379\" r=\"1\"/>\n",
       "<line clip-path=\"url(#clip7602)\" x1=\"100.94\" y1=\"193.379\" x2=\"101.94\" y2=\"193.379\" style=\"stroke:#e26f46; stroke-opacity:1\"/>\n",
       "<circle clip-path=\"url(#clip7602)\" style=\"fill:#000000; stroke:none; fill-opacity:1\" cx=\"101.462\" cy=\"192.089\" r=\"1\"/>\n",
       "<line clip-path=\"url(#clip7602)\" x1=\"101.462\" y1=\"192.089\" x2=\"102.462\" y2=\"192.089\" style=\"stroke:#e26f46; stroke-opacity:1\"/>\n",
       "<circle clip-path=\"url(#clip7602)\" style=\"fill:#000000; stroke:none; fill-opacity:1\" cx=\"101.985\" cy=\"190.805\" r=\"1\"/>\n",
       "<line clip-path=\"url(#clip7602)\" x1=\"101.985\" y1=\"190.805\" x2=\"102.985\" y2=\"190.805\" style=\"stroke:#e26f46; stroke-opacity:1\"/>\n",
       "<circle clip-path=\"url(#clip7602)\" style=\"fill:#000000; stroke:none; fill-opacity:1\" cx=\"102.507\" cy=\"189.527\" r=\"1\"/>\n",
       "<line clip-path=\"url(#clip7602)\" x1=\"102.507\" y1=\"189.527\" x2=\"103.507\" y2=\"189.527\" style=\"stroke:#e26f46; stroke-opacity:1\"/>\n",
       "<circle clip-path=\"url(#clip7602)\" style=\"fill:#000000; stroke:none; fill-opacity:1\" cx=\"103.029\" cy=\"188.254\" r=\"1\"/>\n",
       "<line clip-path=\"url(#clip7602)\" x1=\"103.029\" y1=\"188.254\" x2=\"104.029\" y2=\"188.254\" style=\"stroke:#e26f46; stroke-opacity:1\"/>\n",
       "<circle clip-path=\"url(#clip7602)\" style=\"fill:#000000; stroke:none; fill-opacity:1\" cx=\"103.552\" cy=\"186.987\" r=\"1\"/>\n",
       "<line clip-path=\"url(#clip7602)\" x1=\"103.552\" y1=\"186.987\" x2=\"104.552\" y2=\"186.987\" style=\"stroke:#e26f46; stroke-opacity:1\"/>\n",
       "<circle clip-path=\"url(#clip7602)\" style=\"fill:#000000; stroke:none; fill-opacity:1\" cx=\"104.074\" cy=\"185.726\" r=\"1\"/>\n",
       "<line clip-path=\"url(#clip7602)\" x1=\"104.074\" y1=\"185.726\" x2=\"105.074\" y2=\"185.726\" style=\"stroke:#e26f46; stroke-opacity:1\"/>\n",
       "<circle clip-path=\"url(#clip7602)\" style=\"fill:#000000; stroke:none; fill-opacity:1\" cx=\"104.596\" cy=\"184.47\" r=\"1\"/>\n",
       "<line clip-path=\"url(#clip7602)\" x1=\"104.596\" y1=\"184.47\" x2=\"105.596\" y2=\"184.47\" style=\"stroke:#e26f46; stroke-opacity:1\"/>\n",
       "<circle clip-path=\"url(#clip7602)\" style=\"fill:#000000; stroke:none; fill-opacity:1\" cx=\"105.118\" cy=\"183.219\" r=\"1\"/>\n",
       "<line clip-path=\"url(#clip7602)\" x1=\"105.118\" y1=\"183.219\" x2=\"106.118\" y2=\"183.219\" style=\"stroke:#e26f46; stroke-opacity:1\"/>\n",
       "<circle clip-path=\"url(#clip7602)\" style=\"fill:#000000; stroke:none; fill-opacity:1\" cx=\"105.641\" cy=\"181.974\" r=\"1\"/>\n",
       "<line clip-path=\"url(#clip7602)\" x1=\"105.641\" y1=\"181.974\" x2=\"106.641\" y2=\"181.974\" style=\"stroke:#e26f46; stroke-opacity:1\"/>\n",
       "<circle clip-path=\"url(#clip7602)\" style=\"fill:#000000; stroke:none; fill-opacity:1\" cx=\"106.163\" cy=\"180.735\" r=\"1\"/>\n",
       "<line clip-path=\"url(#clip7602)\" x1=\"106.163\" y1=\"180.735\" x2=\"107.163\" y2=\"180.735\" style=\"stroke:#e26f46; stroke-opacity:1\"/>\n",
       "<circle clip-path=\"url(#clip7602)\" style=\"fill:#000000; stroke:none; fill-opacity:1\" cx=\"106.685\" cy=\"179.501\" r=\"1\"/>\n",
       "<line clip-path=\"url(#clip7602)\" x1=\"106.685\" y1=\"179.501\" x2=\"107.685\" y2=\"179.501\" style=\"stroke:#e26f46; stroke-opacity:1\"/>\n",
       "<circle clip-path=\"url(#clip7602)\" style=\"fill:#000000; stroke:none; fill-opacity:1\" cx=\"107.208\" cy=\"178.273\" r=\"1\"/>\n",
       "<line clip-path=\"url(#clip7602)\" x1=\"107.208\" y1=\"178.273\" x2=\"108.208\" y2=\"178.273\" style=\"stroke:#e26f46; stroke-opacity:1\"/>\n",
       "<circle clip-path=\"url(#clip7602)\" style=\"fill:#000000; stroke:none; fill-opacity:1\" cx=\"107.73\" cy=\"177.05\" r=\"1\"/>\n",
       "<line clip-path=\"url(#clip7602)\" x1=\"107.73\" y1=\"177.05\" x2=\"108.73\" y2=\"177.05\" style=\"stroke:#e26f46; stroke-opacity:1\"/>\n",
       "<circle clip-path=\"url(#clip7602)\" style=\"fill:#000000; stroke:none; fill-opacity:1\" cx=\"108.252\" cy=\"175.833\" r=\"1\"/>\n",
       "<line clip-path=\"url(#clip7602)\" x1=\"108.252\" y1=\"175.833\" x2=\"109.252\" y2=\"175.833\" style=\"stroke:#e26f46; stroke-opacity:1\"/>\n",
       "<circle clip-path=\"url(#clip7602)\" style=\"fill:#000000; stroke:none; fill-opacity:1\" cx=\"108.774\" cy=\"174.622\" r=\"1\"/>\n",
       "<line clip-path=\"url(#clip7602)\" x1=\"108.774\" y1=\"174.622\" x2=\"109.774\" y2=\"174.622\" style=\"stroke:#e26f46; stroke-opacity:1\"/>\n",
       "<circle clip-path=\"url(#clip7602)\" style=\"fill:#000000; stroke:none; fill-opacity:1\" cx=\"109.297\" cy=\"173.416\" r=\"1\"/>\n",
       "<line clip-path=\"url(#clip7602)\" x1=\"109.297\" y1=\"173.416\" x2=\"110.297\" y2=\"173.416\" style=\"stroke:#e26f46; stroke-opacity:1\"/>\n",
       "<circle clip-path=\"url(#clip7602)\" style=\"fill:#000000; stroke:none; fill-opacity:1\" cx=\"109.819\" cy=\"172.215\" r=\"1\"/>\n",
       "<line clip-path=\"url(#clip7602)\" x1=\"109.819\" y1=\"172.215\" x2=\"110.819\" y2=\"172.215\" style=\"stroke:#e26f46; stroke-opacity:1\"/>\n",
       "<circle clip-path=\"url(#clip7602)\" style=\"fill:#000000; stroke:none; fill-opacity:1\" cx=\"110.341\" cy=\"171.02\" r=\"1\"/>\n",
       "<line clip-path=\"url(#clip7602)\" x1=\"110.341\" y1=\"171.02\" x2=\"111.341\" y2=\"171.02\" style=\"stroke:#e26f46; stroke-opacity:1\"/>\n",
       "<circle clip-path=\"url(#clip7602)\" style=\"fill:#000000; stroke:none; fill-opacity:1\" cx=\"110.863\" cy=\"169.83\" r=\"1\"/>\n",
       "<line clip-path=\"url(#clip7602)\" x1=\"110.863\" y1=\"169.83\" x2=\"111.863\" y2=\"169.83\" style=\"stroke:#e26f46; stroke-opacity:1\"/>\n",
       "<circle clip-path=\"url(#clip7602)\" style=\"fill:#000000; stroke:none; fill-opacity:1\" cx=\"111.386\" cy=\"168.646\" r=\"1\"/>\n",
       "<line clip-path=\"url(#clip7602)\" x1=\"111.386\" y1=\"168.646\" x2=\"112.386\" y2=\"168.646\" style=\"stroke:#e26f46; stroke-opacity:1\"/>\n",
       "<circle clip-path=\"url(#clip7602)\" style=\"fill:#000000; stroke:none; fill-opacity:1\" cx=\"111.908\" cy=\"167.467\" r=\"1\"/>\n",
       "<line clip-path=\"url(#clip7602)\" x1=\"111.908\" y1=\"167.467\" x2=\"112.908\" y2=\"167.467\" style=\"stroke:#e26f46; stroke-opacity:1\"/>\n",
       "<circle clip-path=\"url(#clip7602)\" style=\"fill:#000000; stroke:none; fill-opacity:1\" cx=\"112.43\" cy=\"166.294\" r=\"1\"/>\n",
       "<line clip-path=\"url(#clip7602)\" x1=\"112.43\" y1=\"166.294\" x2=\"113.43\" y2=\"166.294\" style=\"stroke:#e26f46; stroke-opacity:1\"/>\n",
       "<circle clip-path=\"url(#clip7602)\" style=\"fill:#000000; stroke:none; fill-opacity:1\" cx=\"112.953\" cy=\"165.126\" r=\"1\"/>\n",
       "<line clip-path=\"url(#clip7602)\" x1=\"112.953\" y1=\"165.126\" x2=\"113.953\" y2=\"165.126\" style=\"stroke:#e26f46; stroke-opacity:1\"/>\n",
       "<circle clip-path=\"url(#clip7602)\" style=\"fill:#000000; stroke:none; fill-opacity:1\" cx=\"113.475\" cy=\"163.964\" r=\"1\"/>\n",
       "<line clip-path=\"url(#clip7602)\" x1=\"113.475\" y1=\"163.964\" x2=\"114.475\" y2=\"163.964\" style=\"stroke:#e26f46; stroke-opacity:1\"/>\n",
       "<circle clip-path=\"url(#clip7602)\" style=\"fill:#000000; stroke:none; fill-opacity:1\" cx=\"113.997\" cy=\"162.807\" r=\"1\"/>\n",
       "<line clip-path=\"url(#clip7602)\" x1=\"113.997\" y1=\"162.807\" x2=\"114.997\" y2=\"162.807\" style=\"stroke:#e26f46; stroke-opacity:1\"/>\n",
       "<circle clip-path=\"url(#clip7602)\" style=\"fill:#000000; stroke:none; fill-opacity:1\" cx=\"114.519\" cy=\"161.655\" r=\"1\"/>\n",
       "<line clip-path=\"url(#clip7602)\" x1=\"114.519\" y1=\"161.655\" x2=\"115.519\" y2=\"161.655\" style=\"stroke:#e26f46; stroke-opacity:1\"/>\n",
       "<circle clip-path=\"url(#clip7602)\" style=\"fill:#000000; stroke:none; fill-opacity:1\" cx=\"115.042\" cy=\"160.509\" r=\"1\"/>\n",
       "<line clip-path=\"url(#clip7602)\" x1=\"115.042\" y1=\"160.509\" x2=\"116.042\" y2=\"160.509\" style=\"stroke:#e26f46; stroke-opacity:1\"/>\n",
       "<circle clip-path=\"url(#clip7602)\" style=\"fill:#000000; stroke:none; fill-opacity:1\" cx=\"115.564\" cy=\"159.369\" r=\"1\"/>\n",
       "<line clip-path=\"url(#clip7602)\" x1=\"115.564\" y1=\"159.369\" x2=\"116.564\" y2=\"159.369\" style=\"stroke:#e26f46; stroke-opacity:1\"/>\n",
       "<circle clip-path=\"url(#clip7602)\" style=\"fill:#000000; stroke:none; fill-opacity:1\" cx=\"116.086\" cy=\"158.233\" r=\"1\"/>\n",
       "<line clip-path=\"url(#clip7602)\" x1=\"116.086\" y1=\"158.233\" x2=\"117.086\" y2=\"158.233\" style=\"stroke:#e26f46; stroke-opacity:1\"/>\n",
       "<circle clip-path=\"url(#clip7602)\" style=\"fill:#000000; stroke:none; fill-opacity:1\" cx=\"116.609\" cy=\"157.104\" r=\"1\"/>\n",
       "<line clip-path=\"url(#clip7602)\" x1=\"116.609\" y1=\"157.104\" x2=\"117.609\" y2=\"157.104\" style=\"stroke:#e26f46; stroke-opacity:1\"/>\n",
       "<circle clip-path=\"url(#clip7602)\" style=\"fill:#000000; stroke:none; fill-opacity:1\" cx=\"117.131\" cy=\"155.979\" r=\"1\"/>\n",
       "<line clip-path=\"url(#clip7602)\" x1=\"117.131\" y1=\"155.979\" x2=\"118.131\" y2=\"155.979\" style=\"stroke:#e26f46; stroke-opacity:1\"/>\n",
       "<circle clip-path=\"url(#clip7602)\" style=\"fill:#000000; stroke:none; fill-opacity:1\" cx=\"117.653\" cy=\"154.86\" r=\"1\"/>\n",
       "<line clip-path=\"url(#clip7602)\" x1=\"117.653\" y1=\"154.86\" x2=\"118.653\" y2=\"154.86\" style=\"stroke:#e26f46; stroke-opacity:1\"/>\n",
       "<circle clip-path=\"url(#clip7602)\" style=\"fill:#000000; stroke:none; fill-opacity:1\" cx=\"118.175\" cy=\"153.746\" r=\"1\"/>\n",
       "<line clip-path=\"url(#clip7602)\" x1=\"118.175\" y1=\"153.746\" x2=\"119.175\" y2=\"153.746\" style=\"stroke:#e26f46; stroke-opacity:1\"/>\n",
       "<circle clip-path=\"url(#clip7602)\" style=\"fill:#000000; stroke:none; fill-opacity:1\" cx=\"118.698\" cy=\"152.638\" r=\"1\"/>\n",
       "<line clip-path=\"url(#clip7602)\" x1=\"118.698\" y1=\"152.638\" x2=\"119.698\" y2=\"152.638\" style=\"stroke:#e26f46; stroke-opacity:1\"/>\n",
       "<circle clip-path=\"url(#clip7602)\" style=\"fill:#000000; stroke:none; fill-opacity:1\" cx=\"119.22\" cy=\"151.535\" r=\"1\"/>\n",
       "<line clip-path=\"url(#clip7602)\" x1=\"119.22\" y1=\"151.535\" x2=\"120.22\" y2=\"151.535\" style=\"stroke:#e26f46; stroke-opacity:1\"/>\n",
       "<circle clip-path=\"url(#clip7602)\" style=\"fill:#000000; stroke:none; fill-opacity:1\" cx=\"119.742\" cy=\"150.437\" r=\"1\"/>\n",
       "<line clip-path=\"url(#clip7602)\" x1=\"119.742\" y1=\"150.437\" x2=\"120.742\" y2=\"150.437\" style=\"stroke:#e26f46; stroke-opacity:1\"/>\n",
       "<circle clip-path=\"url(#clip7602)\" style=\"fill:#000000; stroke:none; fill-opacity:1\" cx=\"120.265\" cy=\"149.345\" r=\"1\"/>\n",
       "<line clip-path=\"url(#clip7602)\" x1=\"120.265\" y1=\"149.345\" x2=\"121.265\" y2=\"149.345\" style=\"stroke:#e26f46; stroke-opacity:1\"/>\n",
       "<circle clip-path=\"url(#clip7602)\" style=\"fill:#000000; stroke:none; fill-opacity:1\" cx=\"120.787\" cy=\"148.258\" r=\"1\"/>\n",
       "<line clip-path=\"url(#clip7602)\" x1=\"120.787\" y1=\"148.258\" x2=\"121.787\" y2=\"148.258\" style=\"stroke:#e26f46; stroke-opacity:1\"/>\n",
       "<circle clip-path=\"url(#clip7602)\" style=\"fill:#000000; stroke:none; fill-opacity:1\" cx=\"121.309\" cy=\"147.176\" r=\"1\"/>\n",
       "<line clip-path=\"url(#clip7602)\" x1=\"121.309\" y1=\"147.176\" x2=\"122.309\" y2=\"147.176\" style=\"stroke:#e26f46; stroke-opacity:1\"/>\n",
       "<circle clip-path=\"url(#clip7602)\" style=\"fill:#000000; stroke:none; fill-opacity:1\" cx=\"121.831\" cy=\"146.1\" r=\"1\"/>\n",
       "<line clip-path=\"url(#clip7602)\" x1=\"121.831\" y1=\"146.1\" x2=\"122.831\" y2=\"146.1\" style=\"stroke:#e26f46; stroke-opacity:1\"/>\n",
       "<circle clip-path=\"url(#clip7602)\" style=\"fill:#000000; stroke:none; fill-opacity:1\" cx=\"122.354\" cy=\"145.029\" r=\"1\"/>\n",
       "<line clip-path=\"url(#clip7602)\" x1=\"122.354\" y1=\"145.029\" x2=\"123.354\" y2=\"145.029\" style=\"stroke:#e26f46; stroke-opacity:1\"/>\n",
       "<circle clip-path=\"url(#clip7602)\" style=\"fill:#000000; stroke:none; fill-opacity:1\" cx=\"122.876\" cy=\"143.963\" r=\"1\"/>\n",
       "<line clip-path=\"url(#clip7602)\" x1=\"122.876\" y1=\"143.963\" x2=\"123.876\" y2=\"143.963\" style=\"stroke:#e26f46; stroke-opacity:1\"/>\n",
       "<circle clip-path=\"url(#clip7602)\" style=\"fill:#000000; stroke:none; fill-opacity:1\" cx=\"123.398\" cy=\"142.902\" r=\"1\"/>\n",
       "<line clip-path=\"url(#clip7602)\" x1=\"123.398\" y1=\"142.902\" x2=\"124.398\" y2=\"142.902\" style=\"stroke:#e26f46; stroke-opacity:1\"/>\n",
       "<circle clip-path=\"url(#clip7602)\" style=\"fill:#000000; stroke:none; fill-opacity:1\" cx=\"123.92\" cy=\"141.847\" r=\"1\"/>\n",
       "<line clip-path=\"url(#clip7602)\" x1=\"123.92\" y1=\"141.847\" x2=\"124.92\" y2=\"141.847\" style=\"stroke:#e26f46; stroke-opacity:1\"/>\n",
       "<circle clip-path=\"url(#clip7602)\" style=\"fill:#000000; stroke:none; fill-opacity:1\" cx=\"124.443\" cy=\"140.797\" r=\"1\"/>\n",
       "<line clip-path=\"url(#clip7602)\" x1=\"124.443\" y1=\"140.797\" x2=\"125.443\" y2=\"140.797\" style=\"stroke:#e26f46; stroke-opacity:1\"/>\n",
       "<circle clip-path=\"url(#clip7602)\" style=\"fill:#000000; stroke:none; fill-opacity:1\" cx=\"124.965\" cy=\"139.752\" r=\"1\"/>\n",
       "<line clip-path=\"url(#clip7602)\" x1=\"124.965\" y1=\"139.752\" x2=\"125.965\" y2=\"139.752\" style=\"stroke:#e26f46; stroke-opacity:1\"/>\n",
       "<circle clip-path=\"url(#clip7602)\" style=\"fill:#000000; stroke:none; fill-opacity:1\" cx=\"125.487\" cy=\"138.713\" r=\"1\"/>\n",
       "<line clip-path=\"url(#clip7602)\" x1=\"125.487\" y1=\"138.713\" x2=\"126.487\" y2=\"138.713\" style=\"stroke:#e26f46; stroke-opacity:1\"/>\n",
       "<circle clip-path=\"url(#clip7602)\" style=\"fill:#000000; stroke:none; fill-opacity:1\" cx=\"126.01\" cy=\"137.679\" r=\"1\"/>\n",
       "<line clip-path=\"url(#clip7602)\" x1=\"126.01\" y1=\"137.679\" x2=\"127.01\" y2=\"137.679\" style=\"stroke:#e26f46; stroke-opacity:1\"/>\n",
       "<circle clip-path=\"url(#clip7602)\" style=\"fill:#000000; stroke:none; fill-opacity:1\" cx=\"126.532\" cy=\"136.65\" r=\"1\"/>\n",
       "<line clip-path=\"url(#clip7602)\" x1=\"126.532\" y1=\"136.65\" x2=\"127.532\" y2=\"136.65\" style=\"stroke:#e26f46; stroke-opacity:1\"/>\n",
       "<circle clip-path=\"url(#clip7602)\" style=\"fill:#000000; stroke:none; fill-opacity:1\" cx=\"127.054\" cy=\"135.626\" r=\"1\"/>\n",
       "<line clip-path=\"url(#clip7602)\" x1=\"127.054\" y1=\"135.626\" x2=\"128.054\" y2=\"135.626\" style=\"stroke:#e26f46; stroke-opacity:1\"/>\n",
       "<circle clip-path=\"url(#clip7602)\" style=\"fill:#000000; stroke:none; fill-opacity:1\" cx=\"127.576\" cy=\"134.608\" r=\"1\"/>\n",
       "<line clip-path=\"url(#clip7602)\" x1=\"127.576\" y1=\"134.608\" x2=\"128.576\" y2=\"134.608\" style=\"stroke:#e26f46; stroke-opacity:1\"/>\n",
       "<circle clip-path=\"url(#clip7602)\" style=\"fill:#000000; stroke:none; fill-opacity:1\" cx=\"128.099\" cy=\"133.594\" r=\"1\"/>\n",
       "<line clip-path=\"url(#clip7602)\" x1=\"128.099\" y1=\"133.594\" x2=\"129.099\" y2=\"133.594\" style=\"stroke:#e26f46; stroke-opacity:1\"/>\n",
       "<circle clip-path=\"url(#clip7602)\" style=\"fill:#000000; stroke:none; fill-opacity:1\" cx=\"128.621\" cy=\"132.586\" r=\"1\"/>\n",
       "<line clip-path=\"url(#clip7602)\" x1=\"128.621\" y1=\"132.586\" x2=\"129.621\" y2=\"132.586\" style=\"stroke:#e26f46; stroke-opacity:1\"/>\n",
       "<circle clip-path=\"url(#clip7602)\" style=\"fill:#000000; stroke:none; fill-opacity:1\" cx=\"129.143\" cy=\"131.583\" r=\"1\"/>\n",
       "<line clip-path=\"url(#clip7602)\" x1=\"129.143\" y1=\"131.583\" x2=\"130.143\" y2=\"131.583\" style=\"stroke:#e26f46; stroke-opacity:1\"/>\n",
       "<circle clip-path=\"url(#clip7602)\" style=\"fill:#000000; stroke:none; fill-opacity:1\" cx=\"129.666\" cy=\"130.586\" r=\"1\"/>\n",
       "<line clip-path=\"url(#clip7602)\" x1=\"129.666\" y1=\"130.586\" x2=\"130.666\" y2=\"130.586\" style=\"stroke:#e26f46; stroke-opacity:1\"/>\n",
       "<circle clip-path=\"url(#clip7602)\" style=\"fill:#000000; stroke:none; fill-opacity:1\" cx=\"130.188\" cy=\"129.593\" r=\"1\"/>\n",
       "<line clip-path=\"url(#clip7602)\" x1=\"130.188\" y1=\"129.593\" x2=\"131.188\" y2=\"129.593\" style=\"stroke:#e26f46; stroke-opacity:1\"/>\n",
       "<circle clip-path=\"url(#clip7602)\" style=\"fill:#000000; stroke:none; fill-opacity:1\" cx=\"130.71\" cy=\"128.606\" r=\"1\"/>\n",
       "<line clip-path=\"url(#clip7602)\" x1=\"130.71\" y1=\"128.606\" x2=\"131.71\" y2=\"128.606\" style=\"stroke:#e26f46; stroke-opacity:1\"/>\n",
       "<circle clip-path=\"url(#clip7602)\" style=\"fill:#000000; stroke:none; fill-opacity:1\" cx=\"131.232\" cy=\"127.624\" r=\"1\"/>\n",
       "<line clip-path=\"url(#clip7602)\" x1=\"131.232\" y1=\"127.624\" x2=\"132.232\" y2=\"127.624\" style=\"stroke:#e26f46; stroke-opacity:1\"/>\n",
       "<circle clip-path=\"url(#clip7602)\" style=\"fill:#000000; stroke:none; fill-opacity:1\" cx=\"131.755\" cy=\"126.647\" r=\"1\"/>\n",
       "<line clip-path=\"url(#clip7602)\" x1=\"131.755\" y1=\"126.647\" x2=\"132.755\" y2=\"126.647\" style=\"stroke:#e26f46; stroke-opacity:1\"/>\n",
       "<circle clip-path=\"url(#clip7602)\" style=\"fill:#000000; stroke:none; fill-opacity:1\" cx=\"132.277\" cy=\"125.675\" r=\"1\"/>\n",
       "<line clip-path=\"url(#clip7602)\" x1=\"132.277\" y1=\"125.675\" x2=\"133.277\" y2=\"125.675\" style=\"stroke:#e26f46; stroke-opacity:1\"/>\n",
       "<circle clip-path=\"url(#clip7602)\" style=\"fill:#000000; stroke:none; fill-opacity:1\" cx=\"132.799\" cy=\"124.708\" r=\"1\"/>\n",
       "<line clip-path=\"url(#clip7602)\" x1=\"132.799\" y1=\"124.708\" x2=\"133.799\" y2=\"124.708\" style=\"stroke:#e26f46; stroke-opacity:1\"/>\n",
       "<circle clip-path=\"url(#clip7602)\" style=\"fill:#000000; stroke:none; fill-opacity:1\" cx=\"133.322\" cy=\"123.746\" r=\"1\"/>\n",
       "<line clip-path=\"url(#clip7602)\" x1=\"133.322\" y1=\"123.746\" x2=\"134.322\" y2=\"123.746\" style=\"stroke:#e26f46; stroke-opacity:1\"/>\n",
       "<circle clip-path=\"url(#clip7602)\" style=\"fill:#000000; stroke:none; fill-opacity:1\" cx=\"133.844\" cy=\"122.79\" r=\"1\"/>\n",
       "<line clip-path=\"url(#clip7602)\" x1=\"133.844\" y1=\"122.79\" x2=\"134.844\" y2=\"122.79\" style=\"stroke:#e26f46; stroke-opacity:1\"/>\n",
       "<circle clip-path=\"url(#clip7602)\" style=\"fill:#000000; stroke:none; fill-opacity:1\" cx=\"134.366\" cy=\"121.839\" r=\"1\"/>\n",
       "<line clip-path=\"url(#clip7602)\" x1=\"134.366\" y1=\"121.839\" x2=\"135.366\" y2=\"121.839\" style=\"stroke:#e26f46; stroke-opacity:1\"/>\n",
       "<circle clip-path=\"url(#clip7602)\" style=\"fill:#000000; stroke:none; fill-opacity:1\" cx=\"134.888\" cy=\"120.892\" r=\"1\"/>\n",
       "<line clip-path=\"url(#clip7602)\" x1=\"134.888\" y1=\"120.892\" x2=\"135.888\" y2=\"120.892\" style=\"stroke:#e26f46; stroke-opacity:1\"/>\n",
       "<circle clip-path=\"url(#clip7602)\" style=\"fill:#000000; stroke:none; fill-opacity:1\" cx=\"135.411\" cy=\"119.951\" r=\"1\"/>\n",
       "<line clip-path=\"url(#clip7602)\" x1=\"135.411\" y1=\"119.951\" x2=\"136.411\" y2=\"119.951\" style=\"stroke:#e26f46; stroke-opacity:1\"/>\n",
       "<circle clip-path=\"url(#clip7602)\" style=\"fill:#000000; stroke:none; fill-opacity:1\" cx=\"135.933\" cy=\"119.015\" r=\"1\"/>\n",
       "<line clip-path=\"url(#clip7602)\" x1=\"135.933\" y1=\"119.015\" x2=\"136.933\" y2=\"119.015\" style=\"stroke:#e26f46; stroke-opacity:1\"/>\n",
       "<circle clip-path=\"url(#clip7602)\" style=\"fill:#000000; stroke:none; fill-opacity:1\" cx=\"136.455\" cy=\"118.084\" r=\"1\"/>\n",
       "<line clip-path=\"url(#clip7602)\" x1=\"136.455\" y1=\"118.084\" x2=\"137.455\" y2=\"118.084\" style=\"stroke:#e26f46; stroke-opacity:1\"/>\n",
       "<circle clip-path=\"url(#clip7602)\" style=\"fill:#000000; stroke:none; fill-opacity:1\" cx=\"136.977\" cy=\"117.158\" r=\"1\"/>\n",
       "<line clip-path=\"url(#clip7602)\" x1=\"136.977\" y1=\"117.158\" x2=\"137.977\" y2=\"117.158\" style=\"stroke:#e26f46; stroke-opacity:1\"/>\n",
       "<circle clip-path=\"url(#clip7602)\" style=\"fill:#000000; stroke:none; fill-opacity:1\" cx=\"137.5\" cy=\"116.237\" r=\"1\"/>\n",
       "<line clip-path=\"url(#clip7602)\" x1=\"137.5\" y1=\"116.237\" x2=\"138.5\" y2=\"116.237\" style=\"stroke:#e26f46; stroke-opacity:1\"/>\n",
       "<circle clip-path=\"url(#clip7602)\" style=\"fill:#000000; stroke:none; fill-opacity:1\" cx=\"138.022\" cy=\"115.322\" r=\"1\"/>\n",
       "<line clip-path=\"url(#clip7602)\" x1=\"138.022\" y1=\"115.322\" x2=\"139.022\" y2=\"115.322\" style=\"stroke:#e26f46; stroke-opacity:1\"/>\n",
       "<circle clip-path=\"url(#clip7602)\" style=\"fill:#000000; stroke:none; fill-opacity:1\" cx=\"138.544\" cy=\"114.411\" r=\"1\"/>\n",
       "<line clip-path=\"url(#clip7602)\" x1=\"138.544\" y1=\"114.411\" x2=\"139.544\" y2=\"114.411\" style=\"stroke:#e26f46; stroke-opacity:1\"/>\n",
       "<circle clip-path=\"url(#clip7602)\" style=\"fill:#000000; stroke:none; fill-opacity:1\" cx=\"139.067\" cy=\"113.505\" r=\"1\"/>\n",
       "<line clip-path=\"url(#clip7602)\" x1=\"139.067\" y1=\"113.505\" x2=\"140.067\" y2=\"113.505\" style=\"stroke:#e26f46; stroke-opacity:1\"/>\n",
       "<circle clip-path=\"url(#clip7602)\" style=\"fill:#000000; stroke:none; fill-opacity:1\" cx=\"139.589\" cy=\"112.605\" r=\"1\"/>\n",
       "<line clip-path=\"url(#clip7602)\" x1=\"139.589\" y1=\"112.605\" x2=\"140.589\" y2=\"112.605\" style=\"stroke:#e26f46; stroke-opacity:1\"/>\n",
       "<circle clip-path=\"url(#clip7602)\" style=\"fill:#000000; stroke:none; fill-opacity:1\" cx=\"140.111\" cy=\"111.709\" r=\"1\"/>\n",
       "<line clip-path=\"url(#clip7602)\" x1=\"140.111\" y1=\"111.709\" x2=\"141.111\" y2=\"111.709\" style=\"stroke:#e26f46; stroke-opacity:1\"/>\n",
       "<circle clip-path=\"url(#clip7602)\" style=\"fill:#000000; stroke:none; fill-opacity:1\" cx=\"140.633\" cy=\"110.818\" r=\"1\"/>\n",
       "<line clip-path=\"url(#clip7602)\" x1=\"140.633\" y1=\"110.818\" x2=\"141.633\" y2=\"110.818\" style=\"stroke:#e26f46; stroke-opacity:1\"/>\n",
       "<circle clip-path=\"url(#clip7602)\" style=\"fill:#000000; stroke:none; fill-opacity:1\" cx=\"141.156\" cy=\"109.933\" r=\"1\"/>\n",
       "<line clip-path=\"url(#clip7602)\" x1=\"141.156\" y1=\"109.933\" x2=\"142.156\" y2=\"109.933\" style=\"stroke:#e26f46; stroke-opacity:1\"/>\n",
       "<circle clip-path=\"url(#clip7602)\" style=\"fill:#000000; stroke:none; fill-opacity:1\" cx=\"141.678\" cy=\"109.052\" r=\"1\"/>\n",
       "<line clip-path=\"url(#clip7602)\" x1=\"141.678\" y1=\"109.052\" x2=\"142.678\" y2=\"109.052\" style=\"stroke:#e26f46; stroke-opacity:1\"/>\n",
       "<circle clip-path=\"url(#clip7602)\" style=\"fill:#000000; stroke:none; fill-opacity:1\" cx=\"142.2\" cy=\"108.176\" r=\"1\"/>\n",
       "<line clip-path=\"url(#clip7602)\" x1=\"142.2\" y1=\"108.176\" x2=\"143.2\" y2=\"108.176\" style=\"stroke:#e26f46; stroke-opacity:1\"/>\n",
       "<circle clip-path=\"url(#clip7602)\" style=\"fill:#000000; stroke:none; fill-opacity:1\" cx=\"142.723\" cy=\"107.306\" r=\"1\"/>\n",
       "<line clip-path=\"url(#clip7602)\" x1=\"142.723\" y1=\"107.306\" x2=\"143.723\" y2=\"107.306\" style=\"stroke:#e26f46; stroke-opacity:1\"/>\n",
       "<circle clip-path=\"url(#clip7602)\" style=\"fill:#000000; stroke:none; fill-opacity:1\" cx=\"143.245\" cy=\"106.44\" r=\"1\"/>\n",
       "<line clip-path=\"url(#clip7602)\" x1=\"143.245\" y1=\"106.44\" x2=\"144.245\" y2=\"106.44\" style=\"stroke:#e26f46; stroke-opacity:1\"/>\n",
       "<circle clip-path=\"url(#clip7602)\" style=\"fill:#000000; stroke:none; fill-opacity:1\" cx=\"143.767\" cy=\"105.58\" r=\"1\"/>\n",
       "<line clip-path=\"url(#clip7602)\" x1=\"143.767\" y1=\"105.58\" x2=\"144.767\" y2=\"105.58\" style=\"stroke:#e26f46; stroke-opacity:1\"/>\n",
       "<circle clip-path=\"url(#clip7602)\" style=\"fill:#000000; stroke:none; fill-opacity:1\" cx=\"144.289\" cy=\"104.724\" r=\"1\"/>\n",
       "<line clip-path=\"url(#clip7602)\" x1=\"144.289\" y1=\"104.724\" x2=\"145.289\" y2=\"104.724\" style=\"stroke:#e26f46; stroke-opacity:1\"/>\n",
       "<circle clip-path=\"url(#clip7602)\" style=\"fill:#000000; stroke:none; fill-opacity:1\" cx=\"144.812\" cy=\"103.873\" r=\"1\"/>\n",
       "<line clip-path=\"url(#clip7602)\" x1=\"144.812\" y1=\"103.873\" x2=\"145.812\" y2=\"103.873\" style=\"stroke:#e26f46; stroke-opacity:1\"/>\n",
       "<circle clip-path=\"url(#clip7602)\" style=\"fill:#000000; stroke:none; fill-opacity:1\" cx=\"145.334\" cy=\"103.027\" r=\"1\"/>\n",
       "<line clip-path=\"url(#clip7602)\" x1=\"145.334\" y1=\"103.027\" x2=\"146.334\" y2=\"103.027\" style=\"stroke:#e26f46; stroke-opacity:1\"/>\n",
       "<circle clip-path=\"url(#clip7602)\" style=\"fill:#000000; stroke:none; fill-opacity:1\" cx=\"145.856\" cy=\"102.186\" r=\"1\"/>\n",
       "<line clip-path=\"url(#clip7602)\" x1=\"145.856\" y1=\"102.186\" x2=\"146.856\" y2=\"102.186\" style=\"stroke:#e26f46; stroke-opacity:1\"/>\n",
       "<circle clip-path=\"url(#clip7602)\" style=\"fill:#000000; stroke:none; fill-opacity:1\" cx=\"146.379\" cy=\"101.35\" r=\"1\"/>\n",
       "<line clip-path=\"url(#clip7602)\" x1=\"146.379\" y1=\"101.35\" x2=\"147.379\" y2=\"101.35\" style=\"stroke:#e26f46; stroke-opacity:1\"/>\n",
       "<circle clip-path=\"url(#clip7602)\" style=\"fill:#000000; stroke:none; fill-opacity:1\" cx=\"146.901\" cy=\"100.519\" r=\"1\"/>\n",
       "<line clip-path=\"url(#clip7602)\" x1=\"146.901\" y1=\"100.519\" x2=\"147.901\" y2=\"100.519\" style=\"stroke:#e26f46; stroke-opacity:1\"/>\n",
       "<circle clip-path=\"url(#clip7602)\" style=\"fill:#000000; stroke:none; fill-opacity:1\" cx=\"147.423\" cy=\"99.6932\" r=\"1\"/>\n",
       "<line clip-path=\"url(#clip7602)\" x1=\"147.423\" y1=\"99.6932\" x2=\"148.423\" y2=\"99.6932\" style=\"stroke:#e26f46; stroke-opacity:1\"/>\n",
       "<circle clip-path=\"url(#clip7602)\" style=\"fill:#000000; stroke:none; fill-opacity:1\" cx=\"147.945\" cy=\"98.8719\" r=\"1\"/>\n",
       "<line clip-path=\"url(#clip7602)\" x1=\"147.945\" y1=\"98.8719\" x2=\"148.945\" y2=\"98.8719\" style=\"stroke:#e26f46; stroke-opacity:1\"/>\n",
       "<circle clip-path=\"url(#clip7602)\" style=\"fill:#000000; stroke:none; fill-opacity:1\" cx=\"148.468\" cy=\"98.0556\" r=\"1\"/>\n",
       "<line clip-path=\"url(#clip7602)\" x1=\"148.468\" y1=\"98.0556\" x2=\"149.468\" y2=\"98.0556\" style=\"stroke:#e26f46; stroke-opacity:1\"/>\n",
       "<circle clip-path=\"url(#clip7602)\" style=\"fill:#000000; stroke:none; fill-opacity:1\" cx=\"148.99\" cy=\"97.2442\" r=\"1\"/>\n",
       "<line clip-path=\"url(#clip7602)\" x1=\"148.99\" y1=\"97.2442\" x2=\"149.99\" y2=\"97.2442\" style=\"stroke:#e26f46; stroke-opacity:1\"/>\n",
       "<polygon clip-path=\"url(#clip7600)\" points=\"\n",
       "489.608,78.051 562.315,78.051 562.315,32.691 489.608,32.691 \n",
       "  \" fill=\"#ffffff\" fill-opacity=\"1\"/>\n",
       "<polyline clip-path=\"url(#clip7600)\" style=\"stroke:#000000; stroke-width:1; stroke-opacity:1; fill:none\" points=\"\n",
       "  489.608,78.051 562.315,78.051 562.315,32.691 489.608,32.691 489.608,78.051 \n",
       "  \"/>\n",
       "<polyline clip-path=\"url(#clip7600)\" style=\"stroke:#009af9; stroke-width:1; stroke-opacity:1; fill:none\" points=\"\n",
       "  495.608,47.811 531.608,47.811 \n",
       "  \"/>\n",
       "<g clip-path=\"url(#clip7600)\">\n",
       "<text style=\"fill:#000000; fill-opacity:1; font-family:Arial,Helvetica Neue,Helvetica,sans-serif; font-size:12; text-anchor:start;\" transform=\"rotate(0, 537.608, 52.311)\" x=\"537.608\" y=\"52.311\">y1</text>\n",
       "</g>\n",
       "<circle clip-path=\"url(#clip7600)\" style=\"fill:#000000; stroke:none; fill-opacity:1\" cx=\"516.608\" cy=\"62.931\" r=\"6\"/>\n",
       "<circle clip-path=\"url(#clip7600)\" style=\"fill:#e26f46; stroke:none; fill-opacity:1\" cx=\"516.608\" cy=\"62.931\" r=\"5\"/>\n",
       "<g clip-path=\"url(#clip7600)\">\n",
       "<text style=\"fill:#000000; fill-opacity:1; font-family:Arial,Helvetica Neue,Helvetica,sans-serif; font-size:12; text-anchor:start;\" transform=\"rotate(0, 537.608, 67.431)\" x=\"537.608\" y=\"67.431\">y2</text>\n",
       "</g>\n",
       "</svg>\n"
      ]
     },
     "execution_count": 52,
     "metadata": {},
     "output_type": "execute_result"
    }
   ],
   "source": [
    "using Plots\n",
    "gr()\n",
    "\n",
    "equis1 = linspace(XX1.inf,XX1.sup, 200)\n",
    "equis2 = linspace(XX2.inf,XX2.sup, 1000)\n",
    "\n",
    "plot(equis2, fff.(equis2))\n",
    "scatter!(equis1, fff.(equis1), markersize=0.3)"
   ]
  },
  {
   "cell_type": "code",
   "execution_count": 55,
   "metadata": {
    "scrolled": true
   },
   "outputs": [
    {
     "name": "stdout",
     "output_type": "stream",
     "text": [
      "(centredform(f4, f41), f4(f41)) = (Intervalo(1.7916666666666665, 2.5416666666666665), Intervalo(1.5, 3.0))\n"
     ]
    }
   ],
   "source": [
    "f4(x) = x + 1/x \n",
    "\n",
    "f41 = Intervalo(1,2)\n",
    "\n",
    "@show centredform(f4,f41), f4(f41);"
   ]
  },
  {
   "cell_type": "code",
   "execution_count": 54,
   "metadata": {},
   "outputs": [
    {
     "name": "stdout",
     "output_type": "stream",
     "text": [
      "centredform(g, gx) = Intervalo(-2.8055555555555554, 3.6944444444444446)\n",
      "g(gx) = Intervalo(-Inf, Inf)\n"
     ]
    },
    {
     "data": {
      "text/plain": [
       "Intervalo(-Inf, Inf)"
      ]
     },
     "execution_count": 54,
     "metadata": {},
     "output_type": "execute_result"
    }
   ],
   "source": [
    "g(x) = 1/x\n",
    "\n",
    "gx=Intervalo(-1, 5.5)\n",
    "@show centredform(g, gx)\n",
    "@show g(gx)"
   ]
  },
  {
   "cell_type": "code",
   "execution_count": 55,
   "metadata": {},
   "outputs": [
    {
     "data": {
      "text/plain": [
       "-4.0"
      ]
     },
     "execution_count": 55,
     "metadata": {},
     "output_type": "execute_result"
    }
   ],
   "source": [
    "ForwardDiff.derivative(g,0.5)"
   ]
  },
  {
   "cell_type": "code",
   "execution_count": 66,
   "metadata": {},
   "outputs": [
    {
     "name": "stdout",
     "output_type": "stream",
     "text": [
      "(centredform(f5, f5X1), centredform(f5, f5X2)) = (Intervalo(-4.3321672216701534, 19.295584292804755), Intervalo(-Inf, Inf))\n",
      "(f5(f5X1), f5(f5X2)) = (Intervalo(1.3719427019669197, 16.9188286785579), Intervalo(1.0, 16.9188286785579))\n"
     ]
    },
    {
     "data": {
      "text/plain": [
       "(Intervalo(1.3719427019669197, 16.9188286785579), Intervalo(1.0, 16.9188286785579))"
      ]
     },
     "execution_count": 66,
     "metadata": {},
     "output_type": "execute_result"
    }
   ],
   "source": [
    "f5(x) = exp(sqrt(x))\n",
    "f5X1 = Intervalo(0.1,8)\n",
    "f5X2 = Intervalo(0,8)\n",
    "\n",
    "@show centredform(f5, f5X1), centredform(f5, f5X2)\n",
    "@show f5(f5X1), f5(f5X2)"
   ]
  },
  {
   "cell_type": "code",
   "execution_count": 65,
   "metadata": {
    "scrolled": false
   },
   "outputs": [
    {
     "data": {
      "text/html": [
       "<?xml version=\"1.0\" encoding=\"utf-8\"?>\n",
       "<svg xmlns=\"http://www.w3.org/2000/svg\" xmlns:xlink=\"http://www.w3.org/1999/xlink\" width=\"600\" height=\"400\" viewBox=\"0 0 600 400\">\n",
       "<defs>\n",
       "  <clipPath id=\"clip00\">\n",
       "    <rect x=\"0\" y=\"0\" width=\"600\" height=\"400\"/>\n",
       "  </clipPath>\n",
       "</defs>\n",
       "<polygon clip-path=\"url(#clip00)\" points=\"\n",
       "0,400 600,400 600,0 0,0 \n",
       "  \" fill=\"#ffffff\" fill-opacity=\"1\"/>\n",
       "<defs>\n",
       "  <clipPath id=\"clip01\">\n",
       "    <rect x=\"120\" y=\"0\" width=\"421\" height=\"400\"/>\n",
       "  </clipPath>\n",
       "</defs>\n",
       "<polygon clip-path=\"url(#clip00)\" points=\"\n",
       "39.3701,376.378 592.126,376.378 592.126,7.87402 39.3701,7.87402 \n",
       "  \" fill=\"#ffffff\" fill-opacity=\"1\"/>\n",
       "<defs>\n",
       "  <clipPath id=\"clip02\">\n",
       "    <rect x=\"39\" y=\"7\" width=\"554\" height=\"370\"/>\n",
       "  </clipPath>\n",
       "</defs>\n",
       "<polyline clip-path=\"url(#clip02)\" style=\"stroke:#000000; stroke-width:0.5; stroke-opacity:0.1; fill:none\" points=\"\n",
       "  172.311,370.85 172.311,13.4016 \n",
       "  \"/>\n",
       "<polyline clip-path=\"url(#clip02)\" style=\"stroke:#000000; stroke-width:0.5; stroke-opacity:0.1; fill:none\" points=\"\n",
       "  312.25,370.85 312.25,13.4016 \n",
       "  \"/>\n",
       "<polyline clip-path=\"url(#clip02)\" style=\"stroke:#000000; stroke-width:0.5; stroke-opacity:0.1; fill:none\" points=\"\n",
       "  452.188,370.85 452.188,13.4016 \n",
       "  \"/>\n",
       "<polyline clip-path=\"url(#clip02)\" style=\"stroke:#000000; stroke-width:0.5; stroke-opacity:0.1; fill:none\" points=\"\n",
       "  592.126,370.85 592.126,13.4016 \n",
       "  \"/>\n",
       "<polyline clip-path=\"url(#clip02)\" style=\"stroke:#000000; stroke-width:0.5; stroke-opacity:0.1; fill:none\" points=\"\n",
       "  47.6614,376.378 583.835,376.378 \n",
       "  \"/>\n",
       "<polyline clip-path=\"url(#clip02)\" style=\"stroke:#000000; stroke-width:0.5; stroke-opacity:0.1; fill:none\" points=\"\n",
       "  47.6614,355.906 583.835,355.906 \n",
       "  \"/>\n",
       "<polyline clip-path=\"url(#clip02)\" style=\"stroke:#000000; stroke-width:0.5; stroke-opacity:0.1; fill:none\" points=\"\n",
       "  47.6614,335.433 583.835,335.433 \n",
       "  \"/>\n",
       "<polyline clip-path=\"url(#clip02)\" style=\"stroke:#000000; stroke-width:0.5; stroke-opacity:0.1; fill:none\" points=\"\n",
       "  47.6614,314.961 583.835,314.961 \n",
       "  \"/>\n",
       "<polyline clip-path=\"url(#clip02)\" style=\"stroke:#000000; stroke-width:0.5; stroke-opacity:0.1; fill:none\" points=\"\n",
       "  47.6614,294.488 583.835,294.488 \n",
       "  \"/>\n",
       "<polyline clip-path=\"url(#clip02)\" style=\"stroke:#000000; stroke-width:0.5; stroke-opacity:0.1; fill:none\" points=\"\n",
       "  47.6614,274.016 583.835,274.016 \n",
       "  \"/>\n",
       "<polyline clip-path=\"url(#clip02)\" style=\"stroke:#000000; stroke-width:0.5; stroke-opacity:0.1; fill:none\" points=\"\n",
       "  47.6614,253.543 583.835,253.543 \n",
       "  \"/>\n",
       "<polyline clip-path=\"url(#clip02)\" style=\"stroke:#000000; stroke-width:0.5; stroke-opacity:0.1; fill:none\" points=\"\n",
       "  47.6614,233.071 583.835,233.071 \n",
       "  \"/>\n",
       "<polyline clip-path=\"url(#clip02)\" style=\"stroke:#000000; stroke-width:0.5; stroke-opacity:0.1; fill:none\" points=\"\n",
       "  47.6614,212.598 583.835,212.598 \n",
       "  \"/>\n",
       "<polyline clip-path=\"url(#clip02)\" style=\"stroke:#000000; stroke-width:0.5; stroke-opacity:0.1; fill:none\" points=\"\n",
       "  47.6614,192.126 583.835,192.126 \n",
       "  \"/>\n",
       "<polyline clip-path=\"url(#clip02)\" style=\"stroke:#000000; stroke-width:0.5; stroke-opacity:0.1; fill:none\" points=\"\n",
       "  47.6614,171.654 583.835,171.654 \n",
       "  \"/>\n",
       "<polyline clip-path=\"url(#clip02)\" style=\"stroke:#000000; stroke-width:0.5; stroke-opacity:0.1; fill:none\" points=\"\n",
       "  47.6614,151.181 583.835,151.181 \n",
       "  \"/>\n",
       "<polyline clip-path=\"url(#clip02)\" style=\"stroke:#000000; stroke-width:0.5; stroke-opacity:0.1; fill:none\" points=\"\n",
       "  47.6614,130.709 583.835,130.709 \n",
       "  \"/>\n",
       "<polyline clip-path=\"url(#clip02)\" style=\"stroke:#000000; stroke-width:0.5; stroke-opacity:0.1; fill:none\" points=\"\n",
       "  47.6614,110.236 583.835,110.236 \n",
       "  \"/>\n",
       "<polyline clip-path=\"url(#clip02)\" style=\"stroke:#000000; stroke-width:0.5; stroke-opacity:0.1; fill:none\" points=\"\n",
       "  47.6614,89.7638 583.835,89.7638 \n",
       "  \"/>\n",
       "<polyline clip-path=\"url(#clip02)\" style=\"stroke:#000000; stroke-width:0.5; stroke-opacity:0.1; fill:none\" points=\"\n",
       "  47.6614,69.2913 583.835,69.2913 \n",
       "  \"/>\n",
       "<polyline clip-path=\"url(#clip02)\" style=\"stroke:#000000; stroke-width:0.5; stroke-opacity:0.1; fill:none\" points=\"\n",
       "  47.6614,48.8189 583.835,48.8189 \n",
       "  \"/>\n",
       "<polyline clip-path=\"url(#clip02)\" style=\"stroke:#000000; stroke-width:0.5; stroke-opacity:0.1; fill:none\" points=\"\n",
       "  47.6614,28.3465 583.835,28.3465 \n",
       "  \"/>\n",
       "<polyline clip-path=\"url(#clip02)\" style=\"stroke:#000000; stroke-width:0.5; stroke-opacity:0.1; fill:none\" points=\"\n",
       "  47.6614,7.87402 583.835,7.87402 \n",
       "  \"/>\n",
       "<polyline clip-path=\"url(#clip00)\" style=\"stroke:#000000; stroke-width:1; stroke-opacity:1; fill:none\" points=\"\n",
       "  39.3701,376.378 592.126,376.378 \n",
       "  \"/>\n",
       "<polyline clip-path=\"url(#clip00)\" style=\"stroke:#000000; stroke-width:1; stroke-opacity:1; fill:none\" points=\"\n",
       "  172.311,376.378 172.311,370.85 \n",
       "  \"/>\n",
       "<polyline clip-path=\"url(#clip00)\" style=\"stroke:#000000; stroke-width:1; stroke-opacity:1; fill:none\" points=\"\n",
       "  312.25,376.378 312.25,370.85 \n",
       "  \"/>\n",
       "<polyline clip-path=\"url(#clip00)\" style=\"stroke:#000000; stroke-width:1; stroke-opacity:1; fill:none\" points=\"\n",
       "  452.188,376.378 452.188,370.85 \n",
       "  \"/>\n",
       "<polyline clip-path=\"url(#clip00)\" style=\"stroke:#000000; stroke-width:1; stroke-opacity:1; fill:none\" points=\"\n",
       "  592.126,376.378 592.126,370.85 \n",
       "  \"/>\n",
       "<polyline clip-path=\"url(#clip00)\" style=\"stroke:#000000; stroke-width:1; stroke-opacity:1; fill:none\" points=\"\n",
       "  39.3701,376.378 39.3701,7.87402 \n",
       "  \"/>\n",
       "<polyline clip-path=\"url(#clip00)\" style=\"stroke:#000000; stroke-width:1; stroke-opacity:1; fill:none\" points=\"\n",
       "  39.3701,376.378 47.6614,376.378 \n",
       "  \"/>\n",
       "<polyline clip-path=\"url(#clip00)\" style=\"stroke:#000000; stroke-width:1; stroke-opacity:1; fill:none\" points=\"\n",
       "  39.3701,355.906 47.6614,355.906 \n",
       "  \"/>\n",
       "<polyline clip-path=\"url(#clip00)\" style=\"stroke:#000000; stroke-width:1; stroke-opacity:1; fill:none\" points=\"\n",
       "  39.3701,335.433 47.6614,335.433 \n",
       "  \"/>\n",
       "<polyline clip-path=\"url(#clip00)\" style=\"stroke:#000000; stroke-width:1; stroke-opacity:1; fill:none\" points=\"\n",
       "  39.3701,314.961 47.6614,314.961 \n",
       "  \"/>\n",
       "<polyline clip-path=\"url(#clip00)\" style=\"stroke:#000000; stroke-width:1; stroke-opacity:1; fill:none\" points=\"\n",
       "  39.3701,294.488 47.6614,294.488 \n",
       "  \"/>\n",
       "<polyline clip-path=\"url(#clip00)\" style=\"stroke:#000000; stroke-width:1; stroke-opacity:1; fill:none\" points=\"\n",
       "  39.3701,274.016 47.6614,274.016 \n",
       "  \"/>\n",
       "<polyline clip-path=\"url(#clip00)\" style=\"stroke:#000000; stroke-width:1; stroke-opacity:1; fill:none\" points=\"\n",
       "  39.3701,253.543 47.6614,253.543 \n",
       "  \"/>\n",
       "<polyline clip-path=\"url(#clip00)\" style=\"stroke:#000000; stroke-width:1; stroke-opacity:1; fill:none\" points=\"\n",
       "  39.3701,233.071 47.6614,233.071 \n",
       "  \"/>\n",
       "<polyline clip-path=\"url(#clip00)\" style=\"stroke:#000000; stroke-width:1; stroke-opacity:1; fill:none\" points=\"\n",
       "  39.3701,212.598 47.6614,212.598 \n",
       "  \"/>\n",
       "<polyline clip-path=\"url(#clip00)\" style=\"stroke:#000000; stroke-width:1; stroke-opacity:1; fill:none\" points=\"\n",
       "  39.3701,192.126 47.6614,192.126 \n",
       "  \"/>\n",
       "<polyline clip-path=\"url(#clip00)\" style=\"stroke:#000000; stroke-width:1; stroke-opacity:1; fill:none\" points=\"\n",
       "  39.3701,171.654 47.6614,171.654 \n",
       "  \"/>\n",
       "<polyline clip-path=\"url(#clip00)\" style=\"stroke:#000000; stroke-width:1; stroke-opacity:1; fill:none\" points=\"\n",
       "  39.3701,151.181 47.6614,151.181 \n",
       "  \"/>\n",
       "<polyline clip-path=\"url(#clip00)\" style=\"stroke:#000000; stroke-width:1; stroke-opacity:1; fill:none\" points=\"\n",
       "  39.3701,130.709 47.6614,130.709 \n",
       "  \"/>\n",
       "<polyline clip-path=\"url(#clip00)\" style=\"stroke:#000000; stroke-width:1; stroke-opacity:1; fill:none\" points=\"\n",
       "  39.3701,110.236 47.6614,110.236 \n",
       "  \"/>\n",
       "<polyline clip-path=\"url(#clip00)\" style=\"stroke:#000000; stroke-width:1; stroke-opacity:1; fill:none\" points=\"\n",
       "  39.3701,89.7638 47.6614,89.7638 \n",
       "  \"/>\n",
       "<polyline clip-path=\"url(#clip00)\" style=\"stroke:#000000; stroke-width:1; stroke-opacity:1; fill:none\" points=\"\n",
       "  39.3701,69.2913 47.6614,69.2913 \n",
       "  \"/>\n",
       "<polyline clip-path=\"url(#clip00)\" style=\"stroke:#000000; stroke-width:1; stroke-opacity:1; fill:none\" points=\"\n",
       "  39.3701,48.8189 47.6614,48.8189 \n",
       "  \"/>\n",
       "<polyline clip-path=\"url(#clip00)\" style=\"stroke:#000000; stroke-width:1; stroke-opacity:1; fill:none\" points=\"\n",
       "  39.3701,28.3465 47.6614,28.3465 \n",
       "  \"/>\n",
       "<polyline clip-path=\"url(#clip00)\" style=\"stroke:#000000; stroke-width:1; stroke-opacity:1; fill:none\" points=\"\n",
       "  39.3701,7.87402 47.6614,7.87402 \n",
       "  \"/>\n",
       "<g clip-path=\"url(#clip00)\">\n",
       "<text style=\"fill:#000000; fill-opacity:1; font-family:Arial,Helvetica Neue,Helvetica,sans-serif; font-size:12; text-anchor:middle;\" transform=\"rotate(0, 172.311, 390.178)\" x=\"172.311\" y=\"390.178\">2</text>\n",
       "</g>\n",
       "<g clip-path=\"url(#clip00)\">\n",
       "<text style=\"fill:#000000; fill-opacity:1; font-family:Arial,Helvetica Neue,Helvetica,sans-serif; font-size:12; text-anchor:middle;\" transform=\"rotate(0, 312.25, 390.178)\" x=\"312.25\" y=\"390.178\">4</text>\n",
       "</g>\n",
       "<g clip-path=\"url(#clip00)\">\n",
       "<text style=\"fill:#000000; fill-opacity:1; font-family:Arial,Helvetica Neue,Helvetica,sans-serif; font-size:12; text-anchor:middle;\" transform=\"rotate(0, 452.188, 390.178)\" x=\"452.188\" y=\"390.178\">6</text>\n",
       "</g>\n",
       "<g clip-path=\"url(#clip00)\">\n",
       "<text style=\"fill:#000000; fill-opacity:1; font-family:Arial,Helvetica Neue,Helvetica,sans-serif; font-size:12; text-anchor:middle;\" transform=\"rotate(0, 592.126, 390.178)\" x=\"592.126\" y=\"390.178\">8</text>\n",
       "</g>\n",
       "<g clip-path=\"url(#clip00)\">\n",
       "<text style=\"fill:#000000; fill-opacity:1; font-family:Arial,Helvetica Neue,Helvetica,sans-serif; font-size:12; text-anchor:end;\" transform=\"rotate(0, 33.3701, 380.878)\" x=\"33.3701\" y=\"380.878\">0</text>\n",
       "</g>\n",
       "<g clip-path=\"url(#clip00)\">\n",
       "<text style=\"fill:#000000; fill-opacity:1; font-family:Arial,Helvetica Neue,Helvetica,sans-serif; font-size:12; text-anchor:end;\" transform=\"rotate(0, 33.3701, 360.406)\" x=\"33.3701\" y=\"360.406\">1</text>\n",
       "</g>\n",
       "<g clip-path=\"url(#clip00)\">\n",
       "<text style=\"fill:#000000; fill-opacity:1; font-family:Arial,Helvetica Neue,Helvetica,sans-serif; font-size:12; text-anchor:end;\" transform=\"rotate(0, 33.3701, 339.933)\" x=\"33.3701\" y=\"339.933\">2</text>\n",
       "</g>\n",
       "<g clip-path=\"url(#clip00)\">\n",
       "<text style=\"fill:#000000; fill-opacity:1; font-family:Arial,Helvetica Neue,Helvetica,sans-serif; font-size:12; text-anchor:end;\" transform=\"rotate(0, 33.3701, 319.461)\" x=\"33.3701\" y=\"319.461\">3</text>\n",
       "</g>\n",
       "<g clip-path=\"url(#clip00)\">\n",
       "<text style=\"fill:#000000; fill-opacity:1; font-family:Arial,Helvetica Neue,Helvetica,sans-serif; font-size:12; text-anchor:end;\" transform=\"rotate(0, 33.3701, 298.988)\" x=\"33.3701\" y=\"298.988\">4</text>\n",
       "</g>\n",
       "<g clip-path=\"url(#clip00)\">\n",
       "<text style=\"fill:#000000; fill-opacity:1; font-family:Arial,Helvetica Neue,Helvetica,sans-serif; font-size:12; text-anchor:end;\" transform=\"rotate(0, 33.3701, 278.516)\" x=\"33.3701\" y=\"278.516\">5</text>\n",
       "</g>\n",
       "<g clip-path=\"url(#clip00)\">\n",
       "<text style=\"fill:#000000; fill-opacity:1; font-family:Arial,Helvetica Neue,Helvetica,sans-serif; font-size:12; text-anchor:end;\" transform=\"rotate(0, 33.3701, 258.043)\" x=\"33.3701\" y=\"258.043\">6</text>\n",
       "</g>\n",
       "<g clip-path=\"url(#clip00)\">\n",
       "<text style=\"fill:#000000; fill-opacity:1; font-family:Arial,Helvetica Neue,Helvetica,sans-serif; font-size:12; text-anchor:end;\" transform=\"rotate(0, 33.3701, 237.571)\" x=\"33.3701\" y=\"237.571\">7</text>\n",
       "</g>\n",
       "<g clip-path=\"url(#clip00)\">\n",
       "<text style=\"fill:#000000; fill-opacity:1; font-family:Arial,Helvetica Neue,Helvetica,sans-serif; font-size:12; text-anchor:end;\" transform=\"rotate(0, 33.3701, 217.098)\" x=\"33.3701\" y=\"217.098\">8</text>\n",
       "</g>\n",
       "<g clip-path=\"url(#clip00)\">\n",
       "<text style=\"fill:#000000; fill-opacity:1; font-family:Arial,Helvetica Neue,Helvetica,sans-serif; font-size:12; text-anchor:end;\" transform=\"rotate(0, 33.3701, 196.626)\" x=\"33.3701\" y=\"196.626\">9</text>\n",
       "</g>\n",
       "<g clip-path=\"url(#clip00)\">\n",
       "<text style=\"fill:#000000; fill-opacity:1; font-family:Arial,Helvetica Neue,Helvetica,sans-serif; font-size:12; text-anchor:end;\" transform=\"rotate(0, 33.3701, 176.154)\" x=\"33.3701\" y=\"176.154\">10</text>\n",
       "</g>\n",
       "<g clip-path=\"url(#clip00)\">\n",
       "<text style=\"fill:#000000; fill-opacity:1; font-family:Arial,Helvetica Neue,Helvetica,sans-serif; font-size:12; text-anchor:end;\" transform=\"rotate(0, 33.3701, 155.681)\" x=\"33.3701\" y=\"155.681\">11</text>\n",
       "</g>\n",
       "<g clip-path=\"url(#clip00)\">\n",
       "<text style=\"fill:#000000; fill-opacity:1; font-family:Arial,Helvetica Neue,Helvetica,sans-serif; font-size:12; text-anchor:end;\" transform=\"rotate(0, 33.3701, 135.209)\" x=\"33.3701\" y=\"135.209\">12</text>\n",
       "</g>\n",
       "<g clip-path=\"url(#clip00)\">\n",
       "<text style=\"fill:#000000; fill-opacity:1; font-family:Arial,Helvetica Neue,Helvetica,sans-serif; font-size:12; text-anchor:end;\" transform=\"rotate(0, 33.3701, 114.736)\" x=\"33.3701\" y=\"114.736\">13</text>\n",
       "</g>\n",
       "<g clip-path=\"url(#clip00)\">\n",
       "<text style=\"fill:#000000; fill-opacity:1; font-family:Arial,Helvetica Neue,Helvetica,sans-serif; font-size:12; text-anchor:end;\" transform=\"rotate(0, 33.3701, 94.2638)\" x=\"33.3701\" y=\"94.2638\">14</text>\n",
       "</g>\n",
       "<g clip-path=\"url(#clip00)\">\n",
       "<text style=\"fill:#000000; fill-opacity:1; font-family:Arial,Helvetica Neue,Helvetica,sans-serif; font-size:12; text-anchor:end;\" transform=\"rotate(0, 33.3701, 73.7913)\" x=\"33.3701\" y=\"73.7913\">15</text>\n",
       "</g>\n",
       "<g clip-path=\"url(#clip00)\">\n",
       "<text style=\"fill:#000000; fill-opacity:1; font-family:Arial,Helvetica Neue,Helvetica,sans-serif; font-size:12; text-anchor:end;\" transform=\"rotate(0, 33.3701, 53.3189)\" x=\"33.3701\" y=\"53.3189\">16</text>\n",
       "</g>\n",
       "<g clip-path=\"url(#clip00)\">\n",
       "<text style=\"fill:#000000; fill-opacity:1; font-family:Arial,Helvetica Neue,Helvetica,sans-serif; font-size:12; text-anchor:end;\" transform=\"rotate(0, 33.3701, 32.8465)\" x=\"33.3701\" y=\"32.8465\">17</text>\n",
       "</g>\n",
       "<g clip-path=\"url(#clip00)\">\n",
       "<text style=\"fill:#000000; fill-opacity:1; font-family:Arial,Helvetica Neue,Helvetica,sans-serif; font-size:12; text-anchor:end;\" transform=\"rotate(0, 33.3701, 12.374)\" x=\"33.3701\" y=\"12.374\">18</text>\n",
       "</g>\n",
       "<polyline clip-path=\"url(#clip02)\" style=\"stroke:#009af9; stroke-width:1; stroke-opacity:1; fill:none\" points=\"\n",
       "  39.3701,348.291 42.1477,346.628 44.9254,345.109 47.7031,343.685 50.4808,342.329 53.2584,341.024 56.0361,339.757 58.8138,338.521 61.5914,337.31 64.3691,336.12 \n",
       "  67.1468,334.946 69.9244,333.786 72.7021,332.637 75.4798,331.498 78.2574,330.367 81.0351,329.242 83.8128,328.123 86.5904,327.008 89.3681,325.896 92.1458,324.787 \n",
       "  94.9234,323.68 97.7011,322.574 100.479,321.469 103.256,320.365 106.034,319.26 108.812,318.154 111.589,317.048 114.367,315.941 117.145,314.832 119.922,313.721 \n",
       "  122.7,312.608 125.478,311.493 128.255,310.375 131.033,309.254 133.811,308.131 136.588,307.004 139.366,305.874 142.144,304.741 144.921,303.604 147.699,302.463 \n",
       "  150.477,301.318 153.254,300.169 156.032,299.016 158.81,297.859 161.587,296.697 164.365,295.531 167.143,294.361 169.92,293.185 172.698,292.005 175.476,290.82 \n",
       "  178.253,289.63 181.031,288.435 183.809,287.235 186.586,286.029 189.364,284.819 192.142,283.603 194.919,282.382 197.697,281.155 200.475,279.922 203.252,278.684 \n",
       "  206.03,277.441 208.808,276.191 211.585,274.936 214.363,273.675 217.141,272.408 219.918,271.135 222.696,269.856 225.474,268.571 228.251,267.28 231.029,265.982 \n",
       "  233.807,264.679 236.584,263.369 239.362,262.053 242.14,260.73 244.918,259.401 247.695,258.066 250.473,256.724 253.251,255.375 256.028,254.02 258.806,252.658 \n",
       "  261.584,251.29 264.361,249.915 267.139,248.533 269.917,247.144 272.694,245.748 275.472,244.346 278.25,242.936 281.027,241.52 283.805,240.096 286.583,238.666 \n",
       "  289.36,237.228 292.138,235.783 294.916,234.331 297.693,232.872 300.471,231.406 303.249,229.932 306.026,228.451 308.804,226.963 311.582,225.467 314.359,223.964 \n",
       "  317.137,222.453 319.915,220.935 322.692,219.409 325.47,217.875 328.248,216.334 331.025,214.786 333.803,213.229 336.581,211.665 339.358,210.093 342.136,208.514 \n",
       "  344.914,206.926 347.691,205.331 350.469,203.728 353.247,202.116 356.024,200.497 358.802,198.87 361.58,197.235 364.357,195.591 367.135,193.94 369.913,192.28 \n",
       "  372.69,190.612 375.468,188.936 378.246,187.252 381.023,185.559 383.801,183.858 386.579,182.149 389.356,180.431 392.134,178.705 394.912,176.971 397.689,175.227 \n",
       "  400.467,173.476 403.245,171.716 406.022,169.947 408.8,168.169 411.578,166.383 414.355,164.588 417.133,162.785 419.911,160.972 422.688,159.151 425.466,157.321 \n",
       "  428.244,155.482 431.021,153.635 433.799,151.778 436.577,149.912 439.354,148.037 442.132,146.153 444.91,144.26 447.687,142.358 450.465,140.447 453.243,138.527 \n",
       "  456.02,136.597 458.798,134.658 461.576,132.71 464.353,130.753 467.131,128.786 469.909,126.81 472.686,124.824 475.464,122.829 478.242,120.824 481.019,118.81 \n",
       "  483.797,116.786 486.575,114.753 489.352,112.71 492.13,110.657 494.908,108.594 497.685,106.522 500.463,104.44 503.241,102.348 506.018,100.247 508.796,98.1351 \n",
       "  511.574,96.0136 514.351,93.8821 517.129,91.7406 519.907,89.5891 522.684,87.4276 525.462,85.2559 528.24,83.074 531.017,80.882 533.795,78.6798 536.573,76.4673 \n",
       "  539.35,74.2445 542.128,72.0114 544.906,69.768 547.683,67.5141 550.461,65.2498 553.239,62.975 556.016,60.6898 558.794,58.3939 561.572,56.0875 564.349,53.7705 \n",
       "  567.127,51.4429 569.905,49.1045 572.682,46.7554 575.46,44.3955 578.238,42.0249 581.015,39.6434 583.793,37.251 586.571,34.8477 589.348,32.4335 592.126,30.0082 \n",
       "  \n",
       "  \"/>\n",
       "<polygon clip-path=\"url(#clip00)\" points=\"\n",
       "501.61,58.994 574.126,58.994 574.126,28.754 501.61,28.754 \n",
       "  \" fill=\"#ffffff\" fill-opacity=\"1\"/>\n",
       "<polyline clip-path=\"url(#clip00)\" style=\"stroke:#000000; stroke-width:1; stroke-opacity:1; fill:none\" points=\"\n",
       "  501.61,58.994 574.126,58.994 574.126,28.754 501.61,28.754 501.61,58.994 \n",
       "  \"/>\n",
       "<polyline clip-path=\"url(#clip00)\" style=\"stroke:#009af9; stroke-width:1; stroke-opacity:1; fill:none\" points=\"\n",
       "  507.61,43.874 543.61,43.874 \n",
       "  \"/>\n",
       "<g clip-path=\"url(#clip00)\">\n",
       "<text style=\"fill:#000000; fill-opacity:1; font-family:Arial,Helvetica Neue,Helvetica,sans-serif; font-size:12; text-anchor:start;\" transform=\"rotate(0, 549.61, 48.374)\" x=\"549.61\" y=\"48.374\">y1</text>\n",
       "</g>\n",
       "</svg>\n"
      ]
     },
     "execution_count": 65,
     "metadata": {},
     "output_type": "execute_result"
    }
   ],
   "source": [
    "equisf5 = linspace(f5X1.inf,f5X1.sup, 200)\n",
    "\n",
    "plot(ylim=(0,18),yticks=0:1:18)\n",
    "plot!(equisf5, f5.(equisf5))"
   ]
  },
  {
   "cell_type": "code",
   "execution_count": null,
   "metadata": {},
   "outputs": [],
   "source": []
  }
 ],
 "metadata": {
  "kernelspec": {
   "display_name": "Julia 0.6.0",
   "language": "julia",
   "name": "julia-0.6"
  },
  "language_info": {
   "file_extension": ".jl",
   "mimetype": "application/julia",
   "name": "julia",
   "version": "0.6.0"
  }
 },
 "nbformat": 4,
 "nbformat_minor": 2
}
