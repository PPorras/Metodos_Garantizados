{
 "cells": [
  {
   "cell_type": "markdown",
   "metadata": {},
   "source": [
    "# Diferenciación automática"
   ]
  },
  {
   "cell_type": "markdown",
   "metadata": {},
   "source": [
    "En este notebook, veremos una metodología para calcular derivadas numéricamente de forma *exacta*, la **diferenciación automática** o **diferenciación algorítmica**"
   ]
  },
  {
   "cell_type": "markdown",
   "metadata": {},
   "source": [
    "## Significado de la derivada"
   ]
  },
  {
   "cell_type": "markdown",
   "metadata": {},
   "source": [
    "¿Para qué sirven las derivadas?\n",
    "\n",
    "Es una medida de tasas de cambio"
   ]
  },
  {
   "cell_type": "markdown",
   "metadata": {},
   "source": [
    "**[1]** (i) Supón que quieres calcular raíces de una función $f: \\mathbb{R} \\to \\mathbb{R}$ como lo hemos hecho en un notebook anterior, y tienes una manera de calcular la derivada $f'$. Si calculas $f'(X)$ para un intervalo $X$, ¿qué te da? \n",
    "\n",
    "* El conjunto de todas las derivadas en el intervalo $X$ \n",
    "\n",
    "¿En qué te ayuda esto qué puedes concluir sobre las raíces? \n",
    "\n",
    "* Puedo implementar un método de Newton para intervalos $X$ para encontrar raices en el intervalo. Recordemos el método de Newton \n",
    "\n",
    "Sean $f:[a,b] \\longrightarrow \\mathbb{R}$ una función diferenciable a $[a,b]$ y $x_{0} \\in [a,b]$ una condición inicial, definimos la función de iteración como $$x_{n+1} = x_{n} -  \\dfrac{f(x_{n})}{f'(x_{n})} = \\Phi(x_{n})$$ tal que\n",
    "\n",
    "$\\displaystyle\\lim_{x_{n} \\rightarrow \\infty} \\Phi(x_{n}) = x^{*}$ con $x^{*}$ la raíz de $f$\n",
    "\n",
    "Ahora si extendemos esto a intevalo tenemos lo siguiente\n",
    "\n",
    "Sean $f:X \\longrightarrow \\mathbb{R}$ una función diferenciable a $X$ y $x_{0} \\in X$, punto medio del intervalos como condición inicial, definimos la función de iteración como $$x_{n+1} = x_{n} -  \\dfrac{f(x_{n})}{f'(x_{n})}$$"
   ]
  },
  {
   "cell_type": "code",
   "execution_count": null,
   "metadata": {},
   "outputs": [],
   "source": []
  },
  {
   "cell_type": "markdown",
   "metadata": {
    "collapsed": true
   },
   "source": [
    "(ii) ¿Se extiende esto a funciones $f:\\mathbb{R^n} \\to \\mathbb{R}^n$?\n",
    "\n",
    "* Sí\n",
    "\n",
    "¿De qué manera?\n",
    "\n",
    "* Con el método de Newton multidimensional"
   ]
  },
  {
   "cell_type": "markdown",
   "metadata": {},
   "source": [
    "**[2]** Para una función $f:\\mathbb{R} \\to \\mathbb{R}$, considera un intervalo $X$ donde queremos encontrar el rango $f(X)$. \n",
    "\n",
    "(i) Recuerda el teorema del valor medio (\"mean value theorem\"). Fija un $x_0 \\in X$ y utiliza el teorema para escribir una expresión para $f(x)$ para $x \\in X$, en términos de la derivada de $f$ en algún punto $\\xi \\in X$.\n",
    "\n",
    "Por hipótesis $f\\in \\mathcal{C}^1$ por el teorema de Taylor, y acontado el residuo (de Lagrange), alrededor de $x_0$ fijo tenemos\n",
    "\n",
    "$$f(x) = f(x_{0}) + f'(\\xi)(x - x_{0})$$\n",
    "\n",
    "\n",
    "\n",
    "(ii) No conocemos $\\xi$. ¿Qué podemos hacer al respecto?\n",
    "\n",
    "* Tomamos todo el intervalo $X$\n",
    "\n",
    "Si lo haces, encontrarás otra expresión para el rango $f(X)$, que se conoce como el **mean value form** o **centred form**.\n",
    "\n",
    "Utilizando la idea de acotar con intervalos, tenemos\n",
    "\n",
    "$$f(X) = f(x_{0}) + f'(X)(X - x_{0})$$\n",
    "\n",
    "(iii) Compara los resultados numéricos que obtienes de $f(X)$ con la extensión intervalar usual (lo que vimos en un notebook anterior) y esta versión nueva para distintas funciones. ¿Cuándo es mejor la nueva? \n",
    "\n",
    "\n",
    "(iv) Si tienes las dos formas de calcular el rango, ¿cómo puedes combinarlos? Impleméntalo.\n",
    "\n",
    "* Para ello consideremos la función $f(x) = x^2$ en el intervalo $[-1,2]$ , que sabemos el rango es $f([-1,2]) = [0,4]$,  por otro lado usando la \"nueva versión\" con $x_0 = 1$\n",
    "\n",
    "$$f([-1,2]) = f(1) + f'\\left([-1,2] \\right)([-1,2] - 1) = 1 + [-2,4]*[-2,1] = [-7,5] $$\n",
    "\n",
    "Con $x_0 = 0$\n",
    "\n",
    "$$f([-1,2]) = f(0) + f'\\left([-1,2] \\right)([-1,2] - 0) = [-2,4]*[-1,2] = [-4,8] $$\n",
    "\n",
    "Notemos que ambos contienen el intervalo solución\n",
    "\n",
    "Al calcular $f'(X)$ usamos la versión intervalar usual."
   ]
  },
  {
   "cell_type": "code",
   "execution_count": 1,
   "metadata": {},
   "outputs": [],
   "source": [
    "using Base.Test"
   ]
  },
  {
   "cell_type": "code",
   "execution_count": 2,
   "metadata": {},
   "outputs": [],
   "source": [
    "struct Intervalo\n",
    "    inf::Float64\n",
    "    sup::Float64\n",
    "    Intervalo(inf,sup) = inf > sup ? error(\"No es un intervalo valido\") : new(inf,sup)\n",
    "end"
   ]
  },
  {
   "cell_type": "code",
   "execution_count": 3,
   "metadata": {},
   "outputs": [
    {
     "data": {
      "text/plain": [
       "sqrt (generic function with 11 methods)"
      ]
     },
     "execution_count": 3,
     "metadata": {},
     "output_type": "execute_result"
    }
   ],
   "source": [
    "import Base: +, -,*, /, ^, exp, sqrt\n",
    "\n",
    "function +(x::Intervalo, y::Intervalo)\n",
    "    return Intervalo(x.inf + y.inf, x.sup + y.sup)\n",
    "end\n",
    "\n",
    "function +(x::Intervalo, c::Real) \n",
    "    # Aquí definimos la suma de un Intervalo a un Real\n",
    "    return Intervalo(x.inf + c, x.sup + c)\n",
    "end\n",
    "\n",
    "function +(c::Real, x::Intervalo)\n",
    "    # Aquí definimos la suma de un Real a un Intervalo\n",
    "    return Intervalo(x.inf + c, x.sup + c)\n",
    "end\n",
    "\n",
    "\n",
    "function -(x::Intervalo)\n",
    "    return Intervalo(- x.sup, - x.inf)\n",
    "end\n",
    "\n",
    "function -(x::Intervalo, y::Intervalo)\n",
    "    y = -y\n",
    "    return Intervalo(x.inf + y.inf, x.sup + y.sup)\n",
    "end\n",
    "\n",
    "function -(x::Intervalo, c::Real)\n",
    "    return Intervalo(x.inf - c, x.sup - c)\n",
    "end\n",
    "\n",
    "function -(c::Real, x::Intervalo)\n",
    "    return Intervalo(c-x.inf, c-x.sup)\n",
    "end\n",
    "\n",
    "\n",
    "function *(x::Intervalo, y::Intervalo)\n",
    "    Intervalo(min(x.inf*y.inf, x.sup*y.inf, x.sup*y.sup, x.inf*y.sup), \n",
    "        max(x.inf*y.inf, x.sup*y.inf, x.sup*y.sup, x.inf*y.sup))\n",
    "end\n",
    "\n",
    "function *(x::Intervalo, c::Real)\n",
    "    Intervalo(min(x.inf*c, x.sup*c), max(x.inf*c, x.sup*c))\n",
    "    \n",
    "    #return Intervalo(x.inf * c, x.sup * c)\n",
    "end\n",
    "\n",
    "function *(c::Real, x::Intervalo)\n",
    "    Intervalo(min(x.inf*c, x.sup*c), max(x.inf*c, x.sup*c))\n",
    "end\n",
    "\n",
    "function /(x::Intervalo, y::Intervalo)\n",
    "    if sign(y.inf) != sign(y.sup) && y.inf != 0.0 && y.sup != 0.0\n",
    "        Intervalo(-Inf, Inf)\n",
    "    elseif y.inf == 0.0\n",
    "        Intervalo(min(x.inf/y.sup, x.sup/y.sup), Inf)\n",
    "    elseif y.sup == 0.0\n",
    "        Intervalo(-Inf, max(x.inf/y.inf, x.sup/y.inf))\n",
    "    else\n",
    "        Intervalo(min(x.inf/y.inf, x.inf/y.sup, x.sup/y.inf, x.sup/y.sup), \n",
    "            max(x.inf/y.inf, x.sup/y.inf, x.sup/y.sup, x.inf/y.sup))\n",
    "    end\n",
    "end\n",
    "\n",
    "function /(x::Intervalo, c::Real)\n",
    "    Intervalo(min(x.inf/c, x.sup/c), max(x.inf/c, x.sup/c))\n",
    "    \n",
    "    #return Intervalo(x.inf * c, x.sup * c)\n",
    "end\n",
    "\n",
    "function /(c::Real, x::Intervalo)\n",
    "    if sign(x.inf) != sign(x.sup) && x.inf != 0.0 && x.sup != 0.0\n",
    "        Intervalo(-Inf, Inf)\n",
    "    elseif x.inf == 0.0\n",
    "        Intervalo(c/x.sup, Inf)\n",
    "    elseif x.sup == 0.0\n",
    "        Intervalo(-Inf, c/x.inf)\n",
    "    else\n",
    "        Intervalo(min(c/x.inf, c/x.sup), max(c/x.inf, c/x.sup))\n",
    "    end\n",
    "end\n",
    "\n",
    "\n",
    "function ^(x::Intervalo, c::Int64)\n",
    "    if iseven(c)\n",
    "        if x.inf < 0 && x.sup >0\n",
    "            if abs(x.inf) < abs(x.sup)\n",
    "                return Intervalo(0, x.sup^c)\n",
    "            else\n",
    "                return Intervalo(0, x.inf^c)\n",
    "            end\n",
    "        elseif x.inf < 0 && x.sup < 0\n",
    "             return Intervalo(x.sup^c, x.inf^c)\n",
    "        else\n",
    "            return Intervalo(x.inf^c, x.sup^c)\n",
    "        end\n",
    "    else\n",
    "        Intervalo(x.inf^c, x.sup^c)\n",
    "    end\n",
    "end\n",
    "\n",
    "function exp(x::Intervalo)\n",
    "    Intervalo(exp(x.inf),exp(x.sup))\n",
    "end\n",
    "\n",
    "function sqrt(x::Intervalo)\n",
    "    if x.inf < 0 || x.sup < 0\n",
    "        Intervalo(0,0)\n",
    "    else\n",
    "        Intervalo(sqrt(x.inf), sqrt(x.sup))\n",
    "    end\n",
    "end"
   ]
  },
  {
   "cell_type": "code",
   "execution_count": 4,
   "metadata": {
    "scrolled": true
   },
   "outputs": [
    {
     "name": "stdout",
     "output_type": "stream",
     "text": [
      "1 / Intervalo(-1, 1) = Intervalo(-Inf, Inf)\n",
      "1 / (Intervalo(1, 3) - 2) = Intervalo(-Inf, Inf)\n",
      "1 / Intervalo(0, 1) = Intervalo(1.0, Inf)\n",
      "1 / Intervalo(-1, 0) = Intervalo(-Inf, -1.0)\n",
      "1 / Intervalo(-1, 1) ^ 2 = Intervalo(1.0, Inf)\n"
     ]
    }
   ],
   "source": [
    "## pruebas 1/x y 1/x-2\n",
    "\n",
    "@show 1 / Intervalo(-1,1)\n",
    "@show 1/(Intervalo(1,3) - 2)\n",
    "@show 1/Intervalo(0,1)\n",
    "@show 1/Intervalo(-1,0) \n",
    "@show 1/(Intervalo(-1,1))^2 ;"
   ]
  },
  {
   "cell_type": "code",
   "execution_count": 5,
   "metadata": {},
   "outputs": [
    {
     "data": {
      "text/plain": [
       "Intervalo(0.0, 4.0)"
      ]
     },
     "execution_count": 5,
     "metadata": {},
     "output_type": "execute_result"
    }
   ],
   "source": [
    "Intervalo(-1,2)^2"
   ]
  },
  {
   "cell_type": "code",
   "execution_count": 6,
   "metadata": {
    "scrolled": true
   },
   "outputs": [
    {
     "data": {
      "text/plain": [
       "Intervalo(-1.0, 8.0)"
      ]
     },
     "execution_count": 6,
     "metadata": {},
     "output_type": "execute_result"
    }
   ],
   "source": [
    "Intervalo(-1,2)^3"
   ]
  },
  {
   "cell_type": "code",
   "execution_count": 7,
   "metadata": {},
   "outputs": [
    {
     "data": {
      "text/plain": [
       "gp (generic function with 1 method)"
      ]
     },
     "execution_count": 7,
     "metadata": {},
     "output_type": "execute_result"
    }
   ],
   "source": [
    "g(x) = x^2\n",
    "gp(x) = 2x"
   ]
  },
  {
   "cell_type": "code",
   "execution_count": 8,
   "metadata": {},
   "outputs": [
    {
     "data": {
      "text/plain": [
       "#g"
      ]
     },
     "execution_count": 8,
     "metadata": {},
     "output_type": "execute_result"
    }
   ],
   "source": [
    "typeof(g)"
   ]
  },
  {
   "cell_type": "code",
   "execution_count": 9,
   "metadata": {},
   "outputs": [
    {
     "data": {
      "text/plain": [
       "Fintervalo (generic function with 1 method)"
      ]
     },
     "execution_count": 9,
     "metadata": {},
     "output_type": "execute_result"
    }
   ],
   "source": [
    "function Fintervalo(f,fp, x::Intervalo , x0::Real)\n",
    "\n",
    "    #x0 ∈ [x.inf, x.sup] ? nothing : error(\"x0 no esta en el intervalos\")\n",
    "    \n",
    "    f(x0) + fp(x)*(x - x0)\n",
    "    \n",
    "end"
   ]
  },
  {
   "cell_type": "code",
   "execution_count": 10,
   "metadata": {},
   "outputs": [
    {
     "data": {
      "text/plain": [
       "Intervalo(-7.0, 5.0)"
      ]
     },
     "execution_count": 10,
     "metadata": {},
     "output_type": "execute_result"
    }
   ],
   "source": [
    "Fintervalo(g,gp,Intervalo(-1,2),1)"
   ]
  },
  {
   "cell_type": "markdown",
   "metadata": {},
   "source": [
    "## Diferenciación automática"
   ]
  },
  {
   "cell_type": "markdown",
   "metadata": {},
   "source": [
    "De cálculo conocemos reglas para calcular derivadas (a diferencia, por ejemplo, de integrales indefinidas). Resulta que es posible *automatizar* estas reglas, para que la computadora las utilice para calcular derivadas de forma numéricamente exacta (a parte de errores de redondeo). Este conjunto de técnicas se llama la **diferenciación automática** o **diferenciación algorítmica**. En este notebook, veremos las bases de este método."
   ]
  },
  {
   "cell_type": "markdown",
   "metadata": {},
   "source": [
    "Nota: Este método *no* utiliza ni diferencias finitas, ni manipulación simbólica. Utiliza las reglas de derivadas provenientes del cálculo, pero de forma *numérica*. Especificamos el valor numérico de una variable, por ejemplo, `a = 3` en donde queremos evaluar la derivada de una función $f$, y ¡el método nos regresará el valor numérico de la derivada $f'(a)$!"
   ]
  },
  {
   "cell_type": "markdown",
   "metadata": {},
   "source": [
    "**[3]** Supón que tienes dos funciones $f$ y $g$ de $\\mathbb{R} \\to \\mathbb{R}$, cuyas derivadas conoces, y quieres calcular derivadas en un punto $a \\in \\mathbb{R}$ de combinaciones de estas funciones.\n",
    "\n",
    "(i) Expande $f$ y $g$ en series de Taylor alrededor de $a$ en términos de la distancia $\\epsilon$ desde $a$.\n",
    " \n",
    " Sea $\\epsilon = x -a$\n",
    "\n",
    "* $f(x) = f(a) + \\dfrac{f'(a)(\\epsilon)}{1!} + \\dfrac{f''(a)(\\epsilon)^2}{2!} + \\cdots = \\displaystyle \\sum _{k = 0} ^{\\infty} \\dfrac{f^{(k)}(a) \\epsilon ^k }{k!}$\n",
    "\n",
    "* $g(x) = g(a) + \\dfrac{g'(a)(\\epsilon)}{1!} + \\dfrac{g''(a)(\\epsilon)^2}{2!} + \\cdots = \\displaystyle \\sum _{k = 0} ^{\\infty} \\dfrac{g^{(k)}(a) \\epsilon ^k }{k!} $\n",
    "\n",
    "\n",
    "(ii) Encuentra series de Taylor para la suma $(f+g)$ y el producto $(f \\cdot g)$ en la vecindad de $a$.\n",
    "\n",
    "* $(f + g)(x) = \\displaystyle \\sum _{k = 0} ^{\\infty}  \\left[ f^{(k)}(a)  + g^{(k)}(a) \\right]  \\left(\\dfrac{ \\epsilon ^k}{k!}  \\right) = \\displaystyle \\sum _{k =0 }^{\\infty} \\dfrac{(f + g)^{(k)}(a)\\epsilon^{k}}{k!}  $\n",
    "\n",
    "* $(f \\cdot g)(x) = \\left( \\displaystyle \\sum _{k = 0} ^{\\infty} \\dfrac{f^{(k)}(a) \\epsilon ^k }{k!} \\right)\\left( \\displaystyle \\sum _{l = 0} ^{\\infty} \\dfrac{g^{(l)}(a) \\epsilon ^l }{l!} \\right) = \\displaystyle \\sum _{k =0 }^{\\infty} \\dfrac{(f \\cdot g)^{(k)}(a)\\epsilon^{k}}{k!}  $\n",
    "\n",
    "(iii) Así, recobre las expresiones ya conocidas (de cálculo) para $(f+g)'(a)$ y $(f \\cdot g)'(a)$,\n",
    "en términos de los valores de las funciones y sus derivadas. Concluye cuál información necesitas de cada función para poder calcular derivadas en el punto $a$ de las combinaciones de las funciones.\n",
    "\n",
    "* ($f + g)'(a) = f'(a) + g'(a)$, es decir, para suma necesitamos los coeficientes de orden epsilon\n",
    "\n",
    "* $(f \\cdot g)'(a) = f'(a)g(a) + f(a)g'(a)$, para esto necesitamos los coeficentes de orden menor o igual a epsilon de $f$ y $g$ \n",
    "\n",
    "Necesitamos que $f$ y $g$ sean $\\mathcal{C}^{\\infty}$ sin polos en $a$"
   ]
  },
  {
   "cell_type": "code",
   "execution_count": null,
   "metadata": {},
   "outputs": [],
   "source": []
  },
  {
   "cell_type": "markdown",
   "metadata": {},
   "source": [
    "**[4]** Ahora podemos convertir esto en un método numérico para calcular derivadas, como sigue."
   ]
  },
  {
   "cell_type": "markdown",
   "metadata": {},
   "source": [
    "(i) Define un tipo nuevo `Dual` que contiene la información necesaria de una función en el punto $a$. (Dejamos implícito el punto $a$; no lo representamos de forma explícita.) \n",
    "\n",
    "(ii) Define las operaciones aritméticas básicas sobre objetos de este tipo, siguiendo las reglas que desarrollamos en la pregunta (3).\n",
    "\n",
    "(iii) ¿Cuál número `Dual` corresponde con la función identidad $\\mathbb{1}: x \\mapsto x$ en el punto $a$? Esto representará la \"variable independiente\" $x$.\n",
    "\n",
    "* Es `Dual(a, 1)`\n",
    "\n",
    "(iv) Verifica que si agarras un objeto `xx` de la forma encontrada en (iii) y lo enchufas en una función específica `f(x)` de Julia, arroja el valor de la función y de la derivada.\n",
    "\n",
    "(v) Así, escribe una función que calcule de forma automática la derivada de una función en un punto dado."
   ]
  },
  {
   "cell_type": "code",
   "execution_count": 11,
   "metadata": {},
   "outputs": [],
   "source": [
    "import Base: ^"
   ]
  },
  {
   "cell_type": "code",
   "execution_count": 12,
   "metadata": {},
   "outputs": [],
   "source": [
    "# (i)\n",
    "\n",
    "struct Dual\n",
    "    fa::Float64\n",
    "    fpa::Float64\n",
    "end"
   ]
  },
  {
   "cell_type": "code",
   "execution_count": 13,
   "metadata": {},
   "outputs": [
    {
     "data": {
      "text/plain": [
       "Dual(9.0, 6.0)"
      ]
     },
     "execution_count": 13,
     "metadata": {},
     "output_type": "execute_result"
    }
   ],
   "source": [
    "Dual(9,6)"
   ]
  },
  {
   "cell_type": "code",
   "execution_count": 14,
   "metadata": {},
   "outputs": [
    {
     "data": {
      "text/plain": [
       "^ (generic function with 54 methods)"
      ]
     },
     "execution_count": 14,
     "metadata": {},
     "output_type": "execute_result"
    }
   ],
   "source": [
    "function +(x::Dual, y::Dual)\n",
    "    Dual(x.fa + y.fa, x.fpa + y.fpa)\n",
    "end\n",
    "\n",
    "function +(c::Real, y::Dual)\n",
    "    Dual(c + y.fa, y.fpa)\n",
    "end\n",
    "\n",
    "function +(x::Dual, c::Real)\n",
    "    Dual(x.fa + c, x.fpa )\n",
    "end\n",
    "\n",
    "\n",
    "function -(x::Dual, y::Dual)\n",
    "    Dual(x.fa - y.fa, x.fpa - y.fpa)\n",
    "end\n",
    "\n",
    "function -(c::Real, y::Dual)\n",
    "    Dual(c - y.fa, y.fpa)\n",
    "end\n",
    "\n",
    "function -(x::Dual, c::Real)\n",
    "    Dual(x.fa - c, x.fpa )\n",
    "end\n",
    "\n",
    "function *(x::Dual, y::Dual)\n",
    "    Dual(x.fa * y.fa, x.fpa * y.fa + x.fa * y.fpa )\n",
    "end\n",
    "\n",
    "function *(c::Real, y::Dual)\n",
    "    Dual(c* y.fa,  c * y.fpa )\n",
    "end\n",
    "\n",
    "function *(x::Dual, c::Real)\n",
    "    Dual(x.fa*c, x.fpa*c )\n",
    "end\n",
    "\n",
    "function ^(x::Dual, n::Int64)\n",
    "    Dual(x.fa^n, n*x.fa^(n-1))\n",
    "end"
   ]
  },
  {
   "cell_type": "code",
   "execution_count": 15,
   "metadata": {},
   "outputs": [
    {
     "data": {
      "text/plain": [
       "Dual(8.0, 12.0)"
      ]
     },
     "execution_count": 15,
     "metadata": {},
     "output_type": "execute_result"
    }
   ],
   "source": [
    "Dual(2,1)^3"
   ]
  },
  {
   "cell_type": "code",
   "execution_count": 16,
   "metadata": {},
   "outputs": [
    {
     "data": {
      "text/plain": [
       "Dual(18.0, 12.0)"
      ]
     },
     "execution_count": 16,
     "metadata": {},
     "output_type": "execute_result"
    }
   ],
   "source": [
    "Dual(9,6) + Dual(9,6) "
   ]
  },
  {
   "cell_type": "code",
   "execution_count": 17,
   "metadata": {},
   "outputs": [
    {
     "name": "stdout",
     "output_type": "stream",
     "text": [
      "\u001b[1m\u001b[37mTest Summary:   | \u001b[39m\u001b[22m\u001b[1m\u001b[32mPass  \u001b[39m\u001b[22m\u001b[1m\u001b[36mTotal\u001b[39m\u001b[22m\n",
      "Pruebas de Dual | \u001b[32m   4  \u001b[39m\u001b[36m    4\u001b[39m\n"
     ]
    },
    {
     "data": {
      "text/plain": [
       "Base.Test.DefaultTestSet(\"Pruebas de Dual\", Any[], 4, false)"
      ]
     },
     "execution_count": 17,
     "metadata": {},
     "output_type": "execute_result"
    }
   ],
   "source": [
    "@testset \"Pruebas de Dual\" begin\n",
    "    @test Dual(9,6) + Dual(9,6) == Dual(18,12)\n",
    "    @test Dual(9,6) * Dual(9,6) == Dual(81,108)\n",
    "    @test Dual(9,6) * Dual(1,0) == Dual(9,6)\n",
    "    @test Dual(3,1) * Dual(3,1) == Dual(9,6)\n",
    "end"
   ]
  },
  {
   "cell_type": "code",
   "execution_count": 18,
   "metadata": {},
   "outputs": [
    {
     "data": {
      "text/plain": [
       "f (generic function with 1 method)"
      ]
     },
     "execution_count": 18,
     "metadata": {},
     "output_type": "execute_result"
    }
   ],
   "source": [
    "f(x) = x^3 - 2x"
   ]
  },
  {
   "cell_type": "code",
   "execution_count": 19,
   "metadata": {},
   "outputs": [
    {
     "data": {
      "text/plain": [
       "Dual(4.0, 10.0)"
      ]
     },
     "execution_count": 19,
     "metadata": {},
     "output_type": "execute_result"
    }
   ],
   "source": [
    "f(Dual(2,1))"
   ]
  },
  {
   "cell_type": "code",
   "execution_count": 20,
   "metadata": {},
   "outputs": [
    {
     "data": {
      "text/plain": [
       "derivada (generic function with 1 method)"
      ]
     },
     "execution_count": 20,
     "metadata": {},
     "output_type": "execute_result"
    }
   ],
   "source": [
    "function derivada(f,x0::Real)\n",
    "    x = f(Dual(x0, 1))\n",
    "    x.fpa\n",
    "end"
   ]
  },
  {
   "cell_type": "code",
   "execution_count": 21,
   "metadata": {},
   "outputs": [
    {
     "data": {
      "text/plain": [
       "\u001b[1m\u001b[32mTest Passed\n",
       "\u001b[39m\u001b[22m"
      ]
     },
     "execution_count": 21,
     "metadata": {},
     "output_type": "execute_result"
    }
   ],
   "source": [
    "@test derivada(f,2) == Dual(4,10).fpa"
   ]
  },
  {
   "cell_type": "markdown",
   "metadata": {},
   "source": [
    "**[5]** (i) Si tienes una función como `exp`, cuando la aplicas a un número `Dual` que representa a una función $f$ cerca del punto $a$, el resultado debe corresponder a la función $(\\exp \\circ f)$. Impleméntalo.\n",
    "\n",
    "(ii) ¿Qué ocurre si derivas `exp(exp(x))` en un punto $a$? ¿Es correcto? ¿Qué se ha implementado (¡de forma automática!) aquí?"
   ]
  },
  {
   "cell_type": "code",
   "execution_count": 22,
   "metadata": {},
   "outputs": [
    {
     "data": {
      "text/plain": [
       "exp (generic function with 12 methods)"
      ]
     },
     "execution_count": 22,
     "metadata": {},
     "output_type": "execute_result"
    }
   ],
   "source": [
    "import Base: exp\n",
    "\n",
    "function exp(x::Dual)\n",
    "    Dual(exp(x.fa), exp(x.fa)*x.fpa)\n",
    "end"
   ]
  },
  {
   "cell_type": "code",
   "execution_count": 23,
   "metadata": {},
   "outputs": [
    {
     "data": {
      "text/plain": [
       "Dual(2.718281828459045, 2.718281828459045)"
      ]
     },
     "execution_count": 23,
     "metadata": {},
     "output_type": "execute_result"
    }
   ],
   "source": [
    "exp(Dual(1,1))"
   ]
  },
  {
   "cell_type": "code",
   "execution_count": 24,
   "metadata": {},
   "outputs": [
    {
     "data": {
      "text/plain": [
       "g (generic function with 1 method)"
      ]
     },
     "execution_count": 24,
     "metadata": {},
     "output_type": "execute_result"
    }
   ],
   "source": [
    "g(x) = x^2 "
   ]
  },
  {
   "cell_type": "code",
   "execution_count": 25,
   "metadata": {},
   "outputs": [
    {
     "data": {
      "text/plain": [
       "Dual(9.0, 6.0)"
      ]
     },
     "execution_count": 25,
     "metadata": {},
     "output_type": "execute_result"
    }
   ],
   "source": [
    "g(Dual(3,1))"
   ]
  },
  {
   "cell_type": "code",
   "execution_count": 26,
   "metadata": {},
   "outputs": [
    {
     "data": {
      "text/plain": [
       "\u001b[1m\u001b[32mTest Passed\n",
       "\u001b[39m\u001b[22m"
      ]
     },
     "execution_count": 26,
     "metadata": {},
     "output_type": "execute_result"
    }
   ],
   "source": [
    "@test exp(g(Dual(3,1))) == exp(Dual(9,6))"
   ]
  },
  {
   "cell_type": "markdown",
   "metadata": {},
   "source": [
    "(ii) ¿Qué ocurre si derivas `exp(exp(x))` en un punto $a$? ¿Es correcto? ¿Qué se ha implementado (¡de forma automática!) aquí?"
   ]
  },
  {
   "cell_type": "code",
   "execution_count": 27,
   "metadata": {},
   "outputs": [
    {
     "data": {
      "text/plain": [
       "Dual(15.154262241479262, 41.193555674716116)"
      ]
     },
     "execution_count": 27,
     "metadata": {},
     "output_type": "execute_result"
    }
   ],
   "source": [
    "exp(exp(Dual(1,1)))"
   ]
  },
  {
   "cell_type": "code",
   "execution_count": 28,
   "metadata": {},
   "outputs": [
    {
     "data": {
      "text/plain": [
       "41.193555674716116"
      ]
     },
     "execution_count": 28,
     "metadata": {},
     "output_type": "execute_result"
    }
   ],
   "source": [
    "expp(x) = exp(exp(x)) \n",
    "derivada(expp,1)"
   ]
  },
  {
   "cell_type": "markdown",
   "metadata": {},
   "source": [
    "**[6]** Para una función $f: \\mathbb{R}^n \\to \\mathbb{R}$, quisiéramos calcular la gradiente $\\nabla f$. ¿Cómo podemos extender la diferenciación automática a este caso? Puedes restringir atención a $n=2$ para entender cómo funciona."
   ]
  },
  {
   "cell_type": "code",
   "execution_count": 29,
   "metadata": {},
   "outputs": [
    {
     "data": {
      "text/plain": [
       "h4 (generic function with 1 method)"
      ]
     },
     "execution_count": 29,
     "metadata": {},
     "output_type": "execute_result"
    }
   ],
   "source": [
    "h(x,y) = x^2 + exp(y)\n",
    "\n",
    "h2(x ,y) = x^2*y^2 \n",
    "\n",
    "h3(x ,y) = x^2*y^2 + 2x + 3y\n",
    "\n",
    "h4(x, y) = y^3 * exp(x)"
   ]
  },
  {
   "cell_type": "code",
   "execution_count": 30,
   "metadata": {},
   "outputs": [
    {
     "data": {
      "text/plain": [
       "2.718281828459045"
      ]
     },
     "execution_count": 30,
     "metadata": {},
     "output_type": "execute_result"
    }
   ],
   "source": [
    "h(0,1)"
   ]
  },
  {
   "cell_type": "code",
   "execution_count": 31,
   "metadata": {},
   "outputs": [
    {
     "data": {
      "text/plain": [
       "Dual(4.0, 4.0)"
      ]
     },
     "execution_count": 31,
     "metadata": {},
     "output_type": "execute_result"
    }
   ],
   "source": [
    "h2(Dual(2,1) , 1)"
   ]
  },
  {
   "cell_type": "code",
   "execution_count": 32,
   "metadata": {},
   "outputs": [
    {
     "data": {
      "text/plain": [
       "Dual(4.0, 8.0)"
      ]
     },
     "execution_count": 32,
     "metadata": {},
     "output_type": "execute_result"
    }
   ],
   "source": [
    "h2(2, Dual(1, 1))"
   ]
  },
  {
   "cell_type": "code",
   "execution_count": 33,
   "metadata": {},
   "outputs": [
    {
     "data": {
      "text/plain": [
       "Dual(160.68429538550134, 160.68429538550134)"
      ]
     },
     "execution_count": 33,
     "metadata": {},
     "output_type": "execute_result"
    }
   ],
   "source": [
    "h4(Dual(3,1), 2)"
   ]
  },
  {
   "cell_type": "code",
   "execution_count": 34,
   "metadata": {},
   "outputs": [
    {
     "data": {
      "text/plain": [
       "Dual(160.68429538550134, 241.02644307825202)"
      ]
     },
     "execution_count": 34,
     "metadata": {},
     "output_type": "execute_result"
    }
   ],
   "source": [
    "h4( 3, Dual(2,1))"
   ]
  },
  {
   "cell_type": "code",
   "execution_count": 35,
   "metadata": {},
   "outputs": [
    {
     "data": {
      "text/plain": [
       "grad (generic function with 1 method)"
      ]
     },
     "execution_count": 35,
     "metadata": {},
     "output_type": "execute_result"
    }
   ],
   "source": [
    "function grad(f,x0,y0)\n",
    "    xaux = f(Dual(x0, 1), y0)\n",
    "    yaux = f(x0, Dual(y0, 1))\n",
    "\n",
    "    Df = (xaux.fpa,yaux.fpa)\n",
    "\n",
    "end"
   ]
  },
  {
   "cell_type": "code",
   "execution_count": 36,
   "metadata": {},
   "outputs": [
    {
     "data": {
      "text/plain": [
       "(4.0, 2.718281828459045)"
      ]
     },
     "execution_count": 36,
     "metadata": {},
     "output_type": "execute_result"
    }
   ],
   "source": [
    "grad(h, 2, 1 )"
   ]
  },
  {
   "cell_type": "code",
   "execution_count": 37,
   "metadata": {},
   "outputs": [
    {
     "data": {
      "text/plain": [
       "(4.0, 8.0)"
      ]
     },
     "execution_count": 37,
     "metadata": {},
     "output_type": "execute_result"
    }
   ],
   "source": [
    "grad(h2, 2, 1 )"
   ]
  },
  {
   "cell_type": "code",
   "execution_count": 38,
   "metadata": {},
   "outputs": [
    {
     "data": {
      "text/plain": [
       "(6.0, 11.0)"
      ]
     },
     "execution_count": 38,
     "metadata": {},
     "output_type": "execute_result"
    }
   ],
   "source": [
    "grad(h3, 2, 1 )"
   ]
  },
  {
   "cell_type": "code",
   "execution_count": 39,
   "metadata": {},
   "outputs": [
    {
     "data": {
      "text/plain": [
       "(160.68429538550134, 241.02644307825202)"
      ]
     },
     "execution_count": 39,
     "metadata": {},
     "output_type": "execute_result"
    }
   ],
   "source": [
    "grad(h4, 3, 2)"
   ]
  },
  {
   "cell_type": "code",
   "execution_count": 40,
   "metadata": {},
   "outputs": [
    {
     "data": {
      "text/plain": [
       "241.02644307825202"
      ]
     },
     "execution_count": 40,
     "metadata": {},
     "output_type": "execute_result"
    }
   ],
   "source": [
    "12*exp(3)"
   ]
  },
  {
   "cell_type": "markdown",
   "metadata": {},
   "source": [
    "**[7]** Ahora que hayamos entendido la idea de la diferenciación automática, podemos echar mano del paquete de Julia `ForwardDiff.jl`, donde hay una implementación muy buena.\n",
    "\n",
    "Lee el manual del paquete para entender cómo calcular derivadas de funciones $\\mathbb{R} \\to \\mathbb{R}$, gradientes de funciones $\\mathbb{R}^n \\to \\mathbb{R}$, y jacobianos de funciones $\\mathbb{R}^n \\to \\mathbb{R}^m$."
   ]
  },
  {
   "cell_type": "code",
   "execution_count": 41,
   "metadata": {},
   "outputs": [],
   "source": [
    "# Pkg.add(\"ForwardDiff\")"
   ]
  },
  {
   "cell_type": "code",
   "execution_count": 42,
   "metadata": {},
   "outputs": [],
   "source": [
    "using ForwardDiff"
   ]
  },
  {
   "cell_type": "markdown",
   "metadata": {},
   "source": [
    "Sean:\n",
    "\n",
    "* $f:\\mathbb{R} \\longrightarrow \\mathbb{R}$ tal que $f(x) = \\sin(x^2)$ sabemos $f'(x) = 2x \\cos (x^2)$ evaluando en $\\sqrt{\\pi}$ tenemos  $f'\\left( \\sqrt{\\pi } \\right) = 2 \\sqrt{\\pi} \\cos (\\pi) \\approx -3.54490770181103$\n",
    "\n",
    "\n",
    "* $g:\\mathbb{R}^n \\longrightarrow \\mathbb{R}$ tal que $g(x,y,z) = \\sin(x^2) + y\\exp(z)$"
   ]
  },
  {
   "cell_type": "code",
   "execution_count": 43,
   "metadata": {},
   "outputs": [],
   "source": [
    "f(x::Real) = sin(x^2);\n",
    "g(x::Vector) = sum(sin, x) + prod(tan, x) * sum(sqrt, x);"
   ]
  },
  {
   "cell_type": "code",
   "execution_count": 44,
   "metadata": {},
   "outputs": [
    {
     "data": {
      "text/plain": [
       "-3.5449077018110318"
      ]
     },
     "execution_count": 44,
     "metadata": {},
     "output_type": "execute_result"
    }
   ],
   "source": [
    "ForwardDiff.derivative(f, sqrt(pi))"
   ]
  },
  {
   "cell_type": "code",
   "execution_count": 45,
   "metadata": {},
   "outputs": [
    {
     "data": {
      "text/plain": [
       "(::#1) (generic function with 1 method)"
      ]
     },
     "execution_count": 45,
     "metadata": {},
     "output_type": "execute_result"
    }
   ],
   "source": [
    "x = rand(5) \n",
    "gg = x ->ForwardDiff.gradient(g, x)"
   ]
  },
  {
   "cell_type": "code",
   "execution_count": 46,
   "metadata": {},
   "outputs": [
    {
     "data": {
      "text/plain": [
       "5-element Array{Float64,1}:\n",
       " 0.899369\n",
       " 0.960491\n",
       " 0.808708\n",
       " 1.05178 \n",
       " 1.0062  "
      ]
     },
     "execution_count": 46,
     "metadata": {},
     "output_type": "execute_result"
    }
   ],
   "source": [
    "gg(x)"
   ]
  },
  {
   "cell_type": "code",
   "execution_count": 47,
   "metadata": {},
   "outputs": [
    {
     "data": {
      "text/plain": [
       "5×5 Array{Float64,2}:\n",
       " -0.442273    0.0262214   0.0163074  0.145671    0.0496343\n",
       "  0.0262214  -0.299349    0.0221017  0.197311    0.0672476\n",
       "  0.0163074   0.0221017  -0.586308   0.122794    0.0418376\n",
       "  0.145671    0.197311    0.122794   0.0183656   0.372999 \n",
       "  0.0496343   0.0672476   0.0418376  0.372999   -0.136561 "
      ]
     },
     "execution_count": 47,
     "metadata": {},
     "output_type": "execute_result"
    }
   ],
   "source": [
    "ForwardDiff.hessian(g, x)"
   ]
  },
  {
   "cell_type": "markdown",
   "metadata": {},
   "source": [
    "**[8]** Ocupa diferenciación automática para calcular el \"centered form\" de una función $\\mathbb{R} \\to \\mathbb{R}$."
   ]
  },
  {
   "cell_type": "code",
   "execution_count": 48,
   "metadata": {},
   "outputs": [
    {
     "data": {
      "text/markdown": [
       "```\n",
       "ForwardDiff.derivative(f, x::Real)\n",
       "```\n",
       "\n",
       "Return `df/dx` evaluated at `x`, assuming `f` is called as `f(x)`.\n",
       "\n",
       "This method assumes that `isa(f(x), Union{Real,AbstractArray})`.\n",
       "\n",
       "```\n",
       "ForwardDiff.derivative(f!, y::AbstractArray, x::Real, cfg::DerivativeConfig = DerivativeConfig(f!, y, x))\n",
       "```\n",
       "\n",
       "Return `df!/dx` evaluated at `x`, assuming `f!` is called as `f!(y, x)` where the result is stored in `y`.\n"
      ],
      "text/plain": [
       "```\n",
       "ForwardDiff.derivative(f, x::Real)\n",
       "```\n",
       "\n",
       "Return `df/dx` evaluated at `x`, assuming `f` is called as `f(x)`.\n",
       "\n",
       "This method assumes that `isa(f(x), Union{Real,AbstractArray})`.\n",
       "\n",
       "```\n",
       "ForwardDiff.derivative(f!, y::AbstractArray, x::Real, cfg::DerivativeConfig = DerivativeConfig(f!, y, x))\n",
       "```\n",
       "\n",
       "Return `df!/dx` evaluated at `x`, assuming `f!` is called as `f!(y, x)` where the result is stored in `y`.\n"
      ]
     },
     "execution_count": 48,
     "metadata": {},
     "output_type": "execute_result"
    }
   ],
   "source": [
    "?ForwardDiff.derivative"
   ]
  },
  {
   "cell_type": "code",
   "execution_count": 49,
   "metadata": {},
   "outputs": [
    {
     "data": {
      "text/plain": [
       "centredform (generic function with 1 method)"
      ]
     },
     "execution_count": 49,
     "metadata": {},
     "output_type": "execute_result"
    }
   ],
   "source": [
    "function centredform(f, X::Intervalo)\n",
    "    x0 = abs(X.sup - X.inf)*0.5 + X.inf\n",
    "    \n",
    "    a = ForwardDiff.derivative(f, X.inf)\n",
    "    b = ForwardDiff.derivative(f, X.sup)\n",
    "    #@show x0\n",
    "    if a >= b\n",
    "        xp = Intervalo(b, a)\n",
    "    else\n",
    "        xp = Intervalo(a, b)\n",
    "    end\n",
    "    \n",
    "    f(x0) + xp*(X - x0) \n",
    "end"
   ]
  },
  {
   "cell_type": "code",
   "execution_count": 50,
   "metadata": {},
   "outputs": [
    {
     "data": {
      "text/plain": [
       "Intervalo(-1.0, 2.0)"
      ]
     },
     "execution_count": 50,
     "metadata": {},
     "output_type": "execute_result"
    }
   ],
   "source": [
    "ff(x) = x^2\n",
    "II = Intervalo(-1, 2)"
   ]
  },
  {
   "cell_type": "code",
   "execution_count": 51,
   "metadata": {},
   "outputs": [
    {
     "data": {
      "text/plain": [
       "Intervalo(-5.75, 6.25)"
      ]
     },
     "execution_count": 51,
     "metadata": {},
     "output_type": "execute_result"
    }
   ],
   "source": [
    "centredform(ff, II)"
   ]
  },
  {
   "cell_type": "code",
   "execution_count": 52,
   "metadata": {},
   "outputs": [
    {
     "data": {
      "text/plain": [
       "fff (generic function with 1 method)"
      ]
     },
     "execution_count": 52,
     "metadata": {},
     "output_type": "execute_result"
    }
   ],
   "source": [
    "fff(x) = x^3  -3x^2 "
   ]
  },
  {
   "cell_type": "code",
   "execution_count": 53,
   "metadata": {},
   "outputs": [
    {
     "name": "stdout",
     "output_type": "stream",
     "text": [
      "(centredform(fff, XX1), fff(XX1)) = (Intervalo(-4.359375, 0.140625), Intervalo(-4.0, -0.875))\n",
      "(centredform(fff, XX2), fff(XX2)) = (Intervalo(-11.421875, 11.078125), Intervalo(-7.75, 3.375))\n"
     ]
    },
    {
     "data": {
      "text/plain": [
       "(Intervalo(-11.421875, 11.078125), Intervalo(-7.75, 3.375))"
      ]
     },
     "execution_count": 53,
     "metadata": {},
     "output_type": "execute_result"
    }
   ],
   "source": [
    "XX1 = Intervalo(-1,-.5)\n",
    "XX2 = Intervalo(-1,1.5)\n",
    "@show centredform(fff,XX1), fff(XX1)\n",
    "@show centredform(fff,XX2), fff(XX2)"
   ]
  },
  {
   "cell_type": "code",
   "execution_count": 54,
   "metadata": {},
   "outputs": [
    {
     "name": "stderr",
     "output_type": "stream",
     "text": [
      "WARNING: using Plots.h in module Main conflicts with an existing identifier.\n"
     ]
    },
    {
     "data": {
      "text/html": [
       "<?xml version=\"1.0\" encoding=\"utf-8\"?>\n",
       "<svg xmlns=\"http://www.w3.org/2000/svg\" xmlns:xlink=\"http://www.w3.org/1999/xlink\" width=\"600\" height=\"400\" viewBox=\"0 0 600 400\">\n",
       "<defs>\n",
       "  <clipPath id=\"clip00\">\n",
       "    <rect x=\"0\" y=\"0\" width=\"600\" height=\"400\"/>\n",
       "  </clipPath>\n",
       "</defs>\n",
       "<polygon clip-path=\"url(#clip00)\" points=\"\n",
       "0,400 600,400 600,0 0,0 \n",
       "  \" fill=\"#ffffff\" fill-opacity=\"1\"/>\n",
       "<defs>\n",
       "  <clipPath id=\"clip01\">\n",
       "    <rect x=\"120\" y=\"0\" width=\"421\" height=\"400\"/>\n",
       "  </clipPath>\n",
       "</defs>\n",
       "<polygon clip-path=\"url(#clip00)\" points=\"\n",
       "39.3701,376.378 592.126,376.378 592.126,7.87402 39.3701,7.87402 \n",
       "  \" fill=\"#ffffff\" fill-opacity=\"1\"/>\n",
       "<defs>\n",
       "  <clipPath id=\"clip02\">\n",
       "    <rect x=\"39\" y=\"7\" width=\"554\" height=\"370\"/>\n",
       "  </clipPath>\n",
       "</defs>\n",
       "<polyline clip-path=\"url(#clip02)\" style=\"stroke:#000000; stroke-width:0.5; stroke-opacity:0.1; fill:none\" points=\"\n",
       "  55.0141,370.85 55.0141,13.4016 \n",
       "  \"/>\n",
       "<polyline clip-path=\"url(#clip02)\" style=\"stroke:#000000; stroke-width:0.5; stroke-opacity:0.1; fill:none\" points=\"\n",
       "  263.601,370.85 263.601,13.4016 \n",
       "  \"/>\n",
       "<polyline clip-path=\"url(#clip02)\" style=\"stroke:#000000; stroke-width:0.5; stroke-opacity:0.1; fill:none\" points=\"\n",
       "  472.188,370.85 472.188,13.4016 \n",
       "  \"/>\n",
       "<polyline clip-path=\"url(#clip02)\" style=\"stroke:#000000; stroke-width:0.5; stroke-opacity:0.1; fill:none\" points=\"\n",
       "  47.6614,365.949 583.835,365.949 \n",
       "  \"/>\n",
       "<polyline clip-path=\"url(#clip02)\" style=\"stroke:#000000; stroke-width:0.5; stroke-opacity:0.1; fill:none\" points=\"\n",
       "  47.6614,279.037 583.835,279.037 \n",
       "  \"/>\n",
       "<polyline clip-path=\"url(#clip02)\" style=\"stroke:#000000; stroke-width:0.5; stroke-opacity:0.1; fill:none\" points=\"\n",
       "  47.6614,192.126 583.835,192.126 \n",
       "  \"/>\n",
       "<polyline clip-path=\"url(#clip02)\" style=\"stroke:#000000; stroke-width:0.5; stroke-opacity:0.1; fill:none\" points=\"\n",
       "  47.6614,105.214 583.835,105.214 \n",
       "  \"/>\n",
       "<polyline clip-path=\"url(#clip02)\" style=\"stroke:#000000; stroke-width:0.5; stroke-opacity:0.1; fill:none\" points=\"\n",
       "  47.6614,18.3031 583.835,18.3031 \n",
       "  \"/>\n",
       "<polyline clip-path=\"url(#clip00)\" style=\"stroke:#000000; stroke-width:1; stroke-opacity:1; fill:none\" points=\"\n",
       "  39.3701,376.378 592.126,376.378 \n",
       "  \"/>\n",
       "<polyline clip-path=\"url(#clip00)\" style=\"stroke:#000000; stroke-width:1; stroke-opacity:1; fill:none\" points=\"\n",
       "  55.0141,376.378 55.0141,370.85 \n",
       "  \"/>\n",
       "<polyline clip-path=\"url(#clip00)\" style=\"stroke:#000000; stroke-width:1; stroke-opacity:1; fill:none\" points=\"\n",
       "  263.601,376.378 263.601,370.85 \n",
       "  \"/>\n",
       "<polyline clip-path=\"url(#clip00)\" style=\"stroke:#000000; stroke-width:1; stroke-opacity:1; fill:none\" points=\"\n",
       "  472.188,376.378 472.188,370.85 \n",
       "  \"/>\n",
       "<polyline clip-path=\"url(#clip00)\" style=\"stroke:#000000; stroke-width:1; stroke-opacity:1; fill:none\" points=\"\n",
       "  39.3701,376.378 39.3701,7.87402 \n",
       "  \"/>\n",
       "<polyline clip-path=\"url(#clip00)\" style=\"stroke:#000000; stroke-width:1; stroke-opacity:1; fill:none\" points=\"\n",
       "  39.3701,365.949 47.6614,365.949 \n",
       "  \"/>\n",
       "<polyline clip-path=\"url(#clip00)\" style=\"stroke:#000000; stroke-width:1; stroke-opacity:1; fill:none\" points=\"\n",
       "  39.3701,279.037 47.6614,279.037 \n",
       "  \"/>\n",
       "<polyline clip-path=\"url(#clip00)\" style=\"stroke:#000000; stroke-width:1; stroke-opacity:1; fill:none\" points=\"\n",
       "  39.3701,192.126 47.6614,192.126 \n",
       "  \"/>\n",
       "<polyline clip-path=\"url(#clip00)\" style=\"stroke:#000000; stroke-width:1; stroke-opacity:1; fill:none\" points=\"\n",
       "  39.3701,105.214 47.6614,105.214 \n",
       "  \"/>\n",
       "<polyline clip-path=\"url(#clip00)\" style=\"stroke:#000000; stroke-width:1; stroke-opacity:1; fill:none\" points=\"\n",
       "  39.3701,18.3031 47.6614,18.3031 \n",
       "  \"/>\n",
       "<g clip-path=\"url(#clip00)\">\n",
       "<text style=\"fill:#000000; fill-opacity:1; font-family:Arial,Helvetica Neue,Helvetica,sans-serif; font-size:12; text-anchor:middle;\" transform=\"rotate(0, 55.0141, 390.178)\" x=\"55.0141\" y=\"390.178\">-1</text>\n",
       "</g>\n",
       "<g clip-path=\"url(#clip00)\">\n",
       "<text style=\"fill:#000000; fill-opacity:1; font-family:Arial,Helvetica Neue,Helvetica,sans-serif; font-size:12; text-anchor:middle;\" transform=\"rotate(0, 263.601, 390.178)\" x=\"263.601\" y=\"390.178\">0</text>\n",
       "</g>\n",
       "<g clip-path=\"url(#clip00)\">\n",
       "<text style=\"fill:#000000; fill-opacity:1; font-family:Arial,Helvetica Neue,Helvetica,sans-serif; font-size:12; text-anchor:middle;\" transform=\"rotate(0, 472.188, 390.178)\" x=\"472.188\" y=\"390.178\">1</text>\n",
       "</g>\n",
       "<g clip-path=\"url(#clip00)\">\n",
       "<text style=\"fill:#000000; fill-opacity:1; font-family:Arial,Helvetica Neue,Helvetica,sans-serif; font-size:12; text-anchor:end;\" transform=\"rotate(0, 33.3701, 370.449)\" x=\"33.3701\" y=\"370.449\">-4</text>\n",
       "</g>\n",
       "<g clip-path=\"url(#clip00)\">\n",
       "<text style=\"fill:#000000; fill-opacity:1; font-family:Arial,Helvetica Neue,Helvetica,sans-serif; font-size:12; text-anchor:end;\" transform=\"rotate(0, 33.3701, 283.537)\" x=\"33.3701\" y=\"283.537\">-3</text>\n",
       "</g>\n",
       "<g clip-path=\"url(#clip00)\">\n",
       "<text style=\"fill:#000000; fill-opacity:1; font-family:Arial,Helvetica Neue,Helvetica,sans-serif; font-size:12; text-anchor:end;\" transform=\"rotate(0, 33.3701, 196.626)\" x=\"33.3701\" y=\"196.626\">-2</text>\n",
       "</g>\n",
       "<g clip-path=\"url(#clip00)\">\n",
       "<text style=\"fill:#000000; fill-opacity:1; font-family:Arial,Helvetica Neue,Helvetica,sans-serif; font-size:12; text-anchor:end;\" transform=\"rotate(0, 33.3701, 109.714)\" x=\"33.3701\" y=\"109.714\">-1</text>\n",
       "</g>\n",
       "<g clip-path=\"url(#clip00)\">\n",
       "<text style=\"fill:#000000; fill-opacity:1; font-family:Arial,Helvetica Neue,Helvetica,sans-serif; font-size:12; text-anchor:end;\" transform=\"rotate(0, 33.3701, 22.8031)\" x=\"33.3701\" y=\"22.8031\">0</text>\n",
       "</g>\n",
       "<polyline clip-path=\"url(#clip02)\" style=\"stroke:#009af9; stroke-width:1; stroke-opacity:1; fill:none\" points=\"\n",
       "  55.0141,365.949 55.5361,363.994 56.0581,362.047 56.5801,360.106 57.1021,358.171 57.6241,356.243 58.1461,354.321 58.668,352.406 59.19,350.497 59.712,348.595 \n",
       "  60.234,346.699 60.756,344.81 61.278,342.927 61.8,341.05 62.322,339.18 62.844,337.317 63.366,335.46 63.8879,333.609 64.4099,331.764 64.9319,329.926 \n",
       "  65.4539,328.095 65.9759,326.269 66.4979,324.451 67.0199,322.638 67.5419,320.832 68.0639,319.032 68.5858,317.238 69.1078,315.451 69.6298,313.67 70.1518,311.895 \n",
       "  70.6738,310.127 71.1958,308.365 71.7178,306.609 72.2398,304.86 72.7618,303.116 73.2838,301.379 73.8057,299.649 74.3277,297.924 74.8497,296.206 75.3717,294.494 \n",
       "  75.8937,292.788 76.4157,291.088 76.9377,289.395 77.4597,287.708 77.9817,286.027 78.5037,284.352 79.0256,282.683 79.5476,281.02 80.0696,279.364 80.5916,277.714 \n",
       "  81.1136,276.069 81.6356,274.431 82.1576,272.799 82.6796,271.174 83.2016,269.554 83.7236,267.94 84.2455,266.333 84.7675,264.731 85.2895,263.136 85.8115,261.546 \n",
       "  86.3335,259.963 86.8555,258.386 87.3775,256.815 87.8995,255.249 88.4215,253.69 88.9435,252.137 89.4654,250.59 89.9874,249.049 90.5094,247.513 91.0314,245.984 \n",
       "  91.5534,244.461 92.0754,242.944 92.5974,241.432 93.1194,239.927 93.6414,238.427 94.1634,236.934 94.6853,235.446 95.2073,233.964 95.7293,232.489 96.2513,231.019 \n",
       "  96.7733,229.555 97.2953,228.096 97.8173,226.644 98.3393,225.198 98.8613,223.757 99.3832,222.322 99.9052,220.894 100.427,219.47 100.949,218.053 101.471,216.642 \n",
       "  101.993,215.236 102.515,213.836 103.037,212.442 103.559,211.054 104.081,209.671 104.603,208.295 105.125,206.924 105.647,205.559 106.169,204.199 106.691,202.845 \n",
       "  107.213,201.497 107.735,200.155 108.257,198.818 108.779,197.487 109.301,196.162 109.823,194.843 110.345,193.529 110.867,192.22 111.389,190.918 111.911,189.621 \n",
       "  112.433,188.33 112.955,187.044 113.477,185.764 113.999,184.49 114.521,183.221 115.043,181.958 115.565,180.7 116.087,179.448 116.609,178.202 117.131,176.961 \n",
       "  117.653,175.725 118.175,174.496 118.697,173.272 119.219,172.053 119.741,170.84 120.263,169.632 120.785,168.43 121.307,167.233 121.829,166.042 122.351,164.856 \n",
       "  122.873,163.676 123.395,162.502 123.917,161.332 124.439,160.169 124.961,159.01 125.483,157.857 126.005,156.71 126.527,155.568 127.049,154.431 127.571,153.3 \n",
       "  128.093,152.174 128.615,151.054 129.137,149.938 129.659,148.829 130.181,147.724 130.703,146.625 131.225,145.532 131.747,144.443 132.269,143.36 132.791,142.283 \n",
       "  133.313,141.21 133.835,140.143 134.357,139.082 134.879,138.025 135.401,136.974 135.923,135.928 136.445,134.888 136.967,133.852 137.489,132.822 138.01,131.797 \n",
       "  138.532,130.777 139.054,129.763 139.576,128.754 140.098,127.75 140.62,126.751 141.142,125.757 141.664,124.769 142.186,123.786 142.708,122.808 143.23,121.835 \n",
       "  143.752,120.867 144.274,119.904 144.796,118.947 145.318,117.994 145.84,117.047 146.362,116.105 146.884,115.168 147.406,114.236 147.928,113.309 148.45,112.387 \n",
       "  148.972,111.47 149.494,110.559 150.016,109.652 150.538,108.751 151.06,107.854 151.582,106.962 152.104,106.076 152.626,105.195 153.148,104.318 153.67,103.447 \n",
       "  154.192,102.58 154.714,101.719 155.236,100.862 155.758,100.01 156.28,99.1638 156.802,98.3221 157.324,97.4853 157.846,96.6535 158.368,95.8266 158.89,95.0046 \n",
       "  159.412,94.1875 159.934,93.3754 160.456,92.5681 160.978,91.7656 161.5,90.9681 162.022,90.1754 162.544,89.3876 163.066,88.6046 163.588,87.8265 164.11,87.0532 \n",
       "  164.632,86.2847 165.154,85.5211 165.676,84.7622 166.198,84.0081 166.72,83.2589 167.242,82.5144 167.764,81.7747 168.286,81.0397 168.808,80.3096 169.33,79.5841 \n",
       "  169.852,78.8634 170.374,78.1475 170.896,77.4362 171.418,76.7297 171.94,76.0279 172.462,75.3308 172.984,74.6384 173.506,73.9506 174.028,73.2676 174.55,72.5892 \n",
       "  175.072,71.9155 175.594,71.2464 176.116,70.582 176.638,69.9222 177.16,69.267 177.682,68.6164 178.204,67.9705 178.726,67.3292 179.248,66.6924 179.77,66.0603 \n",
       "  180.292,65.4327 180.814,64.8097 181.336,64.1912 181.858,63.5774 182.38,62.968 182.902,62.3632 183.424,61.7629 183.946,61.1672 184.468,60.5759 184.99,59.9892 \n",
       "  185.512,59.4069 186.034,58.8292 186.556,58.2559 187.078,57.6871 187.6,57.1227 188.122,56.5629 188.644,56.0074 189.165,55.4564 189.687,54.9099 190.209,54.3677 \n",
       "  190.731,53.83 191.253,53.2967 191.775,52.7677 192.297,52.2432 192.819,51.723 193.341,51.2073 193.863,50.6959 194.385,50.1888 194.907,49.6861 195.429,49.1877 \n",
       "  195.951,48.6937 196.473,48.204 196.995,47.7186 197.517,47.2375 198.039,46.7607 198.561,46.2882 199.083,45.82 199.605,45.3561 200.127,44.8964 200.649,44.441 \n",
       "  201.171,43.9899 201.693,43.543 202.215,43.1003 202.737,42.6619 203.259,42.2276 203.781,41.7976 204.303,41.3718 204.825,40.9502 205.347,40.5328 205.869,40.1195 \n",
       "  206.391,39.7104 206.913,39.3055 207.435,38.9047 207.957,38.5081 208.479,38.1156 209.001,37.7272 209.523,37.343 210.045,36.9629 210.567,36.5868 211.089,36.2149 \n",
       "  211.611,35.8471 212.133,35.4833 212.655,35.1236 213.177,34.768 213.699,34.4164 214.221,34.0689 214.743,33.7254 215.265,33.3859 215.787,33.0505 216.309,32.7191 \n",
       "  216.831,32.3917 217.353,32.0683 217.875,31.7488 218.397,31.4334 218.919,31.1219 219.441,30.8144 219.963,30.5109 220.485,30.2113 221.007,29.9156 221.529,29.6239 \n",
       "  222.051,29.3361 222.573,29.0522 223.095,28.7722 223.617,28.4962 224.139,28.224 224.661,27.9557 225.183,27.6912 225.705,27.4307 226.227,27.174 226.749,26.9211 \n",
       "  227.271,26.6721 227.793,26.427 228.315,26.1856 228.837,25.9481 229.359,25.7144 229.881,25.4845 230.403,25.2583 230.925,25.036 231.447,24.8174 231.969,24.6027 \n",
       "  232.491,24.3916 233.013,24.1844 233.535,23.9808 234.057,23.781 234.579,23.585 235.101,23.3926 235.623,23.204 236.145,23.019 236.667,22.8378 237.189,22.6603 \n",
       "  237.711,22.4864 238.233,22.3162 238.755,22.1497 239.277,21.9868 239.799,21.8275 240.321,21.672 240.842,21.52 241.364,21.3716 241.886,21.2269 242.408,21.0858 \n",
       "  242.93,20.9483 243.452,20.8143 243.974,20.684 244.496,20.5572 245.018,20.434 245.54,20.3143 246.062,20.1982 246.584,20.0856 247.106,19.9766 247.628,19.8711 \n",
       "  248.15,19.7691 248.672,19.6706 249.194,19.5756 249.716,19.4841 250.238,19.3961 250.76,19.3115 251.282,19.2304 251.804,19.1528 252.326,19.0787 252.848,19.0079 \n",
       "  253.37,18.9406 253.892,18.8768 254.414,18.8163 254.936,18.7593 255.458,18.7057 255.98,18.6554 256.502,18.6085 257.024,18.5651 257.546,18.525 258.068,18.4882 \n",
       "  258.59,18.4548 259.112,18.4247 259.634,18.398 260.156,18.3746 260.678,18.3546 261.2,18.3378 261.722,18.3243 262.244,18.3142 262.766,18.3073 263.288,18.3037 \n",
       "  263.81,18.3034 264.332,18.3063 264.854,18.3125 265.376,18.3219 265.898,18.3346 266.42,18.3505 266.942,18.3696 267.464,18.392 267.986,18.4175 268.508,18.4463 \n",
       "  269.03,18.4782 269.552,18.5133 270.074,18.5516 270.596,18.593 271.118,18.6376 271.64,18.6854 272.162,18.7363 272.684,18.7903 273.206,18.8474 273.728,18.9077 \n",
       "  274.25,18.9711 274.772,19.0375 275.294,19.1071 275.816,19.1797 276.338,19.2555 276.86,19.3342 277.382,19.4161 277.904,19.501 278.426,19.5889 278.948,19.6799 \n",
       "  279.47,19.7739 279.992,19.8709 280.514,19.9709 281.036,20.0739 281.558,20.1799 282.08,20.2889 282.602,20.4009 283.124,20.5158 283.646,20.6337 284.168,20.7546 \n",
       "  284.69,20.8784 285.212,21.0051 285.734,21.1348 286.256,21.2673 286.778,21.4028 287.3,21.5412 287.822,21.6825 288.344,21.8267 288.866,21.9737 289.388,22.1237 \n",
       "  289.91,22.2764 290.432,22.4321 290.954,22.5906 291.476,22.7519 291.997,22.916 292.519,23.083 293.041,23.2528 293.563,23.4254 294.085,23.6008 294.607,23.7789 \n",
       "  295.129,23.9599 295.651,24.1436 296.173,24.3301 296.695,24.5193 297.217,24.7113 297.739,24.9061 298.261,25.1035 298.783,25.3037 299.305,25.5066 299.827,25.7122 \n",
       "  300.349,25.9205 300.871,26.1315 301.393,26.3452 301.915,26.5616 302.437,26.7806 302.959,27.0023 303.481,27.2266 304.003,27.4536 304.525,27.6832 305.047,27.9154 \n",
       "  305.569,28.1502 306.091,28.3877 306.613,28.6277 307.135,28.8704 307.657,29.1156 308.179,29.3634 308.701,29.6138 309.223,29.8667 309.745,30.1222 310.267,30.3802 \n",
       "  310.789,30.6408 311.311,30.9039 311.833,31.1695 312.355,31.4376 312.877,31.7082 313.399,31.9813 313.921,32.2569 314.443,32.535 314.965,32.8156 315.487,33.0986 \n",
       "  316.009,33.384 316.531,33.6719 317.053,33.9623 317.575,34.2551 318.097,34.5503 318.619,34.8479 319.141,35.1479 319.663,35.4503 320.185,35.7551 320.707,36.0623 \n",
       "  321.229,36.3718 321.751,36.6837 322.273,36.998 322.795,37.3146 323.317,37.6336 323.839,37.9548 324.361,38.2784 324.883,38.6044 325.405,38.9326 325.927,39.2631 \n",
       "  326.449,39.5959 326.971,39.931 327.493,40.2684 328.015,40.608 328.537,40.9499 329.059,41.2941 329.581,41.6404 330.103,41.9891 330.625,42.3399 331.147,42.6929 \n",
       "  331.669,43.0482 332.191,43.4057 332.713,43.7653 333.235,44.1272 333.757,44.4912 334.279,44.8574 334.801,45.2257 335.323,45.5962 335.845,45.9688 336.367,46.3436 \n",
       "  336.889,46.7205 337.411,47.0995 337.933,47.4806 338.455,47.8639 338.977,48.2492 339.499,48.6366 340.021,49.0261 340.543,49.4176 341.065,49.8112 341.587,50.2069 \n",
       "  342.109,50.6046 342.631,51.0044 343.152,51.4061 343.674,51.8099 344.196,52.2158 344.718,52.6236 345.24,53.0334 345.762,53.4452 346.284,53.8589 346.806,54.2747 \n",
       "  347.328,54.6924 347.85,55.1121 348.372,55.5337 348.894,55.9572 349.416,56.3827 349.938,56.8101 350.46,57.2394 350.982,57.6706 351.504,58.1038 352.026,58.5388 \n",
       "  352.548,58.9757 353.07,59.4144 353.592,59.8551 354.114,60.2975 354.636,60.7419 355.158,61.188 355.68,61.6361 356.202,62.0859 356.724,62.5375 357.246,62.991 \n",
       "  357.768,63.4462 358.29,63.9033 358.812,64.3621 359.334,64.8227 359.856,65.2851 360.378,65.7492 360.9,66.2151 361.422,66.6827 361.944,67.1521 362.466,67.6232 \n",
       "  362.988,68.096 363.51,68.5705 364.032,69.0467 364.554,69.5246 365.076,70.0042 365.598,70.4854 366.12,70.9684 366.642,71.453 367.164,71.9392 367.686,72.4271 \n",
       "  368.208,72.9166 368.73,73.4078 369.252,73.9006 369.774,74.395 370.296,74.8909 370.818,75.3885 371.34,75.8877 371.862,76.3885 372.384,76.8908 372.906,77.3947 \n",
       "  373.428,77.9001 373.95,78.4071 374.472,78.9156 374.994,79.4257 375.516,79.9372 376.038,80.4503 376.56,80.9649 377.082,81.481 377.604,81.9986 378.126,82.5177 \n",
       "  378.648,83.0382 379.17,83.5602 379.692,84.0837 380.214,84.6086 380.736,85.1349 381.258,85.6627 381.78,86.1919 382.302,86.7225 382.824,87.2545 383.346,87.7879 \n",
       "  383.868,88.3228 384.39,88.8589 384.912,89.3965 385.434,89.9355 385.956,90.4757 386.478,91.0174 387,91.5604 387.522,92.1047 388.044,92.6503 388.566,93.1973 \n",
       "  389.088,93.7456 389.61,94.2952 390.132,94.846 390.654,95.3982 391.176,95.9516 391.698,96.5063 392.22,97.0622 392.742,97.6195 393.264,98.1779 393.786,98.7376 \n",
       "  394.308,99.2985 394.829,99.8606 395.351,100.424 395.873,100.989 396.395,101.554 396.917,102.121 397.439,102.689 397.961,103.259 398.483,103.829 399.005,104.401 \n",
       "  399.527,104.973 400.049,105.547 400.571,106.122 401.093,106.698 401.615,107.276 402.137,107.854 402.659,108.433 403.181,109.014 403.703,109.596 404.225,110.178 \n",
       "  404.747,110.762 405.269,111.347 405.791,111.933 406.313,112.52 406.835,113.107 407.357,113.696 407.879,114.286 408.401,114.877 408.923,115.469 409.445,116.062 \n",
       "  409.967,116.656 410.489,117.251 411.011,117.847 411.533,118.444 412.055,119.042 412.577,119.64 413.099,120.24 413.621,120.841 414.143,121.442 414.665,122.045 \n",
       "  415.187,122.648 415.709,123.252 416.231,123.857 416.753,124.463 417.275,125.07 417.797,125.678 418.319,126.286 418.841,126.896 419.363,127.506 419.885,128.117 \n",
       "  420.407,128.729 420.929,129.341 421.451,129.955 421.973,130.569 422.495,131.184 423.017,131.8 423.539,132.417 424.061,133.034 424.583,133.652 425.105,134.271 \n",
       "  425.627,134.891 426.149,135.511 426.671,136.132 427.193,136.754 427.715,137.376 428.237,137.999 428.759,138.623 429.281,139.248 429.803,139.873 430.325,140.499 \n",
       "  430.847,141.125 431.369,141.753 431.891,142.38 432.413,143.009 432.935,143.638 433.457,144.268 433.979,144.898 434.501,145.529 435.023,146.16 435.545,146.792 \n",
       "  436.067,147.425 436.589,148.058 437.111,148.692 437.633,149.326 438.155,149.961 438.677,150.597 439.199,151.232 439.721,151.869 440.243,152.506 440.765,153.143 \n",
       "  441.287,153.781 441.809,154.42 442.331,155.058 442.853,155.698 443.375,156.338 443.897,156.978 444.419,157.619 444.941,158.26 445.463,158.901 445.984,159.543 \n",
       "  446.506,160.186 447.028,160.828 447.55,161.472 448.072,162.115 448.594,162.759 449.116,163.404 449.638,164.048 450.16,164.693 450.682,165.339 451.204,165.984 \n",
       "  451.726,166.63 452.248,167.277 452.77,167.923 453.292,168.57 453.814,169.218 454.336,169.865 454.858,170.513 455.38,171.161 455.902,171.81 456.424,172.458 \n",
       "  456.946,173.107 457.468,173.756 457.99,174.406 458.512,175.055 459.034,175.705 459.556,176.355 460.078,177.005 460.6,177.656 461.122,178.306 461.644,178.957 \n",
       "  462.166,179.608 462.688,180.259 463.21,180.91 463.732,181.561 464.254,182.213 464.776,182.864 465.298,183.516 465.82,184.168 466.342,184.82 466.864,185.472 \n",
       "  467.386,186.124 467.908,186.776 468.43,187.428 468.952,188.081 469.474,188.733 469.996,189.386 470.518,190.038 471.04,190.69 471.562,191.343 472.084,191.995 \n",
       "  472.606,192.648 473.128,193.3 473.65,193.953 474.172,194.605 474.694,195.258 475.216,195.91 475.738,196.562 476.26,197.215 476.782,197.867 477.304,198.519 \n",
       "  477.826,199.171 478.348,199.823 478.87,200.475 479.392,201.127 479.914,201.778 480.436,202.43 480.958,203.081 481.48,203.732 482.002,204.384 482.524,205.035 \n",
       "  483.046,205.685 483.568,206.336 484.09,206.986 484.612,207.637 485.134,208.287 485.656,208.937 486.178,209.586 486.7,210.236 487.222,210.885 487.744,211.534 \n",
       "  488.266,212.183 488.788,212.831 489.31,213.479 489.832,214.127 490.354,214.775 490.876,215.422 491.398,216.07 491.92,216.716 492.442,217.363 492.964,218.009 \n",
       "  493.486,218.655 494.008,219.3 494.53,219.946 495.052,220.59 495.574,221.235 496.096,221.879 496.618,222.523 497.139,223.166 497.661,223.809 498.183,224.452 \n",
       "  498.705,225.094 499.227,225.735 499.749,226.377 500.271,227.018 500.793,227.658 501.315,228.298 501.837,228.938 502.359,229.577 502.881,230.215 503.403,230.853 \n",
       "  503.925,231.491 504.447,232.128 504.969,232.765 505.491,233.401 506.013,234.036 506.535,234.672 507.057,235.306 507.579,235.94 508.101,236.573 508.623,237.206 \n",
       "  509.145,237.839 509.667,238.47 510.189,239.101 510.711,239.732 511.233,240.362 511.755,240.991 512.277,241.62 512.799,242.248 513.321,242.875 513.843,243.502 \n",
       "  514.365,244.128 514.887,244.754 515.409,245.379 515.931,246.003 516.453,246.626 516.975,247.249 517.497,247.871 518.019,248.492 518.541,249.113 519.063,249.733 \n",
       "  519.585,250.352 520.107,250.971 520.629,251.588 521.151,252.205 521.673,252.821 522.195,253.437 522.717,254.051 523.239,254.665 523.761,255.278 524.283,255.89 \n",
       "  524.805,256.502 525.327,257.112 525.849,257.722 526.371,258.331 526.893,258.939 527.415,259.546 527.937,260.152 528.459,260.758 528.981,261.362 529.503,261.966 \n",
       "  530.025,262.569 530.547,263.171 531.069,263.772 531.591,264.372 532.113,264.971 532.635,265.569 533.157,266.166 533.679,266.762 534.201,267.358 534.723,267.952 \n",
       "  535.245,268.545 535.767,269.138 536.289,269.729 536.811,270.319 537.333,270.909 537.855,271.497 538.377,272.084 538.899,272.671 539.421,273.256 539.943,273.84 \n",
       "  540.465,274.423 540.987,275.005 541.509,275.586 542.031,276.166 542.553,276.745 543.075,277.323 543.597,277.899 544.119,278.475 544.641,279.049 545.163,279.622 \n",
       "  545.685,280.194 546.207,280.765 546.729,281.335 547.251,281.903 547.773,282.471 548.294,283.037 548.816,283.602 549.338,284.166 549.86,284.728 550.382,285.29 \n",
       "  550.904,285.85 551.426,286.409 551.948,286.967 552.47,287.523 552.992,288.078 553.514,288.632 554.036,289.185 554.558,289.736 555.08,290.286 555.602,290.835 \n",
       "  556.124,291.383 556.646,291.929 557.168,292.474 557.69,293.017 558.212,293.559 558.734,294.1 559.256,294.64 559.778,295.178 560.3,295.715 560.822,296.25 \n",
       "  561.344,296.784 561.866,297.317 562.388,297.848 562.91,298.378 563.432,298.906 563.954,299.433 564.476,299.958 564.998,300.482 565.52,301.005 566.042,301.526 \n",
       "  566.564,302.046 567.086,302.564 567.608,303.081 568.13,303.596 568.652,304.109 569.174,304.622 569.696,305.132 570.218,305.641 570.74,306.149 571.262,306.655 \n",
       "  571.784,307.16 572.306,307.663 572.828,308.164 573.35,308.664 573.872,309.162 574.394,309.659 574.916,310.154 575.438,310.647 575.96,311.139 576.482,311.629 \n",
       "  \n",
       "  \"/>\n",
       "<circle clip-path=\"url(#clip02)\" style=\"fill:#000000; stroke:none; fill-opacity:1\" cx=\"55.0141\" cy=\"365.949\" r=\"1\"/>\n",
       "<line clip-path=\"url(#clip02)\" x1=\"55.0141\" y1=\"365.949\" x2=\"56.0141\" y2=\"365.949\" style=\"stroke:#e26f46; stroke-opacity:1\"/>\n",
       "<circle clip-path=\"url(#clip02)\" style=\"fill:#000000; stroke:none; fill-opacity:1\" cx=\"55.5382\" cy=\"363.987\" r=\"1\"/>\n",
       "<line clip-path=\"url(#clip02)\" x1=\"55.5382\" y1=\"363.987\" x2=\"56.5382\" y2=\"363.987\" style=\"stroke:#e26f46; stroke-opacity:1\"/>\n",
       "<circle clip-path=\"url(#clip02)\" style=\"fill:#000000; stroke:none; fill-opacity:1\" cx=\"56.0623\" cy=\"362.031\" r=\"1\"/>\n",
       "<line clip-path=\"url(#clip02)\" x1=\"56.0623\" y1=\"362.031\" x2=\"57.0623\" y2=\"362.031\" style=\"stroke:#e26f46; stroke-opacity:1\"/>\n",
       "<circle clip-path=\"url(#clip02)\" style=\"fill:#000000; stroke:none; fill-opacity:1\" cx=\"56.5864\" cy=\"360.082\" r=\"1\"/>\n",
       "<line clip-path=\"url(#clip02)\" x1=\"56.5864\" y1=\"360.082\" x2=\"57.5864\" y2=\"360.082\" style=\"stroke:#e26f46; stroke-opacity:1\"/>\n",
       "<circle clip-path=\"url(#clip02)\" style=\"fill:#000000; stroke:none; fill-opacity:1\" cx=\"57.1105\" cy=\"358.14\" r=\"1\"/>\n",
       "<line clip-path=\"url(#clip02)\" x1=\"57.1105\" y1=\"358.14\" x2=\"58.1105\" y2=\"358.14\" style=\"stroke:#e26f46; stroke-opacity:1\"/>\n",
       "<circle clip-path=\"url(#clip02)\" style=\"fill:#000000; stroke:none; fill-opacity:1\" cx=\"57.6346\" cy=\"356.204\" r=\"1\"/>\n",
       "<line clip-path=\"url(#clip02)\" x1=\"57.6346\" y1=\"356.204\" x2=\"58.6346\" y2=\"356.204\" style=\"stroke:#e26f46; stroke-opacity:1\"/>\n",
       "<circle clip-path=\"url(#clip02)\" style=\"fill:#000000; stroke:none; fill-opacity:1\" cx=\"58.1586\" cy=\"354.275\" r=\"1\"/>\n",
       "<line clip-path=\"url(#clip02)\" x1=\"58.1586\" y1=\"354.275\" x2=\"59.1586\" y2=\"354.275\" style=\"stroke:#e26f46; stroke-opacity:1\"/>\n",
       "<circle clip-path=\"url(#clip02)\" style=\"fill:#000000; stroke:none; fill-opacity:1\" cx=\"58.6827\" cy=\"352.352\" r=\"1\"/>\n",
       "<line clip-path=\"url(#clip02)\" x1=\"58.6827\" y1=\"352.352\" x2=\"59.6827\" y2=\"352.352\" style=\"stroke:#e26f46; stroke-opacity:1\"/>\n",
       "<circle clip-path=\"url(#clip02)\" style=\"fill:#000000; stroke:none; fill-opacity:1\" cx=\"59.2068\" cy=\"350.436\" r=\"1\"/>\n",
       "<line clip-path=\"url(#clip02)\" x1=\"59.2068\" y1=\"350.436\" x2=\"60.2068\" y2=\"350.436\" style=\"stroke:#e26f46; stroke-opacity:1\"/>\n",
       "<circle clip-path=\"url(#clip02)\" style=\"fill:#000000; stroke:none; fill-opacity:1\" cx=\"59.7309\" cy=\"348.526\" r=\"1\"/>\n",
       "<line clip-path=\"url(#clip02)\" x1=\"59.7309\" y1=\"348.526\" x2=\"60.7309\" y2=\"348.526\" style=\"stroke:#e26f46; stroke-opacity:1\"/>\n",
       "<circle clip-path=\"url(#clip02)\" style=\"fill:#000000; stroke:none; fill-opacity:1\" cx=\"60.255\" cy=\"346.623\" r=\"1\"/>\n",
       "<line clip-path=\"url(#clip02)\" x1=\"60.255\" y1=\"346.623\" x2=\"61.255\" y2=\"346.623\" style=\"stroke:#e26f46; stroke-opacity:1\"/>\n",
       "<circle clip-path=\"url(#clip02)\" style=\"fill:#000000; stroke:none; fill-opacity:1\" cx=\"60.7791\" cy=\"344.726\" r=\"1\"/>\n",
       "<line clip-path=\"url(#clip02)\" x1=\"60.7791\" y1=\"344.726\" x2=\"61.7791\" y2=\"344.726\" style=\"stroke:#e26f46; stroke-opacity:1\"/>\n",
       "<circle clip-path=\"url(#clip02)\" style=\"fill:#000000; stroke:none; fill-opacity:1\" cx=\"61.3032\" cy=\"342.836\" r=\"1\"/>\n",
       "<line clip-path=\"url(#clip02)\" x1=\"61.3032\" y1=\"342.836\" x2=\"62.3032\" y2=\"342.836\" style=\"stroke:#e26f46; stroke-opacity:1\"/>\n",
       "<circle clip-path=\"url(#clip02)\" style=\"fill:#000000; stroke:none; fill-opacity:1\" cx=\"61.8273\" cy=\"340.953\" r=\"1\"/>\n",
       "<line clip-path=\"url(#clip02)\" x1=\"61.8273\" y1=\"340.953\" x2=\"62.8273\" y2=\"340.953\" style=\"stroke:#e26f46; stroke-opacity:1\"/>\n",
       "<circle clip-path=\"url(#clip02)\" style=\"fill:#000000; stroke:none; fill-opacity:1\" cx=\"62.3513\" cy=\"339.075\" r=\"1\"/>\n",
       "<line clip-path=\"url(#clip02)\" x1=\"62.3513\" y1=\"339.075\" x2=\"63.3513\" y2=\"339.075\" style=\"stroke:#e26f46; stroke-opacity:1\"/>\n",
       "<circle clip-path=\"url(#clip02)\" style=\"fill:#000000; stroke:none; fill-opacity:1\" cx=\"62.8754\" cy=\"337.205\" r=\"1\"/>\n",
       "<line clip-path=\"url(#clip02)\" x1=\"62.8754\" y1=\"337.205\" x2=\"63.8754\" y2=\"337.205\" style=\"stroke:#e26f46; stroke-opacity:1\"/>\n",
       "<circle clip-path=\"url(#clip02)\" style=\"fill:#000000; stroke:none; fill-opacity:1\" cx=\"63.3995\" cy=\"335.34\" r=\"1\"/>\n",
       "<line clip-path=\"url(#clip02)\" x1=\"63.3995\" y1=\"335.34\" x2=\"64.3995\" y2=\"335.34\" style=\"stroke:#e26f46; stroke-opacity:1\"/>\n",
       "<circle clip-path=\"url(#clip02)\" style=\"fill:#000000; stroke:none; fill-opacity:1\" cx=\"63.9236\" cy=\"333.483\" r=\"1\"/>\n",
       "<line clip-path=\"url(#clip02)\" x1=\"63.9236\" y1=\"333.483\" x2=\"64.9236\" y2=\"333.483\" style=\"stroke:#e26f46; stroke-opacity:1\"/>\n",
       "<circle clip-path=\"url(#clip02)\" style=\"fill:#000000; stroke:none; fill-opacity:1\" cx=\"64.4477\" cy=\"331.631\" r=\"1\"/>\n",
       "<line clip-path=\"url(#clip02)\" x1=\"64.4477\" y1=\"331.631\" x2=\"65.4477\" y2=\"331.631\" style=\"stroke:#e26f46; stroke-opacity:1\"/>\n",
       "<circle clip-path=\"url(#clip02)\" style=\"fill:#000000; stroke:none; fill-opacity:1\" cx=\"64.9718\" cy=\"329.786\" r=\"1\"/>\n",
       "<line clip-path=\"url(#clip02)\" x1=\"64.9718\" y1=\"329.786\" x2=\"65.9718\" y2=\"329.786\" style=\"stroke:#e26f46; stroke-opacity:1\"/>\n",
       "<circle clip-path=\"url(#clip02)\" style=\"fill:#000000; stroke:none; fill-opacity:1\" cx=\"65.4959\" cy=\"327.948\" r=\"1\"/>\n",
       "<line clip-path=\"url(#clip02)\" x1=\"65.4959\" y1=\"327.948\" x2=\"66.4959\" y2=\"327.948\" style=\"stroke:#e26f46; stroke-opacity:1\"/>\n",
       "<circle clip-path=\"url(#clip02)\" style=\"fill:#000000; stroke:none; fill-opacity:1\" cx=\"66.02\" cy=\"326.116\" r=\"1\"/>\n",
       "<line clip-path=\"url(#clip02)\" x1=\"66.02\" y1=\"326.116\" x2=\"67.02\" y2=\"326.116\" style=\"stroke:#e26f46; stroke-opacity:1\"/>\n",
       "<circle clip-path=\"url(#clip02)\" style=\"fill:#000000; stroke:none; fill-opacity:1\" cx=\"66.5441\" cy=\"324.29\" r=\"1\"/>\n",
       "<line clip-path=\"url(#clip02)\" x1=\"66.5441\" y1=\"324.29\" x2=\"67.5441\" y2=\"324.29\" style=\"stroke:#e26f46; stroke-opacity:1\"/>\n",
       "<circle clip-path=\"url(#clip02)\" style=\"fill:#000000; stroke:none; fill-opacity:1\" cx=\"67.0681\" cy=\"322.471\" r=\"1\"/>\n",
       "<line clip-path=\"url(#clip02)\" x1=\"67.0681\" y1=\"322.471\" x2=\"68.0681\" y2=\"322.471\" style=\"stroke:#e26f46; stroke-opacity:1\"/>\n",
       "<circle clip-path=\"url(#clip02)\" style=\"fill:#000000; stroke:none; fill-opacity:1\" cx=\"67.5922\" cy=\"320.658\" r=\"1\"/>\n",
       "<line clip-path=\"url(#clip02)\" x1=\"67.5922\" y1=\"320.658\" x2=\"68.5922\" y2=\"320.658\" style=\"stroke:#e26f46; stroke-opacity:1\"/>\n",
       "<circle clip-path=\"url(#clip02)\" style=\"fill:#000000; stroke:none; fill-opacity:1\" cx=\"68.1163\" cy=\"318.851\" r=\"1\"/>\n",
       "<line clip-path=\"url(#clip02)\" x1=\"68.1163\" y1=\"318.851\" x2=\"69.1163\" y2=\"318.851\" style=\"stroke:#e26f46; stroke-opacity:1\"/>\n",
       "<circle clip-path=\"url(#clip02)\" style=\"fill:#000000; stroke:none; fill-opacity:1\" cx=\"68.6404\" cy=\"317.051\" r=\"1\"/>\n",
       "<line clip-path=\"url(#clip02)\" x1=\"68.6404\" y1=\"317.051\" x2=\"69.6404\" y2=\"317.051\" style=\"stroke:#e26f46; stroke-opacity:1\"/>\n",
       "<circle clip-path=\"url(#clip02)\" style=\"fill:#000000; stroke:none; fill-opacity:1\" cx=\"69.1645\" cy=\"315.257\" r=\"1\"/>\n",
       "<line clip-path=\"url(#clip02)\" x1=\"69.1645\" y1=\"315.257\" x2=\"70.1645\" y2=\"315.257\" style=\"stroke:#e26f46; stroke-opacity:1\"/>\n",
       "<circle clip-path=\"url(#clip02)\" style=\"fill:#000000; stroke:none; fill-opacity:1\" cx=\"69.6886\" cy=\"313.47\" r=\"1\"/>\n",
       "<line clip-path=\"url(#clip02)\" x1=\"69.6886\" y1=\"313.47\" x2=\"70.6886\" y2=\"313.47\" style=\"stroke:#e26f46; stroke-opacity:1\"/>\n",
       "<circle clip-path=\"url(#clip02)\" style=\"fill:#000000; stroke:none; fill-opacity:1\" cx=\"70.2127\" cy=\"311.689\" r=\"1\"/>\n",
       "<line clip-path=\"url(#clip02)\" x1=\"70.2127\" y1=\"311.689\" x2=\"71.2127\" y2=\"311.689\" style=\"stroke:#e26f46; stroke-opacity:1\"/>\n",
       "<circle clip-path=\"url(#clip02)\" style=\"fill:#000000; stroke:none; fill-opacity:1\" cx=\"70.7368\" cy=\"309.914\" r=\"1\"/>\n",
       "<line clip-path=\"url(#clip02)\" x1=\"70.7368\" y1=\"309.914\" x2=\"71.7368\" y2=\"309.914\" style=\"stroke:#e26f46; stroke-opacity:1\"/>\n",
       "<circle clip-path=\"url(#clip02)\" style=\"fill:#000000; stroke:none; fill-opacity:1\" cx=\"71.2609\" cy=\"308.146\" r=\"1\"/>\n",
       "<line clip-path=\"url(#clip02)\" x1=\"71.2609\" y1=\"308.146\" x2=\"72.2609\" y2=\"308.146\" style=\"stroke:#e26f46; stroke-opacity:1\"/>\n",
       "<circle clip-path=\"url(#clip02)\" style=\"fill:#000000; stroke:none; fill-opacity:1\" cx=\"71.7849\" cy=\"306.384\" r=\"1\"/>\n",
       "<line clip-path=\"url(#clip02)\" x1=\"71.7849\" y1=\"306.384\" x2=\"72.7849\" y2=\"306.384\" style=\"stroke:#e26f46; stroke-opacity:1\"/>\n",
       "<circle clip-path=\"url(#clip02)\" style=\"fill:#000000; stroke:none; fill-opacity:1\" cx=\"72.309\" cy=\"304.628\" r=\"1\"/>\n",
       "<line clip-path=\"url(#clip02)\" x1=\"72.309\" y1=\"304.628\" x2=\"73.309\" y2=\"304.628\" style=\"stroke:#e26f46; stroke-opacity:1\"/>\n",
       "<circle clip-path=\"url(#clip02)\" style=\"fill:#000000; stroke:none; fill-opacity:1\" cx=\"72.8331\" cy=\"302.879\" r=\"1\"/>\n",
       "<line clip-path=\"url(#clip02)\" x1=\"72.8331\" y1=\"302.879\" x2=\"73.8331\" y2=\"302.879\" style=\"stroke:#e26f46; stroke-opacity:1\"/>\n",
       "<circle clip-path=\"url(#clip02)\" style=\"fill:#000000; stroke:none; fill-opacity:1\" cx=\"73.3572\" cy=\"301.136\" r=\"1\"/>\n",
       "<line clip-path=\"url(#clip02)\" x1=\"73.3572\" y1=\"301.136\" x2=\"74.3572\" y2=\"301.136\" style=\"stroke:#e26f46; stroke-opacity:1\"/>\n",
       "<circle clip-path=\"url(#clip02)\" style=\"fill:#000000; stroke:none; fill-opacity:1\" cx=\"73.8813\" cy=\"299.399\" r=\"1\"/>\n",
       "<line clip-path=\"url(#clip02)\" x1=\"73.8813\" y1=\"299.399\" x2=\"74.8813\" y2=\"299.399\" style=\"stroke:#e26f46; stroke-opacity:1\"/>\n",
       "<circle clip-path=\"url(#clip02)\" style=\"fill:#000000; stroke:none; fill-opacity:1\" cx=\"74.4054\" cy=\"297.668\" r=\"1\"/>\n",
       "<line clip-path=\"url(#clip02)\" x1=\"74.4054\" y1=\"297.668\" x2=\"75.4054\" y2=\"297.668\" style=\"stroke:#e26f46; stroke-opacity:1\"/>\n",
       "<circle clip-path=\"url(#clip02)\" style=\"fill:#000000; stroke:none; fill-opacity:1\" cx=\"74.9295\" cy=\"295.944\" r=\"1\"/>\n",
       "<line clip-path=\"url(#clip02)\" x1=\"74.9295\" y1=\"295.944\" x2=\"75.9295\" y2=\"295.944\" style=\"stroke:#e26f46; stroke-opacity:1\"/>\n",
       "<circle clip-path=\"url(#clip02)\" style=\"fill:#000000; stroke:none; fill-opacity:1\" cx=\"75.4536\" cy=\"294.226\" r=\"1\"/>\n",
       "<line clip-path=\"url(#clip02)\" x1=\"75.4536\" y1=\"294.226\" x2=\"76.4536\" y2=\"294.226\" style=\"stroke:#e26f46; stroke-opacity:1\"/>\n",
       "<circle clip-path=\"url(#clip02)\" style=\"fill:#000000; stroke:none; fill-opacity:1\" cx=\"75.9776\" cy=\"292.514\" r=\"1\"/>\n",
       "<line clip-path=\"url(#clip02)\" x1=\"75.9776\" y1=\"292.514\" x2=\"76.9776\" y2=\"292.514\" style=\"stroke:#e26f46; stroke-opacity:1\"/>\n",
       "<circle clip-path=\"url(#clip02)\" style=\"fill:#000000; stroke:none; fill-opacity:1\" cx=\"76.5017\" cy=\"290.809\" r=\"1\"/>\n",
       "<line clip-path=\"url(#clip02)\" x1=\"76.5017\" y1=\"290.809\" x2=\"77.5017\" y2=\"290.809\" style=\"stroke:#e26f46; stroke-opacity:1\"/>\n",
       "<circle clip-path=\"url(#clip02)\" style=\"fill:#000000; stroke:none; fill-opacity:1\" cx=\"77.0258\" cy=\"289.11\" r=\"1\"/>\n",
       "<line clip-path=\"url(#clip02)\" x1=\"77.0258\" y1=\"289.11\" x2=\"78.0258\" y2=\"289.11\" style=\"stroke:#e26f46; stroke-opacity:1\"/>\n",
       "<circle clip-path=\"url(#clip02)\" style=\"fill:#000000; stroke:none; fill-opacity:1\" cx=\"77.5499\" cy=\"287.417\" r=\"1\"/>\n",
       "<line clip-path=\"url(#clip02)\" x1=\"77.5499\" y1=\"287.417\" x2=\"78.5499\" y2=\"287.417\" style=\"stroke:#e26f46; stroke-opacity:1\"/>\n",
       "<circle clip-path=\"url(#clip02)\" style=\"fill:#000000; stroke:none; fill-opacity:1\" cx=\"78.074\" cy=\"285.73\" r=\"1\"/>\n",
       "<line clip-path=\"url(#clip02)\" x1=\"78.074\" y1=\"285.73\" x2=\"79.074\" y2=\"285.73\" style=\"stroke:#e26f46; stroke-opacity:1\"/>\n",
       "<circle clip-path=\"url(#clip02)\" style=\"fill:#000000; stroke:none; fill-opacity:1\" cx=\"78.5981\" cy=\"284.049\" r=\"1\"/>\n",
       "<line clip-path=\"url(#clip02)\" x1=\"78.5981\" y1=\"284.049\" x2=\"79.5981\" y2=\"284.049\" style=\"stroke:#e26f46; stroke-opacity:1\"/>\n",
       "<circle clip-path=\"url(#clip02)\" style=\"fill:#000000; stroke:none; fill-opacity:1\" cx=\"79.1222\" cy=\"282.375\" r=\"1\"/>\n",
       "<line clip-path=\"url(#clip02)\" x1=\"79.1222\" y1=\"282.375\" x2=\"80.1222\" y2=\"282.375\" style=\"stroke:#e26f46; stroke-opacity:1\"/>\n",
       "<circle clip-path=\"url(#clip02)\" style=\"fill:#000000; stroke:none; fill-opacity:1\" cx=\"79.6463\" cy=\"280.707\" r=\"1\"/>\n",
       "<line clip-path=\"url(#clip02)\" x1=\"79.6463\" y1=\"280.707\" x2=\"80.6463\" y2=\"280.707\" style=\"stroke:#e26f46; stroke-opacity:1\"/>\n",
       "<circle clip-path=\"url(#clip02)\" style=\"fill:#000000; stroke:none; fill-opacity:1\" cx=\"80.1704\" cy=\"279.045\" r=\"1\"/>\n",
       "<line clip-path=\"url(#clip02)\" x1=\"80.1704\" y1=\"279.045\" x2=\"81.1704\" y2=\"279.045\" style=\"stroke:#e26f46; stroke-opacity:1\"/>\n",
       "<circle clip-path=\"url(#clip02)\" style=\"fill:#000000; stroke:none; fill-opacity:1\" cx=\"80.6944\" cy=\"277.389\" r=\"1\"/>\n",
       "<line clip-path=\"url(#clip02)\" x1=\"80.6944\" y1=\"277.389\" x2=\"81.6944\" y2=\"277.389\" style=\"stroke:#e26f46; stroke-opacity:1\"/>\n",
       "<circle clip-path=\"url(#clip02)\" style=\"fill:#000000; stroke:none; fill-opacity:1\" cx=\"81.2185\" cy=\"275.74\" r=\"1\"/>\n",
       "<line clip-path=\"url(#clip02)\" x1=\"81.2185\" y1=\"275.74\" x2=\"82.2185\" y2=\"275.74\" style=\"stroke:#e26f46; stroke-opacity:1\"/>\n",
       "<circle clip-path=\"url(#clip02)\" style=\"fill:#000000; stroke:none; fill-opacity:1\" cx=\"81.7426\" cy=\"274.096\" r=\"1\"/>\n",
       "<line clip-path=\"url(#clip02)\" x1=\"81.7426\" y1=\"274.096\" x2=\"82.7426\" y2=\"274.096\" style=\"stroke:#e26f46; stroke-opacity:1\"/>\n",
       "<circle clip-path=\"url(#clip02)\" style=\"fill:#000000; stroke:none; fill-opacity:1\" cx=\"82.2667\" cy=\"272.459\" r=\"1\"/>\n",
       "<line clip-path=\"url(#clip02)\" x1=\"82.2667\" y1=\"272.459\" x2=\"83.2667\" y2=\"272.459\" style=\"stroke:#e26f46; stroke-opacity:1\"/>\n",
       "<circle clip-path=\"url(#clip02)\" style=\"fill:#000000; stroke:none; fill-opacity:1\" cx=\"82.7908\" cy=\"270.828\" r=\"1\"/>\n",
       "<line clip-path=\"url(#clip02)\" x1=\"82.7908\" y1=\"270.828\" x2=\"83.7908\" y2=\"270.828\" style=\"stroke:#e26f46; stroke-opacity:1\"/>\n",
       "<circle clip-path=\"url(#clip02)\" style=\"fill:#000000; stroke:none; fill-opacity:1\" cx=\"83.3149\" cy=\"269.203\" r=\"1\"/>\n",
       "<line clip-path=\"url(#clip02)\" x1=\"83.3149\" y1=\"269.203\" x2=\"84.3149\" y2=\"269.203\" style=\"stroke:#e26f46; stroke-opacity:1\"/>\n",
       "<circle clip-path=\"url(#clip02)\" style=\"fill:#000000; stroke:none; fill-opacity:1\" cx=\"83.839\" cy=\"267.584\" r=\"1\"/>\n",
       "<line clip-path=\"url(#clip02)\" x1=\"83.839\" y1=\"267.584\" x2=\"84.839\" y2=\"267.584\" style=\"stroke:#e26f46; stroke-opacity:1\"/>\n",
       "<circle clip-path=\"url(#clip02)\" style=\"fill:#000000; stroke:none; fill-opacity:1\" cx=\"84.3631\" cy=\"265.972\" r=\"1\"/>\n",
       "<line clip-path=\"url(#clip02)\" x1=\"84.3631\" y1=\"265.972\" x2=\"85.3631\" y2=\"265.972\" style=\"stroke:#e26f46; stroke-opacity:1\"/>\n",
       "<circle clip-path=\"url(#clip02)\" style=\"fill:#000000; stroke:none; fill-opacity:1\" cx=\"84.8871\" cy=\"264.365\" r=\"1\"/>\n",
       "<line clip-path=\"url(#clip02)\" x1=\"84.8871\" y1=\"264.365\" x2=\"85.8871\" y2=\"264.365\" style=\"stroke:#e26f46; stroke-opacity:1\"/>\n",
       "<circle clip-path=\"url(#clip02)\" style=\"fill:#000000; stroke:none; fill-opacity:1\" cx=\"85.4112\" cy=\"262.765\" r=\"1\"/>\n",
       "<line clip-path=\"url(#clip02)\" x1=\"85.4112\" y1=\"262.765\" x2=\"86.4112\" y2=\"262.765\" style=\"stroke:#e26f46; stroke-opacity:1\"/>\n",
       "<circle clip-path=\"url(#clip02)\" style=\"fill:#000000; stroke:none; fill-opacity:1\" cx=\"85.9353\" cy=\"261.17\" r=\"1\"/>\n",
       "<line clip-path=\"url(#clip02)\" x1=\"85.9353\" y1=\"261.17\" x2=\"86.9353\" y2=\"261.17\" style=\"stroke:#e26f46; stroke-opacity:1\"/>\n",
       "<circle clip-path=\"url(#clip02)\" style=\"fill:#000000; stroke:none; fill-opacity:1\" cx=\"86.4594\" cy=\"259.582\" r=\"1\"/>\n",
       "<line clip-path=\"url(#clip02)\" x1=\"86.4594\" y1=\"259.582\" x2=\"87.4594\" y2=\"259.582\" style=\"stroke:#e26f46; stroke-opacity:1\"/>\n",
       "<circle clip-path=\"url(#clip02)\" style=\"fill:#000000; stroke:none; fill-opacity:1\" cx=\"86.9835\" cy=\"258\" r=\"1\"/>\n",
       "<line clip-path=\"url(#clip02)\" x1=\"86.9835\" y1=\"258\" x2=\"87.9835\" y2=\"258\" style=\"stroke:#e26f46; stroke-opacity:1\"/>\n",
       "<circle clip-path=\"url(#clip02)\" style=\"fill:#000000; stroke:none; fill-opacity:1\" cx=\"87.5076\" cy=\"256.424\" r=\"1\"/>\n",
       "<line clip-path=\"url(#clip02)\" x1=\"87.5076\" y1=\"256.424\" x2=\"88.5076\" y2=\"256.424\" style=\"stroke:#e26f46; stroke-opacity:1\"/>\n",
       "<circle clip-path=\"url(#clip02)\" style=\"fill:#000000; stroke:none; fill-opacity:1\" cx=\"88.0317\" cy=\"254.854\" r=\"1\"/>\n",
       "<line clip-path=\"url(#clip02)\" x1=\"88.0317\" y1=\"254.854\" x2=\"89.0317\" y2=\"254.854\" style=\"stroke:#e26f46; stroke-opacity:1\"/>\n",
       "<circle clip-path=\"url(#clip02)\" style=\"fill:#000000; stroke:none; fill-opacity:1\" cx=\"88.5558\" cy=\"253.29\" r=\"1\"/>\n",
       "<line clip-path=\"url(#clip02)\" x1=\"88.5558\" y1=\"253.29\" x2=\"89.5558\" y2=\"253.29\" style=\"stroke:#e26f46; stroke-opacity:1\"/>\n",
       "<circle clip-path=\"url(#clip02)\" style=\"fill:#000000; stroke:none; fill-opacity:1\" cx=\"89.0799\" cy=\"251.732\" r=\"1\"/>\n",
       "<line clip-path=\"url(#clip02)\" x1=\"89.0799\" y1=\"251.732\" x2=\"90.0799\" y2=\"251.732\" style=\"stroke:#e26f46; stroke-opacity:1\"/>\n",
       "<circle clip-path=\"url(#clip02)\" style=\"fill:#000000; stroke:none; fill-opacity:1\" cx=\"89.6039\" cy=\"250.18\" r=\"1\"/>\n",
       "<line clip-path=\"url(#clip02)\" x1=\"89.6039\" y1=\"250.18\" x2=\"90.6039\" y2=\"250.18\" style=\"stroke:#e26f46; stroke-opacity:1\"/>\n",
       "<circle clip-path=\"url(#clip02)\" style=\"fill:#000000; stroke:none; fill-opacity:1\" cx=\"90.128\" cy=\"248.635\" r=\"1\"/>\n",
       "<line clip-path=\"url(#clip02)\" x1=\"90.128\" y1=\"248.635\" x2=\"91.128\" y2=\"248.635\" style=\"stroke:#e26f46; stroke-opacity:1\"/>\n",
       "<circle clip-path=\"url(#clip02)\" style=\"fill:#000000; stroke:none; fill-opacity:1\" cx=\"90.6521\" cy=\"247.095\" r=\"1\"/>\n",
       "<line clip-path=\"url(#clip02)\" x1=\"90.6521\" y1=\"247.095\" x2=\"91.6521\" y2=\"247.095\" style=\"stroke:#e26f46; stroke-opacity:1\"/>\n",
       "<circle clip-path=\"url(#clip02)\" style=\"fill:#000000; stroke:none; fill-opacity:1\" cx=\"91.1762\" cy=\"245.561\" r=\"1\"/>\n",
       "<line clip-path=\"url(#clip02)\" x1=\"91.1762\" y1=\"245.561\" x2=\"92.1762\" y2=\"245.561\" style=\"stroke:#e26f46; stroke-opacity:1\"/>\n",
       "<circle clip-path=\"url(#clip02)\" style=\"fill:#000000; stroke:none; fill-opacity:1\" cx=\"91.7003\" cy=\"244.033\" r=\"1\"/>\n",
       "<line clip-path=\"url(#clip02)\" x1=\"91.7003\" y1=\"244.033\" x2=\"92.7003\" y2=\"244.033\" style=\"stroke:#e26f46; stroke-opacity:1\"/>\n",
       "<circle clip-path=\"url(#clip02)\" style=\"fill:#000000; stroke:none; fill-opacity:1\" cx=\"92.2244\" cy=\"242.512\" r=\"1\"/>\n",
       "<line clip-path=\"url(#clip02)\" x1=\"92.2244\" y1=\"242.512\" x2=\"93.2244\" y2=\"242.512\" style=\"stroke:#e26f46; stroke-opacity:1\"/>\n",
       "<circle clip-path=\"url(#clip02)\" style=\"fill:#000000; stroke:none; fill-opacity:1\" cx=\"92.7485\" cy=\"240.996\" r=\"1\"/>\n",
       "<line clip-path=\"url(#clip02)\" x1=\"92.7485\" y1=\"240.996\" x2=\"93.7485\" y2=\"240.996\" style=\"stroke:#e26f46; stroke-opacity:1\"/>\n",
       "<circle clip-path=\"url(#clip02)\" style=\"fill:#000000; stroke:none; fill-opacity:1\" cx=\"93.2726\" cy=\"239.486\" r=\"1\"/>\n",
       "<line clip-path=\"url(#clip02)\" x1=\"93.2726\" y1=\"239.486\" x2=\"94.2726\" y2=\"239.486\" style=\"stroke:#e26f46; stroke-opacity:1\"/>\n",
       "<circle clip-path=\"url(#clip02)\" style=\"fill:#000000; stroke:none; fill-opacity:1\" cx=\"93.7966\" cy=\"237.982\" r=\"1\"/>\n",
       "<line clip-path=\"url(#clip02)\" x1=\"93.7966\" y1=\"237.982\" x2=\"94.7966\" y2=\"237.982\" style=\"stroke:#e26f46; stroke-opacity:1\"/>\n",
       "<circle clip-path=\"url(#clip02)\" style=\"fill:#000000; stroke:none; fill-opacity:1\" cx=\"94.3207\" cy=\"236.485\" r=\"1\"/>\n",
       "<line clip-path=\"url(#clip02)\" x1=\"94.3207\" y1=\"236.485\" x2=\"95.3207\" y2=\"236.485\" style=\"stroke:#e26f46; stroke-opacity:1\"/>\n",
       "<circle clip-path=\"url(#clip02)\" style=\"fill:#000000; stroke:none; fill-opacity:1\" cx=\"94.8448\" cy=\"234.993\" r=\"1\"/>\n",
       "<line clip-path=\"url(#clip02)\" x1=\"94.8448\" y1=\"234.993\" x2=\"95.8448\" y2=\"234.993\" style=\"stroke:#e26f46; stroke-opacity:1\"/>\n",
       "<circle clip-path=\"url(#clip02)\" style=\"fill:#000000; stroke:none; fill-opacity:1\" cx=\"95.3689\" cy=\"233.507\" r=\"1\"/>\n",
       "<line clip-path=\"url(#clip02)\" x1=\"95.3689\" y1=\"233.507\" x2=\"96.3689\" y2=\"233.507\" style=\"stroke:#e26f46; stroke-opacity:1\"/>\n",
       "<circle clip-path=\"url(#clip02)\" style=\"fill:#000000; stroke:none; fill-opacity:1\" cx=\"95.893\" cy=\"232.027\" r=\"1\"/>\n",
       "<line clip-path=\"url(#clip02)\" x1=\"95.893\" y1=\"232.027\" x2=\"96.893\" y2=\"232.027\" style=\"stroke:#e26f46; stroke-opacity:1\"/>\n",
       "<circle clip-path=\"url(#clip02)\" style=\"fill:#000000; stroke:none; fill-opacity:1\" cx=\"96.4171\" cy=\"230.553\" r=\"1\"/>\n",
       "<line clip-path=\"url(#clip02)\" x1=\"96.4171\" y1=\"230.553\" x2=\"97.4171\" y2=\"230.553\" style=\"stroke:#e26f46; stroke-opacity:1\"/>\n",
       "<circle clip-path=\"url(#clip02)\" style=\"fill:#000000; stroke:none; fill-opacity:1\" cx=\"96.9412\" cy=\"229.085\" r=\"1\"/>\n",
       "<line clip-path=\"url(#clip02)\" x1=\"96.9412\" y1=\"229.085\" x2=\"97.9412\" y2=\"229.085\" style=\"stroke:#e26f46; stroke-opacity:1\"/>\n",
       "<circle clip-path=\"url(#clip02)\" style=\"fill:#000000; stroke:none; fill-opacity:1\" cx=\"97.4653\" cy=\"227.623\" r=\"1\"/>\n",
       "<line clip-path=\"url(#clip02)\" x1=\"97.4653\" y1=\"227.623\" x2=\"98.4653\" y2=\"227.623\" style=\"stroke:#e26f46; stroke-opacity:1\"/>\n",
       "<circle clip-path=\"url(#clip02)\" style=\"fill:#000000; stroke:none; fill-opacity:1\" cx=\"97.9894\" cy=\"226.167\" r=\"1\"/>\n",
       "<line clip-path=\"url(#clip02)\" x1=\"97.9894\" y1=\"226.167\" x2=\"98.9894\" y2=\"226.167\" style=\"stroke:#e26f46; stroke-opacity:1\"/>\n",
       "<circle clip-path=\"url(#clip02)\" style=\"fill:#000000; stroke:none; fill-opacity:1\" cx=\"98.5134\" cy=\"224.716\" r=\"1\"/>\n",
       "<line clip-path=\"url(#clip02)\" x1=\"98.5134\" y1=\"224.716\" x2=\"99.5134\" y2=\"224.716\" style=\"stroke:#e26f46; stroke-opacity:1\"/>\n",
       "<circle clip-path=\"url(#clip02)\" style=\"fill:#000000; stroke:none; fill-opacity:1\" cx=\"99.0375\" cy=\"223.272\" r=\"1\"/>\n",
       "<line clip-path=\"url(#clip02)\" x1=\"99.0375\" y1=\"223.272\" x2=\"100.038\" y2=\"223.272\" style=\"stroke:#e26f46; stroke-opacity:1\"/>\n",
       "<circle clip-path=\"url(#clip02)\" style=\"fill:#000000; stroke:none; fill-opacity:1\" cx=\"99.5616\" cy=\"221.834\" r=\"1\"/>\n",
       "<line clip-path=\"url(#clip02)\" x1=\"99.5616\" y1=\"221.834\" x2=\"100.562\" y2=\"221.834\" style=\"stroke:#e26f46; stroke-opacity:1\"/>\n",
       "<circle clip-path=\"url(#clip02)\" style=\"fill:#000000; stroke:none; fill-opacity:1\" cx=\"100.086\" cy=\"220.401\" r=\"1\"/>\n",
       "<line clip-path=\"url(#clip02)\" x1=\"100.086\" y1=\"220.401\" x2=\"101.086\" y2=\"220.401\" style=\"stroke:#e26f46; stroke-opacity:1\"/>\n",
       "<circle clip-path=\"url(#clip02)\" style=\"fill:#000000; stroke:none; fill-opacity:1\" cx=\"100.61\" cy=\"218.974\" r=\"1\"/>\n",
       "<line clip-path=\"url(#clip02)\" x1=\"100.61\" y1=\"218.974\" x2=\"101.61\" y2=\"218.974\" style=\"stroke:#e26f46; stroke-opacity:1\"/>\n",
       "<circle clip-path=\"url(#clip02)\" style=\"fill:#000000; stroke:none; fill-opacity:1\" cx=\"101.134\" cy=\"217.553\" r=\"1\"/>\n",
       "<line clip-path=\"url(#clip02)\" x1=\"101.134\" y1=\"217.553\" x2=\"102.134\" y2=\"217.553\" style=\"stroke:#e26f46; stroke-opacity:1\"/>\n",
       "<circle clip-path=\"url(#clip02)\" style=\"fill:#000000; stroke:none; fill-opacity:1\" cx=\"101.658\" cy=\"216.138\" r=\"1\"/>\n",
       "<line clip-path=\"url(#clip02)\" x1=\"101.658\" y1=\"216.138\" x2=\"102.658\" y2=\"216.138\" style=\"stroke:#e26f46; stroke-opacity:1\"/>\n",
       "<circle clip-path=\"url(#clip02)\" style=\"fill:#000000; stroke:none; fill-opacity:1\" cx=\"102.182\" cy=\"214.729\" r=\"1\"/>\n",
       "<line clip-path=\"url(#clip02)\" x1=\"102.182\" y1=\"214.729\" x2=\"103.182\" y2=\"214.729\" style=\"stroke:#e26f46; stroke-opacity:1\"/>\n",
       "<circle clip-path=\"url(#clip02)\" style=\"fill:#000000; stroke:none; fill-opacity:1\" cx=\"102.706\" cy=\"213.326\" r=\"1\"/>\n",
       "<line clip-path=\"url(#clip02)\" x1=\"102.706\" y1=\"213.326\" x2=\"103.706\" y2=\"213.326\" style=\"stroke:#e26f46; stroke-opacity:1\"/>\n",
       "<circle clip-path=\"url(#clip02)\" style=\"fill:#000000; stroke:none; fill-opacity:1\" cx=\"103.23\" cy=\"211.928\" r=\"1\"/>\n",
       "<line clip-path=\"url(#clip02)\" x1=\"103.23\" y1=\"211.928\" x2=\"104.23\" y2=\"211.928\" style=\"stroke:#e26f46; stroke-opacity:1\"/>\n",
       "<circle clip-path=\"url(#clip02)\" style=\"fill:#000000; stroke:none; fill-opacity:1\" cx=\"103.754\" cy=\"210.536\" r=\"1\"/>\n",
       "<line clip-path=\"url(#clip02)\" x1=\"103.754\" y1=\"210.536\" x2=\"104.754\" y2=\"210.536\" style=\"stroke:#e26f46; stroke-opacity:1\"/>\n",
       "<circle clip-path=\"url(#clip02)\" style=\"fill:#000000; stroke:none; fill-opacity:1\" cx=\"104.278\" cy=\"209.151\" r=\"1\"/>\n",
       "<line clip-path=\"url(#clip02)\" x1=\"104.278\" y1=\"209.151\" x2=\"105.278\" y2=\"209.151\" style=\"stroke:#e26f46; stroke-opacity:1\"/>\n",
       "<circle clip-path=\"url(#clip02)\" style=\"fill:#000000; stroke:none; fill-opacity:1\" cx=\"104.803\" cy=\"207.77\" r=\"1\"/>\n",
       "<line clip-path=\"url(#clip02)\" x1=\"104.803\" y1=\"207.77\" x2=\"105.803\" y2=\"207.77\" style=\"stroke:#e26f46; stroke-opacity:1\"/>\n",
       "<circle clip-path=\"url(#clip02)\" style=\"fill:#000000; stroke:none; fill-opacity:1\" cx=\"105.327\" cy=\"206.396\" r=\"1\"/>\n",
       "<line clip-path=\"url(#clip02)\" x1=\"105.327\" y1=\"206.396\" x2=\"106.327\" y2=\"206.396\" style=\"stroke:#e26f46; stroke-opacity:1\"/>\n",
       "<circle clip-path=\"url(#clip02)\" style=\"fill:#000000; stroke:none; fill-opacity:1\" cx=\"105.851\" cy=\"205.028\" r=\"1\"/>\n",
       "<line clip-path=\"url(#clip02)\" x1=\"105.851\" y1=\"205.028\" x2=\"106.851\" y2=\"205.028\" style=\"stroke:#e26f46; stroke-opacity:1\"/>\n",
       "<circle clip-path=\"url(#clip02)\" style=\"fill:#000000; stroke:none; fill-opacity:1\" cx=\"106.375\" cy=\"203.665\" r=\"1\"/>\n",
       "<line clip-path=\"url(#clip02)\" x1=\"106.375\" y1=\"203.665\" x2=\"107.375\" y2=\"203.665\" style=\"stroke:#e26f46; stroke-opacity:1\"/>\n",
       "<circle clip-path=\"url(#clip02)\" style=\"fill:#000000; stroke:none; fill-opacity:1\" cx=\"106.899\" cy=\"202.308\" r=\"1\"/>\n",
       "<line clip-path=\"url(#clip02)\" x1=\"106.899\" y1=\"202.308\" x2=\"107.899\" y2=\"202.308\" style=\"stroke:#e26f46; stroke-opacity:1\"/>\n",
       "<circle clip-path=\"url(#clip02)\" style=\"fill:#000000; stroke:none; fill-opacity:1\" cx=\"107.423\" cy=\"200.957\" r=\"1\"/>\n",
       "<line clip-path=\"url(#clip02)\" x1=\"107.423\" y1=\"200.957\" x2=\"108.423\" y2=\"200.957\" style=\"stroke:#e26f46; stroke-opacity:1\"/>\n",
       "<circle clip-path=\"url(#clip02)\" style=\"fill:#000000; stroke:none; fill-opacity:1\" cx=\"107.947\" cy=\"199.612\" r=\"1\"/>\n",
       "<line clip-path=\"url(#clip02)\" x1=\"107.947\" y1=\"199.612\" x2=\"108.947\" y2=\"199.612\" style=\"stroke:#e26f46; stroke-opacity:1\"/>\n",
       "<circle clip-path=\"url(#clip02)\" style=\"fill:#000000; stroke:none; fill-opacity:1\" cx=\"108.471\" cy=\"198.272\" r=\"1\"/>\n",
       "<line clip-path=\"url(#clip02)\" x1=\"108.471\" y1=\"198.272\" x2=\"109.471\" y2=\"198.272\" style=\"stroke:#e26f46; stroke-opacity:1\"/>\n",
       "<circle clip-path=\"url(#clip02)\" style=\"fill:#000000; stroke:none; fill-opacity:1\" cx=\"108.995\" cy=\"196.938\" r=\"1\"/>\n",
       "<line clip-path=\"url(#clip02)\" x1=\"108.995\" y1=\"196.938\" x2=\"109.995\" y2=\"196.938\" style=\"stroke:#e26f46; stroke-opacity:1\"/>\n",
       "<circle clip-path=\"url(#clip02)\" style=\"fill:#000000; stroke:none; fill-opacity:1\" cx=\"109.519\" cy=\"195.61\" r=\"1\"/>\n",
       "<line clip-path=\"url(#clip02)\" x1=\"109.519\" y1=\"195.61\" x2=\"110.519\" y2=\"195.61\" style=\"stroke:#e26f46; stroke-opacity:1\"/>\n",
       "<circle clip-path=\"url(#clip02)\" style=\"fill:#000000; stroke:none; fill-opacity:1\" cx=\"110.043\" cy=\"194.287\" r=\"1\"/>\n",
       "<line clip-path=\"url(#clip02)\" x1=\"110.043\" y1=\"194.287\" x2=\"111.043\" y2=\"194.287\" style=\"stroke:#e26f46; stroke-opacity:1\"/>\n",
       "<circle clip-path=\"url(#clip02)\" style=\"fill:#000000; stroke:none; fill-opacity:1\" cx=\"110.567\" cy=\"192.971\" r=\"1\"/>\n",
       "<line clip-path=\"url(#clip02)\" x1=\"110.567\" y1=\"192.971\" x2=\"111.567\" y2=\"192.971\" style=\"stroke:#e26f46; stroke-opacity:1\"/>\n",
       "<circle clip-path=\"url(#clip02)\" style=\"fill:#000000; stroke:none; fill-opacity:1\" cx=\"111.092\" cy=\"191.659\" r=\"1\"/>\n",
       "<line clip-path=\"url(#clip02)\" x1=\"111.092\" y1=\"191.659\" x2=\"112.092\" y2=\"191.659\" style=\"stroke:#e26f46; stroke-opacity:1\"/>\n",
       "<circle clip-path=\"url(#clip02)\" style=\"fill:#000000; stroke:none; fill-opacity:1\" cx=\"111.616\" cy=\"190.354\" r=\"1\"/>\n",
       "<line clip-path=\"url(#clip02)\" x1=\"111.616\" y1=\"190.354\" x2=\"112.616\" y2=\"190.354\" style=\"stroke:#e26f46; stroke-opacity:1\"/>\n",
       "<circle clip-path=\"url(#clip02)\" style=\"fill:#000000; stroke:none; fill-opacity:1\" cx=\"112.14\" cy=\"189.054\" r=\"1\"/>\n",
       "<line clip-path=\"url(#clip02)\" x1=\"112.14\" y1=\"189.054\" x2=\"113.14\" y2=\"189.054\" style=\"stroke:#e26f46; stroke-opacity:1\"/>\n",
       "<circle clip-path=\"url(#clip02)\" style=\"fill:#000000; stroke:none; fill-opacity:1\" cx=\"112.664\" cy=\"187.761\" r=\"1\"/>\n",
       "<line clip-path=\"url(#clip02)\" x1=\"112.664\" y1=\"187.761\" x2=\"113.664\" y2=\"187.761\" style=\"stroke:#e26f46; stroke-opacity:1\"/>\n",
       "<circle clip-path=\"url(#clip02)\" style=\"fill:#000000; stroke:none; fill-opacity:1\" cx=\"113.188\" cy=\"186.472\" r=\"1\"/>\n",
       "<line clip-path=\"url(#clip02)\" x1=\"113.188\" y1=\"186.472\" x2=\"114.188\" y2=\"186.472\" style=\"stroke:#e26f46; stroke-opacity:1\"/>\n",
       "<circle clip-path=\"url(#clip02)\" style=\"fill:#000000; stroke:none; fill-opacity:1\" cx=\"113.712\" cy=\"185.19\" r=\"1\"/>\n",
       "<line clip-path=\"url(#clip02)\" x1=\"113.712\" y1=\"185.19\" x2=\"114.712\" y2=\"185.19\" style=\"stroke:#e26f46; stroke-opacity:1\"/>\n",
       "<circle clip-path=\"url(#clip02)\" style=\"fill:#000000; stroke:none; fill-opacity:1\" cx=\"114.236\" cy=\"183.913\" r=\"1\"/>\n",
       "<line clip-path=\"url(#clip02)\" x1=\"114.236\" y1=\"183.913\" x2=\"115.236\" y2=\"183.913\" style=\"stroke:#e26f46; stroke-opacity:1\"/>\n",
       "<circle clip-path=\"url(#clip02)\" style=\"fill:#000000; stroke:none; fill-opacity:1\" cx=\"114.76\" cy=\"182.641\" r=\"1\"/>\n",
       "<line clip-path=\"url(#clip02)\" x1=\"114.76\" y1=\"182.641\" x2=\"115.76\" y2=\"182.641\" style=\"stroke:#e26f46; stroke-opacity:1\"/>\n",
       "<circle clip-path=\"url(#clip02)\" style=\"fill:#000000; stroke:none; fill-opacity:1\" cx=\"115.284\" cy=\"181.376\" r=\"1\"/>\n",
       "<line clip-path=\"url(#clip02)\" x1=\"115.284\" y1=\"181.376\" x2=\"116.284\" y2=\"181.376\" style=\"stroke:#e26f46; stroke-opacity:1\"/>\n",
       "<circle clip-path=\"url(#clip02)\" style=\"fill:#000000; stroke:none; fill-opacity:1\" cx=\"115.808\" cy=\"180.116\" r=\"1\"/>\n",
       "<line clip-path=\"url(#clip02)\" x1=\"115.808\" y1=\"180.116\" x2=\"116.808\" y2=\"180.116\" style=\"stroke:#e26f46; stroke-opacity:1\"/>\n",
       "<circle clip-path=\"url(#clip02)\" style=\"fill:#000000; stroke:none; fill-opacity:1\" cx=\"116.332\" cy=\"178.861\" r=\"1\"/>\n",
       "<line clip-path=\"url(#clip02)\" x1=\"116.332\" y1=\"178.861\" x2=\"117.332\" y2=\"178.861\" style=\"stroke:#e26f46; stroke-opacity:1\"/>\n",
       "<circle clip-path=\"url(#clip02)\" style=\"fill:#000000; stroke:none; fill-opacity:1\" cx=\"116.857\" cy=\"177.612\" r=\"1\"/>\n",
       "<line clip-path=\"url(#clip02)\" x1=\"116.857\" y1=\"177.612\" x2=\"117.857\" y2=\"177.612\" style=\"stroke:#e26f46; stroke-opacity:1\"/>\n",
       "<circle clip-path=\"url(#clip02)\" style=\"fill:#000000; stroke:none; fill-opacity:1\" cx=\"117.381\" cy=\"176.369\" r=\"1\"/>\n",
       "<line clip-path=\"url(#clip02)\" x1=\"117.381\" y1=\"176.369\" x2=\"118.381\" y2=\"176.369\" style=\"stroke:#e26f46; stroke-opacity:1\"/>\n",
       "<circle clip-path=\"url(#clip02)\" style=\"fill:#000000; stroke:none; fill-opacity:1\" cx=\"117.905\" cy=\"175.132\" r=\"1\"/>\n",
       "<line clip-path=\"url(#clip02)\" x1=\"117.905\" y1=\"175.132\" x2=\"118.905\" y2=\"175.132\" style=\"stroke:#e26f46; stroke-opacity:1\"/>\n",
       "<circle clip-path=\"url(#clip02)\" style=\"fill:#000000; stroke:none; fill-opacity:1\" cx=\"118.429\" cy=\"173.9\" r=\"1\"/>\n",
       "<line clip-path=\"url(#clip02)\" x1=\"118.429\" y1=\"173.9\" x2=\"119.429\" y2=\"173.9\" style=\"stroke:#e26f46; stroke-opacity:1\"/>\n",
       "<circle clip-path=\"url(#clip02)\" style=\"fill:#000000; stroke:none; fill-opacity:1\" cx=\"118.953\" cy=\"172.673\" r=\"1\"/>\n",
       "<line clip-path=\"url(#clip02)\" x1=\"118.953\" y1=\"172.673\" x2=\"119.953\" y2=\"172.673\" style=\"stroke:#e26f46; stroke-opacity:1\"/>\n",
       "<circle clip-path=\"url(#clip02)\" style=\"fill:#000000; stroke:none; fill-opacity:1\" cx=\"119.477\" cy=\"171.452\" r=\"1\"/>\n",
       "<line clip-path=\"url(#clip02)\" x1=\"119.477\" y1=\"171.452\" x2=\"120.477\" y2=\"171.452\" style=\"stroke:#e26f46; stroke-opacity:1\"/>\n",
       "<circle clip-path=\"url(#clip02)\" style=\"fill:#000000; stroke:none; fill-opacity:1\" cx=\"120.001\" cy=\"170.237\" r=\"1\"/>\n",
       "<line clip-path=\"url(#clip02)\" x1=\"120.001\" y1=\"170.237\" x2=\"121.001\" y2=\"170.237\" style=\"stroke:#e26f46; stroke-opacity:1\"/>\n",
       "<circle clip-path=\"url(#clip02)\" style=\"fill:#000000; stroke:none; fill-opacity:1\" cx=\"120.525\" cy=\"169.027\" r=\"1\"/>\n",
       "<line clip-path=\"url(#clip02)\" x1=\"120.525\" y1=\"169.027\" x2=\"121.525\" y2=\"169.027\" style=\"stroke:#e26f46; stroke-opacity:1\"/>\n",
       "<circle clip-path=\"url(#clip02)\" style=\"fill:#000000; stroke:none; fill-opacity:1\" cx=\"121.049\" cy=\"167.823\" r=\"1\"/>\n",
       "<line clip-path=\"url(#clip02)\" x1=\"121.049\" y1=\"167.823\" x2=\"122.049\" y2=\"167.823\" style=\"stroke:#e26f46; stroke-opacity:1\"/>\n",
       "<circle clip-path=\"url(#clip02)\" style=\"fill:#000000; stroke:none; fill-opacity:1\" cx=\"121.573\" cy=\"166.624\" r=\"1\"/>\n",
       "<line clip-path=\"url(#clip02)\" x1=\"121.573\" y1=\"166.624\" x2=\"122.573\" y2=\"166.624\" style=\"stroke:#e26f46; stroke-opacity:1\"/>\n",
       "<circle clip-path=\"url(#clip02)\" style=\"fill:#000000; stroke:none; fill-opacity:1\" cx=\"122.097\" cy=\"165.431\" r=\"1\"/>\n",
       "<line clip-path=\"url(#clip02)\" x1=\"122.097\" y1=\"165.431\" x2=\"123.097\" y2=\"165.431\" style=\"stroke:#e26f46; stroke-opacity:1\"/>\n",
       "<circle clip-path=\"url(#clip02)\" style=\"fill:#000000; stroke:none; fill-opacity:1\" cx=\"122.622\" cy=\"164.244\" r=\"1\"/>\n",
       "<line clip-path=\"url(#clip02)\" x1=\"122.622\" y1=\"164.244\" x2=\"123.622\" y2=\"164.244\" style=\"stroke:#e26f46; stroke-opacity:1\"/>\n",
       "<circle clip-path=\"url(#clip02)\" style=\"fill:#000000; stroke:none; fill-opacity:1\" cx=\"123.146\" cy=\"163.062\" r=\"1\"/>\n",
       "<line clip-path=\"url(#clip02)\" x1=\"123.146\" y1=\"163.062\" x2=\"124.146\" y2=\"163.062\" style=\"stroke:#e26f46; stroke-opacity:1\"/>\n",
       "<circle clip-path=\"url(#clip02)\" style=\"fill:#000000; stroke:none; fill-opacity:1\" cx=\"123.67\" cy=\"161.885\" r=\"1\"/>\n",
       "<line clip-path=\"url(#clip02)\" x1=\"123.67\" y1=\"161.885\" x2=\"124.67\" y2=\"161.885\" style=\"stroke:#e26f46; stroke-opacity:1\"/>\n",
       "<circle clip-path=\"url(#clip02)\" style=\"fill:#000000; stroke:none; fill-opacity:1\" cx=\"124.194\" cy=\"160.714\" r=\"1\"/>\n",
       "<line clip-path=\"url(#clip02)\" x1=\"124.194\" y1=\"160.714\" x2=\"125.194\" y2=\"160.714\" style=\"stroke:#e26f46; stroke-opacity:1\"/>\n",
       "<circle clip-path=\"url(#clip02)\" style=\"fill:#000000; stroke:none; fill-opacity:1\" cx=\"124.718\" cy=\"159.549\" r=\"1\"/>\n",
       "<line clip-path=\"url(#clip02)\" x1=\"124.718\" y1=\"159.549\" x2=\"125.718\" y2=\"159.549\" style=\"stroke:#e26f46; stroke-opacity:1\"/>\n",
       "<circle clip-path=\"url(#clip02)\" style=\"fill:#000000; stroke:none; fill-opacity:1\" cx=\"125.242\" cy=\"158.388\" r=\"1\"/>\n",
       "<line clip-path=\"url(#clip02)\" x1=\"125.242\" y1=\"158.388\" x2=\"126.242\" y2=\"158.388\" style=\"stroke:#e26f46; stroke-opacity:1\"/>\n",
       "<circle clip-path=\"url(#clip02)\" style=\"fill:#000000; stroke:none; fill-opacity:1\" cx=\"125.766\" cy=\"157.234\" r=\"1\"/>\n",
       "<line clip-path=\"url(#clip02)\" x1=\"125.766\" y1=\"157.234\" x2=\"126.766\" y2=\"157.234\" style=\"stroke:#e26f46; stroke-opacity:1\"/>\n",
       "<circle clip-path=\"url(#clip02)\" style=\"fill:#000000; stroke:none; fill-opacity:1\" cx=\"126.29\" cy=\"156.085\" r=\"1\"/>\n",
       "<line clip-path=\"url(#clip02)\" x1=\"126.29\" y1=\"156.085\" x2=\"127.29\" y2=\"156.085\" style=\"stroke:#e26f46; stroke-opacity:1\"/>\n",
       "<circle clip-path=\"url(#clip02)\" style=\"fill:#000000; stroke:none; fill-opacity:1\" cx=\"126.814\" cy=\"154.941\" r=\"1\"/>\n",
       "<line clip-path=\"url(#clip02)\" x1=\"126.814\" y1=\"154.941\" x2=\"127.814\" y2=\"154.941\" style=\"stroke:#e26f46; stroke-opacity:1\"/>\n",
       "<circle clip-path=\"url(#clip02)\" style=\"fill:#000000; stroke:none; fill-opacity:1\" cx=\"127.338\" cy=\"153.803\" r=\"1\"/>\n",
       "<line clip-path=\"url(#clip02)\" x1=\"127.338\" y1=\"153.803\" x2=\"128.338\" y2=\"153.803\" style=\"stroke:#e26f46; stroke-opacity:1\"/>\n",
       "<circle clip-path=\"url(#clip02)\" style=\"fill:#000000; stroke:none; fill-opacity:1\" cx=\"127.862\" cy=\"152.67\" r=\"1\"/>\n",
       "<line clip-path=\"url(#clip02)\" x1=\"127.862\" y1=\"152.67\" x2=\"128.862\" y2=\"152.67\" style=\"stroke:#e26f46; stroke-opacity:1\"/>\n",
       "<circle clip-path=\"url(#clip02)\" style=\"fill:#000000; stroke:none; fill-opacity:1\" cx=\"128.386\" cy=\"151.543\" r=\"1\"/>\n",
       "<line clip-path=\"url(#clip02)\" x1=\"128.386\" y1=\"151.543\" x2=\"129.386\" y2=\"151.543\" style=\"stroke:#e26f46; stroke-opacity:1\"/>\n",
       "<circle clip-path=\"url(#clip02)\" style=\"fill:#000000; stroke:none; fill-opacity:1\" cx=\"128.911\" cy=\"150.421\" r=\"1\"/>\n",
       "<line clip-path=\"url(#clip02)\" x1=\"128.911\" y1=\"150.421\" x2=\"129.911\" y2=\"150.421\" style=\"stroke:#e26f46; stroke-opacity:1\"/>\n",
       "<circle clip-path=\"url(#clip02)\" style=\"fill:#000000; stroke:none; fill-opacity:1\" cx=\"129.435\" cy=\"149.304\" r=\"1\"/>\n",
       "<line clip-path=\"url(#clip02)\" x1=\"129.435\" y1=\"149.304\" x2=\"130.435\" y2=\"149.304\" style=\"stroke:#e26f46; stroke-opacity:1\"/>\n",
       "<circle clip-path=\"url(#clip02)\" style=\"fill:#000000; stroke:none; fill-opacity:1\" cx=\"129.959\" cy=\"148.193\" r=\"1\"/>\n",
       "<line clip-path=\"url(#clip02)\" x1=\"129.959\" y1=\"148.193\" x2=\"130.959\" y2=\"148.193\" style=\"stroke:#e26f46; stroke-opacity:1\"/>\n",
       "<circle clip-path=\"url(#clip02)\" style=\"fill:#000000; stroke:none; fill-opacity:1\" cx=\"130.483\" cy=\"147.088\" r=\"1\"/>\n",
       "<line clip-path=\"url(#clip02)\" x1=\"130.483\" y1=\"147.088\" x2=\"131.483\" y2=\"147.088\" style=\"stroke:#e26f46; stroke-opacity:1\"/>\n",
       "<circle clip-path=\"url(#clip02)\" style=\"fill:#000000; stroke:none; fill-opacity:1\" cx=\"131.007\" cy=\"145.987\" r=\"1\"/>\n",
       "<line clip-path=\"url(#clip02)\" x1=\"131.007\" y1=\"145.987\" x2=\"132.007\" y2=\"145.987\" style=\"stroke:#e26f46; stroke-opacity:1\"/>\n",
       "<circle clip-path=\"url(#clip02)\" style=\"fill:#000000; stroke:none; fill-opacity:1\" cx=\"131.531\" cy=\"144.892\" r=\"1\"/>\n",
       "<line clip-path=\"url(#clip02)\" x1=\"131.531\" y1=\"144.892\" x2=\"132.531\" y2=\"144.892\" style=\"stroke:#e26f46; stroke-opacity:1\"/>\n",
       "<circle clip-path=\"url(#clip02)\" style=\"fill:#000000; stroke:none; fill-opacity:1\" cx=\"132.055\" cy=\"143.803\" r=\"1\"/>\n",
       "<line clip-path=\"url(#clip02)\" x1=\"132.055\" y1=\"143.803\" x2=\"133.055\" y2=\"143.803\" style=\"stroke:#e26f46; stroke-opacity:1\"/>\n",
       "<circle clip-path=\"url(#clip02)\" style=\"fill:#000000; stroke:none; fill-opacity:1\" cx=\"132.579\" cy=\"142.719\" r=\"1\"/>\n",
       "<line clip-path=\"url(#clip02)\" x1=\"132.579\" y1=\"142.719\" x2=\"133.579\" y2=\"142.719\" style=\"stroke:#e26f46; stroke-opacity:1\"/>\n",
       "<circle clip-path=\"url(#clip02)\" style=\"fill:#000000; stroke:none; fill-opacity:1\" cx=\"133.103\" cy=\"141.64\" r=\"1\"/>\n",
       "<line clip-path=\"url(#clip02)\" x1=\"133.103\" y1=\"141.64\" x2=\"134.103\" y2=\"141.64\" style=\"stroke:#e26f46; stroke-opacity:1\"/>\n",
       "<circle clip-path=\"url(#clip02)\" style=\"fill:#000000; stroke:none; fill-opacity:1\" cx=\"133.627\" cy=\"140.566\" r=\"1\"/>\n",
       "<line clip-path=\"url(#clip02)\" x1=\"133.627\" y1=\"140.566\" x2=\"134.627\" y2=\"140.566\" style=\"stroke:#e26f46; stroke-opacity:1\"/>\n",
       "<circle clip-path=\"url(#clip02)\" style=\"fill:#000000; stroke:none; fill-opacity:1\" cx=\"134.151\" cy=\"139.498\" r=\"1\"/>\n",
       "<line clip-path=\"url(#clip02)\" x1=\"134.151\" y1=\"139.498\" x2=\"135.151\" y2=\"139.498\" style=\"stroke:#e26f46; stroke-opacity:1\"/>\n",
       "<circle clip-path=\"url(#clip02)\" style=\"fill:#000000; stroke:none; fill-opacity:1\" cx=\"134.676\" cy=\"138.435\" r=\"1\"/>\n",
       "<line clip-path=\"url(#clip02)\" x1=\"134.676\" y1=\"138.435\" x2=\"135.676\" y2=\"138.435\" style=\"stroke:#e26f46; stroke-opacity:1\"/>\n",
       "<circle clip-path=\"url(#clip02)\" style=\"fill:#000000; stroke:none; fill-opacity:1\" cx=\"135.2\" cy=\"137.378\" r=\"1\"/>\n",
       "<line clip-path=\"url(#clip02)\" x1=\"135.2\" y1=\"137.378\" x2=\"136.2\" y2=\"137.378\" style=\"stroke:#e26f46; stroke-opacity:1\"/>\n",
       "<circle clip-path=\"url(#clip02)\" style=\"fill:#000000; stroke:none; fill-opacity:1\" cx=\"135.724\" cy=\"136.326\" r=\"1\"/>\n",
       "<line clip-path=\"url(#clip02)\" x1=\"135.724\" y1=\"136.326\" x2=\"136.724\" y2=\"136.326\" style=\"stroke:#e26f46; stroke-opacity:1\"/>\n",
       "<circle clip-path=\"url(#clip02)\" style=\"fill:#000000; stroke:none; fill-opacity:1\" cx=\"136.248\" cy=\"135.279\" r=\"1\"/>\n",
       "<line clip-path=\"url(#clip02)\" x1=\"136.248\" y1=\"135.279\" x2=\"137.248\" y2=\"135.279\" style=\"stroke:#e26f46; stroke-opacity:1\"/>\n",
       "<circle clip-path=\"url(#clip02)\" style=\"fill:#000000; stroke:none; fill-opacity:1\" cx=\"136.772\" cy=\"134.238\" r=\"1\"/>\n",
       "<line clip-path=\"url(#clip02)\" x1=\"136.772\" y1=\"134.238\" x2=\"137.772\" y2=\"134.238\" style=\"stroke:#e26f46; stroke-opacity:1\"/>\n",
       "<circle clip-path=\"url(#clip02)\" style=\"fill:#000000; stroke:none; fill-opacity:1\" cx=\"137.296\" cy=\"133.201\" r=\"1\"/>\n",
       "<line clip-path=\"url(#clip02)\" x1=\"137.296\" y1=\"133.201\" x2=\"138.296\" y2=\"133.201\" style=\"stroke:#e26f46; stroke-opacity:1\"/>\n",
       "<circle clip-path=\"url(#clip02)\" style=\"fill:#000000; stroke:none; fill-opacity:1\" cx=\"137.82\" cy=\"132.17\" r=\"1\"/>\n",
       "<line clip-path=\"url(#clip02)\" x1=\"137.82\" y1=\"132.17\" x2=\"138.82\" y2=\"132.17\" style=\"stroke:#e26f46; stroke-opacity:1\"/>\n",
       "<circle clip-path=\"url(#clip02)\" style=\"fill:#000000; stroke:none; fill-opacity:1\" cx=\"138.344\" cy=\"131.145\" r=\"1\"/>\n",
       "<line clip-path=\"url(#clip02)\" x1=\"138.344\" y1=\"131.145\" x2=\"139.344\" y2=\"131.145\" style=\"stroke:#e26f46; stroke-opacity:1\"/>\n",
       "<circle clip-path=\"url(#clip02)\" style=\"fill:#000000; stroke:none; fill-opacity:1\" cx=\"138.868\" cy=\"130.124\" r=\"1\"/>\n",
       "<line clip-path=\"url(#clip02)\" x1=\"138.868\" y1=\"130.124\" x2=\"139.868\" y2=\"130.124\" style=\"stroke:#e26f46; stroke-opacity:1\"/>\n",
       "<circle clip-path=\"url(#clip02)\" style=\"fill:#000000; stroke:none; fill-opacity:1\" cx=\"139.392\" cy=\"129.109\" r=\"1\"/>\n",
       "<line clip-path=\"url(#clip02)\" x1=\"139.392\" y1=\"129.109\" x2=\"140.392\" y2=\"129.109\" style=\"stroke:#e26f46; stroke-opacity:1\"/>\n",
       "<circle clip-path=\"url(#clip02)\" style=\"fill:#000000; stroke:none; fill-opacity:1\" cx=\"139.916\" cy=\"128.099\" r=\"1\"/>\n",
       "<line clip-path=\"url(#clip02)\" x1=\"139.916\" y1=\"128.099\" x2=\"140.916\" y2=\"128.099\" style=\"stroke:#e26f46; stroke-opacity:1\"/>\n",
       "<circle clip-path=\"url(#clip02)\" style=\"fill:#000000; stroke:none; fill-opacity:1\" cx=\"140.441\" cy=\"127.095\" r=\"1\"/>\n",
       "<line clip-path=\"url(#clip02)\" x1=\"140.441\" y1=\"127.095\" x2=\"141.441\" y2=\"127.095\" style=\"stroke:#e26f46; stroke-opacity:1\"/>\n",
       "<circle clip-path=\"url(#clip02)\" style=\"fill:#000000; stroke:none; fill-opacity:1\" cx=\"140.965\" cy=\"126.095\" r=\"1\"/>\n",
       "<line clip-path=\"url(#clip02)\" x1=\"140.965\" y1=\"126.095\" x2=\"141.965\" y2=\"126.095\" style=\"stroke:#e26f46; stroke-opacity:1\"/>\n",
       "<circle clip-path=\"url(#clip02)\" style=\"fill:#000000; stroke:none; fill-opacity:1\" cx=\"141.489\" cy=\"125.101\" r=\"1\"/>\n",
       "<line clip-path=\"url(#clip02)\" x1=\"141.489\" y1=\"125.101\" x2=\"142.489\" y2=\"125.101\" style=\"stroke:#e26f46; stroke-opacity:1\"/>\n",
       "<circle clip-path=\"url(#clip02)\" style=\"fill:#000000; stroke:none; fill-opacity:1\" cx=\"142.013\" cy=\"124.112\" r=\"1\"/>\n",
       "<line clip-path=\"url(#clip02)\" x1=\"142.013\" y1=\"124.112\" x2=\"143.013\" y2=\"124.112\" style=\"stroke:#e26f46; stroke-opacity:1\"/>\n",
       "<circle clip-path=\"url(#clip02)\" style=\"fill:#000000; stroke:none; fill-opacity:1\" cx=\"142.537\" cy=\"123.128\" r=\"1\"/>\n",
       "<line clip-path=\"url(#clip02)\" x1=\"142.537\" y1=\"123.128\" x2=\"143.537\" y2=\"123.128\" style=\"stroke:#e26f46; stroke-opacity:1\"/>\n",
       "<circle clip-path=\"url(#clip02)\" style=\"fill:#000000; stroke:none; fill-opacity:1\" cx=\"143.061\" cy=\"122.15\" r=\"1\"/>\n",
       "<line clip-path=\"url(#clip02)\" x1=\"143.061\" y1=\"122.15\" x2=\"144.061\" y2=\"122.15\" style=\"stroke:#e26f46; stroke-opacity:1\"/>\n",
       "<circle clip-path=\"url(#clip02)\" style=\"fill:#000000; stroke:none; fill-opacity:1\" cx=\"143.585\" cy=\"121.177\" r=\"1\"/>\n",
       "<line clip-path=\"url(#clip02)\" x1=\"143.585\" y1=\"121.177\" x2=\"144.585\" y2=\"121.177\" style=\"stroke:#e26f46; stroke-opacity:1\"/>\n",
       "<circle clip-path=\"url(#clip02)\" style=\"fill:#000000; stroke:none; fill-opacity:1\" cx=\"144.109\" cy=\"120.208\" r=\"1\"/>\n",
       "<line clip-path=\"url(#clip02)\" x1=\"144.109\" y1=\"120.208\" x2=\"145.109\" y2=\"120.208\" style=\"stroke:#e26f46; stroke-opacity:1\"/>\n",
       "<circle clip-path=\"url(#clip02)\" style=\"fill:#000000; stroke:none; fill-opacity:1\" cx=\"144.633\" cy=\"119.245\" r=\"1\"/>\n",
       "<line clip-path=\"url(#clip02)\" x1=\"144.633\" y1=\"119.245\" x2=\"145.633\" y2=\"119.245\" style=\"stroke:#e26f46; stroke-opacity:1\"/>\n",
       "<circle clip-path=\"url(#clip02)\" style=\"fill:#000000; stroke:none; fill-opacity:1\" cx=\"145.157\" cy=\"118.288\" r=\"1\"/>\n",
       "<line clip-path=\"url(#clip02)\" x1=\"145.157\" y1=\"118.288\" x2=\"146.157\" y2=\"118.288\" style=\"stroke:#e26f46; stroke-opacity:1\"/>\n",
       "<circle clip-path=\"url(#clip02)\" style=\"fill:#000000; stroke:none; fill-opacity:1\" cx=\"145.681\" cy=\"117.335\" r=\"1\"/>\n",
       "<line clip-path=\"url(#clip02)\" x1=\"145.681\" y1=\"117.335\" x2=\"146.681\" y2=\"117.335\" style=\"stroke:#e26f46; stroke-opacity:1\"/>\n",
       "<circle clip-path=\"url(#clip02)\" style=\"fill:#000000; stroke:none; fill-opacity:1\" cx=\"146.205\" cy=\"116.387\" r=\"1\"/>\n",
       "<line clip-path=\"url(#clip02)\" x1=\"146.205\" y1=\"116.387\" x2=\"147.205\" y2=\"116.387\" style=\"stroke:#e26f46; stroke-opacity:1\"/>\n",
       "<circle clip-path=\"url(#clip02)\" style=\"fill:#000000; stroke:none; fill-opacity:1\" cx=\"146.73\" cy=\"115.445\" r=\"1\"/>\n",
       "<line clip-path=\"url(#clip02)\" x1=\"146.73\" y1=\"115.445\" x2=\"147.73\" y2=\"115.445\" style=\"stroke:#e26f46; stroke-opacity:1\"/>\n",
       "<circle clip-path=\"url(#clip02)\" style=\"fill:#000000; stroke:none; fill-opacity:1\" cx=\"147.254\" cy=\"114.508\" r=\"1\"/>\n",
       "<line clip-path=\"url(#clip02)\" x1=\"147.254\" y1=\"114.508\" x2=\"148.254\" y2=\"114.508\" style=\"stroke:#e26f46; stroke-opacity:1\"/>\n",
       "<circle clip-path=\"url(#clip02)\" style=\"fill:#000000; stroke:none; fill-opacity:1\" cx=\"147.778\" cy=\"113.576\" r=\"1\"/>\n",
       "<line clip-path=\"url(#clip02)\" x1=\"147.778\" y1=\"113.576\" x2=\"148.778\" y2=\"113.576\" style=\"stroke:#e26f46; stroke-opacity:1\"/>\n",
       "<circle clip-path=\"url(#clip02)\" style=\"fill:#000000; stroke:none; fill-opacity:1\" cx=\"148.302\" cy=\"112.649\" r=\"1\"/>\n",
       "<line clip-path=\"url(#clip02)\" x1=\"148.302\" y1=\"112.649\" x2=\"149.302\" y2=\"112.649\" style=\"stroke:#e26f46; stroke-opacity:1\"/>\n",
       "<circle clip-path=\"url(#clip02)\" style=\"fill:#000000; stroke:none; fill-opacity:1\" cx=\"148.826\" cy=\"111.727\" r=\"1\"/>\n",
       "<line clip-path=\"url(#clip02)\" x1=\"148.826\" y1=\"111.727\" x2=\"149.826\" y2=\"111.727\" style=\"stroke:#e26f46; stroke-opacity:1\"/>\n",
       "<circle clip-path=\"url(#clip02)\" style=\"fill:#000000; stroke:none; fill-opacity:1\" cx=\"149.35\" cy=\"110.81\" r=\"1\"/>\n",
       "<line clip-path=\"url(#clip02)\" x1=\"149.35\" y1=\"110.81\" x2=\"150.35\" y2=\"110.81\" style=\"stroke:#e26f46; stroke-opacity:1\"/>\n",
       "<circle clip-path=\"url(#clip02)\" style=\"fill:#000000; stroke:none; fill-opacity:1\" cx=\"149.874\" cy=\"109.899\" r=\"1\"/>\n",
       "<line clip-path=\"url(#clip02)\" x1=\"149.874\" y1=\"109.899\" x2=\"150.874\" y2=\"109.899\" style=\"stroke:#e26f46; stroke-opacity:1\"/>\n",
       "<circle clip-path=\"url(#clip02)\" style=\"fill:#000000; stroke:none; fill-opacity:1\" cx=\"150.398\" cy=\"108.992\" r=\"1\"/>\n",
       "<line clip-path=\"url(#clip02)\" x1=\"150.398\" y1=\"108.992\" x2=\"151.398\" y2=\"108.992\" style=\"stroke:#e26f46; stroke-opacity:1\"/>\n",
       "<circle clip-path=\"url(#clip02)\" style=\"fill:#000000; stroke:none; fill-opacity:1\" cx=\"150.922\" cy=\"108.09\" r=\"1\"/>\n",
       "<line clip-path=\"url(#clip02)\" x1=\"150.922\" y1=\"108.09\" x2=\"151.922\" y2=\"108.09\" style=\"stroke:#e26f46; stroke-opacity:1\"/>\n",
       "<circle clip-path=\"url(#clip02)\" style=\"fill:#000000; stroke:none; fill-opacity:1\" cx=\"151.446\" cy=\"107.194\" r=\"1\"/>\n",
       "<line clip-path=\"url(#clip02)\" x1=\"151.446\" y1=\"107.194\" x2=\"152.446\" y2=\"107.194\" style=\"stroke:#e26f46; stroke-opacity:1\"/>\n",
       "<circle clip-path=\"url(#clip02)\" style=\"fill:#000000; stroke:none; fill-opacity:1\" cx=\"151.97\" cy=\"106.303\" r=\"1\"/>\n",
       "<line clip-path=\"url(#clip02)\" x1=\"151.97\" y1=\"106.303\" x2=\"152.97\" y2=\"106.303\" style=\"stroke:#e26f46; stroke-opacity:1\"/>\n",
       "<circle clip-path=\"url(#clip02)\" style=\"fill:#000000; stroke:none; fill-opacity:1\" cx=\"152.495\" cy=\"105.416\" r=\"1\"/>\n",
       "<line clip-path=\"url(#clip02)\" x1=\"152.495\" y1=\"105.416\" x2=\"153.495\" y2=\"105.416\" style=\"stroke:#e26f46; stroke-opacity:1\"/>\n",
       "<circle clip-path=\"url(#clip02)\" style=\"fill:#000000; stroke:none; fill-opacity:1\" cx=\"153.019\" cy=\"104.535\" r=\"1\"/>\n",
       "<line clip-path=\"url(#clip02)\" x1=\"153.019\" y1=\"104.535\" x2=\"154.019\" y2=\"104.535\" style=\"stroke:#e26f46; stroke-opacity:1\"/>\n",
       "<circle clip-path=\"url(#clip02)\" style=\"fill:#000000; stroke:none; fill-opacity:1\" cx=\"153.543\" cy=\"103.659\" r=\"1\"/>\n",
       "<line clip-path=\"url(#clip02)\" x1=\"153.543\" y1=\"103.659\" x2=\"154.543\" y2=\"103.659\" style=\"stroke:#e26f46; stroke-opacity:1\"/>\n",
       "<circle clip-path=\"url(#clip02)\" style=\"fill:#000000; stroke:none; fill-opacity:1\" cx=\"154.067\" cy=\"102.788\" r=\"1\"/>\n",
       "<line clip-path=\"url(#clip02)\" x1=\"154.067\" y1=\"102.788\" x2=\"155.067\" y2=\"102.788\" style=\"stroke:#e26f46; stroke-opacity:1\"/>\n",
       "<circle clip-path=\"url(#clip02)\" style=\"fill:#000000; stroke:none; fill-opacity:1\" cx=\"154.591\" cy=\"101.922\" r=\"1\"/>\n",
       "<line clip-path=\"url(#clip02)\" x1=\"154.591\" y1=\"101.922\" x2=\"155.591\" y2=\"101.922\" style=\"stroke:#e26f46; stroke-opacity:1\"/>\n",
       "<circle clip-path=\"url(#clip02)\" style=\"fill:#000000; stroke:none; fill-opacity:1\" cx=\"155.115\" cy=\"101.06\" r=\"1\"/>\n",
       "<line clip-path=\"url(#clip02)\" x1=\"155.115\" y1=\"101.06\" x2=\"156.115\" y2=\"101.06\" style=\"stroke:#e26f46; stroke-opacity:1\"/>\n",
       "<circle clip-path=\"url(#clip02)\" style=\"fill:#000000; stroke:none; fill-opacity:1\" cx=\"155.639\" cy=\"100.204\" r=\"1\"/>\n",
       "<line clip-path=\"url(#clip02)\" x1=\"155.639\" y1=\"100.204\" x2=\"156.639\" y2=\"100.204\" style=\"stroke:#e26f46; stroke-opacity:1\"/>\n",
       "<circle clip-path=\"url(#clip02)\" style=\"fill:#000000; stroke:none; fill-opacity:1\" cx=\"156.163\" cy=\"99.3531\" r=\"1\"/>\n",
       "<line clip-path=\"url(#clip02)\" x1=\"156.163\" y1=\"99.3531\" x2=\"157.163\" y2=\"99.3531\" style=\"stroke:#e26f46; stroke-opacity:1\"/>\n",
       "<circle clip-path=\"url(#clip02)\" style=\"fill:#000000; stroke:none; fill-opacity:1\" cx=\"156.687\" cy=\"98.5069\" r=\"1\"/>\n",
       "<line clip-path=\"url(#clip02)\" x1=\"156.687\" y1=\"98.5069\" x2=\"157.687\" y2=\"98.5069\" style=\"stroke:#e26f46; stroke-opacity:1\"/>\n",
       "<circle clip-path=\"url(#clip02)\" style=\"fill:#000000; stroke:none; fill-opacity:1\" cx=\"157.211\" cy=\"97.6657\" r=\"1\"/>\n",
       "<line clip-path=\"url(#clip02)\" x1=\"157.211\" y1=\"97.6657\" x2=\"158.211\" y2=\"97.6657\" style=\"stroke:#e26f46; stroke-opacity:1\"/>\n",
       "<circle clip-path=\"url(#clip02)\" style=\"fill:#000000; stroke:none; fill-opacity:1\" cx=\"157.735\" cy=\"96.8295\" r=\"1\"/>\n",
       "<line clip-path=\"url(#clip02)\" x1=\"157.735\" y1=\"96.8295\" x2=\"158.735\" y2=\"96.8295\" style=\"stroke:#e26f46; stroke-opacity:1\"/>\n",
       "<circle clip-path=\"url(#clip02)\" style=\"fill:#000000; stroke:none; fill-opacity:1\" cx=\"158.26\" cy=\"95.9982\" r=\"1\"/>\n",
       "<line clip-path=\"url(#clip02)\" x1=\"158.26\" y1=\"95.9982\" x2=\"159.26\" y2=\"95.9982\" style=\"stroke:#e26f46; stroke-opacity:1\"/>\n",
       "<circle clip-path=\"url(#clip02)\" style=\"fill:#000000; stroke:none; fill-opacity:1\" cx=\"158.784\" cy=\"95.1719\" r=\"1\"/>\n",
       "<line clip-path=\"url(#clip02)\" x1=\"158.784\" y1=\"95.1719\" x2=\"159.784\" y2=\"95.1719\" style=\"stroke:#e26f46; stroke-opacity:1\"/>\n",
       "<circle clip-path=\"url(#clip02)\" style=\"fill:#000000; stroke:none; fill-opacity:1\" cx=\"159.308\" cy=\"94.3506\" r=\"1\"/>\n",
       "<line clip-path=\"url(#clip02)\" x1=\"159.308\" y1=\"94.3506\" x2=\"160.308\" y2=\"94.3506\" style=\"stroke:#e26f46; stroke-opacity:1\"/>\n",
       "<polygon clip-path=\"url(#clip00)\" points=\"\n",
       "501.61,74.114 574.126,74.114 574.126,28.754 501.61,28.754 \n",
       "  \" fill=\"#ffffff\" fill-opacity=\"1\"/>\n",
       "<polyline clip-path=\"url(#clip00)\" style=\"stroke:#000000; stroke-width:1; stroke-opacity:1; fill:none\" points=\"\n",
       "  501.61,74.114 574.126,74.114 574.126,28.754 501.61,28.754 501.61,74.114 \n",
       "  \"/>\n",
       "<polyline clip-path=\"url(#clip00)\" style=\"stroke:#009af9; stroke-width:1; stroke-opacity:1; fill:none\" points=\"\n",
       "  507.61,43.874 543.61,43.874 \n",
       "  \"/>\n",
       "<g clip-path=\"url(#clip00)\">\n",
       "<text style=\"fill:#000000; fill-opacity:1; font-family:Arial,Helvetica Neue,Helvetica,sans-serif; font-size:12; text-anchor:start;\" transform=\"rotate(0, 549.61, 48.374)\" x=\"549.61\" y=\"48.374\">y1</text>\n",
       "</g>\n",
       "<circle clip-path=\"url(#clip00)\" style=\"fill:#000000; stroke:none; fill-opacity:1\" cx=\"528.61\" cy=\"58.994\" r=\"6\"/>\n",
       "<circle clip-path=\"url(#clip00)\" style=\"fill:#e26f46; stroke:none; fill-opacity:1\" cx=\"528.61\" cy=\"58.994\" r=\"5\"/>\n",
       "<g clip-path=\"url(#clip00)\">\n",
       "<text style=\"fill:#000000; fill-opacity:1; font-family:Arial,Helvetica Neue,Helvetica,sans-serif; font-size:12; text-anchor:start;\" transform=\"rotate(0, 549.61, 63.494)\" x=\"549.61\" y=\"63.494\">y2</text>\n",
       "</g>\n",
       "</svg>\n"
      ]
     },
     "execution_count": 54,
     "metadata": {},
     "output_type": "execute_result"
    }
   ],
   "source": [
    "using Plots\n",
    "gr()\n",
    "\n",
    "equis1 = linspace(XX1.inf,XX1.sup, 200)\n",
    "equis2 = linspace(XX2.inf,XX2.sup, 1000)\n",
    "\n",
    "plot(equis2, fff.(equis2))\n",
    "scatter!(equis1, fff.(equis1), markersize=0.3)"
   ]
  },
  {
   "cell_type": "code",
   "execution_count": 55,
   "metadata": {
    "scrolled": true
   },
   "outputs": [
    {
     "name": "stdout",
     "output_type": "stream",
     "text": [
      "(centredform(f4, f41), f4(f41)) = (Intervalo(1.7916666666666665, 2.5416666666666665), Intervalo(1.5, 3.0))\n"
     ]
    }
   ],
   "source": [
    "f4(x) = x + 1/x \n",
    "\n",
    "f41 = Intervalo(1,2)\n",
    "\n",
    "@show centredform(f4,f41), f4(f41);"
   ]
  },
  {
   "cell_type": "code",
   "execution_count": 56,
   "metadata": {},
   "outputs": [
    {
     "name": "stdout",
     "output_type": "stream",
     "text": [
      "centredform(g, gx) = Intervalo(-2.8055555555555554, 3.6944444444444446)\n",
      "g(gx) = Intervalo(-Inf, Inf)\n"
     ]
    },
    {
     "data": {
      "text/plain": [
       "Intervalo(-Inf, Inf)"
      ]
     },
     "execution_count": 56,
     "metadata": {},
     "output_type": "execute_result"
    }
   ],
   "source": [
    "g(x) = 1/x\n",
    "\n",
    "gx=Intervalo(-1, 5.5)\n",
    "@show centredform(g, gx)\n",
    "@show g(gx)"
   ]
  },
  {
   "cell_type": "code",
   "execution_count": 57,
   "metadata": {
    "scrolled": true
   },
   "outputs": [
    {
     "data": {
      "text/plain": [
       "-4.0"
      ]
     },
     "execution_count": 57,
     "metadata": {},
     "output_type": "execute_result"
    }
   ],
   "source": [
    "ForwardDiff.derivative(g,0.5)"
   ]
  },
  {
   "cell_type": "code",
   "execution_count": 66,
   "metadata": {},
   "outputs": [
    {
     "name": "stdout",
     "output_type": "stream",
     "text": [
      "(centredform(f5, f5X1), centredform(f5, f5X2)) = (Intervalo(-4.3321672216701534, 19.295584292804755), Intervalo(-Inf, Inf))\n",
      "(f5(f5X1), f5(f5X2)) = (Intervalo(1.3719427019669197, 16.9188286785579), Intervalo(1.0, 16.9188286785579))\n"
     ]
    },
    {
     "data": {
      "text/plain": [
       "(Intervalo(1.3719427019669197, 16.9188286785579), Intervalo(1.0, 16.9188286785579))"
      ]
     },
     "execution_count": 66,
     "metadata": {},
     "output_type": "execute_result"
    }
   ],
   "source": [
    "f5(x) = exp(sqrt(x))\n",
    "f5X1 = Intervalo(0.1,8)\n",
    "f5X2 = Intervalo(0,8)\n",
    "\n",
    "@show centredform(f5, f5X1), centredform(f5, f5X2)\n",
    "@show f5(f5X1), f5(f5X2)"
   ]
  },
  {
   "cell_type": "code",
   "execution_count": 65,
   "metadata": {
    "scrolled": false
   },
   "outputs": [
    {
     "data": {
      "text/html": [
       "<?xml version=\"1.0\" encoding=\"utf-8\"?>\n",
       "<svg xmlns=\"http://www.w3.org/2000/svg\" xmlns:xlink=\"http://www.w3.org/1999/xlink\" width=\"600\" height=\"400\" viewBox=\"0 0 600 400\">\n",
       "<defs>\n",
       "  <clipPath id=\"clip00\">\n",
       "    <rect x=\"0\" y=\"0\" width=\"600\" height=\"400\"/>\n",
       "  </clipPath>\n",
       "</defs>\n",
       "<polygon clip-path=\"url(#clip00)\" points=\"\n",
       "0,400 600,400 600,0 0,0 \n",
       "  \" fill=\"#ffffff\" fill-opacity=\"1\"/>\n",
       "<defs>\n",
       "  <clipPath id=\"clip01\">\n",
       "    <rect x=\"120\" y=\"0\" width=\"421\" height=\"400\"/>\n",
       "  </clipPath>\n",
       "</defs>\n",
       "<polygon clip-path=\"url(#clip00)\" points=\"\n",
       "39.3701,376.378 592.126,376.378 592.126,7.87402 39.3701,7.87402 \n",
       "  \" fill=\"#ffffff\" fill-opacity=\"1\"/>\n",
       "<defs>\n",
       "  <clipPath id=\"clip02\">\n",
       "    <rect x=\"39\" y=\"7\" width=\"554\" height=\"370\"/>\n",
       "  </clipPath>\n",
       "</defs>\n",
       "<polyline clip-path=\"url(#clip02)\" style=\"stroke:#000000; stroke-width:0.5; stroke-opacity:0.1; fill:none\" points=\"\n",
       "  172.311,370.85 172.311,13.4016 \n",
       "  \"/>\n",
       "<polyline clip-path=\"url(#clip02)\" style=\"stroke:#000000; stroke-width:0.5; stroke-opacity:0.1; fill:none\" points=\"\n",
       "  312.25,370.85 312.25,13.4016 \n",
       "  \"/>\n",
       "<polyline clip-path=\"url(#clip02)\" style=\"stroke:#000000; stroke-width:0.5; stroke-opacity:0.1; fill:none\" points=\"\n",
       "  452.188,370.85 452.188,13.4016 \n",
       "  \"/>\n",
       "<polyline clip-path=\"url(#clip02)\" style=\"stroke:#000000; stroke-width:0.5; stroke-opacity:0.1; fill:none\" points=\"\n",
       "  592.126,370.85 592.126,13.4016 \n",
       "  \"/>\n",
       "<polyline clip-path=\"url(#clip02)\" style=\"stroke:#000000; stroke-width:0.5; stroke-opacity:0.1; fill:none\" points=\"\n",
       "  47.6614,376.378 583.835,376.378 \n",
       "  \"/>\n",
       "<polyline clip-path=\"url(#clip02)\" style=\"stroke:#000000; stroke-width:0.5; stroke-opacity:0.1; fill:none\" points=\"\n",
       "  47.6614,355.906 583.835,355.906 \n",
       "  \"/>\n",
       "<polyline clip-path=\"url(#clip02)\" style=\"stroke:#000000; stroke-width:0.5; stroke-opacity:0.1; fill:none\" points=\"\n",
       "  47.6614,335.433 583.835,335.433 \n",
       "  \"/>\n",
       "<polyline clip-path=\"url(#clip02)\" style=\"stroke:#000000; stroke-width:0.5; stroke-opacity:0.1; fill:none\" points=\"\n",
       "  47.6614,314.961 583.835,314.961 \n",
       "  \"/>\n",
       "<polyline clip-path=\"url(#clip02)\" style=\"stroke:#000000; stroke-width:0.5; stroke-opacity:0.1; fill:none\" points=\"\n",
       "  47.6614,294.488 583.835,294.488 \n",
       "  \"/>\n",
       "<polyline clip-path=\"url(#clip02)\" style=\"stroke:#000000; stroke-width:0.5; stroke-opacity:0.1; fill:none\" points=\"\n",
       "  47.6614,274.016 583.835,274.016 \n",
       "  \"/>\n",
       "<polyline clip-path=\"url(#clip02)\" style=\"stroke:#000000; stroke-width:0.5; stroke-opacity:0.1; fill:none\" points=\"\n",
       "  47.6614,253.543 583.835,253.543 \n",
       "  \"/>\n",
       "<polyline clip-path=\"url(#clip02)\" style=\"stroke:#000000; stroke-width:0.5; stroke-opacity:0.1; fill:none\" points=\"\n",
       "  47.6614,233.071 583.835,233.071 \n",
       "  \"/>\n",
       "<polyline clip-path=\"url(#clip02)\" style=\"stroke:#000000; stroke-width:0.5; stroke-opacity:0.1; fill:none\" points=\"\n",
       "  47.6614,212.598 583.835,212.598 \n",
       "  \"/>\n",
       "<polyline clip-path=\"url(#clip02)\" style=\"stroke:#000000; stroke-width:0.5; stroke-opacity:0.1; fill:none\" points=\"\n",
       "  47.6614,192.126 583.835,192.126 \n",
       "  \"/>\n",
       "<polyline clip-path=\"url(#clip02)\" style=\"stroke:#000000; stroke-width:0.5; stroke-opacity:0.1; fill:none\" points=\"\n",
       "  47.6614,171.654 583.835,171.654 \n",
       "  \"/>\n",
       "<polyline clip-path=\"url(#clip02)\" style=\"stroke:#000000; stroke-width:0.5; stroke-opacity:0.1; fill:none\" points=\"\n",
       "  47.6614,151.181 583.835,151.181 \n",
       "  \"/>\n",
       "<polyline clip-path=\"url(#clip02)\" style=\"stroke:#000000; stroke-width:0.5; stroke-opacity:0.1; fill:none\" points=\"\n",
       "  47.6614,130.709 583.835,130.709 \n",
       "  \"/>\n",
       "<polyline clip-path=\"url(#clip02)\" style=\"stroke:#000000; stroke-width:0.5; stroke-opacity:0.1; fill:none\" points=\"\n",
       "  47.6614,110.236 583.835,110.236 \n",
       "  \"/>\n",
       "<polyline clip-path=\"url(#clip02)\" style=\"stroke:#000000; stroke-width:0.5; stroke-opacity:0.1; fill:none\" points=\"\n",
       "  47.6614,89.7638 583.835,89.7638 \n",
       "  \"/>\n",
       "<polyline clip-path=\"url(#clip02)\" style=\"stroke:#000000; stroke-width:0.5; stroke-opacity:0.1; fill:none\" points=\"\n",
       "  47.6614,69.2913 583.835,69.2913 \n",
       "  \"/>\n",
       "<polyline clip-path=\"url(#clip02)\" style=\"stroke:#000000; stroke-width:0.5; stroke-opacity:0.1; fill:none\" points=\"\n",
       "  47.6614,48.8189 583.835,48.8189 \n",
       "  \"/>\n",
       "<polyline clip-path=\"url(#clip02)\" style=\"stroke:#000000; stroke-width:0.5; stroke-opacity:0.1; fill:none\" points=\"\n",
       "  47.6614,28.3465 583.835,28.3465 \n",
       "  \"/>\n",
       "<polyline clip-path=\"url(#clip02)\" style=\"stroke:#000000; stroke-width:0.5; stroke-opacity:0.1; fill:none\" points=\"\n",
       "  47.6614,7.87402 583.835,7.87402 \n",
       "  \"/>\n",
       "<polyline clip-path=\"url(#clip00)\" style=\"stroke:#000000; stroke-width:1; stroke-opacity:1; fill:none\" points=\"\n",
       "  39.3701,376.378 592.126,376.378 \n",
       "  \"/>\n",
       "<polyline clip-path=\"url(#clip00)\" style=\"stroke:#000000; stroke-width:1; stroke-opacity:1; fill:none\" points=\"\n",
       "  172.311,376.378 172.311,370.85 \n",
       "  \"/>\n",
       "<polyline clip-path=\"url(#clip00)\" style=\"stroke:#000000; stroke-width:1; stroke-opacity:1; fill:none\" points=\"\n",
       "  312.25,376.378 312.25,370.85 \n",
       "  \"/>\n",
       "<polyline clip-path=\"url(#clip00)\" style=\"stroke:#000000; stroke-width:1; stroke-opacity:1; fill:none\" points=\"\n",
       "  452.188,376.378 452.188,370.85 \n",
       "  \"/>\n",
       "<polyline clip-path=\"url(#clip00)\" style=\"stroke:#000000; stroke-width:1; stroke-opacity:1; fill:none\" points=\"\n",
       "  592.126,376.378 592.126,370.85 \n",
       "  \"/>\n",
       "<polyline clip-path=\"url(#clip00)\" style=\"stroke:#000000; stroke-width:1; stroke-opacity:1; fill:none\" points=\"\n",
       "  39.3701,376.378 39.3701,7.87402 \n",
       "  \"/>\n",
       "<polyline clip-path=\"url(#clip00)\" style=\"stroke:#000000; stroke-width:1; stroke-opacity:1; fill:none\" points=\"\n",
       "  39.3701,376.378 47.6614,376.378 \n",
       "  \"/>\n",
       "<polyline clip-path=\"url(#clip00)\" style=\"stroke:#000000; stroke-width:1; stroke-opacity:1; fill:none\" points=\"\n",
       "  39.3701,355.906 47.6614,355.906 \n",
       "  \"/>\n",
       "<polyline clip-path=\"url(#clip00)\" style=\"stroke:#000000; stroke-width:1; stroke-opacity:1; fill:none\" points=\"\n",
       "  39.3701,335.433 47.6614,335.433 \n",
       "  \"/>\n",
       "<polyline clip-path=\"url(#clip00)\" style=\"stroke:#000000; stroke-width:1; stroke-opacity:1; fill:none\" points=\"\n",
       "  39.3701,314.961 47.6614,314.961 \n",
       "  \"/>\n",
       "<polyline clip-path=\"url(#clip00)\" style=\"stroke:#000000; stroke-width:1; stroke-opacity:1; fill:none\" points=\"\n",
       "  39.3701,294.488 47.6614,294.488 \n",
       "  \"/>\n",
       "<polyline clip-path=\"url(#clip00)\" style=\"stroke:#000000; stroke-width:1; stroke-opacity:1; fill:none\" points=\"\n",
       "  39.3701,274.016 47.6614,274.016 \n",
       "  \"/>\n",
       "<polyline clip-path=\"url(#clip00)\" style=\"stroke:#000000; stroke-width:1; stroke-opacity:1; fill:none\" points=\"\n",
       "  39.3701,253.543 47.6614,253.543 \n",
       "  \"/>\n",
       "<polyline clip-path=\"url(#clip00)\" style=\"stroke:#000000; stroke-width:1; stroke-opacity:1; fill:none\" points=\"\n",
       "  39.3701,233.071 47.6614,233.071 \n",
       "  \"/>\n",
       "<polyline clip-path=\"url(#clip00)\" style=\"stroke:#000000; stroke-width:1; stroke-opacity:1; fill:none\" points=\"\n",
       "  39.3701,212.598 47.6614,212.598 \n",
       "  \"/>\n",
       "<polyline clip-path=\"url(#clip00)\" style=\"stroke:#000000; stroke-width:1; stroke-opacity:1; fill:none\" points=\"\n",
       "  39.3701,192.126 47.6614,192.126 \n",
       "  \"/>\n",
       "<polyline clip-path=\"url(#clip00)\" style=\"stroke:#000000; stroke-width:1; stroke-opacity:1; fill:none\" points=\"\n",
       "  39.3701,171.654 47.6614,171.654 \n",
       "  \"/>\n",
       "<polyline clip-path=\"url(#clip00)\" style=\"stroke:#000000; stroke-width:1; stroke-opacity:1; fill:none\" points=\"\n",
       "  39.3701,151.181 47.6614,151.181 \n",
       "  \"/>\n",
       "<polyline clip-path=\"url(#clip00)\" style=\"stroke:#000000; stroke-width:1; stroke-opacity:1; fill:none\" points=\"\n",
       "  39.3701,130.709 47.6614,130.709 \n",
       "  \"/>\n",
       "<polyline clip-path=\"url(#clip00)\" style=\"stroke:#000000; stroke-width:1; stroke-opacity:1; fill:none\" points=\"\n",
       "  39.3701,110.236 47.6614,110.236 \n",
       "  \"/>\n",
       "<polyline clip-path=\"url(#clip00)\" style=\"stroke:#000000; stroke-width:1; stroke-opacity:1; fill:none\" points=\"\n",
       "  39.3701,89.7638 47.6614,89.7638 \n",
       "  \"/>\n",
       "<polyline clip-path=\"url(#clip00)\" style=\"stroke:#000000; stroke-width:1; stroke-opacity:1; fill:none\" points=\"\n",
       "  39.3701,69.2913 47.6614,69.2913 \n",
       "  \"/>\n",
       "<polyline clip-path=\"url(#clip00)\" style=\"stroke:#000000; stroke-width:1; stroke-opacity:1; fill:none\" points=\"\n",
       "  39.3701,48.8189 47.6614,48.8189 \n",
       "  \"/>\n",
       "<polyline clip-path=\"url(#clip00)\" style=\"stroke:#000000; stroke-width:1; stroke-opacity:1; fill:none\" points=\"\n",
       "  39.3701,28.3465 47.6614,28.3465 \n",
       "  \"/>\n",
       "<polyline clip-path=\"url(#clip00)\" style=\"stroke:#000000; stroke-width:1; stroke-opacity:1; fill:none\" points=\"\n",
       "  39.3701,7.87402 47.6614,7.87402 \n",
       "  \"/>\n",
       "<g clip-path=\"url(#clip00)\">\n",
       "<text style=\"fill:#000000; fill-opacity:1; font-family:Arial,Helvetica Neue,Helvetica,sans-serif; font-size:12; text-anchor:middle;\" transform=\"rotate(0, 172.311, 390.178)\" x=\"172.311\" y=\"390.178\">2</text>\n",
       "</g>\n",
       "<g clip-path=\"url(#clip00)\">\n",
       "<text style=\"fill:#000000; fill-opacity:1; font-family:Arial,Helvetica Neue,Helvetica,sans-serif; font-size:12; text-anchor:middle;\" transform=\"rotate(0, 312.25, 390.178)\" x=\"312.25\" y=\"390.178\">4</text>\n",
       "</g>\n",
       "<g clip-path=\"url(#clip00)\">\n",
       "<text style=\"fill:#000000; fill-opacity:1; font-family:Arial,Helvetica Neue,Helvetica,sans-serif; font-size:12; text-anchor:middle;\" transform=\"rotate(0, 452.188, 390.178)\" x=\"452.188\" y=\"390.178\">6</text>\n",
       "</g>\n",
       "<g clip-path=\"url(#clip00)\">\n",
       "<text style=\"fill:#000000; fill-opacity:1; font-family:Arial,Helvetica Neue,Helvetica,sans-serif; font-size:12; text-anchor:middle;\" transform=\"rotate(0, 592.126, 390.178)\" x=\"592.126\" y=\"390.178\">8</text>\n",
       "</g>\n",
       "<g clip-path=\"url(#clip00)\">\n",
       "<text style=\"fill:#000000; fill-opacity:1; font-family:Arial,Helvetica Neue,Helvetica,sans-serif; font-size:12; text-anchor:end;\" transform=\"rotate(0, 33.3701, 380.878)\" x=\"33.3701\" y=\"380.878\">0</text>\n",
       "</g>\n",
       "<g clip-path=\"url(#clip00)\">\n",
       "<text style=\"fill:#000000; fill-opacity:1; font-family:Arial,Helvetica Neue,Helvetica,sans-serif; font-size:12; text-anchor:end;\" transform=\"rotate(0, 33.3701, 360.406)\" x=\"33.3701\" y=\"360.406\">1</text>\n",
       "</g>\n",
       "<g clip-path=\"url(#clip00)\">\n",
       "<text style=\"fill:#000000; fill-opacity:1; font-family:Arial,Helvetica Neue,Helvetica,sans-serif; font-size:12; text-anchor:end;\" transform=\"rotate(0, 33.3701, 339.933)\" x=\"33.3701\" y=\"339.933\">2</text>\n",
       "</g>\n",
       "<g clip-path=\"url(#clip00)\">\n",
       "<text style=\"fill:#000000; fill-opacity:1; font-family:Arial,Helvetica Neue,Helvetica,sans-serif; font-size:12; text-anchor:end;\" transform=\"rotate(0, 33.3701, 319.461)\" x=\"33.3701\" y=\"319.461\">3</text>\n",
       "</g>\n",
       "<g clip-path=\"url(#clip00)\">\n",
       "<text style=\"fill:#000000; fill-opacity:1; font-family:Arial,Helvetica Neue,Helvetica,sans-serif; font-size:12; text-anchor:end;\" transform=\"rotate(0, 33.3701, 298.988)\" x=\"33.3701\" y=\"298.988\">4</text>\n",
       "</g>\n",
       "<g clip-path=\"url(#clip00)\">\n",
       "<text style=\"fill:#000000; fill-opacity:1; font-family:Arial,Helvetica Neue,Helvetica,sans-serif; font-size:12; text-anchor:end;\" transform=\"rotate(0, 33.3701, 278.516)\" x=\"33.3701\" y=\"278.516\">5</text>\n",
       "</g>\n",
       "<g clip-path=\"url(#clip00)\">\n",
       "<text style=\"fill:#000000; fill-opacity:1; font-family:Arial,Helvetica Neue,Helvetica,sans-serif; font-size:12; text-anchor:end;\" transform=\"rotate(0, 33.3701, 258.043)\" x=\"33.3701\" y=\"258.043\">6</text>\n",
       "</g>\n",
       "<g clip-path=\"url(#clip00)\">\n",
       "<text style=\"fill:#000000; fill-opacity:1; font-family:Arial,Helvetica Neue,Helvetica,sans-serif; font-size:12; text-anchor:end;\" transform=\"rotate(0, 33.3701, 237.571)\" x=\"33.3701\" y=\"237.571\">7</text>\n",
       "</g>\n",
       "<g clip-path=\"url(#clip00)\">\n",
       "<text style=\"fill:#000000; fill-opacity:1; font-family:Arial,Helvetica Neue,Helvetica,sans-serif; font-size:12; text-anchor:end;\" transform=\"rotate(0, 33.3701, 217.098)\" x=\"33.3701\" y=\"217.098\">8</text>\n",
       "</g>\n",
       "<g clip-path=\"url(#clip00)\">\n",
       "<text style=\"fill:#000000; fill-opacity:1; font-family:Arial,Helvetica Neue,Helvetica,sans-serif; font-size:12; text-anchor:end;\" transform=\"rotate(0, 33.3701, 196.626)\" x=\"33.3701\" y=\"196.626\">9</text>\n",
       "</g>\n",
       "<g clip-path=\"url(#clip00)\">\n",
       "<text style=\"fill:#000000; fill-opacity:1; font-family:Arial,Helvetica Neue,Helvetica,sans-serif; font-size:12; text-anchor:end;\" transform=\"rotate(0, 33.3701, 176.154)\" x=\"33.3701\" y=\"176.154\">10</text>\n",
       "</g>\n",
       "<g clip-path=\"url(#clip00)\">\n",
       "<text style=\"fill:#000000; fill-opacity:1; font-family:Arial,Helvetica Neue,Helvetica,sans-serif; font-size:12; text-anchor:end;\" transform=\"rotate(0, 33.3701, 155.681)\" x=\"33.3701\" y=\"155.681\">11</text>\n",
       "</g>\n",
       "<g clip-path=\"url(#clip00)\">\n",
       "<text style=\"fill:#000000; fill-opacity:1; font-family:Arial,Helvetica Neue,Helvetica,sans-serif; font-size:12; text-anchor:end;\" transform=\"rotate(0, 33.3701, 135.209)\" x=\"33.3701\" y=\"135.209\">12</text>\n",
       "</g>\n",
       "<g clip-path=\"url(#clip00)\">\n",
       "<text style=\"fill:#000000; fill-opacity:1; font-family:Arial,Helvetica Neue,Helvetica,sans-serif; font-size:12; text-anchor:end;\" transform=\"rotate(0, 33.3701, 114.736)\" x=\"33.3701\" y=\"114.736\">13</text>\n",
       "</g>\n",
       "<g clip-path=\"url(#clip00)\">\n",
       "<text style=\"fill:#000000; fill-opacity:1; font-family:Arial,Helvetica Neue,Helvetica,sans-serif; font-size:12; text-anchor:end;\" transform=\"rotate(0, 33.3701, 94.2638)\" x=\"33.3701\" y=\"94.2638\">14</text>\n",
       "</g>\n",
       "<g clip-path=\"url(#clip00)\">\n",
       "<text style=\"fill:#000000; fill-opacity:1; font-family:Arial,Helvetica Neue,Helvetica,sans-serif; font-size:12; text-anchor:end;\" transform=\"rotate(0, 33.3701, 73.7913)\" x=\"33.3701\" y=\"73.7913\">15</text>\n",
       "</g>\n",
       "<g clip-path=\"url(#clip00)\">\n",
       "<text style=\"fill:#000000; fill-opacity:1; font-family:Arial,Helvetica Neue,Helvetica,sans-serif; font-size:12; text-anchor:end;\" transform=\"rotate(0, 33.3701, 53.3189)\" x=\"33.3701\" y=\"53.3189\">16</text>\n",
       "</g>\n",
       "<g clip-path=\"url(#clip00)\">\n",
       "<text style=\"fill:#000000; fill-opacity:1; font-family:Arial,Helvetica Neue,Helvetica,sans-serif; font-size:12; text-anchor:end;\" transform=\"rotate(0, 33.3701, 32.8465)\" x=\"33.3701\" y=\"32.8465\">17</text>\n",
       "</g>\n",
       "<g clip-path=\"url(#clip00)\">\n",
       "<text style=\"fill:#000000; fill-opacity:1; font-family:Arial,Helvetica Neue,Helvetica,sans-serif; font-size:12; text-anchor:end;\" transform=\"rotate(0, 33.3701, 12.374)\" x=\"33.3701\" y=\"12.374\">18</text>\n",
       "</g>\n",
       "<polyline clip-path=\"url(#clip02)\" style=\"stroke:#009af9; stroke-width:1; stroke-opacity:1; fill:none\" points=\"\n",
       "  39.3701,348.291 42.1477,346.628 44.9254,345.109 47.7031,343.685 50.4808,342.329 53.2584,341.024 56.0361,339.757 58.8138,338.521 61.5914,337.31 64.3691,336.12 \n",
       "  67.1468,334.946 69.9244,333.786 72.7021,332.637 75.4798,331.498 78.2574,330.367 81.0351,329.242 83.8128,328.123 86.5904,327.008 89.3681,325.896 92.1458,324.787 \n",
       "  94.9234,323.68 97.7011,322.574 100.479,321.469 103.256,320.365 106.034,319.26 108.812,318.154 111.589,317.048 114.367,315.941 117.145,314.832 119.922,313.721 \n",
       "  122.7,312.608 125.478,311.493 128.255,310.375 131.033,309.254 133.811,308.131 136.588,307.004 139.366,305.874 142.144,304.741 144.921,303.604 147.699,302.463 \n",
       "  150.477,301.318 153.254,300.169 156.032,299.016 158.81,297.859 161.587,296.697 164.365,295.531 167.143,294.361 169.92,293.185 172.698,292.005 175.476,290.82 \n",
       "  178.253,289.63 181.031,288.435 183.809,287.235 186.586,286.029 189.364,284.819 192.142,283.603 194.919,282.382 197.697,281.155 200.475,279.922 203.252,278.684 \n",
       "  206.03,277.441 208.808,276.191 211.585,274.936 214.363,273.675 217.141,272.408 219.918,271.135 222.696,269.856 225.474,268.571 228.251,267.28 231.029,265.982 \n",
       "  233.807,264.679 236.584,263.369 239.362,262.053 242.14,260.73 244.918,259.401 247.695,258.066 250.473,256.724 253.251,255.375 256.028,254.02 258.806,252.658 \n",
       "  261.584,251.29 264.361,249.915 267.139,248.533 269.917,247.144 272.694,245.748 275.472,244.346 278.25,242.936 281.027,241.52 283.805,240.096 286.583,238.666 \n",
       "  289.36,237.228 292.138,235.783 294.916,234.331 297.693,232.872 300.471,231.406 303.249,229.932 306.026,228.451 308.804,226.963 311.582,225.467 314.359,223.964 \n",
       "  317.137,222.453 319.915,220.935 322.692,219.409 325.47,217.875 328.248,216.334 331.025,214.786 333.803,213.229 336.581,211.665 339.358,210.093 342.136,208.514 \n",
       "  344.914,206.926 347.691,205.331 350.469,203.728 353.247,202.116 356.024,200.497 358.802,198.87 361.58,197.235 364.357,195.591 367.135,193.94 369.913,192.28 \n",
       "  372.69,190.612 375.468,188.936 378.246,187.252 381.023,185.559 383.801,183.858 386.579,182.149 389.356,180.431 392.134,178.705 394.912,176.971 397.689,175.227 \n",
       "  400.467,173.476 403.245,171.716 406.022,169.947 408.8,168.169 411.578,166.383 414.355,164.588 417.133,162.785 419.911,160.972 422.688,159.151 425.466,157.321 \n",
       "  428.244,155.482 431.021,153.635 433.799,151.778 436.577,149.912 439.354,148.037 442.132,146.153 444.91,144.26 447.687,142.358 450.465,140.447 453.243,138.527 \n",
       "  456.02,136.597 458.798,134.658 461.576,132.71 464.353,130.753 467.131,128.786 469.909,126.81 472.686,124.824 475.464,122.829 478.242,120.824 481.019,118.81 \n",
       "  483.797,116.786 486.575,114.753 489.352,112.71 492.13,110.657 494.908,108.594 497.685,106.522 500.463,104.44 503.241,102.348 506.018,100.247 508.796,98.1351 \n",
       "  511.574,96.0136 514.351,93.8821 517.129,91.7406 519.907,89.5891 522.684,87.4276 525.462,85.2559 528.24,83.074 531.017,80.882 533.795,78.6798 536.573,76.4673 \n",
       "  539.35,74.2445 542.128,72.0114 544.906,69.768 547.683,67.5141 550.461,65.2498 553.239,62.975 556.016,60.6898 558.794,58.3939 561.572,56.0875 564.349,53.7705 \n",
       "  567.127,51.4429 569.905,49.1045 572.682,46.7554 575.46,44.3955 578.238,42.0249 581.015,39.6434 583.793,37.251 586.571,34.8477 589.348,32.4335 592.126,30.0082 \n",
       "  \n",
       "  \"/>\n",
       "<polygon clip-path=\"url(#clip00)\" points=\"\n",
       "501.61,58.994 574.126,58.994 574.126,28.754 501.61,28.754 \n",
       "  \" fill=\"#ffffff\" fill-opacity=\"1\"/>\n",
       "<polyline clip-path=\"url(#clip00)\" style=\"stroke:#000000; stroke-width:1; stroke-opacity:1; fill:none\" points=\"\n",
       "  501.61,58.994 574.126,58.994 574.126,28.754 501.61,28.754 501.61,58.994 \n",
       "  \"/>\n",
       "<polyline clip-path=\"url(#clip00)\" style=\"stroke:#009af9; stroke-width:1; stroke-opacity:1; fill:none\" points=\"\n",
       "  507.61,43.874 543.61,43.874 \n",
       "  \"/>\n",
       "<g clip-path=\"url(#clip00)\">\n",
       "<text style=\"fill:#000000; fill-opacity:1; font-family:Arial,Helvetica Neue,Helvetica,sans-serif; font-size:12; text-anchor:start;\" transform=\"rotate(0, 549.61, 48.374)\" x=\"549.61\" y=\"48.374\">y1</text>\n",
       "</g>\n",
       "</svg>\n"
      ]
     },
     "execution_count": 65,
     "metadata": {},
     "output_type": "execute_result"
    }
   ],
   "source": [
    "equisf5 = linspace(f5X1.inf,f5X1.sup, 200)\n",
    "\n",
    "plot(ylim=(0,18),yticks=0:1:18)\n",
    "plot!(equisf5, f5.(equisf5))"
   ]
  },
  {
   "cell_type": "code",
   "execution_count": null,
   "metadata": {},
   "outputs": [],
   "source": []
  }
 ],
 "metadata": {
  "kernelspec": {
   "display_name": "Julia 0.6.0",
   "language": "julia",
   "name": "julia-0.6"
  },
  "language_info": {
   "file_extension": ".jl",
   "mimetype": "application/julia",
   "name": "julia",
   "version": "0.6.0"
  }
 },
 "nbformat": 4,
 "nbformat_minor": 2
}
