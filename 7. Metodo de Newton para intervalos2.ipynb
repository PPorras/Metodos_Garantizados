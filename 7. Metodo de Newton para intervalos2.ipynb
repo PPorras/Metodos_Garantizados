{
 "cells": [
  {
   "cell_type": "markdown",
   "metadata": {},
   "source": [
    "# El método de Newton para intervalos"
   ]
  },
  {
   "cell_type": "markdown",
   "metadata": {},
   "source": [
    "## Extensión literal del método de Newton"
   ]
  },
  {
   "cell_type": "markdown",
   "metadata": {},
   "source": [
    "Supongamos, igual que en el notebook anterior, que $f: \\mathbb{R} \\to \\mathbb{R}$ es una función $C^1$ (continuamente diferenciable) y que tiene una raíz $x^*$, es decir que $f(x^*)=0$. \n",
    "\n",
    "Sabemos que los intervalos pueden proveer una forma garantizada de acotar conjuntos. ¿Será posible que se puedan utilizar los intervalos de alguna forma para mejorar el método de Newton para ubicar las raíces de $f$?"
   ]
  },
  {
   "cell_type": "markdown",
   "metadata": {},
   "source": [
    "**[1]** La primera opción que se le podría ocurrir a uno es ocupar intervalos en el método de Newton tradicional.\n",
    "\n",
    "(i) Impleméntalo. [Debería ser ¡trivial utilizando tu código del notebook anterior!] \n",
    "\n",
    "(ii) Calcula el diámetro de los intervalos $x_i$ resultantes durante la iteración. ¿Qué observas? ¿Por qué ocurre?"
   ]
  },
  {
   "cell_type": "code",
   "execution_count": 1,
   "metadata": {},
   "outputs": [],
   "source": [
    "include(\"Intervalos.jl\")\n",
    "include(\"Duales.jl\")\n",
    "using .Intervalos\n",
    "using .Duales\n",
    "using Base.Test\n",
    "#using ForwardDiff"
   ]
  },
  {
   "cell_type": "code",
   "execution_count": 2,
   "metadata": {},
   "outputs": [
    {
     "data": {
      "text/plain": [
       "centredform (generic function with 1 method)"
      ]
     },
     "execution_count": 2,
     "metadata": {},
     "output_type": "execute_result"
    }
   ],
   "source": [
    "function centredform(f, X::Intervalo)\n",
    "    x0 = abs(X.sup - X.inf)*0.5 + X.inf\n",
    "    xp = derivada(f, X)\n",
    "    f(x0) + xp*(X - x0) \n",
    "end"
   ]
  },
  {
   "cell_type": "code",
   "execution_count": 3,
   "metadata": {},
   "outputs": [
    {
     "name": "stdout",
     "output_type": "stream",
     "text": [
      "\u001b[1m\u001b[37mTest Summary:                            | \u001b[39m\u001b[22m\u001b[1m\u001b[32mPass  \u001b[39m\u001b[22m\u001b[1m\u001b[36mTotal\u001b[39m\u001b[22m\n",
      "Pruebas Intervalos, derivada centredform | \u001b[32m   6  \u001b[39m\u001b[36m    6\u001b[39m\n"
     ]
    },
    {
     "data": {
      "text/plain": [
       "Base.Test.DefaultTestSet(\"Pruebas Intervalos, derivada centredform\", Any[], 6, false)"
      ]
     },
     "execution_count": 3,
     "metadata": {},
     "output_type": "execute_result"
    }
   ],
   "source": [
    "f(x) = x^2 - 2\n",
    "X0 = Intervalo(0.5, 1.5)\n",
    "\n",
    "@testset \"Pruebas Intervalos, derivada centredform\" begin\n",
    "    @test Intervalo(1) == Intervalo(1.0, 1.0)\n",
    "    @test Intervalo(1,2) + Intervalo(10,40) == Intervalo(11.0, 42.0)\n",
    "    @test typeof(Intervalo(1,2)) <: Real\n",
    "    @test f(X0) == Intervalo(-1.75, 0.25)\n",
    "    @test derivada(f, X0) == Intervalo(1.0, 3.0)\n",
    "    @test centredform(f, X0) == Intervalo(-2.5, 0.5)\n",
    "end"
   ]
  },
  {
   "cell_type": "code",
   "execution_count": 4,
   "metadata": {},
   "outputs": [
    {
     "data": {
      "text/plain": [
       "newton (generic function with 3 methods)"
      ]
     },
     "execution_count": 4,
     "metadata": {},
     "output_type": "execute_result"
    }
   ],
   "source": [
    "function newton(f,X0::Intervalo,n::Int64 = 10, tolerancia::Float64 = 1e-10 )\n",
    "    \n",
    "    for i in 1:n\n",
    "        X0 = X0 - X0/derivada(f ,X0)\n",
    "        diametro = abs(X0.sup - X0.inf)\n",
    "        diametro == 0.0 ? break : nothing\n",
    "        println(\" Diametro del intervalo \", diametro)\n",
    "        \n",
    "    end\n",
    "    X0\n",
    "end"
   ]
  },
  {
   "cell_type": "code",
   "execution_count": 5,
   "metadata": {},
   "outputs": [
    {
     "name": "stdout",
     "output_type": "stream",
     "text": [
      " Diametro del intervalo 2.333333333333333\n",
      " Diametro del intervalo Inf\n",
      " Diametro del intervalo Inf\n",
      " Diametro del intervalo Inf\n",
      " Diametro del intervalo Inf\n",
      " Diametro del intervalo Inf\n",
      " Diametro del intervalo Inf\n",
      " Diametro del intervalo Inf\n",
      " Diametro del intervalo Inf\n",
      " Diametro del intervalo Inf\n"
     ]
    },
    {
     "data": {
      "text/plain": [
       "Intervalos.Intervalo(-Inf, Inf)"
      ]
     },
     "execution_count": 5,
     "metadata": {},
     "output_type": "execute_result"
    }
   ],
   "source": [
    "newton(f, X0) "
   ]
  },
  {
   "cell_type": "markdown",
   "metadata": {},
   "source": [
    "Vemos que implementar el método de Newton tal cual no converge a la raíz"
   ]
  },
  {
   "cell_type": "markdown",
   "metadata": {},
   "source": [
    "## El método de Newton para intervalos"
   ]
  },
  {
   "cell_type": "markdown",
   "metadata": {},
   "source": [
    "Está claro que el método de Newton usual no nos sirve con intervalos. De hecho, es común que los métodos numéricos tradicionales no funcionan con intervalos. Sin embargo, al reescribir el método de otra manera, es posible que funcione mejor para acotar las cantidades deseadas.\n",
    "\n",
    "En los 60s se encontró una manera de *mejorar* el método de Newton, para proveer un método que *garantizadamente* pueda resolver el siguiente problema:\n",
    "\n",
    "> Dados un intervalo $X \\subseteq \\mathbb{R}$ y una función $f$ suficientemente suave ($C^1$), encuentra *todas* las raíces $f$ dentro del intervalo $X$.\n",
    "\n",
    "Es decir, el método de Newton para intervalos nos reportará cuáles son los intervalos dentro de los cuales puede garantizarse que existe una raíz, y que esta raíz es única dentro del intervalo. Asimismo, podría haber intervalos en los cuales no se puede garantizar que haya o no haya una raíz. Cualquier región de $X$ que no esté contenida en la lista de intervalos garantizadamente *no* contiene una raíz de $f$."
   ]
  },
  {
   "cell_type": "markdown",
   "metadata": {},
   "source": [
    "Necesitaremos extensiones intervalares $F$ de la función $f$ y $F'$ de su derivada $f'$; la segunda se puede obtener utilizando la diferenciación automática."
   ]
  },
  {
   "cell_type": "markdown",
   "metadata": {},
   "source": [
    "**[2]**\n",
    "Sea $x^*$ una raíz de $f$ y $x$ algún punto del intervalo $X:=[a,b]$. \n",
    "\n",
    "(i) Escribe el teorema del valor medio que relaciona $f(x)$ y $f(x^*)$.\n",
    "\n",
    "* Sea $f:X \\longrightarrow \\mathbb{R}$ tal que cumple las hipótesis del teorema del valor medio, entonces tenemos: $$f'(\\xi) = \\dfrac{f(b) - f(a)}{b - a}$$\n",
    "\n",
    "* Ahora $x^*$ tal que $f(x^*) = 0$ y $x\\in X$ con $[x^*,x]\\subseteq X$, entonces existe $\\xi \\in X$ entonces $$f'(\\xi) = \\dfrac{f(x^*) - f(x)}{x^* - x}$$ \n",
    "\n",
    "(ii) De ahí, obtén una expresión *exacta* para $x^*$ en términos de $x$ y un valor desconocido.\n",
    "\n",
    "* Despejando $x^*$ obtenemos $$x^* = x -\\dfrac{f(x)}{f'(\\xi)}$$ con $f'(\\xi) \\neq 0$\n",
    "\n",
    "(iii) ¿Qué se puede hacer con el valor desconocido?\n",
    "\n",
    "* Le asignamos todo el intervalo $\\xi = X $\n",
    "\n",
    "(iv) Define un operador $N_f(X, x)$ como el resultado de (iii).\n",
    "\n",
    "* $N_f(X, x) := x -\\dfrac{f(x)}{F'(X)}$\n",
    "\n",
    "(v) Demuestra que si $x^* \\in X$, entonces $x^* \\in N_f(X, x)$, y entonces $x^* \\in X \\cap N_f(X, x)$.\n",
    "\n",
    "* Puesto que $x^* \\in X$ podemos evaluar en el operador $N_f(X, x^*) = x^* -\\dfrac{f(x^*)}{F'(X)} = x^* \\Longrightarrow x^* \\in  N_f(X, x)\\cap X$ con $0\\notin F'(X)$\n"
   ]
  },
  {
   "cell_type": "markdown",
   "metadata": {},
   "source": [
    "Sea $m(X) := \\mathrm{mid}(X)$ el punto medio de $X$. Definimos el **operador de Newton** $N_f(X) := N_f(X, m)$. [Es necesario utilizar el intervalo $[m, m]$ cuando se calcula $f(m)$.]"
   ]
  },
  {
   "cell_type": "markdown",
   "metadata": {},
   "source": [
    "Ahora podemos definir una sucesión de intervalos a partir de un intervalo inicial $X_0$, dada por $X_{k+1} := X_k \\cap N_f(X_k)$. Por construcción, si $x^*\\in X_0$ entonces $x^*\\in X_k$ para toda $k$. Entonces, si $X_0$ contiene una raíz, la raíz se mantiene dentro de la secuencia de intervalos.\n",
    "\n",
    "Entonces, si pudiéramos controlar de alguna manera que el diámetro de los intervalos $x_k$ disminuya, obtendríamos cotas precisas para $x^*$. Resulta que sí es el caso; la demostración se encuentra, por ejemplo, en el libro de Tucker. Aquí veremos numéricamente que sí es el caso."
   ]
  },
  {
   "cell_type": "markdown",
   "metadata": {},
   "source": [
    "**[3]** (i) Escribe una función que acepte una función $f$ y calcule el operador de Newton $N_f(X)$ para un intervalo $X$.\n",
    "\n",
    "(ii) Escoge una función que tenga una raíz y tal que $0 \\notin F'(X)$. Implementa la iteración del método de Newton intervalar y dibuja la secuencia de intervalos que se obtiene.\n",
    "\n",
    "(iii) Calcula sus diámetros. ¿Qué ocurre?\n",
    "* Para `Float64`  el diametro converge a $0.0$"
   ]
  },
  {
   "cell_type": "code",
   "execution_count": 49,
   "metadata": {},
   "outputs": [
    {
     "data": {
      "text/plain": [
       "mid (generic function with 1 method)"
      ]
     },
     "execution_count": 49,
     "metadata": {},
     "output_type": "execute_result"
    }
   ],
   "source": [
    "function mid(X::Intervalo) \n",
    "        (X.sup - X.inf)*(0.5 + rand()/1000) + X.inf\n",
    "end"
   ]
  },
  {
   "cell_type": "code",
   "execution_count": 7,
   "metadata": {},
   "outputs": [
    {
     "data": {
      "text/plain": [
       "diametro (generic function with 1 method)"
      ]
     },
     "execution_count": 7,
     "metadata": {},
     "output_type": "execute_result"
    }
   ],
   "source": [
    "diametro(X::Intervalo) = abs(X.sup - X.inf)"
   ]
  },
  {
   "cell_type": "code",
   "execution_count": 8,
   "metadata": {},
   "outputs": [
    {
     "data": {
      "text/plain": [
       "OperadorNewton (generic function with 1 method)"
      ]
     },
     "execution_count": 8,
     "metadata": {},
     "output_type": "execute_result"
    }
   ],
   "source": [
    "function OperadorNewton(f,X0::Intervalo)\n",
    "    x0 = mid(X0)\n",
    "    #@show x0, f(x0), derivada(f ,X0)\n",
    "    Nf = x0 - f(x0)/derivada(f ,X0)\n",
    "end"
   ]
  },
  {
   "cell_type": "code",
   "execution_count": 9,
   "metadata": {},
   "outputs": [
    {
     "name": "stdout",
     "output_type": "stream",
     "text": [
      "\u001b[1m\u001b[37mTest Summary:   | \u001b[39m\u001b[22m\u001b[1m\u001b[32mPass  \u001b[39m\u001b[22m\u001b[1m\u001b[36mTotal\u001b[39m\u001b[22m\n",
      "Operador Newton | \u001b[32m   1  \u001b[39m\u001b[36m    1\u001b[39m\n"
     ]
    },
    {
     "data": {
      "text/plain": [
       "Base.Test.DefaultTestSet(\"Operador Newton\", Any[], 1, false)"
      ]
     },
     "execution_count": 9,
     "metadata": {},
     "output_type": "execute_result"
    }
   ],
   "source": [
    "X0 = Intervalo(0.5, 1.5)\n",
    "@testset \"Operador Newton\" begin\n",
    "\n",
    "    @test OperadorNewton(f, X0) == Intervalo(4.0/3.0, 2.0)\n",
    "end"
   ]
  },
  {
   "cell_type": "code",
   "execution_count": 10,
   "metadata": {},
   "outputs": [
    {
     "data": {
      "text/plain": [
       "intersect (generic function with 18 methods)"
      ]
     },
     "execution_count": 10,
     "metadata": {},
     "output_type": "execute_result"
    }
   ],
   "source": [
    "import Base: ∩, ∈, ∉\n",
    "\n",
    "function ∈(c::Real, x::Intervalo)\n",
    "    if x.inf <= c <= x.sup\n",
    "        true\n",
    "    else\n",
    "        #@assert x.inf <= c <= x.sup \" No es elemento del Intervalo\"\n",
    "        false\n",
    "    end\n",
    "    \n",
    "end\n",
    "\n",
    "function ∉(c::Real, x::Intervalo)\n",
    "    if  c < x.inf || c > x.sup\n",
    "        true\n",
    "    else\n",
    "        false\n",
    "    end\n",
    "    \n",
    "end\n",
    "\n",
    "function ∩(x::Intervalo, y::Intervalo)\n",
    "    try\n",
    "        X = Intervalo(max(x.inf, y.inf), min(x.sup, y.sup))\n",
    "        \n",
    "        if X.inf ∈ x && X.inf ∈ y && X.sup ∈ x && X.sup ∈ y\n",
    "            X\n",
    "        else\n",
    "            #X = Intervalo(0,0)\n",
    "            X = Intervalo(NaN, NaN)\n",
    "        end\n",
    "        \n",
    "    catch \n",
    "        #X = Intervalo(0,0)\n",
    "        X = Intervalo(NaN, NaN)\n",
    "    end\n",
    "        \n",
    "end\n"
   ]
  },
  {
   "cell_type": "code",
   "execution_count": 11,
   "metadata": {},
   "outputs": [
    {
     "data": {
      "text/plain": [
       "true"
      ]
     },
     "execution_count": 11,
     "metadata": {},
     "output_type": "execute_result"
    }
   ],
   "source": [
    "0 ∈ Intervalo(-1,1)"
   ]
  },
  {
   "cell_type": "code",
   "execution_count": 12,
   "metadata": {},
   "outputs": [
    {
     "data": {
      "text/plain": [
       "false"
      ]
     },
     "execution_count": 12,
     "metadata": {},
     "output_type": "execute_result"
    }
   ],
   "source": [
    "0 ∉ Intervalo(-1,1)"
   ]
  },
  {
   "cell_type": "code",
   "execution_count": 13,
   "metadata": {},
   "outputs": [
    {
     "data": {
      "text/plain": [
       "true"
      ]
     },
     "execution_count": 13,
     "metadata": {},
     "output_type": "execute_result"
    }
   ],
   "source": [
    "0 ∉ Intervalo(1,2)"
   ]
  },
  {
   "cell_type": "code",
   "execution_count": 14,
   "metadata": {},
   "outputs": [
    {
     "name": "stdout",
     "output_type": "stream",
     "text": [
      "\u001b[1m\u001b[37mTest Summary:  | \u001b[39m\u001b[22m\u001b[1m\u001b[32mPass  \u001b[39m\u001b[22m\u001b[1m\u001b[36mTotal\u001b[39m\u001b[22m\n",
      "Pruebas; ∈ y ∩ | \u001b[32m   7  \u001b[39m\u001b[36m    7\u001b[39m\n"
     ]
    },
    {
     "data": {
      "text/plain": [
       "Base.Test.DefaultTestSet(\"Pruebas; ∈ y ∩\", Any[], 7, false)"
      ]
     },
     "execution_count": 14,
     "metadata": {},
     "output_type": "execute_result"
    }
   ],
   "source": [
    "I = Intervalo(1,5)∩Intervalo(6,9)\n",
    "\n",
    "@testset \"Pruebas; ∈ y ∩\" begin\n",
    "    \n",
    "    @test Intervalo(1,5)∩Intervalo(3,6) == Intervalo(3.0, 5.0)\n",
    "    @test Intervalo(1,5)∩Intervalo(6,9) == Intervalo(NaN, NaN)\n",
    "    @test I == Intervalo(NaN, NaN)\n",
    "    @test Intervalo(1.0, 5.0)∩Intervalo(NaN, NaN) == Intervalo(NaN, NaN)\n",
    "    @test Intervalo(1.0, 5.0)∩I == Intervalo(NaN, NaN)\n",
    "    @test 4.0 ∈ Intervalo(1.0, 5.0)\n",
    "    @test 4.0 ∉ Intervalo(1.0, 3.0) \n",
    "    \n",
    "end"
   ]
  },
  {
   "cell_type": "code",
   "execution_count": 15,
   "metadata": {},
   "outputs": [
    {
     "data": {
      "text/plain": [
       "newtonIntervalo (generic function with 3 methods)"
      ]
     },
     "execution_count": 15,
     "metadata": {},
     "output_type": "execute_result"
    }
   ],
   "source": [
    "function newtonIntervalo(f, X0::Intervalo, n::Int64 = 10, tolerancia::Float64 = 1e-10 )\n",
    "    Nf = Intervalo(0,0)\n",
    "    for i in 1:n\n",
    "        Nf = OperadorNewton(f, X0)\n",
    "        X0 = Nf ∩ X0\n",
    "        (X0 == Intervalo(NaN,NaN)) && break\n",
    "        #@show i, diametro(X0)\n",
    "        (diametro(X0) == 0.0) && break\n",
    "    end\n",
    "     #@show \"Diametro del interva lo \" abs(X0.sup - X0.inf)\n",
    "    # X0 == Intervalo(NaN,NaN) ? nothing : X0\n",
    "    X0\n",
    "end"
   ]
  },
  {
   "cell_type": "code",
   "execution_count": null,
   "metadata": {
    "collapsed": true
   },
   "outputs": [],
   "source": []
  },
  {
   "cell_type": "code",
   "execution_count": 16,
   "metadata": {},
   "outputs": [
    {
     "data": {
      "text/plain": [
       "false"
      ]
     },
     "execution_count": 16,
     "metadata": {},
     "output_type": "execute_result"
    }
   ],
   "source": [
    "NaN == NaN"
   ]
  },
  {
   "cell_type": "code",
   "execution_count": 17,
   "metadata": {},
   "outputs": [
    {
     "data": {
      "text/plain": [
       "Intervalos.Intervalo(NaN, NaN)"
      ]
     },
     "execution_count": 17,
     "metadata": {},
     "output_type": "execute_result"
    }
   ],
   "source": [
    "X0 = Intervalo(-2, -1)\n",
    "X1 = Intervalo(-3, -2)\n",
    "newtonIntervalo(f, X1, 11)"
   ]
  },
  {
   "cell_type": "markdown",
   "metadata": {},
   "source": [
    "**[4]** Podemos entender la acción del operador gráficamente: consiste en tomar rectas con *todas las pendientes dentro del intervalo $F'(X)$* e intersectarlos con el eje $x$. \n",
    "\n",
    "(i) Dibuja esto gráficamente.\n",
    "\n",
    "(ii) Dibuja lo que ocurre en la evolución de la iteración de Newton."
   ]
  },
  {
   "cell_type": "code",
   "execution_count": 18,
   "metadata": {},
   "outputs": [
    {
     "data": {
      "text/plain": [
       "Plots.GRBackend()"
      ]
     },
     "execution_count": 18,
     "metadata": {},
     "output_type": "execute_result"
    }
   ],
   "source": [
    "using Plots\n",
    "gr()"
   ]
  },
  {
   "cell_type": "code",
   "execution_count": 19,
   "metadata": {},
   "outputs": [
    {
     "data": {
      "text/plain": [
       "mrecta (generic function with 1 method)"
      ]
     },
     "execution_count": 19,
     "metadata": {},
     "output_type": "execute_result"
    }
   ],
   "source": [
    "function mrecta(f, X::Intervalo)\n",
    "    xs = collect(linspace(X.inf, X.sup, 50))\n",
    "    #@show typeof(xs)\n",
    "    ys = zeros(50)\n",
    "    x0 = mid(X)\n",
    "    recta(x::Array{Float64,1}, m::Float64, x0, f) = m.*(x .- x0) .+ f(x0)\n",
    "    xp = derivada(f, X)\n",
    "    xpsinf = recta(xs,xp.inf,x0,f)\n",
    "    xpssup = recta(xs,xp.sup,x0,f)\n",
    "    xs, xpsinf, xpssup\n",
    "    \n",
    "end"
   ]
  },
  {
   "cell_type": "code",
   "execution_count": 20,
   "metadata": {},
   "outputs": [
    {
     "data": {
      "text/html": [
       "<?xml version=\"1.0\" encoding=\"utf-8\"?>\n",
       "<svg xmlns=\"http://www.w3.org/2000/svg\" xmlns:xlink=\"http://www.w3.org/1999/xlink\" width=\"600\" height=\"400\" viewBox=\"0 0 600 400\">\n",
       "<defs>\n",
       "  <clipPath id=\"clip3500\">\n",
       "    <rect x=\"0\" y=\"0\" width=\"600\" height=\"400\"/>\n",
       "  </clipPath>\n",
       "</defs>\n",
       "<polygon clip-path=\"url(#clip3500)\" points=\"\n",
       "0,400 600,400 600,0 0,0 \n",
       "  \" fill=\"#ffffff\" fill-opacity=\"1\"/>\n",
       "<defs>\n",
       "  <clipPath id=\"clip3501\">\n",
       "    <rect x=\"120\" y=\"0\" width=\"421\" height=\"400\"/>\n",
       "  </clipPath>\n",
       "</defs>\n",
       "<polygon clip-path=\"url(#clip3500)\" points=\"\n",
       "29.4661,375.869 580.315,375.869 580.315,11.811 29.4661,11.811 \n",
       "  \" fill=\"#ffffff\" fill-opacity=\"1\"/>\n",
       "<defs>\n",
       "  <clipPath id=\"clip3502\">\n",
       "    <rect x=\"29\" y=\"11\" width=\"552\" height=\"365\"/>\n",
       "  </clipPath>\n",
       "</defs>\n",
       "<polyline clip-path=\"url(#clip3502)\" style=\"stroke:#000000; stroke-width:0.5; stroke-opacity:0.1; fill:none\" points=\"\n",
       "  47.2355,375.869 47.2355,11.811 \n",
       "  \"/>\n",
       "<polyline clip-path=\"url(#clip3502)\" style=\"stroke:#000000; stroke-width:0.5; stroke-opacity:0.1; fill:none\" points=\"\n",
       "  82.7741,375.869 82.7741,11.811 \n",
       "  \"/>\n",
       "<polyline clip-path=\"url(#clip3502)\" style=\"stroke:#000000; stroke-width:0.5; stroke-opacity:0.1; fill:none\" points=\"\n",
       "  118.313,375.869 118.313,11.811 \n",
       "  \"/>\n",
       "<polyline clip-path=\"url(#clip3502)\" style=\"stroke:#000000; stroke-width:0.5; stroke-opacity:0.1; fill:none\" points=\"\n",
       "  153.851,375.869 153.851,11.811 \n",
       "  \"/>\n",
       "<polyline clip-path=\"url(#clip3502)\" style=\"stroke:#000000; stroke-width:0.5; stroke-opacity:0.1; fill:none\" points=\"\n",
       "  189.39,375.869 189.39,11.811 \n",
       "  \"/>\n",
       "<polyline clip-path=\"url(#clip3502)\" style=\"stroke:#000000; stroke-width:0.5; stroke-opacity:0.1; fill:none\" points=\"\n",
       "  224.929,375.869 224.929,11.811 \n",
       "  \"/>\n",
       "<polyline clip-path=\"url(#clip3502)\" style=\"stroke:#000000; stroke-width:0.5; stroke-opacity:0.1; fill:none\" points=\"\n",
       "  260.467,375.869 260.467,11.811 \n",
       "  \"/>\n",
       "<polyline clip-path=\"url(#clip3502)\" style=\"stroke:#000000; stroke-width:0.5; stroke-opacity:0.1; fill:none\" points=\"\n",
       "  296.006,375.869 296.006,11.811 \n",
       "  \"/>\n",
       "<polyline clip-path=\"url(#clip3502)\" style=\"stroke:#000000; stroke-width:0.5; stroke-opacity:0.1; fill:none\" points=\"\n",
       "  331.545,375.869 331.545,11.811 \n",
       "  \"/>\n",
       "<polyline clip-path=\"url(#clip3502)\" style=\"stroke:#000000; stroke-width:0.5; stroke-opacity:0.1; fill:none\" points=\"\n",
       "  367.083,375.869 367.083,11.811 \n",
       "  \"/>\n",
       "<polyline clip-path=\"url(#clip3502)\" style=\"stroke:#000000; stroke-width:0.5; stroke-opacity:0.1; fill:none\" points=\"\n",
       "  402.622,375.869 402.622,11.811 \n",
       "  \"/>\n",
       "<polyline clip-path=\"url(#clip3502)\" style=\"stroke:#000000; stroke-width:0.5; stroke-opacity:0.1; fill:none\" points=\"\n",
       "  438.16,375.869 438.16,11.811 \n",
       "  \"/>\n",
       "<polyline clip-path=\"url(#clip3502)\" style=\"stroke:#000000; stroke-width:0.5; stroke-opacity:0.1; fill:none\" points=\"\n",
       "  473.699,375.869 473.699,11.811 \n",
       "  \"/>\n",
       "<polyline clip-path=\"url(#clip3502)\" style=\"stroke:#000000; stroke-width:0.5; stroke-opacity:0.1; fill:none\" points=\"\n",
       "  509.238,375.869 509.238,11.811 \n",
       "  \"/>\n",
       "<polyline clip-path=\"url(#clip3502)\" style=\"stroke:#000000; stroke-width:0.5; stroke-opacity:0.1; fill:none\" points=\"\n",
       "  544.776,375.869 544.776,11.811 \n",
       "  \"/>\n",
       "<polyline clip-path=\"url(#clip3502)\" style=\"stroke:#000000; stroke-width:0.5; stroke-opacity:0.1; fill:none\" points=\"\n",
       "  580.315,375.869 580.315,11.811 \n",
       "  \"/>\n",
       "<polyline clip-path=\"url(#clip3502)\" style=\"stroke:#000000; stroke-width:0.5; stroke-opacity:0.1; fill:none\" points=\"\n",
       "  29.4661,362.385 580.315,362.385 \n",
       "  \"/>\n",
       "<polyline clip-path=\"url(#clip3502)\" style=\"stroke:#000000; stroke-width:0.5; stroke-opacity:0.1; fill:none\" points=\"\n",
       "  29.4661,335.418 580.315,335.418 \n",
       "  \"/>\n",
       "<polyline clip-path=\"url(#clip3502)\" style=\"stroke:#000000; stroke-width:0.5; stroke-opacity:0.1; fill:none\" points=\"\n",
       "  29.4661,308.451 580.315,308.451 \n",
       "  \"/>\n",
       "<polyline clip-path=\"url(#clip3502)\" style=\"stroke:#000000; stroke-width:0.5; stroke-opacity:0.1; fill:none\" points=\"\n",
       "  29.4661,281.483 580.315,281.483 \n",
       "  \"/>\n",
       "<polyline clip-path=\"url(#clip3502)\" style=\"stroke:#000000; stroke-width:0.5; stroke-opacity:0.1; fill:none\" points=\"\n",
       "  29.4661,254.516 580.315,254.516 \n",
       "  \"/>\n",
       "<polyline clip-path=\"url(#clip3502)\" style=\"stroke:#000000; stroke-width:0.5; stroke-opacity:0.1; fill:none\" points=\"\n",
       "  29.4661,227.549 580.315,227.549 \n",
       "  \"/>\n",
       "<polyline clip-path=\"url(#clip3502)\" style=\"stroke:#000000; stroke-width:0.5; stroke-opacity:0.1; fill:none\" points=\"\n",
       "  29.4661,200.582 580.315,200.582 \n",
       "  \"/>\n",
       "<polyline clip-path=\"url(#clip3502)\" style=\"stroke:#000000; stroke-width:0.5; stroke-opacity:0.1; fill:none\" points=\"\n",
       "  29.4661,173.614 580.315,173.614 \n",
       "  \"/>\n",
       "<polyline clip-path=\"url(#clip3502)\" style=\"stroke:#000000; stroke-width:0.5; stroke-opacity:0.1; fill:none\" points=\"\n",
       "  29.4661,146.647 580.315,146.647 \n",
       "  \"/>\n",
       "<polyline clip-path=\"url(#clip3502)\" style=\"stroke:#000000; stroke-width:0.5; stroke-opacity:0.1; fill:none\" points=\"\n",
       "  29.4661,119.68 580.315,119.68 \n",
       "  \"/>\n",
       "<polyline clip-path=\"url(#clip3502)\" style=\"stroke:#000000; stroke-width:0.5; stroke-opacity:0.1; fill:none\" points=\"\n",
       "  29.4661,92.7127 580.315,92.7127 \n",
       "  \"/>\n",
       "<polyline clip-path=\"url(#clip3502)\" style=\"stroke:#000000; stroke-width:0.5; stroke-opacity:0.1; fill:none\" points=\"\n",
       "  29.4661,65.7455 580.315,65.7455 \n",
       "  \"/>\n",
       "<polyline clip-path=\"url(#clip3502)\" style=\"stroke:#000000; stroke-width:0.5; stroke-opacity:0.1; fill:none\" points=\"\n",
       "  29.4661,38.7783 580.315,38.7783 \n",
       "  \"/>\n",
       "<polyline clip-path=\"url(#clip3502)\" style=\"stroke:#000000; stroke-width:0.5; stroke-opacity:0.1; fill:none\" points=\"\n",
       "  29.4661,11.811 580.315,11.811 \n",
       "  \"/>\n",
       "<polyline clip-path=\"url(#clip3500)\" style=\"stroke:#000000; stroke-width:1; stroke-opacity:1; fill:none\" points=\"\n",
       "  29.4661,375.869 580.315,375.869 \n",
       "  \"/>\n",
       "<polyline clip-path=\"url(#clip3500)\" style=\"stroke:#000000; stroke-width:1; stroke-opacity:1; fill:none\" points=\"\n",
       "  29.4661,375.869 29.4661,11.811 \n",
       "  \"/>\n",
       "<polyline clip-path=\"url(#clip3500)\" style=\"stroke:#000000; stroke-width:1; stroke-opacity:1; fill:none\" points=\"\n",
       "  47.2355,375.869 47.2355,370.408 \n",
       "  \"/>\n",
       "<polyline clip-path=\"url(#clip3500)\" style=\"stroke:#000000; stroke-width:1; stroke-opacity:1; fill:none\" points=\"\n",
       "  82.7741,375.869 82.7741,370.408 \n",
       "  \"/>\n",
       "<polyline clip-path=\"url(#clip3500)\" style=\"stroke:#000000; stroke-width:1; stroke-opacity:1; fill:none\" points=\"\n",
       "  118.313,375.869 118.313,370.408 \n",
       "  \"/>\n",
       "<polyline clip-path=\"url(#clip3500)\" style=\"stroke:#000000; stroke-width:1; stroke-opacity:1; fill:none\" points=\"\n",
       "  153.851,375.869 153.851,370.408 \n",
       "  \"/>\n",
       "<polyline clip-path=\"url(#clip3500)\" style=\"stroke:#000000; stroke-width:1; stroke-opacity:1; fill:none\" points=\"\n",
       "  189.39,375.869 189.39,370.408 \n",
       "  \"/>\n",
       "<polyline clip-path=\"url(#clip3500)\" style=\"stroke:#000000; stroke-width:1; stroke-opacity:1; fill:none\" points=\"\n",
       "  224.929,375.869 224.929,370.408 \n",
       "  \"/>\n",
       "<polyline clip-path=\"url(#clip3500)\" style=\"stroke:#000000; stroke-width:1; stroke-opacity:1; fill:none\" points=\"\n",
       "  260.467,375.869 260.467,370.408 \n",
       "  \"/>\n",
       "<polyline clip-path=\"url(#clip3500)\" style=\"stroke:#000000; stroke-width:1; stroke-opacity:1; fill:none\" points=\"\n",
       "  296.006,375.869 296.006,370.408 \n",
       "  \"/>\n",
       "<polyline clip-path=\"url(#clip3500)\" style=\"stroke:#000000; stroke-width:1; stroke-opacity:1; fill:none\" points=\"\n",
       "  331.545,375.869 331.545,370.408 \n",
       "  \"/>\n",
       "<polyline clip-path=\"url(#clip3500)\" style=\"stroke:#000000; stroke-width:1; stroke-opacity:1; fill:none\" points=\"\n",
       "  367.083,375.869 367.083,370.408 \n",
       "  \"/>\n",
       "<polyline clip-path=\"url(#clip3500)\" style=\"stroke:#000000; stroke-width:1; stroke-opacity:1; fill:none\" points=\"\n",
       "  402.622,375.869 402.622,370.408 \n",
       "  \"/>\n",
       "<polyline clip-path=\"url(#clip3500)\" style=\"stroke:#000000; stroke-width:1; stroke-opacity:1; fill:none\" points=\"\n",
       "  438.16,375.869 438.16,370.408 \n",
       "  \"/>\n",
       "<polyline clip-path=\"url(#clip3500)\" style=\"stroke:#000000; stroke-width:1; stroke-opacity:1; fill:none\" points=\"\n",
       "  473.699,375.869 473.699,370.408 \n",
       "  \"/>\n",
       "<polyline clip-path=\"url(#clip3500)\" style=\"stroke:#000000; stroke-width:1; stroke-opacity:1; fill:none\" points=\"\n",
       "  509.238,375.869 509.238,370.408 \n",
       "  \"/>\n",
       "<polyline clip-path=\"url(#clip3500)\" style=\"stroke:#000000; stroke-width:1; stroke-opacity:1; fill:none\" points=\"\n",
       "  544.776,375.869 544.776,370.408 \n",
       "  \"/>\n",
       "<polyline clip-path=\"url(#clip3500)\" style=\"stroke:#000000; stroke-width:1; stroke-opacity:1; fill:none\" points=\"\n",
       "  580.315,375.869 580.315,370.408 \n",
       "  \"/>\n",
       "<polyline clip-path=\"url(#clip3500)\" style=\"stroke:#000000; stroke-width:1; stroke-opacity:1; fill:none\" points=\"\n",
       "  29.4661,362.385 37.7289,362.385 \n",
       "  \"/>\n",
       "<polyline clip-path=\"url(#clip3500)\" style=\"stroke:#000000; stroke-width:1; stroke-opacity:1; fill:none\" points=\"\n",
       "  29.4661,335.418 37.7289,335.418 \n",
       "  \"/>\n",
       "<polyline clip-path=\"url(#clip3500)\" style=\"stroke:#000000; stroke-width:1; stroke-opacity:1; fill:none\" points=\"\n",
       "  29.4661,308.451 37.7289,308.451 \n",
       "  \"/>\n",
       "<polyline clip-path=\"url(#clip3500)\" style=\"stroke:#000000; stroke-width:1; stroke-opacity:1; fill:none\" points=\"\n",
       "  29.4661,281.483 37.7289,281.483 \n",
       "  \"/>\n",
       "<polyline clip-path=\"url(#clip3500)\" style=\"stroke:#000000; stroke-width:1; stroke-opacity:1; fill:none\" points=\"\n",
       "  29.4661,254.516 37.7289,254.516 \n",
       "  \"/>\n",
       "<polyline clip-path=\"url(#clip3500)\" style=\"stroke:#000000; stroke-width:1; stroke-opacity:1; fill:none\" points=\"\n",
       "  29.4661,227.549 37.7289,227.549 \n",
       "  \"/>\n",
       "<polyline clip-path=\"url(#clip3500)\" style=\"stroke:#000000; stroke-width:1; stroke-opacity:1; fill:none\" points=\"\n",
       "  29.4661,200.582 37.7289,200.582 \n",
       "  \"/>\n",
       "<polyline clip-path=\"url(#clip3500)\" style=\"stroke:#000000; stroke-width:1; stroke-opacity:1; fill:none\" points=\"\n",
       "  29.4661,173.614 37.7289,173.614 \n",
       "  \"/>\n",
       "<polyline clip-path=\"url(#clip3500)\" style=\"stroke:#000000; stroke-width:1; stroke-opacity:1; fill:none\" points=\"\n",
       "  29.4661,146.647 37.7289,146.647 \n",
       "  \"/>\n",
       "<polyline clip-path=\"url(#clip3500)\" style=\"stroke:#000000; stroke-width:1; stroke-opacity:1; fill:none\" points=\"\n",
       "  29.4661,119.68 37.7289,119.68 \n",
       "  \"/>\n",
       "<polyline clip-path=\"url(#clip3500)\" style=\"stroke:#000000; stroke-width:1; stroke-opacity:1; fill:none\" points=\"\n",
       "  29.4661,92.7127 37.7289,92.7127 \n",
       "  \"/>\n",
       "<polyline clip-path=\"url(#clip3500)\" style=\"stroke:#000000; stroke-width:1; stroke-opacity:1; fill:none\" points=\"\n",
       "  29.4661,65.7455 37.7289,65.7455 \n",
       "  \"/>\n",
       "<polyline clip-path=\"url(#clip3500)\" style=\"stroke:#000000; stroke-width:1; stroke-opacity:1; fill:none\" points=\"\n",
       "  29.4661,38.7783 37.7289,38.7783 \n",
       "  \"/>\n",
       "<polyline clip-path=\"url(#clip3500)\" style=\"stroke:#000000; stroke-width:1; stroke-opacity:1; fill:none\" points=\"\n",
       "  29.4661,11.811 37.7289,11.811 \n",
       "  \"/>\n",
       "<g clip-path=\"url(#clip3500)\">\n",
       "<text style=\"fill:#000000; fill-opacity:1; font-family:Arial,Helvetica Neue,Helvetica,sans-serif; font-size:12; text-anchor:middle;\" transform=\"rotate(0, 47.2355, 389.669)\" x=\"47.2355\" y=\"389.669\">0.0</text>\n",
       "</g>\n",
       "<g clip-path=\"url(#clip3500)\">\n",
       "<text style=\"fill:#000000; fill-opacity:1; font-family:Arial,Helvetica Neue,Helvetica,sans-serif; font-size:12; text-anchor:middle;\" transform=\"rotate(0, 82.7741, 389.669)\" x=\"82.7741\" y=\"389.669\">0.2</text>\n",
       "</g>\n",
       "<g clip-path=\"url(#clip3500)\">\n",
       "<text style=\"fill:#000000; fill-opacity:1; font-family:Arial,Helvetica Neue,Helvetica,sans-serif; font-size:12; text-anchor:middle;\" transform=\"rotate(0, 118.313, 389.669)\" x=\"118.313\" y=\"389.669\">0.4</text>\n",
       "</g>\n",
       "<g clip-path=\"url(#clip3500)\">\n",
       "<text style=\"fill:#000000; fill-opacity:1; font-family:Arial,Helvetica Neue,Helvetica,sans-serif; font-size:12; text-anchor:middle;\" transform=\"rotate(0, 153.851, 389.669)\" x=\"153.851\" y=\"389.669\">0.6</text>\n",
       "</g>\n",
       "<g clip-path=\"url(#clip3500)\">\n",
       "<text style=\"fill:#000000; fill-opacity:1; font-family:Arial,Helvetica Neue,Helvetica,sans-serif; font-size:12; text-anchor:middle;\" transform=\"rotate(0, 189.39, 389.669)\" x=\"189.39\" y=\"389.669\">0.8</text>\n",
       "</g>\n",
       "<g clip-path=\"url(#clip3500)\">\n",
       "<text style=\"fill:#000000; fill-opacity:1; font-family:Arial,Helvetica Neue,Helvetica,sans-serif; font-size:12; text-anchor:middle;\" transform=\"rotate(0, 224.929, 389.669)\" x=\"224.929\" y=\"389.669\">1.0</text>\n",
       "</g>\n",
       "<g clip-path=\"url(#clip3500)\">\n",
       "<text style=\"fill:#000000; fill-opacity:1; font-family:Arial,Helvetica Neue,Helvetica,sans-serif; font-size:12; text-anchor:middle;\" transform=\"rotate(0, 260.467, 389.669)\" x=\"260.467\" y=\"389.669\">1.2</text>\n",
       "</g>\n",
       "<g clip-path=\"url(#clip3500)\">\n",
       "<text style=\"fill:#000000; fill-opacity:1; font-family:Arial,Helvetica Neue,Helvetica,sans-serif; font-size:12; text-anchor:middle;\" transform=\"rotate(0, 296.006, 389.669)\" x=\"296.006\" y=\"389.669\">1.4</text>\n",
       "</g>\n",
       "<g clip-path=\"url(#clip3500)\">\n",
       "<text style=\"fill:#000000; fill-opacity:1; font-family:Arial,Helvetica Neue,Helvetica,sans-serif; font-size:12; text-anchor:middle;\" transform=\"rotate(0, 331.545, 389.669)\" x=\"331.545\" y=\"389.669\">1.6</text>\n",
       "</g>\n",
       "<g clip-path=\"url(#clip3500)\">\n",
       "<text style=\"fill:#000000; fill-opacity:1; font-family:Arial,Helvetica Neue,Helvetica,sans-serif; font-size:12; text-anchor:middle;\" transform=\"rotate(0, 367.083, 389.669)\" x=\"367.083\" y=\"389.669\">1.8</text>\n",
       "</g>\n",
       "<g clip-path=\"url(#clip3500)\">\n",
       "<text style=\"fill:#000000; fill-opacity:1; font-family:Arial,Helvetica Neue,Helvetica,sans-serif; font-size:12; text-anchor:middle;\" transform=\"rotate(0, 402.622, 389.669)\" x=\"402.622\" y=\"389.669\">2.0</text>\n",
       "</g>\n",
       "<g clip-path=\"url(#clip3500)\">\n",
       "<text style=\"fill:#000000; fill-opacity:1; font-family:Arial,Helvetica Neue,Helvetica,sans-serif; font-size:12; text-anchor:middle;\" transform=\"rotate(0, 438.16, 389.669)\" x=\"438.16\" y=\"389.669\">2.2</text>\n",
       "</g>\n",
       "<g clip-path=\"url(#clip3500)\">\n",
       "<text style=\"fill:#000000; fill-opacity:1; font-family:Arial,Helvetica Neue,Helvetica,sans-serif; font-size:12; text-anchor:middle;\" transform=\"rotate(0, 473.699, 389.669)\" x=\"473.699\" y=\"389.669\">2.4</text>\n",
       "</g>\n",
       "<g clip-path=\"url(#clip3500)\">\n",
       "<text style=\"fill:#000000; fill-opacity:1; font-family:Arial,Helvetica Neue,Helvetica,sans-serif; font-size:12; text-anchor:middle;\" transform=\"rotate(0, 509.238, 389.669)\" x=\"509.238\" y=\"389.669\">2.6</text>\n",
       "</g>\n",
       "<g clip-path=\"url(#clip3500)\">\n",
       "<text style=\"fill:#000000; fill-opacity:1; font-family:Arial,Helvetica Neue,Helvetica,sans-serif; font-size:12; text-anchor:middle;\" transform=\"rotate(0, 544.776, 389.669)\" x=\"544.776\" y=\"389.669\">2.8</text>\n",
       "</g>\n",
       "<g clip-path=\"url(#clip3500)\">\n",
       "<text style=\"fill:#000000; fill-opacity:1; font-family:Arial,Helvetica Neue,Helvetica,sans-serif; font-size:12; text-anchor:middle;\" transform=\"rotate(0, 580.315, 389.669)\" x=\"580.315\" y=\"389.669\">3.0</text>\n",
       "</g>\n",
       "<g clip-path=\"url(#clip3500)\">\n",
       "<text style=\"fill:#000000; fill-opacity:1; font-family:Arial,Helvetica Neue,Helvetica,sans-serif; font-size:12; text-anchor:end;\" transform=\"rotate(0, 23.4661, 366.885)\" x=\"23.4661\" y=\"366.885\">-2</text>\n",
       "</g>\n",
       "<g clip-path=\"url(#clip3500)\">\n",
       "<text style=\"fill:#000000; fill-opacity:1; font-family:Arial,Helvetica Neue,Helvetica,sans-serif; font-size:12; text-anchor:end;\" transform=\"rotate(0, 23.4661, 339.918)\" x=\"23.4661\" y=\"339.918\">0</text>\n",
       "</g>\n",
       "<g clip-path=\"url(#clip3500)\">\n",
       "<text style=\"fill:#000000; fill-opacity:1; font-family:Arial,Helvetica Neue,Helvetica,sans-serif; font-size:12; text-anchor:end;\" transform=\"rotate(0, 23.4661, 312.951)\" x=\"23.4661\" y=\"312.951\">2</text>\n",
       "</g>\n",
       "<g clip-path=\"url(#clip3500)\">\n",
       "<text style=\"fill:#000000; fill-opacity:1; font-family:Arial,Helvetica Neue,Helvetica,sans-serif; font-size:12; text-anchor:end;\" transform=\"rotate(0, 23.4661, 285.983)\" x=\"23.4661\" y=\"285.983\">4</text>\n",
       "</g>\n",
       "<g clip-path=\"url(#clip3500)\">\n",
       "<text style=\"fill:#000000; fill-opacity:1; font-family:Arial,Helvetica Neue,Helvetica,sans-serif; font-size:12; text-anchor:end;\" transform=\"rotate(0, 23.4661, 259.016)\" x=\"23.4661\" y=\"259.016\">6</text>\n",
       "</g>\n",
       "<g clip-path=\"url(#clip3500)\">\n",
       "<text style=\"fill:#000000; fill-opacity:1; font-family:Arial,Helvetica Neue,Helvetica,sans-serif; font-size:12; text-anchor:end;\" transform=\"rotate(0, 23.4661, 232.049)\" x=\"23.4661\" y=\"232.049\">8</text>\n",
       "</g>\n",
       "<g clip-path=\"url(#clip3500)\">\n",
       "<text style=\"fill:#000000; fill-opacity:1; font-family:Arial,Helvetica Neue,Helvetica,sans-serif; font-size:12; text-anchor:end;\" transform=\"rotate(0, 23.4661, 205.082)\" x=\"23.4661\" y=\"205.082\">10</text>\n",
       "</g>\n",
       "<g clip-path=\"url(#clip3500)\">\n",
       "<text style=\"fill:#000000; fill-opacity:1; font-family:Arial,Helvetica Neue,Helvetica,sans-serif; font-size:12; text-anchor:end;\" transform=\"rotate(0, 23.4661, 178.114)\" x=\"23.4661\" y=\"178.114\">12</text>\n",
       "</g>\n",
       "<g clip-path=\"url(#clip3500)\">\n",
       "<text style=\"fill:#000000; fill-opacity:1; font-family:Arial,Helvetica Neue,Helvetica,sans-serif; font-size:12; text-anchor:end;\" transform=\"rotate(0, 23.4661, 151.147)\" x=\"23.4661\" y=\"151.147\">14</text>\n",
       "</g>\n",
       "<g clip-path=\"url(#clip3500)\">\n",
       "<text style=\"fill:#000000; fill-opacity:1; font-family:Arial,Helvetica Neue,Helvetica,sans-serif; font-size:12; text-anchor:end;\" transform=\"rotate(0, 23.4661, 124.18)\" x=\"23.4661\" y=\"124.18\">16</text>\n",
       "</g>\n",
       "<g clip-path=\"url(#clip3500)\">\n",
       "<text style=\"fill:#000000; fill-opacity:1; font-family:Arial,Helvetica Neue,Helvetica,sans-serif; font-size:12; text-anchor:end;\" transform=\"rotate(0, 23.4661, 97.2127)\" x=\"23.4661\" y=\"97.2127\">18</text>\n",
       "</g>\n",
       "<g clip-path=\"url(#clip3500)\">\n",
       "<text style=\"fill:#000000; fill-opacity:1; font-family:Arial,Helvetica Neue,Helvetica,sans-serif; font-size:12; text-anchor:end;\" transform=\"rotate(0, 23.4661, 70.2455)\" x=\"23.4661\" y=\"70.2455\">20</text>\n",
       "</g>\n",
       "<g clip-path=\"url(#clip3500)\">\n",
       "<text style=\"fill:#000000; fill-opacity:1; font-family:Arial,Helvetica Neue,Helvetica,sans-serif; font-size:12; text-anchor:end;\" transform=\"rotate(0, 23.4661, 43.2783)\" x=\"23.4661\" y=\"43.2783\">22</text>\n",
       "</g>\n",
       "<g clip-path=\"url(#clip3500)\">\n",
       "<text style=\"fill:#000000; fill-opacity:1; font-family:Arial,Helvetica Neue,Helvetica,sans-serif; font-size:12; text-anchor:end;\" transform=\"rotate(0, 23.4661, 16.311)\" x=\"23.4661\" y=\"16.311\">24</text>\n",
       "</g>\n",
       "<polyline clip-path=\"url(#clip3502)\" style=\"stroke:#808080; stroke-width:1; stroke-opacity:1; fill:none\" points=\"\n",
       "  224.929,375.869 232.181,374.149 239.434,372.29 246.687,370.284 253.94,368.128 261.193,365.814 268.445,363.338 275.698,360.695 282.951,357.878 290.204,354.882 \n",
       "  297.456,351.702 304.709,348.333 311.962,344.768 319.215,341.002 326.468,337.03 333.72,332.846 340.973,328.444 348.226,323.82 355.479,318.968 362.731,313.882 \n",
       "  369.984,308.557 377.237,302.986 384.49,297.166 391.743,291.09 398.995,284.752 406.248,278.147 413.501,271.271 420.754,264.116 428.007,256.678 435.259,248.952 \n",
       "  442.512,240.931 449.765,232.61 457.018,223.984 464.27,215.047 471.523,205.793 478.776,196.218 486.029,186.316 493.282,176.08 500.534,165.507 507.787,154.589 \n",
       "  515.04,143.323 522.293,131.701 529.545,119.719 536.798,107.372 544.051,94.6525 551.304,81.5566 558.557,68.0784 565.809,54.2123 573.062,39.9529 580.315,25.2946 \n",
       "  \n",
       "  \"/>\n",
       "<polyline clip-path=\"url(#clip3502)\" style=\"stroke:#000000; stroke-width:1; stroke-opacity:1; fill:none\" points=\"\n",
       "  47.2355,375.869 47.2355,11.811 \n",
       "  \"/>\n",
       "<polyline clip-path=\"url(#clip3502)\" style=\"stroke:#000000; stroke-width:1; stroke-opacity:1; fill:none\" points=\"\n",
       "  47.2355,375.869 47.2355,11.811 \n",
       "  \"/>\n",
       "<polyline clip-path=\"url(#clip3502)\" style=\"stroke:#000000; stroke-width:1; stroke-opacity:1; fill:none\" points=\"\n",
       "  29.4661,335.418 580.315,335.418 \n",
       "  \"/>\n",
       "<polyline clip-path=\"url(#clip3502)\" style=\"stroke:#000000; stroke-width:1; stroke-opacity:1; fill:none\" points=\"\n",
       "  29.4661,335.418 580.315,335.418 \n",
       "  \"/>\n",
       "<circle clip-path=\"url(#clip3502)\" style=\"fill:#000000; stroke:none; fill-opacity:1\" cx=\"402.622\" cy=\"281.483\" r=\"3\"/>\n",
       "<circle clip-path=\"url(#clip3502)\" style=\"fill:#49f000; stroke:none; fill-opacity:1\" cx=\"402.622\" cy=\"281.483\" r=\"2\"/>\n",
       "<polyline clip-path=\"url(#clip3502)\" style=\"stroke:#49f000; stroke-width:1; stroke-opacity:1; fill:none\" stroke-dasharray=\"8, 5\" points=\"\n",
       "  224.929,321.934 232.181,320.283 239.434,318.632 246.687,316.981 253.94,315.33 261.193,313.679 268.445,312.028 275.698,310.377 282.951,308.726 290.204,307.075 \n",
       "  297.456,305.424 304.709,303.773 311.962,302.122 319.215,300.47 326.468,298.819 333.72,297.168 340.973,295.517 348.226,293.866 355.479,292.215 362.731,290.564 \n",
       "  369.984,288.913 377.237,287.262 384.49,285.611 391.743,283.96 398.995,282.309 406.248,280.658 413.501,279.007 420.754,277.356 428.007,275.705 435.259,274.054 \n",
       "  442.512,272.403 449.765,270.752 457.018,269.1 464.27,267.449 471.523,265.798 478.776,264.147 486.029,262.496 493.282,260.845 500.534,259.194 507.787,257.543 \n",
       "  515.04,255.892 522.293,254.241 529.545,252.59 536.798,250.939 544.051,249.288 551.304,247.637 558.557,245.986 565.809,244.335 573.062,242.684 580.315,241.033 \n",
       "  \n",
       "  \"/>\n",
       "<polyline clip-path=\"url(#clip3502)\" style=\"stroke:#49f000; stroke-width:1; stroke-opacity:1; fill:none\" stroke-dasharray=\"8, 5\" points=\"\n",
       "  224.929,645.541 232.181,630.682 239.434,615.822 246.687,600.963 253.94,586.103 261.193,571.244 268.445,556.384 275.698,541.525 282.951,526.665 290.204,511.806 \n",
       "  297.456,496.946 304.709,482.087 311.962,467.227 319.215,452.368 326.468,437.508 333.72,422.649 340.973,407.789 348.226,392.93 355.479,378.07 362.731,363.211 \n",
       "  369.984,348.351 377.237,333.492 384.49,318.632 391.743,303.773 398.995,288.913 406.248,274.054 413.501,259.194 420.754,244.335 428.007,229.475 435.259,214.616 \n",
       "  442.512,199.756 449.765,184.897 457.018,170.037 464.27,155.178 471.523,140.318 478.776,125.459 486.029,110.599 493.282,95.7397 500.534,80.8802 507.787,66.0207 \n",
       "  515.04,51.1612 522.293,36.3017 529.545,21.4422 536.798,6.58268 544.051,-8.27681 551.304,-23.1363 558.557,-37.9958 565.809,-52.8553 573.062,-67.7148 580.315,-82.5743 \n",
       "  \n",
       "  \"/>\n",
       "<circle clip-path=\"url(#clip3502)\" style=\"fill:#000000; stroke:none; fill-opacity:1\" cx=\"300.613\" cy=\"350.259\" r=\"3\"/>\n",
       "<circle clip-path=\"url(#clip3502)\" style=\"fill:#a6b487; stroke:none; fill-opacity:1\" cx=\"300.613\" cy=\"350.259\" r=\"2\"/>\n",
       "<polyline clip-path=\"url(#clip3502)\" style=\"stroke:#a6b487; stroke-width:1; stroke-opacity:1; fill:none\" stroke-dasharray=\"8, 5\" points=\"\n",
       "  224.929,367.489 228.018,366.785 231.107,366.082 234.196,365.379 237.285,364.676 240.374,363.972 243.464,363.269 246.553,362.566 249.642,361.863 252.731,361.159 \n",
       "  255.82,360.456 258.909,359.753 261.998,359.05 265.088,358.347 268.177,357.643 271.266,356.94 274.355,356.237 277.444,355.534 280.533,354.83 283.622,354.127 \n",
       "  286.712,353.424 289.801,352.721 292.89,352.018 295.979,351.314 299.068,350.611 302.157,349.908 305.246,349.205 308.336,348.501 311.425,347.798 314.514,347.095 \n",
       "  317.603,346.392 320.692,345.688 323.781,344.985 326.871,344.282 329.96,343.579 333.049,342.876 336.138,342.172 339.227,341.469 342.316,340.766 345.405,340.063 \n",
       "  348.495,339.359 351.584,338.656 354.673,337.953 357.762,337.25 360.851,336.547 363.94,335.843 367.029,335.14 370.119,334.437 373.208,333.734 376.297,333.03 \n",
       "  \n",
       "  \"/>\n",
       "<polyline clip-path=\"url(#clip3502)\" style=\"stroke:#a6b487; stroke-width:1; stroke-opacity:1; fill:none\" stroke-dasharray=\"8, 5\" points=\"\n",
       "  224.929,409.344 228.018,406.932 231.107,404.521 234.196,402.109 237.285,399.698 240.374,397.286 243.464,394.874 246.553,392.463 249.642,390.051 252.731,387.639 \n",
       "  255.82,385.228 258.909,382.816 261.998,380.405 265.088,377.993 268.177,375.581 271.266,373.17 274.355,370.758 277.444,368.347 280.533,365.935 283.622,363.523 \n",
       "  286.712,361.112 289.801,358.7 292.89,356.288 295.979,353.877 299.068,351.465 302.157,349.054 305.246,346.642 308.336,344.23 311.425,341.819 314.514,339.407 \n",
       "  317.603,336.996 320.692,334.584 323.781,332.172 326.871,329.761 329.96,327.349 333.049,324.937 336.138,322.526 339.227,320.114 342.316,317.703 345.405,315.291 \n",
       "  348.495,312.879 351.584,310.468 354.673,308.056 357.762,305.645 360.851,303.233 363.94,300.821 367.029,298.41 370.119,295.998 373.208,293.586 376.297,291.175 \n",
       "  \n",
       "  \"/>\n",
       "<circle clip-path=\"url(#clip3502)\" style=\"fill:#000000; stroke:none; fill-opacity:1\" cx=\"342.717\" cy=\"327.353\" r=\"3\"/>\n",
       "<circle clip-path=\"url(#clip3502)\" style=\"fill:#edd4a7; stroke:none; fill-opacity:1\" cx=\"342.717\" cy=\"327.353\" r=\"2\"/>\n",
       "<polyline clip-path=\"url(#clip3502)\" style=\"stroke:#edd4a7; stroke-width:1; stroke-opacity:1; fill:none\" stroke-dasharray=\"8, 5\" points=\"\n",
       "  319.624,339.706 320.567,339.202 321.509,338.698 322.452,338.194 323.394,337.689 324.337,337.185 325.279,336.681 326.222,336.177 327.164,335.673 328.107,335.168 \n",
       "  329.05,334.664 329.992,334.16 330.935,333.656 331.877,333.152 332.82,332.647 333.762,332.143 334.705,331.639 335.647,331.135 336.59,330.631 337.533,330.127 \n",
       "  338.475,329.622 339.418,329.118 340.36,328.614 341.303,328.11 342.245,327.606 343.188,327.101 344.13,326.597 345.073,326.093 346.016,325.589 346.958,325.085 \n",
       "  347.901,324.58 348.843,324.076 349.786,323.572 350.728,323.068 351.671,322.564 352.613,322.059 353.556,321.555 354.499,321.051 355.441,320.547 356.384,320.043 \n",
       "  357.326,319.538 358.269,319.034 359.211,318.53 360.154,318.026 361.096,317.522 362.039,317.017 362.982,316.513 363.924,316.009 364.867,315.505 365.809,315.001 \n",
       "  \n",
       "  \"/>\n",
       "<polyline clip-path=\"url(#clip3502)\" style=\"stroke:#edd4a7; stroke-width:1; stroke-opacity:1; fill:none\" stroke-dasharray=\"8, 5\" points=\"\n",
       "  319.624,344.25 320.567,343.561 321.509,342.871 322.452,342.181 323.394,341.492 324.337,340.802 325.279,340.112 326.222,339.423 327.164,338.733 328.107,338.043 \n",
       "  329.05,337.354 329.992,336.664 330.935,335.974 331.877,335.285 332.82,334.595 333.762,333.905 334.705,333.216 335.647,332.526 336.59,331.836 337.533,331.147 \n",
       "  338.475,330.457 339.418,329.767 340.36,329.078 341.303,328.388 342.245,327.698 343.188,327.009 344.13,326.319 345.073,325.629 346.016,324.94 346.958,324.25 \n",
       "  347.901,323.56 348.843,322.871 349.786,322.181 350.728,321.491 351.671,320.802 352.613,320.112 353.556,319.422 354.499,318.733 355.441,318.043 356.384,317.353 \n",
       "  357.326,316.664 358.269,315.974 359.211,315.284 360.154,314.594 361.096,313.905 362.039,313.215 362.982,312.525 363.924,311.836 364.867,311.146 365.809,310.456 \n",
       "  \n",
       "  \"/>\n",
       "<circle clip-path=\"url(#clip3502)\" style=\"fill:#000000; stroke:none; fill-opacity:1\" cx=\"329.668\" cy=\"335.21\" r=\"3\"/>\n",
       "<circle clip-path=\"url(#clip3502)\" style=\"fill:#6c20bf; stroke:none; fill-opacity:1\" cx=\"329.668\" cy=\"335.21\" r=\"2\"/>\n",
       "<polyline clip-path=\"url(#clip3502)\" style=\"stroke:#6c20bf; stroke-width:1; stroke-opacity:1; fill:none\" stroke-dasharray=\"8, 5\" points=\"\n",
       "  327.641,336.359 327.724,336.312 327.806,336.265 327.889,336.218 327.972,336.171 328.055,336.124 328.137,336.077 328.22,336.031 328.303,335.984 328.386,335.937 \n",
       "  328.468,335.89 328.551,335.843 328.634,335.796 328.717,335.749 328.799,335.702 328.882,335.655 328.965,335.608 329.048,335.562 329.13,335.515 329.213,335.468 \n",
       "  329.296,335.421 329.378,335.374 329.461,335.327 329.544,335.28 329.627,335.233 329.709,335.186 329.792,335.139 329.875,335.092 329.958,335.046 330.04,334.999 \n",
       "  330.123,334.952 330.206,334.905 330.289,334.858 330.371,334.811 330.454,334.764 330.537,334.717 330.62,334.67 330.702,334.623 330.785,334.577 330.868,334.53 \n",
       "  330.951,334.483 331.033,334.436 331.116,334.389 331.199,334.342 331.282,334.295 331.364,334.248 331.447,334.201 331.53,334.154 331.613,334.107 331.695,334.061 \n",
       "  \n",
       "  \"/>\n",
       "<polyline clip-path=\"url(#clip3502)\" style=\"stroke:#6c20bf; stroke-width:1; stroke-opacity:1; fill:none\" stroke-dasharray=\"8, 5\" points=\"\n",
       "  327.641,336.392 327.724,336.344 327.806,336.296 327.889,336.248 327.972,336.199 328.055,336.151 328.137,336.103 328.22,336.054 328.303,336.006 328.386,335.958 \n",
       "  328.468,335.91 328.551,335.861 328.634,335.813 328.717,335.765 328.799,335.717 328.882,335.668 328.965,335.62 329.048,335.572 329.13,335.523 329.213,335.475 \n",
       "  329.296,335.427 329.378,335.379 329.461,335.33 329.544,335.282 329.627,335.234 329.709,335.186 329.792,335.137 329.875,335.089 329.958,335.041 330.04,334.993 \n",
       "  330.123,334.944 330.206,334.896 330.289,334.848 330.371,334.799 330.454,334.751 330.537,334.703 330.62,334.655 330.702,334.606 330.785,334.558 330.868,334.51 \n",
       "  330.951,334.462 331.033,334.413 331.116,334.365 331.199,334.317 331.282,334.268 331.364,334.22 331.447,334.172 331.53,334.124 331.613,334.075 331.695,334.027 \n",
       "  \n",
       "  \"/>\n",
       "<circle clip-path=\"url(#clip3502)\" style=\"fill:#000000; stroke:none; fill-opacity:1\" cx=\"329.306\" cy=\"335.418\" r=\"3\"/>\n",
       "<circle clip-path=\"url(#clip3502)\" style=\"fill:#b50ec8; stroke:none; fill-opacity:1\" cx=\"329.306\" cy=\"335.418\" r=\"2\"/>\n",
       "<polyline clip-path=\"url(#clip3502)\" style=\"stroke:#b50ec8; stroke-width:1; stroke-opacity:1; fill:none\" stroke-dasharray=\"8, 5\" points=\"\n",
       "  329.301,335.421 329.301,335.42 329.301,335.42 329.302,335.42 329.302,335.42 329.302,335.42 329.302,335.42 329.302,335.42 329.303,335.42 329.303,335.419 \n",
       "  329.303,335.419 329.303,335.419 329.304,335.419 329.304,335.419 329.304,335.419 329.304,335.419 329.304,335.419 329.305,335.419 329.305,335.418 329.305,335.418 \n",
       "  329.305,335.418 329.305,335.418 329.306,335.418 329.306,335.418 329.306,335.418 329.306,335.418 329.307,335.417 329.307,335.417 329.307,335.417 329.307,335.417 \n",
       "  329.307,335.417 329.308,335.417 329.308,335.417 329.308,335.417 329.308,335.416 329.308,335.416 329.309,335.416 329.309,335.416 329.309,335.416 329.309,335.416 \n",
       "  329.309,335.416 329.31,335.416 329.31,335.415 329.31,335.415 329.31,335.415 329.311,335.415 329.311,335.415 329.311,335.415 329.311,335.415 329.311,335.415 \n",
       "  \n",
       "  \"/>\n",
       "<polyline clip-path=\"url(#clip3502)\" style=\"stroke:#b50ec8; stroke-width:1; stroke-opacity:1; fill:none\" stroke-dasharray=\"8, 5\" points=\"\n",
       "  329.301,335.421 329.301,335.42 329.301,335.42 329.302,335.42 329.302,335.42 329.302,335.42 329.302,335.42 329.302,335.42 329.303,335.42 329.303,335.419 \n",
       "  329.303,335.419 329.303,335.419 329.304,335.419 329.304,335.419 329.304,335.419 329.304,335.419 329.304,335.419 329.305,335.419 329.305,335.418 329.305,335.418 \n",
       "  329.305,335.418 329.305,335.418 329.306,335.418 329.306,335.418 329.306,335.418 329.306,335.418 329.307,335.417 329.307,335.417 329.307,335.417 329.307,335.417 \n",
       "  329.307,335.417 329.308,335.417 329.308,335.417 329.308,335.417 329.308,335.416 329.308,335.416 329.309,335.416 329.309,335.416 329.309,335.416 329.309,335.416 \n",
       "  329.309,335.416 329.31,335.416 329.31,335.415 329.31,335.415 329.31,335.415 329.311,335.415 329.311,335.415 329.311,335.415 329.311,335.415 329.311,335.415 \n",
       "  \n",
       "  \"/>\n",
       "<polygon clip-path=\"url(#clip3500)\" points=\"\n",
       "435.806,62.931 562.315,62.931 562.315,32.691 435.806,32.691 \n",
       "  \" fill=\"#ffffff\" fill-opacity=\"1\"/>\n",
       "<polyline clip-path=\"url(#clip3500)\" style=\"stroke:#000000; stroke-width:1; stroke-opacity:1; fill:none\" points=\"\n",
       "  435.806,62.931 562.315,62.931 562.315,32.691 435.806,32.691 435.806,62.931 \n",
       "  \"/>\n",
       "<polyline clip-path=\"url(#clip3500)\" style=\"stroke:#808080; stroke-width:1; stroke-opacity:1; fill:none\" points=\"\n",
       "  441.806,47.811 477.806,47.811 \n",
       "  \"/>\n",
       "<g clip-path=\"url(#clip3500)\">\n",
       "<text style=\"fill:#000000; fill-opacity:1; font-family:Arial,Helvetica Neue,Helvetica,sans-serif; font-size:12; text-anchor:start;\" transform=\"rotate(0, 483.806, 52.311)\" x=\"483.806\" y=\"52.311\">f(x) = x^3 -4</text>\n",
       "</g>\n",
       "</svg>\n"
      ]
     },
     "execution_count": 20,
     "metadata": {},
     "output_type": "execute_result"
    }
   ],
   "source": [
    "f(x) = x^3 - 4\n",
    "X = Intervalo(1,3)\n",
    "xs = linspace(X.inf, X.sup, 50)\n",
    "\n",
    "plot(xlim = (-0.1,3), ylim = (-3, 24),xtick = 0:0.2:3, yticks = -2:2:26 )\n",
    "plot!(xs, f.(xs),  color = :grey ,label = \"f(x) = x^3 -4\")\n",
    "vline!([0,0], color = :black, label = \"\")\n",
    "hline!([0,0], color = :black, label = \"\")\n",
    "\n",
    "\n",
    "for i in 1:5\n",
    "    a,b,c = rand(), rand(), rand()\n",
    "    x0 = mid(X)\n",
    "    scatter!((x0, f(x0)), markersize = 3, color=RGB(a,b,c), label=\"\")\n",
    "\n",
    "    xs, xpsinf,xpssup = mrecta(f, X)\n",
    "    plot!(xs, xpsinf, line=:dash, color=RGB(a,b,c), label=\"\")\n",
    "    plot!(xs, xpssup, line=:dash, color=RGB(a,b,c), label=\"\")\n",
    "    \n",
    "    X = newtonIntervalo(f, X,1)\n",
    "\n",
    "end\n",
    "plot!()"
   ]
  },
  {
   "cell_type": "markdown",
   "metadata": {},
   "source": [
    "Se sabe que el operador de Newton satisface el siguiente teorema fuerte:\n",
    "\n",
    "> Supongamos que $f(x)$ sea doblemente continua y diferenciable y $N_f(X)$ esté bien definida en el intervalo $X$. Entonces:\n",
    "\n",
    "> 1. Si $N_f(X)\\cap X = \\emptyset$, entonces $X$ no contiene ninguna raíz de $f$.\n",
    "\n",
    "> 2. Si $N_f(X)  \\subseteq X$, entonces $X$ contiene exactamente una raíz de $f$."
   ]
  },
  {
   "cell_type": "markdown",
   "metadata": {},
   "source": [
    "## División extendida "
   ]
  },
  {
   "cell_type": "markdown",
   "metadata": {},
   "source": [
    "Hasta ahora, sólo hemos podido tratar el caso en el cual la derivada $F'(X)$ no contiene $0$, ya que el operador de Newton contiene una división por este intervalo. \n",
    "\n",
    "Sin embargo, resulta que también es posible tratar este caso, mediante la llamada \"división extendida\"."
   ]
  },
  {
   "cell_type": "markdown",
   "metadata": {},
   "source": [
    "**[5]** Supón que $F'(X)$ sea un intervalo, digamos $F'(X) = [-a, b]$, que contiene $0$ (con $a > 0$ y  $b > 0$). \n",
    "\n",
    "(i) Sea $A \\subseteq \\mathbb{R}$. Recuerda la definición de $1/A$ como conjunto. \n",
    "* $\\frac{1}{A} =\n",
    "  \\begin{cases}\n",
    "    [-\\infty,-\\frac{1}{a}]\\cup [\\frac{1}{b},\\infty]      & \\quad \\text{si } 0\\in A \\text{ y } a,b \\neq 0  \\\\\n",
    "    [1/a, \\infty]       & \\quad \\text{si } 0\\in A \\text{ y } b=0  \\\\\n",
    "    [-\\infty,-1/b]       & \\quad \\text{si } 0\\in A \\text{ y } a=0  \\\\\n",
    "  \\end{cases}\n",
    "$\n",
    "\n",
    "\n",
    "(ii) Así, evalúa $1 / F'(X)$. \n",
    "\n",
    "* $\\frac{1}{ F'(X)} =\n",
    "  \\begin{cases}\n",
    "    [-\\infty,-\\frac{1}{a}]\\cup [\\frac{1}{b},\\infty]      & \\quad \\text{si } 0\\in A \\text{ y } a,b \\neq 0  \\\\\n",
    "    [1/a, \\infty]       & \\quad \\text{si } 0\\in A \\text{ y } b=0  \\\\\n",
    "    [-\\infty,-1/b]       & \\quad \\text{si } 0\\in A \\text{ y } a=0  \\\\\n",
    "  \\end{cases}$\n",
    "\n",
    "(iii) Define una función que implementa esta \"división extendida\" de intervalos (o, más bien, inversa extendida). [Pista: ¿Qué tipo de objeto debe regresar esta función?]"
   ]
  },
  {
   "cell_type": "code",
   "execution_count": 21,
   "metadata": {},
   "outputs": [
    {
     "data": {
      "text/plain": [
       "⊂ (generic function with 1 method)"
      ]
     },
     "execution_count": 21,
     "metadata": {},
     "output_type": "execute_result"
    }
   ],
   "source": [
    "import Base: ∪\n",
    "\n",
    "function ∪(x::Intervalo, y::Intervalo)\n",
    "    Intervalo(min(x.inf, y.inf), max(x.sup, y.sup))\n",
    "end\n",
    "\n",
    "function ⊂(x::Intervalo, y::Intervalo)\n",
    "    if x.inf ∈ y && x.sup ∈ y \n",
    "        if x.inf != y.inf && x.sup == y.sup \n",
    "#             true\n",
    "            false\n",
    "        elseif x.inf == y.inf && x.sup != y.sup \n",
    "#             true \n",
    "            false\n",
    "        elseif  x.inf != y.inf && x.sup != y.sup \n",
    "            true\n",
    "        elseif x.inf == y.inf && x.sup == y.sup\n",
    "            false\n",
    "        end\n",
    "    elseif x == Intervalo(NaN, NaN) && y != Intervalo(NaN, NaN)\n",
    "        true\n",
    "    else\n",
    "        false\n",
    "    end\n",
    "    #if x == Intervalo(NaN, NaN) && y != Intervalo(NaN, NaN)\n",
    "    #    true\n",
    "    #end\n",
    "end\n"
   ]
  },
  {
   "cell_type": "code",
   "execution_count": 22,
   "metadata": {},
   "outputs": [
    {
     "data": {
      "text/plain": [
       "true"
      ]
     },
     "execution_count": 22,
     "metadata": {},
     "output_type": "execute_result"
    }
   ],
   "source": [
    "Intervalo(NaN,NaN) ⊂ Intervalo(1,3)"
   ]
  },
  {
   "cell_type": "code",
   "execution_count": 23,
   "metadata": {},
   "outputs": [
    {
     "name": "stdout",
     "output_type": "stream",
     "text": [
      "\u001b[1m\u001b[37mTest Summary: | \u001b[39m\u001b[22m\u001b[1m\u001b[32mPass  \u001b[39m\u001b[22m\u001b[1m\u001b[36mTotal\u001b[39m\u001b[22m\n",
      "Pruebas ⊂     | \u001b[32m   7  \u001b[39m\u001b[36m    7\u001b[39m\n"
     ]
    },
    {
     "data": {
      "text/plain": [
       "Base.Test.DefaultTestSet(\"Pruebas ⊂\", Any[], 7, false)"
      ]
     },
     "execution_count": 23,
     "metadata": {},
     "output_type": "execute_result"
    }
   ],
   "source": [
    "@testset \"Pruebas ⊂\" begin\n",
    "    \n",
    " @test (Intervalo(1.0, 2.0) ⊂ Intervalo(1.0, 2.0)) == false\n",
    " @test Intervalo(1.0, 2.0) ⊂ Intervalo(0.0, 3.0) \n",
    " @test (Intervalo(1.0, 3.0) ⊂ Intervalo(-1.0, 3.0)) == false\n",
    " @test (Intervalo(1.0, 2.0) ⊂ Intervalo(3.0, 4.0)) == false\n",
    " @test Intervalo(1.0, 2.0) ⊂ Intervalo(0.5, 3.0)\n",
    " @test (Intervalo(NaN,NaN) ⊂ Intervalo(NaN,NaN)) == false\n",
    " @test Intervalo(NaN,NaN) ⊂ Intervalo(1,3)\n",
    "    \n",
    "end"
   ]
  },
  {
   "cell_type": "code",
   "execution_count": 24,
   "metadata": {},
   "outputs": [
    {
     "data": {
      "text/plain": [
       "fprimaIntervalo (generic function with 2 methods)"
      ]
     },
     "execution_count": 24,
     "metadata": {},
     "output_type": "execute_result"
    }
   ],
   "source": [
    "function fprimaIntervalo(f, x::Intervalo, N::Int64=11) \n",
    "    xI = []\n",
    "    \n",
    "    if x.inf == -Inf || x.sup == Inf\n",
    "        x0 = mid(x)\n",
    "        x.inf == -Inf ? xs = collect(linspace(x0, x.sup, N)) :  \n",
    "        xs = collect(linspace(x.inf, x0, N))\n",
    "    else\n",
    "        xs = collect(linspace(x.inf, x.sup, N))\n",
    "    end\n",
    "    \n",
    "    for i in 1:N - 1 \n",
    "        push!(xI , derivada(f, Intervalo(xs[i], xs[i+1])))\n",
    "    end\n",
    "\n",
    "    X = xI[1] ∪ xI[2] \n",
    "    \n",
    "    for i in 3:N-1\n",
    "        X = X ∪ xI[i]\n",
    "    end\n",
    "    X\n",
    "end"
   ]
  },
  {
   "cell_type": "code",
   "execution_count": 25,
   "metadata": {},
   "outputs": [
    {
     "name": "stdout",
     "output_type": "stream",
     "text": [
      "Yp = (fprimaIntervalo(H, Y), derivada(H, Y)) = (Intervalos.Intervalo(-3.0, 9.0), Intervalos.Intervalo(-15.0, 9.0))\n"
     ]
    },
    {
     "data": {
      "text/plain": [
       "(Intervalos.Intervalo(-3.0, 9.0), Intervalos.Intervalo(-15.0, 9.0))"
      ]
     },
     "execution_count": 25,
     "metadata": {},
     "output_type": "execute_result"
    }
   ],
   "source": [
    "H(x) = x^3 - 3x\n",
    "Y = Intervalo(-2, 2)\n",
    "@show Yp = fprimaIntervalo(H, Y), derivada(H, Y)\n",
    "#inversaExtendidaPedro(Yp)"
   ]
  },
  {
   "cell_type": "code",
   "execution_count": 26,
   "metadata": {},
   "outputs": [
    {
     "data": {
      "text/plain": [
       "inversaExtendida (generic function with 1 method)"
      ]
     },
     "execution_count": 26,
     "metadata": {},
     "output_type": "execute_result"
    }
   ],
   "source": [
    "function inversaExtendida(x::Intervalo)\n",
    "    output = Array{Intervalo}(0)\n",
    "    if sign(x.inf) != sign(x.sup) && x.inf != 0.0 && x.sup != 0.0\n",
    "        push!(output,Intervalo(-Inf, 1/(x.inf)), Intervalo(1/(x.sup), Inf))\n",
    "    elseif  x.inf == 0.0\n",
    "        push!(output,Intervalo(1/(x.sup), Inf))\n",
    "    elseif x.sup == 0.0\n",
    "        push!(output,Intervalo(-Inf, 1/(x.inf)))\n",
    "    else\n",
    "        push!(output,Intervalo(min(1/x.inf, 1/x.sup), max(1/x.inf, 1/x.sup)))\n",
    "    end\n",
    "end"
   ]
  },
  {
   "cell_type": "code",
   "execution_count": 27,
   "metadata": {},
   "outputs": [
    {
     "data": {
      "text/plain": [
       "2-element Array{Intervalos.Intervalo,1}:\n",
       " Intervalos.Intervalo(-Inf, -0.333333)\n",
       " Intervalos.Intervalo(0.333333, Inf)  "
      ]
     },
     "execution_count": 27,
     "metadata": {},
     "output_type": "execute_result"
    }
   ],
   "source": [
    "inversaExtendida(Intervalo(-3,3))"
   ]
  },
  {
   "cell_type": "code",
   "execution_count": 28,
   "metadata": {},
   "outputs": [
    {
     "ename": "LoadError",
     "evalue": "\u001b[91mUndefVarError: @traceur not defined\u001b[39m",
     "output_type": "error",
     "traceback": [
      "\u001b[91mUndefVarError: @traceur not defined\u001b[39m",
      "",
      "Stacktrace:",
      " [1] \u001b[1minclude_string\u001b[22m\u001b[22m\u001b[1m(\u001b[22m\u001b[22m::String, ::String\u001b[1m)\u001b[22m\u001b[22m at \u001b[1m./loading.jl:522\u001b[22m\u001b[22m"
     ]
    }
   ],
   "source": [
    "@traceur"
   ]
  },
  {
   "cell_type": "markdown",
   "metadata": {},
   "source": [
    "**[6]** Resulta que el método de Newton sigue funcionando si utilizamos esta división extendida cuándo sea apropiado. \n",
    "\n",
    "(i) Impleméntalo para encontrar *todas* las raíces de una función en un intervalo dado.\n",
    "\n",
    "(ii) Escoge una función con dos raíces. Muestra gráficamente lo que está ocurriendo.\n",
    "\n",
    "(iii) Nota que hay casos en los cuales no ocurre ninguna de las posibilidades (1) ni (2) en el teorema del método de Newton para intervalos. ¿Qué se puede hacer en este caso?"
   ]
  },
  {
   "cell_type": "code",
   "execution_count": 29,
   "metadata": {},
   "outputs": [
    {
     "data": {
      "text/plain": [
       "OperadorNewton (generic function with 2 methods)"
      ]
     },
     "execution_count": 29,
     "metadata": {},
     "output_type": "execute_result"
    }
   ],
   "source": [
    "function OperadorNewton(f,X0::Intervalo, Xp0::Intervalo)\n",
    "    x0 = mid(X0)\n",
    "    Nf = x0 - f(x0)*Xp0\n",
    "end"
   ]
  },
  {
   "cell_type": "code",
   "execution_count": 30,
   "metadata": {},
   "outputs": [
    {
     "data": {
      "text/plain": [
       "1-element Array{Intervalos.Intervalo,1}:\n",
       " Intervalos.Intervalo(0.037037, 0.0833333)"
      ]
     },
     "execution_count": 30,
     "metadata": {},
     "output_type": "execute_result"
    }
   ],
   "source": [
    "H(x) = x^3 - 3x\n",
    "Y = Intervalo(-2, 0.5)\n",
    "Xp0 = inversaExtendida(derivada(f,Intervalo(-3,-2)))\n",
    "#OperadorNewton(H, Y, Xp01)"
   ]
  },
  {
   "cell_type": "code",
   "execution_count": 31,
   "metadata": {},
   "outputs": [
    {
     "data": {
      "text/plain": [
       "2-element Array{Intervalos.Intervalo,1}:\n",
       " Intervalos.Intervalo(0.1, 1.0) \n",
       " Intervalos.Intervalo(-3.0, 4.0)"
      ]
     },
     "execution_count": 31,
     "metadata": {},
     "output_type": "execute_result"
    }
   ],
   "source": [
    "roots = Array{Intervalo}(0)\n",
    "push!(roots, Intervalo(.1,1))\n",
    "push!(roots, Intervalo(-3,4))"
   ]
  },
  {
   "cell_type": "code",
   "execution_count": 32,
   "metadata": {},
   "outputs": [
    {
     "data": {
      "text/plain": [
       "2-element Array{Intervalos.Intervalo,1}:\n",
       " Intervalos.Intervalo(0.1, 1.0) \n",
       " Intervalos.Intervalo(-3.0, 4.0)"
      ]
     },
     "execution_count": 32,
     "metadata": {},
     "output_type": "execute_result"
    }
   ],
   "source": [
    "roots"
   ]
  },
  {
   "cell_type": "code",
   "execution_count": 33,
   "metadata": {},
   "outputs": [
    {
     "data": {
      "text/plain": [
       "newtonIntervalo2 (generic function with 3 methods)"
      ]
     },
     "execution_count": 33,
     "metadata": {},
     "output_type": "execute_result"
    }
   ],
   "source": [
    "function newtonIntervalo2(f, X0::Intervalo, n::Int64 = 10, tolerancia::Float64 = 1e-10 )\n",
    "    roots = Array{Intervalo}(0)\n",
    "    \n",
    "    if 0.0 ∈ derivada(f, X0)\n",
    "        X01 = [X0, X0]\n",
    "        for i in 1:2\n",
    "            Xp01 = inversaExtendida(derivada(f,X0))\n",
    "            \n",
    "            for j in 1:n\n",
    "                if 0.0 ∉ derivada(f, X01[i])\n",
    "                    Nf1 = OperadorNewton(f, X01[i])\n",
    "                else\n",
    "                    Nf1 = OperadorNewton(f, X01[i],Xp01[i])\n",
    "                end\n",
    "                X01[i] = Nf1 ∩ X01[i]\n",
    "                (X01[i] == Intervalo(NaN,NaN)) && break\n",
    "                (diametro(X01[i]) == 0.0) && break\n",
    "            end\n",
    "        end\n",
    "        for i in 1:2\n",
    "            (X01[i] != Intervalo(NaN,NaN)) && push!(roots, X01[i])    \n",
    "        end\n",
    "    else\n",
    "        rr = newtonIntervalo(f, X0, n, tolerancia)\n",
    "        push!(roots, rr)\n",
    "    end\n",
    "    roots\n",
    "end"
   ]
  },
  {
   "cell_type": "code",
   "execution_count": 34,
   "metadata": {},
   "outputs": [
    {
     "data": {
      "text/plain": [
       "1-element Array{Intervalos.Intervalo,1}:\n",
       " Intervalos.Intervalo(-1.73205, -1.73205)"
      ]
     },
     "execution_count": 34,
     "metadata": {},
     "output_type": "execute_result"
    }
   ],
   "source": [
    "f(x) = x^3 -3x \n",
    "Y = Intervalo(-3, -1.5)\n",
    "newtonIntervalo2(f,Y)"
   ]
  },
  {
   "cell_type": "code",
   "execution_count": 125,
   "metadata": {},
   "outputs": [
    {
     "data": {
      "text/plain": [
       "uniqueRoot (generic function with 1 method)"
      ]
     },
     "execution_count": 125,
     "metadata": {},
     "output_type": "execute_result"
    }
   ],
   "source": [
    "function uniqueRoot(x::Intervalo, y::Intervalo)\n",
    "    #@show (x ∩ y, x ⊂ y, x, y)\n",
    "    if x != Intervalo(NaN, NaN) && (x.inf == y.inf || x.sup == y.sup) \n",
    "        -1\n",
    "    elseif  x != Intervalo(NaN, NaN) && x ⊂ y\n",
    "        1\n",
    "    elseif x ∩ y != Intervalo(NaN, NaN) && x != y\n",
    "        1 # -1 No tenemos la condiciones suf y nec para garantizar una raíz\n",
    "    elseif x != Intervalo(NaN, NaN) && x == y\n",
    "        -1 # -1 No tenemos la condiciones suf y nec para garantizar una raíz\n",
    "    elseif x ∩ y == Intervalo(NaN, NaN)\n",
    "        0\n",
    "    else\n",
    "        0\n",
    "    end\n",
    "end"
   ]
  },
  {
   "cell_type": "markdown",
   "metadata": {},
   "source": [
    "function uniqueRoot(x::Intervalo, y::Intervalo)\n",
    "    #@show (x ∩ y, x ⊂ y, x, y)\n",
    "    if  x != Intervalo(NaN, NaN) && x ⊂ y\n",
    "        1\n",
    "    elseif x ∩ y != Intervalo(NaN, NaN) && x != y\n",
    "        1 # -1 No tenemos la condiciones suf y nec para garantizar una raíz\n",
    "    elseif x != Intervalo(NaN, NaN) && x == y\n",
    "        -1 # -1 No tenemos la condiciones suf y nec para garantizar una raíz\n",
    "    elseif x ∩ y == Intervalo(NaN, NaN)\n",
    "        0\n",
    "    else\n",
    "        0\n",
    "    end\n",
    "end"
   ]
  },
  {
   "cell_type": "code",
   "execution_count": 36,
   "metadata": {},
   "outputs": [
    {
     "name": "stdout",
     "output_type": "stream",
     "text": [
      "\u001b[1m\u001b[37mTest Summary:      | \u001b[39m\u001b[22m\u001b[1m\u001b[32mPass  \u001b[39m\u001b[22m\u001b[1m\u001b[36mTotal\u001b[39m\u001b[22m\n",
      "Pruebas uniqueRoot | \u001b[32m   4  \u001b[39m\u001b[36m    4\u001b[39m\n"
     ]
    },
    {
     "data": {
      "text/plain": [
       "Base.Test.DefaultTestSet(\"Pruebas uniqueRoot\", Any[], 4, false)"
      ]
     },
     "execution_count": 36,
     "metadata": {},
     "output_type": "execute_result"
    }
   ],
   "source": [
    "@testset \"Pruebas uniqueRoot\" begin\n",
    "    \n",
    "    @test uniqueRoot(Intervalo(1.0, 10), Intervalo(15.0,20)) == 0\n",
    "    @test uniqueRoot(Intervalo(1.0, 10), Intervalo(1.0,20)) == 1\n",
    "    @test uniqueRoot(Intervalo(1.0, 10),Intervalo(-21.0, 24.0)) == 1 \n",
    "    @test uniqueRoot(Intervalo(1.0, 10),Intervalo(1.0, 10.0)) == -1\n",
    "    \n",
    "end"
   ]
  },
  {
   "cell_type": "code",
   "execution_count": 37,
   "metadata": {
    "scrolled": true
   },
   "outputs": [
    {
     "data": {
      "text/plain": [
       "bisection (generic function with 1 method)"
      ]
     },
     "execution_count": 37,
     "metadata": {},
     "output_type": "execute_result"
    }
   ],
   "source": [
    "function bisection(x::Intervalo)\n",
    "    x0 = mid(x)\n",
    "    Intervalo[Intervalo(x.inf, x0),Intervalo(x0,x.sup)]\n",
    "end"
   ]
  },
  {
   "cell_type": "code",
   "execution_count": 38,
   "metadata": {},
   "outputs": [
    {
     "data": {
      "text/plain": [
       "2-element Array{Intervalos.Intervalo,1}:\n",
       " Intervalos.Intervalo(-10.0, -4.5)\n",
       " Intervalos.Intervalo(-4.5, 1.0)  "
      ]
     },
     "execution_count": 38,
     "metadata": {},
     "output_type": "execute_result"
    }
   ],
   "source": [
    "bisection(Intervalo(-10, 1))"
   ]
  },
  {
   "cell_type": "code",
   "execution_count": 127,
   "metadata": {},
   "outputs": [
    {
     "data": {
      "text/plain": [
       "newtonIntervalExten (generic function with 6 methods)"
      ]
     },
     "execution_count": 127,
     "metadata": {},
     "output_type": "execute_result"
    }
   ],
   "source": [
    "function newtonIntervalExten(f, X0::Intervalo, roots::Array{Intervalo,1},n::Int64 = 10, tolerancia::Float64 = 1e-10 )\n",
    "    dx = derivada(f, X0)\n",
    "    #@show dx\n",
    "    \n",
    "    if 0.0 ∉ dx\n",
    "        Nf = OperadorNewton(f, X0)\n",
    "        X1 = Nf ∩ X0\n",
    "        if uniqueRoot(X1, X0) == 1\n",
    "            root = newtonIntervalo2(f, X0, n, tolerancia)\n",
    "            for j in 1:length(root)\n",
    "                if root[j] != Intervalo(NaN,NaN)\n",
    "                    push!(roots, root[j])\n",
    "                end\n",
    "            end\n",
    "        elseif uniqueRoot(X1, X0) == -1\n",
    "            println(\"bisectar\")\n",
    "        else\n",
    "            println(\"Tirar\")\n",
    "        end\n",
    "        \n",
    "    else\n",
    "\n",
    "        Xp = inversaExtendida(dx)\n",
    "        Nf = OperadorNewton.(f, X0, Xp)\n",
    "        X1 = Nf .∩ X0\n",
    "        @show X1\n",
    "        i = 1\n",
    "        while i != length(X1) + 1\n",
    "            #@show uniqueRoot(X1[i], X0), X1[i], X0\n",
    "            if uniqueRoot(X1[i], X0) == 1\n",
    "                root = newtonIntervalo2(f, X1[i], n, tolerancia)\n",
    "                for j in 1:length(root)\n",
    "                    if root[j] != Intervalo(NaN,NaN)\n",
    "                        push!(roots, root[j])\n",
    "                    end\n",
    "                end\n",
    "                i += 1\n",
    "            elseif uniqueRoot(X1[i], X0) == -1\n",
    "                Xbis = bisection(X1[i])\n",
    "                #@show Xbis\n",
    "                deleteat!(X1, i)\n",
    "                #@show \" Antes \", X1\n",
    "                push!(X1, Xbis[1], Xbis[2])\n",
    "                #@show \" Después \", X1\n",
    "                roots = newtonIntervalExten(f,X1[i], roots)\n",
    "            else uniqueRoot(X1[i], X0) == 0\n",
    "                deleteat!(X1, i)\n",
    "            end\n",
    "        end\n",
    "    end\n",
    "    roots\n",
    "end"
   ]
  },
  {
   "cell_type": "markdown",
   "metadata": {},
   "source": [
    "function newtonIntervalExten(f, X0::Intervalo, n::Int64 = 10, tolerancia::Float64 = 1e-10 )\n",
    "    roots = Array{Intervalo}(0)\n",
    "    dx = derivada(f, X0)\n",
    "    #@show dx\n",
    "    \n",
    "    if 0.0 ∉ dx\n",
    "        Nf = OperadorNewton(f, X0)\n",
    "        X1 = Nf ∩ X0\n",
    "        if uniqueRoot(X1, X0) == 1\n",
    "            root = newtonIntervalo2(f, X0, n, tolerancia)\n",
    "            for j in 1:length(root)\n",
    "                if root[j] != Intervalo(NaN,NaN)\n",
    "                    push!(roots, root[j])\n",
    "                end\n",
    "            end\n",
    "        elseif uniqueRoot(X1, X0) == -1\n",
    "            println(\"bisectar\")\n",
    "        else\n",
    "            println(\"Tirar\")\n",
    "        end\n",
    "        \n",
    "    else\n",
    "\n",
    "        Xp = inversaExtendida(dx)\n",
    "        Nf = OperadorNewton.(f, X0, Xp)\n",
    "        X1 = Nf .∩ X0\n",
    "        @show X1\n",
    "        i = 1\n",
    "        while i != length(X1) + 1\n",
    "            @show uniqueRoot(X1[i], X0), X1[i], X0\n",
    "            if uniqueRoot(X1[i], X0) == 1\n",
    "                root = newtonIntervalo2(f, X1[i], n, tolerancia)\n",
    "                for j in 1:length(root)\n",
    "                    if root[j] != Intervalo(NaN,NaN)\n",
    "                        push!(roots, root[j])\n",
    "                    end\n",
    "                end\n",
    "                i += 1\n",
    "            elseif uniqueRoot(X1[i], X0) == -1\n",
    "                Xbis = bisection(X1[i])\n",
    "                @show Xbis\n",
    "                deleteat!(X1, i)\n",
    "                @show \" Antes \", X1\n",
    "                push!(X1, Xbis[1], Xbis[2])\n",
    "                @show \" Después \", X1\n",
    "            else uniqueRoot(X1[i], X0) == 0\n",
    "                deleteat!(X1, i)\n",
    "            end\n",
    "        end\n",
    "    end\n",
    "    roots\n",
    "end"
   ]
  },
  {
   "cell_type": "code",
   "execution_count": 66,
   "metadata": {},
   "outputs": [
    {
     "data": {
      "text/plain": [
       "3-element Array{Intervalos.Intervalo,1}:\n",
       " Intervalos.Intervalo(0.0, 0.0)          \n",
       " Intervalos.Intervalo(1.73205, 1.73205)  \n",
       " Intervalos.Intervalo(-1.73205, -1.73205)"
      ]
     },
     "execution_count": 66,
     "metadata": {},
     "output_type": "execute_result"
    }
   ],
   "source": [
    "f2(x) = x^3 - 3x\n",
    "\n",
    "I1 = Intervalo(-3, -2)\n",
    "I2 = Intervalo(-3, -1.5)\n",
    "I22 = Intervalo(-3, -0.5)\n",
    "I3 = Intervalo(-3, 0.5)\n",
    "I33 = Intervalo(-3, 1.5)\n",
    "I4 = Intervalo(-3, 2)\n",
    "I44 = Intervalo(-3, 2)\n",
    "newtonIntervalExten(f2, I44)"
   ]
  },
  {
   "cell_type": "code",
   "execution_count": 67,
   "metadata": {},
   "outputs": [
    {
     "data": {
      "text/html": [
       "<?xml version=\"1.0\" encoding=\"utf-8\"?>\n",
       "<svg xmlns=\"http://www.w3.org/2000/svg\" xmlns:xlink=\"http://www.w3.org/1999/xlink\" width=\"600\" height=\"400\" viewBox=\"0 0 600 400\">\n",
       "<defs>\n",
       "  <clipPath id=\"clip4700\">\n",
       "    <rect x=\"0\" y=\"0\" width=\"600\" height=\"400\"/>\n",
       "  </clipPath>\n",
       "</defs>\n",
       "<polygon clip-path=\"url(#clip4700)\" points=\"\n",
       "0,400 600,400 600,0 0,0 \n",
       "  \" fill=\"#ffffff\" fill-opacity=\"1\"/>\n",
       "<defs>\n",
       "  <clipPath id=\"clip4701\">\n",
       "    <rect x=\"120\" y=\"0\" width=\"421\" height=\"400\"/>\n",
       "  </clipPath>\n",
       "</defs>\n",
       "<polygon clip-path=\"url(#clip4700)\" points=\"\n",
       "36.1567,375.869 580.315,375.869 580.315,11.811 36.1567,11.811 \n",
       "  \" fill=\"#ffffff\" fill-opacity=\"1\"/>\n",
       "<defs>\n",
       "  <clipPath id=\"clip4702\">\n",
       "    <rect x=\"36\" y=\"11\" width=\"545\" height=\"365\"/>\n",
       "  </clipPath>\n",
       "</defs>\n",
       "<polyline clip-path=\"url(#clip4702)\" style=\"stroke:#000000; stroke-width:0.5; stroke-opacity:0.1; fill:none\" points=\"\n",
       "  36.1567,375.869 36.1567,11.811 \n",
       "  \"/>\n",
       "<polyline clip-path=\"url(#clip4702)\" style=\"stroke:#000000; stroke-width:0.5; stroke-opacity:0.1; fill:none\" points=\"\n",
       "  126.85,375.869 126.85,11.811 \n",
       "  \"/>\n",
       "<polyline clip-path=\"url(#clip4702)\" style=\"stroke:#000000; stroke-width:0.5; stroke-opacity:0.1; fill:none\" points=\"\n",
       "  217.543,375.869 217.543,11.811 \n",
       "  \"/>\n",
       "<polyline clip-path=\"url(#clip4702)\" style=\"stroke:#000000; stroke-width:0.5; stroke-opacity:0.1; fill:none\" points=\"\n",
       "  308.236,375.869 308.236,11.811 \n",
       "  \"/>\n",
       "<polyline clip-path=\"url(#clip4702)\" style=\"stroke:#000000; stroke-width:0.5; stroke-opacity:0.1; fill:none\" points=\"\n",
       "  398.929,375.869 398.929,11.811 \n",
       "  \"/>\n",
       "<polyline clip-path=\"url(#clip4702)\" style=\"stroke:#000000; stroke-width:0.5; stroke-opacity:0.1; fill:none\" points=\"\n",
       "  489.622,375.869 489.622,11.811 \n",
       "  \"/>\n",
       "<polyline clip-path=\"url(#clip4702)\" style=\"stroke:#000000; stroke-width:0.5; stroke-opacity:0.1; fill:none\" points=\"\n",
       "  580.315,375.869 580.315,11.811 \n",
       "  \"/>\n",
       "<polyline clip-path=\"url(#clip4702)\" style=\"stroke:#000000; stroke-width:0.5; stroke-opacity:0.1; fill:none\" points=\"\n",
       "  36.1567,345.531 580.315,345.531 \n",
       "  \"/>\n",
       "<polyline clip-path=\"url(#clip4702)\" style=\"stroke:#000000; stroke-width:0.5; stroke-opacity:0.1; fill:none\" points=\"\n",
       "  36.1567,294.967 580.315,294.967 \n",
       "  \"/>\n",
       "<polyline clip-path=\"url(#clip4702)\" style=\"stroke:#000000; stroke-width:0.5; stroke-opacity:0.1; fill:none\" points=\"\n",
       "  36.1567,244.403 580.315,244.403 \n",
       "  \"/>\n",
       "<polyline clip-path=\"url(#clip4702)\" style=\"stroke:#000000; stroke-width:0.5; stroke-opacity:0.1; fill:none\" points=\"\n",
       "  36.1567,193.84 580.315,193.84 \n",
       "  \"/>\n",
       "<polyline clip-path=\"url(#clip4702)\" style=\"stroke:#000000; stroke-width:0.5; stroke-opacity:0.1; fill:none\" points=\"\n",
       "  36.1567,143.276 580.315,143.276 \n",
       "  \"/>\n",
       "<polyline clip-path=\"url(#clip4702)\" style=\"stroke:#000000; stroke-width:0.5; stroke-opacity:0.1; fill:none\" points=\"\n",
       "  36.1567,92.7127 580.315,92.7127 \n",
       "  \"/>\n",
       "<polyline clip-path=\"url(#clip4702)\" style=\"stroke:#000000; stroke-width:0.5; stroke-opacity:0.1; fill:none\" points=\"\n",
       "  36.1567,42.1492 580.315,42.1492 \n",
       "  \"/>\n",
       "<polyline clip-path=\"url(#clip4700)\" style=\"stroke:#000000; stroke-width:1; stroke-opacity:1; fill:none\" points=\"\n",
       "  36.1567,375.869 580.315,375.869 \n",
       "  \"/>\n",
       "<polyline clip-path=\"url(#clip4700)\" style=\"stroke:#000000; stroke-width:1; stroke-opacity:1; fill:none\" points=\"\n",
       "  36.1567,375.869 36.1567,11.811 \n",
       "  \"/>\n",
       "<polyline clip-path=\"url(#clip4700)\" style=\"stroke:#000000; stroke-width:1; stroke-opacity:1; fill:none\" points=\"\n",
       "  36.1567,375.869 36.1567,370.408 \n",
       "  \"/>\n",
       "<polyline clip-path=\"url(#clip4700)\" style=\"stroke:#000000; stroke-width:1; stroke-opacity:1; fill:none\" points=\"\n",
       "  126.85,375.869 126.85,370.408 \n",
       "  \"/>\n",
       "<polyline clip-path=\"url(#clip4700)\" style=\"stroke:#000000; stroke-width:1; stroke-opacity:1; fill:none\" points=\"\n",
       "  217.543,375.869 217.543,370.408 \n",
       "  \"/>\n",
       "<polyline clip-path=\"url(#clip4700)\" style=\"stroke:#000000; stroke-width:1; stroke-opacity:1; fill:none\" points=\"\n",
       "  308.236,375.869 308.236,370.408 \n",
       "  \"/>\n",
       "<polyline clip-path=\"url(#clip4700)\" style=\"stroke:#000000; stroke-width:1; stroke-opacity:1; fill:none\" points=\"\n",
       "  398.929,375.869 398.929,370.408 \n",
       "  \"/>\n",
       "<polyline clip-path=\"url(#clip4700)\" style=\"stroke:#000000; stroke-width:1; stroke-opacity:1; fill:none\" points=\"\n",
       "  489.622,375.869 489.622,370.408 \n",
       "  \"/>\n",
       "<polyline clip-path=\"url(#clip4700)\" style=\"stroke:#000000; stroke-width:1; stroke-opacity:1; fill:none\" points=\"\n",
       "  580.315,375.869 580.315,370.408 \n",
       "  \"/>\n",
       "<polyline clip-path=\"url(#clip4700)\" style=\"stroke:#000000; stroke-width:1; stroke-opacity:1; fill:none\" points=\"\n",
       "  36.1567,345.531 44.3191,345.531 \n",
       "  \"/>\n",
       "<polyline clip-path=\"url(#clip4700)\" style=\"stroke:#000000; stroke-width:1; stroke-opacity:1; fill:none\" points=\"\n",
       "  36.1567,294.967 44.3191,294.967 \n",
       "  \"/>\n",
       "<polyline clip-path=\"url(#clip4700)\" style=\"stroke:#000000; stroke-width:1; stroke-opacity:1; fill:none\" points=\"\n",
       "  36.1567,244.403 44.3191,244.403 \n",
       "  \"/>\n",
       "<polyline clip-path=\"url(#clip4700)\" style=\"stroke:#000000; stroke-width:1; stroke-opacity:1; fill:none\" points=\"\n",
       "  36.1567,193.84 44.3191,193.84 \n",
       "  \"/>\n",
       "<polyline clip-path=\"url(#clip4700)\" style=\"stroke:#000000; stroke-width:1; stroke-opacity:1; fill:none\" points=\"\n",
       "  36.1567,143.276 44.3191,143.276 \n",
       "  \"/>\n",
       "<polyline clip-path=\"url(#clip4700)\" style=\"stroke:#000000; stroke-width:1; stroke-opacity:1; fill:none\" points=\"\n",
       "  36.1567,92.7127 44.3191,92.7127 \n",
       "  \"/>\n",
       "<polyline clip-path=\"url(#clip4700)\" style=\"stroke:#000000; stroke-width:1; stroke-opacity:1; fill:none\" points=\"\n",
       "  36.1567,42.1492 44.3191,42.1492 \n",
       "  \"/>\n",
       "<g clip-path=\"url(#clip4700)\">\n",
       "<text style=\"fill:#000000; fill-opacity:1; font-family:Arial,Helvetica Neue,Helvetica,sans-serif; font-size:12; text-anchor:middle;\" transform=\"rotate(0, 36.1567, 389.669)\" x=\"36.1567\" y=\"389.669\">-3</text>\n",
       "</g>\n",
       "<g clip-path=\"url(#clip4700)\">\n",
       "<text style=\"fill:#000000; fill-opacity:1; font-family:Arial,Helvetica Neue,Helvetica,sans-serif; font-size:12; text-anchor:middle;\" transform=\"rotate(0, 126.85, 389.669)\" x=\"126.85\" y=\"389.669\">-2</text>\n",
       "</g>\n",
       "<g clip-path=\"url(#clip4700)\">\n",
       "<text style=\"fill:#000000; fill-opacity:1; font-family:Arial,Helvetica Neue,Helvetica,sans-serif; font-size:12; text-anchor:middle;\" transform=\"rotate(0, 217.543, 389.669)\" x=\"217.543\" y=\"389.669\">-1</text>\n",
       "</g>\n",
       "<g clip-path=\"url(#clip4700)\">\n",
       "<text style=\"fill:#000000; fill-opacity:1; font-family:Arial,Helvetica Neue,Helvetica,sans-serif; font-size:12; text-anchor:middle;\" transform=\"rotate(0, 308.236, 389.669)\" x=\"308.236\" y=\"389.669\">0</text>\n",
       "</g>\n",
       "<g clip-path=\"url(#clip4700)\">\n",
       "<text style=\"fill:#000000; fill-opacity:1; font-family:Arial,Helvetica Neue,Helvetica,sans-serif; font-size:12; text-anchor:middle;\" transform=\"rotate(0, 398.929, 389.669)\" x=\"398.929\" y=\"389.669\">1</text>\n",
       "</g>\n",
       "<g clip-path=\"url(#clip4700)\">\n",
       "<text style=\"fill:#000000; fill-opacity:1; font-family:Arial,Helvetica Neue,Helvetica,sans-serif; font-size:12; text-anchor:middle;\" transform=\"rotate(0, 489.622, 389.669)\" x=\"489.622\" y=\"389.669\">2</text>\n",
       "</g>\n",
       "<g clip-path=\"url(#clip4700)\">\n",
       "<text style=\"fill:#000000; fill-opacity:1; font-family:Arial,Helvetica Neue,Helvetica,sans-serif; font-size:12; text-anchor:middle;\" transform=\"rotate(0, 580.315, 389.669)\" x=\"580.315\" y=\"389.669\">3</text>\n",
       "</g>\n",
       "<g clip-path=\"url(#clip4700)\">\n",
       "<text style=\"fill:#000000; fill-opacity:1; font-family:Arial,Helvetica Neue,Helvetica,sans-serif; font-size:12; text-anchor:end;\" transform=\"rotate(0, 30.1567, 350.031)\" x=\"30.1567\" y=\"350.031\">-15</text>\n",
       "</g>\n",
       "<g clip-path=\"url(#clip4700)\">\n",
       "<text style=\"fill:#000000; fill-opacity:1; font-family:Arial,Helvetica Neue,Helvetica,sans-serif; font-size:12; text-anchor:end;\" transform=\"rotate(0, 30.1567, 299.467)\" x=\"30.1567\" y=\"299.467\">-10</text>\n",
       "</g>\n",
       "<g clip-path=\"url(#clip4700)\">\n",
       "<text style=\"fill:#000000; fill-opacity:1; font-family:Arial,Helvetica Neue,Helvetica,sans-serif; font-size:12; text-anchor:end;\" transform=\"rotate(0, 30.1567, 248.903)\" x=\"30.1567\" y=\"248.903\">-5</text>\n",
       "</g>\n",
       "<g clip-path=\"url(#clip4700)\">\n",
       "<text style=\"fill:#000000; fill-opacity:1; font-family:Arial,Helvetica Neue,Helvetica,sans-serif; font-size:12; text-anchor:end;\" transform=\"rotate(0, 30.1567, 198.34)\" x=\"30.1567\" y=\"198.34\">0</text>\n",
       "</g>\n",
       "<g clip-path=\"url(#clip4700)\">\n",
       "<text style=\"fill:#000000; fill-opacity:1; font-family:Arial,Helvetica Neue,Helvetica,sans-serif; font-size:12; text-anchor:end;\" transform=\"rotate(0, 30.1567, 147.776)\" x=\"30.1567\" y=\"147.776\">5</text>\n",
       "</g>\n",
       "<g clip-path=\"url(#clip4700)\">\n",
       "<text style=\"fill:#000000; fill-opacity:1; font-family:Arial,Helvetica Neue,Helvetica,sans-serif; font-size:12; text-anchor:end;\" transform=\"rotate(0, 30.1567, 97.2127)\" x=\"30.1567\" y=\"97.2127\">10</text>\n",
       "</g>\n",
       "<g clip-path=\"url(#clip4700)\">\n",
       "<text style=\"fill:#000000; fill-opacity:1; font-family:Arial,Helvetica Neue,Helvetica,sans-serif; font-size:12; text-anchor:end;\" transform=\"rotate(0, 30.1567, 46.6492)\" x=\"30.1567\" y=\"46.6492\">15</text>\n",
       "</g>\n",
       "<polyline clip-path=\"url(#clip4702)\" style=\"stroke:#009af9; stroke-width:1; stroke-opacity:1; fill:none\" points=\"\n",
       "  36.1567,375.869 41.5983,361.632 47.0399,348.037 52.4815,335.072 57.9231,322.722 63.3646,310.975 68.8062,299.818 74.2478,289.238 79.6894,279.222 85.131,269.755 \n",
       "  90.5725,260.826 96.0141,252.422 101.456,244.528 106.897,237.133 112.339,230.222 117.78,223.784 123.222,217.804 128.664,212.269 134.105,207.167 139.547,202.485 \n",
       "  144.988,198.209 150.43,194.326 155.872,190.823 161.313,187.687 166.755,184.904 172.196,182.463 177.638,180.349 183.079,178.55 188.521,177.052 193.963,175.843 \n",
       "  199.404,174.909 204.846,174.237 210.287,173.814 215.729,173.627 221.171,173.662 226.612,173.908 232.054,174.35 237.495,174.975 242.937,175.771 248.378,176.724 \n",
       "  253.82,177.821 259.262,179.05 264.703,180.396 270.145,181.847 275.586,183.39 281.028,185.011 286.47,186.698 291.911,188.438 297.353,190.217 302.794,192.022 \n",
       "  308.236,193.84 313.677,195.658 319.119,197.463 324.561,199.242 330.002,200.981 335.444,202.668 340.885,204.29 346.327,205.833 351.769,207.284 357.21,208.63 \n",
       "  362.652,209.858 368.093,210.956 373.535,211.909 378.976,212.705 384.418,213.33 389.86,213.772 395.301,214.017 400.743,214.053 406.184,213.866 411.626,213.443 \n",
       "  417.067,212.771 422.509,211.837 427.951,210.627 433.392,209.13 438.834,207.33 444.275,205.217 449.717,202.775 455.159,199.993 460.6,196.857 466.042,193.354 \n",
       "  471.483,189.471 476.925,185.195 482.366,180.512 487.808,175.411 493.25,169.876 498.691,163.896 504.133,157.457 509.574,150.547 515.016,143.151 520.458,135.258 \n",
       "  525.899,126.853 531.341,117.924 536.782,108.458 542.224,98.4415 547.665,87.8612 553.107,76.7043 558.549,64.9576 563.99,52.6081 569.432,39.6425 574.873,26.0479 \n",
       "  580.315,11.811 \n",
       "  \"/>\n",
       "<polyline clip-path=\"url(#clip4702)\" style=\"stroke:#000000; stroke-width:1; stroke-opacity:1; fill:none\" points=\"\n",
       "  36.1567,193.84 580.315,193.84 \n",
       "  \"/>\n",
       "<polyline clip-path=\"url(#clip4702)\" style=\"stroke:#000000; stroke-width:1; stroke-opacity:1; fill:none\" points=\"\n",
       "  36.1567,193.84 580.315,193.84 \n",
       "  \"/>\n",
       "<polyline clip-path=\"url(#clip4702)\" style=\"stroke:#000000; stroke-width:1; stroke-opacity:1; fill:none\" points=\"\n",
       "  308.236,375.869 308.236,11.811 \n",
       "  \"/>\n",
       "<polyline clip-path=\"url(#clip4702)\" style=\"stroke:#000000; stroke-width:1; stroke-opacity:1; fill:none\" points=\"\n",
       "  308.236,375.869 308.236,11.811 \n",
       "  \"/>\n",
       "<polygon clip-path=\"url(#clip4700)\" points=\"\n",
       "489.608,62.931 562.315,62.931 562.315,32.691 489.608,32.691 \n",
       "  \" fill=\"#ffffff\" fill-opacity=\"1\"/>\n",
       "<polyline clip-path=\"url(#clip4700)\" style=\"stroke:#000000; stroke-width:1; stroke-opacity:1; fill:none\" points=\"\n",
       "  489.608,62.931 562.315,62.931 562.315,32.691 489.608,32.691 489.608,62.931 \n",
       "  \"/>\n",
       "<polyline clip-path=\"url(#clip4700)\" style=\"stroke:#009af9; stroke-width:1; stroke-opacity:1; fill:none\" points=\"\n",
       "  495.608,47.811 531.608,47.811 \n",
       "  \"/>\n",
       "<g clip-path=\"url(#clip4700)\">\n",
       "<text style=\"fill:#000000; fill-opacity:1; font-family:Arial,Helvetica Neue,Helvetica,sans-serif; font-size:12; text-anchor:start;\" transform=\"rotate(0, 537.608, 52.311)\" x=\"537.608\" y=\"52.311\">y1</text>\n",
       "</g>\n",
       "</svg>\n"
      ]
     },
     "execution_count": 67,
     "metadata": {},
     "output_type": "execute_result"
    }
   ],
   "source": [
    "f2(x) = x^3 - 3x \n",
    "x = linspace(-3.0, 3.0, 101)\n",
    "plot(x, f2.(x))\n",
    "hline!([0,0], color = :black, label = \"\")\n",
    "vline!([0,0], color = :black, label = \"\")"
   ]
  },
  {
   "cell_type": "code",
   "execution_count": 68,
   "metadata": {},
   "outputs": [
    {
     "data": {
      "text/html": [
       "<?xml version=\"1.0\" encoding=\"utf-8\"?>\n",
       "<svg xmlns=\"http://www.w3.org/2000/svg\" xmlns:xlink=\"http://www.w3.org/1999/xlink\" width=\"600\" height=\"400\" viewBox=\"0 0 600 400\">\n",
       "<defs>\n",
       "  <clipPath id=\"clip4900\">\n",
       "    <rect x=\"0\" y=\"0\" width=\"600\" height=\"400\"/>\n",
       "  </clipPath>\n",
       "</defs>\n",
       "<polygon clip-path=\"url(#clip4900)\" points=\"\n",
       "0,400 600,400 600,0 0,0 \n",
       "  \" fill=\"#ffffff\" fill-opacity=\"1\"/>\n",
       "<defs>\n",
       "  <clipPath id=\"clip4901\">\n",
       "    <rect x=\"120\" y=\"0\" width=\"421\" height=\"400\"/>\n",
       "  </clipPath>\n",
       "</defs>\n",
       "<polygon clip-path=\"url(#clip4900)\" points=\"\n",
       "29.4661,375.869 580.315,375.869 580.315,11.811 29.4661,11.811 \n",
       "  \" fill=\"#ffffff\" fill-opacity=\"1\"/>\n",
       "<defs>\n",
       "  <clipPath id=\"clip4902\">\n",
       "    <rect x=\"29\" y=\"11\" width=\"552\" height=\"365\"/>\n",
       "  </clipPath>\n",
       "</defs>\n",
       "<polyline clip-path=\"url(#clip4902)\" style=\"stroke:#000000; stroke-width:0.5; stroke-opacity:0.1; fill:none\" points=\"\n",
       "  29.4661,375.869 29.4661,11.811 \n",
       "  \"/>\n",
       "<polyline clip-path=\"url(#clip4902)\" style=\"stroke:#000000; stroke-width:0.5; stroke-opacity:0.1; fill:none\" points=\"\n",
       "  139.636,375.869 139.636,11.811 \n",
       "  \"/>\n",
       "<polyline clip-path=\"url(#clip4902)\" style=\"stroke:#000000; stroke-width:0.5; stroke-opacity:0.1; fill:none\" points=\"\n",
       "  249.806,375.869 249.806,11.811 \n",
       "  \"/>\n",
       "<polyline clip-path=\"url(#clip4902)\" style=\"stroke:#000000; stroke-width:0.5; stroke-opacity:0.1; fill:none\" points=\"\n",
       "  359.975,375.869 359.975,11.811 \n",
       "  \"/>\n",
       "<polyline clip-path=\"url(#clip4902)\" style=\"stroke:#000000; stroke-width:0.5; stroke-opacity:0.1; fill:none\" points=\"\n",
       "  470.145,375.869 470.145,11.811 \n",
       "  \"/>\n",
       "<polyline clip-path=\"url(#clip4902)\" style=\"stroke:#000000; stroke-width:0.5; stroke-opacity:0.1; fill:none\" points=\"\n",
       "  580.315,375.869 580.315,11.811 \n",
       "  \"/>\n",
       "<polyline clip-path=\"url(#clip4902)\" style=\"stroke:#000000; stroke-width:0.5; stroke-opacity:0.1; fill:none\" points=\"\n",
       "  29.4661,375.869 580.315,375.869 \n",
       "  \"/>\n",
       "<polyline clip-path=\"url(#clip4902)\" style=\"stroke:#000000; stroke-width:0.5; stroke-opacity:0.1; fill:none\" points=\"\n",
       "  29.4661,315.192 580.315,315.192 \n",
       "  \"/>\n",
       "<polyline clip-path=\"url(#clip4902)\" style=\"stroke:#000000; stroke-width:0.5; stroke-opacity:0.1; fill:none\" points=\"\n",
       "  29.4661,254.516 580.315,254.516 \n",
       "  \"/>\n",
       "<polyline clip-path=\"url(#clip4902)\" style=\"stroke:#000000; stroke-width:0.5; stroke-opacity:0.1; fill:none\" points=\"\n",
       "  29.4661,193.84 580.315,193.84 \n",
       "  \"/>\n",
       "<polyline clip-path=\"url(#clip4902)\" style=\"stroke:#000000; stroke-width:0.5; stroke-opacity:0.1; fill:none\" points=\"\n",
       "  29.4661,133.164 580.315,133.164 \n",
       "  \"/>\n",
       "<polyline clip-path=\"url(#clip4902)\" style=\"stroke:#000000; stroke-width:0.5; stroke-opacity:0.1; fill:none\" points=\"\n",
       "  29.4661,72.4873 580.315,72.4873 \n",
       "  \"/>\n",
       "<polyline clip-path=\"url(#clip4902)\" style=\"stroke:#000000; stroke-width:0.5; stroke-opacity:0.1; fill:none\" points=\"\n",
       "  29.4661,11.811 580.315,11.811 \n",
       "  \"/>\n",
       "<polyline clip-path=\"url(#clip4900)\" style=\"stroke:#000000; stroke-width:1; stroke-opacity:1; fill:none\" points=\"\n",
       "  29.4661,375.869 580.315,375.869 \n",
       "  \"/>\n",
       "<polyline clip-path=\"url(#clip4900)\" style=\"stroke:#000000; stroke-width:1; stroke-opacity:1; fill:none\" points=\"\n",
       "  29.4661,375.869 29.4661,11.811 \n",
       "  \"/>\n",
       "<polyline clip-path=\"url(#clip4900)\" style=\"stroke:#000000; stroke-width:1; stroke-opacity:1; fill:none\" points=\"\n",
       "  29.4661,375.869 29.4661,370.408 \n",
       "  \"/>\n",
       "<polyline clip-path=\"url(#clip4900)\" style=\"stroke:#000000; stroke-width:1; stroke-opacity:1; fill:none\" points=\"\n",
       "  139.636,375.869 139.636,370.408 \n",
       "  \"/>\n",
       "<polyline clip-path=\"url(#clip4900)\" style=\"stroke:#000000; stroke-width:1; stroke-opacity:1; fill:none\" points=\"\n",
       "  249.806,375.869 249.806,370.408 \n",
       "  \"/>\n",
       "<polyline clip-path=\"url(#clip4900)\" style=\"stroke:#000000; stroke-width:1; stroke-opacity:1; fill:none\" points=\"\n",
       "  359.975,375.869 359.975,370.408 \n",
       "  \"/>\n",
       "<polyline clip-path=\"url(#clip4900)\" style=\"stroke:#000000; stroke-width:1; stroke-opacity:1; fill:none\" points=\"\n",
       "  470.145,375.869 470.145,370.408 \n",
       "  \"/>\n",
       "<polyline clip-path=\"url(#clip4900)\" style=\"stroke:#000000; stroke-width:1; stroke-opacity:1; fill:none\" points=\"\n",
       "  580.315,375.869 580.315,370.408 \n",
       "  \"/>\n",
       "<polyline clip-path=\"url(#clip4900)\" style=\"stroke:#000000; stroke-width:1; stroke-opacity:1; fill:none\" points=\"\n",
       "  29.4661,375.869 37.7289,375.869 \n",
       "  \"/>\n",
       "<polyline clip-path=\"url(#clip4900)\" style=\"stroke:#000000; stroke-width:1; stroke-opacity:1; fill:none\" points=\"\n",
       "  29.4661,315.192 37.7289,315.192 \n",
       "  \"/>\n",
       "<polyline clip-path=\"url(#clip4900)\" style=\"stroke:#000000; stroke-width:1; stroke-opacity:1; fill:none\" points=\"\n",
       "  29.4661,254.516 37.7289,254.516 \n",
       "  \"/>\n",
       "<polyline clip-path=\"url(#clip4900)\" style=\"stroke:#000000; stroke-width:1; stroke-opacity:1; fill:none\" points=\"\n",
       "  29.4661,193.84 37.7289,193.84 \n",
       "  \"/>\n",
       "<polyline clip-path=\"url(#clip4900)\" style=\"stroke:#000000; stroke-width:1; stroke-opacity:1; fill:none\" points=\"\n",
       "  29.4661,133.164 37.7289,133.164 \n",
       "  \"/>\n",
       "<polyline clip-path=\"url(#clip4900)\" style=\"stroke:#000000; stroke-width:1; stroke-opacity:1; fill:none\" points=\"\n",
       "  29.4661,72.4873 37.7289,72.4873 \n",
       "  \"/>\n",
       "<polyline clip-path=\"url(#clip4900)\" style=\"stroke:#000000; stroke-width:1; stroke-opacity:1; fill:none\" points=\"\n",
       "  29.4661,11.811 37.7289,11.811 \n",
       "  \"/>\n",
       "<g clip-path=\"url(#clip4900)\">\n",
       "<text style=\"fill:#000000; fill-opacity:1; font-family:Arial,Helvetica Neue,Helvetica,sans-serif; font-size:12; text-anchor:middle;\" transform=\"rotate(0, 29.4661, 389.669)\" x=\"29.4661\" y=\"389.669\">0</text>\n",
       "</g>\n",
       "<g clip-path=\"url(#clip4900)\">\n",
       "<text style=\"fill:#000000; fill-opacity:1; font-family:Arial,Helvetica Neue,Helvetica,sans-serif; font-size:12; text-anchor:middle;\" transform=\"rotate(0, 139.636, 389.669)\" x=\"139.636\" y=\"389.669\">1</text>\n",
       "</g>\n",
       "<g clip-path=\"url(#clip4900)\">\n",
       "<text style=\"fill:#000000; fill-opacity:1; font-family:Arial,Helvetica Neue,Helvetica,sans-serif; font-size:12; text-anchor:middle;\" transform=\"rotate(0, 249.806, 389.669)\" x=\"249.806\" y=\"389.669\">2</text>\n",
       "</g>\n",
       "<g clip-path=\"url(#clip4900)\">\n",
       "<text style=\"fill:#000000; fill-opacity:1; font-family:Arial,Helvetica Neue,Helvetica,sans-serif; font-size:12; text-anchor:middle;\" transform=\"rotate(0, 359.975, 389.669)\" x=\"359.975\" y=\"389.669\">3</text>\n",
       "</g>\n",
       "<g clip-path=\"url(#clip4900)\">\n",
       "<text style=\"fill:#000000; fill-opacity:1; font-family:Arial,Helvetica Neue,Helvetica,sans-serif; font-size:12; text-anchor:middle;\" transform=\"rotate(0, 470.145, 389.669)\" x=\"470.145\" y=\"389.669\">4</text>\n",
       "</g>\n",
       "<g clip-path=\"url(#clip4900)\">\n",
       "<text style=\"fill:#000000; fill-opacity:1; font-family:Arial,Helvetica Neue,Helvetica,sans-serif; font-size:12; text-anchor:middle;\" transform=\"rotate(0, 580.315, 389.669)\" x=\"580.315\" y=\"389.669\">5</text>\n",
       "</g>\n",
       "<g clip-path=\"url(#clip4900)\">\n",
       "<text style=\"fill:#000000; fill-opacity:1; font-family:Arial,Helvetica Neue,Helvetica,sans-serif; font-size:12; text-anchor:end;\" transform=\"rotate(0, 23.4661, 380.369)\" x=\"23.4661\" y=\"380.369\">-5</text>\n",
       "</g>\n",
       "<g clip-path=\"url(#clip4900)\">\n",
       "<text style=\"fill:#000000; fill-opacity:1; font-family:Arial,Helvetica Neue,Helvetica,sans-serif; font-size:12; text-anchor:end;\" transform=\"rotate(0, 23.4661, 319.692)\" x=\"23.4661\" y=\"319.692\">0</text>\n",
       "</g>\n",
       "<g clip-path=\"url(#clip4900)\">\n",
       "<text style=\"fill:#000000; fill-opacity:1; font-family:Arial,Helvetica Neue,Helvetica,sans-serif; font-size:12; text-anchor:end;\" transform=\"rotate(0, 23.4661, 259.016)\" x=\"23.4661\" y=\"259.016\">5</text>\n",
       "</g>\n",
       "<g clip-path=\"url(#clip4900)\">\n",
       "<text style=\"fill:#000000; fill-opacity:1; font-family:Arial,Helvetica Neue,Helvetica,sans-serif; font-size:12; text-anchor:end;\" transform=\"rotate(0, 23.4661, 198.34)\" x=\"23.4661\" y=\"198.34\">10</text>\n",
       "</g>\n",
       "<g clip-path=\"url(#clip4900)\">\n",
       "<text style=\"fill:#000000; fill-opacity:1; font-family:Arial,Helvetica Neue,Helvetica,sans-serif; font-size:12; text-anchor:end;\" transform=\"rotate(0, 23.4661, 137.664)\" x=\"23.4661\" y=\"137.664\">15</text>\n",
       "</g>\n",
       "<g clip-path=\"url(#clip4900)\">\n",
       "<text style=\"fill:#000000; fill-opacity:1; font-family:Arial,Helvetica Neue,Helvetica,sans-serif; font-size:12; text-anchor:end;\" transform=\"rotate(0, 23.4661, 76.9873)\" x=\"23.4661\" y=\"76.9873\">20</text>\n",
       "</g>\n",
       "<g clip-path=\"url(#clip4900)\">\n",
       "<text style=\"fill:#000000; fill-opacity:1; font-family:Arial,Helvetica Neue,Helvetica,sans-serif; font-size:12; text-anchor:end;\" transform=\"rotate(0, 23.4661, 16.311)\" x=\"23.4661\" y=\"16.311\">25</text>\n",
       "</g>\n",
       "<polyline clip-path=\"url(#clip4902)\" style=\"stroke:#009af9; stroke-width:1; stroke-opacity:1; fill:none\" points=\"\n",
       "  29.4661,3.70467 34.9746,37.2514 40.4831,68.5069 45.9916,97.5658 51.5001,124.521 57.0086,149.463 62.5171,172.482 68.0256,193.664 73.534,213.096 79.0425,230.861 \n",
       "  84.551,247.041 90.0595,261.716 95.568,274.964 101.076,286.862 106.585,297.485 112.093,306.904 117.602,315.192 123.11,322.418 128.619,328.648 134.127,333.948 \n",
       "  139.636,338.383 145.144,342.013 150.653,344.9 156.161,347.1 161.67,348.671 167.178,349.668 172.687,350.142 178.195,350.145 183.704,349.727 189.212,348.934 \n",
       "  194.721,347.812 200.229,346.405 205.738,344.754 211.246,342.9 216.755,340.88 222.263,338.732 227.772,336.49 233.28,334.186 238.789,331.852 244.297,329.516 \n",
       "  249.806,327.206 255.314,324.948 260.823,322.765 266.331,320.679 271.84,318.709 277.348,316.875 282.857,315.192 288.365,313.676 293.874,312.338 299.382,311.19 \n",
       "  304.891,310.241 310.399,309.498 315.908,308.967 321.416,308.651 326.925,308.552 332.433,308.67 337.941,309.003 343.45,309.548 348.958,310.299 354.467,311.249 \n",
       "  359.975,312.389 365.484,313.708 370.992,315.192 376.501,316.829 382.009,318.6 387.518,320.488 393.026,322.474 398.535,324.534 404.043,326.646 409.552,328.783 \n",
       "  415.06,330.92 420.569,333.026 426.077,335.07 431.586,337.02 437.094,338.842 442.603,340.498 448.111,341.951 453.62,343.16 459.128,344.084 464.637,344.679 \n",
       "  470.145,344.9 475.654,344.698 481.162,344.026 486.671,342.831 492.179,341.062 497.688,338.664 503.196,335.58 508.705,331.751 514.213,327.119 519.722,321.621 \n",
       "  525.23,315.192 530.739,307.769 536.247,299.283 541.756,289.665 547.264,278.845 552.773,266.749 558.281,253.303 563.789,238.43 569.298,222.052 574.806,204.089 \n",
       "  580.315,184.459 \n",
       "  \"/>\n",
       "<polyline clip-path=\"url(#clip4902)\" style=\"stroke:#000000; stroke-width:1; stroke-opacity:1; fill:none\" points=\"\n",
       "  29.4661,315.192 580.315,315.192 \n",
       "  \"/>\n",
       "<polyline clip-path=\"url(#clip4902)\" style=\"stroke:#000000; stroke-width:1; stroke-opacity:1; fill:none\" points=\"\n",
       "  29.4661,315.192 580.315,315.192 \n",
       "  \"/>\n",
       "<polyline clip-path=\"url(#clip4902)\" style=\"stroke:#000000; stroke-width:1; stroke-opacity:1; fill:none\" points=\"\n",
       "  29.4661,375.869 29.4661,11.811 \n",
       "  \"/>\n",
       "<polyline clip-path=\"url(#clip4902)\" style=\"stroke:#000000; stroke-width:1; stroke-opacity:1; fill:none\" points=\"\n",
       "  29.4661,375.869 29.4661,11.811 \n",
       "  \"/>\n",
       "<polygon clip-path=\"url(#clip4900)\" points=\"\n",
       "489.608,62.931 562.315,62.931 562.315,32.691 489.608,32.691 \n",
       "  \" fill=\"#ffffff\" fill-opacity=\"1\"/>\n",
       "<polyline clip-path=\"url(#clip4900)\" style=\"stroke:#000000; stroke-width:1; stroke-opacity:1; fill:none\" points=\"\n",
       "  489.608,62.931 562.315,62.931 562.315,32.691 489.608,32.691 489.608,62.931 \n",
       "  \"/>\n",
       "<polyline clip-path=\"url(#clip4900)\" style=\"stroke:#009af9; stroke-width:1; stroke-opacity:1; fill:none\" points=\"\n",
       "  495.608,47.811 531.608,47.811 \n",
       "  \"/>\n",
       "<g clip-path=\"url(#clip4900)\">\n",
       "<text style=\"fill:#000000; fill-opacity:1; font-family:Arial,Helvetica Neue,Helvetica,sans-serif; font-size:12; text-anchor:start;\" transform=\"rotate(0, 537.608, 52.311)\" x=\"537.608\" y=\"52.311\">y1</text>\n",
       "</g>\n",
       "</svg>\n"
      ]
     },
     "execution_count": 68,
     "metadata": {},
     "output_type": "execute_result"
    }
   ],
   "source": [
    "ff(x) = (x-4.5)*(x - 3.1)*(x - 2.3)*(x - 0.8)\n",
    "x = linspace(.0, 5.0, 101)\n",
    "plot(x, ff.(x))\n",
    "plot!(ylims=(-5, 25))\n",
    "hline!([0,0], color = :black, label = \"\")\n",
    "vline!([0,0], color = :black, label = \"\")"
   ]
  },
  {
   "cell_type": "code",
   "execution_count": 85,
   "metadata": {},
   "outputs": [
    {
     "data": {
      "text/plain": [
       "4-element Array{Intervalos.Intervalo,1}:\n",
       " Intervalos.Intervalo(3.1, 3.1)\n",
       " Intervalos.Intervalo(4.5, 4.5)\n",
       " Intervalos.Intervalo(0.8, 0.8)\n",
       " Intervalos.Intervalo(2.3, 2.3)"
      ]
     },
     "execution_count": 85,
     "metadata": {},
     "output_type": "execute_result"
    }
   ],
   "source": [
    "ff(x) = (x-4.5)*(x - 3.1)*(x - 2.3)*(x - 0.8)\n",
    "I1 = Intervalo(0, 0.5)\n",
    "I2 = Intervalo(0, 1)\n",
    "I3 = Intervalo(0, 1.8)\n",
    "I4 = Intervalo(0, 2.4)\n",
    "I5 = Intervalo(0, 3)\n",
    "I6 = Intervalo(0, 3.4)\n",
    "I7 = Intervalo(0, 4.1)\n",
    "I8 = Intervalo(0, 5)\n",
    "newtonIntervalExten(ff, I8)"
   ]
  },
  {
   "cell_type": "code",
   "execution_count": 86,
   "metadata": {},
   "outputs": [
    {
     "data": {
      "text/plain": [
       "1-element Array{Intervalos.Intervalo,1}:\n",
       " Intervalos.Intervalo(-2.27902, -2.27902)"
      ]
     },
     "execution_count": 86,
     "metadata": {},
     "output_type": "execute_result"
    }
   ],
   "source": [
    "f(x) = x^3 - 3x + 5\n",
    "\n",
    "I1 = Intervalo(-3, -2)\n",
    "I2 = Intervalo(-3, -0.5)\n",
    "I3 = Intervalo(-3, 2)\n",
    "newtonIntervalExten(f, I3)"
   ]
  },
  {
   "cell_type": "markdown",
   "metadata": {},
   "source": [
    "**[7]** Considera la familia de polinomios de Wilkinson, definidos por $W_n(x) := \\prod_{i=1}^n (x-i)$. Utiliza el método de Newton para encontrar todas sus raíces."
   ]
  },
  {
   "cell_type": "code",
   "execution_count": 96,
   "metadata": {},
   "outputs": [
    {
     "data": {
      "text/html": [
       "<?xml version=\"1.0\" encoding=\"utf-8\"?>\n",
       "<svg xmlns=\"http://www.w3.org/2000/svg\" xmlns:xlink=\"http://www.w3.org/1999/xlink\" width=\"600\" height=\"400\" viewBox=\"0 0 600 400\">\n",
       "<defs>\n",
       "  <clipPath id=\"clip6500\">\n",
       "    <rect x=\"0\" y=\"0\" width=\"600\" height=\"400\"/>\n",
       "  </clipPath>\n",
       "</defs>\n",
       "<polygon clip-path=\"url(#clip6500)\" points=\"\n",
       "0,400 600,400 600,0 0,0 \n",
       "  \" fill=\"#ffffff\" fill-opacity=\"1\"/>\n",
       "<defs>\n",
       "  <clipPath id=\"clip6501\">\n",
       "    <rect x=\"120\" y=\"0\" width=\"421\" height=\"400\"/>\n",
       "  </clipPath>\n",
       "</defs>\n",
       "<polygon clip-path=\"url(#clip6500)\" points=\"\n",
       "29.4661,375.869 580.315,375.869 580.315,11.811 29.4661,11.811 \n",
       "  \" fill=\"#ffffff\" fill-opacity=\"1\"/>\n",
       "<defs>\n",
       "  <clipPath id=\"clip6502\">\n",
       "    <rect x=\"29\" y=\"11\" width=\"552\" height=\"365\"/>\n",
       "  </clipPath>\n",
       "</defs>\n",
       "<polyline clip-path=\"url(#clip6502)\" style=\"stroke:#000000; stroke-width:0.5; stroke-opacity:0.1; fill:none\" points=\"\n",
       "  29.4661,375.869 29.4661,11.811 \n",
       "  \"/>\n",
       "<polyline clip-path=\"url(#clip6502)\" style=\"stroke:#000000; stroke-width:0.5; stroke-opacity:0.1; fill:none\" points=\"\n",
       "  108.159,375.869 108.159,11.811 \n",
       "  \"/>\n",
       "<polyline clip-path=\"url(#clip6502)\" style=\"stroke:#000000; stroke-width:0.5; stroke-opacity:0.1; fill:none\" points=\"\n",
       "  186.852,375.869 186.852,11.811 \n",
       "  \"/>\n",
       "<polyline clip-path=\"url(#clip6502)\" style=\"stroke:#000000; stroke-width:0.5; stroke-opacity:0.1; fill:none\" points=\"\n",
       "  265.544,375.869 265.544,11.811 \n",
       "  \"/>\n",
       "<polyline clip-path=\"url(#clip6502)\" style=\"stroke:#000000; stroke-width:0.5; stroke-opacity:0.1; fill:none\" points=\"\n",
       "  344.237,375.869 344.237,11.811 \n",
       "  \"/>\n",
       "<polyline clip-path=\"url(#clip6502)\" style=\"stroke:#000000; stroke-width:0.5; stroke-opacity:0.1; fill:none\" points=\"\n",
       "  422.93,375.869 422.93,11.811 \n",
       "  \"/>\n",
       "<polyline clip-path=\"url(#clip6502)\" style=\"stroke:#000000; stroke-width:0.5; stroke-opacity:0.1; fill:none\" points=\"\n",
       "  501.622,375.869 501.622,11.811 \n",
       "  \"/>\n",
       "<polyline clip-path=\"url(#clip6502)\" style=\"stroke:#000000; stroke-width:0.5; stroke-opacity:0.1; fill:none\" points=\"\n",
       "  580.315,375.869 580.315,11.811 \n",
       "  \"/>\n",
       "<polyline clip-path=\"url(#clip6502)\" style=\"stroke:#000000; stroke-width:0.5; stroke-opacity:0.1; fill:none\" points=\"\n",
       "  29.4661,330.361 580.315,330.361 \n",
       "  \"/>\n",
       "<polyline clip-path=\"url(#clip6502)\" style=\"stroke:#000000; stroke-width:0.5; stroke-opacity:0.1; fill:none\" points=\"\n",
       "  29.4661,262.101 580.315,262.101 \n",
       "  \"/>\n",
       "<polyline clip-path=\"url(#clip6502)\" style=\"stroke:#000000; stroke-width:0.5; stroke-opacity:0.1; fill:none\" points=\"\n",
       "  29.4661,193.84 580.315,193.84 \n",
       "  \"/>\n",
       "<polyline clip-path=\"url(#clip6502)\" style=\"stroke:#000000; stroke-width:0.5; stroke-opacity:0.1; fill:none\" points=\"\n",
       "  29.4661,125.579 580.315,125.579 \n",
       "  \"/>\n",
       "<polyline clip-path=\"url(#clip6502)\" style=\"stroke:#000000; stroke-width:0.5; stroke-opacity:0.1; fill:none\" points=\"\n",
       "  29.4661,57.3182 580.315,57.3182 \n",
       "  \"/>\n",
       "<polyline clip-path=\"url(#clip6500)\" style=\"stroke:#000000; stroke-width:1; stroke-opacity:1; fill:none\" points=\"\n",
       "  29.4661,375.869 580.315,375.869 \n",
       "  \"/>\n",
       "<polyline clip-path=\"url(#clip6500)\" style=\"stroke:#000000; stroke-width:1; stroke-opacity:1; fill:none\" points=\"\n",
       "  29.4661,375.869 29.4661,11.811 \n",
       "  \"/>\n",
       "<polyline clip-path=\"url(#clip6500)\" style=\"stroke:#000000; stroke-width:1; stroke-opacity:1; fill:none\" points=\"\n",
       "  29.4661,375.869 29.4661,370.408 \n",
       "  \"/>\n",
       "<polyline clip-path=\"url(#clip6500)\" style=\"stroke:#000000; stroke-width:1; stroke-opacity:1; fill:none\" points=\"\n",
       "  108.159,375.869 108.159,370.408 \n",
       "  \"/>\n",
       "<polyline clip-path=\"url(#clip6500)\" style=\"stroke:#000000; stroke-width:1; stroke-opacity:1; fill:none\" points=\"\n",
       "  186.852,375.869 186.852,370.408 \n",
       "  \"/>\n",
       "<polyline clip-path=\"url(#clip6500)\" style=\"stroke:#000000; stroke-width:1; stroke-opacity:1; fill:none\" points=\"\n",
       "  265.544,375.869 265.544,370.408 \n",
       "  \"/>\n",
       "<polyline clip-path=\"url(#clip6500)\" style=\"stroke:#000000; stroke-width:1; stroke-opacity:1; fill:none\" points=\"\n",
       "  344.237,375.869 344.237,370.408 \n",
       "  \"/>\n",
       "<polyline clip-path=\"url(#clip6500)\" style=\"stroke:#000000; stroke-width:1; stroke-opacity:1; fill:none\" points=\"\n",
       "  422.93,375.869 422.93,370.408 \n",
       "  \"/>\n",
       "<polyline clip-path=\"url(#clip6500)\" style=\"stroke:#000000; stroke-width:1; stroke-opacity:1; fill:none\" points=\"\n",
       "  501.622,375.869 501.622,370.408 \n",
       "  \"/>\n",
       "<polyline clip-path=\"url(#clip6500)\" style=\"stroke:#000000; stroke-width:1; stroke-opacity:1; fill:none\" points=\"\n",
       "  580.315,375.869 580.315,370.408 \n",
       "  \"/>\n",
       "<polyline clip-path=\"url(#clip6500)\" style=\"stroke:#000000; stroke-width:1; stroke-opacity:1; fill:none\" points=\"\n",
       "  29.4661,330.361 37.7289,330.361 \n",
       "  \"/>\n",
       "<polyline clip-path=\"url(#clip6500)\" style=\"stroke:#000000; stroke-width:1; stroke-opacity:1; fill:none\" points=\"\n",
       "  29.4661,262.101 37.7289,262.101 \n",
       "  \"/>\n",
       "<polyline clip-path=\"url(#clip6500)\" style=\"stroke:#000000; stroke-width:1; stroke-opacity:1; fill:none\" points=\"\n",
       "  29.4661,193.84 37.7289,193.84 \n",
       "  \"/>\n",
       "<polyline clip-path=\"url(#clip6500)\" style=\"stroke:#000000; stroke-width:1; stroke-opacity:1; fill:none\" points=\"\n",
       "  29.4661,125.579 37.7289,125.579 \n",
       "  \"/>\n",
       "<polyline clip-path=\"url(#clip6500)\" style=\"stroke:#000000; stroke-width:1; stroke-opacity:1; fill:none\" points=\"\n",
       "  29.4661,57.3182 37.7289,57.3182 \n",
       "  \"/>\n",
       "<g clip-path=\"url(#clip6500)\">\n",
       "<text style=\"fill:#000000; fill-opacity:1; font-family:Arial,Helvetica Neue,Helvetica,sans-serif; font-size:12; text-anchor:middle;\" transform=\"rotate(0, 29.4661, 389.669)\" x=\"29.4661\" y=\"389.669\">0</text>\n",
       "</g>\n",
       "<g clip-path=\"url(#clip6500)\">\n",
       "<text style=\"fill:#000000; fill-opacity:1; font-family:Arial,Helvetica Neue,Helvetica,sans-serif; font-size:12; text-anchor:middle;\" transform=\"rotate(0, 108.159, 389.669)\" x=\"108.159\" y=\"389.669\">1</text>\n",
       "</g>\n",
       "<g clip-path=\"url(#clip6500)\">\n",
       "<text style=\"fill:#000000; fill-opacity:1; font-family:Arial,Helvetica Neue,Helvetica,sans-serif; font-size:12; text-anchor:middle;\" transform=\"rotate(0, 186.852, 389.669)\" x=\"186.852\" y=\"389.669\">2</text>\n",
       "</g>\n",
       "<g clip-path=\"url(#clip6500)\">\n",
       "<text style=\"fill:#000000; fill-opacity:1; font-family:Arial,Helvetica Neue,Helvetica,sans-serif; font-size:12; text-anchor:middle;\" transform=\"rotate(0, 265.544, 389.669)\" x=\"265.544\" y=\"389.669\">3</text>\n",
       "</g>\n",
       "<g clip-path=\"url(#clip6500)\">\n",
       "<text style=\"fill:#000000; fill-opacity:1; font-family:Arial,Helvetica Neue,Helvetica,sans-serif; font-size:12; text-anchor:middle;\" transform=\"rotate(0, 344.237, 389.669)\" x=\"344.237\" y=\"389.669\">4</text>\n",
       "</g>\n",
       "<g clip-path=\"url(#clip6500)\">\n",
       "<text style=\"fill:#000000; fill-opacity:1; font-family:Arial,Helvetica Neue,Helvetica,sans-serif; font-size:12; text-anchor:middle;\" transform=\"rotate(0, 422.93, 389.669)\" x=\"422.93\" y=\"389.669\">5</text>\n",
       "</g>\n",
       "<g clip-path=\"url(#clip6500)\">\n",
       "<text style=\"fill:#000000; fill-opacity:1; font-family:Arial,Helvetica Neue,Helvetica,sans-serif; font-size:12; text-anchor:middle;\" transform=\"rotate(0, 501.622, 389.669)\" x=\"501.622\" y=\"389.669\">6</text>\n",
       "</g>\n",
       "<g clip-path=\"url(#clip6500)\">\n",
       "<text style=\"fill:#000000; fill-opacity:1; font-family:Arial,Helvetica Neue,Helvetica,sans-serif; font-size:12; text-anchor:middle;\" transform=\"rotate(0, 580.315, 389.669)\" x=\"580.315\" y=\"389.669\">7</text>\n",
       "</g>\n",
       "<g clip-path=\"url(#clip6500)\">\n",
       "<text style=\"fill:#000000; fill-opacity:1; font-family:Arial,Helvetica Neue,Helvetica,sans-serif; font-size:12; text-anchor:end;\" transform=\"rotate(0, 23.4661, 334.861)\" x=\"23.4661\" y=\"334.861\">-6</text>\n",
       "</g>\n",
       "<g clip-path=\"url(#clip6500)\">\n",
       "<text style=\"fill:#000000; fill-opacity:1; font-family:Arial,Helvetica Neue,Helvetica,sans-serif; font-size:12; text-anchor:end;\" transform=\"rotate(0, 23.4661, 266.601)\" x=\"23.4661\" y=\"266.601\">-3</text>\n",
       "</g>\n",
       "<g clip-path=\"url(#clip6500)\">\n",
       "<text style=\"fill:#000000; fill-opacity:1; font-family:Arial,Helvetica Neue,Helvetica,sans-serif; font-size:12; text-anchor:end;\" transform=\"rotate(0, 23.4661, 198.34)\" x=\"23.4661\" y=\"198.34\">0</text>\n",
       "</g>\n",
       "<g clip-path=\"url(#clip6500)\">\n",
       "<text style=\"fill:#000000; fill-opacity:1; font-family:Arial,Helvetica Neue,Helvetica,sans-serif; font-size:12; text-anchor:end;\" transform=\"rotate(0, 23.4661, 130.079)\" x=\"23.4661\" y=\"130.079\">3</text>\n",
       "</g>\n",
       "<g clip-path=\"url(#clip6500)\">\n",
       "<text style=\"fill:#000000; fill-opacity:1; font-family:Arial,Helvetica Neue,Helvetica,sans-serif; font-size:12; text-anchor:end;\" transform=\"rotate(0, 23.4661, 61.8182)\" x=\"23.4661\" y=\"61.8182\">6</text>\n",
       "</g>\n",
       "<polyline clip-path=\"url(#clip6502)\" style=\"stroke:#009af9; stroke-width:1; stroke-opacity:1; fill:none\" points=\"\n",
       "  29.4661,-16188.8 30.017,-15909.6 30.5678,-15634 31.1187,-15362 31.6695,-15093.5 32.2204,-14828.5 32.7712,-14566.9 33.3221,-14308.8 33.8729,-14054 34.4238,-13802.6 \n",
       "  34.9746,-13554.6 35.5255,-13309.8 36.0763,-13068.2 36.6272,-12829.9 37.178,-12594.8 37.7289,-12362.8 38.2797,-12134 38.8306,-11908.3 39.3814,-11685.6 39.9323,-11466 \n",
       "  40.4831,-11249.4 41.034,-11035.8 41.5848,-10825.1 42.1357,-10617.3 42.6865,-10412.4 43.2374,-10210.4 43.7882,-10011.2 44.3391,-9814.81 44.8899,-9621.19 45.4408,-9430.32 \n",
       "  45.9916,-9242.16 46.5425,-9056.69 47.0933,-8873.87 47.6441,-8693.69 48.195,-8516.12 48.7458,-8341.12 49.2967,-8168.68 49.8475,-7998.75 50.3984,-7831.33 50.9492,-7666.37 \n",
       "  51.5001,-7503.86 52.0509,-7343.77 52.6018,-7186.07 53.1526,-7030.73 53.7035,-6877.74 54.2543,-6727.06 54.8052,-6578.67 55.356,-6432.55 55.9069,-6288.67 56.4577,-6147 \n",
       "  57.0086,-6007.53 57.5594,-5870.22 58.1103,-5735.06 58.6611,-5602.02 59.212,-5471.07 59.7628,-5342.2 60.3137,-5215.38 60.8645,-5090.58 61.4154,-4967.79 61.9662,-4846.97 \n",
       "  62.5171,-4728.12 63.0679,-4611.2 63.6188,-4496.19 64.1696,-4383.07 64.7205,-4271.83 65.2713,-4162.43 65.8222,-4054.86 66.373,-3949.09 66.9239,-3845.11 67.4747,-3742.88 \n",
       "  68.0256,-3642.4 68.5764,-3543.65 69.1273,-3446.59 69.6781,-3351.21 70.229,-3257.49 70.7798,-3165.42 71.3306,-3074.96 71.8815,-2986.1 72.4323,-2898.82 72.9832,-2813.11 \n",
       "  73.534,-2728.94 74.0849,-2646.29 74.6357,-2565.14 75.1866,-2485.48 75.7374,-2407.29 76.2883,-2330.54 76.8391,-2255.23 77.39,-2181.33 77.9408,-2108.82 78.4917,-2037.69 \n",
       "  79.0425,-1967.92 79.5934,-1899.48 80.1442,-1832.38 80.6951,-1766.57 81.2459,-1702.06 81.7968,-1638.82 82.3476,-1576.84 82.8985,-1516.1 83.4493,-1456.57 84.0002,-1398.26 \n",
       "  84.551,-1341.13 85.1019,-1285.18 85.6527,-1230.39 86.2036,-1176.74 86.7544,-1124.22 87.3053,-1072.81 87.8561,-1022.49 88.407,-973.257 88.9578,-925.088 89.5087,-877.971 \n",
       "  90.0595,-831.889 90.6104,-786.829 91.1612,-742.776 91.7121,-699.716 92.2629,-657.634 92.8138,-616.516 93.3646,-576.348 93.9154,-537.117 94.4663,-498.809 95.0171,-461.409 \n",
       "  95.568,-424.906 96.1188,-389.284 96.6697,-354.532 97.2205,-320.636 97.7714,-287.583 98.3222,-255.36 98.8731,-223.955 99.4239,-193.354 99.9748,-163.547 100.526,-134.519 \n",
       "  101.076,-106.259 101.627,-78.7559 102.178,-51.9962 102.729,-25.9686 103.28,-0.661355 103.831,23.9371 104.382,47.8383 104.932,71.0536 105.483,93.5943 106.034,115.471 \n",
       "  106.585,136.696 107.136,157.279 107.687,177.232 108.238,196.564 108.788,215.287 109.339,233.411 109.89,250.946 110.441,267.903 110.992,284.291 111.543,300.121 \n",
       "  112.093,315.403 112.644,330.147 113.195,344.361 113.746,358.056 114.297,371.242 114.848,383.927 115.399,396.121 115.949,407.833 116.5,419.073 117.051,429.848 \n",
       "  117.602,440.169 118.153,450.044 118.704,459.481 119.254,468.489 119.805,477.076 120.356,485.252 120.907,493.024 121.458,500.4 122.009,507.388 122.56,513.998 \n",
       "  123.11,520.235 123.661,526.109 124.212,531.626 124.763,536.795 125.314,541.624 125.865,546.118 126.416,550.287 126.966,554.136 127.517,557.674 128.068,560.907 \n",
       "  128.619,563.843 129.17,566.487 129.721,568.848 130.271,570.931 130.822,572.744 131.373,574.293 131.924,575.584 132.475,576.624 133.026,577.419 133.577,577.975 \n",
       "  134.127,578.298 134.678,578.396 135.229,578.272 135.78,577.934 136.331,577.387 136.882,576.638 137.433,575.69 137.983,574.551 138.534,573.225 139.085,571.719 \n",
       "  139.636,570.037 140.187,568.184 140.738,566.167 141.288,563.989 141.839,561.656 142.39,559.174 142.941,556.546 143.492,553.778 144.043,550.875 144.594,547.84 \n",
       "  145.144,544.68 145.695,541.397 146.246,537.998 146.797,534.486 147.348,530.865 147.899,527.14 148.449,523.315 149,519.394 149.551,515.382 150.102,511.281 \n",
       "  150.653,507.097 151.204,502.833 151.755,498.492 152.305,494.079 152.856,489.597 153.407,485.051 153.958,480.442 154.509,475.776 155.06,471.055 155.611,466.282 \n",
       "  156.161,461.462 156.712,456.597 157.263,451.69 157.814,446.745 158.365,441.765 158.916,436.752 159.466,431.71 160.017,426.642 160.568,421.55 161.119,416.437 \n",
       "  161.67,411.307 162.221,406.161 162.772,401.002 163.322,395.833 163.873,390.657 164.424,385.476 164.975,380.292 165.526,375.107 166.077,369.925 166.627,364.747 \n",
       "  167.178,359.576 167.729,354.413 168.28,349.261 168.831,344.122 169.382,338.998 169.933,333.891 170.483,328.803 171.034,323.735 171.585,318.691 172.136,313.67 \n",
       "  172.687,308.676 173.238,303.71 173.789,298.773 174.339,293.867 174.89,288.994 175.441,284.155 175.992,279.352 176.543,274.587 177.094,269.86 177.644,265.173 \n",
       "  178.195,260.527 178.746,255.924 179.297,251.364 179.848,246.85 180.399,242.382 180.95,237.962 181.5,233.589 182.051,229.267 182.602,224.995 183.153,220.774 \n",
       "  183.704,216.607 184.255,212.492 184.806,208.432 185.356,204.427 185.907,200.477 186.458,196.585 187.009,192.75 187.56,188.973 188.111,185.255 188.661,181.597 \n",
       "  189.212,177.998 189.763,174.461 190.314,170.984 190.865,167.57 191.416,164.217 191.967,160.928 192.517,157.701 193.068,154.538 193.619,151.439 194.17,148.404 \n",
       "  194.721,145.434 195.272,142.528 195.822,139.688 196.373,136.913 196.924,134.203 197.475,131.56 198.026,128.982 198.577,126.47 199.128,124.025 199.678,121.645 \n",
       "  200.229,119.332 200.78,117.086 201.331,114.905 201.882,112.791 202.433,110.744 202.984,108.762 203.534,106.847 204.085,104.997 204.636,103.214 205.187,101.496 \n",
       "  205.738,99.8445 206.289,98.258 206.839,96.7368 207.39,95.2806 207.941,93.8892 208.492,92.5624 209.043,91.2997 209.594,90.1011 210.145,88.9661 210.695,87.8944 \n",
       "  211.246,86.8857 211.797,85.9396 212.348,85.0557 212.899,84.2337 213.45,83.4731 214,82.7734 214.551,82.1343 215.102,81.5554 215.653,81.036 216.204,80.5758 \n",
       "  216.755,80.1742 217.306,79.8307 217.856,79.5448 218.407,79.316 218.958,79.1436 219.509,79.0272 220.06,78.9662 220.611,78.96 221.162,79.0079 221.712,79.1094 \n",
       "  222.263,79.2639 222.814,79.4706 223.365,79.7291 223.916,80.0385 224.467,80.3983 225.017,80.8078 225.568,81.2663 226.119,81.7732 226.67,82.3276 227.221,82.929 \n",
       "  227.772,83.5765 228.323,84.2696 228.873,85.0074 229.424,85.7893 229.975,86.6144 230.526,87.482 231.077,88.3914 231.628,89.3419 232.179,90.3325 232.729,91.3627 \n",
       "  233.28,92.4315 233.831,93.5382 234.382,94.6821 234.933,95.8623 235.484,97.0781 236.034,98.3285 236.585,99.6129 237.136,100.93 237.687,102.28 238.238,103.662 \n",
       "  238.789,105.074 239.34,106.515 239.89,107.986 240.441,109.485 240.992,111.012 241.543,112.565 242.094,114.143 242.645,115.747 243.195,117.375 243.746,119.026 \n",
       "  244.297,120.699 244.848,122.394 245.399,124.109 245.95,125.845 246.501,127.599 247.051,129.372 247.602,131.162 248.153,132.969 248.704,134.791 249.255,136.628 \n",
       "  249.806,138.48 250.357,140.344 250.907,142.221 251.458,144.11 252.009,146.009 252.56,147.919 253.111,149.837 253.662,151.764 254.212,153.698 254.763,155.639 \n",
       "  255.314,157.586 255.865,159.538 256.416,161.494 256.967,163.454 257.518,165.416 258.068,167.381 258.619,169.346 259.17,171.312 259.721,173.278 260.272,175.242 \n",
       "  260.823,177.205 261.373,179.165 261.924,181.121 262.475,183.073 263.026,185.021 263.577,186.962 264.128,188.898 264.679,190.826 265.229,192.746 265.78,194.658 \n",
       "  266.331,196.561 266.882,198.454 267.433,200.336 267.984,202.207 268.535,204.066 269.085,205.912 269.636,207.745 270.187,209.564 270.738,211.368 271.289,213.158 \n",
       "  271.84,214.931 272.39,216.688 272.941,218.428 273.492,220.15 274.043,221.853 274.594,223.538 275.145,225.204 275.696,226.849 276.246,228.474 276.797,230.077 \n",
       "  277.348,231.659 277.899,233.219 278.45,234.756 279.001,236.269 279.552,237.759 280.102,239.224 280.653,240.665 281.204,242.08 281.755,243.469 282.306,244.833 \n",
       "  282.857,246.169 283.407,247.479 283.958,248.761 284.509,250.014 285.06,251.24 285.611,252.437 286.162,253.604 286.713,254.742 287.263,255.85 287.814,256.928 \n",
       "  288.365,257.975 288.916,258.991 289.467,259.976 290.018,260.929 290.568,261.85 291.119,262.739 291.67,263.596 292.221,264.419 292.772,265.209 293.323,265.967 \n",
       "  293.874,266.69 294.424,267.38 294.975,268.036 295.526,268.657 296.077,269.244 296.628,269.796 297.179,270.314 297.73,270.797 298.28,271.244 298.831,271.656 \n",
       "  299.382,272.033 299.933,272.374 300.484,272.68 301.035,272.95 301.585,273.184 302.136,273.382 302.687,273.544 303.238,273.671 303.789,273.761 304.34,273.815 \n",
       "  304.891,273.833 305.441,273.815 305.992,273.761 306.543,273.671 307.094,273.544 307.645,273.382 308.196,273.184 308.746,272.95 309.297,272.68 309.848,272.374 \n",
       "  310.399,272.033 310.95,271.656 311.501,271.244 312.052,270.797 312.602,270.314 313.153,269.796 313.704,269.244 314.255,268.657 314.806,268.036 315.357,267.38 \n",
       "  315.908,266.69 316.458,265.967 317.009,265.209 317.56,264.419 318.111,263.596 318.662,262.739 319.213,261.85 319.763,260.929 320.314,259.976 320.865,258.991 \n",
       "  321.416,257.975 321.967,256.928 322.518,255.85 323.069,254.742 323.619,253.604 324.17,252.437 324.721,251.24 325.272,250.014 325.823,248.761 326.374,247.479 \n",
       "  326.925,246.169 327.475,244.833 328.026,243.469 328.577,242.08 329.128,240.665 329.679,239.224 330.23,237.759 330.78,236.269 331.331,234.756 331.882,233.219 \n",
       "  332.433,231.659 332.984,230.077 333.535,228.474 334.086,226.849 334.636,225.204 335.187,223.538 335.738,221.853 336.289,220.15 336.84,218.428 337.391,216.688 \n",
       "  337.941,214.931 338.492,213.158 339.043,211.368 339.594,209.564 340.145,207.745 340.696,205.912 341.247,204.066 341.797,202.207 342.348,200.336 342.899,198.454 \n",
       "  343.45,196.561 344.001,194.658 344.552,192.746 345.103,190.826 345.653,188.898 346.204,186.962 346.755,185.021 347.306,183.073 347.857,181.121 348.408,179.165 \n",
       "  348.958,177.205 349.509,175.242 350.06,173.278 350.611,171.312 351.162,169.346 351.713,167.381 352.264,165.416 352.814,163.454 353.365,161.494 353.916,159.538 \n",
       "  354.467,157.586 355.018,155.639 355.569,153.698 356.119,151.764 356.67,149.837 357.221,147.919 357.772,146.009 358.323,144.11 358.874,142.221 359.425,140.344 \n",
       "  359.975,138.48 360.526,136.628 361.077,134.791 361.628,132.969 362.179,131.162 362.73,129.372 363.281,127.599 363.831,125.845 364.382,124.109 364.933,122.394 \n",
       "  365.484,120.699 366.035,119.026 366.586,117.375 367.136,115.747 367.687,114.143 368.238,112.565 368.789,111.012 369.34,109.485 369.891,107.986 370.442,106.515 \n",
       "  370.992,105.074 371.543,103.662 372.094,102.28 372.645,100.93 373.196,99.6129 373.747,98.3285 374.298,97.0781 374.848,95.8623 375.399,94.6821 375.95,93.5382 \n",
       "  376.501,92.4315 377.052,91.3627 377.603,90.3325 378.153,89.3419 378.704,88.3914 379.255,87.482 379.806,86.6144 380.357,85.7893 380.908,85.0074 381.459,84.2696 \n",
       "  382.009,83.5765 382.56,82.929 383.111,82.3276 383.662,81.7732 384.213,81.2663 384.764,80.8078 385.314,80.3983 385.865,80.0385 386.416,79.7291 386.967,79.4706 \n",
       "  387.518,79.2639 388.069,79.1094 388.62,79.0079 389.17,78.96 389.721,78.9662 390.272,79.0272 390.823,79.1436 391.374,79.316 391.925,79.5448 392.476,79.8307 \n",
       "  393.026,80.1742 393.577,80.5758 394.128,81.036 394.679,81.5554 395.23,82.1343 395.781,82.7734 396.331,83.4731 396.882,84.2337 397.433,85.0557 397.984,85.9396 \n",
       "  398.535,86.8857 399.086,87.8944 399.637,88.9661 400.187,90.1011 400.738,91.2997 401.289,92.5624 401.84,93.8892 402.391,95.2806 402.942,96.7368 403.492,98.258 \n",
       "  404.043,99.8445 404.594,101.496 405.145,103.214 405.696,104.997 406.247,106.847 406.798,108.762 407.348,110.744 407.899,112.791 408.45,114.905 409.001,117.086 \n",
       "  409.552,119.332 410.103,121.645 410.654,124.025 411.204,126.47 411.755,128.982 412.306,131.56 412.857,134.203 413.408,136.913 413.959,139.688 414.509,142.528 \n",
       "  415.06,145.434 415.611,148.404 416.162,151.439 416.713,154.538 417.264,157.701 417.815,160.928 418.365,164.217 418.916,167.57 419.467,170.984 420.018,174.461 \n",
       "  420.569,177.998 421.12,181.597 421.67,185.255 422.221,188.973 422.772,192.75 423.323,196.585 423.874,200.477 424.425,204.427 424.976,208.432 425.526,212.492 \n",
       "  426.077,216.607 426.628,220.774 427.179,224.995 427.73,229.267 428.281,233.589 428.832,237.962 429.382,242.382 429.933,246.85 430.484,251.364 431.035,255.924 \n",
       "  431.586,260.527 432.137,265.173 432.687,269.86 433.238,274.587 433.789,279.352 434.34,284.155 434.891,288.994 435.442,293.867 435.993,298.773 436.543,303.71 \n",
       "  437.094,308.676 437.645,313.67 438.196,318.691 438.747,323.735 439.298,328.803 439.849,333.891 440.399,338.998 440.95,344.122 441.501,349.261 442.052,354.413 \n",
       "  442.603,359.576 443.154,364.747 443.704,369.925 444.255,375.107 444.806,380.292 445.357,385.476 445.908,390.657 446.459,395.833 447.01,401.002 447.56,406.161 \n",
       "  448.111,411.307 448.662,416.437 449.213,421.55 449.764,426.642 450.315,431.71 450.865,436.752 451.416,441.765 451.967,446.745 452.518,451.69 453.069,456.597 \n",
       "  453.62,461.462 454.171,466.282 454.721,471.055 455.272,475.776 455.823,480.442 456.374,485.051 456.925,489.597 457.476,494.079 458.027,498.492 458.577,502.833 \n",
       "  459.128,507.097 459.679,511.281 460.23,515.382 460.781,519.394 461.332,523.315 461.882,527.14 462.433,530.865 462.984,534.486 463.535,537.998 464.086,541.397 \n",
       "  464.637,544.68 465.188,547.84 465.738,550.875 466.289,553.778 466.84,556.546 467.391,559.174 467.942,561.656 468.493,563.989 469.043,566.167 469.594,568.184 \n",
       "  470.145,570.037 470.696,571.719 471.247,573.225 471.798,574.551 472.349,575.69 472.899,576.638 473.45,577.387 474.001,577.934 474.552,578.272 475.103,578.396 \n",
       "  475.654,578.298 476.205,577.975 476.755,577.419 477.306,576.624 477.857,575.584 478.408,574.293 478.959,572.744 479.51,570.931 480.06,568.848 480.611,566.487 \n",
       "  481.162,563.843 481.713,560.907 482.264,557.674 482.815,554.136 483.366,550.287 483.916,546.118 484.467,541.624 485.018,536.795 485.569,531.626 486.12,526.109 \n",
       "  486.671,520.235 487.222,513.998 487.772,507.388 488.323,500.4 488.874,493.024 489.425,485.252 489.976,477.076 490.527,468.489 491.077,459.481 491.628,450.044 \n",
       "  492.179,440.169 492.73,429.848 493.281,419.073 493.832,407.833 494.383,396.121 494.933,383.927 495.484,371.242 496.035,358.056 496.586,344.361 497.137,330.147 \n",
       "  497.688,315.403 498.238,300.121 498.789,284.291 499.34,267.903 499.891,250.946 500.442,233.411 500.993,215.287 501.544,196.564 502.094,177.232 502.645,157.279 \n",
       "  503.196,136.696 503.747,115.471 504.298,93.5943 504.849,71.0536 505.4,47.8383 505.95,23.9371 506.501,-0.661355 507.052,-25.9686 507.603,-51.9962 508.154,-78.7559 \n",
       "  508.705,-106.259 509.255,-134.519 509.806,-163.547 510.357,-193.354 510.908,-223.955 511.459,-255.36 512.01,-287.583 512.561,-320.636 513.111,-354.532 513.662,-389.284 \n",
       "  514.213,-424.906 514.764,-461.409 515.315,-498.809 515.866,-537.117 516.416,-576.348 516.967,-616.516 517.518,-657.634 518.069,-699.716 518.62,-742.776 519.171,-786.829 \n",
       "  519.722,-831.889 520.272,-877.971 520.823,-925.088 521.374,-973.257 521.925,-1022.49 522.476,-1072.81 523.027,-1124.22 523.578,-1176.74 524.128,-1230.39 524.679,-1285.18 \n",
       "  525.23,-1341.13 525.781,-1398.26 526.332,-1456.57 526.883,-1516.1 527.433,-1576.84 527.984,-1638.82 528.535,-1702.06 529.086,-1766.57 529.637,-1832.38 530.188,-1899.48 \n",
       "  530.739,-1967.92 531.289,-2037.69 531.84,-2108.82 532.391,-2181.33 532.942,-2255.23 533.493,-2330.54 534.044,-2407.29 534.595,-2485.48 535.145,-2565.14 535.696,-2646.29 \n",
       "  536.247,-2728.94 536.798,-2813.11 537.349,-2898.82 537.9,-2986.1 538.45,-3074.96 539.001,-3165.42 539.552,-3257.49 540.103,-3351.21 540.654,-3446.59 541.205,-3543.65 \n",
       "  541.756,-3642.4 542.306,-3742.88 542.857,-3845.11 543.408,-3949.09 543.959,-4054.86 544.51,-4162.43 545.061,-4271.83 545.611,-4383.07 546.162,-4496.19 546.713,-4611.2 \n",
       "  547.264,-4728.12 547.815,-4846.97 548.366,-4967.79 548.917,-5090.58 549.467,-5215.38 550.018,-5342.2 550.569,-5471.07 551.12,-5602.02 551.671,-5735.06 552.222,-5870.22 \n",
       "  552.773,-6007.53 553.323,-6147 553.874,-6288.67 554.425,-6432.55 554.976,-6578.67 555.527,-6727.06 556.078,-6877.74 556.628,-7030.73 557.179,-7186.07 557.73,-7343.77 \n",
       "  558.281,-7503.86 558.832,-7666.37 559.383,-7831.33 559.934,-7998.75 560.484,-8168.68 561.035,-8341.12 561.586,-8516.12 562.137,-8693.69 562.688,-8873.87 563.239,-9056.69 \n",
       "  563.789,-9242.16 564.34,-9430.32 564.891,-9621.19 565.442,-9814.81 565.993,-10011.2 566.544,-10210.4 567.095,-10412.4 567.645,-10617.3 568.196,-10825.1 568.747,-11035.8 \n",
       "  569.298,-11249.4 569.849,-11466 570.4,-11685.6 570.951,-11908.3 571.501,-12134 572.052,-12362.8 572.603,-12594.8 573.154,-12829.9 573.705,-13068.2 574.256,-13309.8 \n",
       "  574.806,-13554.6 575.357,-13802.6 575.908,-14054 576.459,-14308.8 577.01,-14566.9 577.561,-14828.5 578.112,-15093.5 578.662,-15362 579.213,-15634 579.764,-15909.6 \n",
       "  580.315,-16188.8 \n",
       "  \"/>\n",
       "<polyline clip-path=\"url(#clip6502)\" style=\"stroke:#000000; stroke-width:1; stroke-opacity:1; fill:none\" points=\"\n",
       "  29.4661,193.84 580.315,193.84 \n",
       "  \"/>\n",
       "<polyline clip-path=\"url(#clip6502)\" style=\"stroke:#000000; stroke-width:1; stroke-opacity:1; fill:none\" points=\"\n",
       "  29.4661,193.84 580.315,193.84 \n",
       "  \"/>\n",
       "<polyline clip-path=\"url(#clip6502)\" style=\"stroke:#000000; stroke-width:1; stroke-opacity:1; fill:none\" points=\"\n",
       "  29.4661,375.869 29.4661,11.811 \n",
       "  \"/>\n",
       "<polyline clip-path=\"url(#clip6502)\" style=\"stroke:#000000; stroke-width:1; stroke-opacity:1; fill:none\" points=\"\n",
       "  29.4661,375.869 29.4661,11.811 \n",
       "  \"/>\n",
       "<polygon clip-path=\"url(#clip6500)\" points=\"\n",
       "489.608,62.931 562.315,62.931 562.315,32.691 489.608,32.691 \n",
       "  \" fill=\"#ffffff\" fill-opacity=\"1\"/>\n",
       "<polyline clip-path=\"url(#clip6500)\" style=\"stroke:#000000; stroke-width:1; stroke-opacity:1; fill:none\" points=\"\n",
       "  489.608,62.931 562.315,62.931 562.315,32.691 489.608,32.691 489.608,62.931 \n",
       "  \"/>\n",
       "<polyline clip-path=\"url(#clip6500)\" style=\"stroke:#009af9; stroke-width:1; stroke-opacity:1; fill:none\" points=\"\n",
       "  495.608,47.811 531.608,47.811 \n",
       "  \"/>\n",
       "<g clip-path=\"url(#clip6500)\">\n",
       "<text style=\"fill:#000000; fill-opacity:1; font-family:Arial,Helvetica Neue,Helvetica,sans-serif; font-size:12; text-anchor:start;\" transform=\"rotate(0, 537.608, 52.311)\" x=\"537.608\" y=\"52.311\">y1</text>\n",
       "</g>\n",
       "</svg>\n"
      ]
     },
     "execution_count": 96,
     "metadata": {},
     "output_type": "execute_result"
    }
   ],
   "source": [
    "n = 6\n",
    "x = linspace(0.0, n + 1 , 1001)\n",
    "\n",
    "plot(x, wilkinson.(x, n))\n",
    "plot!(ylims=(-8, 8))\n",
    "hline!([0,0], color = :black, label = \"\")\n",
    "vline!([0,0], color = :black, label = \"\")"
   ]
  },
  {
   "cell_type": "code",
   "execution_count": 128,
   "metadata": {},
   "outputs": [
    {
     "name": "stdout",
     "output_type": "stream",
     "text": [
      "X1 = Intervalos.Intervalo[Intervalos.Intervalo(3.00002, 6.0), Intervalos.Intervalo(0.0, 3.00451)]\n",
      "(uniqueRoot(X1[i], X0), X1[i], X0) = (-1, Intervalos.Intervalo(3.00001684505819, 6.0), Intervalos.Intervalo(0.0, 6.0))\n",
      "Xbis = Intervalos.Intervalo[Intervalos.Intervalo(3.00002, 4.50148), Intervalos.Intervalo(4.50148, 6.0)]\n",
      "(\" Antes \", X1) = (\" Antes \", Intervalos.Intervalo[Intervalos.Intervalo(0.0, 3.00451)])\n",
      "(\" Después \", X1) = (\" Después \", Intervalos.Intervalo[Intervalos.Intervalo(0.0, 3.00451), Intervalos.Intervalo(3.00002, 4.50148), Intervalos.Intervalo(4.50148, 6.0)])\n",
      "(uniqueRoot(X1[i], X0), X1[i], X0) = (-1, Intervalos.Intervalo(0.0, 3.0045141981611065), Intervalos.Intervalo(0.0, 6.0))\n",
      "Xbis = Intervalos.Intervalo[Intervalos.Intervalo(0.0, 1.50244), Intervalos.Intervalo(1.50244, 3.00451)]\n",
      "(\" Antes \", X1) = (\" Antes \", Intervalos.Intervalo[Intervalos.Intervalo(3.00002, 4.50148), Intervalos.Intervalo(4.50148, 6.0)])\n",
      "(\" Después \", X1) = (\" Después \", Intervalos.Intervalo[Intervalos.Intervalo(3.00002, 4.50148), Intervalos.Intervalo(4.50148, 6.0), Intervalos.Intervalo(0.0, 1.50244), Intervalos.Intervalo(1.50244, 3.00451)])\n",
      "(uniqueRoot(X1[i], X0), X1[i], X0) = (1, Intervalos.Intervalo(3.00001684505819, 4.501481529219582), Intervalos.Intervalo(0.0, 6.0))\n",
      "(uniqueRoot(X1[i], X0), X1[i], X0) = (-1, Intervalos.Intervalo(4.501481529219582, 6.0), Intervalos.Intervalo(0.0, 6.0))\n",
      "Xbis = Intervalos.Intervalo[Intervalos.Intervalo(4.50148, 5.25082), Intervalos.Intervalo(5.25082, 6.0)]\n",
      "(\" Antes \", X1) = (\" Antes \", Intervalos.Intervalo[Intervalos.Intervalo(3.00002, 4.50148), Intervalos.Intervalo(0.0, 1.50244), Intervalos.Intervalo(1.50244, 3.00451)])\n",
      "(\" Después \", X1) = (\" Después \", Intervalos.Intervalo[Intervalos.Intervalo(3.00002, 4.50148), Intervalos.Intervalo(0.0, 1.50244), Intervalos.Intervalo(1.50244, 3.00451), Intervalos.Intervalo(4.50148, 5.25082), Intervalos.Intervalo(5.25082, 6.0)])\n",
      "(uniqueRoot(X1[i], X0), X1[i], X0) = (-1, Intervalos.Intervalo(0.0, 1.5024423545210268), Intervalos.Intervalo(0.0, 6.0))\n",
      "Xbis = Intervalos.Intervalo[Intervalos.Intervalo(0.0, 0.752677), Intervalos.Intervalo(0.752677, 1.50244)]\n",
      "(\" Antes \", X1) = (\" Antes \", Intervalos.Intervalo[Intervalos.Intervalo(3.00002, 4.50148), Intervalos.Intervalo(1.50244, 3.00451), Intervalos.Intervalo(4.50148, 5.25082), Intervalos.Intervalo(5.25082, 6.0)])\n",
      "(\" Después \", X1) = (\" Después \", Intervalos.Intervalo[Intervalos.Intervalo(3.00002, 4.50148), Intervalos.Intervalo(1.50244, 3.00451), Intervalos.Intervalo(4.50148, 5.25082), Intervalos.Intervalo(5.25082, 6.0), Intervalos.Intervalo(0.0, 0.752677), Intervalos.Intervalo(0.752677, 1.50244)])\n",
      "(uniqueRoot(X1[i], X0), X1[i], X0) = (1, Intervalos.Intervalo(1.5024423545210268, 3.0045141981611065), Intervalos.Intervalo(0.0, 6.0))\n",
      "(uniqueRoot(X1[i], X0), X1[i], X0) = (1, Intervalos.Intervalo(4.501481529219582, 5.250823800597226), Intervalos.Intervalo(0.0, 6.0))\n",
      "(uniqueRoot(X1[i], X0), X1[i], X0) = (-1, Intervalos.Intervalo(5.250823800597226, 6.0), Intervalos.Intervalo(0.0, 6.0))\n",
      "Xbis = Intervalos.Intervalo[Intervalos.Intervalo(5.25082, 5.62608), Intervalos.Intervalo(5.62608, 6.0)]\n",
      "(\" Antes \", X1) = (\" Antes \", Intervalos.Intervalo[Intervalos.Intervalo(3.00002, 4.50148), Intervalos.Intervalo(1.50244, 3.00451), Intervalos.Intervalo(4.50148, 5.25082), Intervalos.Intervalo(0.0, 0.752677), Intervalos.Intervalo(0.752677, 1.50244)])\n",
      "(\" Después \", X1) = (\" Después \", Intervalos.Intervalo[Intervalos.Intervalo(3.00002, 4.50148), Intervalos.Intervalo(1.50244, 3.00451), Intervalos.Intervalo(4.50148, 5.25082), Intervalos.Intervalo(0.0, 0.752677), Intervalos.Intervalo(0.752677, 1.50244), Intervalos.Intervalo(5.25082, 5.62608), Intervalos.Intervalo(5.62608, 6.0)])\n",
      "(uniqueRoot(X1[i], X0), X1[i], X0) = (-1, Intervalos.Intervalo(0.0, 0.7526774186054817), Intervalos.Intervalo(0.0, 6.0))\n",
      "Xbis = Intervalos.Intervalo[Intervalos.Intervalo(0.0, 0.376723), Intervalos.Intervalo(0.376723, 0.752677)]\n",
      "(\" Antes \", X1) = (\" Antes \", Intervalos.Intervalo[Intervalos.Intervalo(3.00002, 4.50148), Intervalos.Intervalo(1.50244, 3.00451), Intervalos.Intervalo(4.50148, 5.25082), Intervalos.Intervalo(0.752677, 1.50244), Intervalos.Intervalo(5.25082, 5.62608), Intervalos.Intervalo(5.62608, 6.0)])\n",
      "(\" Después \", X1) = (\" Después \", Intervalos.Intervalo[Intervalos.Intervalo(3.00002, 4.50148), Intervalos.Intervalo(1.50244, 3.00451), Intervalos.Intervalo(4.50148, 5.25082), Intervalos.Intervalo(0.752677, 1.50244), Intervalos.Intervalo(5.25082, 5.62608), Intervalos.Intervalo(5.62608, 6.0), Intervalos.Intervalo(0.0, 0.376723), Intervalos.Intervalo(0.376723, 0.752677)])\n",
      "(uniqueRoot(X1[i], X0), X1[i], X0) = (1, Intervalos.Intervalo(0.7526774186054817, 1.5024423545210268), Intervalos.Intervalo(0.0, 6.0))\n",
      "(uniqueRoot(X1[i], X0), X1[i], X0) = (1, Intervalos.Intervalo(5.250823800597226, 5.62608442493777), Intervalos.Intervalo(0.0, 6.0))\n",
      "(uniqueRoot(X1[i], X0), X1[i], X0) = (-1, Intervalos.Intervalo(5.62608442493777, 6.0), Intervalos.Intervalo(0.0, 6.0))\n",
      "Xbis = Intervalos.Intervalo[Intervalos.Intervalo(5.62608, 5.8134), Intervalos.Intervalo(5.8134, 6.0)]\n",
      "(\" Antes \", X1) = (\" Antes \", Intervalos.Intervalo[Intervalos.Intervalo(3.00002, 4.50148), Intervalos.Intervalo(1.50244, 3.00451), Intervalos.Intervalo(4.50148, 5.25082), Intervalos.Intervalo(0.752677, 1.50244), Intervalos.Intervalo(5.25082, 5.62608), Intervalos.Intervalo(0.0, 0.376723), Intervalos.Intervalo(0.376723, 0.752677)])\n",
      "(\" Después \", X1) = (\" Después \", Intervalos.Intervalo[Intervalos.Intervalo(3.00002, 4.50148), Intervalos.Intervalo(1.50244, 3.00451), Intervalos.Intervalo(4.50148, 5.25082), Intervalos.Intervalo(0.752677, 1.50244), Intervalos.Intervalo(5.25082, 5.62608), Intervalos.Intervalo(0.0, 0.376723), Intervalos.Intervalo(0.376723, 0.752677), Intervalos.Intervalo(5.62608, 5.8134), Intervalos.Intervalo(5.8134, 6.0)])\n",
      "(uniqueRoot(X1[i], X0), X1[i], X0) = (-1, Intervalos.Intervalo(0.0, 0.3767226199616608), Intervalos.Intervalo(0.0, 6.0))\n",
      "Xbis = Intervalos.Intervalo[Intervalos.Intervalo(0.0, 0.188552), Intervalos.Intervalo(0.188552, 0.376723)]\n",
      "(\" Antes \", X1) = (\" Antes \", Intervalos.Intervalo[Intervalos.Intervalo(3.00002, 4.50148), Intervalos.Intervalo(1.50244, 3.00451), Intervalos.Intervalo(4.50148, 5.25082), Intervalos.Intervalo(0.752677, 1.50244), Intervalos.Intervalo(5.25082, 5.62608), Intervalos.Intervalo(0.376723, 0.752677), Intervalos.Intervalo(5.62608, 5.8134), Intervalos.Intervalo(5.8134, 6.0)])\n",
      "(\" Después \", X1) = (\" Después \", Intervalos.Intervalo[Intervalos.Intervalo(3.00002, 4.50148), Intervalos.Intervalo(1.50244, 3.00451), Intervalos.Intervalo(4.50148, 5.25082), Intervalos.Intervalo(0.752677, 1.50244), Intervalos.Intervalo(5.25082, 5.62608), Intervalos.Intervalo(0.376723, 0.752677), Intervalos.Intervalo(5.62608, 5.8134), Intervalos.Intervalo(5.8134, 6.0), Intervalos.Intervalo(0.0, 0.188552), Intervalos.Intervalo(0.188552, 0.376723)])\n",
      "(uniqueRoot(X1[i], X0), X1[i], X0) = (1, Intervalos.Intervalo(0.3767226199616608, 0.7526774186054817), Intervalos.Intervalo(0.0, 6.0))\n",
      "(uniqueRoot(X1[i], X0), X1[i], X0) = (1, Intervalos.Intervalo(5.62608442493777, 5.813397136373125), Intervalos.Intervalo(0.0, 6.0))\n",
      "(uniqueRoot(X1[i], X0), X1[i], X0) = (-1, Intervalos.Intervalo(5.813397136373125, 6.0), Intervalos.Intervalo(0.0, 6.0))\n",
      "Xbis = Intervalos.Intervalo[Intervalos.Intervalo(5.8134, 5.90676), Intervalos.Intervalo(5.90676, 6.0)]\n",
      "(\" Antes \", X1) = (\" Antes \", Intervalos.Intervalo[Intervalos.Intervalo(3.00002, 4.50148), Intervalos.Intervalo(1.50244, 3.00451), Intervalos.Intervalo(4.50148, 5.25082), Intervalos.Intervalo(0.752677, 1.50244), Intervalos.Intervalo(5.25082, 5.62608), Intervalos.Intervalo(0.376723, 0.752677), Intervalos.Intervalo(5.62608, 5.8134), Intervalos.Intervalo(0.0, 0.188552), Intervalos.Intervalo(0.188552, 0.376723)])\n",
      "(\" Después \", X1) = (\" Después \", Intervalos.Intervalo[Intervalos.Intervalo(3.00002, 4.50148), Intervalos.Intervalo(1.50244, 3.00451), Intervalos.Intervalo(4.50148, 5.25082), Intervalos.Intervalo(0.752677, 1.50244), Intervalos.Intervalo(5.25082, 5.62608), Intervalos.Intervalo(0.376723, 0.752677), Intervalos.Intervalo(5.62608, 5.8134), Intervalos.Intervalo(0.0, 0.188552), Intervalos.Intervalo(0.188552, 0.376723), Intervalos.Intervalo(5.8134, 5.90676), Intervalos.Intervalo(5.90676, 6.0)])\n",
      "(uniqueRoot(X1[i], X0), X1[i], X0) = (-1, Intervalos.Intervalo(0.0, 0.1885517714645055), Intervalos.Intervalo(0.0, 6.0))\n",
      "Xbis = Intervalos.Intervalo[Intervalos.Intervalo(0.0, 0.0944598), Intervalos.Intervalo(0.0944598, 0.188552)]\n",
      "(\" Antes \", X1) = (\" Antes \", Intervalos.Intervalo[Intervalos.Intervalo(3.00002, 4.50148), Intervalos.Intervalo(1.50244, 3.00451), Intervalos.Intervalo(4.50148, 5.25082), Intervalos.Intervalo(0.752677, 1.50244), Intervalos.Intervalo(5.25082, 5.62608), Intervalos.Intervalo(0.376723, 0.752677), Intervalos.Intervalo(5.62608, 5.8134), Intervalos.Intervalo(0.188552, 0.376723), Intervalos.Intervalo(5.8134, 5.90676), Intervalos.Intervalo(5.90676, 6.0)])\n",
      "(\" Después \", X1) = (\" Después \", Intervalos.Intervalo[Intervalos.Intervalo(3.00002, 4.50148), Intervalos.Intervalo(1.50244, 3.00451), Intervalos.Intervalo(4.50148, 5.25082), Intervalos.Intervalo(0.752677, 1.50244), Intervalos.Intervalo(5.25082, 5.62608), Intervalos.Intervalo(0.376723, 0.752677), Intervalos.Intervalo(5.62608, 5.8134), Intervalos.Intervalo(0.188552, 0.376723), Intervalos.Intervalo(5.8134, 5.90676), Intervalos.Intervalo(5.90676, 6.0), Intervalos.Intervalo(0.0, 0.0944598), Intervalos.Intervalo(0.0944598, 0.188552)])\n",
      "(uniqueRoot(X1[i], X0), X1[i], X0) = (1, Intervalos.Intervalo(0.1885517714645055, 0.3767226199616608), Intervalos.Intervalo(0.0, 6.0))\n",
      "(uniqueRoot(X1[i], X0), X1[i], X0) = (1, Intervalos.Intervalo(5.813397136373125, 5.906759829210541), Intervalos.Intervalo(0.0, 6.0))\n",
      "(uniqueRoot(X1[i], X0), X1[i], X0) = (-1, Intervalos.Intervalo(5.906759829210541, 6.0), Intervalos.Intervalo(0.0, 6.0))\n",
      "Xbis = Intervalos.Intervalo[Intervalos.Intervalo(5.90676, 5.95343), Intervalos.Intervalo(5.95343, 6.0)]\n"
     ]
    },
    {
     "name": "stdout",
     "output_type": "stream",
     "text": [
      "(\" Antes \", X1) = (\" Antes \", Intervalos.Intervalo[Intervalos.Intervalo(3.00002, 4.50148), Intervalos.Intervalo(1.50244, 3.00451), Intervalos.Intervalo(4.50148, 5.25082), Intervalos.Intervalo(0.752677, 1.50244), Intervalos.Intervalo(5.25082, 5.62608), Intervalos.Intervalo(0.376723, 0.752677), Intervalos.Intervalo(5.62608, 5.8134), Intervalos.Intervalo(0.188552, 0.376723), Intervalos.Intervalo(5.8134, 5.90676), Intervalos.Intervalo(0.0, 0.0944598), Intervalos.Intervalo(0.0944598, 0.188552)])\n",
      "(\" Después \", X1) = (\" Después \", Intervalos.Intervalo[Intervalos.Intervalo(3.00002, 4.50148), Intervalos.Intervalo(1.50244, 3.00451), Intervalos.Intervalo(4.50148, 5.25082), Intervalos.Intervalo(0.752677, 1.50244), Intervalos.Intervalo(5.25082, 5.62608), Intervalos.Intervalo(0.376723, 0.752677), Intervalos.Intervalo(5.62608, 5.8134), Intervalos.Intervalo(0.188552, 0.376723), Intervalos.Intervalo(5.8134, 5.90676), Intervalos.Intervalo(0.0, 0.0944598), Intervalos.Intervalo(0.0944598, 0.188552), Intervalos.Intervalo(5.90676, 5.95343), Intervalos.Intervalo(5.95343, 6.0)])\n",
      "(uniqueRoot(X1[i], X0), X1[i], X0) = (-1, Intervalos.Intervalo(0.0, 0.09445982331426268), Intervalos.Intervalo(0.0, 6.0))\n",
      "Xbis = Intervalos.Intervalo[Intervalos.Intervalo(0.0, 0.047286), Intervalos.Intervalo(0.047286, 0.0944598)]\n",
      "(\" Antes \", X1) = (\" Antes \", Intervalos.Intervalo[Intervalos.Intervalo(3.00002, 4.50148), Intervalos.Intervalo(1.50244, 3.00451), Intervalos.Intervalo(4.50148, 5.25082), Intervalos.Intervalo(0.752677, 1.50244), Intervalos.Intervalo(5.25082, 5.62608), Intervalos.Intervalo(0.376723, 0.752677), Intervalos.Intervalo(5.62608, 5.8134), Intervalos.Intervalo(0.188552, 0.376723), Intervalos.Intervalo(5.8134, 5.90676), Intervalos.Intervalo(0.0944598, 0.188552), Intervalos.Intervalo(5.90676, 5.95343), Intervalos.Intervalo(5.95343, 6.0)])\n",
      "(\" Después \", X1) = (\" Después \", Intervalos.Intervalo[Intervalos.Intervalo(3.00002, 4.50148), Intervalos.Intervalo(1.50244, 3.00451), Intervalos.Intervalo(4.50148, 5.25082), Intervalos.Intervalo(0.752677, 1.50244), Intervalos.Intervalo(5.25082, 5.62608), Intervalos.Intervalo(0.376723, 0.752677), Intervalos.Intervalo(5.62608, 5.8134), Intervalos.Intervalo(0.188552, 0.376723), Intervalos.Intervalo(5.8134, 5.90676), Intervalos.Intervalo(0.0944598, 0.188552), Intervalos.Intervalo(5.90676, 5.95343), Intervalos.Intervalo(5.95343, 6.0), Intervalos.Intervalo(0.0, 0.047286), Intervalos.Intervalo(0.047286, 0.0944598)])\n",
      "(uniqueRoot(X1[i], X0), X1[i], X0) = (1, Intervalos.Intervalo(0.09445982331426268, 0.1885517714645055), Intervalos.Intervalo(0.0, 6.0))\n",
      "(uniqueRoot(X1[i], X0), X1[i], X0) = (1, Intervalos.Intervalo(5.906759829210541, 5.953427306527404), Intervalos.Intervalo(0.0, 6.0))\n",
      "(uniqueRoot(X1[i], X0), X1[i], X0) = (-1, Intervalos.Intervalo(5.953427306527404, 6.0), Intervalos.Intervalo(0.0, 6.0))\n",
      "Xbis = Intervalos.Intervalo[Intervalos.Intervalo(5.95343, 5.97673), Intervalos.Intervalo(5.97673, 6.0)]\n",
      "(\" Antes \", X1) = (\" Antes \", Intervalos.Intervalo[Intervalos.Intervalo(3.00002, 4.50148), Intervalos.Intervalo(1.50244, 3.00451), Intervalos.Intervalo(4.50148, 5.25082), Intervalos.Intervalo(0.752677, 1.50244), Intervalos.Intervalo(5.25082, 5.62608), Intervalos.Intervalo(0.376723, 0.752677), Intervalos.Intervalo(5.62608, 5.8134), Intervalos.Intervalo(0.188552, 0.376723), Intervalos.Intervalo(5.8134, 5.90676), Intervalos.Intervalo(0.0944598, 0.188552), Intervalos.Intervalo(5.90676, 5.95343), Intervalos.Intervalo(0.0, 0.047286), Intervalos.Intervalo(0.047286, 0.0944598)])\n",
      "(\" Después \", X1) = (\" Después \", Intervalos.Intervalo[Intervalos.Intervalo(3.00002, 4.50148), Intervalos.Intervalo(1.50244, 3.00451), Intervalos.Intervalo(4.50148, 5.25082), Intervalos.Intervalo(0.752677, 1.50244), Intervalos.Intervalo(5.25082, 5.62608), Intervalos.Intervalo(0.376723, 0.752677), Intervalos.Intervalo(5.62608, 5.8134), Intervalos.Intervalo(0.188552, 0.376723), Intervalos.Intervalo(5.8134, 5.90676), Intervalos.Intervalo(0.0944598, 0.188552), Intervalos.Intervalo(5.90676, 5.95343), Intervalos.Intervalo(0.0, 0.047286), Intervalos.Intervalo(0.047286, 0.0944598), Intervalos.Intervalo(5.95343, 5.97673), Intervalos.Intervalo(5.97673, 6.0)])\n",
      "(uniqueRoot(X1[i], X0), X1[i], X0) = (-1, Intervalos.Intervalo(0.0, 0.04728602597826884), Intervalos.Intervalo(0.0, 6.0))\n",
      "Xbis = Intervalos.Intervalo[Intervalos.Intervalo(0.0, 0.0236567), Intervalos.Intervalo(0.0236567, 0.047286)]\n",
      "(\" Antes \", X1) = (\" Antes \", Intervalos.Intervalo[Intervalos.Intervalo(3.00002, 4.50148), Intervalos.Intervalo(1.50244, 3.00451), Intervalos.Intervalo(4.50148, 5.25082), Intervalos.Intervalo(0.752677, 1.50244), Intervalos.Intervalo(5.25082, 5.62608), Intervalos.Intervalo(0.376723, 0.752677), Intervalos.Intervalo(5.62608, 5.8134), Intervalos.Intervalo(0.188552, 0.376723), Intervalos.Intervalo(5.8134, 5.90676), Intervalos.Intervalo(0.0944598, 0.188552), Intervalos.Intervalo(5.90676, 5.95343), Intervalos.Intervalo(0.047286, 0.0944598), Intervalos.Intervalo(5.95343, 5.97673), Intervalos.Intervalo(5.97673, 6.0)])\n",
      "(\" Después \", X1) = (\" Después \", Intervalos.Intervalo[Intervalos.Intervalo(3.00002, 4.50148), Intervalos.Intervalo(1.50244, 3.00451), Intervalos.Intervalo(4.50148, 5.25082), Intervalos.Intervalo(0.752677, 1.50244), Intervalos.Intervalo(5.25082, 5.62608), Intervalos.Intervalo(0.376723, 0.752677), Intervalos.Intervalo(5.62608, 5.8134), Intervalos.Intervalo(0.188552, 0.376723), Intervalos.Intervalo(5.8134, 5.90676), Intervalos.Intervalo(0.0944598, 0.188552), Intervalos.Intervalo(5.90676, 5.95343), Intervalos.Intervalo(0.047286, 0.0944598), Intervalos.Intervalo(5.95343, 5.97673), Intervalos.Intervalo(5.97673, 6.0), Intervalos.Intervalo(0.0, 0.0236567), Intervalos.Intervalo(0.0236567, 0.047286)])\n",
      "(uniqueRoot(X1[i], X0), X1[i], X0) = (1, Intervalos.Intervalo(0.04728602597826884, 0.09445982331426268), Intervalos.Intervalo(0.0, 6.0))\n",
      "(uniqueRoot(X1[i], X0), X1[i], X0) = (1, Intervalos.Intervalo(5.953427306527404, 5.976731176960562), Intervalos.Intervalo(0.0, 6.0))\n",
      "(uniqueRoot(X1[i], X0), X1[i], X0) = (-1, Intervalos.Intervalo(5.976731176960562, 6.0), Intervalos.Intervalo(0.0, 6.0))\n",
      "Xbis = Intervalos.Intervalo[Intervalos.Intervalo(5.97673, 5.98838), Intervalos.Intervalo(5.98838, 6.0)]\n",
      "(\" Antes \", X1) = (\" Antes \", Intervalos.Intervalo[Intervalos.Intervalo(3.00002, 4.50148), Intervalos.Intervalo(1.50244, 3.00451), Intervalos.Intervalo(4.50148, 5.25082), Intervalos.Intervalo(0.752677, 1.50244), Intervalos.Intervalo(5.25082, 5.62608), Intervalos.Intervalo(0.376723, 0.752677), Intervalos.Intervalo(5.62608, 5.8134), Intervalos.Intervalo(0.188552, 0.376723), Intervalos.Intervalo(5.8134, 5.90676), Intervalos.Intervalo(0.0944598, 0.188552), Intervalos.Intervalo(5.90676, 5.95343), Intervalos.Intervalo(0.047286, 0.0944598), Intervalos.Intervalo(5.95343, 5.97673), Intervalos.Intervalo(0.0, 0.0236567), Intervalos.Intervalo(0.0236567, 0.047286)])\n",
      "(\" Después \", X1) = (\" Después \", Intervalos.Intervalo[Intervalos.Intervalo(3.00002, 4.50148), Intervalos.Intervalo(1.50244, 3.00451), Intervalos.Intervalo(4.50148, 5.25082), Intervalos.Intervalo(0.752677, 1.50244), Intervalos.Intervalo(5.25082, 5.62608), Intervalos.Intervalo(0.376723, 0.752677), Intervalos.Intervalo(5.62608, 5.8134), Intervalos.Intervalo(0.188552, 0.376723), Intervalos.Intervalo(5.8134, 5.90676), Intervalos.Intervalo(0.0944598, 0.188552), Intervalos.Intervalo(5.90676, 5.95343), Intervalos.Intervalo(0.047286, 0.0944598), Intervalos.Intervalo(5.95343, 5.97673), Intervalos.Intervalo(0.0, 0.0236567), Intervalos.Intervalo(0.0236567, 0.047286), Intervalos.Intervalo(5.97673, 5.98838), Intervalos.Intervalo(5.98838, 6.0)])\n",
      "(uniqueRoot(X1[i], X0), X1[i], X0) = (-1, Intervalos.Intervalo(0.0, 0.023656688752593337), Intervalos.Intervalo(0.0, 6.0))\n",
      "Xbis = Intervalos.Intervalo[Intervalos.Intervalo(0.0, 0.0118434), Intervalos.Intervalo(0.0118434, 0.0236567)]\n",
      "(\" Antes \", X1) = (\" Antes \", Intervalos.Intervalo[Intervalos.Intervalo(3.00002, 4.50148), Intervalos.Intervalo(1.50244, 3.00451), Intervalos.Intervalo(4.50148, 5.25082), Intervalos.Intervalo(0.752677, 1.50244), Intervalos.Intervalo(5.25082, 5.62608), Intervalos.Intervalo(0.376723, 0.752677), Intervalos.Intervalo(5.62608, 5.8134), Intervalos.Intervalo(0.188552, 0.376723), Intervalos.Intervalo(5.8134, 5.90676), Intervalos.Intervalo(0.0944598, 0.188552), Intervalos.Intervalo(5.90676, 5.95343), Intervalos.Intervalo(0.047286, 0.0944598), Intervalos.Intervalo(5.95343, 5.97673), Intervalos.Intervalo(0.0236567, 0.047286), Intervalos.Intervalo(5.97673, 5.98838), Intervalos.Intervalo(5.98838, 6.0)])\n",
      "(\" Después \", X1) = (\" Después \", Intervalos.Intervalo[Intervalos.Intervalo(3.00002, 4.50148), Intervalos.Intervalo(1.50244, 3.00451), Intervalos.Intervalo(4.50148, 5.25082), Intervalos.Intervalo(0.752677, 1.50244), Intervalos.Intervalo(5.25082, 5.62608), Intervalos.Intervalo(0.376723, 0.752677), Intervalos.Intervalo(5.62608, 5.8134), Intervalos.Intervalo(0.188552, 0.376723), Intervalos.Intervalo(5.8134, 5.90676), Intervalos.Intervalo(0.0944598, 0.188552), Intervalos.Intervalo(5.90676, 5.95343), Intervalos.Intervalo(0.047286, 0.0944598), Intervalos.Intervalo(5.95343, 5.97673), Intervalos.Intervalo(0.0236567, 0.047286), Intervalos.Intervalo(5.97673, 5.98838), Intervalos.Intervalo(5.98838, 6.0), Intervalos.Intervalo(0.0, 0.0118434), Intervalos.Intervalo(0.0118434, 0.0236567)])\n",
      "(uniqueRoot(X1[i], X0), X1[i], X0) = (1, Intervalos.Intervalo(0.023656688752593337, 0.04728602597826884), Intervalos.Intervalo(0.0, 6.0))\n",
      "(uniqueRoot(X1[i], X0), X1[i], X0) = (1, Intervalos.Intervalo(5.976731176960562, 5.988379458411442), Intervalos.Intervalo(0.0, 6.0))\n",
      "(uniqueRoot(X1[i], X0), X1[i], X0) = (-1, Intervalos.Intervalo(5.988379458411442, 6.0), Intervalos.Intervalo(0.0, 6.0))\n",
      "Xbis = Intervalos.Intervalo[Intervalos.Intervalo(5.98838, 5.99419), Intervalos.Intervalo(5.99419, 6.0)]\n",
      "(\" Antes \", X1) = (\" Antes \", Intervalos.Intervalo[Intervalos.Intervalo(3.00002, 4.50148), Intervalos.Intervalo(1.50244, 3.00451), Intervalos.Intervalo(4.50148, 5.25082), Intervalos.Intervalo(0.752677, 1.50244), Intervalos.Intervalo(5.25082, 5.62608), Intervalos.Intervalo(0.376723, 0.752677), Intervalos.Intervalo(5.62608, 5.8134), Intervalos.Intervalo(0.188552, 0.376723), Intervalos.Intervalo(5.8134, 5.90676), Intervalos.Intervalo(0.0944598, 0.188552), Intervalos.Intervalo(5.90676, 5.95343), Intervalos.Intervalo(0.047286, 0.0944598), Intervalos.Intervalo(5.95343, 5.97673), Intervalos.Intervalo(0.0236567, 0.047286), Intervalos.Intervalo(5.97673, 5.98838), Intervalos.Intervalo(0.0, 0.0118434), Intervalos.Intervalo(0.0118434, 0.0236567)])\n",
      "(\" Después \", X1) = (\" Después \", Intervalos.Intervalo[Intervalos.Intervalo(3.00002, 4.50148), Intervalos.Intervalo(1.50244, 3.00451), Intervalos.Intervalo(4.50148, 5.25082), Intervalos.Intervalo(0.752677, 1.50244), Intervalos.Intervalo(5.25082, 5.62608), Intervalos.Intervalo(0.376723, 0.752677), Intervalos.Intervalo(5.62608, 5.8134), Intervalos.Intervalo(0.188552, 0.376723), Intervalos.Intervalo(5.8134, 5.90676), Intervalos.Intervalo(0.0944598, 0.188552), Intervalos.Intervalo(5.90676, 5.95343), Intervalos.Intervalo(0.047286, 0.0944598), Intervalos.Intervalo(5.95343, 5.97673), Intervalos.Intervalo(0.0236567, 0.047286), Intervalos.Intervalo(5.97673, 5.98838), Intervalos.Intervalo(0.0, 0.0118434), Intervalos.Intervalo(0.0118434, 0.0236567), Intervalos.Intervalo(5.98838, 5.99419), Intervalos.Intervalo(5.99419, 6.0)])\n"
     ]
    },
    {
     "name": "stdout",
     "output_type": "stream",
     "text": [
      "(uniqueRoot(X1[i], X0), X1[i], X0) = (-1, Intervalos.Intervalo(0.0, 0.011843415148602439), Intervalos.Intervalo(0.0, 6.0))\n",
      "Xbis = Intervalos.Intervalo[Intervalos.Intervalo(0.0, 0.00593332), Intervalos.Intervalo(0.00593332, 0.0118434)]\n",
      "(\" Antes \", X1) = (\" Antes \", Intervalos.Intervalo[Intervalos.Intervalo(3.00002, 4.50148), Intervalos.Intervalo(1.50244, 3.00451), Intervalos.Intervalo(4.50148, 5.25082), Intervalos.Intervalo(0.752677, 1.50244), Intervalos.Intervalo(5.25082, 5.62608), Intervalos.Intervalo(0.376723, 0.752677), Intervalos.Intervalo(5.62608, 5.8134), Intervalos.Intervalo(0.188552, 0.376723), Intervalos.Intervalo(5.8134, 5.90676), Intervalos.Intervalo(0.0944598, 0.188552), Intervalos.Intervalo(5.90676, 5.95343), Intervalos.Intervalo(0.047286, 0.0944598), Intervalos.Intervalo(5.95343, 5.97673), Intervalos.Intervalo(0.0236567, 0.047286), Intervalos.Intervalo(5.97673, 5.98838), Intervalos.Intervalo(0.0118434, 0.0236567), Intervalos.Intervalo(5.98838, 5.99419), Intervalos.Intervalo(5.99419, 6.0)])\n",
      "(\" Después \", X1) = (\" Después \", Intervalos.Intervalo[Intervalos.Intervalo(3.00002, 4.50148), Intervalos.Intervalo(1.50244, 3.00451), Intervalos.Intervalo(4.50148, 5.25082), Intervalos.Intervalo(0.752677, 1.50244), Intervalos.Intervalo(5.25082, 5.62608), Intervalos.Intervalo(0.376723, 0.752677), Intervalos.Intervalo(5.62608, 5.8134), Intervalos.Intervalo(0.188552, 0.376723), Intervalos.Intervalo(5.8134, 5.90676), Intervalos.Intervalo(0.0944598, 0.188552), Intervalos.Intervalo(5.90676, 5.95343), Intervalos.Intervalo(0.047286, 0.0944598), Intervalos.Intervalo(5.95343, 5.97673), Intervalos.Intervalo(0.0236567, 0.047286), Intervalos.Intervalo(5.97673, 5.98838), Intervalos.Intervalo(0.0118434, 0.0236567), Intervalos.Intervalo(5.98838, 5.99419), Intervalos.Intervalo(5.99419, 6.0), Intervalos.Intervalo(0.0, 0.00593332), Intervalos.Intervalo(0.00593332, 0.0118434)])\n",
      "(uniqueRoot(X1[i], X0), X1[i], X0) = (1, Intervalos.Intervalo(0.011843415148602439, 0.023656688752593337), Intervalos.Intervalo(0.0, 6.0))\n",
      "(uniqueRoot(X1[i], X0), X1[i], X0) = (1, Intervalos.Intervalo(5.988379458411442, 5.994194965319828), Intervalos.Intervalo(0.0, 6.0))\n",
      "(uniqueRoot(X1[i], X0), X1[i], X0) = (-1, Intervalos.Intervalo(5.994194965319828, 6.0), Intervalos.Intervalo(0.0, 6.0))\n",
      "Xbis = Intervalos.Intervalo[Intervalos.Intervalo(5.99419, 5.9971), Intervalos.Intervalo(5.9971, 6.0)]\n",
      "(\" Antes \", X1) = (\" Antes \", Intervalos.Intervalo[Intervalos.Intervalo(3.00002, 4.50148), Intervalos.Intervalo(1.50244, 3.00451), Intervalos.Intervalo(4.50148, 5.25082), Intervalos.Intervalo(0.752677, 1.50244), Intervalos.Intervalo(5.25082, 5.62608), Intervalos.Intervalo(0.376723, 0.752677), Intervalos.Intervalo(5.62608, 5.8134), Intervalos.Intervalo(0.188552, 0.376723), Intervalos.Intervalo(5.8134, 5.90676), Intervalos.Intervalo(0.0944598, 0.188552), Intervalos.Intervalo(5.90676, 5.95343), Intervalos.Intervalo(0.047286, 0.0944598), Intervalos.Intervalo(5.95343, 5.97673), Intervalos.Intervalo(0.0236567, 0.047286), Intervalos.Intervalo(5.97673, 5.98838), Intervalos.Intervalo(0.0118434, 0.0236567), Intervalos.Intervalo(5.98838, 5.99419), Intervalos.Intervalo(0.0, 0.00593332), Intervalos.Intervalo(0.00593332, 0.0118434)])\n",
      "(\" Después \", X1) = (\" Después \", Intervalos.Intervalo[Intervalos.Intervalo(3.00002, 4.50148), Intervalos.Intervalo(1.50244, 3.00451), Intervalos.Intervalo(4.50148, 5.25082), Intervalos.Intervalo(0.752677, 1.50244), Intervalos.Intervalo(5.25082, 5.62608), Intervalos.Intervalo(0.376723, 0.752677), Intervalos.Intervalo(5.62608, 5.8134), Intervalos.Intervalo(0.188552, 0.376723), Intervalos.Intervalo(5.8134, 5.90676), Intervalos.Intervalo(0.0944598, 0.188552), Intervalos.Intervalo(5.90676, 5.95343), Intervalos.Intervalo(0.047286, 0.0944598), Intervalos.Intervalo(5.95343, 5.97673), Intervalos.Intervalo(0.0236567, 0.047286), Intervalos.Intervalo(5.97673, 5.98838), Intervalos.Intervalo(0.0118434, 0.0236567), Intervalos.Intervalo(5.98838, 5.99419), Intervalos.Intervalo(0.0, 0.00593332), Intervalos.Intervalo(0.00593332, 0.0118434), Intervalos.Intervalo(5.99419, 5.9971), Intervalos.Intervalo(5.9971, 6.0)])\n",
      "(uniqueRoot(X1[i], X0), X1[i], X0) = (-1, Intervalos.Intervalo(0.0, 0.005933321909372884), Intervalos.Intervalo(0.0, 6.0))\n",
      "Xbis = Intervalos.Intervalo[Intervalos.Intervalo(0.0, 0.00296759), Intervalos.Intervalo(0.00296759, 0.00593332)]\n",
      "(\" Antes \", X1) = (\" Antes \", Intervalos.Intervalo[Intervalos.Intervalo(3.00002, 4.50148), Intervalos.Intervalo(1.50244, 3.00451), Intervalos.Intervalo(4.50148, 5.25082), Intervalos.Intervalo(0.752677, 1.50244), Intervalos.Intervalo(5.25082, 5.62608), Intervalos.Intervalo(0.376723, 0.752677), Intervalos.Intervalo(5.62608, 5.8134), Intervalos.Intervalo(0.188552, 0.376723), Intervalos.Intervalo(5.8134, 5.90676), Intervalos.Intervalo(0.0944598, 0.188552), Intervalos.Intervalo(5.90676, 5.95343), Intervalos.Intervalo(0.047286, 0.0944598), Intervalos.Intervalo(5.95343, 5.97673), Intervalos.Intervalo(0.0236567, 0.047286), Intervalos.Intervalo(5.97673, 5.98838), Intervalos.Intervalo(0.0118434, 0.0236567), Intervalos.Intervalo(5.98838, 5.99419), Intervalos.Intervalo(0.00593332, 0.0118434), Intervalos.Intervalo(5.99419, 5.9971), Intervalos.Intervalo(5.9971, 6.0)])\n",
      "(\" Después \", X1) = (\" Después \", Intervalos.Intervalo[Intervalos.Intervalo(3.00002, 4.50148), Intervalos.Intervalo(1.50244, 3.00451), Intervalos.Intervalo(4.50148, 5.25082), Intervalos.Intervalo(0.752677, 1.50244), Intervalos.Intervalo(5.25082, 5.62608), Intervalos.Intervalo(0.376723, 0.752677), Intervalos.Intervalo(5.62608, 5.8134), Intervalos.Intervalo(0.188552, 0.376723), Intervalos.Intervalo(5.8134, 5.90676), Intervalos.Intervalo(0.0944598, 0.188552), Intervalos.Intervalo(5.90676, 5.95343), Intervalos.Intervalo(0.047286, 0.0944598), Intervalos.Intervalo(5.95343, 5.97673), Intervalos.Intervalo(0.0236567, 0.047286), Intervalos.Intervalo(5.97673, 5.98838), Intervalos.Intervalo(0.0118434, 0.0236567), Intervalos.Intervalo(5.98838, 5.99419), Intervalos.Intervalo(0.00593332, 0.0118434), Intervalos.Intervalo(5.99419, 5.9971), Intervalos.Intervalo(5.9971, 6.0), Intervalos.Intervalo(0.0, 0.00296759), Intervalos.Intervalo(0.00296759, 0.00593332)])\n",
      "(uniqueRoot(X1[i], X0), X1[i], X0) = (1, Intervalos.Intervalo(0.005933321909372884, 0.011843415148602439), Intervalos.Intervalo(0.0, 6.0))\n",
      "(uniqueRoot(X1[i], X0), X1[i], X0) = (1, Intervalos.Intervalo(5.994194965319828, 5.997101993004446), Intervalos.Intervalo(0.0, 6.0))\n",
      "(uniqueRoot(X1[i], X0), X1[i], X0) = (-1, Intervalos.Intervalo(5.997101993004446, 6.0), Intervalos.Intervalo(0.0, 6.0))\n",
      "Xbis = Intervalos.Intervalo[Intervalos.Intervalo(5.9971, 5.99855), Intervalos.Intervalo(5.99855, 6.0)]\n",
      "(\" Antes \", X1) = (\" Antes \", Intervalos.Intervalo[Intervalos.Intervalo(3.00002, 4.50148), Intervalos.Intervalo(1.50244, 3.00451), Intervalos.Intervalo(4.50148, 5.25082), Intervalos.Intervalo(0.752677, 1.50244), Intervalos.Intervalo(5.25082, 5.62608), Intervalos.Intervalo(0.376723, 0.752677), Intervalos.Intervalo(5.62608, 5.8134), Intervalos.Intervalo(0.188552, 0.376723), Intervalos.Intervalo(5.8134, 5.90676), Intervalos.Intervalo(0.0944598, 0.188552), Intervalos.Intervalo(5.90676, 5.95343), Intervalos.Intervalo(0.047286, 0.0944598), Intervalos.Intervalo(5.95343, 5.97673), Intervalos.Intervalo(0.0236567, 0.047286), Intervalos.Intervalo(5.97673, 5.98838), Intervalos.Intervalo(0.0118434, 0.0236567), Intervalos.Intervalo(5.98838, 5.99419), Intervalos.Intervalo(0.00593332, 0.0118434), Intervalos.Intervalo(5.99419, 5.9971), Intervalos.Intervalo(0.0, 0.00296759), Intervalos.Intervalo(0.00296759, 0.00593332)])\n",
      "(\" Después \", X1) = (\" Después \", Intervalos.Intervalo[Intervalos.Intervalo(3.00002, 4.50148), Intervalos.Intervalo(1.50244, 3.00451), Intervalos.Intervalo(4.50148, 5.25082), Intervalos.Intervalo(0.752677, 1.50244), Intervalos.Intervalo(5.25082, 5.62608), Intervalos.Intervalo(0.376723, 0.752677), Intervalos.Intervalo(5.62608, 5.8134), Intervalos.Intervalo(0.188552, 0.376723), Intervalos.Intervalo(5.8134, 5.90676), Intervalos.Intervalo(0.0944598, 0.188552), Intervalos.Intervalo(5.90676, 5.95343), Intervalos.Intervalo(0.047286, 0.0944598), Intervalos.Intervalo(5.95343, 5.97673), Intervalos.Intervalo(0.0236567, 0.047286), Intervalos.Intervalo(5.97673, 5.98838), Intervalos.Intervalo(0.0118434, 0.0236567), Intervalos.Intervalo(5.98838, 5.99419), Intervalos.Intervalo(0.00593332, 0.0118434), Intervalos.Intervalo(5.99419, 5.9971), Intervalos.Intervalo(0.0, 0.00296759), Intervalos.Intervalo(0.00296759, 0.00593332), Intervalos.Intervalo(5.9971, 5.99855), Intervalos.Intervalo(5.99855, 6.0)])\n",
      "(uniqueRoot(X1[i], X0), X1[i], X0) = (-1, Intervalos.Intervalo(0.0, 0.0029675935394859825), Intervalos.Intervalo(0.0, 6.0))\n",
      "Xbis = Intervalos.Intervalo[Intervalos.Intervalo(0.0, 0.00148416), Intervalos.Intervalo(0.00148416, 0.00296759)]\n",
      "(\" Antes \", X1) = (\" Antes \", Intervalos.Intervalo[Intervalos.Intervalo(3.00002, 4.50148), Intervalos.Intervalo(1.50244, 3.00451), Intervalos.Intervalo(4.50148, 5.25082), Intervalos.Intervalo(0.752677, 1.50244), Intervalos.Intervalo(5.25082, 5.62608), Intervalos.Intervalo(0.376723, 0.752677), Intervalos.Intervalo(5.62608, 5.8134), Intervalos.Intervalo(0.188552, 0.376723), Intervalos.Intervalo(5.8134, 5.90676), Intervalos.Intervalo(0.0944598, 0.188552), Intervalos.Intervalo(5.90676, 5.95343), Intervalos.Intervalo(0.047286, 0.0944598), Intervalos.Intervalo(5.95343, 5.97673), Intervalos.Intervalo(0.0236567, 0.047286), Intervalos.Intervalo(5.97673, 5.98838), Intervalos.Intervalo(0.0118434, 0.0236567), Intervalos.Intervalo(5.98838, 5.99419), Intervalos.Intervalo(0.00593332, 0.0118434), Intervalos.Intervalo(5.99419, 5.9971), Intervalos.Intervalo(0.00296759, 0.00593332), Intervalos.Intervalo(5.9971, 5.99855), Intervalos.Intervalo(5.99855, 6.0)])\n",
      "(\" Después \", X1) = (\" Después \", Intervalos.Intervalo[Intervalos.Intervalo(3.00002, 4.50148), Intervalos.Intervalo(1.50244, 3.00451), Intervalos.Intervalo(4.50148, 5.25082), Intervalos.Intervalo(0.752677, 1.50244), Intervalos.Intervalo(5.25082, 5.62608), Intervalos.Intervalo(0.376723, 0.752677), Intervalos.Intervalo(5.62608, 5.8134), Intervalos.Intervalo(0.188552, 0.376723), Intervalos.Intervalo(5.8134, 5.90676), Intervalos.Intervalo(0.0944598, 0.188552), Intervalos.Intervalo(5.90676, 5.95343), Intervalos.Intervalo(0.047286, 0.0944598), Intervalos.Intervalo(5.95343, 5.97673), Intervalos.Intervalo(0.0236567, 0.047286), Intervalos.Intervalo(5.97673, 5.98838), Intervalos.Intervalo(0.0118434, 0.0236567), Intervalos.Intervalo(5.98838, 5.99419), Intervalos.Intervalo(0.00593332, 0.0118434), Intervalos.Intervalo(5.99419, 5.9971), Intervalos.Intervalo(0.00296759, 0.00593332), Intervalos.Intervalo(5.9971, 5.99855), Intervalos.Intervalo(5.99855, 6.0), Intervalos.Intervalo(0.0, 0.00148416), Intervalos.Intervalo(0.00148416, 0.00296759)])\n"
     ]
    },
    {
     "name": "stdout",
     "output_type": "stream",
     "text": [
      "(uniqueRoot(X1[i], X0), X1[i], X0) = (1, Intervalos.Intervalo(0.0029675935394859825, 0.005933321909372884), Intervalos.Intervalo(0.0, 6.0))\n",
      "(uniqueRoot(X1[i], X0), X1[i], X0) = (1, Intervalos.Intervalo(5.997101993004446, 5.998553615735064), Intervalos.Intervalo(0.0, 6.0))\n",
      "(uniqueRoot(X1[i], X0), X1[i], X0) = (-1, Intervalos.Intervalo(5.998553615735064, 6.0), Intervalos.Intervalo(0.0, 6.0))\n",
      "Xbis = Intervalos.Intervalo[Intervalos.Intervalo(5.99855, 5.99928), Intervalos.Intervalo(5.99928, 6.0)]\n",
      "(\" Antes \", X1) = (\" Antes \", Intervalos.Intervalo[Intervalos.Intervalo(3.00002, 4.50148), Intervalos.Intervalo(1.50244, 3.00451), Intervalos.Intervalo(4.50148, 5.25082), Intervalos.Intervalo(0.752677, 1.50244), Intervalos.Intervalo(5.25082, 5.62608), Intervalos.Intervalo(0.376723, 0.752677), Intervalos.Intervalo(5.62608, 5.8134), Intervalos.Intervalo(0.188552, 0.376723), Intervalos.Intervalo(5.8134, 5.90676), Intervalos.Intervalo(0.0944598, 0.188552), Intervalos.Intervalo(5.90676, 5.95343), Intervalos.Intervalo(0.047286, 0.0944598), Intervalos.Intervalo(5.95343, 5.97673), Intervalos.Intervalo(0.0236567, 0.047286), Intervalos.Intervalo(5.97673, 5.98838), Intervalos.Intervalo(0.0118434, 0.0236567), Intervalos.Intervalo(5.98838, 5.99419), Intervalos.Intervalo(0.00593332, 0.0118434), Intervalos.Intervalo(5.99419, 5.9971), Intervalos.Intervalo(0.00296759, 0.00593332), Intervalos.Intervalo(5.9971, 5.99855), Intervalos.Intervalo(0.0, 0.00148416), Intervalos.Intervalo(0.00148416, 0.00296759)])\n",
      "(\" Después \", X1) = (\" Después \", Intervalos.Intervalo[Intervalos.Intervalo(3.00002, 4.50148), Intervalos.Intervalo(1.50244, 3.00451), Intervalos.Intervalo(4.50148, 5.25082), Intervalos.Intervalo(0.752677, 1.50244), Intervalos.Intervalo(5.25082, 5.62608), Intervalos.Intervalo(0.376723, 0.752677), Intervalos.Intervalo(5.62608, 5.8134), Intervalos.Intervalo(0.188552, 0.376723), Intervalos.Intervalo(5.8134, 5.90676), Intervalos.Intervalo(0.0944598, 0.188552), Intervalos.Intervalo(5.90676, 5.95343), Intervalos.Intervalo(0.047286, 0.0944598), Intervalos.Intervalo(5.95343, 5.97673), Intervalos.Intervalo(0.0236567, 0.047286), Intervalos.Intervalo(5.97673, 5.98838), Intervalos.Intervalo(0.0118434, 0.0236567), Intervalos.Intervalo(5.98838, 5.99419), Intervalos.Intervalo(0.00593332, 0.0118434), Intervalos.Intervalo(5.99419, 5.9971), Intervalos.Intervalo(0.00296759, 0.00593332), Intervalos.Intervalo(5.9971, 5.99855), Intervalos.Intervalo(0.0, 0.00148416), Intervalos.Intervalo(0.00148416, 0.00296759), Intervalos.Intervalo(5.99855, 5.99928), Intervalos.Intervalo(5.99928, 6.0)])\n",
      "(uniqueRoot(X1[i], X0), X1[i], X0) = (-1, Intervalos.Intervalo(0.0, 0.0014841572549057385), Intervalos.Intervalo(0.0, 6.0))\n",
      "Xbis = Intervalos.Intervalo[Intervalos.Intervalo(0.0, 0.000743215), Intervalos.Intervalo(0.000743215, 0.00148416)]\n",
      "(\" Antes \", X1) = (\" Antes \", Intervalos.Intervalo[Intervalos.Intervalo(3.00002, 4.50148), Intervalos.Intervalo(1.50244, 3.00451), Intervalos.Intervalo(4.50148, 5.25082), Intervalos.Intervalo(0.752677, 1.50244), Intervalos.Intervalo(5.25082, 5.62608), Intervalos.Intervalo(0.376723, 0.752677), Intervalos.Intervalo(5.62608, 5.8134), Intervalos.Intervalo(0.188552, 0.376723), Intervalos.Intervalo(5.8134, 5.90676), Intervalos.Intervalo(0.0944598, 0.188552), Intervalos.Intervalo(5.90676, 5.95343), Intervalos.Intervalo(0.047286, 0.0944598), Intervalos.Intervalo(5.95343, 5.97673), Intervalos.Intervalo(0.0236567, 0.047286), Intervalos.Intervalo(5.97673, 5.98838), Intervalos.Intervalo(0.0118434, 0.0236567), Intervalos.Intervalo(5.98838, 5.99419), Intervalos.Intervalo(0.00593332, 0.0118434), Intervalos.Intervalo(5.99419, 5.9971), Intervalos.Intervalo(0.00296759, 0.00593332), Intervalos.Intervalo(5.9971, 5.99855), Intervalos.Intervalo(0.00148416, 0.00296759), Intervalos.Intervalo(5.99855, 5.99928), Intervalos.Intervalo(5.99928, 6.0)])\n",
      "(\" Después \", X1) = (\" Después \", Intervalos.Intervalo[Intervalos.Intervalo(3.00002, 4.50148), Intervalos.Intervalo(1.50244, 3.00451), Intervalos.Intervalo(4.50148, 5.25082), Intervalos.Intervalo(0.752677, 1.50244), Intervalos.Intervalo(5.25082, 5.62608), Intervalos.Intervalo(0.376723, 0.752677), Intervalos.Intervalo(5.62608, 5.8134), Intervalos.Intervalo(0.188552, 0.376723), Intervalos.Intervalo(5.8134, 5.90676), Intervalos.Intervalo(0.0944598, 0.188552), Intervalos.Intervalo(5.90676, 5.95343), Intervalos.Intervalo(0.047286, 0.0944598), Intervalos.Intervalo(5.95343, 5.97673), Intervalos.Intervalo(0.0236567, 0.047286), Intervalos.Intervalo(5.97673, 5.98838), Intervalos.Intervalo(0.0118434, 0.0236567), Intervalos.Intervalo(5.98838, 5.99419), Intervalos.Intervalo(0.00593332, 0.0118434), Intervalos.Intervalo(5.99419, 5.9971), Intervalos.Intervalo(0.00296759, 0.00593332), Intervalos.Intervalo(5.9971, 5.99855), Intervalos.Intervalo(0.00148416, 0.00296759), Intervalos.Intervalo(5.99855, 5.99928), Intervalos.Intervalo(5.99928, 6.0), Intervalos.Intervalo(0.0, 0.000743215), Intervalos.Intervalo(0.000743215, 0.00148416)])\n",
      "(uniqueRoot(X1[i], X0), X1[i], X0) = (1, Intervalos.Intervalo(0.0014841572549057385, 0.0029675935394859825), Intervalos.Intervalo(0.0, 6.0))\n",
      "(uniqueRoot(X1[i], X0), X1[i], X0) = (1, Intervalos.Intervalo(5.998553615735064, 5.999276918748017), Intervalos.Intervalo(0.0, 6.0))\n",
      "(uniqueRoot(X1[i], X0), X1[i], X0) = (-1, Intervalos.Intervalo(5.999276918748017, 6.0), Intervalos.Intervalo(0.0, 6.0))\n",
      "Xbis = Intervalos.Intervalo[Intervalos.Intervalo(5.99928, 5.99964), Intervalos.Intervalo(5.99964, 6.0)]\n",
      "(\" Antes \", X1) = (\" Antes \", Intervalos.Intervalo[Intervalos.Intervalo(3.00002, 4.50148), Intervalos.Intervalo(1.50244, 3.00451), Intervalos.Intervalo(4.50148, 5.25082), Intervalos.Intervalo(0.752677, 1.50244), Intervalos.Intervalo(5.25082, 5.62608), Intervalos.Intervalo(0.376723, 0.752677), Intervalos.Intervalo(5.62608, 5.8134), Intervalos.Intervalo(0.188552, 0.376723), Intervalos.Intervalo(5.8134, 5.90676), Intervalos.Intervalo(0.0944598, 0.188552), Intervalos.Intervalo(5.90676, 5.95343), Intervalos.Intervalo(0.047286, 0.0944598), Intervalos.Intervalo(5.95343, 5.97673), Intervalos.Intervalo(0.0236567, 0.047286), Intervalos.Intervalo(5.97673, 5.98838), Intervalos.Intervalo(0.0118434, 0.0236567), Intervalos.Intervalo(5.98838, 5.99419), Intervalos.Intervalo(0.00593332, 0.0118434), Intervalos.Intervalo(5.99419, 5.9971), Intervalos.Intervalo(0.00296759, 0.00593332), Intervalos.Intervalo(5.9971, 5.99855), Intervalos.Intervalo(0.00148416, 0.00296759), Intervalos.Intervalo(5.99855, 5.99928), Intervalos.Intervalo(0.0, 0.000743215), Intervalos.Intervalo(0.000743215, 0.00148416)])\n",
      "(\" Después \", X1) = (\" Después \", Intervalos.Intervalo[Intervalos.Intervalo(3.00002, 4.50148), Intervalos.Intervalo(1.50244, 3.00451), Intervalos.Intervalo(4.50148, 5.25082), Intervalos.Intervalo(0.752677, 1.50244), Intervalos.Intervalo(5.25082, 5.62608), Intervalos.Intervalo(0.376723, 0.752677), Intervalos.Intervalo(5.62608, 5.8134), Intervalos.Intervalo(0.188552, 0.376723), Intervalos.Intervalo(5.8134, 5.90676), Intervalos.Intervalo(0.0944598, 0.188552), Intervalos.Intervalo(5.90676, 5.95343), Intervalos.Intervalo(0.047286, 0.0944598), Intervalos.Intervalo(5.95343, 5.97673), Intervalos.Intervalo(0.0236567, 0.047286), Intervalos.Intervalo(5.97673, 5.98838), Intervalos.Intervalo(0.0118434, 0.0236567), Intervalos.Intervalo(5.98838, 5.99419), Intervalos.Intervalo(0.00593332, 0.0118434), Intervalos.Intervalo(5.99419, 5.9971), Intervalos.Intervalo(0.00296759, 0.00593332), Intervalos.Intervalo(5.9971, 5.99855), Intervalos.Intervalo(0.00148416, 0.00296759), Intervalos.Intervalo(5.99855, 5.99928), Intervalos.Intervalo(0.0, 0.000743215), Intervalos.Intervalo(0.000743215, 0.00148416), Intervalos.Intervalo(5.99928, 5.99964), Intervalos.Intervalo(5.99964, 6.0)])\n",
      "(uniqueRoot(X1[i], X0), X1[i], X0) = (-1, Intervalos.Intervalo(0.0, 0.0007432146188675012), Intervalos.Intervalo(0.0, 6.0))\n",
      "Xbis = Intervalos.Intervalo[Intervalos.Intervalo(0.0, 0.000372101), Intervalos.Intervalo(0.000372101, 0.000743215)]\n",
      "(\" Antes \", X1) = (\" Antes \", Intervalos.Intervalo[Intervalos.Intervalo(3.00002, 4.50148), Intervalos.Intervalo(1.50244, 3.00451), Intervalos.Intervalo(4.50148, 5.25082), Intervalos.Intervalo(0.752677, 1.50244), Intervalos.Intervalo(5.25082, 5.62608), Intervalos.Intervalo(0.376723, 0.752677), Intervalos.Intervalo(5.62608, 5.8134), Intervalos.Intervalo(0.188552, 0.376723), Intervalos.Intervalo(5.8134, 5.90676), Intervalos.Intervalo(0.0944598, 0.188552), Intervalos.Intervalo(5.90676, 5.95343), Intervalos.Intervalo(0.047286, 0.0944598), Intervalos.Intervalo(5.95343, 5.97673), Intervalos.Intervalo(0.0236567, 0.047286), Intervalos.Intervalo(5.97673, 5.98838), Intervalos.Intervalo(0.0118434, 0.0236567), Intervalos.Intervalo(5.98838, 5.99419), Intervalos.Intervalo(0.00593332, 0.0118434), Intervalos.Intervalo(5.99419, 5.9971), Intervalos.Intervalo(0.00296759, 0.00593332), Intervalos.Intervalo(5.9971, 5.99855), Intervalos.Intervalo(0.00148416, 0.00296759), Intervalos.Intervalo(5.99855, 5.99928), Intervalos.Intervalo(0.000743215, 0.00148416), Intervalos.Intervalo(5.99928, 5.99964), Intervalos.Intervalo(5.99964, 6.0)])\n",
      "(\" Después \", X1) = (\" Después \", Intervalos.Intervalo[Intervalos.Intervalo(3.00002, 4.50148), Intervalos.Intervalo(1.50244, 3.00451), Intervalos.Intervalo(4.50148, 5.25082), Intervalos.Intervalo(0.752677, 1.50244), Intervalos.Intervalo(5.25082, 5.62608), Intervalos.Intervalo(0.376723, 0.752677), Intervalos.Intervalo(5.62608, 5.8134), Intervalos.Intervalo(0.188552, 0.376723), Intervalos.Intervalo(5.8134, 5.90676), Intervalos.Intervalo(0.0944598, 0.188552), Intervalos.Intervalo(5.90676, 5.95343), Intervalos.Intervalo(0.047286, 0.0944598), Intervalos.Intervalo(5.95343, 5.97673), Intervalos.Intervalo(0.0236567, 0.047286), Intervalos.Intervalo(5.97673, 5.98838), Intervalos.Intervalo(0.0118434, 0.0236567), Intervalos.Intervalo(5.98838, 5.99419), Intervalos.Intervalo(0.00593332, 0.0118434), Intervalos.Intervalo(5.99419, 5.9971), Intervalos.Intervalo(0.00296759, 0.00593332), Intervalos.Intervalo(5.9971, 5.99855), Intervalos.Intervalo(0.00148416, 0.00296759), Intervalos.Intervalo(5.99855, 5.99928), Intervalos.Intervalo(0.000743215, 0.00148416), Intervalos.Intervalo(5.99928, 5.99964), Intervalos.Intervalo(5.99964, 6.0), Intervalos.Intervalo(0.0, 0.000372101), Intervalos.Intervalo(0.000372101, 0.000743215)])\n"
     ]
    },
    {
     "name": "stdout",
     "output_type": "stream",
     "text": [
      "(uniqueRoot(X1[i], X0), X1[i], X0) = (1, Intervalos.Intervalo(0.0007432146188675012, 0.0014841572549057385), Intervalos.Intervalo(0.0, 6.0))\n",
      "(uniqueRoot(X1[i], X0), X1[i], X0) = (1, Intervalos.Intervalo(5.999276918748017, 5.9996391515098155), Intervalos.Intervalo(0.0, 6.0))\n",
      "(uniqueRoot(X1[i], X0), X1[i], X0) = (-1, Intervalos.Intervalo(5.9996391515098155, 6.0), Intervalos.Intervalo(0.0, 6.0))\n",
      "Xbis = Intervalos.Intervalo[Intervalos.Intervalo(5.99964, 5.99982), Intervalos.Intervalo(5.99982, 6.0)]\n",
      "(\" Antes \", X1) = (\" Antes \", Intervalos.Intervalo[Intervalos.Intervalo(3.00002, 4.50148), Intervalos.Intervalo(1.50244, 3.00451), Intervalos.Intervalo(4.50148, 5.25082), Intervalos.Intervalo(0.752677, 1.50244), Intervalos.Intervalo(5.25082, 5.62608), Intervalos.Intervalo(0.376723, 0.752677), Intervalos.Intervalo(5.62608, 5.8134), Intervalos.Intervalo(0.188552, 0.376723), Intervalos.Intervalo(5.8134, 5.90676), Intervalos.Intervalo(0.0944598, 0.188552), Intervalos.Intervalo(5.90676, 5.95343), Intervalos.Intervalo(0.047286, 0.0944598), Intervalos.Intervalo(5.95343, 5.97673), Intervalos.Intervalo(0.0236567, 0.047286), Intervalos.Intervalo(5.97673, 5.98838), Intervalos.Intervalo(0.0118434, 0.0236567), Intervalos.Intervalo(5.98838, 5.99419), Intervalos.Intervalo(0.00593332, 0.0118434), Intervalos.Intervalo(5.99419, 5.9971), Intervalos.Intervalo(0.00296759, 0.00593332), Intervalos.Intervalo(5.9971, 5.99855), Intervalos.Intervalo(0.00148416, 0.00296759), Intervalos.Intervalo(5.99855, 5.99928), Intervalos.Intervalo(0.000743215, 0.00148416), Intervalos.Intervalo(5.99928, 5.99964), Intervalos.Intervalo(0.0, 0.000372101), Intervalos.Intervalo(0.000372101, 0.000743215)])\n",
      "(\" Después \", X1) = (\" Después \", Intervalos.Intervalo[Intervalos.Intervalo(3.00002, 4.50148), Intervalos.Intervalo(1.50244, 3.00451), Intervalos.Intervalo(4.50148, 5.25082), Intervalos.Intervalo(0.752677, 1.50244), Intervalos.Intervalo(5.25082, 5.62608), Intervalos.Intervalo(0.376723, 0.752677), Intervalos.Intervalo(5.62608, 5.8134), Intervalos.Intervalo(0.188552, 0.376723), Intervalos.Intervalo(5.8134, 5.90676), Intervalos.Intervalo(0.0944598, 0.188552), Intervalos.Intervalo(5.90676, 5.95343), Intervalos.Intervalo(0.047286, 0.0944598), Intervalos.Intervalo(5.95343, 5.97673), Intervalos.Intervalo(0.0236567, 0.047286), Intervalos.Intervalo(5.97673, 5.98838), Intervalos.Intervalo(0.0118434, 0.0236567), Intervalos.Intervalo(5.98838, 5.99419), Intervalos.Intervalo(0.00593332, 0.0118434), Intervalos.Intervalo(5.99419, 5.9971), Intervalos.Intervalo(0.00296759, 0.00593332), Intervalos.Intervalo(5.9971, 5.99855), Intervalos.Intervalo(0.00148416, 0.00296759), Intervalos.Intervalo(5.99855, 5.99928), Intervalos.Intervalo(0.000743215, 0.00148416), Intervalos.Intervalo(5.99928, 5.99964), Intervalos.Intervalo(0.0, 0.000372101), Intervalos.Intervalo(0.000372101, 0.000743215), Intervalos.Intervalo(5.99964, 5.99982), Intervalos.Intervalo(5.99982, 6.0)])\n",
      "(uniqueRoot(X1[i], X0), X1[i], X0) = (-1, Intervalos.Intervalo(0.0, 0.00037210145606812587), Intervalos.Intervalo(0.0, 6.0))\n",
      "Xbis = Intervalos.Intervalo[Intervalos.Intervalo(0.0, 0.000186387), Intervalos.Intervalo(0.000186387, 0.000372101)]\n",
      "(\" Antes \", X1) = (\" Antes \", Intervalos.Intervalo[Intervalos.Intervalo(3.00002, 4.50148), Intervalos.Intervalo(1.50244, 3.00451), Intervalos.Intervalo(4.50148, 5.25082), Intervalos.Intervalo(0.752677, 1.50244), Intervalos.Intervalo(5.25082, 5.62608), Intervalos.Intervalo(0.376723, 0.752677), Intervalos.Intervalo(5.62608, 5.8134), Intervalos.Intervalo(0.188552, 0.376723), Intervalos.Intervalo(5.8134, 5.90676), Intervalos.Intervalo(0.0944598, 0.188552), Intervalos.Intervalo(5.90676, 5.95343), Intervalos.Intervalo(0.047286, 0.0944598), Intervalos.Intervalo(5.95343, 5.97673), Intervalos.Intervalo(0.0236567, 0.047286), Intervalos.Intervalo(5.97673, 5.98838), Intervalos.Intervalo(0.0118434, 0.0236567), Intervalos.Intervalo(5.98838, 5.99419), Intervalos.Intervalo(0.00593332, 0.0118434), Intervalos.Intervalo(5.99419, 5.9971), Intervalos.Intervalo(0.00296759, 0.00593332), Intervalos.Intervalo(5.9971, 5.99855), Intervalos.Intervalo(0.00148416, 0.00296759), Intervalos.Intervalo(5.99855, 5.99928), Intervalos.Intervalo(0.000743215, 0.00148416), Intervalos.Intervalo(5.99928, 5.99964), Intervalos.Intervalo(0.000372101, 0.000743215), Intervalos.Intervalo(5.99964, 5.99982), Intervalos.Intervalo(5.99982, 6.0)])\n",
      "(\" Después \", X1) = (\" Después \", Intervalos.Intervalo[Intervalos.Intervalo(3.00002, 4.50148), Intervalos.Intervalo(1.50244, 3.00451), Intervalos.Intervalo(4.50148, 5.25082), Intervalos.Intervalo(0.752677, 1.50244), Intervalos.Intervalo(5.25082, 5.62608), Intervalos.Intervalo(0.376723, 0.752677), Intervalos.Intervalo(5.62608, 5.8134), Intervalos.Intervalo(0.188552, 0.376723), Intervalos.Intervalo(5.8134, 5.90676), Intervalos.Intervalo(0.0944598, 0.188552), Intervalos.Intervalo(5.90676, 5.95343), Intervalos.Intervalo(0.047286, 0.0944598), Intervalos.Intervalo(5.95343, 5.97673), Intervalos.Intervalo(0.0236567, 0.047286), Intervalos.Intervalo(5.97673, 5.98838), Intervalos.Intervalo(0.0118434, 0.0236567), Intervalos.Intervalo(5.98838, 5.99419), Intervalos.Intervalo(0.00593332, 0.0118434), Intervalos.Intervalo(5.99419, 5.9971), Intervalos.Intervalo(0.00296759, 0.00593332), Intervalos.Intervalo(5.9971, 5.99855), Intervalos.Intervalo(0.00148416, 0.00296759), Intervalos.Intervalo(5.99855, 5.99928), Intervalos.Intervalo(0.000743215, 0.00148416), Intervalos.Intervalo(5.99928, 5.99964), Intervalos.Intervalo(0.000372101, 0.000743215), Intervalos.Intervalo(5.99964, 5.99982), Intervalos.Intervalo(5.99982, 6.0), Intervalos.Intervalo(0.0, 0.000186387), Intervalos.Intervalo(0.000186387, 0.000372101)])\n",
      "(uniqueRoot(X1[i], X0), X1[i], X0) = (1, Intervalos.Intervalo(0.00037210145606812587, 0.0007432146188675012), Intervalos.Intervalo(0.0, 6.0))\n",
      "(uniqueRoot(X1[i], X0), X1[i], X0) = (1, Intervalos.Intervalo(5.9996391515098155, 5.999819765317611), Intervalos.Intervalo(0.0, 6.0))\n",
      "(uniqueRoot(X1[i], X0), X1[i], X0) = (-1, Intervalos.Intervalo(5.999819765317611, 6.0), Intervalos.Intervalo(0.0, 6.0))\n",
      "Xbis = Intervalos.Intervalo[Intervalos.Intervalo(5.99982, 5.99991), Intervalos.Intervalo(5.99991, 6.0)]\n",
      "(\" Antes \", X1) = (\" Antes \", Intervalos.Intervalo[Intervalos.Intervalo(3.00002, 4.50148), Intervalos.Intervalo(1.50244, 3.00451), Intervalos.Intervalo(4.50148, 5.25082), Intervalos.Intervalo(0.752677, 1.50244), Intervalos.Intervalo(5.25082, 5.62608), Intervalos.Intervalo(0.376723, 0.752677), Intervalos.Intervalo(5.62608, 5.8134), Intervalos.Intervalo(0.188552, 0.376723), Intervalos.Intervalo(5.8134, 5.90676), Intervalos.Intervalo(0.0944598, 0.188552), Intervalos.Intervalo(5.90676, 5.95343), Intervalos.Intervalo(0.047286, 0.0944598), Intervalos.Intervalo(5.95343, 5.97673), Intervalos.Intervalo(0.0236567, 0.047286), Intervalos.Intervalo(5.97673, 5.98838), Intervalos.Intervalo(0.0118434, 0.0236567), Intervalos.Intervalo(5.98838, 5.99419), Intervalos.Intervalo(0.00593332, 0.0118434), Intervalos.Intervalo(5.99419, 5.9971), Intervalos.Intervalo(0.00296759, 0.00593332), Intervalos.Intervalo(5.9971, 5.99855), Intervalos.Intervalo(0.00148416, 0.00296759), Intervalos.Intervalo(5.99855, 5.99928), Intervalos.Intervalo(0.000743215, 0.00148416), Intervalos.Intervalo(5.99928, 5.99964), Intervalos.Intervalo(0.000372101, 0.000743215), Intervalos.Intervalo(5.99964, 5.99982), Intervalos.Intervalo(0.0, 0.000186387), Intervalos.Intervalo(0.000186387, 0.000372101)])\n",
      "(\" Después \", X1) = (\" Después \", Intervalos.Intervalo[Intervalos.Intervalo(3.00002, 4.50148), Intervalos.Intervalo(1.50244, 3.00451), Intervalos.Intervalo(4.50148, 5.25082), Intervalos.Intervalo(0.752677, 1.50244), Intervalos.Intervalo(5.25082, 5.62608), Intervalos.Intervalo(0.376723, 0.752677), Intervalos.Intervalo(5.62608, 5.8134), Intervalos.Intervalo(0.188552, 0.376723), Intervalos.Intervalo(5.8134, 5.90676), Intervalos.Intervalo(0.0944598, 0.188552), Intervalos.Intervalo(5.90676, 5.95343), Intervalos.Intervalo(0.047286, 0.0944598), Intervalos.Intervalo(5.95343, 5.97673), Intervalos.Intervalo(0.0236567, 0.047286), Intervalos.Intervalo(5.97673, 5.98838), Intervalos.Intervalo(0.0118434, 0.0236567), Intervalos.Intervalo(5.98838, 5.99419), Intervalos.Intervalo(0.00593332, 0.0118434), Intervalos.Intervalo(5.99419, 5.9971), Intervalos.Intervalo(0.00296759, 0.00593332), Intervalos.Intervalo(5.9971, 5.99855), Intervalos.Intervalo(0.00148416, 0.00296759), Intervalos.Intervalo(5.99855, 5.99928), Intervalos.Intervalo(0.000743215, 0.00148416), Intervalos.Intervalo(5.99928, 5.99964), Intervalos.Intervalo(0.000372101, 0.000743215), Intervalos.Intervalo(5.99964, 5.99982), Intervalos.Intervalo(0.0, 0.000186387), Intervalos.Intervalo(0.000186387, 0.000372101), Intervalos.Intervalo(5.99982, 5.99991), Intervalos.Intervalo(5.99991, 6.0)])\n",
      "(uniqueRoot(X1[i], X0), X1[i], X0) = (-1, Intervalos.Intervalo(0.0, 0.00018638653362195657), Intervalos.Intervalo(0.0, 6.0))\n",
      "Xbis = Intervalos.Intervalo[Intervalos.Intervalo(0.0, 9.32925e-5), Intervalos.Intervalo(9.32925e-5, 0.000186387)]\n"
     ]
    },
    {
     "name": "stdout",
     "output_type": "stream",
     "text": [
      "(\" Antes \", X1) = (\" Antes \", Intervalos.Intervalo[Intervalos.Intervalo(3.00002, 4.50148), Intervalos.Intervalo(1.50244, 3.00451), Intervalos.Intervalo(4.50148, 5.25082), Intervalos.Intervalo(0.752677, 1.50244), Intervalos.Intervalo(5.25082, 5.62608), Intervalos.Intervalo(0.376723, 0.752677), Intervalos.Intervalo(5.62608, 5.8134), Intervalos.Intervalo(0.188552, 0.376723), Intervalos.Intervalo(5.8134, 5.90676), Intervalos.Intervalo(0.0944598, 0.188552), Intervalos.Intervalo(5.90676, 5.95343), Intervalos.Intervalo(0.047286, 0.0944598), Intervalos.Intervalo(5.95343, 5.97673), Intervalos.Intervalo(0.0236567, 0.047286), Intervalos.Intervalo(5.97673, 5.98838), Intervalos.Intervalo(0.0118434, 0.0236567), Intervalos.Intervalo(5.98838, 5.99419), Intervalos.Intervalo(0.00593332, 0.0118434), Intervalos.Intervalo(5.99419, 5.9971), Intervalos.Intervalo(0.00296759, 0.00593332), Intervalos.Intervalo(5.9971, 5.99855), Intervalos.Intervalo(0.00148416, 0.00296759), Intervalos.Intervalo(5.99855, 5.99928), Intervalos.Intervalo(0.000743215, 0.00148416), Intervalos.Intervalo(5.99928, 5.99964), Intervalos.Intervalo(0.000372101, 0.000743215), Intervalos.Intervalo(5.99964, 5.99982), Intervalos.Intervalo(0.000186387, 0.000372101), Intervalos.Intervalo(5.99982, 5.99991), Intervalos.Intervalo(5.99991, 6.0)])\n",
      "(\" Después \", X1) = (\" Después \", Intervalos.Intervalo[Intervalos.Intervalo(3.00002, 4.50148), Intervalos.Intervalo(1.50244, 3.00451), Intervalos.Intervalo(4.50148, 5.25082), Intervalos.Intervalo(0.752677, 1.50244), Intervalos.Intervalo(5.25082, 5.62608), Intervalos.Intervalo(0.376723, 0.752677), Intervalos.Intervalo(5.62608, 5.8134), Intervalos.Intervalo(0.188552, 0.376723), Intervalos.Intervalo(5.8134, 5.90676), Intervalos.Intervalo(0.0944598, 0.188552), Intervalos.Intervalo(5.90676, 5.95343), Intervalos.Intervalo(0.047286, 0.0944598), Intervalos.Intervalo(5.95343, 5.97673), Intervalos.Intervalo(0.0236567, 0.047286), Intervalos.Intervalo(5.97673, 5.98838), Intervalos.Intervalo(0.0118434, 0.0236567), Intervalos.Intervalo(5.98838, 5.99419), Intervalos.Intervalo(0.00593332, 0.0118434), Intervalos.Intervalo(5.99419, 5.9971), Intervalos.Intervalo(0.00296759, 0.00593332), Intervalos.Intervalo(5.9971, 5.99855), Intervalos.Intervalo(0.00148416, 0.00296759), Intervalos.Intervalo(5.99855, 5.99928), Intervalos.Intervalo(0.000743215, 0.00148416), Intervalos.Intervalo(5.99928, 5.99964), Intervalos.Intervalo(0.000372101, 0.000743215), Intervalos.Intervalo(5.99964, 5.99982), Intervalos.Intervalo(0.000186387, 0.000372101), Intervalos.Intervalo(5.99982, 5.99991), Intervalos.Intervalo(5.99991, 6.0), Intervalos.Intervalo(0.0, 9.32925e-5), Intervalos.Intervalo(9.32925e-5, 0.000186387)])\n",
      "(uniqueRoot(X1[i], X0), X1[i], X0) = (1, Intervalos.Intervalo(0.00018638653362195657, 0.00037210145606812587), Intervalos.Intervalo(0.0, 6.0))\n",
      "(uniqueRoot(X1[i], X0), X1[i], X0) = (1, Intervalos.Intervalo(5.999819765317611, 5.999909898908977), Intervalos.Intervalo(0.0, 6.0))\n",
      "(uniqueRoot(X1[i], X0), X1[i], X0) = (-1, Intervalos.Intervalo(5.999909898908977, 6.0), Intervalos.Intervalo(0.0, 6.0))\n",
      "Xbis = Intervalos.Intervalo[Intervalos.Intervalo(5.99991, 5.99995), Intervalos.Intervalo(5.99995, 6.0)]\n",
      "(\" Antes \", X1) = (\" Antes \", Intervalos.Intervalo[Intervalos.Intervalo(3.00002, 4.50148), Intervalos.Intervalo(1.50244, 3.00451), Intervalos.Intervalo(4.50148, 5.25082), Intervalos.Intervalo(0.752677, 1.50244), Intervalos.Intervalo(5.25082, 5.62608), Intervalos.Intervalo(0.376723, 0.752677), Intervalos.Intervalo(5.62608, 5.8134), Intervalos.Intervalo(0.188552, 0.376723), Intervalos.Intervalo(5.8134, 5.90676), Intervalos.Intervalo(0.0944598, 0.188552), Intervalos.Intervalo(5.90676, 5.95343), Intervalos.Intervalo(0.047286, 0.0944598), Intervalos.Intervalo(5.95343, 5.97673), Intervalos.Intervalo(0.0236567, 0.047286), Intervalos.Intervalo(5.97673, 5.98838), Intervalos.Intervalo(0.0118434, 0.0236567), Intervalos.Intervalo(5.98838, 5.99419), Intervalos.Intervalo(0.00593332, 0.0118434), Intervalos.Intervalo(5.99419, 5.9971), Intervalos.Intervalo(0.00296759, 0.00593332), Intervalos.Intervalo(5.9971, 5.99855), Intervalos.Intervalo(0.00148416, 0.00296759), Intervalos.Intervalo(5.99855, 5.99928), Intervalos.Intervalo(0.000743215, 0.00148416), Intervalos.Intervalo(5.99928, 5.99964), Intervalos.Intervalo(0.000372101, 0.000743215), Intervalos.Intervalo(5.99964, 5.99982), Intervalos.Intervalo(0.000186387, 0.000372101), Intervalos.Intervalo(5.99982, 5.99991), Intervalos.Intervalo(0.0, 9.32925e-5), Intervalos.Intervalo(9.32925e-5, 0.000186387)])\n",
      "(\" Después \", X1) = (\" Después \", Intervalos.Intervalo[Intervalos.Intervalo(3.00002, 4.50148), Intervalos.Intervalo(1.50244, 3.00451), Intervalos.Intervalo(4.50148, 5.25082), Intervalos.Intervalo(0.752677, 1.50244), Intervalos.Intervalo(5.25082, 5.62608), Intervalos.Intervalo(0.376723, 0.752677), Intervalos.Intervalo(5.62608, 5.8134), Intervalos.Intervalo(0.188552, 0.376723), Intervalos.Intervalo(5.8134, 5.90676), Intervalos.Intervalo(0.0944598, 0.188552), Intervalos.Intervalo(5.90676, 5.95343), Intervalos.Intervalo(0.047286, 0.0944598), Intervalos.Intervalo(5.95343, 5.97673), Intervalos.Intervalo(0.0236567, 0.047286), Intervalos.Intervalo(5.97673, 5.98838), Intervalos.Intervalo(0.0118434, 0.0236567), Intervalos.Intervalo(5.98838, 5.99419), Intervalos.Intervalo(0.00593332, 0.0118434), Intervalos.Intervalo(5.99419, 5.9971), Intervalos.Intervalo(0.00296759, 0.00593332), Intervalos.Intervalo(5.9971, 5.99855), Intervalos.Intervalo(0.00148416, 0.00296759), Intervalos.Intervalo(5.99855, 5.99928), Intervalos.Intervalo(0.000743215, 0.00148416), Intervalos.Intervalo(5.99928, 5.99964), Intervalos.Intervalo(0.000372101, 0.000743215), Intervalos.Intervalo(5.99964, 5.99982), Intervalos.Intervalo(0.000186387, 0.000372101), Intervalos.Intervalo(5.99982, 5.99991), Intervalos.Intervalo(0.0, 9.32925e-5), Intervalos.Intervalo(9.32925e-5, 0.000186387), Intervalos.Intervalo(5.99991, 5.99995), Intervalos.Intervalo(5.99995, 6.0)])\n",
      "(uniqueRoot(X1[i], X0), X1[i], X0) = (-1, Intervalos.Intervalo(0.0, 9.329254159543479e-5), Intervalos.Intervalo(0.0, 6.0))\n",
      "Xbis = Intervalos.Intervalo[Intervalos.Intervalo(0.0, 4.66957e-5), Intervalos.Intervalo(4.66957e-5, 9.32925e-5)]\n",
      "(\" Antes \", X1) = (\" Antes \", Intervalos.Intervalo[Intervalos.Intervalo(3.00002, 4.50148), Intervalos.Intervalo(1.50244, 3.00451), Intervalos.Intervalo(4.50148, 5.25082), Intervalos.Intervalo(0.752677, 1.50244), Intervalos.Intervalo(5.25082, 5.62608), Intervalos.Intervalo(0.376723, 0.752677), Intervalos.Intervalo(5.62608, 5.8134), Intervalos.Intervalo(0.188552, 0.376723), Intervalos.Intervalo(5.8134, 5.90676), Intervalos.Intervalo(0.0944598, 0.188552), Intervalos.Intervalo(5.90676, 5.95343), Intervalos.Intervalo(0.047286, 0.0944598), Intervalos.Intervalo(5.95343, 5.97673), Intervalos.Intervalo(0.0236567, 0.047286), Intervalos.Intervalo(5.97673, 5.98838), Intervalos.Intervalo(0.0118434, 0.0236567), Intervalos.Intervalo(5.98838, 5.99419), Intervalos.Intervalo(0.00593332, 0.0118434), Intervalos.Intervalo(5.99419, 5.9971), Intervalos.Intervalo(0.00296759, 0.00593332), Intervalos.Intervalo(5.9971, 5.99855), Intervalos.Intervalo(0.00148416, 0.00296759), Intervalos.Intervalo(5.99855, 5.99928), Intervalos.Intervalo(0.000743215, 0.00148416), Intervalos.Intervalo(5.99928, 5.99964), Intervalos.Intervalo(0.000372101, 0.000743215), Intervalos.Intervalo(5.99964, 5.99982), Intervalos.Intervalo(0.000186387, 0.000372101), Intervalos.Intervalo(5.99982, 5.99991), Intervalos.Intervalo(9.32925e-5, 0.000186387), Intervalos.Intervalo(5.99991, 5.99995), Intervalos.Intervalo(5.99995, 6.0)])\n",
      "(\" Después \", X1) = (\" Después \", Intervalos.Intervalo[Intervalos.Intervalo(3.00002, 4.50148), Intervalos.Intervalo(1.50244, 3.00451), Intervalos.Intervalo(4.50148, 5.25082), Intervalos.Intervalo(0.752677, 1.50244), Intervalos.Intervalo(5.25082, 5.62608), Intervalos.Intervalo(0.376723, 0.752677), Intervalos.Intervalo(5.62608, 5.8134), Intervalos.Intervalo(0.188552, 0.376723), Intervalos.Intervalo(5.8134, 5.90676), Intervalos.Intervalo(0.0944598, 0.188552), Intervalos.Intervalo(5.90676, 5.95343), Intervalos.Intervalo(0.047286, 0.0944598), Intervalos.Intervalo(5.95343, 5.97673), Intervalos.Intervalo(0.0236567, 0.047286), Intervalos.Intervalo(5.97673, 5.98838), Intervalos.Intervalo(0.0118434, 0.0236567), Intervalos.Intervalo(5.98838, 5.99419), Intervalos.Intervalo(0.00593332, 0.0118434), Intervalos.Intervalo(5.99419, 5.9971), Intervalos.Intervalo(0.00296759, 0.00593332), Intervalos.Intervalo(5.9971, 5.99855), Intervalos.Intervalo(0.00148416, 0.00296759), Intervalos.Intervalo(5.99855, 5.99928), Intervalos.Intervalo(0.000743215, 0.00148416), Intervalos.Intervalo(5.99928, 5.99964), Intervalos.Intervalo(0.000372101, 0.000743215), Intervalos.Intervalo(5.99964, 5.99982), Intervalos.Intervalo(0.000186387, 0.000372101), Intervalos.Intervalo(5.99982, 5.99991), Intervalos.Intervalo(9.32925e-5, 0.000186387), Intervalos.Intervalo(5.99991, 5.99995), Intervalos.Intervalo(5.99995, 6.0), Intervalos.Intervalo(0.0, 4.66957e-5), Intervalos.Intervalo(4.66957e-5, 9.32925e-5)])\n",
      "(uniqueRoot(X1[i], X0), X1[i], X0) = (1, Intervalos.Intervalo(9.329254159543479e-5, 0.00018638653362195657), Intervalos.Intervalo(0.0, 6.0))\n",
      "(uniqueRoot(X1[i], X0), X1[i], X0) = (1, Intervalos.Intervalo(5.999909898908977, 5.999954956915506), Intervalos.Intervalo(0.0, 6.0))\n",
      "(uniqueRoot(X1[i], X0), X1[i], X0) = (-1, Intervalos.Intervalo(5.999954956915506, 6.0), Intervalos.Intervalo(0.0, 6.0))\n",
      "Xbis = Intervalos.Intervalo[Intervalos.Intervalo(5.99995, 5.99998), Intervalos.Intervalo(5.99998, 6.0)]\n",
      "(\" Antes \", X1) = (\" Antes \", Intervalos.Intervalo[Intervalos.Intervalo(3.00002, 4.50148), Intervalos.Intervalo(1.50244, 3.00451), Intervalos.Intervalo(4.50148, 5.25082), Intervalos.Intervalo(0.752677, 1.50244), Intervalos.Intervalo(5.25082, 5.62608), Intervalos.Intervalo(0.376723, 0.752677), Intervalos.Intervalo(5.62608, 5.8134), Intervalos.Intervalo(0.188552, 0.376723), Intervalos.Intervalo(5.8134, 5.90676), Intervalos.Intervalo(0.0944598, 0.188552), Intervalos.Intervalo(5.90676, 5.95343), Intervalos.Intervalo(0.047286, 0.0944598), Intervalos.Intervalo(5.95343, 5.97673), Intervalos.Intervalo(0.0236567, 0.047286), Intervalos.Intervalo(5.97673, 5.98838), Intervalos.Intervalo(0.0118434, 0.0236567), Intervalos.Intervalo(5.98838, 5.99419), Intervalos.Intervalo(0.00593332, 0.0118434), Intervalos.Intervalo(5.99419, 5.9971), Intervalos.Intervalo(0.00296759, 0.00593332), Intervalos.Intervalo(5.9971, 5.99855), Intervalos.Intervalo(0.00148416, 0.00296759), Intervalos.Intervalo(5.99855, 5.99928), Intervalos.Intervalo(0.000743215, 0.00148416), Intervalos.Intervalo(5.99928, 5.99964), Intervalos.Intervalo(0.000372101, 0.000743215), Intervalos.Intervalo(5.99964, 5.99982), Intervalos.Intervalo(0.000186387, 0.000372101), Intervalos.Intervalo(5.99982, 5.99991), Intervalos.Intervalo(9.32925e-5, 0.000186387), Intervalos.Intervalo(5.99991, 5.99995), Intervalos.Intervalo(0.0, 4.66957e-5), Intervalos.Intervalo(4.66957e-5, 9.32925e-5)])\n",
      "(\" Después \", X1) = (\" Después \", Intervalos.Intervalo[Intervalos.Intervalo(3.00002, 4.50148), Intervalos.Intervalo(1.50244, 3.00451), Intervalos.Intervalo(4.50148, 5.25082), Intervalos.Intervalo(0.752677, 1.50244), Intervalos.Intervalo(5.25082, 5.62608), Intervalos.Intervalo(0.376723, 0.752677), Intervalos.Intervalo(5.62608, 5.8134), Intervalos.Intervalo(0.188552, 0.376723), Intervalos.Intervalo(5.8134, 5.90676), Intervalos.Intervalo(0.0944598, 0.188552), Intervalos.Intervalo(5.90676, 5.95343), Intervalos.Intervalo(0.047286, 0.0944598), Intervalos.Intervalo(5.95343, 5.97673), Intervalos.Intervalo(0.0236567, 0.047286), Intervalos.Intervalo(5.97673, 5.98838), Intervalos.Intervalo(0.0118434, 0.0236567), Intervalos.Intervalo(5.98838, 5.99419), Intervalos.Intervalo(0.00593332, 0.0118434), Intervalos.Intervalo(5.99419, 5.9971), Intervalos.Intervalo(0.00296759, 0.00593332), Intervalos.Intervalo(5.9971, 5.99855), Intervalos.Intervalo(0.00148416, 0.00296759), Intervalos.Intervalo(5.99855, 5.99928), Intervalos.Intervalo(0.000743215, 0.00148416), Intervalos.Intervalo(5.99928, 5.99964), Intervalos.Intervalo(0.000372101, 0.000743215), Intervalos.Intervalo(5.99964, 5.99982), Intervalos.Intervalo(0.000186387, 0.000372101), Intervalos.Intervalo(5.99982, 5.99991), Intervalos.Intervalo(9.32925e-5, 0.000186387), Intervalos.Intervalo(5.99991, 5.99995), Intervalos.Intervalo(0.0, 4.66957e-5), Intervalos.Intervalo(4.66957e-5, 9.32925e-5), Intervalos.Intervalo(5.99995, 5.99998), Intervalos.Intervalo(5.99998, 6.0)])\n"
     ]
    },
    {
     "name": "stdout",
     "output_type": "stream",
     "text": [
      "(uniqueRoot(X1[i], X0), X1[i], X0) = (-1, Intervalos.Intervalo(0.0, 4.6695651789238846e-5), Intervalos.Intervalo(0.0, 6.0))\n",
      "Xbis = Intervalos.Intervalo[Intervalos.Intervalo(0.0, 2.3382e-5), Intervalos.Intervalo(2.3382e-5, 4.66957e-5)]\n",
      "(\" Antes \", X1) = (\" Antes \", Intervalos.Intervalo[Intervalos.Intervalo(3.00002, 4.50148), Intervalos.Intervalo(1.50244, 3.00451), Intervalos.Intervalo(4.50148, 5.25082), Intervalos.Intervalo(0.752677, 1.50244), Intervalos.Intervalo(5.25082, 5.62608), Intervalos.Intervalo(0.376723, 0.752677), Intervalos.Intervalo(5.62608, 5.8134), Intervalos.Intervalo(0.188552, 0.376723), Intervalos.Intervalo(5.8134, 5.90676), Intervalos.Intervalo(0.0944598, 0.188552), Intervalos.Intervalo(5.90676, 5.95343), Intervalos.Intervalo(0.047286, 0.0944598), Intervalos.Intervalo(5.95343, 5.97673), Intervalos.Intervalo(0.0236567, 0.047286), Intervalos.Intervalo(5.97673, 5.98838), Intervalos.Intervalo(0.0118434, 0.0236567), Intervalos.Intervalo(5.98838, 5.99419), Intervalos.Intervalo(0.00593332, 0.0118434), Intervalos.Intervalo(5.99419, 5.9971), Intervalos.Intervalo(0.00296759, 0.00593332), Intervalos.Intervalo(5.9971, 5.99855), Intervalos.Intervalo(0.00148416, 0.00296759), Intervalos.Intervalo(5.99855, 5.99928), Intervalos.Intervalo(0.000743215, 0.00148416), Intervalos.Intervalo(5.99928, 5.99964), Intervalos.Intervalo(0.000372101, 0.000743215), Intervalos.Intervalo(5.99964, 5.99982), Intervalos.Intervalo(0.000186387, 0.000372101), Intervalos.Intervalo(5.99982, 5.99991), Intervalos.Intervalo(9.32925e-5, 0.000186387), Intervalos.Intervalo(5.99991, 5.99995), Intervalos.Intervalo(4.66957e-5, 9.32925e-5), Intervalos.Intervalo(5.99995, 5.99998), Intervalos.Intervalo(5.99998, 6.0)])\n",
      "(\" Después \", X1) = (\" Después \", Intervalos.Intervalo[Intervalos.Intervalo(3.00002, 4.50148), Intervalos.Intervalo(1.50244, 3.00451), Intervalos.Intervalo(4.50148, 5.25082), Intervalos.Intervalo(0.752677, 1.50244), Intervalos.Intervalo(5.25082, 5.62608), Intervalos.Intervalo(0.376723, 0.752677), Intervalos.Intervalo(5.62608, 5.8134), Intervalos.Intervalo(0.188552, 0.376723), Intervalos.Intervalo(5.8134, 5.90676), Intervalos.Intervalo(0.0944598, 0.188552), Intervalos.Intervalo(5.90676, 5.95343), Intervalos.Intervalo(0.047286, 0.0944598), Intervalos.Intervalo(5.95343, 5.97673), Intervalos.Intervalo(0.0236567, 0.047286), Intervalos.Intervalo(5.97673, 5.98838), Intervalos.Intervalo(0.0118434, 0.0236567), Intervalos.Intervalo(5.98838, 5.99419), Intervalos.Intervalo(0.00593332, 0.0118434), Intervalos.Intervalo(5.99419, 5.9971), Intervalos.Intervalo(0.00296759, 0.00593332), Intervalos.Intervalo(5.9971, 5.99855), Intervalos.Intervalo(0.00148416, 0.00296759), Intervalos.Intervalo(5.99855, 5.99928), Intervalos.Intervalo(0.000743215, 0.00148416), Intervalos.Intervalo(5.99928, 5.99964), Intervalos.Intervalo(0.000372101, 0.000743215), Intervalos.Intervalo(5.99964, 5.99982), Intervalos.Intervalo(0.000186387, 0.000372101), Intervalos.Intervalo(5.99982, 5.99991), Intervalos.Intervalo(9.32925e-5, 0.000186387), Intervalos.Intervalo(5.99991, 5.99995), Intervalos.Intervalo(4.66957e-5, 9.32925e-5), Intervalos.Intervalo(5.99995, 5.99998), Intervalos.Intervalo(5.99998, 6.0), Intervalos.Intervalo(0.0, 2.3382e-5), Intervalos.Intervalo(2.3382e-5, 4.66957e-5)])\n",
      "(uniqueRoot(X1[i], X0), X1[i], X0) = (1, Intervalos.Intervalo(4.6695651789238846e-5, 9.329254159543479e-5), Intervalos.Intervalo(0.0, 6.0))\n",
      "(uniqueRoot(X1[i], X0), X1[i], X0) = (1, Intervalos.Intervalo(5.999954956915506, 5.999977491330922), Intervalos.Intervalo(0.0, 6.0))\n",
      "(uniqueRoot(X1[i], X0), X1[i], X0) = (-1, Intervalos.Intervalo(5.999977491330922, 6.0), Intervalos.Intervalo(0.0, 6.0))\n",
      "Xbis = Intervalos.Intervalo[Intervalos.Intervalo(5.99998, 5.99999), Intervalos.Intervalo(5.99999, 6.0)]\n",
      "(\" Antes \", X1) = (\" Antes \", Intervalos.Intervalo[Intervalos.Intervalo(3.00002, 4.50148), Intervalos.Intervalo(1.50244, 3.00451), Intervalos.Intervalo(4.50148, 5.25082), Intervalos.Intervalo(0.752677, 1.50244), Intervalos.Intervalo(5.25082, 5.62608), Intervalos.Intervalo(0.376723, 0.752677), Intervalos.Intervalo(5.62608, 5.8134), Intervalos.Intervalo(0.188552, 0.376723), Intervalos.Intervalo(5.8134, 5.90676), Intervalos.Intervalo(0.0944598, 0.188552), Intervalos.Intervalo(5.90676, 5.95343), Intervalos.Intervalo(0.047286, 0.0944598), Intervalos.Intervalo(5.95343, 5.97673), Intervalos.Intervalo(0.0236567, 0.047286), Intervalos.Intervalo(5.97673, 5.98838), Intervalos.Intervalo(0.0118434, 0.0236567), Intervalos.Intervalo(5.98838, 5.99419), Intervalos.Intervalo(0.00593332, 0.0118434), Intervalos.Intervalo(5.99419, 5.9971), Intervalos.Intervalo(0.00296759, 0.00593332), Intervalos.Intervalo(5.9971, 5.99855), Intervalos.Intervalo(0.00148416, 0.00296759), Intervalos.Intervalo(5.99855, 5.99928), Intervalos.Intervalo(0.000743215, 0.00148416), Intervalos.Intervalo(5.99928, 5.99964), Intervalos.Intervalo(0.000372101, 0.000743215), Intervalos.Intervalo(5.99964, 5.99982), Intervalos.Intervalo(0.000186387, 0.000372101), Intervalos.Intervalo(5.99982, 5.99991), Intervalos.Intervalo(9.32925e-5, 0.000186387), Intervalos.Intervalo(5.99991, 5.99995), Intervalos.Intervalo(4.66957e-5, 9.32925e-5), Intervalos.Intervalo(5.99995, 5.99998), Intervalos.Intervalo(0.0, 2.3382e-5), Intervalos.Intervalo(2.3382e-5, 4.66957e-5)])\n",
      "(\" Después \", X1) = (\" Después \", Intervalos.Intervalo[Intervalos.Intervalo(3.00002, 4.50148), Intervalos.Intervalo(1.50244, 3.00451), Intervalos.Intervalo(4.50148, 5.25082), Intervalos.Intervalo(0.752677, 1.50244), Intervalos.Intervalo(5.25082, 5.62608), Intervalos.Intervalo(0.376723, 0.752677), Intervalos.Intervalo(5.62608, 5.8134), Intervalos.Intervalo(0.188552, 0.376723), Intervalos.Intervalo(5.8134, 5.90676), Intervalos.Intervalo(0.0944598, 0.188552), Intervalos.Intervalo(5.90676, 5.95343), Intervalos.Intervalo(0.047286, 0.0944598), Intervalos.Intervalo(5.95343, 5.97673), Intervalos.Intervalo(0.0236567, 0.047286), Intervalos.Intervalo(5.97673, 5.98838), Intervalos.Intervalo(0.0118434, 0.0236567), Intervalos.Intervalo(5.98838, 5.99419), Intervalos.Intervalo(0.00593332, 0.0118434), Intervalos.Intervalo(5.99419, 5.9971), Intervalos.Intervalo(0.00296759, 0.00593332), Intervalos.Intervalo(5.9971, 5.99855), Intervalos.Intervalo(0.00148416, 0.00296759), Intervalos.Intervalo(5.99855, 5.99928), Intervalos.Intervalo(0.000743215, 0.00148416), Intervalos.Intervalo(5.99928, 5.99964), Intervalos.Intervalo(0.000372101, 0.000743215), Intervalos.Intervalo(5.99964, 5.99982), Intervalos.Intervalo(0.000186387, 0.000372101), Intervalos.Intervalo(5.99982, 5.99991), Intervalos.Intervalo(9.32925e-5, 0.000186387), Intervalos.Intervalo(5.99991, 5.99995), Intervalos.Intervalo(4.66957e-5, 9.32925e-5), Intervalos.Intervalo(5.99995, 5.99998), Intervalos.Intervalo(0.0, 2.3382e-5), Intervalos.Intervalo(2.3382e-5, 4.66957e-5), Intervalos.Intervalo(5.99998, 5.99999), Intervalos.Intervalo(5.99999, 6.0)])\n",
      "(uniqueRoot(X1[i], X0), X1[i], X0) = (-1, Intervalos.Intervalo(0.0, 2.3382013697720303e-5), Intervalos.Intervalo(0.0, 6.0))\n",
      "Xbis = Intervalos.Intervalo[Intervalos.Intervalo(0.0, 1.17105e-5), Intervalos.Intervalo(1.17105e-5, 2.3382e-5)]\n",
      "(\" Antes \", X1) = (\" Antes \", Intervalos.Intervalo[Intervalos.Intervalo(3.00002, 4.50148), Intervalos.Intervalo(1.50244, 3.00451), Intervalos.Intervalo(4.50148, 5.25082), Intervalos.Intervalo(0.752677, 1.50244), Intervalos.Intervalo(5.25082, 5.62608), Intervalos.Intervalo(0.376723, 0.752677), Intervalos.Intervalo(5.62608, 5.8134), Intervalos.Intervalo(0.188552, 0.376723), Intervalos.Intervalo(5.8134, 5.90676), Intervalos.Intervalo(0.0944598, 0.188552), Intervalos.Intervalo(5.90676, 5.95343), Intervalos.Intervalo(0.047286, 0.0944598), Intervalos.Intervalo(5.95343, 5.97673), Intervalos.Intervalo(0.0236567, 0.047286), Intervalos.Intervalo(5.97673, 5.98838), Intervalos.Intervalo(0.0118434, 0.0236567), Intervalos.Intervalo(5.98838, 5.99419), Intervalos.Intervalo(0.00593332, 0.0118434), Intervalos.Intervalo(5.99419, 5.9971), Intervalos.Intervalo(0.00296759, 0.00593332), Intervalos.Intervalo(5.9971, 5.99855), Intervalos.Intervalo(0.00148416, 0.00296759), Intervalos.Intervalo(5.99855, 5.99928), Intervalos.Intervalo(0.000743215, 0.00148416), Intervalos.Intervalo(5.99928, 5.99964), Intervalos.Intervalo(0.000372101, 0.000743215), Intervalos.Intervalo(5.99964, 5.99982), Intervalos.Intervalo(0.000186387, 0.000372101), Intervalos.Intervalo(5.99982, 5.99991), Intervalos.Intervalo(9.32925e-5, 0.000186387), Intervalos.Intervalo(5.99991, 5.99995), Intervalos.Intervalo(4.66957e-5, 9.32925e-5), Intervalos.Intervalo(5.99995, 5.99998), Intervalos.Intervalo(2.3382e-5, 4.66957e-5), Intervalos.Intervalo(5.99998, 5.99999), Intervalos.Intervalo(5.99999, 6.0)])\n",
      "(\" Después \", X1) = (\" Después \", Intervalos.Intervalo[Intervalos.Intervalo(3.00002, 4.50148), Intervalos.Intervalo(1.50244, 3.00451), Intervalos.Intervalo(4.50148, 5.25082), Intervalos.Intervalo(0.752677, 1.50244), Intervalos.Intervalo(5.25082, 5.62608), Intervalos.Intervalo(0.376723, 0.752677), Intervalos.Intervalo(5.62608, 5.8134), Intervalos.Intervalo(0.188552, 0.376723), Intervalos.Intervalo(5.8134, 5.90676), Intervalos.Intervalo(0.0944598, 0.188552), Intervalos.Intervalo(5.90676, 5.95343), Intervalos.Intervalo(0.047286, 0.0944598), Intervalos.Intervalo(5.95343, 5.97673), Intervalos.Intervalo(0.0236567, 0.047286), Intervalos.Intervalo(5.97673, 5.98838), Intervalos.Intervalo(0.0118434, 0.0236567), Intervalos.Intervalo(5.98838, 5.99419), Intervalos.Intervalo(0.00593332, 0.0118434), Intervalos.Intervalo(5.99419, 5.9971), Intervalos.Intervalo(0.00296759, 0.00593332), Intervalos.Intervalo(5.9971, 5.99855), Intervalos.Intervalo(0.00148416, 0.00296759), Intervalos.Intervalo(5.99855, 5.99928), Intervalos.Intervalo(0.000743215, 0.00148416), Intervalos.Intervalo(5.99928, 5.99964), Intervalos.Intervalo(0.000372101, 0.000743215), Intervalos.Intervalo(5.99964, 5.99982), Intervalos.Intervalo(0.000186387, 0.000372101), Intervalos.Intervalo(5.99982, 5.99991), Intervalos.Intervalo(9.32925e-5, 0.000186387), Intervalos.Intervalo(5.99991, 5.99995), Intervalos.Intervalo(4.66957e-5, 9.32925e-5), Intervalos.Intervalo(5.99995, 5.99998), Intervalos.Intervalo(2.3382e-5, 4.66957e-5), Intervalos.Intervalo(5.99998, 5.99999), Intervalos.Intervalo(5.99999, 6.0), Intervalos.Intervalo(0.0, 1.17105e-5), Intervalos.Intervalo(1.17105e-5, 2.3382e-5)])\n"
     ]
    },
    {
     "name": "stdout",
     "output_type": "stream",
     "text": [
      "(uniqueRoot(X1[i], X0), X1[i], X0) = (1, Intervalos.Intervalo(2.3382013697720303e-5, 4.6695651789238846e-5), Intervalos.Intervalo(0.0, 6.0))\n",
      "(uniqueRoot(X1[i], X0), X1[i], X0) = (1, Intervalos.Intervalo(5.999977491330922, 5.99998875474022), Intervalos.Intervalo(0.0, 6.0))\n",
      "(uniqueRoot(X1[i], X0), X1[i], X0) = (-1, Intervalos.Intervalo(5.99998875474022, 6.0), Intervalos.Intervalo(0.0, 6.0))\n",
      "Xbis = Intervalos.Intervalo[Intervalos.Intervalo(5.99999, 5.99999), Intervalos.Intervalo(5.99999, 6.0)]\n",
      "(\" Antes \", X1) = (\" Antes \", Intervalos.Intervalo[Intervalos.Intervalo(3.00002, 4.50148), Intervalos.Intervalo(1.50244, 3.00451), Intervalos.Intervalo(4.50148, 5.25082), Intervalos.Intervalo(0.752677, 1.50244), Intervalos.Intervalo(5.25082, 5.62608), Intervalos.Intervalo(0.376723, 0.752677), Intervalos.Intervalo(5.62608, 5.8134), Intervalos.Intervalo(0.188552, 0.376723), Intervalos.Intervalo(5.8134, 5.90676), Intervalos.Intervalo(0.0944598, 0.188552), Intervalos.Intervalo(5.90676, 5.95343), Intervalos.Intervalo(0.047286, 0.0944598), Intervalos.Intervalo(5.95343, 5.97673), Intervalos.Intervalo(0.0236567, 0.047286), Intervalos.Intervalo(5.97673, 5.98838), Intervalos.Intervalo(0.0118434, 0.0236567), Intervalos.Intervalo(5.98838, 5.99419), Intervalos.Intervalo(0.00593332, 0.0118434), Intervalos.Intervalo(5.99419, 5.9971), Intervalos.Intervalo(0.00296759, 0.00593332), Intervalos.Intervalo(5.9971, 5.99855), Intervalos.Intervalo(0.00148416, 0.00296759), Intervalos.Intervalo(5.99855, 5.99928), Intervalos.Intervalo(0.000743215, 0.00148416), Intervalos.Intervalo(5.99928, 5.99964), Intervalos.Intervalo(0.000372101, 0.000743215), Intervalos.Intervalo(5.99964, 5.99982), Intervalos.Intervalo(0.000186387, 0.000372101), Intervalos.Intervalo(5.99982, 5.99991), Intervalos.Intervalo(9.32925e-5, 0.000186387), Intervalos.Intervalo(5.99991, 5.99995), Intervalos.Intervalo(4.66957e-5, 9.32925e-5), Intervalos.Intervalo(5.99995, 5.99998), Intervalos.Intervalo(2.3382e-5, 4.66957e-5), Intervalos.Intervalo(5.99998, 5.99999), Intervalos.Intervalo(0.0, 1.17105e-5), Intervalos.Intervalo(1.17105e-5, 2.3382e-5)])\n",
      "(\" Después \", X1) = (\" Después \", Intervalos.Intervalo[Intervalos.Intervalo(3.00002, 4.50148), Intervalos.Intervalo(1.50244, 3.00451), Intervalos.Intervalo(4.50148, 5.25082), Intervalos.Intervalo(0.752677, 1.50244), Intervalos.Intervalo(5.25082, 5.62608), Intervalos.Intervalo(0.376723, 0.752677), Intervalos.Intervalo(5.62608, 5.8134), Intervalos.Intervalo(0.188552, 0.376723), Intervalos.Intervalo(5.8134, 5.90676), Intervalos.Intervalo(0.0944598, 0.188552), Intervalos.Intervalo(5.90676, 5.95343), Intervalos.Intervalo(0.047286, 0.0944598), Intervalos.Intervalo(5.95343, 5.97673), Intervalos.Intervalo(0.0236567, 0.047286), Intervalos.Intervalo(5.97673, 5.98838), Intervalos.Intervalo(0.0118434, 0.0236567), Intervalos.Intervalo(5.98838, 5.99419), Intervalos.Intervalo(0.00593332, 0.0118434), Intervalos.Intervalo(5.99419, 5.9971), Intervalos.Intervalo(0.00296759, 0.00593332), Intervalos.Intervalo(5.9971, 5.99855), Intervalos.Intervalo(0.00148416, 0.00296759), Intervalos.Intervalo(5.99855, 5.99928), Intervalos.Intervalo(0.000743215, 0.00148416), Intervalos.Intervalo(5.99928, 5.99964), Intervalos.Intervalo(0.000372101, 0.000743215), Intervalos.Intervalo(5.99964, 5.99982), Intervalos.Intervalo(0.000186387, 0.000372101), Intervalos.Intervalo(5.99982, 5.99991), Intervalos.Intervalo(9.32925e-5, 0.000186387), Intervalos.Intervalo(5.99991, 5.99995), Intervalos.Intervalo(4.66957e-5, 9.32925e-5), Intervalos.Intervalo(5.99995, 5.99998), Intervalos.Intervalo(2.3382e-5, 4.66957e-5), Intervalos.Intervalo(5.99998, 5.99999), Intervalos.Intervalo(0.0, 1.17105e-5), Intervalos.Intervalo(1.17105e-5, 2.3382e-5), Intervalos.Intervalo(5.99999, 5.99999), Intervalos.Intervalo(5.99999, 6.0)])\n",
      "(uniqueRoot(X1[i], X0), X1[i], X0) = (-1, Intervalos.Intervalo(0.0, 1.17104983973681e-5), Intervalos.Intervalo(0.0, 6.0))\n",
      "Xbis = Intervalos.Intervalo[Intervalos.Intervalo(0.0, 5.86233e-6), Intervalos.Intervalo(5.86233e-6, 1.17105e-5)]\n",
      "(\" Antes \", X1) = (\" Antes \", Intervalos.Intervalo[Intervalos.Intervalo(3.00002, 4.50148), Intervalos.Intervalo(1.50244, 3.00451), Intervalos.Intervalo(4.50148, 5.25082), Intervalos.Intervalo(0.752677, 1.50244), Intervalos.Intervalo(5.25082, 5.62608), Intervalos.Intervalo(0.376723, 0.752677), Intervalos.Intervalo(5.62608, 5.8134), Intervalos.Intervalo(0.188552, 0.376723), Intervalos.Intervalo(5.8134, 5.90676), Intervalos.Intervalo(0.0944598, 0.188552), Intervalos.Intervalo(5.90676, 5.95343), Intervalos.Intervalo(0.047286, 0.0944598), Intervalos.Intervalo(5.95343, 5.97673), Intervalos.Intervalo(0.0236567, 0.047286), Intervalos.Intervalo(5.97673, 5.98838), Intervalos.Intervalo(0.0118434, 0.0236567), Intervalos.Intervalo(5.98838, 5.99419), Intervalos.Intervalo(0.00593332, 0.0118434), Intervalos.Intervalo(5.99419, 5.9971), Intervalos.Intervalo(0.00296759, 0.00593332), Intervalos.Intervalo(5.9971, 5.99855), Intervalos.Intervalo(0.00148416, 0.00296759), Intervalos.Intervalo(5.99855, 5.99928), Intervalos.Intervalo(0.000743215, 0.00148416), Intervalos.Intervalo(5.99928, 5.99964), Intervalos.Intervalo(0.000372101, 0.000743215), Intervalos.Intervalo(5.99964, 5.99982), Intervalos.Intervalo(0.000186387, 0.000372101), Intervalos.Intervalo(5.99982, 5.99991), Intervalos.Intervalo(9.32925e-5, 0.000186387), Intervalos.Intervalo(5.99991, 5.99995), Intervalos.Intervalo(4.66957e-5, 9.32925e-5), Intervalos.Intervalo(5.99995, 5.99998), Intervalos.Intervalo(2.3382e-5, 4.66957e-5), Intervalos.Intervalo(5.99998, 5.99999), Intervalos.Intervalo(1.17105e-5, 2.3382e-5), Intervalos.Intervalo(5.99999, 5.99999), Intervalos.Intervalo(5.99999, 6.0)])\n",
      "(\" Después \", X1) = (\" Después \", Intervalos.Intervalo[Intervalos.Intervalo(3.00002, 4.50148), Intervalos.Intervalo(1.50244, 3.00451), Intervalos.Intervalo(4.50148, 5.25082), Intervalos.Intervalo(0.752677, 1.50244), Intervalos.Intervalo(5.25082, 5.62608), Intervalos.Intervalo(0.376723, 0.752677), Intervalos.Intervalo(5.62608, 5.8134), Intervalos.Intervalo(0.188552, 0.376723), Intervalos.Intervalo(5.8134, 5.90676), Intervalos.Intervalo(0.0944598, 0.188552), Intervalos.Intervalo(5.90676, 5.95343), Intervalos.Intervalo(0.047286, 0.0944598), Intervalos.Intervalo(5.95343, 5.97673), Intervalos.Intervalo(0.0236567, 0.047286), Intervalos.Intervalo(5.97673, 5.98838), Intervalos.Intervalo(0.0118434, 0.0236567), Intervalos.Intervalo(5.98838, 5.99419), Intervalos.Intervalo(0.00593332, 0.0118434), Intervalos.Intervalo(5.99419, 5.9971), Intervalos.Intervalo(0.00296759, 0.00593332), Intervalos.Intervalo(5.9971, 5.99855), Intervalos.Intervalo(0.00148416, 0.00296759), Intervalos.Intervalo(5.99855, 5.99928), Intervalos.Intervalo(0.000743215, 0.00148416), Intervalos.Intervalo(5.99928, 5.99964), Intervalos.Intervalo(0.000372101, 0.000743215), Intervalos.Intervalo(5.99964, 5.99982), Intervalos.Intervalo(0.000186387, 0.000372101), Intervalos.Intervalo(5.99982, 5.99991), Intervalos.Intervalo(9.32925e-5, 0.000186387), Intervalos.Intervalo(5.99991, 5.99995), Intervalos.Intervalo(4.66957e-5, 9.32925e-5), Intervalos.Intervalo(5.99995, 5.99998), Intervalos.Intervalo(2.3382e-5, 4.66957e-5), Intervalos.Intervalo(5.99998, 5.99999), Intervalos.Intervalo(1.17105e-5, 2.3382e-5), Intervalos.Intervalo(5.99999, 5.99999), Intervalos.Intervalo(5.99999, 6.0), Intervalos.Intervalo(0.0, 5.86233e-6), Intervalos.Intervalo(5.86233e-6, 1.17105e-5)])\n",
      "(uniqueRoot(X1[i], X0), X1[i], X0) = (1, Intervalos.Intervalo(1.17104983973681e-5, 2.3382013697720303e-5), Intervalos.Intervalo(0.0, 6.0))\n",
      "(uniqueRoot(X1[i], X0), X1[i], X0) = (1, Intervalos.Intervalo(5.99998875474022, 5.999994378266101), Intervalos.Intervalo(0.0, 6.0))\n",
      "(uniqueRoot(X1[i], X0), X1[i], X0) = (-1, Intervalos.Intervalo(5.999994378266101, 6.0), Intervalos.Intervalo(0.0, 6.0))\n",
      "Xbis = Intervalos.Intervalo[Intervalos.Intervalo(5.99999, 6.0), Intervalos.Intervalo(6.0, 6.0)]\n",
      "(\" Antes \", X1) = (\" Antes \", Intervalos.Intervalo[Intervalos.Intervalo(3.00002, 4.50148), Intervalos.Intervalo(1.50244, 3.00451), Intervalos.Intervalo(4.50148, 5.25082), Intervalos.Intervalo(0.752677, 1.50244), Intervalos.Intervalo(5.25082, 5.62608), Intervalos.Intervalo(0.376723, 0.752677), Intervalos.Intervalo(5.62608, 5.8134), Intervalos.Intervalo(0.188552, 0.376723), Intervalos.Intervalo(5.8134, 5.90676), Intervalos.Intervalo(0.0944598, 0.188552), Intervalos.Intervalo(5.90676, 5.95343), Intervalos.Intervalo(0.047286, 0.0944598), Intervalos.Intervalo(5.95343, 5.97673), Intervalos.Intervalo(0.0236567, 0.047286), Intervalos.Intervalo(5.97673, 5.98838), Intervalos.Intervalo(0.0118434, 0.0236567), Intervalos.Intervalo(5.98838, 5.99419), Intervalos.Intervalo(0.00593332, 0.0118434), Intervalos.Intervalo(5.99419, 5.9971), Intervalos.Intervalo(0.00296759, 0.00593332), Intervalos.Intervalo(5.9971, 5.99855), Intervalos.Intervalo(0.00148416, 0.00296759), Intervalos.Intervalo(5.99855, 5.99928), Intervalos.Intervalo(0.000743215, 0.00148416), Intervalos.Intervalo(5.99928, 5.99964), Intervalos.Intervalo(0.000372101, 0.000743215), Intervalos.Intervalo(5.99964, 5.99982), Intervalos.Intervalo(0.000186387, 0.000372101), Intervalos.Intervalo(5.99982, 5.99991), Intervalos.Intervalo(9.32925e-5, 0.000186387), Intervalos.Intervalo(5.99991, 5.99995), Intervalos.Intervalo(4.66957e-5, 9.32925e-5), Intervalos.Intervalo(5.99995, 5.99998), Intervalos.Intervalo(2.3382e-5, 4.66957e-5), Intervalos.Intervalo(5.99998, 5.99999), Intervalos.Intervalo(1.17105e-5, 2.3382e-5), Intervalos.Intervalo(5.99999, 5.99999), Intervalos.Intervalo(0.0, 5.86233e-6), Intervalos.Intervalo(5.86233e-6, 1.17105e-5)])\n",
      "(\" Después \", X1) = (\" Después \", Intervalos.Intervalo[Intervalos.Intervalo(3.00002, 4.50148), Intervalos.Intervalo(1.50244, 3.00451), Intervalos.Intervalo(4.50148, 5.25082), Intervalos.Intervalo(0.752677, 1.50244), Intervalos.Intervalo(5.25082, 5.62608), Intervalos.Intervalo(0.376723, 0.752677), Intervalos.Intervalo(5.62608, 5.8134), Intervalos.Intervalo(0.188552, 0.376723), Intervalos.Intervalo(5.8134, 5.90676), Intervalos.Intervalo(0.0944598, 0.188552), Intervalos.Intervalo(5.90676, 5.95343), Intervalos.Intervalo(0.047286, 0.0944598), Intervalos.Intervalo(5.95343, 5.97673), Intervalos.Intervalo(0.0236567, 0.047286), Intervalos.Intervalo(5.97673, 5.98838), Intervalos.Intervalo(0.0118434, 0.0236567), Intervalos.Intervalo(5.98838, 5.99419), Intervalos.Intervalo(0.00593332, 0.0118434), Intervalos.Intervalo(5.99419, 5.9971), Intervalos.Intervalo(0.00296759, 0.00593332), Intervalos.Intervalo(5.9971, 5.99855), Intervalos.Intervalo(0.00148416, 0.00296759), Intervalos.Intervalo(5.99855, 5.99928), Intervalos.Intervalo(0.000743215, 0.00148416), Intervalos.Intervalo(5.99928, 5.99964), Intervalos.Intervalo(0.000372101, 0.000743215), Intervalos.Intervalo(5.99964, 5.99982), Intervalos.Intervalo(0.000186387, 0.000372101), Intervalos.Intervalo(5.99982, 5.99991), Intervalos.Intervalo(9.32925e-5, 0.000186387), Intervalos.Intervalo(5.99991, 5.99995), Intervalos.Intervalo(4.66957e-5, 9.32925e-5), Intervalos.Intervalo(5.99995, 5.99998), Intervalos.Intervalo(2.3382e-5, 4.66957e-5), Intervalos.Intervalo(5.99998, 5.99999), Intervalos.Intervalo(1.17105e-5, 2.3382e-5), Intervalos.Intervalo(5.99999, 5.99999), Intervalos.Intervalo(0.0, 5.86233e-6), Intervalos.Intervalo(5.86233e-6, 1.17105e-5), Intervalos.Intervalo(5.99999, 6.0), Intervalos.Intervalo(6.0, 6.0)])\n"
     ]
    },
    {
     "name": "stdout",
     "output_type": "stream",
     "text": [
      "(uniqueRoot(X1[i], X0), X1[i], X0) = (-1, Intervalos.Intervalo(0.0, 5.862330769794893e-6), Intervalos.Intervalo(0.0, 6.0))\n",
      "Xbis = Intervalos.Intervalo[Intervalos.Intervalo(0.0, 2.93377e-6), Intervalos.Intervalo(2.93377e-6, 5.86233e-6)]\n",
      "(\" Antes \", X1) = (\" Antes \", Intervalos.Intervalo[Intervalos.Intervalo(3.00002, 4.50148), Intervalos.Intervalo(1.50244, 3.00451), Intervalos.Intervalo(4.50148, 5.25082), Intervalos.Intervalo(0.752677, 1.50244), Intervalos.Intervalo(5.25082, 5.62608), Intervalos.Intervalo(0.376723, 0.752677), Intervalos.Intervalo(5.62608, 5.8134), Intervalos.Intervalo(0.188552, 0.376723), Intervalos.Intervalo(5.8134, 5.90676), Intervalos.Intervalo(0.0944598, 0.188552), Intervalos.Intervalo(5.90676, 5.95343), Intervalos.Intervalo(0.047286, 0.0944598), Intervalos.Intervalo(5.95343, 5.97673), Intervalos.Intervalo(0.0236567, 0.047286), Intervalos.Intervalo(5.97673, 5.98838), Intervalos.Intervalo(0.0118434, 0.0236567), Intervalos.Intervalo(5.98838, 5.99419), Intervalos.Intervalo(0.00593332, 0.0118434), Intervalos.Intervalo(5.99419, 5.9971), Intervalos.Intervalo(0.00296759, 0.00593332), Intervalos.Intervalo(5.9971, 5.99855), Intervalos.Intervalo(0.00148416, 0.00296759), Intervalos.Intervalo(5.99855, 5.99928), Intervalos.Intervalo(0.000743215, 0.00148416), Intervalos.Intervalo(5.99928, 5.99964), Intervalos.Intervalo(0.000372101, 0.000743215), Intervalos.Intervalo(5.99964, 5.99982), Intervalos.Intervalo(0.000186387, 0.000372101), Intervalos.Intervalo(5.99982, 5.99991), Intervalos.Intervalo(9.32925e-5, 0.000186387), Intervalos.Intervalo(5.99991, 5.99995), Intervalos.Intervalo(4.66957e-5, 9.32925e-5), Intervalos.Intervalo(5.99995, 5.99998), Intervalos.Intervalo(2.3382e-5, 4.66957e-5), Intervalos.Intervalo(5.99998, 5.99999), Intervalos.Intervalo(1.17105e-5, 2.3382e-5), Intervalos.Intervalo(5.99999, 5.99999), Intervalos.Intervalo(5.86233e-6, 1.17105e-5), Intervalos.Intervalo(5.99999, 6.0), Intervalos.Intervalo(6.0, 6.0)])\n",
      "(\" Después \", X1) = (\" Después \", Intervalos.Intervalo[Intervalos.Intervalo(3.00002, 4.50148), Intervalos.Intervalo(1.50244, 3.00451), Intervalos.Intervalo(4.50148, 5.25082), Intervalos.Intervalo(0.752677, 1.50244), Intervalos.Intervalo(5.25082, 5.62608), Intervalos.Intervalo(0.376723, 0.752677), Intervalos.Intervalo(5.62608, 5.8134), Intervalos.Intervalo(0.188552, 0.376723), Intervalos.Intervalo(5.8134, 5.90676), Intervalos.Intervalo(0.0944598, 0.188552), Intervalos.Intervalo(5.90676, 5.95343), Intervalos.Intervalo(0.047286, 0.0944598), Intervalos.Intervalo(5.95343, 5.97673), Intervalos.Intervalo(0.0236567, 0.047286), Intervalos.Intervalo(5.97673, 5.98838), Intervalos.Intervalo(0.0118434, 0.0236567), Intervalos.Intervalo(5.98838, 5.99419), Intervalos.Intervalo(0.00593332, 0.0118434), Intervalos.Intervalo(5.99419, 5.9971), Intervalos.Intervalo(0.00296759, 0.00593332), Intervalos.Intervalo(5.9971, 5.99855), Intervalos.Intervalo(0.00148416, 0.00296759), Intervalos.Intervalo(5.99855, 5.99928), Intervalos.Intervalo(0.000743215, 0.00148416), Intervalos.Intervalo(5.99928, 5.99964), Intervalos.Intervalo(0.000372101, 0.000743215), Intervalos.Intervalo(5.99964, 5.99982), Intervalos.Intervalo(0.000186387, 0.000372101), Intervalos.Intervalo(5.99982, 5.99991), Intervalos.Intervalo(9.32925e-5, 0.000186387), Intervalos.Intervalo(5.99991, 5.99995), Intervalos.Intervalo(4.66957e-5, 9.32925e-5), Intervalos.Intervalo(5.99995, 5.99998), Intervalos.Intervalo(2.3382e-5, 4.66957e-5), Intervalos.Intervalo(5.99998, 5.99999), Intervalos.Intervalo(1.17105e-5, 2.3382e-5), Intervalos.Intervalo(5.99999, 5.99999), Intervalos.Intervalo(5.86233e-6, 1.17105e-5), Intervalos.Intervalo(5.99999, 6.0), Intervalos.Intervalo(6.0, 6.0), Intervalos.Intervalo(0.0, 2.93377e-6), Intervalos.Intervalo(2.93377e-6, 5.86233e-6)])\n",
      "(uniqueRoot(X1[i], X0), X1[i], X0) = (1, Intervalos.Intervalo(5.862330769794893e-6, 1.17104983973681e-5), Intervalos.Intervalo(0.0, 6.0))\n",
      "(uniqueRoot(X1[i], X0), X1[i], X0) = (1, Intervalos.Intervalo(5.999994378266101, 5.999997193924397), Intervalos.Intervalo(0.0, 6.0))\n",
      "(uniqueRoot(X1[i], X0), X1[i], X0) = (-1, Intervalos.Intervalo(5.999997193924397, 6.0), Intervalos.Intervalo(0.0, 6.0))\n",
      "Xbis = Intervalos.Intervalo[Intervalos.Intervalo(6.0, 6.0), Intervalos.Intervalo(6.0, 6.0)]\n",
      "(\" Antes \", X1) = (\" Antes \", Intervalos.Intervalo[Intervalos.Intervalo(3.00002, 4.50148), Intervalos.Intervalo(1.50244, 3.00451), Intervalos.Intervalo(4.50148, 5.25082), Intervalos.Intervalo(0.752677, 1.50244), Intervalos.Intervalo(5.25082, 5.62608), Intervalos.Intervalo(0.376723, 0.752677), Intervalos.Intervalo(5.62608, 5.8134), Intervalos.Intervalo(0.188552, 0.376723), Intervalos.Intervalo(5.8134, 5.90676), Intervalos.Intervalo(0.0944598, 0.188552), Intervalos.Intervalo(5.90676, 5.95343), Intervalos.Intervalo(0.047286, 0.0944598), Intervalos.Intervalo(5.95343, 5.97673), Intervalos.Intervalo(0.0236567, 0.047286), Intervalos.Intervalo(5.97673, 5.98838), Intervalos.Intervalo(0.0118434, 0.0236567), Intervalos.Intervalo(5.98838, 5.99419), Intervalos.Intervalo(0.00593332, 0.0118434), Intervalos.Intervalo(5.99419, 5.9971), Intervalos.Intervalo(0.00296759, 0.00593332), Intervalos.Intervalo(5.9971, 5.99855), Intervalos.Intervalo(0.00148416, 0.00296759), Intervalos.Intervalo(5.99855, 5.99928), Intervalos.Intervalo(0.000743215, 0.00148416), Intervalos.Intervalo(5.99928, 5.99964), Intervalos.Intervalo(0.000372101, 0.000743215), Intervalos.Intervalo(5.99964, 5.99982), Intervalos.Intervalo(0.000186387, 0.000372101), Intervalos.Intervalo(5.99982, 5.99991), Intervalos.Intervalo(9.32925e-5, 0.000186387), Intervalos.Intervalo(5.99991, 5.99995), Intervalos.Intervalo(4.66957e-5, 9.32925e-5), Intervalos.Intervalo(5.99995, 5.99998), Intervalos.Intervalo(2.3382e-5, 4.66957e-5), Intervalos.Intervalo(5.99998, 5.99999), Intervalos.Intervalo(1.17105e-5, 2.3382e-5), Intervalos.Intervalo(5.99999, 5.99999), Intervalos.Intervalo(5.86233e-6, 1.17105e-5), Intervalos.Intervalo(5.99999, 6.0), Intervalos.Intervalo(0.0, 2.93377e-6), Intervalos.Intervalo(2.93377e-6, 5.86233e-6)])\n",
      "(\" Después \", X1) = (\" Después \", Intervalos.Intervalo[Intervalos.Intervalo(3.00002, 4.50148), Intervalos.Intervalo(1.50244, 3.00451), Intervalos.Intervalo(4.50148, 5.25082), Intervalos.Intervalo(0.752677, 1.50244), Intervalos.Intervalo(5.25082, 5.62608), Intervalos.Intervalo(0.376723, 0.752677), Intervalos.Intervalo(5.62608, 5.8134), Intervalos.Intervalo(0.188552, 0.376723), Intervalos.Intervalo(5.8134, 5.90676), Intervalos.Intervalo(0.0944598, 0.188552), Intervalos.Intervalo(5.90676, 5.95343), Intervalos.Intervalo(0.047286, 0.0944598), Intervalos.Intervalo(5.95343, 5.97673), Intervalos.Intervalo(0.0236567, 0.047286), Intervalos.Intervalo(5.97673, 5.98838), Intervalos.Intervalo(0.0118434, 0.0236567), Intervalos.Intervalo(5.98838, 5.99419), Intervalos.Intervalo(0.00593332, 0.0118434), Intervalos.Intervalo(5.99419, 5.9971), Intervalos.Intervalo(0.00296759, 0.00593332), Intervalos.Intervalo(5.9971, 5.99855), Intervalos.Intervalo(0.00148416, 0.00296759), Intervalos.Intervalo(5.99855, 5.99928), Intervalos.Intervalo(0.000743215, 0.00148416), Intervalos.Intervalo(5.99928, 5.99964), Intervalos.Intervalo(0.000372101, 0.000743215), Intervalos.Intervalo(5.99964, 5.99982), Intervalos.Intervalo(0.000186387, 0.000372101), Intervalos.Intervalo(5.99982, 5.99991), Intervalos.Intervalo(9.32925e-5, 0.000186387), Intervalos.Intervalo(5.99991, 5.99995), Intervalos.Intervalo(4.66957e-5, 9.32925e-5), Intervalos.Intervalo(5.99995, 5.99998), Intervalos.Intervalo(2.3382e-5, 4.66957e-5), Intervalos.Intervalo(5.99998, 5.99999), Intervalos.Intervalo(1.17105e-5, 2.3382e-5), Intervalos.Intervalo(5.99999, 5.99999), Intervalos.Intervalo(5.86233e-6, 1.17105e-5), Intervalos.Intervalo(5.99999, 6.0), Intervalos.Intervalo(0.0, 2.93377e-6), Intervalos.Intervalo(2.93377e-6, 5.86233e-6), Intervalos.Intervalo(6.0, 6.0), Intervalos.Intervalo(6.0, 6.0)])\n",
      "(uniqueRoot(X1[i], X0), X1[i], X0) = (-1, Intervalos.Intervalo(0.0, 2.9337688219739897e-6), Intervalos.Intervalo(0.0, 6.0))\n",
      "Xbis = Intervalos.Intervalo[Intervalos.Intervalo(0.0, 1.46788e-6), Intervalos.Intervalo(1.46788e-6, 2.93377e-6)]\n",
      "(\" Antes \", X1) = (\" Antes \", Intervalos.Intervalo[Intervalos.Intervalo(3.00002, 4.50148), Intervalos.Intervalo(1.50244, 3.00451), Intervalos.Intervalo(4.50148, 5.25082), Intervalos.Intervalo(0.752677, 1.50244), Intervalos.Intervalo(5.25082, 5.62608), Intervalos.Intervalo(0.376723, 0.752677), Intervalos.Intervalo(5.62608, 5.8134), Intervalos.Intervalo(0.188552, 0.376723), Intervalos.Intervalo(5.8134, 5.90676), Intervalos.Intervalo(0.0944598, 0.188552), Intervalos.Intervalo(5.90676, 5.95343), Intervalos.Intervalo(0.047286, 0.0944598), Intervalos.Intervalo(5.95343, 5.97673), Intervalos.Intervalo(0.0236567, 0.047286), Intervalos.Intervalo(5.97673, 5.98838), Intervalos.Intervalo(0.0118434, 0.0236567), Intervalos.Intervalo(5.98838, 5.99419), Intervalos.Intervalo(0.00593332, 0.0118434), Intervalos.Intervalo(5.99419, 5.9971), Intervalos.Intervalo(0.00296759, 0.00593332), Intervalos.Intervalo(5.9971, 5.99855), Intervalos.Intervalo(0.00148416, 0.00296759), Intervalos.Intervalo(5.99855, 5.99928), Intervalos.Intervalo(0.000743215, 0.00148416), Intervalos.Intervalo(5.99928, 5.99964), Intervalos.Intervalo(0.000372101, 0.000743215), Intervalos.Intervalo(5.99964, 5.99982), Intervalos.Intervalo(0.000186387, 0.000372101), Intervalos.Intervalo(5.99982, 5.99991), Intervalos.Intervalo(9.32925e-5, 0.000186387), Intervalos.Intervalo(5.99991, 5.99995), Intervalos.Intervalo(4.66957e-5, 9.32925e-5), Intervalos.Intervalo(5.99995, 5.99998), Intervalos.Intervalo(2.3382e-5, 4.66957e-5), Intervalos.Intervalo(5.99998, 5.99999), Intervalos.Intervalo(1.17105e-5, 2.3382e-5), Intervalos.Intervalo(5.99999, 5.99999), Intervalos.Intervalo(5.86233e-6, 1.17105e-5), Intervalos.Intervalo(5.99999, 6.0), Intervalos.Intervalo(2.93377e-6, 5.86233e-6), Intervalos.Intervalo(6.0, 6.0), Intervalos.Intervalo(6.0, 6.0)])\n"
     ]
    },
    {
     "name": "stdout",
     "output_type": "stream",
     "text": [
      "(\" Después \", X1) = (\" Después \", Intervalos.Intervalo[Intervalos.Intervalo(3.00002, 4.50148), Intervalos.Intervalo(1.50244, 3.00451), Intervalos.Intervalo(4.50148, 5.25082), Intervalos.Intervalo(0.752677, 1.50244), Intervalos.Intervalo(5.25082, 5.62608), Intervalos.Intervalo(0.376723, 0.752677), Intervalos.Intervalo(5.62608, 5.8134), Intervalos.Intervalo(0.188552, 0.376723), Intervalos.Intervalo(5.8134, 5.90676), Intervalos.Intervalo(0.0944598, 0.188552), Intervalos.Intervalo(5.90676, 5.95343), Intervalos.Intervalo(0.047286, 0.0944598), Intervalos.Intervalo(5.95343, 5.97673), Intervalos.Intervalo(0.0236567, 0.047286), Intervalos.Intervalo(5.97673, 5.98838), Intervalos.Intervalo(0.0118434, 0.0236567), Intervalos.Intervalo(5.98838, 5.99419), Intervalos.Intervalo(0.00593332, 0.0118434), Intervalos.Intervalo(5.99419, 5.9971), Intervalos.Intervalo(0.00296759, 0.00593332), Intervalos.Intervalo(5.9971, 5.99855), Intervalos.Intervalo(0.00148416, 0.00296759), Intervalos.Intervalo(5.99855, 5.99928), Intervalos.Intervalo(0.000743215, 0.00148416), Intervalos.Intervalo(5.99928, 5.99964), Intervalos.Intervalo(0.000372101, 0.000743215), Intervalos.Intervalo(5.99964, 5.99982), Intervalos.Intervalo(0.000186387, 0.000372101), Intervalos.Intervalo(5.99982, 5.99991), Intervalos.Intervalo(9.32925e-5, 0.000186387), Intervalos.Intervalo(5.99991, 5.99995), Intervalos.Intervalo(4.66957e-5, 9.32925e-5), Intervalos.Intervalo(5.99995, 5.99998), Intervalos.Intervalo(2.3382e-5, 4.66957e-5), Intervalos.Intervalo(5.99998, 5.99999), Intervalos.Intervalo(1.17105e-5, 2.3382e-5), Intervalos.Intervalo(5.99999, 5.99999), Intervalos.Intervalo(5.86233e-6, 1.17105e-5), Intervalos.Intervalo(5.99999, 6.0), Intervalos.Intervalo(2.93377e-6, 5.86233e-6), Intervalos.Intervalo(6.0, 6.0), Intervalos.Intervalo(6.0, 6.0), Intervalos.Intervalo(0.0, 1.46788e-6), Intervalos.Intervalo(1.46788e-6, 2.93377e-6)])\n",
      "(uniqueRoot(X1[i], X0), X1[i], X0) = (1, Intervalos.Intervalo(2.9337688219739897e-6, 5.862330769794893e-6), Intervalos.Intervalo(0.0, 6.0))\n",
      "(uniqueRoot(X1[i], X0), X1[i], X0) = (1, Intervalos.Intervalo(5.999997193924397, 5.999998597348352), Intervalos.Intervalo(0.0, 6.0))\n",
      "(uniqueRoot(X1[i], X0), X1[i], X0) = (-1, Intervalos.Intervalo(5.999998597348352, 6.0), Intervalos.Intervalo(0.0, 6.0))\n",
      "Xbis = Intervalos.Intervalo[Intervalos.Intervalo(6.0, 6.0), Intervalos.Intervalo(6.0, 6.0)]\n",
      "(\" Antes \", X1) = (\" Antes \", Intervalos.Intervalo[Intervalos.Intervalo(3.00002, 4.50148), Intervalos.Intervalo(1.50244, 3.00451), Intervalos.Intervalo(4.50148, 5.25082), Intervalos.Intervalo(0.752677, 1.50244), Intervalos.Intervalo(5.25082, 5.62608), Intervalos.Intervalo(0.376723, 0.752677), Intervalos.Intervalo(5.62608, 5.8134), Intervalos.Intervalo(0.188552, 0.376723), Intervalos.Intervalo(5.8134, 5.90676), Intervalos.Intervalo(0.0944598, 0.188552), Intervalos.Intervalo(5.90676, 5.95343), Intervalos.Intervalo(0.047286, 0.0944598), Intervalos.Intervalo(5.95343, 5.97673), Intervalos.Intervalo(0.0236567, 0.047286), Intervalos.Intervalo(5.97673, 5.98838), Intervalos.Intervalo(0.0118434, 0.0236567), Intervalos.Intervalo(5.98838, 5.99419), Intervalos.Intervalo(0.00593332, 0.0118434), Intervalos.Intervalo(5.99419, 5.9971), Intervalos.Intervalo(0.00296759, 0.00593332), Intervalos.Intervalo(5.9971, 5.99855), Intervalos.Intervalo(0.00148416, 0.00296759), Intervalos.Intervalo(5.99855, 5.99928), Intervalos.Intervalo(0.000743215, 0.00148416), Intervalos.Intervalo(5.99928, 5.99964), Intervalos.Intervalo(0.000372101, 0.000743215), Intervalos.Intervalo(5.99964, 5.99982), Intervalos.Intervalo(0.000186387, 0.000372101), Intervalos.Intervalo(5.99982, 5.99991), Intervalos.Intervalo(9.32925e-5, 0.000186387), Intervalos.Intervalo(5.99991, 5.99995), Intervalos.Intervalo(4.66957e-5, 9.32925e-5), Intervalos.Intervalo(5.99995, 5.99998), Intervalos.Intervalo(2.3382e-5, 4.66957e-5), Intervalos.Intervalo(5.99998, 5.99999), Intervalos.Intervalo(1.17105e-5, 2.3382e-5), Intervalos.Intervalo(5.99999, 5.99999), Intervalos.Intervalo(5.86233e-6, 1.17105e-5), Intervalos.Intervalo(5.99999, 6.0), Intervalos.Intervalo(2.93377e-6, 5.86233e-6), Intervalos.Intervalo(6.0, 6.0), Intervalos.Intervalo(0.0, 1.46788e-6), Intervalos.Intervalo(1.46788e-6, 2.93377e-6)])\n",
      "(\" Después \", X1) = (\" Después \", Intervalos.Intervalo[Intervalos.Intervalo(3.00002, 4.50148), Intervalos.Intervalo(1.50244, 3.00451), Intervalos.Intervalo(4.50148, 5.25082), Intervalos.Intervalo(0.752677, 1.50244), Intervalos.Intervalo(5.25082, 5.62608), Intervalos.Intervalo(0.376723, 0.752677), Intervalos.Intervalo(5.62608, 5.8134), Intervalos.Intervalo(0.188552, 0.376723), Intervalos.Intervalo(5.8134, 5.90676), Intervalos.Intervalo(0.0944598, 0.188552), Intervalos.Intervalo(5.90676, 5.95343), Intervalos.Intervalo(0.047286, 0.0944598), Intervalos.Intervalo(5.95343, 5.97673), Intervalos.Intervalo(0.0236567, 0.047286), Intervalos.Intervalo(5.97673, 5.98838), Intervalos.Intervalo(0.0118434, 0.0236567), Intervalos.Intervalo(5.98838, 5.99419), Intervalos.Intervalo(0.00593332, 0.0118434), Intervalos.Intervalo(5.99419, 5.9971), Intervalos.Intervalo(0.00296759, 0.00593332), Intervalos.Intervalo(5.9971, 5.99855), Intervalos.Intervalo(0.00148416, 0.00296759), Intervalos.Intervalo(5.99855, 5.99928), Intervalos.Intervalo(0.000743215, 0.00148416), Intervalos.Intervalo(5.99928, 5.99964), Intervalos.Intervalo(0.000372101, 0.000743215), Intervalos.Intervalo(5.99964, 5.99982), Intervalos.Intervalo(0.000186387, 0.000372101), Intervalos.Intervalo(5.99982, 5.99991), Intervalos.Intervalo(9.32925e-5, 0.000186387), Intervalos.Intervalo(5.99991, 5.99995), Intervalos.Intervalo(4.66957e-5, 9.32925e-5), Intervalos.Intervalo(5.99995, 5.99998), Intervalos.Intervalo(2.3382e-5, 4.66957e-5), Intervalos.Intervalo(5.99998, 5.99999), Intervalos.Intervalo(1.17105e-5, 2.3382e-5), Intervalos.Intervalo(5.99999, 5.99999), Intervalos.Intervalo(5.86233e-6, 1.17105e-5), Intervalos.Intervalo(5.99999, 6.0), Intervalos.Intervalo(2.93377e-6, 5.86233e-6), Intervalos.Intervalo(6.0, 6.0), Intervalos.Intervalo(0.0, 1.46788e-6), Intervalos.Intervalo(1.46788e-6, 2.93377e-6), Intervalos.Intervalo(6.0, 6.0), Intervalos.Intervalo(6.0, 6.0)])\n",
      "(uniqueRoot(X1[i], X0), X1[i], X0) = (-1, Intervalos.Intervalo(0.0, 1.4678782706322956e-6), Intervalos.Intervalo(0.0, 6.0))\n",
      "Xbis = Intervalos.Intervalo[Intervalos.Intervalo(0.0, 7.35144e-7), Intervalos.Intervalo(7.35144e-7, 1.46788e-6)]\n",
      "(\" Antes \", X1) = (\" Antes \", Intervalos.Intervalo[Intervalos.Intervalo(3.00002, 4.50148), Intervalos.Intervalo(1.50244, 3.00451), Intervalos.Intervalo(4.50148, 5.25082), Intervalos.Intervalo(0.752677, 1.50244), Intervalos.Intervalo(5.25082, 5.62608), Intervalos.Intervalo(0.376723, 0.752677), Intervalos.Intervalo(5.62608, 5.8134), Intervalos.Intervalo(0.188552, 0.376723), Intervalos.Intervalo(5.8134, 5.90676), Intervalos.Intervalo(0.0944598, 0.188552), Intervalos.Intervalo(5.90676, 5.95343), Intervalos.Intervalo(0.047286, 0.0944598), Intervalos.Intervalo(5.95343, 5.97673), Intervalos.Intervalo(0.0236567, 0.047286), Intervalos.Intervalo(5.97673, 5.98838), Intervalos.Intervalo(0.0118434, 0.0236567), Intervalos.Intervalo(5.98838, 5.99419), Intervalos.Intervalo(0.00593332, 0.0118434), Intervalos.Intervalo(5.99419, 5.9971), Intervalos.Intervalo(0.00296759, 0.00593332), Intervalos.Intervalo(5.9971, 5.99855), Intervalos.Intervalo(0.00148416, 0.00296759), Intervalos.Intervalo(5.99855, 5.99928), Intervalos.Intervalo(0.000743215, 0.00148416), Intervalos.Intervalo(5.99928, 5.99964), Intervalos.Intervalo(0.000372101, 0.000743215), Intervalos.Intervalo(5.99964, 5.99982), Intervalos.Intervalo(0.000186387, 0.000372101), Intervalos.Intervalo(5.99982, 5.99991), Intervalos.Intervalo(9.32925e-5, 0.000186387), Intervalos.Intervalo(5.99991, 5.99995), Intervalos.Intervalo(4.66957e-5, 9.32925e-5), Intervalos.Intervalo(5.99995, 5.99998), Intervalos.Intervalo(2.3382e-5, 4.66957e-5), Intervalos.Intervalo(5.99998, 5.99999), Intervalos.Intervalo(1.17105e-5, 2.3382e-5), Intervalos.Intervalo(5.99999, 5.99999), Intervalos.Intervalo(5.86233e-6, 1.17105e-5), Intervalos.Intervalo(5.99999, 6.0), Intervalos.Intervalo(2.93377e-6, 5.86233e-6), Intervalos.Intervalo(6.0, 6.0), Intervalos.Intervalo(1.46788e-6, 2.93377e-6), Intervalos.Intervalo(6.0, 6.0), Intervalos.Intervalo(6.0, 6.0)])\n",
      "(\" Después \", X1) = (\" Después \", Intervalos.Intervalo[Intervalos.Intervalo(3.00002, 4.50148), Intervalos.Intervalo(1.50244, 3.00451), Intervalos.Intervalo(4.50148, 5.25082), Intervalos.Intervalo(0.752677, 1.50244), Intervalos.Intervalo(5.25082, 5.62608), Intervalos.Intervalo(0.376723, 0.752677), Intervalos.Intervalo(5.62608, 5.8134), Intervalos.Intervalo(0.188552, 0.376723), Intervalos.Intervalo(5.8134, 5.90676), Intervalos.Intervalo(0.0944598, 0.188552), Intervalos.Intervalo(5.90676, 5.95343), Intervalos.Intervalo(0.047286, 0.0944598), Intervalos.Intervalo(5.95343, 5.97673), Intervalos.Intervalo(0.0236567, 0.047286), Intervalos.Intervalo(5.97673, 5.98838), Intervalos.Intervalo(0.0118434, 0.0236567), Intervalos.Intervalo(5.98838, 5.99419), Intervalos.Intervalo(0.00593332, 0.0118434), Intervalos.Intervalo(5.99419, 5.9971), Intervalos.Intervalo(0.00296759, 0.00593332), Intervalos.Intervalo(5.9971, 5.99855), Intervalos.Intervalo(0.00148416, 0.00296759), Intervalos.Intervalo(5.99855, 5.99928), Intervalos.Intervalo(0.000743215, 0.00148416), Intervalos.Intervalo(5.99928, 5.99964), Intervalos.Intervalo(0.000372101, 0.000743215), Intervalos.Intervalo(5.99964, 5.99982), Intervalos.Intervalo(0.000186387, 0.000372101), Intervalos.Intervalo(5.99982, 5.99991), Intervalos.Intervalo(9.32925e-5, 0.000186387), Intervalos.Intervalo(5.99991, 5.99995), Intervalos.Intervalo(4.66957e-5, 9.32925e-5), Intervalos.Intervalo(5.99995, 5.99998), Intervalos.Intervalo(2.3382e-5, 4.66957e-5), Intervalos.Intervalo(5.99998, 5.99999), Intervalos.Intervalo(1.17105e-5, 2.3382e-5), Intervalos.Intervalo(5.99999, 5.99999), Intervalos.Intervalo(5.86233e-6, 1.17105e-5), Intervalos.Intervalo(5.99999, 6.0), Intervalos.Intervalo(2.93377e-6, 5.86233e-6), Intervalos.Intervalo(6.0, 6.0), Intervalos.Intervalo(1.46788e-6, 2.93377e-6), Intervalos.Intervalo(6.0, 6.0), Intervalos.Intervalo(6.0, 6.0), Intervalos.Intervalo(0.0, 7.35144e-7), Intervalos.Intervalo(7.35144e-7, 1.46788e-6)])\n"
     ]
    },
    {
     "name": "stdout",
     "output_type": "stream",
     "text": [
      "(uniqueRoot(X1[i], X0), X1[i], X0) = (1, Intervalos.Intervalo(1.4678782706322956e-6, 2.9337688219739897e-6), Intervalos.Intervalo(0.0, 6.0))\n",
      "(uniqueRoot(X1[i], X0), X1[i], X0) = (1, Intervalos.Intervalo(5.999998597348352, 5.999999299231195), Intervalos.Intervalo(0.0, 6.0))\n",
      "(uniqueRoot(X1[i], X0), X1[i], X0) = (-1, Intervalos.Intervalo(5.999999299231195, 6.0), Intervalos.Intervalo(0.0, 6.0))\n",
      "Xbis = Intervalos.Intervalo[Intervalos.Intervalo(6.0, 6.0), Intervalos.Intervalo(6.0, 6.0)]\n",
      "(\" Antes \", X1) = (\" Antes \", Intervalos.Intervalo[Intervalos.Intervalo(3.00002, 4.50148), Intervalos.Intervalo(1.50244, 3.00451), Intervalos.Intervalo(4.50148, 5.25082), Intervalos.Intervalo(0.752677, 1.50244), Intervalos.Intervalo(5.25082, 5.62608), Intervalos.Intervalo(0.376723, 0.752677), Intervalos.Intervalo(5.62608, 5.8134), Intervalos.Intervalo(0.188552, 0.376723), Intervalos.Intervalo(5.8134, 5.90676), Intervalos.Intervalo(0.0944598, 0.188552), Intervalos.Intervalo(5.90676, 5.95343), Intervalos.Intervalo(0.047286, 0.0944598), Intervalos.Intervalo(5.95343, 5.97673), Intervalos.Intervalo(0.0236567, 0.047286), Intervalos.Intervalo(5.97673, 5.98838), Intervalos.Intervalo(0.0118434, 0.0236567), Intervalos.Intervalo(5.98838, 5.99419), Intervalos.Intervalo(0.00593332, 0.0118434), Intervalos.Intervalo(5.99419, 5.9971), Intervalos.Intervalo(0.00296759, 0.00593332), Intervalos.Intervalo(5.9971, 5.99855), Intervalos.Intervalo(0.00148416, 0.00296759), Intervalos.Intervalo(5.99855, 5.99928), Intervalos.Intervalo(0.000743215, 0.00148416), Intervalos.Intervalo(5.99928, 5.99964), Intervalos.Intervalo(0.000372101, 0.000743215), Intervalos.Intervalo(5.99964, 5.99982), Intervalos.Intervalo(0.000186387, 0.000372101), Intervalos.Intervalo(5.99982, 5.99991), Intervalos.Intervalo(9.32925e-5, 0.000186387), Intervalos.Intervalo(5.99991, 5.99995), Intervalos.Intervalo(4.66957e-5, 9.32925e-5), Intervalos.Intervalo(5.99995, 5.99998), Intervalos.Intervalo(2.3382e-5, 4.66957e-5), Intervalos.Intervalo(5.99998, 5.99999), Intervalos.Intervalo(1.17105e-5, 2.3382e-5), Intervalos.Intervalo(5.99999, 5.99999), Intervalos.Intervalo(5.86233e-6, 1.17105e-5), Intervalos.Intervalo(5.99999, 6.0), Intervalos.Intervalo(2.93377e-6, 5.86233e-6), Intervalos.Intervalo(6.0, 6.0), Intervalos.Intervalo(1.46788e-6, 2.93377e-6), Intervalos.Intervalo(6.0, 6.0), Intervalos.Intervalo(0.0, 7.35144e-7), Intervalos.Intervalo(7.35144e-7, 1.46788e-6)])\n",
      "(\" Después \", X1) = (\" Después \", Intervalos.Intervalo[Intervalos.Intervalo(3.00002, 4.50148), Intervalos.Intervalo(1.50244, 3.00451), Intervalos.Intervalo(4.50148, 5.25082), Intervalos.Intervalo(0.752677, 1.50244), Intervalos.Intervalo(5.25082, 5.62608), Intervalos.Intervalo(0.376723, 0.752677), Intervalos.Intervalo(5.62608, 5.8134), Intervalos.Intervalo(0.188552, 0.376723), Intervalos.Intervalo(5.8134, 5.90676), Intervalos.Intervalo(0.0944598, 0.188552), Intervalos.Intervalo(5.90676, 5.95343), Intervalos.Intervalo(0.047286, 0.0944598), Intervalos.Intervalo(5.95343, 5.97673), Intervalos.Intervalo(0.0236567, 0.047286), Intervalos.Intervalo(5.97673, 5.98838), Intervalos.Intervalo(0.0118434, 0.0236567), Intervalos.Intervalo(5.98838, 5.99419), Intervalos.Intervalo(0.00593332, 0.0118434), Intervalos.Intervalo(5.99419, 5.9971), Intervalos.Intervalo(0.00296759, 0.00593332), Intervalos.Intervalo(5.9971, 5.99855), Intervalos.Intervalo(0.00148416, 0.00296759), Intervalos.Intervalo(5.99855, 5.99928), Intervalos.Intervalo(0.000743215, 0.00148416), Intervalos.Intervalo(5.99928, 5.99964), Intervalos.Intervalo(0.000372101, 0.000743215), Intervalos.Intervalo(5.99964, 5.99982), Intervalos.Intervalo(0.000186387, 0.000372101), Intervalos.Intervalo(5.99982, 5.99991), Intervalos.Intervalo(9.32925e-5, 0.000186387), Intervalos.Intervalo(5.99991, 5.99995), Intervalos.Intervalo(4.66957e-5, 9.32925e-5), Intervalos.Intervalo(5.99995, 5.99998), Intervalos.Intervalo(2.3382e-5, 4.66957e-5), Intervalos.Intervalo(5.99998, 5.99999), Intervalos.Intervalo(1.17105e-5, 2.3382e-5), Intervalos.Intervalo(5.99999, 5.99999), Intervalos.Intervalo(5.86233e-6, 1.17105e-5), Intervalos.Intervalo(5.99999, 6.0), Intervalos.Intervalo(2.93377e-6, 5.86233e-6), Intervalos.Intervalo(6.0, 6.0), Intervalos.Intervalo(1.46788e-6, 2.93377e-6), Intervalos.Intervalo(6.0, 6.0), Intervalos.Intervalo(0.0, 7.35144e-7), Intervalos.Intervalo(7.35144e-7, 1.46788e-6), Intervalos.Intervalo(6.0, 6.0), Intervalos.Intervalo(6.0, 6.0)])\n",
      "(uniqueRoot(X1[i], X0), X1[i], X0) = (-1, Intervalos.Intervalo(0.0, 7.351438653122567e-7), Intervalos.Intervalo(0.0, 6.0))\n",
      "Xbis = Intervalos.Intervalo[Intervalos.Intervalo(0.0, 3.67709e-7), Intervalos.Intervalo(3.67709e-7, 7.35144e-7)]\n",
      "(\" Antes \", X1) = (\" Antes \", Intervalos.Intervalo[Intervalos.Intervalo(3.00002, 4.50148), Intervalos.Intervalo(1.50244, 3.00451), Intervalos.Intervalo(4.50148, 5.25082), Intervalos.Intervalo(0.752677, 1.50244), Intervalos.Intervalo(5.25082, 5.62608), Intervalos.Intervalo(0.376723, 0.752677), Intervalos.Intervalo(5.62608, 5.8134), Intervalos.Intervalo(0.188552, 0.376723), Intervalos.Intervalo(5.8134, 5.90676), Intervalos.Intervalo(0.0944598, 0.188552), Intervalos.Intervalo(5.90676, 5.95343), Intervalos.Intervalo(0.047286, 0.0944598), Intervalos.Intervalo(5.95343, 5.97673), Intervalos.Intervalo(0.0236567, 0.047286), Intervalos.Intervalo(5.97673, 5.98838), Intervalos.Intervalo(0.0118434, 0.0236567), Intervalos.Intervalo(5.98838, 5.99419), Intervalos.Intervalo(0.00593332, 0.0118434), Intervalos.Intervalo(5.99419, 5.9971), Intervalos.Intervalo(0.00296759, 0.00593332), Intervalos.Intervalo(5.9971, 5.99855), Intervalos.Intervalo(0.00148416, 0.00296759), Intervalos.Intervalo(5.99855, 5.99928), Intervalos.Intervalo(0.000743215, 0.00148416), Intervalos.Intervalo(5.99928, 5.99964), Intervalos.Intervalo(0.000372101, 0.000743215), Intervalos.Intervalo(5.99964, 5.99982), Intervalos.Intervalo(0.000186387, 0.000372101), Intervalos.Intervalo(5.99982, 5.99991), Intervalos.Intervalo(9.32925e-5, 0.000186387), Intervalos.Intervalo(5.99991, 5.99995), Intervalos.Intervalo(4.66957e-5, 9.32925e-5), Intervalos.Intervalo(5.99995, 5.99998), Intervalos.Intervalo(2.3382e-5, 4.66957e-5), Intervalos.Intervalo(5.99998, 5.99999), Intervalos.Intervalo(1.17105e-5, 2.3382e-5), Intervalos.Intervalo(5.99999, 5.99999), Intervalos.Intervalo(5.86233e-6, 1.17105e-5), Intervalos.Intervalo(5.99999, 6.0), Intervalos.Intervalo(2.93377e-6, 5.86233e-6), Intervalos.Intervalo(6.0, 6.0), Intervalos.Intervalo(1.46788e-6, 2.93377e-6), Intervalos.Intervalo(6.0, 6.0), Intervalos.Intervalo(7.35144e-7, 1.46788e-6), Intervalos.Intervalo(6.0, 6.0), Intervalos.Intervalo(6.0, 6.0)])\n",
      "(\" Después \", X1) = (\" Después \", Intervalos.Intervalo[Intervalos.Intervalo(3.00002, 4.50148), Intervalos.Intervalo(1.50244, 3.00451), Intervalos.Intervalo(4.50148, 5.25082), Intervalos.Intervalo(0.752677, 1.50244), Intervalos.Intervalo(5.25082, 5.62608), Intervalos.Intervalo(0.376723, 0.752677), Intervalos.Intervalo(5.62608, 5.8134), Intervalos.Intervalo(0.188552, 0.376723), Intervalos.Intervalo(5.8134, 5.90676), Intervalos.Intervalo(0.0944598, 0.188552), Intervalos.Intervalo(5.90676, 5.95343), Intervalos.Intervalo(0.047286, 0.0944598), Intervalos.Intervalo(5.95343, 5.97673), Intervalos.Intervalo(0.0236567, 0.047286), Intervalos.Intervalo(5.97673, 5.98838), Intervalos.Intervalo(0.0118434, 0.0236567), Intervalos.Intervalo(5.98838, 5.99419), Intervalos.Intervalo(0.00593332, 0.0118434), Intervalos.Intervalo(5.99419, 5.9971), Intervalos.Intervalo(0.00296759, 0.00593332), Intervalos.Intervalo(5.9971, 5.99855), Intervalos.Intervalo(0.00148416, 0.00296759), Intervalos.Intervalo(5.99855, 5.99928), Intervalos.Intervalo(0.000743215, 0.00148416), Intervalos.Intervalo(5.99928, 5.99964), Intervalos.Intervalo(0.000372101, 0.000743215), Intervalos.Intervalo(5.99964, 5.99982), Intervalos.Intervalo(0.000186387, 0.000372101), Intervalos.Intervalo(5.99982, 5.99991), Intervalos.Intervalo(9.32925e-5, 0.000186387), Intervalos.Intervalo(5.99991, 5.99995), Intervalos.Intervalo(4.66957e-5, 9.32925e-5), Intervalos.Intervalo(5.99995, 5.99998), Intervalos.Intervalo(2.3382e-5, 4.66957e-5), Intervalos.Intervalo(5.99998, 5.99999), Intervalos.Intervalo(1.17105e-5, 2.3382e-5), Intervalos.Intervalo(5.99999, 5.99999), Intervalos.Intervalo(5.86233e-6, 1.17105e-5), Intervalos.Intervalo(5.99999, 6.0), Intervalos.Intervalo(2.93377e-6, 5.86233e-6), Intervalos.Intervalo(6.0, 6.0), Intervalos.Intervalo(1.46788e-6, 2.93377e-6), Intervalos.Intervalo(6.0, 6.0), Intervalos.Intervalo(7.35144e-7, 1.46788e-6), Intervalos.Intervalo(6.0, 6.0), Intervalos.Intervalo(6.0, 6.0), Intervalos.Intervalo(0.0, 3.67709e-7), Intervalos.Intervalo(3.67709e-7, 7.35144e-7)])\n",
      "(uniqueRoot(X1[i], X0), X1[i], X0) = (1, Intervalos.Intervalo(7.351438653122567e-7, 1.4678782706322956e-6), Intervalos.Intervalo(0.0, 6.0))\n",
      "(uniqueRoot(X1[i], X0), X1[i], X0) = (1, Intervalos.Intervalo(5.999999299231195, 5.999999649872668), Intervalos.Intervalo(0.0, 6.0))\n",
      "(uniqueRoot(X1[i], X0), X1[i], X0) = (-1, Intervalos.Intervalo(5.999999649872668, 6.0), Intervalos.Intervalo(0.0, 6.0))\n",
      "Xbis = Intervalos.Intervalo[Intervalos.Intervalo(6.0, 6.0), Intervalos.Intervalo(6.0, 6.0)]\n"
     ]
    },
    {
     "name": "stdout",
     "output_type": "stream",
     "text": [
      "(\" Antes \", X1) = (\" Antes \", Intervalos.Intervalo[Intervalos.Intervalo(3.00002, 4.50148), Intervalos.Intervalo(1.50244, 3.00451), Intervalos.Intervalo(4.50148, 5.25082), Intervalos.Intervalo(0.752677, 1.50244), Intervalos.Intervalo(5.25082, 5.62608), Intervalos.Intervalo(0.376723, 0.752677), Intervalos.Intervalo(5.62608, 5.8134), Intervalos.Intervalo(0.188552, 0.376723), Intervalos.Intervalo(5.8134, 5.90676), Intervalos.Intervalo(0.0944598, 0.188552), Intervalos.Intervalo(5.90676, 5.95343), Intervalos.Intervalo(0.047286, 0.0944598), Intervalos.Intervalo(5.95343, 5.97673), Intervalos.Intervalo(0.0236567, 0.047286), Intervalos.Intervalo(5.97673, 5.98838), Intervalos.Intervalo(0.0118434, 0.0236567), Intervalos.Intervalo(5.98838, 5.99419), Intervalos.Intervalo(0.00593332, 0.0118434), Intervalos.Intervalo(5.99419, 5.9971), Intervalos.Intervalo(0.00296759, 0.00593332), Intervalos.Intervalo(5.9971, 5.99855), Intervalos.Intervalo(0.00148416, 0.00296759), Intervalos.Intervalo(5.99855, 5.99928), Intervalos.Intervalo(0.000743215, 0.00148416), Intervalos.Intervalo(5.99928, 5.99964), Intervalos.Intervalo(0.000372101, 0.000743215), Intervalos.Intervalo(5.99964, 5.99982), Intervalos.Intervalo(0.000186387, 0.000372101), Intervalos.Intervalo(5.99982, 5.99991), Intervalos.Intervalo(9.32925e-5, 0.000186387), Intervalos.Intervalo(5.99991, 5.99995), Intervalos.Intervalo(4.66957e-5, 9.32925e-5), Intervalos.Intervalo(5.99995, 5.99998), Intervalos.Intervalo(2.3382e-5, 4.66957e-5), Intervalos.Intervalo(5.99998, 5.99999), Intervalos.Intervalo(1.17105e-5, 2.3382e-5), Intervalos.Intervalo(5.99999, 5.99999), Intervalos.Intervalo(5.86233e-6, 1.17105e-5), Intervalos.Intervalo(5.99999, 6.0), Intervalos.Intervalo(2.93377e-6, 5.86233e-6), Intervalos.Intervalo(6.0, 6.0), Intervalos.Intervalo(1.46788e-6, 2.93377e-6), Intervalos.Intervalo(6.0, 6.0), Intervalos.Intervalo(7.35144e-7, 1.46788e-6), Intervalos.Intervalo(6.0, 6.0), Intervalos.Intervalo(0.0, 3.67709e-7), Intervalos.Intervalo(3.67709e-7, 7.35144e-7)])\n",
      "(\" Después \", X1) = (\" Después \", Intervalos.Intervalo[Intervalos.Intervalo(3.00002, 4.50148), Intervalos.Intervalo(1.50244, 3.00451), Intervalos.Intervalo(4.50148, 5.25082), Intervalos.Intervalo(0.752677, 1.50244), Intervalos.Intervalo(5.25082, 5.62608), Intervalos.Intervalo(0.376723, 0.752677), Intervalos.Intervalo(5.62608, 5.8134), Intervalos.Intervalo(0.188552, 0.376723), Intervalos.Intervalo(5.8134, 5.90676), Intervalos.Intervalo(0.0944598, 0.188552), Intervalos.Intervalo(5.90676, 5.95343), Intervalos.Intervalo(0.047286, 0.0944598), Intervalos.Intervalo(5.95343, 5.97673), Intervalos.Intervalo(0.0236567, 0.047286), Intervalos.Intervalo(5.97673, 5.98838), Intervalos.Intervalo(0.0118434, 0.0236567), Intervalos.Intervalo(5.98838, 5.99419), Intervalos.Intervalo(0.00593332, 0.0118434), Intervalos.Intervalo(5.99419, 5.9971), Intervalos.Intervalo(0.00296759, 0.00593332), Intervalos.Intervalo(5.9971, 5.99855), Intervalos.Intervalo(0.00148416, 0.00296759), Intervalos.Intervalo(5.99855, 5.99928), Intervalos.Intervalo(0.000743215, 0.00148416), Intervalos.Intervalo(5.99928, 5.99964), Intervalos.Intervalo(0.000372101, 0.000743215), Intervalos.Intervalo(5.99964, 5.99982), Intervalos.Intervalo(0.000186387, 0.000372101), Intervalos.Intervalo(5.99982, 5.99991), Intervalos.Intervalo(9.32925e-5, 0.000186387), Intervalos.Intervalo(5.99991, 5.99995), Intervalos.Intervalo(4.66957e-5, 9.32925e-5), Intervalos.Intervalo(5.99995, 5.99998), Intervalos.Intervalo(2.3382e-5, 4.66957e-5), Intervalos.Intervalo(5.99998, 5.99999), Intervalos.Intervalo(1.17105e-5, 2.3382e-5), Intervalos.Intervalo(5.99999, 5.99999), Intervalos.Intervalo(5.86233e-6, 1.17105e-5), Intervalos.Intervalo(5.99999, 6.0), Intervalos.Intervalo(2.93377e-6, 5.86233e-6), Intervalos.Intervalo(6.0, 6.0), Intervalos.Intervalo(1.46788e-6, 2.93377e-6), Intervalos.Intervalo(6.0, 6.0), Intervalos.Intervalo(7.35144e-7, 1.46788e-6), Intervalos.Intervalo(6.0, 6.0), Intervalos.Intervalo(0.0, 3.67709e-7), Intervalos.Intervalo(3.67709e-7, 7.35144e-7), Intervalos.Intervalo(6.0, 6.0), Intervalos.Intervalo(6.0, 6.0)])\n",
      "(uniqueRoot(X1[i], X0), X1[i], X0) = (-1, Intervalos.Intervalo(0.0, 3.67709230756417e-7), Intervalos.Intervalo(0.0, 6.0))\n",
      "Xbis = Intervalos.Intervalo[Intervalos.Intervalo(0.0, 1.84113e-7), Intervalos.Intervalo(1.84113e-7, 3.67709e-7)]\n",
      "(\" Antes \", X1) = (\" Antes \", Intervalos.Intervalo[Intervalos.Intervalo(3.00002, 4.50148), Intervalos.Intervalo(1.50244, 3.00451), Intervalos.Intervalo(4.50148, 5.25082), Intervalos.Intervalo(0.752677, 1.50244), Intervalos.Intervalo(5.25082, 5.62608), Intervalos.Intervalo(0.376723, 0.752677), Intervalos.Intervalo(5.62608, 5.8134), Intervalos.Intervalo(0.188552, 0.376723), Intervalos.Intervalo(5.8134, 5.90676), Intervalos.Intervalo(0.0944598, 0.188552), Intervalos.Intervalo(5.90676, 5.95343), Intervalos.Intervalo(0.047286, 0.0944598), Intervalos.Intervalo(5.95343, 5.97673), Intervalos.Intervalo(0.0236567, 0.047286), Intervalos.Intervalo(5.97673, 5.98838), Intervalos.Intervalo(0.0118434, 0.0236567), Intervalos.Intervalo(5.98838, 5.99419), Intervalos.Intervalo(0.00593332, 0.0118434), Intervalos.Intervalo(5.99419, 5.9971), Intervalos.Intervalo(0.00296759, 0.00593332), Intervalos.Intervalo(5.9971, 5.99855), Intervalos.Intervalo(0.00148416, 0.00296759), Intervalos.Intervalo(5.99855, 5.99928), Intervalos.Intervalo(0.000743215, 0.00148416), Intervalos.Intervalo(5.99928, 5.99964), Intervalos.Intervalo(0.000372101, 0.000743215), Intervalos.Intervalo(5.99964, 5.99982), Intervalos.Intervalo(0.000186387, 0.000372101), Intervalos.Intervalo(5.99982, 5.99991), Intervalos.Intervalo(9.32925e-5, 0.000186387), Intervalos.Intervalo(5.99991, 5.99995), Intervalos.Intervalo(4.66957e-5, 9.32925e-5), Intervalos.Intervalo(5.99995, 5.99998), Intervalos.Intervalo(2.3382e-5, 4.66957e-5), Intervalos.Intervalo(5.99998, 5.99999), Intervalos.Intervalo(1.17105e-5, 2.3382e-5), Intervalos.Intervalo(5.99999, 5.99999), Intervalos.Intervalo(5.86233e-6, 1.17105e-5), Intervalos.Intervalo(5.99999, 6.0), Intervalos.Intervalo(2.93377e-6, 5.86233e-6), Intervalos.Intervalo(6.0, 6.0), Intervalos.Intervalo(1.46788e-6, 2.93377e-6), Intervalos.Intervalo(6.0, 6.0), Intervalos.Intervalo(7.35144e-7, 1.46788e-6), Intervalos.Intervalo(6.0, 6.0), Intervalos.Intervalo(3.67709e-7, 7.35144e-7), Intervalos.Intervalo(6.0, 6.0), Intervalos.Intervalo(6.0, 6.0)])\n",
      "(\" Después \", X1) = (\" Después \", Intervalos.Intervalo[Intervalos.Intervalo(3.00002, 4.50148), Intervalos.Intervalo(1.50244, 3.00451), Intervalos.Intervalo(4.50148, 5.25082), Intervalos.Intervalo(0.752677, 1.50244), Intervalos.Intervalo(5.25082, 5.62608), Intervalos.Intervalo(0.376723, 0.752677), Intervalos.Intervalo(5.62608, 5.8134), Intervalos.Intervalo(0.188552, 0.376723), Intervalos.Intervalo(5.8134, 5.90676), Intervalos.Intervalo(0.0944598, 0.188552), Intervalos.Intervalo(5.90676, 5.95343), Intervalos.Intervalo(0.047286, 0.0944598), Intervalos.Intervalo(5.95343, 5.97673), Intervalos.Intervalo(0.0236567, 0.047286), Intervalos.Intervalo(5.97673, 5.98838), Intervalos.Intervalo(0.0118434, 0.0236567), Intervalos.Intervalo(5.98838, 5.99419), Intervalos.Intervalo(0.00593332, 0.0118434), Intervalos.Intervalo(5.99419, 5.9971), Intervalos.Intervalo(0.00296759, 0.00593332), Intervalos.Intervalo(5.9971, 5.99855), Intervalos.Intervalo(0.00148416, 0.00296759), Intervalos.Intervalo(5.99855, 5.99928), Intervalos.Intervalo(0.000743215, 0.00148416), Intervalos.Intervalo(5.99928, 5.99964), Intervalos.Intervalo(0.000372101, 0.000743215), Intervalos.Intervalo(5.99964, 5.99982), Intervalos.Intervalo(0.000186387, 0.000372101), Intervalos.Intervalo(5.99982, 5.99991), Intervalos.Intervalo(9.32925e-5, 0.000186387), Intervalos.Intervalo(5.99991, 5.99995), Intervalos.Intervalo(4.66957e-5, 9.32925e-5), Intervalos.Intervalo(5.99995, 5.99998), Intervalos.Intervalo(2.3382e-5, 4.66957e-5), Intervalos.Intervalo(5.99998, 5.99999), Intervalos.Intervalo(1.17105e-5, 2.3382e-5), Intervalos.Intervalo(5.99999, 5.99999), Intervalos.Intervalo(5.86233e-6, 1.17105e-5), Intervalos.Intervalo(5.99999, 6.0), Intervalos.Intervalo(2.93377e-6, 5.86233e-6), Intervalos.Intervalo(6.0, 6.0), Intervalos.Intervalo(1.46788e-6, 2.93377e-6), Intervalos.Intervalo(6.0, 6.0), Intervalos.Intervalo(7.35144e-7, 1.46788e-6), Intervalos.Intervalo(6.0, 6.0), Intervalos.Intervalo(3.67709e-7, 7.35144e-7), Intervalos.Intervalo(6.0, 6.0), Intervalos.Intervalo(6.0, 6.0), Intervalos.Intervalo(0.0, 1.84113e-7), Intervalos.Intervalo(1.84113e-7, 3.67709e-7)])\n",
      "(uniqueRoot(X1[i], X0), X1[i], X0) = (1, Intervalos.Intervalo(3.67709230756417e-7, 7.351438653122567e-7), Intervalos.Intervalo(0.0, 6.0))\n",
      "(uniqueRoot(X1[i], X0), X1[i], X0) = (1, Intervalos.Intervalo(5.999999649872668, 5.999999825262836), Intervalos.Intervalo(0.0, 6.0))\n",
      "(uniqueRoot(X1[i], X0), X1[i], X0) = (-1, Intervalos.Intervalo(5.999999825262836, 6.0), Intervalos.Intervalo(0.0, 6.0))\n",
      "Xbis = Intervalos.Intervalo[Intervalos.Intervalo(6.0, 6.0), Intervalos.Intervalo(6.0, 6.0)]\n",
      "(\" Antes \", X1) = (\" Antes \", Intervalos.Intervalo[Intervalos.Intervalo(3.00002, 4.50148), Intervalos.Intervalo(1.50244, 3.00451), Intervalos.Intervalo(4.50148, 5.25082), Intervalos.Intervalo(0.752677, 1.50244), Intervalos.Intervalo(5.25082, 5.62608), Intervalos.Intervalo(0.376723, 0.752677), Intervalos.Intervalo(5.62608, 5.8134), Intervalos.Intervalo(0.188552, 0.376723), Intervalos.Intervalo(5.8134, 5.90676), Intervalos.Intervalo(0.0944598, 0.188552), Intervalos.Intervalo(5.90676, 5.95343), Intervalos.Intervalo(0.047286, 0.0944598), Intervalos.Intervalo(5.95343, 5.97673), Intervalos.Intervalo(0.0236567, 0.047286), Intervalos.Intervalo(5.97673, 5.98838), Intervalos.Intervalo(0.0118434, 0.0236567), Intervalos.Intervalo(5.98838, 5.99419), Intervalos.Intervalo(0.00593332, 0.0118434), Intervalos.Intervalo(5.99419, 5.9971), Intervalos.Intervalo(0.00296759, 0.00593332), Intervalos.Intervalo(5.9971, 5.99855), Intervalos.Intervalo(0.00148416, 0.00296759), Intervalos.Intervalo(5.99855, 5.99928), Intervalos.Intervalo(0.000743215, 0.00148416), Intervalos.Intervalo(5.99928, 5.99964), Intervalos.Intervalo(0.000372101, 0.000743215), Intervalos.Intervalo(5.99964, 5.99982), Intervalos.Intervalo(0.000186387, 0.000372101), Intervalos.Intervalo(5.99982, 5.99991), Intervalos.Intervalo(9.32925e-5, 0.000186387), Intervalos.Intervalo(5.99991, 5.99995), Intervalos.Intervalo(4.66957e-5, 9.32925e-5), Intervalos.Intervalo(5.99995, 5.99998), Intervalos.Intervalo(2.3382e-5, 4.66957e-5), Intervalos.Intervalo(5.99998, 5.99999), Intervalos.Intervalo(1.17105e-5, 2.3382e-5), Intervalos.Intervalo(5.99999, 5.99999), Intervalos.Intervalo(5.86233e-6, 1.17105e-5), Intervalos.Intervalo(5.99999, 6.0), Intervalos.Intervalo(2.93377e-6, 5.86233e-6), Intervalos.Intervalo(6.0, 6.0), Intervalos.Intervalo(1.46788e-6, 2.93377e-6), Intervalos.Intervalo(6.0, 6.0), Intervalos.Intervalo(7.35144e-7, 1.46788e-6), Intervalos.Intervalo(6.0, 6.0), Intervalos.Intervalo(3.67709e-7, 7.35144e-7), Intervalos.Intervalo(6.0, 6.0), Intervalos.Intervalo(0.0, 1.84113e-7), Intervalos.Intervalo(1.84113e-7, 3.67709e-7)])\n",
      "(\" Después \", X1) = (\" Después \", Intervalos.Intervalo[Intervalos.Intervalo(3.00002, 4.50148), Intervalos.Intervalo(1.50244, 3.00451), Intervalos.Intervalo(4.50148, 5.25082), Intervalos.Intervalo(0.752677, 1.50244), Intervalos.Intervalo(5.25082, 5.62608), Intervalos.Intervalo(0.376723, 0.752677), Intervalos.Intervalo(5.62608, 5.8134), Intervalos.Intervalo(0.188552, 0.376723), Intervalos.Intervalo(5.8134, 5.90676), Intervalos.Intervalo(0.0944598, 0.188552), Intervalos.Intervalo(5.90676, 5.95343), Intervalos.Intervalo(0.047286, 0.0944598), Intervalos.Intervalo(5.95343, 5.97673), Intervalos.Intervalo(0.0236567, 0.047286), Intervalos.Intervalo(5.97673, 5.98838), Intervalos.Intervalo(0.0118434, 0.0236567), Intervalos.Intervalo(5.98838, 5.99419), Intervalos.Intervalo(0.00593332, 0.0118434), Intervalos.Intervalo(5.99419, 5.9971), Intervalos.Intervalo(0.00296759, 0.00593332), Intervalos.Intervalo(5.9971, 5.99855), Intervalos.Intervalo(0.00148416, 0.00296759), Intervalos.Intervalo(5.99855, 5.99928), Intervalos.Intervalo(0.000743215, 0.00148416), Intervalos.Intervalo(5.99928, 5.99964), Intervalos.Intervalo(0.000372101, 0.000743215), Intervalos.Intervalo(5.99964, 5.99982), Intervalos.Intervalo(0.000186387, 0.000372101), Intervalos.Intervalo(5.99982, 5.99991), Intervalos.Intervalo(9.32925e-5, 0.000186387), Intervalos.Intervalo(5.99991, 5.99995), Intervalos.Intervalo(4.66957e-5, 9.32925e-5), Intervalos.Intervalo(5.99995, 5.99998), Intervalos.Intervalo(2.3382e-5, 4.66957e-5), Intervalos.Intervalo(5.99998, 5.99999), Intervalos.Intervalo(1.17105e-5, 2.3382e-5), Intervalos.Intervalo(5.99999, 5.99999), Intervalos.Intervalo(5.86233e-6, 1.17105e-5), Intervalos.Intervalo(5.99999, 6.0), Intervalos.Intervalo(2.93377e-6, 5.86233e-6), Intervalos.Intervalo(6.0, 6.0), Intervalos.Intervalo(1.46788e-6, 2.93377e-6), Intervalos.Intervalo(6.0, 6.0), Intervalos.Intervalo(7.35144e-7, 1.46788e-6), Intervalos.Intervalo(6.0, 6.0), Intervalos.Intervalo(3.67709e-7, 7.35144e-7), Intervalos.Intervalo(6.0, 6.0), Intervalos.Intervalo(0.0, 1.84113e-7), Intervalos.Intervalo(1.84113e-7, 3.67709e-7), Intervalos.Intervalo(6.0, 6.0), Intervalos.Intervalo(6.0, 6.0)])\n"
     ]
    },
    {
     "name": "stdout",
     "output_type": "stream",
     "text": [
      "(uniqueRoot(X1[i], X0), X1[i], X0) = (-1, Intervalos.Intervalo(0.0, 1.841127906246176e-7), Intervalos.Intervalo(0.0, 6.0))\n",
      "Xbis = Intervalos.Intervalo[Intervalos.Intervalo(0.0, 9.21621e-8), Intervalos.Intervalo(9.21621e-8, 1.84113e-7)]\n",
      "(\" Antes \", X1) = (\" Antes \", Intervalos.Intervalo[Intervalos.Intervalo(3.00002, 4.50148), Intervalos.Intervalo(1.50244, 3.00451), Intervalos.Intervalo(4.50148, 5.25082), Intervalos.Intervalo(0.752677, 1.50244), Intervalos.Intervalo(5.25082, 5.62608), Intervalos.Intervalo(0.376723, 0.752677), Intervalos.Intervalo(5.62608, 5.8134), Intervalos.Intervalo(0.188552, 0.376723), Intervalos.Intervalo(5.8134, 5.90676), Intervalos.Intervalo(0.0944598, 0.188552), Intervalos.Intervalo(5.90676, 5.95343), Intervalos.Intervalo(0.047286, 0.0944598), Intervalos.Intervalo(5.95343, 5.97673), Intervalos.Intervalo(0.0236567, 0.047286), Intervalos.Intervalo(5.97673, 5.98838), Intervalos.Intervalo(0.0118434, 0.0236567), Intervalos.Intervalo(5.98838, 5.99419), Intervalos.Intervalo(0.00593332, 0.0118434), Intervalos.Intervalo(5.99419, 5.9971), Intervalos.Intervalo(0.00296759, 0.00593332), Intervalos.Intervalo(5.9971, 5.99855), Intervalos.Intervalo(0.00148416, 0.00296759), Intervalos.Intervalo(5.99855, 5.99928), Intervalos.Intervalo(0.000743215, 0.00148416), Intervalos.Intervalo(5.99928, 5.99964), Intervalos.Intervalo(0.000372101, 0.000743215), Intervalos.Intervalo(5.99964, 5.99982), Intervalos.Intervalo(0.000186387, 0.000372101), Intervalos.Intervalo(5.99982, 5.99991), Intervalos.Intervalo(9.32925e-5, 0.000186387), Intervalos.Intervalo(5.99991, 5.99995), Intervalos.Intervalo(4.66957e-5, 9.32925e-5), Intervalos.Intervalo(5.99995, 5.99998), Intervalos.Intervalo(2.3382e-5, 4.66957e-5), Intervalos.Intervalo(5.99998, 5.99999), Intervalos.Intervalo(1.17105e-5, 2.3382e-5), Intervalos.Intervalo(5.99999, 5.99999), Intervalos.Intervalo(5.86233e-6, 1.17105e-5), Intervalos.Intervalo(5.99999, 6.0), Intervalos.Intervalo(2.93377e-6, 5.86233e-6), Intervalos.Intervalo(6.0, 6.0), Intervalos.Intervalo(1.46788e-6, 2.93377e-6), Intervalos.Intervalo(6.0, 6.0), Intervalos.Intervalo(7.35144e-7, 1.46788e-6), Intervalos.Intervalo(6.0, 6.0), Intervalos.Intervalo(3.67709e-7, 7.35144e-7), Intervalos.Intervalo(6.0, 6.0), Intervalos.Intervalo(1.84113e-7, 3.67709e-7), Intervalos.Intervalo(6.0, 6.0), Intervalos.Intervalo(6.0, 6.0)])\n",
      "(\" Después \", X1) = (\" Después \", Intervalos.Intervalo[Intervalos.Intervalo(3.00002, 4.50148), Intervalos.Intervalo(1.50244, 3.00451), Intervalos.Intervalo(4.50148, 5.25082), Intervalos.Intervalo(0.752677, 1.50244), Intervalos.Intervalo(5.25082, 5.62608), Intervalos.Intervalo(0.376723, 0.752677), Intervalos.Intervalo(5.62608, 5.8134), Intervalos.Intervalo(0.188552, 0.376723), Intervalos.Intervalo(5.8134, 5.90676), Intervalos.Intervalo(0.0944598, 0.188552), Intervalos.Intervalo(5.90676, 5.95343), Intervalos.Intervalo(0.047286, 0.0944598), Intervalos.Intervalo(5.95343, 5.97673), Intervalos.Intervalo(0.0236567, 0.047286), Intervalos.Intervalo(5.97673, 5.98838), Intervalos.Intervalo(0.0118434, 0.0236567), Intervalos.Intervalo(5.98838, 5.99419), Intervalos.Intervalo(0.00593332, 0.0118434), Intervalos.Intervalo(5.99419, 5.9971), Intervalos.Intervalo(0.00296759, 0.00593332), Intervalos.Intervalo(5.9971, 5.99855), Intervalos.Intervalo(0.00148416, 0.00296759), Intervalos.Intervalo(5.99855, 5.99928), Intervalos.Intervalo(0.000743215, 0.00148416), Intervalos.Intervalo(5.99928, 5.99964), Intervalos.Intervalo(0.000372101, 0.000743215), Intervalos.Intervalo(5.99964, 5.99982), Intervalos.Intervalo(0.000186387, 0.000372101), Intervalos.Intervalo(5.99982, 5.99991), Intervalos.Intervalo(9.32925e-5, 0.000186387), Intervalos.Intervalo(5.99991, 5.99995), Intervalos.Intervalo(4.66957e-5, 9.32925e-5), Intervalos.Intervalo(5.99995, 5.99998), Intervalos.Intervalo(2.3382e-5, 4.66957e-5), Intervalos.Intervalo(5.99998, 5.99999), Intervalos.Intervalo(1.17105e-5, 2.3382e-5), Intervalos.Intervalo(5.99999, 5.99999), Intervalos.Intervalo(5.86233e-6, 1.17105e-5), Intervalos.Intervalo(5.99999, 6.0), Intervalos.Intervalo(2.93377e-6, 5.86233e-6), Intervalos.Intervalo(6.0, 6.0), Intervalos.Intervalo(1.46788e-6, 2.93377e-6), Intervalos.Intervalo(6.0, 6.0), Intervalos.Intervalo(7.35144e-7, 1.46788e-6), Intervalos.Intervalo(6.0, 6.0), Intervalos.Intervalo(3.67709e-7, 7.35144e-7), Intervalos.Intervalo(6.0, 6.0), Intervalos.Intervalo(1.84113e-7, 3.67709e-7), Intervalos.Intervalo(6.0, 6.0), Intervalos.Intervalo(6.0, 6.0), Intervalos.Intervalo(0.0, 9.21621e-8), Intervalos.Intervalo(9.21621e-8, 1.84113e-7)])\n",
      "(uniqueRoot(X1[i], X0), X1[i], X0) = (1, Intervalos.Intervalo(1.841127906246176e-7, 3.67709230756417e-7), Intervalos.Intervalo(0.0, 6.0))\n",
      "(uniqueRoot(X1[i], X0), X1[i], X0) = (1, Intervalos.Intervalo(5.999999825262836, 5.999999912771052), Intervalos.Intervalo(0.0, 6.0))\n",
      "(uniqueRoot(X1[i], X0), X1[i], X0) = (-1, Intervalos.Intervalo(5.999999912771052, 6.0), Intervalos.Intervalo(0.0, 6.0))\n",
      "Xbis = Intervalos.Intervalo[Intervalos.Intervalo(6.0, 6.0), Intervalos.Intervalo(6.0, 6.0)]\n",
      "(\" Antes \", X1) = (\" Antes \", Intervalos.Intervalo[Intervalos.Intervalo(3.00002, 4.50148), Intervalos.Intervalo(1.50244, 3.00451), Intervalos.Intervalo(4.50148, 5.25082), Intervalos.Intervalo(0.752677, 1.50244), Intervalos.Intervalo(5.25082, 5.62608), Intervalos.Intervalo(0.376723, 0.752677), Intervalos.Intervalo(5.62608, 5.8134), Intervalos.Intervalo(0.188552, 0.376723), Intervalos.Intervalo(5.8134, 5.90676), Intervalos.Intervalo(0.0944598, 0.188552), Intervalos.Intervalo(5.90676, 5.95343), Intervalos.Intervalo(0.047286, 0.0944598), Intervalos.Intervalo(5.95343, 5.97673), Intervalos.Intervalo(0.0236567, 0.047286), Intervalos.Intervalo(5.97673, 5.98838), Intervalos.Intervalo(0.0118434, 0.0236567), Intervalos.Intervalo(5.98838, 5.99419), Intervalos.Intervalo(0.00593332, 0.0118434), Intervalos.Intervalo(5.99419, 5.9971), Intervalos.Intervalo(0.00296759, 0.00593332), Intervalos.Intervalo(5.9971, 5.99855), Intervalos.Intervalo(0.00148416, 0.00296759), Intervalos.Intervalo(5.99855, 5.99928), Intervalos.Intervalo(0.000743215, 0.00148416), Intervalos.Intervalo(5.99928, 5.99964), Intervalos.Intervalo(0.000372101, 0.000743215), Intervalos.Intervalo(5.99964, 5.99982), Intervalos.Intervalo(0.000186387, 0.000372101), Intervalos.Intervalo(5.99982, 5.99991), Intervalos.Intervalo(9.32925e-5, 0.000186387), Intervalos.Intervalo(5.99991, 5.99995), Intervalos.Intervalo(4.66957e-5, 9.32925e-5), Intervalos.Intervalo(5.99995, 5.99998), Intervalos.Intervalo(2.3382e-5, 4.66957e-5), Intervalos.Intervalo(5.99998, 5.99999), Intervalos.Intervalo(1.17105e-5, 2.3382e-5), Intervalos.Intervalo(5.99999, 5.99999), Intervalos.Intervalo(5.86233e-6, 1.17105e-5), Intervalos.Intervalo(5.99999, 6.0), Intervalos.Intervalo(2.93377e-6, 5.86233e-6), Intervalos.Intervalo(6.0, 6.0), Intervalos.Intervalo(1.46788e-6, 2.93377e-6), Intervalos.Intervalo(6.0, 6.0), Intervalos.Intervalo(7.35144e-7, 1.46788e-6), Intervalos.Intervalo(6.0, 6.0), Intervalos.Intervalo(3.67709e-7, 7.35144e-7), Intervalos.Intervalo(6.0, 6.0), Intervalos.Intervalo(1.84113e-7, 3.67709e-7), Intervalos.Intervalo(6.0, 6.0), Intervalos.Intervalo(0.0, 9.21621e-8), Intervalos.Intervalo(9.21621e-8, 1.84113e-7)])\n",
      "(\" Después \", X1) = (\" Después \", Intervalos.Intervalo[Intervalos.Intervalo(3.00002, 4.50148), Intervalos.Intervalo(1.50244, 3.00451), Intervalos.Intervalo(4.50148, 5.25082), Intervalos.Intervalo(0.752677, 1.50244), Intervalos.Intervalo(5.25082, 5.62608), Intervalos.Intervalo(0.376723, 0.752677), Intervalos.Intervalo(5.62608, 5.8134), Intervalos.Intervalo(0.188552, 0.376723), Intervalos.Intervalo(5.8134, 5.90676), Intervalos.Intervalo(0.0944598, 0.188552), Intervalos.Intervalo(5.90676, 5.95343), Intervalos.Intervalo(0.047286, 0.0944598), Intervalos.Intervalo(5.95343, 5.97673), Intervalos.Intervalo(0.0236567, 0.047286), Intervalos.Intervalo(5.97673, 5.98838), Intervalos.Intervalo(0.0118434, 0.0236567), Intervalos.Intervalo(5.98838, 5.99419), Intervalos.Intervalo(0.00593332, 0.0118434), Intervalos.Intervalo(5.99419, 5.9971), Intervalos.Intervalo(0.00296759, 0.00593332), Intervalos.Intervalo(5.9971, 5.99855), Intervalos.Intervalo(0.00148416, 0.00296759), Intervalos.Intervalo(5.99855, 5.99928), Intervalos.Intervalo(0.000743215, 0.00148416), Intervalos.Intervalo(5.99928, 5.99964), Intervalos.Intervalo(0.000372101, 0.000743215), Intervalos.Intervalo(5.99964, 5.99982), Intervalos.Intervalo(0.000186387, 0.000372101), Intervalos.Intervalo(5.99982, 5.99991), Intervalos.Intervalo(9.32925e-5, 0.000186387), Intervalos.Intervalo(5.99991, 5.99995), Intervalos.Intervalo(4.66957e-5, 9.32925e-5), Intervalos.Intervalo(5.99995, 5.99998), Intervalos.Intervalo(2.3382e-5, 4.66957e-5), Intervalos.Intervalo(5.99998, 5.99999), Intervalos.Intervalo(1.17105e-5, 2.3382e-5), Intervalos.Intervalo(5.99999, 5.99999), Intervalos.Intervalo(5.86233e-6, 1.17105e-5), Intervalos.Intervalo(5.99999, 6.0), Intervalos.Intervalo(2.93377e-6, 5.86233e-6), Intervalos.Intervalo(6.0, 6.0), Intervalos.Intervalo(1.46788e-6, 2.93377e-6), Intervalos.Intervalo(6.0, 6.0), Intervalos.Intervalo(7.35144e-7, 1.46788e-6), Intervalos.Intervalo(6.0, 6.0), Intervalos.Intervalo(3.67709e-7, 7.35144e-7), Intervalos.Intervalo(6.0, 6.0), Intervalos.Intervalo(1.84113e-7, 3.67709e-7), Intervalos.Intervalo(6.0, 6.0), Intervalos.Intervalo(0.0, 9.21621e-8), Intervalos.Intervalo(9.21621e-8, 1.84113e-7), Intervalos.Intervalo(6.0, 6.0), Intervalos.Intervalo(6.0, 6.0)])\n",
      "(uniqueRoot(X1[i], X0), X1[i], X0) = (-1, Intervalos.Intervalo(0.0, 9.216211235806283e-8), Intervalos.Intervalo(0.0, 6.0))\n",
      "Xbis = Intervalos.Intervalo[Intervalos.Intervalo(0.0, 4.61125e-8), Intervalos.Intervalo(4.61125e-8, 9.21621e-8)]\n"
     ]
    },
    {
     "name": "stdout",
     "output_type": "stream",
     "text": [
      "(\" Antes \", X1) = (\" Antes \", Intervalos.Intervalo[Intervalos.Intervalo(3.00002, 4.50148), Intervalos.Intervalo(1.50244, 3.00451), Intervalos.Intervalo(4.50148, 5.25082), Intervalos.Intervalo(0.752677, 1.50244), Intervalos.Intervalo(5.25082, 5.62608), Intervalos.Intervalo(0.376723, 0.752677), Intervalos.Intervalo(5.62608, 5.8134), Intervalos.Intervalo(0.188552, 0.376723), Intervalos.Intervalo(5.8134, 5.90676), Intervalos.Intervalo(0.0944598, 0.188552), Intervalos.Intervalo(5.90676, 5.95343), Intervalos.Intervalo(0.047286, 0.0944598), Intervalos.Intervalo(5.95343, 5.97673), Intervalos.Intervalo(0.0236567, 0.047286), Intervalos.Intervalo(5.97673, 5.98838), Intervalos.Intervalo(0.0118434, 0.0236567), Intervalos.Intervalo(5.98838, 5.99419), Intervalos.Intervalo(0.00593332, 0.0118434), Intervalos.Intervalo(5.99419, 5.9971), Intervalos.Intervalo(0.00296759, 0.00593332), Intervalos.Intervalo(5.9971, 5.99855), Intervalos.Intervalo(0.00148416, 0.00296759), Intervalos.Intervalo(5.99855, 5.99928), Intervalos.Intervalo(0.000743215, 0.00148416), Intervalos.Intervalo(5.99928, 5.99964), Intervalos.Intervalo(0.000372101, 0.000743215), Intervalos.Intervalo(5.99964, 5.99982), Intervalos.Intervalo(0.000186387, 0.000372101), Intervalos.Intervalo(5.99982, 5.99991), Intervalos.Intervalo(9.32925e-5, 0.000186387), Intervalos.Intervalo(5.99991, 5.99995), Intervalos.Intervalo(4.66957e-5, 9.32925e-5), Intervalos.Intervalo(5.99995, 5.99998), Intervalos.Intervalo(2.3382e-5, 4.66957e-5), Intervalos.Intervalo(5.99998, 5.99999), Intervalos.Intervalo(1.17105e-5, 2.3382e-5), Intervalos.Intervalo(5.99999, 5.99999), Intervalos.Intervalo(5.86233e-6, 1.17105e-5), Intervalos.Intervalo(5.99999, 6.0), Intervalos.Intervalo(2.93377e-6, 5.86233e-6), Intervalos.Intervalo(6.0, 6.0), Intervalos.Intervalo(1.46788e-6, 2.93377e-6), Intervalos.Intervalo(6.0, 6.0), Intervalos.Intervalo(7.35144e-7, 1.46788e-6), Intervalos.Intervalo(6.0, 6.0), Intervalos.Intervalo(3.67709e-7, 7.35144e-7), Intervalos.Intervalo(6.0, 6.0), Intervalos.Intervalo(1.84113e-7, 3.67709e-7), Intervalos.Intervalo(6.0, 6.0), Intervalos.Intervalo(9.21621e-8, 1.84113e-7), Intervalos.Intervalo(6.0, 6.0), Intervalos.Intervalo(6.0, 6.0)])\n",
      "(\" Después \", X1) = (\" Después \", Intervalos.Intervalo[Intervalos.Intervalo(3.00002, 4.50148), Intervalos.Intervalo(1.50244, 3.00451), Intervalos.Intervalo(4.50148, 5.25082), Intervalos.Intervalo(0.752677, 1.50244), Intervalos.Intervalo(5.25082, 5.62608), Intervalos.Intervalo(0.376723, 0.752677), Intervalos.Intervalo(5.62608, 5.8134), Intervalos.Intervalo(0.188552, 0.376723), Intervalos.Intervalo(5.8134, 5.90676), Intervalos.Intervalo(0.0944598, 0.188552), Intervalos.Intervalo(5.90676, 5.95343), Intervalos.Intervalo(0.047286, 0.0944598), Intervalos.Intervalo(5.95343, 5.97673), Intervalos.Intervalo(0.0236567, 0.047286), Intervalos.Intervalo(5.97673, 5.98838), Intervalos.Intervalo(0.0118434, 0.0236567), Intervalos.Intervalo(5.98838, 5.99419), Intervalos.Intervalo(0.00593332, 0.0118434), Intervalos.Intervalo(5.99419, 5.9971), Intervalos.Intervalo(0.00296759, 0.00593332), Intervalos.Intervalo(5.9971, 5.99855), Intervalos.Intervalo(0.00148416, 0.00296759), Intervalos.Intervalo(5.99855, 5.99928), Intervalos.Intervalo(0.000743215, 0.00148416), Intervalos.Intervalo(5.99928, 5.99964), Intervalos.Intervalo(0.000372101, 0.000743215), Intervalos.Intervalo(5.99964, 5.99982), Intervalos.Intervalo(0.000186387, 0.000372101), Intervalos.Intervalo(5.99982, 5.99991), Intervalos.Intervalo(9.32925e-5, 0.000186387), Intervalos.Intervalo(5.99991, 5.99995), Intervalos.Intervalo(4.66957e-5, 9.32925e-5), Intervalos.Intervalo(5.99995, 5.99998), Intervalos.Intervalo(2.3382e-5, 4.66957e-5), Intervalos.Intervalo(5.99998, 5.99999), Intervalos.Intervalo(1.17105e-5, 2.3382e-5), Intervalos.Intervalo(5.99999, 5.99999), Intervalos.Intervalo(5.86233e-6, 1.17105e-5), Intervalos.Intervalo(5.99999, 6.0), Intervalos.Intervalo(2.93377e-6, 5.86233e-6), Intervalos.Intervalo(6.0, 6.0), Intervalos.Intervalo(1.46788e-6, 2.93377e-6), Intervalos.Intervalo(6.0, 6.0), Intervalos.Intervalo(7.35144e-7, 1.46788e-6), Intervalos.Intervalo(6.0, 6.0), Intervalos.Intervalo(3.67709e-7, 7.35144e-7), Intervalos.Intervalo(6.0, 6.0), Intervalos.Intervalo(1.84113e-7, 3.67709e-7), Intervalos.Intervalo(6.0, 6.0), Intervalos.Intervalo(9.21621e-8, 1.84113e-7), Intervalos.Intervalo(6.0, 6.0), Intervalos.Intervalo(6.0, 6.0), Intervalos.Intervalo(0.0, 4.61125e-8), Intervalos.Intervalo(4.61125e-8, 9.21621e-8)])\n",
      "(uniqueRoot(X1[i], X0), X1[i], X0) = (1, Intervalos.Intervalo(9.216211235806283e-8, 1.841127906246176e-7), Intervalos.Intervalo(0.0, 6.0))\n",
      "(uniqueRoot(X1[i], X0), X1[i], X0) = (1, Intervalos.Intervalo(5.999999912771052, 5.999999956458124), Intervalos.Intervalo(0.0, 6.0))\n",
      "(uniqueRoot(X1[i], X0), X1[i], X0) = (-1, Intervalos.Intervalo(5.999999956458124, 6.0), Intervalos.Intervalo(0.0, 6.0))\n",
      "Xbis = Intervalos.Intervalo[Intervalos.Intervalo(6.0, 6.0), Intervalos.Intervalo(6.0, 6.0)]\n",
      "(\" Antes \", X1) = (\" Antes \", Intervalos.Intervalo[Intervalos.Intervalo(3.00002, 4.50148), Intervalos.Intervalo(1.50244, 3.00451), Intervalos.Intervalo(4.50148, 5.25082), Intervalos.Intervalo(0.752677, 1.50244), Intervalos.Intervalo(5.25082, 5.62608), Intervalos.Intervalo(0.376723, 0.752677), Intervalos.Intervalo(5.62608, 5.8134), Intervalos.Intervalo(0.188552, 0.376723), Intervalos.Intervalo(5.8134, 5.90676), Intervalos.Intervalo(0.0944598, 0.188552), Intervalos.Intervalo(5.90676, 5.95343), Intervalos.Intervalo(0.047286, 0.0944598), Intervalos.Intervalo(5.95343, 5.97673), Intervalos.Intervalo(0.0236567, 0.047286), Intervalos.Intervalo(5.97673, 5.98838), Intervalos.Intervalo(0.0118434, 0.0236567), Intervalos.Intervalo(5.98838, 5.99419), Intervalos.Intervalo(0.00593332, 0.0118434), Intervalos.Intervalo(5.99419, 5.9971), Intervalos.Intervalo(0.00296759, 0.00593332), Intervalos.Intervalo(5.9971, 5.99855), Intervalos.Intervalo(0.00148416, 0.00296759), Intervalos.Intervalo(5.99855, 5.99928), Intervalos.Intervalo(0.000743215, 0.00148416), Intervalos.Intervalo(5.99928, 5.99964), Intervalos.Intervalo(0.000372101, 0.000743215), Intervalos.Intervalo(5.99964, 5.99982), Intervalos.Intervalo(0.000186387, 0.000372101), Intervalos.Intervalo(5.99982, 5.99991), Intervalos.Intervalo(9.32925e-5, 0.000186387), Intervalos.Intervalo(5.99991, 5.99995), Intervalos.Intervalo(4.66957e-5, 9.32925e-5), Intervalos.Intervalo(5.99995, 5.99998), Intervalos.Intervalo(2.3382e-5, 4.66957e-5), Intervalos.Intervalo(5.99998, 5.99999), Intervalos.Intervalo(1.17105e-5, 2.3382e-5), Intervalos.Intervalo(5.99999, 5.99999), Intervalos.Intervalo(5.86233e-6, 1.17105e-5), Intervalos.Intervalo(5.99999, 6.0), Intervalos.Intervalo(2.93377e-6, 5.86233e-6), Intervalos.Intervalo(6.0, 6.0), Intervalos.Intervalo(1.46788e-6, 2.93377e-6), Intervalos.Intervalo(6.0, 6.0), Intervalos.Intervalo(7.35144e-7, 1.46788e-6), Intervalos.Intervalo(6.0, 6.0), Intervalos.Intervalo(3.67709e-7, 7.35144e-7), Intervalos.Intervalo(6.0, 6.0), Intervalos.Intervalo(1.84113e-7, 3.67709e-7), Intervalos.Intervalo(6.0, 6.0), Intervalos.Intervalo(9.21621e-8, 1.84113e-7), Intervalos.Intervalo(6.0, 6.0), Intervalos.Intervalo(0.0, 4.61125e-8), Intervalos.Intervalo(4.61125e-8, 9.21621e-8)])\n",
      "(\" Después \", X1) = (\" Después \", Intervalos.Intervalo[Intervalos.Intervalo(3.00002, 4.50148), Intervalos.Intervalo(1.50244, 3.00451), Intervalos.Intervalo(4.50148, 5.25082), Intervalos.Intervalo(0.752677, 1.50244), Intervalos.Intervalo(5.25082, 5.62608), Intervalos.Intervalo(0.376723, 0.752677), Intervalos.Intervalo(5.62608, 5.8134), Intervalos.Intervalo(0.188552, 0.376723), Intervalos.Intervalo(5.8134, 5.90676), Intervalos.Intervalo(0.0944598, 0.188552), Intervalos.Intervalo(5.90676, 5.95343), Intervalos.Intervalo(0.047286, 0.0944598), Intervalos.Intervalo(5.95343, 5.97673), Intervalos.Intervalo(0.0236567, 0.047286), Intervalos.Intervalo(5.97673, 5.98838), Intervalos.Intervalo(0.0118434, 0.0236567), Intervalos.Intervalo(5.98838, 5.99419), Intervalos.Intervalo(0.00593332, 0.0118434), Intervalos.Intervalo(5.99419, 5.9971), Intervalos.Intervalo(0.00296759, 0.00593332), Intervalos.Intervalo(5.9971, 5.99855), Intervalos.Intervalo(0.00148416, 0.00296759), Intervalos.Intervalo(5.99855, 5.99928), Intervalos.Intervalo(0.000743215, 0.00148416), Intervalos.Intervalo(5.99928, 5.99964), Intervalos.Intervalo(0.000372101, 0.000743215), Intervalos.Intervalo(5.99964, 5.99982), Intervalos.Intervalo(0.000186387, 0.000372101), Intervalos.Intervalo(5.99982, 5.99991), Intervalos.Intervalo(9.32925e-5, 0.000186387), Intervalos.Intervalo(5.99991, 5.99995), Intervalos.Intervalo(4.66957e-5, 9.32925e-5), Intervalos.Intervalo(5.99995, 5.99998), Intervalos.Intervalo(2.3382e-5, 4.66957e-5), Intervalos.Intervalo(5.99998, 5.99999), Intervalos.Intervalo(1.17105e-5, 2.3382e-5), Intervalos.Intervalo(5.99999, 5.99999), Intervalos.Intervalo(5.86233e-6, 1.17105e-5), Intervalos.Intervalo(5.99999, 6.0), Intervalos.Intervalo(2.93377e-6, 5.86233e-6), Intervalos.Intervalo(6.0, 6.0), Intervalos.Intervalo(1.46788e-6, 2.93377e-6), Intervalos.Intervalo(6.0, 6.0), Intervalos.Intervalo(7.35144e-7, 1.46788e-6), Intervalos.Intervalo(6.0, 6.0), Intervalos.Intervalo(3.67709e-7, 7.35144e-7), Intervalos.Intervalo(6.0, 6.0), Intervalos.Intervalo(1.84113e-7, 3.67709e-7), Intervalos.Intervalo(6.0, 6.0), Intervalos.Intervalo(9.21621e-8, 1.84113e-7), Intervalos.Intervalo(6.0, 6.0), Intervalos.Intervalo(0.0, 4.61125e-8), Intervalos.Intervalo(4.61125e-8, 9.21621e-8), Intervalos.Intervalo(6.0, 6.0), Intervalos.Intervalo(6.0, 6.0)])\n",
      "(uniqueRoot(X1[i], X0), X1[i], X0) = (-1, Intervalos.Intervalo(0.0, 4.6112546295111366e-8), Intervalos.Intervalo(0.0, 6.0))\n",
      "Xbis = Intervalos.Intervalo[Intervalos.Intervalo(0.0, 2.309e-8), Intervalos.Intervalo(2.309e-8, 4.61125e-8)]\n",
      "(\" Antes \", X1) = (\" Antes \", Intervalos.Intervalo[Intervalos.Intervalo(3.00002, 4.50148), Intervalos.Intervalo(1.50244, 3.00451), Intervalos.Intervalo(4.50148, 5.25082), Intervalos.Intervalo(0.752677, 1.50244), Intervalos.Intervalo(5.25082, 5.62608), Intervalos.Intervalo(0.376723, 0.752677), Intervalos.Intervalo(5.62608, 5.8134), Intervalos.Intervalo(0.188552, 0.376723), Intervalos.Intervalo(5.8134, 5.90676), Intervalos.Intervalo(0.0944598, 0.188552), Intervalos.Intervalo(5.90676, 5.95343), Intervalos.Intervalo(0.047286, 0.0944598), Intervalos.Intervalo(5.95343, 5.97673), Intervalos.Intervalo(0.0236567, 0.047286), Intervalos.Intervalo(5.97673, 5.98838), Intervalos.Intervalo(0.0118434, 0.0236567), Intervalos.Intervalo(5.98838, 5.99419), Intervalos.Intervalo(0.00593332, 0.0118434), Intervalos.Intervalo(5.99419, 5.9971), Intervalos.Intervalo(0.00296759, 0.00593332), Intervalos.Intervalo(5.9971, 5.99855), Intervalos.Intervalo(0.00148416, 0.00296759), Intervalos.Intervalo(5.99855, 5.99928), Intervalos.Intervalo(0.000743215, 0.00148416), Intervalos.Intervalo(5.99928, 5.99964), Intervalos.Intervalo(0.000372101, 0.000743215), Intervalos.Intervalo(5.99964, 5.99982), Intervalos.Intervalo(0.000186387, 0.000372101), Intervalos.Intervalo(5.99982, 5.99991), Intervalos.Intervalo(9.32925e-5, 0.000186387), Intervalos.Intervalo(5.99991, 5.99995), Intervalos.Intervalo(4.66957e-5, 9.32925e-5), Intervalos.Intervalo(5.99995, 5.99998), Intervalos.Intervalo(2.3382e-5, 4.66957e-5), Intervalos.Intervalo(5.99998, 5.99999), Intervalos.Intervalo(1.17105e-5, 2.3382e-5), Intervalos.Intervalo(5.99999, 5.99999), Intervalos.Intervalo(5.86233e-6, 1.17105e-5), Intervalos.Intervalo(5.99999, 6.0), Intervalos.Intervalo(2.93377e-6, 5.86233e-6), Intervalos.Intervalo(6.0, 6.0), Intervalos.Intervalo(1.46788e-6, 2.93377e-6), Intervalos.Intervalo(6.0, 6.0), Intervalos.Intervalo(7.35144e-7, 1.46788e-6), Intervalos.Intervalo(6.0, 6.0), Intervalos.Intervalo(3.67709e-7, 7.35144e-7), Intervalos.Intervalo(6.0, 6.0), Intervalos.Intervalo(1.84113e-7, 3.67709e-7), Intervalos.Intervalo(6.0, 6.0), Intervalos.Intervalo(9.21621e-8, 1.84113e-7), Intervalos.Intervalo(6.0, 6.0), Intervalos.Intervalo(4.61125e-8, 9.21621e-8), Intervalos.Intervalo(6.0, 6.0), Intervalos.Intervalo(6.0, 6.0)])\n",
      "(\" Después \", X1) = (\" Después \", Intervalos.Intervalo[Intervalos.Intervalo(3.00002, 4.50148), Intervalos.Intervalo(1.50244, 3.00451), Intervalos.Intervalo(4.50148, 5.25082), Intervalos.Intervalo(0.752677, 1.50244), Intervalos.Intervalo(5.25082, 5.62608), Intervalos.Intervalo(0.376723, 0.752677), Intervalos.Intervalo(5.62608, 5.8134), Intervalos.Intervalo(0.188552, 0.376723), Intervalos.Intervalo(5.8134, 5.90676), Intervalos.Intervalo(0.0944598, 0.188552), Intervalos.Intervalo(5.90676, 5.95343), Intervalos.Intervalo(0.047286, 0.0944598), Intervalos.Intervalo(5.95343, 5.97673), Intervalos.Intervalo(0.0236567, 0.047286), Intervalos.Intervalo(5.97673, 5.98838), Intervalos.Intervalo(0.0118434, 0.0236567), Intervalos.Intervalo(5.98838, 5.99419), Intervalos.Intervalo(0.00593332, 0.0118434), Intervalos.Intervalo(5.99419, 5.9971), Intervalos.Intervalo(0.00296759, 0.00593332), Intervalos.Intervalo(5.9971, 5.99855), Intervalos.Intervalo(0.00148416, 0.00296759), Intervalos.Intervalo(5.99855, 5.99928), Intervalos.Intervalo(0.000743215, 0.00148416), Intervalos.Intervalo(5.99928, 5.99964), Intervalos.Intervalo(0.000372101, 0.000743215), Intervalos.Intervalo(5.99964, 5.99982), Intervalos.Intervalo(0.000186387, 0.000372101), Intervalos.Intervalo(5.99982, 5.99991), Intervalos.Intervalo(9.32925e-5, 0.000186387), Intervalos.Intervalo(5.99991, 5.99995), Intervalos.Intervalo(4.66957e-5, 9.32925e-5), Intervalos.Intervalo(5.99995, 5.99998), Intervalos.Intervalo(2.3382e-5, 4.66957e-5), Intervalos.Intervalo(5.99998, 5.99999), Intervalos.Intervalo(1.17105e-5, 2.3382e-5), Intervalos.Intervalo(5.99999, 5.99999), Intervalos.Intervalo(5.86233e-6, 1.17105e-5), Intervalos.Intervalo(5.99999, 6.0), Intervalos.Intervalo(2.93377e-6, 5.86233e-6), Intervalos.Intervalo(6.0, 6.0), Intervalos.Intervalo(1.46788e-6, 2.93377e-6), Intervalos.Intervalo(6.0, 6.0), Intervalos.Intervalo(7.35144e-7, 1.46788e-6), Intervalos.Intervalo(6.0, 6.0), Intervalos.Intervalo(3.67709e-7, 7.35144e-7), Intervalos.Intervalo(6.0, 6.0), Intervalos.Intervalo(1.84113e-7, 3.67709e-7), Intervalos.Intervalo(6.0, 6.0), Intervalos.Intervalo(9.21621e-8, 1.84113e-7), Intervalos.Intervalo(6.0, 6.0), Intervalos.Intervalo(4.61125e-8, 9.21621e-8), Intervalos.Intervalo(6.0, 6.0), Intervalos.Intervalo(6.0, 6.0), Intervalos.Intervalo(0.0, 2.309e-8), Intervalos.Intervalo(2.309e-8, 4.61125e-8)])\n"
     ]
    },
    {
     "name": "stdout",
     "output_type": "stream",
     "text": [
      "(uniqueRoot(X1[i], X0), X1[i], X0) = (1, Intervalos.Intervalo(4.6112546295111366e-8, 9.216211235806283e-8), Intervalos.Intervalo(0.0, 6.0))\n",
      "(uniqueRoot(X1[i], X0), X1[i], X0) = (1, Intervalos.Intervalo(5.999999956458124, 5.999999978257575), Intervalos.Intervalo(0.0, 6.0))\n",
      "(uniqueRoot(X1[i], X0), X1[i], X0) = (-1, Intervalos.Intervalo(5.999999978257575, 6.0), Intervalos.Intervalo(0.0, 6.0))\n",
      "Xbis = Intervalos.Intervalo[Intervalos.Intervalo(6.0, 6.0), Intervalos.Intervalo(6.0, 6.0)]\n",
      "(\" Antes \", X1) = (\" Antes \", Intervalos.Intervalo[Intervalos.Intervalo(3.00002, 4.50148), Intervalos.Intervalo(1.50244, 3.00451), Intervalos.Intervalo(4.50148, 5.25082), Intervalos.Intervalo(0.752677, 1.50244), Intervalos.Intervalo(5.25082, 5.62608), Intervalos.Intervalo(0.376723, 0.752677), Intervalos.Intervalo(5.62608, 5.8134), Intervalos.Intervalo(0.188552, 0.376723), Intervalos.Intervalo(5.8134, 5.90676), Intervalos.Intervalo(0.0944598, 0.188552), Intervalos.Intervalo(5.90676, 5.95343), Intervalos.Intervalo(0.047286, 0.0944598), Intervalos.Intervalo(5.95343, 5.97673), Intervalos.Intervalo(0.0236567, 0.047286), Intervalos.Intervalo(5.97673, 5.98838), Intervalos.Intervalo(0.0118434, 0.0236567), Intervalos.Intervalo(5.98838, 5.99419), Intervalos.Intervalo(0.00593332, 0.0118434), Intervalos.Intervalo(5.99419, 5.9971), Intervalos.Intervalo(0.00296759, 0.00593332), Intervalos.Intervalo(5.9971, 5.99855), Intervalos.Intervalo(0.00148416, 0.00296759), Intervalos.Intervalo(5.99855, 5.99928), Intervalos.Intervalo(0.000743215, 0.00148416), Intervalos.Intervalo(5.99928, 5.99964), Intervalos.Intervalo(0.000372101, 0.000743215), Intervalos.Intervalo(5.99964, 5.99982), Intervalos.Intervalo(0.000186387, 0.000372101), Intervalos.Intervalo(5.99982, 5.99991), Intervalos.Intervalo(9.32925e-5, 0.000186387), Intervalos.Intervalo(5.99991, 5.99995), Intervalos.Intervalo(4.66957e-5, 9.32925e-5), Intervalos.Intervalo(5.99995, 5.99998), Intervalos.Intervalo(2.3382e-5, 4.66957e-5), Intervalos.Intervalo(5.99998, 5.99999), Intervalos.Intervalo(1.17105e-5, 2.3382e-5), Intervalos.Intervalo(5.99999, 5.99999), Intervalos.Intervalo(5.86233e-6, 1.17105e-5), Intervalos.Intervalo(5.99999, 6.0), Intervalos.Intervalo(2.93377e-6, 5.86233e-6), Intervalos.Intervalo(6.0, 6.0), Intervalos.Intervalo(1.46788e-6, 2.93377e-6), Intervalos.Intervalo(6.0, 6.0), Intervalos.Intervalo(7.35144e-7, 1.46788e-6), Intervalos.Intervalo(6.0, 6.0), Intervalos.Intervalo(3.67709e-7, 7.35144e-7), Intervalos.Intervalo(6.0, 6.0), Intervalos.Intervalo(1.84113e-7, 3.67709e-7), Intervalos.Intervalo(6.0, 6.0), Intervalos.Intervalo(9.21621e-8, 1.84113e-7), Intervalos.Intervalo(6.0, 6.0), Intervalos.Intervalo(4.61125e-8, 9.21621e-8), Intervalos.Intervalo(6.0, 6.0), Intervalos.Intervalo(0.0, 2.309e-8), Intervalos.Intervalo(2.309e-8, 4.61125e-8)])\n",
      "(\" Después \", X1) = (\" Después \", Intervalos.Intervalo[Intervalos.Intervalo(3.00002, 4.50148), Intervalos.Intervalo(1.50244, 3.00451), Intervalos.Intervalo(4.50148, 5.25082), Intervalos.Intervalo(0.752677, 1.50244), Intervalos.Intervalo(5.25082, 5.62608), Intervalos.Intervalo(0.376723, 0.752677), Intervalos.Intervalo(5.62608, 5.8134), Intervalos.Intervalo(0.188552, 0.376723), Intervalos.Intervalo(5.8134, 5.90676), Intervalos.Intervalo(0.0944598, 0.188552), Intervalos.Intervalo(5.90676, 5.95343), Intervalos.Intervalo(0.047286, 0.0944598), Intervalos.Intervalo(5.95343, 5.97673), Intervalos.Intervalo(0.0236567, 0.047286), Intervalos.Intervalo(5.97673, 5.98838), Intervalos.Intervalo(0.0118434, 0.0236567), Intervalos.Intervalo(5.98838, 5.99419), Intervalos.Intervalo(0.00593332, 0.0118434), Intervalos.Intervalo(5.99419, 5.9971), Intervalos.Intervalo(0.00296759, 0.00593332), Intervalos.Intervalo(5.9971, 5.99855), Intervalos.Intervalo(0.00148416, 0.00296759), Intervalos.Intervalo(5.99855, 5.99928), Intervalos.Intervalo(0.000743215, 0.00148416), Intervalos.Intervalo(5.99928, 5.99964), Intervalos.Intervalo(0.000372101, 0.000743215), Intervalos.Intervalo(5.99964, 5.99982), Intervalos.Intervalo(0.000186387, 0.000372101), Intervalos.Intervalo(5.99982, 5.99991), Intervalos.Intervalo(9.32925e-5, 0.000186387), Intervalos.Intervalo(5.99991, 5.99995), Intervalos.Intervalo(4.66957e-5, 9.32925e-5), Intervalos.Intervalo(5.99995, 5.99998), Intervalos.Intervalo(2.3382e-5, 4.66957e-5), Intervalos.Intervalo(5.99998, 5.99999), Intervalos.Intervalo(1.17105e-5, 2.3382e-5), Intervalos.Intervalo(5.99999, 5.99999), Intervalos.Intervalo(5.86233e-6, 1.17105e-5), Intervalos.Intervalo(5.99999, 6.0), Intervalos.Intervalo(2.93377e-6, 5.86233e-6), Intervalos.Intervalo(6.0, 6.0), Intervalos.Intervalo(1.46788e-6, 2.93377e-6), Intervalos.Intervalo(6.0, 6.0), Intervalos.Intervalo(7.35144e-7, 1.46788e-6), Intervalos.Intervalo(6.0, 6.0), Intervalos.Intervalo(3.67709e-7, 7.35144e-7), Intervalos.Intervalo(6.0, 6.0), Intervalos.Intervalo(1.84113e-7, 3.67709e-7), Intervalos.Intervalo(6.0, 6.0), Intervalos.Intervalo(9.21621e-8, 1.84113e-7), Intervalos.Intervalo(6.0, 6.0), Intervalos.Intervalo(4.61125e-8, 9.21621e-8), Intervalos.Intervalo(6.0, 6.0), Intervalos.Intervalo(0.0, 2.309e-8), Intervalos.Intervalo(2.309e-8, 4.61125e-8), Intervalos.Intervalo(6.0, 6.0), Intervalos.Intervalo(6.0, 6.0)])\n",
      "(uniqueRoot(X1[i], X0), X1[i], X0) = (-1, Intervalos.Intervalo(0.0, 2.309002304664771e-8), Intervalos.Intervalo(0.0, 6.0))\n",
      "Xbis = Intervalos.Intervalo[Intervalos.Intervalo(0.0, 1.15559e-8), Intervalos.Intervalo(1.15559e-8, 2.309e-8)]\n",
      "(\" Antes \", X1) = (\" Antes \", Intervalos.Intervalo[Intervalos.Intervalo(3.00002, 4.50148), Intervalos.Intervalo(1.50244, 3.00451), Intervalos.Intervalo(4.50148, 5.25082), Intervalos.Intervalo(0.752677, 1.50244), Intervalos.Intervalo(5.25082, 5.62608), Intervalos.Intervalo(0.376723, 0.752677), Intervalos.Intervalo(5.62608, 5.8134), Intervalos.Intervalo(0.188552, 0.376723), Intervalos.Intervalo(5.8134, 5.90676), Intervalos.Intervalo(0.0944598, 0.188552), Intervalos.Intervalo(5.90676, 5.95343), Intervalos.Intervalo(0.047286, 0.0944598), Intervalos.Intervalo(5.95343, 5.97673), Intervalos.Intervalo(0.0236567, 0.047286), Intervalos.Intervalo(5.97673, 5.98838), Intervalos.Intervalo(0.0118434, 0.0236567), Intervalos.Intervalo(5.98838, 5.99419), Intervalos.Intervalo(0.00593332, 0.0118434), Intervalos.Intervalo(5.99419, 5.9971), Intervalos.Intervalo(0.00296759, 0.00593332), Intervalos.Intervalo(5.9971, 5.99855), Intervalos.Intervalo(0.00148416, 0.00296759), Intervalos.Intervalo(5.99855, 5.99928), Intervalos.Intervalo(0.000743215, 0.00148416), Intervalos.Intervalo(5.99928, 5.99964), Intervalos.Intervalo(0.000372101, 0.000743215), Intervalos.Intervalo(5.99964, 5.99982), Intervalos.Intervalo(0.000186387, 0.000372101), Intervalos.Intervalo(5.99982, 5.99991), Intervalos.Intervalo(9.32925e-5, 0.000186387), Intervalos.Intervalo(5.99991, 5.99995), Intervalos.Intervalo(4.66957e-5, 9.32925e-5), Intervalos.Intervalo(5.99995, 5.99998), Intervalos.Intervalo(2.3382e-5, 4.66957e-5), Intervalos.Intervalo(5.99998, 5.99999), Intervalos.Intervalo(1.17105e-5, 2.3382e-5), Intervalos.Intervalo(5.99999, 5.99999), Intervalos.Intervalo(5.86233e-6, 1.17105e-5), Intervalos.Intervalo(5.99999, 6.0), Intervalos.Intervalo(2.93377e-6, 5.86233e-6), Intervalos.Intervalo(6.0, 6.0), Intervalos.Intervalo(1.46788e-6, 2.93377e-6), Intervalos.Intervalo(6.0, 6.0), Intervalos.Intervalo(7.35144e-7, 1.46788e-6), Intervalos.Intervalo(6.0, 6.0), Intervalos.Intervalo(3.67709e-7, 7.35144e-7), Intervalos.Intervalo(6.0, 6.0), Intervalos.Intervalo(1.84113e-7, 3.67709e-7), Intervalos.Intervalo(6.0, 6.0), Intervalos.Intervalo(9.21621e-8, 1.84113e-7), Intervalos.Intervalo(6.0, 6.0), Intervalos.Intervalo(4.61125e-8, 9.21621e-8), Intervalos.Intervalo(6.0, 6.0), Intervalos.Intervalo(2.309e-8, 4.61125e-8), Intervalos.Intervalo(6.0, 6.0), Intervalos.Intervalo(6.0, 6.0)])\n",
      "(\" Después \", X1) = (\" Después \", Intervalos.Intervalo[Intervalos.Intervalo(3.00002, 4.50148), Intervalos.Intervalo(1.50244, 3.00451), Intervalos.Intervalo(4.50148, 5.25082), Intervalos.Intervalo(0.752677, 1.50244), Intervalos.Intervalo(5.25082, 5.62608), Intervalos.Intervalo(0.376723, 0.752677), Intervalos.Intervalo(5.62608, 5.8134), Intervalos.Intervalo(0.188552, 0.376723), Intervalos.Intervalo(5.8134, 5.90676), Intervalos.Intervalo(0.0944598, 0.188552), Intervalos.Intervalo(5.90676, 5.95343), Intervalos.Intervalo(0.047286, 0.0944598), Intervalos.Intervalo(5.95343, 5.97673), Intervalos.Intervalo(0.0236567, 0.047286), Intervalos.Intervalo(5.97673, 5.98838), Intervalos.Intervalo(0.0118434, 0.0236567), Intervalos.Intervalo(5.98838, 5.99419), Intervalos.Intervalo(0.00593332, 0.0118434), Intervalos.Intervalo(5.99419, 5.9971), Intervalos.Intervalo(0.00296759, 0.00593332), Intervalos.Intervalo(5.9971, 5.99855), Intervalos.Intervalo(0.00148416, 0.00296759), Intervalos.Intervalo(5.99855, 5.99928), Intervalos.Intervalo(0.000743215, 0.00148416), Intervalos.Intervalo(5.99928, 5.99964), Intervalos.Intervalo(0.000372101, 0.000743215), Intervalos.Intervalo(5.99964, 5.99982), Intervalos.Intervalo(0.000186387, 0.000372101), Intervalos.Intervalo(5.99982, 5.99991), Intervalos.Intervalo(9.32925e-5, 0.000186387), Intervalos.Intervalo(5.99991, 5.99995), Intervalos.Intervalo(4.66957e-5, 9.32925e-5), Intervalos.Intervalo(5.99995, 5.99998), Intervalos.Intervalo(2.3382e-5, 4.66957e-5), Intervalos.Intervalo(5.99998, 5.99999), Intervalos.Intervalo(1.17105e-5, 2.3382e-5), Intervalos.Intervalo(5.99999, 5.99999), Intervalos.Intervalo(5.86233e-6, 1.17105e-5), Intervalos.Intervalo(5.99999, 6.0), Intervalos.Intervalo(2.93377e-6, 5.86233e-6), Intervalos.Intervalo(6.0, 6.0), Intervalos.Intervalo(1.46788e-6, 2.93377e-6), Intervalos.Intervalo(6.0, 6.0), Intervalos.Intervalo(7.35144e-7, 1.46788e-6), Intervalos.Intervalo(6.0, 6.0), Intervalos.Intervalo(3.67709e-7, 7.35144e-7), Intervalos.Intervalo(6.0, 6.0), Intervalos.Intervalo(1.84113e-7, 3.67709e-7), Intervalos.Intervalo(6.0, 6.0), Intervalos.Intervalo(9.21621e-8, 1.84113e-7), Intervalos.Intervalo(6.0, 6.0), Intervalos.Intervalo(4.61125e-8, 9.21621e-8), Intervalos.Intervalo(6.0, 6.0), Intervalos.Intervalo(2.309e-8, 4.61125e-8), Intervalos.Intervalo(6.0, 6.0), Intervalos.Intervalo(6.0, 6.0), Intervalos.Intervalo(0.0, 1.15559e-8), Intervalos.Intervalo(1.15559e-8, 2.309e-8)])\n"
     ]
    },
    {
     "name": "stdout",
     "output_type": "stream",
     "text": [
      "(uniqueRoot(X1[i], X0), X1[i], X0) = (1, Intervalos.Intervalo(2.309002304664771e-8, 4.6112546295111366e-8), Intervalos.Intervalo(0.0, 6.0))\n",
      "(uniqueRoot(X1[i], X0), X1[i], X0) = (1, Intervalos.Intervalo(5.999999978257575, 5.999999989147148), Intervalos.Intervalo(0.0, 6.0))\n",
      "(uniqueRoot(X1[i], X0), X1[i], X0) = (-1, Intervalos.Intervalo(5.999999989147148, 6.0), Intervalos.Intervalo(0.0, 6.0))\n",
      "Xbis = Intervalos.Intervalo[Intervalos.Intervalo(6.0, 6.0), Intervalos.Intervalo(6.0, 6.0)]\n",
      "(\" Antes \", X1) = (\" Antes \", Intervalos.Intervalo[Intervalos.Intervalo(3.00002, 4.50148), Intervalos.Intervalo(1.50244, 3.00451), Intervalos.Intervalo(4.50148, 5.25082), Intervalos.Intervalo(0.752677, 1.50244), Intervalos.Intervalo(5.25082, 5.62608), Intervalos.Intervalo(0.376723, 0.752677), Intervalos.Intervalo(5.62608, 5.8134), Intervalos.Intervalo(0.188552, 0.376723), Intervalos.Intervalo(5.8134, 5.90676), Intervalos.Intervalo(0.0944598, 0.188552), Intervalos.Intervalo(5.90676, 5.95343), Intervalos.Intervalo(0.047286, 0.0944598), Intervalos.Intervalo(5.95343, 5.97673), Intervalos.Intervalo(0.0236567, 0.047286), Intervalos.Intervalo(5.97673, 5.98838), Intervalos.Intervalo(0.0118434, 0.0236567), Intervalos.Intervalo(5.98838, 5.99419), Intervalos.Intervalo(0.00593332, 0.0118434), Intervalos.Intervalo(5.99419, 5.9971), Intervalos.Intervalo(0.00296759, 0.00593332), Intervalos.Intervalo(5.9971, 5.99855), Intervalos.Intervalo(0.00148416, 0.00296759), Intervalos.Intervalo(5.99855, 5.99928), Intervalos.Intervalo(0.000743215, 0.00148416), Intervalos.Intervalo(5.99928, 5.99964), Intervalos.Intervalo(0.000372101, 0.000743215), Intervalos.Intervalo(5.99964, 5.99982), Intervalos.Intervalo(0.000186387, 0.000372101), Intervalos.Intervalo(5.99982, 5.99991), Intervalos.Intervalo(9.32925e-5, 0.000186387), Intervalos.Intervalo(5.99991, 5.99995), Intervalos.Intervalo(4.66957e-5, 9.32925e-5), Intervalos.Intervalo(5.99995, 5.99998), Intervalos.Intervalo(2.3382e-5, 4.66957e-5), Intervalos.Intervalo(5.99998, 5.99999), Intervalos.Intervalo(1.17105e-5, 2.3382e-5), Intervalos.Intervalo(5.99999, 5.99999), Intervalos.Intervalo(5.86233e-6, 1.17105e-5), Intervalos.Intervalo(5.99999, 6.0), Intervalos.Intervalo(2.93377e-6, 5.86233e-6), Intervalos.Intervalo(6.0, 6.0), Intervalos.Intervalo(1.46788e-6, 2.93377e-6), Intervalos.Intervalo(6.0, 6.0), Intervalos.Intervalo(7.35144e-7, 1.46788e-6), Intervalos.Intervalo(6.0, 6.0), Intervalos.Intervalo(3.67709e-7, 7.35144e-7), Intervalos.Intervalo(6.0, 6.0), Intervalos.Intervalo(1.84113e-7, 3.67709e-7), Intervalos.Intervalo(6.0, 6.0), Intervalos.Intervalo(9.21621e-8, 1.84113e-7), Intervalos.Intervalo(6.0, 6.0), Intervalos.Intervalo(4.61125e-8, 9.21621e-8), Intervalos.Intervalo(6.0, 6.0), Intervalos.Intervalo(2.309e-8, 4.61125e-8), Intervalos.Intervalo(6.0, 6.0), Intervalos.Intervalo(0.0, 1.15559e-8), Intervalos.Intervalo(1.15559e-8, 2.309e-8)])\n",
      "(\" Después \", X1) = (\" Después \", Intervalos.Intervalo[Intervalos.Intervalo(3.00002, 4.50148), Intervalos.Intervalo(1.50244, 3.00451), Intervalos.Intervalo(4.50148, 5.25082), Intervalos.Intervalo(0.752677, 1.50244), Intervalos.Intervalo(5.25082, 5.62608), Intervalos.Intervalo(0.376723, 0.752677), Intervalos.Intervalo(5.62608, 5.8134), Intervalos.Intervalo(0.188552, 0.376723), Intervalos.Intervalo(5.8134, 5.90676), Intervalos.Intervalo(0.0944598, 0.188552), Intervalos.Intervalo(5.90676, 5.95343), Intervalos.Intervalo(0.047286, 0.0944598), Intervalos.Intervalo(5.95343, 5.97673), Intervalos.Intervalo(0.0236567, 0.047286), Intervalos.Intervalo(5.97673, 5.98838), Intervalos.Intervalo(0.0118434, 0.0236567), Intervalos.Intervalo(5.98838, 5.99419), Intervalos.Intervalo(0.00593332, 0.0118434), Intervalos.Intervalo(5.99419, 5.9971), Intervalos.Intervalo(0.00296759, 0.00593332), Intervalos.Intervalo(5.9971, 5.99855), Intervalos.Intervalo(0.00148416, 0.00296759), Intervalos.Intervalo(5.99855, 5.99928), Intervalos.Intervalo(0.000743215, 0.00148416), Intervalos.Intervalo(5.99928, 5.99964), Intervalos.Intervalo(0.000372101, 0.000743215), Intervalos.Intervalo(5.99964, 5.99982), Intervalos.Intervalo(0.000186387, 0.000372101), Intervalos.Intervalo(5.99982, 5.99991), Intervalos.Intervalo(9.32925e-5, 0.000186387), Intervalos.Intervalo(5.99991, 5.99995), Intervalos.Intervalo(4.66957e-5, 9.32925e-5), Intervalos.Intervalo(5.99995, 5.99998), Intervalos.Intervalo(2.3382e-5, 4.66957e-5), Intervalos.Intervalo(5.99998, 5.99999), Intervalos.Intervalo(1.17105e-5, 2.3382e-5), Intervalos.Intervalo(5.99999, 5.99999), Intervalos.Intervalo(5.86233e-6, 1.17105e-5), Intervalos.Intervalo(5.99999, 6.0), Intervalos.Intervalo(2.93377e-6, 5.86233e-6), Intervalos.Intervalo(6.0, 6.0), Intervalos.Intervalo(1.46788e-6, 2.93377e-6), Intervalos.Intervalo(6.0, 6.0), Intervalos.Intervalo(7.35144e-7, 1.46788e-6), Intervalos.Intervalo(6.0, 6.0), Intervalos.Intervalo(3.67709e-7, 7.35144e-7), Intervalos.Intervalo(6.0, 6.0), Intervalos.Intervalo(1.84113e-7, 3.67709e-7), Intervalos.Intervalo(6.0, 6.0), Intervalos.Intervalo(9.21621e-8, 1.84113e-7), Intervalos.Intervalo(6.0, 6.0), Intervalos.Intervalo(4.61125e-8, 9.21621e-8), Intervalos.Intervalo(6.0, 6.0), Intervalos.Intervalo(2.309e-8, 4.61125e-8), Intervalos.Intervalo(6.0, 6.0), Intervalos.Intervalo(0.0, 1.15559e-8), Intervalos.Intervalo(1.15559e-8, 2.309e-8), Intervalos.Intervalo(6.0, 6.0), Intervalos.Intervalo(6.0, 6.0)])\n",
      "(uniqueRoot(X1[i], X0), X1[i], X0) = (-1, Intervalos.Intervalo(0.0, 1.1555937140491564e-8), Intervalos.Intervalo(0.0, 6.0))\n",
      "Xbis = Intervalos.Intervalo[Intervalos.Intervalo(0.0, 5.78372e-9), Intervalos.Intervalo(5.78372e-9, 1.15559e-8)]\n",
      "(\" Antes \", X1) = (\" Antes \", Intervalos.Intervalo[Intervalos.Intervalo(3.00002, 4.50148), Intervalos.Intervalo(1.50244, 3.00451), Intervalos.Intervalo(4.50148, 5.25082), Intervalos.Intervalo(0.752677, 1.50244), Intervalos.Intervalo(5.25082, 5.62608), Intervalos.Intervalo(0.376723, 0.752677), Intervalos.Intervalo(5.62608, 5.8134), Intervalos.Intervalo(0.188552, 0.376723), Intervalos.Intervalo(5.8134, 5.90676), Intervalos.Intervalo(0.0944598, 0.188552), Intervalos.Intervalo(5.90676, 5.95343), Intervalos.Intervalo(0.047286, 0.0944598), Intervalos.Intervalo(5.95343, 5.97673), Intervalos.Intervalo(0.0236567, 0.047286), Intervalos.Intervalo(5.97673, 5.98838), Intervalos.Intervalo(0.0118434, 0.0236567), Intervalos.Intervalo(5.98838, 5.99419), Intervalos.Intervalo(0.00593332, 0.0118434), Intervalos.Intervalo(5.99419, 5.9971), Intervalos.Intervalo(0.00296759, 0.00593332), Intervalos.Intervalo(5.9971, 5.99855), Intervalos.Intervalo(0.00148416, 0.00296759), Intervalos.Intervalo(5.99855, 5.99928), Intervalos.Intervalo(0.000743215, 0.00148416), Intervalos.Intervalo(5.99928, 5.99964), Intervalos.Intervalo(0.000372101, 0.000743215), Intervalos.Intervalo(5.99964, 5.99982), Intervalos.Intervalo(0.000186387, 0.000372101), Intervalos.Intervalo(5.99982, 5.99991), Intervalos.Intervalo(9.32925e-5, 0.000186387), Intervalos.Intervalo(5.99991, 5.99995), Intervalos.Intervalo(4.66957e-5, 9.32925e-5), Intervalos.Intervalo(5.99995, 5.99998), Intervalos.Intervalo(2.3382e-5, 4.66957e-5), Intervalos.Intervalo(5.99998, 5.99999), Intervalos.Intervalo(1.17105e-5, 2.3382e-5), Intervalos.Intervalo(5.99999, 5.99999), Intervalos.Intervalo(5.86233e-6, 1.17105e-5), Intervalos.Intervalo(5.99999, 6.0), Intervalos.Intervalo(2.93377e-6, 5.86233e-6), Intervalos.Intervalo(6.0, 6.0), Intervalos.Intervalo(1.46788e-6, 2.93377e-6), Intervalos.Intervalo(6.0, 6.0), Intervalos.Intervalo(7.35144e-7, 1.46788e-6), Intervalos.Intervalo(6.0, 6.0), Intervalos.Intervalo(3.67709e-7, 7.35144e-7), Intervalos.Intervalo(6.0, 6.0), Intervalos.Intervalo(1.84113e-7, 3.67709e-7), Intervalos.Intervalo(6.0, 6.0), Intervalos.Intervalo(9.21621e-8, 1.84113e-7), Intervalos.Intervalo(6.0, 6.0), Intervalos.Intervalo(4.61125e-8, 9.21621e-8), Intervalos.Intervalo(6.0, 6.0), Intervalos.Intervalo(2.309e-8, 4.61125e-8), Intervalos.Intervalo(6.0, 6.0), Intervalos.Intervalo(1.15559e-8, 2.309e-8), Intervalos.Intervalo(6.0, 6.0), Intervalos.Intervalo(6.0, 6.0)])\n",
      "(\" Después \", X1) = (\" Después \", Intervalos.Intervalo[Intervalos.Intervalo(3.00002, 4.50148), Intervalos.Intervalo(1.50244, 3.00451), Intervalos.Intervalo(4.50148, 5.25082), Intervalos.Intervalo(0.752677, 1.50244), Intervalos.Intervalo(5.25082, 5.62608), Intervalos.Intervalo(0.376723, 0.752677), Intervalos.Intervalo(5.62608, 5.8134), Intervalos.Intervalo(0.188552, 0.376723), Intervalos.Intervalo(5.8134, 5.90676), Intervalos.Intervalo(0.0944598, 0.188552), Intervalos.Intervalo(5.90676, 5.95343), Intervalos.Intervalo(0.047286, 0.0944598), Intervalos.Intervalo(5.95343, 5.97673), Intervalos.Intervalo(0.0236567, 0.047286), Intervalos.Intervalo(5.97673, 5.98838), Intervalos.Intervalo(0.0118434, 0.0236567), Intervalos.Intervalo(5.98838, 5.99419), Intervalos.Intervalo(0.00593332, 0.0118434), Intervalos.Intervalo(5.99419, 5.9971), Intervalos.Intervalo(0.00296759, 0.00593332), Intervalos.Intervalo(5.9971, 5.99855), Intervalos.Intervalo(0.00148416, 0.00296759), Intervalos.Intervalo(5.99855, 5.99928), Intervalos.Intervalo(0.000743215, 0.00148416), Intervalos.Intervalo(5.99928, 5.99964), Intervalos.Intervalo(0.000372101, 0.000743215), Intervalos.Intervalo(5.99964, 5.99982), Intervalos.Intervalo(0.000186387, 0.000372101), Intervalos.Intervalo(5.99982, 5.99991), Intervalos.Intervalo(9.32925e-5, 0.000186387), Intervalos.Intervalo(5.99991, 5.99995), Intervalos.Intervalo(4.66957e-5, 9.32925e-5), Intervalos.Intervalo(5.99995, 5.99998), Intervalos.Intervalo(2.3382e-5, 4.66957e-5), Intervalos.Intervalo(5.99998, 5.99999), Intervalos.Intervalo(1.17105e-5, 2.3382e-5), Intervalos.Intervalo(5.99999, 5.99999), Intervalos.Intervalo(5.86233e-6, 1.17105e-5), Intervalos.Intervalo(5.99999, 6.0), Intervalos.Intervalo(2.93377e-6, 5.86233e-6), Intervalos.Intervalo(6.0, 6.0), Intervalos.Intervalo(1.46788e-6, 2.93377e-6), Intervalos.Intervalo(6.0, 6.0), Intervalos.Intervalo(7.35144e-7, 1.46788e-6), Intervalos.Intervalo(6.0, 6.0), Intervalos.Intervalo(3.67709e-7, 7.35144e-7), Intervalos.Intervalo(6.0, 6.0), Intervalos.Intervalo(1.84113e-7, 3.67709e-7), Intervalos.Intervalo(6.0, 6.0), Intervalos.Intervalo(9.21621e-8, 1.84113e-7), Intervalos.Intervalo(6.0, 6.0), Intervalos.Intervalo(4.61125e-8, 9.21621e-8), Intervalos.Intervalo(6.0, 6.0), Intervalos.Intervalo(2.309e-8, 4.61125e-8), Intervalos.Intervalo(6.0, 6.0), Intervalos.Intervalo(1.15559e-8, 2.309e-8), Intervalos.Intervalo(6.0, 6.0), Intervalos.Intervalo(6.0, 6.0), Intervalos.Intervalo(0.0, 5.78372e-9), Intervalos.Intervalo(5.78372e-9, 1.15559e-8)])\n"
     ]
    },
    {
     "name": "stdout",
     "output_type": "stream",
     "text": [
      "(uniqueRoot(X1[i], X0), X1[i], X0) = (1, Intervalos.Intervalo(1.1555937140491564e-8, 2.309002304664771e-8), Intervalos.Intervalo(0.0, 6.0))\n",
      "(uniqueRoot(X1[i], X0), X1[i], X0) = (1, Intervalos.Intervalo(5.999999989147148, 5.9999999945801195), Intervalos.Intervalo(0.0, 6.0))\n",
      "(uniqueRoot(X1[i], X0), X1[i], X0) = (-1, Intervalos.Intervalo(5.9999999945801195, 6.0), Intervalos.Intervalo(0.0, 6.0))\n",
      "Xbis = Intervalos.Intervalo[Intervalos.Intervalo(6.0, 6.0), Intervalos.Intervalo(6.0, 6.0)]\n",
      "(\" Antes \", X1) = (\" Antes \", Intervalos.Intervalo[Intervalos.Intervalo(3.00002, 4.50148), Intervalos.Intervalo(1.50244, 3.00451), Intervalos.Intervalo(4.50148, 5.25082), Intervalos.Intervalo(0.752677, 1.50244), Intervalos.Intervalo(5.25082, 5.62608), Intervalos.Intervalo(0.376723, 0.752677), Intervalos.Intervalo(5.62608, 5.8134), Intervalos.Intervalo(0.188552, 0.376723), Intervalos.Intervalo(5.8134, 5.90676), Intervalos.Intervalo(0.0944598, 0.188552), Intervalos.Intervalo(5.90676, 5.95343), Intervalos.Intervalo(0.047286, 0.0944598), Intervalos.Intervalo(5.95343, 5.97673), Intervalos.Intervalo(0.0236567, 0.047286), Intervalos.Intervalo(5.97673, 5.98838), Intervalos.Intervalo(0.0118434, 0.0236567), Intervalos.Intervalo(5.98838, 5.99419), Intervalos.Intervalo(0.00593332, 0.0118434), Intervalos.Intervalo(5.99419, 5.9971), Intervalos.Intervalo(0.00296759, 0.00593332), Intervalos.Intervalo(5.9971, 5.99855), Intervalos.Intervalo(0.00148416, 0.00296759), Intervalos.Intervalo(5.99855, 5.99928), Intervalos.Intervalo(0.000743215, 0.00148416), Intervalos.Intervalo(5.99928, 5.99964), Intervalos.Intervalo(0.000372101, 0.000743215), Intervalos.Intervalo(5.99964, 5.99982), Intervalos.Intervalo(0.000186387, 0.000372101), Intervalos.Intervalo(5.99982, 5.99991), Intervalos.Intervalo(9.32925e-5, 0.000186387), Intervalos.Intervalo(5.99991, 5.99995), Intervalos.Intervalo(4.66957e-5, 9.32925e-5), Intervalos.Intervalo(5.99995, 5.99998), Intervalos.Intervalo(2.3382e-5, 4.66957e-5), Intervalos.Intervalo(5.99998, 5.99999), Intervalos.Intervalo(1.17105e-5, 2.3382e-5), Intervalos.Intervalo(5.99999, 5.99999), Intervalos.Intervalo(5.86233e-6, 1.17105e-5), Intervalos.Intervalo(5.99999, 6.0), Intervalos.Intervalo(2.93377e-6, 5.86233e-6), Intervalos.Intervalo(6.0, 6.0), Intervalos.Intervalo(1.46788e-6, 2.93377e-6), Intervalos.Intervalo(6.0, 6.0), Intervalos.Intervalo(7.35144e-7, 1.46788e-6), Intervalos.Intervalo(6.0, 6.0), Intervalos.Intervalo(3.67709e-7, 7.35144e-7), Intervalos.Intervalo(6.0, 6.0), Intervalos.Intervalo(1.84113e-7, 3.67709e-7), Intervalos.Intervalo(6.0, 6.0), Intervalos.Intervalo(9.21621e-8, 1.84113e-7), Intervalos.Intervalo(6.0, 6.0), Intervalos.Intervalo(4.61125e-8, 9.21621e-8), Intervalos.Intervalo(6.0, 6.0), Intervalos.Intervalo(2.309e-8, 4.61125e-8), Intervalos.Intervalo(6.0, 6.0), Intervalos.Intervalo(1.15559e-8, 2.309e-8), Intervalos.Intervalo(6.0, 6.0), Intervalos.Intervalo(0.0, 5.78372e-9), Intervalos.Intervalo(5.78372e-9, 1.15559e-8)])\n",
      "(\" Después \", X1) = (\" Después \", Intervalos.Intervalo[Intervalos.Intervalo(3.00002, 4.50148), Intervalos.Intervalo(1.50244, 3.00451), Intervalos.Intervalo(4.50148, 5.25082), Intervalos.Intervalo(0.752677, 1.50244), Intervalos.Intervalo(5.25082, 5.62608), Intervalos.Intervalo(0.376723, 0.752677), Intervalos.Intervalo(5.62608, 5.8134), Intervalos.Intervalo(0.188552, 0.376723), Intervalos.Intervalo(5.8134, 5.90676), Intervalos.Intervalo(0.0944598, 0.188552), Intervalos.Intervalo(5.90676, 5.95343), Intervalos.Intervalo(0.047286, 0.0944598), Intervalos.Intervalo(5.95343, 5.97673), Intervalos.Intervalo(0.0236567, 0.047286), Intervalos.Intervalo(5.97673, 5.98838), Intervalos.Intervalo(0.0118434, 0.0236567), Intervalos.Intervalo(5.98838, 5.99419), Intervalos.Intervalo(0.00593332, 0.0118434), Intervalos.Intervalo(5.99419, 5.9971), Intervalos.Intervalo(0.00296759, 0.00593332), Intervalos.Intervalo(5.9971, 5.99855), Intervalos.Intervalo(0.00148416, 0.00296759), Intervalos.Intervalo(5.99855, 5.99928), Intervalos.Intervalo(0.000743215, 0.00148416), Intervalos.Intervalo(5.99928, 5.99964), Intervalos.Intervalo(0.000372101, 0.000743215), Intervalos.Intervalo(5.99964, 5.99982), Intervalos.Intervalo(0.000186387, 0.000372101), Intervalos.Intervalo(5.99982, 5.99991), Intervalos.Intervalo(9.32925e-5, 0.000186387), Intervalos.Intervalo(5.99991, 5.99995), Intervalos.Intervalo(4.66957e-5, 9.32925e-5), Intervalos.Intervalo(5.99995, 5.99998), Intervalos.Intervalo(2.3382e-5, 4.66957e-5), Intervalos.Intervalo(5.99998, 5.99999), Intervalos.Intervalo(1.17105e-5, 2.3382e-5), Intervalos.Intervalo(5.99999, 5.99999), Intervalos.Intervalo(5.86233e-6, 1.17105e-5), Intervalos.Intervalo(5.99999, 6.0), Intervalos.Intervalo(2.93377e-6, 5.86233e-6), Intervalos.Intervalo(6.0, 6.0), Intervalos.Intervalo(1.46788e-6, 2.93377e-6), Intervalos.Intervalo(6.0, 6.0), Intervalos.Intervalo(7.35144e-7, 1.46788e-6), Intervalos.Intervalo(6.0, 6.0), Intervalos.Intervalo(3.67709e-7, 7.35144e-7), Intervalos.Intervalo(6.0, 6.0), Intervalos.Intervalo(1.84113e-7, 3.67709e-7), Intervalos.Intervalo(6.0, 6.0), Intervalos.Intervalo(9.21621e-8, 1.84113e-7), Intervalos.Intervalo(6.0, 6.0), Intervalos.Intervalo(4.61125e-8, 9.21621e-8), Intervalos.Intervalo(6.0, 6.0), Intervalos.Intervalo(2.309e-8, 4.61125e-8), Intervalos.Intervalo(6.0, 6.0), Intervalos.Intervalo(1.15559e-8, 2.309e-8), Intervalos.Intervalo(6.0, 6.0), Intervalos.Intervalo(0.0, 5.78372e-9), Intervalos.Intervalo(5.78372e-9, 1.15559e-8), Intervalos.Intervalo(6.0, 6.0), Intervalos.Intervalo(6.0, 6.0)])\n",
      "(uniqueRoot(X1[i], X0), X1[i], X0) = (-1, Intervalos.Intervalo(0.0, 5.783716633704535e-9), Intervalos.Intervalo(0.0, 6.0))\n",
      "Xbis = Intervalos.Intervalo[Intervalos.Intervalo(0.0, 2.89573e-9), Intervalos.Intervalo(2.89573e-9, 5.78372e-9)]\n",
      "(\" Antes \", X1) = (\" Antes \", Intervalos.Intervalo[Intervalos.Intervalo(3.00002, 4.50148), Intervalos.Intervalo(1.50244, 3.00451), Intervalos.Intervalo(4.50148, 5.25082), Intervalos.Intervalo(0.752677, 1.50244), Intervalos.Intervalo(5.25082, 5.62608), Intervalos.Intervalo(0.376723, 0.752677), Intervalos.Intervalo(5.62608, 5.8134), Intervalos.Intervalo(0.188552, 0.376723), Intervalos.Intervalo(5.8134, 5.90676), Intervalos.Intervalo(0.0944598, 0.188552), Intervalos.Intervalo(5.90676, 5.95343), Intervalos.Intervalo(0.047286, 0.0944598), Intervalos.Intervalo(5.95343, 5.97673), Intervalos.Intervalo(0.0236567, 0.047286), Intervalos.Intervalo(5.97673, 5.98838), Intervalos.Intervalo(0.0118434, 0.0236567), Intervalos.Intervalo(5.98838, 5.99419), Intervalos.Intervalo(0.00593332, 0.0118434), Intervalos.Intervalo(5.99419, 5.9971), Intervalos.Intervalo(0.00296759, 0.00593332), Intervalos.Intervalo(5.9971, 5.99855), Intervalos.Intervalo(0.00148416, 0.00296759), Intervalos.Intervalo(5.99855, 5.99928), Intervalos.Intervalo(0.000743215, 0.00148416), Intervalos.Intervalo(5.99928, 5.99964), Intervalos.Intervalo(0.000372101, 0.000743215), Intervalos.Intervalo(5.99964, 5.99982), Intervalos.Intervalo(0.000186387, 0.000372101), Intervalos.Intervalo(5.99982, 5.99991), Intervalos.Intervalo(9.32925e-5, 0.000186387), Intervalos.Intervalo(5.99991, 5.99995), Intervalos.Intervalo(4.66957e-5, 9.32925e-5), Intervalos.Intervalo(5.99995, 5.99998), Intervalos.Intervalo(2.3382e-5, 4.66957e-5), Intervalos.Intervalo(5.99998, 5.99999), Intervalos.Intervalo(1.17105e-5, 2.3382e-5), Intervalos.Intervalo(5.99999, 5.99999), Intervalos.Intervalo(5.86233e-6, 1.17105e-5), Intervalos.Intervalo(5.99999, 6.0), Intervalos.Intervalo(2.93377e-6, 5.86233e-6), Intervalos.Intervalo(6.0, 6.0), Intervalos.Intervalo(1.46788e-6, 2.93377e-6), Intervalos.Intervalo(6.0, 6.0), Intervalos.Intervalo(7.35144e-7, 1.46788e-6), Intervalos.Intervalo(6.0, 6.0), Intervalos.Intervalo(3.67709e-7, 7.35144e-7), Intervalos.Intervalo(6.0, 6.0), Intervalos.Intervalo(1.84113e-7, 3.67709e-7), Intervalos.Intervalo(6.0, 6.0), Intervalos.Intervalo(9.21621e-8, 1.84113e-7), Intervalos.Intervalo(6.0, 6.0), Intervalos.Intervalo(4.61125e-8, 9.21621e-8), Intervalos.Intervalo(6.0, 6.0), Intervalos.Intervalo(2.309e-8, 4.61125e-8), Intervalos.Intervalo(6.0, 6.0), Intervalos.Intervalo(1.15559e-8, 2.309e-8), Intervalos.Intervalo(6.0, 6.0), Intervalos.Intervalo(5.78372e-9, 1.15559e-8), Intervalos.Intervalo(6.0, 6.0), Intervalos.Intervalo(6.0, 6.0)])\n",
      "(\" Después \", X1) = (\" Después \", Intervalos.Intervalo[Intervalos.Intervalo(3.00002, 4.50148), Intervalos.Intervalo(1.50244, 3.00451), Intervalos.Intervalo(4.50148, 5.25082), Intervalos.Intervalo(0.752677, 1.50244), Intervalos.Intervalo(5.25082, 5.62608), Intervalos.Intervalo(0.376723, 0.752677), Intervalos.Intervalo(5.62608, 5.8134), Intervalos.Intervalo(0.188552, 0.376723), Intervalos.Intervalo(5.8134, 5.90676), Intervalos.Intervalo(0.0944598, 0.188552), Intervalos.Intervalo(5.90676, 5.95343), Intervalos.Intervalo(0.047286, 0.0944598), Intervalos.Intervalo(5.95343, 5.97673), Intervalos.Intervalo(0.0236567, 0.047286), Intervalos.Intervalo(5.97673, 5.98838), Intervalos.Intervalo(0.0118434, 0.0236567), Intervalos.Intervalo(5.98838, 5.99419), Intervalos.Intervalo(0.00593332, 0.0118434), Intervalos.Intervalo(5.99419, 5.9971), Intervalos.Intervalo(0.00296759, 0.00593332), Intervalos.Intervalo(5.9971, 5.99855), Intervalos.Intervalo(0.00148416, 0.00296759), Intervalos.Intervalo(5.99855, 5.99928), Intervalos.Intervalo(0.000743215, 0.00148416), Intervalos.Intervalo(5.99928, 5.99964), Intervalos.Intervalo(0.000372101, 0.000743215), Intervalos.Intervalo(5.99964, 5.99982), Intervalos.Intervalo(0.000186387, 0.000372101), Intervalos.Intervalo(5.99982, 5.99991), Intervalos.Intervalo(9.32925e-5, 0.000186387), Intervalos.Intervalo(5.99991, 5.99995), Intervalos.Intervalo(4.66957e-5, 9.32925e-5), Intervalos.Intervalo(5.99995, 5.99998), Intervalos.Intervalo(2.3382e-5, 4.66957e-5), Intervalos.Intervalo(5.99998, 5.99999), Intervalos.Intervalo(1.17105e-5, 2.3382e-5), Intervalos.Intervalo(5.99999, 5.99999), Intervalos.Intervalo(5.86233e-6, 1.17105e-5), Intervalos.Intervalo(5.99999, 6.0), Intervalos.Intervalo(2.93377e-6, 5.86233e-6), Intervalos.Intervalo(6.0, 6.0), Intervalos.Intervalo(1.46788e-6, 2.93377e-6), Intervalos.Intervalo(6.0, 6.0), Intervalos.Intervalo(7.35144e-7, 1.46788e-6), Intervalos.Intervalo(6.0, 6.0), Intervalos.Intervalo(3.67709e-7, 7.35144e-7), Intervalos.Intervalo(6.0, 6.0), Intervalos.Intervalo(1.84113e-7, 3.67709e-7), Intervalos.Intervalo(6.0, 6.0), Intervalos.Intervalo(9.21621e-8, 1.84113e-7), Intervalos.Intervalo(6.0, 6.0), Intervalos.Intervalo(4.61125e-8, 9.21621e-8), Intervalos.Intervalo(6.0, 6.0), Intervalos.Intervalo(2.309e-8, 4.61125e-8), Intervalos.Intervalo(6.0, 6.0), Intervalos.Intervalo(1.15559e-8, 2.309e-8), Intervalos.Intervalo(6.0, 6.0), Intervalos.Intervalo(5.78372e-9, 1.15559e-8), Intervalos.Intervalo(6.0, 6.0), Intervalos.Intervalo(6.0, 6.0), Intervalos.Intervalo(0.0, 2.89573e-9), Intervalos.Intervalo(2.89573e-9, 5.78372e-9)])\n"
     ]
    },
    {
     "name": "stdout",
     "output_type": "stream",
     "text": [
      "(uniqueRoot(X1[i], X0), X1[i], X0) = (1, Intervalos.Intervalo(5.783716633704535e-9, 1.1555937140491564e-8), Intervalos.Intervalo(0.0, 6.0))\n",
      "(uniqueRoot(X1[i], X0), X1[i], X0) = (1, Intervalos.Intervalo(5.9999999945801195, 5.999999997290848), Intervalos.Intervalo(0.0, 6.0))\n",
      "(uniqueRoot(X1[i], X0), X1[i], X0) = (-1, Intervalos.Intervalo(5.999999997290848, 6.0), Intervalos.Intervalo(0.0, 6.0))\n",
      "Xbis = Intervalos.Intervalo[Intervalos.Intervalo(6.0, 6.0), Intervalos.Intervalo(6.0, 6.0)]\n",
      "(\" Antes \", X1) = (\" Antes \", Intervalos.Intervalo[Intervalos.Intervalo(3.00002, 4.50148), Intervalos.Intervalo(1.50244, 3.00451), Intervalos.Intervalo(4.50148, 5.25082), Intervalos.Intervalo(0.752677, 1.50244), Intervalos.Intervalo(5.25082, 5.62608), Intervalos.Intervalo(0.376723, 0.752677), Intervalos.Intervalo(5.62608, 5.8134), Intervalos.Intervalo(0.188552, 0.376723), Intervalos.Intervalo(5.8134, 5.90676), Intervalos.Intervalo(0.0944598, 0.188552), Intervalos.Intervalo(5.90676, 5.95343), Intervalos.Intervalo(0.047286, 0.0944598), Intervalos.Intervalo(5.95343, 5.97673), Intervalos.Intervalo(0.0236567, 0.047286), Intervalos.Intervalo(5.97673, 5.98838), Intervalos.Intervalo(0.0118434, 0.0236567), Intervalos.Intervalo(5.98838, 5.99419), Intervalos.Intervalo(0.00593332, 0.0118434), Intervalos.Intervalo(5.99419, 5.9971), Intervalos.Intervalo(0.00296759, 0.00593332), Intervalos.Intervalo(5.9971, 5.99855), Intervalos.Intervalo(0.00148416, 0.00296759), Intervalos.Intervalo(5.99855, 5.99928), Intervalos.Intervalo(0.000743215, 0.00148416), Intervalos.Intervalo(5.99928, 5.99964), Intervalos.Intervalo(0.000372101, 0.000743215), Intervalos.Intervalo(5.99964, 5.99982), Intervalos.Intervalo(0.000186387, 0.000372101), Intervalos.Intervalo(5.99982, 5.99991), Intervalos.Intervalo(9.32925e-5, 0.000186387), Intervalos.Intervalo(5.99991, 5.99995), Intervalos.Intervalo(4.66957e-5, 9.32925e-5), Intervalos.Intervalo(5.99995, 5.99998), Intervalos.Intervalo(2.3382e-5, 4.66957e-5), Intervalos.Intervalo(5.99998, 5.99999), Intervalos.Intervalo(1.17105e-5, 2.3382e-5), Intervalos.Intervalo(5.99999, 5.99999), Intervalos.Intervalo(5.86233e-6, 1.17105e-5), Intervalos.Intervalo(5.99999, 6.0), Intervalos.Intervalo(2.93377e-6, 5.86233e-6), Intervalos.Intervalo(6.0, 6.0), Intervalos.Intervalo(1.46788e-6, 2.93377e-6), Intervalos.Intervalo(6.0, 6.0), Intervalos.Intervalo(7.35144e-7, 1.46788e-6), Intervalos.Intervalo(6.0, 6.0), Intervalos.Intervalo(3.67709e-7, 7.35144e-7), Intervalos.Intervalo(6.0, 6.0), Intervalos.Intervalo(1.84113e-7, 3.67709e-7), Intervalos.Intervalo(6.0, 6.0), Intervalos.Intervalo(9.21621e-8, 1.84113e-7), Intervalos.Intervalo(6.0, 6.0), Intervalos.Intervalo(4.61125e-8, 9.21621e-8), Intervalos.Intervalo(6.0, 6.0), Intervalos.Intervalo(2.309e-8, 4.61125e-8), Intervalos.Intervalo(6.0, 6.0), Intervalos.Intervalo(1.15559e-8, 2.309e-8), Intervalos.Intervalo(6.0, 6.0), Intervalos.Intervalo(5.78372e-9, 1.15559e-8), Intervalos.Intervalo(6.0, 6.0), Intervalos.Intervalo(0.0, 2.89573e-9), Intervalos.Intervalo(2.89573e-9, 5.78372e-9)])\n",
      "(\" Después \", X1) = (\" Después \", Intervalos.Intervalo[Intervalos.Intervalo(3.00002, 4.50148), Intervalos.Intervalo(1.50244, 3.00451), Intervalos.Intervalo(4.50148, 5.25082), Intervalos.Intervalo(0.752677, 1.50244), Intervalos.Intervalo(5.25082, 5.62608), Intervalos.Intervalo(0.376723, 0.752677), Intervalos.Intervalo(5.62608, 5.8134), Intervalos.Intervalo(0.188552, 0.376723), Intervalos.Intervalo(5.8134, 5.90676), Intervalos.Intervalo(0.0944598, 0.188552), Intervalos.Intervalo(5.90676, 5.95343), Intervalos.Intervalo(0.047286, 0.0944598), Intervalos.Intervalo(5.95343, 5.97673), Intervalos.Intervalo(0.0236567, 0.047286), Intervalos.Intervalo(5.97673, 5.98838), Intervalos.Intervalo(0.0118434, 0.0236567), Intervalos.Intervalo(5.98838, 5.99419), Intervalos.Intervalo(0.00593332, 0.0118434), Intervalos.Intervalo(5.99419, 5.9971), Intervalos.Intervalo(0.00296759, 0.00593332), Intervalos.Intervalo(5.9971, 5.99855), Intervalos.Intervalo(0.00148416, 0.00296759), Intervalos.Intervalo(5.99855, 5.99928), Intervalos.Intervalo(0.000743215, 0.00148416), Intervalos.Intervalo(5.99928, 5.99964), Intervalos.Intervalo(0.000372101, 0.000743215), Intervalos.Intervalo(5.99964, 5.99982), Intervalos.Intervalo(0.000186387, 0.000372101), Intervalos.Intervalo(5.99982, 5.99991), Intervalos.Intervalo(9.32925e-5, 0.000186387), Intervalos.Intervalo(5.99991, 5.99995), Intervalos.Intervalo(4.66957e-5, 9.32925e-5), Intervalos.Intervalo(5.99995, 5.99998), Intervalos.Intervalo(2.3382e-5, 4.66957e-5), Intervalos.Intervalo(5.99998, 5.99999), Intervalos.Intervalo(1.17105e-5, 2.3382e-5), Intervalos.Intervalo(5.99999, 5.99999), Intervalos.Intervalo(5.86233e-6, 1.17105e-5), Intervalos.Intervalo(5.99999, 6.0), Intervalos.Intervalo(2.93377e-6, 5.86233e-6), Intervalos.Intervalo(6.0, 6.0), Intervalos.Intervalo(1.46788e-6, 2.93377e-6), Intervalos.Intervalo(6.0, 6.0), Intervalos.Intervalo(7.35144e-7, 1.46788e-6), Intervalos.Intervalo(6.0, 6.0), Intervalos.Intervalo(3.67709e-7, 7.35144e-7), Intervalos.Intervalo(6.0, 6.0), Intervalos.Intervalo(1.84113e-7, 3.67709e-7), Intervalos.Intervalo(6.0, 6.0), Intervalos.Intervalo(9.21621e-8, 1.84113e-7), Intervalos.Intervalo(6.0, 6.0), Intervalos.Intervalo(4.61125e-8, 9.21621e-8), Intervalos.Intervalo(6.0, 6.0), Intervalos.Intervalo(2.309e-8, 4.61125e-8), Intervalos.Intervalo(6.0, 6.0), Intervalos.Intervalo(1.15559e-8, 2.309e-8), Intervalos.Intervalo(6.0, 6.0), Intervalos.Intervalo(5.78372e-9, 1.15559e-8), Intervalos.Intervalo(6.0, 6.0), Intervalos.Intervalo(0.0, 2.89573e-9), Intervalos.Intervalo(2.89573e-9, 5.78372e-9), Intervalos.Intervalo(6.0, 6.0), Intervalos.Intervalo(6.0, 6.0)])\n",
      "(uniqueRoot(X1[i], X0), X1[i], X0) = (-1, Intervalos.Intervalo(0.0, 2.8957334748319104e-9), Intervalos.Intervalo(0.0, 6.0))\n",
      "Xbis = Intervalos.Intervalo[Intervalos.Intervalo(0.0, 1.45007e-9), Intervalos.Intervalo(1.45007e-9, 2.89573e-9)]\n",
      "(\" Antes \", X1) = (\" Antes \", Intervalos.Intervalo[Intervalos.Intervalo(3.00002, 4.50148), Intervalos.Intervalo(1.50244, 3.00451), Intervalos.Intervalo(4.50148, 5.25082), Intervalos.Intervalo(0.752677, 1.50244), Intervalos.Intervalo(5.25082, 5.62608), Intervalos.Intervalo(0.376723, 0.752677), Intervalos.Intervalo(5.62608, 5.8134), Intervalos.Intervalo(0.188552, 0.376723), Intervalos.Intervalo(5.8134, 5.90676), Intervalos.Intervalo(0.0944598, 0.188552), Intervalos.Intervalo(5.90676, 5.95343), Intervalos.Intervalo(0.047286, 0.0944598), Intervalos.Intervalo(5.95343, 5.97673), Intervalos.Intervalo(0.0236567, 0.047286), Intervalos.Intervalo(5.97673, 5.98838), Intervalos.Intervalo(0.0118434, 0.0236567), Intervalos.Intervalo(5.98838, 5.99419), Intervalos.Intervalo(0.00593332, 0.0118434), Intervalos.Intervalo(5.99419, 5.9971), Intervalos.Intervalo(0.00296759, 0.00593332), Intervalos.Intervalo(5.9971, 5.99855), Intervalos.Intervalo(0.00148416, 0.00296759), Intervalos.Intervalo(5.99855, 5.99928), Intervalos.Intervalo(0.000743215, 0.00148416), Intervalos.Intervalo(5.99928, 5.99964), Intervalos.Intervalo(0.000372101, 0.000743215), Intervalos.Intervalo(5.99964, 5.99982), Intervalos.Intervalo(0.000186387, 0.000372101), Intervalos.Intervalo(5.99982, 5.99991), Intervalos.Intervalo(9.32925e-5, 0.000186387), Intervalos.Intervalo(5.99991, 5.99995), Intervalos.Intervalo(4.66957e-5, 9.32925e-5), Intervalos.Intervalo(5.99995, 5.99998), Intervalos.Intervalo(2.3382e-5, 4.66957e-5), Intervalos.Intervalo(5.99998, 5.99999), Intervalos.Intervalo(1.17105e-5, 2.3382e-5), Intervalos.Intervalo(5.99999, 5.99999), Intervalos.Intervalo(5.86233e-6, 1.17105e-5), Intervalos.Intervalo(5.99999, 6.0), Intervalos.Intervalo(2.93377e-6, 5.86233e-6), Intervalos.Intervalo(6.0, 6.0), Intervalos.Intervalo(1.46788e-6, 2.93377e-6), Intervalos.Intervalo(6.0, 6.0), Intervalos.Intervalo(7.35144e-7, 1.46788e-6), Intervalos.Intervalo(6.0, 6.0), Intervalos.Intervalo(3.67709e-7, 7.35144e-7), Intervalos.Intervalo(6.0, 6.0), Intervalos.Intervalo(1.84113e-7, 3.67709e-7), Intervalos.Intervalo(6.0, 6.0), Intervalos.Intervalo(9.21621e-8, 1.84113e-7), Intervalos.Intervalo(6.0, 6.0), Intervalos.Intervalo(4.61125e-8, 9.21621e-8), Intervalos.Intervalo(6.0, 6.0), Intervalos.Intervalo(2.309e-8, 4.61125e-8), Intervalos.Intervalo(6.0, 6.0), Intervalos.Intervalo(1.15559e-8, 2.309e-8), Intervalos.Intervalo(6.0, 6.0), Intervalos.Intervalo(5.78372e-9, 1.15559e-8), Intervalos.Intervalo(6.0, 6.0), Intervalos.Intervalo(2.89573e-9, 5.78372e-9), Intervalos.Intervalo(6.0, 6.0), Intervalos.Intervalo(6.0, 6.0)])\n",
      "(\" Después \", X1) = (\" Después \", Intervalos.Intervalo[Intervalos.Intervalo(3.00002, 4.50148), Intervalos.Intervalo(1.50244, 3.00451), Intervalos.Intervalo(4.50148, 5.25082), Intervalos.Intervalo(0.752677, 1.50244), Intervalos.Intervalo(5.25082, 5.62608), Intervalos.Intervalo(0.376723, 0.752677), Intervalos.Intervalo(5.62608, 5.8134), Intervalos.Intervalo(0.188552, 0.376723), Intervalos.Intervalo(5.8134, 5.90676), Intervalos.Intervalo(0.0944598, 0.188552), Intervalos.Intervalo(5.90676, 5.95343), Intervalos.Intervalo(0.047286, 0.0944598), Intervalos.Intervalo(5.95343, 5.97673), Intervalos.Intervalo(0.0236567, 0.047286), Intervalos.Intervalo(5.97673, 5.98838), Intervalos.Intervalo(0.0118434, 0.0236567), Intervalos.Intervalo(5.98838, 5.99419), Intervalos.Intervalo(0.00593332, 0.0118434), Intervalos.Intervalo(5.99419, 5.9971), Intervalos.Intervalo(0.00296759, 0.00593332), Intervalos.Intervalo(5.9971, 5.99855), Intervalos.Intervalo(0.00148416, 0.00296759), Intervalos.Intervalo(5.99855, 5.99928), Intervalos.Intervalo(0.000743215, 0.00148416), Intervalos.Intervalo(5.99928, 5.99964), Intervalos.Intervalo(0.000372101, 0.000743215), Intervalos.Intervalo(5.99964, 5.99982), Intervalos.Intervalo(0.000186387, 0.000372101), Intervalos.Intervalo(5.99982, 5.99991), Intervalos.Intervalo(9.32925e-5, 0.000186387), Intervalos.Intervalo(5.99991, 5.99995), Intervalos.Intervalo(4.66957e-5, 9.32925e-5), Intervalos.Intervalo(5.99995, 5.99998), Intervalos.Intervalo(2.3382e-5, 4.66957e-5), Intervalos.Intervalo(5.99998, 5.99999), Intervalos.Intervalo(1.17105e-5, 2.3382e-5), Intervalos.Intervalo(5.99999, 5.99999), Intervalos.Intervalo(5.86233e-6, 1.17105e-5), Intervalos.Intervalo(5.99999, 6.0), Intervalos.Intervalo(2.93377e-6, 5.86233e-6), Intervalos.Intervalo(6.0, 6.0), Intervalos.Intervalo(1.46788e-6, 2.93377e-6), Intervalos.Intervalo(6.0, 6.0), Intervalos.Intervalo(7.35144e-7, 1.46788e-6), Intervalos.Intervalo(6.0, 6.0), Intervalos.Intervalo(3.67709e-7, 7.35144e-7), Intervalos.Intervalo(6.0, 6.0), Intervalos.Intervalo(1.84113e-7, 3.67709e-7), Intervalos.Intervalo(6.0, 6.0), Intervalos.Intervalo(9.21621e-8, 1.84113e-7), Intervalos.Intervalo(6.0, 6.0), Intervalos.Intervalo(4.61125e-8, 9.21621e-8), Intervalos.Intervalo(6.0, 6.0), Intervalos.Intervalo(2.309e-8, 4.61125e-8), Intervalos.Intervalo(6.0, 6.0), Intervalos.Intervalo(1.15559e-8, 2.309e-8), Intervalos.Intervalo(6.0, 6.0), Intervalos.Intervalo(5.78372e-9, 1.15559e-8), Intervalos.Intervalo(6.0, 6.0), Intervalos.Intervalo(2.89573e-9, 5.78372e-9), Intervalos.Intervalo(6.0, 6.0), Intervalos.Intervalo(6.0, 6.0), Intervalos.Intervalo(0.0, 1.45007e-9), Intervalos.Intervalo(1.45007e-9, 2.89573e-9)])\n"
     ]
    },
    {
     "name": "stdout",
     "output_type": "stream",
     "text": [
      "(uniqueRoot(X1[i], X0), X1[i], X0) = (1, Intervalos.Intervalo(2.8957334748319104e-9, 5.783716633704535e-9), Intervalos.Intervalo(0.0, 6.0))\n",
      "(uniqueRoot(X1[i], X0), X1[i], X0) = (1, Intervalos.Intervalo(5.999999997290848, 5.999999998645954), Intervalos.Intervalo(0.0, 6.0))\n",
      "(uniqueRoot(X1[i], X0), X1[i], X0) = (-1, Intervalos.Intervalo(5.999999998645954, 6.0), Intervalos.Intervalo(0.0, 6.0))\n",
      "Xbis = Intervalos.Intervalo[Intervalos.Intervalo(6.0, 6.0), Intervalos.Intervalo(6.0, 6.0)]\n",
      "(\" Antes \", X1) = (\" Antes \", Intervalos.Intervalo[Intervalos.Intervalo(3.00002, 4.50148), Intervalos.Intervalo(1.50244, 3.00451), Intervalos.Intervalo(4.50148, 5.25082), Intervalos.Intervalo(0.752677, 1.50244), Intervalos.Intervalo(5.25082, 5.62608), Intervalos.Intervalo(0.376723, 0.752677), Intervalos.Intervalo(5.62608, 5.8134), Intervalos.Intervalo(0.188552, 0.376723), Intervalos.Intervalo(5.8134, 5.90676), Intervalos.Intervalo(0.0944598, 0.188552), Intervalos.Intervalo(5.90676, 5.95343), Intervalos.Intervalo(0.047286, 0.0944598), Intervalos.Intervalo(5.95343, 5.97673), Intervalos.Intervalo(0.0236567, 0.047286), Intervalos.Intervalo(5.97673, 5.98838), Intervalos.Intervalo(0.0118434, 0.0236567), Intervalos.Intervalo(5.98838, 5.99419), Intervalos.Intervalo(0.00593332, 0.0118434), Intervalos.Intervalo(5.99419, 5.9971), Intervalos.Intervalo(0.00296759, 0.00593332), Intervalos.Intervalo(5.9971, 5.99855), Intervalos.Intervalo(0.00148416, 0.00296759), Intervalos.Intervalo(5.99855, 5.99928), Intervalos.Intervalo(0.000743215, 0.00148416), Intervalos.Intervalo(5.99928, 5.99964), Intervalos.Intervalo(0.000372101, 0.000743215), Intervalos.Intervalo(5.99964, 5.99982), Intervalos.Intervalo(0.000186387, 0.000372101), Intervalos.Intervalo(5.99982, 5.99991), Intervalos.Intervalo(9.32925e-5, 0.000186387), Intervalos.Intervalo(5.99991, 5.99995), Intervalos.Intervalo(4.66957e-5, 9.32925e-5), Intervalos.Intervalo(5.99995, 5.99998), Intervalos.Intervalo(2.3382e-5, 4.66957e-5), Intervalos.Intervalo(5.99998, 5.99999), Intervalos.Intervalo(1.17105e-5, 2.3382e-5), Intervalos.Intervalo(5.99999, 5.99999), Intervalos.Intervalo(5.86233e-6, 1.17105e-5), Intervalos.Intervalo(5.99999, 6.0), Intervalos.Intervalo(2.93377e-6, 5.86233e-6), Intervalos.Intervalo(6.0, 6.0), Intervalos.Intervalo(1.46788e-6, 2.93377e-6), Intervalos.Intervalo(6.0, 6.0), Intervalos.Intervalo(7.35144e-7, 1.46788e-6), Intervalos.Intervalo(6.0, 6.0), Intervalos.Intervalo(3.67709e-7, 7.35144e-7), Intervalos.Intervalo(6.0, 6.0), Intervalos.Intervalo(1.84113e-7, 3.67709e-7), Intervalos.Intervalo(6.0, 6.0), Intervalos.Intervalo(9.21621e-8, 1.84113e-7), Intervalos.Intervalo(6.0, 6.0), Intervalos.Intervalo(4.61125e-8, 9.21621e-8), Intervalos.Intervalo(6.0, 6.0), Intervalos.Intervalo(2.309e-8, 4.61125e-8), Intervalos.Intervalo(6.0, 6.0), Intervalos.Intervalo(1.15559e-8, 2.309e-8), Intervalos.Intervalo(6.0, 6.0), Intervalos.Intervalo(5.78372e-9, 1.15559e-8), Intervalos.Intervalo(6.0, 6.0), Intervalos.Intervalo(2.89573e-9, 5.78372e-9), Intervalos.Intervalo(6.0, 6.0), Intervalos.Intervalo(0.0, 1.45007e-9), Intervalos.Intervalo(1.45007e-9, 2.89573e-9)])\n",
      "(\" Después \", X1) = (\" Después \", Intervalos.Intervalo[Intervalos.Intervalo(3.00002, 4.50148), Intervalos.Intervalo(1.50244, 3.00451), Intervalos.Intervalo(4.50148, 5.25082), Intervalos.Intervalo(0.752677, 1.50244), Intervalos.Intervalo(5.25082, 5.62608), Intervalos.Intervalo(0.376723, 0.752677), Intervalos.Intervalo(5.62608, 5.8134), Intervalos.Intervalo(0.188552, 0.376723), Intervalos.Intervalo(5.8134, 5.90676), Intervalos.Intervalo(0.0944598, 0.188552), Intervalos.Intervalo(5.90676, 5.95343), Intervalos.Intervalo(0.047286, 0.0944598), Intervalos.Intervalo(5.95343, 5.97673), Intervalos.Intervalo(0.0236567, 0.047286), Intervalos.Intervalo(5.97673, 5.98838), Intervalos.Intervalo(0.0118434, 0.0236567), Intervalos.Intervalo(5.98838, 5.99419), Intervalos.Intervalo(0.00593332, 0.0118434), Intervalos.Intervalo(5.99419, 5.9971), Intervalos.Intervalo(0.00296759, 0.00593332), Intervalos.Intervalo(5.9971, 5.99855), Intervalos.Intervalo(0.00148416, 0.00296759), Intervalos.Intervalo(5.99855, 5.99928), Intervalos.Intervalo(0.000743215, 0.00148416), Intervalos.Intervalo(5.99928, 5.99964), Intervalos.Intervalo(0.000372101, 0.000743215), Intervalos.Intervalo(5.99964, 5.99982), Intervalos.Intervalo(0.000186387, 0.000372101), Intervalos.Intervalo(5.99982, 5.99991), Intervalos.Intervalo(9.32925e-5, 0.000186387), Intervalos.Intervalo(5.99991, 5.99995), Intervalos.Intervalo(4.66957e-5, 9.32925e-5), Intervalos.Intervalo(5.99995, 5.99998), Intervalos.Intervalo(2.3382e-5, 4.66957e-5), Intervalos.Intervalo(5.99998, 5.99999), Intervalos.Intervalo(1.17105e-5, 2.3382e-5), Intervalos.Intervalo(5.99999, 5.99999), Intervalos.Intervalo(5.86233e-6, 1.17105e-5), Intervalos.Intervalo(5.99999, 6.0), Intervalos.Intervalo(2.93377e-6, 5.86233e-6), Intervalos.Intervalo(6.0, 6.0), Intervalos.Intervalo(1.46788e-6, 2.93377e-6), Intervalos.Intervalo(6.0, 6.0), Intervalos.Intervalo(7.35144e-7, 1.46788e-6), Intervalos.Intervalo(6.0, 6.0), Intervalos.Intervalo(3.67709e-7, 7.35144e-7), Intervalos.Intervalo(6.0, 6.0), Intervalos.Intervalo(1.84113e-7, 3.67709e-7), Intervalos.Intervalo(6.0, 6.0), Intervalos.Intervalo(9.21621e-8, 1.84113e-7), Intervalos.Intervalo(6.0, 6.0), Intervalos.Intervalo(4.61125e-8, 9.21621e-8), Intervalos.Intervalo(6.0, 6.0), Intervalos.Intervalo(2.309e-8, 4.61125e-8), Intervalos.Intervalo(6.0, 6.0), Intervalos.Intervalo(1.15559e-8, 2.309e-8), Intervalos.Intervalo(6.0, 6.0), Intervalos.Intervalo(5.78372e-9, 1.15559e-8), Intervalos.Intervalo(6.0, 6.0), Intervalos.Intervalo(2.89573e-9, 5.78372e-9), Intervalos.Intervalo(6.0, 6.0), Intervalos.Intervalo(0.0, 1.45007e-9), Intervalos.Intervalo(1.45007e-9, 2.89573e-9), Intervalos.Intervalo(6.0, 6.0), Intervalos.Intervalo(6.0, 6.0)])\n",
      "(uniqueRoot(X1[i], X0), X1[i], X0) = (-1, Intervalos.Intervalo(0.0, 1.450071146217988e-9), Intervalos.Intervalo(0.0, 6.0))\n",
      "Xbis = Intervalos.Intervalo[Intervalos.Intervalo(0.0, 7.25281e-10), Intervalos.Intervalo(7.25281e-10, 1.45007e-9)]\n",
      "(\" Antes \", X1) = (\" Antes \", Intervalos.Intervalo[Intervalos.Intervalo(3.00002, 4.50148), Intervalos.Intervalo(1.50244, 3.00451), Intervalos.Intervalo(4.50148, 5.25082), Intervalos.Intervalo(0.752677, 1.50244), Intervalos.Intervalo(5.25082, 5.62608), Intervalos.Intervalo(0.376723, 0.752677), Intervalos.Intervalo(5.62608, 5.8134), Intervalos.Intervalo(0.188552, 0.376723), Intervalos.Intervalo(5.8134, 5.90676), Intervalos.Intervalo(0.0944598, 0.188552), Intervalos.Intervalo(5.90676, 5.95343), Intervalos.Intervalo(0.047286, 0.0944598), Intervalos.Intervalo(5.95343, 5.97673), Intervalos.Intervalo(0.0236567, 0.047286), Intervalos.Intervalo(5.97673, 5.98838), Intervalos.Intervalo(0.0118434, 0.0236567), Intervalos.Intervalo(5.98838, 5.99419), Intervalos.Intervalo(0.00593332, 0.0118434), Intervalos.Intervalo(5.99419, 5.9971), Intervalos.Intervalo(0.00296759, 0.00593332), Intervalos.Intervalo(5.9971, 5.99855), Intervalos.Intervalo(0.00148416, 0.00296759), Intervalos.Intervalo(5.99855, 5.99928), Intervalos.Intervalo(0.000743215, 0.00148416), Intervalos.Intervalo(5.99928, 5.99964), Intervalos.Intervalo(0.000372101, 0.000743215), Intervalos.Intervalo(5.99964, 5.99982), Intervalos.Intervalo(0.000186387, 0.000372101), Intervalos.Intervalo(5.99982, 5.99991), Intervalos.Intervalo(9.32925e-5, 0.000186387), Intervalos.Intervalo(5.99991, 5.99995), Intervalos.Intervalo(4.66957e-5, 9.32925e-5), Intervalos.Intervalo(5.99995, 5.99998), Intervalos.Intervalo(2.3382e-5, 4.66957e-5), Intervalos.Intervalo(5.99998, 5.99999), Intervalos.Intervalo(1.17105e-5, 2.3382e-5), Intervalos.Intervalo(5.99999, 5.99999), Intervalos.Intervalo(5.86233e-6, 1.17105e-5), Intervalos.Intervalo(5.99999, 6.0), Intervalos.Intervalo(2.93377e-6, 5.86233e-6), Intervalos.Intervalo(6.0, 6.0), Intervalos.Intervalo(1.46788e-6, 2.93377e-6), Intervalos.Intervalo(6.0, 6.0), Intervalos.Intervalo(7.35144e-7, 1.46788e-6), Intervalos.Intervalo(6.0, 6.0), Intervalos.Intervalo(3.67709e-7, 7.35144e-7), Intervalos.Intervalo(6.0, 6.0), Intervalos.Intervalo(1.84113e-7, 3.67709e-7), Intervalos.Intervalo(6.0, 6.0), Intervalos.Intervalo(9.21621e-8, 1.84113e-7), Intervalos.Intervalo(6.0, 6.0), Intervalos.Intervalo(4.61125e-8, 9.21621e-8), Intervalos.Intervalo(6.0, 6.0), Intervalos.Intervalo(2.309e-8, 4.61125e-8), Intervalos.Intervalo(6.0, 6.0), Intervalos.Intervalo(1.15559e-8, 2.309e-8), Intervalos.Intervalo(6.0, 6.0), Intervalos.Intervalo(5.78372e-9, 1.15559e-8), Intervalos.Intervalo(6.0, 6.0), Intervalos.Intervalo(2.89573e-9, 5.78372e-9), Intervalos.Intervalo(6.0, 6.0), Intervalos.Intervalo(1.45007e-9, 2.89573e-9), Intervalos.Intervalo(6.0, 6.0), Intervalos.Intervalo(6.0, 6.0)])\n",
      "(\" Después \", X1) = (\" Después \", Intervalos.Intervalo[Intervalos.Intervalo(3.00002, 4.50148), Intervalos.Intervalo(1.50244, 3.00451), Intervalos.Intervalo(4.50148, 5.25082), Intervalos.Intervalo(0.752677, 1.50244), Intervalos.Intervalo(5.25082, 5.62608), Intervalos.Intervalo(0.376723, 0.752677), Intervalos.Intervalo(5.62608, 5.8134), Intervalos.Intervalo(0.188552, 0.376723), Intervalos.Intervalo(5.8134, 5.90676), Intervalos.Intervalo(0.0944598, 0.188552), Intervalos.Intervalo(5.90676, 5.95343), Intervalos.Intervalo(0.047286, 0.0944598), Intervalos.Intervalo(5.95343, 5.97673), Intervalos.Intervalo(0.0236567, 0.047286), Intervalos.Intervalo(5.97673, 5.98838), Intervalos.Intervalo(0.0118434, 0.0236567), Intervalos.Intervalo(5.98838, 5.99419), Intervalos.Intervalo(0.00593332, 0.0118434), Intervalos.Intervalo(5.99419, 5.9971), Intervalos.Intervalo(0.00296759, 0.00593332), Intervalos.Intervalo(5.9971, 5.99855), Intervalos.Intervalo(0.00148416, 0.00296759), Intervalos.Intervalo(5.99855, 5.99928), Intervalos.Intervalo(0.000743215, 0.00148416), Intervalos.Intervalo(5.99928, 5.99964), Intervalos.Intervalo(0.000372101, 0.000743215), Intervalos.Intervalo(5.99964, 5.99982), Intervalos.Intervalo(0.000186387, 0.000372101), Intervalos.Intervalo(5.99982, 5.99991), Intervalos.Intervalo(9.32925e-5, 0.000186387), Intervalos.Intervalo(5.99991, 5.99995), Intervalos.Intervalo(4.66957e-5, 9.32925e-5), Intervalos.Intervalo(5.99995, 5.99998), Intervalos.Intervalo(2.3382e-5, 4.66957e-5), Intervalos.Intervalo(5.99998, 5.99999), Intervalos.Intervalo(1.17105e-5, 2.3382e-5), Intervalos.Intervalo(5.99999, 5.99999), Intervalos.Intervalo(5.86233e-6, 1.17105e-5), Intervalos.Intervalo(5.99999, 6.0), Intervalos.Intervalo(2.93377e-6, 5.86233e-6), Intervalos.Intervalo(6.0, 6.0), Intervalos.Intervalo(1.46788e-6, 2.93377e-6), Intervalos.Intervalo(6.0, 6.0), Intervalos.Intervalo(7.35144e-7, 1.46788e-6), Intervalos.Intervalo(6.0, 6.0), Intervalos.Intervalo(3.67709e-7, 7.35144e-7), Intervalos.Intervalo(6.0, 6.0), Intervalos.Intervalo(1.84113e-7, 3.67709e-7), Intervalos.Intervalo(6.0, 6.0), Intervalos.Intervalo(9.21621e-8, 1.84113e-7), Intervalos.Intervalo(6.0, 6.0), Intervalos.Intervalo(4.61125e-8, 9.21621e-8), Intervalos.Intervalo(6.0, 6.0), Intervalos.Intervalo(2.309e-8, 4.61125e-8), Intervalos.Intervalo(6.0, 6.0), Intervalos.Intervalo(1.15559e-8, 2.309e-8), Intervalos.Intervalo(6.0, 6.0), Intervalos.Intervalo(5.78372e-9, 1.15559e-8), Intervalos.Intervalo(6.0, 6.0), Intervalos.Intervalo(2.89573e-9, 5.78372e-9), Intervalos.Intervalo(6.0, 6.0), Intervalos.Intervalo(1.45007e-9, 2.89573e-9), Intervalos.Intervalo(6.0, 6.0), Intervalos.Intervalo(6.0, 6.0), Intervalos.Intervalo(0.0, 7.25281e-10), Intervalos.Intervalo(7.25281e-10, 1.45007e-9)])\n"
     ]
    },
    {
     "name": "stdout",
     "output_type": "stream",
     "text": [
      "(uniqueRoot(X1[i], X0), X1[i], X0) = (1, Intervalos.Intervalo(1.450071146217988e-9, 2.8957334748319104e-9), Intervalos.Intervalo(0.0, 6.0))\n",
      "(uniqueRoot(X1[i], X0), X1[i], X0) = (1, Intervalos.Intervalo(5.999999998645954, 5.999999999323955), Intervalos.Intervalo(0.0, 6.0))\n",
      "(uniqueRoot(X1[i], X0), X1[i], X0) = (-1, Intervalos.Intervalo(5.999999999323955, 6.0), Intervalos.Intervalo(0.0, 6.0))\n",
      "Xbis = Intervalos.Intervalo[Intervalos.Intervalo(6.0, 6.0), Intervalos.Intervalo(6.0, 6.0)]\n",
      "(\" Antes \", X1) = (\" Antes \", Intervalos.Intervalo[Intervalos.Intervalo(3.00002, 4.50148), Intervalos.Intervalo(1.50244, 3.00451), Intervalos.Intervalo(4.50148, 5.25082), Intervalos.Intervalo(0.752677, 1.50244), Intervalos.Intervalo(5.25082, 5.62608), Intervalos.Intervalo(0.376723, 0.752677), Intervalos.Intervalo(5.62608, 5.8134), Intervalos.Intervalo(0.188552, 0.376723), Intervalos.Intervalo(5.8134, 5.90676), Intervalos.Intervalo(0.0944598, 0.188552), Intervalos.Intervalo(5.90676, 5.95343), Intervalos.Intervalo(0.047286, 0.0944598), Intervalos.Intervalo(5.95343, 5.97673), Intervalos.Intervalo(0.0236567, 0.047286), Intervalos.Intervalo(5.97673, 5.98838), Intervalos.Intervalo(0.0118434, 0.0236567), Intervalos.Intervalo(5.98838, 5.99419), Intervalos.Intervalo(0.00593332, 0.0118434), Intervalos.Intervalo(5.99419, 5.9971), Intervalos.Intervalo(0.00296759, 0.00593332), Intervalos.Intervalo(5.9971, 5.99855), Intervalos.Intervalo(0.00148416, 0.00296759), Intervalos.Intervalo(5.99855, 5.99928), Intervalos.Intervalo(0.000743215, 0.00148416), Intervalos.Intervalo(5.99928, 5.99964), Intervalos.Intervalo(0.000372101, 0.000743215), Intervalos.Intervalo(5.99964, 5.99982), Intervalos.Intervalo(0.000186387, 0.000372101), Intervalos.Intervalo(5.99982, 5.99991), Intervalos.Intervalo(9.32925e-5, 0.000186387), Intervalos.Intervalo(5.99991, 5.99995), Intervalos.Intervalo(4.66957e-5, 9.32925e-5), Intervalos.Intervalo(5.99995, 5.99998), Intervalos.Intervalo(2.3382e-5, 4.66957e-5), Intervalos.Intervalo(5.99998, 5.99999), Intervalos.Intervalo(1.17105e-5, 2.3382e-5), Intervalos.Intervalo(5.99999, 5.99999), Intervalos.Intervalo(5.86233e-6, 1.17105e-5), Intervalos.Intervalo(5.99999, 6.0), Intervalos.Intervalo(2.93377e-6, 5.86233e-6), Intervalos.Intervalo(6.0, 6.0), Intervalos.Intervalo(1.46788e-6, 2.93377e-6), Intervalos.Intervalo(6.0, 6.0), Intervalos.Intervalo(7.35144e-7, 1.46788e-6), Intervalos.Intervalo(6.0, 6.0), Intervalos.Intervalo(3.67709e-7, 7.35144e-7), Intervalos.Intervalo(6.0, 6.0), Intervalos.Intervalo(1.84113e-7, 3.67709e-7), Intervalos.Intervalo(6.0, 6.0), Intervalos.Intervalo(9.21621e-8, 1.84113e-7), Intervalos.Intervalo(6.0, 6.0), Intervalos.Intervalo(4.61125e-8, 9.21621e-8), Intervalos.Intervalo(6.0, 6.0), Intervalos.Intervalo(2.309e-8, 4.61125e-8), Intervalos.Intervalo(6.0, 6.0), Intervalos.Intervalo(1.15559e-8, 2.309e-8), Intervalos.Intervalo(6.0, 6.0), Intervalos.Intervalo(5.78372e-9, 1.15559e-8), Intervalos.Intervalo(6.0, 6.0), Intervalos.Intervalo(2.89573e-9, 5.78372e-9), Intervalos.Intervalo(6.0, 6.0), Intervalos.Intervalo(1.45007e-9, 2.89573e-9), Intervalos.Intervalo(6.0, 6.0), Intervalos.Intervalo(0.0, 7.25281e-10), Intervalos.Intervalo(7.25281e-10, 1.45007e-9)])\n",
      "(\" Después \", X1) = (\" Después \", Intervalos.Intervalo[Intervalos.Intervalo(3.00002, 4.50148), Intervalos.Intervalo(1.50244, 3.00451), Intervalos.Intervalo(4.50148, 5.25082), Intervalos.Intervalo(0.752677, 1.50244), Intervalos.Intervalo(5.25082, 5.62608), Intervalos.Intervalo(0.376723, 0.752677), Intervalos.Intervalo(5.62608, 5.8134), Intervalos.Intervalo(0.188552, 0.376723), Intervalos.Intervalo(5.8134, 5.90676), Intervalos.Intervalo(0.0944598, 0.188552), Intervalos.Intervalo(5.90676, 5.95343), Intervalos.Intervalo(0.047286, 0.0944598), Intervalos.Intervalo(5.95343, 5.97673), Intervalos.Intervalo(0.0236567, 0.047286), Intervalos.Intervalo(5.97673, 5.98838), Intervalos.Intervalo(0.0118434, 0.0236567), Intervalos.Intervalo(5.98838, 5.99419), Intervalos.Intervalo(0.00593332, 0.0118434), Intervalos.Intervalo(5.99419, 5.9971), Intervalos.Intervalo(0.00296759, 0.00593332), Intervalos.Intervalo(5.9971, 5.99855), Intervalos.Intervalo(0.00148416, 0.00296759), Intervalos.Intervalo(5.99855, 5.99928), Intervalos.Intervalo(0.000743215, 0.00148416), Intervalos.Intervalo(5.99928, 5.99964), Intervalos.Intervalo(0.000372101, 0.000743215), Intervalos.Intervalo(5.99964, 5.99982), Intervalos.Intervalo(0.000186387, 0.000372101), Intervalos.Intervalo(5.99982, 5.99991), Intervalos.Intervalo(9.32925e-5, 0.000186387), Intervalos.Intervalo(5.99991, 5.99995), Intervalos.Intervalo(4.66957e-5, 9.32925e-5), Intervalos.Intervalo(5.99995, 5.99998), Intervalos.Intervalo(2.3382e-5, 4.66957e-5), Intervalos.Intervalo(5.99998, 5.99999), Intervalos.Intervalo(1.17105e-5, 2.3382e-5), Intervalos.Intervalo(5.99999, 5.99999), Intervalos.Intervalo(5.86233e-6, 1.17105e-5), Intervalos.Intervalo(5.99999, 6.0), Intervalos.Intervalo(2.93377e-6, 5.86233e-6), Intervalos.Intervalo(6.0, 6.0), Intervalos.Intervalo(1.46788e-6, 2.93377e-6), Intervalos.Intervalo(6.0, 6.0), Intervalos.Intervalo(7.35144e-7, 1.46788e-6), Intervalos.Intervalo(6.0, 6.0), Intervalos.Intervalo(3.67709e-7, 7.35144e-7), Intervalos.Intervalo(6.0, 6.0), Intervalos.Intervalo(1.84113e-7, 3.67709e-7), Intervalos.Intervalo(6.0, 6.0), Intervalos.Intervalo(9.21621e-8, 1.84113e-7), Intervalos.Intervalo(6.0, 6.0), Intervalos.Intervalo(4.61125e-8, 9.21621e-8), Intervalos.Intervalo(6.0, 6.0), Intervalos.Intervalo(2.309e-8, 4.61125e-8), Intervalos.Intervalo(6.0, 6.0), Intervalos.Intervalo(1.15559e-8, 2.309e-8), Intervalos.Intervalo(6.0, 6.0), Intervalos.Intervalo(5.78372e-9, 1.15559e-8), Intervalos.Intervalo(6.0, 6.0), Intervalos.Intervalo(2.89573e-9, 5.78372e-9), Intervalos.Intervalo(6.0, 6.0), Intervalos.Intervalo(1.45007e-9, 2.89573e-9), Intervalos.Intervalo(6.0, 6.0), Intervalos.Intervalo(0.0, 7.25281e-10), Intervalos.Intervalo(7.25281e-10, 1.45007e-9), Intervalos.Intervalo(6.0, 6.0), Intervalos.Intervalo(6.0, 6.0)])\n",
      "(uniqueRoot(X1[i], X0), X1[i], X0) = (-1, Intervalos.Intervalo(0.0, 7.252809487939873e-10), Intervalos.Intervalo(0.0, 6.0))\n",
      "Xbis = Intervalos.Intervalo[Intervalos.Intervalo(0.0, 3.63238e-10), Intervalos.Intervalo(3.63238e-10, 7.25281e-10)]\n",
      "(\" Antes \", X1) = (\" Antes \", Intervalos.Intervalo[Intervalos.Intervalo(3.00002, 4.50148), Intervalos.Intervalo(1.50244, 3.00451), Intervalos.Intervalo(4.50148, 5.25082), Intervalos.Intervalo(0.752677, 1.50244), Intervalos.Intervalo(5.25082, 5.62608), Intervalos.Intervalo(0.376723, 0.752677), Intervalos.Intervalo(5.62608, 5.8134), Intervalos.Intervalo(0.188552, 0.376723), Intervalos.Intervalo(5.8134, 5.90676), Intervalos.Intervalo(0.0944598, 0.188552), Intervalos.Intervalo(5.90676, 5.95343), Intervalos.Intervalo(0.047286, 0.0944598), Intervalos.Intervalo(5.95343, 5.97673), Intervalos.Intervalo(0.0236567, 0.047286), Intervalos.Intervalo(5.97673, 5.98838), Intervalos.Intervalo(0.0118434, 0.0236567), Intervalos.Intervalo(5.98838, 5.99419), Intervalos.Intervalo(0.00593332, 0.0118434), Intervalos.Intervalo(5.99419, 5.9971), Intervalos.Intervalo(0.00296759, 0.00593332), Intervalos.Intervalo(5.9971, 5.99855), Intervalos.Intervalo(0.00148416, 0.00296759), Intervalos.Intervalo(5.99855, 5.99928), Intervalos.Intervalo(0.000743215, 0.00148416), Intervalos.Intervalo(5.99928, 5.99964), Intervalos.Intervalo(0.000372101, 0.000743215), Intervalos.Intervalo(5.99964, 5.99982), Intervalos.Intervalo(0.000186387, 0.000372101), Intervalos.Intervalo(5.99982, 5.99991), Intervalos.Intervalo(9.32925e-5, 0.000186387), Intervalos.Intervalo(5.99991, 5.99995), Intervalos.Intervalo(4.66957e-5, 9.32925e-5), Intervalos.Intervalo(5.99995, 5.99998), Intervalos.Intervalo(2.3382e-5, 4.66957e-5), Intervalos.Intervalo(5.99998, 5.99999), Intervalos.Intervalo(1.17105e-5, 2.3382e-5), Intervalos.Intervalo(5.99999, 5.99999), Intervalos.Intervalo(5.86233e-6, 1.17105e-5), Intervalos.Intervalo(5.99999, 6.0), Intervalos.Intervalo(2.93377e-6, 5.86233e-6), Intervalos.Intervalo(6.0, 6.0), Intervalos.Intervalo(1.46788e-6, 2.93377e-6), Intervalos.Intervalo(6.0, 6.0), Intervalos.Intervalo(7.35144e-7, 1.46788e-6), Intervalos.Intervalo(6.0, 6.0), Intervalos.Intervalo(3.67709e-7, 7.35144e-7), Intervalos.Intervalo(6.0, 6.0), Intervalos.Intervalo(1.84113e-7, 3.67709e-7), Intervalos.Intervalo(6.0, 6.0), Intervalos.Intervalo(9.21621e-8, 1.84113e-7), Intervalos.Intervalo(6.0, 6.0), Intervalos.Intervalo(4.61125e-8, 9.21621e-8), Intervalos.Intervalo(6.0, 6.0), Intervalos.Intervalo(2.309e-8, 4.61125e-8), Intervalos.Intervalo(6.0, 6.0), Intervalos.Intervalo(1.15559e-8, 2.309e-8), Intervalos.Intervalo(6.0, 6.0), Intervalos.Intervalo(5.78372e-9, 1.15559e-8), Intervalos.Intervalo(6.0, 6.0), Intervalos.Intervalo(2.89573e-9, 5.78372e-9), Intervalos.Intervalo(6.0, 6.0), Intervalos.Intervalo(1.45007e-9, 2.89573e-9), Intervalos.Intervalo(6.0, 6.0), Intervalos.Intervalo(7.25281e-10, 1.45007e-9), Intervalos.Intervalo(6.0, 6.0), Intervalos.Intervalo(6.0, 6.0)])\n",
      "(\" Después \", X1) = (\" Después \", Intervalos.Intervalo[Intervalos.Intervalo(3.00002, 4.50148), Intervalos.Intervalo(1.50244, 3.00451), Intervalos.Intervalo(4.50148, 5.25082), Intervalos.Intervalo(0.752677, 1.50244), Intervalos.Intervalo(5.25082, 5.62608), Intervalos.Intervalo(0.376723, 0.752677), Intervalos.Intervalo(5.62608, 5.8134), Intervalos.Intervalo(0.188552, 0.376723), Intervalos.Intervalo(5.8134, 5.90676), Intervalos.Intervalo(0.0944598, 0.188552), Intervalos.Intervalo(5.90676, 5.95343), Intervalos.Intervalo(0.047286, 0.0944598), Intervalos.Intervalo(5.95343, 5.97673), Intervalos.Intervalo(0.0236567, 0.047286), Intervalos.Intervalo(5.97673, 5.98838), Intervalos.Intervalo(0.0118434, 0.0236567), Intervalos.Intervalo(5.98838, 5.99419), Intervalos.Intervalo(0.00593332, 0.0118434), Intervalos.Intervalo(5.99419, 5.9971), Intervalos.Intervalo(0.00296759, 0.00593332), Intervalos.Intervalo(5.9971, 5.99855), Intervalos.Intervalo(0.00148416, 0.00296759), Intervalos.Intervalo(5.99855, 5.99928), Intervalos.Intervalo(0.000743215, 0.00148416), Intervalos.Intervalo(5.99928, 5.99964), Intervalos.Intervalo(0.000372101, 0.000743215), Intervalos.Intervalo(5.99964, 5.99982), Intervalos.Intervalo(0.000186387, 0.000372101), Intervalos.Intervalo(5.99982, 5.99991), Intervalos.Intervalo(9.32925e-5, 0.000186387), Intervalos.Intervalo(5.99991, 5.99995), Intervalos.Intervalo(4.66957e-5, 9.32925e-5), Intervalos.Intervalo(5.99995, 5.99998), Intervalos.Intervalo(2.3382e-5, 4.66957e-5), Intervalos.Intervalo(5.99998, 5.99999), Intervalos.Intervalo(1.17105e-5, 2.3382e-5), Intervalos.Intervalo(5.99999, 5.99999), Intervalos.Intervalo(5.86233e-6, 1.17105e-5), Intervalos.Intervalo(5.99999, 6.0), Intervalos.Intervalo(2.93377e-6, 5.86233e-6), Intervalos.Intervalo(6.0, 6.0), Intervalos.Intervalo(1.46788e-6, 2.93377e-6), Intervalos.Intervalo(6.0, 6.0), Intervalos.Intervalo(7.35144e-7, 1.46788e-6), Intervalos.Intervalo(6.0, 6.0), Intervalos.Intervalo(3.67709e-7, 7.35144e-7), Intervalos.Intervalo(6.0, 6.0), Intervalos.Intervalo(1.84113e-7, 3.67709e-7), Intervalos.Intervalo(6.0, 6.0), Intervalos.Intervalo(9.21621e-8, 1.84113e-7), Intervalos.Intervalo(6.0, 6.0), Intervalos.Intervalo(4.61125e-8, 9.21621e-8), Intervalos.Intervalo(6.0, 6.0), Intervalos.Intervalo(2.309e-8, 4.61125e-8), Intervalos.Intervalo(6.0, 6.0), Intervalos.Intervalo(1.15559e-8, 2.309e-8), Intervalos.Intervalo(6.0, 6.0), Intervalos.Intervalo(5.78372e-9, 1.15559e-8), Intervalos.Intervalo(6.0, 6.0), Intervalos.Intervalo(2.89573e-9, 5.78372e-9), Intervalos.Intervalo(6.0, 6.0), Intervalos.Intervalo(1.45007e-9, 2.89573e-9), Intervalos.Intervalo(6.0, 6.0), Intervalos.Intervalo(7.25281e-10, 1.45007e-9), Intervalos.Intervalo(6.0, 6.0), Intervalos.Intervalo(6.0, 6.0), Intervalos.Intervalo(0.0, 3.63238e-10), Intervalos.Intervalo(3.63238e-10, 7.25281e-10)])\n"
     ]
    },
    {
     "name": "stdout",
     "output_type": "stream",
     "text": [
      "(uniqueRoot(X1[i], X0), X1[i], X0) = (1, Intervalos.Intervalo(7.252809487939873e-10, 1.450071146217988e-9), Intervalos.Intervalo(0.0, 6.0))\n",
      "(uniqueRoot(X1[i], X0), X1[i], X0) = (1, Intervalos.Intervalo(5.999999999323955, 5.999999999662486), Intervalos.Intervalo(0.0, 6.0))\n",
      "(uniqueRoot(X1[i], X0), X1[i], X0) = (-1, Intervalos.Intervalo(5.999999999662486, 6.0), Intervalos.Intervalo(0.0, 6.0))\n",
      "Xbis = Intervalos.Intervalo[Intervalos.Intervalo(6.0, 6.0), Intervalos.Intervalo(6.0, 6.0)]\n",
      "(\" Antes \", X1) = (\" Antes \", Intervalos.Intervalo[Intervalos.Intervalo(3.00002, 4.50148), Intervalos.Intervalo(1.50244, 3.00451), Intervalos.Intervalo(4.50148, 5.25082), Intervalos.Intervalo(0.752677, 1.50244), Intervalos.Intervalo(5.25082, 5.62608), Intervalos.Intervalo(0.376723, 0.752677), Intervalos.Intervalo(5.62608, 5.8134), Intervalos.Intervalo(0.188552, 0.376723), Intervalos.Intervalo(5.8134, 5.90676), Intervalos.Intervalo(0.0944598, 0.188552), Intervalos.Intervalo(5.90676, 5.95343), Intervalos.Intervalo(0.047286, 0.0944598), Intervalos.Intervalo(5.95343, 5.97673), Intervalos.Intervalo(0.0236567, 0.047286), Intervalos.Intervalo(5.97673, 5.98838), Intervalos.Intervalo(0.0118434, 0.0236567), Intervalos.Intervalo(5.98838, 5.99419), Intervalos.Intervalo(0.00593332, 0.0118434), Intervalos.Intervalo(5.99419, 5.9971), Intervalos.Intervalo(0.00296759, 0.00593332), Intervalos.Intervalo(5.9971, 5.99855), Intervalos.Intervalo(0.00148416, 0.00296759), Intervalos.Intervalo(5.99855, 5.99928), Intervalos.Intervalo(0.000743215, 0.00148416), Intervalos.Intervalo(5.99928, 5.99964), Intervalos.Intervalo(0.000372101, 0.000743215), Intervalos.Intervalo(5.99964, 5.99982), Intervalos.Intervalo(0.000186387, 0.000372101), Intervalos.Intervalo(5.99982, 5.99991), Intervalos.Intervalo(9.32925e-5, 0.000186387), Intervalos.Intervalo(5.99991, 5.99995), Intervalos.Intervalo(4.66957e-5, 9.32925e-5), Intervalos.Intervalo(5.99995, 5.99998), Intervalos.Intervalo(2.3382e-5, 4.66957e-5), Intervalos.Intervalo(5.99998, 5.99999), Intervalos.Intervalo(1.17105e-5, 2.3382e-5), Intervalos.Intervalo(5.99999, 5.99999), Intervalos.Intervalo(5.86233e-6, 1.17105e-5), Intervalos.Intervalo(5.99999, 6.0), Intervalos.Intervalo(2.93377e-6, 5.86233e-6), Intervalos.Intervalo(6.0, 6.0), Intervalos.Intervalo(1.46788e-6, 2.93377e-6), Intervalos.Intervalo(6.0, 6.0), Intervalos.Intervalo(7.35144e-7, 1.46788e-6), Intervalos.Intervalo(6.0, 6.0), Intervalos.Intervalo(3.67709e-7, 7.35144e-7), Intervalos.Intervalo(6.0, 6.0), Intervalos.Intervalo(1.84113e-7, 3.67709e-7), Intervalos.Intervalo(6.0, 6.0), Intervalos.Intervalo(9.21621e-8, 1.84113e-7), Intervalos.Intervalo(6.0, 6.0), Intervalos.Intervalo(4.61125e-8, 9.21621e-8), Intervalos.Intervalo(6.0, 6.0), Intervalos.Intervalo(2.309e-8, 4.61125e-8), Intervalos.Intervalo(6.0, 6.0), Intervalos.Intervalo(1.15559e-8, 2.309e-8), Intervalos.Intervalo(6.0, 6.0), Intervalos.Intervalo(5.78372e-9, 1.15559e-8), Intervalos.Intervalo(6.0, 6.0), Intervalos.Intervalo(2.89573e-9, 5.78372e-9), Intervalos.Intervalo(6.0, 6.0), Intervalos.Intervalo(1.45007e-9, 2.89573e-9), Intervalos.Intervalo(6.0, 6.0), Intervalos.Intervalo(7.25281e-10, 1.45007e-9), Intervalos.Intervalo(6.0, 6.0), Intervalos.Intervalo(0.0, 3.63238e-10), Intervalos.Intervalo(3.63238e-10, 7.25281e-10)])\n",
      "(\" Después \", X1) = (\" Después \", Intervalos.Intervalo[Intervalos.Intervalo(3.00002, 4.50148), Intervalos.Intervalo(1.50244, 3.00451), Intervalos.Intervalo(4.50148, 5.25082), Intervalos.Intervalo(0.752677, 1.50244), Intervalos.Intervalo(5.25082, 5.62608), Intervalos.Intervalo(0.376723, 0.752677), Intervalos.Intervalo(5.62608, 5.8134), Intervalos.Intervalo(0.188552, 0.376723), Intervalos.Intervalo(5.8134, 5.90676), Intervalos.Intervalo(0.0944598, 0.188552), Intervalos.Intervalo(5.90676, 5.95343), Intervalos.Intervalo(0.047286, 0.0944598), Intervalos.Intervalo(5.95343, 5.97673), Intervalos.Intervalo(0.0236567, 0.047286), Intervalos.Intervalo(5.97673, 5.98838), Intervalos.Intervalo(0.0118434, 0.0236567), Intervalos.Intervalo(5.98838, 5.99419), Intervalos.Intervalo(0.00593332, 0.0118434), Intervalos.Intervalo(5.99419, 5.9971), Intervalos.Intervalo(0.00296759, 0.00593332), Intervalos.Intervalo(5.9971, 5.99855), Intervalos.Intervalo(0.00148416, 0.00296759), Intervalos.Intervalo(5.99855, 5.99928), Intervalos.Intervalo(0.000743215, 0.00148416), Intervalos.Intervalo(5.99928, 5.99964), Intervalos.Intervalo(0.000372101, 0.000743215), Intervalos.Intervalo(5.99964, 5.99982), Intervalos.Intervalo(0.000186387, 0.000372101), Intervalos.Intervalo(5.99982, 5.99991), Intervalos.Intervalo(9.32925e-5, 0.000186387), Intervalos.Intervalo(5.99991, 5.99995), Intervalos.Intervalo(4.66957e-5, 9.32925e-5), Intervalos.Intervalo(5.99995, 5.99998), Intervalos.Intervalo(2.3382e-5, 4.66957e-5), Intervalos.Intervalo(5.99998, 5.99999), Intervalos.Intervalo(1.17105e-5, 2.3382e-5), Intervalos.Intervalo(5.99999, 5.99999), Intervalos.Intervalo(5.86233e-6, 1.17105e-5), Intervalos.Intervalo(5.99999, 6.0), Intervalos.Intervalo(2.93377e-6, 5.86233e-6), Intervalos.Intervalo(6.0, 6.0), Intervalos.Intervalo(1.46788e-6, 2.93377e-6), Intervalos.Intervalo(6.0, 6.0), Intervalos.Intervalo(7.35144e-7, 1.46788e-6), Intervalos.Intervalo(6.0, 6.0), Intervalos.Intervalo(3.67709e-7, 7.35144e-7), Intervalos.Intervalo(6.0, 6.0), Intervalos.Intervalo(1.84113e-7, 3.67709e-7), Intervalos.Intervalo(6.0, 6.0), Intervalos.Intervalo(9.21621e-8, 1.84113e-7), Intervalos.Intervalo(6.0, 6.0), Intervalos.Intervalo(4.61125e-8, 9.21621e-8), Intervalos.Intervalo(6.0, 6.0), Intervalos.Intervalo(2.309e-8, 4.61125e-8), Intervalos.Intervalo(6.0, 6.0), Intervalos.Intervalo(1.15559e-8, 2.309e-8), Intervalos.Intervalo(6.0, 6.0), Intervalos.Intervalo(5.78372e-9, 1.15559e-8), Intervalos.Intervalo(6.0, 6.0), Intervalos.Intervalo(2.89573e-9, 5.78372e-9), Intervalos.Intervalo(6.0, 6.0), Intervalos.Intervalo(1.45007e-9, 2.89573e-9), Intervalos.Intervalo(6.0, 6.0), Intervalos.Intervalo(7.25281e-10, 1.45007e-9), Intervalos.Intervalo(6.0, 6.0), Intervalos.Intervalo(0.0, 3.63238e-10), Intervalos.Intervalo(3.63238e-10, 7.25281e-10), Intervalos.Intervalo(6.0, 6.0), Intervalos.Intervalo(6.0, 6.0)])\n",
      "(uniqueRoot(X1[i], X0), X1[i], X0) = (-1, Intervalos.Intervalo(0.0, 3.6323830577820565e-10), Intervalos.Intervalo(0.0, 6.0))\n",
      "Xbis = Intervalos.Intervalo[Intervalos.Intervalo(0.0, 1.81786e-10), Intervalos.Intervalo(1.81786e-10, 3.63238e-10)]\n",
      "(\" Antes \", X1) = (\" Antes \", Intervalos.Intervalo[Intervalos.Intervalo(3.00002, 4.50148), Intervalos.Intervalo(1.50244, 3.00451), Intervalos.Intervalo(4.50148, 5.25082), Intervalos.Intervalo(0.752677, 1.50244), Intervalos.Intervalo(5.25082, 5.62608), Intervalos.Intervalo(0.376723, 0.752677), Intervalos.Intervalo(5.62608, 5.8134), Intervalos.Intervalo(0.188552, 0.376723), Intervalos.Intervalo(5.8134, 5.90676), Intervalos.Intervalo(0.0944598, 0.188552), Intervalos.Intervalo(5.90676, 5.95343), Intervalos.Intervalo(0.047286, 0.0944598), Intervalos.Intervalo(5.95343, 5.97673), Intervalos.Intervalo(0.0236567, 0.047286), Intervalos.Intervalo(5.97673, 5.98838), Intervalos.Intervalo(0.0118434, 0.0236567), Intervalos.Intervalo(5.98838, 5.99419), Intervalos.Intervalo(0.00593332, 0.0118434), Intervalos.Intervalo(5.99419, 5.9971), Intervalos.Intervalo(0.00296759, 0.00593332), Intervalos.Intervalo(5.9971, 5.99855), Intervalos.Intervalo(0.00148416, 0.00296759), Intervalos.Intervalo(5.99855, 5.99928), Intervalos.Intervalo(0.000743215, 0.00148416), Intervalos.Intervalo(5.99928, 5.99964), Intervalos.Intervalo(0.000372101, 0.000743215), Intervalos.Intervalo(5.99964, 5.99982), Intervalos.Intervalo(0.000186387, 0.000372101), Intervalos.Intervalo(5.99982, 5.99991), Intervalos.Intervalo(9.32925e-5, 0.000186387), Intervalos.Intervalo(5.99991, 5.99995), Intervalos.Intervalo(4.66957e-5, 9.32925e-5), Intervalos.Intervalo(5.99995, 5.99998), Intervalos.Intervalo(2.3382e-5, 4.66957e-5), Intervalos.Intervalo(5.99998, 5.99999), Intervalos.Intervalo(1.17105e-5, 2.3382e-5), Intervalos.Intervalo(5.99999, 5.99999), Intervalos.Intervalo(5.86233e-6, 1.17105e-5), Intervalos.Intervalo(5.99999, 6.0), Intervalos.Intervalo(2.93377e-6, 5.86233e-6), Intervalos.Intervalo(6.0, 6.0), Intervalos.Intervalo(1.46788e-6, 2.93377e-6), Intervalos.Intervalo(6.0, 6.0), Intervalos.Intervalo(7.35144e-7, 1.46788e-6), Intervalos.Intervalo(6.0, 6.0), Intervalos.Intervalo(3.67709e-7, 7.35144e-7), Intervalos.Intervalo(6.0, 6.0), Intervalos.Intervalo(1.84113e-7, 3.67709e-7), Intervalos.Intervalo(6.0, 6.0), Intervalos.Intervalo(9.21621e-8, 1.84113e-7), Intervalos.Intervalo(6.0, 6.0), Intervalos.Intervalo(4.61125e-8, 9.21621e-8), Intervalos.Intervalo(6.0, 6.0), Intervalos.Intervalo(2.309e-8, 4.61125e-8), Intervalos.Intervalo(6.0, 6.0), Intervalos.Intervalo(1.15559e-8, 2.309e-8), Intervalos.Intervalo(6.0, 6.0), Intervalos.Intervalo(5.78372e-9, 1.15559e-8), Intervalos.Intervalo(6.0, 6.0), Intervalos.Intervalo(2.89573e-9, 5.78372e-9), Intervalos.Intervalo(6.0, 6.0), Intervalos.Intervalo(1.45007e-9, 2.89573e-9), Intervalos.Intervalo(6.0, 6.0), Intervalos.Intervalo(7.25281e-10, 1.45007e-9), Intervalos.Intervalo(6.0, 6.0), Intervalos.Intervalo(3.63238e-10, 7.25281e-10), Intervalos.Intervalo(6.0, 6.0), Intervalos.Intervalo(6.0, 6.0)])\n",
      "(\" Después \", X1) = (\" Después \", Intervalos.Intervalo[Intervalos.Intervalo(3.00002, 4.50148), Intervalos.Intervalo(1.50244, 3.00451), Intervalos.Intervalo(4.50148, 5.25082), Intervalos.Intervalo(0.752677, 1.50244), Intervalos.Intervalo(5.25082, 5.62608), Intervalos.Intervalo(0.376723, 0.752677), Intervalos.Intervalo(5.62608, 5.8134), Intervalos.Intervalo(0.188552, 0.376723), Intervalos.Intervalo(5.8134, 5.90676), Intervalos.Intervalo(0.0944598, 0.188552), Intervalos.Intervalo(5.90676, 5.95343), Intervalos.Intervalo(0.047286, 0.0944598), Intervalos.Intervalo(5.95343, 5.97673), Intervalos.Intervalo(0.0236567, 0.047286), Intervalos.Intervalo(5.97673, 5.98838), Intervalos.Intervalo(0.0118434, 0.0236567), Intervalos.Intervalo(5.98838, 5.99419), Intervalos.Intervalo(0.00593332, 0.0118434), Intervalos.Intervalo(5.99419, 5.9971), Intervalos.Intervalo(0.00296759, 0.00593332), Intervalos.Intervalo(5.9971, 5.99855), Intervalos.Intervalo(0.00148416, 0.00296759), Intervalos.Intervalo(5.99855, 5.99928), Intervalos.Intervalo(0.000743215, 0.00148416), Intervalos.Intervalo(5.99928, 5.99964), Intervalos.Intervalo(0.000372101, 0.000743215), Intervalos.Intervalo(5.99964, 5.99982), Intervalos.Intervalo(0.000186387, 0.000372101), Intervalos.Intervalo(5.99982, 5.99991), Intervalos.Intervalo(9.32925e-5, 0.000186387), Intervalos.Intervalo(5.99991, 5.99995), Intervalos.Intervalo(4.66957e-5, 9.32925e-5), Intervalos.Intervalo(5.99995, 5.99998), Intervalos.Intervalo(2.3382e-5, 4.66957e-5), Intervalos.Intervalo(5.99998, 5.99999), Intervalos.Intervalo(1.17105e-5, 2.3382e-5), Intervalos.Intervalo(5.99999, 5.99999), Intervalos.Intervalo(5.86233e-6, 1.17105e-5), Intervalos.Intervalo(5.99999, 6.0), Intervalos.Intervalo(2.93377e-6, 5.86233e-6), Intervalos.Intervalo(6.0, 6.0), Intervalos.Intervalo(1.46788e-6, 2.93377e-6), Intervalos.Intervalo(6.0, 6.0), Intervalos.Intervalo(7.35144e-7, 1.46788e-6), Intervalos.Intervalo(6.0, 6.0), Intervalos.Intervalo(3.67709e-7, 7.35144e-7), Intervalos.Intervalo(6.0, 6.0), Intervalos.Intervalo(1.84113e-7, 3.67709e-7), Intervalos.Intervalo(6.0, 6.0), Intervalos.Intervalo(9.21621e-8, 1.84113e-7), Intervalos.Intervalo(6.0, 6.0), Intervalos.Intervalo(4.61125e-8, 9.21621e-8), Intervalos.Intervalo(6.0, 6.0), Intervalos.Intervalo(2.309e-8, 4.61125e-8), Intervalos.Intervalo(6.0, 6.0), Intervalos.Intervalo(1.15559e-8, 2.309e-8), Intervalos.Intervalo(6.0, 6.0), Intervalos.Intervalo(5.78372e-9, 1.15559e-8), Intervalos.Intervalo(6.0, 6.0), Intervalos.Intervalo(2.89573e-9, 5.78372e-9), Intervalos.Intervalo(6.0, 6.0), Intervalos.Intervalo(1.45007e-9, 2.89573e-9), Intervalos.Intervalo(6.0, 6.0), Intervalos.Intervalo(7.25281e-10, 1.45007e-9), Intervalos.Intervalo(6.0, 6.0), Intervalos.Intervalo(3.63238e-10, 7.25281e-10), Intervalos.Intervalo(6.0, 6.0), Intervalos.Intervalo(6.0, 6.0), Intervalos.Intervalo(0.0, 1.81786e-10), Intervalos.Intervalo(1.81786e-10, 3.63238e-10)])\n"
     ]
    },
    {
     "name": "stdout",
     "output_type": "stream",
     "text": [
      "(uniqueRoot(X1[i], X0), X1[i], X0) = (1, Intervalos.Intervalo(3.6323830577820565e-10, 7.252809487939873e-10), Intervalos.Intervalo(0.0, 6.0))\n",
      "(uniqueRoot(X1[i], X0), X1[i], X0) = (1, Intervalos.Intervalo(5.999999999662486, 5.999999999831328), Intervalos.Intervalo(0.0, 6.0))\n",
      "(uniqueRoot(X1[i], X0), X1[i], X0) = (-1, Intervalos.Intervalo(5.999999999831328, 6.0), Intervalos.Intervalo(0.0, 6.0))\n",
      "Xbis = Intervalos.Intervalo[Intervalos.Intervalo(6.0, 6.0), Intervalos.Intervalo(6.0, 6.0)]\n",
      "(\" Antes \", X1) = (\" Antes \", Intervalos.Intervalo[Intervalos.Intervalo(3.00002, 4.50148), Intervalos.Intervalo(1.50244, 3.00451), Intervalos.Intervalo(4.50148, 5.25082), Intervalos.Intervalo(0.752677, 1.50244), Intervalos.Intervalo(5.25082, 5.62608), Intervalos.Intervalo(0.376723, 0.752677), Intervalos.Intervalo(5.62608, 5.8134), Intervalos.Intervalo(0.188552, 0.376723), Intervalos.Intervalo(5.8134, 5.90676), Intervalos.Intervalo(0.0944598, 0.188552), Intervalos.Intervalo(5.90676, 5.95343), Intervalos.Intervalo(0.047286, 0.0944598), Intervalos.Intervalo(5.95343, 5.97673), Intervalos.Intervalo(0.0236567, 0.047286), Intervalos.Intervalo(5.97673, 5.98838), Intervalos.Intervalo(0.0118434, 0.0236567), Intervalos.Intervalo(5.98838, 5.99419), Intervalos.Intervalo(0.00593332, 0.0118434), Intervalos.Intervalo(5.99419, 5.9971), Intervalos.Intervalo(0.00296759, 0.00593332), Intervalos.Intervalo(5.9971, 5.99855), Intervalos.Intervalo(0.00148416, 0.00296759), Intervalos.Intervalo(5.99855, 5.99928), Intervalos.Intervalo(0.000743215, 0.00148416), Intervalos.Intervalo(5.99928, 5.99964), Intervalos.Intervalo(0.000372101, 0.000743215), Intervalos.Intervalo(5.99964, 5.99982), Intervalos.Intervalo(0.000186387, 0.000372101), Intervalos.Intervalo(5.99982, 5.99991), Intervalos.Intervalo(9.32925e-5, 0.000186387), Intervalos.Intervalo(5.99991, 5.99995), Intervalos.Intervalo(4.66957e-5, 9.32925e-5), Intervalos.Intervalo(5.99995, 5.99998), Intervalos.Intervalo(2.3382e-5, 4.66957e-5), Intervalos.Intervalo(5.99998, 5.99999), Intervalos.Intervalo(1.17105e-5, 2.3382e-5), Intervalos.Intervalo(5.99999, 5.99999), Intervalos.Intervalo(5.86233e-6, 1.17105e-5), Intervalos.Intervalo(5.99999, 6.0), Intervalos.Intervalo(2.93377e-6, 5.86233e-6), Intervalos.Intervalo(6.0, 6.0), Intervalos.Intervalo(1.46788e-6, 2.93377e-6), Intervalos.Intervalo(6.0, 6.0), Intervalos.Intervalo(7.35144e-7, 1.46788e-6), Intervalos.Intervalo(6.0, 6.0), Intervalos.Intervalo(3.67709e-7, 7.35144e-7), Intervalos.Intervalo(6.0, 6.0), Intervalos.Intervalo(1.84113e-7, 3.67709e-7), Intervalos.Intervalo(6.0, 6.0), Intervalos.Intervalo(9.21621e-8, 1.84113e-7), Intervalos.Intervalo(6.0, 6.0), Intervalos.Intervalo(4.61125e-8, 9.21621e-8), Intervalos.Intervalo(6.0, 6.0), Intervalos.Intervalo(2.309e-8, 4.61125e-8), Intervalos.Intervalo(6.0, 6.0), Intervalos.Intervalo(1.15559e-8, 2.309e-8), Intervalos.Intervalo(6.0, 6.0), Intervalos.Intervalo(5.78372e-9, 1.15559e-8), Intervalos.Intervalo(6.0, 6.0), Intervalos.Intervalo(2.89573e-9, 5.78372e-9), Intervalos.Intervalo(6.0, 6.0), Intervalos.Intervalo(1.45007e-9, 2.89573e-9), Intervalos.Intervalo(6.0, 6.0), Intervalos.Intervalo(7.25281e-10, 1.45007e-9), Intervalos.Intervalo(6.0, 6.0), Intervalos.Intervalo(3.63238e-10, 7.25281e-10), Intervalos.Intervalo(6.0, 6.0), Intervalos.Intervalo(0.0, 1.81786e-10), Intervalos.Intervalo(1.81786e-10, 3.63238e-10)])\n",
      "(\" Después \", X1) = (\" Después \", Intervalos.Intervalo[Intervalos.Intervalo(3.00002, 4.50148), Intervalos.Intervalo(1.50244, 3.00451), Intervalos.Intervalo(4.50148, 5.25082), Intervalos.Intervalo(0.752677, 1.50244), Intervalos.Intervalo(5.25082, 5.62608), Intervalos.Intervalo(0.376723, 0.752677), Intervalos.Intervalo(5.62608, 5.8134), Intervalos.Intervalo(0.188552, 0.376723), Intervalos.Intervalo(5.8134, 5.90676), Intervalos.Intervalo(0.0944598, 0.188552), Intervalos.Intervalo(5.90676, 5.95343), Intervalos.Intervalo(0.047286, 0.0944598), Intervalos.Intervalo(5.95343, 5.97673), Intervalos.Intervalo(0.0236567, 0.047286), Intervalos.Intervalo(5.97673, 5.98838), Intervalos.Intervalo(0.0118434, 0.0236567), Intervalos.Intervalo(5.98838, 5.99419), Intervalos.Intervalo(0.00593332, 0.0118434), Intervalos.Intervalo(5.99419, 5.9971), Intervalos.Intervalo(0.00296759, 0.00593332), Intervalos.Intervalo(5.9971, 5.99855), Intervalos.Intervalo(0.00148416, 0.00296759), Intervalos.Intervalo(5.99855, 5.99928), Intervalos.Intervalo(0.000743215, 0.00148416), Intervalos.Intervalo(5.99928, 5.99964), Intervalos.Intervalo(0.000372101, 0.000743215), Intervalos.Intervalo(5.99964, 5.99982), Intervalos.Intervalo(0.000186387, 0.000372101), Intervalos.Intervalo(5.99982, 5.99991), Intervalos.Intervalo(9.32925e-5, 0.000186387), Intervalos.Intervalo(5.99991, 5.99995), Intervalos.Intervalo(4.66957e-5, 9.32925e-5), Intervalos.Intervalo(5.99995, 5.99998), Intervalos.Intervalo(2.3382e-5, 4.66957e-5), Intervalos.Intervalo(5.99998, 5.99999), Intervalos.Intervalo(1.17105e-5, 2.3382e-5), Intervalos.Intervalo(5.99999, 5.99999), Intervalos.Intervalo(5.86233e-6, 1.17105e-5), Intervalos.Intervalo(5.99999, 6.0), Intervalos.Intervalo(2.93377e-6, 5.86233e-6), Intervalos.Intervalo(6.0, 6.0), Intervalos.Intervalo(1.46788e-6, 2.93377e-6), Intervalos.Intervalo(6.0, 6.0), Intervalos.Intervalo(7.35144e-7, 1.46788e-6), Intervalos.Intervalo(6.0, 6.0), Intervalos.Intervalo(3.67709e-7, 7.35144e-7), Intervalos.Intervalo(6.0, 6.0), Intervalos.Intervalo(1.84113e-7, 3.67709e-7), Intervalos.Intervalo(6.0, 6.0), Intervalos.Intervalo(9.21621e-8, 1.84113e-7), Intervalos.Intervalo(6.0, 6.0), Intervalos.Intervalo(4.61125e-8, 9.21621e-8), Intervalos.Intervalo(6.0, 6.0), Intervalos.Intervalo(2.309e-8, 4.61125e-8), Intervalos.Intervalo(6.0, 6.0), Intervalos.Intervalo(1.15559e-8, 2.309e-8), Intervalos.Intervalo(6.0, 6.0), Intervalos.Intervalo(5.78372e-9, 1.15559e-8), Intervalos.Intervalo(6.0, 6.0), Intervalos.Intervalo(2.89573e-9, 5.78372e-9), Intervalos.Intervalo(6.0, 6.0), Intervalos.Intervalo(1.45007e-9, 2.89573e-9), Intervalos.Intervalo(6.0, 6.0), Intervalos.Intervalo(7.25281e-10, 1.45007e-9), Intervalos.Intervalo(6.0, 6.0), Intervalos.Intervalo(3.63238e-10, 7.25281e-10), Intervalos.Intervalo(6.0, 6.0), Intervalos.Intervalo(0.0, 1.81786e-10), Intervalos.Intervalo(1.81786e-10, 3.63238e-10), Intervalos.Intervalo(6.0, 6.0), Intervalos.Intervalo(6.0, 6.0)])\n",
      "(uniqueRoot(X1[i], X0), X1[i], X0) = (-1, Intervalos.Intervalo(0.0, 1.8178607204856205e-10), Intervalos.Intervalo(0.0, 6.0))\n",
      "Xbis = Intervalos.Intervalo[Intervalos.Intervalo(0.0, 9.10717e-11), Intervalos.Intervalo(9.10717e-11, 1.81786e-10)]\n",
      "(\" Antes \", X1) = (\" Antes \", Intervalos.Intervalo[Intervalos.Intervalo(3.00002, 4.50148), Intervalos.Intervalo(1.50244, 3.00451), Intervalos.Intervalo(4.50148, 5.25082), Intervalos.Intervalo(0.752677, 1.50244), Intervalos.Intervalo(5.25082, 5.62608), Intervalos.Intervalo(0.376723, 0.752677), Intervalos.Intervalo(5.62608, 5.8134), Intervalos.Intervalo(0.188552, 0.376723), Intervalos.Intervalo(5.8134, 5.90676), Intervalos.Intervalo(0.0944598, 0.188552), Intervalos.Intervalo(5.90676, 5.95343), Intervalos.Intervalo(0.047286, 0.0944598), Intervalos.Intervalo(5.95343, 5.97673), Intervalos.Intervalo(0.0236567, 0.047286), Intervalos.Intervalo(5.97673, 5.98838), Intervalos.Intervalo(0.0118434, 0.0236567), Intervalos.Intervalo(5.98838, 5.99419), Intervalos.Intervalo(0.00593332, 0.0118434), Intervalos.Intervalo(5.99419, 5.9971), Intervalos.Intervalo(0.00296759, 0.00593332), Intervalos.Intervalo(5.9971, 5.99855), Intervalos.Intervalo(0.00148416, 0.00296759), Intervalos.Intervalo(5.99855, 5.99928), Intervalos.Intervalo(0.000743215, 0.00148416), Intervalos.Intervalo(5.99928, 5.99964), Intervalos.Intervalo(0.000372101, 0.000743215), Intervalos.Intervalo(5.99964, 5.99982), Intervalos.Intervalo(0.000186387, 0.000372101), Intervalos.Intervalo(5.99982, 5.99991), Intervalos.Intervalo(9.32925e-5, 0.000186387), Intervalos.Intervalo(5.99991, 5.99995), Intervalos.Intervalo(4.66957e-5, 9.32925e-5), Intervalos.Intervalo(5.99995, 5.99998), Intervalos.Intervalo(2.3382e-5, 4.66957e-5), Intervalos.Intervalo(5.99998, 5.99999), Intervalos.Intervalo(1.17105e-5, 2.3382e-5), Intervalos.Intervalo(5.99999, 5.99999), Intervalos.Intervalo(5.86233e-6, 1.17105e-5), Intervalos.Intervalo(5.99999, 6.0), Intervalos.Intervalo(2.93377e-6, 5.86233e-6), Intervalos.Intervalo(6.0, 6.0), Intervalos.Intervalo(1.46788e-6, 2.93377e-6), Intervalos.Intervalo(6.0, 6.0), Intervalos.Intervalo(7.35144e-7, 1.46788e-6), Intervalos.Intervalo(6.0, 6.0), Intervalos.Intervalo(3.67709e-7, 7.35144e-7), Intervalos.Intervalo(6.0, 6.0), Intervalos.Intervalo(1.84113e-7, 3.67709e-7), Intervalos.Intervalo(6.0, 6.0), Intervalos.Intervalo(9.21621e-8, 1.84113e-7), Intervalos.Intervalo(6.0, 6.0), Intervalos.Intervalo(4.61125e-8, 9.21621e-8), Intervalos.Intervalo(6.0, 6.0), Intervalos.Intervalo(2.309e-8, 4.61125e-8), Intervalos.Intervalo(6.0, 6.0), Intervalos.Intervalo(1.15559e-8, 2.309e-8), Intervalos.Intervalo(6.0, 6.0), Intervalos.Intervalo(5.78372e-9, 1.15559e-8), Intervalos.Intervalo(6.0, 6.0), Intervalos.Intervalo(2.89573e-9, 5.78372e-9), Intervalos.Intervalo(6.0, 6.0), Intervalos.Intervalo(1.45007e-9, 2.89573e-9), Intervalos.Intervalo(6.0, 6.0), Intervalos.Intervalo(7.25281e-10, 1.45007e-9), Intervalos.Intervalo(6.0, 6.0), Intervalos.Intervalo(3.63238e-10, 7.25281e-10), Intervalos.Intervalo(6.0, 6.0), Intervalos.Intervalo(1.81786e-10, 3.63238e-10), Intervalos.Intervalo(6.0, 6.0), Intervalos.Intervalo(6.0, 6.0)])\n",
      "(\" Después \", X1) = (\" Después \", Intervalos.Intervalo[Intervalos.Intervalo(3.00002, 4.50148), Intervalos.Intervalo(1.50244, 3.00451), Intervalos.Intervalo(4.50148, 5.25082), Intervalos.Intervalo(0.752677, 1.50244), Intervalos.Intervalo(5.25082, 5.62608), Intervalos.Intervalo(0.376723, 0.752677), Intervalos.Intervalo(5.62608, 5.8134), Intervalos.Intervalo(0.188552, 0.376723), Intervalos.Intervalo(5.8134, 5.90676), Intervalos.Intervalo(0.0944598, 0.188552), Intervalos.Intervalo(5.90676, 5.95343), Intervalos.Intervalo(0.047286, 0.0944598), Intervalos.Intervalo(5.95343, 5.97673), Intervalos.Intervalo(0.0236567, 0.047286), Intervalos.Intervalo(5.97673, 5.98838), Intervalos.Intervalo(0.0118434, 0.0236567), Intervalos.Intervalo(5.98838, 5.99419), Intervalos.Intervalo(0.00593332, 0.0118434), Intervalos.Intervalo(5.99419, 5.9971), Intervalos.Intervalo(0.00296759, 0.00593332), Intervalos.Intervalo(5.9971, 5.99855), Intervalos.Intervalo(0.00148416, 0.00296759), Intervalos.Intervalo(5.99855, 5.99928), Intervalos.Intervalo(0.000743215, 0.00148416), Intervalos.Intervalo(5.99928, 5.99964), Intervalos.Intervalo(0.000372101, 0.000743215), Intervalos.Intervalo(5.99964, 5.99982), Intervalos.Intervalo(0.000186387, 0.000372101), Intervalos.Intervalo(5.99982, 5.99991), Intervalos.Intervalo(9.32925e-5, 0.000186387), Intervalos.Intervalo(5.99991, 5.99995), Intervalos.Intervalo(4.66957e-5, 9.32925e-5), Intervalos.Intervalo(5.99995, 5.99998), Intervalos.Intervalo(2.3382e-5, 4.66957e-5), Intervalos.Intervalo(5.99998, 5.99999), Intervalos.Intervalo(1.17105e-5, 2.3382e-5), Intervalos.Intervalo(5.99999, 5.99999), Intervalos.Intervalo(5.86233e-6, 1.17105e-5), Intervalos.Intervalo(5.99999, 6.0), Intervalos.Intervalo(2.93377e-6, 5.86233e-6), Intervalos.Intervalo(6.0, 6.0), Intervalos.Intervalo(1.46788e-6, 2.93377e-6), Intervalos.Intervalo(6.0, 6.0), Intervalos.Intervalo(7.35144e-7, 1.46788e-6), Intervalos.Intervalo(6.0, 6.0), Intervalos.Intervalo(3.67709e-7, 7.35144e-7), Intervalos.Intervalo(6.0, 6.0), Intervalos.Intervalo(1.84113e-7, 3.67709e-7), Intervalos.Intervalo(6.0, 6.0), Intervalos.Intervalo(9.21621e-8, 1.84113e-7), Intervalos.Intervalo(6.0, 6.0), Intervalos.Intervalo(4.61125e-8, 9.21621e-8), Intervalos.Intervalo(6.0, 6.0), Intervalos.Intervalo(2.309e-8, 4.61125e-8), Intervalos.Intervalo(6.0, 6.0), Intervalos.Intervalo(1.15559e-8, 2.309e-8), Intervalos.Intervalo(6.0, 6.0), Intervalos.Intervalo(5.78372e-9, 1.15559e-8), Intervalos.Intervalo(6.0, 6.0), Intervalos.Intervalo(2.89573e-9, 5.78372e-9), Intervalos.Intervalo(6.0, 6.0), Intervalos.Intervalo(1.45007e-9, 2.89573e-9), Intervalos.Intervalo(6.0, 6.0), Intervalos.Intervalo(7.25281e-10, 1.45007e-9), Intervalos.Intervalo(6.0, 6.0), Intervalos.Intervalo(3.63238e-10, 7.25281e-10), Intervalos.Intervalo(6.0, 6.0), Intervalos.Intervalo(1.81786e-10, 3.63238e-10), Intervalos.Intervalo(6.0, 6.0), Intervalos.Intervalo(6.0, 6.0), Intervalos.Intervalo(0.0, 9.10717e-11), Intervalos.Intervalo(9.10717e-11, 1.81786e-10)])\n"
     ]
    },
    {
     "name": "stdout",
     "output_type": "stream",
     "text": [
      "(uniqueRoot(X1[i], X0), X1[i], X0) = (1, Intervalos.Intervalo(1.8178607204856205e-10, 3.6323830577820565e-10), Intervalos.Intervalo(0.0, 6.0))\n",
      "(uniqueRoot(X1[i], X0), X1[i], X0) = (1, Intervalos.Intervalo(5.999999999831328, 5.999999999915675), Intervalos.Intervalo(0.0, 6.0))\n",
      "(uniqueRoot(X1[i], X0), X1[i], X0) = (-1, Intervalos.Intervalo(5.999999999915675, 6.0), Intervalos.Intervalo(0.0, 6.0))\n",
      "Xbis = Intervalos.Intervalo[Intervalos.Intervalo(6.0, 6.0), Intervalos.Intervalo(6.0, 6.0)]\n",
      "(\" Antes \", X1) = (\" Antes \", Intervalos.Intervalo[Intervalos.Intervalo(3.00002, 4.50148), Intervalos.Intervalo(1.50244, 3.00451), Intervalos.Intervalo(4.50148, 5.25082), Intervalos.Intervalo(0.752677, 1.50244), Intervalos.Intervalo(5.25082, 5.62608), Intervalos.Intervalo(0.376723, 0.752677), Intervalos.Intervalo(5.62608, 5.8134), Intervalos.Intervalo(0.188552, 0.376723), Intervalos.Intervalo(5.8134, 5.90676), Intervalos.Intervalo(0.0944598, 0.188552), Intervalos.Intervalo(5.90676, 5.95343), Intervalos.Intervalo(0.047286, 0.0944598), Intervalos.Intervalo(5.95343, 5.97673), Intervalos.Intervalo(0.0236567, 0.047286), Intervalos.Intervalo(5.97673, 5.98838), Intervalos.Intervalo(0.0118434, 0.0236567), Intervalos.Intervalo(5.98838, 5.99419), Intervalos.Intervalo(0.00593332, 0.0118434), Intervalos.Intervalo(5.99419, 5.9971), Intervalos.Intervalo(0.00296759, 0.00593332), Intervalos.Intervalo(5.9971, 5.99855), Intervalos.Intervalo(0.00148416, 0.00296759), Intervalos.Intervalo(5.99855, 5.99928), Intervalos.Intervalo(0.000743215, 0.00148416), Intervalos.Intervalo(5.99928, 5.99964), Intervalos.Intervalo(0.000372101, 0.000743215), Intervalos.Intervalo(5.99964, 5.99982), Intervalos.Intervalo(0.000186387, 0.000372101), Intervalos.Intervalo(5.99982, 5.99991), Intervalos.Intervalo(9.32925e-5, 0.000186387), Intervalos.Intervalo(5.99991, 5.99995), Intervalos.Intervalo(4.66957e-5, 9.32925e-5), Intervalos.Intervalo(5.99995, 5.99998), Intervalos.Intervalo(2.3382e-5, 4.66957e-5), Intervalos.Intervalo(5.99998, 5.99999), Intervalos.Intervalo(1.17105e-5, 2.3382e-5), Intervalos.Intervalo(5.99999, 5.99999), Intervalos.Intervalo(5.86233e-6, 1.17105e-5), Intervalos.Intervalo(5.99999, 6.0), Intervalos.Intervalo(2.93377e-6, 5.86233e-6), Intervalos.Intervalo(6.0, 6.0), Intervalos.Intervalo(1.46788e-6, 2.93377e-6), Intervalos.Intervalo(6.0, 6.0), Intervalos.Intervalo(7.35144e-7, 1.46788e-6), Intervalos.Intervalo(6.0, 6.0), Intervalos.Intervalo(3.67709e-7, 7.35144e-7), Intervalos.Intervalo(6.0, 6.0), Intervalos.Intervalo(1.84113e-7, 3.67709e-7), Intervalos.Intervalo(6.0, 6.0), Intervalos.Intervalo(9.21621e-8, 1.84113e-7), Intervalos.Intervalo(6.0, 6.0), Intervalos.Intervalo(4.61125e-8, 9.21621e-8), Intervalos.Intervalo(6.0, 6.0), Intervalos.Intervalo(2.309e-8, 4.61125e-8), Intervalos.Intervalo(6.0, 6.0), Intervalos.Intervalo(1.15559e-8, 2.309e-8), Intervalos.Intervalo(6.0, 6.0), Intervalos.Intervalo(5.78372e-9, 1.15559e-8), Intervalos.Intervalo(6.0, 6.0), Intervalos.Intervalo(2.89573e-9, 5.78372e-9), Intervalos.Intervalo(6.0, 6.0), Intervalos.Intervalo(1.45007e-9, 2.89573e-9), Intervalos.Intervalo(6.0, 6.0), Intervalos.Intervalo(7.25281e-10, 1.45007e-9), Intervalos.Intervalo(6.0, 6.0), Intervalos.Intervalo(3.63238e-10, 7.25281e-10), Intervalos.Intervalo(6.0, 6.0), Intervalos.Intervalo(1.81786e-10, 3.63238e-10), Intervalos.Intervalo(6.0, 6.0), Intervalos.Intervalo(0.0, 9.10717e-11), Intervalos.Intervalo(9.10717e-11, 1.81786e-10)])\n",
      "(\" Después \", X1) = (\" Después \", Intervalos.Intervalo[Intervalos.Intervalo(3.00002, 4.50148), Intervalos.Intervalo(1.50244, 3.00451), Intervalos.Intervalo(4.50148, 5.25082), Intervalos.Intervalo(0.752677, 1.50244), Intervalos.Intervalo(5.25082, 5.62608), Intervalos.Intervalo(0.376723, 0.752677), Intervalos.Intervalo(5.62608, 5.8134), Intervalos.Intervalo(0.188552, 0.376723), Intervalos.Intervalo(5.8134, 5.90676), Intervalos.Intervalo(0.0944598, 0.188552), Intervalos.Intervalo(5.90676, 5.95343), Intervalos.Intervalo(0.047286, 0.0944598), Intervalos.Intervalo(5.95343, 5.97673), Intervalos.Intervalo(0.0236567, 0.047286), Intervalos.Intervalo(5.97673, 5.98838), Intervalos.Intervalo(0.0118434, 0.0236567), Intervalos.Intervalo(5.98838, 5.99419), Intervalos.Intervalo(0.00593332, 0.0118434), Intervalos.Intervalo(5.99419, 5.9971), Intervalos.Intervalo(0.00296759, 0.00593332), Intervalos.Intervalo(5.9971, 5.99855), Intervalos.Intervalo(0.00148416, 0.00296759), Intervalos.Intervalo(5.99855, 5.99928), Intervalos.Intervalo(0.000743215, 0.00148416), Intervalos.Intervalo(5.99928, 5.99964), Intervalos.Intervalo(0.000372101, 0.000743215), Intervalos.Intervalo(5.99964, 5.99982), Intervalos.Intervalo(0.000186387, 0.000372101), Intervalos.Intervalo(5.99982, 5.99991), Intervalos.Intervalo(9.32925e-5, 0.000186387), Intervalos.Intervalo(5.99991, 5.99995), Intervalos.Intervalo(4.66957e-5, 9.32925e-5), Intervalos.Intervalo(5.99995, 5.99998), Intervalos.Intervalo(2.3382e-5, 4.66957e-5), Intervalos.Intervalo(5.99998, 5.99999), Intervalos.Intervalo(1.17105e-5, 2.3382e-5), Intervalos.Intervalo(5.99999, 5.99999), Intervalos.Intervalo(5.86233e-6, 1.17105e-5), Intervalos.Intervalo(5.99999, 6.0), Intervalos.Intervalo(2.93377e-6, 5.86233e-6), Intervalos.Intervalo(6.0, 6.0), Intervalos.Intervalo(1.46788e-6, 2.93377e-6), Intervalos.Intervalo(6.0, 6.0), Intervalos.Intervalo(7.35144e-7, 1.46788e-6), Intervalos.Intervalo(6.0, 6.0), Intervalos.Intervalo(3.67709e-7, 7.35144e-7), Intervalos.Intervalo(6.0, 6.0), Intervalos.Intervalo(1.84113e-7, 3.67709e-7), Intervalos.Intervalo(6.0, 6.0), Intervalos.Intervalo(9.21621e-8, 1.84113e-7), Intervalos.Intervalo(6.0, 6.0), Intervalos.Intervalo(4.61125e-8, 9.21621e-8), Intervalos.Intervalo(6.0, 6.0), Intervalos.Intervalo(2.309e-8, 4.61125e-8), Intervalos.Intervalo(6.0, 6.0), Intervalos.Intervalo(1.15559e-8, 2.309e-8), Intervalos.Intervalo(6.0, 6.0), Intervalos.Intervalo(5.78372e-9, 1.15559e-8), Intervalos.Intervalo(6.0, 6.0), Intervalos.Intervalo(2.89573e-9, 5.78372e-9), Intervalos.Intervalo(6.0, 6.0), Intervalos.Intervalo(1.45007e-9, 2.89573e-9), Intervalos.Intervalo(6.0, 6.0), Intervalos.Intervalo(7.25281e-10, 1.45007e-9), Intervalos.Intervalo(6.0, 6.0), Intervalos.Intervalo(3.63238e-10, 7.25281e-10), Intervalos.Intervalo(6.0, 6.0), Intervalos.Intervalo(1.81786e-10, 3.63238e-10), Intervalos.Intervalo(6.0, 6.0), Intervalos.Intervalo(0.0, 9.10717e-11), Intervalos.Intervalo(9.10717e-11, 1.81786e-10), Intervalos.Intervalo(6.0, 6.0), Intervalos.Intervalo(6.0, 6.0)])\n",
      "(uniqueRoot(X1[i], X0), X1[i], X0) = (-1, Intervalos.Intervalo(0.0, 9.107166808487856e-11), Intervalos.Intervalo(0.0, 6.0))\n",
      "Xbis = Intervalos.Intervalo[Intervalos.Intervalo(0.0, 4.56199e-11), Intervalos.Intervalo(4.56199e-11, 9.10717e-11)]\n",
      "(\" Antes \", X1) = (\" Antes \", Intervalos.Intervalo[Intervalos.Intervalo(3.00002, 4.50148), Intervalos.Intervalo(1.50244, 3.00451), Intervalos.Intervalo(4.50148, 5.25082), Intervalos.Intervalo(0.752677, 1.50244), Intervalos.Intervalo(5.25082, 5.62608), Intervalos.Intervalo(0.376723, 0.752677), Intervalos.Intervalo(5.62608, 5.8134), Intervalos.Intervalo(0.188552, 0.376723), Intervalos.Intervalo(5.8134, 5.90676), Intervalos.Intervalo(0.0944598, 0.188552), Intervalos.Intervalo(5.90676, 5.95343), Intervalos.Intervalo(0.047286, 0.0944598), Intervalos.Intervalo(5.95343, 5.97673), Intervalos.Intervalo(0.0236567, 0.047286), Intervalos.Intervalo(5.97673, 5.98838), Intervalos.Intervalo(0.0118434, 0.0236567), Intervalos.Intervalo(5.98838, 5.99419), Intervalos.Intervalo(0.00593332, 0.0118434), Intervalos.Intervalo(5.99419, 5.9971), Intervalos.Intervalo(0.00296759, 0.00593332), Intervalos.Intervalo(5.9971, 5.99855), Intervalos.Intervalo(0.00148416, 0.00296759), Intervalos.Intervalo(5.99855, 5.99928), Intervalos.Intervalo(0.000743215, 0.00148416), Intervalos.Intervalo(5.99928, 5.99964), Intervalos.Intervalo(0.000372101, 0.000743215), Intervalos.Intervalo(5.99964, 5.99982), Intervalos.Intervalo(0.000186387, 0.000372101), Intervalos.Intervalo(5.99982, 5.99991), Intervalos.Intervalo(9.32925e-5, 0.000186387), Intervalos.Intervalo(5.99991, 5.99995), Intervalos.Intervalo(4.66957e-5, 9.32925e-5), Intervalos.Intervalo(5.99995, 5.99998), Intervalos.Intervalo(2.3382e-5, 4.66957e-5), Intervalos.Intervalo(5.99998, 5.99999), Intervalos.Intervalo(1.17105e-5, 2.3382e-5), Intervalos.Intervalo(5.99999, 5.99999), Intervalos.Intervalo(5.86233e-6, 1.17105e-5), Intervalos.Intervalo(5.99999, 6.0), Intervalos.Intervalo(2.93377e-6, 5.86233e-6), Intervalos.Intervalo(6.0, 6.0), Intervalos.Intervalo(1.46788e-6, 2.93377e-6), Intervalos.Intervalo(6.0, 6.0), Intervalos.Intervalo(7.35144e-7, 1.46788e-6), Intervalos.Intervalo(6.0, 6.0), Intervalos.Intervalo(3.67709e-7, 7.35144e-7), Intervalos.Intervalo(6.0, 6.0), Intervalos.Intervalo(1.84113e-7, 3.67709e-7), Intervalos.Intervalo(6.0, 6.0), Intervalos.Intervalo(9.21621e-8, 1.84113e-7), Intervalos.Intervalo(6.0, 6.0), Intervalos.Intervalo(4.61125e-8, 9.21621e-8), Intervalos.Intervalo(6.0, 6.0), Intervalos.Intervalo(2.309e-8, 4.61125e-8), Intervalos.Intervalo(6.0, 6.0), Intervalos.Intervalo(1.15559e-8, 2.309e-8), Intervalos.Intervalo(6.0, 6.0), Intervalos.Intervalo(5.78372e-9, 1.15559e-8), Intervalos.Intervalo(6.0, 6.0), Intervalos.Intervalo(2.89573e-9, 5.78372e-9), Intervalos.Intervalo(6.0, 6.0), Intervalos.Intervalo(1.45007e-9, 2.89573e-9), Intervalos.Intervalo(6.0, 6.0), Intervalos.Intervalo(7.25281e-10, 1.45007e-9), Intervalos.Intervalo(6.0, 6.0), Intervalos.Intervalo(3.63238e-10, 7.25281e-10), Intervalos.Intervalo(6.0, 6.0), Intervalos.Intervalo(1.81786e-10, 3.63238e-10), Intervalos.Intervalo(6.0, 6.0), Intervalos.Intervalo(9.10717e-11, 1.81786e-10), Intervalos.Intervalo(6.0, 6.0), Intervalos.Intervalo(6.0, 6.0)])\n",
      "(\" Después \", X1) = (\" Después \", Intervalos.Intervalo[Intervalos.Intervalo(3.00002, 4.50148), Intervalos.Intervalo(1.50244, 3.00451), Intervalos.Intervalo(4.50148, 5.25082), Intervalos.Intervalo(0.752677, 1.50244), Intervalos.Intervalo(5.25082, 5.62608), Intervalos.Intervalo(0.376723, 0.752677), Intervalos.Intervalo(5.62608, 5.8134), Intervalos.Intervalo(0.188552, 0.376723), Intervalos.Intervalo(5.8134, 5.90676), Intervalos.Intervalo(0.0944598, 0.188552), Intervalos.Intervalo(5.90676, 5.95343), Intervalos.Intervalo(0.047286, 0.0944598), Intervalos.Intervalo(5.95343, 5.97673), Intervalos.Intervalo(0.0236567, 0.047286), Intervalos.Intervalo(5.97673, 5.98838), Intervalos.Intervalo(0.0118434, 0.0236567), Intervalos.Intervalo(5.98838, 5.99419), Intervalos.Intervalo(0.00593332, 0.0118434), Intervalos.Intervalo(5.99419, 5.9971), Intervalos.Intervalo(0.00296759, 0.00593332), Intervalos.Intervalo(5.9971, 5.99855), Intervalos.Intervalo(0.00148416, 0.00296759), Intervalos.Intervalo(5.99855, 5.99928), Intervalos.Intervalo(0.000743215, 0.00148416), Intervalos.Intervalo(5.99928, 5.99964), Intervalos.Intervalo(0.000372101, 0.000743215), Intervalos.Intervalo(5.99964, 5.99982), Intervalos.Intervalo(0.000186387, 0.000372101), Intervalos.Intervalo(5.99982, 5.99991), Intervalos.Intervalo(9.32925e-5, 0.000186387), Intervalos.Intervalo(5.99991, 5.99995), Intervalos.Intervalo(4.66957e-5, 9.32925e-5), Intervalos.Intervalo(5.99995, 5.99998), Intervalos.Intervalo(2.3382e-5, 4.66957e-5), Intervalos.Intervalo(5.99998, 5.99999), Intervalos.Intervalo(1.17105e-5, 2.3382e-5), Intervalos.Intervalo(5.99999, 5.99999), Intervalos.Intervalo(5.86233e-6, 1.17105e-5), Intervalos.Intervalo(5.99999, 6.0), Intervalos.Intervalo(2.93377e-6, 5.86233e-6), Intervalos.Intervalo(6.0, 6.0), Intervalos.Intervalo(1.46788e-6, 2.93377e-6), Intervalos.Intervalo(6.0, 6.0), Intervalos.Intervalo(7.35144e-7, 1.46788e-6), Intervalos.Intervalo(6.0, 6.0), Intervalos.Intervalo(3.67709e-7, 7.35144e-7), Intervalos.Intervalo(6.0, 6.0), Intervalos.Intervalo(1.84113e-7, 3.67709e-7), Intervalos.Intervalo(6.0, 6.0), Intervalos.Intervalo(9.21621e-8, 1.84113e-7), Intervalos.Intervalo(6.0, 6.0), Intervalos.Intervalo(4.61125e-8, 9.21621e-8), Intervalos.Intervalo(6.0, 6.0), Intervalos.Intervalo(2.309e-8, 4.61125e-8), Intervalos.Intervalo(6.0, 6.0), Intervalos.Intervalo(1.15559e-8, 2.309e-8), Intervalos.Intervalo(6.0, 6.0), Intervalos.Intervalo(5.78372e-9, 1.15559e-8), Intervalos.Intervalo(6.0, 6.0), Intervalos.Intervalo(2.89573e-9, 5.78372e-9), Intervalos.Intervalo(6.0, 6.0), Intervalos.Intervalo(1.45007e-9, 2.89573e-9), Intervalos.Intervalo(6.0, 6.0), Intervalos.Intervalo(7.25281e-10, 1.45007e-9), Intervalos.Intervalo(6.0, 6.0), Intervalos.Intervalo(3.63238e-10, 7.25281e-10), Intervalos.Intervalo(6.0, 6.0), Intervalos.Intervalo(1.81786e-10, 3.63238e-10), Intervalos.Intervalo(6.0, 6.0), Intervalos.Intervalo(9.10717e-11, 1.81786e-10), Intervalos.Intervalo(6.0, 6.0), Intervalos.Intervalo(6.0, 6.0), Intervalos.Intervalo(0.0, 4.56199e-11), Intervalos.Intervalo(4.56199e-11, 9.10717e-11)])\n"
     ]
    },
    {
     "name": "stdout",
     "output_type": "stream",
     "text": [
      "(uniqueRoot(X1[i], X0), X1[i], X0) = (1, Intervalos.Intervalo(9.107166808487856e-11, 1.8178607204856205e-10), Intervalos.Intervalo(0.0, 6.0))\n",
      "(uniqueRoot(X1[i], X0), X1[i], X0) = (1, Intervalos.Intervalo(5.999999999915675, 5.999999999957873), Intervalos.Intervalo(0.0, 6.0))\n",
      "(uniqueRoot(X1[i], X0), X1[i], X0) = (-1, Intervalos.Intervalo(5.999999999957873, 6.0), Intervalos.Intervalo(0.0, 6.0))\n",
      "Xbis = Intervalos.Intervalo[Intervalos.Intervalo(6.0, 6.0), Intervalos.Intervalo(6.0, 6.0)]\n",
      "(\" Antes \", X1) = (\" Antes \", Intervalos.Intervalo[Intervalos.Intervalo(3.00002, 4.50148), Intervalos.Intervalo(1.50244, 3.00451), Intervalos.Intervalo(4.50148, 5.25082), Intervalos.Intervalo(0.752677, 1.50244), Intervalos.Intervalo(5.25082, 5.62608), Intervalos.Intervalo(0.376723, 0.752677), Intervalos.Intervalo(5.62608, 5.8134), Intervalos.Intervalo(0.188552, 0.376723), Intervalos.Intervalo(5.8134, 5.90676), Intervalos.Intervalo(0.0944598, 0.188552), Intervalos.Intervalo(5.90676, 5.95343), Intervalos.Intervalo(0.047286, 0.0944598), Intervalos.Intervalo(5.95343, 5.97673), Intervalos.Intervalo(0.0236567, 0.047286), Intervalos.Intervalo(5.97673, 5.98838), Intervalos.Intervalo(0.0118434, 0.0236567), Intervalos.Intervalo(5.98838, 5.99419), Intervalos.Intervalo(0.00593332, 0.0118434), Intervalos.Intervalo(5.99419, 5.9971), Intervalos.Intervalo(0.00296759, 0.00593332), Intervalos.Intervalo(5.9971, 5.99855), Intervalos.Intervalo(0.00148416, 0.00296759), Intervalos.Intervalo(5.99855, 5.99928), Intervalos.Intervalo(0.000743215, 0.00148416), Intervalos.Intervalo(5.99928, 5.99964), Intervalos.Intervalo(0.000372101, 0.000743215), Intervalos.Intervalo(5.99964, 5.99982), Intervalos.Intervalo(0.000186387, 0.000372101), Intervalos.Intervalo(5.99982, 5.99991), Intervalos.Intervalo(9.32925e-5, 0.000186387), Intervalos.Intervalo(5.99991, 5.99995), Intervalos.Intervalo(4.66957e-5, 9.32925e-5), Intervalos.Intervalo(5.99995, 5.99998), Intervalos.Intervalo(2.3382e-5, 4.66957e-5), Intervalos.Intervalo(5.99998, 5.99999), Intervalos.Intervalo(1.17105e-5, 2.3382e-5), Intervalos.Intervalo(5.99999, 5.99999), Intervalos.Intervalo(5.86233e-6, 1.17105e-5), Intervalos.Intervalo(5.99999, 6.0), Intervalos.Intervalo(2.93377e-6, 5.86233e-6), Intervalos.Intervalo(6.0, 6.0), Intervalos.Intervalo(1.46788e-6, 2.93377e-6), Intervalos.Intervalo(6.0, 6.0), Intervalos.Intervalo(7.35144e-7, 1.46788e-6), Intervalos.Intervalo(6.0, 6.0), Intervalos.Intervalo(3.67709e-7, 7.35144e-7), Intervalos.Intervalo(6.0, 6.0), Intervalos.Intervalo(1.84113e-7, 3.67709e-7), Intervalos.Intervalo(6.0, 6.0), Intervalos.Intervalo(9.21621e-8, 1.84113e-7), Intervalos.Intervalo(6.0, 6.0), Intervalos.Intervalo(4.61125e-8, 9.21621e-8), Intervalos.Intervalo(6.0, 6.0), Intervalos.Intervalo(2.309e-8, 4.61125e-8), Intervalos.Intervalo(6.0, 6.0), Intervalos.Intervalo(1.15559e-8, 2.309e-8), Intervalos.Intervalo(6.0, 6.0), Intervalos.Intervalo(5.78372e-9, 1.15559e-8), Intervalos.Intervalo(6.0, 6.0), Intervalos.Intervalo(2.89573e-9, 5.78372e-9), Intervalos.Intervalo(6.0, 6.0), Intervalos.Intervalo(1.45007e-9, 2.89573e-9), Intervalos.Intervalo(6.0, 6.0), Intervalos.Intervalo(7.25281e-10, 1.45007e-9), Intervalos.Intervalo(6.0, 6.0), Intervalos.Intervalo(3.63238e-10, 7.25281e-10), Intervalos.Intervalo(6.0, 6.0), Intervalos.Intervalo(1.81786e-10, 3.63238e-10), Intervalos.Intervalo(6.0, 6.0), Intervalos.Intervalo(9.10717e-11, 1.81786e-10), Intervalos.Intervalo(6.0, 6.0), Intervalos.Intervalo(0.0, 4.56199e-11), Intervalos.Intervalo(4.56199e-11, 9.10717e-11)])\n",
      "(\" Después \", X1) = (\" Después \", Intervalos.Intervalo[Intervalos.Intervalo(3.00002, 4.50148), Intervalos.Intervalo(1.50244, 3.00451), Intervalos.Intervalo(4.50148, 5.25082), Intervalos.Intervalo(0.752677, 1.50244), Intervalos.Intervalo(5.25082, 5.62608), Intervalos.Intervalo(0.376723, 0.752677), Intervalos.Intervalo(5.62608, 5.8134), Intervalos.Intervalo(0.188552, 0.376723), Intervalos.Intervalo(5.8134, 5.90676), Intervalos.Intervalo(0.0944598, 0.188552), Intervalos.Intervalo(5.90676, 5.95343), Intervalos.Intervalo(0.047286, 0.0944598), Intervalos.Intervalo(5.95343, 5.97673), Intervalos.Intervalo(0.0236567, 0.047286), Intervalos.Intervalo(5.97673, 5.98838), Intervalos.Intervalo(0.0118434, 0.0236567), Intervalos.Intervalo(5.98838, 5.99419), Intervalos.Intervalo(0.00593332, 0.0118434), Intervalos.Intervalo(5.99419, 5.9971), Intervalos.Intervalo(0.00296759, 0.00593332), Intervalos.Intervalo(5.9971, 5.99855), Intervalos.Intervalo(0.00148416, 0.00296759), Intervalos.Intervalo(5.99855, 5.99928), Intervalos.Intervalo(0.000743215, 0.00148416), Intervalos.Intervalo(5.99928, 5.99964), Intervalos.Intervalo(0.000372101, 0.000743215), Intervalos.Intervalo(5.99964, 5.99982), Intervalos.Intervalo(0.000186387, 0.000372101), Intervalos.Intervalo(5.99982, 5.99991), Intervalos.Intervalo(9.32925e-5, 0.000186387), Intervalos.Intervalo(5.99991, 5.99995), Intervalos.Intervalo(4.66957e-5, 9.32925e-5), Intervalos.Intervalo(5.99995, 5.99998), Intervalos.Intervalo(2.3382e-5, 4.66957e-5), Intervalos.Intervalo(5.99998, 5.99999), Intervalos.Intervalo(1.17105e-5, 2.3382e-5), Intervalos.Intervalo(5.99999, 5.99999), Intervalos.Intervalo(5.86233e-6, 1.17105e-5), Intervalos.Intervalo(5.99999, 6.0), Intervalos.Intervalo(2.93377e-6, 5.86233e-6), Intervalos.Intervalo(6.0, 6.0), Intervalos.Intervalo(1.46788e-6, 2.93377e-6), Intervalos.Intervalo(6.0, 6.0), Intervalos.Intervalo(7.35144e-7, 1.46788e-6), Intervalos.Intervalo(6.0, 6.0), Intervalos.Intervalo(3.67709e-7, 7.35144e-7), Intervalos.Intervalo(6.0, 6.0), Intervalos.Intervalo(1.84113e-7, 3.67709e-7), Intervalos.Intervalo(6.0, 6.0), Intervalos.Intervalo(9.21621e-8, 1.84113e-7), Intervalos.Intervalo(6.0, 6.0), Intervalos.Intervalo(4.61125e-8, 9.21621e-8), Intervalos.Intervalo(6.0, 6.0), Intervalos.Intervalo(2.309e-8, 4.61125e-8), Intervalos.Intervalo(6.0, 6.0), Intervalos.Intervalo(1.15559e-8, 2.309e-8), Intervalos.Intervalo(6.0, 6.0), Intervalos.Intervalo(5.78372e-9, 1.15559e-8), Intervalos.Intervalo(6.0, 6.0), Intervalos.Intervalo(2.89573e-9, 5.78372e-9), Intervalos.Intervalo(6.0, 6.0), Intervalos.Intervalo(1.45007e-9, 2.89573e-9), Intervalos.Intervalo(6.0, 6.0), Intervalos.Intervalo(7.25281e-10, 1.45007e-9), Intervalos.Intervalo(6.0, 6.0), Intervalos.Intervalo(3.63238e-10, 7.25281e-10), Intervalos.Intervalo(6.0, 6.0), Intervalos.Intervalo(1.81786e-10, 3.63238e-10), Intervalos.Intervalo(6.0, 6.0), Intervalos.Intervalo(9.10717e-11, 1.81786e-10), Intervalos.Intervalo(6.0, 6.0), Intervalos.Intervalo(0.0, 4.56199e-11), Intervalos.Intervalo(4.56199e-11, 9.10717e-11), Intervalos.Intervalo(6.0, 6.0), Intervalos.Intervalo(6.0, 6.0)])\n",
      "(uniqueRoot(X1[i], X0), X1[i], X0) = (-1, Intervalos.Intervalo(0.0, 4.5619927476398676e-11), Intervalos.Intervalo(0.0, 6.0))\n",
      "Xbis = Intervalos.Intervalo[Intervalos.Intervalo(0.0, 2.28334e-11), Intervalos.Intervalo(2.28334e-11, 4.56199e-11)]\n",
      "(\" Antes \", X1) = (\" Antes \", Intervalos.Intervalo[Intervalos.Intervalo(3.00002, 4.50148), Intervalos.Intervalo(1.50244, 3.00451), Intervalos.Intervalo(4.50148, 5.25082), Intervalos.Intervalo(0.752677, 1.50244), Intervalos.Intervalo(5.25082, 5.62608), Intervalos.Intervalo(0.376723, 0.752677), Intervalos.Intervalo(5.62608, 5.8134), Intervalos.Intervalo(0.188552, 0.376723), Intervalos.Intervalo(5.8134, 5.90676), Intervalos.Intervalo(0.0944598, 0.188552), Intervalos.Intervalo(5.90676, 5.95343), Intervalos.Intervalo(0.047286, 0.0944598), Intervalos.Intervalo(5.95343, 5.97673), Intervalos.Intervalo(0.0236567, 0.047286), Intervalos.Intervalo(5.97673, 5.98838), Intervalos.Intervalo(0.0118434, 0.0236567), Intervalos.Intervalo(5.98838, 5.99419), Intervalos.Intervalo(0.00593332, 0.0118434), Intervalos.Intervalo(5.99419, 5.9971), Intervalos.Intervalo(0.00296759, 0.00593332), Intervalos.Intervalo(5.9971, 5.99855), Intervalos.Intervalo(0.00148416, 0.00296759), Intervalos.Intervalo(5.99855, 5.99928), Intervalos.Intervalo(0.000743215, 0.00148416), Intervalos.Intervalo(5.99928, 5.99964), Intervalos.Intervalo(0.000372101, 0.000743215), Intervalos.Intervalo(5.99964, 5.99982), Intervalos.Intervalo(0.000186387, 0.000372101), Intervalos.Intervalo(5.99982, 5.99991), Intervalos.Intervalo(9.32925e-5, 0.000186387), Intervalos.Intervalo(5.99991, 5.99995), Intervalos.Intervalo(4.66957e-5, 9.32925e-5), Intervalos.Intervalo(5.99995, 5.99998), Intervalos.Intervalo(2.3382e-5, 4.66957e-5), Intervalos.Intervalo(5.99998, 5.99999), Intervalos.Intervalo(1.17105e-5, 2.3382e-5), Intervalos.Intervalo(5.99999, 5.99999), Intervalos.Intervalo(5.86233e-6, 1.17105e-5), Intervalos.Intervalo(5.99999, 6.0), Intervalos.Intervalo(2.93377e-6, 5.86233e-6), Intervalos.Intervalo(6.0, 6.0), Intervalos.Intervalo(1.46788e-6, 2.93377e-6), Intervalos.Intervalo(6.0, 6.0), Intervalos.Intervalo(7.35144e-7, 1.46788e-6), Intervalos.Intervalo(6.0, 6.0), Intervalos.Intervalo(3.67709e-7, 7.35144e-7), Intervalos.Intervalo(6.0, 6.0), Intervalos.Intervalo(1.84113e-7, 3.67709e-7), Intervalos.Intervalo(6.0, 6.0), Intervalos.Intervalo(9.21621e-8, 1.84113e-7), Intervalos.Intervalo(6.0, 6.0), Intervalos.Intervalo(4.61125e-8, 9.21621e-8), Intervalos.Intervalo(6.0, 6.0), Intervalos.Intervalo(2.309e-8, 4.61125e-8), Intervalos.Intervalo(6.0, 6.0), Intervalos.Intervalo(1.15559e-8, 2.309e-8), Intervalos.Intervalo(6.0, 6.0), Intervalos.Intervalo(5.78372e-9, 1.15559e-8), Intervalos.Intervalo(6.0, 6.0), Intervalos.Intervalo(2.89573e-9, 5.78372e-9), Intervalos.Intervalo(6.0, 6.0), Intervalos.Intervalo(1.45007e-9, 2.89573e-9), Intervalos.Intervalo(6.0, 6.0), Intervalos.Intervalo(7.25281e-10, 1.45007e-9), Intervalos.Intervalo(6.0, 6.0), Intervalos.Intervalo(3.63238e-10, 7.25281e-10), Intervalos.Intervalo(6.0, 6.0), Intervalos.Intervalo(1.81786e-10, 3.63238e-10), Intervalos.Intervalo(6.0, 6.0), Intervalos.Intervalo(9.10717e-11, 1.81786e-10), Intervalos.Intervalo(6.0, 6.0), Intervalos.Intervalo(4.56199e-11, 9.10717e-11), Intervalos.Intervalo(6.0, 6.0), Intervalos.Intervalo(6.0, 6.0)])\n",
      "(\" Después \", X1) = (\" Después \", Intervalos.Intervalo[Intervalos.Intervalo(3.00002, 4.50148), Intervalos.Intervalo(1.50244, 3.00451), Intervalos.Intervalo(4.50148, 5.25082), Intervalos.Intervalo(0.752677, 1.50244), Intervalos.Intervalo(5.25082, 5.62608), Intervalos.Intervalo(0.376723, 0.752677), Intervalos.Intervalo(5.62608, 5.8134), Intervalos.Intervalo(0.188552, 0.376723), Intervalos.Intervalo(5.8134, 5.90676), Intervalos.Intervalo(0.0944598, 0.188552), Intervalos.Intervalo(5.90676, 5.95343), Intervalos.Intervalo(0.047286, 0.0944598), Intervalos.Intervalo(5.95343, 5.97673), Intervalos.Intervalo(0.0236567, 0.047286), Intervalos.Intervalo(5.97673, 5.98838), Intervalos.Intervalo(0.0118434, 0.0236567), Intervalos.Intervalo(5.98838, 5.99419), Intervalos.Intervalo(0.00593332, 0.0118434), Intervalos.Intervalo(5.99419, 5.9971), Intervalos.Intervalo(0.00296759, 0.00593332), Intervalos.Intervalo(5.9971, 5.99855), Intervalos.Intervalo(0.00148416, 0.00296759), Intervalos.Intervalo(5.99855, 5.99928), Intervalos.Intervalo(0.000743215, 0.00148416), Intervalos.Intervalo(5.99928, 5.99964), Intervalos.Intervalo(0.000372101, 0.000743215), Intervalos.Intervalo(5.99964, 5.99982), Intervalos.Intervalo(0.000186387, 0.000372101), Intervalos.Intervalo(5.99982, 5.99991), Intervalos.Intervalo(9.32925e-5, 0.000186387), Intervalos.Intervalo(5.99991, 5.99995), Intervalos.Intervalo(4.66957e-5, 9.32925e-5), Intervalos.Intervalo(5.99995, 5.99998), Intervalos.Intervalo(2.3382e-5, 4.66957e-5), Intervalos.Intervalo(5.99998, 5.99999), Intervalos.Intervalo(1.17105e-5, 2.3382e-5), Intervalos.Intervalo(5.99999, 5.99999), Intervalos.Intervalo(5.86233e-6, 1.17105e-5), Intervalos.Intervalo(5.99999, 6.0), Intervalos.Intervalo(2.93377e-6, 5.86233e-6), Intervalos.Intervalo(6.0, 6.0), Intervalos.Intervalo(1.46788e-6, 2.93377e-6), Intervalos.Intervalo(6.0, 6.0), Intervalos.Intervalo(7.35144e-7, 1.46788e-6), Intervalos.Intervalo(6.0, 6.0), Intervalos.Intervalo(3.67709e-7, 7.35144e-7), Intervalos.Intervalo(6.0, 6.0), Intervalos.Intervalo(1.84113e-7, 3.67709e-7), Intervalos.Intervalo(6.0, 6.0), Intervalos.Intervalo(9.21621e-8, 1.84113e-7), Intervalos.Intervalo(6.0, 6.0), Intervalos.Intervalo(4.61125e-8, 9.21621e-8), Intervalos.Intervalo(6.0, 6.0), Intervalos.Intervalo(2.309e-8, 4.61125e-8), Intervalos.Intervalo(6.0, 6.0), Intervalos.Intervalo(1.15559e-8, 2.309e-8), Intervalos.Intervalo(6.0, 6.0), Intervalos.Intervalo(5.78372e-9, 1.15559e-8), Intervalos.Intervalo(6.0, 6.0), Intervalos.Intervalo(2.89573e-9, 5.78372e-9), Intervalos.Intervalo(6.0, 6.0), Intervalos.Intervalo(1.45007e-9, 2.89573e-9), Intervalos.Intervalo(6.0, 6.0), Intervalos.Intervalo(7.25281e-10, 1.45007e-9), Intervalos.Intervalo(6.0, 6.0), Intervalos.Intervalo(3.63238e-10, 7.25281e-10), Intervalos.Intervalo(6.0, 6.0), Intervalos.Intervalo(1.81786e-10, 3.63238e-10), Intervalos.Intervalo(6.0, 6.0), Intervalos.Intervalo(9.10717e-11, 1.81786e-10), Intervalos.Intervalo(6.0, 6.0), Intervalos.Intervalo(4.56199e-11, 9.10717e-11), Intervalos.Intervalo(6.0, 6.0), Intervalos.Intervalo(6.0, 6.0), Intervalos.Intervalo(0.0, 2.28334e-11), Intervalos.Intervalo(2.28334e-11, 4.56199e-11)])\n"
     ]
    },
    {
     "name": "stdout",
     "output_type": "stream",
     "text": [
      "(uniqueRoot(X1[i], X0), X1[i], X0) = (1, Intervalos.Intervalo(4.5619927476398676e-11, 9.107166808487856e-11), Intervalos.Intervalo(0.0, 6.0))\n",
      "(uniqueRoot(X1[i], X0), X1[i], X0) = (1, Intervalos.Intervalo(5.999999999957873, 5.999999999978941), Intervalos.Intervalo(0.0, 6.0))\n",
      "(uniqueRoot(X1[i], X0), X1[i], X0) = (-1, Intervalos.Intervalo(5.999999999978941, 6.0), Intervalos.Intervalo(0.0, 6.0))\n",
      "Xbis = Intervalos.Intervalo[Intervalos.Intervalo(6.0, 6.0), Intervalos.Intervalo(6.0, 6.0)]\n",
      "(\" Antes \", X1) = (\" Antes \", Intervalos.Intervalo[Intervalos.Intervalo(3.00002, 4.50148), Intervalos.Intervalo(1.50244, 3.00451), Intervalos.Intervalo(4.50148, 5.25082), Intervalos.Intervalo(0.752677, 1.50244), Intervalos.Intervalo(5.25082, 5.62608), Intervalos.Intervalo(0.376723, 0.752677), Intervalos.Intervalo(5.62608, 5.8134), Intervalos.Intervalo(0.188552, 0.376723), Intervalos.Intervalo(5.8134, 5.90676), Intervalos.Intervalo(0.0944598, 0.188552), Intervalos.Intervalo(5.90676, 5.95343), Intervalos.Intervalo(0.047286, 0.0944598), Intervalos.Intervalo(5.95343, 5.97673), Intervalos.Intervalo(0.0236567, 0.047286), Intervalos.Intervalo(5.97673, 5.98838), Intervalos.Intervalo(0.0118434, 0.0236567), Intervalos.Intervalo(5.98838, 5.99419), Intervalos.Intervalo(0.00593332, 0.0118434), Intervalos.Intervalo(5.99419, 5.9971), Intervalos.Intervalo(0.00296759, 0.00593332), Intervalos.Intervalo(5.9971, 5.99855), Intervalos.Intervalo(0.00148416, 0.00296759), Intervalos.Intervalo(5.99855, 5.99928), Intervalos.Intervalo(0.000743215, 0.00148416), Intervalos.Intervalo(5.99928, 5.99964), Intervalos.Intervalo(0.000372101, 0.000743215), Intervalos.Intervalo(5.99964, 5.99982), Intervalos.Intervalo(0.000186387, 0.000372101), Intervalos.Intervalo(5.99982, 5.99991), Intervalos.Intervalo(9.32925e-5, 0.000186387), Intervalos.Intervalo(5.99991, 5.99995), Intervalos.Intervalo(4.66957e-5, 9.32925e-5), Intervalos.Intervalo(5.99995, 5.99998), Intervalos.Intervalo(2.3382e-5, 4.66957e-5), Intervalos.Intervalo(5.99998, 5.99999), Intervalos.Intervalo(1.17105e-5, 2.3382e-5), Intervalos.Intervalo(5.99999, 5.99999), Intervalos.Intervalo(5.86233e-6, 1.17105e-5), Intervalos.Intervalo(5.99999, 6.0), Intervalos.Intervalo(2.93377e-6, 5.86233e-6), Intervalos.Intervalo(6.0, 6.0), Intervalos.Intervalo(1.46788e-6, 2.93377e-6), Intervalos.Intervalo(6.0, 6.0), Intervalos.Intervalo(7.35144e-7, 1.46788e-6), Intervalos.Intervalo(6.0, 6.0), Intervalos.Intervalo(3.67709e-7, 7.35144e-7), Intervalos.Intervalo(6.0, 6.0), Intervalos.Intervalo(1.84113e-7, 3.67709e-7), Intervalos.Intervalo(6.0, 6.0), Intervalos.Intervalo(9.21621e-8, 1.84113e-7), Intervalos.Intervalo(6.0, 6.0), Intervalos.Intervalo(4.61125e-8, 9.21621e-8), Intervalos.Intervalo(6.0, 6.0), Intervalos.Intervalo(2.309e-8, 4.61125e-8), Intervalos.Intervalo(6.0, 6.0), Intervalos.Intervalo(1.15559e-8, 2.309e-8), Intervalos.Intervalo(6.0, 6.0), Intervalos.Intervalo(5.78372e-9, 1.15559e-8), Intervalos.Intervalo(6.0, 6.0), Intervalos.Intervalo(2.89573e-9, 5.78372e-9), Intervalos.Intervalo(6.0, 6.0), Intervalos.Intervalo(1.45007e-9, 2.89573e-9), Intervalos.Intervalo(6.0, 6.0), Intervalos.Intervalo(7.25281e-10, 1.45007e-9), Intervalos.Intervalo(6.0, 6.0), Intervalos.Intervalo(3.63238e-10, 7.25281e-10), Intervalos.Intervalo(6.0, 6.0), Intervalos.Intervalo(1.81786e-10, 3.63238e-10), Intervalos.Intervalo(6.0, 6.0), Intervalos.Intervalo(9.10717e-11, 1.81786e-10), Intervalos.Intervalo(6.0, 6.0), Intervalos.Intervalo(4.56199e-11, 9.10717e-11), Intervalos.Intervalo(6.0, 6.0), Intervalos.Intervalo(0.0, 2.28334e-11), Intervalos.Intervalo(2.28334e-11, 4.56199e-11)])\n",
      "(\" Después \", X1) = (\" Después \", Intervalos.Intervalo[Intervalos.Intervalo(3.00002, 4.50148), Intervalos.Intervalo(1.50244, 3.00451), Intervalos.Intervalo(4.50148, 5.25082), Intervalos.Intervalo(0.752677, 1.50244), Intervalos.Intervalo(5.25082, 5.62608), Intervalos.Intervalo(0.376723, 0.752677), Intervalos.Intervalo(5.62608, 5.8134), Intervalos.Intervalo(0.188552, 0.376723), Intervalos.Intervalo(5.8134, 5.90676), Intervalos.Intervalo(0.0944598, 0.188552), Intervalos.Intervalo(5.90676, 5.95343), Intervalos.Intervalo(0.047286, 0.0944598), Intervalos.Intervalo(5.95343, 5.97673), Intervalos.Intervalo(0.0236567, 0.047286), Intervalos.Intervalo(5.97673, 5.98838), Intervalos.Intervalo(0.0118434, 0.0236567), Intervalos.Intervalo(5.98838, 5.99419), Intervalos.Intervalo(0.00593332, 0.0118434), Intervalos.Intervalo(5.99419, 5.9971), Intervalos.Intervalo(0.00296759, 0.00593332), Intervalos.Intervalo(5.9971, 5.99855), Intervalos.Intervalo(0.00148416, 0.00296759), Intervalos.Intervalo(5.99855, 5.99928), Intervalos.Intervalo(0.000743215, 0.00148416), Intervalos.Intervalo(5.99928, 5.99964), Intervalos.Intervalo(0.000372101, 0.000743215), Intervalos.Intervalo(5.99964, 5.99982), Intervalos.Intervalo(0.000186387, 0.000372101), Intervalos.Intervalo(5.99982, 5.99991), Intervalos.Intervalo(9.32925e-5, 0.000186387), Intervalos.Intervalo(5.99991, 5.99995), Intervalos.Intervalo(4.66957e-5, 9.32925e-5), Intervalos.Intervalo(5.99995, 5.99998), Intervalos.Intervalo(2.3382e-5, 4.66957e-5), Intervalos.Intervalo(5.99998, 5.99999), Intervalos.Intervalo(1.17105e-5, 2.3382e-5), Intervalos.Intervalo(5.99999, 5.99999), Intervalos.Intervalo(5.86233e-6, 1.17105e-5), Intervalos.Intervalo(5.99999, 6.0), Intervalos.Intervalo(2.93377e-6, 5.86233e-6), Intervalos.Intervalo(6.0, 6.0), Intervalos.Intervalo(1.46788e-6, 2.93377e-6), Intervalos.Intervalo(6.0, 6.0), Intervalos.Intervalo(7.35144e-7, 1.46788e-6), Intervalos.Intervalo(6.0, 6.0), Intervalos.Intervalo(3.67709e-7, 7.35144e-7), Intervalos.Intervalo(6.0, 6.0), Intervalos.Intervalo(1.84113e-7, 3.67709e-7), Intervalos.Intervalo(6.0, 6.0), Intervalos.Intervalo(9.21621e-8, 1.84113e-7), Intervalos.Intervalo(6.0, 6.0), Intervalos.Intervalo(4.61125e-8, 9.21621e-8), Intervalos.Intervalo(6.0, 6.0), Intervalos.Intervalo(2.309e-8, 4.61125e-8), Intervalos.Intervalo(6.0, 6.0), Intervalos.Intervalo(1.15559e-8, 2.309e-8), Intervalos.Intervalo(6.0, 6.0), Intervalos.Intervalo(5.78372e-9, 1.15559e-8), Intervalos.Intervalo(6.0, 6.0), Intervalos.Intervalo(2.89573e-9, 5.78372e-9), Intervalos.Intervalo(6.0, 6.0), Intervalos.Intervalo(1.45007e-9, 2.89573e-9), Intervalos.Intervalo(6.0, 6.0), Intervalos.Intervalo(7.25281e-10, 1.45007e-9), Intervalos.Intervalo(6.0, 6.0), Intervalos.Intervalo(3.63238e-10, 7.25281e-10), Intervalos.Intervalo(6.0, 6.0), Intervalos.Intervalo(1.81786e-10, 3.63238e-10), Intervalos.Intervalo(6.0, 6.0), Intervalos.Intervalo(9.10717e-11, 1.81786e-10), Intervalos.Intervalo(6.0, 6.0), Intervalos.Intervalo(4.56199e-11, 9.10717e-11), Intervalos.Intervalo(6.0, 6.0), Intervalos.Intervalo(0.0, 2.28334e-11), Intervalos.Intervalo(2.28334e-11, 4.56199e-11), Intervalos.Intervalo(6.0, 6.0), Intervalos.Intervalo(6.0, 6.0)])\n",
      "(uniqueRoot(X1[i], X0), X1[i], X0) = (-1, Intervalos.Intervalo(0.0, 2.283341670040068e-11), Intervalos.Intervalo(0.0, 6.0))\n",
      "Xbis = Intervalos.Intervalo[Intervalos.Intervalo(0.0, 1.14245e-11), Intervalos.Intervalo(1.14245e-11, 2.28334e-11)]\n",
      "(\" Antes \", X1) = (\" Antes \", Intervalos.Intervalo[Intervalos.Intervalo(3.00002, 4.50148), Intervalos.Intervalo(1.50244, 3.00451), Intervalos.Intervalo(4.50148, 5.25082), Intervalos.Intervalo(0.752677, 1.50244), Intervalos.Intervalo(5.25082, 5.62608), Intervalos.Intervalo(0.376723, 0.752677), Intervalos.Intervalo(5.62608, 5.8134), Intervalos.Intervalo(0.188552, 0.376723), Intervalos.Intervalo(5.8134, 5.90676), Intervalos.Intervalo(0.0944598, 0.188552), Intervalos.Intervalo(5.90676, 5.95343), Intervalos.Intervalo(0.047286, 0.0944598), Intervalos.Intervalo(5.95343, 5.97673), Intervalos.Intervalo(0.0236567, 0.047286), Intervalos.Intervalo(5.97673, 5.98838), Intervalos.Intervalo(0.0118434, 0.0236567), Intervalos.Intervalo(5.98838, 5.99419), Intervalos.Intervalo(0.00593332, 0.0118434), Intervalos.Intervalo(5.99419, 5.9971), Intervalos.Intervalo(0.00296759, 0.00593332), Intervalos.Intervalo(5.9971, 5.99855), Intervalos.Intervalo(0.00148416, 0.00296759), Intervalos.Intervalo(5.99855, 5.99928), Intervalos.Intervalo(0.000743215, 0.00148416), Intervalos.Intervalo(5.99928, 5.99964), Intervalos.Intervalo(0.000372101, 0.000743215), Intervalos.Intervalo(5.99964, 5.99982), Intervalos.Intervalo(0.000186387, 0.000372101), Intervalos.Intervalo(5.99982, 5.99991), Intervalos.Intervalo(9.32925e-5, 0.000186387), Intervalos.Intervalo(5.99991, 5.99995), Intervalos.Intervalo(4.66957e-5, 9.32925e-5), Intervalos.Intervalo(5.99995, 5.99998), Intervalos.Intervalo(2.3382e-5, 4.66957e-5), Intervalos.Intervalo(5.99998, 5.99999), Intervalos.Intervalo(1.17105e-5, 2.3382e-5), Intervalos.Intervalo(5.99999, 5.99999), Intervalos.Intervalo(5.86233e-6, 1.17105e-5), Intervalos.Intervalo(5.99999, 6.0), Intervalos.Intervalo(2.93377e-6, 5.86233e-6), Intervalos.Intervalo(6.0, 6.0), Intervalos.Intervalo(1.46788e-6, 2.93377e-6), Intervalos.Intervalo(6.0, 6.0), Intervalos.Intervalo(7.35144e-7, 1.46788e-6), Intervalos.Intervalo(6.0, 6.0), Intervalos.Intervalo(3.67709e-7, 7.35144e-7), Intervalos.Intervalo(6.0, 6.0), Intervalos.Intervalo(1.84113e-7, 3.67709e-7), Intervalos.Intervalo(6.0, 6.0), Intervalos.Intervalo(9.21621e-8, 1.84113e-7), Intervalos.Intervalo(6.0, 6.0), Intervalos.Intervalo(4.61125e-8, 9.21621e-8), Intervalos.Intervalo(6.0, 6.0), Intervalos.Intervalo(2.309e-8, 4.61125e-8), Intervalos.Intervalo(6.0, 6.0), Intervalos.Intervalo(1.15559e-8, 2.309e-8), Intervalos.Intervalo(6.0, 6.0), Intervalos.Intervalo(5.78372e-9, 1.15559e-8), Intervalos.Intervalo(6.0, 6.0), Intervalos.Intervalo(2.89573e-9, 5.78372e-9), Intervalos.Intervalo(6.0, 6.0), Intervalos.Intervalo(1.45007e-9, 2.89573e-9), Intervalos.Intervalo(6.0, 6.0), Intervalos.Intervalo(7.25281e-10, 1.45007e-9), Intervalos.Intervalo(6.0, 6.0), Intervalos.Intervalo(3.63238e-10, 7.25281e-10), Intervalos.Intervalo(6.0, 6.0), Intervalos.Intervalo(1.81786e-10, 3.63238e-10), Intervalos.Intervalo(6.0, 6.0), Intervalos.Intervalo(9.10717e-11, 1.81786e-10), Intervalos.Intervalo(6.0, 6.0), Intervalos.Intervalo(4.56199e-11, 9.10717e-11), Intervalos.Intervalo(6.0, 6.0), Intervalos.Intervalo(2.28334e-11, 4.56199e-11), Intervalos.Intervalo(6.0, 6.0), Intervalos.Intervalo(6.0, 6.0)])\n",
      "(\" Después \", X1) = (\" Después \", Intervalos.Intervalo[Intervalos.Intervalo(3.00002, 4.50148), Intervalos.Intervalo(1.50244, 3.00451), Intervalos.Intervalo(4.50148, 5.25082), Intervalos.Intervalo(0.752677, 1.50244), Intervalos.Intervalo(5.25082, 5.62608), Intervalos.Intervalo(0.376723, 0.752677), Intervalos.Intervalo(5.62608, 5.8134), Intervalos.Intervalo(0.188552, 0.376723), Intervalos.Intervalo(5.8134, 5.90676), Intervalos.Intervalo(0.0944598, 0.188552), Intervalos.Intervalo(5.90676, 5.95343), Intervalos.Intervalo(0.047286, 0.0944598), Intervalos.Intervalo(5.95343, 5.97673), Intervalos.Intervalo(0.0236567, 0.047286), Intervalos.Intervalo(5.97673, 5.98838), Intervalos.Intervalo(0.0118434, 0.0236567), Intervalos.Intervalo(5.98838, 5.99419), Intervalos.Intervalo(0.00593332, 0.0118434), Intervalos.Intervalo(5.99419, 5.9971), Intervalos.Intervalo(0.00296759, 0.00593332), Intervalos.Intervalo(5.9971, 5.99855), Intervalos.Intervalo(0.00148416, 0.00296759), Intervalos.Intervalo(5.99855, 5.99928), Intervalos.Intervalo(0.000743215, 0.00148416), Intervalos.Intervalo(5.99928, 5.99964), Intervalos.Intervalo(0.000372101, 0.000743215), Intervalos.Intervalo(5.99964, 5.99982), Intervalos.Intervalo(0.000186387, 0.000372101), Intervalos.Intervalo(5.99982, 5.99991), Intervalos.Intervalo(9.32925e-5, 0.000186387), Intervalos.Intervalo(5.99991, 5.99995), Intervalos.Intervalo(4.66957e-5, 9.32925e-5), Intervalos.Intervalo(5.99995, 5.99998), Intervalos.Intervalo(2.3382e-5, 4.66957e-5), Intervalos.Intervalo(5.99998, 5.99999), Intervalos.Intervalo(1.17105e-5, 2.3382e-5), Intervalos.Intervalo(5.99999, 5.99999), Intervalos.Intervalo(5.86233e-6, 1.17105e-5), Intervalos.Intervalo(5.99999, 6.0), Intervalos.Intervalo(2.93377e-6, 5.86233e-6), Intervalos.Intervalo(6.0, 6.0), Intervalos.Intervalo(1.46788e-6, 2.93377e-6), Intervalos.Intervalo(6.0, 6.0), Intervalos.Intervalo(7.35144e-7, 1.46788e-6), Intervalos.Intervalo(6.0, 6.0), Intervalos.Intervalo(3.67709e-7, 7.35144e-7), Intervalos.Intervalo(6.0, 6.0), Intervalos.Intervalo(1.84113e-7, 3.67709e-7), Intervalos.Intervalo(6.0, 6.0), Intervalos.Intervalo(9.21621e-8, 1.84113e-7), Intervalos.Intervalo(6.0, 6.0), Intervalos.Intervalo(4.61125e-8, 9.21621e-8), Intervalos.Intervalo(6.0, 6.0), Intervalos.Intervalo(2.309e-8, 4.61125e-8), Intervalos.Intervalo(6.0, 6.0), Intervalos.Intervalo(1.15559e-8, 2.309e-8), Intervalos.Intervalo(6.0, 6.0), Intervalos.Intervalo(5.78372e-9, 1.15559e-8), Intervalos.Intervalo(6.0, 6.0), Intervalos.Intervalo(2.89573e-9, 5.78372e-9), Intervalos.Intervalo(6.0, 6.0), Intervalos.Intervalo(1.45007e-9, 2.89573e-9), Intervalos.Intervalo(6.0, 6.0), Intervalos.Intervalo(7.25281e-10, 1.45007e-9), Intervalos.Intervalo(6.0, 6.0), Intervalos.Intervalo(3.63238e-10, 7.25281e-10), Intervalos.Intervalo(6.0, 6.0), Intervalos.Intervalo(1.81786e-10, 3.63238e-10), Intervalos.Intervalo(6.0, 6.0), Intervalos.Intervalo(9.10717e-11, 1.81786e-10), Intervalos.Intervalo(6.0, 6.0), Intervalos.Intervalo(4.56199e-11, 9.10717e-11), Intervalos.Intervalo(6.0, 6.0), Intervalos.Intervalo(2.28334e-11, 4.56199e-11), Intervalos.Intervalo(6.0, 6.0), Intervalos.Intervalo(6.0, 6.0), Intervalos.Intervalo(0.0, 1.14245e-11), Intervalos.Intervalo(1.14245e-11, 2.28334e-11)])\n"
     ]
    },
    {
     "name": "stdout",
     "output_type": "stream",
     "text": [
      "(uniqueRoot(X1[i], X0), X1[i], X0) = (1, Intervalos.Intervalo(2.283341670040068e-11, 4.5619927476398676e-11), Intervalos.Intervalo(0.0, 6.0))\n",
      "(uniqueRoot(X1[i], X0), X1[i], X0) = (1, Intervalos.Intervalo(5.999999999978941, 5.999999999989491), Intervalos.Intervalo(0.0, 6.0))\n",
      "(uniqueRoot(X1[i], X0), X1[i], X0) = (-1, Intervalos.Intervalo(5.999999999989491, 6.0), Intervalos.Intervalo(0.0, 6.0))\n",
      "Xbis = Intervalos.Intervalo[Intervalos.Intervalo(6.0, 6.0), Intervalos.Intervalo(6.0, 6.0)]\n",
      "(\" Antes \", X1) = (\" Antes \", Intervalos.Intervalo[Intervalos.Intervalo(3.00002, 4.50148), Intervalos.Intervalo(1.50244, 3.00451), Intervalos.Intervalo(4.50148, 5.25082), Intervalos.Intervalo(0.752677, 1.50244), Intervalos.Intervalo(5.25082, 5.62608), Intervalos.Intervalo(0.376723, 0.752677), Intervalos.Intervalo(5.62608, 5.8134), Intervalos.Intervalo(0.188552, 0.376723), Intervalos.Intervalo(5.8134, 5.90676), Intervalos.Intervalo(0.0944598, 0.188552), Intervalos.Intervalo(5.90676, 5.95343), Intervalos.Intervalo(0.047286, 0.0944598), Intervalos.Intervalo(5.95343, 5.97673), Intervalos.Intervalo(0.0236567, 0.047286), Intervalos.Intervalo(5.97673, 5.98838), Intervalos.Intervalo(0.0118434, 0.0236567), Intervalos.Intervalo(5.98838, 5.99419), Intervalos.Intervalo(0.00593332, 0.0118434), Intervalos.Intervalo(5.99419, 5.9971), Intervalos.Intervalo(0.00296759, 0.00593332), Intervalos.Intervalo(5.9971, 5.99855), Intervalos.Intervalo(0.00148416, 0.00296759), Intervalos.Intervalo(5.99855, 5.99928), Intervalos.Intervalo(0.000743215, 0.00148416), Intervalos.Intervalo(5.99928, 5.99964), Intervalos.Intervalo(0.000372101, 0.000743215), Intervalos.Intervalo(5.99964, 5.99982), Intervalos.Intervalo(0.000186387, 0.000372101), Intervalos.Intervalo(5.99982, 5.99991), Intervalos.Intervalo(9.32925e-5, 0.000186387), Intervalos.Intervalo(5.99991, 5.99995), Intervalos.Intervalo(4.66957e-5, 9.32925e-5), Intervalos.Intervalo(5.99995, 5.99998), Intervalos.Intervalo(2.3382e-5, 4.66957e-5), Intervalos.Intervalo(5.99998, 5.99999), Intervalos.Intervalo(1.17105e-5, 2.3382e-5), Intervalos.Intervalo(5.99999, 5.99999), Intervalos.Intervalo(5.86233e-6, 1.17105e-5), Intervalos.Intervalo(5.99999, 6.0), Intervalos.Intervalo(2.93377e-6, 5.86233e-6), Intervalos.Intervalo(6.0, 6.0), Intervalos.Intervalo(1.46788e-6, 2.93377e-6), Intervalos.Intervalo(6.0, 6.0), Intervalos.Intervalo(7.35144e-7, 1.46788e-6), Intervalos.Intervalo(6.0, 6.0), Intervalos.Intervalo(3.67709e-7, 7.35144e-7), Intervalos.Intervalo(6.0, 6.0), Intervalos.Intervalo(1.84113e-7, 3.67709e-7), Intervalos.Intervalo(6.0, 6.0), Intervalos.Intervalo(9.21621e-8, 1.84113e-7), Intervalos.Intervalo(6.0, 6.0), Intervalos.Intervalo(4.61125e-8, 9.21621e-8), Intervalos.Intervalo(6.0, 6.0), Intervalos.Intervalo(2.309e-8, 4.61125e-8), Intervalos.Intervalo(6.0, 6.0), Intervalos.Intervalo(1.15559e-8, 2.309e-8), Intervalos.Intervalo(6.0, 6.0), Intervalos.Intervalo(5.78372e-9, 1.15559e-8), Intervalos.Intervalo(6.0, 6.0), Intervalos.Intervalo(2.89573e-9, 5.78372e-9), Intervalos.Intervalo(6.0, 6.0), Intervalos.Intervalo(1.45007e-9, 2.89573e-9), Intervalos.Intervalo(6.0, 6.0), Intervalos.Intervalo(7.25281e-10, 1.45007e-9), Intervalos.Intervalo(6.0, 6.0), Intervalos.Intervalo(3.63238e-10, 7.25281e-10), Intervalos.Intervalo(6.0, 6.0), Intervalos.Intervalo(1.81786e-10, 3.63238e-10), Intervalos.Intervalo(6.0, 6.0), Intervalos.Intervalo(9.10717e-11, 1.81786e-10), Intervalos.Intervalo(6.0, 6.0), Intervalos.Intervalo(4.56199e-11, 9.10717e-11), Intervalos.Intervalo(6.0, 6.0), Intervalos.Intervalo(2.28334e-11, 4.56199e-11), Intervalos.Intervalo(6.0, 6.0), Intervalos.Intervalo(0.0, 1.14245e-11), Intervalos.Intervalo(1.14245e-11, 2.28334e-11)])\n",
      "(\" Después \", X1) = (\" Después \", Intervalos.Intervalo[Intervalos.Intervalo(3.00002, 4.50148), Intervalos.Intervalo(1.50244, 3.00451), Intervalos.Intervalo(4.50148, 5.25082), Intervalos.Intervalo(0.752677, 1.50244), Intervalos.Intervalo(5.25082, 5.62608), Intervalos.Intervalo(0.376723, 0.752677), Intervalos.Intervalo(5.62608, 5.8134), Intervalos.Intervalo(0.188552, 0.376723), Intervalos.Intervalo(5.8134, 5.90676), Intervalos.Intervalo(0.0944598, 0.188552), Intervalos.Intervalo(5.90676, 5.95343), Intervalos.Intervalo(0.047286, 0.0944598), Intervalos.Intervalo(5.95343, 5.97673), Intervalos.Intervalo(0.0236567, 0.047286), Intervalos.Intervalo(5.97673, 5.98838), Intervalos.Intervalo(0.0118434, 0.0236567), Intervalos.Intervalo(5.98838, 5.99419), Intervalos.Intervalo(0.00593332, 0.0118434), Intervalos.Intervalo(5.99419, 5.9971), Intervalos.Intervalo(0.00296759, 0.00593332), Intervalos.Intervalo(5.9971, 5.99855), Intervalos.Intervalo(0.00148416, 0.00296759), Intervalos.Intervalo(5.99855, 5.99928), Intervalos.Intervalo(0.000743215, 0.00148416), Intervalos.Intervalo(5.99928, 5.99964), Intervalos.Intervalo(0.000372101, 0.000743215), Intervalos.Intervalo(5.99964, 5.99982), Intervalos.Intervalo(0.000186387, 0.000372101), Intervalos.Intervalo(5.99982, 5.99991), Intervalos.Intervalo(9.32925e-5, 0.000186387), Intervalos.Intervalo(5.99991, 5.99995), Intervalos.Intervalo(4.66957e-5, 9.32925e-5), Intervalos.Intervalo(5.99995, 5.99998), Intervalos.Intervalo(2.3382e-5, 4.66957e-5), Intervalos.Intervalo(5.99998, 5.99999), Intervalos.Intervalo(1.17105e-5, 2.3382e-5), Intervalos.Intervalo(5.99999, 5.99999), Intervalos.Intervalo(5.86233e-6, 1.17105e-5), Intervalos.Intervalo(5.99999, 6.0), Intervalos.Intervalo(2.93377e-6, 5.86233e-6), Intervalos.Intervalo(6.0, 6.0), Intervalos.Intervalo(1.46788e-6, 2.93377e-6), Intervalos.Intervalo(6.0, 6.0), Intervalos.Intervalo(7.35144e-7, 1.46788e-6), Intervalos.Intervalo(6.0, 6.0), Intervalos.Intervalo(3.67709e-7, 7.35144e-7), Intervalos.Intervalo(6.0, 6.0), Intervalos.Intervalo(1.84113e-7, 3.67709e-7), Intervalos.Intervalo(6.0, 6.0), Intervalos.Intervalo(9.21621e-8, 1.84113e-7), Intervalos.Intervalo(6.0, 6.0), Intervalos.Intervalo(4.61125e-8, 9.21621e-8), Intervalos.Intervalo(6.0, 6.0), Intervalos.Intervalo(2.309e-8, 4.61125e-8), Intervalos.Intervalo(6.0, 6.0), Intervalos.Intervalo(1.15559e-8, 2.309e-8), Intervalos.Intervalo(6.0, 6.0), Intervalos.Intervalo(5.78372e-9, 1.15559e-8), Intervalos.Intervalo(6.0, 6.0), Intervalos.Intervalo(2.89573e-9, 5.78372e-9), Intervalos.Intervalo(6.0, 6.0), Intervalos.Intervalo(1.45007e-9, 2.89573e-9), Intervalos.Intervalo(6.0, 6.0), Intervalos.Intervalo(7.25281e-10, 1.45007e-9), Intervalos.Intervalo(6.0, 6.0), Intervalos.Intervalo(3.63238e-10, 7.25281e-10), Intervalos.Intervalo(6.0, 6.0), Intervalos.Intervalo(1.81786e-10, 3.63238e-10), Intervalos.Intervalo(6.0, 6.0), Intervalos.Intervalo(9.10717e-11, 1.81786e-10), Intervalos.Intervalo(6.0, 6.0), Intervalos.Intervalo(4.56199e-11, 9.10717e-11), Intervalos.Intervalo(6.0, 6.0), Intervalos.Intervalo(2.28334e-11, 4.56199e-11), Intervalos.Intervalo(6.0, 6.0), Intervalos.Intervalo(0.0, 1.14245e-11), Intervalos.Intervalo(1.14245e-11, 2.28334e-11), Intervalos.Intervalo(6.0, 6.0), Intervalos.Intervalo(6.0, 6.0)])\n",
      "(uniqueRoot(X1[i], X0), X1[i], X0) = (-1, Intervalos.Intervalo(0.0, 1.1424479132353212e-11), Intervalos.Intervalo(0.0, 6.0))\n",
      "Xbis = Intervalos.Intervalo[Intervalos.Intervalo(0.0, 5.72001e-12), Intervalos.Intervalo(5.72001e-12, 1.14245e-11)]\n"
     ]
    },
    {
     "name": "stdout",
     "output_type": "stream",
     "text": [
      "(\" Antes \", X1) = (\" Antes \", Intervalos.Intervalo[Intervalos.Intervalo(3.00002, 4.50148), Intervalos.Intervalo(1.50244, 3.00451), Intervalos.Intervalo(4.50148, 5.25082), Intervalos.Intervalo(0.752677, 1.50244), Intervalos.Intervalo(5.25082, 5.62608), Intervalos.Intervalo(0.376723, 0.752677), Intervalos.Intervalo(5.62608, 5.8134), Intervalos.Intervalo(0.188552, 0.376723), Intervalos.Intervalo(5.8134, 5.90676), Intervalos.Intervalo(0.0944598, 0.188552), Intervalos.Intervalo(5.90676, 5.95343), Intervalos.Intervalo(0.047286, 0.0944598), Intervalos.Intervalo(5.95343, 5.97673), Intervalos.Intervalo(0.0236567, 0.047286), Intervalos.Intervalo(5.97673, 5.98838), Intervalos.Intervalo(0.0118434, 0.0236567), Intervalos.Intervalo(5.98838, 5.99419), Intervalos.Intervalo(0.00593332, 0.0118434), Intervalos.Intervalo(5.99419, 5.9971), Intervalos.Intervalo(0.00296759, 0.00593332), Intervalos.Intervalo(5.9971, 5.99855), Intervalos.Intervalo(0.00148416, 0.00296759), Intervalos.Intervalo(5.99855, 5.99928), Intervalos.Intervalo(0.000743215, 0.00148416), Intervalos.Intervalo(5.99928, 5.99964), Intervalos.Intervalo(0.000372101, 0.000743215), Intervalos.Intervalo(5.99964, 5.99982), Intervalos.Intervalo(0.000186387, 0.000372101), Intervalos.Intervalo(5.99982, 5.99991), Intervalos.Intervalo(9.32925e-5, 0.000186387), Intervalos.Intervalo(5.99991, 5.99995), Intervalos.Intervalo(4.66957e-5, 9.32925e-5), Intervalos.Intervalo(5.99995, 5.99998), Intervalos.Intervalo(2.3382e-5, 4.66957e-5), Intervalos.Intervalo(5.99998, 5.99999), Intervalos.Intervalo(1.17105e-5, 2.3382e-5), Intervalos.Intervalo(5.99999, 5.99999), Intervalos.Intervalo(5.86233e-6, 1.17105e-5), Intervalos.Intervalo(5.99999, 6.0), Intervalos.Intervalo(2.93377e-6, 5.86233e-6), Intervalos.Intervalo(6.0, 6.0), Intervalos.Intervalo(1.46788e-6, 2.93377e-6), Intervalos.Intervalo(6.0, 6.0), Intervalos.Intervalo(7.35144e-7, 1.46788e-6), Intervalos.Intervalo(6.0, 6.0), Intervalos.Intervalo(3.67709e-7, 7.35144e-7), Intervalos.Intervalo(6.0, 6.0), Intervalos.Intervalo(1.84113e-7, 3.67709e-7), Intervalos.Intervalo(6.0, 6.0), Intervalos.Intervalo(9.21621e-8, 1.84113e-7), Intervalos.Intervalo(6.0, 6.0), Intervalos.Intervalo(4.61125e-8, 9.21621e-8), Intervalos.Intervalo(6.0, 6.0), Intervalos.Intervalo(2.309e-8, 4.61125e-8), Intervalos.Intervalo(6.0, 6.0), Intervalos.Intervalo(1.15559e-8, 2.309e-8), Intervalos.Intervalo(6.0, 6.0), Intervalos.Intervalo(5.78372e-9, 1.15559e-8), Intervalos.Intervalo(6.0, 6.0), Intervalos.Intervalo(2.89573e-9, 5.78372e-9), Intervalos.Intervalo(6.0, 6.0), Intervalos.Intervalo(1.45007e-9, 2.89573e-9), Intervalos.Intervalo(6.0, 6.0), Intervalos.Intervalo(7.25281e-10, 1.45007e-9), Intervalos.Intervalo(6.0, 6.0), Intervalos.Intervalo(3.63238e-10, 7.25281e-10), Intervalos.Intervalo(6.0, 6.0), Intervalos.Intervalo(1.81786e-10, 3.63238e-10), Intervalos.Intervalo(6.0, 6.0), Intervalos.Intervalo(9.10717e-11, 1.81786e-10), Intervalos.Intervalo(6.0, 6.0), Intervalos.Intervalo(4.56199e-11, 9.10717e-11), Intervalos.Intervalo(6.0, 6.0), Intervalos.Intervalo(2.28334e-11, 4.56199e-11), Intervalos.Intervalo(6.0, 6.0), Intervalos.Intervalo(1.14245e-11, 2.28334e-11), Intervalos.Intervalo(6.0, 6.0), Intervalos.Intervalo(6.0, 6.0)])\n",
      "(\" Después \", X1) = (\" Después \", Intervalos.Intervalo[Intervalos.Intervalo(3.00002, 4.50148), Intervalos.Intervalo(1.50244, 3.00451), Intervalos.Intervalo(4.50148, 5.25082), Intervalos.Intervalo(0.752677, 1.50244), Intervalos.Intervalo(5.25082, 5.62608), Intervalos.Intervalo(0.376723, 0.752677), Intervalos.Intervalo(5.62608, 5.8134), Intervalos.Intervalo(0.188552, 0.376723), Intervalos.Intervalo(5.8134, 5.90676), Intervalos.Intervalo(0.0944598, 0.188552), Intervalos.Intervalo(5.90676, 5.95343), Intervalos.Intervalo(0.047286, 0.0944598), Intervalos.Intervalo(5.95343, 5.97673), Intervalos.Intervalo(0.0236567, 0.047286), Intervalos.Intervalo(5.97673, 5.98838), Intervalos.Intervalo(0.0118434, 0.0236567), Intervalos.Intervalo(5.98838, 5.99419), Intervalos.Intervalo(0.00593332, 0.0118434), Intervalos.Intervalo(5.99419, 5.9971), Intervalos.Intervalo(0.00296759, 0.00593332), Intervalos.Intervalo(5.9971, 5.99855), Intervalos.Intervalo(0.00148416, 0.00296759), Intervalos.Intervalo(5.99855, 5.99928), Intervalos.Intervalo(0.000743215, 0.00148416), Intervalos.Intervalo(5.99928, 5.99964), Intervalos.Intervalo(0.000372101, 0.000743215), Intervalos.Intervalo(5.99964, 5.99982), Intervalos.Intervalo(0.000186387, 0.000372101), Intervalos.Intervalo(5.99982, 5.99991), Intervalos.Intervalo(9.32925e-5, 0.000186387), Intervalos.Intervalo(5.99991, 5.99995), Intervalos.Intervalo(4.66957e-5, 9.32925e-5), Intervalos.Intervalo(5.99995, 5.99998), Intervalos.Intervalo(2.3382e-5, 4.66957e-5), Intervalos.Intervalo(5.99998, 5.99999), Intervalos.Intervalo(1.17105e-5, 2.3382e-5), Intervalos.Intervalo(5.99999, 5.99999), Intervalos.Intervalo(5.86233e-6, 1.17105e-5), Intervalos.Intervalo(5.99999, 6.0), Intervalos.Intervalo(2.93377e-6, 5.86233e-6), Intervalos.Intervalo(6.0, 6.0), Intervalos.Intervalo(1.46788e-6, 2.93377e-6), Intervalos.Intervalo(6.0, 6.0), Intervalos.Intervalo(7.35144e-7, 1.46788e-6), Intervalos.Intervalo(6.0, 6.0), Intervalos.Intervalo(3.67709e-7, 7.35144e-7), Intervalos.Intervalo(6.0, 6.0), Intervalos.Intervalo(1.84113e-7, 3.67709e-7), Intervalos.Intervalo(6.0, 6.0), Intervalos.Intervalo(9.21621e-8, 1.84113e-7), Intervalos.Intervalo(6.0, 6.0), Intervalos.Intervalo(4.61125e-8, 9.21621e-8), Intervalos.Intervalo(6.0, 6.0), Intervalos.Intervalo(2.309e-8, 4.61125e-8), Intervalos.Intervalo(6.0, 6.0), Intervalos.Intervalo(1.15559e-8, 2.309e-8), Intervalos.Intervalo(6.0, 6.0), Intervalos.Intervalo(5.78372e-9, 1.15559e-8), Intervalos.Intervalo(6.0, 6.0), Intervalos.Intervalo(2.89573e-9, 5.78372e-9), Intervalos.Intervalo(6.0, 6.0), Intervalos.Intervalo(1.45007e-9, 2.89573e-9), Intervalos.Intervalo(6.0, 6.0), Intervalos.Intervalo(7.25281e-10, 1.45007e-9), Intervalos.Intervalo(6.0, 6.0), Intervalos.Intervalo(3.63238e-10, 7.25281e-10), Intervalos.Intervalo(6.0, 6.0), Intervalos.Intervalo(1.81786e-10, 3.63238e-10), Intervalos.Intervalo(6.0, 6.0), Intervalos.Intervalo(9.10717e-11, 1.81786e-10), Intervalos.Intervalo(6.0, 6.0), Intervalos.Intervalo(4.56199e-11, 9.10717e-11), Intervalos.Intervalo(6.0, 6.0), Intervalos.Intervalo(2.28334e-11, 4.56199e-11), Intervalos.Intervalo(6.0, 6.0), Intervalos.Intervalo(1.14245e-11, 2.28334e-11), Intervalos.Intervalo(6.0, 6.0), Intervalos.Intervalo(6.0, 6.0), Intervalos.Intervalo(0.0, 5.72001e-12), Intervalos.Intervalo(5.72001e-12, 1.14245e-11)])\n",
      "(uniqueRoot(X1[i], X0), X1[i], X0) = (1, Intervalos.Intervalo(1.1424479132353212e-11, 2.283341670040068e-11), Intervalos.Intervalo(0.0, 6.0))\n",
      "(uniqueRoot(X1[i], X0), X1[i], X0) = (1, Intervalos.Intervalo(5.999999999989491, 5.999999999994751), Intervalos.Intervalo(0.0, 6.0))\n",
      "(uniqueRoot(X1[i], X0), X1[i], X0) = (-1, Intervalos.Intervalo(5.999999999994751, 6.0), Intervalos.Intervalo(0.0, 6.0))\n",
      "Xbis = Intervalos.Intervalo[Intervalos.Intervalo(6.0, 6.0), Intervalos.Intervalo(6.0, 6.0)]\n",
      "(\" Antes \", X1) = (\" Antes \", Intervalos.Intervalo[Intervalos.Intervalo(3.00002, 4.50148), Intervalos.Intervalo(1.50244, 3.00451), Intervalos.Intervalo(4.50148, 5.25082), Intervalos.Intervalo(0.752677, 1.50244), Intervalos.Intervalo(5.25082, 5.62608), Intervalos.Intervalo(0.376723, 0.752677), Intervalos.Intervalo(5.62608, 5.8134), Intervalos.Intervalo(0.188552, 0.376723), Intervalos.Intervalo(5.8134, 5.90676), Intervalos.Intervalo(0.0944598, 0.188552), Intervalos.Intervalo(5.90676, 5.95343), Intervalos.Intervalo(0.047286, 0.0944598), Intervalos.Intervalo(5.95343, 5.97673), Intervalos.Intervalo(0.0236567, 0.047286), Intervalos.Intervalo(5.97673, 5.98838), Intervalos.Intervalo(0.0118434, 0.0236567), Intervalos.Intervalo(5.98838, 5.99419), Intervalos.Intervalo(0.00593332, 0.0118434), Intervalos.Intervalo(5.99419, 5.9971), Intervalos.Intervalo(0.00296759, 0.00593332), Intervalos.Intervalo(5.9971, 5.99855), Intervalos.Intervalo(0.00148416, 0.00296759), Intervalos.Intervalo(5.99855, 5.99928), Intervalos.Intervalo(0.000743215, 0.00148416), Intervalos.Intervalo(5.99928, 5.99964), Intervalos.Intervalo(0.000372101, 0.000743215), Intervalos.Intervalo(5.99964, 5.99982), Intervalos.Intervalo(0.000186387, 0.000372101), Intervalos.Intervalo(5.99982, 5.99991), Intervalos.Intervalo(9.32925e-5, 0.000186387), Intervalos.Intervalo(5.99991, 5.99995), Intervalos.Intervalo(4.66957e-5, 9.32925e-5), Intervalos.Intervalo(5.99995, 5.99998), Intervalos.Intervalo(2.3382e-5, 4.66957e-5), Intervalos.Intervalo(5.99998, 5.99999), Intervalos.Intervalo(1.17105e-5, 2.3382e-5), Intervalos.Intervalo(5.99999, 5.99999), Intervalos.Intervalo(5.86233e-6, 1.17105e-5), Intervalos.Intervalo(5.99999, 6.0), Intervalos.Intervalo(2.93377e-6, 5.86233e-6), Intervalos.Intervalo(6.0, 6.0), Intervalos.Intervalo(1.46788e-6, 2.93377e-6), Intervalos.Intervalo(6.0, 6.0), Intervalos.Intervalo(7.35144e-7, 1.46788e-6), Intervalos.Intervalo(6.0, 6.0), Intervalos.Intervalo(3.67709e-7, 7.35144e-7), Intervalos.Intervalo(6.0, 6.0), Intervalos.Intervalo(1.84113e-7, 3.67709e-7), Intervalos.Intervalo(6.0, 6.0), Intervalos.Intervalo(9.21621e-8, 1.84113e-7), Intervalos.Intervalo(6.0, 6.0), Intervalos.Intervalo(4.61125e-8, 9.21621e-8), Intervalos.Intervalo(6.0, 6.0), Intervalos.Intervalo(2.309e-8, 4.61125e-8), Intervalos.Intervalo(6.0, 6.0), Intervalos.Intervalo(1.15559e-8, 2.309e-8), Intervalos.Intervalo(6.0, 6.0), Intervalos.Intervalo(5.78372e-9, 1.15559e-8), Intervalos.Intervalo(6.0, 6.0), Intervalos.Intervalo(2.89573e-9, 5.78372e-9), Intervalos.Intervalo(6.0, 6.0), Intervalos.Intervalo(1.45007e-9, 2.89573e-9), Intervalos.Intervalo(6.0, 6.0), Intervalos.Intervalo(7.25281e-10, 1.45007e-9), Intervalos.Intervalo(6.0, 6.0), Intervalos.Intervalo(3.63238e-10, 7.25281e-10), Intervalos.Intervalo(6.0, 6.0), Intervalos.Intervalo(1.81786e-10, 3.63238e-10), Intervalos.Intervalo(6.0, 6.0), Intervalos.Intervalo(9.10717e-11, 1.81786e-10), Intervalos.Intervalo(6.0, 6.0), Intervalos.Intervalo(4.56199e-11, 9.10717e-11), Intervalos.Intervalo(6.0, 6.0), Intervalos.Intervalo(2.28334e-11, 4.56199e-11), Intervalos.Intervalo(6.0, 6.0), Intervalos.Intervalo(1.14245e-11, 2.28334e-11), Intervalos.Intervalo(6.0, 6.0), Intervalos.Intervalo(0.0, 5.72001e-12), Intervalos.Intervalo(5.72001e-12, 1.14245e-11)])\n",
      "(\" Después \", X1) = (\" Después \", Intervalos.Intervalo[Intervalos.Intervalo(3.00002, 4.50148), Intervalos.Intervalo(1.50244, 3.00451), Intervalos.Intervalo(4.50148, 5.25082), Intervalos.Intervalo(0.752677, 1.50244), Intervalos.Intervalo(5.25082, 5.62608), Intervalos.Intervalo(0.376723, 0.752677), Intervalos.Intervalo(5.62608, 5.8134), Intervalos.Intervalo(0.188552, 0.376723), Intervalos.Intervalo(5.8134, 5.90676), Intervalos.Intervalo(0.0944598, 0.188552), Intervalos.Intervalo(5.90676, 5.95343), Intervalos.Intervalo(0.047286, 0.0944598), Intervalos.Intervalo(5.95343, 5.97673), Intervalos.Intervalo(0.0236567, 0.047286), Intervalos.Intervalo(5.97673, 5.98838), Intervalos.Intervalo(0.0118434, 0.0236567), Intervalos.Intervalo(5.98838, 5.99419), Intervalos.Intervalo(0.00593332, 0.0118434), Intervalos.Intervalo(5.99419, 5.9971), Intervalos.Intervalo(0.00296759, 0.00593332), Intervalos.Intervalo(5.9971, 5.99855), Intervalos.Intervalo(0.00148416, 0.00296759), Intervalos.Intervalo(5.99855, 5.99928), Intervalos.Intervalo(0.000743215, 0.00148416), Intervalos.Intervalo(5.99928, 5.99964), Intervalos.Intervalo(0.000372101, 0.000743215), Intervalos.Intervalo(5.99964, 5.99982), Intervalos.Intervalo(0.000186387, 0.000372101), Intervalos.Intervalo(5.99982, 5.99991), Intervalos.Intervalo(9.32925e-5, 0.000186387), Intervalos.Intervalo(5.99991, 5.99995), Intervalos.Intervalo(4.66957e-5, 9.32925e-5), Intervalos.Intervalo(5.99995, 5.99998), Intervalos.Intervalo(2.3382e-5, 4.66957e-5), Intervalos.Intervalo(5.99998, 5.99999), Intervalos.Intervalo(1.17105e-5, 2.3382e-5), Intervalos.Intervalo(5.99999, 5.99999), Intervalos.Intervalo(5.86233e-6, 1.17105e-5), Intervalos.Intervalo(5.99999, 6.0), Intervalos.Intervalo(2.93377e-6, 5.86233e-6), Intervalos.Intervalo(6.0, 6.0), Intervalos.Intervalo(1.46788e-6, 2.93377e-6), Intervalos.Intervalo(6.0, 6.0), Intervalos.Intervalo(7.35144e-7, 1.46788e-6), Intervalos.Intervalo(6.0, 6.0), Intervalos.Intervalo(3.67709e-7, 7.35144e-7), Intervalos.Intervalo(6.0, 6.0), Intervalos.Intervalo(1.84113e-7, 3.67709e-7), Intervalos.Intervalo(6.0, 6.0), Intervalos.Intervalo(9.21621e-8, 1.84113e-7), Intervalos.Intervalo(6.0, 6.0), Intervalos.Intervalo(4.61125e-8, 9.21621e-8), Intervalos.Intervalo(6.0, 6.0), Intervalos.Intervalo(2.309e-8, 4.61125e-8), Intervalos.Intervalo(6.0, 6.0), Intervalos.Intervalo(1.15559e-8, 2.309e-8), Intervalos.Intervalo(6.0, 6.0), Intervalos.Intervalo(5.78372e-9, 1.15559e-8), Intervalos.Intervalo(6.0, 6.0), Intervalos.Intervalo(2.89573e-9, 5.78372e-9), Intervalos.Intervalo(6.0, 6.0), Intervalos.Intervalo(1.45007e-9, 2.89573e-9), Intervalos.Intervalo(6.0, 6.0), Intervalos.Intervalo(7.25281e-10, 1.45007e-9), Intervalos.Intervalo(6.0, 6.0), Intervalos.Intervalo(3.63238e-10, 7.25281e-10), Intervalos.Intervalo(6.0, 6.0), Intervalos.Intervalo(1.81786e-10, 3.63238e-10), Intervalos.Intervalo(6.0, 6.0), Intervalos.Intervalo(9.10717e-11, 1.81786e-10), Intervalos.Intervalo(6.0, 6.0), Intervalos.Intervalo(4.56199e-11, 9.10717e-11), Intervalos.Intervalo(6.0, 6.0), Intervalos.Intervalo(2.28334e-11, 4.56199e-11), Intervalos.Intervalo(6.0, 6.0), Intervalos.Intervalo(1.14245e-11, 2.28334e-11), Intervalos.Intervalo(6.0, 6.0), Intervalos.Intervalo(0.0, 5.72001e-12), Intervalos.Intervalo(5.72001e-12, 1.14245e-11), Intervalos.Intervalo(6.0, 6.0), Intervalos.Intervalo(6.0, 6.0)])\n"
     ]
    },
    {
     "name": "stdout",
     "output_type": "stream",
     "text": [
      "(uniqueRoot(X1[i], X0), X1[i], X0) = (-1, Intervalos.Intervalo(0.0, 5.720013424171367e-12), Intervalos.Intervalo(0.0, 6.0))\n",
      "Xbis = Intervalos.Intervalo[Intervalos.Intervalo(0.0, 2.86267e-12), Intervalos.Intervalo(2.86267e-12, 5.72001e-12)]\n",
      "(\" Antes \", X1) = (\" Antes \", Intervalos.Intervalo[Intervalos.Intervalo(3.00002, 4.50148), Intervalos.Intervalo(1.50244, 3.00451), Intervalos.Intervalo(4.50148, 5.25082), Intervalos.Intervalo(0.752677, 1.50244), Intervalos.Intervalo(5.25082, 5.62608), Intervalos.Intervalo(0.376723, 0.752677), Intervalos.Intervalo(5.62608, 5.8134), Intervalos.Intervalo(0.188552, 0.376723), Intervalos.Intervalo(5.8134, 5.90676), Intervalos.Intervalo(0.0944598, 0.188552), Intervalos.Intervalo(5.90676, 5.95343), Intervalos.Intervalo(0.047286, 0.0944598), Intervalos.Intervalo(5.95343, 5.97673), Intervalos.Intervalo(0.0236567, 0.047286), Intervalos.Intervalo(5.97673, 5.98838), Intervalos.Intervalo(0.0118434, 0.0236567), Intervalos.Intervalo(5.98838, 5.99419), Intervalos.Intervalo(0.00593332, 0.0118434), Intervalos.Intervalo(5.99419, 5.9971), Intervalos.Intervalo(0.00296759, 0.00593332), Intervalos.Intervalo(5.9971, 5.99855), Intervalos.Intervalo(0.00148416, 0.00296759), Intervalos.Intervalo(5.99855, 5.99928), Intervalos.Intervalo(0.000743215, 0.00148416), Intervalos.Intervalo(5.99928, 5.99964), Intervalos.Intervalo(0.000372101, 0.000743215), Intervalos.Intervalo(5.99964, 5.99982), Intervalos.Intervalo(0.000186387, 0.000372101), Intervalos.Intervalo(5.99982, 5.99991), Intervalos.Intervalo(9.32925e-5, 0.000186387), Intervalos.Intervalo(5.99991, 5.99995), Intervalos.Intervalo(4.66957e-5, 9.32925e-5), Intervalos.Intervalo(5.99995, 5.99998), Intervalos.Intervalo(2.3382e-5, 4.66957e-5), Intervalos.Intervalo(5.99998, 5.99999), Intervalos.Intervalo(1.17105e-5, 2.3382e-5), Intervalos.Intervalo(5.99999, 5.99999), Intervalos.Intervalo(5.86233e-6, 1.17105e-5), Intervalos.Intervalo(5.99999, 6.0), Intervalos.Intervalo(2.93377e-6, 5.86233e-6), Intervalos.Intervalo(6.0, 6.0), Intervalos.Intervalo(1.46788e-6, 2.93377e-6), Intervalos.Intervalo(6.0, 6.0), Intervalos.Intervalo(7.35144e-7, 1.46788e-6), Intervalos.Intervalo(6.0, 6.0), Intervalos.Intervalo(3.67709e-7, 7.35144e-7), Intervalos.Intervalo(6.0, 6.0), Intervalos.Intervalo(1.84113e-7, 3.67709e-7), Intervalos.Intervalo(6.0, 6.0), Intervalos.Intervalo(9.21621e-8, 1.84113e-7), Intervalos.Intervalo(6.0, 6.0), Intervalos.Intervalo(4.61125e-8, 9.21621e-8), Intervalos.Intervalo(6.0, 6.0), Intervalos.Intervalo(2.309e-8, 4.61125e-8), Intervalos.Intervalo(6.0, 6.0), Intervalos.Intervalo(1.15559e-8, 2.309e-8), Intervalos.Intervalo(6.0, 6.0), Intervalos.Intervalo(5.78372e-9, 1.15559e-8), Intervalos.Intervalo(6.0, 6.0), Intervalos.Intervalo(2.89573e-9, 5.78372e-9), Intervalos.Intervalo(6.0, 6.0), Intervalos.Intervalo(1.45007e-9, 2.89573e-9), Intervalos.Intervalo(6.0, 6.0), Intervalos.Intervalo(7.25281e-10, 1.45007e-9), Intervalos.Intervalo(6.0, 6.0), Intervalos.Intervalo(3.63238e-10, 7.25281e-10), Intervalos.Intervalo(6.0, 6.0), Intervalos.Intervalo(1.81786e-10, 3.63238e-10), Intervalos.Intervalo(6.0, 6.0), Intervalos.Intervalo(9.10717e-11, 1.81786e-10), Intervalos.Intervalo(6.0, 6.0), Intervalos.Intervalo(4.56199e-11, 9.10717e-11), Intervalos.Intervalo(6.0, 6.0), Intervalos.Intervalo(2.28334e-11, 4.56199e-11), Intervalos.Intervalo(6.0, 6.0), Intervalos.Intervalo(1.14245e-11, 2.28334e-11), Intervalos.Intervalo(6.0, 6.0), Intervalos.Intervalo(5.72001e-12, 1.14245e-11), Intervalos.Intervalo(6.0, 6.0), Intervalos.Intervalo(6.0, 6.0)])\n",
      "(\" Después \", X1) = (\" Después \", Intervalos.Intervalo[Intervalos.Intervalo(3.00002, 4.50148), Intervalos.Intervalo(1.50244, 3.00451), Intervalos.Intervalo(4.50148, 5.25082), Intervalos.Intervalo(0.752677, 1.50244), Intervalos.Intervalo(5.25082, 5.62608), Intervalos.Intervalo(0.376723, 0.752677), Intervalos.Intervalo(5.62608, 5.8134), Intervalos.Intervalo(0.188552, 0.376723), Intervalos.Intervalo(5.8134, 5.90676), Intervalos.Intervalo(0.0944598, 0.188552), Intervalos.Intervalo(5.90676, 5.95343), Intervalos.Intervalo(0.047286, 0.0944598), Intervalos.Intervalo(5.95343, 5.97673), Intervalos.Intervalo(0.0236567, 0.047286), Intervalos.Intervalo(5.97673, 5.98838), Intervalos.Intervalo(0.0118434, 0.0236567), Intervalos.Intervalo(5.98838, 5.99419), Intervalos.Intervalo(0.00593332, 0.0118434), Intervalos.Intervalo(5.99419, 5.9971), Intervalos.Intervalo(0.00296759, 0.00593332), Intervalos.Intervalo(5.9971, 5.99855), Intervalos.Intervalo(0.00148416, 0.00296759), Intervalos.Intervalo(5.99855, 5.99928), Intervalos.Intervalo(0.000743215, 0.00148416), Intervalos.Intervalo(5.99928, 5.99964), Intervalos.Intervalo(0.000372101, 0.000743215), Intervalos.Intervalo(5.99964, 5.99982), Intervalos.Intervalo(0.000186387, 0.000372101), Intervalos.Intervalo(5.99982, 5.99991), Intervalos.Intervalo(9.32925e-5, 0.000186387), Intervalos.Intervalo(5.99991, 5.99995), Intervalos.Intervalo(4.66957e-5, 9.32925e-5), Intervalos.Intervalo(5.99995, 5.99998), Intervalos.Intervalo(2.3382e-5, 4.66957e-5), Intervalos.Intervalo(5.99998, 5.99999), Intervalos.Intervalo(1.17105e-5, 2.3382e-5), Intervalos.Intervalo(5.99999, 5.99999), Intervalos.Intervalo(5.86233e-6, 1.17105e-5), Intervalos.Intervalo(5.99999, 6.0), Intervalos.Intervalo(2.93377e-6, 5.86233e-6), Intervalos.Intervalo(6.0, 6.0), Intervalos.Intervalo(1.46788e-6, 2.93377e-6), Intervalos.Intervalo(6.0, 6.0), Intervalos.Intervalo(7.35144e-7, 1.46788e-6), Intervalos.Intervalo(6.0, 6.0), Intervalos.Intervalo(3.67709e-7, 7.35144e-7), Intervalos.Intervalo(6.0, 6.0), Intervalos.Intervalo(1.84113e-7, 3.67709e-7), Intervalos.Intervalo(6.0, 6.0), Intervalos.Intervalo(9.21621e-8, 1.84113e-7), Intervalos.Intervalo(6.0, 6.0), Intervalos.Intervalo(4.61125e-8, 9.21621e-8), Intervalos.Intervalo(6.0, 6.0), Intervalos.Intervalo(2.309e-8, 4.61125e-8), Intervalos.Intervalo(6.0, 6.0), Intervalos.Intervalo(1.15559e-8, 2.309e-8), Intervalos.Intervalo(6.0, 6.0), Intervalos.Intervalo(5.78372e-9, 1.15559e-8), Intervalos.Intervalo(6.0, 6.0), Intervalos.Intervalo(2.89573e-9, 5.78372e-9), Intervalos.Intervalo(6.0, 6.0), Intervalos.Intervalo(1.45007e-9, 2.89573e-9), Intervalos.Intervalo(6.0, 6.0), Intervalos.Intervalo(7.25281e-10, 1.45007e-9), Intervalos.Intervalo(6.0, 6.0), Intervalos.Intervalo(3.63238e-10, 7.25281e-10), Intervalos.Intervalo(6.0, 6.0), Intervalos.Intervalo(1.81786e-10, 3.63238e-10), Intervalos.Intervalo(6.0, 6.0), Intervalos.Intervalo(9.10717e-11, 1.81786e-10), Intervalos.Intervalo(6.0, 6.0), Intervalos.Intervalo(4.56199e-11, 9.10717e-11), Intervalos.Intervalo(6.0, 6.0), Intervalos.Intervalo(2.28334e-11, 4.56199e-11), Intervalos.Intervalo(6.0, 6.0), Intervalos.Intervalo(1.14245e-11, 2.28334e-11), Intervalos.Intervalo(6.0, 6.0), Intervalos.Intervalo(5.72001e-12, 1.14245e-11), Intervalos.Intervalo(6.0, 6.0), Intervalos.Intervalo(6.0, 6.0), Intervalos.Intervalo(0.0, 2.86267e-12), Intervalos.Intervalo(2.86267e-12, 5.72001e-12)])\n",
      "(uniqueRoot(X1[i], X0), X1[i], X0) = (1, Intervalos.Intervalo(5.720013424171367e-12, 1.1424479132353212e-11), Intervalos.Intervalo(0.0, 6.0))\n",
      "(uniqueRoot(X1[i], X0), X1[i], X0) = (1, Intervalos.Intervalo(5.999999999994751, 5.99999999999738), Intervalos.Intervalo(0.0, 6.0))\n",
      "(uniqueRoot(X1[i], X0), X1[i], X0) = (-1, Intervalos.Intervalo(5.99999999999738, 6.0), Intervalos.Intervalo(0.0, 6.0))\n",
      "Xbis = Intervalos.Intervalo[Intervalos.Intervalo(6.0, 6.0), Intervalos.Intervalo(6.0, 6.0)]\n"
     ]
    },
    {
     "name": "stdout",
     "output_type": "stream",
     "text": [
      "(\" Antes \", X1) = (\" Antes \", Intervalos.Intervalo[Intervalos.Intervalo(3.00002, 4.50148), Intervalos.Intervalo(1.50244, 3.00451), Intervalos.Intervalo(4.50148, 5.25082), Intervalos.Intervalo(0.752677, 1.50244), Intervalos.Intervalo(5.25082, 5.62608), Intervalos.Intervalo(0.376723, 0.752677), Intervalos.Intervalo(5.62608, 5.8134), Intervalos.Intervalo(0.188552, 0.376723), Intervalos.Intervalo(5.8134, 5.90676), Intervalos.Intervalo(0.0944598, 0.188552), Intervalos.Intervalo(5.90676, 5.95343), Intervalos.Intervalo(0.047286, 0.0944598), Intervalos.Intervalo(5.95343, 5.97673), Intervalos.Intervalo(0.0236567, 0.047286), Intervalos.Intervalo(5.97673, 5.98838), Intervalos.Intervalo(0.0118434, 0.0236567), Intervalos.Intervalo(5.98838, 5.99419), Intervalos.Intervalo(0.00593332, 0.0118434), Intervalos.Intervalo(5.99419, 5.9971), Intervalos.Intervalo(0.00296759, 0.00593332), Intervalos.Intervalo(5.9971, 5.99855), Intervalos.Intervalo(0.00148416, 0.00296759), Intervalos.Intervalo(5.99855, 5.99928), Intervalos.Intervalo(0.000743215, 0.00148416), Intervalos.Intervalo(5.99928, 5.99964), Intervalos.Intervalo(0.000372101, 0.000743215), Intervalos.Intervalo(5.99964, 5.99982), Intervalos.Intervalo(0.000186387, 0.000372101), Intervalos.Intervalo(5.99982, 5.99991), Intervalos.Intervalo(9.32925e-5, 0.000186387), Intervalos.Intervalo(5.99991, 5.99995), Intervalos.Intervalo(4.66957e-5, 9.32925e-5), Intervalos.Intervalo(5.99995, 5.99998), Intervalos.Intervalo(2.3382e-5, 4.66957e-5), Intervalos.Intervalo(5.99998, 5.99999), Intervalos.Intervalo(1.17105e-5, 2.3382e-5), Intervalos.Intervalo(5.99999, 5.99999), Intervalos.Intervalo(5.86233e-6, 1.17105e-5), Intervalos.Intervalo(5.99999, 6.0), Intervalos.Intervalo(2.93377e-6, 5.86233e-6), Intervalos.Intervalo(6.0, 6.0), Intervalos.Intervalo(1.46788e-6, 2.93377e-6), Intervalos.Intervalo(6.0, 6.0), Intervalos.Intervalo(7.35144e-7, 1.46788e-6), Intervalos.Intervalo(6.0, 6.0), Intervalos.Intervalo(3.67709e-7, 7.35144e-7), Intervalos.Intervalo(6.0, 6.0), Intervalos.Intervalo(1.84113e-7, 3.67709e-7), Intervalos.Intervalo(6.0, 6.0), Intervalos.Intervalo(9.21621e-8, 1.84113e-7), Intervalos.Intervalo(6.0, 6.0), Intervalos.Intervalo(4.61125e-8, 9.21621e-8), Intervalos.Intervalo(6.0, 6.0), Intervalos.Intervalo(2.309e-8, 4.61125e-8), Intervalos.Intervalo(6.0, 6.0), Intervalos.Intervalo(1.15559e-8, 2.309e-8), Intervalos.Intervalo(6.0, 6.0), Intervalos.Intervalo(5.78372e-9, 1.15559e-8), Intervalos.Intervalo(6.0, 6.0), Intervalos.Intervalo(2.89573e-9, 5.78372e-9), Intervalos.Intervalo(6.0, 6.0), Intervalos.Intervalo(1.45007e-9, 2.89573e-9), Intervalos.Intervalo(6.0, 6.0), Intervalos.Intervalo(7.25281e-10, 1.45007e-9), Intervalos.Intervalo(6.0, 6.0), Intervalos.Intervalo(3.63238e-10, 7.25281e-10), Intervalos.Intervalo(6.0, 6.0), Intervalos.Intervalo(1.81786e-10, 3.63238e-10), Intervalos.Intervalo(6.0, 6.0), Intervalos.Intervalo(9.10717e-11, 1.81786e-10), Intervalos.Intervalo(6.0, 6.0), Intervalos.Intervalo(4.56199e-11, 9.10717e-11), Intervalos.Intervalo(6.0, 6.0), Intervalos.Intervalo(2.28334e-11, 4.56199e-11), Intervalos.Intervalo(6.0, 6.0), Intervalos.Intervalo(1.14245e-11, 2.28334e-11), Intervalos.Intervalo(6.0, 6.0), Intervalos.Intervalo(5.72001e-12, 1.14245e-11), Intervalos.Intervalo(6.0, 6.0), Intervalos.Intervalo(0.0, 2.86267e-12), Intervalos.Intervalo(2.86267e-12, 5.72001e-12)])\n",
      "(\" Después \", X1) = (\" Después \", Intervalos.Intervalo[Intervalos.Intervalo(3.00002, 4.50148), Intervalos.Intervalo(1.50244, 3.00451), Intervalos.Intervalo(4.50148, 5.25082), Intervalos.Intervalo(0.752677, 1.50244), Intervalos.Intervalo(5.25082, 5.62608), Intervalos.Intervalo(0.376723, 0.752677), Intervalos.Intervalo(5.62608, 5.8134), Intervalos.Intervalo(0.188552, 0.376723), Intervalos.Intervalo(5.8134, 5.90676), Intervalos.Intervalo(0.0944598, 0.188552), Intervalos.Intervalo(5.90676, 5.95343), Intervalos.Intervalo(0.047286, 0.0944598), Intervalos.Intervalo(5.95343, 5.97673), Intervalos.Intervalo(0.0236567, 0.047286), Intervalos.Intervalo(5.97673, 5.98838), Intervalos.Intervalo(0.0118434, 0.0236567), Intervalos.Intervalo(5.98838, 5.99419), Intervalos.Intervalo(0.00593332, 0.0118434), Intervalos.Intervalo(5.99419, 5.9971), Intervalos.Intervalo(0.00296759, 0.00593332), Intervalos.Intervalo(5.9971, 5.99855), Intervalos.Intervalo(0.00148416, 0.00296759), Intervalos.Intervalo(5.99855, 5.99928), Intervalos.Intervalo(0.000743215, 0.00148416), Intervalos.Intervalo(5.99928, 5.99964), Intervalos.Intervalo(0.000372101, 0.000743215), Intervalos.Intervalo(5.99964, 5.99982), Intervalos.Intervalo(0.000186387, 0.000372101), Intervalos.Intervalo(5.99982, 5.99991), Intervalos.Intervalo(9.32925e-5, 0.000186387), Intervalos.Intervalo(5.99991, 5.99995), Intervalos.Intervalo(4.66957e-5, 9.32925e-5), Intervalos.Intervalo(5.99995, 5.99998), Intervalos.Intervalo(2.3382e-5, 4.66957e-5), Intervalos.Intervalo(5.99998, 5.99999), Intervalos.Intervalo(1.17105e-5, 2.3382e-5), Intervalos.Intervalo(5.99999, 5.99999), Intervalos.Intervalo(5.86233e-6, 1.17105e-5), Intervalos.Intervalo(5.99999, 6.0), Intervalos.Intervalo(2.93377e-6, 5.86233e-6), Intervalos.Intervalo(6.0, 6.0), Intervalos.Intervalo(1.46788e-6, 2.93377e-6), Intervalos.Intervalo(6.0, 6.0), Intervalos.Intervalo(7.35144e-7, 1.46788e-6), Intervalos.Intervalo(6.0, 6.0), Intervalos.Intervalo(3.67709e-7, 7.35144e-7), Intervalos.Intervalo(6.0, 6.0), Intervalos.Intervalo(1.84113e-7, 3.67709e-7), Intervalos.Intervalo(6.0, 6.0), Intervalos.Intervalo(9.21621e-8, 1.84113e-7), Intervalos.Intervalo(6.0, 6.0), Intervalos.Intervalo(4.61125e-8, 9.21621e-8), Intervalos.Intervalo(6.0, 6.0), Intervalos.Intervalo(2.309e-8, 4.61125e-8), Intervalos.Intervalo(6.0, 6.0), Intervalos.Intervalo(1.15559e-8, 2.309e-8), Intervalos.Intervalo(6.0, 6.0), Intervalos.Intervalo(5.78372e-9, 1.15559e-8), Intervalos.Intervalo(6.0, 6.0), Intervalos.Intervalo(2.89573e-9, 5.78372e-9), Intervalos.Intervalo(6.0, 6.0), Intervalos.Intervalo(1.45007e-9, 2.89573e-9), Intervalos.Intervalo(6.0, 6.0), Intervalos.Intervalo(7.25281e-10, 1.45007e-9), Intervalos.Intervalo(6.0, 6.0), Intervalos.Intervalo(3.63238e-10, 7.25281e-10), Intervalos.Intervalo(6.0, 6.0), Intervalos.Intervalo(1.81786e-10, 3.63238e-10), Intervalos.Intervalo(6.0, 6.0), Intervalos.Intervalo(9.10717e-11, 1.81786e-10), Intervalos.Intervalo(6.0, 6.0), Intervalos.Intervalo(4.56199e-11, 9.10717e-11), Intervalos.Intervalo(6.0, 6.0), Intervalos.Intervalo(2.28334e-11, 4.56199e-11), Intervalos.Intervalo(6.0, 6.0), Intervalos.Intervalo(1.14245e-11, 2.28334e-11), Intervalos.Intervalo(6.0, 6.0), Intervalos.Intervalo(5.72001e-12, 1.14245e-11), Intervalos.Intervalo(6.0, 6.0), Intervalos.Intervalo(0.0, 2.86267e-12), Intervalos.Intervalo(2.86267e-12, 5.72001e-12), Intervalos.Intervalo(6.0, 6.0), Intervalos.Intervalo(6.0, 6.0)])\n",
      "(uniqueRoot(X1[i], X0), X1[i], X0) = (-1, Intervalos.Intervalo(0.0, 2.8626672529697153e-12), Intervalos.Intervalo(0.0, 6.0))\n",
      "Xbis = Intervalos.Intervalo[Intervalos.Intervalo(0.0, 1.43136e-12), Intervalos.Intervalo(1.43136e-12, 2.86267e-12)]\n",
      "(\" Antes \", X1) = (\" Antes \", Intervalos.Intervalo[Intervalos.Intervalo(3.00002, 4.50148), Intervalos.Intervalo(1.50244, 3.00451), Intervalos.Intervalo(4.50148, 5.25082), Intervalos.Intervalo(0.752677, 1.50244), Intervalos.Intervalo(5.25082, 5.62608), Intervalos.Intervalo(0.376723, 0.752677), Intervalos.Intervalo(5.62608, 5.8134), Intervalos.Intervalo(0.188552, 0.376723), Intervalos.Intervalo(5.8134, 5.90676), Intervalos.Intervalo(0.0944598, 0.188552), Intervalos.Intervalo(5.90676, 5.95343), Intervalos.Intervalo(0.047286, 0.0944598), Intervalos.Intervalo(5.95343, 5.97673), Intervalos.Intervalo(0.0236567, 0.047286), Intervalos.Intervalo(5.97673, 5.98838), Intervalos.Intervalo(0.0118434, 0.0236567), Intervalos.Intervalo(5.98838, 5.99419), Intervalos.Intervalo(0.00593332, 0.0118434), Intervalos.Intervalo(5.99419, 5.9971), Intervalos.Intervalo(0.00296759, 0.00593332), Intervalos.Intervalo(5.9971, 5.99855), Intervalos.Intervalo(0.00148416, 0.00296759), Intervalos.Intervalo(5.99855, 5.99928), Intervalos.Intervalo(0.000743215, 0.00148416), Intervalos.Intervalo(5.99928, 5.99964), Intervalos.Intervalo(0.000372101, 0.000743215), Intervalos.Intervalo(5.99964, 5.99982), Intervalos.Intervalo(0.000186387, 0.000372101), Intervalos.Intervalo(5.99982, 5.99991), Intervalos.Intervalo(9.32925e-5, 0.000186387), Intervalos.Intervalo(5.99991, 5.99995), Intervalos.Intervalo(4.66957e-5, 9.32925e-5), Intervalos.Intervalo(5.99995, 5.99998), Intervalos.Intervalo(2.3382e-5, 4.66957e-5), Intervalos.Intervalo(5.99998, 5.99999), Intervalos.Intervalo(1.17105e-5, 2.3382e-5), Intervalos.Intervalo(5.99999, 5.99999), Intervalos.Intervalo(5.86233e-6, 1.17105e-5), Intervalos.Intervalo(5.99999, 6.0), Intervalos.Intervalo(2.93377e-6, 5.86233e-6), Intervalos.Intervalo(6.0, 6.0), Intervalos.Intervalo(1.46788e-6, 2.93377e-6), Intervalos.Intervalo(6.0, 6.0), Intervalos.Intervalo(7.35144e-7, 1.46788e-6), Intervalos.Intervalo(6.0, 6.0), Intervalos.Intervalo(3.67709e-7, 7.35144e-7), Intervalos.Intervalo(6.0, 6.0), Intervalos.Intervalo(1.84113e-7, 3.67709e-7), Intervalos.Intervalo(6.0, 6.0), Intervalos.Intervalo(9.21621e-8, 1.84113e-7), Intervalos.Intervalo(6.0, 6.0), Intervalos.Intervalo(4.61125e-8, 9.21621e-8), Intervalos.Intervalo(6.0, 6.0), Intervalos.Intervalo(2.309e-8, 4.61125e-8), Intervalos.Intervalo(6.0, 6.0), Intervalos.Intervalo(1.15559e-8, 2.309e-8), Intervalos.Intervalo(6.0, 6.0), Intervalos.Intervalo(5.78372e-9, 1.15559e-8), Intervalos.Intervalo(6.0, 6.0), Intervalos.Intervalo(2.89573e-9, 5.78372e-9), Intervalos.Intervalo(6.0, 6.0), Intervalos.Intervalo(1.45007e-9, 2.89573e-9), Intervalos.Intervalo(6.0, 6.0), Intervalos.Intervalo(7.25281e-10, 1.45007e-9), Intervalos.Intervalo(6.0, 6.0), Intervalos.Intervalo(3.63238e-10, 7.25281e-10), Intervalos.Intervalo(6.0, 6.0), Intervalos.Intervalo(1.81786e-10, 3.63238e-10), Intervalos.Intervalo(6.0, 6.0), Intervalos.Intervalo(9.10717e-11, 1.81786e-10), Intervalos.Intervalo(6.0, 6.0), Intervalos.Intervalo(4.56199e-11, 9.10717e-11), Intervalos.Intervalo(6.0, 6.0), Intervalos.Intervalo(2.28334e-11, 4.56199e-11), Intervalos.Intervalo(6.0, 6.0), Intervalos.Intervalo(1.14245e-11, 2.28334e-11), Intervalos.Intervalo(6.0, 6.0), Intervalos.Intervalo(5.72001e-12, 1.14245e-11), Intervalos.Intervalo(6.0, 6.0), Intervalos.Intervalo(2.86267e-12, 5.72001e-12), Intervalos.Intervalo(6.0, 6.0), Intervalos.Intervalo(6.0, 6.0)])\n",
      "(\" Después \", X1) = (\" Después \", Intervalos.Intervalo[Intervalos.Intervalo(3.00002, 4.50148), Intervalos.Intervalo(1.50244, 3.00451), Intervalos.Intervalo(4.50148, 5.25082), Intervalos.Intervalo(0.752677, 1.50244), Intervalos.Intervalo(5.25082, 5.62608), Intervalos.Intervalo(0.376723, 0.752677), Intervalos.Intervalo(5.62608, 5.8134), Intervalos.Intervalo(0.188552, 0.376723), Intervalos.Intervalo(5.8134, 5.90676), Intervalos.Intervalo(0.0944598, 0.188552), Intervalos.Intervalo(5.90676, 5.95343), Intervalos.Intervalo(0.047286, 0.0944598), Intervalos.Intervalo(5.95343, 5.97673), Intervalos.Intervalo(0.0236567, 0.047286), Intervalos.Intervalo(5.97673, 5.98838), Intervalos.Intervalo(0.0118434, 0.0236567), Intervalos.Intervalo(5.98838, 5.99419), Intervalos.Intervalo(0.00593332, 0.0118434), Intervalos.Intervalo(5.99419, 5.9971), Intervalos.Intervalo(0.00296759, 0.00593332), Intervalos.Intervalo(5.9971, 5.99855), Intervalos.Intervalo(0.00148416, 0.00296759), Intervalos.Intervalo(5.99855, 5.99928), Intervalos.Intervalo(0.000743215, 0.00148416), Intervalos.Intervalo(5.99928, 5.99964), Intervalos.Intervalo(0.000372101, 0.000743215), Intervalos.Intervalo(5.99964, 5.99982), Intervalos.Intervalo(0.000186387, 0.000372101), Intervalos.Intervalo(5.99982, 5.99991), Intervalos.Intervalo(9.32925e-5, 0.000186387), Intervalos.Intervalo(5.99991, 5.99995), Intervalos.Intervalo(4.66957e-5, 9.32925e-5), Intervalos.Intervalo(5.99995, 5.99998), Intervalos.Intervalo(2.3382e-5, 4.66957e-5), Intervalos.Intervalo(5.99998, 5.99999), Intervalos.Intervalo(1.17105e-5, 2.3382e-5), Intervalos.Intervalo(5.99999, 5.99999), Intervalos.Intervalo(5.86233e-6, 1.17105e-5), Intervalos.Intervalo(5.99999, 6.0), Intervalos.Intervalo(2.93377e-6, 5.86233e-6), Intervalos.Intervalo(6.0, 6.0), Intervalos.Intervalo(1.46788e-6, 2.93377e-6), Intervalos.Intervalo(6.0, 6.0), Intervalos.Intervalo(7.35144e-7, 1.46788e-6), Intervalos.Intervalo(6.0, 6.0), Intervalos.Intervalo(3.67709e-7, 7.35144e-7), Intervalos.Intervalo(6.0, 6.0), Intervalos.Intervalo(1.84113e-7, 3.67709e-7), Intervalos.Intervalo(6.0, 6.0), Intervalos.Intervalo(9.21621e-8, 1.84113e-7), Intervalos.Intervalo(6.0, 6.0), Intervalos.Intervalo(4.61125e-8, 9.21621e-8), Intervalos.Intervalo(6.0, 6.0), Intervalos.Intervalo(2.309e-8, 4.61125e-8), Intervalos.Intervalo(6.0, 6.0), Intervalos.Intervalo(1.15559e-8, 2.309e-8), Intervalos.Intervalo(6.0, 6.0), Intervalos.Intervalo(5.78372e-9, 1.15559e-8), Intervalos.Intervalo(6.0, 6.0), Intervalos.Intervalo(2.89573e-9, 5.78372e-9), Intervalos.Intervalo(6.0, 6.0), Intervalos.Intervalo(1.45007e-9, 2.89573e-9), Intervalos.Intervalo(6.0, 6.0), Intervalos.Intervalo(7.25281e-10, 1.45007e-9), Intervalos.Intervalo(6.0, 6.0), Intervalos.Intervalo(3.63238e-10, 7.25281e-10), Intervalos.Intervalo(6.0, 6.0), Intervalos.Intervalo(1.81786e-10, 3.63238e-10), Intervalos.Intervalo(6.0, 6.0), Intervalos.Intervalo(9.10717e-11, 1.81786e-10), Intervalos.Intervalo(6.0, 6.0), Intervalos.Intervalo(4.56199e-11, 9.10717e-11), Intervalos.Intervalo(6.0, 6.0), Intervalos.Intervalo(2.28334e-11, 4.56199e-11), Intervalos.Intervalo(6.0, 6.0), Intervalos.Intervalo(1.14245e-11, 2.28334e-11), Intervalos.Intervalo(6.0, 6.0), Intervalos.Intervalo(5.72001e-12, 1.14245e-11), Intervalos.Intervalo(6.0, 6.0), Intervalos.Intervalo(2.86267e-12, 5.72001e-12), Intervalos.Intervalo(6.0, 6.0), Intervalos.Intervalo(6.0, 6.0), Intervalos.Intervalo(0.0, 1.43136e-12), Intervalos.Intervalo(1.43136e-12, 2.86267e-12)])\n"
     ]
    },
    {
     "name": "stdout",
     "output_type": "stream",
     "text": [
      "(uniqueRoot(X1[i], X0), X1[i], X0) = (1, Intervalos.Intervalo(2.8626672529697153e-12, 5.720013424171367e-12), Intervalos.Intervalo(0.0, 6.0))\n",
      "(uniqueRoot(X1[i], X0), X1[i], X0) = (1, Intervalos.Intervalo(5.99999999999738, 5.999999999998693), Intervalos.Intervalo(0.0, 6.0))\n",
      "(uniqueRoot(X1[i], X0), X1[i], X0) = (-1, Intervalos.Intervalo(5.999999999998693, 6.0), Intervalos.Intervalo(0.0, 6.0))\n",
      "Xbis = Intervalos.Intervalo[Intervalos.Intervalo(6.0, 6.0), Intervalos.Intervalo(6.0, 6.0)]\n",
      "(\" Antes \", X1) = (\" Antes \", Intervalos.Intervalo[Intervalos.Intervalo(3.00002, 4.50148), Intervalos.Intervalo(1.50244, 3.00451), Intervalos.Intervalo(4.50148, 5.25082), Intervalos.Intervalo(0.752677, 1.50244), Intervalos.Intervalo(5.25082, 5.62608), Intervalos.Intervalo(0.376723, 0.752677), Intervalos.Intervalo(5.62608, 5.8134), Intervalos.Intervalo(0.188552, 0.376723), Intervalos.Intervalo(5.8134, 5.90676), Intervalos.Intervalo(0.0944598, 0.188552), Intervalos.Intervalo(5.90676, 5.95343), Intervalos.Intervalo(0.047286, 0.0944598), Intervalos.Intervalo(5.95343, 5.97673), Intervalos.Intervalo(0.0236567, 0.047286), Intervalos.Intervalo(5.97673, 5.98838), Intervalos.Intervalo(0.0118434, 0.0236567), Intervalos.Intervalo(5.98838, 5.99419), Intervalos.Intervalo(0.00593332, 0.0118434), Intervalos.Intervalo(5.99419, 5.9971), Intervalos.Intervalo(0.00296759, 0.00593332), Intervalos.Intervalo(5.9971, 5.99855), Intervalos.Intervalo(0.00148416, 0.00296759), Intervalos.Intervalo(5.99855, 5.99928), Intervalos.Intervalo(0.000743215, 0.00148416), Intervalos.Intervalo(5.99928, 5.99964), Intervalos.Intervalo(0.000372101, 0.000743215), Intervalos.Intervalo(5.99964, 5.99982), Intervalos.Intervalo(0.000186387, 0.000372101), Intervalos.Intervalo(5.99982, 5.99991), Intervalos.Intervalo(9.32925e-5, 0.000186387), Intervalos.Intervalo(5.99991, 5.99995), Intervalos.Intervalo(4.66957e-5, 9.32925e-5), Intervalos.Intervalo(5.99995, 5.99998), Intervalos.Intervalo(2.3382e-5, 4.66957e-5), Intervalos.Intervalo(5.99998, 5.99999), Intervalos.Intervalo(1.17105e-5, 2.3382e-5), Intervalos.Intervalo(5.99999, 5.99999), Intervalos.Intervalo(5.86233e-6, 1.17105e-5), Intervalos.Intervalo(5.99999, 6.0), Intervalos.Intervalo(2.93377e-6, 5.86233e-6), Intervalos.Intervalo(6.0, 6.0), Intervalos.Intervalo(1.46788e-6, 2.93377e-6), Intervalos.Intervalo(6.0, 6.0), Intervalos.Intervalo(7.35144e-7, 1.46788e-6), Intervalos.Intervalo(6.0, 6.0), Intervalos.Intervalo(3.67709e-7, 7.35144e-7), Intervalos.Intervalo(6.0, 6.0), Intervalos.Intervalo(1.84113e-7, 3.67709e-7), Intervalos.Intervalo(6.0, 6.0), Intervalos.Intervalo(9.21621e-8, 1.84113e-7), Intervalos.Intervalo(6.0, 6.0), Intervalos.Intervalo(4.61125e-8, 9.21621e-8), Intervalos.Intervalo(6.0, 6.0), Intervalos.Intervalo(2.309e-8, 4.61125e-8), Intervalos.Intervalo(6.0, 6.0), Intervalos.Intervalo(1.15559e-8, 2.309e-8), Intervalos.Intervalo(6.0, 6.0), Intervalos.Intervalo(5.78372e-9, 1.15559e-8), Intervalos.Intervalo(6.0, 6.0), Intervalos.Intervalo(2.89573e-9, 5.78372e-9), Intervalos.Intervalo(6.0, 6.0), Intervalos.Intervalo(1.45007e-9, 2.89573e-9), Intervalos.Intervalo(6.0, 6.0), Intervalos.Intervalo(7.25281e-10, 1.45007e-9), Intervalos.Intervalo(6.0, 6.0), Intervalos.Intervalo(3.63238e-10, 7.25281e-10), Intervalos.Intervalo(6.0, 6.0), Intervalos.Intervalo(1.81786e-10, 3.63238e-10), Intervalos.Intervalo(6.0, 6.0), Intervalos.Intervalo(9.10717e-11, 1.81786e-10), Intervalos.Intervalo(6.0, 6.0), Intervalos.Intervalo(4.56199e-11, 9.10717e-11), Intervalos.Intervalo(6.0, 6.0), Intervalos.Intervalo(2.28334e-11, 4.56199e-11), Intervalos.Intervalo(6.0, 6.0), Intervalos.Intervalo(1.14245e-11, 2.28334e-11), Intervalos.Intervalo(6.0, 6.0), Intervalos.Intervalo(5.72001e-12, 1.14245e-11), Intervalos.Intervalo(6.0, 6.0), Intervalos.Intervalo(2.86267e-12, 5.72001e-12), Intervalos.Intervalo(6.0, 6.0), Intervalos.Intervalo(0.0, 1.43136e-12), Intervalos.Intervalo(1.43136e-12, 2.86267e-12)])\n",
      "(\" Después \", X1) = (\" Después \", Intervalos.Intervalo[Intervalos.Intervalo(3.00002, 4.50148), Intervalos.Intervalo(1.50244, 3.00451), Intervalos.Intervalo(4.50148, 5.25082), Intervalos.Intervalo(0.752677, 1.50244), Intervalos.Intervalo(5.25082, 5.62608), Intervalos.Intervalo(0.376723, 0.752677), Intervalos.Intervalo(5.62608, 5.8134), Intervalos.Intervalo(0.188552, 0.376723), Intervalos.Intervalo(5.8134, 5.90676), Intervalos.Intervalo(0.0944598, 0.188552), Intervalos.Intervalo(5.90676, 5.95343), Intervalos.Intervalo(0.047286, 0.0944598), Intervalos.Intervalo(5.95343, 5.97673), Intervalos.Intervalo(0.0236567, 0.047286), Intervalos.Intervalo(5.97673, 5.98838), Intervalos.Intervalo(0.0118434, 0.0236567), Intervalos.Intervalo(5.98838, 5.99419), Intervalos.Intervalo(0.00593332, 0.0118434), Intervalos.Intervalo(5.99419, 5.9971), Intervalos.Intervalo(0.00296759, 0.00593332), Intervalos.Intervalo(5.9971, 5.99855), Intervalos.Intervalo(0.00148416, 0.00296759), Intervalos.Intervalo(5.99855, 5.99928), Intervalos.Intervalo(0.000743215, 0.00148416), Intervalos.Intervalo(5.99928, 5.99964), Intervalos.Intervalo(0.000372101, 0.000743215), Intervalos.Intervalo(5.99964, 5.99982), Intervalos.Intervalo(0.000186387, 0.000372101), Intervalos.Intervalo(5.99982, 5.99991), Intervalos.Intervalo(9.32925e-5, 0.000186387), Intervalos.Intervalo(5.99991, 5.99995), Intervalos.Intervalo(4.66957e-5, 9.32925e-5), Intervalos.Intervalo(5.99995, 5.99998), Intervalos.Intervalo(2.3382e-5, 4.66957e-5), Intervalos.Intervalo(5.99998, 5.99999), Intervalos.Intervalo(1.17105e-5, 2.3382e-5), Intervalos.Intervalo(5.99999, 5.99999), Intervalos.Intervalo(5.86233e-6, 1.17105e-5), Intervalos.Intervalo(5.99999, 6.0), Intervalos.Intervalo(2.93377e-6, 5.86233e-6), Intervalos.Intervalo(6.0, 6.0), Intervalos.Intervalo(1.46788e-6, 2.93377e-6), Intervalos.Intervalo(6.0, 6.0), Intervalos.Intervalo(7.35144e-7, 1.46788e-6), Intervalos.Intervalo(6.0, 6.0), Intervalos.Intervalo(3.67709e-7, 7.35144e-7), Intervalos.Intervalo(6.0, 6.0), Intervalos.Intervalo(1.84113e-7, 3.67709e-7), Intervalos.Intervalo(6.0, 6.0), Intervalos.Intervalo(9.21621e-8, 1.84113e-7), Intervalos.Intervalo(6.0, 6.0), Intervalos.Intervalo(4.61125e-8, 9.21621e-8), Intervalos.Intervalo(6.0, 6.0), Intervalos.Intervalo(2.309e-8, 4.61125e-8), Intervalos.Intervalo(6.0, 6.0), Intervalos.Intervalo(1.15559e-8, 2.309e-8), Intervalos.Intervalo(6.0, 6.0), Intervalos.Intervalo(5.78372e-9, 1.15559e-8), Intervalos.Intervalo(6.0, 6.0), Intervalos.Intervalo(2.89573e-9, 5.78372e-9), Intervalos.Intervalo(6.0, 6.0), Intervalos.Intervalo(1.45007e-9, 2.89573e-9), Intervalos.Intervalo(6.0, 6.0), Intervalos.Intervalo(7.25281e-10, 1.45007e-9), Intervalos.Intervalo(6.0, 6.0), Intervalos.Intervalo(3.63238e-10, 7.25281e-10), Intervalos.Intervalo(6.0, 6.0), Intervalos.Intervalo(1.81786e-10, 3.63238e-10), Intervalos.Intervalo(6.0, 6.0), Intervalos.Intervalo(9.10717e-11, 1.81786e-10), Intervalos.Intervalo(6.0, 6.0), Intervalos.Intervalo(4.56199e-11, 9.10717e-11), Intervalos.Intervalo(6.0, 6.0), Intervalos.Intervalo(2.28334e-11, 4.56199e-11), Intervalos.Intervalo(6.0, 6.0), Intervalos.Intervalo(1.14245e-11, 2.28334e-11), Intervalos.Intervalo(6.0, 6.0), Intervalos.Intervalo(5.72001e-12, 1.14245e-11), Intervalos.Intervalo(6.0, 6.0), Intervalos.Intervalo(2.86267e-12, 5.72001e-12), Intervalos.Intervalo(6.0, 6.0), Intervalos.Intervalo(0.0, 1.43136e-12), Intervalos.Intervalo(1.43136e-12, 2.86267e-12), Intervalos.Intervalo(6.0, 6.0), Intervalos.Intervalo(6.0, 6.0)])\n",
      "(uniqueRoot(X1[i], X0), X1[i], X0) = (-1, Intervalos.Intervalo(0.0, 1.4313558725391695e-12), Intervalos.Intervalo(0.0, 6.0))\n",
      "Xbis = Intervalos.Intervalo[Intervalos.Intervalo(0.0, 7.16186e-13), Intervalos.Intervalo(7.16186e-13, 1.43136e-12)]\n"
     ]
    },
    {
     "name": "stdout",
     "output_type": "stream",
     "text": [
      "(\" Antes \", X1) = (\" Antes \", Intervalos.Intervalo[Intervalos.Intervalo(3.00002, 4.50148), Intervalos.Intervalo(1.50244, 3.00451), Intervalos.Intervalo(4.50148, 5.25082), Intervalos.Intervalo(0.752677, 1.50244), Intervalos.Intervalo(5.25082, 5.62608), Intervalos.Intervalo(0.376723, 0.752677), Intervalos.Intervalo(5.62608, 5.8134), Intervalos.Intervalo(0.188552, 0.376723), Intervalos.Intervalo(5.8134, 5.90676), Intervalos.Intervalo(0.0944598, 0.188552), Intervalos.Intervalo(5.90676, 5.95343), Intervalos.Intervalo(0.047286, 0.0944598), Intervalos.Intervalo(5.95343, 5.97673), Intervalos.Intervalo(0.0236567, 0.047286), Intervalos.Intervalo(5.97673, 5.98838), Intervalos.Intervalo(0.0118434, 0.0236567), Intervalos.Intervalo(5.98838, 5.99419), Intervalos.Intervalo(0.00593332, 0.0118434), Intervalos.Intervalo(5.99419, 5.9971), Intervalos.Intervalo(0.00296759, 0.00593332), Intervalos.Intervalo(5.9971, 5.99855), Intervalos.Intervalo(0.00148416, 0.00296759), Intervalos.Intervalo(5.99855, 5.99928), Intervalos.Intervalo(0.000743215, 0.00148416), Intervalos.Intervalo(5.99928, 5.99964), Intervalos.Intervalo(0.000372101, 0.000743215), Intervalos.Intervalo(5.99964, 5.99982), Intervalos.Intervalo(0.000186387, 0.000372101), Intervalos.Intervalo(5.99982, 5.99991), Intervalos.Intervalo(9.32925e-5, 0.000186387), Intervalos.Intervalo(5.99991, 5.99995), Intervalos.Intervalo(4.66957e-5, 9.32925e-5), Intervalos.Intervalo(5.99995, 5.99998), Intervalos.Intervalo(2.3382e-5, 4.66957e-5), Intervalos.Intervalo(5.99998, 5.99999), Intervalos.Intervalo(1.17105e-5, 2.3382e-5), Intervalos.Intervalo(5.99999, 5.99999), Intervalos.Intervalo(5.86233e-6, 1.17105e-5), Intervalos.Intervalo(5.99999, 6.0), Intervalos.Intervalo(2.93377e-6, 5.86233e-6), Intervalos.Intervalo(6.0, 6.0), Intervalos.Intervalo(1.46788e-6, 2.93377e-6), Intervalos.Intervalo(6.0, 6.0), Intervalos.Intervalo(7.35144e-7, 1.46788e-6), Intervalos.Intervalo(6.0, 6.0), Intervalos.Intervalo(3.67709e-7, 7.35144e-7), Intervalos.Intervalo(6.0, 6.0), Intervalos.Intervalo(1.84113e-7, 3.67709e-7), Intervalos.Intervalo(6.0, 6.0), Intervalos.Intervalo(9.21621e-8, 1.84113e-7), Intervalos.Intervalo(6.0, 6.0), Intervalos.Intervalo(4.61125e-8, 9.21621e-8), Intervalos.Intervalo(6.0, 6.0), Intervalos.Intervalo(2.309e-8, 4.61125e-8), Intervalos.Intervalo(6.0, 6.0), Intervalos.Intervalo(1.15559e-8, 2.309e-8), Intervalos.Intervalo(6.0, 6.0), Intervalos.Intervalo(5.78372e-9, 1.15559e-8), Intervalos.Intervalo(6.0, 6.0), Intervalos.Intervalo(2.89573e-9, 5.78372e-9), Intervalos.Intervalo(6.0, 6.0), Intervalos.Intervalo(1.45007e-9, 2.89573e-9), Intervalos.Intervalo(6.0, 6.0), Intervalos.Intervalo(7.25281e-10, 1.45007e-9), Intervalos.Intervalo(6.0, 6.0), Intervalos.Intervalo(3.63238e-10, 7.25281e-10), Intervalos.Intervalo(6.0, 6.0), Intervalos.Intervalo(1.81786e-10, 3.63238e-10), Intervalos.Intervalo(6.0, 6.0), Intervalos.Intervalo(9.10717e-11, 1.81786e-10), Intervalos.Intervalo(6.0, 6.0), Intervalos.Intervalo(4.56199e-11, 9.10717e-11), Intervalos.Intervalo(6.0, 6.0), Intervalos.Intervalo(2.28334e-11, 4.56199e-11), Intervalos.Intervalo(6.0, 6.0), Intervalos.Intervalo(1.14245e-11, 2.28334e-11), Intervalos.Intervalo(6.0, 6.0), Intervalos.Intervalo(5.72001e-12, 1.14245e-11), Intervalos.Intervalo(6.0, 6.0), Intervalos.Intervalo(2.86267e-12, 5.72001e-12), Intervalos.Intervalo(6.0, 6.0), Intervalos.Intervalo(1.43136e-12, 2.86267e-12), Intervalos.Intervalo(6.0, 6.0), Intervalos.Intervalo(6.0, 6.0)])\n",
      "(\" Después \", X1) = (\" Después \", Intervalos.Intervalo[Intervalos.Intervalo(3.00002, 4.50148), Intervalos.Intervalo(1.50244, 3.00451), Intervalos.Intervalo(4.50148, 5.25082), Intervalos.Intervalo(0.752677, 1.50244), Intervalos.Intervalo(5.25082, 5.62608), Intervalos.Intervalo(0.376723, 0.752677), Intervalos.Intervalo(5.62608, 5.8134), Intervalos.Intervalo(0.188552, 0.376723), Intervalos.Intervalo(5.8134, 5.90676), Intervalos.Intervalo(0.0944598, 0.188552), Intervalos.Intervalo(5.90676, 5.95343), Intervalos.Intervalo(0.047286, 0.0944598), Intervalos.Intervalo(5.95343, 5.97673), Intervalos.Intervalo(0.0236567, 0.047286), Intervalos.Intervalo(5.97673, 5.98838), Intervalos.Intervalo(0.0118434, 0.0236567), Intervalos.Intervalo(5.98838, 5.99419), Intervalos.Intervalo(0.00593332, 0.0118434), Intervalos.Intervalo(5.99419, 5.9971), Intervalos.Intervalo(0.00296759, 0.00593332), Intervalos.Intervalo(5.9971, 5.99855), Intervalos.Intervalo(0.00148416, 0.00296759), Intervalos.Intervalo(5.99855, 5.99928), Intervalos.Intervalo(0.000743215, 0.00148416), Intervalos.Intervalo(5.99928, 5.99964), Intervalos.Intervalo(0.000372101, 0.000743215), Intervalos.Intervalo(5.99964, 5.99982), Intervalos.Intervalo(0.000186387, 0.000372101), Intervalos.Intervalo(5.99982, 5.99991), Intervalos.Intervalo(9.32925e-5, 0.000186387), Intervalos.Intervalo(5.99991, 5.99995), Intervalos.Intervalo(4.66957e-5, 9.32925e-5), Intervalos.Intervalo(5.99995, 5.99998), Intervalos.Intervalo(2.3382e-5, 4.66957e-5), Intervalos.Intervalo(5.99998, 5.99999), Intervalos.Intervalo(1.17105e-5, 2.3382e-5), Intervalos.Intervalo(5.99999, 5.99999), Intervalos.Intervalo(5.86233e-6, 1.17105e-5), Intervalos.Intervalo(5.99999, 6.0), Intervalos.Intervalo(2.93377e-6, 5.86233e-6), Intervalos.Intervalo(6.0, 6.0), Intervalos.Intervalo(1.46788e-6, 2.93377e-6), Intervalos.Intervalo(6.0, 6.0), Intervalos.Intervalo(7.35144e-7, 1.46788e-6), Intervalos.Intervalo(6.0, 6.0), Intervalos.Intervalo(3.67709e-7, 7.35144e-7), Intervalos.Intervalo(6.0, 6.0), Intervalos.Intervalo(1.84113e-7, 3.67709e-7), Intervalos.Intervalo(6.0, 6.0), Intervalos.Intervalo(9.21621e-8, 1.84113e-7), Intervalos.Intervalo(6.0, 6.0), Intervalos.Intervalo(4.61125e-8, 9.21621e-8), Intervalos.Intervalo(6.0, 6.0), Intervalos.Intervalo(2.309e-8, 4.61125e-8), Intervalos.Intervalo(6.0, 6.0), Intervalos.Intervalo(1.15559e-8, 2.309e-8), Intervalos.Intervalo(6.0, 6.0), Intervalos.Intervalo(5.78372e-9, 1.15559e-8), Intervalos.Intervalo(6.0, 6.0), Intervalos.Intervalo(2.89573e-9, 5.78372e-9), Intervalos.Intervalo(6.0, 6.0), Intervalos.Intervalo(1.45007e-9, 2.89573e-9), Intervalos.Intervalo(6.0, 6.0), Intervalos.Intervalo(7.25281e-10, 1.45007e-9), Intervalos.Intervalo(6.0, 6.0), Intervalos.Intervalo(3.63238e-10, 7.25281e-10), Intervalos.Intervalo(6.0, 6.0), Intervalos.Intervalo(1.81786e-10, 3.63238e-10), Intervalos.Intervalo(6.0, 6.0), Intervalos.Intervalo(9.10717e-11, 1.81786e-10), Intervalos.Intervalo(6.0, 6.0), Intervalos.Intervalo(4.56199e-11, 9.10717e-11), Intervalos.Intervalo(6.0, 6.0), Intervalos.Intervalo(2.28334e-11, 4.56199e-11), Intervalos.Intervalo(6.0, 6.0), Intervalos.Intervalo(1.14245e-11, 2.28334e-11), Intervalos.Intervalo(6.0, 6.0), Intervalos.Intervalo(5.72001e-12, 1.14245e-11), Intervalos.Intervalo(6.0, 6.0), Intervalos.Intervalo(2.86267e-12, 5.72001e-12), Intervalos.Intervalo(6.0, 6.0), Intervalos.Intervalo(1.43136e-12, 2.86267e-12), Intervalos.Intervalo(6.0, 6.0), Intervalos.Intervalo(6.0, 6.0), Intervalos.Intervalo(0.0, 7.16186e-13), Intervalos.Intervalo(7.16186e-13, 1.43136e-12)])\n",
      "(uniqueRoot(X1[i], X0), X1[i], X0) = (1, Intervalos.Intervalo(1.4313558725391695e-12, 2.8626672529697153e-12), Intervalos.Intervalo(0.0, 6.0))\n",
      "(uniqueRoot(X1[i], X0), X1[i], X0) = (1, Intervalos.Intervalo(5.999999999998693, 5.999999999999347), Intervalos.Intervalo(0.0, 6.0))\n",
      "(uniqueRoot(X1[i], X0), X1[i], X0) = (-1, Intervalos.Intervalo(5.999999999999347, 6.0), Intervalos.Intervalo(0.0, 6.0))\n",
      "Xbis = Intervalos.Intervalo[Intervalos.Intervalo(6.0, 6.0), Intervalos.Intervalo(6.0, 6.0)]\n",
      "(\" Antes \", X1) = (\" Antes \", Intervalos.Intervalo[Intervalos.Intervalo(3.00002, 4.50148), Intervalos.Intervalo(1.50244, 3.00451), Intervalos.Intervalo(4.50148, 5.25082), Intervalos.Intervalo(0.752677, 1.50244), Intervalos.Intervalo(5.25082, 5.62608), Intervalos.Intervalo(0.376723, 0.752677), Intervalos.Intervalo(5.62608, 5.8134), Intervalos.Intervalo(0.188552, 0.376723), Intervalos.Intervalo(5.8134, 5.90676), Intervalos.Intervalo(0.0944598, 0.188552), Intervalos.Intervalo(5.90676, 5.95343), Intervalos.Intervalo(0.047286, 0.0944598), Intervalos.Intervalo(5.95343, 5.97673), Intervalos.Intervalo(0.0236567, 0.047286), Intervalos.Intervalo(5.97673, 5.98838), Intervalos.Intervalo(0.0118434, 0.0236567), Intervalos.Intervalo(5.98838, 5.99419), Intervalos.Intervalo(0.00593332, 0.0118434), Intervalos.Intervalo(5.99419, 5.9971), Intervalos.Intervalo(0.00296759, 0.00593332), Intervalos.Intervalo(5.9971, 5.99855), Intervalos.Intervalo(0.00148416, 0.00296759), Intervalos.Intervalo(5.99855, 5.99928), Intervalos.Intervalo(0.000743215, 0.00148416), Intervalos.Intervalo(5.99928, 5.99964), Intervalos.Intervalo(0.000372101, 0.000743215), Intervalos.Intervalo(5.99964, 5.99982), Intervalos.Intervalo(0.000186387, 0.000372101), Intervalos.Intervalo(5.99982, 5.99991), Intervalos.Intervalo(9.32925e-5, 0.000186387), Intervalos.Intervalo(5.99991, 5.99995), Intervalos.Intervalo(4.66957e-5, 9.32925e-5), Intervalos.Intervalo(5.99995, 5.99998), Intervalos.Intervalo(2.3382e-5, 4.66957e-5), Intervalos.Intervalo(5.99998, 5.99999), Intervalos.Intervalo(1.17105e-5, 2.3382e-5), Intervalos.Intervalo(5.99999, 5.99999), Intervalos.Intervalo(5.86233e-6, 1.17105e-5), Intervalos.Intervalo(5.99999, 6.0), Intervalos.Intervalo(2.93377e-6, 5.86233e-6), Intervalos.Intervalo(6.0, 6.0), Intervalos.Intervalo(1.46788e-6, 2.93377e-6), Intervalos.Intervalo(6.0, 6.0), Intervalos.Intervalo(7.35144e-7, 1.46788e-6), Intervalos.Intervalo(6.0, 6.0), Intervalos.Intervalo(3.67709e-7, 7.35144e-7), Intervalos.Intervalo(6.0, 6.0), Intervalos.Intervalo(1.84113e-7, 3.67709e-7), Intervalos.Intervalo(6.0, 6.0), Intervalos.Intervalo(9.21621e-8, 1.84113e-7), Intervalos.Intervalo(6.0, 6.0), Intervalos.Intervalo(4.61125e-8, 9.21621e-8), Intervalos.Intervalo(6.0, 6.0), Intervalos.Intervalo(2.309e-8, 4.61125e-8), Intervalos.Intervalo(6.0, 6.0), Intervalos.Intervalo(1.15559e-8, 2.309e-8), Intervalos.Intervalo(6.0, 6.0), Intervalos.Intervalo(5.78372e-9, 1.15559e-8), Intervalos.Intervalo(6.0, 6.0), Intervalos.Intervalo(2.89573e-9, 5.78372e-9), Intervalos.Intervalo(6.0, 6.0), Intervalos.Intervalo(1.45007e-9, 2.89573e-9), Intervalos.Intervalo(6.0, 6.0), Intervalos.Intervalo(7.25281e-10, 1.45007e-9), Intervalos.Intervalo(6.0, 6.0), Intervalos.Intervalo(3.63238e-10, 7.25281e-10), Intervalos.Intervalo(6.0, 6.0), Intervalos.Intervalo(1.81786e-10, 3.63238e-10), Intervalos.Intervalo(6.0, 6.0), Intervalos.Intervalo(9.10717e-11, 1.81786e-10), Intervalos.Intervalo(6.0, 6.0), Intervalos.Intervalo(4.56199e-11, 9.10717e-11), Intervalos.Intervalo(6.0, 6.0), Intervalos.Intervalo(2.28334e-11, 4.56199e-11), Intervalos.Intervalo(6.0, 6.0), Intervalos.Intervalo(1.14245e-11, 2.28334e-11), Intervalos.Intervalo(6.0, 6.0), Intervalos.Intervalo(5.72001e-12, 1.14245e-11), Intervalos.Intervalo(6.0, 6.0), Intervalos.Intervalo(2.86267e-12, 5.72001e-12), Intervalos.Intervalo(6.0, 6.0), Intervalos.Intervalo(1.43136e-12, 2.86267e-12), Intervalos.Intervalo(6.0, 6.0), Intervalos.Intervalo(0.0, 7.16186e-13), Intervalos.Intervalo(7.16186e-13, 1.43136e-12)])\n",
      "(\" Después \", X1) = (\" Después \", Intervalos.Intervalo[Intervalos.Intervalo(3.00002, 4.50148), Intervalos.Intervalo(1.50244, 3.00451), Intervalos.Intervalo(4.50148, 5.25082), Intervalos.Intervalo(0.752677, 1.50244), Intervalos.Intervalo(5.25082, 5.62608), Intervalos.Intervalo(0.376723, 0.752677), Intervalos.Intervalo(5.62608, 5.8134), Intervalos.Intervalo(0.188552, 0.376723), Intervalos.Intervalo(5.8134, 5.90676), Intervalos.Intervalo(0.0944598, 0.188552), Intervalos.Intervalo(5.90676, 5.95343), Intervalos.Intervalo(0.047286, 0.0944598), Intervalos.Intervalo(5.95343, 5.97673), Intervalos.Intervalo(0.0236567, 0.047286), Intervalos.Intervalo(5.97673, 5.98838), Intervalos.Intervalo(0.0118434, 0.0236567), Intervalos.Intervalo(5.98838, 5.99419), Intervalos.Intervalo(0.00593332, 0.0118434), Intervalos.Intervalo(5.99419, 5.9971), Intervalos.Intervalo(0.00296759, 0.00593332), Intervalos.Intervalo(5.9971, 5.99855), Intervalos.Intervalo(0.00148416, 0.00296759), Intervalos.Intervalo(5.99855, 5.99928), Intervalos.Intervalo(0.000743215, 0.00148416), Intervalos.Intervalo(5.99928, 5.99964), Intervalos.Intervalo(0.000372101, 0.000743215), Intervalos.Intervalo(5.99964, 5.99982), Intervalos.Intervalo(0.000186387, 0.000372101), Intervalos.Intervalo(5.99982, 5.99991), Intervalos.Intervalo(9.32925e-5, 0.000186387), Intervalos.Intervalo(5.99991, 5.99995), Intervalos.Intervalo(4.66957e-5, 9.32925e-5), Intervalos.Intervalo(5.99995, 5.99998), Intervalos.Intervalo(2.3382e-5, 4.66957e-5), Intervalos.Intervalo(5.99998, 5.99999), Intervalos.Intervalo(1.17105e-5, 2.3382e-5), Intervalos.Intervalo(5.99999, 5.99999), Intervalos.Intervalo(5.86233e-6, 1.17105e-5), Intervalos.Intervalo(5.99999, 6.0), Intervalos.Intervalo(2.93377e-6, 5.86233e-6), Intervalos.Intervalo(6.0, 6.0), Intervalos.Intervalo(1.46788e-6, 2.93377e-6), Intervalos.Intervalo(6.0, 6.0), Intervalos.Intervalo(7.35144e-7, 1.46788e-6), Intervalos.Intervalo(6.0, 6.0), Intervalos.Intervalo(3.67709e-7, 7.35144e-7), Intervalos.Intervalo(6.0, 6.0), Intervalos.Intervalo(1.84113e-7, 3.67709e-7), Intervalos.Intervalo(6.0, 6.0), Intervalos.Intervalo(9.21621e-8, 1.84113e-7), Intervalos.Intervalo(6.0, 6.0), Intervalos.Intervalo(4.61125e-8, 9.21621e-8), Intervalos.Intervalo(6.0, 6.0), Intervalos.Intervalo(2.309e-8, 4.61125e-8), Intervalos.Intervalo(6.0, 6.0), Intervalos.Intervalo(1.15559e-8, 2.309e-8), Intervalos.Intervalo(6.0, 6.0), Intervalos.Intervalo(5.78372e-9, 1.15559e-8), Intervalos.Intervalo(6.0, 6.0), Intervalos.Intervalo(2.89573e-9, 5.78372e-9), Intervalos.Intervalo(6.0, 6.0), Intervalos.Intervalo(1.45007e-9, 2.89573e-9), Intervalos.Intervalo(6.0, 6.0), Intervalos.Intervalo(7.25281e-10, 1.45007e-9), Intervalos.Intervalo(6.0, 6.0), Intervalos.Intervalo(3.63238e-10, 7.25281e-10), Intervalos.Intervalo(6.0, 6.0), Intervalos.Intervalo(1.81786e-10, 3.63238e-10), Intervalos.Intervalo(6.0, 6.0), Intervalos.Intervalo(9.10717e-11, 1.81786e-10), Intervalos.Intervalo(6.0, 6.0), Intervalos.Intervalo(4.56199e-11, 9.10717e-11), Intervalos.Intervalo(6.0, 6.0), Intervalos.Intervalo(2.28334e-11, 4.56199e-11), Intervalos.Intervalo(6.0, 6.0), Intervalos.Intervalo(1.14245e-11, 2.28334e-11), Intervalos.Intervalo(6.0, 6.0), Intervalos.Intervalo(5.72001e-12, 1.14245e-11), Intervalos.Intervalo(6.0, 6.0), Intervalos.Intervalo(2.86267e-12, 5.72001e-12), Intervalos.Intervalo(6.0, 6.0), Intervalos.Intervalo(1.43136e-12, 2.86267e-12), Intervalos.Intervalo(6.0, 6.0), Intervalos.Intervalo(0.0, 7.16186e-13), Intervalos.Intervalo(7.16186e-13, 1.43136e-12), Intervalos.Intervalo(6.0, 6.0), Intervalos.Intervalo(6.0, 6.0)])\n"
     ]
    },
    {
     "name": "stdout",
     "output_type": "stream",
     "text": [
      "(uniqueRoot(X1[i], X0), X1[i], X0) = (-1, Intervalos.Intervalo(0.0, 7.161855855178593e-13), Intervalos.Intervalo(0.0, 6.0))\n",
      "Xbis = Intervalos.Intervalo[Intervalos.Intervalo(0.0, 3.58743e-13), Intervalos.Intervalo(3.58743e-13, 7.16186e-13)]\n",
      "(\" Antes \", X1) = (\" Antes \", Intervalos.Intervalo[Intervalos.Intervalo(3.00002, 4.50148), Intervalos.Intervalo(1.50244, 3.00451), Intervalos.Intervalo(4.50148, 5.25082), Intervalos.Intervalo(0.752677, 1.50244), Intervalos.Intervalo(5.25082, 5.62608), Intervalos.Intervalo(0.376723, 0.752677), Intervalos.Intervalo(5.62608, 5.8134), Intervalos.Intervalo(0.188552, 0.376723), Intervalos.Intervalo(5.8134, 5.90676), Intervalos.Intervalo(0.0944598, 0.188552), Intervalos.Intervalo(5.90676, 5.95343), Intervalos.Intervalo(0.047286, 0.0944598), Intervalos.Intervalo(5.95343, 5.97673), Intervalos.Intervalo(0.0236567, 0.047286), Intervalos.Intervalo(5.97673, 5.98838), Intervalos.Intervalo(0.0118434, 0.0236567), Intervalos.Intervalo(5.98838, 5.99419), Intervalos.Intervalo(0.00593332, 0.0118434), Intervalos.Intervalo(5.99419, 5.9971), Intervalos.Intervalo(0.00296759, 0.00593332), Intervalos.Intervalo(5.9971, 5.99855), Intervalos.Intervalo(0.00148416, 0.00296759), Intervalos.Intervalo(5.99855, 5.99928), Intervalos.Intervalo(0.000743215, 0.00148416), Intervalos.Intervalo(5.99928, 5.99964), Intervalos.Intervalo(0.000372101, 0.000743215), Intervalos.Intervalo(5.99964, 5.99982), Intervalos.Intervalo(0.000186387, 0.000372101), Intervalos.Intervalo(5.99982, 5.99991), Intervalos.Intervalo(9.32925e-5, 0.000186387), Intervalos.Intervalo(5.99991, 5.99995), Intervalos.Intervalo(4.66957e-5, 9.32925e-5), Intervalos.Intervalo(5.99995, 5.99998), Intervalos.Intervalo(2.3382e-5, 4.66957e-5), Intervalos.Intervalo(5.99998, 5.99999), Intervalos.Intervalo(1.17105e-5, 2.3382e-5), Intervalos.Intervalo(5.99999, 5.99999), Intervalos.Intervalo(5.86233e-6, 1.17105e-5), Intervalos.Intervalo(5.99999, 6.0), Intervalos.Intervalo(2.93377e-6, 5.86233e-6), Intervalos.Intervalo(6.0, 6.0), Intervalos.Intervalo(1.46788e-6, 2.93377e-6), Intervalos.Intervalo(6.0, 6.0), Intervalos.Intervalo(7.35144e-7, 1.46788e-6), Intervalos.Intervalo(6.0, 6.0), Intervalos.Intervalo(3.67709e-7, 7.35144e-7), Intervalos.Intervalo(6.0, 6.0), Intervalos.Intervalo(1.84113e-7, 3.67709e-7), Intervalos.Intervalo(6.0, 6.0), Intervalos.Intervalo(9.21621e-8, 1.84113e-7), Intervalos.Intervalo(6.0, 6.0), Intervalos.Intervalo(4.61125e-8, 9.21621e-8), Intervalos.Intervalo(6.0, 6.0), Intervalos.Intervalo(2.309e-8, 4.61125e-8), Intervalos.Intervalo(6.0, 6.0), Intervalos.Intervalo(1.15559e-8, 2.309e-8), Intervalos.Intervalo(6.0, 6.0), Intervalos.Intervalo(5.78372e-9, 1.15559e-8), Intervalos.Intervalo(6.0, 6.0), Intervalos.Intervalo(2.89573e-9, 5.78372e-9), Intervalos.Intervalo(6.0, 6.0), Intervalos.Intervalo(1.45007e-9, 2.89573e-9), Intervalos.Intervalo(6.0, 6.0), Intervalos.Intervalo(7.25281e-10, 1.45007e-9), Intervalos.Intervalo(6.0, 6.0), Intervalos.Intervalo(3.63238e-10, 7.25281e-10), Intervalos.Intervalo(6.0, 6.0), Intervalos.Intervalo(1.81786e-10, 3.63238e-10), Intervalos.Intervalo(6.0, 6.0), Intervalos.Intervalo(9.10717e-11, 1.81786e-10), Intervalos.Intervalo(6.0, 6.0), Intervalos.Intervalo(4.56199e-11, 9.10717e-11), Intervalos.Intervalo(6.0, 6.0), Intervalos.Intervalo(2.28334e-11, 4.56199e-11), Intervalos.Intervalo(6.0, 6.0), Intervalos.Intervalo(1.14245e-11, 2.28334e-11), Intervalos.Intervalo(6.0, 6.0), Intervalos.Intervalo(5.72001e-12, 1.14245e-11), Intervalos.Intervalo(6.0, 6.0), Intervalos.Intervalo(2.86267e-12, 5.72001e-12), Intervalos.Intervalo(6.0, 6.0), Intervalos.Intervalo(1.43136e-12, 2.86267e-12), Intervalos.Intervalo(6.0, 6.0), Intervalos.Intervalo(7.16186e-13, 1.43136e-12), Intervalos.Intervalo(6.0, 6.0), Intervalos.Intervalo(6.0, 6.0)])\n",
      "(\" Después \", X1) = (\" Después \", Intervalos.Intervalo[Intervalos.Intervalo(3.00002, 4.50148), Intervalos.Intervalo(1.50244, 3.00451), Intervalos.Intervalo(4.50148, 5.25082), Intervalos.Intervalo(0.752677, 1.50244), Intervalos.Intervalo(5.25082, 5.62608), Intervalos.Intervalo(0.376723, 0.752677), Intervalos.Intervalo(5.62608, 5.8134), Intervalos.Intervalo(0.188552, 0.376723), Intervalos.Intervalo(5.8134, 5.90676), Intervalos.Intervalo(0.0944598, 0.188552), Intervalos.Intervalo(5.90676, 5.95343), Intervalos.Intervalo(0.047286, 0.0944598), Intervalos.Intervalo(5.95343, 5.97673), Intervalos.Intervalo(0.0236567, 0.047286), Intervalos.Intervalo(5.97673, 5.98838), Intervalos.Intervalo(0.0118434, 0.0236567), Intervalos.Intervalo(5.98838, 5.99419), Intervalos.Intervalo(0.00593332, 0.0118434), Intervalos.Intervalo(5.99419, 5.9971), Intervalos.Intervalo(0.00296759, 0.00593332), Intervalos.Intervalo(5.9971, 5.99855), Intervalos.Intervalo(0.00148416, 0.00296759), Intervalos.Intervalo(5.99855, 5.99928), Intervalos.Intervalo(0.000743215, 0.00148416), Intervalos.Intervalo(5.99928, 5.99964), Intervalos.Intervalo(0.000372101, 0.000743215), Intervalos.Intervalo(5.99964, 5.99982), Intervalos.Intervalo(0.000186387, 0.000372101), Intervalos.Intervalo(5.99982, 5.99991), Intervalos.Intervalo(9.32925e-5, 0.000186387), Intervalos.Intervalo(5.99991, 5.99995), Intervalos.Intervalo(4.66957e-5, 9.32925e-5), Intervalos.Intervalo(5.99995, 5.99998), Intervalos.Intervalo(2.3382e-5, 4.66957e-5), Intervalos.Intervalo(5.99998, 5.99999), Intervalos.Intervalo(1.17105e-5, 2.3382e-5), Intervalos.Intervalo(5.99999, 5.99999), Intervalos.Intervalo(5.86233e-6, 1.17105e-5), Intervalos.Intervalo(5.99999, 6.0), Intervalos.Intervalo(2.93377e-6, 5.86233e-6), Intervalos.Intervalo(6.0, 6.0), Intervalos.Intervalo(1.46788e-6, 2.93377e-6), Intervalos.Intervalo(6.0, 6.0), Intervalos.Intervalo(7.35144e-7, 1.46788e-6), Intervalos.Intervalo(6.0, 6.0), Intervalos.Intervalo(3.67709e-7, 7.35144e-7), Intervalos.Intervalo(6.0, 6.0), Intervalos.Intervalo(1.84113e-7, 3.67709e-7), Intervalos.Intervalo(6.0, 6.0), Intervalos.Intervalo(9.21621e-8, 1.84113e-7), Intervalos.Intervalo(6.0, 6.0), Intervalos.Intervalo(4.61125e-8, 9.21621e-8), Intervalos.Intervalo(6.0, 6.0), Intervalos.Intervalo(2.309e-8, 4.61125e-8), Intervalos.Intervalo(6.0, 6.0), Intervalos.Intervalo(1.15559e-8, 2.309e-8), Intervalos.Intervalo(6.0, 6.0), Intervalos.Intervalo(5.78372e-9, 1.15559e-8), Intervalos.Intervalo(6.0, 6.0), Intervalos.Intervalo(2.89573e-9, 5.78372e-9), Intervalos.Intervalo(6.0, 6.0), Intervalos.Intervalo(1.45007e-9, 2.89573e-9), Intervalos.Intervalo(6.0, 6.0), Intervalos.Intervalo(7.25281e-10, 1.45007e-9), Intervalos.Intervalo(6.0, 6.0), Intervalos.Intervalo(3.63238e-10, 7.25281e-10), Intervalos.Intervalo(6.0, 6.0), Intervalos.Intervalo(1.81786e-10, 3.63238e-10), Intervalos.Intervalo(6.0, 6.0), Intervalos.Intervalo(9.10717e-11, 1.81786e-10), Intervalos.Intervalo(6.0, 6.0), Intervalos.Intervalo(4.56199e-11, 9.10717e-11), Intervalos.Intervalo(6.0, 6.0), Intervalos.Intervalo(2.28334e-11, 4.56199e-11), Intervalos.Intervalo(6.0, 6.0), Intervalos.Intervalo(1.14245e-11, 2.28334e-11), Intervalos.Intervalo(6.0, 6.0), Intervalos.Intervalo(5.72001e-12, 1.14245e-11), Intervalos.Intervalo(6.0, 6.0), Intervalos.Intervalo(2.86267e-12, 5.72001e-12), Intervalos.Intervalo(6.0, 6.0), Intervalos.Intervalo(1.43136e-12, 2.86267e-12), Intervalos.Intervalo(6.0, 6.0), Intervalos.Intervalo(7.16186e-13, 1.43136e-12), Intervalos.Intervalo(6.0, 6.0), Intervalos.Intervalo(6.0, 6.0), Intervalos.Intervalo(0.0, 3.58743e-13), Intervalos.Intervalo(3.58743e-13, 7.16186e-13)])\n",
      "(uniqueRoot(X1[i], X0), X1[i], X0) = (1, Intervalos.Intervalo(7.161855855178593e-13, 1.4313558725391695e-12), Intervalos.Intervalo(0.0, 6.0))\n",
      "(uniqueRoot(X1[i], X0), X1[i], X0) = (1, Intervalos.Intervalo(5.999999999999347, 5.999999999999674), Intervalos.Intervalo(0.0, 6.0))\n",
      "(uniqueRoot(X1[i], X0), X1[i], X0) = (-1, Intervalos.Intervalo(5.999999999999674, 6.0), Intervalos.Intervalo(0.0, 6.0))\n",
      "Xbis = Intervalos.Intervalo[Intervalos.Intervalo(6.0, 6.0), Intervalos.Intervalo(6.0, 6.0)]\n"
     ]
    },
    {
     "name": "stdout",
     "output_type": "stream",
     "text": [
      "(\" Antes \", X1) = (\" Antes \", Intervalos.Intervalo[Intervalos.Intervalo(3.00002, 4.50148), Intervalos.Intervalo(1.50244, 3.00451), Intervalos.Intervalo(4.50148, 5.25082), Intervalos.Intervalo(0.752677, 1.50244), Intervalos.Intervalo(5.25082, 5.62608), Intervalos.Intervalo(0.376723, 0.752677), Intervalos.Intervalo(5.62608, 5.8134), Intervalos.Intervalo(0.188552, 0.376723), Intervalos.Intervalo(5.8134, 5.90676), Intervalos.Intervalo(0.0944598, 0.188552), Intervalos.Intervalo(5.90676, 5.95343), Intervalos.Intervalo(0.047286, 0.0944598), Intervalos.Intervalo(5.95343, 5.97673), Intervalos.Intervalo(0.0236567, 0.047286), Intervalos.Intervalo(5.97673, 5.98838), Intervalos.Intervalo(0.0118434, 0.0236567), Intervalos.Intervalo(5.98838, 5.99419), Intervalos.Intervalo(0.00593332, 0.0118434), Intervalos.Intervalo(5.99419, 5.9971), Intervalos.Intervalo(0.00296759, 0.00593332), Intervalos.Intervalo(5.9971, 5.99855), Intervalos.Intervalo(0.00148416, 0.00296759), Intervalos.Intervalo(5.99855, 5.99928), Intervalos.Intervalo(0.000743215, 0.00148416), Intervalos.Intervalo(5.99928, 5.99964), Intervalos.Intervalo(0.000372101, 0.000743215), Intervalos.Intervalo(5.99964, 5.99982), Intervalos.Intervalo(0.000186387, 0.000372101), Intervalos.Intervalo(5.99982, 5.99991), Intervalos.Intervalo(9.32925e-5, 0.000186387), Intervalos.Intervalo(5.99991, 5.99995), Intervalos.Intervalo(4.66957e-5, 9.32925e-5), Intervalos.Intervalo(5.99995, 5.99998), Intervalos.Intervalo(2.3382e-5, 4.66957e-5), Intervalos.Intervalo(5.99998, 5.99999), Intervalos.Intervalo(1.17105e-5, 2.3382e-5), Intervalos.Intervalo(5.99999, 5.99999), Intervalos.Intervalo(5.86233e-6, 1.17105e-5), Intervalos.Intervalo(5.99999, 6.0), Intervalos.Intervalo(2.93377e-6, 5.86233e-6), Intervalos.Intervalo(6.0, 6.0), Intervalos.Intervalo(1.46788e-6, 2.93377e-6), Intervalos.Intervalo(6.0, 6.0), Intervalos.Intervalo(7.35144e-7, 1.46788e-6), Intervalos.Intervalo(6.0, 6.0), Intervalos.Intervalo(3.67709e-7, 7.35144e-7), Intervalos.Intervalo(6.0, 6.0), Intervalos.Intervalo(1.84113e-7, 3.67709e-7), Intervalos.Intervalo(6.0, 6.0), Intervalos.Intervalo(9.21621e-8, 1.84113e-7), Intervalos.Intervalo(6.0, 6.0), Intervalos.Intervalo(4.61125e-8, 9.21621e-8), Intervalos.Intervalo(6.0, 6.0), Intervalos.Intervalo(2.309e-8, 4.61125e-8), Intervalos.Intervalo(6.0, 6.0), Intervalos.Intervalo(1.15559e-8, 2.309e-8), Intervalos.Intervalo(6.0, 6.0), Intervalos.Intervalo(5.78372e-9, 1.15559e-8), Intervalos.Intervalo(6.0, 6.0), Intervalos.Intervalo(2.89573e-9, 5.78372e-9), Intervalos.Intervalo(6.0, 6.0), Intervalos.Intervalo(1.45007e-9, 2.89573e-9), Intervalos.Intervalo(6.0, 6.0), Intervalos.Intervalo(7.25281e-10, 1.45007e-9), Intervalos.Intervalo(6.0, 6.0), Intervalos.Intervalo(3.63238e-10, 7.25281e-10), Intervalos.Intervalo(6.0, 6.0), Intervalos.Intervalo(1.81786e-10, 3.63238e-10), Intervalos.Intervalo(6.0, 6.0), Intervalos.Intervalo(9.10717e-11, 1.81786e-10), Intervalos.Intervalo(6.0, 6.0), Intervalos.Intervalo(4.56199e-11, 9.10717e-11), Intervalos.Intervalo(6.0, 6.0), Intervalos.Intervalo(2.28334e-11, 4.56199e-11), Intervalos.Intervalo(6.0, 6.0), Intervalos.Intervalo(1.14245e-11, 2.28334e-11), Intervalos.Intervalo(6.0, 6.0), Intervalos.Intervalo(5.72001e-12, 1.14245e-11), Intervalos.Intervalo(6.0, 6.0), Intervalos.Intervalo(2.86267e-12, 5.72001e-12), Intervalos.Intervalo(6.0, 6.0), Intervalos.Intervalo(1.43136e-12, 2.86267e-12), Intervalos.Intervalo(6.0, 6.0), Intervalos.Intervalo(7.16186e-13, 1.43136e-12), Intervalos.Intervalo(6.0, 6.0), Intervalos.Intervalo(0.0, 3.58743e-13), Intervalos.Intervalo(3.58743e-13, 7.16186e-13)])\n",
      "(\" Después \", X1) = (\" Después \", Intervalos.Intervalo[Intervalos.Intervalo(3.00002, 4.50148), Intervalos.Intervalo(1.50244, 3.00451), Intervalos.Intervalo(4.50148, 5.25082), Intervalos.Intervalo(0.752677, 1.50244), Intervalos.Intervalo(5.25082, 5.62608), Intervalos.Intervalo(0.376723, 0.752677), Intervalos.Intervalo(5.62608, 5.8134), Intervalos.Intervalo(0.188552, 0.376723), Intervalos.Intervalo(5.8134, 5.90676), Intervalos.Intervalo(0.0944598, 0.188552), Intervalos.Intervalo(5.90676, 5.95343), Intervalos.Intervalo(0.047286, 0.0944598), Intervalos.Intervalo(5.95343, 5.97673), Intervalos.Intervalo(0.0236567, 0.047286), Intervalos.Intervalo(5.97673, 5.98838), Intervalos.Intervalo(0.0118434, 0.0236567), Intervalos.Intervalo(5.98838, 5.99419), Intervalos.Intervalo(0.00593332, 0.0118434), Intervalos.Intervalo(5.99419, 5.9971), Intervalos.Intervalo(0.00296759, 0.00593332), Intervalos.Intervalo(5.9971, 5.99855), Intervalos.Intervalo(0.00148416, 0.00296759), Intervalos.Intervalo(5.99855, 5.99928), Intervalos.Intervalo(0.000743215, 0.00148416), Intervalos.Intervalo(5.99928, 5.99964), Intervalos.Intervalo(0.000372101, 0.000743215), Intervalos.Intervalo(5.99964, 5.99982), Intervalos.Intervalo(0.000186387, 0.000372101), Intervalos.Intervalo(5.99982, 5.99991), Intervalos.Intervalo(9.32925e-5, 0.000186387), Intervalos.Intervalo(5.99991, 5.99995), Intervalos.Intervalo(4.66957e-5, 9.32925e-5), Intervalos.Intervalo(5.99995, 5.99998), Intervalos.Intervalo(2.3382e-5, 4.66957e-5), Intervalos.Intervalo(5.99998, 5.99999), Intervalos.Intervalo(1.17105e-5, 2.3382e-5), Intervalos.Intervalo(5.99999, 5.99999), Intervalos.Intervalo(5.86233e-6, 1.17105e-5), Intervalos.Intervalo(5.99999, 6.0), Intervalos.Intervalo(2.93377e-6, 5.86233e-6), Intervalos.Intervalo(6.0, 6.0), Intervalos.Intervalo(1.46788e-6, 2.93377e-6), Intervalos.Intervalo(6.0, 6.0), Intervalos.Intervalo(7.35144e-7, 1.46788e-6), Intervalos.Intervalo(6.0, 6.0), Intervalos.Intervalo(3.67709e-7, 7.35144e-7), Intervalos.Intervalo(6.0, 6.0), Intervalos.Intervalo(1.84113e-7, 3.67709e-7), Intervalos.Intervalo(6.0, 6.0), Intervalos.Intervalo(9.21621e-8, 1.84113e-7), Intervalos.Intervalo(6.0, 6.0), Intervalos.Intervalo(4.61125e-8, 9.21621e-8), Intervalos.Intervalo(6.0, 6.0), Intervalos.Intervalo(2.309e-8, 4.61125e-8), Intervalos.Intervalo(6.0, 6.0), Intervalos.Intervalo(1.15559e-8, 2.309e-8), Intervalos.Intervalo(6.0, 6.0), Intervalos.Intervalo(5.78372e-9, 1.15559e-8), Intervalos.Intervalo(6.0, 6.0), Intervalos.Intervalo(2.89573e-9, 5.78372e-9), Intervalos.Intervalo(6.0, 6.0), Intervalos.Intervalo(1.45007e-9, 2.89573e-9), Intervalos.Intervalo(6.0, 6.0), Intervalos.Intervalo(7.25281e-10, 1.45007e-9), Intervalos.Intervalo(6.0, 6.0), Intervalos.Intervalo(3.63238e-10, 7.25281e-10), Intervalos.Intervalo(6.0, 6.0), Intervalos.Intervalo(1.81786e-10, 3.63238e-10), Intervalos.Intervalo(6.0, 6.0), Intervalos.Intervalo(9.10717e-11, 1.81786e-10), Intervalos.Intervalo(6.0, 6.0), Intervalos.Intervalo(4.56199e-11, 9.10717e-11), Intervalos.Intervalo(6.0, 6.0), Intervalos.Intervalo(2.28334e-11, 4.56199e-11), Intervalos.Intervalo(6.0, 6.0), Intervalos.Intervalo(1.14245e-11, 2.28334e-11), Intervalos.Intervalo(6.0, 6.0), Intervalos.Intervalo(5.72001e-12, 1.14245e-11), Intervalos.Intervalo(6.0, 6.0), Intervalos.Intervalo(2.86267e-12, 5.72001e-12), Intervalos.Intervalo(6.0, 6.0), Intervalos.Intervalo(1.43136e-12, 2.86267e-12), Intervalos.Intervalo(6.0, 6.0), Intervalos.Intervalo(7.16186e-13, 1.43136e-12), Intervalos.Intervalo(6.0, 6.0), Intervalos.Intervalo(0.0, 3.58743e-13), Intervalos.Intervalo(3.58743e-13, 7.16186e-13), Intervalos.Intervalo(6.0, 6.0), Intervalos.Intervalo(6.0, 6.0)])\n",
      "(uniqueRoot(X1[i], X0), X1[i], X0) = (-1, Intervalos.Intervalo(0.0, 3.5874305158055246e-13), Intervalos.Intervalo(0.0, 6.0))\n",
      "Xbis = Intervalos.Intervalo[Intervalos.Intervalo(0.0, 1.79521e-13), Intervalos.Intervalo(1.79521e-13, 3.58743e-13)]\n",
      "(\" Antes \", X1) = (\" Antes \", Intervalos.Intervalo[Intervalos.Intervalo(3.00002, 4.50148), Intervalos.Intervalo(1.50244, 3.00451), Intervalos.Intervalo(4.50148, 5.25082), Intervalos.Intervalo(0.752677, 1.50244), Intervalos.Intervalo(5.25082, 5.62608), Intervalos.Intervalo(0.376723, 0.752677), Intervalos.Intervalo(5.62608, 5.8134), Intervalos.Intervalo(0.188552, 0.376723), Intervalos.Intervalo(5.8134, 5.90676), Intervalos.Intervalo(0.0944598, 0.188552), Intervalos.Intervalo(5.90676, 5.95343), Intervalos.Intervalo(0.047286, 0.0944598), Intervalos.Intervalo(5.95343, 5.97673), Intervalos.Intervalo(0.0236567, 0.047286), Intervalos.Intervalo(5.97673, 5.98838), Intervalos.Intervalo(0.0118434, 0.0236567), Intervalos.Intervalo(5.98838, 5.99419), Intervalos.Intervalo(0.00593332, 0.0118434), Intervalos.Intervalo(5.99419, 5.9971), Intervalos.Intervalo(0.00296759, 0.00593332), Intervalos.Intervalo(5.9971, 5.99855), Intervalos.Intervalo(0.00148416, 0.00296759), Intervalos.Intervalo(5.99855, 5.99928), Intervalos.Intervalo(0.000743215, 0.00148416), Intervalos.Intervalo(5.99928, 5.99964), Intervalos.Intervalo(0.000372101, 0.000743215), Intervalos.Intervalo(5.99964, 5.99982), Intervalos.Intervalo(0.000186387, 0.000372101), Intervalos.Intervalo(5.99982, 5.99991), Intervalos.Intervalo(9.32925e-5, 0.000186387), Intervalos.Intervalo(5.99991, 5.99995), Intervalos.Intervalo(4.66957e-5, 9.32925e-5), Intervalos.Intervalo(5.99995, 5.99998), Intervalos.Intervalo(2.3382e-5, 4.66957e-5), Intervalos.Intervalo(5.99998, 5.99999), Intervalos.Intervalo(1.17105e-5, 2.3382e-5), Intervalos.Intervalo(5.99999, 5.99999), Intervalos.Intervalo(5.86233e-6, 1.17105e-5), Intervalos.Intervalo(5.99999, 6.0), Intervalos.Intervalo(2.93377e-6, 5.86233e-6), Intervalos.Intervalo(6.0, 6.0), Intervalos.Intervalo(1.46788e-6, 2.93377e-6), Intervalos.Intervalo(6.0, 6.0), Intervalos.Intervalo(7.35144e-7, 1.46788e-6), Intervalos.Intervalo(6.0, 6.0), Intervalos.Intervalo(3.67709e-7, 7.35144e-7), Intervalos.Intervalo(6.0, 6.0), Intervalos.Intervalo(1.84113e-7, 3.67709e-7), Intervalos.Intervalo(6.0, 6.0), Intervalos.Intervalo(9.21621e-8, 1.84113e-7), Intervalos.Intervalo(6.0, 6.0), Intervalos.Intervalo(4.61125e-8, 9.21621e-8), Intervalos.Intervalo(6.0, 6.0), Intervalos.Intervalo(2.309e-8, 4.61125e-8), Intervalos.Intervalo(6.0, 6.0), Intervalos.Intervalo(1.15559e-8, 2.309e-8), Intervalos.Intervalo(6.0, 6.0), Intervalos.Intervalo(5.78372e-9, 1.15559e-8), Intervalos.Intervalo(6.0, 6.0), Intervalos.Intervalo(2.89573e-9, 5.78372e-9), Intervalos.Intervalo(6.0, 6.0), Intervalos.Intervalo(1.45007e-9, 2.89573e-9), Intervalos.Intervalo(6.0, 6.0), Intervalos.Intervalo(7.25281e-10, 1.45007e-9), Intervalos.Intervalo(6.0, 6.0), Intervalos.Intervalo(3.63238e-10, 7.25281e-10), Intervalos.Intervalo(6.0, 6.0), Intervalos.Intervalo(1.81786e-10, 3.63238e-10), Intervalos.Intervalo(6.0, 6.0), Intervalos.Intervalo(9.10717e-11, 1.81786e-10), Intervalos.Intervalo(6.0, 6.0), Intervalos.Intervalo(4.56199e-11, 9.10717e-11), Intervalos.Intervalo(6.0, 6.0), Intervalos.Intervalo(2.28334e-11, 4.56199e-11), Intervalos.Intervalo(6.0, 6.0), Intervalos.Intervalo(1.14245e-11, 2.28334e-11), Intervalos.Intervalo(6.0, 6.0), Intervalos.Intervalo(5.72001e-12, 1.14245e-11), Intervalos.Intervalo(6.0, 6.0), Intervalos.Intervalo(2.86267e-12, 5.72001e-12), Intervalos.Intervalo(6.0, 6.0), Intervalos.Intervalo(1.43136e-12, 2.86267e-12), Intervalos.Intervalo(6.0, 6.0), Intervalos.Intervalo(7.16186e-13, 1.43136e-12), Intervalos.Intervalo(6.0, 6.0), Intervalos.Intervalo(3.58743e-13, 7.16186e-13), Intervalos.Intervalo(6.0, 6.0), Intervalos.Intervalo(6.0, 6.0)])\n",
      "(\" Después \", X1) = (\" Después \", Intervalos.Intervalo[Intervalos.Intervalo(3.00002, 4.50148), Intervalos.Intervalo(1.50244, 3.00451), Intervalos.Intervalo(4.50148, 5.25082), Intervalos.Intervalo(0.752677, 1.50244), Intervalos.Intervalo(5.25082, 5.62608), Intervalos.Intervalo(0.376723, 0.752677), Intervalos.Intervalo(5.62608, 5.8134), Intervalos.Intervalo(0.188552, 0.376723), Intervalos.Intervalo(5.8134, 5.90676), Intervalos.Intervalo(0.0944598, 0.188552), Intervalos.Intervalo(5.90676, 5.95343), Intervalos.Intervalo(0.047286, 0.0944598), Intervalos.Intervalo(5.95343, 5.97673), Intervalos.Intervalo(0.0236567, 0.047286), Intervalos.Intervalo(5.97673, 5.98838), Intervalos.Intervalo(0.0118434, 0.0236567), Intervalos.Intervalo(5.98838, 5.99419), Intervalos.Intervalo(0.00593332, 0.0118434), Intervalos.Intervalo(5.99419, 5.9971), Intervalos.Intervalo(0.00296759, 0.00593332), Intervalos.Intervalo(5.9971, 5.99855), Intervalos.Intervalo(0.00148416, 0.00296759), Intervalos.Intervalo(5.99855, 5.99928), Intervalos.Intervalo(0.000743215, 0.00148416), Intervalos.Intervalo(5.99928, 5.99964), Intervalos.Intervalo(0.000372101, 0.000743215), Intervalos.Intervalo(5.99964, 5.99982), Intervalos.Intervalo(0.000186387, 0.000372101), Intervalos.Intervalo(5.99982, 5.99991), Intervalos.Intervalo(9.32925e-5, 0.000186387), Intervalos.Intervalo(5.99991, 5.99995), Intervalos.Intervalo(4.66957e-5, 9.32925e-5), Intervalos.Intervalo(5.99995, 5.99998), Intervalos.Intervalo(2.3382e-5, 4.66957e-5), Intervalos.Intervalo(5.99998, 5.99999), Intervalos.Intervalo(1.17105e-5, 2.3382e-5), Intervalos.Intervalo(5.99999, 5.99999), Intervalos.Intervalo(5.86233e-6, 1.17105e-5), Intervalos.Intervalo(5.99999, 6.0), Intervalos.Intervalo(2.93377e-6, 5.86233e-6), Intervalos.Intervalo(6.0, 6.0), Intervalos.Intervalo(1.46788e-6, 2.93377e-6), Intervalos.Intervalo(6.0, 6.0), Intervalos.Intervalo(7.35144e-7, 1.46788e-6), Intervalos.Intervalo(6.0, 6.0), Intervalos.Intervalo(3.67709e-7, 7.35144e-7), Intervalos.Intervalo(6.0, 6.0), Intervalos.Intervalo(1.84113e-7, 3.67709e-7), Intervalos.Intervalo(6.0, 6.0), Intervalos.Intervalo(9.21621e-8, 1.84113e-7), Intervalos.Intervalo(6.0, 6.0), Intervalos.Intervalo(4.61125e-8, 9.21621e-8), Intervalos.Intervalo(6.0, 6.0), Intervalos.Intervalo(2.309e-8, 4.61125e-8), Intervalos.Intervalo(6.0, 6.0), Intervalos.Intervalo(1.15559e-8, 2.309e-8), Intervalos.Intervalo(6.0, 6.0), Intervalos.Intervalo(5.78372e-9, 1.15559e-8), Intervalos.Intervalo(6.0, 6.0), Intervalos.Intervalo(2.89573e-9, 5.78372e-9), Intervalos.Intervalo(6.0, 6.0), Intervalos.Intervalo(1.45007e-9, 2.89573e-9), Intervalos.Intervalo(6.0, 6.0), Intervalos.Intervalo(7.25281e-10, 1.45007e-9), Intervalos.Intervalo(6.0, 6.0), Intervalos.Intervalo(3.63238e-10, 7.25281e-10), Intervalos.Intervalo(6.0, 6.0), Intervalos.Intervalo(1.81786e-10, 3.63238e-10), Intervalos.Intervalo(6.0, 6.0), Intervalos.Intervalo(9.10717e-11, 1.81786e-10), Intervalos.Intervalo(6.0, 6.0), Intervalos.Intervalo(4.56199e-11, 9.10717e-11), Intervalos.Intervalo(6.0, 6.0), Intervalos.Intervalo(2.28334e-11, 4.56199e-11), Intervalos.Intervalo(6.0, 6.0), Intervalos.Intervalo(1.14245e-11, 2.28334e-11), Intervalos.Intervalo(6.0, 6.0), Intervalos.Intervalo(5.72001e-12, 1.14245e-11), Intervalos.Intervalo(6.0, 6.0), Intervalos.Intervalo(2.86267e-12, 5.72001e-12), Intervalos.Intervalo(6.0, 6.0), Intervalos.Intervalo(1.43136e-12, 2.86267e-12), Intervalos.Intervalo(6.0, 6.0), Intervalos.Intervalo(7.16186e-13, 1.43136e-12), Intervalos.Intervalo(6.0, 6.0), Intervalos.Intervalo(3.58743e-13, 7.16186e-13), Intervalos.Intervalo(6.0, 6.0), Intervalos.Intervalo(6.0, 6.0), Intervalos.Intervalo(0.0, 1.79521e-13), Intervalos.Intervalo(1.79521e-13, 3.58743e-13)])\n"
     ]
    },
    {
     "name": "stdout",
     "output_type": "stream",
     "text": [
      "(uniqueRoot(X1[i], X0), X1[i], X0) = (1, Intervalos.Intervalo(3.5874305158055246e-13, 7.161855855178593e-13), Intervalos.Intervalo(0.0, 6.0))\n",
      "(uniqueRoot(X1[i], X0), X1[i], X0) = (1, Intervalos.Intervalo(5.999999999999674, 5.9999999999998375), Intervalos.Intervalo(0.0, 6.0))\n",
      "(uniqueRoot(X1[i], X0), X1[i], X0) = (-1, Intervalos.Intervalo(5.9999999999998375, 6.0), Intervalos.Intervalo(0.0, 6.0))\n",
      "Xbis = Intervalos.Intervalo[Intervalos.Intervalo(6.0, 6.0), Intervalos.Intervalo(6.0, 6.0)]\n",
      "(\" Antes \", X1) = (\" Antes \", Intervalos.Intervalo[Intervalos.Intervalo(3.00002, 4.50148), Intervalos.Intervalo(1.50244, 3.00451), Intervalos.Intervalo(4.50148, 5.25082), Intervalos.Intervalo(0.752677, 1.50244), Intervalos.Intervalo(5.25082, 5.62608), Intervalos.Intervalo(0.376723, 0.752677), Intervalos.Intervalo(5.62608, 5.8134), Intervalos.Intervalo(0.188552, 0.376723), Intervalos.Intervalo(5.8134, 5.90676), Intervalos.Intervalo(0.0944598, 0.188552), Intervalos.Intervalo(5.90676, 5.95343), Intervalos.Intervalo(0.047286, 0.0944598), Intervalos.Intervalo(5.95343, 5.97673), Intervalos.Intervalo(0.0236567, 0.047286), Intervalos.Intervalo(5.97673, 5.98838), Intervalos.Intervalo(0.0118434, 0.0236567), Intervalos.Intervalo(5.98838, 5.99419), Intervalos.Intervalo(0.00593332, 0.0118434), Intervalos.Intervalo(5.99419, 5.9971), Intervalos.Intervalo(0.00296759, 0.00593332), Intervalos.Intervalo(5.9971, 5.99855), Intervalos.Intervalo(0.00148416, 0.00296759), Intervalos.Intervalo(5.99855, 5.99928), Intervalos.Intervalo(0.000743215, 0.00148416), Intervalos.Intervalo(5.99928, 5.99964), Intervalos.Intervalo(0.000372101, 0.000743215), Intervalos.Intervalo(5.99964, 5.99982), Intervalos.Intervalo(0.000186387, 0.000372101), Intervalos.Intervalo(5.99982, 5.99991), Intervalos.Intervalo(9.32925e-5, 0.000186387), Intervalos.Intervalo(5.99991, 5.99995), Intervalos.Intervalo(4.66957e-5, 9.32925e-5), Intervalos.Intervalo(5.99995, 5.99998), Intervalos.Intervalo(2.3382e-5, 4.66957e-5), Intervalos.Intervalo(5.99998, 5.99999), Intervalos.Intervalo(1.17105e-5, 2.3382e-5), Intervalos.Intervalo(5.99999, 5.99999), Intervalos.Intervalo(5.86233e-6, 1.17105e-5), Intervalos.Intervalo(5.99999, 6.0), Intervalos.Intervalo(2.93377e-6, 5.86233e-6), Intervalos.Intervalo(6.0, 6.0), Intervalos.Intervalo(1.46788e-6, 2.93377e-6), Intervalos.Intervalo(6.0, 6.0), Intervalos.Intervalo(7.35144e-7, 1.46788e-6), Intervalos.Intervalo(6.0, 6.0), Intervalos.Intervalo(3.67709e-7, 7.35144e-7), Intervalos.Intervalo(6.0, 6.0), Intervalos.Intervalo(1.84113e-7, 3.67709e-7), Intervalos.Intervalo(6.0, 6.0), Intervalos.Intervalo(9.21621e-8, 1.84113e-7), Intervalos.Intervalo(6.0, 6.0), Intervalos.Intervalo(4.61125e-8, 9.21621e-8), Intervalos.Intervalo(6.0, 6.0), Intervalos.Intervalo(2.309e-8, 4.61125e-8), Intervalos.Intervalo(6.0, 6.0), Intervalos.Intervalo(1.15559e-8, 2.309e-8), Intervalos.Intervalo(6.0, 6.0), Intervalos.Intervalo(5.78372e-9, 1.15559e-8), Intervalos.Intervalo(6.0, 6.0), Intervalos.Intervalo(2.89573e-9, 5.78372e-9), Intervalos.Intervalo(6.0, 6.0), Intervalos.Intervalo(1.45007e-9, 2.89573e-9), Intervalos.Intervalo(6.0, 6.0), Intervalos.Intervalo(7.25281e-10, 1.45007e-9), Intervalos.Intervalo(6.0, 6.0), Intervalos.Intervalo(3.63238e-10, 7.25281e-10), Intervalos.Intervalo(6.0, 6.0), Intervalos.Intervalo(1.81786e-10, 3.63238e-10), Intervalos.Intervalo(6.0, 6.0), Intervalos.Intervalo(9.10717e-11, 1.81786e-10), Intervalos.Intervalo(6.0, 6.0), Intervalos.Intervalo(4.56199e-11, 9.10717e-11), Intervalos.Intervalo(6.0, 6.0), Intervalos.Intervalo(2.28334e-11, 4.56199e-11), Intervalos.Intervalo(6.0, 6.0), Intervalos.Intervalo(1.14245e-11, 2.28334e-11), Intervalos.Intervalo(6.0, 6.0), Intervalos.Intervalo(5.72001e-12, 1.14245e-11), Intervalos.Intervalo(6.0, 6.0), Intervalos.Intervalo(2.86267e-12, 5.72001e-12), Intervalos.Intervalo(6.0, 6.0), Intervalos.Intervalo(1.43136e-12, 2.86267e-12), Intervalos.Intervalo(6.0, 6.0), Intervalos.Intervalo(7.16186e-13, 1.43136e-12), Intervalos.Intervalo(6.0, 6.0), Intervalos.Intervalo(3.58743e-13, 7.16186e-13), Intervalos.Intervalo(6.0, 6.0), Intervalos.Intervalo(0.0, 1.79521e-13), Intervalos.Intervalo(1.79521e-13, 3.58743e-13)])\n",
      "(\" Después \", X1) = (\" Después \", Intervalos.Intervalo[Intervalos.Intervalo(3.00002, 4.50148), Intervalos.Intervalo(1.50244, 3.00451), Intervalos.Intervalo(4.50148, 5.25082), Intervalos.Intervalo(0.752677, 1.50244), Intervalos.Intervalo(5.25082, 5.62608), Intervalos.Intervalo(0.376723, 0.752677), Intervalos.Intervalo(5.62608, 5.8134), Intervalos.Intervalo(0.188552, 0.376723), Intervalos.Intervalo(5.8134, 5.90676), Intervalos.Intervalo(0.0944598, 0.188552), Intervalos.Intervalo(5.90676, 5.95343), Intervalos.Intervalo(0.047286, 0.0944598), Intervalos.Intervalo(5.95343, 5.97673), Intervalos.Intervalo(0.0236567, 0.047286), Intervalos.Intervalo(5.97673, 5.98838), Intervalos.Intervalo(0.0118434, 0.0236567), Intervalos.Intervalo(5.98838, 5.99419), Intervalos.Intervalo(0.00593332, 0.0118434), Intervalos.Intervalo(5.99419, 5.9971), Intervalos.Intervalo(0.00296759, 0.00593332), Intervalos.Intervalo(5.9971, 5.99855), Intervalos.Intervalo(0.00148416, 0.00296759), Intervalos.Intervalo(5.99855, 5.99928), Intervalos.Intervalo(0.000743215, 0.00148416), Intervalos.Intervalo(5.99928, 5.99964), Intervalos.Intervalo(0.000372101, 0.000743215), Intervalos.Intervalo(5.99964, 5.99982), Intervalos.Intervalo(0.000186387, 0.000372101), Intervalos.Intervalo(5.99982, 5.99991), Intervalos.Intervalo(9.32925e-5, 0.000186387), Intervalos.Intervalo(5.99991, 5.99995), Intervalos.Intervalo(4.66957e-5, 9.32925e-5), Intervalos.Intervalo(5.99995, 5.99998), Intervalos.Intervalo(2.3382e-5, 4.66957e-5), Intervalos.Intervalo(5.99998, 5.99999), Intervalos.Intervalo(1.17105e-5, 2.3382e-5), Intervalos.Intervalo(5.99999, 5.99999), Intervalos.Intervalo(5.86233e-6, 1.17105e-5), Intervalos.Intervalo(5.99999, 6.0), Intervalos.Intervalo(2.93377e-6, 5.86233e-6), Intervalos.Intervalo(6.0, 6.0), Intervalos.Intervalo(1.46788e-6, 2.93377e-6), Intervalos.Intervalo(6.0, 6.0), Intervalos.Intervalo(7.35144e-7, 1.46788e-6), Intervalos.Intervalo(6.0, 6.0), Intervalos.Intervalo(3.67709e-7, 7.35144e-7), Intervalos.Intervalo(6.0, 6.0), Intervalos.Intervalo(1.84113e-7, 3.67709e-7), Intervalos.Intervalo(6.0, 6.0), Intervalos.Intervalo(9.21621e-8, 1.84113e-7), Intervalos.Intervalo(6.0, 6.0), Intervalos.Intervalo(4.61125e-8, 9.21621e-8), Intervalos.Intervalo(6.0, 6.0), Intervalos.Intervalo(2.309e-8, 4.61125e-8), Intervalos.Intervalo(6.0, 6.0), Intervalos.Intervalo(1.15559e-8, 2.309e-8), Intervalos.Intervalo(6.0, 6.0), Intervalos.Intervalo(5.78372e-9, 1.15559e-8), Intervalos.Intervalo(6.0, 6.0), Intervalos.Intervalo(2.89573e-9, 5.78372e-9), Intervalos.Intervalo(6.0, 6.0), Intervalos.Intervalo(1.45007e-9, 2.89573e-9), Intervalos.Intervalo(6.0, 6.0), Intervalos.Intervalo(7.25281e-10, 1.45007e-9), Intervalos.Intervalo(6.0, 6.0), Intervalos.Intervalo(3.63238e-10, 7.25281e-10), Intervalos.Intervalo(6.0, 6.0), Intervalos.Intervalo(1.81786e-10, 3.63238e-10), Intervalos.Intervalo(6.0, 6.0), Intervalos.Intervalo(9.10717e-11, 1.81786e-10), Intervalos.Intervalo(6.0, 6.0), Intervalos.Intervalo(4.56199e-11, 9.10717e-11), Intervalos.Intervalo(6.0, 6.0), Intervalos.Intervalo(2.28334e-11, 4.56199e-11), Intervalos.Intervalo(6.0, 6.0), Intervalos.Intervalo(1.14245e-11, 2.28334e-11), Intervalos.Intervalo(6.0, 6.0), Intervalos.Intervalo(5.72001e-12, 1.14245e-11), Intervalos.Intervalo(6.0, 6.0), Intervalos.Intervalo(2.86267e-12, 5.72001e-12), Intervalos.Intervalo(6.0, 6.0), Intervalos.Intervalo(1.43136e-12, 2.86267e-12), Intervalos.Intervalo(6.0, 6.0), Intervalos.Intervalo(7.16186e-13, 1.43136e-12), Intervalos.Intervalo(6.0, 6.0), Intervalos.Intervalo(3.58743e-13, 7.16186e-13), Intervalos.Intervalo(6.0, 6.0), Intervalos.Intervalo(0.0, 1.79521e-13), Intervalos.Intervalo(1.79521e-13, 3.58743e-13), Intervalos.Intervalo(6.0, 6.0), Intervalos.Intervalo(6.0, 6.0)])\n",
      "(uniqueRoot(X1[i], X0), X1[i], X0) = (-1, Intervalos.Intervalo(0.0, 1.7952129410896099e-13), Intervalos.Intervalo(0.0, 6.0))\n",
      "Xbis = Intervalos.Intervalo[Intervalos.Intervalo(0.0, 8.98418e-14), Intervalos.Intervalo(8.98418e-14, 1.79521e-13)]\n"
     ]
    },
    {
     "name": "stdout",
     "output_type": "stream",
     "text": [
      "(\" Antes \", X1) = (\" Antes \", Intervalos.Intervalo[Intervalos.Intervalo(3.00002, 4.50148), Intervalos.Intervalo(1.50244, 3.00451), Intervalos.Intervalo(4.50148, 5.25082), Intervalos.Intervalo(0.752677, 1.50244), Intervalos.Intervalo(5.25082, 5.62608), Intervalos.Intervalo(0.376723, 0.752677), Intervalos.Intervalo(5.62608, 5.8134), Intervalos.Intervalo(0.188552, 0.376723), Intervalos.Intervalo(5.8134, 5.90676), Intervalos.Intervalo(0.0944598, 0.188552), Intervalos.Intervalo(5.90676, 5.95343), Intervalos.Intervalo(0.047286, 0.0944598), Intervalos.Intervalo(5.95343, 5.97673), Intervalos.Intervalo(0.0236567, 0.047286), Intervalos.Intervalo(5.97673, 5.98838), Intervalos.Intervalo(0.0118434, 0.0236567), Intervalos.Intervalo(5.98838, 5.99419), Intervalos.Intervalo(0.00593332, 0.0118434), Intervalos.Intervalo(5.99419, 5.9971), Intervalos.Intervalo(0.00296759, 0.00593332), Intervalos.Intervalo(5.9971, 5.99855), Intervalos.Intervalo(0.00148416, 0.00296759), Intervalos.Intervalo(5.99855, 5.99928), Intervalos.Intervalo(0.000743215, 0.00148416), Intervalos.Intervalo(5.99928, 5.99964), Intervalos.Intervalo(0.000372101, 0.000743215), Intervalos.Intervalo(5.99964, 5.99982), Intervalos.Intervalo(0.000186387, 0.000372101), Intervalos.Intervalo(5.99982, 5.99991), Intervalos.Intervalo(9.32925e-5, 0.000186387), Intervalos.Intervalo(5.99991, 5.99995), Intervalos.Intervalo(4.66957e-5, 9.32925e-5), Intervalos.Intervalo(5.99995, 5.99998), Intervalos.Intervalo(2.3382e-5, 4.66957e-5), Intervalos.Intervalo(5.99998, 5.99999), Intervalos.Intervalo(1.17105e-5, 2.3382e-5), Intervalos.Intervalo(5.99999, 5.99999), Intervalos.Intervalo(5.86233e-6, 1.17105e-5), Intervalos.Intervalo(5.99999, 6.0), Intervalos.Intervalo(2.93377e-6, 5.86233e-6), Intervalos.Intervalo(6.0, 6.0), Intervalos.Intervalo(1.46788e-6, 2.93377e-6), Intervalos.Intervalo(6.0, 6.0), Intervalos.Intervalo(7.35144e-7, 1.46788e-6), Intervalos.Intervalo(6.0, 6.0), Intervalos.Intervalo(3.67709e-7, 7.35144e-7), Intervalos.Intervalo(6.0, 6.0), Intervalos.Intervalo(1.84113e-7, 3.67709e-7), Intervalos.Intervalo(6.0, 6.0), Intervalos.Intervalo(9.21621e-8, 1.84113e-7), Intervalos.Intervalo(6.0, 6.0), Intervalos.Intervalo(4.61125e-8, 9.21621e-8), Intervalos.Intervalo(6.0, 6.0), Intervalos.Intervalo(2.309e-8, 4.61125e-8), Intervalos.Intervalo(6.0, 6.0), Intervalos.Intervalo(1.15559e-8, 2.309e-8), Intervalos.Intervalo(6.0, 6.0), Intervalos.Intervalo(5.78372e-9, 1.15559e-8), Intervalos.Intervalo(6.0, 6.0), Intervalos.Intervalo(2.89573e-9, 5.78372e-9), Intervalos.Intervalo(6.0, 6.0), Intervalos.Intervalo(1.45007e-9, 2.89573e-9), Intervalos.Intervalo(6.0, 6.0), Intervalos.Intervalo(7.25281e-10, 1.45007e-9), Intervalos.Intervalo(6.0, 6.0), Intervalos.Intervalo(3.63238e-10, 7.25281e-10), Intervalos.Intervalo(6.0, 6.0), Intervalos.Intervalo(1.81786e-10, 3.63238e-10), Intervalos.Intervalo(6.0, 6.0), Intervalos.Intervalo(9.10717e-11, 1.81786e-10), Intervalos.Intervalo(6.0, 6.0), Intervalos.Intervalo(4.56199e-11, 9.10717e-11), Intervalos.Intervalo(6.0, 6.0), Intervalos.Intervalo(2.28334e-11, 4.56199e-11), Intervalos.Intervalo(6.0, 6.0), Intervalos.Intervalo(1.14245e-11, 2.28334e-11), Intervalos.Intervalo(6.0, 6.0), Intervalos.Intervalo(5.72001e-12, 1.14245e-11), Intervalos.Intervalo(6.0, 6.0), Intervalos.Intervalo(2.86267e-12, 5.72001e-12), Intervalos.Intervalo(6.0, 6.0), Intervalos.Intervalo(1.43136e-12, 2.86267e-12), Intervalos.Intervalo(6.0, 6.0), Intervalos.Intervalo(7.16186e-13, 1.43136e-12), Intervalos.Intervalo(6.0, 6.0), Intervalos.Intervalo(3.58743e-13, 7.16186e-13), Intervalos.Intervalo(6.0, 6.0), Intervalos.Intervalo(1.79521e-13, 3.58743e-13), Intervalos.Intervalo(6.0, 6.0), Intervalos.Intervalo(6.0, 6.0)])\n",
      "(\" Después \", X1) = (\" Después \", Intervalos.Intervalo[Intervalos.Intervalo(3.00002, 4.50148), Intervalos.Intervalo(1.50244, 3.00451), Intervalos.Intervalo(4.50148, 5.25082), Intervalos.Intervalo(0.752677, 1.50244), Intervalos.Intervalo(5.25082, 5.62608), Intervalos.Intervalo(0.376723, 0.752677), Intervalos.Intervalo(5.62608, 5.8134), Intervalos.Intervalo(0.188552, 0.376723), Intervalos.Intervalo(5.8134, 5.90676), Intervalos.Intervalo(0.0944598, 0.188552), Intervalos.Intervalo(5.90676, 5.95343), Intervalos.Intervalo(0.047286, 0.0944598), Intervalos.Intervalo(5.95343, 5.97673), Intervalos.Intervalo(0.0236567, 0.047286), Intervalos.Intervalo(5.97673, 5.98838), Intervalos.Intervalo(0.0118434, 0.0236567), Intervalos.Intervalo(5.98838, 5.99419), Intervalos.Intervalo(0.00593332, 0.0118434), Intervalos.Intervalo(5.99419, 5.9971), Intervalos.Intervalo(0.00296759, 0.00593332), Intervalos.Intervalo(5.9971, 5.99855), Intervalos.Intervalo(0.00148416, 0.00296759), Intervalos.Intervalo(5.99855, 5.99928), Intervalos.Intervalo(0.000743215, 0.00148416), Intervalos.Intervalo(5.99928, 5.99964), Intervalos.Intervalo(0.000372101, 0.000743215), Intervalos.Intervalo(5.99964, 5.99982), Intervalos.Intervalo(0.000186387, 0.000372101), Intervalos.Intervalo(5.99982, 5.99991), Intervalos.Intervalo(9.32925e-5, 0.000186387), Intervalos.Intervalo(5.99991, 5.99995), Intervalos.Intervalo(4.66957e-5, 9.32925e-5), Intervalos.Intervalo(5.99995, 5.99998), Intervalos.Intervalo(2.3382e-5, 4.66957e-5), Intervalos.Intervalo(5.99998, 5.99999), Intervalos.Intervalo(1.17105e-5, 2.3382e-5), Intervalos.Intervalo(5.99999, 5.99999), Intervalos.Intervalo(5.86233e-6, 1.17105e-5), Intervalos.Intervalo(5.99999, 6.0), Intervalos.Intervalo(2.93377e-6, 5.86233e-6), Intervalos.Intervalo(6.0, 6.0), Intervalos.Intervalo(1.46788e-6, 2.93377e-6), Intervalos.Intervalo(6.0, 6.0), Intervalos.Intervalo(7.35144e-7, 1.46788e-6), Intervalos.Intervalo(6.0, 6.0), Intervalos.Intervalo(3.67709e-7, 7.35144e-7), Intervalos.Intervalo(6.0, 6.0), Intervalos.Intervalo(1.84113e-7, 3.67709e-7), Intervalos.Intervalo(6.0, 6.0), Intervalos.Intervalo(9.21621e-8, 1.84113e-7), Intervalos.Intervalo(6.0, 6.0), Intervalos.Intervalo(4.61125e-8, 9.21621e-8), Intervalos.Intervalo(6.0, 6.0), Intervalos.Intervalo(2.309e-8, 4.61125e-8), Intervalos.Intervalo(6.0, 6.0), Intervalos.Intervalo(1.15559e-8, 2.309e-8), Intervalos.Intervalo(6.0, 6.0), Intervalos.Intervalo(5.78372e-9, 1.15559e-8), Intervalos.Intervalo(6.0, 6.0), Intervalos.Intervalo(2.89573e-9, 5.78372e-9), Intervalos.Intervalo(6.0, 6.0), Intervalos.Intervalo(1.45007e-9, 2.89573e-9), Intervalos.Intervalo(6.0, 6.0), Intervalos.Intervalo(7.25281e-10, 1.45007e-9), Intervalos.Intervalo(6.0, 6.0), Intervalos.Intervalo(3.63238e-10, 7.25281e-10), Intervalos.Intervalo(6.0, 6.0), Intervalos.Intervalo(1.81786e-10, 3.63238e-10), Intervalos.Intervalo(6.0, 6.0), Intervalos.Intervalo(9.10717e-11, 1.81786e-10), Intervalos.Intervalo(6.0, 6.0), Intervalos.Intervalo(4.56199e-11, 9.10717e-11), Intervalos.Intervalo(6.0, 6.0), Intervalos.Intervalo(2.28334e-11, 4.56199e-11), Intervalos.Intervalo(6.0, 6.0), Intervalos.Intervalo(1.14245e-11, 2.28334e-11), Intervalos.Intervalo(6.0, 6.0), Intervalos.Intervalo(5.72001e-12, 1.14245e-11), Intervalos.Intervalo(6.0, 6.0), Intervalos.Intervalo(2.86267e-12, 5.72001e-12), Intervalos.Intervalo(6.0, 6.0), Intervalos.Intervalo(1.43136e-12, 2.86267e-12), Intervalos.Intervalo(6.0, 6.0), Intervalos.Intervalo(7.16186e-13, 1.43136e-12), Intervalos.Intervalo(6.0, 6.0), Intervalos.Intervalo(3.58743e-13, 7.16186e-13), Intervalos.Intervalo(6.0, 6.0), Intervalos.Intervalo(1.79521e-13, 3.58743e-13), Intervalos.Intervalo(6.0, 6.0), Intervalos.Intervalo(6.0, 6.0), Intervalos.Intervalo(0.0, 8.98418e-14), Intervalos.Intervalo(8.98418e-14, 1.79521e-13)])\n",
      "(uniqueRoot(X1[i], X0), X1[i], X0) = (1, Intervalos.Intervalo(1.7952129410896099e-13, 3.5874305158055246e-13), Intervalos.Intervalo(0.0, 6.0))\n",
      "(uniqueRoot(X1[i], X0), X1[i], X0) = (1, Intervalos.Intervalo(5.9999999999998375, 5.999999999999919), Intervalos.Intervalo(0.0, 6.0))\n",
      "(uniqueRoot(X1[i], X0), X1[i], X0) = (-1, Intervalos.Intervalo(5.999999999999919, 6.0), Intervalos.Intervalo(0.0, 6.0))\n",
      "Xbis = Intervalos.Intervalo[Intervalos.Intervalo(6.0, 6.0), Intervalos.Intervalo(6.0, 6.0)]\n",
      "(\" Antes \", X1) = (\" Antes \", Intervalos.Intervalo[Intervalos.Intervalo(3.00002, 4.50148), Intervalos.Intervalo(1.50244, 3.00451), Intervalos.Intervalo(4.50148, 5.25082), Intervalos.Intervalo(0.752677, 1.50244), Intervalos.Intervalo(5.25082, 5.62608), Intervalos.Intervalo(0.376723, 0.752677), Intervalos.Intervalo(5.62608, 5.8134), Intervalos.Intervalo(0.188552, 0.376723), Intervalos.Intervalo(5.8134, 5.90676), Intervalos.Intervalo(0.0944598, 0.188552), Intervalos.Intervalo(5.90676, 5.95343), Intervalos.Intervalo(0.047286, 0.0944598), Intervalos.Intervalo(5.95343, 5.97673), Intervalos.Intervalo(0.0236567, 0.047286), Intervalos.Intervalo(5.97673, 5.98838), Intervalos.Intervalo(0.0118434, 0.0236567), Intervalos.Intervalo(5.98838, 5.99419), Intervalos.Intervalo(0.00593332, 0.0118434), Intervalos.Intervalo(5.99419, 5.9971), Intervalos.Intervalo(0.00296759, 0.00593332), Intervalos.Intervalo(5.9971, 5.99855), Intervalos.Intervalo(0.00148416, 0.00296759), Intervalos.Intervalo(5.99855, 5.99928), Intervalos.Intervalo(0.000743215, 0.00148416), Intervalos.Intervalo(5.99928, 5.99964), Intervalos.Intervalo(0.000372101, 0.000743215), Intervalos.Intervalo(5.99964, 5.99982), Intervalos.Intervalo(0.000186387, 0.000372101), Intervalos.Intervalo(5.99982, 5.99991), Intervalos.Intervalo(9.32925e-5, 0.000186387), Intervalos.Intervalo(5.99991, 5.99995), Intervalos.Intervalo(4.66957e-5, 9.32925e-5), Intervalos.Intervalo(5.99995, 5.99998), Intervalos.Intervalo(2.3382e-5, 4.66957e-5), Intervalos.Intervalo(5.99998, 5.99999), Intervalos.Intervalo(1.17105e-5, 2.3382e-5), Intervalos.Intervalo(5.99999, 5.99999), Intervalos.Intervalo(5.86233e-6, 1.17105e-5), Intervalos.Intervalo(5.99999, 6.0), Intervalos.Intervalo(2.93377e-6, 5.86233e-6), Intervalos.Intervalo(6.0, 6.0), Intervalos.Intervalo(1.46788e-6, 2.93377e-6), Intervalos.Intervalo(6.0, 6.0), Intervalos.Intervalo(7.35144e-7, 1.46788e-6), Intervalos.Intervalo(6.0, 6.0), Intervalos.Intervalo(3.67709e-7, 7.35144e-7), Intervalos.Intervalo(6.0, 6.0), Intervalos.Intervalo(1.84113e-7, 3.67709e-7), Intervalos.Intervalo(6.0, 6.0), Intervalos.Intervalo(9.21621e-8, 1.84113e-7), Intervalos.Intervalo(6.0, 6.0), Intervalos.Intervalo(4.61125e-8, 9.21621e-8), Intervalos.Intervalo(6.0, 6.0), Intervalos.Intervalo(2.309e-8, 4.61125e-8), Intervalos.Intervalo(6.0, 6.0), Intervalos.Intervalo(1.15559e-8, 2.309e-8), Intervalos.Intervalo(6.0, 6.0), Intervalos.Intervalo(5.78372e-9, 1.15559e-8), Intervalos.Intervalo(6.0, 6.0), Intervalos.Intervalo(2.89573e-9, 5.78372e-9), Intervalos.Intervalo(6.0, 6.0), Intervalos.Intervalo(1.45007e-9, 2.89573e-9), Intervalos.Intervalo(6.0, 6.0), Intervalos.Intervalo(7.25281e-10, 1.45007e-9), Intervalos.Intervalo(6.0, 6.0), Intervalos.Intervalo(3.63238e-10, 7.25281e-10), Intervalos.Intervalo(6.0, 6.0), Intervalos.Intervalo(1.81786e-10, 3.63238e-10), Intervalos.Intervalo(6.0, 6.0), Intervalos.Intervalo(9.10717e-11, 1.81786e-10), Intervalos.Intervalo(6.0, 6.0), Intervalos.Intervalo(4.56199e-11, 9.10717e-11), Intervalos.Intervalo(6.0, 6.0), Intervalos.Intervalo(2.28334e-11, 4.56199e-11), Intervalos.Intervalo(6.0, 6.0), Intervalos.Intervalo(1.14245e-11, 2.28334e-11), Intervalos.Intervalo(6.0, 6.0), Intervalos.Intervalo(5.72001e-12, 1.14245e-11), Intervalos.Intervalo(6.0, 6.0), Intervalos.Intervalo(2.86267e-12, 5.72001e-12), Intervalos.Intervalo(6.0, 6.0), Intervalos.Intervalo(1.43136e-12, 2.86267e-12), Intervalos.Intervalo(6.0, 6.0), Intervalos.Intervalo(7.16186e-13, 1.43136e-12), Intervalos.Intervalo(6.0, 6.0), Intervalos.Intervalo(3.58743e-13, 7.16186e-13), Intervalos.Intervalo(6.0, 6.0), Intervalos.Intervalo(1.79521e-13, 3.58743e-13), Intervalos.Intervalo(6.0, 6.0), Intervalos.Intervalo(0.0, 8.98418e-14), Intervalos.Intervalo(8.98418e-14, 1.79521e-13)])\n",
      "(\" Después \", X1) = (\" Después \", Intervalos.Intervalo[Intervalos.Intervalo(3.00002, 4.50148), Intervalos.Intervalo(1.50244, 3.00451), Intervalos.Intervalo(4.50148, 5.25082), Intervalos.Intervalo(0.752677, 1.50244), Intervalos.Intervalo(5.25082, 5.62608), Intervalos.Intervalo(0.376723, 0.752677), Intervalos.Intervalo(5.62608, 5.8134), Intervalos.Intervalo(0.188552, 0.376723), Intervalos.Intervalo(5.8134, 5.90676), Intervalos.Intervalo(0.0944598, 0.188552), Intervalos.Intervalo(5.90676, 5.95343), Intervalos.Intervalo(0.047286, 0.0944598), Intervalos.Intervalo(5.95343, 5.97673), Intervalos.Intervalo(0.0236567, 0.047286), Intervalos.Intervalo(5.97673, 5.98838), Intervalos.Intervalo(0.0118434, 0.0236567), Intervalos.Intervalo(5.98838, 5.99419), Intervalos.Intervalo(0.00593332, 0.0118434), Intervalos.Intervalo(5.99419, 5.9971), Intervalos.Intervalo(0.00296759, 0.00593332), Intervalos.Intervalo(5.9971, 5.99855), Intervalos.Intervalo(0.00148416, 0.00296759), Intervalos.Intervalo(5.99855, 5.99928), Intervalos.Intervalo(0.000743215, 0.00148416), Intervalos.Intervalo(5.99928, 5.99964), Intervalos.Intervalo(0.000372101, 0.000743215), Intervalos.Intervalo(5.99964, 5.99982), Intervalos.Intervalo(0.000186387, 0.000372101), Intervalos.Intervalo(5.99982, 5.99991), Intervalos.Intervalo(9.32925e-5, 0.000186387), Intervalos.Intervalo(5.99991, 5.99995), Intervalos.Intervalo(4.66957e-5, 9.32925e-5), Intervalos.Intervalo(5.99995, 5.99998), Intervalos.Intervalo(2.3382e-5, 4.66957e-5), Intervalos.Intervalo(5.99998, 5.99999), Intervalos.Intervalo(1.17105e-5, 2.3382e-5), Intervalos.Intervalo(5.99999, 5.99999), Intervalos.Intervalo(5.86233e-6, 1.17105e-5), Intervalos.Intervalo(5.99999, 6.0), Intervalos.Intervalo(2.93377e-6, 5.86233e-6), Intervalos.Intervalo(6.0, 6.0), Intervalos.Intervalo(1.46788e-6, 2.93377e-6), Intervalos.Intervalo(6.0, 6.0), Intervalos.Intervalo(7.35144e-7, 1.46788e-6), Intervalos.Intervalo(6.0, 6.0), Intervalos.Intervalo(3.67709e-7, 7.35144e-7), Intervalos.Intervalo(6.0, 6.0), Intervalos.Intervalo(1.84113e-7, 3.67709e-7), Intervalos.Intervalo(6.0, 6.0), Intervalos.Intervalo(9.21621e-8, 1.84113e-7), Intervalos.Intervalo(6.0, 6.0), Intervalos.Intervalo(4.61125e-8, 9.21621e-8), Intervalos.Intervalo(6.0, 6.0), Intervalos.Intervalo(2.309e-8, 4.61125e-8), Intervalos.Intervalo(6.0, 6.0), Intervalos.Intervalo(1.15559e-8, 2.309e-8), Intervalos.Intervalo(6.0, 6.0), Intervalos.Intervalo(5.78372e-9, 1.15559e-8), Intervalos.Intervalo(6.0, 6.0), Intervalos.Intervalo(2.89573e-9, 5.78372e-9), Intervalos.Intervalo(6.0, 6.0), Intervalos.Intervalo(1.45007e-9, 2.89573e-9), Intervalos.Intervalo(6.0, 6.0), Intervalos.Intervalo(7.25281e-10, 1.45007e-9), Intervalos.Intervalo(6.0, 6.0), Intervalos.Intervalo(3.63238e-10, 7.25281e-10), Intervalos.Intervalo(6.0, 6.0), Intervalos.Intervalo(1.81786e-10, 3.63238e-10), Intervalos.Intervalo(6.0, 6.0), Intervalos.Intervalo(9.10717e-11, 1.81786e-10), Intervalos.Intervalo(6.0, 6.0), Intervalos.Intervalo(4.56199e-11, 9.10717e-11), Intervalos.Intervalo(6.0, 6.0), Intervalos.Intervalo(2.28334e-11, 4.56199e-11), Intervalos.Intervalo(6.0, 6.0), Intervalos.Intervalo(1.14245e-11, 2.28334e-11), Intervalos.Intervalo(6.0, 6.0), Intervalos.Intervalo(5.72001e-12, 1.14245e-11), Intervalos.Intervalo(6.0, 6.0), Intervalos.Intervalo(2.86267e-12, 5.72001e-12), Intervalos.Intervalo(6.0, 6.0), Intervalos.Intervalo(1.43136e-12, 2.86267e-12), Intervalos.Intervalo(6.0, 6.0), Intervalos.Intervalo(7.16186e-13, 1.43136e-12), Intervalos.Intervalo(6.0, 6.0), Intervalos.Intervalo(3.58743e-13, 7.16186e-13), Intervalos.Intervalo(6.0, 6.0), Intervalos.Intervalo(1.79521e-13, 3.58743e-13), Intervalos.Intervalo(6.0, 6.0), Intervalos.Intervalo(0.0, 8.98418e-14), Intervalos.Intervalo(8.98418e-14, 1.79521e-13), Intervalos.Intervalo(6.0, 6.0), Intervalos.Intervalo(6.0, 6.0)])\n"
     ]
    },
    {
     "name": "stdout",
     "output_type": "stream",
     "text": [
      "(uniqueRoot(X1[i], X0), X1[i], X0) = (-1, Intervalos.Intervalo(0.0, 8.984178388209957e-14), Intervalos.Intervalo(0.0, 6.0))\n",
      "Xbis = Intervalos.Intervalo[Intervalos.Intervalo(0.0, 4.49796e-14), Intervalos.Intervalo(4.49796e-14, 8.98418e-14)]\n",
      "(\" Antes \", X1) = (\" Antes \", Intervalos.Intervalo[Intervalos.Intervalo(3.00002, 4.50148), Intervalos.Intervalo(1.50244, 3.00451), Intervalos.Intervalo(4.50148, 5.25082), Intervalos.Intervalo(0.752677, 1.50244), Intervalos.Intervalo(5.25082, 5.62608), Intervalos.Intervalo(0.376723, 0.752677), Intervalos.Intervalo(5.62608, 5.8134), Intervalos.Intervalo(0.188552, 0.376723), Intervalos.Intervalo(5.8134, 5.90676), Intervalos.Intervalo(0.0944598, 0.188552), Intervalos.Intervalo(5.90676, 5.95343), Intervalos.Intervalo(0.047286, 0.0944598), Intervalos.Intervalo(5.95343, 5.97673), Intervalos.Intervalo(0.0236567, 0.047286), Intervalos.Intervalo(5.97673, 5.98838), Intervalos.Intervalo(0.0118434, 0.0236567), Intervalos.Intervalo(5.98838, 5.99419), Intervalos.Intervalo(0.00593332, 0.0118434), Intervalos.Intervalo(5.99419, 5.9971), Intervalos.Intervalo(0.00296759, 0.00593332), Intervalos.Intervalo(5.9971, 5.99855), Intervalos.Intervalo(0.00148416, 0.00296759), Intervalos.Intervalo(5.99855, 5.99928), Intervalos.Intervalo(0.000743215, 0.00148416), Intervalos.Intervalo(5.99928, 5.99964), Intervalos.Intervalo(0.000372101, 0.000743215), Intervalos.Intervalo(5.99964, 5.99982), Intervalos.Intervalo(0.000186387, 0.000372101), Intervalos.Intervalo(5.99982, 5.99991), Intervalos.Intervalo(9.32925e-5, 0.000186387), Intervalos.Intervalo(5.99991, 5.99995), Intervalos.Intervalo(4.66957e-5, 9.32925e-5), Intervalos.Intervalo(5.99995, 5.99998), Intervalos.Intervalo(2.3382e-5, 4.66957e-5), Intervalos.Intervalo(5.99998, 5.99999), Intervalos.Intervalo(1.17105e-5, 2.3382e-5), Intervalos.Intervalo(5.99999, 5.99999), Intervalos.Intervalo(5.86233e-6, 1.17105e-5), Intervalos.Intervalo(5.99999, 6.0), Intervalos.Intervalo(2.93377e-6, 5.86233e-6), Intervalos.Intervalo(6.0, 6.0), Intervalos.Intervalo(1.46788e-6, 2.93377e-6), Intervalos.Intervalo(6.0, 6.0), Intervalos.Intervalo(7.35144e-7, 1.46788e-6), Intervalos.Intervalo(6.0, 6.0), Intervalos.Intervalo(3.67709e-7, 7.35144e-7), Intervalos.Intervalo(6.0, 6.0), Intervalos.Intervalo(1.84113e-7, 3.67709e-7), Intervalos.Intervalo(6.0, 6.0), Intervalos.Intervalo(9.21621e-8, 1.84113e-7), Intervalos.Intervalo(6.0, 6.0), Intervalos.Intervalo(4.61125e-8, 9.21621e-8), Intervalos.Intervalo(6.0, 6.0), Intervalos.Intervalo(2.309e-8, 4.61125e-8), Intervalos.Intervalo(6.0, 6.0), Intervalos.Intervalo(1.15559e-8, 2.309e-8), Intervalos.Intervalo(6.0, 6.0), Intervalos.Intervalo(5.78372e-9, 1.15559e-8), Intervalos.Intervalo(6.0, 6.0), Intervalos.Intervalo(2.89573e-9, 5.78372e-9), Intervalos.Intervalo(6.0, 6.0), Intervalos.Intervalo(1.45007e-9, 2.89573e-9), Intervalos.Intervalo(6.0, 6.0), Intervalos.Intervalo(7.25281e-10, 1.45007e-9), Intervalos.Intervalo(6.0, 6.0), Intervalos.Intervalo(3.63238e-10, 7.25281e-10), Intervalos.Intervalo(6.0, 6.0), Intervalos.Intervalo(1.81786e-10, 3.63238e-10), Intervalos.Intervalo(6.0, 6.0), Intervalos.Intervalo(9.10717e-11, 1.81786e-10), Intervalos.Intervalo(6.0, 6.0), Intervalos.Intervalo(4.56199e-11, 9.10717e-11), Intervalos.Intervalo(6.0, 6.0), Intervalos.Intervalo(2.28334e-11, 4.56199e-11), Intervalos.Intervalo(6.0, 6.0), Intervalos.Intervalo(1.14245e-11, 2.28334e-11), Intervalos.Intervalo(6.0, 6.0), Intervalos.Intervalo(5.72001e-12, 1.14245e-11), Intervalos.Intervalo(6.0, 6.0), Intervalos.Intervalo(2.86267e-12, 5.72001e-12), Intervalos.Intervalo(6.0, 6.0), Intervalos.Intervalo(1.43136e-12, 2.86267e-12), Intervalos.Intervalo(6.0, 6.0), Intervalos.Intervalo(7.16186e-13, 1.43136e-12), Intervalos.Intervalo(6.0, 6.0), Intervalos.Intervalo(3.58743e-13, 7.16186e-13), Intervalos.Intervalo(6.0, 6.0), Intervalos.Intervalo(1.79521e-13, 3.58743e-13), Intervalos.Intervalo(6.0, 6.0), Intervalos.Intervalo(8.98418e-14, 1.79521e-13), Intervalos.Intervalo(6.0, 6.0), Intervalos.Intervalo(6.0, 6.0)])\n",
      "(\" Después \", X1) = (\" Después \", Intervalos.Intervalo[Intervalos.Intervalo(3.00002, 4.50148), Intervalos.Intervalo(1.50244, 3.00451), Intervalos.Intervalo(4.50148, 5.25082), Intervalos.Intervalo(0.752677, 1.50244), Intervalos.Intervalo(5.25082, 5.62608), Intervalos.Intervalo(0.376723, 0.752677), Intervalos.Intervalo(5.62608, 5.8134), Intervalos.Intervalo(0.188552, 0.376723), Intervalos.Intervalo(5.8134, 5.90676), Intervalos.Intervalo(0.0944598, 0.188552), Intervalos.Intervalo(5.90676, 5.95343), Intervalos.Intervalo(0.047286, 0.0944598), Intervalos.Intervalo(5.95343, 5.97673), Intervalos.Intervalo(0.0236567, 0.047286), Intervalos.Intervalo(5.97673, 5.98838), Intervalos.Intervalo(0.0118434, 0.0236567), Intervalos.Intervalo(5.98838, 5.99419), Intervalos.Intervalo(0.00593332, 0.0118434), Intervalos.Intervalo(5.99419, 5.9971), Intervalos.Intervalo(0.00296759, 0.00593332), Intervalos.Intervalo(5.9971, 5.99855), Intervalos.Intervalo(0.00148416, 0.00296759), Intervalos.Intervalo(5.99855, 5.99928), Intervalos.Intervalo(0.000743215, 0.00148416), Intervalos.Intervalo(5.99928, 5.99964), Intervalos.Intervalo(0.000372101, 0.000743215), Intervalos.Intervalo(5.99964, 5.99982), Intervalos.Intervalo(0.000186387, 0.000372101), Intervalos.Intervalo(5.99982, 5.99991), Intervalos.Intervalo(9.32925e-5, 0.000186387), Intervalos.Intervalo(5.99991, 5.99995), Intervalos.Intervalo(4.66957e-5, 9.32925e-5), Intervalos.Intervalo(5.99995, 5.99998), Intervalos.Intervalo(2.3382e-5, 4.66957e-5), Intervalos.Intervalo(5.99998, 5.99999), Intervalos.Intervalo(1.17105e-5, 2.3382e-5), Intervalos.Intervalo(5.99999, 5.99999), Intervalos.Intervalo(5.86233e-6, 1.17105e-5), Intervalos.Intervalo(5.99999, 6.0), Intervalos.Intervalo(2.93377e-6, 5.86233e-6), Intervalos.Intervalo(6.0, 6.0), Intervalos.Intervalo(1.46788e-6, 2.93377e-6), Intervalos.Intervalo(6.0, 6.0), Intervalos.Intervalo(7.35144e-7, 1.46788e-6), Intervalos.Intervalo(6.0, 6.0), Intervalos.Intervalo(3.67709e-7, 7.35144e-7), Intervalos.Intervalo(6.0, 6.0), Intervalos.Intervalo(1.84113e-7, 3.67709e-7), Intervalos.Intervalo(6.0, 6.0), Intervalos.Intervalo(9.21621e-8, 1.84113e-7), Intervalos.Intervalo(6.0, 6.0), Intervalos.Intervalo(4.61125e-8, 9.21621e-8), Intervalos.Intervalo(6.0, 6.0), Intervalos.Intervalo(2.309e-8, 4.61125e-8), Intervalos.Intervalo(6.0, 6.0), Intervalos.Intervalo(1.15559e-8, 2.309e-8), Intervalos.Intervalo(6.0, 6.0), Intervalos.Intervalo(5.78372e-9, 1.15559e-8), Intervalos.Intervalo(6.0, 6.0), Intervalos.Intervalo(2.89573e-9, 5.78372e-9), Intervalos.Intervalo(6.0, 6.0), Intervalos.Intervalo(1.45007e-9, 2.89573e-9), Intervalos.Intervalo(6.0, 6.0), Intervalos.Intervalo(7.25281e-10, 1.45007e-9), Intervalos.Intervalo(6.0, 6.0), Intervalos.Intervalo(3.63238e-10, 7.25281e-10), Intervalos.Intervalo(6.0, 6.0), Intervalos.Intervalo(1.81786e-10, 3.63238e-10), Intervalos.Intervalo(6.0, 6.0), Intervalos.Intervalo(9.10717e-11, 1.81786e-10), Intervalos.Intervalo(6.0, 6.0), Intervalos.Intervalo(4.56199e-11, 9.10717e-11), Intervalos.Intervalo(6.0, 6.0), Intervalos.Intervalo(2.28334e-11, 4.56199e-11), Intervalos.Intervalo(6.0, 6.0), Intervalos.Intervalo(1.14245e-11, 2.28334e-11), Intervalos.Intervalo(6.0, 6.0), Intervalos.Intervalo(5.72001e-12, 1.14245e-11), Intervalos.Intervalo(6.0, 6.0), Intervalos.Intervalo(2.86267e-12, 5.72001e-12), Intervalos.Intervalo(6.0, 6.0), Intervalos.Intervalo(1.43136e-12, 2.86267e-12), Intervalos.Intervalo(6.0, 6.0), Intervalos.Intervalo(7.16186e-13, 1.43136e-12), Intervalos.Intervalo(6.0, 6.0), Intervalos.Intervalo(3.58743e-13, 7.16186e-13), Intervalos.Intervalo(6.0, 6.0), Intervalos.Intervalo(1.79521e-13, 3.58743e-13), Intervalos.Intervalo(6.0, 6.0), Intervalos.Intervalo(8.98418e-14, 1.79521e-13), Intervalos.Intervalo(6.0, 6.0), Intervalos.Intervalo(6.0, 6.0), Intervalos.Intervalo(0.0, 4.49796e-14), Intervalos.Intervalo(4.49796e-14, 8.98418e-14)])\n",
      "(uniqueRoot(X1[i], X0), X1[i], X0) = (1, Intervalos.Intervalo(8.984178388209957e-14, 1.7952129410896099e-13), Intervalos.Intervalo(0.0, 6.0))\n",
      "(uniqueRoot(X1[i], X0), X1[i], X0) = (1, Intervalos.Intervalo(5.999999999999919, 5.99999999999996), Intervalos.Intervalo(0.0, 6.0))\n",
      "(uniqueRoot(X1[i], X0), X1[i], X0) = (-1, Intervalos.Intervalo(5.99999999999996, 6.0), Intervalos.Intervalo(0.0, 6.0))\n",
      "Xbis = Intervalos.Intervalo[Intervalos.Intervalo(6.0, 6.0), Intervalos.Intervalo(6.0, 6.0)]\n"
     ]
    },
    {
     "name": "stdout",
     "output_type": "stream",
     "text": [
      "(\" Antes \", X1) = (\" Antes \", Intervalos.Intervalo[Intervalos.Intervalo(3.00002, 4.50148), Intervalos.Intervalo(1.50244, 3.00451), Intervalos.Intervalo(4.50148, 5.25082), Intervalos.Intervalo(0.752677, 1.50244), Intervalos.Intervalo(5.25082, 5.62608), Intervalos.Intervalo(0.376723, 0.752677), Intervalos.Intervalo(5.62608, 5.8134), Intervalos.Intervalo(0.188552, 0.376723), Intervalos.Intervalo(5.8134, 5.90676), Intervalos.Intervalo(0.0944598, 0.188552), Intervalos.Intervalo(5.90676, 5.95343), Intervalos.Intervalo(0.047286, 0.0944598), Intervalos.Intervalo(5.95343, 5.97673), Intervalos.Intervalo(0.0236567, 0.047286), Intervalos.Intervalo(5.97673, 5.98838), Intervalos.Intervalo(0.0118434, 0.0236567), Intervalos.Intervalo(5.98838, 5.99419), Intervalos.Intervalo(0.00593332, 0.0118434), Intervalos.Intervalo(5.99419, 5.9971), Intervalos.Intervalo(0.00296759, 0.00593332), Intervalos.Intervalo(5.9971, 5.99855), Intervalos.Intervalo(0.00148416, 0.00296759), Intervalos.Intervalo(5.99855, 5.99928), Intervalos.Intervalo(0.000743215, 0.00148416), Intervalos.Intervalo(5.99928, 5.99964), Intervalos.Intervalo(0.000372101, 0.000743215), Intervalos.Intervalo(5.99964, 5.99982), Intervalos.Intervalo(0.000186387, 0.000372101), Intervalos.Intervalo(5.99982, 5.99991), Intervalos.Intervalo(9.32925e-5, 0.000186387), Intervalos.Intervalo(5.99991, 5.99995), Intervalos.Intervalo(4.66957e-5, 9.32925e-5), Intervalos.Intervalo(5.99995, 5.99998), Intervalos.Intervalo(2.3382e-5, 4.66957e-5), Intervalos.Intervalo(5.99998, 5.99999), Intervalos.Intervalo(1.17105e-5, 2.3382e-5), Intervalos.Intervalo(5.99999, 5.99999), Intervalos.Intervalo(5.86233e-6, 1.17105e-5), Intervalos.Intervalo(5.99999, 6.0), Intervalos.Intervalo(2.93377e-6, 5.86233e-6), Intervalos.Intervalo(6.0, 6.0), Intervalos.Intervalo(1.46788e-6, 2.93377e-6), Intervalos.Intervalo(6.0, 6.0), Intervalos.Intervalo(7.35144e-7, 1.46788e-6), Intervalos.Intervalo(6.0, 6.0), Intervalos.Intervalo(3.67709e-7, 7.35144e-7), Intervalos.Intervalo(6.0, 6.0), Intervalos.Intervalo(1.84113e-7, 3.67709e-7), Intervalos.Intervalo(6.0, 6.0), Intervalos.Intervalo(9.21621e-8, 1.84113e-7), Intervalos.Intervalo(6.0, 6.0), Intervalos.Intervalo(4.61125e-8, 9.21621e-8), Intervalos.Intervalo(6.0, 6.0), Intervalos.Intervalo(2.309e-8, 4.61125e-8), Intervalos.Intervalo(6.0, 6.0), Intervalos.Intervalo(1.15559e-8, 2.309e-8), Intervalos.Intervalo(6.0, 6.0), Intervalos.Intervalo(5.78372e-9, 1.15559e-8), Intervalos.Intervalo(6.0, 6.0), Intervalos.Intervalo(2.89573e-9, 5.78372e-9), Intervalos.Intervalo(6.0, 6.0), Intervalos.Intervalo(1.45007e-9, 2.89573e-9), Intervalos.Intervalo(6.0, 6.0), Intervalos.Intervalo(7.25281e-10, 1.45007e-9), Intervalos.Intervalo(6.0, 6.0), Intervalos.Intervalo(3.63238e-10, 7.25281e-10), Intervalos.Intervalo(6.0, 6.0), Intervalos.Intervalo(1.81786e-10, 3.63238e-10), Intervalos.Intervalo(6.0, 6.0), Intervalos.Intervalo(9.10717e-11, 1.81786e-10), Intervalos.Intervalo(6.0, 6.0), Intervalos.Intervalo(4.56199e-11, 9.10717e-11), Intervalos.Intervalo(6.0, 6.0), Intervalos.Intervalo(2.28334e-11, 4.56199e-11), Intervalos.Intervalo(6.0, 6.0), Intervalos.Intervalo(1.14245e-11, 2.28334e-11), Intervalos.Intervalo(6.0, 6.0), Intervalos.Intervalo(5.72001e-12, 1.14245e-11), Intervalos.Intervalo(6.0, 6.0), Intervalos.Intervalo(2.86267e-12, 5.72001e-12), Intervalos.Intervalo(6.0, 6.0), Intervalos.Intervalo(1.43136e-12, 2.86267e-12), Intervalos.Intervalo(6.0, 6.0), Intervalos.Intervalo(7.16186e-13, 1.43136e-12), Intervalos.Intervalo(6.0, 6.0), Intervalos.Intervalo(3.58743e-13, 7.16186e-13), Intervalos.Intervalo(6.0, 6.0), Intervalos.Intervalo(1.79521e-13, 3.58743e-13), Intervalos.Intervalo(6.0, 6.0), Intervalos.Intervalo(8.98418e-14, 1.79521e-13), Intervalos.Intervalo(6.0, 6.0), Intervalos.Intervalo(0.0, 4.49796e-14), Intervalos.Intervalo(4.49796e-14, 8.98418e-14)])\n",
      "(\" Después \", X1) = (\" Después \", Intervalos.Intervalo[Intervalos.Intervalo(3.00002, 4.50148), Intervalos.Intervalo(1.50244, 3.00451), Intervalos.Intervalo(4.50148, 5.25082), Intervalos.Intervalo(0.752677, 1.50244), Intervalos.Intervalo(5.25082, 5.62608), Intervalos.Intervalo(0.376723, 0.752677), Intervalos.Intervalo(5.62608, 5.8134), Intervalos.Intervalo(0.188552, 0.376723), Intervalos.Intervalo(5.8134, 5.90676), Intervalos.Intervalo(0.0944598, 0.188552), Intervalos.Intervalo(5.90676, 5.95343), Intervalos.Intervalo(0.047286, 0.0944598), Intervalos.Intervalo(5.95343, 5.97673), Intervalos.Intervalo(0.0236567, 0.047286), Intervalos.Intervalo(5.97673, 5.98838), Intervalos.Intervalo(0.0118434, 0.0236567), Intervalos.Intervalo(5.98838, 5.99419), Intervalos.Intervalo(0.00593332, 0.0118434), Intervalos.Intervalo(5.99419, 5.9971), Intervalos.Intervalo(0.00296759, 0.00593332), Intervalos.Intervalo(5.9971, 5.99855), Intervalos.Intervalo(0.00148416, 0.00296759), Intervalos.Intervalo(5.99855, 5.99928), Intervalos.Intervalo(0.000743215, 0.00148416), Intervalos.Intervalo(5.99928, 5.99964), Intervalos.Intervalo(0.000372101, 0.000743215), Intervalos.Intervalo(5.99964, 5.99982), Intervalos.Intervalo(0.000186387, 0.000372101), Intervalos.Intervalo(5.99982, 5.99991), Intervalos.Intervalo(9.32925e-5, 0.000186387), Intervalos.Intervalo(5.99991, 5.99995), Intervalos.Intervalo(4.66957e-5, 9.32925e-5), Intervalos.Intervalo(5.99995, 5.99998), Intervalos.Intervalo(2.3382e-5, 4.66957e-5), Intervalos.Intervalo(5.99998, 5.99999), Intervalos.Intervalo(1.17105e-5, 2.3382e-5), Intervalos.Intervalo(5.99999, 5.99999), Intervalos.Intervalo(5.86233e-6, 1.17105e-5), Intervalos.Intervalo(5.99999, 6.0), Intervalos.Intervalo(2.93377e-6, 5.86233e-6), Intervalos.Intervalo(6.0, 6.0), Intervalos.Intervalo(1.46788e-6, 2.93377e-6), Intervalos.Intervalo(6.0, 6.0), Intervalos.Intervalo(7.35144e-7, 1.46788e-6), Intervalos.Intervalo(6.0, 6.0), Intervalos.Intervalo(3.67709e-7, 7.35144e-7), Intervalos.Intervalo(6.0, 6.0), Intervalos.Intervalo(1.84113e-7, 3.67709e-7), Intervalos.Intervalo(6.0, 6.0), Intervalos.Intervalo(9.21621e-8, 1.84113e-7), Intervalos.Intervalo(6.0, 6.0), Intervalos.Intervalo(4.61125e-8, 9.21621e-8), Intervalos.Intervalo(6.0, 6.0), Intervalos.Intervalo(2.309e-8, 4.61125e-8), Intervalos.Intervalo(6.0, 6.0), Intervalos.Intervalo(1.15559e-8, 2.309e-8), Intervalos.Intervalo(6.0, 6.0), Intervalos.Intervalo(5.78372e-9, 1.15559e-8), Intervalos.Intervalo(6.0, 6.0), Intervalos.Intervalo(2.89573e-9, 5.78372e-9), Intervalos.Intervalo(6.0, 6.0), Intervalos.Intervalo(1.45007e-9, 2.89573e-9), Intervalos.Intervalo(6.0, 6.0), Intervalos.Intervalo(7.25281e-10, 1.45007e-9), Intervalos.Intervalo(6.0, 6.0), Intervalos.Intervalo(3.63238e-10, 7.25281e-10), Intervalos.Intervalo(6.0, 6.0), Intervalos.Intervalo(1.81786e-10, 3.63238e-10), Intervalos.Intervalo(6.0, 6.0), Intervalos.Intervalo(9.10717e-11, 1.81786e-10), Intervalos.Intervalo(6.0, 6.0), Intervalos.Intervalo(4.56199e-11, 9.10717e-11), Intervalos.Intervalo(6.0, 6.0), Intervalos.Intervalo(2.28334e-11, 4.56199e-11), Intervalos.Intervalo(6.0, 6.0), Intervalos.Intervalo(1.14245e-11, 2.28334e-11), Intervalos.Intervalo(6.0, 6.0), Intervalos.Intervalo(5.72001e-12, 1.14245e-11), Intervalos.Intervalo(6.0, 6.0), Intervalos.Intervalo(2.86267e-12, 5.72001e-12), Intervalos.Intervalo(6.0, 6.0), Intervalos.Intervalo(1.43136e-12, 2.86267e-12), Intervalos.Intervalo(6.0, 6.0), Intervalos.Intervalo(7.16186e-13, 1.43136e-12), Intervalos.Intervalo(6.0, 6.0), Intervalos.Intervalo(3.58743e-13, 7.16186e-13), Intervalos.Intervalo(6.0, 6.0), Intervalos.Intervalo(1.79521e-13, 3.58743e-13), Intervalos.Intervalo(6.0, 6.0), Intervalos.Intervalo(8.98418e-14, 1.79521e-13), Intervalos.Intervalo(6.0, 6.0), Intervalos.Intervalo(0.0, 4.49796e-14), Intervalos.Intervalo(4.49796e-14, 8.98418e-14), Intervalos.Intervalo(6.0, 6.0), Intervalos.Intervalo(6.0, 6.0)])\n",
      "(uniqueRoot(X1[i], X0), X1[i], X0) = (-1, Intervalos.Intervalo(0.0, 4.497963335595569e-14), Intervalos.Intervalo(0.0, 6.0))\n",
      "Xbis = Intervalos.Intervalo[Intervalos.Intervalo(0.0, 2.25336e-14), Intervalos.Intervalo(2.25336e-14, 4.49796e-14)]\n",
      "(\" Antes \", X1) = (\" Antes \", Intervalos.Intervalo[Intervalos.Intervalo(3.00002, 4.50148), Intervalos.Intervalo(1.50244, 3.00451), Intervalos.Intervalo(4.50148, 5.25082), Intervalos.Intervalo(0.752677, 1.50244), Intervalos.Intervalo(5.25082, 5.62608), Intervalos.Intervalo(0.376723, 0.752677), Intervalos.Intervalo(5.62608, 5.8134), Intervalos.Intervalo(0.188552, 0.376723), Intervalos.Intervalo(5.8134, 5.90676), Intervalos.Intervalo(0.0944598, 0.188552), Intervalos.Intervalo(5.90676, 5.95343), Intervalos.Intervalo(0.047286, 0.0944598), Intervalos.Intervalo(5.95343, 5.97673), Intervalos.Intervalo(0.0236567, 0.047286), Intervalos.Intervalo(5.97673, 5.98838), Intervalos.Intervalo(0.0118434, 0.0236567), Intervalos.Intervalo(5.98838, 5.99419), Intervalos.Intervalo(0.00593332, 0.0118434), Intervalos.Intervalo(5.99419, 5.9971), Intervalos.Intervalo(0.00296759, 0.00593332), Intervalos.Intervalo(5.9971, 5.99855), Intervalos.Intervalo(0.00148416, 0.00296759), Intervalos.Intervalo(5.99855, 5.99928), Intervalos.Intervalo(0.000743215, 0.00148416), Intervalos.Intervalo(5.99928, 5.99964), Intervalos.Intervalo(0.000372101, 0.000743215), Intervalos.Intervalo(5.99964, 5.99982), Intervalos.Intervalo(0.000186387, 0.000372101), Intervalos.Intervalo(5.99982, 5.99991), Intervalos.Intervalo(9.32925e-5, 0.000186387), Intervalos.Intervalo(5.99991, 5.99995), Intervalos.Intervalo(4.66957e-5, 9.32925e-5), Intervalos.Intervalo(5.99995, 5.99998), Intervalos.Intervalo(2.3382e-5, 4.66957e-5), Intervalos.Intervalo(5.99998, 5.99999), Intervalos.Intervalo(1.17105e-5, 2.3382e-5), Intervalos.Intervalo(5.99999, 5.99999), Intervalos.Intervalo(5.86233e-6, 1.17105e-5), Intervalos.Intervalo(5.99999, 6.0), Intervalos.Intervalo(2.93377e-6, 5.86233e-6), Intervalos.Intervalo(6.0, 6.0), Intervalos.Intervalo(1.46788e-6, 2.93377e-6), Intervalos.Intervalo(6.0, 6.0), Intervalos.Intervalo(7.35144e-7, 1.46788e-6), Intervalos.Intervalo(6.0, 6.0), Intervalos.Intervalo(3.67709e-7, 7.35144e-7), Intervalos.Intervalo(6.0, 6.0), Intervalos.Intervalo(1.84113e-7, 3.67709e-7), Intervalos.Intervalo(6.0, 6.0), Intervalos.Intervalo(9.21621e-8, 1.84113e-7), Intervalos.Intervalo(6.0, 6.0), Intervalos.Intervalo(4.61125e-8, 9.21621e-8), Intervalos.Intervalo(6.0, 6.0), Intervalos.Intervalo(2.309e-8, 4.61125e-8), Intervalos.Intervalo(6.0, 6.0), Intervalos.Intervalo(1.15559e-8, 2.309e-8), Intervalos.Intervalo(6.0, 6.0), Intervalos.Intervalo(5.78372e-9, 1.15559e-8), Intervalos.Intervalo(6.0, 6.0), Intervalos.Intervalo(2.89573e-9, 5.78372e-9), Intervalos.Intervalo(6.0, 6.0), Intervalos.Intervalo(1.45007e-9, 2.89573e-9), Intervalos.Intervalo(6.0, 6.0), Intervalos.Intervalo(7.25281e-10, 1.45007e-9), Intervalos.Intervalo(6.0, 6.0), Intervalos.Intervalo(3.63238e-10, 7.25281e-10), Intervalos.Intervalo(6.0, 6.0), Intervalos.Intervalo(1.81786e-10, 3.63238e-10), Intervalos.Intervalo(6.0, 6.0), Intervalos.Intervalo(9.10717e-11, 1.81786e-10), Intervalos.Intervalo(6.0, 6.0), Intervalos.Intervalo(4.56199e-11, 9.10717e-11), Intervalos.Intervalo(6.0, 6.0), Intervalos.Intervalo(2.28334e-11, 4.56199e-11), Intervalos.Intervalo(6.0, 6.0), Intervalos.Intervalo(1.14245e-11, 2.28334e-11), Intervalos.Intervalo(6.0, 6.0), Intervalos.Intervalo(5.72001e-12, 1.14245e-11), Intervalos.Intervalo(6.0, 6.0), Intervalos.Intervalo(2.86267e-12, 5.72001e-12), Intervalos.Intervalo(6.0, 6.0), Intervalos.Intervalo(1.43136e-12, 2.86267e-12), Intervalos.Intervalo(6.0, 6.0), Intervalos.Intervalo(7.16186e-13, 1.43136e-12), Intervalos.Intervalo(6.0, 6.0), Intervalos.Intervalo(3.58743e-13, 7.16186e-13), Intervalos.Intervalo(6.0, 6.0), Intervalos.Intervalo(1.79521e-13, 3.58743e-13), Intervalos.Intervalo(6.0, 6.0), Intervalos.Intervalo(8.98418e-14, 1.79521e-13), Intervalos.Intervalo(6.0, 6.0), Intervalos.Intervalo(4.49796e-14, 8.98418e-14), Intervalos.Intervalo(6.0, 6.0), Intervalos.Intervalo(6.0, 6.0)])\n",
      "(\" Después \", X1) = (\" Después \", Intervalos.Intervalo[Intervalos.Intervalo(3.00002, 4.50148), Intervalos.Intervalo(1.50244, 3.00451), Intervalos.Intervalo(4.50148, 5.25082), Intervalos.Intervalo(0.752677, 1.50244), Intervalos.Intervalo(5.25082, 5.62608), Intervalos.Intervalo(0.376723, 0.752677), Intervalos.Intervalo(5.62608, 5.8134), Intervalos.Intervalo(0.188552, 0.376723), Intervalos.Intervalo(5.8134, 5.90676), Intervalos.Intervalo(0.0944598, 0.188552), Intervalos.Intervalo(5.90676, 5.95343), Intervalos.Intervalo(0.047286, 0.0944598), Intervalos.Intervalo(5.95343, 5.97673), Intervalos.Intervalo(0.0236567, 0.047286), Intervalos.Intervalo(5.97673, 5.98838), Intervalos.Intervalo(0.0118434, 0.0236567), Intervalos.Intervalo(5.98838, 5.99419), Intervalos.Intervalo(0.00593332, 0.0118434), Intervalos.Intervalo(5.99419, 5.9971), Intervalos.Intervalo(0.00296759, 0.00593332), Intervalos.Intervalo(5.9971, 5.99855), Intervalos.Intervalo(0.00148416, 0.00296759), Intervalos.Intervalo(5.99855, 5.99928), Intervalos.Intervalo(0.000743215, 0.00148416), Intervalos.Intervalo(5.99928, 5.99964), Intervalos.Intervalo(0.000372101, 0.000743215), Intervalos.Intervalo(5.99964, 5.99982), Intervalos.Intervalo(0.000186387, 0.000372101), Intervalos.Intervalo(5.99982, 5.99991), Intervalos.Intervalo(9.32925e-5, 0.000186387), Intervalos.Intervalo(5.99991, 5.99995), Intervalos.Intervalo(4.66957e-5, 9.32925e-5), Intervalos.Intervalo(5.99995, 5.99998), Intervalos.Intervalo(2.3382e-5, 4.66957e-5), Intervalos.Intervalo(5.99998, 5.99999), Intervalos.Intervalo(1.17105e-5, 2.3382e-5), Intervalos.Intervalo(5.99999, 5.99999), Intervalos.Intervalo(5.86233e-6, 1.17105e-5), Intervalos.Intervalo(5.99999, 6.0), Intervalos.Intervalo(2.93377e-6, 5.86233e-6), Intervalos.Intervalo(6.0, 6.0), Intervalos.Intervalo(1.46788e-6, 2.93377e-6), Intervalos.Intervalo(6.0, 6.0), Intervalos.Intervalo(7.35144e-7, 1.46788e-6), Intervalos.Intervalo(6.0, 6.0), Intervalos.Intervalo(3.67709e-7, 7.35144e-7), Intervalos.Intervalo(6.0, 6.0), Intervalos.Intervalo(1.84113e-7, 3.67709e-7), Intervalos.Intervalo(6.0, 6.0), Intervalos.Intervalo(9.21621e-8, 1.84113e-7), Intervalos.Intervalo(6.0, 6.0), Intervalos.Intervalo(4.61125e-8, 9.21621e-8), Intervalos.Intervalo(6.0, 6.0), Intervalos.Intervalo(2.309e-8, 4.61125e-8), Intervalos.Intervalo(6.0, 6.0), Intervalos.Intervalo(1.15559e-8, 2.309e-8), Intervalos.Intervalo(6.0, 6.0), Intervalos.Intervalo(5.78372e-9, 1.15559e-8), Intervalos.Intervalo(6.0, 6.0), Intervalos.Intervalo(2.89573e-9, 5.78372e-9), Intervalos.Intervalo(6.0, 6.0), Intervalos.Intervalo(1.45007e-9, 2.89573e-9), Intervalos.Intervalo(6.0, 6.0), Intervalos.Intervalo(7.25281e-10, 1.45007e-9), Intervalos.Intervalo(6.0, 6.0), Intervalos.Intervalo(3.63238e-10, 7.25281e-10), Intervalos.Intervalo(6.0, 6.0), Intervalos.Intervalo(1.81786e-10, 3.63238e-10), Intervalos.Intervalo(6.0, 6.0), Intervalos.Intervalo(9.10717e-11, 1.81786e-10), Intervalos.Intervalo(6.0, 6.0), Intervalos.Intervalo(4.56199e-11, 9.10717e-11), Intervalos.Intervalo(6.0, 6.0), Intervalos.Intervalo(2.28334e-11, 4.56199e-11), Intervalos.Intervalo(6.0, 6.0), Intervalos.Intervalo(1.14245e-11, 2.28334e-11), Intervalos.Intervalo(6.0, 6.0), Intervalos.Intervalo(5.72001e-12, 1.14245e-11), Intervalos.Intervalo(6.0, 6.0), Intervalos.Intervalo(2.86267e-12, 5.72001e-12), Intervalos.Intervalo(6.0, 6.0), Intervalos.Intervalo(1.43136e-12, 2.86267e-12), Intervalos.Intervalo(6.0, 6.0), Intervalos.Intervalo(7.16186e-13, 1.43136e-12), Intervalos.Intervalo(6.0, 6.0), Intervalos.Intervalo(3.58743e-13, 7.16186e-13), Intervalos.Intervalo(6.0, 6.0), Intervalos.Intervalo(1.79521e-13, 3.58743e-13), Intervalos.Intervalo(6.0, 6.0), Intervalos.Intervalo(8.98418e-14, 1.79521e-13), Intervalos.Intervalo(6.0, 6.0), Intervalos.Intervalo(4.49796e-14, 8.98418e-14), Intervalos.Intervalo(6.0, 6.0), Intervalos.Intervalo(6.0, 6.0), Intervalos.Intervalo(0.0, 2.25336e-14), Intervalos.Intervalo(2.25336e-14, 4.49796e-14)])\n"
     ]
    },
    {
     "name": "stdout",
     "output_type": "stream",
     "text": [
      "(uniqueRoot(X1[i], X0), X1[i], X0) = (1, Intervalos.Intervalo(4.497963335595569e-14, 8.984178388209957e-14), Intervalos.Intervalo(0.0, 6.0))\n",
      "(uniqueRoot(X1[i], X0), X1[i], X0) = (1, Intervalos.Intervalo(5.99999999999996, 5.9999999999999805), Intervalos.Intervalo(0.0, 6.0))\n",
      "(uniqueRoot(X1[i], X0), X1[i], X0) = (-1, Intervalos.Intervalo(5.9999999999999805, 6.0), Intervalos.Intervalo(0.0, 6.0))\n",
      "Xbis = Intervalos.Intervalo[Intervalos.Intervalo(6.0, 6.0), Intervalos.Intervalo(6.0, 6.0)]\n",
      "(\" Antes \", X1) = (\" Antes \", Intervalos.Intervalo[Intervalos.Intervalo(3.00002, 4.50148), Intervalos.Intervalo(1.50244, 3.00451), Intervalos.Intervalo(4.50148, 5.25082), Intervalos.Intervalo(0.752677, 1.50244), Intervalos.Intervalo(5.25082, 5.62608), Intervalos.Intervalo(0.376723, 0.752677), Intervalos.Intervalo(5.62608, 5.8134), Intervalos.Intervalo(0.188552, 0.376723), Intervalos.Intervalo(5.8134, 5.90676), Intervalos.Intervalo(0.0944598, 0.188552), Intervalos.Intervalo(5.90676, 5.95343), Intervalos.Intervalo(0.047286, 0.0944598), Intervalos.Intervalo(5.95343, 5.97673), Intervalos.Intervalo(0.0236567, 0.047286), Intervalos.Intervalo(5.97673, 5.98838), Intervalos.Intervalo(0.0118434, 0.0236567), Intervalos.Intervalo(5.98838, 5.99419), Intervalos.Intervalo(0.00593332, 0.0118434), Intervalos.Intervalo(5.99419, 5.9971), Intervalos.Intervalo(0.00296759, 0.00593332), Intervalos.Intervalo(5.9971, 5.99855), Intervalos.Intervalo(0.00148416, 0.00296759), Intervalos.Intervalo(5.99855, 5.99928), Intervalos.Intervalo(0.000743215, 0.00148416), Intervalos.Intervalo(5.99928, 5.99964), Intervalos.Intervalo(0.000372101, 0.000743215), Intervalos.Intervalo(5.99964, 5.99982), Intervalos.Intervalo(0.000186387, 0.000372101), Intervalos.Intervalo(5.99982, 5.99991), Intervalos.Intervalo(9.32925e-5, 0.000186387), Intervalos.Intervalo(5.99991, 5.99995), Intervalos.Intervalo(4.66957e-5, 9.32925e-5), Intervalos.Intervalo(5.99995, 5.99998), Intervalos.Intervalo(2.3382e-5, 4.66957e-5), Intervalos.Intervalo(5.99998, 5.99999), Intervalos.Intervalo(1.17105e-5, 2.3382e-5), Intervalos.Intervalo(5.99999, 5.99999), Intervalos.Intervalo(5.86233e-6, 1.17105e-5), Intervalos.Intervalo(5.99999, 6.0), Intervalos.Intervalo(2.93377e-6, 5.86233e-6), Intervalos.Intervalo(6.0, 6.0), Intervalos.Intervalo(1.46788e-6, 2.93377e-6), Intervalos.Intervalo(6.0, 6.0), Intervalos.Intervalo(7.35144e-7, 1.46788e-6), Intervalos.Intervalo(6.0, 6.0), Intervalos.Intervalo(3.67709e-7, 7.35144e-7), Intervalos.Intervalo(6.0, 6.0), Intervalos.Intervalo(1.84113e-7, 3.67709e-7), Intervalos.Intervalo(6.0, 6.0), Intervalos.Intervalo(9.21621e-8, 1.84113e-7), Intervalos.Intervalo(6.0, 6.0), Intervalos.Intervalo(4.61125e-8, 9.21621e-8), Intervalos.Intervalo(6.0, 6.0), Intervalos.Intervalo(2.309e-8, 4.61125e-8), Intervalos.Intervalo(6.0, 6.0), Intervalos.Intervalo(1.15559e-8, 2.309e-8), Intervalos.Intervalo(6.0, 6.0), Intervalos.Intervalo(5.78372e-9, 1.15559e-8), Intervalos.Intervalo(6.0, 6.0), Intervalos.Intervalo(2.89573e-9, 5.78372e-9), Intervalos.Intervalo(6.0, 6.0), Intervalos.Intervalo(1.45007e-9, 2.89573e-9), Intervalos.Intervalo(6.0, 6.0), Intervalos.Intervalo(7.25281e-10, 1.45007e-9), Intervalos.Intervalo(6.0, 6.0), Intervalos.Intervalo(3.63238e-10, 7.25281e-10), Intervalos.Intervalo(6.0, 6.0), Intervalos.Intervalo(1.81786e-10, 3.63238e-10), Intervalos.Intervalo(6.0, 6.0), Intervalos.Intervalo(9.10717e-11, 1.81786e-10), Intervalos.Intervalo(6.0, 6.0), Intervalos.Intervalo(4.56199e-11, 9.10717e-11), Intervalos.Intervalo(6.0, 6.0), Intervalos.Intervalo(2.28334e-11, 4.56199e-11), Intervalos.Intervalo(6.0, 6.0), Intervalos.Intervalo(1.14245e-11, 2.28334e-11), Intervalos.Intervalo(6.0, 6.0), Intervalos.Intervalo(5.72001e-12, 1.14245e-11), Intervalos.Intervalo(6.0, 6.0), Intervalos.Intervalo(2.86267e-12, 5.72001e-12), Intervalos.Intervalo(6.0, 6.0), Intervalos.Intervalo(1.43136e-12, 2.86267e-12), Intervalos.Intervalo(6.0, 6.0), Intervalos.Intervalo(7.16186e-13, 1.43136e-12), Intervalos.Intervalo(6.0, 6.0), Intervalos.Intervalo(3.58743e-13, 7.16186e-13), Intervalos.Intervalo(6.0, 6.0), Intervalos.Intervalo(1.79521e-13, 3.58743e-13), Intervalos.Intervalo(6.0, 6.0), Intervalos.Intervalo(8.98418e-14, 1.79521e-13), Intervalos.Intervalo(6.0, 6.0), Intervalos.Intervalo(4.49796e-14, 8.98418e-14), Intervalos.Intervalo(6.0, 6.0), Intervalos.Intervalo(0.0, 2.25336e-14), Intervalos.Intervalo(2.25336e-14, 4.49796e-14)])\n",
      "(\" Después \", X1) = (\" Después \", Intervalos.Intervalo[Intervalos.Intervalo(3.00002, 4.50148), Intervalos.Intervalo(1.50244, 3.00451), Intervalos.Intervalo(4.50148, 5.25082), Intervalos.Intervalo(0.752677, 1.50244), Intervalos.Intervalo(5.25082, 5.62608), Intervalos.Intervalo(0.376723, 0.752677), Intervalos.Intervalo(5.62608, 5.8134), Intervalos.Intervalo(0.188552, 0.376723), Intervalos.Intervalo(5.8134, 5.90676), Intervalos.Intervalo(0.0944598, 0.188552), Intervalos.Intervalo(5.90676, 5.95343), Intervalos.Intervalo(0.047286, 0.0944598), Intervalos.Intervalo(5.95343, 5.97673), Intervalos.Intervalo(0.0236567, 0.047286), Intervalos.Intervalo(5.97673, 5.98838), Intervalos.Intervalo(0.0118434, 0.0236567), Intervalos.Intervalo(5.98838, 5.99419), Intervalos.Intervalo(0.00593332, 0.0118434), Intervalos.Intervalo(5.99419, 5.9971), Intervalos.Intervalo(0.00296759, 0.00593332), Intervalos.Intervalo(5.9971, 5.99855), Intervalos.Intervalo(0.00148416, 0.00296759), Intervalos.Intervalo(5.99855, 5.99928), Intervalos.Intervalo(0.000743215, 0.00148416), Intervalos.Intervalo(5.99928, 5.99964), Intervalos.Intervalo(0.000372101, 0.000743215), Intervalos.Intervalo(5.99964, 5.99982), Intervalos.Intervalo(0.000186387, 0.000372101), Intervalos.Intervalo(5.99982, 5.99991), Intervalos.Intervalo(9.32925e-5, 0.000186387), Intervalos.Intervalo(5.99991, 5.99995), Intervalos.Intervalo(4.66957e-5, 9.32925e-5), Intervalos.Intervalo(5.99995, 5.99998), Intervalos.Intervalo(2.3382e-5, 4.66957e-5), Intervalos.Intervalo(5.99998, 5.99999), Intervalos.Intervalo(1.17105e-5, 2.3382e-5), Intervalos.Intervalo(5.99999, 5.99999), Intervalos.Intervalo(5.86233e-6, 1.17105e-5), Intervalos.Intervalo(5.99999, 6.0), Intervalos.Intervalo(2.93377e-6, 5.86233e-6), Intervalos.Intervalo(6.0, 6.0), Intervalos.Intervalo(1.46788e-6, 2.93377e-6), Intervalos.Intervalo(6.0, 6.0), Intervalos.Intervalo(7.35144e-7, 1.46788e-6), Intervalos.Intervalo(6.0, 6.0), Intervalos.Intervalo(3.67709e-7, 7.35144e-7), Intervalos.Intervalo(6.0, 6.0), Intervalos.Intervalo(1.84113e-7, 3.67709e-7), Intervalos.Intervalo(6.0, 6.0), Intervalos.Intervalo(9.21621e-8, 1.84113e-7), Intervalos.Intervalo(6.0, 6.0), Intervalos.Intervalo(4.61125e-8, 9.21621e-8), Intervalos.Intervalo(6.0, 6.0), Intervalos.Intervalo(2.309e-8, 4.61125e-8), Intervalos.Intervalo(6.0, 6.0), Intervalos.Intervalo(1.15559e-8, 2.309e-8), Intervalos.Intervalo(6.0, 6.0), Intervalos.Intervalo(5.78372e-9, 1.15559e-8), Intervalos.Intervalo(6.0, 6.0), Intervalos.Intervalo(2.89573e-9, 5.78372e-9), Intervalos.Intervalo(6.0, 6.0), Intervalos.Intervalo(1.45007e-9, 2.89573e-9), Intervalos.Intervalo(6.0, 6.0), Intervalos.Intervalo(7.25281e-10, 1.45007e-9), Intervalos.Intervalo(6.0, 6.0), Intervalos.Intervalo(3.63238e-10, 7.25281e-10), Intervalos.Intervalo(6.0, 6.0), Intervalos.Intervalo(1.81786e-10, 3.63238e-10), Intervalos.Intervalo(6.0, 6.0), Intervalos.Intervalo(9.10717e-11, 1.81786e-10), Intervalos.Intervalo(6.0, 6.0), Intervalos.Intervalo(4.56199e-11, 9.10717e-11), Intervalos.Intervalo(6.0, 6.0), Intervalos.Intervalo(2.28334e-11, 4.56199e-11), Intervalos.Intervalo(6.0, 6.0), Intervalos.Intervalo(1.14245e-11, 2.28334e-11), Intervalos.Intervalo(6.0, 6.0), Intervalos.Intervalo(5.72001e-12, 1.14245e-11), Intervalos.Intervalo(6.0, 6.0), Intervalos.Intervalo(2.86267e-12, 5.72001e-12), Intervalos.Intervalo(6.0, 6.0), Intervalos.Intervalo(1.43136e-12, 2.86267e-12), Intervalos.Intervalo(6.0, 6.0), Intervalos.Intervalo(7.16186e-13, 1.43136e-12), Intervalos.Intervalo(6.0, 6.0), Intervalos.Intervalo(3.58743e-13, 7.16186e-13), Intervalos.Intervalo(6.0, 6.0), Intervalos.Intervalo(1.79521e-13, 3.58743e-13), Intervalos.Intervalo(6.0, 6.0), Intervalos.Intervalo(8.98418e-14, 1.79521e-13), Intervalos.Intervalo(6.0, 6.0), Intervalos.Intervalo(4.49796e-14, 8.98418e-14), Intervalos.Intervalo(6.0, 6.0), Intervalos.Intervalo(0.0, 2.25336e-14), Intervalos.Intervalo(2.25336e-14, 4.49796e-14), Intervalos.Intervalo(6.0, 6.0), Intervalos.Intervalo(6.0, 6.0)])\n",
      "(uniqueRoot(X1[i], X0), X1[i], X0) = (-1, Intervalos.Intervalo(0.0, 2.2533598771438485e-14), Intervalos.Intervalo(0.0, 6.0))\n",
      "Xbis = Intervalos.Intervalo[Intervalos.Intervalo(0.0, 1.1285e-14), Intervalos.Intervalo(1.1285e-14, 2.25336e-14)]\n"
     ]
    },
    {
     "name": "stdout",
     "output_type": "stream",
     "text": [
      "(\" Antes \", X1) = (\" Antes \", Intervalos.Intervalo[Intervalos.Intervalo(3.00002, 4.50148), Intervalos.Intervalo(1.50244, 3.00451), Intervalos.Intervalo(4.50148, 5.25082), Intervalos.Intervalo(0.752677, 1.50244), Intervalos.Intervalo(5.25082, 5.62608), Intervalos.Intervalo(0.376723, 0.752677), Intervalos.Intervalo(5.62608, 5.8134), Intervalos.Intervalo(0.188552, 0.376723), Intervalos.Intervalo(5.8134, 5.90676), Intervalos.Intervalo(0.0944598, 0.188552), Intervalos.Intervalo(5.90676, 5.95343), Intervalos.Intervalo(0.047286, 0.0944598), Intervalos.Intervalo(5.95343, 5.97673), Intervalos.Intervalo(0.0236567, 0.047286), Intervalos.Intervalo(5.97673, 5.98838), Intervalos.Intervalo(0.0118434, 0.0236567), Intervalos.Intervalo(5.98838, 5.99419), Intervalos.Intervalo(0.00593332, 0.0118434), Intervalos.Intervalo(5.99419, 5.9971), Intervalos.Intervalo(0.00296759, 0.00593332), Intervalos.Intervalo(5.9971, 5.99855), Intervalos.Intervalo(0.00148416, 0.00296759), Intervalos.Intervalo(5.99855, 5.99928), Intervalos.Intervalo(0.000743215, 0.00148416), Intervalos.Intervalo(5.99928, 5.99964), Intervalos.Intervalo(0.000372101, 0.000743215), Intervalos.Intervalo(5.99964, 5.99982), Intervalos.Intervalo(0.000186387, 0.000372101), Intervalos.Intervalo(5.99982, 5.99991), Intervalos.Intervalo(9.32925e-5, 0.000186387), Intervalos.Intervalo(5.99991, 5.99995), Intervalos.Intervalo(4.66957e-5, 9.32925e-5), Intervalos.Intervalo(5.99995, 5.99998), Intervalos.Intervalo(2.3382e-5, 4.66957e-5), Intervalos.Intervalo(5.99998, 5.99999), Intervalos.Intervalo(1.17105e-5, 2.3382e-5), Intervalos.Intervalo(5.99999, 5.99999), Intervalos.Intervalo(5.86233e-6, 1.17105e-5), Intervalos.Intervalo(5.99999, 6.0), Intervalos.Intervalo(2.93377e-6, 5.86233e-6), Intervalos.Intervalo(6.0, 6.0), Intervalos.Intervalo(1.46788e-6, 2.93377e-6), Intervalos.Intervalo(6.0, 6.0), Intervalos.Intervalo(7.35144e-7, 1.46788e-6), Intervalos.Intervalo(6.0, 6.0), Intervalos.Intervalo(3.67709e-7, 7.35144e-7), Intervalos.Intervalo(6.0, 6.0), Intervalos.Intervalo(1.84113e-7, 3.67709e-7), Intervalos.Intervalo(6.0, 6.0), Intervalos.Intervalo(9.21621e-8, 1.84113e-7), Intervalos.Intervalo(6.0, 6.0), Intervalos.Intervalo(4.61125e-8, 9.21621e-8), Intervalos.Intervalo(6.0, 6.0), Intervalos.Intervalo(2.309e-8, 4.61125e-8), Intervalos.Intervalo(6.0, 6.0), Intervalos.Intervalo(1.15559e-8, 2.309e-8), Intervalos.Intervalo(6.0, 6.0), Intervalos.Intervalo(5.78372e-9, 1.15559e-8), Intervalos.Intervalo(6.0, 6.0), Intervalos.Intervalo(2.89573e-9, 5.78372e-9), Intervalos.Intervalo(6.0, 6.0), Intervalos.Intervalo(1.45007e-9, 2.89573e-9), Intervalos.Intervalo(6.0, 6.0), Intervalos.Intervalo(7.25281e-10, 1.45007e-9), Intervalos.Intervalo(6.0, 6.0), Intervalos.Intervalo(3.63238e-10, 7.25281e-10), Intervalos.Intervalo(6.0, 6.0), Intervalos.Intervalo(1.81786e-10, 3.63238e-10), Intervalos.Intervalo(6.0, 6.0), Intervalos.Intervalo(9.10717e-11, 1.81786e-10), Intervalos.Intervalo(6.0, 6.0), Intervalos.Intervalo(4.56199e-11, 9.10717e-11), Intervalos.Intervalo(6.0, 6.0), Intervalos.Intervalo(2.28334e-11, 4.56199e-11), Intervalos.Intervalo(6.0, 6.0), Intervalos.Intervalo(1.14245e-11, 2.28334e-11), Intervalos.Intervalo(6.0, 6.0), Intervalos.Intervalo(5.72001e-12, 1.14245e-11), Intervalos.Intervalo(6.0, 6.0), Intervalos.Intervalo(2.86267e-12, 5.72001e-12), Intervalos.Intervalo(6.0, 6.0), Intervalos.Intervalo(1.43136e-12, 2.86267e-12), Intervalos.Intervalo(6.0, 6.0), Intervalos.Intervalo(7.16186e-13, 1.43136e-12), Intervalos.Intervalo(6.0, 6.0), Intervalos.Intervalo(3.58743e-13, 7.16186e-13), Intervalos.Intervalo(6.0, 6.0), Intervalos.Intervalo(1.79521e-13, 3.58743e-13), Intervalos.Intervalo(6.0, 6.0), Intervalos.Intervalo(8.98418e-14, 1.79521e-13), Intervalos.Intervalo(6.0, 6.0), Intervalos.Intervalo(4.49796e-14, 8.98418e-14), Intervalos.Intervalo(6.0, 6.0), Intervalos.Intervalo(2.25336e-14, 4.49796e-14), Intervalos.Intervalo(6.0, 6.0), Intervalos.Intervalo(6.0, 6.0)])\n",
      "(\" Después \", X1) = (\" Después \", Intervalos.Intervalo[Intervalos.Intervalo(3.00002, 4.50148), Intervalos.Intervalo(1.50244, 3.00451), Intervalos.Intervalo(4.50148, 5.25082), Intervalos.Intervalo(0.752677, 1.50244), Intervalos.Intervalo(5.25082, 5.62608), Intervalos.Intervalo(0.376723, 0.752677), Intervalos.Intervalo(5.62608, 5.8134), Intervalos.Intervalo(0.188552, 0.376723), Intervalos.Intervalo(5.8134, 5.90676), Intervalos.Intervalo(0.0944598, 0.188552), Intervalos.Intervalo(5.90676, 5.95343), Intervalos.Intervalo(0.047286, 0.0944598), Intervalos.Intervalo(5.95343, 5.97673), Intervalos.Intervalo(0.0236567, 0.047286), Intervalos.Intervalo(5.97673, 5.98838), Intervalos.Intervalo(0.0118434, 0.0236567), Intervalos.Intervalo(5.98838, 5.99419), Intervalos.Intervalo(0.00593332, 0.0118434), Intervalos.Intervalo(5.99419, 5.9971), Intervalos.Intervalo(0.00296759, 0.00593332), Intervalos.Intervalo(5.9971, 5.99855), Intervalos.Intervalo(0.00148416, 0.00296759), Intervalos.Intervalo(5.99855, 5.99928), Intervalos.Intervalo(0.000743215, 0.00148416), Intervalos.Intervalo(5.99928, 5.99964), Intervalos.Intervalo(0.000372101, 0.000743215), Intervalos.Intervalo(5.99964, 5.99982), Intervalos.Intervalo(0.000186387, 0.000372101), Intervalos.Intervalo(5.99982, 5.99991), Intervalos.Intervalo(9.32925e-5, 0.000186387), Intervalos.Intervalo(5.99991, 5.99995), Intervalos.Intervalo(4.66957e-5, 9.32925e-5), Intervalos.Intervalo(5.99995, 5.99998), Intervalos.Intervalo(2.3382e-5, 4.66957e-5), Intervalos.Intervalo(5.99998, 5.99999), Intervalos.Intervalo(1.17105e-5, 2.3382e-5), Intervalos.Intervalo(5.99999, 5.99999), Intervalos.Intervalo(5.86233e-6, 1.17105e-5), Intervalos.Intervalo(5.99999, 6.0), Intervalos.Intervalo(2.93377e-6, 5.86233e-6), Intervalos.Intervalo(6.0, 6.0), Intervalos.Intervalo(1.46788e-6, 2.93377e-6), Intervalos.Intervalo(6.0, 6.0), Intervalos.Intervalo(7.35144e-7, 1.46788e-6), Intervalos.Intervalo(6.0, 6.0), Intervalos.Intervalo(3.67709e-7, 7.35144e-7), Intervalos.Intervalo(6.0, 6.0), Intervalos.Intervalo(1.84113e-7, 3.67709e-7), Intervalos.Intervalo(6.0, 6.0), Intervalos.Intervalo(9.21621e-8, 1.84113e-7), Intervalos.Intervalo(6.0, 6.0), Intervalos.Intervalo(4.61125e-8, 9.21621e-8), Intervalos.Intervalo(6.0, 6.0), Intervalos.Intervalo(2.309e-8, 4.61125e-8), Intervalos.Intervalo(6.0, 6.0), Intervalos.Intervalo(1.15559e-8, 2.309e-8), Intervalos.Intervalo(6.0, 6.0), Intervalos.Intervalo(5.78372e-9, 1.15559e-8), Intervalos.Intervalo(6.0, 6.0), Intervalos.Intervalo(2.89573e-9, 5.78372e-9), Intervalos.Intervalo(6.0, 6.0), Intervalos.Intervalo(1.45007e-9, 2.89573e-9), Intervalos.Intervalo(6.0, 6.0), Intervalos.Intervalo(7.25281e-10, 1.45007e-9), Intervalos.Intervalo(6.0, 6.0), Intervalos.Intervalo(3.63238e-10, 7.25281e-10), Intervalos.Intervalo(6.0, 6.0), Intervalos.Intervalo(1.81786e-10, 3.63238e-10), Intervalos.Intervalo(6.0, 6.0), Intervalos.Intervalo(9.10717e-11, 1.81786e-10), Intervalos.Intervalo(6.0, 6.0), Intervalos.Intervalo(4.56199e-11, 9.10717e-11), Intervalos.Intervalo(6.0, 6.0), Intervalos.Intervalo(2.28334e-11, 4.56199e-11), Intervalos.Intervalo(6.0, 6.0), Intervalos.Intervalo(1.14245e-11, 2.28334e-11), Intervalos.Intervalo(6.0, 6.0), Intervalos.Intervalo(5.72001e-12, 1.14245e-11), Intervalos.Intervalo(6.0, 6.0), Intervalos.Intervalo(2.86267e-12, 5.72001e-12), Intervalos.Intervalo(6.0, 6.0), Intervalos.Intervalo(1.43136e-12, 2.86267e-12), Intervalos.Intervalo(6.0, 6.0), Intervalos.Intervalo(7.16186e-13, 1.43136e-12), Intervalos.Intervalo(6.0, 6.0), Intervalos.Intervalo(3.58743e-13, 7.16186e-13), Intervalos.Intervalo(6.0, 6.0), Intervalos.Intervalo(1.79521e-13, 3.58743e-13), Intervalos.Intervalo(6.0, 6.0), Intervalos.Intervalo(8.98418e-14, 1.79521e-13), Intervalos.Intervalo(6.0, 6.0), Intervalos.Intervalo(4.49796e-14, 8.98418e-14), Intervalos.Intervalo(6.0, 6.0), Intervalos.Intervalo(2.25336e-14, 4.49796e-14), Intervalos.Intervalo(6.0, 6.0), Intervalos.Intervalo(6.0, 6.0), Intervalos.Intervalo(0.0, 1.1285e-14), Intervalos.Intervalo(1.1285e-14, 2.25336e-14)])\n",
      "(uniqueRoot(X1[i], X0), X1[i], X0) = (1, Intervalos.Intervalo(2.2533598771438485e-14, 4.497963335595569e-14), Intervalos.Intervalo(0.0, 6.0))\n",
      "(uniqueRoot(X1[i], X0), X1[i], X0) = (1, Intervalos.Intervalo(5.9999999999999805, 5.99999999999999), Intervalos.Intervalo(0.0, 6.0))\n",
      "(uniqueRoot(X1[i], X0), X1[i], X0) = (-1, Intervalos.Intervalo(5.99999999999999, 6.0), Intervalos.Intervalo(0.0, 6.0))\n",
      "Xbis = Intervalos.Intervalo[Intervalos.Intervalo(6.0, 6.0), Intervalos.Intervalo(6.0, 6.0)]\n",
      "(\" Antes \", X1) = (\" Antes \", Intervalos.Intervalo[Intervalos.Intervalo(3.00002, 4.50148), Intervalos.Intervalo(1.50244, 3.00451), Intervalos.Intervalo(4.50148, 5.25082), Intervalos.Intervalo(0.752677, 1.50244), Intervalos.Intervalo(5.25082, 5.62608), Intervalos.Intervalo(0.376723, 0.752677), Intervalos.Intervalo(5.62608, 5.8134), Intervalos.Intervalo(0.188552, 0.376723), Intervalos.Intervalo(5.8134, 5.90676), Intervalos.Intervalo(0.0944598, 0.188552), Intervalos.Intervalo(5.90676, 5.95343), Intervalos.Intervalo(0.047286, 0.0944598), Intervalos.Intervalo(5.95343, 5.97673), Intervalos.Intervalo(0.0236567, 0.047286), Intervalos.Intervalo(5.97673, 5.98838), Intervalos.Intervalo(0.0118434, 0.0236567), Intervalos.Intervalo(5.98838, 5.99419), Intervalos.Intervalo(0.00593332, 0.0118434), Intervalos.Intervalo(5.99419, 5.9971), Intervalos.Intervalo(0.00296759, 0.00593332), Intervalos.Intervalo(5.9971, 5.99855), Intervalos.Intervalo(0.00148416, 0.00296759), Intervalos.Intervalo(5.99855, 5.99928), Intervalos.Intervalo(0.000743215, 0.00148416), Intervalos.Intervalo(5.99928, 5.99964), Intervalos.Intervalo(0.000372101, 0.000743215), Intervalos.Intervalo(5.99964, 5.99982), Intervalos.Intervalo(0.000186387, 0.000372101), Intervalos.Intervalo(5.99982, 5.99991), Intervalos.Intervalo(9.32925e-5, 0.000186387), Intervalos.Intervalo(5.99991, 5.99995), Intervalos.Intervalo(4.66957e-5, 9.32925e-5), Intervalos.Intervalo(5.99995, 5.99998), Intervalos.Intervalo(2.3382e-5, 4.66957e-5), Intervalos.Intervalo(5.99998, 5.99999), Intervalos.Intervalo(1.17105e-5, 2.3382e-5), Intervalos.Intervalo(5.99999, 5.99999), Intervalos.Intervalo(5.86233e-6, 1.17105e-5), Intervalos.Intervalo(5.99999, 6.0), Intervalos.Intervalo(2.93377e-6, 5.86233e-6), Intervalos.Intervalo(6.0, 6.0), Intervalos.Intervalo(1.46788e-6, 2.93377e-6), Intervalos.Intervalo(6.0, 6.0), Intervalos.Intervalo(7.35144e-7, 1.46788e-6), Intervalos.Intervalo(6.0, 6.0), Intervalos.Intervalo(3.67709e-7, 7.35144e-7), Intervalos.Intervalo(6.0, 6.0), Intervalos.Intervalo(1.84113e-7, 3.67709e-7), Intervalos.Intervalo(6.0, 6.0), Intervalos.Intervalo(9.21621e-8, 1.84113e-7), Intervalos.Intervalo(6.0, 6.0), Intervalos.Intervalo(4.61125e-8, 9.21621e-8), Intervalos.Intervalo(6.0, 6.0), Intervalos.Intervalo(2.309e-8, 4.61125e-8), Intervalos.Intervalo(6.0, 6.0), Intervalos.Intervalo(1.15559e-8, 2.309e-8), Intervalos.Intervalo(6.0, 6.0), Intervalos.Intervalo(5.78372e-9, 1.15559e-8), Intervalos.Intervalo(6.0, 6.0), Intervalos.Intervalo(2.89573e-9, 5.78372e-9), Intervalos.Intervalo(6.0, 6.0), Intervalos.Intervalo(1.45007e-9, 2.89573e-9), Intervalos.Intervalo(6.0, 6.0), Intervalos.Intervalo(7.25281e-10, 1.45007e-9), Intervalos.Intervalo(6.0, 6.0), Intervalos.Intervalo(3.63238e-10, 7.25281e-10), Intervalos.Intervalo(6.0, 6.0), Intervalos.Intervalo(1.81786e-10, 3.63238e-10), Intervalos.Intervalo(6.0, 6.0), Intervalos.Intervalo(9.10717e-11, 1.81786e-10), Intervalos.Intervalo(6.0, 6.0), Intervalos.Intervalo(4.56199e-11, 9.10717e-11), Intervalos.Intervalo(6.0, 6.0), Intervalos.Intervalo(2.28334e-11, 4.56199e-11), Intervalos.Intervalo(6.0, 6.0), Intervalos.Intervalo(1.14245e-11, 2.28334e-11), Intervalos.Intervalo(6.0, 6.0), Intervalos.Intervalo(5.72001e-12, 1.14245e-11), Intervalos.Intervalo(6.0, 6.0), Intervalos.Intervalo(2.86267e-12, 5.72001e-12), Intervalos.Intervalo(6.0, 6.0), Intervalos.Intervalo(1.43136e-12, 2.86267e-12), Intervalos.Intervalo(6.0, 6.0), Intervalos.Intervalo(7.16186e-13, 1.43136e-12), Intervalos.Intervalo(6.0, 6.0), Intervalos.Intervalo(3.58743e-13, 7.16186e-13), Intervalos.Intervalo(6.0, 6.0), Intervalos.Intervalo(1.79521e-13, 3.58743e-13), Intervalos.Intervalo(6.0, 6.0), Intervalos.Intervalo(8.98418e-14, 1.79521e-13), Intervalos.Intervalo(6.0, 6.0), Intervalos.Intervalo(4.49796e-14, 8.98418e-14), Intervalos.Intervalo(6.0, 6.0), Intervalos.Intervalo(2.25336e-14, 4.49796e-14), Intervalos.Intervalo(6.0, 6.0), Intervalos.Intervalo(0.0, 1.1285e-14), Intervalos.Intervalo(1.1285e-14, 2.25336e-14)])\n",
      "(\" Después \", X1) = (\" Después \", Intervalos.Intervalo[Intervalos.Intervalo(3.00002, 4.50148), Intervalos.Intervalo(1.50244, 3.00451), Intervalos.Intervalo(4.50148, 5.25082), Intervalos.Intervalo(0.752677, 1.50244), Intervalos.Intervalo(5.25082, 5.62608), Intervalos.Intervalo(0.376723, 0.752677), Intervalos.Intervalo(5.62608, 5.8134), Intervalos.Intervalo(0.188552, 0.376723), Intervalos.Intervalo(5.8134, 5.90676), Intervalos.Intervalo(0.0944598, 0.188552), Intervalos.Intervalo(5.90676, 5.95343), Intervalos.Intervalo(0.047286, 0.0944598), Intervalos.Intervalo(5.95343, 5.97673), Intervalos.Intervalo(0.0236567, 0.047286), Intervalos.Intervalo(5.97673, 5.98838), Intervalos.Intervalo(0.0118434, 0.0236567), Intervalos.Intervalo(5.98838, 5.99419), Intervalos.Intervalo(0.00593332, 0.0118434), Intervalos.Intervalo(5.99419, 5.9971), Intervalos.Intervalo(0.00296759, 0.00593332), Intervalos.Intervalo(5.9971, 5.99855), Intervalos.Intervalo(0.00148416, 0.00296759), Intervalos.Intervalo(5.99855, 5.99928), Intervalos.Intervalo(0.000743215, 0.00148416), Intervalos.Intervalo(5.99928, 5.99964), Intervalos.Intervalo(0.000372101, 0.000743215), Intervalos.Intervalo(5.99964, 5.99982), Intervalos.Intervalo(0.000186387, 0.000372101), Intervalos.Intervalo(5.99982, 5.99991), Intervalos.Intervalo(9.32925e-5, 0.000186387), Intervalos.Intervalo(5.99991, 5.99995), Intervalos.Intervalo(4.66957e-5, 9.32925e-5), Intervalos.Intervalo(5.99995, 5.99998), Intervalos.Intervalo(2.3382e-5, 4.66957e-5), Intervalos.Intervalo(5.99998, 5.99999), Intervalos.Intervalo(1.17105e-5, 2.3382e-5), Intervalos.Intervalo(5.99999, 5.99999), Intervalos.Intervalo(5.86233e-6, 1.17105e-5), Intervalos.Intervalo(5.99999, 6.0), Intervalos.Intervalo(2.93377e-6, 5.86233e-6), Intervalos.Intervalo(6.0, 6.0), Intervalos.Intervalo(1.46788e-6, 2.93377e-6), Intervalos.Intervalo(6.0, 6.0), Intervalos.Intervalo(7.35144e-7, 1.46788e-6), Intervalos.Intervalo(6.0, 6.0), Intervalos.Intervalo(3.67709e-7, 7.35144e-7), Intervalos.Intervalo(6.0, 6.0), Intervalos.Intervalo(1.84113e-7, 3.67709e-7), Intervalos.Intervalo(6.0, 6.0), Intervalos.Intervalo(9.21621e-8, 1.84113e-7), Intervalos.Intervalo(6.0, 6.0), Intervalos.Intervalo(4.61125e-8, 9.21621e-8), Intervalos.Intervalo(6.0, 6.0), Intervalos.Intervalo(2.309e-8, 4.61125e-8), Intervalos.Intervalo(6.0, 6.0), Intervalos.Intervalo(1.15559e-8, 2.309e-8), Intervalos.Intervalo(6.0, 6.0), Intervalos.Intervalo(5.78372e-9, 1.15559e-8), Intervalos.Intervalo(6.0, 6.0), Intervalos.Intervalo(2.89573e-9, 5.78372e-9), Intervalos.Intervalo(6.0, 6.0), Intervalos.Intervalo(1.45007e-9, 2.89573e-9), Intervalos.Intervalo(6.0, 6.0), Intervalos.Intervalo(7.25281e-10, 1.45007e-9), Intervalos.Intervalo(6.0, 6.0), Intervalos.Intervalo(3.63238e-10, 7.25281e-10), Intervalos.Intervalo(6.0, 6.0), Intervalos.Intervalo(1.81786e-10, 3.63238e-10), Intervalos.Intervalo(6.0, 6.0), Intervalos.Intervalo(9.10717e-11, 1.81786e-10), Intervalos.Intervalo(6.0, 6.0), Intervalos.Intervalo(4.56199e-11, 9.10717e-11), Intervalos.Intervalo(6.0, 6.0), Intervalos.Intervalo(2.28334e-11, 4.56199e-11), Intervalos.Intervalo(6.0, 6.0), Intervalos.Intervalo(1.14245e-11, 2.28334e-11), Intervalos.Intervalo(6.0, 6.0), Intervalos.Intervalo(5.72001e-12, 1.14245e-11), Intervalos.Intervalo(6.0, 6.0), Intervalos.Intervalo(2.86267e-12, 5.72001e-12), Intervalos.Intervalo(6.0, 6.0), Intervalos.Intervalo(1.43136e-12, 2.86267e-12), Intervalos.Intervalo(6.0, 6.0), Intervalos.Intervalo(7.16186e-13, 1.43136e-12), Intervalos.Intervalo(6.0, 6.0), Intervalos.Intervalo(3.58743e-13, 7.16186e-13), Intervalos.Intervalo(6.0, 6.0), Intervalos.Intervalo(1.79521e-13, 3.58743e-13), Intervalos.Intervalo(6.0, 6.0), Intervalos.Intervalo(8.98418e-14, 1.79521e-13), Intervalos.Intervalo(6.0, 6.0), Intervalos.Intervalo(4.49796e-14, 8.98418e-14), Intervalos.Intervalo(6.0, 6.0), Intervalos.Intervalo(2.25336e-14, 4.49796e-14), Intervalos.Intervalo(6.0, 6.0), Intervalos.Intervalo(0.0, 1.1285e-14), Intervalos.Intervalo(1.1285e-14, 2.25336e-14), Intervalos.Intervalo(6.0, 6.0), Intervalos.Intervalo(6.0, 6.0)])\n"
     ]
    },
    {
     "name": "stdout",
     "output_type": "stream",
     "text": [
      "(uniqueRoot(X1[i], X0), X1[i], X0) = (-1, Intervalos.Intervalo(0.0, 1.1284950112953314e-14), Intervalos.Intervalo(0.0, 6.0))\n",
      "Xbis = Intervalos.Intervalo[Intervalos.Intervalo(0.0, 5.64558e-15), Intervalos.Intervalo(5.64558e-15, 1.1285e-14)]\n",
      "(\" Antes \", X1) = (\" Antes \", Intervalos.Intervalo[Intervalos.Intervalo(3.00002, 4.50148), Intervalos.Intervalo(1.50244, 3.00451), Intervalos.Intervalo(4.50148, 5.25082), Intervalos.Intervalo(0.752677, 1.50244), Intervalos.Intervalo(5.25082, 5.62608), Intervalos.Intervalo(0.376723, 0.752677), Intervalos.Intervalo(5.62608, 5.8134), Intervalos.Intervalo(0.188552, 0.376723), Intervalos.Intervalo(5.8134, 5.90676), Intervalos.Intervalo(0.0944598, 0.188552), Intervalos.Intervalo(5.90676, 5.95343), Intervalos.Intervalo(0.047286, 0.0944598), Intervalos.Intervalo(5.95343, 5.97673), Intervalos.Intervalo(0.0236567, 0.047286), Intervalos.Intervalo(5.97673, 5.98838), Intervalos.Intervalo(0.0118434, 0.0236567), Intervalos.Intervalo(5.98838, 5.99419), Intervalos.Intervalo(0.00593332, 0.0118434), Intervalos.Intervalo(5.99419, 5.9971), Intervalos.Intervalo(0.00296759, 0.00593332), Intervalos.Intervalo(5.9971, 5.99855), Intervalos.Intervalo(0.00148416, 0.00296759), Intervalos.Intervalo(5.99855, 5.99928), Intervalos.Intervalo(0.000743215, 0.00148416), Intervalos.Intervalo(5.99928, 5.99964), Intervalos.Intervalo(0.000372101, 0.000743215), Intervalos.Intervalo(5.99964, 5.99982), Intervalos.Intervalo(0.000186387, 0.000372101), Intervalos.Intervalo(5.99982, 5.99991), Intervalos.Intervalo(9.32925e-5, 0.000186387), Intervalos.Intervalo(5.99991, 5.99995), Intervalos.Intervalo(4.66957e-5, 9.32925e-5), Intervalos.Intervalo(5.99995, 5.99998), Intervalos.Intervalo(2.3382e-5, 4.66957e-5), Intervalos.Intervalo(5.99998, 5.99999), Intervalos.Intervalo(1.17105e-5, 2.3382e-5), Intervalos.Intervalo(5.99999, 5.99999), Intervalos.Intervalo(5.86233e-6, 1.17105e-5), Intervalos.Intervalo(5.99999, 6.0), Intervalos.Intervalo(2.93377e-6, 5.86233e-6), Intervalos.Intervalo(6.0, 6.0), Intervalos.Intervalo(1.46788e-6, 2.93377e-6), Intervalos.Intervalo(6.0, 6.0), Intervalos.Intervalo(7.35144e-7, 1.46788e-6), Intervalos.Intervalo(6.0, 6.0), Intervalos.Intervalo(3.67709e-7, 7.35144e-7), Intervalos.Intervalo(6.0, 6.0), Intervalos.Intervalo(1.84113e-7, 3.67709e-7), Intervalos.Intervalo(6.0, 6.0), Intervalos.Intervalo(9.21621e-8, 1.84113e-7), Intervalos.Intervalo(6.0, 6.0), Intervalos.Intervalo(4.61125e-8, 9.21621e-8), Intervalos.Intervalo(6.0, 6.0), Intervalos.Intervalo(2.309e-8, 4.61125e-8), Intervalos.Intervalo(6.0, 6.0), Intervalos.Intervalo(1.15559e-8, 2.309e-8), Intervalos.Intervalo(6.0, 6.0), Intervalos.Intervalo(5.78372e-9, 1.15559e-8), Intervalos.Intervalo(6.0, 6.0), Intervalos.Intervalo(2.89573e-9, 5.78372e-9), Intervalos.Intervalo(6.0, 6.0), Intervalos.Intervalo(1.45007e-9, 2.89573e-9), Intervalos.Intervalo(6.0, 6.0), Intervalos.Intervalo(7.25281e-10, 1.45007e-9), Intervalos.Intervalo(6.0, 6.0), Intervalos.Intervalo(3.63238e-10, 7.25281e-10), Intervalos.Intervalo(6.0, 6.0), Intervalos.Intervalo(1.81786e-10, 3.63238e-10), Intervalos.Intervalo(6.0, 6.0), Intervalos.Intervalo(9.10717e-11, 1.81786e-10), Intervalos.Intervalo(6.0, 6.0), Intervalos.Intervalo(4.56199e-11, 9.10717e-11), Intervalos.Intervalo(6.0, 6.0), Intervalos.Intervalo(2.28334e-11, 4.56199e-11), Intervalos.Intervalo(6.0, 6.0), Intervalos.Intervalo(1.14245e-11, 2.28334e-11), Intervalos.Intervalo(6.0, 6.0), Intervalos.Intervalo(5.72001e-12, 1.14245e-11), Intervalos.Intervalo(6.0, 6.0), Intervalos.Intervalo(2.86267e-12, 5.72001e-12), Intervalos.Intervalo(6.0, 6.0), Intervalos.Intervalo(1.43136e-12, 2.86267e-12), Intervalos.Intervalo(6.0, 6.0), Intervalos.Intervalo(7.16186e-13, 1.43136e-12), Intervalos.Intervalo(6.0, 6.0), Intervalos.Intervalo(3.58743e-13, 7.16186e-13), Intervalos.Intervalo(6.0, 6.0), Intervalos.Intervalo(1.79521e-13, 3.58743e-13), Intervalos.Intervalo(6.0, 6.0), Intervalos.Intervalo(8.98418e-14, 1.79521e-13), Intervalos.Intervalo(6.0, 6.0), Intervalos.Intervalo(4.49796e-14, 8.98418e-14), Intervalos.Intervalo(6.0, 6.0), Intervalos.Intervalo(2.25336e-14, 4.49796e-14), Intervalos.Intervalo(6.0, 6.0), Intervalos.Intervalo(1.1285e-14, 2.25336e-14), Intervalos.Intervalo(6.0, 6.0), Intervalos.Intervalo(6.0, 6.0)])\n",
      "(\" Después \", X1) = (\" Después \", Intervalos.Intervalo[Intervalos.Intervalo(3.00002, 4.50148), Intervalos.Intervalo(1.50244, 3.00451), Intervalos.Intervalo(4.50148, 5.25082), Intervalos.Intervalo(0.752677, 1.50244), Intervalos.Intervalo(5.25082, 5.62608), Intervalos.Intervalo(0.376723, 0.752677), Intervalos.Intervalo(5.62608, 5.8134), Intervalos.Intervalo(0.188552, 0.376723), Intervalos.Intervalo(5.8134, 5.90676), Intervalos.Intervalo(0.0944598, 0.188552), Intervalos.Intervalo(5.90676, 5.95343), Intervalos.Intervalo(0.047286, 0.0944598), Intervalos.Intervalo(5.95343, 5.97673), Intervalos.Intervalo(0.0236567, 0.047286), Intervalos.Intervalo(5.97673, 5.98838), Intervalos.Intervalo(0.0118434, 0.0236567), Intervalos.Intervalo(5.98838, 5.99419), Intervalos.Intervalo(0.00593332, 0.0118434), Intervalos.Intervalo(5.99419, 5.9971), Intervalos.Intervalo(0.00296759, 0.00593332), Intervalos.Intervalo(5.9971, 5.99855), Intervalos.Intervalo(0.00148416, 0.00296759), Intervalos.Intervalo(5.99855, 5.99928), Intervalos.Intervalo(0.000743215, 0.00148416), Intervalos.Intervalo(5.99928, 5.99964), Intervalos.Intervalo(0.000372101, 0.000743215), Intervalos.Intervalo(5.99964, 5.99982), Intervalos.Intervalo(0.000186387, 0.000372101), Intervalos.Intervalo(5.99982, 5.99991), Intervalos.Intervalo(9.32925e-5, 0.000186387), Intervalos.Intervalo(5.99991, 5.99995), Intervalos.Intervalo(4.66957e-5, 9.32925e-5), Intervalos.Intervalo(5.99995, 5.99998), Intervalos.Intervalo(2.3382e-5, 4.66957e-5), Intervalos.Intervalo(5.99998, 5.99999), Intervalos.Intervalo(1.17105e-5, 2.3382e-5), Intervalos.Intervalo(5.99999, 5.99999), Intervalos.Intervalo(5.86233e-6, 1.17105e-5), Intervalos.Intervalo(5.99999, 6.0), Intervalos.Intervalo(2.93377e-6, 5.86233e-6), Intervalos.Intervalo(6.0, 6.0), Intervalos.Intervalo(1.46788e-6, 2.93377e-6), Intervalos.Intervalo(6.0, 6.0), Intervalos.Intervalo(7.35144e-7, 1.46788e-6), Intervalos.Intervalo(6.0, 6.0), Intervalos.Intervalo(3.67709e-7, 7.35144e-7), Intervalos.Intervalo(6.0, 6.0), Intervalos.Intervalo(1.84113e-7, 3.67709e-7), Intervalos.Intervalo(6.0, 6.0), Intervalos.Intervalo(9.21621e-8, 1.84113e-7), Intervalos.Intervalo(6.0, 6.0), Intervalos.Intervalo(4.61125e-8, 9.21621e-8), Intervalos.Intervalo(6.0, 6.0), Intervalos.Intervalo(2.309e-8, 4.61125e-8), Intervalos.Intervalo(6.0, 6.0), Intervalos.Intervalo(1.15559e-8, 2.309e-8), Intervalos.Intervalo(6.0, 6.0), Intervalos.Intervalo(5.78372e-9, 1.15559e-8), Intervalos.Intervalo(6.0, 6.0), Intervalos.Intervalo(2.89573e-9, 5.78372e-9), Intervalos.Intervalo(6.0, 6.0), Intervalos.Intervalo(1.45007e-9, 2.89573e-9), Intervalos.Intervalo(6.0, 6.0), Intervalos.Intervalo(7.25281e-10, 1.45007e-9), Intervalos.Intervalo(6.0, 6.0), Intervalos.Intervalo(3.63238e-10, 7.25281e-10), Intervalos.Intervalo(6.0, 6.0), Intervalos.Intervalo(1.81786e-10, 3.63238e-10), Intervalos.Intervalo(6.0, 6.0), Intervalos.Intervalo(9.10717e-11, 1.81786e-10), Intervalos.Intervalo(6.0, 6.0), Intervalos.Intervalo(4.56199e-11, 9.10717e-11), Intervalos.Intervalo(6.0, 6.0), Intervalos.Intervalo(2.28334e-11, 4.56199e-11), Intervalos.Intervalo(6.0, 6.0), Intervalos.Intervalo(1.14245e-11, 2.28334e-11), Intervalos.Intervalo(6.0, 6.0), Intervalos.Intervalo(5.72001e-12, 1.14245e-11), Intervalos.Intervalo(6.0, 6.0), Intervalos.Intervalo(2.86267e-12, 5.72001e-12), Intervalos.Intervalo(6.0, 6.0), Intervalos.Intervalo(1.43136e-12, 2.86267e-12), Intervalos.Intervalo(6.0, 6.0), Intervalos.Intervalo(7.16186e-13, 1.43136e-12), Intervalos.Intervalo(6.0, 6.0), Intervalos.Intervalo(3.58743e-13, 7.16186e-13), Intervalos.Intervalo(6.0, 6.0), Intervalos.Intervalo(1.79521e-13, 3.58743e-13), Intervalos.Intervalo(6.0, 6.0), Intervalos.Intervalo(8.98418e-14, 1.79521e-13), Intervalos.Intervalo(6.0, 6.0), Intervalos.Intervalo(4.49796e-14, 8.98418e-14), Intervalos.Intervalo(6.0, 6.0), Intervalos.Intervalo(2.25336e-14, 4.49796e-14), Intervalos.Intervalo(6.0, 6.0), Intervalos.Intervalo(1.1285e-14, 2.25336e-14), Intervalos.Intervalo(6.0, 6.0), Intervalos.Intervalo(6.0, 6.0), Intervalos.Intervalo(0.0, 5.64558e-15), Intervalos.Intervalo(5.64558e-15, 1.1285e-14)])\n",
      "(uniqueRoot(X1[i], X0), X1[i], X0) = (1, Intervalos.Intervalo(1.1284950112953314e-14, 2.2533598771438485e-14), Intervalos.Intervalo(0.0, 6.0))\n",
      "(uniqueRoot(X1[i], X0), X1[i], X0) = (1, Intervalos.Intervalo(5.99999999999999, 5.999999999999996), Intervalos.Intervalo(0.0, 6.0))\n",
      "(uniqueRoot(X1[i], X0), X1[i], X0) = (-1, Intervalos.Intervalo(5.999999999999996, 6.0), Intervalos.Intervalo(0.0, 6.0))\n",
      "Xbis = Intervalos.Intervalo[Intervalos.Intervalo(6.0, 6.0), Intervalos.Intervalo(6.0, 6.0)]\n"
     ]
    },
    {
     "name": "stdout",
     "output_type": "stream",
     "text": [
      "(\" Antes \", X1) = (\" Antes \", Intervalos.Intervalo[Intervalos.Intervalo(3.00002, 4.50148), Intervalos.Intervalo(1.50244, 3.00451), Intervalos.Intervalo(4.50148, 5.25082), Intervalos.Intervalo(0.752677, 1.50244), Intervalos.Intervalo(5.25082, 5.62608), Intervalos.Intervalo(0.376723, 0.752677), Intervalos.Intervalo(5.62608, 5.8134), Intervalos.Intervalo(0.188552, 0.376723), Intervalos.Intervalo(5.8134, 5.90676), Intervalos.Intervalo(0.0944598, 0.188552), Intervalos.Intervalo(5.90676, 5.95343), Intervalos.Intervalo(0.047286, 0.0944598), Intervalos.Intervalo(5.95343, 5.97673), Intervalos.Intervalo(0.0236567, 0.047286), Intervalos.Intervalo(5.97673, 5.98838), Intervalos.Intervalo(0.0118434, 0.0236567), Intervalos.Intervalo(5.98838, 5.99419), Intervalos.Intervalo(0.00593332, 0.0118434), Intervalos.Intervalo(5.99419, 5.9971), Intervalos.Intervalo(0.00296759, 0.00593332), Intervalos.Intervalo(5.9971, 5.99855), Intervalos.Intervalo(0.00148416, 0.00296759), Intervalos.Intervalo(5.99855, 5.99928), Intervalos.Intervalo(0.000743215, 0.00148416), Intervalos.Intervalo(5.99928, 5.99964), Intervalos.Intervalo(0.000372101, 0.000743215), Intervalos.Intervalo(5.99964, 5.99982), Intervalos.Intervalo(0.000186387, 0.000372101), Intervalos.Intervalo(5.99982, 5.99991), Intervalos.Intervalo(9.32925e-5, 0.000186387), Intervalos.Intervalo(5.99991, 5.99995), Intervalos.Intervalo(4.66957e-5, 9.32925e-5), Intervalos.Intervalo(5.99995, 5.99998), Intervalos.Intervalo(2.3382e-5, 4.66957e-5), Intervalos.Intervalo(5.99998, 5.99999), Intervalos.Intervalo(1.17105e-5, 2.3382e-5), Intervalos.Intervalo(5.99999, 5.99999), Intervalos.Intervalo(5.86233e-6, 1.17105e-5), Intervalos.Intervalo(5.99999, 6.0), Intervalos.Intervalo(2.93377e-6, 5.86233e-6), Intervalos.Intervalo(6.0, 6.0), Intervalos.Intervalo(1.46788e-6, 2.93377e-6), Intervalos.Intervalo(6.0, 6.0), Intervalos.Intervalo(7.35144e-7, 1.46788e-6), Intervalos.Intervalo(6.0, 6.0), Intervalos.Intervalo(3.67709e-7, 7.35144e-7), Intervalos.Intervalo(6.0, 6.0), Intervalos.Intervalo(1.84113e-7, 3.67709e-7), Intervalos.Intervalo(6.0, 6.0), Intervalos.Intervalo(9.21621e-8, 1.84113e-7), Intervalos.Intervalo(6.0, 6.0), Intervalos.Intervalo(4.61125e-8, 9.21621e-8), Intervalos.Intervalo(6.0, 6.0), Intervalos.Intervalo(2.309e-8, 4.61125e-8), Intervalos.Intervalo(6.0, 6.0), Intervalos.Intervalo(1.15559e-8, 2.309e-8), Intervalos.Intervalo(6.0, 6.0), Intervalos.Intervalo(5.78372e-9, 1.15559e-8), Intervalos.Intervalo(6.0, 6.0), Intervalos.Intervalo(2.89573e-9, 5.78372e-9), Intervalos.Intervalo(6.0, 6.0), Intervalos.Intervalo(1.45007e-9, 2.89573e-9), Intervalos.Intervalo(6.0, 6.0), Intervalos.Intervalo(7.25281e-10, 1.45007e-9), Intervalos.Intervalo(6.0, 6.0), Intervalos.Intervalo(3.63238e-10, 7.25281e-10), Intervalos.Intervalo(6.0, 6.0), Intervalos.Intervalo(1.81786e-10, 3.63238e-10), Intervalos.Intervalo(6.0, 6.0), Intervalos.Intervalo(9.10717e-11, 1.81786e-10), Intervalos.Intervalo(6.0, 6.0), Intervalos.Intervalo(4.56199e-11, 9.10717e-11), Intervalos.Intervalo(6.0, 6.0), Intervalos.Intervalo(2.28334e-11, 4.56199e-11), Intervalos.Intervalo(6.0, 6.0), Intervalos.Intervalo(1.14245e-11, 2.28334e-11), Intervalos.Intervalo(6.0, 6.0), Intervalos.Intervalo(5.72001e-12, 1.14245e-11), Intervalos.Intervalo(6.0, 6.0), Intervalos.Intervalo(2.86267e-12, 5.72001e-12), Intervalos.Intervalo(6.0, 6.0), Intervalos.Intervalo(1.43136e-12, 2.86267e-12), Intervalos.Intervalo(6.0, 6.0), Intervalos.Intervalo(7.16186e-13, 1.43136e-12), Intervalos.Intervalo(6.0, 6.0), Intervalos.Intervalo(3.58743e-13, 7.16186e-13), Intervalos.Intervalo(6.0, 6.0), Intervalos.Intervalo(1.79521e-13, 3.58743e-13), Intervalos.Intervalo(6.0, 6.0), Intervalos.Intervalo(8.98418e-14, 1.79521e-13), Intervalos.Intervalo(6.0, 6.0), Intervalos.Intervalo(4.49796e-14, 8.98418e-14), Intervalos.Intervalo(6.0, 6.0), Intervalos.Intervalo(2.25336e-14, 4.49796e-14), Intervalos.Intervalo(6.0, 6.0), Intervalos.Intervalo(1.1285e-14, 2.25336e-14), Intervalos.Intervalo(6.0, 6.0), Intervalos.Intervalo(0.0, 5.64558e-15), Intervalos.Intervalo(5.64558e-15, 1.1285e-14)])\n",
      "(\" Después \", X1) = (\" Después \", Intervalos.Intervalo[Intervalos.Intervalo(3.00002, 4.50148), Intervalos.Intervalo(1.50244, 3.00451), Intervalos.Intervalo(4.50148, 5.25082), Intervalos.Intervalo(0.752677, 1.50244), Intervalos.Intervalo(5.25082, 5.62608), Intervalos.Intervalo(0.376723, 0.752677), Intervalos.Intervalo(5.62608, 5.8134), Intervalos.Intervalo(0.188552, 0.376723), Intervalos.Intervalo(5.8134, 5.90676), Intervalos.Intervalo(0.0944598, 0.188552), Intervalos.Intervalo(5.90676, 5.95343), Intervalos.Intervalo(0.047286, 0.0944598), Intervalos.Intervalo(5.95343, 5.97673), Intervalos.Intervalo(0.0236567, 0.047286), Intervalos.Intervalo(5.97673, 5.98838), Intervalos.Intervalo(0.0118434, 0.0236567), Intervalos.Intervalo(5.98838, 5.99419), Intervalos.Intervalo(0.00593332, 0.0118434), Intervalos.Intervalo(5.99419, 5.9971), Intervalos.Intervalo(0.00296759, 0.00593332), Intervalos.Intervalo(5.9971, 5.99855), Intervalos.Intervalo(0.00148416, 0.00296759), Intervalos.Intervalo(5.99855, 5.99928), Intervalos.Intervalo(0.000743215, 0.00148416), Intervalos.Intervalo(5.99928, 5.99964), Intervalos.Intervalo(0.000372101, 0.000743215), Intervalos.Intervalo(5.99964, 5.99982), Intervalos.Intervalo(0.000186387, 0.000372101), Intervalos.Intervalo(5.99982, 5.99991), Intervalos.Intervalo(9.32925e-5, 0.000186387), Intervalos.Intervalo(5.99991, 5.99995), Intervalos.Intervalo(4.66957e-5, 9.32925e-5), Intervalos.Intervalo(5.99995, 5.99998), Intervalos.Intervalo(2.3382e-5, 4.66957e-5), Intervalos.Intervalo(5.99998, 5.99999), Intervalos.Intervalo(1.17105e-5, 2.3382e-5), Intervalos.Intervalo(5.99999, 5.99999), Intervalos.Intervalo(5.86233e-6, 1.17105e-5), Intervalos.Intervalo(5.99999, 6.0), Intervalos.Intervalo(2.93377e-6, 5.86233e-6), Intervalos.Intervalo(6.0, 6.0), Intervalos.Intervalo(1.46788e-6, 2.93377e-6), Intervalos.Intervalo(6.0, 6.0), Intervalos.Intervalo(7.35144e-7, 1.46788e-6), Intervalos.Intervalo(6.0, 6.0), Intervalos.Intervalo(3.67709e-7, 7.35144e-7), Intervalos.Intervalo(6.0, 6.0), Intervalos.Intervalo(1.84113e-7, 3.67709e-7), Intervalos.Intervalo(6.0, 6.0), Intervalos.Intervalo(9.21621e-8, 1.84113e-7), Intervalos.Intervalo(6.0, 6.0), Intervalos.Intervalo(4.61125e-8, 9.21621e-8), Intervalos.Intervalo(6.0, 6.0), Intervalos.Intervalo(2.309e-8, 4.61125e-8), Intervalos.Intervalo(6.0, 6.0), Intervalos.Intervalo(1.15559e-8, 2.309e-8), Intervalos.Intervalo(6.0, 6.0), Intervalos.Intervalo(5.78372e-9, 1.15559e-8), Intervalos.Intervalo(6.0, 6.0), Intervalos.Intervalo(2.89573e-9, 5.78372e-9), Intervalos.Intervalo(6.0, 6.0), Intervalos.Intervalo(1.45007e-9, 2.89573e-9), Intervalos.Intervalo(6.0, 6.0), Intervalos.Intervalo(7.25281e-10, 1.45007e-9), Intervalos.Intervalo(6.0, 6.0), Intervalos.Intervalo(3.63238e-10, 7.25281e-10), Intervalos.Intervalo(6.0, 6.0), Intervalos.Intervalo(1.81786e-10, 3.63238e-10), Intervalos.Intervalo(6.0, 6.0), Intervalos.Intervalo(9.10717e-11, 1.81786e-10), Intervalos.Intervalo(6.0, 6.0), Intervalos.Intervalo(4.56199e-11, 9.10717e-11), Intervalos.Intervalo(6.0, 6.0), Intervalos.Intervalo(2.28334e-11, 4.56199e-11), Intervalos.Intervalo(6.0, 6.0), Intervalos.Intervalo(1.14245e-11, 2.28334e-11), Intervalos.Intervalo(6.0, 6.0), Intervalos.Intervalo(5.72001e-12, 1.14245e-11), Intervalos.Intervalo(6.0, 6.0), Intervalos.Intervalo(2.86267e-12, 5.72001e-12), Intervalos.Intervalo(6.0, 6.0), Intervalos.Intervalo(1.43136e-12, 2.86267e-12), Intervalos.Intervalo(6.0, 6.0), Intervalos.Intervalo(7.16186e-13, 1.43136e-12), Intervalos.Intervalo(6.0, 6.0), Intervalos.Intervalo(3.58743e-13, 7.16186e-13), Intervalos.Intervalo(6.0, 6.0), Intervalos.Intervalo(1.79521e-13, 3.58743e-13), Intervalos.Intervalo(6.0, 6.0), Intervalos.Intervalo(8.98418e-14, 1.79521e-13), Intervalos.Intervalo(6.0, 6.0), Intervalos.Intervalo(4.49796e-14, 8.98418e-14), Intervalos.Intervalo(6.0, 6.0), Intervalos.Intervalo(2.25336e-14, 4.49796e-14), Intervalos.Intervalo(6.0, 6.0), Intervalos.Intervalo(1.1285e-14, 2.25336e-14), Intervalos.Intervalo(6.0, 6.0), Intervalos.Intervalo(0.0, 5.64558e-15), Intervalos.Intervalo(5.64558e-15, 1.1285e-14), Intervalos.Intervalo(6.0, 6.0), Intervalos.Intervalo(6.0, 6.0)])\n",
      "(uniqueRoot(X1[i], X0), X1[i], X0) = (-1, Intervalos.Intervalo(0.0, 5.645580958511399e-15), Intervalos.Intervalo(0.0, 6.0))\n",
      "Xbis = Intervalos.Intervalo[Intervalos.Intervalo(0.0, 2.82466e-15), Intervalos.Intervalo(2.82466e-15, 5.64558e-15)]\n",
      "(\" Antes \", X1) = (\" Antes \", Intervalos.Intervalo[Intervalos.Intervalo(3.00002, 4.50148), Intervalos.Intervalo(1.50244, 3.00451), Intervalos.Intervalo(4.50148, 5.25082), Intervalos.Intervalo(0.752677, 1.50244), Intervalos.Intervalo(5.25082, 5.62608), Intervalos.Intervalo(0.376723, 0.752677), Intervalos.Intervalo(5.62608, 5.8134), Intervalos.Intervalo(0.188552, 0.376723), Intervalos.Intervalo(5.8134, 5.90676), Intervalos.Intervalo(0.0944598, 0.188552), Intervalos.Intervalo(5.90676, 5.95343), Intervalos.Intervalo(0.047286, 0.0944598), Intervalos.Intervalo(5.95343, 5.97673), Intervalos.Intervalo(0.0236567, 0.047286), Intervalos.Intervalo(5.97673, 5.98838), Intervalos.Intervalo(0.0118434, 0.0236567), Intervalos.Intervalo(5.98838, 5.99419), Intervalos.Intervalo(0.00593332, 0.0118434), Intervalos.Intervalo(5.99419, 5.9971), Intervalos.Intervalo(0.00296759, 0.00593332), Intervalos.Intervalo(5.9971, 5.99855), Intervalos.Intervalo(0.00148416, 0.00296759), Intervalos.Intervalo(5.99855, 5.99928), Intervalos.Intervalo(0.000743215, 0.00148416), Intervalos.Intervalo(5.99928, 5.99964), Intervalos.Intervalo(0.000372101, 0.000743215), Intervalos.Intervalo(5.99964, 5.99982), Intervalos.Intervalo(0.000186387, 0.000372101), Intervalos.Intervalo(5.99982, 5.99991), Intervalos.Intervalo(9.32925e-5, 0.000186387), Intervalos.Intervalo(5.99991, 5.99995), Intervalos.Intervalo(4.66957e-5, 9.32925e-5), Intervalos.Intervalo(5.99995, 5.99998), Intervalos.Intervalo(2.3382e-5, 4.66957e-5), Intervalos.Intervalo(5.99998, 5.99999), Intervalos.Intervalo(1.17105e-5, 2.3382e-5), Intervalos.Intervalo(5.99999, 5.99999), Intervalos.Intervalo(5.86233e-6, 1.17105e-5), Intervalos.Intervalo(5.99999, 6.0), Intervalos.Intervalo(2.93377e-6, 5.86233e-6), Intervalos.Intervalo(6.0, 6.0), Intervalos.Intervalo(1.46788e-6, 2.93377e-6), Intervalos.Intervalo(6.0, 6.0), Intervalos.Intervalo(7.35144e-7, 1.46788e-6), Intervalos.Intervalo(6.0, 6.0), Intervalos.Intervalo(3.67709e-7, 7.35144e-7), Intervalos.Intervalo(6.0, 6.0), Intervalos.Intervalo(1.84113e-7, 3.67709e-7), Intervalos.Intervalo(6.0, 6.0), Intervalos.Intervalo(9.21621e-8, 1.84113e-7), Intervalos.Intervalo(6.0, 6.0), Intervalos.Intervalo(4.61125e-8, 9.21621e-8), Intervalos.Intervalo(6.0, 6.0), Intervalos.Intervalo(2.309e-8, 4.61125e-8), Intervalos.Intervalo(6.0, 6.0), Intervalos.Intervalo(1.15559e-8, 2.309e-8), Intervalos.Intervalo(6.0, 6.0), Intervalos.Intervalo(5.78372e-9, 1.15559e-8), Intervalos.Intervalo(6.0, 6.0), Intervalos.Intervalo(2.89573e-9, 5.78372e-9), Intervalos.Intervalo(6.0, 6.0), Intervalos.Intervalo(1.45007e-9, 2.89573e-9), Intervalos.Intervalo(6.0, 6.0), Intervalos.Intervalo(7.25281e-10, 1.45007e-9), Intervalos.Intervalo(6.0, 6.0), Intervalos.Intervalo(3.63238e-10, 7.25281e-10), Intervalos.Intervalo(6.0, 6.0), Intervalos.Intervalo(1.81786e-10, 3.63238e-10), Intervalos.Intervalo(6.0, 6.0), Intervalos.Intervalo(9.10717e-11, 1.81786e-10), Intervalos.Intervalo(6.0, 6.0), Intervalos.Intervalo(4.56199e-11, 9.10717e-11), Intervalos.Intervalo(6.0, 6.0), Intervalos.Intervalo(2.28334e-11, 4.56199e-11), Intervalos.Intervalo(6.0, 6.0), Intervalos.Intervalo(1.14245e-11, 2.28334e-11), Intervalos.Intervalo(6.0, 6.0), Intervalos.Intervalo(5.72001e-12, 1.14245e-11), Intervalos.Intervalo(6.0, 6.0), Intervalos.Intervalo(2.86267e-12, 5.72001e-12), Intervalos.Intervalo(6.0, 6.0), Intervalos.Intervalo(1.43136e-12, 2.86267e-12), Intervalos.Intervalo(6.0, 6.0), Intervalos.Intervalo(7.16186e-13, 1.43136e-12), Intervalos.Intervalo(6.0, 6.0), Intervalos.Intervalo(3.58743e-13, 7.16186e-13), Intervalos.Intervalo(6.0, 6.0), Intervalos.Intervalo(1.79521e-13, 3.58743e-13), Intervalos.Intervalo(6.0, 6.0), Intervalos.Intervalo(8.98418e-14, 1.79521e-13), Intervalos.Intervalo(6.0, 6.0), Intervalos.Intervalo(4.49796e-14, 8.98418e-14), Intervalos.Intervalo(6.0, 6.0), Intervalos.Intervalo(2.25336e-14, 4.49796e-14), Intervalos.Intervalo(6.0, 6.0), Intervalos.Intervalo(1.1285e-14, 2.25336e-14), Intervalos.Intervalo(6.0, 6.0), Intervalos.Intervalo(5.64558e-15, 1.1285e-14), Intervalos.Intervalo(6.0, 6.0), Intervalos.Intervalo(6.0, 6.0)])\n",
      "(\" Después \", X1) = (\" Después \", Intervalos.Intervalo[Intervalos.Intervalo(3.00002, 4.50148), Intervalos.Intervalo(1.50244, 3.00451), Intervalos.Intervalo(4.50148, 5.25082), Intervalos.Intervalo(0.752677, 1.50244), Intervalos.Intervalo(5.25082, 5.62608), Intervalos.Intervalo(0.376723, 0.752677), Intervalos.Intervalo(5.62608, 5.8134), Intervalos.Intervalo(0.188552, 0.376723), Intervalos.Intervalo(5.8134, 5.90676), Intervalos.Intervalo(0.0944598, 0.188552), Intervalos.Intervalo(5.90676, 5.95343), Intervalos.Intervalo(0.047286, 0.0944598), Intervalos.Intervalo(5.95343, 5.97673), Intervalos.Intervalo(0.0236567, 0.047286), Intervalos.Intervalo(5.97673, 5.98838), Intervalos.Intervalo(0.0118434, 0.0236567), Intervalos.Intervalo(5.98838, 5.99419), Intervalos.Intervalo(0.00593332, 0.0118434), Intervalos.Intervalo(5.99419, 5.9971), Intervalos.Intervalo(0.00296759, 0.00593332), Intervalos.Intervalo(5.9971, 5.99855), Intervalos.Intervalo(0.00148416, 0.00296759), Intervalos.Intervalo(5.99855, 5.99928), Intervalos.Intervalo(0.000743215, 0.00148416), Intervalos.Intervalo(5.99928, 5.99964), Intervalos.Intervalo(0.000372101, 0.000743215), Intervalos.Intervalo(5.99964, 5.99982), Intervalos.Intervalo(0.000186387, 0.000372101), Intervalos.Intervalo(5.99982, 5.99991), Intervalos.Intervalo(9.32925e-5, 0.000186387), Intervalos.Intervalo(5.99991, 5.99995), Intervalos.Intervalo(4.66957e-5, 9.32925e-5), Intervalos.Intervalo(5.99995, 5.99998), Intervalos.Intervalo(2.3382e-5, 4.66957e-5), Intervalos.Intervalo(5.99998, 5.99999), Intervalos.Intervalo(1.17105e-5, 2.3382e-5), Intervalos.Intervalo(5.99999, 5.99999), Intervalos.Intervalo(5.86233e-6, 1.17105e-5), Intervalos.Intervalo(5.99999, 6.0), Intervalos.Intervalo(2.93377e-6, 5.86233e-6), Intervalos.Intervalo(6.0, 6.0), Intervalos.Intervalo(1.46788e-6, 2.93377e-6), Intervalos.Intervalo(6.0, 6.0), Intervalos.Intervalo(7.35144e-7, 1.46788e-6), Intervalos.Intervalo(6.0, 6.0), Intervalos.Intervalo(3.67709e-7, 7.35144e-7), Intervalos.Intervalo(6.0, 6.0), Intervalos.Intervalo(1.84113e-7, 3.67709e-7), Intervalos.Intervalo(6.0, 6.0), Intervalos.Intervalo(9.21621e-8, 1.84113e-7), Intervalos.Intervalo(6.0, 6.0), Intervalos.Intervalo(4.61125e-8, 9.21621e-8), Intervalos.Intervalo(6.0, 6.0), Intervalos.Intervalo(2.309e-8, 4.61125e-8), Intervalos.Intervalo(6.0, 6.0), Intervalos.Intervalo(1.15559e-8, 2.309e-8), Intervalos.Intervalo(6.0, 6.0), Intervalos.Intervalo(5.78372e-9, 1.15559e-8), Intervalos.Intervalo(6.0, 6.0), Intervalos.Intervalo(2.89573e-9, 5.78372e-9), Intervalos.Intervalo(6.0, 6.0), Intervalos.Intervalo(1.45007e-9, 2.89573e-9), Intervalos.Intervalo(6.0, 6.0), Intervalos.Intervalo(7.25281e-10, 1.45007e-9), Intervalos.Intervalo(6.0, 6.0), Intervalos.Intervalo(3.63238e-10, 7.25281e-10), Intervalos.Intervalo(6.0, 6.0), Intervalos.Intervalo(1.81786e-10, 3.63238e-10), Intervalos.Intervalo(6.0, 6.0), Intervalos.Intervalo(9.10717e-11, 1.81786e-10), Intervalos.Intervalo(6.0, 6.0), Intervalos.Intervalo(4.56199e-11, 9.10717e-11), Intervalos.Intervalo(6.0, 6.0), Intervalos.Intervalo(2.28334e-11, 4.56199e-11), Intervalos.Intervalo(6.0, 6.0), Intervalos.Intervalo(1.14245e-11, 2.28334e-11), Intervalos.Intervalo(6.0, 6.0), Intervalos.Intervalo(5.72001e-12, 1.14245e-11), Intervalos.Intervalo(6.0, 6.0), Intervalos.Intervalo(2.86267e-12, 5.72001e-12), Intervalos.Intervalo(6.0, 6.0), Intervalos.Intervalo(1.43136e-12, 2.86267e-12), Intervalos.Intervalo(6.0, 6.0), Intervalos.Intervalo(7.16186e-13, 1.43136e-12), Intervalos.Intervalo(6.0, 6.0), Intervalos.Intervalo(3.58743e-13, 7.16186e-13), Intervalos.Intervalo(6.0, 6.0), Intervalos.Intervalo(1.79521e-13, 3.58743e-13), Intervalos.Intervalo(6.0, 6.0), Intervalos.Intervalo(8.98418e-14, 1.79521e-13), Intervalos.Intervalo(6.0, 6.0), Intervalos.Intervalo(4.49796e-14, 8.98418e-14), Intervalos.Intervalo(6.0, 6.0), Intervalos.Intervalo(2.25336e-14, 4.49796e-14), Intervalos.Intervalo(6.0, 6.0), Intervalos.Intervalo(1.1285e-14, 2.25336e-14), Intervalos.Intervalo(6.0, 6.0), Intervalos.Intervalo(5.64558e-15, 1.1285e-14), Intervalos.Intervalo(6.0, 6.0), Intervalos.Intervalo(6.0, 6.0), Intervalos.Intervalo(0.0, 2.82466e-15), Intervalos.Intervalo(2.82466e-15, 5.64558e-15)])\n"
     ]
    },
    {
     "name": "stdout",
     "output_type": "stream",
     "text": [
      "(uniqueRoot(X1[i], X0), X1[i], X0) = (1, Intervalos.Intervalo(5.645580958511399e-15, 1.1284950112953314e-14), Intervalos.Intervalo(0.0, 6.0))\n",
      "(uniqueRoot(X1[i], X0), X1[i], X0) = (1, Intervalos.Intervalo(5.999999999999996, 5.999999999999998), Intervalos.Intervalo(0.0, 6.0))\n",
      "(uniqueRoot(X1[i], X0), X1[i], X0) = (-1, Intervalos.Intervalo(5.999999999999998, 6.0), Intervalos.Intervalo(0.0, 6.0))\n",
      "Xbis = Intervalos.Intervalo[Intervalos.Intervalo(6.0, 6.0), Intervalos.Intervalo(6.0, 6.0)]\n",
      "(\" Antes \", X1) = (\" Antes \", Intervalos.Intervalo[Intervalos.Intervalo(3.00002, 4.50148), Intervalos.Intervalo(1.50244, 3.00451), Intervalos.Intervalo(4.50148, 5.25082), Intervalos.Intervalo(0.752677, 1.50244), Intervalos.Intervalo(5.25082, 5.62608), Intervalos.Intervalo(0.376723, 0.752677), Intervalos.Intervalo(5.62608, 5.8134), Intervalos.Intervalo(0.188552, 0.376723), Intervalos.Intervalo(5.8134, 5.90676), Intervalos.Intervalo(0.0944598, 0.188552), Intervalos.Intervalo(5.90676, 5.95343), Intervalos.Intervalo(0.047286, 0.0944598), Intervalos.Intervalo(5.95343, 5.97673), Intervalos.Intervalo(0.0236567, 0.047286), Intervalos.Intervalo(5.97673, 5.98838), Intervalos.Intervalo(0.0118434, 0.0236567), Intervalos.Intervalo(5.98838, 5.99419), Intervalos.Intervalo(0.00593332, 0.0118434), Intervalos.Intervalo(5.99419, 5.9971), Intervalos.Intervalo(0.00296759, 0.00593332), Intervalos.Intervalo(5.9971, 5.99855), Intervalos.Intervalo(0.00148416, 0.00296759), Intervalos.Intervalo(5.99855, 5.99928), Intervalos.Intervalo(0.000743215, 0.00148416), Intervalos.Intervalo(5.99928, 5.99964), Intervalos.Intervalo(0.000372101, 0.000743215), Intervalos.Intervalo(5.99964, 5.99982), Intervalos.Intervalo(0.000186387, 0.000372101), Intervalos.Intervalo(5.99982, 5.99991), Intervalos.Intervalo(9.32925e-5, 0.000186387), Intervalos.Intervalo(5.99991, 5.99995), Intervalos.Intervalo(4.66957e-5, 9.32925e-5), Intervalos.Intervalo(5.99995, 5.99998), Intervalos.Intervalo(2.3382e-5, 4.66957e-5), Intervalos.Intervalo(5.99998, 5.99999), Intervalos.Intervalo(1.17105e-5, 2.3382e-5), Intervalos.Intervalo(5.99999, 5.99999), Intervalos.Intervalo(5.86233e-6, 1.17105e-5), Intervalos.Intervalo(5.99999, 6.0), Intervalos.Intervalo(2.93377e-6, 5.86233e-6), Intervalos.Intervalo(6.0, 6.0), Intervalos.Intervalo(1.46788e-6, 2.93377e-6), Intervalos.Intervalo(6.0, 6.0), Intervalos.Intervalo(7.35144e-7, 1.46788e-6), Intervalos.Intervalo(6.0, 6.0), Intervalos.Intervalo(3.67709e-7, 7.35144e-7), Intervalos.Intervalo(6.0, 6.0), Intervalos.Intervalo(1.84113e-7, 3.67709e-7), Intervalos.Intervalo(6.0, 6.0), Intervalos.Intervalo(9.21621e-8, 1.84113e-7), Intervalos.Intervalo(6.0, 6.0), Intervalos.Intervalo(4.61125e-8, 9.21621e-8), Intervalos.Intervalo(6.0, 6.0), Intervalos.Intervalo(2.309e-8, 4.61125e-8), Intervalos.Intervalo(6.0, 6.0), Intervalos.Intervalo(1.15559e-8, 2.309e-8), Intervalos.Intervalo(6.0, 6.0), Intervalos.Intervalo(5.78372e-9, 1.15559e-8), Intervalos.Intervalo(6.0, 6.0), Intervalos.Intervalo(2.89573e-9, 5.78372e-9), Intervalos.Intervalo(6.0, 6.0), Intervalos.Intervalo(1.45007e-9, 2.89573e-9), Intervalos.Intervalo(6.0, 6.0), Intervalos.Intervalo(7.25281e-10, 1.45007e-9), Intervalos.Intervalo(6.0, 6.0), Intervalos.Intervalo(3.63238e-10, 7.25281e-10), Intervalos.Intervalo(6.0, 6.0), Intervalos.Intervalo(1.81786e-10, 3.63238e-10), Intervalos.Intervalo(6.0, 6.0), Intervalos.Intervalo(9.10717e-11, 1.81786e-10), Intervalos.Intervalo(6.0, 6.0), Intervalos.Intervalo(4.56199e-11, 9.10717e-11), Intervalos.Intervalo(6.0, 6.0), Intervalos.Intervalo(2.28334e-11, 4.56199e-11), Intervalos.Intervalo(6.0, 6.0), Intervalos.Intervalo(1.14245e-11, 2.28334e-11), Intervalos.Intervalo(6.0, 6.0), Intervalos.Intervalo(5.72001e-12, 1.14245e-11), Intervalos.Intervalo(6.0, 6.0), Intervalos.Intervalo(2.86267e-12, 5.72001e-12), Intervalos.Intervalo(6.0, 6.0), Intervalos.Intervalo(1.43136e-12, 2.86267e-12), Intervalos.Intervalo(6.0, 6.0), Intervalos.Intervalo(7.16186e-13, 1.43136e-12), Intervalos.Intervalo(6.0, 6.0), Intervalos.Intervalo(3.58743e-13, 7.16186e-13), Intervalos.Intervalo(6.0, 6.0), Intervalos.Intervalo(1.79521e-13, 3.58743e-13), Intervalos.Intervalo(6.0, 6.0), Intervalos.Intervalo(8.98418e-14, 1.79521e-13), Intervalos.Intervalo(6.0, 6.0), Intervalos.Intervalo(4.49796e-14, 8.98418e-14), Intervalos.Intervalo(6.0, 6.0), Intervalos.Intervalo(2.25336e-14, 4.49796e-14), Intervalos.Intervalo(6.0, 6.0), Intervalos.Intervalo(1.1285e-14, 2.25336e-14), Intervalos.Intervalo(6.0, 6.0), Intervalos.Intervalo(5.64558e-15, 1.1285e-14), Intervalos.Intervalo(6.0, 6.0), Intervalos.Intervalo(0.0, 2.82466e-15), Intervalos.Intervalo(2.82466e-15, 5.64558e-15)])\n",
      "(\" Después \", X1) = (\" Después \", Intervalos.Intervalo[Intervalos.Intervalo(3.00002, 4.50148), Intervalos.Intervalo(1.50244, 3.00451), Intervalos.Intervalo(4.50148, 5.25082), Intervalos.Intervalo(0.752677, 1.50244), Intervalos.Intervalo(5.25082, 5.62608), Intervalos.Intervalo(0.376723, 0.752677), Intervalos.Intervalo(5.62608, 5.8134), Intervalos.Intervalo(0.188552, 0.376723), Intervalos.Intervalo(5.8134, 5.90676), Intervalos.Intervalo(0.0944598, 0.188552), Intervalos.Intervalo(5.90676, 5.95343), Intervalos.Intervalo(0.047286, 0.0944598), Intervalos.Intervalo(5.95343, 5.97673), Intervalos.Intervalo(0.0236567, 0.047286), Intervalos.Intervalo(5.97673, 5.98838), Intervalos.Intervalo(0.0118434, 0.0236567), Intervalos.Intervalo(5.98838, 5.99419), Intervalos.Intervalo(0.00593332, 0.0118434), Intervalos.Intervalo(5.99419, 5.9971), Intervalos.Intervalo(0.00296759, 0.00593332), Intervalos.Intervalo(5.9971, 5.99855), Intervalos.Intervalo(0.00148416, 0.00296759), Intervalos.Intervalo(5.99855, 5.99928), Intervalos.Intervalo(0.000743215, 0.00148416), Intervalos.Intervalo(5.99928, 5.99964), Intervalos.Intervalo(0.000372101, 0.000743215), Intervalos.Intervalo(5.99964, 5.99982), Intervalos.Intervalo(0.000186387, 0.000372101), Intervalos.Intervalo(5.99982, 5.99991), Intervalos.Intervalo(9.32925e-5, 0.000186387), Intervalos.Intervalo(5.99991, 5.99995), Intervalos.Intervalo(4.66957e-5, 9.32925e-5), Intervalos.Intervalo(5.99995, 5.99998), Intervalos.Intervalo(2.3382e-5, 4.66957e-5), Intervalos.Intervalo(5.99998, 5.99999), Intervalos.Intervalo(1.17105e-5, 2.3382e-5), Intervalos.Intervalo(5.99999, 5.99999), Intervalos.Intervalo(5.86233e-6, 1.17105e-5), Intervalos.Intervalo(5.99999, 6.0), Intervalos.Intervalo(2.93377e-6, 5.86233e-6), Intervalos.Intervalo(6.0, 6.0), Intervalos.Intervalo(1.46788e-6, 2.93377e-6), Intervalos.Intervalo(6.0, 6.0), Intervalos.Intervalo(7.35144e-7, 1.46788e-6), Intervalos.Intervalo(6.0, 6.0), Intervalos.Intervalo(3.67709e-7, 7.35144e-7), Intervalos.Intervalo(6.0, 6.0), Intervalos.Intervalo(1.84113e-7, 3.67709e-7), Intervalos.Intervalo(6.0, 6.0), Intervalos.Intervalo(9.21621e-8, 1.84113e-7), Intervalos.Intervalo(6.0, 6.0), Intervalos.Intervalo(4.61125e-8, 9.21621e-8), Intervalos.Intervalo(6.0, 6.0), Intervalos.Intervalo(2.309e-8, 4.61125e-8), Intervalos.Intervalo(6.0, 6.0), Intervalos.Intervalo(1.15559e-8, 2.309e-8), Intervalos.Intervalo(6.0, 6.0), Intervalos.Intervalo(5.78372e-9, 1.15559e-8), Intervalos.Intervalo(6.0, 6.0), Intervalos.Intervalo(2.89573e-9, 5.78372e-9), Intervalos.Intervalo(6.0, 6.0), Intervalos.Intervalo(1.45007e-9, 2.89573e-9), Intervalos.Intervalo(6.0, 6.0), Intervalos.Intervalo(7.25281e-10, 1.45007e-9), Intervalos.Intervalo(6.0, 6.0), Intervalos.Intervalo(3.63238e-10, 7.25281e-10), Intervalos.Intervalo(6.0, 6.0), Intervalos.Intervalo(1.81786e-10, 3.63238e-10), Intervalos.Intervalo(6.0, 6.0), Intervalos.Intervalo(9.10717e-11, 1.81786e-10), Intervalos.Intervalo(6.0, 6.0), Intervalos.Intervalo(4.56199e-11, 9.10717e-11), Intervalos.Intervalo(6.0, 6.0), Intervalos.Intervalo(2.28334e-11, 4.56199e-11), Intervalos.Intervalo(6.0, 6.0), Intervalos.Intervalo(1.14245e-11, 2.28334e-11), Intervalos.Intervalo(6.0, 6.0), Intervalos.Intervalo(5.72001e-12, 1.14245e-11), Intervalos.Intervalo(6.0, 6.0), Intervalos.Intervalo(2.86267e-12, 5.72001e-12), Intervalos.Intervalo(6.0, 6.0), Intervalos.Intervalo(1.43136e-12, 2.86267e-12), Intervalos.Intervalo(6.0, 6.0), Intervalos.Intervalo(7.16186e-13, 1.43136e-12), Intervalos.Intervalo(6.0, 6.0), Intervalos.Intervalo(3.58743e-13, 7.16186e-13), Intervalos.Intervalo(6.0, 6.0), Intervalos.Intervalo(1.79521e-13, 3.58743e-13), Intervalos.Intervalo(6.0, 6.0), Intervalos.Intervalo(8.98418e-14, 1.79521e-13), Intervalos.Intervalo(6.0, 6.0), Intervalos.Intervalo(4.49796e-14, 8.98418e-14), Intervalos.Intervalo(6.0, 6.0), Intervalos.Intervalo(2.25336e-14, 4.49796e-14), Intervalos.Intervalo(6.0, 6.0), Intervalos.Intervalo(1.1285e-14, 2.25336e-14), Intervalos.Intervalo(6.0, 6.0), Intervalos.Intervalo(5.64558e-15, 1.1285e-14), Intervalos.Intervalo(6.0, 6.0), Intervalos.Intervalo(0.0, 2.82466e-15), Intervalos.Intervalo(2.82466e-15, 5.64558e-15), Intervalos.Intervalo(6.0, 6.0), Intervalos.Intervalo(6.0, 6.0)])\n",
      "(uniqueRoot(X1[i], X0), X1[i], X0) = (-1, Intervalos.Intervalo(0.0, 2.824662842334188e-15), Intervalos.Intervalo(0.0, 6.0))\n",
      "Xbis = Intervalos.Intervalo[Intervalos.Intervalo(0.0, 1.4125e-15), Intervalos.Intervalo(1.4125e-15, 2.82466e-15)]\n"
     ]
    },
    {
     "name": "stdout",
     "output_type": "stream",
     "text": [
      "(\" Antes \", X1) = (\" Antes \", Intervalos.Intervalo[Intervalos.Intervalo(3.00002, 4.50148), Intervalos.Intervalo(1.50244, 3.00451), Intervalos.Intervalo(4.50148, 5.25082), Intervalos.Intervalo(0.752677, 1.50244), Intervalos.Intervalo(5.25082, 5.62608), Intervalos.Intervalo(0.376723, 0.752677), Intervalos.Intervalo(5.62608, 5.8134), Intervalos.Intervalo(0.188552, 0.376723), Intervalos.Intervalo(5.8134, 5.90676), Intervalos.Intervalo(0.0944598, 0.188552), Intervalos.Intervalo(5.90676, 5.95343), Intervalos.Intervalo(0.047286, 0.0944598), Intervalos.Intervalo(5.95343, 5.97673), Intervalos.Intervalo(0.0236567, 0.047286), Intervalos.Intervalo(5.97673, 5.98838), Intervalos.Intervalo(0.0118434, 0.0236567), Intervalos.Intervalo(5.98838, 5.99419), Intervalos.Intervalo(0.00593332, 0.0118434), Intervalos.Intervalo(5.99419, 5.9971), Intervalos.Intervalo(0.00296759, 0.00593332), Intervalos.Intervalo(5.9971, 5.99855), Intervalos.Intervalo(0.00148416, 0.00296759), Intervalos.Intervalo(5.99855, 5.99928), Intervalos.Intervalo(0.000743215, 0.00148416), Intervalos.Intervalo(5.99928, 5.99964), Intervalos.Intervalo(0.000372101, 0.000743215), Intervalos.Intervalo(5.99964, 5.99982), Intervalos.Intervalo(0.000186387, 0.000372101), Intervalos.Intervalo(5.99982, 5.99991), Intervalos.Intervalo(9.32925e-5, 0.000186387), Intervalos.Intervalo(5.99991, 5.99995), Intervalos.Intervalo(4.66957e-5, 9.32925e-5), Intervalos.Intervalo(5.99995, 5.99998), Intervalos.Intervalo(2.3382e-5, 4.66957e-5), Intervalos.Intervalo(5.99998, 5.99999), Intervalos.Intervalo(1.17105e-5, 2.3382e-5), Intervalos.Intervalo(5.99999, 5.99999), Intervalos.Intervalo(5.86233e-6, 1.17105e-5), Intervalos.Intervalo(5.99999, 6.0), Intervalos.Intervalo(2.93377e-6, 5.86233e-6), Intervalos.Intervalo(6.0, 6.0), Intervalos.Intervalo(1.46788e-6, 2.93377e-6), Intervalos.Intervalo(6.0, 6.0), Intervalos.Intervalo(7.35144e-7, 1.46788e-6), Intervalos.Intervalo(6.0, 6.0), Intervalos.Intervalo(3.67709e-7, 7.35144e-7), Intervalos.Intervalo(6.0, 6.0), Intervalos.Intervalo(1.84113e-7, 3.67709e-7), Intervalos.Intervalo(6.0, 6.0), Intervalos.Intervalo(9.21621e-8, 1.84113e-7), Intervalos.Intervalo(6.0, 6.0), Intervalos.Intervalo(4.61125e-8, 9.21621e-8), Intervalos.Intervalo(6.0, 6.0), Intervalos.Intervalo(2.309e-8, 4.61125e-8), Intervalos.Intervalo(6.0, 6.0), Intervalos.Intervalo(1.15559e-8, 2.309e-8), Intervalos.Intervalo(6.0, 6.0), Intervalos.Intervalo(5.78372e-9, 1.15559e-8), Intervalos.Intervalo(6.0, 6.0), Intervalos.Intervalo(2.89573e-9, 5.78372e-9), Intervalos.Intervalo(6.0, 6.0), Intervalos.Intervalo(1.45007e-9, 2.89573e-9), Intervalos.Intervalo(6.0, 6.0), Intervalos.Intervalo(7.25281e-10, 1.45007e-9), Intervalos.Intervalo(6.0, 6.0), Intervalos.Intervalo(3.63238e-10, 7.25281e-10), Intervalos.Intervalo(6.0, 6.0), Intervalos.Intervalo(1.81786e-10, 3.63238e-10), Intervalos.Intervalo(6.0, 6.0), Intervalos.Intervalo(9.10717e-11, 1.81786e-10), Intervalos.Intervalo(6.0, 6.0), Intervalos.Intervalo(4.56199e-11, 9.10717e-11), Intervalos.Intervalo(6.0, 6.0), Intervalos.Intervalo(2.28334e-11, 4.56199e-11), Intervalos.Intervalo(6.0, 6.0), Intervalos.Intervalo(1.14245e-11, 2.28334e-11), Intervalos.Intervalo(6.0, 6.0), Intervalos.Intervalo(5.72001e-12, 1.14245e-11), Intervalos.Intervalo(6.0, 6.0), Intervalos.Intervalo(2.86267e-12, 5.72001e-12), Intervalos.Intervalo(6.0, 6.0), Intervalos.Intervalo(1.43136e-12, 2.86267e-12), Intervalos.Intervalo(6.0, 6.0), Intervalos.Intervalo(7.16186e-13, 1.43136e-12), Intervalos.Intervalo(6.0, 6.0), Intervalos.Intervalo(3.58743e-13, 7.16186e-13), Intervalos.Intervalo(6.0, 6.0), Intervalos.Intervalo(1.79521e-13, 3.58743e-13), Intervalos.Intervalo(6.0, 6.0), Intervalos.Intervalo(8.98418e-14, 1.79521e-13), Intervalos.Intervalo(6.0, 6.0), Intervalos.Intervalo(4.49796e-14, 8.98418e-14), Intervalos.Intervalo(6.0, 6.0), Intervalos.Intervalo(2.25336e-14, 4.49796e-14), Intervalos.Intervalo(6.0, 6.0), Intervalos.Intervalo(1.1285e-14, 2.25336e-14), Intervalos.Intervalo(6.0, 6.0), Intervalos.Intervalo(5.64558e-15, 1.1285e-14), Intervalos.Intervalo(6.0, 6.0), Intervalos.Intervalo(2.82466e-15, 5.64558e-15), Intervalos.Intervalo(6.0, 6.0), Intervalos.Intervalo(6.0, 6.0)])\n",
      "(\" Después \", X1) = (\" Después \", Intervalos.Intervalo[Intervalos.Intervalo(3.00002, 4.50148), Intervalos.Intervalo(1.50244, 3.00451), Intervalos.Intervalo(4.50148, 5.25082), Intervalos.Intervalo(0.752677, 1.50244), Intervalos.Intervalo(5.25082, 5.62608), Intervalos.Intervalo(0.376723, 0.752677), Intervalos.Intervalo(5.62608, 5.8134), Intervalos.Intervalo(0.188552, 0.376723), Intervalos.Intervalo(5.8134, 5.90676), Intervalos.Intervalo(0.0944598, 0.188552), Intervalos.Intervalo(5.90676, 5.95343), Intervalos.Intervalo(0.047286, 0.0944598), Intervalos.Intervalo(5.95343, 5.97673), Intervalos.Intervalo(0.0236567, 0.047286), Intervalos.Intervalo(5.97673, 5.98838), Intervalos.Intervalo(0.0118434, 0.0236567), Intervalos.Intervalo(5.98838, 5.99419), Intervalos.Intervalo(0.00593332, 0.0118434), Intervalos.Intervalo(5.99419, 5.9971), Intervalos.Intervalo(0.00296759, 0.00593332), Intervalos.Intervalo(5.9971, 5.99855), Intervalos.Intervalo(0.00148416, 0.00296759), Intervalos.Intervalo(5.99855, 5.99928), Intervalos.Intervalo(0.000743215, 0.00148416), Intervalos.Intervalo(5.99928, 5.99964), Intervalos.Intervalo(0.000372101, 0.000743215), Intervalos.Intervalo(5.99964, 5.99982), Intervalos.Intervalo(0.000186387, 0.000372101), Intervalos.Intervalo(5.99982, 5.99991), Intervalos.Intervalo(9.32925e-5, 0.000186387), Intervalos.Intervalo(5.99991, 5.99995), Intervalos.Intervalo(4.66957e-5, 9.32925e-5), Intervalos.Intervalo(5.99995, 5.99998), Intervalos.Intervalo(2.3382e-5, 4.66957e-5), Intervalos.Intervalo(5.99998, 5.99999), Intervalos.Intervalo(1.17105e-5, 2.3382e-5), Intervalos.Intervalo(5.99999, 5.99999), Intervalos.Intervalo(5.86233e-6, 1.17105e-5), Intervalos.Intervalo(5.99999, 6.0), Intervalos.Intervalo(2.93377e-6, 5.86233e-6), Intervalos.Intervalo(6.0, 6.0), Intervalos.Intervalo(1.46788e-6, 2.93377e-6), Intervalos.Intervalo(6.0, 6.0), Intervalos.Intervalo(7.35144e-7, 1.46788e-6), Intervalos.Intervalo(6.0, 6.0), Intervalos.Intervalo(3.67709e-7, 7.35144e-7), Intervalos.Intervalo(6.0, 6.0), Intervalos.Intervalo(1.84113e-7, 3.67709e-7), Intervalos.Intervalo(6.0, 6.0), Intervalos.Intervalo(9.21621e-8, 1.84113e-7), Intervalos.Intervalo(6.0, 6.0), Intervalos.Intervalo(4.61125e-8, 9.21621e-8), Intervalos.Intervalo(6.0, 6.0), Intervalos.Intervalo(2.309e-8, 4.61125e-8), Intervalos.Intervalo(6.0, 6.0), Intervalos.Intervalo(1.15559e-8, 2.309e-8), Intervalos.Intervalo(6.0, 6.0), Intervalos.Intervalo(5.78372e-9, 1.15559e-8), Intervalos.Intervalo(6.0, 6.0), Intervalos.Intervalo(2.89573e-9, 5.78372e-9), Intervalos.Intervalo(6.0, 6.0), Intervalos.Intervalo(1.45007e-9, 2.89573e-9), Intervalos.Intervalo(6.0, 6.0), Intervalos.Intervalo(7.25281e-10, 1.45007e-9), Intervalos.Intervalo(6.0, 6.0), Intervalos.Intervalo(3.63238e-10, 7.25281e-10), Intervalos.Intervalo(6.0, 6.0), Intervalos.Intervalo(1.81786e-10, 3.63238e-10), Intervalos.Intervalo(6.0, 6.0), Intervalos.Intervalo(9.10717e-11, 1.81786e-10), Intervalos.Intervalo(6.0, 6.0), Intervalos.Intervalo(4.56199e-11, 9.10717e-11), Intervalos.Intervalo(6.0, 6.0), Intervalos.Intervalo(2.28334e-11, 4.56199e-11), Intervalos.Intervalo(6.0, 6.0), Intervalos.Intervalo(1.14245e-11, 2.28334e-11), Intervalos.Intervalo(6.0, 6.0), Intervalos.Intervalo(5.72001e-12, 1.14245e-11), Intervalos.Intervalo(6.0, 6.0), Intervalos.Intervalo(2.86267e-12, 5.72001e-12), Intervalos.Intervalo(6.0, 6.0), Intervalos.Intervalo(1.43136e-12, 2.86267e-12), Intervalos.Intervalo(6.0, 6.0), Intervalos.Intervalo(7.16186e-13, 1.43136e-12), Intervalos.Intervalo(6.0, 6.0), Intervalos.Intervalo(3.58743e-13, 7.16186e-13), Intervalos.Intervalo(6.0, 6.0), Intervalos.Intervalo(1.79521e-13, 3.58743e-13), Intervalos.Intervalo(6.0, 6.0), Intervalos.Intervalo(8.98418e-14, 1.79521e-13), Intervalos.Intervalo(6.0, 6.0), Intervalos.Intervalo(4.49796e-14, 8.98418e-14), Intervalos.Intervalo(6.0, 6.0), Intervalos.Intervalo(2.25336e-14, 4.49796e-14), Intervalos.Intervalo(6.0, 6.0), Intervalos.Intervalo(1.1285e-14, 2.25336e-14), Intervalos.Intervalo(6.0, 6.0), Intervalos.Intervalo(5.64558e-15, 1.1285e-14), Intervalos.Intervalo(6.0, 6.0), Intervalos.Intervalo(2.82466e-15, 5.64558e-15), Intervalos.Intervalo(6.0, 6.0), Intervalos.Intervalo(6.0, 6.0), Intervalos.Intervalo(0.0, 1.4125e-15), Intervalos.Intervalo(1.4125e-15, 2.82466e-15)])\n",
      "(uniqueRoot(X1[i], X0), X1[i], X0) = (1, Intervalos.Intervalo(2.824662842334188e-15, 5.645580958511399e-15), Intervalos.Intervalo(0.0, 6.0))\n",
      "(uniqueRoot(X1[i], X0), X1[i], X0) = (1, Intervalos.Intervalo(5.999999999999998, 5.999999999999999), Intervalos.Intervalo(0.0, 6.0))\n",
      "(uniqueRoot(X1[i], X0), X1[i], X0) = (-1, Intervalos.Intervalo(5.999999999999999, 6.0), Intervalos.Intervalo(0.0, 6.0))\n",
      "Xbis = Intervalos.Intervalo[Intervalos.Intervalo(6.0, 6.0), Intervalos.Intervalo(6.0, 6.0)]\n",
      "(\" Antes \", X1) = (\" Antes \", Intervalos.Intervalo[Intervalos.Intervalo(3.00002, 4.50148), Intervalos.Intervalo(1.50244, 3.00451), Intervalos.Intervalo(4.50148, 5.25082), Intervalos.Intervalo(0.752677, 1.50244), Intervalos.Intervalo(5.25082, 5.62608), Intervalos.Intervalo(0.376723, 0.752677), Intervalos.Intervalo(5.62608, 5.8134), Intervalos.Intervalo(0.188552, 0.376723), Intervalos.Intervalo(5.8134, 5.90676), Intervalos.Intervalo(0.0944598, 0.188552), Intervalos.Intervalo(5.90676, 5.95343), Intervalos.Intervalo(0.047286, 0.0944598), Intervalos.Intervalo(5.95343, 5.97673), Intervalos.Intervalo(0.0236567, 0.047286), Intervalos.Intervalo(5.97673, 5.98838), Intervalos.Intervalo(0.0118434, 0.0236567), Intervalos.Intervalo(5.98838, 5.99419), Intervalos.Intervalo(0.00593332, 0.0118434), Intervalos.Intervalo(5.99419, 5.9971), Intervalos.Intervalo(0.00296759, 0.00593332), Intervalos.Intervalo(5.9971, 5.99855), Intervalos.Intervalo(0.00148416, 0.00296759), Intervalos.Intervalo(5.99855, 5.99928), Intervalos.Intervalo(0.000743215, 0.00148416), Intervalos.Intervalo(5.99928, 5.99964), Intervalos.Intervalo(0.000372101, 0.000743215), Intervalos.Intervalo(5.99964, 5.99982), Intervalos.Intervalo(0.000186387, 0.000372101), Intervalos.Intervalo(5.99982, 5.99991), Intervalos.Intervalo(9.32925e-5, 0.000186387), Intervalos.Intervalo(5.99991, 5.99995), Intervalos.Intervalo(4.66957e-5, 9.32925e-5), Intervalos.Intervalo(5.99995, 5.99998), Intervalos.Intervalo(2.3382e-5, 4.66957e-5), Intervalos.Intervalo(5.99998, 5.99999), Intervalos.Intervalo(1.17105e-5, 2.3382e-5), Intervalos.Intervalo(5.99999, 5.99999), Intervalos.Intervalo(5.86233e-6, 1.17105e-5), Intervalos.Intervalo(5.99999, 6.0), Intervalos.Intervalo(2.93377e-6, 5.86233e-6), Intervalos.Intervalo(6.0, 6.0), Intervalos.Intervalo(1.46788e-6, 2.93377e-6), Intervalos.Intervalo(6.0, 6.0), Intervalos.Intervalo(7.35144e-7, 1.46788e-6), Intervalos.Intervalo(6.0, 6.0), Intervalos.Intervalo(3.67709e-7, 7.35144e-7), Intervalos.Intervalo(6.0, 6.0), Intervalos.Intervalo(1.84113e-7, 3.67709e-7), Intervalos.Intervalo(6.0, 6.0), Intervalos.Intervalo(9.21621e-8, 1.84113e-7), Intervalos.Intervalo(6.0, 6.0), Intervalos.Intervalo(4.61125e-8, 9.21621e-8), Intervalos.Intervalo(6.0, 6.0), Intervalos.Intervalo(2.309e-8, 4.61125e-8), Intervalos.Intervalo(6.0, 6.0), Intervalos.Intervalo(1.15559e-8, 2.309e-8), Intervalos.Intervalo(6.0, 6.0), Intervalos.Intervalo(5.78372e-9, 1.15559e-8), Intervalos.Intervalo(6.0, 6.0), Intervalos.Intervalo(2.89573e-9, 5.78372e-9), Intervalos.Intervalo(6.0, 6.0), Intervalos.Intervalo(1.45007e-9, 2.89573e-9), Intervalos.Intervalo(6.0, 6.0), Intervalos.Intervalo(7.25281e-10, 1.45007e-9), Intervalos.Intervalo(6.0, 6.0), Intervalos.Intervalo(3.63238e-10, 7.25281e-10), Intervalos.Intervalo(6.0, 6.0), Intervalos.Intervalo(1.81786e-10, 3.63238e-10), Intervalos.Intervalo(6.0, 6.0), Intervalos.Intervalo(9.10717e-11, 1.81786e-10), Intervalos.Intervalo(6.0, 6.0), Intervalos.Intervalo(4.56199e-11, 9.10717e-11), Intervalos.Intervalo(6.0, 6.0), Intervalos.Intervalo(2.28334e-11, 4.56199e-11), Intervalos.Intervalo(6.0, 6.0), Intervalos.Intervalo(1.14245e-11, 2.28334e-11), Intervalos.Intervalo(6.0, 6.0), Intervalos.Intervalo(5.72001e-12, 1.14245e-11), Intervalos.Intervalo(6.0, 6.0), Intervalos.Intervalo(2.86267e-12, 5.72001e-12), Intervalos.Intervalo(6.0, 6.0), Intervalos.Intervalo(1.43136e-12, 2.86267e-12), Intervalos.Intervalo(6.0, 6.0), Intervalos.Intervalo(7.16186e-13, 1.43136e-12), Intervalos.Intervalo(6.0, 6.0), Intervalos.Intervalo(3.58743e-13, 7.16186e-13), Intervalos.Intervalo(6.0, 6.0), Intervalos.Intervalo(1.79521e-13, 3.58743e-13), Intervalos.Intervalo(6.0, 6.0), Intervalos.Intervalo(8.98418e-14, 1.79521e-13), Intervalos.Intervalo(6.0, 6.0), Intervalos.Intervalo(4.49796e-14, 8.98418e-14), Intervalos.Intervalo(6.0, 6.0), Intervalos.Intervalo(2.25336e-14, 4.49796e-14), Intervalos.Intervalo(6.0, 6.0), Intervalos.Intervalo(1.1285e-14, 2.25336e-14), Intervalos.Intervalo(6.0, 6.0), Intervalos.Intervalo(5.64558e-15, 1.1285e-14), Intervalos.Intervalo(6.0, 6.0), Intervalos.Intervalo(2.82466e-15, 5.64558e-15), Intervalos.Intervalo(6.0, 6.0), Intervalos.Intervalo(0.0, 1.4125e-15), Intervalos.Intervalo(1.4125e-15, 2.82466e-15)])\n",
      "(\" Después \", X1) = (\" Después \", Intervalos.Intervalo[Intervalos.Intervalo(3.00002, 4.50148), Intervalos.Intervalo(1.50244, 3.00451), Intervalos.Intervalo(4.50148, 5.25082), Intervalos.Intervalo(0.752677, 1.50244), Intervalos.Intervalo(5.25082, 5.62608), Intervalos.Intervalo(0.376723, 0.752677), Intervalos.Intervalo(5.62608, 5.8134), Intervalos.Intervalo(0.188552, 0.376723), Intervalos.Intervalo(5.8134, 5.90676), Intervalos.Intervalo(0.0944598, 0.188552), Intervalos.Intervalo(5.90676, 5.95343), Intervalos.Intervalo(0.047286, 0.0944598), Intervalos.Intervalo(5.95343, 5.97673), Intervalos.Intervalo(0.0236567, 0.047286), Intervalos.Intervalo(5.97673, 5.98838), Intervalos.Intervalo(0.0118434, 0.0236567), Intervalos.Intervalo(5.98838, 5.99419), Intervalos.Intervalo(0.00593332, 0.0118434), Intervalos.Intervalo(5.99419, 5.9971), Intervalos.Intervalo(0.00296759, 0.00593332), Intervalos.Intervalo(5.9971, 5.99855), Intervalos.Intervalo(0.00148416, 0.00296759), Intervalos.Intervalo(5.99855, 5.99928), Intervalos.Intervalo(0.000743215, 0.00148416), Intervalos.Intervalo(5.99928, 5.99964), Intervalos.Intervalo(0.000372101, 0.000743215), Intervalos.Intervalo(5.99964, 5.99982), Intervalos.Intervalo(0.000186387, 0.000372101), Intervalos.Intervalo(5.99982, 5.99991), Intervalos.Intervalo(9.32925e-5, 0.000186387), Intervalos.Intervalo(5.99991, 5.99995), Intervalos.Intervalo(4.66957e-5, 9.32925e-5), Intervalos.Intervalo(5.99995, 5.99998), Intervalos.Intervalo(2.3382e-5, 4.66957e-5), Intervalos.Intervalo(5.99998, 5.99999), Intervalos.Intervalo(1.17105e-5, 2.3382e-5), Intervalos.Intervalo(5.99999, 5.99999), Intervalos.Intervalo(5.86233e-6, 1.17105e-5), Intervalos.Intervalo(5.99999, 6.0), Intervalos.Intervalo(2.93377e-6, 5.86233e-6), Intervalos.Intervalo(6.0, 6.0), Intervalos.Intervalo(1.46788e-6, 2.93377e-6), Intervalos.Intervalo(6.0, 6.0), Intervalos.Intervalo(7.35144e-7, 1.46788e-6), Intervalos.Intervalo(6.0, 6.0), Intervalos.Intervalo(3.67709e-7, 7.35144e-7), Intervalos.Intervalo(6.0, 6.0), Intervalos.Intervalo(1.84113e-7, 3.67709e-7), Intervalos.Intervalo(6.0, 6.0), Intervalos.Intervalo(9.21621e-8, 1.84113e-7), Intervalos.Intervalo(6.0, 6.0), Intervalos.Intervalo(4.61125e-8, 9.21621e-8), Intervalos.Intervalo(6.0, 6.0), Intervalos.Intervalo(2.309e-8, 4.61125e-8), Intervalos.Intervalo(6.0, 6.0), Intervalos.Intervalo(1.15559e-8, 2.309e-8), Intervalos.Intervalo(6.0, 6.0), Intervalos.Intervalo(5.78372e-9, 1.15559e-8), Intervalos.Intervalo(6.0, 6.0), Intervalos.Intervalo(2.89573e-9, 5.78372e-9), Intervalos.Intervalo(6.0, 6.0), Intervalos.Intervalo(1.45007e-9, 2.89573e-9), Intervalos.Intervalo(6.0, 6.0), Intervalos.Intervalo(7.25281e-10, 1.45007e-9), Intervalos.Intervalo(6.0, 6.0), Intervalos.Intervalo(3.63238e-10, 7.25281e-10), Intervalos.Intervalo(6.0, 6.0), Intervalos.Intervalo(1.81786e-10, 3.63238e-10), Intervalos.Intervalo(6.0, 6.0), Intervalos.Intervalo(9.10717e-11, 1.81786e-10), Intervalos.Intervalo(6.0, 6.0), Intervalos.Intervalo(4.56199e-11, 9.10717e-11), Intervalos.Intervalo(6.0, 6.0), Intervalos.Intervalo(2.28334e-11, 4.56199e-11), Intervalos.Intervalo(6.0, 6.0), Intervalos.Intervalo(1.14245e-11, 2.28334e-11), Intervalos.Intervalo(6.0, 6.0), Intervalos.Intervalo(5.72001e-12, 1.14245e-11), Intervalos.Intervalo(6.0, 6.0), Intervalos.Intervalo(2.86267e-12, 5.72001e-12), Intervalos.Intervalo(6.0, 6.0), Intervalos.Intervalo(1.43136e-12, 2.86267e-12), Intervalos.Intervalo(6.0, 6.0), Intervalos.Intervalo(7.16186e-13, 1.43136e-12), Intervalos.Intervalo(6.0, 6.0), Intervalos.Intervalo(3.58743e-13, 7.16186e-13), Intervalos.Intervalo(6.0, 6.0), Intervalos.Intervalo(1.79521e-13, 3.58743e-13), Intervalos.Intervalo(6.0, 6.0), Intervalos.Intervalo(8.98418e-14, 1.79521e-13), Intervalos.Intervalo(6.0, 6.0), Intervalos.Intervalo(4.49796e-14, 8.98418e-14), Intervalos.Intervalo(6.0, 6.0), Intervalos.Intervalo(2.25336e-14, 4.49796e-14), Intervalos.Intervalo(6.0, 6.0), Intervalos.Intervalo(1.1285e-14, 2.25336e-14), Intervalos.Intervalo(6.0, 6.0), Intervalos.Intervalo(5.64558e-15, 1.1285e-14), Intervalos.Intervalo(6.0, 6.0), Intervalos.Intervalo(2.82466e-15, 5.64558e-15), Intervalos.Intervalo(6.0, 6.0), Intervalos.Intervalo(0.0, 1.4125e-15), Intervalos.Intervalo(1.4125e-15, 2.82466e-15), Intervalos.Intervalo(6.0, 6.0), Intervalos.Intervalo(6.0, 6.0)])\n"
     ]
    },
    {
     "name": "stdout",
     "output_type": "stream",
     "text": [
      "(uniqueRoot(X1[i], X0), X1[i], X0) = (-1, Intervalos.Intervalo(0.0, 1.4125033350729306e-15), Intervalos.Intervalo(0.0, 6.0))\n",
      "Xbis = Intervalos.Intervalo[Intervalos.Intervalo(0.0, 7.07165e-16), Intervalos.Intervalo(7.07165e-16, 1.4125e-15)]\n",
      "(\" Antes \", X1) = (\" Antes \", Intervalos.Intervalo[Intervalos.Intervalo(3.00002, 4.50148), Intervalos.Intervalo(1.50244, 3.00451), Intervalos.Intervalo(4.50148, 5.25082), Intervalos.Intervalo(0.752677, 1.50244), Intervalos.Intervalo(5.25082, 5.62608), Intervalos.Intervalo(0.376723, 0.752677), Intervalos.Intervalo(5.62608, 5.8134), Intervalos.Intervalo(0.188552, 0.376723), Intervalos.Intervalo(5.8134, 5.90676), Intervalos.Intervalo(0.0944598, 0.188552), Intervalos.Intervalo(5.90676, 5.95343), Intervalos.Intervalo(0.047286, 0.0944598), Intervalos.Intervalo(5.95343, 5.97673), Intervalos.Intervalo(0.0236567, 0.047286), Intervalos.Intervalo(5.97673, 5.98838), Intervalos.Intervalo(0.0118434, 0.0236567), Intervalos.Intervalo(5.98838, 5.99419), Intervalos.Intervalo(0.00593332, 0.0118434), Intervalos.Intervalo(5.99419, 5.9971), Intervalos.Intervalo(0.00296759, 0.00593332), Intervalos.Intervalo(5.9971, 5.99855), Intervalos.Intervalo(0.00148416, 0.00296759), Intervalos.Intervalo(5.99855, 5.99928), Intervalos.Intervalo(0.000743215, 0.00148416), Intervalos.Intervalo(5.99928, 5.99964), Intervalos.Intervalo(0.000372101, 0.000743215), Intervalos.Intervalo(5.99964, 5.99982), Intervalos.Intervalo(0.000186387, 0.000372101), Intervalos.Intervalo(5.99982, 5.99991), Intervalos.Intervalo(9.32925e-5, 0.000186387), Intervalos.Intervalo(5.99991, 5.99995), Intervalos.Intervalo(4.66957e-5, 9.32925e-5), Intervalos.Intervalo(5.99995, 5.99998), Intervalos.Intervalo(2.3382e-5, 4.66957e-5), Intervalos.Intervalo(5.99998, 5.99999), Intervalos.Intervalo(1.17105e-5, 2.3382e-5), Intervalos.Intervalo(5.99999, 5.99999), Intervalos.Intervalo(5.86233e-6, 1.17105e-5), Intervalos.Intervalo(5.99999, 6.0), Intervalos.Intervalo(2.93377e-6, 5.86233e-6), Intervalos.Intervalo(6.0, 6.0), Intervalos.Intervalo(1.46788e-6, 2.93377e-6), Intervalos.Intervalo(6.0, 6.0), Intervalos.Intervalo(7.35144e-7, 1.46788e-6), Intervalos.Intervalo(6.0, 6.0), Intervalos.Intervalo(3.67709e-7, 7.35144e-7), Intervalos.Intervalo(6.0, 6.0), Intervalos.Intervalo(1.84113e-7, 3.67709e-7), Intervalos.Intervalo(6.0, 6.0), Intervalos.Intervalo(9.21621e-8, 1.84113e-7), Intervalos.Intervalo(6.0, 6.0), Intervalos.Intervalo(4.61125e-8, 9.21621e-8), Intervalos.Intervalo(6.0, 6.0), Intervalos.Intervalo(2.309e-8, 4.61125e-8), Intervalos.Intervalo(6.0, 6.0), Intervalos.Intervalo(1.15559e-8, 2.309e-8), Intervalos.Intervalo(6.0, 6.0), Intervalos.Intervalo(5.78372e-9, 1.15559e-8), Intervalos.Intervalo(6.0, 6.0), Intervalos.Intervalo(2.89573e-9, 5.78372e-9), Intervalos.Intervalo(6.0, 6.0), Intervalos.Intervalo(1.45007e-9, 2.89573e-9), Intervalos.Intervalo(6.0, 6.0), Intervalos.Intervalo(7.25281e-10, 1.45007e-9), Intervalos.Intervalo(6.0, 6.0), Intervalos.Intervalo(3.63238e-10, 7.25281e-10), Intervalos.Intervalo(6.0, 6.0), Intervalos.Intervalo(1.81786e-10, 3.63238e-10), Intervalos.Intervalo(6.0, 6.0), Intervalos.Intervalo(9.10717e-11, 1.81786e-10), Intervalos.Intervalo(6.0, 6.0), Intervalos.Intervalo(4.56199e-11, 9.10717e-11), Intervalos.Intervalo(6.0, 6.0), Intervalos.Intervalo(2.28334e-11, 4.56199e-11), Intervalos.Intervalo(6.0, 6.0), Intervalos.Intervalo(1.14245e-11, 2.28334e-11), Intervalos.Intervalo(6.0, 6.0), Intervalos.Intervalo(5.72001e-12, 1.14245e-11), Intervalos.Intervalo(6.0, 6.0), Intervalos.Intervalo(2.86267e-12, 5.72001e-12), Intervalos.Intervalo(6.0, 6.0), Intervalos.Intervalo(1.43136e-12, 2.86267e-12), Intervalos.Intervalo(6.0, 6.0), Intervalos.Intervalo(7.16186e-13, 1.43136e-12), Intervalos.Intervalo(6.0, 6.0), Intervalos.Intervalo(3.58743e-13, 7.16186e-13), Intervalos.Intervalo(6.0, 6.0), Intervalos.Intervalo(1.79521e-13, 3.58743e-13), Intervalos.Intervalo(6.0, 6.0), Intervalos.Intervalo(8.98418e-14, 1.79521e-13), Intervalos.Intervalo(6.0, 6.0), Intervalos.Intervalo(4.49796e-14, 8.98418e-14), Intervalos.Intervalo(6.0, 6.0), Intervalos.Intervalo(2.25336e-14, 4.49796e-14), Intervalos.Intervalo(6.0, 6.0), Intervalos.Intervalo(1.1285e-14, 2.25336e-14), Intervalos.Intervalo(6.0, 6.0), Intervalos.Intervalo(5.64558e-15, 1.1285e-14), Intervalos.Intervalo(6.0, 6.0), Intervalos.Intervalo(2.82466e-15, 5.64558e-15), Intervalos.Intervalo(6.0, 6.0), Intervalos.Intervalo(1.4125e-15, 2.82466e-15), Intervalos.Intervalo(6.0, 6.0), Intervalos.Intervalo(6.0, 6.0)])\n",
      "(\" Después \", X1) = (\" Después \", Intervalos.Intervalo[Intervalos.Intervalo(3.00002, 4.50148), Intervalos.Intervalo(1.50244, 3.00451), Intervalos.Intervalo(4.50148, 5.25082), Intervalos.Intervalo(0.752677, 1.50244), Intervalos.Intervalo(5.25082, 5.62608), Intervalos.Intervalo(0.376723, 0.752677), Intervalos.Intervalo(5.62608, 5.8134), Intervalos.Intervalo(0.188552, 0.376723), Intervalos.Intervalo(5.8134, 5.90676), Intervalos.Intervalo(0.0944598, 0.188552), Intervalos.Intervalo(5.90676, 5.95343), Intervalos.Intervalo(0.047286, 0.0944598), Intervalos.Intervalo(5.95343, 5.97673), Intervalos.Intervalo(0.0236567, 0.047286), Intervalos.Intervalo(5.97673, 5.98838), Intervalos.Intervalo(0.0118434, 0.0236567), Intervalos.Intervalo(5.98838, 5.99419), Intervalos.Intervalo(0.00593332, 0.0118434), Intervalos.Intervalo(5.99419, 5.9971), Intervalos.Intervalo(0.00296759, 0.00593332), Intervalos.Intervalo(5.9971, 5.99855), Intervalos.Intervalo(0.00148416, 0.00296759), Intervalos.Intervalo(5.99855, 5.99928), Intervalos.Intervalo(0.000743215, 0.00148416), Intervalos.Intervalo(5.99928, 5.99964), Intervalos.Intervalo(0.000372101, 0.000743215), Intervalos.Intervalo(5.99964, 5.99982), Intervalos.Intervalo(0.000186387, 0.000372101), Intervalos.Intervalo(5.99982, 5.99991), Intervalos.Intervalo(9.32925e-5, 0.000186387), Intervalos.Intervalo(5.99991, 5.99995), Intervalos.Intervalo(4.66957e-5, 9.32925e-5), Intervalos.Intervalo(5.99995, 5.99998), Intervalos.Intervalo(2.3382e-5, 4.66957e-5), Intervalos.Intervalo(5.99998, 5.99999), Intervalos.Intervalo(1.17105e-5, 2.3382e-5), Intervalos.Intervalo(5.99999, 5.99999), Intervalos.Intervalo(5.86233e-6, 1.17105e-5), Intervalos.Intervalo(5.99999, 6.0), Intervalos.Intervalo(2.93377e-6, 5.86233e-6), Intervalos.Intervalo(6.0, 6.0), Intervalos.Intervalo(1.46788e-6, 2.93377e-6), Intervalos.Intervalo(6.0, 6.0), Intervalos.Intervalo(7.35144e-7, 1.46788e-6), Intervalos.Intervalo(6.0, 6.0), Intervalos.Intervalo(3.67709e-7, 7.35144e-7), Intervalos.Intervalo(6.0, 6.0), Intervalos.Intervalo(1.84113e-7, 3.67709e-7), Intervalos.Intervalo(6.0, 6.0), Intervalos.Intervalo(9.21621e-8, 1.84113e-7), Intervalos.Intervalo(6.0, 6.0), Intervalos.Intervalo(4.61125e-8, 9.21621e-8), Intervalos.Intervalo(6.0, 6.0), Intervalos.Intervalo(2.309e-8, 4.61125e-8), Intervalos.Intervalo(6.0, 6.0), Intervalos.Intervalo(1.15559e-8, 2.309e-8), Intervalos.Intervalo(6.0, 6.0), Intervalos.Intervalo(5.78372e-9, 1.15559e-8), Intervalos.Intervalo(6.0, 6.0), Intervalos.Intervalo(2.89573e-9, 5.78372e-9), Intervalos.Intervalo(6.0, 6.0), Intervalos.Intervalo(1.45007e-9, 2.89573e-9), Intervalos.Intervalo(6.0, 6.0), Intervalos.Intervalo(7.25281e-10, 1.45007e-9), Intervalos.Intervalo(6.0, 6.0), Intervalos.Intervalo(3.63238e-10, 7.25281e-10), Intervalos.Intervalo(6.0, 6.0), Intervalos.Intervalo(1.81786e-10, 3.63238e-10), Intervalos.Intervalo(6.0, 6.0), Intervalos.Intervalo(9.10717e-11, 1.81786e-10), Intervalos.Intervalo(6.0, 6.0), Intervalos.Intervalo(4.56199e-11, 9.10717e-11), Intervalos.Intervalo(6.0, 6.0), Intervalos.Intervalo(2.28334e-11, 4.56199e-11), Intervalos.Intervalo(6.0, 6.0), Intervalos.Intervalo(1.14245e-11, 2.28334e-11), Intervalos.Intervalo(6.0, 6.0), Intervalos.Intervalo(5.72001e-12, 1.14245e-11), Intervalos.Intervalo(6.0, 6.0), Intervalos.Intervalo(2.86267e-12, 5.72001e-12), Intervalos.Intervalo(6.0, 6.0), Intervalos.Intervalo(1.43136e-12, 2.86267e-12), Intervalos.Intervalo(6.0, 6.0), Intervalos.Intervalo(7.16186e-13, 1.43136e-12), Intervalos.Intervalo(6.0, 6.0), Intervalos.Intervalo(3.58743e-13, 7.16186e-13), Intervalos.Intervalo(6.0, 6.0), Intervalos.Intervalo(1.79521e-13, 3.58743e-13), Intervalos.Intervalo(6.0, 6.0), Intervalos.Intervalo(8.98418e-14, 1.79521e-13), Intervalos.Intervalo(6.0, 6.0), Intervalos.Intervalo(4.49796e-14, 8.98418e-14), Intervalos.Intervalo(6.0, 6.0), Intervalos.Intervalo(2.25336e-14, 4.49796e-14), Intervalos.Intervalo(6.0, 6.0), Intervalos.Intervalo(1.1285e-14, 2.25336e-14), Intervalos.Intervalo(6.0, 6.0), Intervalos.Intervalo(5.64558e-15, 1.1285e-14), Intervalos.Intervalo(6.0, 6.0), Intervalos.Intervalo(2.82466e-15, 5.64558e-15), Intervalos.Intervalo(6.0, 6.0), Intervalos.Intervalo(1.4125e-15, 2.82466e-15), Intervalos.Intervalo(6.0, 6.0), Intervalos.Intervalo(6.0, 6.0), Intervalos.Intervalo(0.0, 7.07165e-16), Intervalos.Intervalo(7.07165e-16, 1.4125e-15)])\n",
      "(uniqueRoot(X1[i], X0), X1[i], X0) = (1, Intervalos.Intervalo(1.4125033350729306e-15, 2.824662842334188e-15), Intervalos.Intervalo(0.0, 6.0))\n",
      "(uniqueRoot(X1[i], X0), X1[i], X0) = (-1, Intervalos.Intervalo(5.999999999999999, 6.0), Intervalos.Intervalo(0.0, 6.0))\n",
      "Xbis = Intervalos.Intervalo[Intervalos.Intervalo(6.0, 6.0), Intervalos.Intervalo(6.0, 6.0)]\n",
      "(\" Antes \", X1) = (\" Antes \", Intervalos.Intervalo[Intervalos.Intervalo(3.00002, 4.50148), Intervalos.Intervalo(1.50244, 3.00451), Intervalos.Intervalo(4.50148, 5.25082), Intervalos.Intervalo(0.752677, 1.50244), Intervalos.Intervalo(5.25082, 5.62608), Intervalos.Intervalo(0.376723, 0.752677), Intervalos.Intervalo(5.62608, 5.8134), Intervalos.Intervalo(0.188552, 0.376723), Intervalos.Intervalo(5.8134, 5.90676), Intervalos.Intervalo(0.0944598, 0.188552), Intervalos.Intervalo(5.90676, 5.95343), Intervalos.Intervalo(0.047286, 0.0944598), Intervalos.Intervalo(5.95343, 5.97673), Intervalos.Intervalo(0.0236567, 0.047286), Intervalos.Intervalo(5.97673, 5.98838), Intervalos.Intervalo(0.0118434, 0.0236567), Intervalos.Intervalo(5.98838, 5.99419), Intervalos.Intervalo(0.00593332, 0.0118434), Intervalos.Intervalo(5.99419, 5.9971), Intervalos.Intervalo(0.00296759, 0.00593332), Intervalos.Intervalo(5.9971, 5.99855), Intervalos.Intervalo(0.00148416, 0.00296759), Intervalos.Intervalo(5.99855, 5.99928), Intervalos.Intervalo(0.000743215, 0.00148416), Intervalos.Intervalo(5.99928, 5.99964), Intervalos.Intervalo(0.000372101, 0.000743215), Intervalos.Intervalo(5.99964, 5.99982), Intervalos.Intervalo(0.000186387, 0.000372101), Intervalos.Intervalo(5.99982, 5.99991), Intervalos.Intervalo(9.32925e-5, 0.000186387), Intervalos.Intervalo(5.99991, 5.99995), Intervalos.Intervalo(4.66957e-5, 9.32925e-5), Intervalos.Intervalo(5.99995, 5.99998), Intervalos.Intervalo(2.3382e-5, 4.66957e-5), Intervalos.Intervalo(5.99998, 5.99999), Intervalos.Intervalo(1.17105e-5, 2.3382e-5), Intervalos.Intervalo(5.99999, 5.99999), Intervalos.Intervalo(5.86233e-6, 1.17105e-5), Intervalos.Intervalo(5.99999, 6.0), Intervalos.Intervalo(2.93377e-6, 5.86233e-6), Intervalos.Intervalo(6.0, 6.0), Intervalos.Intervalo(1.46788e-6, 2.93377e-6), Intervalos.Intervalo(6.0, 6.0), Intervalos.Intervalo(7.35144e-7, 1.46788e-6), Intervalos.Intervalo(6.0, 6.0), Intervalos.Intervalo(3.67709e-7, 7.35144e-7), Intervalos.Intervalo(6.0, 6.0), Intervalos.Intervalo(1.84113e-7, 3.67709e-7), Intervalos.Intervalo(6.0, 6.0), Intervalos.Intervalo(9.21621e-8, 1.84113e-7), Intervalos.Intervalo(6.0, 6.0), Intervalos.Intervalo(4.61125e-8, 9.21621e-8), Intervalos.Intervalo(6.0, 6.0), Intervalos.Intervalo(2.309e-8, 4.61125e-8), Intervalos.Intervalo(6.0, 6.0), Intervalos.Intervalo(1.15559e-8, 2.309e-8), Intervalos.Intervalo(6.0, 6.0), Intervalos.Intervalo(5.78372e-9, 1.15559e-8), Intervalos.Intervalo(6.0, 6.0), Intervalos.Intervalo(2.89573e-9, 5.78372e-9), Intervalos.Intervalo(6.0, 6.0), Intervalos.Intervalo(1.45007e-9, 2.89573e-9), Intervalos.Intervalo(6.0, 6.0), Intervalos.Intervalo(7.25281e-10, 1.45007e-9), Intervalos.Intervalo(6.0, 6.0), Intervalos.Intervalo(3.63238e-10, 7.25281e-10), Intervalos.Intervalo(6.0, 6.0), Intervalos.Intervalo(1.81786e-10, 3.63238e-10), Intervalos.Intervalo(6.0, 6.0), Intervalos.Intervalo(9.10717e-11, 1.81786e-10), Intervalos.Intervalo(6.0, 6.0), Intervalos.Intervalo(4.56199e-11, 9.10717e-11), Intervalos.Intervalo(6.0, 6.0), Intervalos.Intervalo(2.28334e-11, 4.56199e-11), Intervalos.Intervalo(6.0, 6.0), Intervalos.Intervalo(1.14245e-11, 2.28334e-11), Intervalos.Intervalo(6.0, 6.0), Intervalos.Intervalo(5.72001e-12, 1.14245e-11), Intervalos.Intervalo(6.0, 6.0), Intervalos.Intervalo(2.86267e-12, 5.72001e-12), Intervalos.Intervalo(6.0, 6.0), Intervalos.Intervalo(1.43136e-12, 2.86267e-12), Intervalos.Intervalo(6.0, 6.0), Intervalos.Intervalo(7.16186e-13, 1.43136e-12), Intervalos.Intervalo(6.0, 6.0), Intervalos.Intervalo(3.58743e-13, 7.16186e-13), Intervalos.Intervalo(6.0, 6.0), Intervalos.Intervalo(1.79521e-13, 3.58743e-13), Intervalos.Intervalo(6.0, 6.0), Intervalos.Intervalo(8.98418e-14, 1.79521e-13), Intervalos.Intervalo(6.0, 6.0), Intervalos.Intervalo(4.49796e-14, 8.98418e-14), Intervalos.Intervalo(6.0, 6.0), Intervalos.Intervalo(2.25336e-14, 4.49796e-14), Intervalos.Intervalo(6.0, 6.0), Intervalos.Intervalo(1.1285e-14, 2.25336e-14), Intervalos.Intervalo(6.0, 6.0), Intervalos.Intervalo(5.64558e-15, 1.1285e-14), Intervalos.Intervalo(6.0, 6.0), Intervalos.Intervalo(2.82466e-15, 5.64558e-15), Intervalos.Intervalo(6.0, 6.0), Intervalos.Intervalo(1.4125e-15, 2.82466e-15), Intervalos.Intervalo(6.0, 6.0), Intervalos.Intervalo(0.0, 7.07165e-16), Intervalos.Intervalo(7.07165e-16, 1.4125e-15)])\n"
     ]
    },
    {
     "name": "stdout",
     "output_type": "stream",
     "text": [
      "(\" Después \", X1) = (\" Después \", Intervalos.Intervalo[Intervalos.Intervalo(3.00002, 4.50148), Intervalos.Intervalo(1.50244, 3.00451), Intervalos.Intervalo(4.50148, 5.25082), Intervalos.Intervalo(0.752677, 1.50244), Intervalos.Intervalo(5.25082, 5.62608), Intervalos.Intervalo(0.376723, 0.752677), Intervalos.Intervalo(5.62608, 5.8134), Intervalos.Intervalo(0.188552, 0.376723), Intervalos.Intervalo(5.8134, 5.90676), Intervalos.Intervalo(0.0944598, 0.188552), Intervalos.Intervalo(5.90676, 5.95343), Intervalos.Intervalo(0.047286, 0.0944598), Intervalos.Intervalo(5.95343, 5.97673), Intervalos.Intervalo(0.0236567, 0.047286), Intervalos.Intervalo(5.97673, 5.98838), Intervalos.Intervalo(0.0118434, 0.0236567), Intervalos.Intervalo(5.98838, 5.99419), Intervalos.Intervalo(0.00593332, 0.0118434), Intervalos.Intervalo(5.99419, 5.9971), Intervalos.Intervalo(0.00296759, 0.00593332), Intervalos.Intervalo(5.9971, 5.99855), Intervalos.Intervalo(0.00148416, 0.00296759), Intervalos.Intervalo(5.99855, 5.99928), Intervalos.Intervalo(0.000743215, 0.00148416), Intervalos.Intervalo(5.99928, 5.99964), Intervalos.Intervalo(0.000372101, 0.000743215), Intervalos.Intervalo(5.99964, 5.99982), Intervalos.Intervalo(0.000186387, 0.000372101), Intervalos.Intervalo(5.99982, 5.99991), Intervalos.Intervalo(9.32925e-5, 0.000186387), Intervalos.Intervalo(5.99991, 5.99995), Intervalos.Intervalo(4.66957e-5, 9.32925e-5), Intervalos.Intervalo(5.99995, 5.99998), Intervalos.Intervalo(2.3382e-5, 4.66957e-5), Intervalos.Intervalo(5.99998, 5.99999), Intervalos.Intervalo(1.17105e-5, 2.3382e-5), Intervalos.Intervalo(5.99999, 5.99999), Intervalos.Intervalo(5.86233e-6, 1.17105e-5), Intervalos.Intervalo(5.99999, 6.0), Intervalos.Intervalo(2.93377e-6, 5.86233e-6), Intervalos.Intervalo(6.0, 6.0), Intervalos.Intervalo(1.46788e-6, 2.93377e-6), Intervalos.Intervalo(6.0, 6.0), Intervalos.Intervalo(7.35144e-7, 1.46788e-6), Intervalos.Intervalo(6.0, 6.0), Intervalos.Intervalo(3.67709e-7, 7.35144e-7), Intervalos.Intervalo(6.0, 6.0), Intervalos.Intervalo(1.84113e-7, 3.67709e-7), Intervalos.Intervalo(6.0, 6.0), Intervalos.Intervalo(9.21621e-8, 1.84113e-7), Intervalos.Intervalo(6.0, 6.0), Intervalos.Intervalo(4.61125e-8, 9.21621e-8), Intervalos.Intervalo(6.0, 6.0), Intervalos.Intervalo(2.309e-8, 4.61125e-8), Intervalos.Intervalo(6.0, 6.0), Intervalos.Intervalo(1.15559e-8, 2.309e-8), Intervalos.Intervalo(6.0, 6.0), Intervalos.Intervalo(5.78372e-9, 1.15559e-8), Intervalos.Intervalo(6.0, 6.0), Intervalos.Intervalo(2.89573e-9, 5.78372e-9), Intervalos.Intervalo(6.0, 6.0), Intervalos.Intervalo(1.45007e-9, 2.89573e-9), Intervalos.Intervalo(6.0, 6.0), Intervalos.Intervalo(7.25281e-10, 1.45007e-9), Intervalos.Intervalo(6.0, 6.0), Intervalos.Intervalo(3.63238e-10, 7.25281e-10), Intervalos.Intervalo(6.0, 6.0), Intervalos.Intervalo(1.81786e-10, 3.63238e-10), Intervalos.Intervalo(6.0, 6.0), Intervalos.Intervalo(9.10717e-11, 1.81786e-10), Intervalos.Intervalo(6.0, 6.0), Intervalos.Intervalo(4.56199e-11, 9.10717e-11), Intervalos.Intervalo(6.0, 6.0), Intervalos.Intervalo(2.28334e-11, 4.56199e-11), Intervalos.Intervalo(6.0, 6.0), Intervalos.Intervalo(1.14245e-11, 2.28334e-11), Intervalos.Intervalo(6.0, 6.0), Intervalos.Intervalo(5.72001e-12, 1.14245e-11), Intervalos.Intervalo(6.0, 6.0), Intervalos.Intervalo(2.86267e-12, 5.72001e-12), Intervalos.Intervalo(6.0, 6.0), Intervalos.Intervalo(1.43136e-12, 2.86267e-12), Intervalos.Intervalo(6.0, 6.0), Intervalos.Intervalo(7.16186e-13, 1.43136e-12), Intervalos.Intervalo(6.0, 6.0), Intervalos.Intervalo(3.58743e-13, 7.16186e-13), Intervalos.Intervalo(6.0, 6.0), Intervalos.Intervalo(1.79521e-13, 3.58743e-13), Intervalos.Intervalo(6.0, 6.0), Intervalos.Intervalo(8.98418e-14, 1.79521e-13), Intervalos.Intervalo(6.0, 6.0), Intervalos.Intervalo(4.49796e-14, 8.98418e-14), Intervalos.Intervalo(6.0, 6.0), Intervalos.Intervalo(2.25336e-14, 4.49796e-14), Intervalos.Intervalo(6.0, 6.0), Intervalos.Intervalo(1.1285e-14, 2.25336e-14), Intervalos.Intervalo(6.0, 6.0), Intervalos.Intervalo(5.64558e-15, 1.1285e-14), Intervalos.Intervalo(6.0, 6.0), Intervalos.Intervalo(2.82466e-15, 5.64558e-15), Intervalos.Intervalo(6.0, 6.0), Intervalos.Intervalo(1.4125e-15, 2.82466e-15), Intervalos.Intervalo(6.0, 6.0), Intervalos.Intervalo(0.0, 7.07165e-16), Intervalos.Intervalo(7.07165e-16, 1.4125e-15), Intervalos.Intervalo(6.0, 6.0), Intervalos.Intervalo(6.0, 6.0)])\n",
      "(uniqueRoot(X1[i], X0), X1[i], X0) = (-1, Intervalos.Intervalo(6.0, 6.0), Intervalos.Intervalo(0.0, 6.0))\n",
      "Xbis = Intervalos.Intervalo[Intervalos.Intervalo(6.0, 6.0), Intervalos.Intervalo(6.0, 6.0)]\n",
      "(\" Antes \", X1) = (\" Antes \", Intervalos.Intervalo[Intervalos.Intervalo(3.00002, 4.50148), Intervalos.Intervalo(1.50244, 3.00451), Intervalos.Intervalo(4.50148, 5.25082), Intervalos.Intervalo(0.752677, 1.50244), Intervalos.Intervalo(5.25082, 5.62608), Intervalos.Intervalo(0.376723, 0.752677), Intervalos.Intervalo(5.62608, 5.8134), Intervalos.Intervalo(0.188552, 0.376723), Intervalos.Intervalo(5.8134, 5.90676), Intervalos.Intervalo(0.0944598, 0.188552), Intervalos.Intervalo(5.90676, 5.95343), Intervalos.Intervalo(0.047286, 0.0944598), Intervalos.Intervalo(5.95343, 5.97673), Intervalos.Intervalo(0.0236567, 0.047286), Intervalos.Intervalo(5.97673, 5.98838), Intervalos.Intervalo(0.0118434, 0.0236567), Intervalos.Intervalo(5.98838, 5.99419), Intervalos.Intervalo(0.00593332, 0.0118434), Intervalos.Intervalo(5.99419, 5.9971), Intervalos.Intervalo(0.00296759, 0.00593332), Intervalos.Intervalo(5.9971, 5.99855), Intervalos.Intervalo(0.00148416, 0.00296759), Intervalos.Intervalo(5.99855, 5.99928), Intervalos.Intervalo(0.000743215, 0.00148416), Intervalos.Intervalo(5.99928, 5.99964), Intervalos.Intervalo(0.000372101, 0.000743215), Intervalos.Intervalo(5.99964, 5.99982), Intervalos.Intervalo(0.000186387, 0.000372101), Intervalos.Intervalo(5.99982, 5.99991), Intervalos.Intervalo(9.32925e-5, 0.000186387), Intervalos.Intervalo(5.99991, 5.99995), Intervalos.Intervalo(4.66957e-5, 9.32925e-5), Intervalos.Intervalo(5.99995, 5.99998), Intervalos.Intervalo(2.3382e-5, 4.66957e-5), Intervalos.Intervalo(5.99998, 5.99999), Intervalos.Intervalo(1.17105e-5, 2.3382e-5), Intervalos.Intervalo(5.99999, 5.99999), Intervalos.Intervalo(5.86233e-6, 1.17105e-5), Intervalos.Intervalo(5.99999, 6.0), Intervalos.Intervalo(2.93377e-6, 5.86233e-6), Intervalos.Intervalo(6.0, 6.0), Intervalos.Intervalo(1.46788e-6, 2.93377e-6), Intervalos.Intervalo(6.0, 6.0), Intervalos.Intervalo(7.35144e-7, 1.46788e-6), Intervalos.Intervalo(6.0, 6.0), Intervalos.Intervalo(3.67709e-7, 7.35144e-7), Intervalos.Intervalo(6.0, 6.0), Intervalos.Intervalo(1.84113e-7, 3.67709e-7), Intervalos.Intervalo(6.0, 6.0), Intervalos.Intervalo(9.21621e-8, 1.84113e-7), Intervalos.Intervalo(6.0, 6.0), Intervalos.Intervalo(4.61125e-8, 9.21621e-8), Intervalos.Intervalo(6.0, 6.0), Intervalos.Intervalo(2.309e-8, 4.61125e-8), Intervalos.Intervalo(6.0, 6.0), Intervalos.Intervalo(1.15559e-8, 2.309e-8), Intervalos.Intervalo(6.0, 6.0), Intervalos.Intervalo(5.78372e-9, 1.15559e-8), Intervalos.Intervalo(6.0, 6.0), Intervalos.Intervalo(2.89573e-9, 5.78372e-9), Intervalos.Intervalo(6.0, 6.0), Intervalos.Intervalo(1.45007e-9, 2.89573e-9), Intervalos.Intervalo(6.0, 6.0), Intervalos.Intervalo(7.25281e-10, 1.45007e-9), Intervalos.Intervalo(6.0, 6.0), Intervalos.Intervalo(3.63238e-10, 7.25281e-10), Intervalos.Intervalo(6.0, 6.0), Intervalos.Intervalo(1.81786e-10, 3.63238e-10), Intervalos.Intervalo(6.0, 6.0), Intervalos.Intervalo(9.10717e-11, 1.81786e-10), Intervalos.Intervalo(6.0, 6.0), Intervalos.Intervalo(4.56199e-11, 9.10717e-11), Intervalos.Intervalo(6.0, 6.0), Intervalos.Intervalo(2.28334e-11, 4.56199e-11), Intervalos.Intervalo(6.0, 6.0), Intervalos.Intervalo(1.14245e-11, 2.28334e-11), Intervalos.Intervalo(6.0, 6.0), Intervalos.Intervalo(5.72001e-12, 1.14245e-11), Intervalos.Intervalo(6.0, 6.0), Intervalos.Intervalo(2.86267e-12, 5.72001e-12), Intervalos.Intervalo(6.0, 6.0), Intervalos.Intervalo(1.43136e-12, 2.86267e-12), Intervalos.Intervalo(6.0, 6.0), Intervalos.Intervalo(7.16186e-13, 1.43136e-12), Intervalos.Intervalo(6.0, 6.0), Intervalos.Intervalo(3.58743e-13, 7.16186e-13), Intervalos.Intervalo(6.0, 6.0), Intervalos.Intervalo(1.79521e-13, 3.58743e-13), Intervalos.Intervalo(6.0, 6.0), Intervalos.Intervalo(8.98418e-14, 1.79521e-13), Intervalos.Intervalo(6.0, 6.0), Intervalos.Intervalo(4.49796e-14, 8.98418e-14), Intervalos.Intervalo(6.0, 6.0), Intervalos.Intervalo(2.25336e-14, 4.49796e-14), Intervalos.Intervalo(6.0, 6.0), Intervalos.Intervalo(1.1285e-14, 2.25336e-14), Intervalos.Intervalo(6.0, 6.0), Intervalos.Intervalo(5.64558e-15, 1.1285e-14), Intervalos.Intervalo(6.0, 6.0), Intervalos.Intervalo(2.82466e-15, 5.64558e-15), Intervalos.Intervalo(6.0, 6.0), Intervalos.Intervalo(1.4125e-15, 2.82466e-15), Intervalos.Intervalo(0.0, 7.07165e-16), Intervalos.Intervalo(7.07165e-16, 1.4125e-15), Intervalos.Intervalo(6.0, 6.0), Intervalos.Intervalo(6.0, 6.0)])\n",
      "(\" Después \", X1) = (\" Después \", Intervalos.Intervalo[Intervalos.Intervalo(3.00002, 4.50148), Intervalos.Intervalo(1.50244, 3.00451), Intervalos.Intervalo(4.50148, 5.25082), Intervalos.Intervalo(0.752677, 1.50244), Intervalos.Intervalo(5.25082, 5.62608), Intervalos.Intervalo(0.376723, 0.752677), Intervalos.Intervalo(5.62608, 5.8134), Intervalos.Intervalo(0.188552, 0.376723), Intervalos.Intervalo(5.8134, 5.90676), Intervalos.Intervalo(0.0944598, 0.188552), Intervalos.Intervalo(5.90676, 5.95343), Intervalos.Intervalo(0.047286, 0.0944598), Intervalos.Intervalo(5.95343, 5.97673), Intervalos.Intervalo(0.0236567, 0.047286), Intervalos.Intervalo(5.97673, 5.98838), Intervalos.Intervalo(0.0118434, 0.0236567), Intervalos.Intervalo(5.98838, 5.99419), Intervalos.Intervalo(0.00593332, 0.0118434), Intervalos.Intervalo(5.99419, 5.9971), Intervalos.Intervalo(0.00296759, 0.00593332), Intervalos.Intervalo(5.9971, 5.99855), Intervalos.Intervalo(0.00148416, 0.00296759), Intervalos.Intervalo(5.99855, 5.99928), Intervalos.Intervalo(0.000743215, 0.00148416), Intervalos.Intervalo(5.99928, 5.99964), Intervalos.Intervalo(0.000372101, 0.000743215), Intervalos.Intervalo(5.99964, 5.99982), Intervalos.Intervalo(0.000186387, 0.000372101), Intervalos.Intervalo(5.99982, 5.99991), Intervalos.Intervalo(9.32925e-5, 0.000186387), Intervalos.Intervalo(5.99991, 5.99995), Intervalos.Intervalo(4.66957e-5, 9.32925e-5), Intervalos.Intervalo(5.99995, 5.99998), Intervalos.Intervalo(2.3382e-5, 4.66957e-5), Intervalos.Intervalo(5.99998, 5.99999), Intervalos.Intervalo(1.17105e-5, 2.3382e-5), Intervalos.Intervalo(5.99999, 5.99999), Intervalos.Intervalo(5.86233e-6, 1.17105e-5), Intervalos.Intervalo(5.99999, 6.0), Intervalos.Intervalo(2.93377e-6, 5.86233e-6), Intervalos.Intervalo(6.0, 6.0), Intervalos.Intervalo(1.46788e-6, 2.93377e-6), Intervalos.Intervalo(6.0, 6.0), Intervalos.Intervalo(7.35144e-7, 1.46788e-6), Intervalos.Intervalo(6.0, 6.0), Intervalos.Intervalo(3.67709e-7, 7.35144e-7), Intervalos.Intervalo(6.0, 6.0), Intervalos.Intervalo(1.84113e-7, 3.67709e-7), Intervalos.Intervalo(6.0, 6.0), Intervalos.Intervalo(9.21621e-8, 1.84113e-7), Intervalos.Intervalo(6.0, 6.0), Intervalos.Intervalo(4.61125e-8, 9.21621e-8), Intervalos.Intervalo(6.0, 6.0), Intervalos.Intervalo(2.309e-8, 4.61125e-8), Intervalos.Intervalo(6.0, 6.0), Intervalos.Intervalo(1.15559e-8, 2.309e-8), Intervalos.Intervalo(6.0, 6.0), Intervalos.Intervalo(5.78372e-9, 1.15559e-8), Intervalos.Intervalo(6.0, 6.0), Intervalos.Intervalo(2.89573e-9, 5.78372e-9), Intervalos.Intervalo(6.0, 6.0), Intervalos.Intervalo(1.45007e-9, 2.89573e-9), Intervalos.Intervalo(6.0, 6.0), Intervalos.Intervalo(7.25281e-10, 1.45007e-9), Intervalos.Intervalo(6.0, 6.0), Intervalos.Intervalo(3.63238e-10, 7.25281e-10), Intervalos.Intervalo(6.0, 6.0), Intervalos.Intervalo(1.81786e-10, 3.63238e-10), Intervalos.Intervalo(6.0, 6.0), Intervalos.Intervalo(9.10717e-11, 1.81786e-10), Intervalos.Intervalo(6.0, 6.0), Intervalos.Intervalo(4.56199e-11, 9.10717e-11), Intervalos.Intervalo(6.0, 6.0), Intervalos.Intervalo(2.28334e-11, 4.56199e-11), Intervalos.Intervalo(6.0, 6.0), Intervalos.Intervalo(1.14245e-11, 2.28334e-11), Intervalos.Intervalo(6.0, 6.0), Intervalos.Intervalo(5.72001e-12, 1.14245e-11), Intervalos.Intervalo(6.0, 6.0), Intervalos.Intervalo(2.86267e-12, 5.72001e-12), Intervalos.Intervalo(6.0, 6.0), Intervalos.Intervalo(1.43136e-12, 2.86267e-12), Intervalos.Intervalo(6.0, 6.0), Intervalos.Intervalo(7.16186e-13, 1.43136e-12), Intervalos.Intervalo(6.0, 6.0), Intervalos.Intervalo(3.58743e-13, 7.16186e-13), Intervalos.Intervalo(6.0, 6.0), Intervalos.Intervalo(1.79521e-13, 3.58743e-13), Intervalos.Intervalo(6.0, 6.0), Intervalos.Intervalo(8.98418e-14, 1.79521e-13), Intervalos.Intervalo(6.0, 6.0), Intervalos.Intervalo(4.49796e-14, 8.98418e-14), Intervalos.Intervalo(6.0, 6.0), Intervalos.Intervalo(2.25336e-14, 4.49796e-14), Intervalos.Intervalo(6.0, 6.0), Intervalos.Intervalo(1.1285e-14, 2.25336e-14), Intervalos.Intervalo(6.0, 6.0), Intervalos.Intervalo(5.64558e-15, 1.1285e-14), Intervalos.Intervalo(6.0, 6.0), Intervalos.Intervalo(2.82466e-15, 5.64558e-15), Intervalos.Intervalo(6.0, 6.0), Intervalos.Intervalo(1.4125e-15, 2.82466e-15), Intervalos.Intervalo(0.0, 7.07165e-16), Intervalos.Intervalo(7.07165e-16, 1.4125e-15), Intervalos.Intervalo(6.0, 6.0), Intervalos.Intervalo(6.0, 6.0), Intervalos.Intervalo(6.0, 6.0), Intervalos.Intervalo(6.0, 6.0)])"
     ]
    },
    {
     "name": "stderr",
     "output_type": "stream",
     "text": [
      "Excessive output truncated after 525538 bytes."
     ]
    },
    {
     "name": "stdout",
     "output_type": "stream",
     "text": [
      "\n",
      "(uniqueRoot(X1[i], X0), X1[i], X0) = (-1, Intervalos.Intervalo(0.0, 7.071654305275984e-16), Intervalos.Intervalo(0.0, 6.0))\n",
      "Xbis = Intervalos.Intervalo[Intervalos.Intervalo(0.0, 3.53593e-16), Intervalos.Intervalo(3.53593e-16, 7.07165e-16)]\n",
      "(\" Antes \", X1) = "
     ]
    },
    {
     "ename": "LoadError",
     "evalue": "\u001b[91mInterruptException:\u001b[39m",
     "output_type": "error",
     "traceback": [
      "\u001b[91mInterruptException:\u001b[39m",
      "",
      "Stacktrace:",
      " [1] \u001b[1mIOContext\u001b[22m\u001b[22m\u001b[1m(\u001b[22m\u001b[22m::IOContext{Base.AbstractIOBuffer{Array{UInt8,1}}}, ::Symbol, ::Intervalos.Intervalo\u001b[1m)\u001b[22m\u001b[22m at \u001b[1m./show.jl:42\u001b[22m\u001b[22m",
      " [2] \u001b[1mshow_default\u001b[22m\u001b[22m\u001b[1m(\u001b[22m\u001b[22m::IOContext{Base.AbstractIOBuffer{Array{UInt8,1}}}, ::Any\u001b[1m)\u001b[22m\u001b[22m at \u001b[1m./show.jl:134\u001b[22m\u001b[22m",
      " [3] \u001b[1mshow_delim_array\u001b[22m\u001b[22m\u001b[1m(\u001b[22m\u001b[22m::IOContext{Base.AbstractIOBuffer{Array{UInt8,1}}}, ::Array{Intervalos.Intervalo,1}, ::String, ::String, ::String, ::Bool, ::Int64, ::Int64\u001b[1m)\u001b[22m\u001b[22m at \u001b[1m./show.jl:352\u001b[22m\u001b[22m",
      " [4] \u001b[1mshow_vector\u001b[22m\u001b[22m\u001b[1m(\u001b[22m\u001b[22m::IOContext{Base.AbstractIOBuffer{Array{UInt8,1}}}, ::Array{Intervalos.Intervalo,1}, ::String, ::String\u001b[1m)\u001b[22m\u001b[22m at \u001b[1m./show.jl:1759\u001b[22m\u001b[22m",
      " [5] \u001b[1m#showarray#263\u001b[22m\u001b[22m\u001b[1m(\u001b[22m\u001b[22m::Bool, ::Function, ::IOContext{Base.AbstractIOBuffer{Array{UInt8,1}}}, ::Array{Intervalos.Intervalo,1}, ::Bool\u001b[1m)\u001b[22m\u001b[22m at \u001b[1m./show.jl:1676\u001b[22m\u001b[22m",
      " [6] \u001b[1mshow\u001b[22m\u001b[22m\u001b[1m(\u001b[22m\u001b[22m::IOContext{Base.AbstractIOBuffer{Array{UInt8,1}}}, ::Array{Intervalos.Intervalo,1}\u001b[1m)\u001b[22m\u001b[22m at \u001b[1m./show.jl:1669\u001b[22m\u001b[22m",
      " [7] \u001b[1mshow_delim_array\u001b[22m\u001b[22m\u001b[1m(\u001b[22m\u001b[22m::Base.AbstractIOBuffer{Array{UInt8,1}}, ::Tuple{String,Array{Intervalos.Intervalo,1}}, ::Char, ::Char, ::Char, ::Bool, ::Int64, ::Int64\u001b[1m)\u001b[22m\u001b[22m at \u001b[1m./show.jl:381\u001b[22m\u001b[22m",
      " [8] \u001b[1mshowall\u001b[22m\u001b[22m\u001b[1m(\u001b[22m\u001b[22m::Base.AbstractIOBuffer{Array{UInt8,1}}, ::Tuple{String,Array{Intervalos.Intervalo,1}}\u001b[1m)\u001b[22m\u001b[22m at \u001b[1m./show.jl:1719\u001b[22m\u001b[22m",
      " [9] \u001b[1mrepr\u001b[22m\u001b[22m at \u001b[1m./strings/io.jl:146\u001b[22m\u001b[22m [inlined]",
      " [10] \u001b[1mnewtonIntervalExten\u001b[22m\u001b[22m\u001b[1m(\u001b[22m\u001b[22m::Function, ::Intervalos.Intervalo, ::Int64, ::Float64\u001b[1m)\u001b[22m\u001b[22m at \u001b[1m./In[121]:45\u001b[22m\u001b[22m",
      " [11] \u001b[1mnewtonIntervalExten\u001b[22m\u001b[22m\u001b[1m(\u001b[22m\u001b[22m::Function, ::Intervalos.Intervalo\u001b[1m)\u001b[22m\u001b[22m at \u001b[1m./In[121]:2\u001b[22m\u001b[22m",
      " [12] \u001b[1minclude_string\u001b[22m\u001b[22m\u001b[1m(\u001b[22m\u001b[22m::String, ::String\u001b[1m)\u001b[22m\u001b[22m at \u001b[1m./loading.jl:522\u001b[22m\u001b[22m"
     ]
    }
   ],
   "source": [
    "n = 5\n",
    "function wilkinson(x)\n",
    "    y = 1\n",
    "    for i in 1:n\n",
    "        y *=(x - i)\n",
    "    end\n",
    "    return y\n",
    "end\n",
    "\n",
    "newtonIntervalExten(wilkinson, Intervalo(0, n + 1))"
   ]
  },
  {
   "cell_type": "code",
   "execution_count": null,
   "metadata": {
    "collapsed": true
   },
   "outputs": [],
   "source": []
  }
 ],
 "metadata": {
  "kernelspec": {
   "display_name": "Julia 0.6.2",
   "language": "julia",
   "name": "julia-0.6"
  },
  "language_info": {
   "file_extension": ".jl",
   "mimetype": "application/julia",
   "name": "julia",
   "version": "0.6.2"
  },
  "toc": {
   "nav_menu": {},
   "number_sections": false,
   "sideBar": true,
   "skip_h1_title": false,
   "toc_cell": false,
   "toc_position": {
    "height": "429px",
    "left": "0px",
    "right": "727.2px",
    "top": "112px",
    "width": "212px"
   },
   "toc_section_display": "block",
   "toc_window_display": false
  }
 },
 "nbformat": 4,
 "nbformat_minor": 1
}
