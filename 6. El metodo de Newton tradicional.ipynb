{
 "cells": [
  {
   "cell_type": "markdown",
   "metadata": {},
   "source": [
    "# El método de Newton tradicional\n",
    "\n",
    "### Lartaun Aramis de Icaza Astiz\n",
    "### Pedro Porras Flores"
   ]
  },
  {
   "cell_type": "markdown",
   "metadata": {},
   "source": [
    "Recordemos que el *método de Newton* es un método numérico *iterativo* para encontrar raíces de funciones (continuamente) diferenciables.\n",
    "\n",
    "Sea $f$ la función cuyas raíces queremos encontrar.\n",
    "La idea es que empecemos desde una adivinanza inicial $x_0$, y que la siguiente aproximación se calcula como sigue."
   ]
  },
  {
   "cell_type": "markdown",
   "metadata": {},
   "source": [
    "**[1]** (i) En general, $x_0$ *no* es una raíz. Suponiendo que $x_0$ esté cerca de una raíz, sea $x_0 + \\delta x$ la raíz. Expande $f$ en una serie de Taylor a primer orden para encontrar una expresión aproximada para $\\delta x$, y de ahí de la siguiente aproximación $x_1 := x_0 + \\delta x$.\n",
    "\n",
    "\n",
    "* Sea $x$ raíz de $f$ tal que $x = x_0 + \\delta x$ y $f(x_0) \\approx 0 $ \n",
    "\n",
    "$ f(x) = f(x_0 + \\delta x) \\approx f(x_0) +\\delta x \\ f'(x_0)$ \n",
    "\n",
    "$ x\\approx x_1 = x_0  - \\dfrac{f(x_0) }{ f'(x_0 )} $\n",
    "\n",
    "(ii) Dé una interpretación geométrica de este resultado.\n",
    "\n",
    "*  Se toma la pendiente de la tangente en $x_0$ y se calcula la insercción con $y = 0$, la cual una mejor aproximación a la raíz\n",
    "\n",
    "(iii) Dibuja unas cuantas iteraciones en la computadora, con todo y la interpretación geométrica, para una función nolineal que escojas. \n",
    "\n",
    "* Considermos $f(x) = x^2 - 2$ y $x_0 = 1$ "
   ]
  },
  {
   "cell_type": "code",
   "execution_count": 1,
   "metadata": {},
   "outputs": [
    {
     "data": {
      "text/plain": [
       "Plots.PyPlotBackend()"
      ]
     },
     "execution_count": 1,
     "metadata": {},
     "output_type": "execute_result"
    }
   ],
   "source": [
    "using Plots\n",
    "pyplot()"
   ]
  },
  {
   "cell_type": "code",
   "execution_count": 2,
   "metadata": {},
   "outputs": [
    {
     "name": "stdout",
     "output_type": "stream",
     "text": [
      "x0 = 1.3402027004047208\n",
      "x0 = 1.2646341054289276\n",
      "x0 = 1.2599385927540572\n"
     ]
    },
    {
     "data": {
      "text/html": [
       "<img src=\"data:image/png;base64,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\" />"
      ]
     },
     "execution_count": 2,
     "metadata": {},
     "output_type": "execute_result"
    }
   ],
   "source": [
    "f(x) = x^3 - 2\n",
    "fp(x) = 3*x^2\n",
    "x0 = 0.99\n",
    "xs = linspace(-0.7 , pi/2, 20)\n",
    "plot(xlim = (0.9, 2.0), ylim = (-1.1, 1.0),lab=\"\") \n",
    "scatter!((x0, f(x0)),lab=\"\")\n",
    "\n",
    "for i in 1:3\n",
    "    xa = x0\n",
    "    x0 = x0 - f(x0)/fp(x0)\n",
    "    scatter!((x0,f(x0)),lab=\"\")\n",
    "    plot!([x0, xa], [f(x0), f(xa)],lab=\"\")\n",
    "    #plot!([x0, 0], [f(x0), 0] ) \n",
    "    @show x0\n",
    "end\n",
    "plot!(xs, f.(xs), line = :dash, c= \"red\", lab= \"x^3 -2\")\n",
    "plot!([-2, 2], [0, 0], color = \"black\", title=\"Método de Newton\",lab=\"y=0\") \n"
   ]
  },
  {
   "cell_type": "markdown",
   "metadata": {},
   "source": [
    "**[2]** (i) Escribe una función `newton` que implementa la iteración para calcular una raíz de una función $f$, dada una adivinza inicial $x_0$. Utiliza diferenciación automática para calcular la derivada.\n",
    "\n",
    "(ii) Utiliza tu código para calcular la raíz cuadrada y la raíz cúbica de $2$.  \n",
    "\n",
    "(iii) ¿Cuál es una condición razonable de terminación del algoritmo? "
   ]
  },
  {
   "cell_type": "markdown",
   "metadata": {},
   "source": [
    "Implementaremos el método de Newton, usando diferenciación automática"
   ]
  },
  {
   "cell_type": "code",
   "execution_count": 3,
   "metadata": {
    "collapsed": true
   },
   "outputs": [],
   "source": [
    "using ForwardDiff"
   ]
  },
  {
   "cell_type": "code",
   "execution_count": 4,
   "metadata": {},
   "outputs": [
    {
     "data": {
      "text/plain": [
       "newton (generic function with 3 methods)"
      ]
     },
     "execution_count": 4,
     "metadata": {},
     "output_type": "execute_result"
    }
   ],
   "source": [
    "function newton(f,x0,n::Int64 = 10, tolerancia::Float64 = 1e-10 )\n",
    "    for i in 1:n\n",
    "        abs(f(x0)) <= tolerancia ? break : nothing\n",
    "        x0 = x0 - f(x0)/ForwardDiff.derivative(f, x0)\n",
    "    end\n",
    "    f(x0)<1e-3 ? x0 : 0\n",
    "end"
   ]
  },
  {
   "cell_type": "markdown",
   "metadata": {},
   "source": [
    "* Calculemos la raíz cuadrada de 2, para ello consideremos la función `f(x) = x^2 - 2`"
   ]
  },
  {
   "cell_type": "code",
   "execution_count": 5,
   "metadata": {},
   "outputs": [
    {
     "data": {
      "text/plain": [
       "1.4142135623730951"
      ]
     },
     "execution_count": 5,
     "metadata": {},
     "output_type": "execute_result"
    }
   ],
   "source": [
    "ff(x) = x^2 - 2 \n",
    "xs = newton(ff, 10*rand())"
   ]
  },
  {
   "cell_type": "code",
   "execution_count": 6,
   "metadata": {},
   "outputs": [
    {
     "data": {
      "text/plain": [
       "2.0000000000000004"
      ]
     },
     "execution_count": 6,
     "metadata": {},
     "output_type": "execute_result"
    }
   ],
   "source": [
    "xs^2 "
   ]
  },
  {
   "cell_type": "markdown",
   "metadata": {},
   "source": [
    "* Ahora la raíz cubica de 3, con la función `g(x) = x^3 - 2`"
   ]
  },
  {
   "cell_type": "code",
   "execution_count": 7,
   "metadata": {},
   "outputs": [
    {
     "data": {
      "text/plain": [
       "1.2599210498948734"
      ]
     },
     "execution_count": 7,
     "metadata": {},
     "output_type": "execute_result"
    }
   ],
   "source": [
    "#ff(x) = x^3 - 2\n",
    "xz = newton(f, 10*rand())"
   ]
  },
  {
   "cell_type": "code",
   "execution_count": 8,
   "metadata": {},
   "outputs": [
    {
     "data": {
      "text/plain": [
       "2.000000000000001"
      ]
     },
     "execution_count": 8,
     "metadata": {},
     "output_type": "execute_result"
    }
   ],
   "source": [
    "xz^3"
   ]
  },
  {
   "cell_type": "markdown",
   "metadata": {},
   "source": [
    "**[3]** ¿Cómo es la convergencia del método hacia una raíz:\n",
    "\n",
    "- cuando se empieza cerca de la raíz;\n",
    "\n",
    "- cuando se empieza lejos.\n",
    "\n",
    "[Pista: Utiliza `BigFloat` para obtener información más útil.]"
   ]
  },
  {
   "cell_type": "code",
   "execution_count": 9,
   "metadata": {},
   "outputs": [
    {
     "name": "stdout",
     "output_type": "stream",
     "text": [
      "Lejos de la raíz \n",
      "\n",
      "x1 = 1.259921049894873164767210607278228350570251464701507980082950937210530726064065\n",
      "\n",
      "\n",
      "Cerca de la raíz \n",
      "\n",
      "x2 = 1.25992104989487316476721060727822835060231115401748606998908129204512947330737\n",
      "x3 = 1.259921049894873164767210607278228350570253101580470913944656618151383314909601\n",
      "x4 = 1.259921049894873164767210607278228350570251464765410747444139537050047145406984\n"
     ]
    }
   ],
   "source": [
    "x1 = newton(f, BigFloat(100), 20, 1e-30)\n",
    "x2 = newton(f, BigFloat(5), 20, 1e-30)\n",
    "x3 = newton(f, BigFloat(1.2), 20, 1e-30)\n",
    "x4 = newton(f, BigFloat(0.4), 20, 1e-30)\n",
    "    \n",
    "println(\"Lejos de la raíz \\n\")\n",
    "@show x1\n",
    "println(\"\\n\")\n",
    "println(\"Cerca de la raíz \\n\")\n",
    "@show x2\n",
    "@show x3\n",
    "@show x4;"
   ]
  },
  {
   "cell_type": "markdown",
   "metadata": {},
   "source": [
    "Vemos que si comenzamos cerca de la raíz el resultado converge a `1.259921049894873190666544360283296555280685424804687500000000000000000000000000`, pero lejos de la raíz **NO** converge a la raíz"
   ]
  },
  {
   "cell_type": "markdown",
   "metadata": {},
   "source": [
    "## El método de Newton **puede fallar**"
   ]
  },
  {
   "cell_type": "markdown",
   "metadata": {},
   "source": [
    "El método de Newton funciona muy bien a veces, pero también puede fallar:"
   ]
  },
  {
   "cell_type": "markdown",
   "metadata": {},
   "source": [
    "**[4]** Utiliza el método de Newton para encontrar raíces *en el plano complejo*. Empezando desde distintos números complejos $a + bi$, itera el algoritmo para ver a cuál raíz converge, y colorea el punto inicial de manera correspondiente. [Pista: distingue a los puntos iniciales según la componente imaginaria de la raíz a la cual convergen.]\n",
    "\n",
    "Interpreta el resultado."
   ]
  },
  {
   "cell_type": "code",
   "execution_count": 10,
   "metadata": {},
   "outputs": [
    {
     "data": {
      "text/plain": [
       "newton (generic function with 6 methods)"
      ]
     },
     "execution_count": 10,
     "metadata": {},
     "output_type": "execute_result"
    }
   ],
   "source": [
    "function newton(f,fp,x0,n::Int64 = 10, tolerancia::Float64 = 1e-10 )\n",
    "    for i in 1:n\n",
    "        abs(f(x0)) <= tolerancia ? break : nothing\n",
    "        x0 = x0 - f(x0)/fp(x0)\n",
    "    end\n",
    "    abs(f(x0))<1e-3 ? x0 : 0 + 0im\n",
    "end"
   ]
  },
  {
   "cell_type": "code",
   "execution_count": 11,
   "metadata": {
    "collapsed": true
   },
   "outputs": [],
   "source": [
    "g(x) = x^3 - 2\n",
    "gp(x) = 3x^2\n",
    "\n",
    "x0s = -2:0.001:2\n",
    "\n",
    "z0s = zeros(length(x0s), length(x0s))\n",
    "count = 1\n",
    "\n",
    "for i in x0s\n",
    "    for j in x0s\n",
    "        \n",
    "        x0 =  i + j*im \n",
    "        z0 = newton(g, gp, x0)\n",
    "\n",
    "        z0s[count] = z0.re + z0.im\n",
    "        count +=1\n",
    "    end\n",
    "end"
   ]
  },
  {
   "cell_type": "code",
   "execution_count": 12,
   "metadata": {},
   "outputs": [
    {
     "data": {
      "text/html": [
       "<img src=\"data:image/png;base64,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\" />"
      ]
     },
     "execution_count": 12,
     "metadata": {},
     "output_type": "execute_result"
    }
   ],
   "source": [
    "heatmap(z0s, aspect_ratio=1)"
   ]
  },
  {
   "cell_type": "markdown",
   "metadata": {},
   "source": [
    "Interpretando la gráfica anterior vemos que la regiones correspondientes a los colores: negro, naranja y crema son regiones del plano complejo que convergen a las tres distintas raíces, el color rojo son los puntos del plano que divergen  "
   ]
  },
  {
   "cell_type": "markdown",
   "metadata": {},
   "source": [
    "## Dimensión superior"
   ]
  },
  {
   "cell_type": "markdown",
   "metadata": {},
   "source": [
    "El método de Newton se puede extender para encontrar raíces de funciones en dimensión superior, es decir de funciones $\\mathbf{f}: \\mathbb{R}^n \\to \\mathbb{R}^n$."
   ]
  },
  {
   "cell_type": "markdown",
   "metadata": {},
   "source": [
    "**[5]** (i) Desarrolla el algoritmo del método de Newton para funciones $\\mathbf{f}: \\mathbb{R}^n \\to \\mathbb{R}^n$. Para hacerlo, toma una adivinaza inicial $\\mathbf{x}_0$ y extiende el desarrollo de la pregunta (1) a este caso.\n",
    "\n",
    "* El método de Newton multidimensional $$\\mathbf{x}_{n+1} = \\mathbf{x}_{n} - \\left( D_{\\mathbf{x}_{n}} \\mathbf{f} \\right)^{-1}  \\left( \\mathbf{f}(\\mathbf{x}_{n}) \\right) $$\n",
    "\n",
    "(ii) ¿Qué tipo de cálculos necesitas poder hacer en Julia para implementar este algoritmo de forma numérica? ¿Cómo se lleva a cabo esto en Julia?\n",
    "\n",
    "* Debemos calcular la matriz jacobiana de $\\mathbf{f}$ en $\\mathbf{x}_{0}$ invertir esta, después multiplicar por $\\mathbf{f}$ en $\\mathbf{x}_{0}$ y esto restarlo al mismo $\\mathbf{x}_{n}$\n",
    "\n",
    "(iii) Escribe una función que implementa el algoritmo. \n",
    "\n",
    "(iv) Encuentra raíces de funciones multidimensionales cuyas raíces conoces, para verificar que el algoritmo funcione."
   ]
  },
  {
   "cell_type": "code",
   "execution_count": 13,
   "metadata": {},
   "outputs": [
    {
     "data": {
      "text/plain": [
       "newtonM (generic function with 3 methods)"
      ]
     },
     "execution_count": 13,
     "metadata": {},
     "output_type": "execute_result"
    }
   ],
   "source": [
    "### Implementamos Taylor multidimensinal\n",
    "\n",
    "function newtonM(f,x0,n::Int64 = 10, tolerancia::Float64 = 1e-10 )\n",
    "    for i in 1:n\n",
    "        #abs(f(x0)) <= tolerancia ? break : nothing\n",
    "        x0 = x0 - inv(ForwardDiff.jacobian(f, x0))*(f(x0))\n",
    "    end\n",
    "    \n",
    "    x0\n",
    "end"
   ]
  },
  {
   "cell_type": "markdown",
   "metadata": {},
   "source": [
    "Definimos la función $$F(x,y) = \\dfrac{1}{2}\\left( 1 + \\dfrac{\\sin(x)}{4} + y,  1 + \\sin(y) + x  \\right) $$"
   ]
  },
  {
   "cell_type": "code",
   "execution_count": 14,
   "metadata": {},
   "outputs": [
    {
     "data": {
      "text/plain": [
       "F (generic function with 1 method)"
      ]
     },
     "execution_count": 14,
     "metadata": {},
     "output_type": "execute_result"
    }
   ],
   "source": [
    "F(x::Vector) = 0.5*[1 + sin(x[1])/4.0 + x[2] , 1 + sin(x[2]) + x[1] ]"
   ]
  },
  {
   "cell_type": "markdown",
   "metadata": {},
   "source": [
    "Probamos nuestra función"
   ]
  },
  {
   "cell_type": "code",
   "execution_count": 15,
   "metadata": {},
   "outputs": [
    {
     "data": {
      "text/plain": [
       "2-element Array{Float64,1}:\n",
       " 1.2854\n",
       " 1.0   "
      ]
     },
     "execution_count": 15,
     "metadata": {},
     "output_type": "execute_result"
    }
   ],
   "source": [
    "F([0.0, pi/2])"
   ]
  },
  {
   "cell_type": "markdown",
   "metadata": {},
   "source": [
    "Calculamos la raíz de `F` con `newtoM`"
   ]
  },
  {
   "cell_type": "code",
   "execution_count": 16,
   "metadata": {},
   "outputs": [
    {
     "data": {
      "text/plain": [
       "2-element Array{Float64,1}:\n",
       " -0.184133\n",
       " -0.954226"
      ]
     },
     "execution_count": 16,
     "metadata": {},
     "output_type": "execute_result"
    }
   ],
   "source": [
    "xsol= newtonM(F, [0.0, pi/2] )"
   ]
  },
  {
   "cell_type": "markdown",
   "metadata": {},
   "source": [
    "Vericamos que si hemos encotrado una raíz de `F`"
   ]
  },
  {
   "cell_type": "code",
   "execution_count": 17,
   "metadata": {},
   "outputs": [
    {
     "data": {
      "text/plain": [
       "2-element Array{Float64,1}:\n",
       " 0.0\n",
       " 0.0"
      ]
     },
     "execution_count": 17,
     "metadata": {},
     "output_type": "execute_result"
    }
   ],
   "source": [
    "F(xsol)"
   ]
  }
 ],
 "metadata": {
  "kernelspec": {
   "display_name": "Julia 0.6.2",
   "language": "julia",
   "name": "julia-0.6"
  },
  "language_info": {
   "file_extension": ".jl",
   "mimetype": "application/julia",
   "name": "julia",
   "version": "0.6.2"
  }
 },
 "nbformat": 4,
 "nbformat_minor": 1
}
