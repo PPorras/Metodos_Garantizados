{
 "cells": [
  {
   "cell_type": "markdown",
   "metadata": {},
   "source": [
    "# El método de Newton tradicional"
   ]
  },
  {
   "cell_type": "markdown",
   "metadata": {},
   "source": [
    "Recordemos que el *método de Newton* es un método numérico *iterativo* para encontrar raíces de funciones (continuamente) diferenciables.\n",
    "\n",
    "Sea $f$ la función cuyas raíces queremos encontrar.\n",
    "La idea es que empecemos desde una adivinanza inicial $x_0$, y que la siguiente aproximación se calcula como sigue."
   ]
  },
  {
   "cell_type": "markdown",
   "metadata": {},
   "source": [
    "**[1]** (i) En general, $x_0$ *no* es una raíz. Suponiendo que $x_0$ esté cerca de una raíz, sea $x_0 + \\delta x$ la raíz. Expande $f$ en una serie de Taylor a primer orden para encontrar una expresión aproximada para $\\delta x$, y de ahí de la siguiente aproximación $x_1 := x_0 + \\delta x$.\n",
    "\n",
    "\n",
    "* Sea $x$ raíz de $f$ tal que $x = x_0 + \\delta x$ y $f(x_0) \\approx 0 $ \n",
    "\n",
    "$ f(x) = f(x_0 + \\delta x) \\approx f(x_0) +\\delta x \\ f'(x_0)$ \n",
    "\n",
    "$ x\\approx x_1 = x_0  - \\dfrac{f(x_0) }{ f'(x_0 )} $\n",
    "\n",
    "(ii) Dé una interpretación geométrica de este resultado.\n",
    "\n",
    "*  Se toma la pendiente de la tangente en $x_0$ y se calcula la insercción con $y = 0$, la cual una mejor aproximación a la raíz\n",
    "\n",
    "(iii) Dibuja unas cuantas iteraciones en la computadora, con todo y la interpretación geométrica, para una función nolineal que escojas. \n",
    "\n",
    "* Considermos $f(x) = x^2 - 2$ y $x_0 = 1$ "
   ]
  },
  {
   "cell_type": "code",
   "execution_count": 1,
   "metadata": {},
   "outputs": [
    {
     "data": {
      "text/plain": [
       "Plots.PyPlotBackend()"
      ]
     },
     "execution_count": 1,
     "metadata": {},
     "output_type": "execute_result"
    }
   ],
   "source": [
    "using Plots\n",
    "pyplot()"
   ]
  },
  {
   "cell_type": "code",
   "execution_count": 3,
   "metadata": {},
   "outputs": [
    {
     "name": "stdout",
     "output_type": "stream",
     "text": [
      "x0 = 1.3402027004047208\n",
      "x0 = 1.2646341054289276\n",
      "x0 = 1.2599385927540572\n"
     ]
    },
    {
     "data": {
      "text/html": [
       "<img src=\"data:image/png;base64,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\" />"
      ]
     },
     "execution_count": 3,
     "metadata": {},
     "output_type": "execute_result"
    }
   ],
   "source": [
    "f(x) = x^3 - 2\n",
    "fp(x) = 3*x^2\n",
    "x0 = 0.99\n",
    "xs = linspace(-0.7 , pi/2, 20)\n",
    "#plot(xlim = (-0.7, 1.02), ylim = (-0.6, 1.1)) \n",
    "scatter!((x0, f(x0)))\n",
    "\n",
    "for i in 1:3\n",
    "    xa = x0\n",
    "    x0 = x0 - f(x0)/fp(x0)\n",
    "    scatter!((x0,f(x0)))\n",
    "    plot!([x0, xa], [f(x0), f(xa)])\n",
    "    plot!([x0, 0], [f(x0), 0] ) \n",
    "    @show x0\n",
    "end\n",
    "plot!(xs, f.(xs), line = :dash, c= \"red\")\n",
    "plot!([-2, 2], [0, 0], color = \"black\") \n"
   ]
  },
  {
   "cell_type": "markdown",
   "metadata": {},
   "source": [
    "**[2]** (i) Escribe una función `newton` que implementa la iteración para calcular una raíz de una función $f$, dada una adivinza inicial $x_0$. Utiliza diferenciación automática para calcular la derivada.\n",
    "\n",
    "(ii) Utiliza tu código para calcular la raíz cuadrada y la raíz cúbica de $2$.  \n",
    "\n",
    "(iii) ¿Cuál es una condición razonable de terminación del algoritmo? "
   ]
  },
  {
   "cell_type": "code",
   "execution_count": 4,
   "metadata": {
    "collapsed": true
   },
   "outputs": [],
   "source": [
    "using ForwardDiff"
   ]
  },
  {
   "cell_type": "code",
   "execution_count": 5,
   "metadata": {},
   "outputs": [
    {
     "data": {
      "text/plain": [
       "newton (generic function with 1 method)"
      ]
     },
     "execution_count": 5,
     "metadata": {},
     "output_type": "execute_result"
    }
   ],
   "source": [
    "function newton(f,x0)\n",
    "    i = 0\n",
    "    e = 2e-10\n",
    "    while i<=10\n",
    "        g = x0 -> ForwardDiff.derivative(f, x0)\n",
    "        x0 = x0 - f(x0)/g(x0)\n",
    "        i += 1\n",
    "    end\n",
    "    return x0\n",
    "end"
   ]
  },
  {
   "cell_type": "markdown",
   "metadata": {},
   "source": [
    "* Calculemos la raíz cuadrada de 2, para ello consideremos la función `f(x) = x^2 - 2`"
   ]
  },
  {
   "cell_type": "code",
   "execution_count": 6,
   "metadata": {},
   "outputs": [
    {
     "data": {
      "text/plain": [
       "1.4142135623730951"
      ]
     },
     "execution_count": 6,
     "metadata": {},
     "output_type": "execute_result"
    }
   ],
   "source": [
    "f(x) = x^2 - 2 \n",
    "xs = newton(f, 10*rand())"
   ]
  },
  {
   "cell_type": "code",
   "execution_count": 7,
   "metadata": {},
   "outputs": [
    {
     "data": {
      "text/plain": [
       "false"
      ]
     },
     "execution_count": 7,
     "metadata": {},
     "output_type": "execute_result"
    }
   ],
   "source": [
    "xs^2 == 2"
   ]
  },
  {
   "cell_type": "markdown",
   "metadata": {},
   "source": [
    "* Ahora la raíz cubica de 3, con la función `g(x) = x^3 - 2`"
   ]
  },
  {
   "cell_type": "code",
   "execution_count": 8,
   "metadata": {},
   "outputs": [
    {
     "data": {
      "text/plain": [
       "1.2599210498948732"
      ]
     },
     "execution_count": 8,
     "metadata": {},
     "output_type": "execute_result"
    }
   ],
   "source": [
    "ff(x) = x^3 - 2\n",
    "xz = newton(ff, 10*rand())"
   ]
  },
  {
   "cell_type": "code",
   "execution_count": 9,
   "metadata": {},
   "outputs": [
    {
     "data": {
      "text/plain": [
       "true"
      ]
     },
     "execution_count": 9,
     "metadata": {},
     "output_type": "execute_result"
    }
   ],
   "source": [
    "xz^3 == 2.0"
   ]
  },
  {
   "cell_type": "markdown",
   "metadata": {},
   "source": [
    "**[3]** ¿Cómo es la convergencia del método hacia una raíz:\n",
    "\n",
    "- cuando se empieza cerca de la raíz;\n",
    "\n",
    "- cuando se empieza lejos.\n",
    "\n",
    "[Pista: Utiliza `BigFloat` para obtener información más útil.]"
   ]
  },
  {
   "cell_type": "code",
   "execution_count": 10,
   "metadata": {},
   "outputs": [
    {
     "name": "stdout",
     "output_type": "stream",
     "text": [
      "Lejos de la raíz \n",
      "\n",
      "BigFloat(x1) = 1.436947500449804460131986161286476999521255493164062500000000000000000000000000\n",
      "\n",
      "\n",
      "Cerca de la raíz \n",
      "\n",
      "BigFloat(x2) = 1.259921049894873190666544360283296555280685424804687500000000000000000000000000\n",
      "BigFloat(x3) = 1.259921049894873190666544360283296555280685424804687500000000000000000000000000\n",
      "BigFloat(x4) = 1.259921049894873190666544360283296555280685424804687500000000000000000000000000\n"
     ]
    },
    {
     "data": {
      "text/plain": [
       "1.259921049894873190666544360283296555280685424804687500000000000000000000000000"
      ]
     },
     "execution_count": 10,
     "metadata": {},
     "output_type": "execute_result"
    }
   ],
   "source": [
    "x1 = newton(ff, 100)\n",
    "x2 = newton(ff, 1.2)\n",
    "x3 = newton(ff, 5)\n",
    "x4 = newton(ff, 0.4)\n",
    "println(\"Lejos de la raíz \\n\")\n",
    "@show BigFloat(x1)\n",
    "println(\"\\n\")\n",
    "println(\"Cerca de la raíz \\n\")\n",
    "@show BigFloat(x2)\n",
    "@show BigFloat(x3)\n",
    "@show BigFloat(x4)"
   ]
  },
  {
   "cell_type": "markdown",
   "metadata": {},
   "source": [
    "Vemos que si comenzamos cerca de la raíz el resultado converge a `1.259921049894873190666544360283296555280685424804687500000000000000000000000000`, pero lejos de la raíz **NO** converge a la raíz"
   ]
  },
  {
   "cell_type": "markdown",
   "metadata": {},
   "source": [
    "## El método de Newton **puede fallar**"
   ]
  },
  {
   "cell_type": "markdown",
   "metadata": {},
   "source": [
    "El método de Newton funciona muy bien a veces, pero también puede fallar:"
   ]
  },
  {
   "cell_type": "markdown",
   "metadata": {},
   "source": [
    "**[4]** Utiliza el método de Newton para encontrar raíces *en el plano complejo*. Empezando desde distintos números complejos $a + bi$, itera el algoritmo para ver a cuál raíz converge, y colorea el punto inicial de manera correspondiente. [Pista: distingue a los puntos iniciales según la componente imaginaria de la raíz a la cual convergen.]\n",
    "\n",
    "Interpreta el resultado."
   ]
  },
  {
   "cell_type": "code",
   "execution_count": 11,
   "metadata": {},
   "outputs": [
    {
     "data": {
      "text/plain": [
       "(::#3) (generic function with 1 method)"
      ]
     },
     "execution_count": 11,
     "metadata": {},
     "output_type": "execute_result"
    }
   ],
   "source": [
    "x0=10*rand() + 10*rand()im\n",
    "ffp = x0 -> ForwardDiff.derivative(ff, x0)"
   ]
  },
  {
   "cell_type": "code",
   "execution_count": 12,
   "metadata": {},
   "outputs": [
    {
     "ename": "LoadError",
     "evalue": "\u001b[91mMethodError: no method matching derivative(::#ff, ::Complex{Float64})\u001b[0m\nClosest candidates are:\n  derivative(::F, \u001b[91m::R<:Real\u001b[39m) where {F, R<:Real} at /Users/porras/.julia/v0.6/ForwardDiff/src/derivative.jl:13\n  derivative(::Any, \u001b[91m::AbstractArray\u001b[39m, \u001b[91m::Real\u001b[39m) at /Users/porras/.julia/v0.6/ForwardDiff/src/derivative.jl:27\n  derivative(::Any, \u001b[91m::AbstractArray\u001b[39m, \u001b[91m::Real\u001b[39m, \u001b[91m::ForwardDiff.DerivativeConfig{T,D} where D\u001b[39m) where T at /Users/porras/.julia/v0.6/ForwardDiff/src/derivative.jl:27\n  ...\u001b[39m",
     "output_type": "error",
     "traceback": [
      "\u001b[91mMethodError: no method matching derivative(::#ff, ::Complex{Float64})\u001b[0m\nClosest candidates are:\n  derivative(::F, \u001b[91m::R<:Real\u001b[39m) where {F, R<:Real} at /Users/porras/.julia/v0.6/ForwardDiff/src/derivative.jl:13\n  derivative(::Any, \u001b[91m::AbstractArray\u001b[39m, \u001b[91m::Real\u001b[39m) at /Users/porras/.julia/v0.6/ForwardDiff/src/derivative.jl:27\n  derivative(::Any, \u001b[91m::AbstractArray\u001b[39m, \u001b[91m::Real\u001b[39m, \u001b[91m::ForwardDiff.DerivativeConfig{T,D} where D\u001b[39m) where T at /Users/porras/.julia/v0.6/ForwardDiff/src/derivative.jl:27\n  ...\u001b[39m",
      "",
      "Stacktrace:",
      " [1] \u001b[1m(::##3#4)\u001b[22m\u001b[22m\u001b[1m(\u001b[22m\u001b[22m::Complex{Float64}\u001b[1m)\u001b[22m\u001b[22m at \u001b[1m./In[11]:2\u001b[22m\u001b[22m",
      " [2] \u001b[1minclude_string\u001b[22m\u001b[22m\u001b[1m(\u001b[22m\u001b[22m::String, ::String\u001b[1m)\u001b[22m\u001b[22m at \u001b[1m./loading.jl:515\u001b[22m\u001b[22m"
     ]
    }
   ],
   "source": [
    "ffp(x0)"
   ]
  },
  {
   "cell_type": "code",
   "execution_count": 20,
   "metadata": {},
   "outputs": [
    {
     "ename": "LoadError",
     "evalue": "\u001b[91mMethodError: no method matching derivative(::#ff, ::Complex{Float64})\u001b[0m\nClosest candidates are:\n  derivative(::F, \u001b[91m::R<:Real\u001b[39m) where {F, R<:Real} at /Users/porras/.julia/v0.6/ForwardDiff/src/derivative.jl:13\n  derivative(::Any, \u001b[91m::AbstractArray\u001b[39m, \u001b[91m::Real\u001b[39m) at /Users/porras/.julia/v0.6/ForwardDiff/src/derivative.jl:27\n  derivative(::Any, \u001b[91m::AbstractArray\u001b[39m, \u001b[91m::Real\u001b[39m, \u001b[91m::ForwardDiff.DerivativeConfig{T,D} where D\u001b[39m) where T at /Users/porras/.julia/v0.6/ForwardDiff/src/derivative.jl:27\n  ...\u001b[39m",
     "output_type": "error",
     "traceback": [
      "\u001b[91mMethodError: no method matching derivative(::#ff, ::Complex{Float64})\u001b[0m\nClosest candidates are:\n  derivative(::F, \u001b[91m::R<:Real\u001b[39m) where {F, R<:Real} at /Users/porras/.julia/v0.6/ForwardDiff/src/derivative.jl:13\n  derivative(::Any, \u001b[91m::AbstractArray\u001b[39m, \u001b[91m::Real\u001b[39m) at /Users/porras/.julia/v0.6/ForwardDiff/src/derivative.jl:27\n  derivative(::Any, \u001b[91m::AbstractArray\u001b[39m, \u001b[91m::Real\u001b[39m, \u001b[91m::ForwardDiff.DerivativeConfig{T,D} where D\u001b[39m) where T at /Users/porras/.julia/v0.6/ForwardDiff/src/derivative.jl:27\n  ...\u001b[39m",
      "",
      "Stacktrace:",
      " [1] \u001b[1mnewton\u001b[22m\u001b[22m\u001b[1m(\u001b[22m\u001b[22m::#ff, ::Complex{Float64}\u001b[1m)\u001b[22m\u001b[22m at \u001b[1m./In[4]:6\u001b[22m\u001b[22m",
      " [2] \u001b[1minclude_string\u001b[22m\u001b[22m\u001b[1m(\u001b[22m\u001b[22m::String, ::String\u001b[1m)\u001b[22m\u001b[22m at \u001b[1m./loading.jl:515\u001b[22m\u001b[22m"
     ]
    }
   ],
   "source": [
    "z1 = newton(ff, x0) "
   ]
  },
  {
   "cell_type": "markdown",
   "metadata": {},
   "source": [
    "## Dimensión superior"
   ]
  },
  {
   "cell_type": "markdown",
   "metadata": {},
   "source": [
    "El método de Newton se puede extender para encontrar raíces de funciones en dimensión superior, es decir de funciones $\\mathbf{f}: \\mathbb{R}^n \\to \\mathbb{R}^n$."
   ]
  },
  {
   "cell_type": "markdown",
   "metadata": {},
   "source": [
    "**[5]** (i) Desarrolla el algoritmo del método de Newton para funciones $\\mathbf{f}: \\mathbb{R}^n \\to \\mathbb{R}^n$. Para hacerlo, toma una adivinaza inicial $\\mathbf{x}_0$ y extiende el desarrollo de la pregunta (1) a este caso.\n",
    "\n",
    "(ii) ¿Qué tipo de cálculos necesitas poder hacer en Julia para implementar este algoritmo de forma numérica? ¿Cómo se lleva a cabo esto en Julia?\n",
    "\n",
    "(iii) Escribe una función que implementa el algoritmo. \n",
    "\n",
    "(iv) Encuentra raíces de funciones multidimensionales cuyas raíces conoces, para verificar que el algoritmo funcione."
   ]
  },
  {
   "cell_type": "code",
   "execution_count": null,
   "metadata": {
    "collapsed": true
   },
   "outputs": [],
   "source": []
  }
 ],
 "metadata": {
  "kernelspec": {
   "display_name": "Julia 0.6.0",
   "language": "julia",
   "name": "julia-0.6"
  },
  "language_info": {
   "file_extension": ".jl",
   "mimetype": "application/julia",
   "name": "julia",
   "version": "0.6.0"
  }
 },
 "nbformat": 4,
 "nbformat_minor": 1
}
